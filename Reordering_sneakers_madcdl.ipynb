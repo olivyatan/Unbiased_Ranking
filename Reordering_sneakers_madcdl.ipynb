{
 "cells": [
  {
   "cell_type": "code",
   "execution_count": null,
   "id": "adc2c54f-a307-4bda-8fb8-cd900c97064a",
   "metadata": {},
   "outputs": [],
   "source": [
    "# run this IN TERMINAL for the workspace\"\n",
    "\"\"\"\n",
    "export HTTP_PROXY=http://httpproxy-tcop.vip.ebay.com:80\n",
    "export HTTPS_PROXY=http://httpproxy-tcop.vip.ebay.com:80\n",
    "pip install pyspark==3.1.1\n",
    "\"\"\"\n"
   ]
  },
  {
   "cell_type": "code",
   "execution_count": 1,
   "id": "86a94bfd-078d-4cb9-8981-7d62465ccffe",
   "metadata": {},
   "outputs": [
    {
     "ename": "ModuleNotFoundError",
     "evalue": "No module named 'bxkrylov'",
     "output_type": "error",
     "traceback": [
      "\u001b[0;31m---------------------------------------------------------------------------\u001b[0m",
      "\u001b[0;31mModuleNotFoundError\u001b[0m                       Traceback (most recent call last)",
      "\u001b[0;32m/tmp/ipykernel_60102/1544860370.py\u001b[0m in \u001b[0;36m<module>\u001b[0;34m\u001b[0m\n\u001b[0;32m----> 1\u001b[0;31m \u001b[0;32mimport\u001b[0m \u001b[0mbxkrylov\u001b[0m\u001b[0;34m\u001b[0m\u001b[0;34m\u001b[0m\u001b[0m\n\u001b[0m\u001b[1;32m      2\u001b[0m \u001b[0;34m\u001b[0m\u001b[0m\n\u001b[1;32m      3\u001b[0m \u001b[0mmin_execs\u001b[0m \u001b[0;34m=\u001b[0m \u001b[0;36m30\u001b[0m\u001b[0;34m\u001b[0m\u001b[0;34m\u001b[0m\u001b[0m\n\u001b[1;32m      4\u001b[0m \u001b[0;34m\u001b[0m\u001b[0m\n\u001b[1;32m      5\u001b[0m bxkrylov.spark_notebook(globals(),\n",
      "\u001b[0;31mModuleNotFoundError\u001b[0m: No module named 'bxkrylov'"
     ]
    }
   ],
   "source": [
    "import bxkrylov\n",
    "\n",
    "min_execs = 30\n",
    "\n",
    "bxkrylov.spark_notebook(globals(),\n",
    "                        spark_dynamicAllocation_minExecutors=min_execs,\n",
    "                        spark_executor_instances=min_execs,\n",
    "                        spark_dynamicAllocation_initialExecutors=min_execs,\n",
    "                        spark_speculation=True,\n",
    "                        spark_decommission_enabled=True,\n",
    "                        spark_executor_memory=\"55g\",\n",
    "                       )\n",
    "\n"
   ]
  },
  {
   "cell_type": "code",
   "execution_count": 2,
   "id": "183ac663-ce8c-4eb5-b119-554e339f0891",
   "metadata": {},
   "outputs": [],
   "source": [
    "import datetime\n",
    "import os\n",
    "import pandas as pd\n",
    "import functools\n",
    "\n",
    "def get_madcdl_paths(from_date, to_date):\n",
    "    base_dir = \"/apps/b_adv/plmerch/cdl\"\n",
    "    cdl_table = \"detail_gmv_part\"\n",
    "    date_format = \"%Y/%m/%d\"\n",
    "    if os.environ.get(\"BX_UNITTEST\"):\n",
    "        base_dir = os.path.join(os.environ[\"BX_TEST_DATA\"], \"madcdl\")\n",
    "        date_format = \"dt=%Y-%m-%d\"  # for local test we save data partitioned by date using spark format\n",
    "        cdl_table = \"\"  # in local test mode we do not save this sub-directory\n",
    "    return [\n",
    "        os.path.join(\n",
    "            base_dir, datetime.datetime.strftime(date, date_format), cdl_table\n",
    "        )\n",
    "        for date in pd.date_range(from_date, to_date)\n",
    "    ]\n",
    "\n",
    "\n",
    "def union_all(dataframe_list, cols_to_select):\n",
    "    u = None\n",
    "    cols_set = functools.reduce(lambda a, b: a & b, (set(df.columns) for df in dataframe_list))\n",
    "    cols_list = list(cols_set)\n",
    "    for df in dataframe_list:\n",
    "        if cols_to_select:\n",
    "            df = df.select(*cols_to_select)\n",
    "        else:\n",
    "            df = df.select(*cols_list)\n",
    "        if u is None:\n",
    "            u = df\n",
    "        else:\n",
    "            u = u.union(df)\n",
    "    return u\n",
    "\n",
    "\n",
    "def get_madcdl_date_union(spark, from_date, to_date, cols_to_select=None, num_partitions=None):\n",
    "    reader = spark.read\n",
    "    if num_partitions:\n",
    "        reader = reader.option(\"numPartitions\", num_partitions)\n",
    "    return union_all(\n",
    "        [\n",
    "            reader.load(path)\n",
    "            for path in get_madcdl_paths(from_date, to_date)\n",
    "        ],\n",
    "        cols_to_select,\n",
    "    )\n"
   ]
  },
  {
   "cell_type": "code",
   "execution_count": 3,
   "id": "f4345412-92af-45e5-9c78-30f6f6532068",
   "metadata": {},
   "outputs": [
    {
     "name": "stderr",
     "output_type": "stream",
     "text": [
      "                                                                                \r"
     ]
    }
   ],
   "source": [
    "madcdl = get_madcdl_date_union(spark, datetime.datetime(2023, 5, 25), datetime.datetime(2023, 5, 25))\n",
    "madcdl.createOrReplaceTempView(\"madcdl\")"
   ]
  },
  {
   "cell_type": "markdown",
   "id": "95c0493d-3b92-4f5b-a377-7dd4ccc574fc",
   "metadata": {},
   "source": [
    "# MFE 1% EP investigating module_id in HP_EVENT_FACT"
   ]
  },
  {
   "cell_type": "code",
   "execution_count": 58,
   "id": "b1d05629-baca-4de3-8f11-73789185ef50",
   "metadata": {},
   "outputs": [
    {
     "name": "stderr",
     "output_type": "stream",
     "text": [
      "[Stage 455:====================================================>  (72 + 7) / 75]\r"
     ]
    },
    {
     "name": "stdout",
     "output_type": "stream",
     "text": [
      "+------+--------------+\n",
      "|  PLMT|replacement_id|\n",
      "+------+--------------+\n",
      "|101111|        101113|\n",
      "|101211|        101259|\n",
      "|101423|        101251|\n",
      "|101260|        101211|\n",
      "|101279|        101485|\n",
      "|101110|        101112|\n",
      "|101430|        101437|\n",
      "|101211|        101485|\n",
      "|101112|        101110|\n",
      "|101485|        101425|\n",
      "|101439|        101437|\n",
      "|101211|        101325|\n",
      "|100725|        100721|\n",
      "|101325|        101279|\n",
      "|101429|        101436|\n",
      "|101437|        101436|\n",
      "|101438|        101429|\n",
      "|101279|        101324|\n",
      "|101430|        101439|\n",
      "|101436|        101430|\n",
      "+------+--------------+\n",
      "only showing top 20 rows\n",
      "\n"
     ]
    },
    {
     "name": "stderr",
     "output_type": "stream",
     "text": [
      "                                                                                \r"
     ]
    }
   ],
   "source": [
    "experiment_data = spark.sql(\"\"\"\n",
    "select distinct\n",
    "    PLMT,\n",
    "    get_json_object(mbe_value, '$._po_repl_plmt') as replacement_id\n",
    "from madcdl \n",
    "WHERE ICFBOT = '00'\n",
    "AND experience NOT LIKE 'Apps%'\n",
    "AND length(EUID) = 0\n",
    "AND get_json_object(mbe_value, '$._po_repl_plmt') <> plmt\n",
    "AND array_contains(XT_TAG, '249932')\n",
    "AND DELIVERED_SURFACE_PLMT_IMP = '1'\n",
    "\"\"\")\n",
    "experiment_data.cache()\n",
    "experiment_data.show()"
   ]
  },
  {
   "cell_type": "markdown",
   "id": "b418cbd5",
   "metadata": {},
   "source": [
    "## Placement -> module_id, instamce_id mapping\n",
    "\n",
    "* Step 1: I created a mapping between placement_id -> module_id, instamce_id (representative, the maximum presented).\n",
    "\n",
    "* Step 2: I sampled from the experiment data rows with replacements. \n",
    "\n",
    "* Step 3: join the experiment data with the mapping to add the module_ids and instance_ids.\n",
    "\n",
    "* Step 4: join the experiment data with HP_EVENT_FACT on the replaced module_id, instance_id and check the percent that we do see the swapping on HP_EVENT_FACT.\n"
   ]
  },
  {
   "cell_type": "code",
   "execution_count": 4,
   "id": "5a646b11",
   "metadata": {},
   "outputs": [
    {
     "name": "stderr",
     "output_type": "stream",
     "text": [
      "[Stage 18:=======================================================>(74 + 2) / 75]\r"
     ]
    },
    {
     "name": "stdout",
     "output_type": "stream",
     "text": [
      "+------------+---------+-----------+\n",
      "|placement_id|module_id|instance_id|\n",
      "+------------+---------+-----------+\n",
      "|      101213|    46344|          1|\n",
      "|      101526|   146925|          1|\n",
      "|      101325|     5063|          2|\n",
      "|      101278|    47528|          1|\n",
      "|      101287|    47999|          1|\n",
      "|      101100|     3021|          1|\n",
      "|      100803|     4236|          1|\n",
      "|      101524|   146925|          1|\n",
      "|      101326|     5063|          3|\n",
      "|      101259|    47269|          2|\n",
      "|      101286|    47999|          1|\n",
      "|      101666|     5481|          1|\n",
      "|      101324|     5063|          1|\n",
      "|      101251|    47269|          1|\n",
      "|      101211|    46343|          1|\n",
      "|      101485|    47529|          1|\n",
      "|      101279|    47528|          2|\n",
      "|      101280|    47528|          3|\n",
      "|      101260|    47269|          3|\n",
      "|      101423|     3021|          1|\n",
      "+------------+---------+-----------+\n",
      "only showing top 20 rows\n",
      "\n"
     ]
    },
    {
     "name": "stderr",
     "output_type": "stream",
     "text": [
      "                                                                                \r"
     ]
    }
   ],
   "source": [
    "#create mapping\n",
    "hp_sql = \"\"\"\n",
    "with hp_grouped as (\n",
    "select placement_id, module_id, instance_id, max(count) as max_n\n",
    "from (\n",
    "    select placement.placement_id as placement_id, mid as module_id, iid as instance_id, count(*) as count\n",
    "    FROM (\n",
    "        select dt, session_skey, guid, pageci, \n",
    "            signedin_uid as user_id, exprnc_name, site_id, event_timestamp, mstat.*\n",
    "        from ACCESS_VIEWS.HP_EVENT_FACT\n",
    "        lateral view explode(module_stats5(module_info, module_lst, navsrc_lst, viewdtls_lst, module_plmt_imprns)) as mstat\n",
    "        where dt = \"20230525\" AND type = \"same_day\"\n",
    "    ) ms\n",
    "    lateral view outer explode(placements) as placement\n",
    "    where placement.placement_id is not null and iid <> -1\n",
    "    group by placement_id, module_id, instance_id\n",
    "    )\n",
    "group by placement_id, module_id, instance_id\n",
    ")\n",
    "SELECT placement_id, max(representative_module_id) as module_id, max(representative_instance_id) as instance_id\n",
    "FROM (\n",
    "select placement_id, FIRST(module_id) OVER (PARTITION BY placement_id ORDER BY max_n DESC) AS representative_module_id, \n",
    "                    FIRST(instance_id) OVER (PARTITION BY placement_id ORDER BY max_n DESC) as representative_instance_id\n",
    "from hp_grouped\n",
    ")\n",
    "GROUP BY placement_id\n",
    "\"\"\"\n",
    "hp_grouped = spark.sql(hp_sql)\n",
    "hp_grouped.cache()\n",
    "hp_grouped.show()"
   ]
  },
  {
   "cell_type": "code",
   "execution_count": 5,
   "id": "8c3cc9cc",
   "metadata": {
    "scrolled": true
   },
   "outputs": [
    {
     "name": "stderr",
     "output_type": "stream",
     "text": [
      "[Stage 25:======================================================>(99 + 3) / 100]\r"
     ]
    },
    {
     "name": "stdout",
     "output_type": "stream",
     "text": [
      "+----------+--------------+-------------+---------------------+-----------------------+\n",
      "|   user_id|replacement_id|original_PLMT|replacement_module_id|replacement_instance_id|\n",
      "+----------+--------------+-------------+---------------------+-----------------------+\n",
      "| 634081993|        101278|       101425|                47528|                      1|\n",
      "| 802242081|        101278|       101425|                47528|                      1|\n",
      "|  39423441|        101278|       101425|                47528|                      1|\n",
      "|1099311390|        101260|       101259|                47269|                      3|\n",
      "|1986943045|        101260|       101259|                47269|                      3|\n",
      "|1979500804|        101260|       101259|                47269|                      3|\n",
      "| 351759445|        101260|       101259|                47269|                      3|\n",
      "| 105350500|        101260|       101259|                47269|                      3|\n",
      "| 569763901|        101260|       101259|                47269|                      3|\n",
      "|1624696174|        101260|       101259|                47269|                      3|\n",
      "| 175172806|        101260|       101259|                47269|                      3|\n",
      "| 919120586|        101260|       101259|                47269|                      3|\n",
      "| 996390364|        101260|       101259|                47269|                      3|\n",
      "| 667150954|        101260|       101259|                47269|                      3|\n",
      "| 305854675|        101260|       101259|                47269|                      3|\n",
      "| 390403929|        101260|       101259|                47269|                      3|\n",
      "| 193294618|        101260|       101259|                47269|                      3|\n",
      "| 571586693|        101260|       101259|                47269|                      3|\n",
      "|   8304494|        101260|       101259|                47269|                      3|\n",
      "| 179866530|        101260|       101259|                47269|                      3|\n",
      "+----------+--------------+-------------+---------------------+-----------------------+\n",
      "only showing top 20 rows\n",
      "\n"
     ]
    },
    {
     "name": "stderr",
     "output_type": "stream",
     "text": [
      "                                                                                \r"
     ]
    }
   ],
   "source": [
    "hp_grouped.createOrReplaceTempView(\"hp_grouped\")\n",
    "experiment_data_with_madcdl = spark.sql(\"\"\"\n",
    "select user_id, replacement_id, PLMT as original_PLMT, module_id as replacement_module_id, instance_id as replacement_instance_id\n",
    "from hp_grouped a inner join (\n",
    "    select user_id, PLMT,\n",
    "        get_json_object(mbe_value, '$._po_repl_plmt') as replacement_id\n",
    "    from madcdl \n",
    "    WHERE ICFBOT = '00'\n",
    "    AND experience NOT LIKE 'Apps%'\n",
    "    AND length(EUID) = 0\n",
    "    AND get_json_object(mbe_value, '$._po_repl_plmt') <> plmt\n",
    "    AND array_contains(XT_TAG, '249932')\n",
    "    AND DELIVERED_SURFACE_PLMT_IMP = '1'\n",
    "    ) b on b.replacement_id = a.placement_id\n",
    "    \n",
    "\"\"\")\n",
    "experiment_data_with_madcdl.cache()\n",
    "experiment_data_with_madcdl.show()"
   ]
  },
  {
   "cell_type": "code",
   "execution_count": 6,
   "id": "a4d58527",
   "metadata": {},
   "outputs": [
    {
     "name": "stderr",
     "output_type": "stream",
     "text": [
      "                                                                                \r"
     ]
    },
    {
     "data": {
      "text/plain": [
       "21398"
      ]
     },
     "execution_count": 6,
     "metadata": {},
     "output_type": "execute_result"
    }
   ],
   "source": [
    "experiment_data_with_madcdl.count()"
   ]
  },
  {
   "cell_type": "code",
   "execution_count": 7,
   "id": "45219669",
   "metadata": {},
   "outputs": [
    {
     "name": "stdout",
     "output_type": "stream",
     "text": [
      "+----------+--------------+-------------+---------------------+-----------------------+------------------+--------------------+\n",
      "|   user_id|replacement_id|original_PLMT|replacement_module_id|replacement_instance_id|original_module_id|original_instance_id|\n",
      "+----------+--------------+-------------+---------------------+-----------------------+------------------+--------------------+\n",
      "| 634081993|        101278|       101425|                47528|                      1|              3021|                   1|\n",
      "| 802242081|        101278|       101425|                47528|                      1|              3021|                   1|\n",
      "|  39423441|        101278|       101425|                47528|                      1|              3021|                   1|\n",
      "|1099311390|        101260|       101259|                47269|                      3|             47269|                   2|\n",
      "|1986943045|        101260|       101259|                47269|                      3|             47269|                   2|\n",
      "|1979500804|        101260|       101259|                47269|                      3|             47269|                   2|\n",
      "| 351759445|        101260|       101259|                47269|                      3|             47269|                   2|\n",
      "| 105350500|        101260|       101259|                47269|                      3|             47269|                   2|\n",
      "| 569763901|        101260|       101259|                47269|                      3|             47269|                   2|\n",
      "|1624696174|        101260|       101259|                47269|                      3|             47269|                   2|\n",
      "| 175172806|        101260|       101259|                47269|                      3|             47269|                   2|\n",
      "| 919120586|        101260|       101259|                47269|                      3|             47269|                   2|\n",
      "| 996390364|        101260|       101259|                47269|                      3|             47269|                   2|\n",
      "| 667150954|        101260|       101259|                47269|                      3|             47269|                   2|\n",
      "| 305854675|        101260|       101259|                47269|                      3|             47269|                   2|\n",
      "| 390403929|        101260|       101259|                47269|                      3|             47269|                   2|\n",
      "| 193294618|        101260|       101259|                47269|                      3|             47269|                   2|\n",
      "| 571586693|        101260|       101259|                47269|                      3|             47269|                   2|\n",
      "|   8304494|        101260|       101259|                47269|                      3|             47269|                   2|\n",
      "| 179866530|        101260|       101259|                47269|                      3|             47269|                   2|\n",
      "+----------+--------------+-------------+---------------------+-----------------------+------------------+--------------------+\n",
      "only showing top 20 rows\n",
      "\n"
     ]
    }
   ],
   "source": [
    "experiment_data_with_madcdl.createOrReplaceTempView(\"experiment_data_with_madcdl\")\n",
    "experiment_data_with_madcdl_enriched = spark.sql(\"\"\"\n",
    "select b.*, a.module_id as original_module_id, a.instance_id as original_instance_id\n",
    "from hp_grouped a inner join experiment_data_with_madcdl b \n",
    "on a.placement_id = b.original_PLMT\n",
    "    \n",
    "\"\"\")\n",
    "experiment_data_with_madcdl_enriched.cache()\n",
    "experiment_data_with_madcdl_enriched.show()"
   ]
  },
  {
   "cell_type": "code",
   "execution_count": 16,
   "id": "75eae085",
   "metadata": {},
   "outputs": [
    {
     "name": "stderr",
     "output_type": "stream",
     "text": [
      "[Stage 70:====================================================> (196 + 8) / 200]\r"
     ]
    },
    {
     "name": "stdout",
     "output_type": "stream",
     "text": [
      "+-----------------------------------------------------------------------+\n",
      "|count(DISTINCT user_id, replacement_module_id, replacement_instance_id)|\n",
      "+-----------------------------------------------------------------------+\n",
      "|                                                                   9558|\n",
      "+-----------------------------------------------------------------------+\n",
      "\n"
     ]
    },
    {
     "name": "stderr",
     "output_type": "stream",
     "text": [
      "23/06/25 13:20:33 ERROR YarnScheduler: Lost executor 133 on hdc42-mcc10-01-0910-2206-012-tess0028.stratus.rno.ebay.com: Executor decommission.\n",
      "23/06/25 13:20:33 ERROR YarnScheduler: Lost executor 143 on hdc42-mcc10-01-0110-5606-004-tess0173.stratus.rno.ebay.com: Executor decommission.\n",
      "23/06/25 13:20:33 ERROR YarnScheduler: Lost executor 167 on hdc42-mcc10-01-0210-8007-016-tess0131.stratus.rno.ebay.com: Executor decommission.\n",
      "23/06/25 13:20:33 ERROR YarnScheduler: Lost executor 120 on hdc42-mcc10-01-0210-7502-020-tess0131.stratus.rno.ebay.com: Executor decommission.\n",
      "23/06/25 13:20:33 ERROR YarnScheduler: Lost executor 155 on hdc42-mcc10-01-0210-7802-008-tess0131.stratus.rno.ebay.com: Executor decommission.\n",
      "23/06/25 13:20:33 ERROR YarnScheduler: Lost executor 148 on hdc42-mcc10-01-0510-2002-033-tess0097.stratus.rno.ebay.com: Executor decommission.\n",
      "23/06/25 13:20:33 ERROR YarnScheduler: Lost executor 113 on hdc42-mcc10-01-1110-2105-031-tess0029.stratus.rno.ebay.com: Executor decommission.\n",
      "23/06/25 13:20:33 ERROR YarnScheduler: Lost executor 152 on hdc42-mcc10-01-0510-3602-018-tess0097.stratus.rno.ebay.com: Executor decommission.\n",
      "23/06/25 13:20:33 ERROR YarnScheduler: Lost executor 29 on hdc42-mcc10-01-0510-2203-033-tess0097.stratus.rno.ebay.com: Executor decommission.\n",
      "23/06/25 13:20:33 ERROR YarnScheduler: Lost executor 91 on hdc42-mcc10-01-0210-5502-074-tess0131.stratus.rno.ebay.com: Executor decommission.\n",
      "23/06/25 13:20:33 ERROR YarnScheduler: Lost executor 40 on hdc42-mcc10-01-1110-4105-028-tess0029.stratus.rno.ebay.com: Executor decommission.\n",
      "23/06/25 13:20:33 ERROR YarnScheduler: Lost executor 106 on hdc42-mcc10-01-0110-5509-017-tess0173.stratus.rno.ebay.com: Executor decommission.\n",
      "23/06/25 13:20:33 ERROR YarnScheduler: Lost executor 153 on hdc42-mcc10-01-1110-3904-034-tess0029.stratus.rno.ebay.com: Executor decommission.\n",
      "23/06/25 13:20:33 ERROR YarnScheduler: Lost executor 135 on hdc42-mcc10-01-1110-3406-005-tess0029.stratus.rno.ebay.com: Executor decommission.\n",
      "23/06/25 13:20:33 ERROR YarnScheduler: Lost executor 94 on hdc42-mcc10-01-1110-3807-012-tess0029.stratus.rno.ebay.com: Executor decommission.\n",
      "23/06/25 13:20:33 ERROR YarnScheduler: Lost executor 95 on hdc42-mcc10-01-0110-5606-033-tess0173.stratus.rno.ebay.com: Executor decommission.\n",
      "23/06/25 13:20:33 ERROR YarnScheduler: Lost executor 139 on hdc42-mcc10-01-0910-2206-005-tess0028.stratus.rno.ebay.com: Executor decommission.\n",
      "23/06/25 13:20:33 ERROR YarnScheduler: Lost executor 124 on hdc42-mcc10-01-1110-2104-006-tess0029.stratus.rno.ebay.com: Executor decommission.\n",
      "23/06/25 13:20:33 ERROR YarnScheduler: Lost executor 64 on hdc42-mcc10-01-0910-1709-028-tess0028.stratus.rno.ebay.com: Executor decommission.\n",
      "23/06/25 13:20:33 ERROR YarnScheduler: Lost executor 137 on hdc42-mcc10-01-0210-7508-031-tess0131.stratus.rno.ebay.com: Executor decommission.\n",
      "23/06/25 13:20:33 ERROR YarnScheduler: Lost executor 13 on hdc42-mcc10-01-1110-1906-034-tess0029.stratus.rno.ebay.com: Executor decommission.\n",
      "23/06/25 13:20:33 ERROR YarnScheduler: Lost executor 76 on hdc42-mcc10-01-1110-1902-012-tess0029.stratus.rno.ebay.com: Executor decommission.\n",
      "23/06/25 13:20:33 ERROR YarnScheduler: Lost executor 160 on hdc42-mcc10-01-1110-3601-001-tess0029.stratus.rno.ebay.com: Executor decommission.\n",
      "23/06/25 13:20:33 ERROR YarnScheduler: Lost executor 149 on hdc42-mcc10-01-1110-1707-037-tess0029.stratus.rno.ebay.com: Executor decommission.\n",
      "23/06/25 13:20:33 ERROR YarnScheduler: Lost executor 108 on hdc42-mcc10-01-1110-3706-032-tess0029.stratus.rno.ebay.com: Executor decommission.\n",
      "23/06/25 13:20:33 ERROR YarnScheduler: Lost executor 79 on hdc42-mcc10-01-0710-3601-008-tess0035.stratus.rno.ebay.com: Executor decommission.\n",
      "23/06/25 13:20:33 ERROR YarnScheduler: Lost executor 130 on hdc42-mcc10-01-0110-8004-002-tess0173.stratus.rno.ebay.com: Executor decommission.\n",
      "23/06/25 13:20:33 ERROR YarnScheduler: Lost executor 123 on hdc42-mcc10-01-1110-3706-025-tess0029.stratus.rno.ebay.com: Executor decommission.\n",
      "23/06/25 13:20:33 ERROR YarnScheduler: Lost executor 46 on hdc42-mcc10-01-1110-3303-008-tess0029.stratus.rno.ebay.com: Executor decommission.\n",
      "23/06/25 13:20:33 ERROR YarnScheduler: Lost executor 169 on hdc42-mcc10-01-0110-5904-004-tess0173.stratus.rno.ebay.com: Executor decommission.\n",
      "23/06/25 13:20:33 ERROR YarnScheduler: Lost executor 34 on hdc42-mcc10-01-1110-3308-023-tess0029.stratus.rno.ebay.com: Executor decommission.\n",
      "23/06/25 13:20:33 ERROR YarnScheduler: Lost executor 170 on hdc42-mcc10-01-0710-3801-042-tess0035.stratus.rno.ebay.com: Executor decommission.\n",
      "23/06/25 13:20:33 ERROR YarnScheduler: Lost executor 129 on hdc42-mcc10-01-1110-1705-027-tess0029.stratus.rno.ebay.com: Executor decommission.\n",
      "23/06/25 13:20:33 ERROR YarnScheduler: Lost executor 132 on hdc42-mcc10-01-1110-3607-013-tess0029.stratus.rno.ebay.com: Executor decommission.\n",
      "23/06/25 13:20:33 ERROR YarnScheduler: Lost executor 162 on hdc42-mcc10-01-0510-3807-011-tess0097.stratus.rno.ebay.com: Executor decommission.\n",
      "23/06/25 13:20:33 ERROR YarnScheduler: Lost executor 150 on hdc42-mcc10-01-1110-3902-037-tess0029.stratus.rno.ebay.com: Executor decommission.\n",
      "23/06/25 13:20:33 ERROR YarnScheduler: Lost executor 127 on hdc42-mcc10-01-1110-4007-002-tess0029.stratus.rno.ebay.com: Executor decommission.\n",
      "23/06/25 13:20:33 ERROR YarnScheduler: Lost executor 125 on hdc42-mcc10-01-0510-3807-032-tess0097.stratus.rno.ebay.com: Executor decommission.\n",
      "23/06/25 13:20:33 ERROR YarnScheduler: Lost executor 104 on hdc42-mcc10-01-0210-8007-002-tess0131.stratus.rno.ebay.com: Executor decommission.\n",
      "23/06/25 13:20:33 ERROR YarnScheduler: Lost executor 19 on hdc42-mcc10-01-0210-7907-005-tess0131.stratus.rno.ebay.com: Executor decommission.\n",
      "23/06/25 13:20:33 ERROR YarnScheduler: Lost executor 62 on hdc42-mcc10-01-0510-2103-027-tess0097.stratus.rno.ebay.com: Executor decommission.\n",
      "23/06/25 13:20:33 ERROR YarnScheduler: Lost executor 121 on hdc42-mcc10-01-1110-1705-018-tess0029.stratus.rno.ebay.com: Executor decommission.\n",
      "23/06/25 13:20:33 ERROR YarnScheduler: Lost executor 22 on hdc42-mcc10-01-0710-2201-017-tess0035.stratus.rno.ebay.com: Executor decommission.\n",
      "23/06/25 13:20:33 ERROR YarnScheduler: Lost executor 142 on hdc42-mcc10-01-1110-2602-034-tess0029.stratus.rno.ebay.com: Executor decommission.\n",
      "23/06/25 13:20:33 ERROR YarnScheduler: Lost executor 156 on hdc42-mcc10-01-1110-1806-035-tess0029.stratus.rno.ebay.com: Executor decommission.\n",
      "23/06/25 13:20:33 ERROR YarnScheduler: Lost executor 75 on hdc42-mcc10-01-0110-5509-012-tess0173.stratus.rno.ebay.com: Executor decommission.\n",
      "23/06/25 13:20:33 ERROR YarnScheduler: Lost executor 122 on hdc42-mcc10-01-0710-4101-038-tess0035.stratus.rno.ebay.com: Executor decommission.\n",
      "23/06/25 13:20:33 ERROR YarnScheduler: Lost executor 115 on hdc42-mcc10-01-0110-7105-015-tess0173.stratus.rno.ebay.com: Executor decommission.\n",
      "23/06/25 13:20:33 ERROR YarnScheduler: Lost executor 166 on hdc42-mcc10-01-1110-4105-027-tess0029.stratus.rno.ebay.com: Executor decommission.\n",
      "23/06/25 13:20:33 ERROR YarnScheduler: Lost executor 109 on hdc42-mcc10-01-1110-3903-001-tess0029.stratus.rno.ebay.com: Executor decommission.\n",
      "23/06/25 13:20:33 ERROR YarnScheduler: Lost executor 105 on hdc42-mcc10-01-0110-7303-013-tess0173.stratus.rno.ebay.com: Executor decommission.\n",
      "23/06/25 13:20:33 ERROR YarnScheduler: Lost executor 37 on hdc42-mcc10-01-1110-4205-031-tess0029.stratus.rno.ebay.com: Executor decommission.\n",
      "23/06/25 13:20:33 ERROR YarnScheduler: Lost executor 159 on hdc42-mcc10-01-0510-1904-027-tess0097.stratus.rno.ebay.com: Executor decommission.\n",
      "23/06/25 13:20:33 ERROR YarnScheduler: Lost executor 147 on hdc42-mcc10-01-1110-3509-008-tess0029.stratus.rno.ebay.com: Executor decommission.\n",
      "23/06/25 13:20:33 ERROR YarnScheduler: Lost executor 128 on hdc42-mcc10-01-1110-3904-027-tess0029.stratus.rno.ebay.com: Executor decommission.\n",
      "23/06/25 13:20:33 ERROR YarnScheduler: Lost executor 117 on hdc42-mcc10-01-0910-1709-029-tess0028.stratus.rno.ebay.com: Executor decommission.\n",
      "23/06/25 13:20:33 ERROR YarnScheduler: Lost executor 144 on hdc42-mcc10-01-1110-3303-017-tess0029.stratus.rno.ebay.com: Executor decommission.\n",
      "23/06/25 13:20:33 ERROR YarnScheduler: Lost executor 93 on hdc42-mcc10-01-0710-4101-024-tess0035.stratus.rno.ebay.com: Executor decommission.\n",
      "23/06/25 13:20:33 ERROR YarnScheduler: Lost executor 126 on hdc42-mcc10-01-0510-1904-016-tess0097.stratus.rno.ebay.com: Executor decommission.\n",
      "23/06/25 13:20:33 ERROR YarnScheduler: Lost executor 151 on hdc42-mcc10-01-0210-7709-030-tess0131.stratus.rno.ebay.com: Executor decommission.\n",
      "23/06/25 13:20:33 ERROR YarnScheduler: Lost executor 158 on hdc42-mcc10-01-1110-3903-023-tess0029.stratus.rno.ebay.com: Executor decommission.\n",
      "23/06/25 13:20:33 ERROR YarnScheduler: Lost executor 6 on hdc42-mcc10-01-0510-3702-030-tess0097.stratus.rno.ebay.com: Executor decommission.\n",
      "23/06/25 13:20:33 ERROR YarnScheduler: Lost executor 165 on hdc42-mcc10-01-0910-1709-018-tess0028.stratus.rno.ebay.com: Executor decommission.\n",
      "23/06/25 13:20:33 ERROR YarnScheduler: Lost executor 16 on hdc42-mcc10-01-0110-6002-020-tess0173.stratus.rno.ebay.com: Executor decommission.\n",
      "23/06/25 13:20:33 ERROR YarnScheduler: Lost executor 25 on hdc42-mcc10-01-0210-8007-011-tess0131.stratus.rno.ebay.com: Executor decommission.\n",
      "23/06/25 13:20:33 ERROR YarnScheduler: Lost executor 134 on hdc42-mcc10-01-1110-2102-033-tess0029.stratus.rno.ebay.com: Executor decommission.\n",
      "23/06/25 13:20:33 ERROR YarnScheduler: Lost executor 107 on hdc42-mcc10-01-0510-2002-016-tess0097.stratus.rno.ebay.com: Executor decommission.\n",
      "23/06/25 13:20:33 ERROR YarnScheduler: Lost executor 140 on hdc42-mcc10-01-1110-3306-001-tess0029.stratus.rno.ebay.com: Executor decommission.\n",
      "23/06/25 13:20:33 ERROR YarnScheduler: Lost executor 116 on hdc42-mcc10-01-0710-1801-015-tess0035.stratus.rno.ebay.com: Executor decommission.\n",
      "23/06/25 13:20:34 ERROR YarnScheduler: Lost executor 102 on hdc42-mcc10-01-1110-3306-029-tess0029.stratus.rno.ebay.com: Executor decommission.\n"
     ]
    }
   ],
   "source": [
    "sql = \"\"\"\n",
    "select count(distinct user_id, replacement_module_id, replacement_instance_id)\n",
    "from experiment_data_with_madcdl_enriched\"\"\"\n",
    "spark.sql(sql).show()"
   ]
  },
  {
   "cell_type": "code",
   "execution_count": 13,
   "id": "181a9a6d",
   "metadata": {},
   "outputs": [
    {
     "name": "stderr",
     "output_type": "stream",
     "text": [
      "[Stage 64:====================================================>(198 + 15) / 200]\r"
     ]
    },
    {
     "name": "stdout",
     "output_type": "stream",
     "text": [
      "+-----------------------------------------------------------------------+\n",
      "|count(DISTINCT user_id, replacement_module_id, replacement_instance_id)|\n",
      "+-----------------------------------------------------------------------+\n",
      "|                                                                   9172|\n",
      "+-----------------------------------------------------------------------+\n",
      "\n"
     ]
    },
    {
     "name": "stderr",
     "output_type": "stream",
     "text": [
      "[Stage 64:======================================================(200 + 1) / 200]\r"
     ]
    }
   ],
   "source": [
    "experiment_data_with_madcdl_enriched.createOrReplaceTempView(\"experiment_data_with_madcdl_enriched\")\n",
    "sql = \"\"\"\n",
    "select count(distinct a.user_id, replacement_module_id, replacement_instance_id)\n",
    "from experiment_data_with_madcdl_enriched a join (\n",
    "    select user_id, placement.placement_id as placement_id, mid as module_id, iid as instance_id\n",
    "        FROM (\n",
    "            select signedin_uid as user_id, mstat.*\n",
    "            from ACCESS_VIEWS.HP_EVENT_FACT\n",
    "            lateral view explode(module_stats5(module_info, module_lst, navsrc_lst, viewdtls_lst, module_plmt_imprns)) as mstat\n",
    "            where dt = \"20230525\" AND type = \"same_day\"\n",
    "        ) ms\n",
    "        lateral view outer explode(placements) as placement\n",
    "        where placement.placement_id is not null and iid <> -1\n",
    "    ) b on a.replacement_module_id = b.module_id and a.replacement_instance_id = b.instance_id and a.user_id = b.user_id\n",
    "\"\"\"\n",
    "module_instance_fit = spark.sql(sql)\n",
    "module_instance_fit.show()"
   ]
  },
  {
   "cell_type": "code",
   "execution_count": 22,
   "id": "4d7eb5c9",
   "metadata": {},
   "outputs": [
    {
     "name": "stdout",
     "output_type": "stream",
     "text": [
      "Percent of (module_id, instance_id) that matches the replaced placement: 95.96 %\n"
     ]
    }
   ],
   "source": [
    "percent = 9172/9558\n",
    "print(\"Percent of (module_id, instance_id) that matches the replaced placement:\", format(percent*100, \".2f\"), \"%\")"
   ]
  },
  {
   "cell_type": "markdown",
   "id": "879d2c0d",
   "metadata": {},
   "source": [
    "____"
   ]
  },
  {
   "cell_type": "markdown",
   "id": "26f617fb-96de-4fa8-8081-e5e18e8fc3d7",
   "metadata": {},
   "source": [
    "# Summary\n",
    "```\n",
    "By the MFE 1% EP investigating we can say that the replacement does happen.\n",
    "The replaced placement can be found in the json MBE_VALUE in MADCDL.\n",
    "The module_id and instance_id we see in HP_EVENT_FACT reflects the replaced placement (in the json).\n",
    "```\n"
   ]
  },
  {
   "cell_type": "code",
   "execution_count": null,
   "id": "10a53c31",
   "metadata": {},
   "outputs": [],
   "source": []
  }
 ],
 "metadata": {
  "kernelspec": {
   "display_name": "Python 3 (ipykernel)",
   "language": "python",
   "name": "python3"
  },
  "language_info": {
   "codemirror_mode": {
    "name": "ipython",
    "version": 3
   },
   "file_extension": ".py",
   "mimetype": "text/x-python",
   "name": "python",
   "nbconvert_exporter": "python",
   "pygments_lexer": "ipython3",
   "version": "3.7.10"
  }
 },
 "nbformat": 4,
 "nbformat_minor": 5
}
