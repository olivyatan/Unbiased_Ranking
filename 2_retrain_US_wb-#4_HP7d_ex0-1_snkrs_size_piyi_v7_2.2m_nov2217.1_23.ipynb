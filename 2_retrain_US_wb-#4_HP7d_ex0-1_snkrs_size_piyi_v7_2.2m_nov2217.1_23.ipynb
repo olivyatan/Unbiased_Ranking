{
 "cells": [
  {
   "cell_type": "code",
   "execution_count": 3,
   "id": "a2c69e53-f6b9-4ef7-a332-469324856530",
   "metadata": {},
   "outputs": [],
   "source": [
    "    \n",
    "import pandas as pd\n",
    "import numpy as np\n",
    "import xgboost as xgb\n",
    "from sklearn.feature_selection import GenericUnivariateSelect, chi2, f_classif\n",
    "from sklearn.model_selection import train_test_split,  GroupShuffleSplit\n",
    "import pathlib\n",
    "from datetime import datetime\n",
    "import os\n"
   ]
  },
  {
   "cell_type": "code",
   "execution_count": 4,
   "id": "3aa9ac4f-1874-468d-bdef-50ff237fa0e9",
   "metadata": {},
   "outputs": [],
   "source": [
    "# US_wb-#4_HP_ex0-1_snkrs_size_piyi_v7_2.2m_nov2217.1_23.ipynb"
   ]
  },
  {
   "cell_type": "code",
   "execution_count": 5,
   "id": "dd243d29-3ca2-45db-abfe-eef6cd5ba2fc",
   "metadata": {},
   "outputs": [],
   "source": [
    "import os\n",
    "import pickle\n",
    "import socket\n",
    "import sys\n",
    "from datetime import date, timedelta\n",
    "from glob import glob\n",
    "\n",
    "import pandas as pd\n",
    "import pyspark.sql.functions as func\n",
    "import xgboost as xgb\n",
    "from fsspec.implementations import hdfs\n",
    "from pretrainer import *\n",
    "from pyspark.sql import Row, SparkSession\n",
    "from pyspark.sql import functions as F\n",
    "from pyspark.sql import types as T\n",
    "from pyspark.sql.functions import udf\n",
    "from pyspark.sql.types import (\n",
    "    ArrayType,\n",
    "    DoubleType,\n",
    "    LongType,\n",
    "    StringType,\n",
    "    StructField,\n",
    "    StructType,\n",
    ")\n",
    "from pyspark.sql.window import Window\n",
    "from sklearn.feature_selection import GenericUnivariateSelect, chi2, f_classif\n",
    "from sklearn.linear_model import LogisticRegression\n",
    "from sklearn.model_selection import train_test_split"
   ]
  },
  {
   "cell_type": "code",
   "execution_count": 6,
   "id": "6cd7fb6c-2102-49a4-b7d7-b85096caccf0",
   "metadata": {},
   "outputs": [],
   "source": [
    "pd.set_option('display.max_colwidth', None)"
   ]
  },
  {
   "cell_type": "markdown",
   "id": "210c158d-ac9c-4230-ac74-ee75f62b5ace",
   "metadata": {},
   "source": [
    "# Functions"
   ]
  },
  {
   "cell_type": "markdown",
   "id": "0ea397f1-2b09-4cb3-a4d5-19440fe10d95",
   "metadata": {},
   "source": [
    "cross-validation score we get with our current parameters:"
   ]
  },
  {
   "cell_type": "markdown",
   "id": "bf7955ee-1788-4a9a-9fbf-dfc5297b5fd9",
   "metadata": {},
   "source": [
    "run cross-validation on our training dataset "
   ]
  },
  {
   "cell_type": "code",
   "execution_count": 7,
   "id": "9d0757d8-ec75-417b-a35b-378a92fc429a",
   "metadata": {},
   "outputs": [],
   "source": [
    "import pandas as pd\n",
    "def run_hyper_tuning(dtrain, grid, params, nrounds, output_dir, out_filename, nfold = 5):\n",
    "    \n",
    "    print(datetime.now().strftime(\"%H:%M:%S\"))\n",
    "\n",
    "    hyper_df = pd.DataFrame(columns = ['max_depth', 'min_child_weight', 'subsample', 'eta', 'mean_map', 'boost_rounds'])\n",
    "    max_map = 0\n",
    "    best_params = None\n",
    "    i=1\n",
    "    for max_depth, min_child_weight,subsample, eta in grid:\n",
    "        #print(i)\n",
    "        print(f\"CV{i} with max_depth={max_depth}, min_child_weight={min_child_weight}, subsample={subsample}, eta={eta}\")\n",
    "        \n",
    "        params['max_depth'] = max_depth\n",
    "        params['min_child_weight'] = min_child_weight\n",
    "        params['subsample'] = subsample\n",
    "        params['eta'] = eta\n",
    "\n",
    "        # Run CV\n",
    "        cv_results = xgb.cv(\n",
    "            params,\n",
    "            dtrain,\n",
    "            num_boost_round=nrounds,\n",
    "            seed=42,\n",
    "            nfold=nfold,\n",
    "            metrics={'map'},\n",
    "            early_stopping_rounds=5\n",
    "        )\n",
    "        # Update best MAP\n",
    "        mean_map = cv_results['test-map-mean'].max()\n",
    "        boost_rounds = cv_results['test-map-mean'].argmax() + 1 \n",
    "        print(f\"\\tmap {round(mean_map, 4)} for {boost_rounds} rounds\")\n",
    "        if mean_map > max_map:\n",
    "            max_map = mean_map\n",
    "            best_params = (max_depth, min_child_weight, subsample, eta)\n",
    "\n",
    "        hyper_df = hyper_df.append({'max_depth':max_depth,\n",
    "                                    'min_child_weight':min_child_weight,\n",
    "                                    'subsample':subsample,\n",
    "                                    'eta':eta,\n",
    "                                    'mean_map':mean_map,\n",
    "                                    'boost_rounds':boost_rounds},\n",
    "                                   ignore_index=True)\n",
    "        i=i+1\n",
    "        \n",
    "    \n",
    "    print(f\"Best params: {best_params[0]}, {best_params[1]}, {best_params[2]}, {best_params[3]}, map: {max_map}\")\n",
    "    \n",
    "    print(datetime.now().strftime(\"%H:%M:%S\"))\n",
    "    \n",
    "    pathlib.Path(output_dir).mkdir(exist_ok=True, parents=True)\n",
    "    print(\"Saving hyper-paramter output\")\n",
    "    hyper_df.to_csv(os.path.join(output_dir, f\"hyper_df_{out_filename}.csv\"), index=False)\n",
    "    \n",
    "    return hyper_df"
   ]
  },
  {
   "cell_type": "code",
   "execution_count": 8,
   "id": "90f4f922-b8b1-4da0-a345-5dc9446208f3",
   "metadata": {},
   "outputs": [],
   "source": [
    "def run_hyper_tuning(dtrain, grid, params, nrounds, output_dir, out_filename, nfold = 5):\n",
    "    \n",
    "    print(datetime.now().strftime(\"%H:%M:%S\"))\n",
    "\n",
    "    hyper_df = pd.DataFrame(columns = ['max_depth', 'min_child_weight', 'subsample', 'eta', 'mean_map', 'boost_rounds'])\n",
    "    max_map = 0\n",
    "    best_params = None\n",
    "    i=1\n",
    "    for max_depth, min_child_weight,subsample, eta in grid:\n",
    "        #print(i)\n",
    "        print(f\"CV{i} with max_depth={max_depth}, min_child_weight={min_child_weight}, subsample={subsample}, eta={eta}\")\n",
    "        \n",
    "        params['max_depth'] = max_depth\n",
    "        params['min_child_weight'] = min_child_weight\n",
    "        params['subsample'] = subsample\n",
    "        params['eta'] = eta\n",
    "\n",
    "        # Run CV\n",
    "        cv_results = xgb.cv(\n",
    "            params,\n",
    "            dtrain,\n",
    "            num_boost_round=nrounds,\n",
    "            seed=42,\n",
    "            nfold=nfold,\n",
    "            metrics={'map'},\n",
    "            early_stopping_rounds=5\n",
    "        )\n",
    "        # Update best MAP\n",
    "        mean_map = cv_results['test-map-mean'].max()\n",
    "        boost_rounds = cv_results['test-map-mean'].argmax() + 1 \n",
    "        print(f\"\\tmap {round(mean_map, 4)} for {boost_rounds} rounds\")\n",
    "        if mean_map > max_map:\n",
    "            max_map = mean_map\n",
    "            best_params = (max_depth, min_child_weight, subsample, eta)\n",
    "\n",
    "        hyper_df = hyper_df.append({'max_depth':max_depth,\n",
    "                                    'min_child_weight':min_child_weight,\n",
    "                                    'subsample':subsample,\n",
    "                                    'eta':eta,\n",
    "                                    'mean_map':mean_map,\n",
    "                                    'boost_rounds':boost_rounds},\n",
    "                                   ignore_index=True)\n",
    "        i=i+1\n",
    "        \n",
    "    \n",
    "    print(f\"Best params: {best_params[0]}, {best_params[1]}, {best_params[2]}, {best_params[3]}, map: {max_map}\")\n",
    "    \n",
    "    print(datetime.now().strftime(\"%H:%M:%S\"))\n",
    "    \n",
    "    pathlib.Path(output_dir).mkdir(exist_ok=True, parents=True)\n",
    "    print(\"Saving hyper-paramter output\")\n",
    "    hyper_df.to_csv(os.path.join(output_dir, f\"hyper_df_{out_filename}.csv\"), index=False)\n",
    "    \n",
    "    return hyper_df"
   ]
  },
  {
   "cell_type": "code",
   "execution_count": 9,
   "id": "5aab431c-3902-4857-b8e8-9dbab640ca4e",
   "metadata": {},
   "outputs": [],
   "source": [
    "def calc_feature_imp(model, imp_type = 'gain'):\n",
    "    \n",
    "    importance = model._Booster.get_score(importance_type=imp_type)\n",
    "    fimp_by_gain = np.array([importance.get(f, 0.) for f in model._Booster.feature_names])\n",
    "    fimp_order = np.argsort(fimp_by_gain)\n",
    "    values = fimp_by_gain[fimp_order]\n",
    "    labels = np.array(model._Booster.feature_names)[fimp_order]\n",
    "    \n",
    "    return pd.DataFrame({\"feature\": labels, \"score\":values}).sort_values(by = \"score\", ascending=False)"
   ]
  },
  {
   "cell_type": "code",
   "execution_count": 10,
   "id": "0f878877-c0e7-4307-9e3b-208e1b2d29ec",
   "metadata": {},
   "outputs": [],
   "source": [
    "def calc_sale_rank(df, rank_col, ascending, group_col = 'meid', label_col = 'labelPurchase'):\n",
    "    df_c = df.copy()\n",
    "    \n",
    "    df_c = df_c.sort_values([group_col, rank_col], ascending=ascending)\n",
    "    \n",
    "    df_c[f'{rank_col}_score'] = df_c.groupby(group_col, sort=False).cumcount() + 1\n",
    "    \n",
    "    df_score = df_c[df_c[label_col] == 1]\n",
    "    \n",
    "    score = df_score.groupby(group_col, sort=False)[f'{rank_col}_score'].min().tolist()\n",
    "    score = [x for x in score if x is not None and np.isfinite(x)]\n",
    "        \n",
    "    return score"
   ]
  },
  {
   "cell_type": "markdown",
   "id": "d3cf0dbf-31d5-447a-a22b-7b9f878f19c9",
   "metadata": {
    "tags": []
   },
   "source": [
    "# Load Data sneakers and filter for US:"
   ]
  },
  {
   "cell_type": "code",
   "execution_count": 17,
   "id": "b3cf883a-25ad-4f62-ab35-c2bb79f555cb",
   "metadata": {},
   "outputs": [],
   "source": [
    "output_dir=\"/data/shpx/data/olivyatan/piyi/vlps_pa\""
   ]
  },
  {
   "cell_type": "code",
   "execution_count": 9,
   "id": "1143a4a4-6d34-401c-9e4e-856770db17a9",
   "metadata": {},
   "outputs": [],
   "source": [
    "#df_pa_sample=pd.read_parquet('/data/shpx/data/olivyatan/piyi/df_pa_sample.parquet')\n",
    "#df_pa_sample=pd.read_parquet('/data/shpx/data/olivyatan/pa_data_15.10_21_22_sample.parquet')"
   ]
  },
  {
   "cell_type": "markdown",
   "id": "05d71201-c32d-4849-a1d6-e045a2efe07a",
   "metadata": {
    "tags": []
   },
   "source": [
    "### Run 1 month:"
   ]
  },
  {
   "cell_type": "raw",
   "id": "0d375658-be28-4bb1-84cf-626543d4180b",
   "metadata": {},
   "source": [
    "pdf=pd.read_parquet('/data/shpx/data/olivyatan/snkrs_1m_171122_161222_allfeat.parquet')"
   ]
  },
  {
   "cell_type": "markdown",
   "id": "4e69e36c-cdf4-43a5-a654-7e87aa959ed0",
   "metadata": {},
   "source": [
    "#### 1.longer Sneakers data, 2m:"
   ]
  },
  {
   "cell_type": "raw",
   "id": "9ec928dc-39b6-4036-80a0-cfd5be7d56b9",
   "metadata": {},
   "source": [
    "pdf=pd.read_parquet('/data/shpx/data/olivyatan/snkrs_2m_171122_050123_allfeat.parquet') "
   ]
  },
  {
   "cell_type": "raw",
   "id": "73eabc80-902c-4869-9f5a-9be56f23b7f2",
   "metadata": {},
   "source": [
    "pd=pd.read_parquet('/data/shpx/data/olivyatan/snkrs_2m_171122_140123_allfeat.parquet') "
   ]
  },
  {
   "cell_type": "code",
   "execution_count": 11,
   "id": "a087f163-885a-4571-ac4e-d514f3f0f5ae",
   "metadata": {},
   "outputs": [],
   "source": [
    "df_sneakers_4m=pd.read_parquet('/data/shpx/data/olivyatan/sneakers_us_17.11.22_25.4.22_allfeat.parquet')  "
   ]
  },
  {
   "cell_type": "code",
   "execution_count": 12,
   "id": "792f44bf-6345-4678-9776-ed1cac836e33",
   "metadata": {},
   "outputs": [
    {
     "data": {
      "text/plain": [
       "array([0], dtype=int32)"
      ]
     },
     "execution_count": 12,
     "metadata": {},
     "output_type": "execute_result"
    }
   ],
   "source": [
    "df_sneakers_4m.siteId.unique()"
   ]
  },
  {
   "cell_type": "code",
   "execution_count": 13,
   "id": "08ab59f7-72ce-4d1e-8d90-41676a208713",
   "metadata": {
    "scrolled": true,
    "tags": []
   },
   "outputs": [
    {
     "data": {
      "text/plain": [
       "array(['2022-11-17', '2022-11-18', '2022-11-19', '2022-11-20',\n",
       "       '2022-11-21', '2022-11-22', '2022-11-23', '2022-11-24',\n",
       "       '2022-11-25', '2022-11-26', '2022-11-27', '2022-11-28',\n",
       "       '2022-11-29', '2022-11-30', '2022-12-01', '2022-12-02',\n",
       "       '2022-12-03', '2022-12-04', '2022-12-05', '2022-12-06',\n",
       "       '2022-12-07', '2022-12-08', '2022-12-09', '2022-12-10',\n",
       "       '2022-12-11', '2022-12-12', '2022-12-13', '2022-12-14',\n",
       "       '2022-12-15', '2022-12-16', '2022-12-17', '2022-12-18',\n",
       "       '2022-12-19', '2022-12-20', '2022-12-21', '2022-12-22',\n",
       "       '2022-12-23', '2022-12-24', '2022-12-25', '2022-12-26',\n",
       "       '2022-12-27', '2022-12-28', '2022-12-29', '2022-12-30',\n",
       "       '2022-12-31', '2023-01-01', '2023-01-02', '2023-01-03',\n",
       "       '2023-01-04', '2023-01-05', '2023-01-06', '2023-01-07',\n",
       "       '2023-01-08', '2023-01-09', '2023-01-10', '2023-01-11',\n",
       "       '2023-01-12', '2023-01-13', '2023-01-14', '2023-01-15',\n",
       "       '2023-01-16', '2023-01-17', '2023-01-18', '2023-01-19',\n",
       "       '2023-01-20', '2023-01-21', '2023-01-22', '2023-01-23',\n",
       "       '2023-01-24', '2023-01-25', '2023-01-26', '2023-01-27',\n",
       "       '2023-01-28', '2023-01-29', '2023-01-30', '2023-01-31',\n",
       "       '2023-02-01', '2023-02-02', '2023-02-03', '2023-02-04',\n",
       "       '2023-02-05', '2023-02-06', '2023-02-07', '2023-02-08',\n",
       "       '2023-02-09', '2023-02-10', '2023-02-11', '2023-02-12',\n",
       "       '2023-02-13', '2023-02-14', '2023-02-15', '2023-02-16',\n",
       "       '2023-02-17', '2023-02-18', '2023-02-19', '2023-02-20',\n",
       "       '2023-02-21', '2023-02-22', '2023-02-23', '2023-02-24',\n",
       "       '2023-02-25', '2023-02-26', '2023-02-27', '2023-02-28',\n",
       "       '2023-03-01', '2023-03-02', '2023-03-03', '2023-03-04',\n",
       "       '2023-03-05', '2023-03-06', '2023-03-07', '2023-03-08',\n",
       "       '2023-03-09', '2023-03-10', '2023-03-11', '2023-03-12',\n",
       "       '2023-03-13', '2023-03-14', '2023-03-15', '2023-03-16',\n",
       "       '2023-03-17', '2023-03-18', '2023-03-19', '2023-03-20',\n",
       "       '2023-03-21', '2023-03-22', '2023-03-23', '2023-03-24',\n",
       "       '2023-03-25', '2023-03-26', '2023-03-27', '2023-03-28',\n",
       "       '2023-03-29', '2023-03-30', '2023-03-31', '2023-04-01',\n",
       "       '2023-04-02', '2023-04-03', '2023-04-04', '2023-04-05',\n",
       "       '2023-04-06', '2023-04-07', '2023-04-08', '2023-04-09',\n",
       "       '2023-04-10', '2023-04-11', '2023-04-12', '2023-04-13',\n",
       "       '2023-04-14', '2023-04-15', '2023-04-16', '2023-04-17',\n",
       "       '2023-04-19', '2023-04-20', '2023-04-21', '2023-04-23',\n",
       "       '2023-04-24', '2023-04-25'], dtype=object)"
      ]
     },
     "execution_count": 13,
     "metadata": {},
     "output_type": "execute_result"
    }
   ],
   "source": [
    "df_sneakers_4m.dt.unique()"
   ]
  },
  {
   "cell_type": "code",
   "execution_count": 13,
   "id": "008b78d5-8b86-492e-9799-d6b499aceef2",
   "metadata": {},
   "outputs": [
    {
     "data": {
      "text/plain": [
       "(94852, 1519)"
      ]
     },
     "execution_count": 13,
     "metadata": {},
     "output_type": "execute_result"
    }
   ],
   "source": [
    "df_sneakers_4m.shape"
   ]
  },
  {
   "cell_type": "code",
   "execution_count": 27,
   "id": "0b84633c-0306-4bae-b343-4ee464a7e58b",
   "metadata": {},
   "outputs": [
    {
     "data": {
      "text/plain": [
       "array([ True,  True,  True, ...,  True,  True,  True])"
      ]
     },
     "execution_count": 27,
     "metadata": {},
     "output_type": "execute_result"
    }
   ],
   "source": [
    "ix=np.isin(df_sneakers_4m['category'],['15709','95672'])\n",
    "ix"
   ]
  },
  {
   "cell_type": "code",
   "execution_count": 28,
   "id": "073b3ab8-137f-4cbf-b9ca-effe78fb1af5",
   "metadata": {},
   "outputs": [],
   "source": [
    "category_filter = np.isin(df_sneakers_4m['category'], ['15709', '95672'])\n",
    "site_filter = np.isin(df_sneakers_4m['siteId'], [0])\n",
    "result = category_filter & site_filter"
   ]
  },
  {
   "cell_type": "code",
   "execution_count": 29,
   "id": "d7b4cfd6-4866-4eb2-b479-b1ba375af7e9",
   "metadata": {},
   "outputs": [
    {
     "data": {
      "text/plain": [
       "array([ True,  True,  True, ...,  True,  True,  True])"
      ]
     },
     "execution_count": 29,
     "metadata": {},
     "output_type": "execute_result"
    }
   ],
   "source": [
    "result"
   ]
  },
  {
   "cell_type": "code",
   "execution_count": 31,
   "id": "5e75543e-d8ff-49c0-97c2-fdfc4d17c395",
   "metadata": {},
   "outputs": [
    {
     "data": {
      "text/html": [
       "<div>\n",
       "<style scoped>\n",
       "    .dataframe tbody tr th:only-of-type {\n",
       "        vertical-align: middle;\n",
       "    }\n",
       "\n",
       "    .dataframe tbody tr th {\n",
       "        vertical-align: top;\n",
       "    }\n",
       "\n",
       "    .dataframe thead th {\n",
       "        text-align: right;\n",
       "    }\n",
       "</style>\n",
       "<table border=\"1\" class=\"dataframe\">\n",
       "  <thead>\n",
       "    <tr style=\"text-align: right;\">\n",
       "      <th></th>\n",
       "      <th>f_CoviewCountWnD</th>\n",
       "      <th>f_ConditionGranular</th>\n",
       "      <th>f_SlrRampupTrans8w</th>\n",
       "      <th>f_SearchModel103UserItemAffinity_PredPriceSd</th>\n",
       "      <th>f_SlrImmatureRatioSnad14d</th>\n",
       "      <th>f_ConditionFilterRecoMatchness</th>\n",
       "      <th>f_ColorDistance</th>\n",
       "      <th>f_ItemWatchCountInteractSellerLstgConvNorm</th>\n",
       "      <th>f_SizeDistance</th>\n",
       "      <th>f_UserHotClickCategory3Day</th>\n",
       "      <th>...</th>\n",
       "      <th>f_MaxViewedItemTitleJaccardWithSameCate</th>\n",
       "      <th>f_MeanViewedItemTitleJaccardWithSameCate</th>\n",
       "      <th>f_ItemFastIMAWatchCount7DayDecayDomesticWebAndMobile</th>\n",
       "      <th>f_Seller90DayBBEOverTransactionsLogSmooth</th>\n",
       "      <th>f_ItemIsNew</th>\n",
       "      <th>f_RecallSourceToraUb</th>\n",
       "      <th>f_Seller90DayStockoutOverTransactionsLogSmooth</th>\n",
       "      <th>f_ItemFastIMASaleCount7DayDecayDomesticWebAndMobile</th>\n",
       "      <th>f_ItemSellerFixedPriceViewsOverImp</th>\n",
       "      <th>f_ItemFastIMAViewsOverImp7DayDecayLogSmoothAllWebAndMobileV2</th>\n",
       "    </tr>\n",
       "  </thead>\n",
       "  <tbody>\n",
       "    <tr>\n",
       "      <th>0</th>\n",
       "      <td>0.0</td>\n",
       "      <td>0.0</td>\n",
       "      <td>-1.0</td>\n",
       "      <td>0.0</td>\n",
       "      <td>-1.0</td>\n",
       "      <td>-1.0</td>\n",
       "      <td>-1.0</td>\n",
       "      <td>0.360565</td>\n",
       "      <td>-1.0</td>\n",
       "      <td>-1.0</td>\n",
       "      <td>...</td>\n",
       "      <td>NaN</td>\n",
       "      <td>NaN</td>\n",
       "      <td>NaN</td>\n",
       "      <td>NaN</td>\n",
       "      <td>NaN</td>\n",
       "      <td>NaN</td>\n",
       "      <td>NaN</td>\n",
       "      <td>NaN</td>\n",
       "      <td>NaN</td>\n",
       "      <td>NaN</td>\n",
       "    </tr>\n",
       "    <tr>\n",
       "      <th>1</th>\n",
       "      <td>0.0</td>\n",
       "      <td>0.0</td>\n",
       "      <td>-1.0</td>\n",
       "      <td>0.0</td>\n",
       "      <td>-1.0</td>\n",
       "      <td>-1.0</td>\n",
       "      <td>-1.0</td>\n",
       "      <td>0.212199</td>\n",
       "      <td>-1.0</td>\n",
       "      <td>-1.0</td>\n",
       "      <td>...</td>\n",
       "      <td>NaN</td>\n",
       "      <td>NaN</td>\n",
       "      <td>NaN</td>\n",
       "      <td>NaN</td>\n",
       "      <td>NaN</td>\n",
       "      <td>NaN</td>\n",
       "      <td>NaN</td>\n",
       "      <td>NaN</td>\n",
       "      <td>NaN</td>\n",
       "      <td>NaN</td>\n",
       "    </tr>\n",
       "    <tr>\n",
       "      <th>2</th>\n",
       "      <td>0.0</td>\n",
       "      <td>0.0</td>\n",
       "      <td>-1.0</td>\n",
       "      <td>0.0</td>\n",
       "      <td>-1.0</td>\n",
       "      <td>-1.0</td>\n",
       "      <td>-1.0</td>\n",
       "      <td>0.757790</td>\n",
       "      <td>-1.0</td>\n",
       "      <td>-1.0</td>\n",
       "      <td>...</td>\n",
       "      <td>NaN</td>\n",
       "      <td>NaN</td>\n",
       "      <td>NaN</td>\n",
       "      <td>NaN</td>\n",
       "      <td>NaN</td>\n",
       "      <td>NaN</td>\n",
       "      <td>NaN</td>\n",
       "      <td>NaN</td>\n",
       "      <td>NaN</td>\n",
       "      <td>NaN</td>\n",
       "    </tr>\n",
       "    <tr>\n",
       "      <th>3</th>\n",
       "      <td>0.0</td>\n",
       "      <td>0.0</td>\n",
       "      <td>-1.0</td>\n",
       "      <td>0.0</td>\n",
       "      <td>-1.0</td>\n",
       "      <td>-1.0</td>\n",
       "      <td>-1.0</td>\n",
       "      <td>0.082090</td>\n",
       "      <td>-1.0</td>\n",
       "      <td>-1.0</td>\n",
       "      <td>...</td>\n",
       "      <td>NaN</td>\n",
       "      <td>NaN</td>\n",
       "      <td>NaN</td>\n",
       "      <td>NaN</td>\n",
       "      <td>NaN</td>\n",
       "      <td>NaN</td>\n",
       "      <td>NaN</td>\n",
       "      <td>NaN</td>\n",
       "      <td>NaN</td>\n",
       "      <td>NaN</td>\n",
       "    </tr>\n",
       "    <tr>\n",
       "      <th>4</th>\n",
       "      <td>0.0</td>\n",
       "      <td>0.0</td>\n",
       "      <td>-1.0</td>\n",
       "      <td>0.0</td>\n",
       "      <td>-1.0</td>\n",
       "      <td>-1.0</td>\n",
       "      <td>-1.0</td>\n",
       "      <td>0.312545</td>\n",
       "      <td>-1.0</td>\n",
       "      <td>-1.0</td>\n",
       "      <td>...</td>\n",
       "      <td>NaN</td>\n",
       "      <td>NaN</td>\n",
       "      <td>NaN</td>\n",
       "      <td>NaN</td>\n",
       "      <td>NaN</td>\n",
       "      <td>NaN</td>\n",
       "      <td>NaN</td>\n",
       "      <td>NaN</td>\n",
       "      <td>NaN</td>\n",
       "      <td>NaN</td>\n",
       "    </tr>\n",
       "    <tr>\n",
       "      <th>...</th>\n",
       "      <td>...</td>\n",
       "      <td>...</td>\n",
       "      <td>...</td>\n",
       "      <td>...</td>\n",
       "      <td>...</td>\n",
       "      <td>...</td>\n",
       "      <td>...</td>\n",
       "      <td>...</td>\n",
       "      <td>...</td>\n",
       "      <td>...</td>\n",
       "      <td>...</td>\n",
       "      <td>...</td>\n",
       "      <td>...</td>\n",
       "      <td>...</td>\n",
       "      <td>...</td>\n",
       "      <td>...</td>\n",
       "      <td>...</td>\n",
       "      <td>...</td>\n",
       "      <td>...</td>\n",
       "      <td>...</td>\n",
       "      <td>...</td>\n",
       "    </tr>\n",
       "    <tr>\n",
       "      <th>5</th>\n",
       "      <td>0.0</td>\n",
       "      <td>0.0</td>\n",
       "      <td>-1.0</td>\n",
       "      <td>0.0</td>\n",
       "      <td>-1.0</td>\n",
       "      <td>-1.0</td>\n",
       "      <td>-1.0</td>\n",
       "      <td>0.354786</td>\n",
       "      <td>-1.0</td>\n",
       "      <td>-1.0</td>\n",
       "      <td>...</td>\n",
       "      <td>NaN</td>\n",
       "      <td>NaN</td>\n",
       "      <td>NaN</td>\n",
       "      <td>NaN</td>\n",
       "      <td>NaN</td>\n",
       "      <td>NaN</td>\n",
       "      <td>NaN</td>\n",
       "      <td>NaN</td>\n",
       "      <td>NaN</td>\n",
       "      <td>NaN</td>\n",
       "    </tr>\n",
       "    <tr>\n",
       "      <th>6</th>\n",
       "      <td>0.0</td>\n",
       "      <td>0.0</td>\n",
       "      <td>-1.0</td>\n",
       "      <td>0.0</td>\n",
       "      <td>-1.0</td>\n",
       "      <td>-1.0</td>\n",
       "      <td>-1.0</td>\n",
       "      <td>0.164180</td>\n",
       "      <td>-1.0</td>\n",
       "      <td>-1.0</td>\n",
       "      <td>...</td>\n",
       "      <td>NaN</td>\n",
       "      <td>NaN</td>\n",
       "      <td>NaN</td>\n",
       "      <td>NaN</td>\n",
       "      <td>NaN</td>\n",
       "      <td>NaN</td>\n",
       "      <td>NaN</td>\n",
       "      <td>NaN</td>\n",
       "      <td>NaN</td>\n",
       "      <td>NaN</td>\n",
       "    </tr>\n",
       "    <tr>\n",
       "      <th>7</th>\n",
       "      <td>0.0</td>\n",
       "      <td>0.0</td>\n",
       "      <td>-1.0</td>\n",
       "      <td>0.0</td>\n",
       "      <td>-1.0</td>\n",
       "      <td>-1.0</td>\n",
       "      <td>-1.0</td>\n",
       "      <td>0.082090</td>\n",
       "      <td>-1.0</td>\n",
       "      <td>-1.0</td>\n",
       "      <td>...</td>\n",
       "      <td>NaN</td>\n",
       "      <td>NaN</td>\n",
       "      <td>NaN</td>\n",
       "      <td>NaN</td>\n",
       "      <td>NaN</td>\n",
       "      <td>NaN</td>\n",
       "      <td>NaN</td>\n",
       "      <td>NaN</td>\n",
       "      <td>NaN</td>\n",
       "      <td>NaN</td>\n",
       "    </tr>\n",
       "    <tr>\n",
       "      <th>8</th>\n",
       "      <td>0.0</td>\n",
       "      <td>0.0</td>\n",
       "      <td>-1.0</td>\n",
       "      <td>0.0</td>\n",
       "      <td>-1.0</td>\n",
       "      <td>-1.0</td>\n",
       "      <td>-1.0</td>\n",
       "      <td>0.164180</td>\n",
       "      <td>-1.0</td>\n",
       "      <td>-1.0</td>\n",
       "      <td>...</td>\n",
       "      <td>NaN</td>\n",
       "      <td>NaN</td>\n",
       "      <td>NaN</td>\n",
       "      <td>NaN</td>\n",
       "      <td>NaN</td>\n",
       "      <td>NaN</td>\n",
       "      <td>NaN</td>\n",
       "      <td>NaN</td>\n",
       "      <td>NaN</td>\n",
       "      <td>NaN</td>\n",
       "    </tr>\n",
       "    <tr>\n",
       "      <th>9</th>\n",
       "      <td>0.0</td>\n",
       "      <td>0.0</td>\n",
       "      <td>-1.0</td>\n",
       "      <td>0.0</td>\n",
       "      <td>-1.0</td>\n",
       "      <td>-1.0</td>\n",
       "      <td>-1.0</td>\n",
       "      <td>0.082090</td>\n",
       "      <td>-1.0</td>\n",
       "      <td>-1.0</td>\n",
       "      <td>...</td>\n",
       "      <td>NaN</td>\n",
       "      <td>NaN</td>\n",
       "      <td>NaN</td>\n",
       "      <td>NaN</td>\n",
       "      <td>NaN</td>\n",
       "      <td>NaN</td>\n",
       "      <td>NaN</td>\n",
       "      <td>NaN</td>\n",
       "      <td>NaN</td>\n",
       "      <td>NaN</td>\n",
       "    </tr>\n",
       "  </tbody>\n",
       "</table>\n",
       "<p>94852 rows × 1519 columns</p>\n",
       "</div>"
      ],
      "text/plain": [
       "    f_CoviewCountWnD  f_ConditionGranular  f_SlrRampupTrans8w  \\\n",
       "0                0.0                  0.0                -1.0   \n",
       "1                0.0                  0.0                -1.0   \n",
       "2                0.0                  0.0                -1.0   \n",
       "3                0.0                  0.0                -1.0   \n",
       "4                0.0                  0.0                -1.0   \n",
       "..               ...                  ...                 ...   \n",
       "5                0.0                  0.0                -1.0   \n",
       "6                0.0                  0.0                -1.0   \n",
       "7                0.0                  0.0                -1.0   \n",
       "8                0.0                  0.0                -1.0   \n",
       "9                0.0                  0.0                -1.0   \n",
       "\n",
       "    f_SearchModel103UserItemAffinity_PredPriceSd  f_SlrImmatureRatioSnad14d  \\\n",
       "0                                            0.0                       -1.0   \n",
       "1                                            0.0                       -1.0   \n",
       "2                                            0.0                       -1.0   \n",
       "3                                            0.0                       -1.0   \n",
       "4                                            0.0                       -1.0   \n",
       "..                                           ...                        ...   \n",
       "5                                            0.0                       -1.0   \n",
       "6                                            0.0                       -1.0   \n",
       "7                                            0.0                       -1.0   \n",
       "8                                            0.0                       -1.0   \n",
       "9                                            0.0                       -1.0   \n",
       "\n",
       "    f_ConditionFilterRecoMatchness  f_ColorDistance  \\\n",
       "0                             -1.0             -1.0   \n",
       "1                             -1.0             -1.0   \n",
       "2                             -1.0             -1.0   \n",
       "3                             -1.0             -1.0   \n",
       "4                             -1.0             -1.0   \n",
       "..                             ...              ...   \n",
       "5                             -1.0             -1.0   \n",
       "6                             -1.0             -1.0   \n",
       "7                             -1.0             -1.0   \n",
       "8                             -1.0             -1.0   \n",
       "9                             -1.0             -1.0   \n",
       "\n",
       "    f_ItemWatchCountInteractSellerLstgConvNorm  f_SizeDistance  \\\n",
       "0                                     0.360565            -1.0   \n",
       "1                                     0.212199            -1.0   \n",
       "2                                     0.757790            -1.0   \n",
       "3                                     0.082090            -1.0   \n",
       "4                                     0.312545            -1.0   \n",
       "..                                         ...             ...   \n",
       "5                                     0.354786            -1.0   \n",
       "6                                     0.164180            -1.0   \n",
       "7                                     0.082090            -1.0   \n",
       "8                                     0.164180            -1.0   \n",
       "9                                     0.082090            -1.0   \n",
       "\n",
       "    f_UserHotClickCategory3Day  ...  f_MaxViewedItemTitleJaccardWithSameCate  \\\n",
       "0                         -1.0  ...                                      NaN   \n",
       "1                         -1.0  ...                                      NaN   \n",
       "2                         -1.0  ...                                      NaN   \n",
       "3                         -1.0  ...                                      NaN   \n",
       "4                         -1.0  ...                                      NaN   \n",
       "..                         ...  ...                                      ...   \n",
       "5                         -1.0  ...                                      NaN   \n",
       "6                         -1.0  ...                                      NaN   \n",
       "7                         -1.0  ...                                      NaN   \n",
       "8                         -1.0  ...                                      NaN   \n",
       "9                         -1.0  ...                                      NaN   \n",
       "\n",
       "    f_MeanViewedItemTitleJaccardWithSameCate  \\\n",
       "0                                        NaN   \n",
       "1                                        NaN   \n",
       "2                                        NaN   \n",
       "3                                        NaN   \n",
       "4                                        NaN   \n",
       "..                                       ...   \n",
       "5                                        NaN   \n",
       "6                                        NaN   \n",
       "7                                        NaN   \n",
       "8                                        NaN   \n",
       "9                                        NaN   \n",
       "\n",
       "    f_ItemFastIMAWatchCount7DayDecayDomesticWebAndMobile  \\\n",
       "0                                                    NaN   \n",
       "1                                                    NaN   \n",
       "2                                                    NaN   \n",
       "3                                                    NaN   \n",
       "4                                                    NaN   \n",
       "..                                                   ...   \n",
       "5                                                    NaN   \n",
       "6                                                    NaN   \n",
       "7                                                    NaN   \n",
       "8                                                    NaN   \n",
       "9                                                    NaN   \n",
       "\n",
       "    f_Seller90DayBBEOverTransactionsLogSmooth  f_ItemIsNew  \\\n",
       "0                                         NaN          NaN   \n",
       "1                                         NaN          NaN   \n",
       "2                                         NaN          NaN   \n",
       "3                                         NaN          NaN   \n",
       "4                                         NaN          NaN   \n",
       "..                                        ...          ...   \n",
       "5                                         NaN          NaN   \n",
       "6                                         NaN          NaN   \n",
       "7                                         NaN          NaN   \n",
       "8                                         NaN          NaN   \n",
       "9                                         NaN          NaN   \n",
       "\n",
       "    f_RecallSourceToraUb  f_Seller90DayStockoutOverTransactionsLogSmooth  \\\n",
       "0                    NaN                                             NaN   \n",
       "1                    NaN                                             NaN   \n",
       "2                    NaN                                             NaN   \n",
       "3                    NaN                                             NaN   \n",
       "4                    NaN                                             NaN   \n",
       "..                   ...                                             ...   \n",
       "5                    NaN                                             NaN   \n",
       "6                    NaN                                             NaN   \n",
       "7                    NaN                                             NaN   \n",
       "8                    NaN                                             NaN   \n",
       "9                    NaN                                             NaN   \n",
       "\n",
       "    f_ItemFastIMASaleCount7DayDecayDomesticWebAndMobile  \\\n",
       "0                                                   NaN   \n",
       "1                                                   NaN   \n",
       "2                                                   NaN   \n",
       "3                                                   NaN   \n",
       "4                                                   NaN   \n",
       "..                                                  ...   \n",
       "5                                                   NaN   \n",
       "6                                                   NaN   \n",
       "7                                                   NaN   \n",
       "8                                                   NaN   \n",
       "9                                                   NaN   \n",
       "\n",
       "    f_ItemSellerFixedPriceViewsOverImp  \\\n",
       "0                                  NaN   \n",
       "1                                  NaN   \n",
       "2                                  NaN   \n",
       "3                                  NaN   \n",
       "4                                  NaN   \n",
       "..                                 ...   \n",
       "5                                  NaN   \n",
       "6                                  NaN   \n",
       "7                                  NaN   \n",
       "8                                  NaN   \n",
       "9                                  NaN   \n",
       "\n",
       "    f_ItemFastIMAViewsOverImp7DayDecayLogSmoothAllWebAndMobileV2  \n",
       "0                                                            NaN  \n",
       "1                                                            NaN  \n",
       "2                                                            NaN  \n",
       "3                                                            NaN  \n",
       "4                                                            NaN  \n",
       "..                                                           ...  \n",
       "5                                                            NaN  \n",
       "6                                                            NaN  \n",
       "7                                                            NaN  \n",
       "8                                                            NaN  \n",
       "9                                                            NaN  \n",
       "\n",
       "[94852 rows x 1519 columns]"
      ]
     },
     "execution_count": 31,
     "metadata": {},
     "output_type": "execute_result"
    }
   ],
   "source": [
    "df_sneakers_4m[result]"
   ]
  },
  {
   "cell_type": "markdown",
   "id": "3218e344-e84d-4666-8ca2-d364cf660f80",
   "metadata": {
    "tags": []
   },
   "source": [
    "### Save data for nmpy file conversion to simplex training: "
   ]
  },
  {
   "cell_type": "code",
   "execution_count": null,
   "id": "0cdc0c26-04a9-4fc4-8f27-db426ee2be8b",
   "metadata": {},
   "outputs": [],
   "source": []
  },
  {
   "cell_type": "raw",
   "id": "126bc3a6-8112-464f-b00b-6cb843370800",
   "metadata": {},
   "source": [
    "pdf.to_parquet('/data/shpx/data/olivyatan/snkrs_us_HP_171122_140123_WL4exclusions.parquet') "
   ]
  },
  {
   "cell_type": "code",
   "execution_count": 57,
   "id": "12c9e559-fcbe-4d24-aa3f-045a59cbcf4b",
   "metadata": {},
   "outputs": [
    {
     "data": {
      "text/plain": [
       "(239455, 1459)"
      ]
     },
     "execution_count": 57,
     "metadata": {},
     "output_type": "execute_result"
    }
   ],
   "source": [
    "pdf.shape"
   ]
  },
  {
   "cell_type": "code",
   "execution_count": 25,
   "id": "ff426b02-42f3-497f-b5e1-374ac7067696",
   "metadata": {},
   "outputs": [],
   "source": [
    "#pdf.to_parquet('/data/shpx/data/olivyatan/snkrs_us_HP_171122_140123_WL4exclusions_withLeafcatfeature.parquet') "
   ]
  },
  {
   "cell_type": "raw",
   "id": "0354512f-c01f-414e-a67b-1589acb8be8f",
   "metadata": {},
   "source": [
    "pdf.to_parquet('/data/shpx/data/olivyatan/snkrs_us_HP_171122_110423_WL4exclusions.parquet') "
   ]
  },
  {
   "cell_type": "code",
   "execution_count": 63,
   "id": "83cb7b15-8587-4db7-a2dd-66f51eb03f74",
   "metadata": {},
   "outputs": [],
   "source": [
    "pdf.to_parquet('/data/shpx/data/olivyatan/2_snkrs_us_HP7d_171122_110423_WL4exclusions.parquet')"
   ]
  },
  {
   "cell_type": "code",
   "execution_count": 64,
   "id": "8019a34d-94c8-41c0-bb17-12cd85022f00",
   "metadata": {},
   "outputs": [
    {
     "data": {
      "text/plain": [
       "(274884, 1519)"
      ]
     },
     "execution_count": 64,
     "metadata": {},
     "output_type": "execute_result"
    }
   ],
   "source": [
    "pdf.shape"
   ]
  },
  {
   "cell_type": "code",
   "execution_count": 65,
   "id": "27259b0f-144d-4436-96d8-4cbe9aa79cdc",
   "metadata": {},
   "outputs": [
    {
     "data": {
      "text/plain": [
       "0    245951\n",
       "1     28933\n",
       "Name: labelPurchase, dtype: int64"
      ]
     },
     "execution_count": 65,
     "metadata": {},
     "output_type": "execute_result"
    }
   ],
   "source": [
    "pdf.labelPurchase.value_counts()"
   ]
  },
  {
   "cell_type": "code",
   "execution_count": 109,
   "id": "675bee57-7faf-4784-ac3c-b76bb42e7436",
   "metadata": {},
   "outputs": [
    {
     "data": {
      "text/plain": [
       "0    299226\n",
       "1     35238\n",
       "Name: labelPurchase, dtype: int64"
      ]
     },
     "execution_count": 109,
     "metadata": {},
     "output_type": "execute_result"
    }
   ],
   "source": [
    "pdf.labelPurchase.value_counts() #prev "
   ]
  },
  {
   "cell_type": "code",
   "execution_count": 37,
   "id": "56a7d512-aa91-4306-b9bd-b628bacf9c19",
   "metadata": {},
   "outputs": [
    {
     "data": {
      "text/plain": [
       "(94852, 1519)"
      ]
     },
     "execution_count": 37,
     "metadata": {},
     "output_type": "execute_result"
    }
   ],
   "source": [
    "df_sneakers_4m.shape"
   ]
  },
  {
   "cell_type": "code",
   "execution_count": 14,
   "id": "889c10ce-2b77-4b8a-9c80-125228261029",
   "metadata": {},
   "outputs": [],
   "source": [
    "import pandas as pd\n",
    "def filter_df( df, start_date, end_date):\n",
    "    subset_df = pd.DataFrame()\n",
    "    subset_df=df[ (df['dt'] >= start_date) & (df['dt'] <= end_date) ].copy()\n",
    "    return subset_df \n"
   ]
  },
  {
   "cell_type": "code",
   "execution_count": 15,
   "id": "863f6647-f27e-4c96-8e12-0b43a51a3388",
   "metadata": {},
   "outputs": [],
   "source": [
    "df_us= filter_df( df_sneakers_4m, '2022-11-17', '2023-04-11')"
   ]
  },
  {
   "cell_type": "code",
   "execution_count": 16,
   "id": "c220905b-884f-43a2-b2ee-107d6bfcd3b2",
   "metadata": {},
   "outputs": [],
   "source": [
    "df_hp_sub= filter_df( df_hp, '2023-04-05', '2023-04-11')"
   ]
  },
  {
   "cell_type": "code",
   "execution_count": 17,
   "id": "da938eef-8f3f-4f5f-9c7e-be6e6d532a52",
   "metadata": {},
   "outputs": [
    {
     "data": {
      "text/plain": [
       "(192343, 1519)"
      ]
     },
     "execution_count": 17,
     "metadata": {},
     "output_type": "execute_result"
    }
   ],
   "source": [
    "df_hp_sub.shape"
   ]
  },
  {
   "cell_type": "code",
   "execution_count": 32,
   "id": "66b931e3-ac78-4f7e-b26e-a870effd9104",
   "metadata": {},
   "outputs": [
    {
     "data": {
      "text/plain": [
       "(253045, 1519)"
      ]
     },
     "execution_count": 32,
     "metadata": {},
     "output_type": "execute_result"
    }
   ],
   "source": [
    "df_hp_sub.shape"
   ]
  },
  {
   "cell_type": "code",
   "execution_count": 33,
   "id": "ddc452ce-b517-42f7-86f3-fd0933ae11af",
   "metadata": {},
   "outputs": [
    {
     "data": {
      "text/plain": [
       "(86793, 1519)"
      ]
     },
     "execution_count": 33,
     "metadata": {},
     "output_type": "execute_result"
    }
   ],
   "source": [
    "df_us.shape"
   ]
  },
  {
   "cell_type": "code",
   "execution_count": 15,
   "id": "60c20222-a77a-440a-885f-22be388a2679",
   "metadata": {},
   "outputs": [],
   "source": [
    "test_2w_sneakers=filter_df( df_sneakers_4m, '2023-04-12', '2023-04-25')"
   ]
  },
  {
   "cell_type": "code",
   "execution_count": 16,
   "id": "ec4597f4-c01b-4bc7-bca3-77ee8eebaa5c",
   "metadata": {},
   "outputs": [
    {
     "data": {
      "text/plain": [
       "(8059, 1519)"
      ]
     },
     "execution_count": 16,
     "metadata": {},
     "output_type": "execute_result"
    }
   ],
   "source": [
    "test_2w_sneakers.shape"
   ]
  },
  {
   "cell_type": "code",
   "execution_count": 17,
   "id": "c52d1643-2fc5-42a4-86c5-f4bd306925e3",
   "metadata": {},
   "outputs": [
    {
     "data": {
      "text/plain": [
       "12"
      ]
     },
     "execution_count": 17,
     "metadata": {},
     "output_type": "execute_result"
    }
   ],
   "source": [
    "test_2w_sneakers.dt.nunique()"
   ]
  },
  {
   "cell_type": "code",
   "execution_count": 18,
   "id": "4ef38d37-a2bc-445e-a142-5ad6922bf84c",
   "metadata": {},
   "outputs": [
    {
     "data": {
      "text/plain": [
       "0    7210\n",
       "1     849\n",
       "Name: labelPurchase, dtype: int64"
      ]
     },
     "execution_count": 18,
     "metadata": {},
     "output_type": "execute_result"
    }
   ],
   "source": [
    "test_2w_sneakers.labelPurchase.value_counts()"
   ]
  },
  {
   "cell_type": "code",
   "execution_count": 20,
   "id": "51a76395-a982-4538-9099-74bb25d8f732",
   "metadata": {},
   "outputs": [],
   "source": [
    "test_2w_sneakers.to_pickle('/data/shpx/data/olivyatan/test_2w_sneakers_Us.parquet')"
   ]
  },
  {
   "cell_type": "code",
   "execution_count": 26,
   "id": "61135b68-b41b-41c6-81cc-d3fdfa3ec0a0",
   "metadata": {},
   "outputs": [
    {
     "data": {
      "text/plain": [
       "array([0], dtype=int32)"
      ]
     },
     "execution_count": 26,
     "metadata": {},
     "output_type": "execute_result"
    }
   ],
   "source": [
    "test_2w_sneakers.siteId.unique()"
   ]
  },
  {
   "cell_type": "markdown",
   "id": "0de7d2d9-628e-4200-ba2a-4a6a2d94f5a4",
   "metadata": {
    "jp-MarkdownHeadingCollapsed": true,
    "tags": []
   },
   "source": [
    "### calc sale rank per date: "
   ]
  },
  {
   "cell_type": "code",
   "execution_count": 309,
   "id": "4ccd53ee-465b-4d8c-948f-27c5089160f7",
   "metadata": {},
   "outputs": [],
   "source": [
    "grouping = dict(tuple(df_us.groupby(['dt'])))"
   ]
  },
  {
   "cell_type": "code",
   "execution_count": 311,
   "id": "44a1c979-3d25-493b-9199-dace463e985f",
   "metadata": {},
   "outputs": [],
   "source": [
    "grouping =df_us.groupby(['dt'])"
   ]
  },
  {
   "cell_type": "code",
   "execution_count": 332,
   "id": "006019c4-6ce3-40c1-9a6e-e0f9fa3e9d68",
   "metadata": {},
   "outputs": [
    {
     "data": {
      "text/html": [
       "<div>\n",
       "<style scoped>\n",
       "    .dataframe tbody tr th:only-of-type {\n",
       "        vertical-align: middle;\n",
       "    }\n",
       "\n",
       "    .dataframe tbody tr th {\n",
       "        vertical-align: top;\n",
       "    }\n",
       "\n",
       "    .dataframe thead th {\n",
       "        text-align: right;\n",
       "    }\n",
       "</style>\n",
       "<table border=\"1\" class=\"dataframe\">\n",
       "  <thead>\n",
       "    <tr style=\"text-align: right;\">\n",
       "      <th></th>\n",
       "      <th>f_CoviewCountWnD</th>\n",
       "      <th>f_ConditionGranular</th>\n",
       "      <th>f_SlrRampupTrans8w</th>\n",
       "      <th>f_SearchModel103UserItemAffinity_PredPriceSd</th>\n",
       "      <th>f_SlrImmatureRatioSnad14d</th>\n",
       "      <th>f_ConditionFilterRecoMatchness</th>\n",
       "      <th>f_ColorDistance</th>\n",
       "      <th>f_ItemWatchCountInteractSellerLstgConvNorm</th>\n",
       "      <th>f_SizeDistance</th>\n",
       "      <th>f_UserHotClickCategory3Day</th>\n",
       "      <th>...</th>\n",
       "      <th>labelBBEDefectType</th>\n",
       "      <th>labelSitePurchaseImpr</th>\n",
       "      <th>labelBBEImpr</th>\n",
       "      <th>labelBin</th>\n",
       "      <th>labelOffer</th>\n",
       "      <th>labelWatch</th>\n",
       "      <th>labelAdd2Cart</th>\n",
       "      <th>labelPurchaseImpr</th>\n",
       "      <th>labelCombined</th>\n",
       "      <th>dt</th>\n",
       "    </tr>\n",
       "  </thead>\n",
       "  <tbody>\n",
       "    <tr>\n",
       "      <th>0</th>\n",
       "      <td>0.0</td>\n",
       "      <td>0.0</td>\n",
       "      <td>-1.0</td>\n",
       "      <td>0.0</td>\n",
       "      <td>-1.0</td>\n",
       "      <td>-1.0</td>\n",
       "      <td>-1.0</td>\n",
       "      <td>0.360565</td>\n",
       "      <td>-1.0</td>\n",
       "      <td>-1.0</td>\n",
       "      <td>...</td>\n",
       "      <td>-1</td>\n",
       "      <td>0</td>\n",
       "      <td>-1</td>\n",
       "      <td>0</td>\n",
       "      <td>0</td>\n",
       "      <td>0</td>\n",
       "      <td>0</td>\n",
       "      <td>0</td>\n",
       "      <td>0</td>\n",
       "      <td>2022-11-17</td>\n",
       "    </tr>\n",
       "  </tbody>\n",
       "</table>\n",
       "<p>1 rows × 1459 columns</p>\n",
       "</div>"
      ],
      "text/plain": [
       "   f_CoviewCountWnD  f_ConditionGranular  f_SlrRampupTrans8w  \\\n",
       "0               0.0                  0.0                -1.0   \n",
       "\n",
       "   f_SearchModel103UserItemAffinity_PredPriceSd  f_SlrImmatureRatioSnad14d  \\\n",
       "0                                           0.0                       -1.0   \n",
       "\n",
       "   f_ConditionFilterRecoMatchness  f_ColorDistance  \\\n",
       "0                            -1.0             -1.0   \n",
       "\n",
       "   f_ItemWatchCountInteractSellerLstgConvNorm  f_SizeDistance  \\\n",
       "0                                    0.360565            -1.0   \n",
       "\n",
       "   f_UserHotClickCategory3Day  ...  labelBBEDefectType  labelSitePurchaseImpr  \\\n",
       "0                        -1.0  ...                  -1                      0   \n",
       "\n",
       "   labelBBEImpr  labelBin  labelOffer  labelWatch  labelAdd2Cart  \\\n",
       "0            -1         0           0           0              0   \n",
       "\n",
       "   labelPurchaseImpr  labelCombined          dt  \n",
       "0                  0              0  2022-11-17  \n",
       "\n",
       "[1 rows x 1459 columns]"
      ]
     },
     "execution_count": 332,
     "metadata": {},
     "output_type": "execute_result"
    }
   ],
   "source": [
    "\n",
    "grouping.get_group('2022-11-17').head(1)"
   ]
  },
  {
   "cell_type": "code",
   "execution_count": 328,
   "id": "3ccd28c9-28b2-4043-9655-89e051e88f11",
   "metadata": {},
   "outputs": [],
   "source": [
    "dt_saleRank={}\n",
    "for  group_dt in grouping: \n",
    "   # print (group_dt[0])\n",
    "    #print (group_dt)\n",
    "    saleRank=np.mean(calc_sale_rank(grouping.get_group(group_dt[0]), 'rank', ascending=True))\n",
    "    #print(  saleRank) \n",
    "    dt_saleRank[str(group_dt[0])] =saleRank"
   ]
  },
  {
   "cell_type": "code",
   "execution_count": 329,
   "id": "735536ea-fe3e-4dd0-a84d-30538a0844f7",
   "metadata": {
    "scrolled": true,
    "tags": []
   },
   "outputs": [
    {
     "data": {
      "text/plain": [
       "{'2022-11-17': 2.1159420289855073,\n",
       " '2022-11-18': 3.3424657534246576,\n",
       " '2022-11-19': 2.5789473684210527,\n",
       " '2022-11-20': 2.5308641975308643,\n",
       " '2022-11-21': 3.533333333333333,\n",
       " '2022-11-22': 2.953846153846154,\n",
       " '2022-11-23': 2.8088235294117645,\n",
       " '2022-11-24': 2.8194444444444446,\n",
       " '2022-11-25': 2.625,\n",
       " '2022-11-26': 2.740740740740741,\n",
       " '2022-11-27': 2.870967741935484,\n",
       " '2022-11-28': 2.4375,\n",
       " '2022-11-29': 3.1805555555555554,\n",
       " '2022-11-30': 3.064516129032258,\n",
       " '2022-12-01': 3.138888888888889,\n",
       " '2022-12-02': 2.8513513513513513,\n",
       " '2022-12-03': 3.015625,\n",
       " '2022-12-04': 3.287671232876712,\n",
       " '2022-12-05': 2.8313253012048194,\n",
       " '2022-12-06': 2.6666666666666665,\n",
       " '2022-12-07': 2.9069767441860463,\n",
       " '2022-12-08': 3.1864406779661016,\n",
       " '2022-12-09': 2.767123287671233,\n",
       " '2022-12-10': 2.835294117647059,\n",
       " '2022-12-11': 2.975,\n",
       " '2022-12-12': 2.935483870967742,\n",
       " '2022-12-13': 2.710144927536232,\n",
       " '2022-12-14': 2.719298245614035,\n",
       " '2022-12-15': 2.7708333333333335,\n",
       " '2022-12-16': 2.9,\n",
       " '2022-12-17': 2.0,\n",
       " '2022-12-18': 2.3636363636363638,\n",
       " '2022-12-19': 2.388888888888889,\n",
       " '2022-12-20': 2.8333333333333335,\n",
       " '2022-12-21': 2.8461538461538463,\n",
       " '2022-12-22': 3.111111111111111,\n",
       " '2022-12-23': 2.3376623376623376,\n",
       " '2022-12-24': 2.830769230769231,\n",
       " '2022-12-25': 3.227272727272727,\n",
       " '2022-12-26': 2.872093023255814,\n",
       " '2022-12-27': 2.8705882352941177,\n",
       " '2022-12-28': 2.5428571428571427,\n",
       " '2022-12-29': 3.171875,\n",
       " '2022-12-30': 2.7083333333333335,\n",
       " '2022-12-31': 2.4925373134328357,\n",
       " '2023-01-01': 3.1411764705882352,\n",
       " '2023-01-02': 2.638888888888889,\n",
       " '2023-01-03': 2.6619718309859155,\n",
       " '2023-01-04': 3.2,\n",
       " '2023-01-05': 2.9615384615384617,\n",
       " '2023-01-06': 3.2465753424657535,\n",
       " '2023-01-07': 2.75,\n",
       " '2023-01-08': 2.564516129032258,\n",
       " '2023-01-09': 3.142857142857143,\n",
       " '2023-01-10': 2.3076923076923075,\n",
       " '2023-01-11': 3.0892857142857144,\n",
       " '2023-01-12': 2.9529411764705884,\n",
       " '2023-01-14': 2.638888888888889}"
      ]
     },
     "execution_count": 329,
     "metadata": {},
     "output_type": "execute_result"
    }
   ],
   "source": [
    "dt_saleRank\n"
   ]
  },
  {
   "cell_type": "code",
   "execution_count": 330,
   "id": "30c1cd1a-647e-4b38-b1e6-95e2e11a2d53",
   "metadata": {},
   "outputs": [
    {
     "data": {
      "text/plain": [
       "2.8274916355735735"
      ]
     },
     "execution_count": 330,
     "metadata": {},
     "output_type": "execute_result"
    }
   ],
   "source": [
    "np.array(list(dt_saleRank.values())).mean()"
   ]
  },
  {
   "cell_type": "code",
   "execution_count": 331,
   "id": "4ad71bb4-4da0-420b-a2c4-14d41feac340",
   "metadata": {},
   "outputs": [
    {
     "data": {
      "text/plain": [
       "0.30391453077034697"
      ]
     },
     "execution_count": 331,
     "metadata": {},
     "output_type": "execute_result"
    }
   ],
   "source": [
    "np.array(list(dt_saleRank.values())).std()"
   ]
  },
  {
   "cell_type": "markdown",
   "id": "2667686f-d87b-4752-8d77-8c2692f6f9a9",
   "metadata": {
    "jp-MarkdownHeadingCollapsed": true,
    "tags": []
   },
   "source": [
    "# 2.Load data HP US:"
   ]
  },
  {
   "cell_type": "code",
   "execution_count": 1,
   "id": "53e22e31-d9aa-4f12-b531-4338d2945c61",
   "metadata": {},
   "outputs": [],
   "source": [
    "import pandas as pd\n",
    "#df_hp=pd.read_parquet('/data/shpx/data/olivyatan/hp_1w_080123_140123_allcat.parquet')  "
   ]
  },
  {
   "cell_type": "code",
   "execution_count": 9,
   "id": "25158ab8-6b00-4000-8d4d-dfd6b6ddb1dd",
   "metadata": {},
   "outputs": [],
   "source": [
    "import pandas as pd\n",
    "df_hp=pd.read_parquet('/data/shpx/data/olivyatan/HP_us_2w_270323_110423_allfeat.parquet')"
   ]
  },
  {
   "cell_type": "code",
   "execution_count": 10,
   "id": "5c2a5632-0c40-4238-8a21-0a403002184f",
   "metadata": {},
   "outputs": [
    {
     "data": {
      "text/plain": [
       "array([0], dtype=int32)"
      ]
     },
     "execution_count": 10,
     "metadata": {},
     "output_type": "execute_result"
    }
   ],
   "source": [
    "df_hp.siteId.unique()"
   ]
  },
  {
   "cell_type": "code",
   "execution_count": 11,
   "id": "4b8566b7-c41e-4fe0-a730-a4b6db570ae1",
   "metadata": {},
   "outputs": [
    {
     "data": {
      "text/plain": [
       "(424269, 1519)"
      ]
     },
     "execution_count": 11,
     "metadata": {},
     "output_type": "execute_result"
    }
   ],
   "source": [
    "df_hp.shape"
   ]
  },
  {
   "cell_type": "code",
   "execution_count": 12,
   "id": "4a621bff-3d84-4775-9a75-06d31f2d018b",
   "metadata": {},
   "outputs": [
    {
     "data": {
      "text/plain": [
       "Index(['f_SlrImmatureDaysLastDefect', 'f_PriceV2',\n",
       "       'f_IsAuthenticityGuaranteed',\n",
       "       'f_ItemWatchCount7DayDecayDomesticWebAndMobile', 'f_CssL3MeanBbeCount',\n",
       "       'f_IsVariantItem', 'f_HydraStdWOCat', 'f_KnnNlpUserItemsRecallSource',\n",
       "       'f_ItemSoldCountWnD', 'f_RecoHasEpid',\n",
       "       ...\n",
       "       'f_MaxViewedItemTitleJaccardWithSameCate',\n",
       "       'f_MeanViewedItemTitleJaccardWithSameCate',\n",
       "       'f_ItemFastIMAWatchCount7DayDecayDomesticWebAndMobile',\n",
       "       'f_Seller90DayBBEOverTransactionsLogSmooth', 'f_ItemIsNew',\n",
       "       'f_RecallSourceToraUb',\n",
       "       'f_Seller90DayStockoutOverTransactionsLogSmooth',\n",
       "       'f_ItemFastIMASaleCount7DayDecayDomesticWebAndMobile',\n",
       "       'f_ItemSellerFixedPriceViewsOverImp',\n",
       "       'f_ItemFastIMAViewsOverImp7DayDecayLogSmoothAllWebAndMobileV2'],\n",
       "      dtype='object', length=1519)"
      ]
     },
     "execution_count": 12,
     "metadata": {},
     "output_type": "execute_result"
    }
   ],
   "source": [
    "df_hp.columns"
   ]
  },
  {
   "cell_type": "code",
   "execution_count": 23,
   "id": "1fe4cc56-5bea-4f1e-9f9e-ae4d6972ff54",
   "metadata": {},
   "outputs": [
    {
     "data": {
      "text/plain": [
       "((192343, 1519), 19961, 20244, array([0], dtype=int32))"
      ]
     },
     "execution_count": 23,
     "metadata": {},
     "output_type": "execute_result"
    }
   ],
   "source": [
    "df_hp_sub.shape, df_hp_sub.meid.nunique(), df_hp_sub.labelPurchase.sum(), df_hp_sub.siteId.unique()"
   ]
  },
  {
   "cell_type": "code",
   "execution_count": 24,
   "id": "462531b4-6de9-404d-bcee-722425c49901",
   "metadata": {},
   "outputs": [
    {
     "data": {
      "text/plain": [
       "((86793, 1519), 9097, 9134, array([0], dtype=int32))"
      ]
     },
     "execution_count": 24,
     "metadata": {},
     "output_type": "execute_result"
    }
   ],
   "source": [
    "df_us.shape, df_us.meid.nunique(), df_us.labelPurchase.sum(), df_us.siteId.unique()"
   ]
  },
  {
   "cell_type": "code",
   "execution_count": 25,
   "id": "63a31d48-f8d6-4aaf-a4ff-e649768d1a3e",
   "metadata": {},
   "outputs": [
    {
     "data": {
      "text/plain": [
       "((8059, 1519), 847, 849, array([0], dtype=int32))"
      ]
     },
     "execution_count": 25,
     "metadata": {},
     "output_type": "execute_result"
    }
   ],
   "source": [
    "test.shape, test.meid.nunique(), test.labelPurchase.sum(), test.siteId.unique()"
   ]
  },
  {
   "cell_type": "code",
   "execution_count": 26,
   "id": "e9ecf295-6821-4b1e-8e0a-27c7fe5eaf4c",
   "metadata": {},
   "outputs": [
    {
     "data": {
      "text/html": [
       "<div>\n",
       "<style scoped>\n",
       "    .dataframe tbody tr th:only-of-type {\n",
       "        vertical-align: middle;\n",
       "    }\n",
       "\n",
       "    .dataframe tbody tr th {\n",
       "        vertical-align: top;\n",
       "    }\n",
       "\n",
       "    .dataframe thead th {\n",
       "        text-align: right;\n",
       "    }\n",
       "</style>\n",
       "<table border=\"1\" class=\"dataframe\">\n",
       "  <thead>\n",
       "    <tr style=\"text-align: right;\">\n",
       "      <th></th>\n",
       "      <th>f_CoviewCountWnD</th>\n",
       "      <th>f_ConditionGranular</th>\n",
       "      <th>f_SlrRampupTrans8w</th>\n",
       "      <th>f_SearchModel103UserItemAffinity_PredPriceSd</th>\n",
       "      <th>f_SlrImmatureRatioSnad14d</th>\n",
       "      <th>f_ConditionFilterRecoMatchness</th>\n",
       "      <th>f_ColorDistance</th>\n",
       "      <th>f_ItemWatchCountInteractSellerLstgConvNorm</th>\n",
       "      <th>f_SizeDistance</th>\n",
       "      <th>f_UserHotClickCategory3Day</th>\n",
       "      <th>...</th>\n",
       "      <th>f_MaxViewedItemTitleJaccardWithSameCate</th>\n",
       "      <th>f_MeanViewedItemTitleJaccardWithSameCate</th>\n",
       "      <th>f_ItemFastIMAWatchCount7DayDecayDomesticWebAndMobile</th>\n",
       "      <th>f_Seller90DayBBEOverTransactionsLogSmooth</th>\n",
       "      <th>f_ItemIsNew</th>\n",
       "      <th>f_RecallSourceToraUb</th>\n",
       "      <th>f_Seller90DayStockoutOverTransactionsLogSmooth</th>\n",
       "      <th>f_ItemFastIMASaleCount7DayDecayDomesticWebAndMobile</th>\n",
       "      <th>f_ItemSellerFixedPriceViewsOverImp</th>\n",
       "      <th>f_ItemFastIMAViewsOverImp7DayDecayLogSmoothAllWebAndMobileV2</th>\n",
       "    </tr>\n",
       "  </thead>\n",
       "  <tbody>\n",
       "    <tr>\n",
       "      <th>0</th>\n",
       "      <td>0.0</td>\n",
       "      <td>0.0</td>\n",
       "      <td>-1.0</td>\n",
       "      <td>0.0</td>\n",
       "      <td>-1.0</td>\n",
       "      <td>-1.0</td>\n",
       "      <td>-1.0</td>\n",
       "      <td>0.360565</td>\n",
       "      <td>-1.0</td>\n",
       "      <td>-1.0</td>\n",
       "      <td>...</td>\n",
       "      <td>NaN</td>\n",
       "      <td>NaN</td>\n",
       "      <td>NaN</td>\n",
       "      <td>NaN</td>\n",
       "      <td>NaN</td>\n",
       "      <td>NaN</td>\n",
       "      <td>NaN</td>\n",
       "      <td>NaN</td>\n",
       "      <td>NaN</td>\n",
       "      <td>NaN</td>\n",
       "    </tr>\n",
       "    <tr>\n",
       "      <th>1</th>\n",
       "      <td>0.0</td>\n",
       "      <td>0.0</td>\n",
       "      <td>-1.0</td>\n",
       "      <td>0.0</td>\n",
       "      <td>-1.0</td>\n",
       "      <td>-1.0</td>\n",
       "      <td>-1.0</td>\n",
       "      <td>0.212199</td>\n",
       "      <td>-1.0</td>\n",
       "      <td>-1.0</td>\n",
       "      <td>...</td>\n",
       "      <td>NaN</td>\n",
       "      <td>NaN</td>\n",
       "      <td>NaN</td>\n",
       "      <td>NaN</td>\n",
       "      <td>NaN</td>\n",
       "      <td>NaN</td>\n",
       "      <td>NaN</td>\n",
       "      <td>NaN</td>\n",
       "      <td>NaN</td>\n",
       "      <td>NaN</td>\n",
       "    </tr>\n",
       "  </tbody>\n",
       "</table>\n",
       "<p>2 rows × 1519 columns</p>\n",
       "</div>"
      ],
      "text/plain": [
       "   f_CoviewCountWnD  f_ConditionGranular  f_SlrRampupTrans8w  \\\n",
       "0               0.0                  0.0                -1.0   \n",
       "1               0.0                  0.0                -1.0   \n",
       "\n",
       "   f_SearchModel103UserItemAffinity_PredPriceSd  f_SlrImmatureRatioSnad14d  \\\n",
       "0                                           0.0                       -1.0   \n",
       "1                                           0.0                       -1.0   \n",
       "\n",
       "   f_ConditionFilterRecoMatchness  f_ColorDistance  \\\n",
       "0                            -1.0             -1.0   \n",
       "1                            -1.0             -1.0   \n",
       "\n",
       "   f_ItemWatchCountInteractSellerLstgConvNorm  f_SizeDistance  \\\n",
       "0                                    0.360565            -1.0   \n",
       "1                                    0.212199            -1.0   \n",
       "\n",
       "   f_UserHotClickCategory3Day  ...  f_MaxViewedItemTitleJaccardWithSameCate  \\\n",
       "0                        -1.0  ...                                      NaN   \n",
       "1                        -1.0  ...                                      NaN   \n",
       "\n",
       "   f_MeanViewedItemTitleJaccardWithSameCate  \\\n",
       "0                                       NaN   \n",
       "1                                       NaN   \n",
       "\n",
       "   f_ItemFastIMAWatchCount7DayDecayDomesticWebAndMobile  \\\n",
       "0                                                NaN      \n",
       "1                                                NaN      \n",
       "\n",
       "   f_Seller90DayBBEOverTransactionsLogSmooth  f_ItemIsNew  \\\n",
       "0                                        NaN          NaN   \n",
       "1                                        NaN          NaN   \n",
       "\n",
       "   f_RecallSourceToraUb  f_Seller90DayStockoutOverTransactionsLogSmooth  \\\n",
       "0                   NaN                                             NaN   \n",
       "1                   NaN                                             NaN   \n",
       "\n",
       "   f_ItemFastIMASaleCount7DayDecayDomesticWebAndMobile  \\\n",
       "0                                                NaN     \n",
       "1                                                NaN     \n",
       "\n",
       "   f_ItemSellerFixedPriceViewsOverImp  \\\n",
       "0                                 NaN   \n",
       "1                                 NaN   \n",
       "\n",
       "   f_ItemFastIMAViewsOverImp7DayDecayLogSmoothAllWebAndMobileV2  \n",
       "0                                                NaN             \n",
       "1                                                NaN             \n",
       "\n",
       "[2 rows x 1519 columns]"
      ]
     },
     "execution_count": 26,
     "metadata": {},
     "output_type": "execute_result"
    }
   ],
   "source": [
    "df_us.head(2)"
   ]
  },
  {
   "cell_type": "code",
   "execution_count": 27,
   "id": "d90a78df-6f4d-448e-bea2-dedba1ed6faf",
   "metadata": {},
   "outputs": [
    {
     "data": {
      "text/html": [
       "<div>\n",
       "<style scoped>\n",
       "    .dataframe tbody tr th:only-of-type {\n",
       "        vertical-align: middle;\n",
       "    }\n",
       "\n",
       "    .dataframe tbody tr th {\n",
       "        vertical-align: top;\n",
       "    }\n",
       "\n",
       "    .dataframe thead th {\n",
       "        text-align: right;\n",
       "    }\n",
       "</style>\n",
       "<table border=\"1\" class=\"dataframe\">\n",
       "  <thead>\n",
       "    <tr style=\"text-align: right;\">\n",
       "      <th></th>\n",
       "      <th>f_SlrImmatureDaysLastDefect</th>\n",
       "      <th>f_PriceV2</th>\n",
       "      <th>f_IsAuthenticityGuaranteed</th>\n",
       "      <th>f_ItemWatchCount7DayDecayDomesticWebAndMobile</th>\n",
       "      <th>f_CssL3MeanBbeCount</th>\n",
       "      <th>f_IsVariantItem</th>\n",
       "      <th>f_HydraStdWOCat</th>\n",
       "      <th>f_KnnNlpUserItemsRecallSource</th>\n",
       "      <th>f_ItemSoldCountWnD</th>\n",
       "      <th>f_RecoHasEpid</th>\n",
       "      <th>...</th>\n",
       "      <th>f_MaxViewedItemTitleJaccardWithSameCate</th>\n",
       "      <th>f_MeanViewedItemTitleJaccardWithSameCate</th>\n",
       "      <th>f_ItemFastIMAWatchCount7DayDecayDomesticWebAndMobile</th>\n",
       "      <th>f_Seller90DayBBEOverTransactionsLogSmooth</th>\n",
       "      <th>f_ItemIsNew</th>\n",
       "      <th>f_RecallSourceToraUb</th>\n",
       "      <th>f_Seller90DayStockoutOverTransactionsLogSmooth</th>\n",
       "      <th>f_ItemFastIMASaleCount7DayDecayDomesticWebAndMobile</th>\n",
       "      <th>f_ItemSellerFixedPriceViewsOverImp</th>\n",
       "      <th>f_ItemFastIMAViewsOverImp7DayDecayLogSmoothAllWebAndMobileV2</th>\n",
       "    </tr>\n",
       "  </thead>\n",
       "  <tbody>\n",
       "    <tr>\n",
       "      <th>0</th>\n",
       "      <td>-1.0</td>\n",
       "      <td>0.0</td>\n",
       "      <td>0.0</td>\n",
       "      <td>9.65</td>\n",
       "      <td>-1.0</td>\n",
       "      <td>0.0</td>\n",
       "      <td>-3.064059</td>\n",
       "      <td>0.0</td>\n",
       "      <td>0.473520</td>\n",
       "      <td>0.0</td>\n",
       "      <td>...</td>\n",
       "      <td>NaN</td>\n",
       "      <td>NaN</td>\n",
       "      <td>NaN</td>\n",
       "      <td>NaN</td>\n",
       "      <td>NaN</td>\n",
       "      <td>NaN</td>\n",
       "      <td>NaN</td>\n",
       "      <td>NaN</td>\n",
       "      <td>NaN</td>\n",
       "      <td>NaN</td>\n",
       "    </tr>\n",
       "    <tr>\n",
       "      <th>1</th>\n",
       "      <td>-1.0</td>\n",
       "      <td>0.0</td>\n",
       "      <td>0.0</td>\n",
       "      <td>0.00</td>\n",
       "      <td>-1.0</td>\n",
       "      <td>0.0</td>\n",
       "      <td>-3.064059</td>\n",
       "      <td>0.0</td>\n",
       "      <td>0.386298</td>\n",
       "      <td>0.0</td>\n",
       "      <td>...</td>\n",
       "      <td>NaN</td>\n",
       "      <td>NaN</td>\n",
       "      <td>NaN</td>\n",
       "      <td>NaN</td>\n",
       "      <td>NaN</td>\n",
       "      <td>NaN</td>\n",
       "      <td>NaN</td>\n",
       "      <td>NaN</td>\n",
       "      <td>NaN</td>\n",
       "      <td>NaN</td>\n",
       "    </tr>\n",
       "  </tbody>\n",
       "</table>\n",
       "<p>2 rows × 1519 columns</p>\n",
       "</div>"
      ],
      "text/plain": [
       "   f_SlrImmatureDaysLastDefect  f_PriceV2  f_IsAuthenticityGuaranteed  \\\n",
       "0                         -1.0        0.0                         0.0   \n",
       "1                         -1.0        0.0                         0.0   \n",
       "\n",
       "   f_ItemWatchCount7DayDecayDomesticWebAndMobile  f_CssL3MeanBbeCount  \\\n",
       "0                                           9.65                 -1.0   \n",
       "1                                           0.00                 -1.0   \n",
       "\n",
       "   f_IsVariantItem  f_HydraStdWOCat  f_KnnNlpUserItemsRecallSource  \\\n",
       "0              0.0        -3.064059                            0.0   \n",
       "1              0.0        -3.064059                            0.0   \n",
       "\n",
       "   f_ItemSoldCountWnD  f_RecoHasEpid  ...  \\\n",
       "0            0.473520            0.0  ...   \n",
       "1            0.386298            0.0  ...   \n",
       "\n",
       "   f_MaxViewedItemTitleJaccardWithSameCate  \\\n",
       "0                                      NaN   \n",
       "1                                      NaN   \n",
       "\n",
       "   f_MeanViewedItemTitleJaccardWithSameCate  \\\n",
       "0                                       NaN   \n",
       "1                                       NaN   \n",
       "\n",
       "   f_ItemFastIMAWatchCount7DayDecayDomesticWebAndMobile  \\\n",
       "0                                                NaN      \n",
       "1                                                NaN      \n",
       "\n",
       "   f_Seller90DayBBEOverTransactionsLogSmooth  f_ItemIsNew  \\\n",
       "0                                        NaN          NaN   \n",
       "1                                        NaN          NaN   \n",
       "\n",
       "   f_RecallSourceToraUb  f_Seller90DayStockoutOverTransactionsLogSmooth  \\\n",
       "0                   NaN                                             NaN   \n",
       "1                   NaN                                             NaN   \n",
       "\n",
       "   f_ItemFastIMASaleCount7DayDecayDomesticWebAndMobile  \\\n",
       "0                                                NaN     \n",
       "1                                                NaN     \n",
       "\n",
       "   f_ItemSellerFixedPriceViewsOverImp  \\\n",
       "0                                 NaN   \n",
       "1                                 NaN   \n",
       "\n",
       "   f_ItemFastIMAViewsOverImp7DayDecayLogSmoothAllWebAndMobileV2  \n",
       "0                                                NaN             \n",
       "1                                                NaN             \n",
       "\n",
       "[2 rows x 1519 columns]"
      ]
     },
     "execution_count": 27,
     "metadata": {},
     "output_type": "execute_result"
    }
   ],
   "source": [
    "df_hp.head(2)\n"
   ]
  },
  {
   "cell_type": "code",
   "execution_count": 56,
   "id": "e45ffc25-2b8b-4389-a746-3aee6a962875",
   "metadata": {},
   "outputs": [
    {
     "data": {
      "text/plain": [
       "Index(['f_SlrImmatureDaysLastDefect', 'f_PriceV2',\n",
       "       'f_IsAuthenticityGuaranteed',\n",
       "       'f_ItemWatchCount7DayDecayDomesticWebAndMobile', 'f_CssL3MeanBbeCount',\n",
       "       'f_IsVariantItem', 'f_HydraStdWOCat', 'f_KnnNlpUserItemsRecallSource',\n",
       "       'f_ItemSoldCountWnD', 'f_RecoHasEpid',\n",
       "       ...\n",
       "       'f_MaxViewedItemTitleJaccardWithSameCate',\n",
       "       'f_MeanViewedItemTitleJaccardWithSameCate',\n",
       "       'f_ItemFastIMAWatchCount7DayDecayDomesticWebAndMobile',\n",
       "       'f_Seller90DayBBEOverTransactionsLogSmooth', 'f_ItemIsNew',\n",
       "       'f_RecallSourceToraUb',\n",
       "       'f_Seller90DayStockoutOverTransactionsLogSmooth',\n",
       "       'f_ItemFastIMASaleCount7DayDecayDomesticWebAndMobile',\n",
       "       'f_ItemSellerFixedPriceViewsOverImp',\n",
       "       'f_ItemFastIMAViewsOverImp7DayDecayLogSmoothAllWebAndMobileV2'],\n",
       "      dtype='object', length=1519)"
      ]
     },
     "execution_count": 56,
     "metadata": {},
     "output_type": "execute_result"
    }
   ],
   "source": [
    "df_hp.columns"
   ]
  },
  {
   "cell_type": "code",
   "execution_count": 67,
   "id": "d1d8b42b-fd9b-42bb-a68f-14e41c0ce4b5",
   "metadata": {},
   "outputs": [
    {
     "data": {
      "text/plain": [
       "array([b'0.619', b'0.11700', b'0.6000', b'0.11450', b'0.26395', b'0.220',\n",
       "       b'0.1249', b'0.237', b'0.64482', b'0.1', b'0.11116', b'0.15032',\n",
       "       b'0.12576', b'0.11233', b'0.58058', b'0.267', b'0.281', b'0.870',\n",
       "       b'0.1281', b'0.260', b'0.45100', b'0.293', b'0.14339', b'0.888',\n",
       "       b'0.625', b'0.2984', b'0.11232', b'0.20081', b'0.99', b'',\n",
       "       b'0.3252', b'0.172008', b'0.550', b'0.316'], dtype=object)"
      ]
     },
     "execution_count": 67,
     "metadata": {},
     "output_type": "execute_result"
    }
   ],
   "source": [
    "df_hp.l1Cat.unique()"
   ]
  },
  {
   "cell_type": "code",
   "execution_count": 60,
   "id": "edfdec06-25d0-4600-9798-d791098c8a2b",
   "metadata": {},
   "outputs": [
    {
     "data": {
      "text/plain": [
       "array([b'0.11450'], dtype=object)"
      ]
     },
     "execution_count": 60,
     "metadata": {},
     "output_type": "execute_result"
    }
   ],
   "source": [
    "df_us.l1Cat.unique()"
   ]
  },
  {
   "cell_type": "code",
   "execution_count": 69,
   "id": "f77ae47a-4ac1-4797-a970-435b1e84b870",
   "metadata": {},
   "outputs": [
    {
     "data": {
      "text/plain": [
       "0     15709\n",
       "1     15709\n",
       "2     15709\n",
       "3     15709\n",
       "4     15709\n",
       "      ...  \n",
       "31    15709\n",
       "32    15709\n",
       "33    15709\n",
       "34    15709\n",
       "35    15709\n",
       "Name: category, Length: 35134, dtype: object"
      ]
     },
     "execution_count": 69,
     "metadata": {},
     "output_type": "execute_result"
    }
   ],
   "source": [
    "df_us.category"
   ]
  },
  {
   "cell_type": "markdown",
   "id": "a6cebda0-d814-4b4a-b870-1cf8254c5a0c",
   "metadata": {},
   "source": [
    "## Check if hp and sneakers have same columns order and columns and reorder it: "
   ]
  },
  {
   "cell_type": "code",
   "execution_count": 28,
   "id": "5bee3f6c-4140-4cba-b121-5ade38c526ab",
   "metadata": {},
   "outputs": [
    {
     "name": "stdout",
     "output_type": "stream",
     "text": [
      "The data frames have the same columns\n"
     ]
    }
   ],
   "source": [
    "if set(df_hp_sub.columns) == set(df_us.columns):\n",
    "    print(\"The data frames have the same columns\")\n",
    "else:\n",
    "    print(\"The data frames do not have the same columns\")"
   ]
  },
  {
   "cell_type": "code",
   "execution_count": 29,
   "id": "fce3f812-e404-4b16-9bda-c99fba927549",
   "metadata": {},
   "outputs": [
    {
     "data": {
      "text/plain": [
       "(192343, 1519)"
      ]
     },
     "execution_count": 29,
     "metadata": {},
     "output_type": "execute_result"
    }
   ],
   "source": [
    "df_hp_sub.shape"
   ]
  },
  {
   "cell_type": "code",
   "execution_count": 30,
   "id": "13b5f312-6cbf-43b2-8b66-365929ac62b3",
   "metadata": {},
   "outputs": [
    {
     "data": {
      "text/html": [
       "<div>\n",
       "<style scoped>\n",
       "    .dataframe tbody tr th:only-of-type {\n",
       "        vertical-align: middle;\n",
       "    }\n",
       "\n",
       "    .dataframe tbody tr th {\n",
       "        vertical-align: top;\n",
       "    }\n",
       "\n",
       "    .dataframe thead th {\n",
       "        text-align: right;\n",
       "    }\n",
       "</style>\n",
       "<table border=\"1\" class=\"dataframe\">\n",
       "  <thead>\n",
       "    <tr style=\"text-align: right;\">\n",
       "      <th></th>\n",
       "      <th>f_CoviewCountWnD</th>\n",
       "      <th>f_ConditionGranular</th>\n",
       "      <th>f_SlrRampupTrans8w</th>\n",
       "      <th>f_SearchModel103UserItemAffinity_PredPriceSd</th>\n",
       "      <th>f_SlrImmatureRatioSnad14d</th>\n",
       "      <th>f_ConditionFilterRecoMatchness</th>\n",
       "      <th>f_ColorDistance</th>\n",
       "      <th>f_ItemWatchCountInteractSellerLstgConvNorm</th>\n",
       "      <th>f_SizeDistance</th>\n",
       "      <th>f_UserHotClickCategory3Day</th>\n",
       "      <th>...</th>\n",
       "      <th>f_MaxViewedItemTitleJaccardWithSameCate</th>\n",
       "      <th>f_MeanViewedItemTitleJaccardWithSameCate</th>\n",
       "      <th>f_ItemFastIMAWatchCount7DayDecayDomesticWebAndMobile</th>\n",
       "      <th>f_Seller90DayBBEOverTransactionsLogSmooth</th>\n",
       "      <th>f_ItemIsNew</th>\n",
       "      <th>f_RecallSourceToraUb</th>\n",
       "      <th>f_Seller90DayStockoutOverTransactionsLogSmooth</th>\n",
       "      <th>f_ItemFastIMASaleCount7DayDecayDomesticWebAndMobile</th>\n",
       "      <th>f_ItemSellerFixedPriceViewsOverImp</th>\n",
       "      <th>f_ItemFastIMAViewsOverImp7DayDecayLogSmoothAllWebAndMobileV2</th>\n",
       "    </tr>\n",
       "  </thead>\n",
       "  <tbody>\n",
       "    <tr>\n",
       "      <th>0</th>\n",
       "      <td>0.0</td>\n",
       "      <td>0.0</td>\n",
       "      <td>-1.0</td>\n",
       "      <td>0.0</td>\n",
       "      <td>-1.0</td>\n",
       "      <td>-1.0</td>\n",
       "      <td>-1.0</td>\n",
       "      <td>0.360565</td>\n",
       "      <td>-1.0</td>\n",
       "      <td>-1.0</td>\n",
       "      <td>...</td>\n",
       "      <td>NaN</td>\n",
       "      <td>NaN</td>\n",
       "      <td>NaN</td>\n",
       "      <td>NaN</td>\n",
       "      <td>NaN</td>\n",
       "      <td>NaN</td>\n",
       "      <td>NaN</td>\n",
       "      <td>NaN</td>\n",
       "      <td>NaN</td>\n",
       "      <td>NaN</td>\n",
       "    </tr>\n",
       "    <tr>\n",
       "      <th>1</th>\n",
       "      <td>0.0</td>\n",
       "      <td>0.0</td>\n",
       "      <td>-1.0</td>\n",
       "      <td>0.0</td>\n",
       "      <td>-1.0</td>\n",
       "      <td>-1.0</td>\n",
       "      <td>-1.0</td>\n",
       "      <td>0.212199</td>\n",
       "      <td>-1.0</td>\n",
       "      <td>-1.0</td>\n",
       "      <td>...</td>\n",
       "      <td>NaN</td>\n",
       "      <td>NaN</td>\n",
       "      <td>NaN</td>\n",
       "      <td>NaN</td>\n",
       "      <td>NaN</td>\n",
       "      <td>NaN</td>\n",
       "      <td>NaN</td>\n",
       "      <td>NaN</td>\n",
       "      <td>NaN</td>\n",
       "      <td>NaN</td>\n",
       "    </tr>\n",
       "  </tbody>\n",
       "</table>\n",
       "<p>2 rows × 1519 columns</p>\n",
       "</div>"
      ],
      "text/plain": [
       "   f_CoviewCountWnD  f_ConditionGranular  f_SlrRampupTrans8w  \\\n",
       "0               0.0                  0.0                -1.0   \n",
       "1               0.0                  0.0                -1.0   \n",
       "\n",
       "   f_SearchModel103UserItemAffinity_PredPriceSd  f_SlrImmatureRatioSnad14d  \\\n",
       "0                                           0.0                       -1.0   \n",
       "1                                           0.0                       -1.0   \n",
       "\n",
       "   f_ConditionFilterRecoMatchness  f_ColorDistance  \\\n",
       "0                            -1.0             -1.0   \n",
       "1                            -1.0             -1.0   \n",
       "\n",
       "   f_ItemWatchCountInteractSellerLstgConvNorm  f_SizeDistance  \\\n",
       "0                                    0.360565            -1.0   \n",
       "1                                    0.212199            -1.0   \n",
       "\n",
       "   f_UserHotClickCategory3Day  ...  f_MaxViewedItemTitleJaccardWithSameCate  \\\n",
       "0                        -1.0  ...                                      NaN   \n",
       "1                        -1.0  ...                                      NaN   \n",
       "\n",
       "   f_MeanViewedItemTitleJaccardWithSameCate  \\\n",
       "0                                       NaN   \n",
       "1                                       NaN   \n",
       "\n",
       "   f_ItemFastIMAWatchCount7DayDecayDomesticWebAndMobile  \\\n",
       "0                                                NaN      \n",
       "1                                                NaN      \n",
       "\n",
       "   f_Seller90DayBBEOverTransactionsLogSmooth  f_ItemIsNew  \\\n",
       "0                                        NaN          NaN   \n",
       "1                                        NaN          NaN   \n",
       "\n",
       "   f_RecallSourceToraUb  f_Seller90DayStockoutOverTransactionsLogSmooth  \\\n",
       "0                   NaN                                             NaN   \n",
       "1                   NaN                                             NaN   \n",
       "\n",
       "   f_ItemFastIMASaleCount7DayDecayDomesticWebAndMobile  \\\n",
       "0                                                NaN     \n",
       "1                                                NaN     \n",
       "\n",
       "   f_ItemSellerFixedPriceViewsOverImp  \\\n",
       "0                                 NaN   \n",
       "1                                 NaN   \n",
       "\n",
       "   f_ItemFastIMAViewsOverImp7DayDecayLogSmoothAllWebAndMobileV2  \n",
       "0                                                NaN             \n",
       "1                                                NaN             \n",
       "\n",
       "[2 rows x 1519 columns]"
      ]
     },
     "execution_count": 30,
     "metadata": {},
     "output_type": "execute_result"
    }
   ],
   "source": [
    "df_us.head(2)"
   ]
  },
  {
   "cell_type": "code",
   "execution_count": 31,
   "id": "7854a68d-0ef2-43e2-b997-601473939ad4",
   "metadata": {},
   "outputs": [],
   "source": [
    "df_hp_sub = df_hp_sub.reindex(columns=df_us.columns)"
   ]
  },
  {
   "cell_type": "code",
   "execution_count": 32,
   "id": "f6353feb-5a0a-4d4f-882c-945c645491ec",
   "metadata": {},
   "outputs": [
    {
     "data": {
      "text/html": [
       "<div>\n",
       "<style scoped>\n",
       "    .dataframe tbody tr th:only-of-type {\n",
       "        vertical-align: middle;\n",
       "    }\n",
       "\n",
       "    .dataframe tbody tr th {\n",
       "        vertical-align: top;\n",
       "    }\n",
       "\n",
       "    .dataframe thead th {\n",
       "        text-align: right;\n",
       "    }\n",
       "</style>\n",
       "<table border=\"1\" class=\"dataframe\">\n",
       "  <thead>\n",
       "    <tr style=\"text-align: right;\">\n",
       "      <th></th>\n",
       "      <th>f_CoviewCountWnD</th>\n",
       "      <th>f_ConditionGranular</th>\n",
       "      <th>f_SlrRampupTrans8w</th>\n",
       "      <th>f_SearchModel103UserItemAffinity_PredPriceSd</th>\n",
       "      <th>f_SlrImmatureRatioSnad14d</th>\n",
       "      <th>f_ConditionFilterRecoMatchness</th>\n",
       "      <th>f_ColorDistance</th>\n",
       "      <th>f_ItemWatchCountInteractSellerLstgConvNorm</th>\n",
       "      <th>f_SizeDistance</th>\n",
       "      <th>f_UserHotClickCategory3Day</th>\n",
       "      <th>...</th>\n",
       "      <th>f_MaxViewedItemTitleJaccardWithSameCate</th>\n",
       "      <th>f_MeanViewedItemTitleJaccardWithSameCate</th>\n",
       "      <th>f_ItemFastIMAWatchCount7DayDecayDomesticWebAndMobile</th>\n",
       "      <th>f_Seller90DayBBEOverTransactionsLogSmooth</th>\n",
       "      <th>f_ItemIsNew</th>\n",
       "      <th>f_RecallSourceToraUb</th>\n",
       "      <th>f_Seller90DayStockoutOverTransactionsLogSmooth</th>\n",
       "      <th>f_ItemFastIMASaleCount7DayDecayDomesticWebAndMobile</th>\n",
       "      <th>f_ItemSellerFixedPriceViewsOverImp</th>\n",
       "      <th>f_ItemFastIMAViewsOverImp7DayDecayLogSmoothAllWebAndMobileV2</th>\n",
       "    </tr>\n",
       "  </thead>\n",
       "  <tbody>\n",
       "    <tr>\n",
       "      <th>0</th>\n",
       "      <td>0.0</td>\n",
       "      <td>0.0</td>\n",
       "      <td>-1.0</td>\n",
       "      <td>0.0</td>\n",
       "      <td>-1.0</td>\n",
       "      <td>-1.0</td>\n",
       "      <td>-1.0</td>\n",
       "      <td>0.190607</td>\n",
       "      <td>-1.0</td>\n",
       "      <td>-1.0</td>\n",
       "      <td>...</td>\n",
       "      <td>-1.0</td>\n",
       "      <td>-1.0</td>\n",
       "      <td>1.697867</td>\n",
       "      <td>-5.071487</td>\n",
       "      <td>1.0</td>\n",
       "      <td>0.0</td>\n",
       "      <td>-13.468362</td>\n",
       "      <td>0.0</td>\n",
       "      <td>0.001376</td>\n",
       "      <td>-3.532466</td>\n",
       "    </tr>\n",
       "    <tr>\n",
       "      <th>1</th>\n",
       "      <td>0.0</td>\n",
       "      <td>0.0</td>\n",
       "      <td>-1.0</td>\n",
       "      <td>0.0</td>\n",
       "      <td>-1.0</td>\n",
       "      <td>-1.0</td>\n",
       "      <td>-1.0</td>\n",
       "      <td>0.130109</td>\n",
       "      <td>-1.0</td>\n",
       "      <td>-1.0</td>\n",
       "      <td>...</td>\n",
       "      <td>-1.0</td>\n",
       "      <td>-1.0</td>\n",
       "      <td>0.000000</td>\n",
       "      <td>-5.071487</td>\n",
       "      <td>1.0</td>\n",
       "      <td>0.0</td>\n",
       "      <td>-13.468362</td>\n",
       "      <td>0.0</td>\n",
       "      <td>0.001376</td>\n",
       "      <td>-3.184154</td>\n",
       "    </tr>\n",
       "  </tbody>\n",
       "</table>\n",
       "<p>2 rows × 1519 columns</p>\n",
       "</div>"
      ],
      "text/plain": [
       "   f_CoviewCountWnD  f_ConditionGranular  f_SlrRampupTrans8w  \\\n",
       "0               0.0                  0.0                -1.0   \n",
       "1               0.0                  0.0                -1.0   \n",
       "\n",
       "   f_SearchModel103UserItemAffinity_PredPriceSd  f_SlrImmatureRatioSnad14d  \\\n",
       "0                                           0.0                       -1.0   \n",
       "1                                           0.0                       -1.0   \n",
       "\n",
       "   f_ConditionFilterRecoMatchness  f_ColorDistance  \\\n",
       "0                            -1.0             -1.0   \n",
       "1                            -1.0             -1.0   \n",
       "\n",
       "   f_ItemWatchCountInteractSellerLstgConvNorm  f_SizeDistance  \\\n",
       "0                                    0.190607            -1.0   \n",
       "1                                    0.130109            -1.0   \n",
       "\n",
       "   f_UserHotClickCategory3Day  ...  f_MaxViewedItemTitleJaccardWithSameCate  \\\n",
       "0                        -1.0  ...                                     -1.0   \n",
       "1                        -1.0  ...                                     -1.0   \n",
       "\n",
       "   f_MeanViewedItemTitleJaccardWithSameCate  \\\n",
       "0                                      -1.0   \n",
       "1                                      -1.0   \n",
       "\n",
       "   f_ItemFastIMAWatchCount7DayDecayDomesticWebAndMobile  \\\n",
       "0                                           1.697867      \n",
       "1                                           0.000000      \n",
       "\n",
       "   f_Seller90DayBBEOverTransactionsLogSmooth  f_ItemIsNew  \\\n",
       "0                                  -5.071487          1.0   \n",
       "1                                  -5.071487          1.0   \n",
       "\n",
       "   f_RecallSourceToraUb  f_Seller90DayStockoutOverTransactionsLogSmooth  \\\n",
       "0                   0.0                                      -13.468362   \n",
       "1                   0.0                                      -13.468362   \n",
       "\n",
       "   f_ItemFastIMASaleCount7DayDecayDomesticWebAndMobile  \\\n",
       "0                                                0.0     \n",
       "1                                                0.0     \n",
       "\n",
       "   f_ItemSellerFixedPriceViewsOverImp  \\\n",
       "0                            0.001376   \n",
       "1                            0.001376   \n",
       "\n",
       "   f_ItemFastIMAViewsOverImp7DayDecayLogSmoothAllWebAndMobileV2  \n",
       "0                                          -3.532466             \n",
       "1                                          -3.184154             \n",
       "\n",
       "[2 rows x 1519 columns]"
      ]
     },
     "execution_count": 32,
     "metadata": {},
     "output_type": "execute_result"
    }
   ],
   "source": [
    "df_hp_sub.head(2)"
   ]
  },
  {
   "cell_type": "markdown",
   "id": "a6069bd2-4cda-4c97-9f17-a19f790cfd96",
   "metadata": {},
   "source": [
    "### Examination of hp and sneakers data intersection:"
   ]
  },
  {
   "cell_type": "code",
   "execution_count": 33,
   "id": "6ea078d3-beeb-49b0-b848-5fa584434f5a",
   "metadata": {},
   "outputs": [
    {
     "name": "stdout",
     "output_type": "stream",
     "text": [
      "0       225301575590\n",
      "1       204272259664\n",
      "2       334810585208\n",
      "3       334812223787\n",
      "4       394370293571\n",
      "            ...     \n",
      "4218    325245933912\n",
      "4219    155496715073\n",
      "4220    203649348459\n",
      "4221    134485753700\n",
      "4222    325384031719\n",
      "Name: itemId, Length: 4223, dtype: int64\n"
     ]
    }
   ],
   "source": [
    "import pandas as pd\n",
    "\n",
    "int_df = pd.merge(df_us, df_hp_sub, how ='inner', on =['itemId','meid'])\n",
    "print(int_df['itemId'])"
   ]
  },
  {
   "cell_type": "code",
   "execution_count": 95,
   "id": "b14c6d95-5252-43f5-bfff-e9cbec5ffa67",
   "metadata": {},
   "outputs": [],
   "source": [
    "### calc intersection of HP and sneakers us to remove it."
   ]
  },
  {
   "cell_type": "code",
   "execution_count": 34,
   "id": "073f5e48-2eae-4875-94f7-ef72bea9ce84",
   "metadata": {},
   "outputs": [
    {
     "data": {
      "text/html": [
       "<div>\n",
       "<style scoped>\n",
       "    .dataframe tbody tr th:only-of-type {\n",
       "        vertical-align: middle;\n",
       "    }\n",
       "\n",
       "    .dataframe tbody tr th {\n",
       "        vertical-align: top;\n",
       "    }\n",
       "\n",
       "    .dataframe thead th {\n",
       "        text-align: right;\n",
       "    }\n",
       "</style>\n",
       "<table border=\"1\" class=\"dataframe\">\n",
       "  <thead>\n",
       "    <tr style=\"text-align: right;\">\n",
       "      <th></th>\n",
       "      <th>meid</th>\n",
       "      <th>dt</th>\n",
       "      <th>itemId</th>\n",
       "      <th>category</th>\n",
       "      <th>labelClick</th>\n",
       "    </tr>\n",
       "  </thead>\n",
       "  <tbody>\n",
       "    <tr>\n",
       "      <th>20</th>\n",
       "      <td>1b118e03710b4b94870ef4bbcfdca8ad</td>\n",
       "      <td>2023-04-05</td>\n",
       "      <td>225301575590</td>\n",
       "      <td>b'95672'</td>\n",
       "      <td>1</td>\n",
       "    </tr>\n",
       "  </tbody>\n",
       "</table>\n",
       "</div>"
      ],
      "text/plain": [
       "                                meid          dt        itemId  category  \\\n",
       "20  1b118e03710b4b94870ef4bbcfdca8ad  2023-04-05  225301575590  b'95672'   \n",
       "\n",
       "    labelClick  \n",
       "20           1  "
      ]
     },
     "execution_count": 34,
     "metadata": {},
     "output_type": "execute_result"
    }
   ],
   "source": [
    "df_hp_sub[df_hp_sub.itemId.isin([225301575590 ]) ][['meid', 'dt', 'itemId','category', 'labelClick']]"
   ]
  },
  {
   "cell_type": "code",
   "execution_count": 35,
   "id": "eb69466b-d92d-4375-85fd-3db1226d97fa",
   "metadata": {},
   "outputs": [
    {
     "data": {
      "text/html": [
       "<div>\n",
       "<style scoped>\n",
       "    .dataframe tbody tr th:only-of-type {\n",
       "        vertical-align: middle;\n",
       "    }\n",
       "\n",
       "    .dataframe tbody tr th {\n",
       "        vertical-align: top;\n",
       "    }\n",
       "\n",
       "    .dataframe thead th {\n",
       "        text-align: right;\n",
       "    }\n",
       "</style>\n",
       "<table border=\"1\" class=\"dataframe\">\n",
       "  <thead>\n",
       "    <tr style=\"text-align: right;\">\n",
       "      <th></th>\n",
       "      <th>meid</th>\n",
       "      <th>dt</th>\n",
       "      <th>itemId</th>\n",
       "      <th>category</th>\n",
       "      <th>labelClick</th>\n",
       "    </tr>\n",
       "  </thead>\n",
       "  <tbody>\n",
       "    <tr>\n",
       "      <th>1</th>\n",
       "      <td>2b8bba35dcdb421993e891d167363bb1</td>\n",
       "      <td>2022-12-28</td>\n",
       "      <td>225301575590</td>\n",
       "      <td>95672</td>\n",
       "      <td>0</td>\n",
       "    </tr>\n",
       "    <tr>\n",
       "      <th>0</th>\n",
       "      <td>1b118e03710b4b94870ef4bbcfdca8ad</td>\n",
       "      <td>2023-04-05</td>\n",
       "      <td>225301575590</td>\n",
       "      <td>95672</td>\n",
       "      <td>1</td>\n",
       "    </tr>\n",
       "  </tbody>\n",
       "</table>\n",
       "</div>"
      ],
      "text/plain": [
       "                               meid          dt        itemId category  \\\n",
       "1  2b8bba35dcdb421993e891d167363bb1  2022-12-28  225301575590    95672   \n",
       "0  1b118e03710b4b94870ef4bbcfdca8ad  2023-04-05  225301575590    95672   \n",
       "\n",
       "   labelClick  \n",
       "1           0  \n",
       "0           1  "
      ]
     },
     "execution_count": 35,
     "metadata": {},
     "output_type": "execute_result"
    }
   ],
   "source": [
    "df_us[df_us.itemId.isin([225301575590]) ][['meid', 'dt', 'itemId','category','labelClick']]"
   ]
  },
  {
   "cell_type": "code",
   "execution_count": 36,
   "id": "99f44798-db6d-41f1-8b11-886e7828937f",
   "metadata": {},
   "outputs": [
    {
     "name": "stdout",
     "output_type": "stream",
     "text": [
      "All have the same columns\n"
     ]
    }
   ],
   "source": [
    "if all([set(df_us.columns) == set(df_hp_sub.columns)]):\n",
    "    print('All have the same columns')\n",
    "else:\n",
    "    print('Some have different columns')"
   ]
  },
  {
   "cell_type": "code",
   "execution_count": null,
   "id": "a746ff64-9740-4892-a3c5-c0aa056d986a",
   "metadata": {},
   "outputs": [],
   "source": [
    "s = pd.groupby(\"siteId\")['siteId'].count().to_frame()\n",
    "s.rename(columns={\"siteId\": \"num_values\"}, inplace=True)\n",
    "s['%']=s['num_values']/s['num_values'].sum()*100\n",
    "s['unique_values']=pd.groupby(\"siteId\")['f_SizeMedianDiffMaxMinTh1EvidenceTh4'].unique()\n",
    "s"
   ]
  },
  {
   "cell_type": "code",
   "execution_count": null,
   "id": "35d6217c-5590-459a-acde-8729648ff5e4",
   "metadata": {},
   "outputs": [],
   "source": [
    "pd['siteId'].unique()"
   ]
  },
  {
   "cell_type": "code",
   "execution_count": null,
   "id": "3468e9b1-b5d2-4325-8711-3262f4acd208",
   "metadata": {},
   "outputs": [],
   "source": [
    "pd[pd['siteId']==3]['f_SizeMedianDiffMaxMinTh1EvidenceTh4'].unique()"
   ]
  },
  {
   "cell_type": "markdown",
   "id": "11306063-38cc-439d-8978-b211818014b3",
   "metadata": {
    "tags": []
   },
   "source": [
    "### 3.Train on US  sneakes only:"
   ]
  },
  {
   "cell_type": "code",
   "execution_count": 37,
   "id": "d51896ea-42a9-4f6b-a58b-2fd65181b389",
   "metadata": {},
   "outputs": [
    {
     "data": {
      "text/plain": [
       "(9097, 9134, (86793, 1519))"
      ]
     },
     "execution_count": 37,
     "metadata": {},
     "output_type": "execute_result"
    }
   ],
   "source": [
    "df_us.meid.nunique(), df_us.labelPurchase.sum() , df_us.shape\n"
   ]
  },
  {
   "cell_type": "code",
   "execution_count": 38,
   "id": "56189fa3-2dc8-4232-acc3-0825b069b983",
   "metadata": {},
   "outputs": [
    {
     "data": {
      "text/plain": [
       "(19961, 20244, (192343, 1519))"
      ]
     },
     "execution_count": 38,
     "metadata": {},
     "output_type": "execute_result"
    }
   ],
   "source": [
    "\n",
    "df_hp_sub.meid.nunique(), df_hp_sub.labelPurchase.sum(),df_hp_sub.shape"
   ]
  },
  {
   "cell_type": "code",
   "execution_count": 40,
   "id": "c485927b-78de-4460-8470-a2d0f999520a",
   "metadata": {},
   "outputs": [
    {
     "data": {
      "text/plain": [
       "274913"
      ]
     },
     "execution_count": 40,
     "metadata": {},
     "output_type": "execute_result"
    }
   ],
   "source": [
    "192343+ 86793- 4223"
   ]
  },
  {
   "cell_type": "markdown",
   "id": "1e8222e7-3913-4802-9030-2e64dede8091",
   "metadata": {
    "jp-MarkdownHeadingCollapsed": true,
    "tags": []
   },
   "source": [
    "# 4.Concat HP and sneakers US: "
   ]
  },
  {
   "cell_type": "code",
   "execution_count": 39,
   "id": "959a5480-f268-4e3f-b4b0-c945b50d91d4",
   "metadata": {},
   "outputs": [],
   "source": [
    "pdf=pd.concat([df_us,df_hp_sub]).sort_values(['meid','itemId']).\\\n",
    "drop_duplicates(['meid','itemId']).reset_index(drop=True)"
   ]
  },
  {
   "cell_type": "code",
   "execution_count": 68,
   "id": "732ecbdc-14b9-4aa6-9e0b-b5e8c667a0cb",
   "metadata": {},
   "outputs": [
    {
     "data": {
      "text/html": [
       "<div>\n",
       "<style scoped>\n",
       "    .dataframe tbody tr th:only-of-type {\n",
       "        vertical-align: middle;\n",
       "    }\n",
       "\n",
       "    .dataframe tbody tr th {\n",
       "        vertical-align: top;\n",
       "    }\n",
       "\n",
       "    .dataframe thead th {\n",
       "        text-align: right;\n",
       "    }\n",
       "</style>\n",
       "<table border=\"1\" class=\"dataframe\">\n",
       "  <thead>\n",
       "    <tr style=\"text-align: right;\">\n",
       "      <th></th>\n",
       "      <th>f_CoviewCountWnD</th>\n",
       "      <th>f_ConditionGranular</th>\n",
       "      <th>f_SlrRampupTrans8w</th>\n",
       "      <th>f_SearchModel103UserItemAffinity_PredPriceSd</th>\n",
       "      <th>f_SlrImmatureRatioSnad14d</th>\n",
       "      <th>f_ConditionFilterRecoMatchness</th>\n",
       "      <th>f_ColorDistance</th>\n",
       "      <th>f_ItemWatchCountInteractSellerLstgConvNorm</th>\n",
       "      <th>f_SizeDistance</th>\n",
       "      <th>f_UserHotClickCategory3Day</th>\n",
       "      <th>...</th>\n",
       "      <th>f_MaxViewedItemTitleJaccardWithSameCate</th>\n",
       "      <th>f_MeanViewedItemTitleJaccardWithSameCate</th>\n",
       "      <th>f_ItemFastIMAWatchCount7DayDecayDomesticWebAndMobile</th>\n",
       "      <th>f_Seller90DayBBEOverTransactionsLogSmooth</th>\n",
       "      <th>f_ItemIsNew</th>\n",
       "      <th>f_RecallSourceToraUb</th>\n",
       "      <th>f_Seller90DayStockoutOverTransactionsLogSmooth</th>\n",
       "      <th>f_ItemFastIMASaleCount7DayDecayDomesticWebAndMobile</th>\n",
       "      <th>f_ItemSellerFixedPriceViewsOverImp</th>\n",
       "      <th>f_ItemFastIMAViewsOverImp7DayDecayLogSmoothAllWebAndMobileV2</th>\n",
       "    </tr>\n",
       "  </thead>\n",
       "  <tbody>\n",
       "    <tr>\n",
       "      <th>0</th>\n",
       "      <td>0.0</td>\n",
       "      <td>0.0</td>\n",
       "      <td>-1.0</td>\n",
       "      <td>0.0</td>\n",
       "      <td>-1.0</td>\n",
       "      <td>-1.0</td>\n",
       "      <td>-1.0</td>\n",
       "      <td>0.082090</td>\n",
       "      <td>-1.0</td>\n",
       "      <td>-1.0</td>\n",
       "      <td>...</td>\n",
       "      <td>-1.0</td>\n",
       "      <td>-1.0</td>\n",
       "      <td>0.948168</td>\n",
       "      <td>-3.922363</td>\n",
       "      <td>1.0</td>\n",
       "      <td>0.0</td>\n",
       "      <td>-5.282352</td>\n",
       "      <td>0.477519</td>\n",
       "      <td>0.001958</td>\n",
       "      <td>-4.158981</td>\n",
       "    </tr>\n",
       "    <tr>\n",
       "      <th>1</th>\n",
       "      <td>0.0</td>\n",
       "      <td>0.0</td>\n",
       "      <td>-1.0</td>\n",
       "      <td>0.0</td>\n",
       "      <td>-1.0</td>\n",
       "      <td>-1.0</td>\n",
       "      <td>-1.0</td>\n",
       "      <td>0.354786</td>\n",
       "      <td>-1.0</td>\n",
       "      <td>-1.0</td>\n",
       "      <td>...</td>\n",
       "      <td>-1.0</td>\n",
       "      <td>-1.0</td>\n",
       "      <td>4.927349</td>\n",
       "      <td>-3.868783</td>\n",
       "      <td>1.0</td>\n",
       "      <td>0.0</td>\n",
       "      <td>-5.276208</td>\n",
       "      <td>16.359272</td>\n",
       "      <td>0.003094</td>\n",
       "      <td>-3.122868</td>\n",
       "    </tr>\n",
       "    <tr>\n",
       "      <th>2</th>\n",
       "      <td>0.0</td>\n",
       "      <td>0.0</td>\n",
       "      <td>-1.0</td>\n",
       "      <td>0.0</td>\n",
       "      <td>-1.0</td>\n",
       "      <td>-1.0</td>\n",
       "      <td>-1.0</td>\n",
       "      <td>0.335539</td>\n",
       "      <td>-1.0</td>\n",
       "      <td>-1.0</td>\n",
       "      <td>...</td>\n",
       "      <td>-1.0</td>\n",
       "      <td>-1.0</td>\n",
       "      <td>1.270526</td>\n",
       "      <td>-5.294393</td>\n",
       "      <td>1.0</td>\n",
       "      <td>0.0</td>\n",
       "      <td>-7.816494</td>\n",
       "      <td>1.684873</td>\n",
       "      <td>0.007407</td>\n",
       "      <td>-4.499829</td>\n",
       "    </tr>\n",
       "    <tr>\n",
       "      <th>3</th>\n",
       "      <td>0.0</td>\n",
       "      <td>0.0</td>\n",
       "      <td>-1.0</td>\n",
       "      <td>0.0</td>\n",
       "      <td>-1.0</td>\n",
       "      <td>-1.0</td>\n",
       "      <td>-1.0</td>\n",
       "      <td>0.272697</td>\n",
       "      <td>-1.0</td>\n",
       "      <td>-1.0</td>\n",
       "      <td>...</td>\n",
       "      <td>-1.0</td>\n",
       "      <td>-1.0</td>\n",
       "      <td>3.055060</td>\n",
       "      <td>-3.868783</td>\n",
       "      <td>1.0</td>\n",
       "      <td>0.0</td>\n",
       "      <td>-5.276208</td>\n",
       "      <td>14.233041</td>\n",
       "      <td>0.003094</td>\n",
       "      <td>-2.955543</td>\n",
       "    </tr>\n",
       "    <tr>\n",
       "      <th>4</th>\n",
       "      <td>0.0</td>\n",
       "      <td>0.0</td>\n",
       "      <td>-1.0</td>\n",
       "      <td>0.0</td>\n",
       "      <td>-1.0</td>\n",
       "      <td>-1.0</td>\n",
       "      <td>-1.0</td>\n",
       "      <td>0.272697</td>\n",
       "      <td>-1.0</td>\n",
       "      <td>-1.0</td>\n",
       "      <td>...</td>\n",
       "      <td>-1.0</td>\n",
       "      <td>-1.0</td>\n",
       "      <td>2.006639</td>\n",
       "      <td>-5.005934</td>\n",
       "      <td>1.0</td>\n",
       "      <td>0.0</td>\n",
       "      <td>-9.373088</td>\n",
       "      <td>6.951083</td>\n",
       "      <td>0.002555</td>\n",
       "      <td>-3.917584</td>\n",
       "    </tr>\n",
       "    <tr>\n",
       "      <th>5</th>\n",
       "      <td>0.0</td>\n",
       "      <td>0.0</td>\n",
       "      <td>-1.0</td>\n",
       "      <td>0.0</td>\n",
       "      <td>-1.0</td>\n",
       "      <td>-1.0</td>\n",
       "      <td>-1.0</td>\n",
       "      <td>0.328359</td>\n",
       "      <td>-1.0</td>\n",
       "      <td>-1.0</td>\n",
       "      <td>...</td>\n",
       "      <td>-1.0</td>\n",
       "      <td>-1.0</td>\n",
       "      <td>4.301292</td>\n",
       "      <td>-3.708095</td>\n",
       "      <td>1.0</td>\n",
       "      <td>0.0</td>\n",
       "      <td>-4.978708</td>\n",
       "      <td>7.471943</td>\n",
       "      <td>0.004089</td>\n",
       "      <td>-3.611195</td>\n",
       "    </tr>\n",
       "    <tr>\n",
       "      <th>6</th>\n",
       "      <td>0.0</td>\n",
       "      <td>0.0</td>\n",
       "      <td>-1.0</td>\n",
       "      <td>0.0</td>\n",
       "      <td>-1.0</td>\n",
       "      <td>-1.0</td>\n",
       "      <td>-1.0</td>\n",
       "      <td>0.130109</td>\n",
       "      <td>-1.0</td>\n",
       "      <td>-1.0</td>\n",
       "      <td>...</td>\n",
       "      <td>-1.0</td>\n",
       "      <td>-1.0</td>\n",
       "      <td>0.957409</td>\n",
       "      <td>-4.626245</td>\n",
       "      <td>1.0</td>\n",
       "      <td>0.0</td>\n",
       "      <td>-4.332437</td>\n",
       "      <td>0.000000</td>\n",
       "      <td>0.002462</td>\n",
       "      <td>-4.539145</td>\n",
       "    </tr>\n",
       "    <tr>\n",
       "      <th>7</th>\n",
       "      <td>0.0</td>\n",
       "      <td>0.0</td>\n",
       "      <td>-1.0</td>\n",
       "      <td>0.0</td>\n",
       "      <td>-1.0</td>\n",
       "      <td>-1.0</td>\n",
       "      <td>-1.0</td>\n",
       "      <td>0.246270</td>\n",
       "      <td>-1.0</td>\n",
       "      <td>-1.0</td>\n",
       "      <td>...</td>\n",
       "      <td>-1.0</td>\n",
       "      <td>-1.0</td>\n",
       "      <td>0.571211</td>\n",
       "      <td>-3.416162</td>\n",
       "      <td>1.0</td>\n",
       "      <td>0.0</td>\n",
       "      <td>-5.713809</td>\n",
       "      <td>12.828444</td>\n",
       "      <td>0.004220</td>\n",
       "      <td>-4.564827</td>\n",
       "    </tr>\n",
       "    <tr>\n",
       "      <th>8</th>\n",
       "      <td>0.0</td>\n",
       "      <td>0.0</td>\n",
       "      <td>-1.0</td>\n",
       "      <td>0.0</td>\n",
       "      <td>-1.0</td>\n",
       "      <td>-1.0</td>\n",
       "      <td>-1.0</td>\n",
       "      <td>0.272697</td>\n",
       "      <td>-1.0</td>\n",
       "      <td>-1.0</td>\n",
       "      <td>...</td>\n",
       "      <td>-1.0</td>\n",
       "      <td>-1.0</td>\n",
       "      <td>1.392515</td>\n",
       "      <td>-4.501021</td>\n",
       "      <td>1.0</td>\n",
       "      <td>0.0</td>\n",
       "      <td>-4.644405</td>\n",
       "      <td>2.214185</td>\n",
       "      <td>0.002581</td>\n",
       "      <td>-3.838308</td>\n",
       "    </tr>\n",
       "    <tr>\n",
       "      <th>9</th>\n",
       "      <td>0.0</td>\n",
       "      <td>0.0</td>\n",
       "      <td>-1.0</td>\n",
       "      <td>0.0</td>\n",
       "      <td>-1.0</td>\n",
       "      <td>-1.0</td>\n",
       "      <td>-1.0</td>\n",
       "      <td>0.000000</td>\n",
       "      <td>-1.0</td>\n",
       "      <td>-1.0</td>\n",
       "      <td>...</td>\n",
       "      <td>-1.0</td>\n",
       "      <td>-1.0</td>\n",
       "      <td>0.021509</td>\n",
       "      <td>-3.566935</td>\n",
       "      <td>1.0</td>\n",
       "      <td>0.0</td>\n",
       "      <td>-5.863200</td>\n",
       "      <td>2.214431</td>\n",
       "      <td>0.003420</td>\n",
       "      <td>-3.851002</td>\n",
       "    </tr>\n",
       "  </tbody>\n",
       "</table>\n",
       "<p>10 rows × 1519 columns</p>\n",
       "</div>"
      ],
      "text/plain": [
       "   f_CoviewCountWnD  f_ConditionGranular  f_SlrRampupTrans8w  \\\n",
       "0               0.0                  0.0                -1.0   \n",
       "1               0.0                  0.0                -1.0   \n",
       "2               0.0                  0.0                -1.0   \n",
       "3               0.0                  0.0                -1.0   \n",
       "4               0.0                  0.0                -1.0   \n",
       "5               0.0                  0.0                -1.0   \n",
       "6               0.0                  0.0                -1.0   \n",
       "7               0.0                  0.0                -1.0   \n",
       "8               0.0                  0.0                -1.0   \n",
       "9               0.0                  0.0                -1.0   \n",
       "\n",
       "   f_SearchModel103UserItemAffinity_PredPriceSd  f_SlrImmatureRatioSnad14d  \\\n",
       "0                                           0.0                       -1.0   \n",
       "1                                           0.0                       -1.0   \n",
       "2                                           0.0                       -1.0   \n",
       "3                                           0.0                       -1.0   \n",
       "4                                           0.0                       -1.0   \n",
       "5                                           0.0                       -1.0   \n",
       "6                                           0.0                       -1.0   \n",
       "7                                           0.0                       -1.0   \n",
       "8                                           0.0                       -1.0   \n",
       "9                                           0.0                       -1.0   \n",
       "\n",
       "   f_ConditionFilterRecoMatchness  f_ColorDistance  \\\n",
       "0                            -1.0             -1.0   \n",
       "1                            -1.0             -1.0   \n",
       "2                            -1.0             -1.0   \n",
       "3                            -1.0             -1.0   \n",
       "4                            -1.0             -1.0   \n",
       "5                            -1.0             -1.0   \n",
       "6                            -1.0             -1.0   \n",
       "7                            -1.0             -1.0   \n",
       "8                            -1.0             -1.0   \n",
       "9                            -1.0             -1.0   \n",
       "\n",
       "   f_ItemWatchCountInteractSellerLstgConvNorm  f_SizeDistance  \\\n",
       "0                                    0.082090            -1.0   \n",
       "1                                    0.354786            -1.0   \n",
       "2                                    0.335539            -1.0   \n",
       "3                                    0.272697            -1.0   \n",
       "4                                    0.272697            -1.0   \n",
       "5                                    0.328359            -1.0   \n",
       "6                                    0.130109            -1.0   \n",
       "7                                    0.246270            -1.0   \n",
       "8                                    0.272697            -1.0   \n",
       "9                                    0.000000            -1.0   \n",
       "\n",
       "   f_UserHotClickCategory3Day  ...  f_MaxViewedItemTitleJaccardWithSameCate  \\\n",
       "0                        -1.0  ...                                     -1.0   \n",
       "1                        -1.0  ...                                     -1.0   \n",
       "2                        -1.0  ...                                     -1.0   \n",
       "3                        -1.0  ...                                     -1.0   \n",
       "4                        -1.0  ...                                     -1.0   \n",
       "5                        -1.0  ...                                     -1.0   \n",
       "6                        -1.0  ...                                     -1.0   \n",
       "7                        -1.0  ...                                     -1.0   \n",
       "8                        -1.0  ...                                     -1.0   \n",
       "9                        -1.0  ...                                     -1.0   \n",
       "\n",
       "   f_MeanViewedItemTitleJaccardWithSameCate  \\\n",
       "0                                      -1.0   \n",
       "1                                      -1.0   \n",
       "2                                      -1.0   \n",
       "3                                      -1.0   \n",
       "4                                      -1.0   \n",
       "5                                      -1.0   \n",
       "6                                      -1.0   \n",
       "7                                      -1.0   \n",
       "8                                      -1.0   \n",
       "9                                      -1.0   \n",
       "\n",
       "   f_ItemFastIMAWatchCount7DayDecayDomesticWebAndMobile  \\\n",
       "0                                              0.948168   \n",
       "1                                              4.927349   \n",
       "2                                              1.270526   \n",
       "3                                              3.055060   \n",
       "4                                              2.006639   \n",
       "5                                              4.301292   \n",
       "6                                              0.957409   \n",
       "7                                              0.571211   \n",
       "8                                              1.392515   \n",
       "9                                              0.021509   \n",
       "\n",
       "   f_Seller90DayBBEOverTransactionsLogSmooth  f_ItemIsNew  \\\n",
       "0                                  -3.922363          1.0   \n",
       "1                                  -3.868783          1.0   \n",
       "2                                  -5.294393          1.0   \n",
       "3                                  -3.868783          1.0   \n",
       "4                                  -5.005934          1.0   \n",
       "5                                  -3.708095          1.0   \n",
       "6                                  -4.626245          1.0   \n",
       "7                                  -3.416162          1.0   \n",
       "8                                  -4.501021          1.0   \n",
       "9                                  -3.566935          1.0   \n",
       "\n",
       "   f_RecallSourceToraUb  f_Seller90DayStockoutOverTransactionsLogSmooth  \\\n",
       "0                   0.0                                       -5.282352   \n",
       "1                   0.0                                       -5.276208   \n",
       "2                   0.0                                       -7.816494   \n",
       "3                   0.0                                       -5.276208   \n",
       "4                   0.0                                       -9.373088   \n",
       "5                   0.0                                       -4.978708   \n",
       "6                   0.0                                       -4.332437   \n",
       "7                   0.0                                       -5.713809   \n",
       "8                   0.0                                       -4.644405   \n",
       "9                   0.0                                       -5.863200   \n",
       "\n",
       "   f_ItemFastIMASaleCount7DayDecayDomesticWebAndMobile  \\\n",
       "0                                             0.477519   \n",
       "1                                            16.359272   \n",
       "2                                             1.684873   \n",
       "3                                            14.233041   \n",
       "4                                             6.951083   \n",
       "5                                             7.471943   \n",
       "6                                             0.000000   \n",
       "7                                            12.828444   \n",
       "8                                             2.214185   \n",
       "9                                             2.214431   \n",
       "\n",
       "   f_ItemSellerFixedPriceViewsOverImp  \\\n",
       "0                            0.001958   \n",
       "1                            0.003094   \n",
       "2                            0.007407   \n",
       "3                            0.003094   \n",
       "4                            0.002555   \n",
       "5                            0.004089   \n",
       "6                            0.002462   \n",
       "7                            0.004220   \n",
       "8                            0.002581   \n",
       "9                            0.003420   \n",
       "\n",
       "   f_ItemFastIMAViewsOverImp7DayDecayLogSmoothAllWebAndMobileV2  \n",
       "0                                                     -4.158981  \n",
       "1                                                     -3.122868  \n",
       "2                                                     -4.499829  \n",
       "3                                                     -2.955543  \n",
       "4                                                     -3.917584  \n",
       "5                                                     -3.611195  \n",
       "6                                                     -4.539145  \n",
       "7                                                     -4.564827  \n",
       "8                                                     -3.838308  \n",
       "9                                                     -3.851002  \n",
       "\n",
       "[10 rows x 1519 columns]"
      ]
     },
     "execution_count": 68,
     "metadata": {},
     "output_type": "execute_result"
    }
   ],
   "source": [
    "df_hp_sub.head(10)"
   ]
  },
  {
   "cell_type": "code",
   "execution_count": 41,
   "id": "1fe2202e-8268-4de5-89a7-154cf7772aea",
   "metadata": {},
   "outputs": [
    {
     "data": {
      "text/plain": [
       "(274884, 1519)"
      ]
     },
     "execution_count": 41,
     "metadata": {},
     "output_type": "execute_result"
    }
   ],
   "source": [
    "pdf.shape"
   ]
  },
  {
   "cell_type": "code",
   "execution_count": 42,
   "id": "d8227fd4-6e00-4e31-8404-29c9d0ea061c",
   "metadata": {},
   "outputs": [
    {
     "data": {
      "text/plain": [
       "(28616, 28933, (274884, 1519))"
      ]
     },
     "execution_count": 42,
     "metadata": {},
     "output_type": "execute_result"
    }
   ],
   "source": [
    "pdf.meid.nunique(), pdf.labelPurchase.sum(),pdf.shape"
   ]
  },
  {
   "cell_type": "code",
   "execution_count": 43,
   "id": "9d00b8e4-8d0e-4d99-8b98-b7be81e1ec35",
   "metadata": {},
   "outputs": [
    {
     "data": {
      "text/html": [
       "<div>\n",
       "<style scoped>\n",
       "    .dataframe tbody tr th:only-of-type {\n",
       "        vertical-align: middle;\n",
       "    }\n",
       "\n",
       "    .dataframe tbody tr th {\n",
       "        vertical-align: top;\n",
       "    }\n",
       "\n",
       "    .dataframe thead th {\n",
       "        text-align: right;\n",
       "    }\n",
       "</style>\n",
       "<table border=\"1\" class=\"dataframe\">\n",
       "  <thead>\n",
       "    <tr style=\"text-align: right;\">\n",
       "      <th></th>\n",
       "      <th>f_CoviewCountWnD</th>\n",
       "      <th>f_ConditionGranular</th>\n",
       "      <th>f_SlrRampupTrans8w</th>\n",
       "      <th>f_SearchModel103UserItemAffinity_PredPriceSd</th>\n",
       "      <th>f_SlrImmatureRatioSnad14d</th>\n",
       "      <th>f_ConditionFilterRecoMatchness</th>\n",
       "      <th>f_ColorDistance</th>\n",
       "      <th>f_ItemWatchCountInteractSellerLstgConvNorm</th>\n",
       "      <th>f_SizeDistance</th>\n",
       "      <th>f_UserHotClickCategory3Day</th>\n",
       "      <th>...</th>\n",
       "      <th>f_MaxViewedItemTitleJaccardWithSameCate</th>\n",
       "      <th>f_MeanViewedItemTitleJaccardWithSameCate</th>\n",
       "      <th>f_ItemFastIMAWatchCount7DayDecayDomesticWebAndMobile</th>\n",
       "      <th>f_Seller90DayBBEOverTransactionsLogSmooth</th>\n",
       "      <th>f_ItemIsNew</th>\n",
       "      <th>f_RecallSourceToraUb</th>\n",
       "      <th>f_Seller90DayStockoutOverTransactionsLogSmooth</th>\n",
       "      <th>f_ItemFastIMASaleCount7DayDecayDomesticWebAndMobile</th>\n",
       "      <th>f_ItemSellerFixedPriceViewsOverImp</th>\n",
       "      <th>f_ItemFastIMAViewsOverImp7DayDecayLogSmoothAllWebAndMobileV2</th>\n",
       "    </tr>\n",
       "  </thead>\n",
       "  <tbody>\n",
       "    <tr>\n",
       "      <th>0</th>\n",
       "      <td>0.0</td>\n",
       "      <td>0.0</td>\n",
       "      <td>-1.0</td>\n",
       "      <td>0.0</td>\n",
       "      <td>-1.0</td>\n",
       "      <td>-1.0</td>\n",
       "      <td>-1.0</td>\n",
       "      <td>0.0</td>\n",
       "      <td>-1.0</td>\n",
       "      <td>-1.0</td>\n",
       "      <td>...</td>\n",
       "      <td>NaN</td>\n",
       "      <td>NaN</td>\n",
       "      <td>NaN</td>\n",
       "      <td>NaN</td>\n",
       "      <td>NaN</td>\n",
       "      <td>NaN</td>\n",
       "      <td>NaN</td>\n",
       "      <td>NaN</td>\n",
       "      <td>NaN</td>\n",
       "      <td>NaN</td>\n",
       "    </tr>\n",
       "  </tbody>\n",
       "</table>\n",
       "<p>1 rows × 1519 columns</p>\n",
       "</div>"
      ],
      "text/plain": [
       "   f_CoviewCountWnD  f_ConditionGranular  f_SlrRampupTrans8w  \\\n",
       "0               0.0                  0.0                -1.0   \n",
       "\n",
       "   f_SearchModel103UserItemAffinity_PredPriceSd  f_SlrImmatureRatioSnad14d  \\\n",
       "0                                           0.0                       -1.0   \n",
       "\n",
       "   f_ConditionFilterRecoMatchness  f_ColorDistance  \\\n",
       "0                            -1.0             -1.0   \n",
       "\n",
       "   f_ItemWatchCountInteractSellerLstgConvNorm  f_SizeDistance  \\\n",
       "0                                         0.0            -1.0   \n",
       "\n",
       "   f_UserHotClickCategory3Day  ...  f_MaxViewedItemTitleJaccardWithSameCate  \\\n",
       "0                        -1.0  ...                                      NaN   \n",
       "\n",
       "   f_MeanViewedItemTitleJaccardWithSameCate  \\\n",
       "0                                       NaN   \n",
       "\n",
       "   f_ItemFastIMAWatchCount7DayDecayDomesticWebAndMobile  \\\n",
       "0                                                NaN      \n",
       "\n",
       "   f_Seller90DayBBEOverTransactionsLogSmooth  f_ItemIsNew  \\\n",
       "0                                        NaN          NaN   \n",
       "\n",
       "   f_RecallSourceToraUb  f_Seller90DayStockoutOverTransactionsLogSmooth  \\\n",
       "0                   NaN                                             NaN   \n",
       "\n",
       "   f_ItemFastIMASaleCount7DayDecayDomesticWebAndMobile  \\\n",
       "0                                                NaN     \n",
       "\n",
       "   f_ItemSellerFixedPriceViewsOverImp  \\\n",
       "0                                 NaN   \n",
       "\n",
       "   f_ItemFastIMAViewsOverImp7DayDecayLogSmoothAllWebAndMobileV2  \n",
       "0                                                NaN             \n",
       "\n",
       "[1 rows x 1519 columns]"
      ]
     },
     "execution_count": 43,
     "metadata": {},
     "output_type": "execute_result"
    }
   ],
   "source": [
    "pdf.head(1)"
   ]
  },
  {
   "cell_type": "markdown",
   "id": "9950adc2-a102-41fc-9791-957cf288850d",
   "metadata": {},
   "source": [
    "### 5.copy df for post manual leakage fix examinations"
   ]
  },
  {
   "cell_type": "code",
   "execution_count": 44,
   "id": "4a0eba6c-74dd-4809-9d64-e704aac469c6",
   "metadata": {},
   "outputs": [],
   "source": [
    "pdf_pre=pdf.copy()"
   ]
  },
  {
   "cell_type": "code",
   "execution_count": 45,
   "id": "28b793de-ac22-4074-ab4e-938b7024731e",
   "metadata": {},
   "outputs": [
    {
     "data": {
      "text/plain": [
       "28616"
      ]
     },
     "execution_count": 45,
     "metadata": {},
     "output_type": "execute_result"
    }
   ],
   "source": [
    "pdf['meid'].nunique()"
   ]
  },
  {
   "cell_type": "code",
   "execution_count": 46,
   "id": "162c1440-57cc-46f1-bb38-94873a6ddb78",
   "metadata": {},
   "outputs": [
    {
     "data": {
      "text/plain": [
       "array([0], dtype=int32)"
      ]
     },
     "execution_count": 46,
     "metadata": {},
     "output_type": "execute_result"
    }
   ],
   "source": [
    "pdf['siteId'].unique()"
   ]
  },
  {
   "cell_type": "code",
   "execution_count": 47,
   "id": "082616aa-162e-4e4e-94ee-441cd5b16bce",
   "metadata": {},
   "outputs": [
    {
     "data": {
      "text/plain": [
       "0    245951\n",
       "1     28933\n",
       "Name: labelPurchase, dtype: int64"
      ]
     },
     "execution_count": 47,
     "metadata": {},
     "output_type": "execute_result"
    }
   ],
   "source": [
    "pdf['labelPurchase'].value_counts()"
   ]
  },
  {
   "cell_type": "code",
   "execution_count": 48,
   "id": "631dbaed-1807-41fc-b72d-6e956dd5e890",
   "metadata": {},
   "outputs": [
    {
     "data": {
      "text/plain": [
       "146"
      ]
     },
     "execution_count": 48,
     "metadata": {},
     "output_type": "execute_result"
    }
   ],
   "source": [
    "pdf['dt'].nunique()"
   ]
  },
  {
   "cell_type": "code",
   "execution_count": 38,
   "id": "88dc6eb8-db0a-4a27-af2a-b5bff6ec9e40",
   "metadata": {},
   "outputs": [],
   "source": []
  },
  {
   "cell_type": "raw",
   "id": "d55484e3-07ec-4ee6-be1d-89019b4003e2",
   "metadata": {},
   "source": []
  },
  {
   "cell_type": "raw",
   "id": "d8c57e47-fb69-46af-9887-fd23c8bc2424",
   "metadata": {},
   "source": [
    "pdf_longer_test.shape"
   ]
  },
  {
   "cell_type": "raw",
   "id": "fa95fe5a-2b47-4d17-a4c3-e2dcdc40d026",
   "metadata": {},
   "source": [
    "purchased_meid = pdf.groupby(\"meid\")[\"labelPurchase\"].sum().to_frame()\\\n",
    ".rename(columns={'labelPurchase': 'sum_purchase'})\n",
    "\n",
    "purchased_meid=purchased_meid[purchased_meid['sum_purchase']>0]\n",
    "purchased_meid.reset_index(inplace=True)\n",
    "purchased_meid.drop_duplicates(subset=['meid'], inplace=True)"
   ]
  },
  {
   "cell_type": "raw",
   "id": "fc671cb1-5157-4149-a603-6d8434e480ba",
   "metadata": {},
   "source": [
    "purchased_meid.shape"
   ]
  },
  {
   "cell_type": "code",
   "execution_count": 50,
   "id": "05eab3ea-992b-4adf-857c-57b29a2f5de8",
   "metadata": {},
   "outputs": [],
   "source": [
    "piyi_v7_features=[\n",
    "                          \"BibowatchRelPosition\",\n",
    "                          \"RecallSourceBullseye\",\n",
    "                          \"RecallSourceTora\",\n",
    "                          \"TitleCosineSimilarityToShoppingcartCentroid\",\n",
    "                          \"FreqSameLeafCatIdInWatchBadge\",\n",
    "                          \"MaxViewedItemTitleJaccardBigrams\",\n",
    "                          \"NumSameRviInLastWeek\",\n",
    "                          \"AvgSameLeafRviPriceRatio\",\n",
    "                          \"ItemSalesOverImpPricePrior7DayDecayLogSmoothDomesticWebAndMobile\",\n",
    "                          \"ItemVariantSalesOverImpressions7DayDecayLogSmoothDomesticWebAndMobileV2\",\n",
    "                          \"MaxViewedItemTitleJaccard\",\n",
    "                          \"ItemTimeOnSiteV2\",\n",
    "                          \"ItemWatchesOverImp7DayDecayLogSmoothDomesticWebAndMobileV2\",\n",
    "                          \"PriceDiffMedianRecall\",\n",
    "                          \"FreqSameItemInWatchBadge\",\n",
    "                          \"RecallSourceBestMatch\",\n",
    "                          \"ItemSalesOverImpPricePrior7DayDecayLogSmoothInternationalWebAndMobileNorm\",\n",
    "                          \"FreqWatchPriceBellowItemPrice\",\n",
    "                          \"MerchImpressionsDecayed\",\n",
    "                          \"PlImpressionsDecayed\",\n",
    "                          \"AvgSameLeafRviPriceDiff\",\n",
    "                          \"ItemSalesOverImpPricePrior7DayDecayLogSmoothDomesticWebAndMobileNorm\",\n",
    "                          \"BullseyeRelRVILeafCatMedianPriceDiffV2\",\n",
    "                          \"BullseyeAbsRVILeafCatMedianPriceDiffV2\",\n",
    "                          \"BullseyeRVILeafCatMedianPriceV2\",\n",
    "                          \"ItemTimeLeftSec\",\n",
    "                          \"ItemTimeOnSiteNorm\",\n",
    "                          \"ItemWatchOverImpLogSmoothAllNorm\",\n",
    "                          \"NormItemViewCount7DayDecayDomesticWebAndMobile\",\n",
    "                          \"ItemVariantWatchOverImpressions7DayDecayLogSmoothDomesticWebAndMobileNorm\",\n",
    "                          \"EpidRelative\",\n",
    "                          \"SellerFeedbackLogNormWnD\",\n",
    "                          \"NSFWScore\"\n",
    "                      ]"
   ]
  },
  {
   "cell_type": "code",
   "execution_count": 51,
   "id": "36349cd1-1a51-4df4-ae39-71727446d96a",
   "metadata": {},
   "outputs": [
    {
     "data": {
      "text/plain": [
       "33"
      ]
     },
     "execution_count": 51,
     "metadata": {},
     "output_type": "execute_result"
    }
   ],
   "source": [
    "len(piyi_v7_features)"
   ]
  },
  {
   "cell_type": "markdown",
   "id": "4732cfc5-9562-4e36-8f57-7f8e1a53a075",
   "metadata": {
    "tags": []
   },
   "source": [
    "# Leakage changes"
   ]
  },
  {
   "cell_type": "markdown",
   "id": "fc7a0eb5-3041-4f44-9caf-5c0a6d343d2b",
   "metadata": {
    "tags": []
   },
   "source": [
    "## wachlist & Shoppingcart changes: "
   ]
  },
  {
   "cell_type": "markdown",
   "id": "8b508293-3971-4a16-8c1f-1a409d79a192",
   "metadata": {
    "tags": []
   },
   "source": [
    "#### f_TitleCosineSimilarityToShoppingcartCentroid==1--> set to -1 ."
   ]
  },
  {
   "cell_type": "raw",
   "id": "181aee0c-9063-4d20-bf9d-c5551106f4d7",
   "metadata": {
    "tags": []
   },
   "source": [
    "###### 2.Exclude TitleCosineSimilarityToShoppingcartCentroid as assosoated with 5% of leakage in purchases, same seed to cart. \n",
    "\n",
    "###### 1.In cases where (pdf.labelAdd2Cart == 1)& (pdf.labelPurchase == 1)and feature f_TitleCosineSimilarityToShoppingcartCentroid==1--> set to -1 ."
   ]
  },
  {
   "cell_type": "raw",
   "id": "e72d29fd-3afd-4257-a3ce-2cc725cc9136",
   "metadata": {},
   "source": [
    "piyi_v7_features.remove(\"TitleCosineSimilarityToShoppingcartCentroid\")"
   ]
  },
  {
   "cell_type": "code",
   "execution_count": null,
   "id": "a8b8c98e-d5ea-4e58-9f18-c454e199bc0c",
   "metadata": {},
   "outputs": [],
   "source": [
    "import matplotlib.pyplot as plt"
   ]
  },
  {
   "cell_type": "code",
   "execution_count": 52,
   "id": "2a43795e-b794-4ea8-ac43-dbb12730004c",
   "metadata": {},
   "outputs": [],
   "source": [
    "pdf.loc[(pdf.labelAdd2Cart == 1)& (pdf.labelPurchase == 1) & (pdf.f_TitleCosineSimilarityToShoppingcartCentroid==1) , 'f_TitleCosineSimilarityToShoppingcartCentroid'] = -1"
   ]
  },
  {
   "cell_type": "code",
   "execution_count": 27,
   "id": "ba6a9e8e-60d8-465d-9970-ab8ff97d2e43",
   "metadata": {},
   "outputs": [
    {
     "data": {
      "text/plain": [
       "Series([], Name: f_TitleCosineSimilarityToShoppingcartCentroid, dtype: int64)"
      ]
     },
     "execution_count": 27,
     "metadata": {},
     "output_type": "execute_result"
    }
   ],
   "source": [
    "pdf[(pdf.labelAdd2Cart == 1)& (pdf.labelPurchase == 1)& (pdf.f_TitleCosineSimilarityToShoppingcartCentroid==1)]['f_TitleCosineSimilarityToShoppingcartCentroid'].value_counts(normalize=False).head(6)"
   ]
  },
  {
   "cell_type": "code",
   "execution_count": 110,
   "id": "858b2334-6416-4c4b-8d29-518024c367e2",
   "metadata": {},
   "outputs": [
    {
     "data": {
      "text/plain": [
       "-1.000000    2152\n",
       " 0.000000     129\n",
       " 0.707107      17\n",
       " 0.866025       8\n",
       " 0.774597       7\n",
       " 0.577350       7\n",
       "Name: f_TitleCosineSimilarityToShoppingcartCentroid, dtype: int64"
      ]
     },
     "execution_count": 110,
     "metadata": {},
     "output_type": "execute_result"
    }
   ],
   "source": [
    "pdf[(pdf.labelAdd2Cart == 1)& (pdf.labelPurchase == 1)]['f_TitleCosineSimilarityToShoppingcartCentroid'].value_counts(normalize=False).head(6)"
   ]
  },
  {
   "cell_type": "code",
   "execution_count": 111,
   "id": "ab238b75-a6c9-4613-8db5-593ca791bf39",
   "metadata": {},
   "outputs": [
    {
     "data": {
      "text/plain": [
       "-1.000000    1271\n",
       " 1.000000     881\n",
       " 0.000000     129\n",
       " 0.707107      17\n",
       " 0.866025       8\n",
       " 0.816497       7\n",
       "Name: f_TitleCosineSimilarityToShoppingcartCentroid, dtype: int64"
      ]
     },
     "execution_count": 111,
     "metadata": {},
     "output_type": "execute_result"
    }
   ],
   "source": [
    "pdf_pre[(pdf_pre.labelAdd2Cart == 1)& (pdf_pre.labelPurchase == 1)]['f_TitleCosineSimilarityToShoppingcartCentroid'].value_counts(normalize=False).head(6)"
   ]
  },
  {
   "cell_type": "code",
   "execution_count": 112,
   "id": "0a61d601-9a6a-49f6-bb42-a203e0970810",
   "metadata": {},
   "outputs": [
    {
     "data": {
      "text/plain": [
       "-1.000000    0.591772\n",
       " 0.000000    0.098452\n",
       " 0.500000    0.000916\n",
       " 0.333333    0.000869\n",
       " 0.288675    0.000822\n",
       " 0.160128    0.000794\n",
       "Name: f_TitleCosineSimilarityToShoppingcartCentroid, dtype: float64"
      ]
     },
     "execution_count": 112,
     "metadata": {},
     "output_type": "execute_result"
    }
   ],
   "source": [
    "pdf_pre[(pdf_pre.labelAdd2Cart == 0)& (pdf_pre.labelPurchase == 0)]['f_TitleCosineSimilarityToShoppingcartCentroid'].value_counts(normalize=True).head(6)"
   ]
  },
  {
   "cell_type": "code",
   "execution_count": 113,
   "id": "5a04d5d0-a391-4393-a236-af73e6d27173",
   "metadata": {},
   "outputs": [
    {
     "data": {
      "text/plain": [
       "-1.000000    0.308077\n",
       " 1.000000    0.213248\n",
       " 0.000000    0.032404\n",
       " 0.707107    0.004051\n",
       " 0.866025    0.001906\n",
       " 0.774597    0.001668\n",
       "Name: f_TitleCosineSimilarityToShoppingcartCentroid, dtype: float64"
      ]
     },
     "execution_count": 113,
     "metadata": {},
     "output_type": "execute_result"
    }
   ],
   "source": [
    "pdf_pre[(pdf_pre.labelAdd2Cart == 1)]['f_TitleCosineSimilarityToShoppingcartCentroid'].value_counts(normalize=True).head(6)"
   ]
  },
  {
   "cell_type": "code",
   "execution_count": 114,
   "id": "3fb83128-9bae-419f-9cac-02e3d0bc1f99",
   "metadata": {},
   "outputs": [
    {
     "data": {
      "text/plain": [
       "-1.000000    0.596371\n",
       " 0.000000    0.098738\n",
       " 1.000000    0.002147\n",
       " 0.500000    0.000876\n",
       " 0.333333    0.000833\n",
       " 0.288675    0.000791\n",
       "Name: f_TitleCosineSimilarityToShoppingcartCentroid, dtype: float64"
      ]
     },
     "execution_count": 114,
     "metadata": {},
     "output_type": "execute_result"
    }
   ],
   "source": [
    "pdf_pre[(pdf_pre.labelAdd2Cart == 0)]['f_TitleCosineSimilarityToShoppingcartCentroid'].value_counts(normalize=True).head(6)"
   ]
  },
  {
   "cell_type": "code",
   "execution_count": 115,
   "id": "2bd2860a-f530-483c-a37e-890a5e436093",
   "metadata": {},
   "outputs": [
    {
     "data": {
      "text/plain": [
       "-1.000000    2174\n",
       " 0.000000     136\n",
       " 0.707107      17\n",
       " 1.000000      14\n",
       " 0.866025       8\n",
       " 0.774597       7\n",
       "Name: f_TitleCosineSimilarityToShoppingcartCentroid, dtype: int64"
      ]
     },
     "execution_count": 115,
     "metadata": {},
     "output_type": "execute_result"
    }
   ],
   "source": [
    "pdf[(pdf.labelAdd2Cart == 1)]['f_TitleCosineSimilarityToShoppingcartCentroid'].value_counts(normalize=False).head(6)"
   ]
  },
  {
   "cell_type": "code",
   "execution_count": 116,
   "id": "b2c3ec16-dddf-4e96-a6ba-71b8ee75a819",
   "metadata": {},
   "outputs": [
    {
     "data": {
      "text/plain": [
       "-1.000000    1293\n",
       " 1.000000     895\n",
       " 0.000000     136\n",
       " 0.707107      17\n",
       " 0.866025       8\n",
       " 0.774597       7\n",
       "Name: f_TitleCosineSimilarityToShoppingcartCentroid, dtype: int64"
      ]
     },
     "execution_count": 116,
     "metadata": {},
     "output_type": "execute_result"
    }
   ],
   "source": [
    "pdf_pre[(pdf_pre.labelAdd2Cart == 1)]['f_TitleCosineSimilarityToShoppingcartCentroid'].value_counts(normalize=False).head(6)"
   ]
  },
  {
   "cell_type": "code",
   "execution_count": 117,
   "id": "7c74cfa0-ca83-4c29-b31e-5e4d2363956d",
   "metadata": {},
   "outputs": [
    {
     "data": {
      "text/plain": [
       "-1.000000    1271\n",
       " 1.000000     881\n",
       " 0.000000     129\n",
       " 0.707107      17\n",
       " 0.866025       8\n",
       " 0.816497       7\n",
       "Name: f_TitleCosineSimilarityToShoppingcartCentroid, dtype: int64"
      ]
     },
     "execution_count": 117,
     "metadata": {},
     "output_type": "execute_result"
    }
   ],
   "source": [
    "pdf_pre[(pdf_pre.labelAdd2Cart == 1)& (pdf_pre.labelPurchase == 1)]['f_TitleCosineSimilarityToShoppingcartCentroid'].value_counts(normalize=False).head(6)"
   ]
  },
  {
   "cell_type": "code",
   "execution_count": 118,
   "id": "2216fe8a-36a7-4512-89c0-16e8ef947ac8",
   "metadata": {},
   "outputs": [
    {
     "data": {
      "text/plain": [
       "-1.000000    140301\n",
       " 0.000000     23229\n",
       " 1.000000       505\n",
       " 0.500000       206\n",
       " 0.333333       196\n",
       " 0.288675       186\n",
       "Name: f_TitleCosineSimilarityToShoppingcartCentroid, dtype: int64"
      ]
     },
     "execution_count": 118,
     "metadata": {},
     "output_type": "execute_result"
    }
   ],
   "source": [
    "pdf_pre[(pdf_pre.labelAdd2Cart == 0)]['f_TitleCosineSimilarityToShoppingcartCentroid'].value_counts(normalize=False).head(6)"
   ]
  },
  {
   "cell_type": "code",
   "execution_count": 119,
   "id": "f61c47c7-8c9f-4b74-a32a-4a965b664bcc",
   "metadata": {},
   "outputs": [
    {
     "data": {
      "text/plain": [
       "-1.000000    0.590720\n",
       " 0.000000    0.090541\n",
       " 1.000000    0.048424\n",
       " 0.707107    0.001071\n",
       " 0.087039    0.000674\n",
       " 0.083333    0.000635\n",
       "Name: f_TitleCosineSimilarityToShoppingcartCentroid, dtype: float64"
      ]
     },
     "execution_count": 119,
     "metadata": {},
     "output_type": "execute_result"
    }
   ],
   "source": [
    "pdf_pre[(pdf_pre.labelPurchase == 1)]['f_TitleCosineSimilarityToShoppingcartCentroid'].value_counts(normalize=True).head(6)"
   ]
  },
  {
   "cell_type": "code",
   "execution_count": 120,
   "id": "dc57ef4b-3cee-4feb-b55e-2c0dafd4aba8",
   "metadata": {},
   "outputs": [
    {
     "data": {
      "text/plain": [
       "-1.000000    0.591388\n",
       " 0.000000    0.098404\n",
       " 0.500000    0.000915\n",
       " 0.333333    0.000868\n",
       " 1.000000    0.000836\n",
       " 0.288675    0.000822\n",
       "Name: f_TitleCosineSimilarityToShoppingcartCentroid, dtype: float64"
      ]
     },
     "execution_count": 120,
     "metadata": {},
     "output_type": "execute_result"
    }
   ],
   "source": [
    "pdf_pre[(pdf_pre.labelPurchase ==0)]['f_TitleCosineSimilarityToShoppingcartCentroid'].value_counts(normalize=True).head(6)"
   ]
  },
  {
   "cell_type": "code",
   "execution_count": 121,
   "id": "74fb307c-9b0c-4acb-92ba-58a337fda819",
   "metadata": {},
   "outputs": [
    {
     "data": {
      "text/plain": [
       "-1.000000    14895\n",
       " 0.000000     2283\n",
       " 1.000000     1221\n",
       " 0.707107       27\n",
       " 0.087039       17\n",
       " 0.083333       16\n",
       "Name: f_TitleCosineSimilarityToShoppingcartCentroid, dtype: int64"
      ]
     },
     "execution_count": 121,
     "metadata": {},
     "output_type": "execute_result"
    }
   ],
   "source": [
    "pdf_pre[(pdf_pre.labelPurchase ==1)]['f_TitleCosineSimilarityToShoppingcartCentroid'].value_counts(normalize=False).head(6)"
   ]
  },
  {
   "cell_type": "code",
   "execution_count": 122,
   "id": "1f08a6fd-deae-4217-bf97-6eb1be141a9e",
   "metadata": {},
   "outputs": [
    {
     "data": {
      "text/plain": [
       "-1.000000    126699\n",
       " 0.000000     21082\n",
       " 0.500000       196\n",
       " 0.333333       186\n",
       " 1.000000       179\n",
       " 0.288675       176\n",
       "Name: f_TitleCosineSimilarityToShoppingcartCentroid, dtype: int64"
      ]
     },
     "execution_count": 122,
     "metadata": {},
     "output_type": "execute_result"
    }
   ],
   "source": [
    "pdf_pre[(pdf_pre.labelPurchase ==0)]['f_TitleCosineSimilarityToShoppingcartCentroid'].value_counts(normalize=False).head(6)"
   ]
  },
  {
   "cell_type": "markdown",
   "id": "7e2c5ed5-2beb-44a8-a913-637bddf9edb0",
   "metadata": {
    "tags": []
   },
   "source": [
    "## watch & rel position Leakage Changes: "
   ]
  },
  {
   "cell_type": "markdown",
   "id": "a36e7de2-ff87-4922-8f46-0969806640f3",
   "metadata": {
    "tags": []
   },
   "source": [
    "#### remove FreqSameLeafCatIdInWatchBadge"
   ]
  },
  {
   "cell_type": "raw",
   "id": "d25fd00a-5678-4992-8074-a723fa711b5e",
   "metadata": {},
   "source": [
    "Apply changes to overcome leakage: \n",
    "\n",
    "1. Insert in label watch =1 : insert 0 vals for badge features:  ,\"FreqSameItemInWatchBadge\".\n",
    "2.\"FreqSameLeafCatIdInWatchBadge\"- exclude\n",
    "2. Where label watch =1 And BibowatchRelPosition>=0 :insert -1 value. \n",
    "3. In \"TitleCosineSimilarityToShoppingcartCentroid\" : labelAdd2Cart == 1 & labelPurchase == 1 & \n",
    "TitleCosineSimilarityToShoppingcartCentroid  =1 , insert -1. "
   ]
  },
  {
   "cell_type": "code",
   "execution_count": 53,
   "id": "b3ae1f3c-01fe-4b05-8dde-9831abbbf30e",
   "metadata": {},
   "outputs": [],
   "source": [
    "piyi_v7_features.remove(\"FreqSameLeafCatIdInWatchBadge\")"
   ]
  },
  {
   "cell_type": "code",
   "execution_count": 54,
   "id": "e3046ba6-8fa2-4621-989b-4d6331344bcb",
   "metadata": {},
   "outputs": [],
   "source": [
    "piyi_v7 = ['f_' + sub for sub in piyi_v7_features]"
   ]
  },
  {
   "cell_type": "code",
   "execution_count": 57,
   "id": "e30512bd-22e6-47c2-bfb9-c704f7f263a1",
   "metadata": {},
   "outputs": [
    {
     "data": {
      "text/plain": [
       "1470"
      ]
     },
     "execution_count": 57,
     "metadata": {},
     "output_type": "execute_result"
    }
   ],
   "source": [
    "X_f_cols = [i[0] for i in (np.argwhere(pdf.columns.str.startswith(\"f_\") == True))]\n",
    "len(X_f_cols)"
   ]
  },
  {
   "cell_type": "code",
   "execution_count": 58,
   "id": "97a98f6a-ed7e-4531-8b49-366b030e8219",
   "metadata": {},
   "outputs": [
    {
     "data": {
      "text/plain": [
       "32"
      ]
     },
     "execution_count": 58,
     "metadata": {},
     "output_type": "execute_result"
    }
   ],
   "source": [
    "len(piyi_v7)"
   ]
  },
  {
   "cell_type": "code",
   "execution_count": 46,
   "id": "6301f721-674e-49a7-8049-e69b36160ccb",
   "metadata": {},
   "outputs": [
    {
     "data": {
      "text/plain": [
       "0    4032\n",
       "1    3144\n",
       "Name: labelWatch, dtype: int64"
      ]
     },
     "execution_count": 46,
     "metadata": {},
     "output_type": "execute_result"
    }
   ],
   "source": [
    "pdf[(pdf.labelPurchase == 1) & (pdf.f_FreqSameItemInWatchBadge > 0)]['labelWatch'].value_counts()"
   ]
  },
  {
   "cell_type": "code",
   "execution_count": 131,
   "id": "646c9ee0-edc3-4bfa-b0b1-8b530f87376e",
   "metadata": {},
   "outputs": [
    {
     "data": {
      "text/plain": [
       " 1.0    3317\n",
       " 0.0     553\n",
       "-1.0      36\n",
       " 2.0       8\n",
       " 5.0       1\n",
       "Name: f_FreqSameItemInWatchBadge, dtype: int64"
      ]
     },
     "execution_count": 131,
     "metadata": {},
     "output_type": "execute_result"
    }
   ],
   "source": [
    "pdf[(pdf.labelWatch == 1) ]['f_FreqSameItemInWatchBadge'].value_counts(normalize=False).head(5)"
   ]
  },
  {
   "cell_type": "code",
   "execution_count": 132,
   "id": "e12b79f5-c5f2-494b-8e8f-f2d15e1931f7",
   "metadata": {},
   "outputs": [
    {
     "data": {
      "text/plain": [
       "1.0    836\n",
       "2.0    669\n",
       "3.0    475\n",
       "4.0    341\n",
       "5.0    253\n",
       "Name: f_FreqSameLeafCatIdInWatchBadge, dtype: int64"
      ]
     },
     "execution_count": 132,
     "metadata": {},
     "output_type": "execute_result"
    }
   ],
   "source": [
    "pdf[(pdf.labelWatch == 1) ]['f_FreqSameLeafCatIdInWatchBadge'].value_counts(normalize=False).head(5)"
   ]
  },
  {
   "cell_type": "markdown",
   "id": "ba367e84-efa7-4c74-9b33-7e8b16da5880",
   "metadata": {
    "tags": []
   },
   "source": [
    "#### Apply changes to 0:f_FreqSameItemInWatchBadge"
   ]
  },
  {
   "cell_type": "code",
   "execution_count": 59,
   "id": "7aabf2fe-b527-4202-a403-490b0a065eeb",
   "metadata": {},
   "outputs": [],
   "source": [
    "pdf.loc[pdf[\"labelWatch\"] == 1, 'f_FreqSameItemInWatchBadge'] = 0"
   ]
  },
  {
   "cell_type": "code",
   "execution_count": 60,
   "id": "2ddd90d5-0d01-4220-982a-4479efd938ee",
   "metadata": {},
   "outputs": [
    {
     "data": {
      "text/plain": [
       "0.0    4455\n",
       "Name: f_FreqSameItemInWatchBadge, dtype: int64"
      ]
     },
     "execution_count": 60,
     "metadata": {},
     "output_type": "execute_result"
    }
   ],
   "source": [
    "pdf[(pdf.labelWatch == 1)]['f_FreqSameItemInWatchBadge'].value_counts(normalize=False)"
   ]
  },
  {
   "cell_type": "code",
   "execution_count": 138,
   "id": "f4b8196a-bbea-4360-bc10-c12c0ffc6990",
   "metadata": {},
   "outputs": [
    {
     "data": {
      "text/plain": [
       " 0.0     0.827791\n",
       "-1.0     0.132081\n",
       " 1.0     0.039965\n",
       " 2.0     0.000112\n",
       " 3.0     0.000037\n",
       " 8.0     0.000005\n",
       " 4.0     0.000005\n",
       " 18.0    0.000005\n",
       "Name: f_FreqSameItemInWatchBadge, dtype: float64"
      ]
     },
     "execution_count": 138,
     "metadata": {},
     "output_type": "execute_result"
    }
   ],
   "source": [
    "pdf_pre[(pdf_pre.labelPurchase == 0)]['f_FreqSameItemInWatchBadge'].value_counts(normalize=True)"
   ]
  },
  {
   "cell_type": "code",
   "execution_count": 140,
   "id": "57eb8a14-4dee-44c0-a9a5-f78f363a2967",
   "metadata": {},
   "outputs": [
    {
     "data": {
      "text/plain": [
       " 0.0    14704\n",
       " 1.0     7152\n",
       "-1.0     3335\n",
       " 2.0       18\n",
       " 4.0        2\n",
       " 3.0        2\n",
       " 5.0        2\n",
       "Name: f_FreqSameItemInWatchBadge, dtype: int64"
      ]
     },
     "execution_count": 140,
     "metadata": {},
     "output_type": "execute_result"
    }
   ],
   "source": [
    "pdf_pre[(pdf_pre.labelPurchase == 1)]['f_FreqSameItemInWatchBadge'].value_counts(normalize=False)"
   ]
  },
  {
   "cell_type": "markdown",
   "id": "b3584653-98fb-4837-8f99-72b8ded2d1aa",
   "metadata": {},
   "source": [
    "###### 1."
   ]
  },
  {
   "cell_type": "code",
   "execution_count": 50,
   "id": "153263a2-309e-4b34-b20d-8a56731890ab",
   "metadata": {},
   "outputs": [
    {
     "data": {
      "text/plain": [
       " 0.0    0.709141\n",
       " 1.0    0.159350\n",
       "-1.0    0.130954\n",
       " 2.0    0.000397\n",
       " 4.0    0.000079\n",
       " 3.0    0.000040\n",
       " 5.0    0.000040\n",
       "Name: f_FreqSameItemInWatchBadge, dtype: float64"
      ]
     },
     "execution_count": 50,
     "metadata": {},
     "output_type": "execute_result"
    }
   ],
   "source": [
    "pdf[(pdf.labelPurchase == 1)]['f_FreqSameItemInWatchBadge'].value_counts(normalize=True)"
   ]
  },
  {
   "cell_type": "code",
   "execution_count": 51,
   "id": "c9402799-4ca1-4735-b2b4-95a507069bff",
   "metadata": {},
   "outputs": [
    {
     "data": {
      "text/plain": [
       "0.0    248\n",
       "Name: f_FreqSameItemInWatchBadge, dtype: int64"
      ]
     },
     "execution_count": 51,
     "metadata": {},
     "output_type": "execute_result"
    }
   ],
   "source": [
    "pdf.loc[(pdf[\"labelWatch\"] == 1) & (pdf['labelPurchase'] == 0)].f_FreqSameItemInWatchBadge.value_counts()"
   ]
  },
  {
   "cell_type": "code",
   "execution_count": 143,
   "id": "84581882-da50-4334-92ca-ead59d173e63",
   "metadata": {},
   "outputs": [
    {
     "data": {
      "text/plain": [
       "0.0    3668\n",
       "Name: f_FreqSameItemInWatchBadge, dtype: int64"
      ]
     },
     "execution_count": 143,
     "metadata": {},
     "output_type": "execute_result"
    }
   ],
   "source": [
    "pdf.loc[(pdf[\"labelWatch\"] == 1) & (pdf['labelPurchase'] == 1)].f_FreqSameItemInWatchBadge.value_counts()"
   ]
  },
  {
   "cell_type": "raw",
   "id": "ba20e5bc-4859-47f3-9244-2c3418339590",
   "metadata": {},
   "source": [
    "pdf.loc[pdf[\"labelWatch\"] == 1, 'f_FreqSameItemInWatchBadge'] = 0"
   ]
  },
  {
   "cell_type": "code",
   "execution_count": 144,
   "id": "22e27e39-48ee-4386-8700-7ccd2d74e177",
   "metadata": {},
   "outputs": [
    {
     "data": {
      "text/plain": [
       "0.0    3916\n",
       "Name: f_FreqSameItemInWatchBadge, dtype: int64"
      ]
     },
     "execution_count": 144,
     "metadata": {},
     "output_type": "execute_result"
    }
   ],
   "source": [
    "pdf[(pdf.labelWatch == 1) ]['f_FreqSameItemInWatchBadge'].value_counts(normalize=False).head(5)"
   ]
  },
  {
   "cell_type": "code",
   "execution_count": 145,
   "id": "74607252-6d4c-48e3-ad78-8d7e8c5ba0d1",
   "metadata": {},
   "outputs": [
    {
     "data": {
      "text/plain": [
       " 0.0    14704\n",
       " 1.0     7152\n",
       "-1.0     3335\n",
       " 2.0       18\n",
       " 4.0        2\n",
       "Name: f_FreqSameItemInWatchBadge, dtype: int64"
      ]
     },
     "execution_count": 145,
     "metadata": {},
     "output_type": "execute_result"
    }
   ],
   "source": [
    "pdf_pre[(pdf_pre.labelPurchase == 1)]['f_FreqSameItemInWatchBadge'].value_counts(normalize=False).head(5)"
   ]
  },
  {
   "cell_type": "code",
   "execution_count": 146,
   "id": "7bb30693-5114-44a7-84bd-4c34b8e4f4cd",
   "metadata": {},
   "outputs": [
    {
     "data": {
      "text/plain": [
       " 0.0    17881\n",
       " 1.0     4018\n",
       "-1.0     3302\n",
       " 2.0       10\n",
       " 4.0        2\n",
       " 3.0        1\n",
       " 5.0        1\n",
       "Name: f_FreqSameItemInWatchBadge, dtype: int64"
      ]
     },
     "execution_count": 146,
     "metadata": {},
     "output_type": "execute_result"
    }
   ],
   "source": [
    "pdf[(pdf.labelPurchase == 1)]['f_FreqSameItemInWatchBadge'].value_counts(normalize=False)"
   ]
  },
  {
   "cell_type": "markdown",
   "id": "b0b9846e-15fa-4bf4-a932-a865c4c60eb2",
   "metadata": {
    "jp-MarkdownHeadingCollapsed": true,
    "tags": []
   },
   "source": [
    "#### 1.keep feature with no changes in data, after exclude it \n",
    "##### prev: Apply -1 to f_FreqSameLeafCatIdInWatchBadge:"
   ]
  },
  {
   "cell_type": "code",
   "execution_count": null,
   "id": "ef97cf0f-24a0-415f-8aba-4780d7c77a84",
   "metadata": {},
   "outputs": [],
   "source": [
    "pdf_pre[(pdf_pre.labelPurchase == 1)]['f_FreqSameLeafCatIdInWatchBadge'].value_counts(normalize=True)"
   ]
  },
  {
   "cell_type": "code",
   "execution_count": null,
   "id": "76304157-b792-42b9-917d-3a154cb54ce3",
   "metadata": {},
   "outputs": [],
   "source": [
    "pdf_pre[(pdf_pre.labelPurchase == 1)]['f_FreqSameLeafCatIdInWatchBadge'].value_counts(normalize=False).head(5)"
   ]
  },
  {
   "cell_type": "code",
   "execution_count": null,
   "id": "bec66a51-b416-406e-b18a-d576cabde79a",
   "metadata": {},
   "outputs": [],
   "source": [
    "pdf_pre[(pdf_pre.labelPurchase == 0)]['f_FreqSameLeafCatIdInWatchBadge'].value_counts(normalize=True)"
   ]
  },
  {
   "cell_type": "code",
   "execution_count": null,
   "id": "dda73170-6d26-4ebd-81c6-8bc8f71318c0",
   "metadata": {},
   "outputs": [],
   "source": [
    "pdf_pre[(pdf_pre.labelPurchase == 0)]['f_FreqSameLeafCatIdInWatchBadge'].value_counts(normalize=False).head(5)"
   ]
  },
  {
   "cell_type": "code",
   "execution_count": null,
   "id": "8ee3e009-10d9-4ba8-9809-a3ecfb0b1ebf",
   "metadata": {},
   "outputs": [],
   "source": [
    "pdf_pre.loc[(pdf_pre[\"labelWatch\"] == 1) & (pdf_pre['labelPurchase'] == 1)].f_FreqSameLeafCatIdInWatchBadge.value_counts().head(6)"
   ]
  },
  {
   "cell_type": "code",
   "execution_count": null,
   "id": "1d29b66a-7e62-46dc-bdbf-8b0810876e01",
   "metadata": {},
   "outputs": [],
   "source": [
    "#pdf.loc[pdf[\"labelWatch\"] == 1, 'f_FreqSameLeafCatIdInWatchBadge'] = -1"
   ]
  },
  {
   "cell_type": "code",
   "execution_count": null,
   "id": "690564cd-27c7-4f46-a75c-0bdef09a1b79",
   "metadata": {},
   "outputs": [],
   "source": [
    "pdf[(pdf.labelWatch == 1) ]['f_FreqSameLeafCatIdInWatchBadge'].value_counts(normalize=False).head(5)"
   ]
  },
  {
   "cell_type": "code",
   "execution_count": null,
   "id": "07fab84e-6fcf-4f52-bf8a-ea8283972ab8",
   "metadata": {},
   "outputs": [],
   "source": [
    "pdf[(pdf.labelPurchase == 1) ]['f_FreqSameLeafCatIdInWatchBadge'].value_counts(normalize=False).head(5)"
   ]
  },
  {
   "cell_type": "code",
   "execution_count": null,
   "id": "ad24de3b-54a4-4c3c-8eed-2a328b4ad41a",
   "metadata": {},
   "outputs": [],
   "source": [
    "pdf_pre[(pdf_pre.labelPurchase == 1) ]['f_FreqSameLeafCatIdInWatchBadge'].value_counts(normalize=False).head(5)"
   ]
  },
  {
   "cell_type": "markdown",
   "id": "a7e7879a-90fa-41dd-a536-fc6292c2b988",
   "metadata": {
    "tags": []
   },
   "source": [
    "#### For labelwatch=1 & BibowatchRelPosition>=0 : apply -1 values:"
   ]
  },
  {
   "cell_type": "code",
   "execution_count": 61,
   "id": "5bf7b20c-916b-46e2-864f-063d90e03ec7",
   "metadata": {},
   "outputs": [],
   "source": [
    "pdf.loc[((pdf[\"labelWatch\"] == 1 )&(pdf[\"f_BibowatchRelPosition\"] >=0 )) , 'f_BibowatchRelPosition'] = -1"
   ]
  },
  {
   "cell_type": "code",
   "execution_count": 148,
   "id": "e7535e75-6b51-45d7-80e1-138377b2fd63",
   "metadata": {},
   "outputs": [
    {
     "data": {
      "text/plain": [
       " 0.0    2704\n",
       "-1.0     589\n",
       " 1.0     422\n",
       " 2.0     116\n",
       " 3.0      42\n",
       " 4.0      20\n",
       "Name: f_BibowatchRelPosition, dtype: int64"
      ]
     },
     "execution_count": 148,
     "metadata": {},
     "output_type": "execute_result"
    }
   ],
   "source": [
    "pdf_pre[(pdf_pre.labelWatch == 1)]['f_BibowatchRelPosition'].value_counts(normalize=False).head(6)"
   ]
  },
  {
   "cell_type": "code",
   "execution_count": 62,
   "id": "d6a44b3e-72a6-4891-a03a-3509acb33d62",
   "metadata": {},
   "outputs": [
    {
     "data": {
      "text/plain": [
       "-1.0    4455\n",
       "Name: f_BibowatchRelPosition, dtype: int64"
      ]
     },
     "execution_count": 62,
     "metadata": {},
     "output_type": "execute_result"
    }
   ],
   "source": [
    "pdf[(pdf.labelWatch == 1)]['f_BibowatchRelPosition'].value_counts(normalize=False).head(6)"
   ]
  },
  {
   "cell_type": "code",
   "execution_count": 150,
   "id": "9ab623bc-676d-4938-b550-ef14c1e55375",
   "metadata": {},
   "outputs": [
    {
     "data": {
      "text/plain": [
       "-1.0    223093\n",
       " 0.0      1662\n",
       " 1.0      1438\n",
       " 2.0      1247\n",
       " 3.0      1081\n",
       " 4.0       891\n",
       "Name: f_BibowatchRelPosition, dtype: int64"
      ]
     },
     "execution_count": 150,
     "metadata": {},
     "output_type": "execute_result"
    }
   ],
   "source": [
    "pdf_pre[(pdf_pre.labelWatch == 0)]['f_BibowatchRelPosition'].value_counts(normalize=False).head(6)"
   ]
  },
  {
   "cell_type": "code",
   "execution_count": 151,
   "id": "3d8d16a3-ce6b-4304-ab5b-1ca4e98e69b6",
   "metadata": {},
   "outputs": [
    {
     "data": {
      "text/plain": [
       "-1.0    0.715407\n",
       " 0.0    0.135594\n",
       " 1.0    0.034543\n",
       " 2.0    0.020583\n",
       " 3.0    0.014515\n",
       " 4.0    0.010827\n",
       "Name: f_BibowatchRelPosition, dtype: float64"
      ]
     },
     "execution_count": 151,
     "metadata": {},
     "output_type": "execute_result"
    }
   ],
   "source": [
    "pdf_pre[(pdf_pre.labelPurchase == 1)]['f_BibowatchRelPosition'].value_counts(normalize=True).head(6)"
   ]
  },
  {
   "cell_type": "code",
   "execution_count": 152,
   "id": "9ff9ca6c-f193-4a28-97fa-dc26f2dd1133",
   "metadata": {},
   "outputs": [
    {
     "data": {
      "text/plain": [
       "-1.0    0.959872\n",
       " 1.0    0.004616\n",
       " 0.0    0.004420\n",
       " 2.0    0.003940\n",
       " 3.0    0.003533\n",
       " 4.0    0.002978\n",
       "Name: f_BibowatchRelPosition, dtype: float64"
      ]
     },
     "execution_count": 152,
     "metadata": {},
     "output_type": "execute_result"
    }
   ],
   "source": [
    "pdf_pre[(pdf_pre.labelPurchase == 0)]['f_BibowatchRelPosition'].value_counts(normalize=True).head(6)"
   ]
  },
  {
   "cell_type": "code",
   "execution_count": 153,
   "id": "94c4e430-7fe7-47e8-af2e-f723943629fb",
   "metadata": {},
   "outputs": [
    {
     "data": {
      "text/plain": [
       "-1.0    18039\n",
       " 0.0     3419\n",
       " 1.0      871\n",
       " 2.0      519\n",
       " 3.0      366\n",
       "Name: f_BibowatchRelPosition, dtype: int64"
      ]
     },
     "execution_count": 153,
     "metadata": {},
     "output_type": "execute_result"
    }
   ],
   "source": [
    "pdf_pre[(pdf_pre.labelPurchase == 1)]['f_BibowatchRelPosition'].value_counts(normalize=False).head(5)"
   ]
  },
  {
   "cell_type": "code",
   "execution_count": 154,
   "id": "cb5ae309-0846-4b68-a1d9-a1acf075960c",
   "metadata": {},
   "outputs": [
    {
     "data": {
      "text/plain": [
       "-1.0    205643\n",
       " 1.0       989\n",
       " 0.0       947\n",
       " 2.0       844\n",
       " 3.0       757\n",
       "Name: f_BibowatchRelPosition, dtype: int64"
      ]
     },
     "execution_count": 154,
     "metadata": {},
     "output_type": "execute_result"
    }
   ],
   "source": [
    "pdf_pre[(pdf_pre.labelPurchase == 0)]['f_BibowatchRelPosition'].value_counts(normalize=False).head(5)"
   ]
  },
  {
   "cell_type": "code",
   "execution_count": 155,
   "id": "b42a9cdc-6c71-4d3c-8be5-d347c9b06ee8",
   "metadata": {},
   "outputs": [
    {
     "data": {
      "text/plain": [
       " 0.0     2704\n",
       "-1.0      589\n",
       " 1.0      422\n",
       " 2.0      116\n",
       " 3.0       42\n",
       " 4.0       20\n",
       " 5.0       12\n",
       " 9.0        4\n",
       " 6.0        3\n",
       " 10.0       2\n",
       " 21.0       1\n",
       " 14.0       1\n",
       "Name: f_BibowatchRelPosition, dtype: int64"
      ]
     },
     "execution_count": 155,
     "metadata": {},
     "output_type": "execute_result"
    }
   ],
   "source": [
    "pdf_pre.loc[(pdf_pre[\"labelWatch\"] == 1)].f_BibowatchRelPosition.value_counts()"
   ]
  },
  {
   "cell_type": "code",
   "execution_count": 156,
   "id": "cb472f3a-b0ce-4b75-8d49-49163bb46667",
   "metadata": {},
   "outputs": [
    {
     "data": {
      "text/plain": [
       "-1.0    3916\n",
       "Name: f_BibowatchRelPosition, dtype: int64"
      ]
     },
     "execution_count": 156,
     "metadata": {},
     "output_type": "execute_result"
    }
   ],
   "source": [
    "pdf.loc[(pdf[\"labelWatch\"] == 1) ].f_BibowatchRelPosition.value_counts()"
   ]
  },
  {
   "cell_type": "code",
   "execution_count": 157,
   "id": "63a37595-e1fa-465a-83ba-5d45591ee0ca",
   "metadata": {},
   "outputs": [
    {
     "data": {
      "text/plain": [
       "-1.0    3916\n",
       "Name: f_BibowatchRelPosition, dtype: int64"
      ]
     },
     "execution_count": 157,
     "metadata": {},
     "output_type": "execute_result"
    }
   ],
   "source": [
    "pdf[(pdf.labelWatch == 1) ]['f_BibowatchRelPosition'].value_counts(normalize=False).head(5)"
   ]
  },
  {
   "cell_type": "code",
   "execution_count": 158,
   "id": "c7ad041f-63cb-4e53-a8c5-dbf8d75d3c7e",
   "metadata": {},
   "outputs": [
    {
     "data": {
      "text/plain": [
       "3916"
      ]
     },
     "execution_count": 158,
     "metadata": {},
     "output_type": "execute_result"
    }
   ],
   "source": [
    "pdf[(pdf.labelWatch == 1) ]['f_BibowatchRelPosition'].value_counts(normalize=False).sum()"
   ]
  },
  {
   "cell_type": "code",
   "execution_count": 159,
   "id": "1cd2ae9c-ac7e-496d-b853-f941d2e7ea76",
   "metadata": {},
   "outputs": [
    {
     "data": {
      "text/plain": [
       "-1.0    3916\n",
       "Name: f_BibowatchRelPosition, dtype: int64"
      ]
     },
     "execution_count": 159,
     "metadata": {},
     "output_type": "execute_result"
    }
   ],
   "source": [
    "pdf[(pdf.labelWatch == 1) ]['f_BibowatchRelPosition'].value_counts(normalize=False).head(5)"
   ]
  },
  {
   "cell_type": "code",
   "execution_count": 160,
   "id": "e1a581cc-8fde-4dd9-805b-8899a72f0e06",
   "metadata": {},
   "outputs": [
    {
     "data": {
      "text/plain": [
       "-1.0    18039\n",
       " 0.0     3419\n",
       " 1.0      871\n",
       " 2.0      519\n",
       " 3.0      366\n",
       "Name: f_BibowatchRelPosition, dtype: int64"
      ]
     },
     "execution_count": 160,
     "metadata": {},
     "output_type": "execute_result"
    }
   ],
   "source": [
    "pdf_pre[(pdf_pre.labelPurchase == 1) ]['f_BibowatchRelPosition'].value_counts(normalize=False).head(5)"
   ]
  },
  {
   "cell_type": "code",
   "execution_count": 161,
   "id": "29e4ae7c-638a-4599-8ad7-b6424cdf6ab1",
   "metadata": {},
   "outputs": [
    {
     "data": {
      "text/plain": [
       "-1.0    21183\n",
       " 0.0      824\n",
       " 1.0      488\n",
       " 2.0      421\n",
       " 3.0      335\n",
       "Name: f_BibowatchRelPosition, dtype: int64"
      ]
     },
     "execution_count": 161,
     "metadata": {},
     "output_type": "execute_result"
    }
   ],
   "source": [
    "pdf[(pdf.labelPurchase == 1) ]['f_BibowatchRelPosition'].value_counts(normalize=False).head(5)"
   ]
  },
  {
   "cell_type": "code",
   "execution_count": 162,
   "id": "84ffa479-5fcf-4337-b2df-a02423825cd0",
   "metadata": {},
   "outputs": [
    {
     "data": {
      "text/plain": [
       "-1.0    3916\n",
       "Name: f_BibowatchRelPosition, dtype: int64"
      ]
     },
     "execution_count": 162,
     "metadata": {},
     "output_type": "execute_result"
    }
   ],
   "source": [
    "pdf[((pdf[\"labelWatch\"] == 1 )&(pdf[\"f_BibowatchRelPosition\"] <=0 )) ]['f_BibowatchRelPosition'].value_counts(normalize=False).head(5)"
   ]
  },
  {
   "cell_type": "code",
   "execution_count": null,
   "id": "dbbc0b5f-0cea-4e05-bbc2-c48ddb692ef2",
   "metadata": {},
   "outputs": [],
   "source": [
    "pdf[['labelWatch','f_FreqSameItemInWatchBadge']] .value_counts()"
   ]
  },
  {
   "cell_type": "markdown",
   "id": "ef59f93f-bc8c-4110-95a4-d3ee5ba6ca73",
   "metadata": {
    "jp-MarkdownHeadingCollapsed": true,
    "tags": []
   },
   "source": [
    "#### Correlations:"
   ]
  },
  {
   "cell_type": "code",
   "execution_count": null,
   "id": "84a854a4-484a-4f89-8261-044d740c1c78",
   "metadata": {},
   "outputs": [],
   "source": []
  },
  {
   "cell_type": "code",
   "execution_count": null,
   "id": "de3a6c31-f6b3-40b2-a3e4-8b30022820f4",
   "metadata": {},
   "outputs": [],
   "source": [
    "from scipy import stats\n",
    "res = stats.spearmanr(pdf_pre.f_FreqSameItemInWatchBadge, pdf_pre.f_BibowatchRelPosition)\n",
    "res"
   ]
  },
  {
   "cell_type": "code",
   "execution_count": null,
   "id": "3630d170-e5c4-4c1e-be8c-3fabe40b5ce6",
   "metadata": {},
   "outputs": [],
   "source": [
    "np.corrcoef(pdf_pre.f_FreqSameItemInWatchBadge, pdf_pre.f_BibowatchRelPosition)"
   ]
  },
  {
   "cell_type": "code",
   "execution_count": null,
   "id": "b957234a-ec36-41d4-aae6-7ecc9fbdcb1d",
   "metadata": {},
   "outputs": [],
   "source": [
    "res = stats.spearmanr(pdf.f_FreqSameItemInWatchBadge, pdf.f_BibowatchRelPosition)\n",
    "res"
   ]
  },
  {
   "cell_type": "code",
   "execution_count": null,
   "id": "6e5555b0-4541-4521-86c5-8d72bff32870",
   "metadata": {},
   "outputs": [],
   "source": [
    "np.corrcoef(pdf.f_FreqSameItemInWatchBadge, pdf.f_BibowatchRelPosition)"
   ]
  },
  {
   "cell_type": "code",
   "execution_count": null,
   "id": "a0adc45a-f8f4-4fc0-a7b0-dc3496fd1e40",
   "metadata": {},
   "outputs": [],
   "source": [
    "res = stats.spearmanr(pdf_pre.f_FreqSameItemInWatchBadge, pdf_pre.f_FreqSameLeafCatIdInWatchBadge)\n",
    "res"
   ]
  },
  {
   "cell_type": "code",
   "execution_count": null,
   "id": "fdaa401c-96c7-46ca-a0b2-19ed6e05a81f",
   "metadata": {},
   "outputs": [],
   "source": [
    "res = stats.spearmanr(pdf.f_FreqSameItemInWatchBadge, pdf.f_FreqSameLeafCatIdInWatchBadge)\n",
    "res"
   ]
  },
  {
   "cell_type": "code",
   "execution_count": null,
   "id": "60185734-7fd3-4e44-b23e-5f06a49254c0",
   "metadata": {},
   "outputs": [],
   "source": []
  },
  {
   "cell_type": "markdown",
   "id": "d6f6ffbd-bd94-443e-a65a-8592ae2d8ee4",
   "metadata": {
    "tags": []
   },
   "source": [
    "# Features and validations"
   ]
  },
  {
   "cell_type": "markdown",
   "id": "ede9dae0-8f9e-42c7-92be-e3de92626aa6",
   "metadata": {
    "tags": []
   },
   "source": [
    "## Features: validate features columns in data"
   ]
  },
  {
   "cell_type": "code",
   "execution_count": 66,
   "id": "ebbf297a-ad94-408b-96f6-86d554434473",
   "metadata": {},
   "outputs": [
    {
     "data": {
      "text/plain": [
       "32"
      ]
     },
     "execution_count": 66,
     "metadata": {},
     "output_type": "execute_result"
    }
   ],
   "source": [
    "len(piyi_v7)"
   ]
  },
  {
   "cell_type": "code",
   "execution_count": 67,
   "id": "5e8c4ba1-9d48-41cd-93e4-5c0f3ceba62d",
   "metadata": {},
   "outputs": [
    {
     "data": {
      "text/plain": [
       "32"
      ]
     },
     "execution_count": 67,
     "metadata": {},
     "output_type": "execute_result"
    }
   ],
   "source": [
    "#select piyi_v7 as in pd columns order: \n",
    "\n",
    "piyiv7_sneakers_f=pdf[[c for c in pdf.columns if c in piyi_v7]].columns.tolist()\n",
    "\n",
    "len(piyiv7_sneakers_f)"
   ]
  },
  {
   "cell_type": "code",
   "execution_count": 68,
   "id": "fa59287f-7e94-496c-98c0-414de0bcad0f",
   "metadata": {
    "scrolled": true,
    "tags": []
   },
   "outputs": [
    {
     "name": "stdout",
     "output_type": "stream",
     "text": [
      "Index(['f_SizeDistance', 'f_RecallSizeLog', 'f_SizeDistanceCoaspectCSA',\n",
      "       'f_AspectMatchMensUSShoeSize', 'f_IsSizeMatchSearchQuery',\n",
      "       'f_AspectMatchUSShoeSize', 'f_IsSizeMatchHnG',\n",
      "       'f_SizeDistanceCoaspectHnG', 'f_RecallSize', 'f_IsExactSizeMatch',\n",
      "       'f_RecallSizeNorm', 'f_AspectMatchWomensUSShoeSize', 'f_UserSizeMedian',\n",
      "       'f_UserSizeMean', 'f_SizeMedianDiff', 'f_SizeMeanDiff',\n",
      "       'f_UserSizeMaxMinDiff', 'f_UserSizeStd', 'f_UserSizeNumberOfEvidence',\n",
      "       'f_SizeMedianDiffMaxMinTh0.5', 'f_SizeMedianDiffMaxMinTh1',\n",
      "       'f_SizeMedianDiffMaxMinTh1.5', 'f_SizeMeanDiffStdTh0.25',\n",
      "       'f_SizeMeanDiffStdTh0.5', 'f_SizeMeanDiffStdTh0.75',\n",
      "       'f_SizeMedianDiffMaxMinThn0.5EvidenceTh1',\n",
      "       'f_SizeMedianDiffMaxMinThn0.5EvidenceTh4',\n",
      "       'f_SizeMedianDiffMaxMinThn0.5EvidenceTh8',\n",
      "       'f_SizeMedianDiffMaxMinTh1EvidenceTh1',\n",
      "       'f_SizeMedianDiffMaxMinTh1EvidenceTh4',\n",
      "       'f_SizeMedianDiffMaxMinTh1EvidenceTh8',\n",
      "       'f_SizeMedianDiffMaxMinTh1.5EvidenceTh1',\n",
      "       'f_SizeMedianDiffMaxMinTh1.5EvidenceTh4',\n",
      "       'f_SizeMedianDiffMaxMinTh1.5EvidenceTh8',\n",
      "       'f_SizeMeanDiffStdTh0.25EvidenceTh1',\n",
      "       'f_SizeMeanDiffStdTh0.25EvidenceTh4',\n",
      "       'f_SizeMeanDiffStdTh0.25EvidenceTh8',\n",
      "       'f_SizeMeanDiffStdTh0.5EvidenceTh1',\n",
      "       'f_SizeMeanDiffStdTh0.5EvidenceTh4',\n",
      "       'f_SizeMeanDiffStdTh0.5EvidenceTh8',\n",
      "       'f_SizeMeanDiffStdTh0.75EvidenceTh1',\n",
      "       'f_SizeMeanDiffStdTh0.75EvidenceTh4',\n",
      "       'f_SizeMeanDiffStdTh0.75EvidenceTh8', 'f_IsSizeMatch', 'f_IsSizeIntent',\n",
      "       'f_IsSizeMatchV2'],\n",
      "      dtype='object')\n"
     ]
    }
   ],
   "source": [
    "cols = [x for x in pdf.columns if 'Size' in x] \n",
    "\n",
    "print(pdf[cols].columns) "
   ]
  },
  {
   "cell_type": "markdown",
   "id": "67ff2190-a14f-4a82-83d5-8f6cbaf29829",
   "metadata": {},
   "source": [
    "Size: \n",
    "    SizeMedianDiff, UserSizeMaxMinDiff, UserSizeNumberOfEvidence \n",
    "    SizeMedianDiff_MaxMinTh1_EvidanceTh4 "
   ]
  },
  {
   "cell_type": "code",
   "execution_count": 69,
   "id": "5165a59b-d01b-4725-8713-102adb9f3ac0",
   "metadata": {},
   "outputs": [
    {
     "data": {
      "text/plain": [
       "Index(['f_SizeMedianDiff', 'f_UserSizeMaxMinDiff',\n",
       "       'f_UserSizeNumberOfEvidence', 'f_IsMsku'],\n",
       "      dtype='object')"
      ]
     },
     "execution_count": 69,
     "metadata": {},
     "output_type": "execute_result"
    }
   ],
   "source": [
    "size_3f=['f_IsMsku', 'f_SizeMedianDiff', 'f_UserSizeMaxMinDiff', 'f_UserSizeNumberOfEvidence']\n",
    "size_1f=['f_IsMsku',  'f_SizeMedianDiffMaxMinTh1EvidenceTh4' ]\n",
    "(pdf.columns.intersection(size_3f))"
   ]
  },
  {
   "cell_type": "code",
   "execution_count": 70,
   "id": "3969d996-be2a-4de6-8760-47fd40243118",
   "metadata": {
    "tags": []
   },
   "outputs": [],
   "source": [
    "size3f_piyi_features=piyi_v7 +size_3f \n",
    "size1f_piyi_features=piyi_v7 +size_1f "
   ]
  },
  {
   "cell_type": "code",
   "execution_count": 71,
   "id": "5861e5ce-dda6-4068-9b60-52ab32b349f2",
   "metadata": {},
   "outputs": [
    {
     "data": {
      "text/plain": [
       "(274884, 36)"
      ]
     },
     "execution_count": 71,
     "metadata": {},
     "output_type": "execute_result"
    }
   ],
   "source": [
    "pdf[[c for c in pdf.columns if c in size3f_piyi_features]].shape"
   ]
  },
  {
   "cell_type": "code",
   "execution_count": 72,
   "id": "eacdcb31-45b1-4510-8468-eb9b5873a47b",
   "metadata": {},
   "outputs": [
    {
     "name": "stdout",
     "output_type": "stream",
     "text": [
      "Index(['f_IsMskuTraitNameMatch', 'f_IsMsku'], dtype='object')\n"
     ]
    }
   ],
   "source": [
    "cols = [x for x in pdf.columns if 'IsMsku' in x] \n",
    "\n",
    "print(pdf[cols].columns) "
   ]
  },
  {
   "cell_type": "markdown",
   "id": "6467c050-967c-4465-8403-f017ddbc68b0",
   "metadata": {},
   "source": [
    "#### select pdf data frame columns of size sneakers as in pdf columns order. "
   ]
  },
  {
   "cell_type": "code",
   "execution_count": 170,
   "id": "98eb6b51-2b07-441f-a9bf-f5f5a9c42fda",
   "metadata": {
    "scrolled": true,
    "tags": []
   },
   "outputs": [
    {
     "data": {
      "text/plain": [
       "34"
      ]
     },
     "execution_count": 170,
     "metadata": {},
     "output_type": "execute_result"
    }
   ],
   "source": [
    "sneakers1f_f=pdf[[c for c in pdf.columns if c in size1f_piyi_features]].columns.tolist()\n",
    "len(sneakers1f_f)"
   ]
  },
  {
   "cell_type": "code",
   "execution_count": 73,
   "id": "62766f0f-a8de-4c0d-9741-7cea26921352",
   "metadata": {
    "scrolled": true,
    "tags": []
   },
   "outputs": [
    {
     "data": {
      "text/plain": [
       "['f_ItemSalesOverImpPricePrior7DayDecayLogSmoothInternationalWebAndMobileNorm',\n",
       " 'f_BullseyeRelRVILeafCatMedianPriceDiffV2',\n",
       " 'f_ItemSalesOverImpPricePrior7DayDecayLogSmoothDomesticWebAndMobileNorm',\n",
       " 'f_MerchImpressionsDecayed',\n",
       " 'f_SellerFeedbackLogNormWnD',\n",
       " 'f_EpidRelative',\n",
       " 'f_ItemWatchOverImpLogSmoothAllNorm',\n",
       " 'f_ItemTimeLeftSec',\n",
       " 'f_ItemVariantWatchOverImpressions7DayDecayLogSmoothDomesticWebAndMobileNorm',\n",
       " 'f_ItemTimeOnSiteNorm',\n",
       " 'f_PlImpressionsDecayed',\n",
       " 'f_NormItemViewCount7DayDecayDomesticWebAndMobile',\n",
       " 'f_NSFWScore',\n",
       " 'f_MaxViewedItemTitleJaccard',\n",
       " 'f_ItemWatchesOverImp7DayDecayLogSmoothDomesticWebAndMobileV2',\n",
       " 'f_ItemTimeOnSiteV2',\n",
       " 'f_MaxViewedItemTitleJaccardBigrams',\n",
       " 'f_ItemSalesOverImpPricePrior7DayDecayLogSmoothDomesticWebAndMobile',\n",
       " 'f_RecallSourceBullseye',\n",
       " 'f_RecallSourceTora',\n",
       " 'f_ItemVariantSalesOverImpressions7DayDecayLogSmoothDomesticWebAndMobileV2',\n",
       " 'f_RecallSourceBestMatch',\n",
       " 'f_PriceDiffMedianRecall',\n",
       " 'f_SizeMedianDiff',\n",
       " 'f_UserSizeMaxMinDiff',\n",
       " 'f_UserSizeNumberOfEvidence',\n",
       " 'f_BullseyeAbsRVILeafCatMedianPriceDiffV2',\n",
       " 'f_BullseyeRVILeafCatMedianPriceV2',\n",
       " 'f_AvgSameLeafRviPriceRatio',\n",
       " 'f_FreqSameItemInWatchBadge',\n",
       " 'f_TitleCosineSimilarityToShoppingcartCentroid',\n",
       " 'f_AvgSameLeafRviPriceDiff',\n",
       " 'f_NumSameRviInLastWeek',\n",
       " 'f_BibowatchRelPosition',\n",
       " 'f_IsMsku',\n",
       " 'f_FreqWatchPriceBellowItemPrice']"
      ]
     },
     "execution_count": 73,
     "metadata": {},
     "output_type": "execute_result"
    }
   ],
   "source": [
    "sneakers3f_f=pdf[[c for c in pdf.columns if c in size3f_piyi_features]].columns.tolist()\n",
    "sneakers3f_f"
   ]
  },
  {
   "cell_type": "code",
   "execution_count": 74,
   "id": "90dfea2d-e39f-40d4-8220-76c0363bdc6b",
   "metadata": {},
   "outputs": [
    {
     "data": {
      "text/plain": [
       "36"
      ]
     },
     "execution_count": 74,
     "metadata": {},
     "output_type": "execute_result"
    }
   ],
   "source": [
    "len(sneakers3f_f)"
   ]
  },
  {
   "cell_type": "code",
   "execution_count": 173,
   "id": "fc005174-8de5-4d5a-95f9-3905722464d7",
   "metadata": {},
   "outputs": [
    {
     "data": {
      "text/plain": [
       "(239455, 34)"
      ]
     },
     "execution_count": 173,
     "metadata": {},
     "output_type": "execute_result"
    }
   ],
   "source": [
    "pdf[[c for c in pdf.columns if c in size1f_piyi_features]].shape\n"
   ]
  },
  {
   "cell_type": "code",
   "execution_count": 75,
   "id": "8e2f572b-abad-4475-8426-c70216cc2326",
   "metadata": {},
   "outputs": [
    {
     "data": {
      "text/plain": [
       "(274884, 36)"
      ]
     },
     "execution_count": 75,
     "metadata": {},
     "output_type": "execute_result"
    }
   ],
   "source": [
    "pdf[[c for c in pdf.columns if c in size3f_piyi_features]].shape"
   ]
  },
  {
   "cell_type": "code",
   "execution_count": 76,
   "id": "4c71afc7-9644-4c5b-83cf-4010edc009ab",
   "metadata": {},
   "outputs": [
    {
     "data": {
      "text/plain": [
       "(274884, 32)"
      ]
     },
     "execution_count": 76,
     "metadata": {},
     "output_type": "execute_result"
    }
   ],
   "source": [
    "pdf[[c for c in pdf.columns if c in piyiv7_sneakers_f]].shape"
   ]
  },
  {
   "cell_type": "code",
   "execution_count": null,
   "id": "e18a65a3-419a-4e7c-9822-1b74304bac3a",
   "metadata": {},
   "outputs": [],
   "source": [
    "size4f_piyiv7=sneakers3f_f+['f_SizeMedianDiffMaxMinTh1EvidenceTh4']"
   ]
  },
  {
   "cell_type": "code",
   "execution_count": null,
   "id": "f2b46650-a689-4890-af64-f1cdae70bb03",
   "metadata": {},
   "outputs": [],
   "source": [
    "size4f_piyiv7_f=pdf[[c for c in pdf.columns if c in size4f_piyiv7]].columns.tolist()"
   ]
  },
  {
   "cell_type": "code",
   "execution_count": null,
   "id": "b89e9633-94b3-4eec-b97a-f82761b86b42",
   "metadata": {},
   "outputs": [],
   "source": [
    "pdf.shape[0]"
   ]
  },
  {
   "cell_type": "markdown",
   "id": "8aa1d1fe-cabb-47f2-abe3-0ac2a3b77434",
   "metadata": {
    "jp-MarkdownHeadingCollapsed": true,
    "tags": []
   },
   "source": [
    "# Leackage examination:"
   ]
  },
  {
   "cell_type": "code",
   "execution_count": 176,
   "id": "41ec5549-04fd-489f-b6cc-68f6c32d166e",
   "metadata": {},
   "outputs": [],
   "source": [
    "pdf_pre=pdf.copy()"
   ]
  },
  {
   "cell_type": "code",
   "execution_count": null,
   "id": "ee04a649-3e29-47d1-bd8b-ecc6cc3435bd",
   "metadata": {},
   "outputs": [],
   "source": [
    "pdf_pre[pdf_pre.f_BibowatchRelPosition != -1].shape"
   ]
  },
  {
   "cell_type": "code",
   "execution_count": null,
   "id": "46b0c18f-cbdf-41ec-82fd-e6e74132ed33",
   "metadata": {},
   "outputs": [],
   "source": [
    "pdf_pre[['labelWatch','f_FreqSameItemInWatchBadge']] .value_counts()"
   ]
  },
  {
   "cell_type": "code",
   "execution_count": null,
   "id": "9f2e0b87-c4bf-4151-926b-ddb689f5ac20",
   "metadata": {},
   "outputs": [],
   "source": [
    "pdf_pre.f_FreqSameItemInWatchBadge.value_counts()"
   ]
  },
  {
   "cell_type": "code",
   "execution_count": null,
   "id": "979bcd7a-f79a-4ab7-81d7-4879c60c2e70",
   "metadata": {},
   "outputs": [],
   "source": [
    "pdf_pre.f_FreqSameItemInWatchBadge.value_counts(normalize=True)"
   ]
  },
  {
   "cell_type": "code",
   "execution_count": null,
   "id": "e201e39a-1b2a-4927-816b-a1fa5a938eec",
   "metadata": {},
   "outputs": [],
   "source": [
    "pdf_pre[(pdf_pre.f_FreqSameItemInWatchBadge == 0)]['f_SizeMedianDiff'].value_counts(normalize=True).head(5)"
   ]
  },
  {
   "cell_type": "code",
   "execution_count": null,
   "id": "5b8bda7f-4adb-414c-adfc-cc55b8c404a0",
   "metadata": {},
   "outputs": [],
   "source": [
    "pdf_pre[(pdf_pre.f_FreqSameItemInWatchBadge == 1)]['f_SizeMedianDiff'].value_counts(normalize=True).head(5)"
   ]
  },
  {
   "cell_type": "code",
   "execution_count": null,
   "id": "5098b1d0-d950-47f8-8d1c-4b09901bdafe",
   "metadata": {},
   "outputs": [],
   "source": [
    "pdf_pre[(pdf_pre.labelPurchase == 1)]['labelClick'].value_counts()"
   ]
  },
  {
   "cell_type": "code",
   "execution_count": null,
   "id": "46afde23-5823-47c5-b8b6-039d8efcf882",
   "metadata": {},
   "outputs": [],
   "source": [
    "pdf_pre[(pdf_pre.labelPurchase == 1)]['labelWatch'].value_counts()"
   ]
  },
  {
   "cell_type": "code",
   "execution_count": null,
   "id": "218f13b4-10c5-45cd-aa0c-19c33ee77b05",
   "metadata": {},
   "outputs": [],
   "source": [
    "pdf_pre.f_FreqSameItemInWatchBadge.value_counts()"
   ]
  },
  {
   "cell_type": "code",
   "execution_count": null,
   "id": "ebf0764b-1076-424a-b62e-e89d8e6584f2",
   "metadata": {},
   "outputs": [],
   "source": [
    "pdf_pre[(pdf_pre.labelPurchase == 1) & (pdf_pre.f_FreqSameItemInWatchBadge > 0)]['labelWatch'].value_counts()"
   ]
  },
  {
   "cell_type": "code",
   "execution_count": null,
   "id": "7f6357c4-5623-45cb-a7c4-0650c52a3fbd",
   "metadata": {},
   "outputs": [],
   "source": [
    "pdf_pre[(pdf_pre.labelPurchase == 1) ]['labelWatch'].value_counts()"
   ]
  },
  {
   "cell_type": "code",
   "execution_count": null,
   "id": "1afa40c8-0a32-4fe5-a05c-90cc349cdc34",
   "metadata": {},
   "outputs": [],
   "source": [
    "pdf_pre[(pdf_pre.labelPurchase == 1)]['labelWatch'].value_counts()"
   ]
  },
  {
   "cell_type": "markdown",
   "id": "0078ebd4-234c-41ea-b00e-af56a5742620",
   "metadata": {},
   "source": [
    "#### Leakage: 34% of purchases from watchlist: "
   ]
  },
  {
   "cell_type": "code",
   "execution_count": null,
   "id": "4c39b2db-4232-4657-86b8-398a4817009f",
   "metadata": {},
   "outputs": [],
   "source": [
    "pdf_pre[(pdf_pre.labelPurchase == 1)]['f_FreqSameItemInWatchBadge'].value_counts(normalize=True)"
   ]
  },
  {
   "cell_type": "markdown",
   "id": "553fe326-f6fe-4e52-a622-da9987e5614c",
   "metadata": {
    "tags": []
   },
   "source": [
    "### After change: "
   ]
  },
  {
   "cell_type": "code",
   "execution_count": null,
   "id": "c2347995-991e-48a4-b178-1d48b192038c",
   "metadata": {},
   "outputs": [],
   "source": [
    "pdf[(pdf.labelPurchase == 1)]['f_FreqSameItemInWatchBadge'].value_counts(normalize=True)"
   ]
  },
  {
   "cell_type": "code",
   "execution_count": null,
   "id": "b01c3a7e-d6b2-4d3d-b381-08b9df735606",
   "metadata": {},
   "outputs": [],
   "source": [
    "pdf_pre[(pdf_pre.labelPurchase == 1)]['f_TitleCosineSimilarityToShoppingcartCentroid'].value_counts(normalize=True)\n",
    "   # compare to add2crt "
   ]
  },
  {
   "cell_type": "code",
   "execution_count": null,
   "id": "65910468-f5c6-4bb8-9de6-1452351c4d88",
   "metadata": {},
   "outputs": [],
   "source": [
    "pdf_pre[(pdf_pre.labelPurchase == 0) ]['f_TitleCosineSimilarityToShoppingcartCentroid'].value_counts(normalize=True).head(10)"
   ]
  },
  {
   "cell_type": "code",
   "execution_count": null,
   "id": "1804c1d0-290c-4351-b01a-a5403784edad",
   "metadata": {},
   "outputs": [],
   "source": [
    "a = pdf_pre[(pdf_pre.labelAdd2Cart == 1)]"
   ]
  },
  {
   "cell_type": "code",
   "execution_count": null,
   "id": "e9c03924-ac9f-4d36-b7d8-6d7fa13008fd",
   "metadata": {},
   "outputs": [],
   "source": [
    "a.f_TitleCosineSimilarityToShoppingcartCentroid.value_counts()"
   ]
  },
  {
   "cell_type": "code",
   "execution_count": null,
   "id": "e88c40bc-5ae7-4bcc-b0fd-9c4863f4f46d",
   "metadata": {},
   "outputs": [],
   "source": [
    "pdf_pre[pdf_pre.f_TitleCosineSimilarityToShoppingcartCentroid == 1].labelAdd2Cart.value_counts()"
   ]
  },
  {
   "cell_type": "code",
   "execution_count": null,
   "id": "2480bc52-c345-42ee-8742-9001a1d78c8f",
   "metadata": {},
   "outputs": [],
   "source": [
    "pdf_pre[(pdf_pre.labelAdd2Cart == 1)& (pdf.labelPurchase == 1) ]['f_TitleCosineSimilarityToShoppingcartCentroid'].value_counts()"
   ]
  },
  {
   "cell_type": "code",
   "execution_count": null,
   "id": "ec0713a1-7566-4d4a-9a86-2b62983755aa",
   "metadata": {},
   "outputs": [],
   "source": [
    "pdf_pre[(pdf_pre.labelAdd2Cart == 1)& (pdf.labelPurchase == 1) ]['f_TitleCosineSimilarityToShoppingcartCentroid'].value_counts(normalize=True)"
   ]
  },
  {
   "cell_type": "raw",
   "id": "9793402c-8823-4b70-8c49-71cee2145a0e",
   "metadata": {},
   "source": [
    "effect of size maks by wathc list , percent of watch list in piyi is very high 30% comparing to real piyi which is very few. \n",
    "calc sale rank for cases where pdf.f_FreqSameItemInWatchBadge == 0"
   ]
  },
  {
   "cell_type": "code",
   "execution_count": null,
   "id": "9bceac95-9c86-4e35-9d35-2b2a07b0047e",
   "metadata": {},
   "outputs": [],
   "source": [
    "(2.5387 - 2.4408)/2.5387*100\n"
   ]
  },
  {
   "cell_type": "code",
   "execution_count": null,
   "id": "86408d18-6be1-4b85-96b4-c347d672fe16",
   "metadata": {},
   "outputs": [],
   "source": [
    "( 2.4408-2.5387)/2.5387*100"
   ]
  },
  {
   "cell_type": "code",
   "execution_count": null,
   "id": "410ae42d-b503-48e4-8737-897f4a6645a4",
   "metadata": {},
   "outputs": [],
   "source": [
    "pdf_pre[(pdf_pre.labelPurchase == 0) & (pdf_pre.f_SizeMedianDiff != -1)]['f_SizeMedianDiff'].mean()"
   ]
  },
  {
   "cell_type": "code",
   "execution_count": null,
   "id": "e4690bcc-668f-4069-9ab6-a31af3ded79f",
   "metadata": {},
   "outputs": [],
   "source": [
    "pdf_pre[(pdf_pre.labelPurchase == 1) & (pdf_pre.f_SizeMedianDiff != -1)]['f_SizeMedianDiff'].mean()"
   ]
  },
  {
   "cell_type": "code",
   "execution_count": null,
   "id": "46f06000-ecbb-42d3-867f-42dc97ab8dd8",
   "metadata": {
    "scrolled": true,
    "tags": []
   },
   "outputs": [],
   "source": [
    "fc = pdf[size4f_piyiv7_f].count().sum()\n",
    "fc"
   ]
  },
  {
   "cell_type": "code",
   "execution_count": null,
   "id": "dd83388c-ac2e-419e-a926-5d5fcdaa6ece",
   "metadata": {},
   "outputs": [],
   "source": [
    "pdf_pre[pdf_pre.labelPurchase == 0]['f_RecallSourceBullseye'].value_counts()"
   ]
  },
  {
   "cell_type": "code",
   "execution_count": null,
   "id": "940a165e-3801-4400-91d4-4a3f0d645da6",
   "metadata": {},
   "outputs": [],
   "source": [
    "2214/3690"
   ]
  },
  {
   "cell_type": "code",
   "execution_count": null,
   "id": "d754c3be-0764-46d3-9ff3-eeaabc369457",
   "metadata": {},
   "outputs": [],
   "source": [
    "pdf_pre[(pdf_pre.labelPurchase == 1) & ((pdf_pre.f_RecallSourceBullseye ==1) | (pdf_pre.f_FreqSameItemInWatchBadge > 0))].shape"
   ]
  },
  {
   "cell_type": "code",
   "execution_count": null,
   "id": "5fdefac0-0607-4e2c-a49a-cda6eedef109",
   "metadata": {},
   "outputs": [],
   "source": [
    "pdf_pre[pdf_pre.labelPurchase == 1]['f_RecallSourceBullseye'].value_counts()"
   ]
  },
  {
   "cell_type": "code",
   "execution_count": null,
   "id": "672abab0-c2af-4f34-abdd-8dfd4e11d6b5",
   "metadata": {},
   "outputs": [],
   "source": [
    "pdf_pre.f_RecallSourceBullseye.value_counts()"
   ]
  },
  {
   "cell_type": "code",
   "execution_count": null,
   "id": "1a69c1f8-6d64-4300-9427-c18b9386d6d5",
   "metadata": {},
   "outputs": [],
   "source": [
    "140510/(140510+1237151)"
   ]
  },
  {
   "cell_type": "code",
   "execution_count": null,
   "id": "a6d123fc-678d-458f-8209-7857377d7039",
   "metadata": {},
   "outputs": [],
   "source": [
    "pdf_pre.labelPurchase.value_counts()"
   ]
  },
  {
   "cell_type": "code",
   "execution_count": null,
   "id": "b464e86c-8ff1-48f9-b10b-eeeee992995e",
   "metadata": {},
   "outputs": [],
   "source": [
    "182413/(182413+1195248)"
   ]
  },
  {
   "cell_type": "code",
   "execution_count": null,
   "id": "d557ba69-c04c-49bd-9eb1-6871177f6ac2",
   "metadata": {
    "tags": []
   },
   "outputs": [],
   "source": [
    "pdf_pre \\\n",
    "    .groupby('meid') \\\n",
    "    .size() \\\n",
    "    .to_frame(\"meid_count\") \\\n",
    "    .groupby('meid_count') \\\n",
    "    .size() / pdf.meid.drop_duplicates().shape[0]"
   ]
  },
  {
   "cell_type": "markdown",
   "id": "635b2dcd-6266-4218-9589-142e8a1ec011",
   "metadata": {},
   "source": [
    "### Sale rank of hp piyi v7model on sneakers data "
   ]
  },
  {
   "cell_type": "code",
   "execution_count": null,
   "id": "c9567a83-bd87-4c40-9033-bceaebb1359a",
   "metadata": {},
   "outputs": [],
   "source": [
    "np.mean(calc_sale_rank(pdf, 'rank', ascending=True))"
   ]
  },
  {
   "cell_type": "markdown",
   "id": "b9fa10bc-aa77-4679-8675-d7709b63d8ee",
   "metadata": {},
   "source": [
    "# Training: "
   ]
  },
  {
   "cell_type": "markdown",
   "id": "03c5d8f6-fdcc-45c8-9da8-8c8b66bb2276",
   "metadata": {
    "tags": []
   },
   "source": [
    "# Process data"
   ]
  },
  {
   "cell_type": "raw",
   "id": "2a4096a2-dc8e-49f8-a82a-151ec637eeb0",
   "metadata": {},
   "source": [
    "train size=0.6 \n",
    "test size=0.2 \n",
    "valid size=0.2"
   ]
  },
  {
   "cell_type": "code",
   "execution_count": 80,
   "id": "ede89139-e60f-491c-ad64-bf7ce9313b47",
   "metadata": {},
   "outputs": [],
   "source": [
    "pdf.sort_values(by=['meid'], ascending=True, inplace=True)"
   ]
  },
  {
   "cell_type": "code",
   "execution_count": 81,
   "id": "88c15b71-3306-48a5-825c-e02730e4aa27",
   "metadata": {},
   "outputs": [],
   "source": [
    "#train test val: \n",
    "train_inds, test_inds = next(GroupShuffleSplit(test_size=.40, n_splits=2,\n",
    "                                               random_state = 7).split(pdf,\n",
    "                                                                       groups=pdf['meid']))\n",
    "\n",
    "train = pdf.iloc[train_inds]\n",
    "test = pdf.iloc[test_inds] \n",
    "\n",
    "val_inds, test_inds = next(GroupShuffleSplit(test_size=.5, n_splits=2,\n",
    "                                               random_state = 7).split(test,\n",
    "                                                                       groups=test['meid']))\n",
    "\n",
    "valid = test.iloc[val_inds]\n",
    "test = test.iloc[test_inds]"
   ]
  },
  {
   "cell_type": "code",
   "execution_count": 82,
   "id": "e0de6fc7-c17e-4159-8e28-5f933fa253ca",
   "metadata": {},
   "outputs": [
    {
     "data": {
      "text/plain": [
       "17169"
      ]
     },
     "execution_count": 82,
     "metadata": {},
     "output_type": "execute_result"
    }
   ],
   "source": [
    "train['meid'].nunique()"
   ]
  },
  {
   "cell_type": "code",
   "execution_count": 83,
   "id": "a4cf1ea5-1020-4c4a-bd83-ab3b55af70a1",
   "metadata": {},
   "outputs": [
    {
     "name": "stderr",
     "output_type": "stream",
     "text": [
      "/opt/conda/lib/python3.7/site-packages/ipykernel_launcher.py:1: SettingWithCopyWarning: \n",
      "A value is trying to be set on a copy of a slice from a DataFrame\n",
      "\n",
      "See the caveats in the documentation: https://pandas.pydata.org/pandas-docs/stable/user_guide/indexing.html#returning-a-view-versus-a-copy\n",
      "  \"\"\"Entry point for launching an IPython kernel.\n"
     ]
    }
   ],
   "source": [
    "train.sort_values(by=['meid'], ascending=True, inplace=True)"
   ]
  },
  {
   "cell_type": "code",
   "execution_count": 84,
   "id": "f4a688ad-bfdc-4a71-9002-664bbf8ab250",
   "metadata": {},
   "outputs": [],
   "source": [
    "test.sort_values(by=['meid'], ascending=True, inplace=True),\n",
    "valid.sort_values(by=['meid'], ascending=True, inplace=True)"
   ]
  },
  {
   "cell_type": "code",
   "execution_count": 85,
   "id": "78d7557e-6af4-44a4-a518-3d609b8c3121",
   "metadata": {},
   "outputs": [
    {
     "data": {
      "text/plain": [
       "(164863, 55025, 54996)"
      ]
     },
     "execution_count": 85,
     "metadata": {},
     "output_type": "execute_result"
    }
   ],
   "source": [
    "len(train), len(valid), len(test)"
   ]
  },
  {
   "cell_type": "code",
   "execution_count": 86,
   "id": "306b22be-3712-4489-b96f-ea0f8f3de172",
   "metadata": {},
   "outputs": [
    {
     "data": {
      "text/plain": [
       "5771"
      ]
     },
     "execution_count": 86,
     "metadata": {},
     "output_type": "execute_result"
    }
   ],
   "source": [
    "test.labelPurchase.sum()"
   ]
  },
  {
   "cell_type": "code",
   "execution_count": 87,
   "id": "d15687e6-3eb2-4838-b937-eafafd782b88",
   "metadata": {},
   "outputs": [
    {
     "data": {
      "text/html": [
       "<div>\n",
       "<style scoped>\n",
       "    .dataframe tbody tr th:only-of-type {\n",
       "        vertical-align: middle;\n",
       "    }\n",
       "\n",
       "    .dataframe tbody tr th {\n",
       "        vertical-align: top;\n",
       "    }\n",
       "\n",
       "    .dataframe thead th {\n",
       "        text-align: right;\n",
       "    }\n",
       "</style>\n",
       "<table border=\"1\" class=\"dataframe\">\n",
       "  <thead>\n",
       "    <tr style=\"text-align: right;\">\n",
       "      <th></th>\n",
       "      <th>meid</th>\n",
       "      <th>itemId</th>\n",
       "      <th>siteId</th>\n",
       "      <th>userId</th>\n",
       "      <th>l1Cat</th>\n",
       "      <th>rank</th>\n",
       "      <th>labelPurchase</th>\n",
       "    </tr>\n",
       "  </thead>\n",
       "  <tbody>\n",
       "    <tr>\n",
       "      <th>0</th>\n",
       "      <td>00033b890abc47b2b65d42547cc30913</td>\n",
       "      <td>155441804370</td>\n",
       "      <td>0</td>\n",
       "      <td>1078293796</td>\n",
       "      <td>b'0.237'</td>\n",
       "      <td>9</td>\n",
       "      <td>0</td>\n",
       "    </tr>\n",
       "    <tr>\n",
       "      <th>1</th>\n",
       "      <td>00033b890abc47b2b65d42547cc30913</td>\n",
       "      <td>165999363134</td>\n",
       "      <td>0</td>\n",
       "      <td>1078293796</td>\n",
       "      <td>b'0.237'</td>\n",
       "      <td>1</td>\n",
       "      <td>0</td>\n",
       "    </tr>\n",
       "    <tr>\n",
       "      <th>2</th>\n",
       "      <td>00033b890abc47b2b65d42547cc30913</td>\n",
       "      <td>175549638773</td>\n",
       "      <td>0</td>\n",
       "      <td>1078293796</td>\n",
       "      <td>b'0.237'</td>\n",
       "      <td>3</td>\n",
       "      <td>0</td>\n",
       "    </tr>\n",
       "  </tbody>\n",
       "</table>\n",
       "</div>"
      ],
      "text/plain": [
       "                               meid        itemId  siteId      userId  \\\n",
       "0  00033b890abc47b2b65d42547cc30913  155441804370       0  1078293796   \n",
       "1  00033b890abc47b2b65d42547cc30913  165999363134       0  1078293796   \n",
       "2  00033b890abc47b2b65d42547cc30913  175549638773       0  1078293796   \n",
       "\n",
       "      l1Cat  rank  labelPurchase  \n",
       "0  b'0.237'     9              0  \n",
       "1  b'0.237'     1              0  \n",
       "2  b'0.237'     3              0  "
      ]
     },
     "execution_count": 87,
     "metadata": {},
     "output_type": "execute_result"
    }
   ],
   "source": [
    "train.sort_values(by=['meid'], ascending=True)[[ 'meid','itemId','siteId','userId', 'l1Cat', 'rank', 'labelPurchase']].head(3)"
   ]
  },
  {
   "cell_type": "code",
   "execution_count": 88,
   "id": "020b6cfb-c7fa-4949-adf4-244bcdae050a",
   "metadata": {},
   "outputs": [
    {
     "data": {
      "text/plain": [
       "0    147500\n",
       "1     17363\n",
       "Name: labelPurchase, dtype: int64"
      ]
     },
     "execution_count": 88,
     "metadata": {},
     "output_type": "execute_result"
    }
   ],
   "source": [
    "train.labelPurchase.value_counts()"
   ]
  },
  {
   "cell_type": "code",
   "execution_count": 89,
   "id": "f0d7fe87-891e-4b41-8088-5cb088df4dcf",
   "metadata": {},
   "outputs": [
    {
     "data": {
      "text/plain": [
       "0    49225\n",
       "1     5771\n",
       "Name: labelPurchase, dtype: int64"
      ]
     },
     "execution_count": 89,
     "metadata": {},
     "output_type": "execute_result"
    }
   ],
   "source": [
    "test.labelPurchase.value_counts()"
   ]
  },
  {
   "cell_type": "code",
   "execution_count": 90,
   "id": "4c466138-34ac-4279-b1af-f0426a61c909",
   "metadata": {},
   "outputs": [
    {
     "data": {
      "text/plain": [
       "0    49226\n",
       "1     5799\n",
       "Name: labelPurchase, dtype: int64"
      ]
     },
     "execution_count": 90,
     "metadata": {},
     "output_type": "execute_result"
    }
   ],
   "source": [
    "valid.labelPurchase.value_counts()"
   ]
  },
  {
   "cell_type": "code",
   "execution_count": 91,
   "id": "92c8cdb1-df80-427a-9be6-d68f19e70efe",
   "metadata": {},
   "outputs": [],
   "source": [
    "train.to_parquet('/data/shpx/data/olivyatan/piyi/train_snkrs_4m_7dhp.parquet')\n",
    "valid.to_parquet('/data/shpx/data/olivyatan/piyi/valid_snkrs_4m_7dhp.parquet')\n",
    "test.to_parquet('/data/shpx/data/olivyatan/piyi/test_snkrs_4m_7dhp.parquet')"
   ]
  },
  {
   "cell_type": "markdown",
   "id": "aee6b732-daa8-4ea7-98ee-fb545041c65c",
   "metadata": {},
   "source": [
    "#### sale rank of hp model by rank for pa data"
   ]
  },
  {
   "cell_type": "code",
   "execution_count": 92,
   "id": "9c5d89a6-5ee6-43d4-8c2a-a61167cb3066",
   "metadata": {},
   "outputs": [
    {
     "data": {
      "text/plain": [
       "(54996, 1519)"
      ]
     },
     "execution_count": 92,
     "metadata": {},
     "output_type": "execute_result"
    }
   ],
   "source": [
    "test.shape"
   ]
  },
  {
   "cell_type": "code",
   "execution_count": 111,
   "id": "0e4dd5d3-8e8d-4e16-a591-a45ae5565335",
   "metadata": {},
   "outputs": [
    {
     "data": {
      "text/plain": [
       "(2.826324099325391, 2.8243935116512753, 2.857758002009473)"
      ]
     },
     "execution_count": 111,
     "metadata": {},
     "output_type": "execute_result"
    }
   ],
   "source": [
    "valid_sr_prod = calc_sale_rank(valid, 'rank', ascending=True)\n",
    "train_sr_prod = calc_sale_rank(train, 'rank', ascending=True)\n",
    "test_sr_prod = calc_sale_rank(test, 'rank', ascending=True)\n",
    "np.mean(valid_sr_prod), np.mean(train_sr_prod),np.mean(test_sr_prod)"
   ]
  },
  {
   "cell_type": "code",
   "execution_count": 93,
   "id": "737b984b-75c7-4cde-a236-0f68bcbaa251",
   "metadata": {},
   "outputs": [
    {
     "data": {
      "text/plain": [
       "(2.8229949327275903, 2.8276544935639816, 2.7833682739343115)"
      ]
     },
     "execution_count": 93,
     "metadata": {},
     "output_type": "execute_result"
    }
   ],
   "source": [
    "valid_sr_prod = calc_sale_rank(valid, 'rank', ascending=True)\n",
    "train_sr_prod = calc_sale_rank(train, 'rank', ascending=True)\n",
    "test_sr_prod = calc_sale_rank(test, 'rank', ascending=True)\n",
    "np.mean(valid_sr_prod), np.mean(train_sr_prod),np.mean(test_sr_prod)\n",
    "#new 7d"
   ]
  },
  {
   "cell_type": "code",
   "execution_count": 69,
   "id": "228f2ded-1092-4ca1-a76b-503aec8a7cde",
   "metadata": {},
   "outputs": [],
   "source": [
    "#same sale reank for purchases only in test and clicks"
   ]
  },
  {
   "cell_type": "markdown",
   "id": "9cfa07b0-08ed-45bf-ba1a-115d75154fe5",
   "metadata": {
    "tags": []
   },
   "source": [
    "# Train with original features:  \n",
    "#### train & val test- label purchase"
   ]
  },
  {
   "cell_type": "code",
   "execution_count": 94,
   "id": "ccdbce50-b7c9-4b24-b65d-3aea3a898a10",
   "metadata": {},
   "outputs": [
    {
     "data": {
      "text/plain": [
       "1470"
      ]
     },
     "execution_count": 94,
     "metadata": {},
     "output_type": "execute_result"
    }
   ],
   "source": [
    "X_f_cols = [i[0] for i in (np.argwhere(pdf.columns.str.startswith(\"f_\") == True))]\n",
    "len(X_f_cols)"
   ]
  },
  {
   "cell_type": "code",
   "execution_count": 95,
   "id": "59442444-de00-4081-b693-c8fe965e9624",
   "metadata": {},
   "outputs": [
    {
     "data": {
      "text/plain": [
       "Index(['f_CoviewCountWnD', 'f_ConditionGranular', 'f_SlrRampupTrans8w',\n",
       "       'f_SearchModel103UserItemAffinity_PredPriceSd',\n",
       "       'f_SlrImmatureRatioSnad14d', 'f_ConditionFilterRecoMatchness',\n",
       "       'f_ColorDistance', 'f_ItemWatchCountInteractSellerLstgConvNorm',\n",
       "       'f_SizeDistance', 'f_UserHotClickCategory3Day',\n",
       "       ...\n",
       "       'f_MaxViewedItemTitleJaccardWithSameCate',\n",
       "       'f_MeanViewedItemTitleJaccardWithSameCate',\n",
       "       'f_ItemFastIMAWatchCount7DayDecayDomesticWebAndMobile',\n",
       "       'f_Seller90DayBBEOverTransactionsLogSmooth', 'f_ItemIsNew',\n",
       "       'f_RecallSourceToraUb',\n",
       "       'f_Seller90DayStockoutOverTransactionsLogSmooth',\n",
       "       'f_ItemFastIMASaleCount7DayDecayDomesticWebAndMobile',\n",
       "       'f_ItemSellerFixedPriceViewsOverImp',\n",
       "       'f_ItemFastIMAViewsOverImp7DayDecayLogSmoothAllWebAndMobileV2'],\n",
       "      dtype='object', length=1519)"
      ]
     },
     "execution_count": 95,
     "metadata": {},
     "output_type": "execute_result"
    }
   ],
   "source": [
    "pdf.columns"
   ]
  },
  {
   "cell_type": "markdown",
   "id": "1879f041-bf89-45e0-b89a-d70492cabb64",
   "metadata": {},
   "source": [
    "### 1.Train piyi v7 features only: "
   ]
  },
  {
   "cell_type": "code",
   "execution_count": 96,
   "id": "f4f5af1d-0acc-453a-97f7-3ba87f0ad29b",
   "metadata": {},
   "outputs": [
    {
     "data": {
      "text/plain": [
       "((164863, 32), (55025, 32), (54996, 32))"
      ]
     },
     "execution_count": 96,
     "metadata": {},
     "output_type": "execute_result"
    }
   ],
   "source": [
    "X_train = train[piyiv7_sneakers_f]\n",
    "y_train = train.labelPurchase\n",
    "\n",
    "X_valid = valid[piyiv7_sneakers_f]\n",
    "y_valid = valid.labelPurchase\n",
    "\n",
    "X_test = test[piyiv7_sneakers_f]\n",
    "y_test = test.labelPurchase\n",
    "#change test to label purchase.\n",
    "\n",
    "X_train.shape, X_valid.shape, X_test.shape"
   ]
  },
  {
   "cell_type": "code",
   "execution_count": 97,
   "id": "2abe8834-e5aa-4219-820e-10c4cb41c8ee",
   "metadata": {},
   "outputs": [
    {
     "data": {
      "text/html": [
       "<div>\n",
       "<style scoped>\n",
       "    .dataframe tbody tr th:only-of-type {\n",
       "        vertical-align: middle;\n",
       "    }\n",
       "\n",
       "    .dataframe tbody tr th {\n",
       "        vertical-align: top;\n",
       "    }\n",
       "\n",
       "    .dataframe thead th {\n",
       "        text-align: right;\n",
       "    }\n",
       "</style>\n",
       "<table border=\"1\" class=\"dataframe\">\n",
       "  <thead>\n",
       "    <tr style=\"text-align: right;\">\n",
       "      <th></th>\n",
       "      <th>f_ItemSalesOverImpPricePrior7DayDecayLogSmoothInternationalWebAndMobileNorm</th>\n",
       "      <th>f_BullseyeRelRVILeafCatMedianPriceDiffV2</th>\n",
       "      <th>f_ItemSalesOverImpPricePrior7DayDecayLogSmoothDomesticWebAndMobileNorm</th>\n",
       "      <th>f_MerchImpressionsDecayed</th>\n",
       "      <th>f_SellerFeedbackLogNormWnD</th>\n",
       "      <th>f_EpidRelative</th>\n",
       "      <th>f_ItemWatchOverImpLogSmoothAllNorm</th>\n",
       "      <th>f_ItemTimeLeftSec</th>\n",
       "      <th>f_ItemVariantWatchOverImpressions7DayDecayLogSmoothDomesticWebAndMobileNorm</th>\n",
       "      <th>f_ItemTimeOnSiteNorm</th>\n",
       "      <th>...</th>\n",
       "      <th>f_PriceDiffMedianRecall</th>\n",
       "      <th>f_BullseyeAbsRVILeafCatMedianPriceDiffV2</th>\n",
       "      <th>f_BullseyeRVILeafCatMedianPriceV2</th>\n",
       "      <th>f_AvgSameLeafRviPriceRatio</th>\n",
       "      <th>f_FreqSameItemInWatchBadge</th>\n",
       "      <th>f_TitleCosineSimilarityToShoppingcartCentroid</th>\n",
       "      <th>f_AvgSameLeafRviPriceDiff</th>\n",
       "      <th>f_NumSameRviInLastWeek</th>\n",
       "      <th>f_BibowatchRelPosition</th>\n",
       "      <th>f_FreqWatchPriceBellowItemPrice</th>\n",
       "    </tr>\n",
       "  </thead>\n",
       "  <tbody>\n",
       "    <tr>\n",
       "      <th>0</th>\n",
       "      <td>0.522002</td>\n",
       "      <td>-0.224435</td>\n",
       "      <td>0.497201</td>\n",
       "      <td>0.000000</td>\n",
       "      <td>0.434398</td>\n",
       "      <td>0.679423</td>\n",
       "      <td>0.443638</td>\n",
       "      <td>2524605.0</td>\n",
       "      <td>0.515278</td>\n",
       "      <td>0.011363</td>\n",
       "      <td>...</td>\n",
       "      <td>-988.5</td>\n",
       "      <td>-586.0</td>\n",
       "      <td>2611.0</td>\n",
       "      <td>0.324669</td>\n",
       "      <td>0.0</td>\n",
       "      <td>-1.0</td>\n",
       "      <td>-42.121246</td>\n",
       "      <td>0.0</td>\n",
       "      <td>-1.0</td>\n",
       "      <td>2.313340e-09</td>\n",
       "    </tr>\n",
       "    <tr>\n",
       "      <th>1</th>\n",
       "      <td>0.535889</td>\n",
       "      <td>-0.234393</td>\n",
       "      <td>0.424974</td>\n",
       "      <td>0.000000</td>\n",
       "      <td>0.512884</td>\n",
       "      <td>1.684803</td>\n",
       "      <td>0.442389</td>\n",
       "      <td>1592189.0</td>\n",
       "      <td>0.626618</td>\n",
       "      <td>0.004477</td>\n",
       "      <td>...</td>\n",
       "      <td>-318.5</td>\n",
       "      <td>-612.0</td>\n",
       "      <td>2611.0</td>\n",
       "      <td>0.320500</td>\n",
       "      <td>0.0</td>\n",
       "      <td>-1.0</td>\n",
       "      <td>-42.381248</td>\n",
       "      <td>0.0</td>\n",
       "      <td>-1.0</td>\n",
       "      <td>2.313340e-09</td>\n",
       "    </tr>\n",
       "    <tr>\n",
       "      <th>2</th>\n",
       "      <td>0.519483</td>\n",
       "      <td>0.531597</td>\n",
       "      <td>0.400974</td>\n",
       "      <td>187.360001</td>\n",
       "      <td>0.648639</td>\n",
       "      <td>2.038154</td>\n",
       "      <td>0.526170</td>\n",
       "      <td>1631550.0</td>\n",
       "      <td>0.706909</td>\n",
       "      <td>0.036633</td>\n",
       "      <td>...</td>\n",
       "      <td>1581.5</td>\n",
       "      <td>1388.0</td>\n",
       "      <td>2611.0</td>\n",
       "      <td>0.641161</td>\n",
       "      <td>0.0</td>\n",
       "      <td>-1.0</td>\n",
       "      <td>-22.381245</td>\n",
       "      <td>0.0</td>\n",
       "      <td>-1.0</td>\n",
       "      <td>2.313340e-09</td>\n",
       "    </tr>\n",
       "  </tbody>\n",
       "</table>\n",
       "<p>3 rows × 32 columns</p>\n",
       "</div>"
      ],
      "text/plain": [
       "   f_ItemSalesOverImpPricePrior7DayDecayLogSmoothInternationalWebAndMobileNorm  \\\n",
       "0                                           0.522002                             \n",
       "1                                           0.535889                             \n",
       "2                                           0.519483                             \n",
       "\n",
       "   f_BullseyeRelRVILeafCatMedianPriceDiffV2  \\\n",
       "0                                 -0.224435   \n",
       "1                                 -0.234393   \n",
       "2                                  0.531597   \n",
       "\n",
       "   f_ItemSalesOverImpPricePrior7DayDecayLogSmoothDomesticWebAndMobileNorm  \\\n",
       "0                                           0.497201                        \n",
       "1                                           0.424974                        \n",
       "2                                           0.400974                        \n",
       "\n",
       "   f_MerchImpressionsDecayed  f_SellerFeedbackLogNormWnD  f_EpidRelative  \\\n",
       "0                   0.000000                    0.434398        0.679423   \n",
       "1                   0.000000                    0.512884        1.684803   \n",
       "2                 187.360001                    0.648639        2.038154   \n",
       "\n",
       "   f_ItemWatchOverImpLogSmoothAllNorm  f_ItemTimeLeftSec  \\\n",
       "0                            0.443638          2524605.0   \n",
       "1                            0.442389          1592189.0   \n",
       "2                            0.526170          1631550.0   \n",
       "\n",
       "   f_ItemVariantWatchOverImpressions7DayDecayLogSmoothDomesticWebAndMobileNorm  \\\n",
       "0                                           0.515278                             \n",
       "1                                           0.626618                             \n",
       "2                                           0.706909                             \n",
       "\n",
       "   f_ItemTimeOnSiteNorm  ...  f_PriceDiffMedianRecall  \\\n",
       "0              0.011363  ...                   -988.5   \n",
       "1              0.004477  ...                   -318.5   \n",
       "2              0.036633  ...                   1581.5   \n",
       "\n",
       "   f_BullseyeAbsRVILeafCatMedianPriceDiffV2  \\\n",
       "0                                    -586.0   \n",
       "1                                    -612.0   \n",
       "2                                    1388.0   \n",
       "\n",
       "   f_BullseyeRVILeafCatMedianPriceV2  f_AvgSameLeafRviPriceRatio  \\\n",
       "0                             2611.0                    0.324669   \n",
       "1                             2611.0                    0.320500   \n",
       "2                             2611.0                    0.641161   \n",
       "\n",
       "   f_FreqSameItemInWatchBadge  f_TitleCosineSimilarityToShoppingcartCentroid  \\\n",
       "0                         0.0                                           -1.0   \n",
       "1                         0.0                                           -1.0   \n",
       "2                         0.0                                           -1.0   \n",
       "\n",
       "   f_AvgSameLeafRviPriceDiff  f_NumSameRviInLastWeek  f_BibowatchRelPosition  \\\n",
       "0                 -42.121246                     0.0                    -1.0   \n",
       "1                 -42.381248                     0.0                    -1.0   \n",
       "2                 -22.381245                     0.0                    -1.0   \n",
       "\n",
       "   f_FreqWatchPriceBellowItemPrice  \n",
       "0                     2.313340e-09  \n",
       "1                     2.313340e-09  \n",
       "2                     2.313340e-09  \n",
       "\n",
       "[3 rows x 32 columns]"
      ]
     },
     "execution_count": 97,
     "metadata": {},
     "output_type": "execute_result"
    }
   ],
   "source": [
    "X_train.head(3)"
   ]
  },
  {
   "cell_type": "code",
   "execution_count": 98,
   "id": "51da2eb8-d7f3-4946-9df7-af8793679ca9",
   "metadata": {},
   "outputs": [
    {
     "name": "stdout",
     "output_type": "stream",
     "text": [
      "Index([], dtype='object')\n"
     ]
    }
   ],
   "source": [
    "X_train\n",
    "cols = [x for x in X_train.columns if 'Size' in x] \n",
    "\n",
    "print(X_train[cols].columns) "
   ]
  },
  {
   "cell_type": "code",
   "execution_count": 99,
   "id": "e1538210-40fa-4287-9e6c-8526f2993917",
   "metadata": {},
   "outputs": [
    {
     "data": {
      "text/plain": [
       "0    49225\n",
       "1     5771\n",
       "Name: labelPurchase, dtype: int64"
      ]
     },
     "execution_count": 99,
     "metadata": {},
     "output_type": "execute_result"
    }
   ],
   "source": [
    "y_test.value_counts()"
   ]
  },
  {
   "cell_type": "code",
   "execution_count": 100,
   "id": "d07294dd-5f01-4f9e-b2a1-6b19313a9c50",
   "metadata": {},
   "outputs": [],
   "source": [
    "group_train = train.groupby('meid').size().to_frame('size')['size'].to_numpy()\n",
    "group_valid = valid.groupby('meid').size().to_frame('size')['size'].to_numpy()\n",
    "group_test=test.groupby('meid').size().to_frame('size')['size'].to_numpy()"
   ]
  },
  {
   "cell_type": "code",
   "execution_count": 101,
   "id": "5667a621-e06f-4774-8dc4-8777bb355d84",
   "metadata": {},
   "outputs": [],
   "source": [
    "dtrain = xgb.DMatrix(X_train, label=y_train)\n",
    "dtrain.set_group(group=group_train)"
   ]
  },
  {
   "cell_type": "code",
   "execution_count": 102,
   "id": "43296cce-a2ff-4acc-89a7-036ebef92a5c",
   "metadata": {},
   "outputs": [
    {
     "name": "stdout",
     "output_type": "stream",
     "text": [
      "08:51:11\n",
      "CV1 with max_depth=4, min_child_weight=5, subsample=0.7, eta=0.3\n",
      "\tmap 0.629 for 99 rounds\n",
      "CV2 with max_depth=4, min_child_weight=5, subsample=1, eta=0.3\n",
      "\tmap 0.628 for 100 rounds\n",
      "Best params: 4, 5, 0.7, 0.3, map: 0.6289846000000001\n",
      "09:17:11\n",
      "Saving hyper-paramter output\n"
     ]
    }
   ],
   "source": [
    "from datetime import datetime \n",
    "import pandas as pd\n",
    "params = {\n",
    "    'objective': \"rank:pairwise\",\n",
    "    'nthread': -1\n",
    "}\n",
    "\n",
    "gridsearch_params = [\n",
    "    (max_depth, min_child_weight, subsample, eta)\n",
    "    for max_depth in [4]\n",
    "    for min_child_weight in [5]\n",
    "    for subsample in [0.7, 1]\n",
    "    for eta in [0.3 ]\n",
    "]\n",
    "\n",
    "N_ROUNDS = 100\n",
    "\n",
    "size3f_hyper_df = run_hyper_tuning(dtrain= dtrain,\n",
    "                                    grid = gridsearch_params,\n",
    "                                    params = params,\n",
    "                                    output_dir=\"/data/shpx/data/olivyatan/piyi/snkrs\",\n",
    "                                    out_filename= \"train_piyi7sneakers_orig2m\",\n",
    "                                    nrounds = N_ROUNDS)"
   ]
  },
  {
   "cell_type": "code",
   "execution_count": 103,
   "id": "100898ea-0e10-4ed1-be13-d3d57987a733",
   "metadata": {},
   "outputs": [],
   "source": [
    "orig_hyper_df = pd.read_csv(\"/data/shpx/data/olivyatan/piyi/snkrs/hyper_df_train_piyi7sneakers_orig2m.csv\")"
   ]
  },
  {
   "cell_type": "code",
   "execution_count": 104,
   "id": "d9b969b1-8d22-40b5-be06-b08431f31693",
   "metadata": {},
   "outputs": [],
   "source": [
    "orig_hyper_df_sorted = orig_hyper_df.sort_values(\"mean_map\", ascending=False)"
   ]
  },
  {
   "cell_type": "code",
   "execution_count": 105,
   "id": "ab666462-7f52-4ad0-9db8-4e630c738eb4",
   "metadata": {},
   "outputs": [
    {
     "data": {
      "text/html": [
       "<div>\n",
       "<style scoped>\n",
       "    .dataframe tbody tr th:only-of-type {\n",
       "        vertical-align: middle;\n",
       "    }\n",
       "\n",
       "    .dataframe tbody tr th {\n",
       "        vertical-align: top;\n",
       "    }\n",
       "\n",
       "    .dataframe thead th {\n",
       "        text-align: right;\n",
       "    }\n",
       "</style>\n",
       "<table border=\"1\" class=\"dataframe\">\n",
       "  <thead>\n",
       "    <tr style=\"text-align: right;\">\n",
       "      <th></th>\n",
       "      <th>max_depth</th>\n",
       "      <th>min_child_weight</th>\n",
       "      <th>subsample</th>\n",
       "      <th>eta</th>\n",
       "      <th>mean_map</th>\n",
       "      <th>boost_rounds</th>\n",
       "    </tr>\n",
       "  </thead>\n",
       "  <tbody>\n",
       "    <tr>\n",
       "      <th>0</th>\n",
       "      <td>4.0</td>\n",
       "      <td>5.0</td>\n",
       "      <td>0.7</td>\n",
       "      <td>0.3</td>\n",
       "      <td>0.628985</td>\n",
       "      <td>99.0</td>\n",
       "    </tr>\n",
       "    <tr>\n",
       "      <th>1</th>\n",
       "      <td>4.0</td>\n",
       "      <td>5.0</td>\n",
       "      <td>1.0</td>\n",
       "      <td>0.3</td>\n",
       "      <td>0.627987</td>\n",
       "      <td>100.0</td>\n",
       "    </tr>\n",
       "  </tbody>\n",
       "</table>\n",
       "</div>"
      ],
      "text/plain": [
       "   max_depth  min_child_weight  subsample  eta  mean_map  boost_rounds\n",
       "0        4.0               5.0        0.7  0.3  0.628985          99.0\n",
       "1        4.0               5.0        1.0  0.3  0.627987         100.0"
      ]
     },
     "execution_count": 105,
     "metadata": {},
     "output_type": "execute_result"
    }
   ],
   "source": [
    "orig_hyper_df_sorted.head()"
   ]
  },
  {
   "cell_type": "markdown",
   "id": "03536259-3fe7-4ecb-8443-88b430497771",
   "metadata": {},
   "source": [
    "#### Train with best params :"
   ]
  },
  {
   "cell_type": "code",
   "execution_count": 106,
   "id": "e9572868-66ee-4c8e-824a-f140df9f6274",
   "metadata": {},
   "outputs": [],
   "source": [
    "clf = xgb.XGBRanker(max_depth= int(orig_hyper_df_sorted.max_depth.iloc[0]),\n",
    "                    learning_rate=orig_hyper_df_sorted.eta.iloc[0],\n",
    "                    n_estimators= int(orig_hyper_df_sorted.boost_rounds.iloc[0]),                    \n",
    "                    min_child_weight= int(orig_hyper_df_sorted.min_child_weight.iloc[0]),\n",
    "                    subsample=orig_hyper_df_sorted.subsample.iloc[0],\n",
    "                    objective=\"rank:pairwise\",\n",
    "                    tree_method=\"exact\",\n",
    "                    n_jobs=8)"
   ]
  },
  {
   "cell_type": "code",
   "execution_count": 107,
   "id": "5d76e242-c502-4e96-9b01-ec38a1789e26",
   "metadata": {},
   "outputs": [
    {
     "data": {
      "text/plain": [
       "XGBRanker(base_score=None, booster=None, colsample_bylevel=None,\n",
       "          colsample_bynode=None, colsample_bytree=None, gamma=None, gpu_id=None,\n",
       "          importance_type='gain', interaction_constraints=None,\n",
       "          learning_rate=0.3, max_delta_step=None, max_depth=4,\n",
       "          min_child_weight=5, missing=nan, monotone_constraints=None,\n",
       "          n_estimators=99, n_jobs=8, num_parallel_tree=None, random_state=None,\n",
       "          reg_alpha=None, reg_lambda=None, scale_pos_weight=None, subsample=0.7,\n",
       "          tree_method='exact', validate_parameters=None, verbosity=None)"
      ]
     },
     "execution_count": 107,
     "metadata": {},
     "output_type": "execute_result"
    }
   ],
   "source": [
    "clf"
   ]
  },
  {
   "cell_type": "code",
   "execution_count": 108,
   "id": "163c8e61-db08-45f3-88ca-37ee491047c2",
   "metadata": {
    "scrolled": true,
    "tags": []
   },
   "outputs": [
    {
     "name": "stdout",
     "output_type": "stream",
     "text": [
      "[0]\tvalidation_0-map:0.49873\tvalidation_0-ndcg@10-:0.61663\tvalidation_1-map:0.49012\tvalidation_1-ndcg@10-:0.61024\n",
      "[1]\tvalidation_0-map:0.51297\tvalidation_0-ndcg@10-:0.62793\tvalidation_1-map:0.50511\tvalidation_1-ndcg@10-:0.62209\n",
      "[2]\tvalidation_0-map:0.52351\tvalidation_0-ndcg@10-:0.63629\tvalidation_1-map:0.51481\tvalidation_1-ndcg@10-:0.62982\n",
      "[3]\tvalidation_0-map:0.53170\tvalidation_0-ndcg@10-:0.64277\tvalidation_1-map:0.52792\tvalidation_1-ndcg@10-:0.63996\n",
      "[4]\tvalidation_0-map:0.53817\tvalidation_0-ndcg@10-:0.64776\tvalidation_1-map:0.53119\tvalidation_1-ndcg@10-:0.64258\n",
      "[5]\tvalidation_0-map:0.54127\tvalidation_0-ndcg@10-:0.65026\tvalidation_1-map:0.53391\tvalidation_1-ndcg@10-:0.64472\n",
      "[6]\tvalidation_0-map:0.54889\tvalidation_0-ndcg@10-:0.65617\tvalidation_1-map:0.54137\tvalidation_1-ndcg@10-:0.65054\n",
      "[7]\tvalidation_0-map:0.55040\tvalidation_0-ndcg@10-:0.65738\tvalidation_1-map:0.54430\tvalidation_1-ndcg@10-:0.65277\n",
      "[8]\tvalidation_0-map:0.55534\tvalidation_0-ndcg@10-:0.66121\tvalidation_1-map:0.54856\tvalidation_1-ndcg@10-:0.65615\n",
      "[9]\tvalidation_0-map:0.56361\tvalidation_0-ndcg@10-:0.66769\tvalidation_1-map:0.55284\tvalidation_1-ndcg@10-:0.65957\n",
      "[10]\tvalidation_0-map:0.56618\tvalidation_0-ndcg@10-:0.66964\tvalidation_1-map:0.55582\tvalidation_1-ndcg@10-:0.66187\n",
      "[11]\tvalidation_0-map:0.57153\tvalidation_0-ndcg@10-:0.67386\tvalidation_1-map:0.56191\tvalidation_1-ndcg@10-:0.66662\n",
      "[12]\tvalidation_0-map:0.57239\tvalidation_0-ndcg@10-:0.67452\tvalidation_1-map:0.56410\tvalidation_1-ndcg@10-:0.66829\n",
      "[13]\tvalidation_0-map:0.57899\tvalidation_0-ndcg@10-:0.67983\tvalidation_1-map:0.57211\tvalidation_1-ndcg@10-:0.67473\n",
      "[14]\tvalidation_0-map:0.58159\tvalidation_0-ndcg@10-:0.68191\tvalidation_1-map:0.57467\tvalidation_1-ndcg@10-:0.67674\n",
      "[15]\tvalidation_0-map:0.58566\tvalidation_0-ndcg@10-:0.68510\tvalidation_1-map:0.57867\tvalidation_1-ndcg@10-:0.67980\n",
      "[16]\tvalidation_0-map:0.58759\tvalidation_0-ndcg@10-:0.68662\tvalidation_1-map:0.58009\tvalidation_1-ndcg@10-:0.68090\n",
      "[17]\tvalidation_0-map:0.58938\tvalidation_0-ndcg@10-:0.68801\tvalidation_1-map:0.58127\tvalidation_1-ndcg@10-:0.68181\n",
      "[18]\tvalidation_0-map:0.59400\tvalidation_0-ndcg@10-:0.69159\tvalidation_1-map:0.58455\tvalidation_1-ndcg@10-:0.68440\n",
      "[19]\tvalidation_0-map:0.59476\tvalidation_0-ndcg@10-:0.69220\tvalidation_1-map:0.58600\tvalidation_1-ndcg@10-:0.68550\n",
      "[20]\tvalidation_0-map:0.59678\tvalidation_0-ndcg@10-:0.69381\tvalidation_1-map:0.58692\tvalidation_1-ndcg@10-:0.68625\n",
      "[21]\tvalidation_0-map:0.59968\tvalidation_0-ndcg@10-:0.69604\tvalidation_1-map:0.58811\tvalidation_1-ndcg@10-:0.68716\n",
      "[22]\tvalidation_0-map:0.60160\tvalidation_0-ndcg@10-:0.69752\tvalidation_1-map:0.58949\tvalidation_1-ndcg@10-:0.68828\n",
      "[23]\tvalidation_0-map:0.60342\tvalidation_0-ndcg@10-:0.69894\tvalidation_1-map:0.59021\tvalidation_1-ndcg@10-:0.68883\n",
      "[24]\tvalidation_0-map:0.60472\tvalidation_0-ndcg@10-:0.69995\tvalidation_1-map:0.59242\tvalidation_1-ndcg@10-:0.69052\n",
      "[25]\tvalidation_0-map:0.60640\tvalidation_0-ndcg@10-:0.70124\tvalidation_1-map:0.59305\tvalidation_1-ndcg@10-:0.69103\n",
      "[26]\tvalidation_0-map:0.60896\tvalidation_0-ndcg@10-:0.70325\tvalidation_1-map:0.59511\tvalidation_1-ndcg@10-:0.69269\n",
      "[27]\tvalidation_0-map:0.61095\tvalidation_0-ndcg@10-:0.70478\tvalidation_1-map:0.59563\tvalidation_1-ndcg@10-:0.69310\n",
      "[28]\tvalidation_0-map:0.61210\tvalidation_0-ndcg@10-:0.70566\tvalidation_1-map:0.59396\tvalidation_1-ndcg@10-:0.69189\n",
      "[29]\tvalidation_0-map:0.61284\tvalidation_0-ndcg@10-:0.70625\tvalidation_1-map:0.59547\tvalidation_1-ndcg@10-:0.69308\n",
      "[30]\tvalidation_0-map:0.61491\tvalidation_0-ndcg@10-:0.70784\tvalidation_1-map:0.59550\tvalidation_1-ndcg@10-:0.69309\n",
      "[31]\tvalidation_0-map:0.61575\tvalidation_0-ndcg@10-:0.70848\tvalidation_1-map:0.59754\tvalidation_1-ndcg@10-:0.69464\n",
      "[32]\tvalidation_0-map:0.61695\tvalidation_0-ndcg@10-:0.70943\tvalidation_1-map:0.59903\tvalidation_1-ndcg@10-:0.69582\n",
      "[33]\tvalidation_0-map:0.61980\tvalidation_0-ndcg@10-:0.71163\tvalidation_1-map:0.60011\tvalidation_1-ndcg@10-:0.69673\n",
      "[34]\tvalidation_0-map:0.61977\tvalidation_0-ndcg@10-:0.71163\tvalidation_1-map:0.60006\tvalidation_1-ndcg@10-:0.69670\n",
      "[35]\tvalidation_0-map:0.62095\tvalidation_0-ndcg@10-:0.71253\tvalidation_1-map:0.60200\tvalidation_1-ndcg@10-:0.69814\n",
      "[36]\tvalidation_0-map:0.62234\tvalidation_0-ndcg@10-:0.71362\tvalidation_1-map:0.60334\tvalidation_1-ndcg@10-:0.69923\n",
      "[37]\tvalidation_0-map:0.62361\tvalidation_0-ndcg@10-:0.71461\tvalidation_1-map:0.60354\tvalidation_1-ndcg@10-:0.69937\n",
      "[38]\tvalidation_0-map:0.62414\tvalidation_0-ndcg@10-:0.71503\tvalidation_1-map:0.60379\tvalidation_1-ndcg@10-:0.69957\n",
      "[39]\tvalidation_0-map:0.62491\tvalidation_0-ndcg@10-:0.71563\tvalidation_1-map:0.60524\tvalidation_1-ndcg@10-:0.70064\n",
      "[40]\tvalidation_0-map:0.62484\tvalidation_0-ndcg@10-:0.71561\tvalidation_1-map:0.60594\tvalidation_1-ndcg@10-:0.70121\n",
      "[41]\tvalidation_0-map:0.62528\tvalidation_0-ndcg@10-:0.71596\tvalidation_1-map:0.60718\tvalidation_1-ndcg@10-:0.70213\n",
      "[42]\tvalidation_0-map:0.62660\tvalidation_0-ndcg@10-:0.71699\tvalidation_1-map:0.60659\tvalidation_1-ndcg@10-:0.70171\n",
      "[43]\tvalidation_0-map:0.62689\tvalidation_0-ndcg@10-:0.71725\tvalidation_1-map:0.60861\tvalidation_1-ndcg@10-:0.70324\n",
      "[44]\tvalidation_0-map:0.62801\tvalidation_0-ndcg@10-:0.71808\tvalidation_1-map:0.60901\tvalidation_1-ndcg@10-:0.70359\n",
      "[45]\tvalidation_0-map:0.62877\tvalidation_0-ndcg@10-:0.71870\tvalidation_1-map:0.60966\tvalidation_1-ndcg@10-:0.70406\n",
      "[46]\tvalidation_0-map:0.62972\tvalidation_0-ndcg@10-:0.71944\tvalidation_1-map:0.60960\tvalidation_1-ndcg@10-:0.70405\n",
      "[47]\tvalidation_0-map:0.63025\tvalidation_0-ndcg@10-:0.71986\tvalidation_1-map:0.61014\tvalidation_1-ndcg@10-:0.70446\n",
      "[48]\tvalidation_0-map:0.63167\tvalidation_0-ndcg@10-:0.72094\tvalidation_1-map:0.61006\tvalidation_1-ndcg@10-:0.70442\n",
      "[49]\tvalidation_0-map:0.63276\tvalidation_0-ndcg@10-:0.72180\tvalidation_1-map:0.61023\tvalidation_1-ndcg@10-:0.70459\n",
      "[50]\tvalidation_0-map:0.63332\tvalidation_0-ndcg@10-:0.72224\tvalidation_1-map:0.61021\tvalidation_1-ndcg@10-:0.70458\n",
      "[51]\tvalidation_0-map:0.63428\tvalidation_0-ndcg@10-:0.72299\tvalidation_1-map:0.61074\tvalidation_1-ndcg@10-:0.70500\n",
      "[52]\tvalidation_0-map:0.63497\tvalidation_0-ndcg@10-:0.72353\tvalidation_1-map:0.61106\tvalidation_1-ndcg@10-:0.70524\n",
      "[53]\tvalidation_0-map:0.63593\tvalidation_0-ndcg@10-:0.72428\tvalidation_1-map:0.61113\tvalidation_1-ndcg@10-:0.70532\n",
      "[54]\tvalidation_0-map:0.63729\tvalidation_0-ndcg@10-:0.72528\tvalidation_1-map:0.61229\tvalidation_1-ndcg@10-:0.70620\n",
      "[55]\tvalidation_0-map:0.63755\tvalidation_0-ndcg@10-:0.72551\tvalidation_1-map:0.61229\tvalidation_1-ndcg@10-:0.70621\n",
      "[56]\tvalidation_0-map:0.63817\tvalidation_0-ndcg@10-:0.72599\tvalidation_1-map:0.61331\tvalidation_1-ndcg@10-:0.70699\n",
      "[57]\tvalidation_0-map:0.63845\tvalidation_0-ndcg@10-:0.72622\tvalidation_1-map:0.61381\tvalidation_1-ndcg@10-:0.70737\n",
      "[58]\tvalidation_0-map:0.63938\tvalidation_0-ndcg@10-:0.72691\tvalidation_1-map:0.61425\tvalidation_1-ndcg@10-:0.70772\n",
      "[59]\tvalidation_0-map:0.64083\tvalidation_0-ndcg@10-:0.72802\tvalidation_1-map:0.61485\tvalidation_1-ndcg@10-:0.70815\n",
      "[60]\tvalidation_0-map:0.64126\tvalidation_0-ndcg@10-:0.72835\tvalidation_1-map:0.61526\tvalidation_1-ndcg@10-:0.70848\n",
      "[61]\tvalidation_0-map:0.64126\tvalidation_0-ndcg@10-:0.72837\tvalidation_1-map:0.61624\tvalidation_1-ndcg@10-:0.70920\n",
      "[62]\tvalidation_0-map:0.64219\tvalidation_0-ndcg@10-:0.72908\tvalidation_1-map:0.61582\tvalidation_1-ndcg@10-:0.70891\n",
      "[63]\tvalidation_0-map:0.64310\tvalidation_0-ndcg@10-:0.72978\tvalidation_1-map:0.61615\tvalidation_1-ndcg@10-:0.70914\n",
      "[64]\tvalidation_0-map:0.64329\tvalidation_0-ndcg@10-:0.72994\tvalidation_1-map:0.61607\tvalidation_1-ndcg@10-:0.70909\n",
      "[65]\tvalidation_0-map:0.64368\tvalidation_0-ndcg@10-:0.73027\tvalidation_1-map:0.61685\tvalidation_1-ndcg@10-:0.70969\n",
      "[66]\tvalidation_0-map:0.64412\tvalidation_0-ndcg@10-:0.73061\tvalidation_1-map:0.61676\tvalidation_1-ndcg@10-:0.70964\n",
      "[67]\tvalidation_0-map:0.64418\tvalidation_0-ndcg@10-:0.73067\tvalidation_1-map:0.61671\tvalidation_1-ndcg@10-:0.70960\n",
      "[68]\tvalidation_0-map:0.64509\tvalidation_0-ndcg@10-:0.73136\tvalidation_1-map:0.61730\tvalidation_1-ndcg@10-:0.71006\n",
      "[69]\tvalidation_0-map:0.64553\tvalidation_0-ndcg@10-:0.73170\tvalidation_1-map:0.61703\tvalidation_1-ndcg@10-:0.70988\n",
      "[70]\tvalidation_0-map:0.64615\tvalidation_0-ndcg@10-:0.73219\tvalidation_1-map:0.61797\tvalidation_1-ndcg@10-:0.71058\n",
      "[71]\tvalidation_0-map:0.64662\tvalidation_0-ndcg@10-:0.73255\tvalidation_1-map:0.61808\tvalidation_1-ndcg@10-:0.71067\n",
      "[72]\tvalidation_0-map:0.64787\tvalidation_0-ndcg@10-:0.73350\tvalidation_1-map:0.61895\tvalidation_1-ndcg@10-:0.71134\n",
      "[73]\tvalidation_0-map:0.64843\tvalidation_0-ndcg@10-:0.73394\tvalidation_1-map:0.61918\tvalidation_1-ndcg@10-:0.71150\n",
      "[74]\tvalidation_0-map:0.64870\tvalidation_0-ndcg@10-:0.73414\tvalidation_1-map:0.61953\tvalidation_1-ndcg@10-:0.71177\n",
      "[75]\tvalidation_0-map:0.64967\tvalidation_0-ndcg@10-:0.73489\tvalidation_1-map:0.61982\tvalidation_1-ndcg@10-:0.71199\n",
      "[76]\tvalidation_0-map:0.64967\tvalidation_0-ndcg@10-:0.73489\tvalidation_1-map:0.62024\tvalidation_1-ndcg@10-:0.71228\n",
      "[77]\tvalidation_0-map:0.65042\tvalidation_0-ndcg@10-:0.73546\tvalidation_1-map:0.62024\tvalidation_1-ndcg@10-:0.71229\n",
      "[78]\tvalidation_0-map:0.65080\tvalidation_0-ndcg@10-:0.73576\tvalidation_1-map:0.62018\tvalidation_1-ndcg@10-:0.71224\n",
      "[79]\tvalidation_0-map:0.65135\tvalidation_0-ndcg@10-:0.73619\tvalidation_1-map:0.62074\tvalidation_1-ndcg@10-:0.71267\n",
      "[80]\tvalidation_0-map:0.65139\tvalidation_0-ndcg@10-:0.73621\tvalidation_1-map:0.62107\tvalidation_1-ndcg@10-:0.71291\n",
      "[81]\tvalidation_0-map:0.65201\tvalidation_0-ndcg@10-:0.73668\tvalidation_1-map:0.62128\tvalidation_1-ndcg@10-:0.71307\n",
      "[82]\tvalidation_0-map:0.65216\tvalidation_0-ndcg@10-:0.73681\tvalidation_1-map:0.62108\tvalidation_1-ndcg@10-:0.71293\n",
      "[83]\tvalidation_0-map:0.65262\tvalidation_0-ndcg@10-:0.73716\tvalidation_1-map:0.62197\tvalidation_1-ndcg@10-:0.71360\n",
      "[84]\tvalidation_0-map:0.65321\tvalidation_0-ndcg@10-:0.73764\tvalidation_1-map:0.62252\tvalidation_1-ndcg@10-:0.71401\n",
      "[85]\tvalidation_0-map:0.65395\tvalidation_0-ndcg@10-:0.73820\tvalidation_1-map:0.62269\tvalidation_1-ndcg@10-:0.71415\n",
      "[86]\tvalidation_0-map:0.65495\tvalidation_0-ndcg@10-:0.73897\tvalidation_1-map:0.62294\tvalidation_1-ndcg@10-:0.71435\n",
      "[87]\tvalidation_0-map:0.65577\tvalidation_0-ndcg@10-:0.73960\tvalidation_1-map:0.62335\tvalidation_1-ndcg@10-:0.71470\n",
      "[88]\tvalidation_0-map:0.65588\tvalidation_0-ndcg@10-:0.73968\tvalidation_1-map:0.62307\tvalidation_1-ndcg@10-:0.71448\n",
      "[89]\tvalidation_0-map:0.65600\tvalidation_0-ndcg@10-:0.73978\tvalidation_1-map:0.62400\tvalidation_1-ndcg@10-:0.71519\n",
      "[90]\tvalidation_0-map:0.65650\tvalidation_0-ndcg@10-:0.74017\tvalidation_1-map:0.62407\tvalidation_1-ndcg@10-:0.71524\n",
      "[91]\tvalidation_0-map:0.65635\tvalidation_0-ndcg@10-:0.74006\tvalidation_1-map:0.62422\tvalidation_1-ndcg@10-:0.71534\n",
      "[92]\tvalidation_0-map:0.65669\tvalidation_0-ndcg@10-:0.74033\tvalidation_1-map:0.62372\tvalidation_1-ndcg@10-:0.71496\n",
      "[93]\tvalidation_0-map:0.65718\tvalidation_0-ndcg@10-:0.74069\tvalidation_1-map:0.62373\tvalidation_1-ndcg@10-:0.71495\n",
      "[94]\tvalidation_0-map:0.65793\tvalidation_0-ndcg@10-:0.74127\tvalidation_1-map:0.62397\tvalidation_1-ndcg@10-:0.71514\n",
      "[95]\tvalidation_0-map:0.65842\tvalidation_0-ndcg@10-:0.74164\tvalidation_1-map:0.62423\tvalidation_1-ndcg@10-:0.71533\n",
      "[96]\tvalidation_0-map:0.65897\tvalidation_0-ndcg@10-:0.74207\tvalidation_1-map:0.62413\tvalidation_1-ndcg@10-:0.71525\n",
      "[97]\tvalidation_0-map:0.65911\tvalidation_0-ndcg@10-:0.74217\tvalidation_1-map:0.62465\tvalidation_1-ndcg@10-:0.71565\n",
      "[98]\tvalidation_0-map:0.65955\tvalidation_0-ndcg@10-:0.74253\tvalidation_1-map:0.62444\tvalidation_1-ndcg@10-:0.71553\n"
     ]
    }
   ],
   "source": [
    "eval_set = [(X_train, y_train), (X_valid, y_valid)]\n",
    "eval_group = [group_train, group_valid]\n",
    "eval_metric = ['map', 'ndcg@10-']\n",
    "\n",
    "\n",
    "model = clf.fit(X_train,\n",
    "                y_train,\n",
    "                eval_set=eval_set,\n",
    "                eval_metric=eval_metric,\n",
    "                early_stopping_rounds=10,\n",
    "                group=group_train,\n",
    "                eval_group=eval_group,\n",
    "                verbose=True)"
   ]
  },
  {
   "cell_type": "code",
   "execution_count": 109,
   "id": "489d83ae-81dc-4990-8a2c-659a1748da00",
   "metadata": {},
   "outputs": [],
   "source": [
    "xgb_imp_gain = calc_feature_imp(model, 'gain')\n",
    "xgb_imp_weight = calc_feature_imp(model, 'weight')"
   ]
  },
  {
   "cell_type": "code",
   "execution_count": 110,
   "id": "47609c5a-0f94-47e2-8b80-e166e96e6954",
   "metadata": {},
   "outputs": [
    {
     "data": {
      "text/html": [
       "<div>\n",
       "<style scoped>\n",
       "    .dataframe tbody tr th:only-of-type {\n",
       "        vertical-align: middle;\n",
       "    }\n",
       "\n",
       "    .dataframe tbody tr th {\n",
       "        vertical-align: top;\n",
       "    }\n",
       "\n",
       "    .dataframe thead th {\n",
       "        text-align: right;\n",
       "    }\n",
       "</style>\n",
       "<table border=\"1\" class=\"dataframe\">\n",
       "  <thead>\n",
       "    <tr style=\"text-align: right;\">\n",
       "      <th></th>\n",
       "      <th>feature</th>\n",
       "      <th>score</th>\n",
       "    </tr>\n",
       "  </thead>\n",
       "  <tbody>\n",
       "    <tr>\n",
       "      <th>0</th>\n",
       "      <td>f_RecallSourceBullseye</td>\n",
       "      <td>597.512309</td>\n",
       "    </tr>\n",
       "    <tr>\n",
       "      <th>1</th>\n",
       "      <td>f_FreqSameItemInWatchBadge</td>\n",
       "      <td>337.934172</td>\n",
       "    </tr>\n",
       "    <tr>\n",
       "      <th>2</th>\n",
       "      <td>f_NumSameRviInLastWeek</td>\n",
       "      <td>171.417766</td>\n",
       "    </tr>\n",
       "    <tr>\n",
       "      <th>3</th>\n",
       "      <td>f_BullseyeRelRVILeafCatMedianPriceDiffV2</td>\n",
       "      <td>162.184618</td>\n",
       "    </tr>\n",
       "    <tr>\n",
       "      <th>4</th>\n",
       "      <td>f_ItemTimeLeftSec</td>\n",
       "      <td>138.582585</td>\n",
       "    </tr>\n",
       "    <tr>\n",
       "      <th>5</th>\n",
       "      <td>f_MaxViewedItemTitleJaccardBigrams</td>\n",
       "      <td>122.962797</td>\n",
       "    </tr>\n",
       "    <tr>\n",
       "      <th>6</th>\n",
       "      <td>f_BullseyeAbsRVILeafCatMedianPriceDiffV2</td>\n",
       "      <td>103.236865</td>\n",
       "    </tr>\n",
       "    <tr>\n",
       "      <th>7</th>\n",
       "      <td>f_ItemTimeOnSiteV2</td>\n",
       "      <td>82.647496</td>\n",
       "    </tr>\n",
       "    <tr>\n",
       "      <th>8</th>\n",
       "      <td>f_TitleCosineSimilarityToShoppingcartCentroid</td>\n",
       "      <td>78.368051</td>\n",
       "    </tr>\n",
       "    <tr>\n",
       "      <th>9</th>\n",
       "      <td>f_RecallSourceTora</td>\n",
       "      <td>77.294489</td>\n",
       "    </tr>\n",
       "    <tr>\n",
       "      <th>10</th>\n",
       "      <td>f_RecallSourceBestMatch</td>\n",
       "      <td>57.685428</td>\n",
       "    </tr>\n",
       "    <tr>\n",
       "      <th>11</th>\n",
       "      <td>f_BibowatchRelPosition</td>\n",
       "      <td>55.010303</td>\n",
       "    </tr>\n",
       "    <tr>\n",
       "      <th>12</th>\n",
       "      <td>f_ItemTimeOnSiteNorm</td>\n",
       "      <td>53.571687</td>\n",
       "    </tr>\n",
       "    <tr>\n",
       "      <th>13</th>\n",
       "      <td>f_ItemWatchOverImpLogSmoothAllNorm</td>\n",
       "      <td>52.360884</td>\n",
       "    </tr>\n",
       "    <tr>\n",
       "      <th>14</th>\n",
       "      <td>f_ItemVariantSalesOverImpressions7DayDecayLogS...</td>\n",
       "      <td>51.711698</td>\n",
       "    </tr>\n",
       "    <tr>\n",
       "      <th>15</th>\n",
       "      <td>f_PriceDiffMedianRecall</td>\n",
       "      <td>51.664722</td>\n",
       "    </tr>\n",
       "    <tr>\n",
       "      <th>16</th>\n",
       "      <td>f_ItemSalesOverImpPricePrior7DayDecayLogSmooth...</td>\n",
       "      <td>49.535840</td>\n",
       "    </tr>\n",
       "    <tr>\n",
       "      <th>17</th>\n",
       "      <td>f_MaxViewedItemTitleJaccard</td>\n",
       "      <td>49.063119</td>\n",
       "    </tr>\n",
       "    <tr>\n",
       "      <th>18</th>\n",
       "      <td>f_ItemSalesOverImpPricePrior7DayDecayLogSmooth...</td>\n",
       "      <td>48.295572</td>\n",
       "    </tr>\n",
       "    <tr>\n",
       "      <th>19</th>\n",
       "      <td>f_MerchImpressionsDecayed</td>\n",
       "      <td>47.287332</td>\n",
       "    </tr>\n",
       "    <tr>\n",
       "      <th>20</th>\n",
       "      <td>f_AvgSameLeafRviPriceRatio</td>\n",
       "      <td>45.010725</td>\n",
       "    </tr>\n",
       "    <tr>\n",
       "      <th>21</th>\n",
       "      <td>f_PlImpressionsDecayed</td>\n",
       "      <td>42.874990</td>\n",
       "    </tr>\n",
       "    <tr>\n",
       "      <th>22</th>\n",
       "      <td>f_NormItemViewCount7DayDecayDomesticWebAndMobile</td>\n",
       "      <td>34.411730</td>\n",
       "    </tr>\n",
       "    <tr>\n",
       "      <th>23</th>\n",
       "      <td>f_FreqWatchPriceBellowItemPrice</td>\n",
       "      <td>29.894447</td>\n",
       "    </tr>\n",
       "    <tr>\n",
       "      <th>24</th>\n",
       "      <td>f_ItemVariantWatchOverImpressions7DayDecayLogS...</td>\n",
       "      <td>29.052457</td>\n",
       "    </tr>\n",
       "    <tr>\n",
       "      <th>25</th>\n",
       "      <td>f_ItemWatchesOverImp7DayDecayLogSmoothDomestic...</td>\n",
       "      <td>28.295750</td>\n",
       "    </tr>\n",
       "    <tr>\n",
       "      <th>26</th>\n",
       "      <td>f_EpidRelative</td>\n",
       "      <td>26.022133</td>\n",
       "    </tr>\n",
       "    <tr>\n",
       "      <th>27</th>\n",
       "      <td>f_SellerFeedbackLogNormWnD</td>\n",
       "      <td>25.173889</td>\n",
       "    </tr>\n",
       "    <tr>\n",
       "      <th>28</th>\n",
       "      <td>f_AvgSameLeafRviPriceDiff</td>\n",
       "      <td>23.919871</td>\n",
       "    </tr>\n",
       "    <tr>\n",
       "      <th>29</th>\n",
       "      <td>f_NSFWScore</td>\n",
       "      <td>18.251446</td>\n",
       "    </tr>\n",
       "    <tr>\n",
       "      <th>30</th>\n",
       "      <td>f_BullseyeRVILeafCatMedianPriceV2</td>\n",
       "      <td>13.494174</td>\n",
       "    </tr>\n",
       "    <tr>\n",
       "      <th>31</th>\n",
       "      <td>f_ItemSalesOverImpPricePrior7DayDecayLogSmooth...</td>\n",
       "      <td>0.000000</td>\n",
       "    </tr>\n",
       "  </tbody>\n",
       "</table>\n",
       "</div>"
      ],
      "text/plain": [
       "                                              feature       score\n",
       "0                              f_RecallSourceBullseye  597.512309\n",
       "1                          f_FreqSameItemInWatchBadge  337.934172\n",
       "2                              f_NumSameRviInLastWeek  171.417766\n",
       "3            f_BullseyeRelRVILeafCatMedianPriceDiffV2  162.184618\n",
       "4                                   f_ItemTimeLeftSec  138.582585\n",
       "5                  f_MaxViewedItemTitleJaccardBigrams  122.962797\n",
       "6            f_BullseyeAbsRVILeafCatMedianPriceDiffV2  103.236865\n",
       "7                                  f_ItemTimeOnSiteV2   82.647496\n",
       "8       f_TitleCosineSimilarityToShoppingcartCentroid   78.368051\n",
       "9                                  f_RecallSourceTora   77.294489\n",
       "10                            f_RecallSourceBestMatch   57.685428\n",
       "11                             f_BibowatchRelPosition   55.010303\n",
       "12                               f_ItemTimeOnSiteNorm   53.571687\n",
       "13                 f_ItemWatchOverImpLogSmoothAllNorm   52.360884\n",
       "14  f_ItemVariantSalesOverImpressions7DayDecayLogS...   51.711698\n",
       "15                            f_PriceDiffMedianRecall   51.664722\n",
       "16  f_ItemSalesOverImpPricePrior7DayDecayLogSmooth...   49.535840\n",
       "17                        f_MaxViewedItemTitleJaccard   49.063119\n",
       "18  f_ItemSalesOverImpPricePrior7DayDecayLogSmooth...   48.295572\n",
       "19                          f_MerchImpressionsDecayed   47.287332\n",
       "20                         f_AvgSameLeafRviPriceRatio   45.010725\n",
       "21                             f_PlImpressionsDecayed   42.874990\n",
       "22   f_NormItemViewCount7DayDecayDomesticWebAndMobile   34.411730\n",
       "23                    f_FreqWatchPriceBellowItemPrice   29.894447\n",
       "24  f_ItemVariantWatchOverImpressions7DayDecayLogS...   29.052457\n",
       "25  f_ItemWatchesOverImp7DayDecayLogSmoothDomestic...   28.295750\n",
       "26                                     f_EpidRelative   26.022133\n",
       "27                         f_SellerFeedbackLogNormWnD   25.173889\n",
       "28                          f_AvgSameLeafRviPriceDiff   23.919871\n",
       "29                                        f_NSFWScore   18.251446\n",
       "30                  f_BullseyeRVILeafCatMedianPriceV2   13.494174\n",
       "31  f_ItemSalesOverImpPricePrior7DayDecayLogSmooth...    0.000000"
      ]
     },
     "execution_count": 110,
     "metadata": {},
     "output_type": "execute_result"
    }
   ],
   "source": [
    "xgb_imp_gain.sort_values(ascending=False, by='score').reset_index(drop=True)"
   ]
  },
  {
   "cell_type": "code",
   "execution_count": 111,
   "id": "143c62e6-5694-4cb2-94f1-cfc72c18f9dd",
   "metadata": {},
   "outputs": [
    {
     "name": "stderr",
     "output_type": "stream",
     "text": [
      "/opt/conda/lib/python3.7/site-packages/ipykernel_launcher.py:6: SettingWithCopyWarning: \n",
      "A value is trying to be set on a copy of a slice from a DataFrame.\n",
      "Try using .loc[row_indexer,col_indexer] = value instead\n",
      "\n",
      "See the caveats in the documentation: https://pandas.pydata.org/pandas-docs/stable/user_guide/indexing.html#returning-a-view-versus-a-copy\n",
      "  \n"
     ]
    },
    {
     "data": {
      "text/plain": [
       "(2.638651057137865, 2.417846118003378, 2.660377358490566)"
      ]
     },
     "execution_count": 111,
     "metadata": {},
     "output_type": "execute_result"
    }
   ],
   "source": [
    "valid_preds = model.predict(X_valid)\n",
    "train_preds = model.predict(X_train)\n",
    "test_preds = model.predict(X_test)\n",
    "\n",
    "valid['piyi_orig_pred'] = valid_preds\n",
    "train['piyi_orig_pred'] = train_preds\n",
    "test['piyi_orig_pred'] = test_preds\n",
    "\n",
    "sr_rank_valid = calc_sale_rank(valid, 'piyi_orig_pred', ascending=False)\n",
    "sr_rank_train = calc_sale_rank(train, 'piyi_orig_pred', ascending=False)\n",
    "sr_rank_test = calc_sale_rank(test, 'piyi_orig_pred', ascending=False)\n",
    "\n",
    "np.mean(sr_rank_valid), np.mean(sr_rank_train), np.mean(sr_rank_test)"
   ]
  },
  {
   "cell_type": "code",
   "execution_count": 131,
   "id": "97ac08da-1286-4c0e-b458-0263f4232c51",
   "metadata": {},
   "outputs": [
    {
     "name": "stderr",
     "output_type": "stream",
     "text": [
      "/opt/conda/lib/python3.7/site-packages/ipykernel_launcher.py:6: SettingWithCopyWarning: \n",
      "A value is trying to be set on a copy of a slice from a DataFrame.\n",
      "Try using .loc[row_indexer,col_indexer] = value instead\n",
      "\n",
      "See the caveats in the documentation: https://pandas.pydata.org/pandas-docs/stable/user_guide/indexing.html#returning-a-view-versus-a-copy\n",
      "  \n"
     ]
    },
    {
     "data": {
      "text/plain": [
       "(2.662408497201091, 2.456337623809752, 2.6503516578154156)"
      ]
     },
     "execution_count": 131,
     "metadata": {},
     "output_type": "execute_result"
    }
   ],
   "source": [
    "valid_preds = model.predict(X_valid)\n",
    "train_preds = model.predict(X_train)\n",
    "test_preds = model.predict(X_test)\n",
    "\n",
    "valid['piyi_orig_pred'] = valid_preds\n",
    "train['piyi_orig_pred'] = train_preds\n",
    "test['piyi_orig_pred'] = test_preds\n",
    "\n",
    "sr_rank_valid = calc_sale_rank(valid, 'piyi_orig_pred', ascending=False)\n",
    "sr_rank_train = calc_sale_rank(train, 'piyi_orig_pred', ascending=False)\n",
    "sr_rank_test = calc_sale_rank(test, 'piyi_orig_pred', ascending=False)\n",
    "\n",
    "np.mean(sr_rank_valid), np.mean(sr_rank_train), np.mean(sr_rank_test)"
   ]
  },
  {
   "cell_type": "code",
   "execution_count": 207,
   "id": "f14f8057-a2f5-4ce4-9980-fa56a61cd7eb",
   "metadata": {},
   "outputs": [
    {
     "name": "stderr",
     "output_type": "stream",
     "text": [
      "/opt/conda/lib/python3.7/site-packages/ipykernel_launcher.py:6: SettingWithCopyWarning: \n",
      "A value is trying to be set on a copy of a slice from a DataFrame.\n",
      "Try using .loc[row_indexer,col_indexer] = value instead\n",
      "\n",
      "See the caveats in the documentation: https://pandas.pydata.org/pandas-docs/stable/user_guide/indexing.html#returning-a-view-versus-a-copy\n",
      "  \n"
     ]
    },
    {
     "data": {
      "text/plain": [
       "(2.6965074267362503, 2.427940586109996, 2.657635962271724)"
      ]
     },
     "execution_count": 207,
     "metadata": {},
     "output_type": "execute_result"
    }
   ],
   "source": [
    "valid_preds = model.predict(X_valid)\n",
    "train_preds = model.predict(X_train)\n",
    "test_preds = model.predict(X_test)\n",
    "\n",
    "valid['piyi_orig_pred'] = valid_preds\n",
    "train['piyi_orig_pred'] = train_preds\n",
    "test['piyi_orig_pred'] = test_preds\n",
    "\n",
    "sr_rank_valid = calc_sale_rank(valid, 'piyi_orig_pred', ascending=False)\n",
    "sr_rank_train = calc_sale_rank(train, 'piyi_orig_pred', ascending=False)\n",
    "sr_rank_test = calc_sale_rank(test, 'piyi_orig_pred', ascending=False)\n",
    "\n",
    "np.mean(sr_rank_valid), np.mean(sr_rank_train), np.mean(sr_rank_test)"
   ]
  },
  {
   "cell_type": "code",
   "execution_count": 112,
   "id": "3eed4df4-db85-4494-b4b5-027f1cc442b8",
   "metadata": {},
   "outputs": [],
   "source": [
    "import pickle\n",
    "\n",
    "file_name = '/data/shpx/data/olivyatan/piyi/snkrs_hp7d_piyiv7_4m_April23.pkl'\n",
    "# save\n",
    "pickle.dump(model, open(file_name, \"wb\"))"
   ]
  },
  {
   "cell_type": "code",
   "execution_count": 113,
   "id": "4ab34a36-a8be-4720-bce3-6a9a1e1bc3ba",
   "metadata": {},
   "outputs": [],
   "source": [
    "model.save_model('/data/shpx/data/olivyatan/piyi/snkrs_hp7d_piyiv7_4m_April23.model')  "
   ]
  },
  {
   "cell_type": "markdown",
   "id": "30f7f536-c2d7-415e-b03e-d7f5c67fa117",
   "metadata": {},
   "source": [
    "### 2.Train Sneakers 3 features: "
   ]
  },
  {
   "cell_type": "code",
   "execution_count": 114,
   "id": "8748bab9-b1fc-4f94-87d8-10948d492810",
   "metadata": {},
   "outputs": [
    {
     "data": {
      "text/plain": [
       "((164863, 36), (55025, 36), (54996, 36))"
      ]
     },
     "execution_count": 114,
     "metadata": {},
     "output_type": "execute_result"
    }
   ],
   "source": [
    "X_train_3f = train[sneakers3f_f]\n",
    "#y_train = train.labelPurchase\n",
    "\n",
    "X_valid_3f = valid[sneakers3f_f]\n",
    "#y_valid = valid.labelPurchase\n",
    "\n",
    "X_test_3f = test[sneakers3f_f]\n",
    "#y_test = test.labelPurchase\n",
    "#change test to label purchase.\n",
    "\n",
    "X_train_3f.shape, X_valid_3f.shape, X_test_3f.shape"
   ]
  },
  {
   "cell_type": "code",
   "execution_count": 115,
   "id": "adfe8222-a941-4159-b348-dbbc272d7c37",
   "metadata": {},
   "outputs": [
    {
     "data": {
      "text/plain": [
       "(274884, 36)"
      ]
     },
     "execution_count": 115,
     "metadata": {},
     "output_type": "execute_result"
    }
   ],
   "source": [
    "pdf[sneakers3f_f].shape\n"
   ]
  },
  {
   "cell_type": "code",
   "execution_count": 116,
   "id": "db848070-c0cf-4883-9ab6-61553a60ae34",
   "metadata": {},
   "outputs": [
    {
     "name": "stdout",
     "output_type": "stream",
     "text": [
      "Index(['f_SizeMedianDiff', 'f_UserSizeMaxMinDiff',\n",
      "       'f_UserSizeNumberOfEvidence'],\n",
      "      dtype='object')\n"
     ]
    }
   ],
   "source": [
    "X_train_3f\n",
    "cols = [x for x in X_train_3f.columns if 'Size' in x] \n",
    "print(X_train_3f[cols].columns) "
   ]
  },
  {
   "cell_type": "code",
   "execution_count": 117,
   "id": "688dfcfe-b28d-4d0f-814e-c1560cfa9275",
   "metadata": {},
   "outputs": [
    {
     "data": {
      "text/plain": [
       "Index(['f_ItemSalesOverImpPricePrior7DayDecayLogSmoothInternationalWebAndMobileNorm',\n",
       "       'f_BullseyeRelRVILeafCatMedianPriceDiffV2',\n",
       "       'f_ItemSalesOverImpPricePrior7DayDecayLogSmoothDomesticWebAndMobileNorm',\n",
       "       'f_MerchImpressionsDecayed', 'f_SellerFeedbackLogNormWnD',\n",
       "       'f_EpidRelative', 'f_ItemWatchOverImpLogSmoothAllNorm',\n",
       "       'f_ItemTimeLeftSec',\n",
       "       'f_ItemVariantWatchOverImpressions7DayDecayLogSmoothDomesticWebAndMobileNorm',\n",
       "       'f_ItemTimeOnSiteNorm', 'f_PlImpressionsDecayed',\n",
       "       'f_NormItemViewCount7DayDecayDomesticWebAndMobile', 'f_NSFWScore',\n",
       "       'f_MaxViewedItemTitleJaccard',\n",
       "       'f_ItemWatchesOverImp7DayDecayLogSmoothDomesticWebAndMobileV2',\n",
       "       'f_ItemTimeOnSiteV2', 'f_MaxViewedItemTitleJaccardBigrams',\n",
       "       'f_ItemSalesOverImpPricePrior7DayDecayLogSmoothDomesticWebAndMobile',\n",
       "       'f_RecallSourceBullseye', 'f_RecallSourceTora',\n",
       "       'f_ItemVariantSalesOverImpressions7DayDecayLogSmoothDomesticWebAndMobileV2',\n",
       "       'f_RecallSourceBestMatch', 'f_PriceDiffMedianRecall',\n",
       "       'f_SizeMedianDiff', 'f_UserSizeMaxMinDiff',\n",
       "       'f_UserSizeNumberOfEvidence',\n",
       "       'f_BullseyeAbsRVILeafCatMedianPriceDiffV2',\n",
       "       'f_BullseyeRVILeafCatMedianPriceV2', 'f_AvgSameLeafRviPriceRatio',\n",
       "       'f_FreqSameItemInWatchBadge',\n",
       "       'f_TitleCosineSimilarityToShoppingcartCentroid',\n",
       "       'f_AvgSameLeafRviPriceDiff', 'f_NumSameRviInLastWeek',\n",
       "       'f_BibowatchRelPosition', 'f_IsMsku',\n",
       "       'f_FreqWatchPriceBellowItemPrice'],\n",
       "      dtype='object')"
      ]
     },
     "execution_count": 117,
     "metadata": {},
     "output_type": "execute_result"
    }
   ],
   "source": [
    "X_train_3f.columns"
   ]
  },
  {
   "cell_type": "code",
   "execution_count": 118,
   "id": "2cce9cc8-445d-4cca-b3eb-2e5ea3ccff4e",
   "metadata": {},
   "outputs": [
    {
     "data": {
      "text/plain": [
       "0    49225\n",
       "1     5771\n",
       "Name: labelPurchase, dtype: int64"
      ]
     },
     "execution_count": 118,
     "metadata": {},
     "output_type": "execute_result"
    }
   ],
   "source": [
    "y_test.value_counts()"
   ]
  },
  {
   "cell_type": "code",
   "execution_count": 119,
   "id": "ccfd88b2-ae59-4895-a3f1-53b2dbbfad5e",
   "metadata": {},
   "outputs": [
    {
     "data": {
      "text/plain": [
       "0    49226\n",
       "1     5799\n",
       "Name: labelPurchase, dtype: int64"
      ]
     },
     "execution_count": 119,
     "metadata": {},
     "output_type": "execute_result"
    }
   ],
   "source": [
    "y_valid.value_counts()"
   ]
  },
  {
   "cell_type": "code",
   "execution_count": 120,
   "id": "9b9009fb-dcdf-4bae-9bb6-17d98e4380aa",
   "metadata": {},
   "outputs": [
    {
     "data": {
      "text/plain": [
       "0    147500\n",
       "1     17363\n",
       "Name: labelPurchase, dtype: int64"
      ]
     },
     "execution_count": 120,
     "metadata": {},
     "output_type": "execute_result"
    }
   ],
   "source": [
    "y_train.value_counts()"
   ]
  },
  {
   "cell_type": "code",
   "execution_count": 121,
   "id": "b6d733b4-21cb-40e7-a066-fc3fafd894bd",
   "metadata": {},
   "outputs": [],
   "source": [
    "dtrain = xgb.DMatrix(X_train_3f, label=y_train) #set dtrain per features columns examination. \n",
    "dtrain.set_group(group=group_train)"
   ]
  },
  {
   "cell_type": "markdown",
   "id": "521d7f75-738f-490e-a74e-a5c636f60ba5",
   "metadata": {},
   "source": [
    "#### Hyper-paramter tuning"
   ]
  },
  {
   "cell_type": "markdown",
   "id": "0be830f0-2b8b-490f-b8a4-66c15a316d3e",
   "metadata": {},
   "source": [
    "from datetime import datetime1.1"
   ]
  },
  {
   "cell_type": "markdown",
   "id": "81973040-1c97-49d2-8f62-e88111d57915",
   "metadata": {},
   "source": [
    "Hyper param initioal:"
   ]
  },
  {
   "cell_type": "markdown",
   "id": "b3a49a55-a531-43d5-87cf-326cfa5b69d8",
   "metadata": {},
   "source": [
    "1.0"
   ]
  },
  {
   "cell_type": "code",
   "execution_count": null,
   "id": "11d12dd8-6aea-4357-b1e4-ba55746bd7d3",
   "metadata": {},
   "outputs": [],
   "source": [
    "    #for max_depth in [4, 7]\n",
    "  #  for min_child_weight in [5, 8]\n",
    "  #  for subsample in [0.7, 1]\n",
    " #   for eta in [0.3 ]"
   ]
  },
  {
   "cell_type": "code",
   "execution_count": 139,
   "id": "91ec5467-4f1a-4701-888d-59a9b9264a97",
   "metadata": {
    "tags": []
   },
   "outputs": [
    {
     "name": "stdout",
     "output_type": "stream",
     "text": [
      "10:33:04\n",
      "CV1 with max_depth=4, min_child_weight=5, subsample=0.7, eta=0.3\n",
      "\tmap 0.628 for 72 rounds\n",
      "CV2 with max_depth=4, min_child_weight=5, subsample=1, eta=0.3\n",
      "\tmap 0.6285 for 76 rounds\n",
      "CV3 with max_depth=4, min_child_weight=8, subsample=0.7, eta=0.3\n",
      "\tmap 0.624 for 65 rounds\n",
      "CV4 with max_depth=4, min_child_weight=8, subsample=1, eta=0.3\n",
      "\tmap 0.6315 for 99 rounds\n",
      "Best params: 4, 8, 1, 0.3, map: 0.6314984\n",
      "11:16:19\n",
      "Saving hyper-paramter output\n"
     ]
    }
   ],
   "source": [
    "from datetime import datetime \n",
    "\n",
    "params = {\n",
    "    'objective': \"rank:pairwise\",\n",
    "    'nthread': -1\n",
    "}\n",
    "\n",
    "gridsearch_params = [\n",
    "    (max_depth, min_child_weight, subsample, eta)\n",
    "    for max_depth in [4]\n",
    "    for min_child_weight in [5, 8]\n",
    "    for subsample in [0.7, 1]\n",
    "    for eta in [0.3 ]\n",
    "]\n",
    "\n",
    "N_ROUNDS = 100\n",
    "\n",
    "size3f_hyper_df = run_hyper_tuning(dtrain= dtrain,\n",
    "                                    grid = gridsearch_params,\n",
    "                                    params = params,\n",
    "                                    output_dir=\"/data/shpx/data/olivyatan/piyi/snkrs\",\n",
    "                                    out_filename= \"train_snkrs3f_orig2_2m\",\n",
    "                                    nrounds = N_ROUNDS)"
   ]
  },
  {
   "cell_type": "code",
   "execution_count": 140,
   "id": "1adfea0a-b14a-49fa-aaf3-e0adb2715dd1",
   "metadata": {},
   "outputs": [],
   "source": [
    "orig_hyper_df = pd.read_csv(\"/data/shpx/data/olivyatan/piyi/snkrs/hyper_df_train_snkrs3f_orig2_2m.csv\")"
   ]
  },
  {
   "cell_type": "code",
   "execution_count": 141,
   "id": "60544a2f-8411-4383-9e51-613d501dda15",
   "metadata": {},
   "outputs": [
    {
     "data": {
      "text/plain": [
       "(4, 6)"
      ]
     },
     "execution_count": 141,
     "metadata": {},
     "output_type": "execute_result"
    }
   ],
   "source": [
    "orig_hyper_df.shape"
   ]
  },
  {
   "cell_type": "code",
   "execution_count": 142,
   "id": "fd08e02f-b196-44e1-afe4-060ae2125bc5",
   "metadata": {},
   "outputs": [],
   "source": [
    "orig_hyper_df_sorted = orig_hyper_df.sort_values(\"mean_map\", ascending=False)"
   ]
  },
  {
   "cell_type": "code",
   "execution_count": 143,
   "id": "966e7010-53bb-47fa-8c1f-0c0df99fa063",
   "metadata": {},
   "outputs": [
    {
     "data": {
      "text/html": [
       "<div>\n",
       "<style scoped>\n",
       "    .dataframe tbody tr th:only-of-type {\n",
       "        vertical-align: middle;\n",
       "    }\n",
       "\n",
       "    .dataframe tbody tr th {\n",
       "        vertical-align: top;\n",
       "    }\n",
       "\n",
       "    .dataframe thead th {\n",
       "        text-align: right;\n",
       "    }\n",
       "</style>\n",
       "<table border=\"1\" class=\"dataframe\">\n",
       "  <thead>\n",
       "    <tr style=\"text-align: right;\">\n",
       "      <th></th>\n",
       "      <th>max_depth</th>\n",
       "      <th>min_child_weight</th>\n",
       "      <th>subsample</th>\n",
       "      <th>eta</th>\n",
       "      <th>mean_map</th>\n",
       "      <th>boost_rounds</th>\n",
       "    </tr>\n",
       "  </thead>\n",
       "  <tbody>\n",
       "    <tr>\n",
       "      <th>3</th>\n",
       "      <td>4.0</td>\n",
       "      <td>8.0</td>\n",
       "      <td>1.0</td>\n",
       "      <td>0.3</td>\n",
       "      <td>0.631498</td>\n",
       "      <td>99.0</td>\n",
       "    </tr>\n",
       "    <tr>\n",
       "      <th>1</th>\n",
       "      <td>4.0</td>\n",
       "      <td>5.0</td>\n",
       "      <td>1.0</td>\n",
       "      <td>0.3</td>\n",
       "      <td>0.628546</td>\n",
       "      <td>76.0</td>\n",
       "    </tr>\n",
       "    <tr>\n",
       "      <th>0</th>\n",
       "      <td>4.0</td>\n",
       "      <td>5.0</td>\n",
       "      <td>0.7</td>\n",
       "      <td>0.3</td>\n",
       "      <td>0.628044</td>\n",
       "      <td>72.0</td>\n",
       "    </tr>\n",
       "    <tr>\n",
       "      <th>2</th>\n",
       "      <td>4.0</td>\n",
       "      <td>8.0</td>\n",
       "      <td>0.7</td>\n",
       "      <td>0.3</td>\n",
       "      <td>0.623986</td>\n",
       "      <td>65.0</td>\n",
       "    </tr>\n",
       "  </tbody>\n",
       "</table>\n",
       "</div>"
      ],
      "text/plain": [
       "   max_depth  min_child_weight  subsample  eta  mean_map  boost_rounds\n",
       "3        4.0               8.0        1.0  0.3  0.631498          99.0\n",
       "1        4.0               5.0        1.0  0.3  0.628546          76.0\n",
       "0        4.0               5.0        0.7  0.3  0.628044          72.0\n",
       "2        4.0               8.0        0.7  0.3  0.623986          65.0"
      ]
     },
     "execution_count": 143,
     "metadata": {},
     "output_type": "execute_result"
    }
   ],
   "source": [
    "orig_hyper_df_sorted.head()"
   ]
  },
  {
   "cell_type": "markdown",
   "id": "3865f6e2-46f9-40c0-af87-fee79d96ecce",
   "metadata": {},
   "source": [
    "#### Train with best params"
   ]
  },
  {
   "cell_type": "code",
   "execution_count": 144,
   "id": "0f19449f-e749-4a94-a10d-aa337c2b78f0",
   "metadata": {},
   "outputs": [],
   "source": [
    "clf = xgb.XGBRanker(max_depth= int(orig_hyper_df_sorted.max_depth.iloc[0]),\n",
    "                    learning_rate=orig_hyper_df_sorted.eta.iloc[0],\n",
    "                    n_estimators= int(orig_hyper_df_sorted.boost_rounds.iloc[0]),                    \n",
    "                    min_child_weight= int(orig_hyper_df_sorted.min_child_weight.iloc[0]),\n",
    "                    subsample=orig_hyper_df_sorted.subsample.iloc[0],\n",
    "                    objective=\"rank:pairwise\",\n",
    "                    tree_method=\"exact\",\n",
    "                    n_jobs=8)\n",
    "\n",
    "#                     gamma=3,\n",
    "#                     max_delta_step=0,\n",
    "#                     colsample_bytree=0.86,\n",
    "#                     colsample_bylevel=1,\n",
    "#                     reg_lambda=0,\n",
    "#                     reg_alpha=1,\n",
    "#                     base_score=0.5,\n",
    "#                     scale_pos_weight=6,"
   ]
  },
  {
   "cell_type": "code",
   "execution_count": 145,
   "id": "a4ede5aa-dae1-40d2-928b-f8cdef47fb74",
   "metadata": {},
   "outputs": [
    {
     "data": {
      "text/plain": [
       "XGBRanker(base_score=None, booster=None, colsample_bylevel=None,\n",
       "          colsample_bynode=None, colsample_bytree=None, gamma=None, gpu_id=None,\n",
       "          importance_type='gain', interaction_constraints=None,\n",
       "          learning_rate=0.3, max_delta_step=None, max_depth=4,\n",
       "          min_child_weight=8, missing=nan, monotone_constraints=None,\n",
       "          n_estimators=99, n_jobs=8, num_parallel_tree=None, random_state=None,\n",
       "          reg_alpha=None, reg_lambda=None, scale_pos_weight=None, subsample=1.0,\n",
       "          tree_method='exact', validate_parameters=None, verbosity=None)"
      ]
     },
     "execution_count": 145,
     "metadata": {},
     "output_type": "execute_result"
    }
   ],
   "source": [
    "clf"
   ]
  },
  {
   "cell_type": "code",
   "execution_count": 146,
   "id": "bcb93db3-3c50-4fb2-b092-c857abc2f3ec",
   "metadata": {
    "scrolled": true,
    "tags": []
   },
   "outputs": [
    {
     "name": "stdout",
     "output_type": "stream",
     "text": [
      "[0]\tvalidation_0-map:0.49700\tvalidation_0-ndcg@10-:0.61519\tvalidation_1-map:0.48885\tvalidation_1-ndcg@10-:0.60906\n",
      "[1]\tvalidation_0-map:0.51413\tvalidation_0-ndcg@10-:0.62893\tvalidation_1-map:0.50652\tvalidation_1-ndcg@10-:0.62326\n",
      "[2]\tvalidation_0-map:0.52007\tvalidation_0-ndcg@10-:0.63352\tvalidation_1-map:0.51483\tvalidation_1-ndcg@10-:0.62965\n",
      "[3]\tvalidation_0-map:0.53169\tvalidation_0-ndcg@10-:0.64269\tvalidation_1-map:0.52534\tvalidation_1-ndcg@10-:0.63792\n",
      "[4]\tvalidation_0-map:0.54302\tvalidation_0-ndcg@10-:0.65156\tvalidation_1-map:0.53831\tvalidation_1-ndcg@10-:0.64798\n",
      "[5]\tvalidation_0-map:0.54517\tvalidation_0-ndcg@10-:0.65320\tvalidation_1-map:0.54044\tvalidation_1-ndcg@10-:0.64967\n",
      "[6]\tvalidation_0-map:0.54865\tvalidation_0-ndcg@10-:0.65604\tvalidation_1-map:0.54097\tvalidation_1-ndcg@10-:0.65025\n",
      "[7]\tvalidation_0-map:0.55302\tvalidation_0-ndcg@10-:0.65940\tvalidation_1-map:0.54581\tvalidation_1-ndcg@10-:0.65398\n",
      "[8]\tvalidation_0-map:0.55796\tvalidation_0-ndcg@10-:0.66339\tvalidation_1-map:0.55266\tvalidation_1-ndcg@10-:0.65939\n",
      "[9]\tvalidation_0-map:0.56312\tvalidation_0-ndcg@10-:0.66741\tvalidation_1-map:0.55665\tvalidation_1-ndcg@10-:0.66260\n",
      "[10]\tvalidation_0-map:0.56961\tvalidation_0-ndcg@10-:0.67251\tvalidation_1-map:0.55958\tvalidation_1-ndcg@10-:0.66500\n",
      "[11]\tvalidation_0-map:0.57408\tvalidation_0-ndcg@10-:0.67594\tvalidation_1-map:0.56215\tvalidation_1-ndcg@10-:0.66698\n",
      "[12]\tvalidation_0-map:0.57706\tvalidation_0-ndcg@10-:0.67828\tvalidation_1-map:0.56670\tvalidation_1-ndcg@10-:0.67053\n",
      "[13]\tvalidation_0-map:0.57798\tvalidation_0-ndcg@10-:0.67899\tvalidation_1-map:0.56756\tvalidation_1-ndcg@10-:0.67119\n",
      "[14]\tvalidation_0-map:0.58059\tvalidation_0-ndcg@10-:0.68109\tvalidation_1-map:0.56978\tvalidation_1-ndcg@10-:0.67292\n",
      "[15]\tvalidation_0-map:0.58647\tvalidation_0-ndcg@10-:0.68571\tvalidation_1-map:0.57773\tvalidation_1-ndcg@10-:0.67915\n",
      "[16]\tvalidation_0-map:0.58984\tvalidation_0-ndcg@10-:0.68834\tvalidation_1-map:0.58075\tvalidation_1-ndcg@10-:0.68148\n",
      "[17]\tvalidation_0-map:0.59121\tvalidation_0-ndcg@10-:0.68942\tvalidation_1-map:0.58093\tvalidation_1-ndcg@10-:0.68166\n",
      "[18]\tvalidation_0-map:0.59506\tvalidation_0-ndcg@10-:0.69247\tvalidation_1-map:0.58325\tvalidation_1-ndcg@10-:0.68345\n",
      "[19]\tvalidation_0-map:0.59732\tvalidation_0-ndcg@10-:0.69428\tvalidation_1-map:0.58730\tvalidation_1-ndcg@10-:0.68651\n",
      "[20]\tvalidation_0-map:0.59937\tvalidation_0-ndcg@10-:0.69585\tvalidation_1-map:0.58922\tvalidation_1-ndcg@10-:0.68799\n",
      "[21]\tvalidation_0-map:0.60128\tvalidation_0-ndcg@10-:0.69735\tvalidation_1-map:0.58959\tvalidation_1-ndcg@10-:0.68828\n",
      "[22]\tvalidation_0-map:0.60276\tvalidation_0-ndcg@10-:0.69853\tvalidation_1-map:0.59113\tvalidation_1-ndcg@10-:0.68953\n",
      "[23]\tvalidation_0-map:0.60537\tvalidation_0-ndcg@10-:0.70059\tvalidation_1-map:0.59201\tvalidation_1-ndcg@10-:0.69026\n",
      "[24]\tvalidation_0-map:0.60649\tvalidation_0-ndcg@10-:0.70146\tvalidation_1-map:0.59284\tvalidation_1-ndcg@10-:0.69093\n",
      "[25]\tvalidation_0-map:0.60779\tvalidation_0-ndcg@10-:0.70246\tvalidation_1-map:0.59324\tvalidation_1-ndcg@10-:0.69125\n",
      "[26]\tvalidation_0-map:0.60925\tvalidation_0-ndcg@10-:0.70362\tvalidation_1-map:0.59605\tvalidation_1-ndcg@10-:0.69344\n",
      "[27]\tvalidation_0-map:0.61029\tvalidation_0-ndcg@10-:0.70446\tvalidation_1-map:0.59666\tvalidation_1-ndcg@10-:0.69392\n",
      "[28]\tvalidation_0-map:0.61332\tvalidation_0-ndcg@10-:0.70678\tvalidation_1-map:0.59778\tvalidation_1-ndcg@10-:0.69480\n",
      "[29]\tvalidation_0-map:0.61533\tvalidation_0-ndcg@10-:0.70836\tvalidation_1-map:0.59954\tvalidation_1-ndcg@10-:0.69619\n",
      "[30]\tvalidation_0-map:0.61690\tvalidation_0-ndcg@10-:0.70956\tvalidation_1-map:0.59970\tvalidation_1-ndcg@10-:0.69635\n",
      "[31]\tvalidation_0-map:0.61785\tvalidation_0-ndcg@10-:0.71032\tvalidation_1-map:0.60167\tvalidation_1-ndcg@10-:0.69781\n",
      "[32]\tvalidation_0-map:0.61975\tvalidation_0-ndcg@10-:0.71182\tvalidation_1-map:0.60315\tvalidation_1-ndcg@10-:0.69900\n",
      "[33]\tvalidation_0-map:0.62040\tvalidation_0-ndcg@10-:0.71232\tvalidation_1-map:0.60297\tvalidation_1-ndcg@10-:0.69889\n",
      "[34]\tvalidation_0-map:0.62152\tvalidation_0-ndcg@10-:0.71318\tvalidation_1-map:0.60362\tvalidation_1-ndcg@10-:0.69939\n",
      "[35]\tvalidation_0-map:0.62264\tvalidation_0-ndcg@10-:0.71405\tvalidation_1-map:0.60516\tvalidation_1-ndcg@10-:0.70060\n",
      "[36]\tvalidation_0-map:0.62416\tvalidation_0-ndcg@10-:0.71522\tvalidation_1-map:0.60592\tvalidation_1-ndcg@10-:0.70122\n",
      "[37]\tvalidation_0-map:0.62609\tvalidation_0-ndcg@10-:0.71670\tvalidation_1-map:0.60814\tvalidation_1-ndcg@10-:0.70291\n",
      "[38]\tvalidation_0-map:0.62652\tvalidation_0-ndcg@10-:0.71703\tvalidation_1-map:0.60806\tvalidation_1-ndcg@10-:0.70286\n",
      "[39]\tvalidation_0-map:0.62786\tvalidation_0-ndcg@10-:0.71806\tvalidation_1-map:0.60893\tvalidation_1-ndcg@10-:0.70351\n",
      "[40]\tvalidation_0-map:0.62899\tvalidation_0-ndcg@10-:0.71893\tvalidation_1-map:0.60916\tvalidation_1-ndcg@10-:0.70373\n",
      "[41]\tvalidation_0-map:0.62942\tvalidation_0-ndcg@10-:0.71928\tvalidation_1-map:0.60988\tvalidation_1-ndcg@10-:0.70427\n",
      "[42]\tvalidation_0-map:0.62986\tvalidation_0-ndcg@10-:0.71964\tvalidation_1-map:0.60991\tvalidation_1-ndcg@10-:0.70433\n",
      "[43]\tvalidation_0-map:0.63075\tvalidation_0-ndcg@10-:0.72033\tvalidation_1-map:0.61159\tvalidation_1-ndcg@10-:0.70559\n",
      "[44]\tvalidation_0-map:0.63189\tvalidation_0-ndcg@10-:0.72119\tvalidation_1-map:0.61327\tvalidation_1-ndcg@10-:0.70689\n",
      "[45]\tvalidation_0-map:0.63331\tvalidation_0-ndcg@10-:0.72229\tvalidation_1-map:0.61525\tvalidation_1-ndcg@10-:0.70838\n",
      "[46]\tvalidation_0-map:0.63384\tvalidation_0-ndcg@10-:0.72272\tvalidation_1-map:0.61616\tvalidation_1-ndcg@10-:0.70909\n",
      "[47]\tvalidation_0-map:0.63479\tvalidation_0-ndcg@10-:0.72345\tvalidation_1-map:0.61706\tvalidation_1-ndcg@10-:0.70979\n",
      "[48]\tvalidation_0-map:0.63564\tvalidation_0-ndcg@10-:0.72411\tvalidation_1-map:0.61622\tvalidation_1-ndcg@10-:0.70920\n",
      "[49]\tvalidation_0-map:0.63647\tvalidation_0-ndcg@10-:0.72474\tvalidation_1-map:0.61635\tvalidation_1-ndcg@10-:0.70927\n",
      "[50]\tvalidation_0-map:0.63776\tvalidation_0-ndcg@10-:0.72574\tvalidation_1-map:0.61738\tvalidation_1-ndcg@10-:0.71003\n",
      "[51]\tvalidation_0-map:0.63908\tvalidation_0-ndcg@10-:0.72675\tvalidation_1-map:0.61782\tvalidation_1-ndcg@10-:0.71037\n",
      "[52]\tvalidation_0-map:0.64021\tvalidation_0-ndcg@10-:0.72761\tvalidation_1-map:0.61826\tvalidation_1-ndcg@10-:0.71074\n",
      "[53]\tvalidation_0-map:0.64093\tvalidation_0-ndcg@10-:0.72814\tvalidation_1-map:0.61916\tvalidation_1-ndcg@10-:0.71142\n",
      "[54]\tvalidation_0-map:0.64125\tvalidation_0-ndcg@10-:0.72840\tvalidation_1-map:0.62023\tvalidation_1-ndcg@10-:0.71223\n",
      "[55]\tvalidation_0-map:0.64178\tvalidation_0-ndcg@10-:0.72881\tvalidation_1-map:0.62104\tvalidation_1-ndcg@10-:0.71284\n",
      "[56]\tvalidation_0-map:0.64253\tvalidation_0-ndcg@10-:0.72938\tvalidation_1-map:0.62137\tvalidation_1-ndcg@10-:0.71312\n",
      "[57]\tvalidation_0-map:0.64323\tvalidation_0-ndcg@10-:0.72993\tvalidation_1-map:0.62234\tvalidation_1-ndcg@10-:0.71386\n",
      "[58]\tvalidation_0-map:0.64387\tvalidation_0-ndcg@10-:0.73041\tvalidation_1-map:0.62252\tvalidation_1-ndcg@10-:0.71401\n",
      "[59]\tvalidation_0-map:0.64446\tvalidation_0-ndcg@10-:0.73090\tvalidation_1-map:0.62269\tvalidation_1-ndcg@10-:0.71413\n",
      "[60]\tvalidation_0-map:0.64488\tvalidation_0-ndcg@10-:0.73121\tvalidation_1-map:0.62282\tvalidation_1-ndcg@10-:0.71420\n",
      "[61]\tvalidation_0-map:0.64547\tvalidation_0-ndcg@10-:0.73166\tvalidation_1-map:0.62268\tvalidation_1-ndcg@10-:0.71413\n",
      "[62]\tvalidation_0-map:0.64677\tvalidation_0-ndcg@10-:0.73266\tvalidation_1-map:0.62332\tvalidation_1-ndcg@10-:0.71461\n",
      "[63]\tvalidation_0-map:0.64697\tvalidation_0-ndcg@10-:0.73281\tvalidation_1-map:0.62344\tvalidation_1-ndcg@10-:0.71472\n",
      "[64]\tvalidation_0-map:0.64721\tvalidation_0-ndcg@10-:0.73299\tvalidation_1-map:0.62360\tvalidation_1-ndcg@10-:0.71488\n",
      "[65]\tvalidation_0-map:0.64798\tvalidation_0-ndcg@10-:0.73358\tvalidation_1-map:0.62420\tvalidation_1-ndcg@10-:0.71531\n",
      "[66]\tvalidation_0-map:0.64844\tvalidation_0-ndcg@10-:0.73395\tvalidation_1-map:0.62511\tvalidation_1-ndcg@10-:0.71599\n",
      "[67]\tvalidation_0-map:0.64861\tvalidation_0-ndcg@10-:0.73408\tvalidation_1-map:0.62551\tvalidation_1-ndcg@10-:0.71632\n",
      "[68]\tvalidation_0-map:0.64971\tvalidation_0-ndcg@10-:0.73493\tvalidation_1-map:0.62650\tvalidation_1-ndcg@10-:0.71708\n",
      "[69]\tvalidation_0-map:0.65073\tvalidation_0-ndcg@10-:0.73571\tvalidation_1-map:0.62599\tvalidation_1-ndcg@10-:0.71668\n",
      "[70]\tvalidation_0-map:0.65083\tvalidation_0-ndcg@10-:0.73582\tvalidation_1-map:0.62602\tvalidation_1-ndcg@10-:0.71672\n",
      "[71]\tvalidation_0-map:0.65102\tvalidation_0-ndcg@10-:0.73596\tvalidation_1-map:0.62592\tvalidation_1-ndcg@10-:0.71665\n",
      "[72]\tvalidation_0-map:0.65194\tvalidation_0-ndcg@10-:0.73666\tvalidation_1-map:0.62607\tvalidation_1-ndcg@10-:0.71680\n",
      "[73]\tvalidation_0-map:0.65213\tvalidation_0-ndcg@10-:0.73681\tvalidation_1-map:0.62594\tvalidation_1-ndcg@10-:0.71669\n",
      "[74]\tvalidation_0-map:0.65225\tvalidation_0-ndcg@10-:0.73691\tvalidation_1-map:0.62655\tvalidation_1-ndcg@10-:0.71713\n",
      "[75]\tvalidation_0-map:0.65282\tvalidation_0-ndcg@10-:0.73736\tvalidation_1-map:0.62642\tvalidation_1-ndcg@10-:0.71704\n",
      "[76]\tvalidation_0-map:0.65359\tvalidation_0-ndcg@10-:0.73796\tvalidation_1-map:0.62675\tvalidation_1-ndcg@10-:0.71730\n",
      "[77]\tvalidation_0-map:0.65388\tvalidation_0-ndcg@10-:0.73819\tvalidation_1-map:0.62670\tvalidation_1-ndcg@10-:0.71726\n",
      "[78]\tvalidation_0-map:0.65491\tvalidation_0-ndcg@10-:0.73897\tvalidation_1-map:0.62645\tvalidation_1-ndcg@10-:0.71706\n",
      "[79]\tvalidation_0-map:0.65544\tvalidation_0-ndcg@10-:0.73936\tvalidation_1-map:0.62619\tvalidation_1-ndcg@10-:0.71689\n",
      "[80]\tvalidation_0-map:0.65600\tvalidation_0-ndcg@10-:0.73978\tvalidation_1-map:0.62668\tvalidation_1-ndcg@10-:0.71727\n",
      "[81]\tvalidation_0-map:0.65634\tvalidation_0-ndcg@10-:0.74006\tvalidation_1-map:0.62671\tvalidation_1-ndcg@10-:0.71730\n",
      "[82]\tvalidation_0-map:0.65684\tvalidation_0-ndcg@10-:0.74044\tvalidation_1-map:0.62661\tvalidation_1-ndcg@10-:0.71723\n",
      "[83]\tvalidation_0-map:0.65777\tvalidation_0-ndcg@10-:0.74115\tvalidation_1-map:0.62769\tvalidation_1-ndcg@10-:0.71804\n",
      "[84]\tvalidation_0-map:0.65817\tvalidation_0-ndcg@10-:0.74146\tvalidation_1-map:0.62761\tvalidation_1-ndcg@10-:0.71799\n",
      "[85]\tvalidation_0-map:0.65831\tvalidation_0-ndcg@10-:0.74159\tvalidation_1-map:0.62785\tvalidation_1-ndcg@10-:0.71820\n",
      "[86]\tvalidation_0-map:0.65867\tvalidation_0-ndcg@10-:0.74186\tvalidation_1-map:0.62811\tvalidation_1-ndcg@10-:0.71839\n",
      "[87]\tvalidation_0-map:0.65912\tvalidation_0-ndcg@10-:0.74220\tvalidation_1-map:0.62790\tvalidation_1-ndcg@10-:0.71822\n",
      "[88]\tvalidation_0-map:0.65904\tvalidation_0-ndcg@10-:0.74216\tvalidation_1-map:0.62822\tvalidation_1-ndcg@10-:0.71846\n",
      "[89]\tvalidation_0-map:0.65930\tvalidation_0-ndcg@10-:0.74236\tvalidation_1-map:0.62820\tvalidation_1-ndcg@10-:0.71845\n",
      "[90]\tvalidation_0-map:0.66008\tvalidation_0-ndcg@10-:0.74294\tvalidation_1-map:0.62835\tvalidation_1-ndcg@10-:0.71857\n",
      "[91]\tvalidation_0-map:0.66024\tvalidation_0-ndcg@10-:0.74307\tvalidation_1-map:0.62846\tvalidation_1-ndcg@10-:0.71865\n",
      "[92]\tvalidation_0-map:0.66067\tvalidation_0-ndcg@10-:0.74340\tvalidation_1-map:0.62953\tvalidation_1-ndcg@10-:0.71947\n",
      "[93]\tvalidation_0-map:0.66092\tvalidation_0-ndcg@10-:0.74358\tvalidation_1-map:0.62970\tvalidation_1-ndcg@10-:0.71961\n",
      "[94]\tvalidation_0-map:0.66113\tvalidation_0-ndcg@10-:0.74374\tvalidation_1-map:0.62964\tvalidation_1-ndcg@10-:0.71957\n",
      "[95]\tvalidation_0-map:0.66129\tvalidation_0-ndcg@10-:0.74388\tvalidation_1-map:0.63019\tvalidation_1-ndcg@10-:0.71996\n",
      "[96]\tvalidation_0-map:0.66154\tvalidation_0-ndcg@10-:0.74408\tvalidation_1-map:0.63039\tvalidation_1-ndcg@10-:0.72015\n",
      "[97]\tvalidation_0-map:0.66174\tvalidation_0-ndcg@10-:0.74425\tvalidation_1-map:0.63007\tvalidation_1-ndcg@10-:0.71991\n",
      "[98]\tvalidation_0-map:0.66220\tvalidation_0-ndcg@10-:0.74460\tvalidation_1-map:0.63082\tvalidation_1-ndcg@10-:0.72044\n"
     ]
    }
   ],
   "source": [
    "eval_set = [(X_train_3f, y_train), (X_valid_3f, y_valid)]\n",
    "eval_group = [group_train, group_valid]\n",
    "eval_metric = ['map', 'ndcg@10-']\n",
    "\n",
    "\n",
    "model = clf.fit(X_train_3f,#set to train df of correct columns combination\n",
    "                y_train,\n",
    "                eval_set=eval_set,\n",
    "                eval_metric=eval_metric,\n",
    "                early_stopping_rounds=10,\n",
    "                group=group_train,\n",
    "                eval_group=eval_group,\n",
    "                verbose=True)"
   ]
  },
  {
   "cell_type": "code",
   "execution_count": 147,
   "id": "aae6cb6d-19f4-4765-a9de-c431213f57b3",
   "metadata": {},
   "outputs": [],
   "source": [
    "xgb_imp_gain = calc_feature_imp(model, 'gain')\n",
    "xgb_imp_weight = calc_feature_imp(model, 'weight')"
   ]
  },
  {
   "cell_type": "code",
   "execution_count": 148,
   "id": "fd89562a-41fb-48e2-bbd5-dd1d45232fe4",
   "metadata": {},
   "outputs": [
    {
     "data": {
      "text/plain": [
       "SpearmanrResult(correlation=0.6117288361067644, pvalue=0.0)"
      ]
     },
     "execution_count": 148,
     "metadata": {},
     "output_type": "execute_result"
    }
   ],
   "source": [
    "from scipy import stats\n",
    "res = stats.spearmanr(pdf.f_FreqSameItemInWatchBadge, pdf.f_BibowatchRelPosition)\n",
    "res"
   ]
  },
  {
   "cell_type": "code",
   "execution_count": 149,
   "id": "838667e3-f2db-4ba8-a056-8a74b8d76e32",
   "metadata": {
    "tags": []
   },
   "outputs": [
    {
     "data": {
      "text/html": [
       "<div>\n",
       "<style scoped>\n",
       "    .dataframe tbody tr th:only-of-type {\n",
       "        vertical-align: middle;\n",
       "    }\n",
       "\n",
       "    .dataframe tbody tr th {\n",
       "        vertical-align: top;\n",
       "    }\n",
       "\n",
       "    .dataframe thead th {\n",
       "        text-align: right;\n",
       "    }\n",
       "</style>\n",
       "<table border=\"1\" class=\"dataframe\">\n",
       "  <thead>\n",
       "    <tr style=\"text-align: right;\">\n",
       "      <th></th>\n",
       "      <th>feature</th>\n",
       "      <th>score</th>\n",
       "    </tr>\n",
       "  </thead>\n",
       "  <tbody>\n",
       "    <tr>\n",
       "      <th>0</th>\n",
       "      <td>f_RecallSourceBullseye</td>\n",
       "      <td>709.317694</td>\n",
       "    </tr>\n",
       "    <tr>\n",
       "      <th>1</th>\n",
       "      <td>f_FreqSameItemInWatchBadge</td>\n",
       "      <td>458.111355</td>\n",
       "    </tr>\n",
       "    <tr>\n",
       "      <th>2</th>\n",
       "      <td>f_BullseyeAbsRVILeafCatMedianPriceDiffV2</td>\n",
       "      <td>217.728190</td>\n",
       "    </tr>\n",
       "    <tr>\n",
       "      <th>3</th>\n",
       "      <td>f_BullseyeRelRVILeafCatMedianPriceDiffV2</td>\n",
       "      <td>201.582995</td>\n",
       "    </tr>\n",
       "    <tr>\n",
       "      <th>4</th>\n",
       "      <td>f_NumSameRviInLastWeek</td>\n",
       "      <td>196.715227</td>\n",
       "    </tr>\n",
       "    <tr>\n",
       "      <th>5</th>\n",
       "      <td>f_ItemTimeLeftSec</td>\n",
       "      <td>162.594102</td>\n",
       "    </tr>\n",
       "    <tr>\n",
       "      <th>6</th>\n",
       "      <td>f_MaxViewedItemTitleJaccardBigrams</td>\n",
       "      <td>152.339836</td>\n",
       "    </tr>\n",
       "    <tr>\n",
       "      <th>7</th>\n",
       "      <td>f_SizeMedianDiff</td>\n",
       "      <td>147.293582</td>\n",
       "    </tr>\n",
       "    <tr>\n",
       "      <th>8</th>\n",
       "      <td>f_ItemTimeOnSiteV2</td>\n",
       "      <td>138.001157</td>\n",
       "    </tr>\n",
       "    <tr>\n",
       "      <th>9</th>\n",
       "      <td>f_TitleCosineSimilarityToShoppingcartCentroid</td>\n",
       "      <td>95.615980</td>\n",
       "    </tr>\n",
       "    <tr>\n",
       "      <th>10</th>\n",
       "      <td>f_RecallSourceTora</td>\n",
       "      <td>88.936715</td>\n",
       "    </tr>\n",
       "    <tr>\n",
       "      <th>11</th>\n",
       "      <td>f_RecallSourceBestMatch</td>\n",
       "      <td>75.547388</td>\n",
       "    </tr>\n",
       "    <tr>\n",
       "      <th>12</th>\n",
       "      <td>f_ItemSalesOverImpPricePrior7DayDecayLogSmooth...</td>\n",
       "      <td>74.547657</td>\n",
       "    </tr>\n",
       "    <tr>\n",
       "      <th>13</th>\n",
       "      <td>f_ItemWatchOverImpLogSmoothAllNorm</td>\n",
       "      <td>69.983027</td>\n",
       "    </tr>\n",
       "    <tr>\n",
       "      <th>14</th>\n",
       "      <td>f_BibowatchRelPosition</td>\n",
       "      <td>66.071628</td>\n",
       "    </tr>\n",
       "    <tr>\n",
       "      <th>15</th>\n",
       "      <td>f_ItemTimeOnSiteNorm</td>\n",
       "      <td>64.308283</td>\n",
       "    </tr>\n",
       "    <tr>\n",
       "      <th>16</th>\n",
       "      <td>f_ItemSalesOverImpPricePrior7DayDecayLogSmooth...</td>\n",
       "      <td>63.558618</td>\n",
       "    </tr>\n",
       "    <tr>\n",
       "      <th>17</th>\n",
       "      <td>f_ItemVariantSalesOverImpressions7DayDecayLogS...</td>\n",
       "      <td>62.563177</td>\n",
       "    </tr>\n",
       "    <tr>\n",
       "      <th>18</th>\n",
       "      <td>f_MaxViewedItemTitleJaccard</td>\n",
       "      <td>57.372478</td>\n",
       "    </tr>\n",
       "    <tr>\n",
       "      <th>19</th>\n",
       "      <td>f_AvgSameLeafRviPriceRatio</td>\n",
       "      <td>57.372138</td>\n",
       "    </tr>\n",
       "    <tr>\n",
       "      <th>20</th>\n",
       "      <td>f_PriceDiffMedianRecall</td>\n",
       "      <td>52.789879</td>\n",
       "    </tr>\n",
       "    <tr>\n",
       "      <th>21</th>\n",
       "      <td>f_MerchImpressionsDecayed</td>\n",
       "      <td>51.814706</td>\n",
       "    </tr>\n",
       "    <tr>\n",
       "      <th>22</th>\n",
       "      <td>f_PlImpressionsDecayed</td>\n",
       "      <td>48.328475</td>\n",
       "    </tr>\n",
       "    <tr>\n",
       "      <th>23</th>\n",
       "      <td>f_FreqWatchPriceBellowItemPrice</td>\n",
       "      <td>46.894891</td>\n",
       "    </tr>\n",
       "    <tr>\n",
       "      <th>24</th>\n",
       "      <td>f_EpidRelative</td>\n",
       "      <td>46.032082</td>\n",
       "    </tr>\n",
       "    <tr>\n",
       "      <th>25</th>\n",
       "      <td>f_ItemWatchesOverImp7DayDecayLogSmoothDomestic...</td>\n",
       "      <td>36.715095</td>\n",
       "    </tr>\n",
       "    <tr>\n",
       "      <th>26</th>\n",
       "      <td>f_UserSizeNumberOfEvidence</td>\n",
       "      <td>34.118797</td>\n",
       "    </tr>\n",
       "    <tr>\n",
       "      <th>27</th>\n",
       "      <td>f_NormItemViewCount7DayDecayDomesticWebAndMobile</td>\n",
       "      <td>31.836922</td>\n",
       "    </tr>\n",
       "    <tr>\n",
       "      <th>28</th>\n",
       "      <td>f_UserSizeMaxMinDiff</td>\n",
       "      <td>30.012251</td>\n",
       "    </tr>\n",
       "    <tr>\n",
       "      <th>29</th>\n",
       "      <td>f_SellerFeedbackLogNormWnD</td>\n",
       "      <td>25.426591</td>\n",
       "    </tr>\n",
       "    <tr>\n",
       "      <th>30</th>\n",
       "      <td>f_ItemVariantWatchOverImpressions7DayDecayLogS...</td>\n",
       "      <td>24.112966</td>\n",
       "    </tr>\n",
       "    <tr>\n",
       "      <th>31</th>\n",
       "      <td>f_IsMsku</td>\n",
       "      <td>23.785751</td>\n",
       "    </tr>\n",
       "    <tr>\n",
       "      <th>32</th>\n",
       "      <td>f_AvgSameLeafRviPriceDiff</td>\n",
       "      <td>22.140217</td>\n",
       "    </tr>\n",
       "    <tr>\n",
       "      <th>33</th>\n",
       "      <td>f_NSFWScore</td>\n",
       "      <td>16.375340</td>\n",
       "    </tr>\n",
       "    <tr>\n",
       "      <th>34</th>\n",
       "      <td>f_BullseyeRVILeafCatMedianPriceV2</td>\n",
       "      <td>13.966548</td>\n",
       "    </tr>\n",
       "    <tr>\n",
       "      <th>35</th>\n",
       "      <td>f_ItemSalesOverImpPricePrior7DayDecayLogSmooth...</td>\n",
       "      <td>0.000000</td>\n",
       "    </tr>\n",
       "  </tbody>\n",
       "</table>\n",
       "</div>"
      ],
      "text/plain": [
       "                                              feature       score\n",
       "0                              f_RecallSourceBullseye  709.317694\n",
       "1                          f_FreqSameItemInWatchBadge  458.111355\n",
       "2            f_BullseyeAbsRVILeafCatMedianPriceDiffV2  217.728190\n",
       "3            f_BullseyeRelRVILeafCatMedianPriceDiffV2  201.582995\n",
       "4                              f_NumSameRviInLastWeek  196.715227\n",
       "5                                   f_ItemTimeLeftSec  162.594102\n",
       "6                  f_MaxViewedItemTitleJaccardBigrams  152.339836\n",
       "7                                    f_SizeMedianDiff  147.293582\n",
       "8                                  f_ItemTimeOnSiteV2  138.001157\n",
       "9       f_TitleCosineSimilarityToShoppingcartCentroid   95.615980\n",
       "10                                 f_RecallSourceTora   88.936715\n",
       "11                            f_RecallSourceBestMatch   75.547388\n",
       "12  f_ItemSalesOverImpPricePrior7DayDecayLogSmooth...   74.547657\n",
       "13                 f_ItemWatchOverImpLogSmoothAllNorm   69.983027\n",
       "14                             f_BibowatchRelPosition   66.071628\n",
       "15                               f_ItemTimeOnSiteNorm   64.308283\n",
       "16  f_ItemSalesOverImpPricePrior7DayDecayLogSmooth...   63.558618\n",
       "17  f_ItemVariantSalesOverImpressions7DayDecayLogS...   62.563177\n",
       "18                        f_MaxViewedItemTitleJaccard   57.372478\n",
       "19                         f_AvgSameLeafRviPriceRatio   57.372138\n",
       "20                            f_PriceDiffMedianRecall   52.789879\n",
       "21                          f_MerchImpressionsDecayed   51.814706\n",
       "22                             f_PlImpressionsDecayed   48.328475\n",
       "23                    f_FreqWatchPriceBellowItemPrice   46.894891\n",
       "24                                     f_EpidRelative   46.032082\n",
       "25  f_ItemWatchesOverImp7DayDecayLogSmoothDomestic...   36.715095\n",
       "26                         f_UserSizeNumberOfEvidence   34.118797\n",
       "27   f_NormItemViewCount7DayDecayDomesticWebAndMobile   31.836922\n",
       "28                               f_UserSizeMaxMinDiff   30.012251\n",
       "29                         f_SellerFeedbackLogNormWnD   25.426591\n",
       "30  f_ItemVariantWatchOverImpressions7DayDecayLogS...   24.112966\n",
       "31                                           f_IsMsku   23.785751\n",
       "32                          f_AvgSameLeafRviPriceDiff   22.140217\n",
       "33                                        f_NSFWScore   16.375340\n",
       "34                  f_BullseyeRVILeafCatMedianPriceV2   13.966548\n",
       "35  f_ItemSalesOverImpPricePrior7DayDecayLogSmooth...    0.000000"
      ]
     },
     "execution_count": 149,
     "metadata": {},
     "output_type": "execute_result"
    }
   ],
   "source": [
    "xgb_imp_gain.sort_values(ascending=False, by='score').reset_index(drop=True)"
   ]
  },
  {
   "cell_type": "raw",
   "id": "3d2365e1-2df1-4cff-a2e2-cf6bbb535962",
   "metadata": {},
   "source": [
    "#save model\n",
    "model.save_model('/data/shpx/data/olivyatan/piyi/snkrs_3f_2m_nov22.model')  \n"
   ]
  },
  {
   "cell_type": "raw",
   "id": "6ab08aa5-122e-4990-be8c-91ca1eb3b5d0",
   "metadata": {},
   "source": [
    "loaded_model = xgb.Booster()\n",
    "loaded_model.load_model('/data/shpx/data/olivyatan/piyi/snkrs_3f_2m_nov22.model')"
   ]
  },
  {
   "cell_type": "raw",
   "id": "3f8d42b2-f0e4-479e-87df-a3f522358584",
   "metadata": {},
   "source": [
    "loaded_model = xgb.Booster()\n",
    "loaded_model.load_model('/data/shpx/data/olivyatan/piyi/snkrs_3f_1m_nov22.model')"
   ]
  },
  {
   "cell_type": "raw",
   "id": "923aa5bd-7ef5-455e-9acf-43376bce81e2",
   "metadata": {},
   "source": [
    "import pickle\n",
    "\n",
    "file_name = '/data/shpx/data/olivyatan/piyi/snkrs_3f_2m_nov22.pkl'\n",
    "# save\n",
    "pickle.dump(model, open(file_name, \"wb\"))"
   ]
  },
  {
   "cell_type": "raw",
   "id": "c88ce23b-aafa-489b-8bed-9c097e3e8907",
   "metadata": {},
   "source": [
    "# load \n",
    "file_name = '/data/shpx/data/olivyatan/piyi/snkrs_3f_2m_nov22.pkl'\n",
    "xgb_model_loaded = pickle.load(open(file_name, \"rb\"))\n",
    "xgb_imp_gain = calc_feature_imp(xgb_model_loaded, 'gain')\n",
    "xgb_imp_gain.sort_values(ascending=False, by='score').reset_index(drop=True)"
   ]
  },
  {
   "cell_type": "raw",
   "id": "bb88f80f-519c-450b-9c8f-a5b1af8d3124",
   "metadata": {},
   "source": [
    "# load \n",
    "file_name = '/data/shpx/data/olivyatan/piyi/snkrs_3f_1m_nov22.pkl'\n",
    "xgb_model_loaded = pickle.load(open(file_name, \"rb\"))\n",
    "xgb_imp_gain = calc_feature_imp(xgb_model_loaded, 'gain')\n",
    "xgb_imp_gain.sort_values(ascending=False, by='score').reset_index(drop=True)"
   ]
  },
  {
   "cell_type": "markdown",
   "id": "41bdff98-052b-4c4c-82b2-1948feee3546",
   "metadata": {},
   "source": [
    "#### Evaluation"
   ]
  },
  {
   "cell_type": "markdown",
   "id": "4d2a3980-a609-4bb6-ba29-fb7a64235b32",
   "metadata": {},
   "source": [
    "Predict on test of purchases:"
   ]
  },
  {
   "cell_type": "code",
   "execution_count": 150,
   "id": "6015e986-defa-4ef3-ac8a-bd75d5a4aff5",
   "metadata": {},
   "outputs": [
    {
     "name": "stderr",
     "output_type": "stream",
     "text": [
      "/opt/conda/lib/python3.7/site-packages/ipykernel_launcher.py:6: SettingWithCopyWarning: \n",
      "A value is trying to be set on a copy of a slice from a DataFrame.\n",
      "Try using .loc[row_indexer,col_indexer] = value instead\n",
      "\n",
      "See the caveats in the documentation: https://pandas.pydata.org/pandas-docs/stable/user_guide/indexing.html#returning-a-view-versus-a-copy\n",
      "  \n"
     ]
    },
    {
     "data": {
      "text/plain": [
       "(2.596715009610344, 2.392102044382317, 2.596785464709993)"
      ]
     },
     "execution_count": 150,
     "metadata": {},
     "output_type": "execute_result"
    }
   ],
   "source": [
    "valid_preds = model.predict(X_valid_3f)\n",
    "train_preds = model.predict(X_train_3f)\n",
    "test_preds = model.predict(X_test_3f)\n",
    "\n",
    "valid['3f_orig_pred'] = valid_preds\n",
    "train['3f_orig_pred'] = train_preds\n",
    "test['3f_orig_pred'] = test_preds\n",
    "\n",
    "sr_rank_valid = calc_sale_rank(valid, '3f_orig_pred', ascending=False)\n",
    "sr_rank_train = calc_sale_rank(train, '3f_orig_pred', ascending=False)\n",
    "sr_rank_test = calc_sale_rank(test, '3f_orig_pred', ascending=False)\n",
    "\n",
    "np.mean(sr_rank_valid), np.mean(sr_rank_train), np.mean(sr_rank_test)"
   ]
  },
  {
   "cell_type": "code",
   "execution_count": null,
   "id": "bbdc4ff5-a5aa-4ec7-a777-6c4c30045e88",
   "metadata": {},
   "outputs": [],
   "source": [
    "#prev:"
   ]
  },
  {
   "cell_type": "code",
   "execution_count": 230,
   "id": "f58cda76-507e-4e63-ac94-6574d131ab1d",
   "metadata": {},
   "outputs": [
    {
     "name": "stderr",
     "output_type": "stream",
     "text": [
      "/opt/conda/lib/python3.7/site-packages/ipykernel_launcher.py:6: SettingWithCopyWarning: \n",
      "A value is trying to be set on a copy of a slice from a DataFrame.\n",
      "Try using .loc[row_indexer,col_indexer] = value instead\n",
      "\n",
      "See the caveats in the documentation: https://pandas.pydata.org/pandas-docs/stable/user_guide/indexing.html#returning-a-view-versus-a-copy\n",
      "  \n"
     ]
    },
    {
     "data": {
      "text/plain": [
       "(2.68667201926937, 2.4085374013113876, 2.637166365643187)"
      ]
     },
     "execution_count": 230,
     "metadata": {},
     "output_type": "execute_result"
    }
   ],
   "source": [
    "valid_preds = model.predict(X_valid_3f)\n",
    "train_preds = model.predict(X_train_3f)\n",
    "test_preds = model.predict(X_test_3f)\n",
    "\n",
    "valid['3f_orig_pred'] = valid_preds\n",
    "train['3f_orig_pred'] = train_preds\n",
    "test['3f_orig_pred'] = test_preds\n",
    "\n",
    "sr_rank_valid = calc_sale_rank(valid, '3f_orig_pred', ascending=False)\n",
    "sr_rank_train = calc_sale_rank(train, '3f_orig_pred', ascending=False)\n",
    "sr_rank_test = calc_sale_rank(test, '3f_orig_pred', ascending=False)\n",
    "\n",
    "np.mean(sr_rank_valid), np.mean(sr_rank_train), np.mean(sr_rank_test)"
   ]
  },
  {
   "cell_type": "code",
   "execution_count": 151,
   "id": "14ca29b6-84e4-48db-b1ca-4847201adef9",
   "metadata": {},
   "outputs": [],
   "source": [
    "import pickle\n",
    "\n",
    "file_name = '/data/shpx/data/olivyatan/piyi/2snkrs_hp7d_size_3f_4m_exApril23.pkl'\n",
    "# save\n",
    "pickle.dump(model, open(file_name, \"wb\"))"
   ]
  },
  {
   "cell_type": "code",
   "execution_count": 152,
   "id": "aaa8a2ab-a8ec-4839-9c57-2b399ba2c547",
   "metadata": {},
   "outputs": [],
   "source": [
    "#save model\n",
    "model.save_model('/data/shpx/data/olivyatan/piyi/2snkrs_hp7d_size_3f_4m_exApril23.model')  "
   ]
  },
  {
   "cell_type": "markdown",
   "id": "442239e0-002f-4c57-af47-014a1c8de6db",
   "metadata": {},
   "source": [
    "### 3. Examination of longer test results:"
   ]
  },
  {
   "cell_type": "raw",
   "id": "8f65fccb-ebe4-493b-94b8-41fdb05acc2c",
   "metadata": {},
   "source": [
    "pdf_longer_test=pd.read_parquet('/data/shpx/data/olivyatan/sneakers_us_2w_150123_290123_allfeat.parquet')  "
   ]
  },
  {
   "cell_type": "code",
   "execution_count": 162,
   "id": "92311627-f5ef-486a-95cd-cc4adf6b9ed6",
   "metadata": {},
   "outputs": [
    {
     "data": {
      "text/plain": [
       "(8059, 1519)"
      ]
     },
     "execution_count": 162,
     "metadata": {},
     "output_type": "execute_result"
    }
   ],
   "source": [
    "test_2w_sneakers.shape"
   ]
  },
  {
   "cell_type": "code",
   "execution_count": 163,
   "id": "46131fe5-2ad8-4322-a64e-fb4336dfddea",
   "metadata": {},
   "outputs": [
    {
     "data": {
      "text/plain": [
       "849"
      ]
     },
     "execution_count": 163,
     "metadata": {},
     "output_type": "execute_result"
    }
   ],
   "source": [
    "test_2w_sneakers.labelPurchase.sum()"
   ]
  },
  {
   "cell_type": "code",
   "execution_count": 164,
   "id": "e733523d-e367-461b-bd50-e5e3e4aee60a",
   "metadata": {},
   "outputs": [
    {
     "data": {
      "text/plain": [
       "array(['95672', '15709'], dtype=object)"
      ]
     },
     "execution_count": 164,
     "metadata": {},
     "output_type": "execute_result"
    }
   ],
   "source": [
    "test_2w_sneakers.category.unique()"
   ]
  },
  {
   "cell_type": "code",
   "execution_count": 165,
   "id": "657fc789-b523-44fc-b05c-9df4b8fe99b0",
   "metadata": {},
   "outputs": [
    {
     "data": {
      "text/plain": [
       "array(['2023-04-12', '2023-04-13', '2023-04-14', '2023-04-15',\n",
       "       '2023-04-16', '2023-04-17', '2023-04-19', '2023-04-20',\n",
       "       '2023-04-21', '2023-04-23', '2023-04-24', '2023-04-25'],\n",
       "      dtype=object)"
      ]
     },
     "execution_count": 165,
     "metadata": {},
     "output_type": "execute_result"
    }
   ],
   "source": [
    "test_2w_sneakers.dt.unique()"
   ]
  },
  {
   "cell_type": "code",
   "execution_count": 166,
   "id": "82d2ed0b-1b20-4d03-868e-5ede2763d35f",
   "metadata": {},
   "outputs": [
    {
     "data": {
      "text/plain": [
       "2.9114521841794567"
      ]
     },
     "execution_count": 166,
     "metadata": {},
     "output_type": "execute_result"
    }
   ],
   "source": [
    "test_sr_prod = calc_sale_rank(test_2w_sneakers, 'rank', ascending=True)\n",
    "np.mean(test_sr_prod)\n",
    "# prev :2.881"
   ]
  },
  {
   "cell_type": "code",
   "execution_count": 258,
   "id": "dc3f6268-b0a8-4fcc-9800-7d8ae12f5151",
   "metadata": {},
   "outputs": [],
   "source": [
    "## piyi v7 sale rank:"
   ]
  },
  {
   "cell_type": "code",
   "execution_count": 175,
   "id": "4f4ff9e9-1c03-4c3f-bafb-8577ee48a101",
   "metadata": {},
   "outputs": [],
   "source": [
    "file_name = '/data/shpx/data/olivyatan/piyi/snkrs_hp7d_piyiv7_4m_April23.pkl'\n",
    "xgb_model_loaded = pickle.load(open(file_name, \"rb\"))"
   ]
  },
  {
   "cell_type": "code",
   "execution_count": 176,
   "id": "124102fb-cc8b-4215-b42a-ffa0e053b3fe",
   "metadata": {},
   "outputs": [],
   "source": [
    "piyi_v7_cols=X_test.columns.values.tolist()"
   ]
  },
  {
   "cell_type": "code",
   "execution_count": 177,
   "id": "2ae5fa7e-99ec-47e8-98e0-e96569ce7d74",
   "metadata": {},
   "outputs": [
    {
     "data": {
      "text/plain": [
       "['f_ItemSalesOverImpPricePrior7DayDecayLogSmoothInternationalWebAndMobileNorm',\n",
       " 'f_BullseyeRelRVILeafCatMedianPriceDiffV2',\n",
       " 'f_ItemSalesOverImpPricePrior7DayDecayLogSmoothDomesticWebAndMobileNorm',\n",
       " 'f_MerchImpressionsDecayed',\n",
       " 'f_SellerFeedbackLogNormWnD',\n",
       " 'f_EpidRelative',\n",
       " 'f_ItemWatchOverImpLogSmoothAllNorm',\n",
       " 'f_ItemTimeLeftSec',\n",
       " 'f_ItemVariantWatchOverImpressions7DayDecayLogSmoothDomesticWebAndMobileNorm',\n",
       " 'f_ItemTimeOnSiteNorm',\n",
       " 'f_PlImpressionsDecayed',\n",
       " 'f_NormItemViewCount7DayDecayDomesticWebAndMobile',\n",
       " 'f_NSFWScore',\n",
       " 'f_MaxViewedItemTitleJaccard',\n",
       " 'f_ItemWatchesOverImp7DayDecayLogSmoothDomesticWebAndMobileV2',\n",
       " 'f_ItemTimeOnSiteV2',\n",
       " 'f_MaxViewedItemTitleJaccardBigrams',\n",
       " 'f_ItemSalesOverImpPricePrior7DayDecayLogSmoothDomesticWebAndMobile',\n",
       " 'f_RecallSourceBullseye',\n",
       " 'f_RecallSourceTora',\n",
       " 'f_ItemVariantSalesOverImpressions7DayDecayLogSmoothDomesticWebAndMobileV2',\n",
       " 'f_RecallSourceBestMatch',\n",
       " 'f_PriceDiffMedianRecall',\n",
       " 'f_BullseyeAbsRVILeafCatMedianPriceDiffV2',\n",
       " 'f_BullseyeRVILeafCatMedianPriceV2',\n",
       " 'f_AvgSameLeafRviPriceRatio',\n",
       " 'f_FreqSameItemInWatchBadge',\n",
       " 'f_TitleCosineSimilarityToShoppingcartCentroid',\n",
       " 'f_AvgSameLeafRviPriceDiff',\n",
       " 'f_NumSameRviInLastWeek',\n",
       " 'f_BibowatchRelPosition',\n",
       " 'f_FreqWatchPriceBellowItemPrice']"
      ]
     },
     "execution_count": 177,
     "metadata": {},
     "output_type": "execute_result"
    }
   ],
   "source": [
    "piyi_v7_cols"
   ]
  },
  {
   "cell_type": "code",
   "execution_count": 178,
   "id": "ab173770-081c-4c95-a260-fe9e712cbdd8",
   "metadata": {},
   "outputs": [],
   "source": [
    "X_test_longer_v7 = test_2w_sneakers[piyiv7_sneakers_f]\n",
    "y_test_longr_v7 = test_2w_sneakers.labelPurchase "
   ]
  },
  {
   "cell_type": "code",
   "execution_count": 179,
   "id": "14898d74-7809-48e8-b295-b1f255eb4fc4",
   "metadata": {},
   "outputs": [
    {
     "data": {
      "text/plain": [
       "2.343565525383707"
      ]
     },
     "execution_count": 179,
     "metadata": {},
     "output_type": "execute_result"
    }
   ],
   "source": [
    "test_preds = xgb_model_loaded.predict(X_test_longer_v7) \n",
    "\n",
    "test_2w_sneakers['longer_test_v7'] = test_preds \n",
    "sr_rank_test = calc_sale_rank(test_2w_sneakers, 'longer_test_v7', ascending=False) \n",
    "np.mean(sr_rank_test)"
   ]
  },
  {
   "cell_type": "code",
   "execution_count": null,
   "id": "b9f1a7e5-f5fd-4bf6-8244-908f9697b198",
   "metadata": {},
   "outputs": [],
   "source": []
  },
  {
   "cell_type": "code",
   "execution_count": 242,
   "id": "e2c159b0-75a4-4d78-a911-d2f966d41274",
   "metadata": {},
   "outputs": [
    {
     "data": {
      "text/plain": [
       "Index(['f_SlrImmatureDaysLastDefect', 'f_PriceV2',\n",
       "       'f_IsAuthenticityGuaranteed',\n",
       "       'f_ItemWatchCount7DayDecayDomesticWebAndMobile', 'f_CssL3MeanBbeCount',\n",
       "       'f_IsVariantItem', 'f_HydraStdWOCat', 'f_KnnNlpUserItemsRecallSource',\n",
       "       'f_ItemSoldCountWnD', 'f_RecoHasEpid',\n",
       "       ...\n",
       "       'labelBBEDefectType', 'labelSitePurchaseImpr', 'labelBBEImpr',\n",
       "       'labelBin', 'labelOffer', 'labelWatch', 'labelAdd2Cart',\n",
       "       'labelPurchaseImpr', 'labelCombined', 'dt'],\n",
       "      dtype='object', length=1467)"
      ]
     },
     "execution_count": 242,
     "metadata": {},
     "output_type": "execute_result"
    }
   ],
   "source": [
    "pdf_longer_test.columns"
   ]
  },
  {
   "cell_type": "code",
   "execution_count": 259,
   "id": "5b41cfd9-d4a9-4453-b080-72faf5b5452f",
   "metadata": {},
   "outputs": [],
   "source": [
    "#piyi v7 3f sale rank:"
   ]
  },
  {
   "cell_type": "code",
   "execution_count": 167,
   "id": "16693422-b851-4651-be9f-5c0078646a8f",
   "metadata": {},
   "outputs": [],
   "source": [
    "piyi_v7_3f_cols=X_test_3f.columns.values.tolist()"
   ]
  },
  {
   "cell_type": "code",
   "execution_count": 168,
   "id": "ed6d6439-fb96-476b-81f6-ca77baedbea7",
   "metadata": {},
   "outputs": [
    {
     "data": {
      "text/plain": [
       "['f_ItemSalesOverImpPricePrior7DayDecayLogSmoothInternationalWebAndMobileNorm',\n",
       " 'f_BullseyeRelRVILeafCatMedianPriceDiffV2',\n",
       " 'f_ItemSalesOverImpPricePrior7DayDecayLogSmoothDomesticWebAndMobileNorm',\n",
       " 'f_MerchImpressionsDecayed',\n",
       " 'f_SellerFeedbackLogNormWnD',\n",
       " 'f_EpidRelative',\n",
       " 'f_ItemWatchOverImpLogSmoothAllNorm',\n",
       " 'f_ItemTimeLeftSec',\n",
       " 'f_ItemVariantWatchOverImpressions7DayDecayLogSmoothDomesticWebAndMobileNorm',\n",
       " 'f_ItemTimeOnSiteNorm',\n",
       " 'f_PlImpressionsDecayed',\n",
       " 'f_NormItemViewCount7DayDecayDomesticWebAndMobile',\n",
       " 'f_NSFWScore',\n",
       " 'f_MaxViewedItemTitleJaccard',\n",
       " 'f_ItemWatchesOverImp7DayDecayLogSmoothDomesticWebAndMobileV2',\n",
       " 'f_ItemTimeOnSiteV2',\n",
       " 'f_MaxViewedItemTitleJaccardBigrams',\n",
       " 'f_ItemSalesOverImpPricePrior7DayDecayLogSmoothDomesticWebAndMobile',\n",
       " 'f_RecallSourceBullseye',\n",
       " 'f_RecallSourceTora',\n",
       " 'f_ItemVariantSalesOverImpressions7DayDecayLogSmoothDomesticWebAndMobileV2',\n",
       " 'f_RecallSourceBestMatch',\n",
       " 'f_PriceDiffMedianRecall',\n",
       " 'f_SizeMedianDiff',\n",
       " 'f_UserSizeMaxMinDiff',\n",
       " 'f_UserSizeNumberOfEvidence',\n",
       " 'f_BullseyeAbsRVILeafCatMedianPriceDiffV2',\n",
       " 'f_BullseyeRVILeafCatMedianPriceV2',\n",
       " 'f_AvgSameLeafRviPriceRatio',\n",
       " 'f_FreqSameItemInWatchBadge',\n",
       " 'f_TitleCosineSimilarityToShoppingcartCentroid',\n",
       " 'f_AvgSameLeafRviPriceDiff',\n",
       " 'f_NumSameRviInLastWeek',\n",
       " 'f_BibowatchRelPosition',\n",
       " 'f_IsMsku',\n",
       " 'f_FreqWatchPriceBellowItemPrice']"
      ]
     },
     "execution_count": 168,
     "metadata": {},
     "output_type": "execute_result"
    }
   ],
   "source": [
    "piyi_v7_3f_cols"
   ]
  },
  {
   "cell_type": "code",
   "execution_count": 170,
   "id": "cd0cd7f5-5a37-44f2-9bb2-3b9028dd8378",
   "metadata": {},
   "outputs": [],
   "source": [
    "X_test_longer = test_2w_sneakers[sneakers3f_f]\n",
    "y_test_longr = test_2w_sneakers.labelPurchase "
   ]
  },
  {
   "cell_type": "code",
   "execution_count": 171,
   "id": "c354b57b-9b09-4235-b024-180760c71ec3",
   "metadata": {},
   "outputs": [],
   "source": [
    "test_preds = model.predict(X_test_longer)"
   ]
  },
  {
   "cell_type": "code",
   "execution_count": 172,
   "id": "26951c8f-71fc-4611-87e8-80ae8ac7d89d",
   "metadata": {},
   "outputs": [
    {
     "data": {
      "text/plain": [
       "(8059, 36)"
      ]
     },
     "execution_count": 172,
     "metadata": {},
     "output_type": "execute_result"
    }
   ],
   "source": [
    "X_test_longer.shape"
   ]
  },
  {
   "cell_type": "code",
   "execution_count": 173,
   "id": "ec988aa1-41a8-4e58-9e00-e894af2029f6",
   "metadata": {},
   "outputs": [
    {
     "data": {
      "text/plain": [
       "849"
      ]
     },
     "execution_count": 173,
     "metadata": {},
     "output_type": "execute_result"
    }
   ],
   "source": [
    "y_test_longr.sum()"
   ]
  },
  {
   "cell_type": "code",
   "execution_count": 174,
   "id": "0df12ee3-06a8-4d09-b8bd-e9cd21fdb2bb",
   "metadata": {},
   "outputs": [
    {
     "data": {
      "text/plain": [
       "2.2384887839433296"
      ]
     },
     "execution_count": 174,
     "metadata": {},
     "output_type": "execute_result"
    }
   ],
   "source": [
    "test_2w_sneakers['piyi_longer_pred'] = test_preds\n",
    "sr_rank_test = calc_sale_rank(test_2w_sneakers, 'piyi_longer_pred', ascending=False)\n",
    "\n",
    "np.mean(sr_rank_test)"
   ]
  },
  {
   "cell_type": "code",
   "execution_count": 268,
   "id": "fb092e0a-48c6-4f1a-adbc-c12dd753f38e",
   "metadata": {},
   "outputs": [],
   "source": [
    "import pickle\n",
    " \n",
    "file_name = '/data/shpx/data/olivyatan/piyi/snkrs_hp_size_3f_2.2m_exJan23.pkl'\n",
    "xgb_model_loaded = pickle.load(open(file_name, \"rb\"))"
   ]
  },
  {
   "cell_type": "code",
   "execution_count": 270,
   "id": "f1bdc889-4bd7-4156-9f9a-22c3fbba6791",
   "metadata": {},
   "outputs": [
    {
     "data": {
      "text/plain": [
       "2.159682899207248"
      ]
     },
     "execution_count": 270,
     "metadata": {},
     "output_type": "execute_result"
    }
   ],
   "source": [
    "test_preds = model.predict(X_test_longer) \n",
    "\n",
    "pdf_longer_test['longer_test'] = test_preds \n",
    "sr_rank_test = calc_sale_rank(pdf_longer_test, 'longer_test', ascending=False) \n",
    "np.mean(sr_rank_test)"
   ]
  },
  {
   "cell_type": "code",
   "execution_count": 254,
   "id": "6c4b05cd-c926-4f39-99d5-8620b934af23",
   "metadata": {},
   "outputs": [
    {
     "data": {
      "text/plain": [
       "2.159682899207248"
      ]
     },
     "execution_count": 254,
     "metadata": {},
     "output_type": "execute_result"
    }
   ],
   "source": [
    "test_preds = model.predict(X_test_longer) \n",
    "\n",
    "pdf_longer_test['longer_test'] = test_preds \n",
    "sr_rank_test = calc_sale_rank(pdf_longer_test, 'longer_test', ascending=False) \n",
    "np.mean(sr_rank_test)"
   ]
  },
  {
   "cell_type": "code",
   "execution_count": null,
   "id": "d82fd2b3-5b44-42ea-aa75-28cdb510fd7c",
   "metadata": {},
   "outputs": [],
   "source": [
    "X_test_longer = pdf_longer_test[sneakers1f_f]\n",
    "y_test_longr = pdf_longer_test.labelPurchase "
   ]
  },
  {
   "cell_type": "code",
   "execution_count": null,
   "id": "0b90230f-39d2-482c-87e2-93a7ef45e949",
   "metadata": {},
   "outputs": [],
   "source": [
    "test_preds = xgb_model_loaded.predict(X_test_longer)"
   ]
  },
  {
   "cell_type": "code",
   "execution_count": null,
   "id": "8766a8e8-3912-4a19-929e-7c505291a47b",
   "metadata": {},
   "outputs": [],
   "source": [
    "pdf_longer_test['piyi_1f_longer_pred'] = test_preds\n",
    "sr_rank_test = calc_sale_rank(pdf_longer_test, 'piyi_1f_longer_pred', ascending=False)\n",
    "\n",
    "np.mean(sr_rank_test)"
   ]
  },
  {
   "cell_type": "code",
   "execution_count": null,
   "id": "afaa800a-e185-4860-9c33-fd6746a1e30f",
   "metadata": {},
   "outputs": [],
   "source": []
  },
  {
   "cell_type": "markdown",
   "id": "060deafd-fab2-453f-82ad-614998340364",
   "metadata": {
    "jp-MarkdownHeadingCollapsed": true,
    "tags": []
   },
   "source": [
    "## Train Sneakers 1 feature: "
   ]
  },
  {
   "cell_type": "code",
   "execution_count": null,
   "id": "3b86e0c5-a7ef-4d8b-b4da-6fdd0f8f6180",
   "metadata": {},
   "outputs": [],
   "source": []
  },
  {
   "cell_type": "code",
   "execution_count": null,
   "id": "bd9d5b03-baaf-4d8c-ac9b-b9914788075d",
   "metadata": {},
   "outputs": [],
   "source": [
    "X_train_1f = train[sneakers1f_f]\n",
    "#y_train = train.labelPurchase\n",
    "\n",
    "X_valid_1f = valid[sneakers1f_f]\n",
    "#y_valid = valid.labelPurchase\n",
    "\n",
    "X_test_1f = test[sneakers1f_f]\n",
    "#y_test = test.labelPurchase\n",
    "\n",
    "\n",
    "X_train_1f.shape, X_valid_1f.shape, X_test_1f.shape"
   ]
  },
  {
   "cell_type": "code",
   "execution_count": null,
   "id": "0122691e-ceb1-4627-b70a-1f8a2d9c1904",
   "metadata": {},
   "outputs": [],
   "source": [
    "dtrain = xgb.DMatrix(X_train_1f, label=y_train)\n",
    "dtrain.set_group(group=group_train)"
   ]
  },
  {
   "cell_type": "code",
   "execution_count": null,
   "id": "d3bbdf8a-6951-4f05-ae3d-c25c467652f0",
   "metadata": {},
   "outputs": [],
   "source": [
    "from datetime import datetime \n",
    "\n",
    "params = {\n",
    "    'objective': \"rank:pairwise\",\n",
    "    'nthread': -1\n",
    "}\n",
    "\n",
    "gridsearch_params = [\n",
    "    (max_depth, min_child_weight, subsample, eta)\n",
    "    for max_depth in [4, 7]\n",
    "    for min_child_weight in [5, 8]\n",
    "    for subsample in [0.7, 1]\n",
    "    for eta in [0.3 ]\n",
    "]\n",
    "\n",
    "N_ROUNDS = 100\n",
    "\n",
    "size1f_hyper_df = run_hyper_tuning(dtrain= dtrain,\n",
    "                                    grid = gridsearch_params,\n",
    "                                    params = params,\n",
    "                                    output_dir=\"/data/shpx/data/olivyatan/piyi/snkrs\",\n",
    "                                    out_filename= \"train_snkrs1f_orig3_2m\",\n",
    "                                    nrounds = N_ROUNDS)"
   ]
  },
  {
   "cell_type": "code",
   "execution_count": null,
   "id": "a92042d4-b4f9-4379-8ec2-f39b38464634",
   "metadata": {},
   "outputs": [],
   "source": [
    "orig_hyper_df = pd.read_csv(\"/data/shpx/data/olivyatan/piyi/snkrs/hyper_df_train_snkrs1f_orig3_2m.csv\") "
   ]
  },
  {
   "cell_type": "code",
   "execution_count": null,
   "id": "5be16835-06d3-46f0-9b5c-eea42e4e93bc",
   "metadata": {},
   "outputs": [],
   "source": [
    "orig_hyper_df.shape"
   ]
  },
  {
   "cell_type": "code",
   "execution_count": null,
   "id": "6aeffc3d-4fff-4272-8b20-69299d58848e",
   "metadata": {},
   "outputs": [],
   "source": [
    "orig_hyper_df_sorted = orig_hyper_df.sort_values(\"mean_map\", ascending=False)"
   ]
  },
  {
   "cell_type": "code",
   "execution_count": null,
   "id": "33946d75-e4d8-40e4-80bc-8e03beae6cc2",
   "metadata": {},
   "outputs": [],
   "source": [
    "orig_hyper_df_sorted.head()"
   ]
  },
  {
   "cell_type": "code",
   "execution_count": null,
   "id": "266e53d9-d963-4794-b7ae-58e1ecbc149e",
   "metadata": {},
   "outputs": [],
   "source": [
    "clf = xgb.XGBRanker(max_depth= int(orig_hyper_df_sorted.max_depth.iloc[0]),\n",
    "                    learning_rate=orig_hyper_df_sorted.eta.iloc[0],\n",
    "                    n_estimators= int(orig_hyper_df_sorted.boost_rounds.iloc[0]),                    \n",
    "                    min_child_weight= int(orig_hyper_df_sorted.min_child_weight.iloc[0]),\n",
    "                    subsample=orig_hyper_df_sorted.subsample.iloc[0],\n",
    "                    objective=\"rank:pairwise\",\n",
    "                    tree_method=\"exact\",\n",
    "                    n_jobs=8)"
   ]
  },
  {
   "cell_type": "code",
   "execution_count": null,
   "id": "6ba5f3bf-59c8-48e1-bd92-cefd9e16badd",
   "metadata": {
    "scrolled": true,
    "tags": []
   },
   "outputs": [],
   "source": [
    "eval_set = [(X_train_1f, y_train), (X_valid_1f, y_valid)]\n",
    "eval_group = [group_train, group_valid]\n",
    "eval_metric = ['map', 'ndcg@10-']\n",
    "\n",
    "model = clf.fit(X_train_1f,\n",
    "                y_train,\n",
    "                eval_set=eval_set,\n",
    "                eval_metric=eval_metric,\n",
    "                early_stopping_rounds=10,\n",
    "                group=group_train,\n",
    "                eval_group=eval_group,\n",
    "                verbose=True)"
   ]
  },
  {
   "cell_type": "code",
   "execution_count": null,
   "id": "5f261278-610d-4481-ac82-cd18735721b4",
   "metadata": {},
   "outputs": [],
   "source": [
    "xgb_imp_gain = calc_feature_imp(model, 'gain')\n",
    "xgb_imp_weight = calc_feature_imp(model, 'weight')"
   ]
  },
  {
   "cell_type": "code",
   "execution_count": null,
   "id": "3dee33ac-7fb3-4001-9eb5-d14ee6962fff",
   "metadata": {},
   "outputs": [],
   "source": [
    "xgb_imp_gain.sort_values(ascending=False, by='score').reset_index(drop=True)"
   ]
  },
  {
   "cell_type": "markdown",
   "id": "dccdfa71-fc99-46f4-bc5c-775a1a949530",
   "metadata": {
    "tags": []
   },
   "source": [
    "#### Evaluation: "
   ]
  },
  {
   "cell_type": "code",
   "execution_count": null,
   "id": "def4db6b-c773-455c-ae8b-2bf54352b655",
   "metadata": {},
   "outputs": [],
   "source": [
    "valid_preds = model.predict(X_valid_1f)\n",
    "train_preds = model.predict(X_train_1f)\n",
    "test_preds = model.predict(X_test_1f)\n",
    "\n",
    "valid['1f_orig_pred'] = valid_preds\n",
    "train['1f_orig_pred'] = train_preds\n",
    "test['1f_orig_pred'] = test_preds\n",
    "\n",
    "sr_rank_valid = calc_sale_rank(valid, '1f_orig_pred', ascending=False)\n",
    "sr_rank_train = calc_sale_rank(train, '1f_orig_pred', ascending=False)\n",
    "sr_rank_test = calc_sale_rank(test, '1f_orig_pred', ascending=False)\n",
    "\n",
    "np.mean(sr_rank_valid), np.mean(sr_rank_train), np.mean(sr_rank_test)"
   ]
  },
  {
   "cell_type": "code",
   "execution_count": null,
   "id": "b504e8d1-6074-4291-bf17-03b306849ac5",
   "metadata": {},
   "outputs": [],
   "source": [
    "import pickle\n",
    "\n",
    "file_name = '/data/shpx/data/olivyatan/piyi/snkrs_size_1f_2.2m_nov22_22123Run.pkl'\n",
    "# save\n",
    "pickle.dump(model, open(file_name, \"wb\"))"
   ]
  },
  {
   "cell_type": "code",
   "execution_count": null,
   "id": "9ad2a049-0e84-4213-833c-22d5dd2995dd",
   "metadata": {},
   "outputs": [],
   "source": [
    "#save model\n",
    "model.save_model('/data/shpx/data/olivyatan/piyi/snkrs_size_1f_2.2m_nov22_22123Run.model')  "
   ]
  },
  {
   "cell_type": "markdown",
   "id": "7316fc8a-f7f7-495e-8d8d-be5f3e7aebfc",
   "metadata": {},
   "source": [
    "### test sale rank of new sneakers  data 17/11-5/1/23:\n"
   ]
  },
  {
   "cell_type": "code",
   "execution_count": null,
   "id": "75f0bc5b-347b-43a9-add4-6e5e696192a1",
   "metadata": {},
   "outputs": [],
   "source": [
    "loaded_model = xgb.Booster()\n",
    "loaded_model.load_model('/data/shpx/data/olivyatan/piyi/snkrs_3f_2m_nov22.model') \n",
    "\n"
   ]
  },
  {
   "cell_type": "code",
   "execution_count": null,
   "id": "9a863d40-8492-421d-9010-4676bf023df4",
   "metadata": {},
   "outputs": [],
   "source": [
    "# load \n",
    "file_name = '/data/shpx/data/olivyatan/piyi/snkrs_3f_2m_nov22.pkl'\n",
    "xgb_model_loaded = pickle.load(open(file_name, \"rb\"))\n",
    "xgb_imp_gain = calc_feature_imp(xgb_model_loaded, 'gain')\n",
    "xgb_imp_gain.sort_values(ascending=False, by='score').reset_index(drop=True)"
   ]
  },
  {
   "cell_type": "code",
   "execution_count": null,
   "id": "d743274a-3da9-4f44-aeb0-1b213e55be39",
   "metadata": {},
   "outputs": [],
   "source": [
    "## 1 month model:"
   ]
  },
  {
   "cell_type": "code",
   "execution_count": null,
   "id": "a5726638-7c46-4362-9368-2bdc33259135",
   "metadata": {},
   "outputs": [],
   "source": [
    "loaded_model = xgb.Booster()\n",
    "loaded_model.load_model('/data/shpx/data/olivyatan/piyi/snkrs_1f_1m_nov22.model')  "
   ]
  },
  {
   "cell_type": "code",
   "execution_count": null,
   "id": "e4733372-7ec5-49ce-a9cf-6bd955a9abd5",
   "metadata": {},
   "outputs": [],
   "source": [
    "import pickle\n",
    "\n",
    "file_name = '/data/shpx/data/olivyatan/piyi/snkrs_1f_1m_nov22.pkl'\n",
    "xgb_model_loaded = pickle.load(open(file_name, \"rb\"))"
   ]
  },
  {
   "cell_type": "code",
   "execution_count": 247,
   "id": "dbc98c78-0078-48d0-aabb-6f72999ad36c",
   "metadata": {},
   "outputs": [
    {
     "data": {
      "text/plain": [
       "Index(['f_ItemSalesOverImpPricePrior7DayDecayLogSmoothInternationalWebAndMobileNorm',\n",
       "       'f_BullseyeRelRVILeafCatMedianPriceDiffV2',\n",
       "       'f_ItemSalesOverImpPricePrior7DayDecayLogSmoothDomesticWebAndMobileNorm',\n",
       "       'f_MerchImpressionsDecayed', 'f_SellerFeedbackLogNormWnD',\n",
       "       'f_EpidRelative', 'f_ItemWatchOverImpLogSmoothAllNorm',\n",
       "       'f_ItemTimeLeftSec',\n",
       "       'f_ItemVariantWatchOverImpressions7DayDecayLogSmoothDomesticWebAndMobileNorm',\n",
       "       'f_ItemTimeOnSiteNorm', 'f_PlImpressionsDecayed',\n",
       "       'f_NormItemViewCount7DayDecayDomesticWebAndMobile', 'f_NSFWScore',\n",
       "       'f_MaxViewedItemTitleJaccard',\n",
       "       'f_ItemWatchesOverImp7DayDecayLogSmoothDomesticWebAndMobileV2',\n",
       "       'f_ItemTimeOnSiteV2', 'f_MaxViewedItemTitleJaccardBigrams',\n",
       "       'f_ItemSalesOverImpPricePrior7DayDecayLogSmoothDomesticWebAndMobile',\n",
       "       'f_RecallSourceBullseye', 'f_RecallSourceTora',\n",
       "       'f_ItemVariantSalesOverImpressions7DayDecayLogSmoothDomesticWebAndMobileV2',\n",
       "       'f_RecallSourceBestMatch', 'f_PriceDiffMedianRecall',\n",
       "       'f_SizeMedianDiff', 'f_UserSizeMaxMinDiff',\n",
       "       'f_UserSizeNumberOfEvidence',\n",
       "       'f_BullseyeAbsRVILeafCatMedianPriceDiffV2',\n",
       "       'f_BullseyeRVILeafCatMedianPriceV2', 'f_AvgSameLeafRviPriceRatio',\n",
       "       'f_FreqSameItemInWatchBadge',\n",
       "       'f_TitleCosineSimilarityToShoppingcartCentroid',\n",
       "       'f_AvgSameLeafRviPriceDiff', 'f_NumSameRviInLastWeek',\n",
       "       'f_BibowatchRelPosition', 'f_IsMsku',\n",
       "       'f_FreqWatchPriceBellowItemPrice'],\n",
       "      dtype='object')"
      ]
     },
     "execution_count": 247,
     "metadata": {},
     "output_type": "execute_result"
    }
   ],
   "source": [
    "X_test_longer.columns"
   ]
  },
  {
   "cell_type": "code",
   "execution_count": 250,
   "id": "daa46a97-3b27-4669-acb9-0ffa504e1e3a",
   "metadata": {},
   "outputs": [
    {
     "data": {
      "text/html": [
       "<div>\n",
       "<style scoped>\n",
       "    .dataframe tbody tr th:only-of-type {\n",
       "        vertical-align: middle;\n",
       "    }\n",
       "\n",
       "    .dataframe tbody tr th {\n",
       "        vertical-align: top;\n",
       "    }\n",
       "\n",
       "    .dataframe thead th {\n",
       "        text-align: right;\n",
       "    }\n",
       "</style>\n",
       "<table border=\"1\" class=\"dataframe\">\n",
       "  <thead>\n",
       "    <tr style=\"text-align: right;\">\n",
       "      <th></th>\n",
       "      <th>f_ItemSalesOverImpPricePrior7DayDecayLogSmoothInternationalWebAndMobileNorm</th>\n",
       "      <th>f_BullseyeRelRVILeafCatMedianPriceDiffV2</th>\n",
       "      <th>f_ItemSalesOverImpPricePrior7DayDecayLogSmoothDomesticWebAndMobileNorm</th>\n",
       "      <th>f_MerchImpressionsDecayed</th>\n",
       "      <th>f_SellerFeedbackLogNormWnD</th>\n",
       "      <th>f_EpidRelative</th>\n",
       "      <th>f_ItemWatchOverImpLogSmoothAllNorm</th>\n",
       "      <th>f_ItemTimeLeftSec</th>\n",
       "      <th>f_ItemVariantWatchOverImpressions7DayDecayLogSmoothDomesticWebAndMobileNorm</th>\n",
       "      <th>f_ItemTimeOnSiteNorm</th>\n",
       "      <th>...</th>\n",
       "      <th>f_PriceDiffMedianRecall</th>\n",
       "      <th>f_BullseyeAbsRVILeafCatMedianPriceDiffV2</th>\n",
       "      <th>f_BullseyeRVILeafCatMedianPriceV2</th>\n",
       "      <th>f_AvgSameLeafRviPriceRatio</th>\n",
       "      <th>f_FreqSameItemInWatchBadge</th>\n",
       "      <th>f_TitleCosineSimilarityToShoppingcartCentroid</th>\n",
       "      <th>f_AvgSameLeafRviPriceDiff</th>\n",
       "      <th>f_NumSameRviInLastWeek</th>\n",
       "      <th>f_BibowatchRelPosition</th>\n",
       "      <th>f_FreqWatchPriceBellowItemPrice</th>\n",
       "    </tr>\n",
       "  </thead>\n",
       "  <tbody>\n",
       "    <tr>\n",
       "      <th>25</th>\n",
       "      <td>0.525253</td>\n",
       "      <td>-0.3088</td>\n",
       "      <td>0.361057</td>\n",
       "      <td>0.0</td>\n",
       "      <td>0.16636</td>\n",
       "      <td>0.349519</td>\n",
       "      <td>0.682847</td>\n",
       "      <td>550207.0</td>\n",
       "      <td>0.617837</td>\n",
       "      <td>0.00881</td>\n",
       "      <td>...</td>\n",
       "      <td>-486.0</td>\n",
       "      <td>-1544.0</td>\n",
       "      <td>5000.0</td>\n",
       "      <td>0.6912</td>\n",
       "      <td>1.0</td>\n",
       "      <td>-1.0</td>\n",
       "      <td>-15.439999</td>\n",
       "      <td>0.0</td>\n",
       "      <td>8.0</td>\n",
       "      <td>2.739718e-08</td>\n",
       "    </tr>\n",
       "  </tbody>\n",
       "</table>\n",
       "<p>1 rows × 32 columns</p>\n",
       "</div>"
      ],
      "text/plain": [
       "    f_ItemSalesOverImpPricePrior7DayDecayLogSmoothInternationalWebAndMobileNorm  \\\n",
       "25                                                                     0.525253   \n",
       "\n",
       "    f_BullseyeRelRVILeafCatMedianPriceDiffV2  \\\n",
       "25                                   -0.3088   \n",
       "\n",
       "    f_ItemSalesOverImpPricePrior7DayDecayLogSmoothDomesticWebAndMobileNorm  \\\n",
       "25                                                                0.361057   \n",
       "\n",
       "    f_MerchImpressionsDecayed  f_SellerFeedbackLogNormWnD  f_EpidRelative  \\\n",
       "25                        0.0                     0.16636        0.349519   \n",
       "\n",
       "    f_ItemWatchOverImpLogSmoothAllNorm  f_ItemTimeLeftSec  \\\n",
       "25                            0.682847           550207.0   \n",
       "\n",
       "    f_ItemVariantWatchOverImpressions7DayDecayLogSmoothDomesticWebAndMobileNorm  \\\n",
       "25                                                                     0.617837   \n",
       "\n",
       "    f_ItemTimeOnSiteNorm  ...  f_PriceDiffMedianRecall  \\\n",
       "25               0.00881  ...                   -486.0   \n",
       "\n",
       "    f_BullseyeAbsRVILeafCatMedianPriceDiffV2  \\\n",
       "25                                   -1544.0   \n",
       "\n",
       "    f_BullseyeRVILeafCatMedianPriceV2  f_AvgSameLeafRviPriceRatio  \\\n",
       "25                             5000.0                      0.6912   \n",
       "\n",
       "    f_FreqSameItemInWatchBadge  f_TitleCosineSimilarityToShoppingcartCentroid  \\\n",
       "25                         1.0                                           -1.0   \n",
       "\n",
       "    f_AvgSameLeafRviPriceDiff  f_NumSameRviInLastWeek  f_BibowatchRelPosition  \\\n",
       "25                 -15.439999                     0.0                     8.0   \n",
       "\n",
       "    f_FreqWatchPriceBellowItemPrice  \n",
       "25                     2.739718e-08  \n",
       "\n",
       "[1 rows x 32 columns]"
      ]
     },
     "execution_count": 250,
     "metadata": {},
     "output_type": "execute_result"
    }
   ],
   "source": [
    "X_test.head(1)"
   ]
  },
  {
   "cell_type": "code",
   "execution_count": 251,
   "id": "10f8b357-b2bf-4347-986c-e2ceb2ff2795",
   "metadata": {},
   "outputs": [
    {
     "data": {
      "text/html": [
       "<div>\n",
       "<style scoped>\n",
       "    .dataframe tbody tr th:only-of-type {\n",
       "        vertical-align: middle;\n",
       "    }\n",
       "\n",
       "    .dataframe tbody tr th {\n",
       "        vertical-align: top;\n",
       "    }\n",
       "\n",
       "    .dataframe thead th {\n",
       "        text-align: right;\n",
       "    }\n",
       "</style>\n",
       "<table border=\"1\" class=\"dataframe\">\n",
       "  <thead>\n",
       "    <tr style=\"text-align: right;\">\n",
       "      <th></th>\n",
       "      <th>f_ItemSalesOverImpPricePrior7DayDecayLogSmoothInternationalWebAndMobileNorm</th>\n",
       "      <th>f_BullseyeRelRVILeafCatMedianPriceDiffV2</th>\n",
       "      <th>f_ItemSalesOverImpPricePrior7DayDecayLogSmoothDomesticWebAndMobileNorm</th>\n",
       "      <th>f_MerchImpressionsDecayed</th>\n",
       "      <th>f_SellerFeedbackLogNormWnD</th>\n",
       "      <th>f_EpidRelative</th>\n",
       "      <th>f_ItemWatchOverImpLogSmoothAllNorm</th>\n",
       "      <th>f_ItemTimeLeftSec</th>\n",
       "      <th>f_ItemVariantWatchOverImpressions7DayDecayLogSmoothDomesticWebAndMobileNorm</th>\n",
       "      <th>f_ItemTimeOnSiteNorm</th>\n",
       "      <th>...</th>\n",
       "      <th>f_BullseyeAbsRVILeafCatMedianPriceDiffV2</th>\n",
       "      <th>f_BullseyeRVILeafCatMedianPriceV2</th>\n",
       "      <th>f_AvgSameLeafRviPriceRatio</th>\n",
       "      <th>f_FreqSameItemInWatchBadge</th>\n",
       "      <th>f_TitleCosineSimilarityToShoppingcartCentroid</th>\n",
       "      <th>f_AvgSameLeafRviPriceDiff</th>\n",
       "      <th>f_NumSameRviInLastWeek</th>\n",
       "      <th>f_BibowatchRelPosition</th>\n",
       "      <th>f_IsMsku</th>\n",
       "      <th>f_FreqWatchPriceBellowItemPrice</th>\n",
       "    </tr>\n",
       "  </thead>\n",
       "  <tbody>\n",
       "    <tr>\n",
       "      <th>0</th>\n",
       "      <td>0.651617</td>\n",
       "      <td>0.174647</td>\n",
       "      <td>0.280768</td>\n",
       "      <td>0.0</td>\n",
       "      <td>0.350626</td>\n",
       "      <td>1.1314</td>\n",
       "      <td>0.696004</td>\n",
       "      <td>14614.0</td>\n",
       "      <td>0.625784</td>\n",
       "      <td>0.002414</td>\n",
       "      <td>...</td>\n",
       "      <td>1397.0</td>\n",
       "      <td>7999.0</td>\n",
       "      <td>1.168283</td>\n",
       "      <td>1.0</td>\n",
       "      <td>-1.0</td>\n",
       "      <td>13.534286</td>\n",
       "      <td>0.0</td>\n",
       "      <td>1.0</td>\n",
       "      <td>0.0</td>\n",
       "      <td>8.487007e-10</td>\n",
       "    </tr>\n",
       "  </tbody>\n",
       "</table>\n",
       "<p>1 rows × 36 columns</p>\n",
       "</div>"
      ],
      "text/plain": [
       "   f_ItemSalesOverImpPricePrior7DayDecayLogSmoothInternationalWebAndMobileNorm  \\\n",
       "0                                                                     0.651617   \n",
       "\n",
       "   f_BullseyeRelRVILeafCatMedianPriceDiffV2  \\\n",
       "0                                  0.174647   \n",
       "\n",
       "   f_ItemSalesOverImpPricePrior7DayDecayLogSmoothDomesticWebAndMobileNorm  \\\n",
       "0                                                                0.280768   \n",
       "\n",
       "   f_MerchImpressionsDecayed  f_SellerFeedbackLogNormWnD  f_EpidRelative  \\\n",
       "0                        0.0                    0.350626          1.1314   \n",
       "\n",
       "   f_ItemWatchOverImpLogSmoothAllNorm  f_ItemTimeLeftSec  \\\n",
       "0                            0.696004            14614.0   \n",
       "\n",
       "   f_ItemVariantWatchOverImpressions7DayDecayLogSmoothDomesticWebAndMobileNorm  \\\n",
       "0                                                                     0.625784   \n",
       "\n",
       "   f_ItemTimeOnSiteNorm  ...  f_BullseyeAbsRVILeafCatMedianPriceDiffV2  \\\n",
       "0              0.002414  ...                                    1397.0   \n",
       "\n",
       "   f_BullseyeRVILeafCatMedianPriceV2  f_AvgSameLeafRviPriceRatio  \\\n",
       "0                             7999.0                    1.168283   \n",
       "\n",
       "   f_FreqSameItemInWatchBadge  f_TitleCosineSimilarityToShoppingcartCentroid  \\\n",
       "0                         1.0                                           -1.0   \n",
       "\n",
       "   f_AvgSameLeafRviPriceDiff  f_NumSameRviInLastWeek  f_BibowatchRelPosition  \\\n",
       "0                  13.534286                     0.0                     1.0   \n",
       "\n",
       "   f_IsMsku  f_FreqWatchPriceBellowItemPrice  \n",
       "0       0.0                     8.487007e-10  \n",
       "\n",
       "[1 rows x 36 columns]"
      ]
     },
     "execution_count": 251,
     "metadata": {},
     "output_type": "execute_result"
    }
   ],
   "source": [
    "X_test_longer.head(1)"
   ]
  },
  {
   "cell_type": "code",
   "execution_count": null,
   "id": "d20e5ff5-4474-4857-92bb-758ca08e023c",
   "metadata": {},
   "outputs": [],
   "source": [
    "df_pa_dedup_data=pd.read_parquet('/data/shpx/data/olivyatan/pa_data_april_mai_22_dedup.parquet')  \n",
    "#PIYI V5 FEATURES \n",
    "X_test_pa = df_pa_dedup_data.iloc[:, X_f_cols]\n",
    "y_test_pa = df_pa_dedup_data.labelPurchase \n",
    "\n",
    "group_test_pa=df_pa_dedup_data.groupby('meid').size().to_frame('size')['size'].to_numpy()\n",
    "test_preds_pa = model.predict(X_test_pa) \n",
    "\n",
    "df_pa_dedup_data['pa_orig_pred'] = test_preds_pa \n",
    "sr_rank_test_pa = calc_sale_rank(df_pa_dedup_data, 'pa_orig_pred', ascending=False) \n",
    "np.mean(sr_rank_test_pa)"
   ]
  },
  {
   "cell_type": "raw",
   "id": "611332e4-ea92-4ea9-a060-f274ac2f60fa",
   "metadata": {},
   "source": [
    "Index(['f_BibowatchRelPosition', 'f_RecallSourceBullseye',\n",
    "       'f_TitleCosineSimilarityToShoppingcartCentroid', 'f_ItemTimeOnSiteV2',\n",
    "       'f_MaxViewedItemTitleJaccardBigrams',\n",
    "       'f_BullseyeAbsRVILeafCatMedianPriceDiffV2',\n",
    "       'f_ItemSalesOverImpPricePrior7DayDecayLogSmoothDomesticWebAndMobile',\n",
    "       'f_ItemVariantSalesOverImpressions7DayDecayLogSmoothDomesticWebAndMobileV2',\n",
    "       'f_FreqWatchPriceBellowItemPrice', 'f_MaxViewedItemTitleJaccard',\n",
    "       'f_ItemWatchesOverImp7DayDecayLogSmoothDomesticWebAndMobileV2',\n",
    "       'f_BullseyeRelRVILeafCatMedianPriceDiffV2',\n",
    "       'f_ItemSalesOverImpPricePrior7DayDecayLogSmoothInternationalWebAndMobileNorm',\n",
    "       'f_NumSameRviInLastWeek', 'f_MerchImpressionsDecayed',\n",
    "       'f_FreqSameItemInWatchBadge', 'f_RecallSourceTora',\n",
    "       'f_PriceDiffMedianRecall', 'f_PlImpressionsDecayed',\n",
    "       'f_PoissonNextEventProbSameItemInWatch',\n",
    "       'f_FreqSameLeafCatIdInWatchBadge', 'f_AvgSameLeafRviPriceRatio',\n",
    "       'f_RecallSourceBestMatch', 'f_LeafCatRVICondition',\n",
    "       'f_AvgSameLeafRviPriceDiff', 'f_BullseyeRVILeafCatMedianPriceV2',\n",
    "       'f_ItemSalesOverImpPricePrior7DayDecayLogSmoothDomesticWebAndMobileNorm',\n",
    "       'f_MaxSameLeafRvihPriceDiff', 'f_ItemConditionOrdinal',\n",
    "       'f_SameItemConditionInRvi', 'f_ItemConditionNorm'],\n",
    "      dtype='object')"
   ]
  },
  {
   "cell_type": "code",
   "execution_count": null,
   "id": "3ef4fd16-6142-44c5-8cc8-49da1af1139c",
   "metadata": {},
   "outputs": [],
   "source": [
    "X_test_pa.columns"
   ]
  },
  {
   "cell_type": "code",
   "execution_count": null,
   "id": "1e6811ca-cefe-4124-bf33-32cc6e4aeea2",
   "metadata": {},
   "outputs": [],
   "source": [
    "X_test_pa.head(2)"
   ]
  },
  {
   "cell_type": "code",
   "execution_count": null,
   "id": "7a085001-d1e9-4ac0-b6b3-0e444f2568e6",
   "metadata": {},
   "outputs": [],
   "source": [
    "def calc_sale_rank(df, rank_col, ascending, group_col = 'meid', label_col = 'labelPurchase'):\n",
    "    df_c = df.copy()\n",
    "    \n",
    "    iidf_c = df_c.sort_values([group_col, rank_col], ascending=ascending)\n",
    "    \n",
    "    df_c[f'{rank_col}_score'] = df_c.groupby(group_col, sort=False).cumcount() + 1\n",
    "    \n",
    "    df_score = df_c[df_c[label_col] == 1]\n",
    "    \n",
    "    score = df_score.groupby(group_col, sort=False)[f'{rank_col}_score'].min().tolist()\n",
    "    score = [x for x in score if x is not None and np.isfinite(x)]\n",
    "        \n",
    "    return score"
   ]
  },
  {
   "cell_type": "code",
   "execution_count": null,
   "id": "8a55ca2f-469f-42f5-9c62-770313bab11e",
   "metadata": {},
   "outputs": [],
   "source": [
    "test_preds"
   ]
  },
  {
   "cell_type": "code",
   "execution_count": null,
   "id": "d73c10d9-8a02-48a6-8cbd-fbfadc99aa8d",
   "metadata": {},
   "outputs": [],
   "source": [
    "##madcdl vs pretrainer: "
   ]
  },
  {
   "cell_type": "code",
   "execution_count": null,
   "id": "a5e585b0-9c13-4047-92cb-26fd54646fe1",
   "metadata": {},
   "outputs": [],
   "source": [
    "pdf[(pdf['itemId']==155291701019) &( pdf['userId']==2007592935 )]"
   ]
  },
  {
   "cell_type": "code",
   "execution_count": null,
   "id": "db5963f1-18d3-4b1f-882c-5ad2667b5686",
   "metadata": {},
   "outputs": [],
   "source": [
    "pdf[(pdf['itemId']==314010287171) &( pdf['userId']==1892621100 )]"
   ]
  },
  {
   "cell_type": "code",
   "execution_count": null,
   "id": "3b766f0a-f016-4b94-ae0e-17f56d1a0e27",
   "metadata": {},
   "outputs": [],
   "source": [
    "pdf[(pdf['itemId']==325489293460) ]"
   ]
  },
  {
   "cell_type": "code",
   "execution_count": null,
   "id": "9a1ddfb3-b5b3-4436-80df-0db4bf1862f0",
   "metadata": {},
   "outputs": [],
   "source": [
    "train['userId']"
   ]
  },
  {
   "cell_type": "code",
   "execution_count": null,
   "id": "5cfab17c-63ba-43c5-85c1-e555091e6a8e",
   "metadata": {},
   "outputs": [],
   "source": [
    "analysis_cols = ['itemId','meid','META_CATEG_ID', 'labelPurchase', 'rank', 'pa_orig_pred', \n",
    "                 'f_RecallSourceBullseye', 'f_MaxViewedItemTitleJaccard']"
   ]
  },
  {
   "cell_type": "code",
   "execution_count": null,
   "id": "4092b699-2bb1-4457-afb8-33adfbe0284e",
   "metadata": {
    "tags": []
   },
   "outputs": [],
   "source": [
    "train[train.userId == 1857193597][analysis_cols]\\\n",
    ".sort_values('pa_orig_pred', ascending=False).head(17)"
   ]
  },
  {
   "cell_type": "code",
   "execution_count": null,
   "id": "0d66bd6f-2d77-4d61-8892-5d8fe50847f7",
   "metadata": {},
   "outputs": [],
   "source": [
    "train.siteId.value_counts(normalize=True)"
   ]
  },
  {
   "cell_type": "code",
   "execution_count": null,
   "id": "7ec8d114-7a02-429c-8234-e08cc67a93bd",
   "metadata": {},
   "outputs": [],
   "source": [
    "a_1 = train[train.labelPurchase == 1]\n",
    "a_0 = train[train.labelPurchase == 0]"
   ]
  },
  {
   "cell_type": "code",
   "execution_count": null,
   "id": "94354acd-4bb5-44a5-ad92-0b3119fc2b17",
   "metadata": {},
   "outputs": [],
   "source": [
    "a_0.f_FreqSameItemInWatchBadge.value_counts(normalize=True)"
   ]
  },
  {
   "cell_type": "code",
   "execution_count": null,
   "id": "7b1bcd22-3577-4fc8-9806-129ec3f73337",
   "metadata": {},
   "outputs": [],
   "source": [
    "a_1.f_FreqSameItemInWatchBadge.value_counts(normalize=True)"
   ]
  },
  {
   "cell_type": "code",
   "execution_count": null,
   "id": "dee5728d-3f34-45a2-a457-7f2269cf069e",
   "metadata": {},
   "outputs": [],
   "source": [
    "valid.userId.iloc[1870]"
   ]
  },
  {
   "cell_type": "code",
   "execution_count": null,
   "id": "fda00dd3-8e38-4da2-8207-2e8f2f89a938",
   "metadata": {},
   "outputs": [],
   "source": [
    "valid[valid.meid == valid.meid.iloc[150]]\\\n",
    "[analysis_cols].sort_values('pa_purchase_pred', ascending=False)"
   ]
  },
  {
   "cell_type": "code",
   "execution_count": null,
   "id": "d2f9639d-ea90-4298-9738-b748d46e1e4d",
   "metadata": {},
   "outputs": [],
   "source": [
    "for i in valid[valid.userId == valid.userId.iloc[1870]][analysis_cols].sort_values('pa_purchase_pred', ascending=False)['itemId']:\n",
    "    print (\"https:ebay.com/itm/\" + str(i))"
   ]
  },
  {
   "cell_type": "code",
   "execution_count": null,
   "id": "ac573f2c-08fe-48b4-865f-6988294871f4",
   "metadata": {},
   "outputs": [],
   "source": [
    "\n"
   ]
  }
 ],
 "metadata": {
  "kernelspec": {
   "display_name": "Python 3 (ipykernel)",
   "language": "python",
   "name": "python3"
  },
  "language_info": {
   "codemirror_mode": {
    "name": "ipython",
    "version": 3
   },
   "file_extension": ".py",
   "mimetype": "text/x-python",
   "name": "python",
   "nbconvert_exporter": "python",
   "pygments_lexer": "ipython3",
   "version": "3.7.10"
  },
  "toc-showcode": false,
  "toc-showmarkdowntxt": true
 },
 "nbformat": 4,
 "nbformat_minor": 5
}
