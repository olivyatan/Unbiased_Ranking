{
 "cells": [
  {
   "cell_type": "code",
   "execution_count": 3,
   "id": "80d7194d-1a92-467e-a46a-13412785cc1b",
   "metadata": {},
   "outputs": [],
   "source": [
    "import sys\n",
    "import os\n",
    "import socket\n",
    "import datetime\n",
    "\n",
    "\n",
    "from pyspark.conf import SparkConf\n",
    "from pyspark.context import SparkContext\n",
    "from pyspark.sql import SparkSession\n",
    "from pyspark.sql import functions as F\n",
    "from pyspark.sql import types as T\n",
    "from pyspark.sql.avro.functions import from_avro\n",
    "from pyspark.sql.window import Window\n",
    "\n",
    "import pandas as pd\n",
    "import numpy as np"
   ]
  },
  {
   "cell_type": "code",
   "execution_count": 4,
   "id": "1eb4f15f-2ebc-42c7-a65a-b6b646e593ab",
   "metadata": {},
   "outputs": [
    {
     "data": {
      "text/plain": [
       "'/data/shpx/notebooks/olivyatan/Unbiasing'"
      ]
     },
     "execution_count": 4,
     "metadata": {},
     "output_type": "execute_result"
    }
   ],
   "source": [
    "pwd"
   ]
  },
  {
   "cell_type": "code",
   "execution_count": 5,
   "id": "002e5831",
   "metadata": {},
   "outputs": [],
   "source": [
    "from pyspark.sql import functions as F\n",
    "from pyspark.sql import types as T\n",
    "from pyspark.sql.avro.functions import from_avro\n",
    "from pyspark.sql.window import Window\n",
    "\n",
    "import datetime\n",
    "import pandas as pd\n",
    "import numpy as np"
   ]
  },
  {
   "cell_type": "code",
   "execution_count": 6,
   "id": "04d89699-12c2-4679-ab98-cc81da6720b4",
   "metadata": {},
   "outputs": [
    {
     "name": "stderr",
     "output_type": "stream",
     "text": [
      "SLF4J: Class path contains multiple SLF4J bindings.\n",
      "SLF4J: Found binding in [jar:file:/apache/releases/hadoop-2.7.3.2.6.4.2.0.38/share/hadoop/common/lib/slf4j-log4j12-1.7.30.jar!/org/slf4j/impl/StaticLoggerBinder.class]\n",
      "SLF4J: Found binding in [jar:file:/apache/releases/hbase-1.1.2.2.6.4.1.0.3/lib/slf4j-log4j12-1.7.10.jar!/org/slf4j/impl/StaticLoggerBinder.class]\n",
      "SLF4J: See http://www.slf4j.org/codes.html#multiple_bindings for an explanation.\n",
      "SLF4J: Actual binding is of type [org.slf4j.impl.Log4jLoggerFactory]\n",
      "23/05/16 13:31:57 WARN SparkConf: The configuration key 'spark.yarn.executor.memoryOverhead' has been deprecated as of Spark 2.3 and may be removed in the future. Please use the new key 'spark.executor.memoryOverhead' instead.\n",
      "23/05/16 13:31:58 WARN SparkConf: The configuration key 'spark.yarn.executor.memoryOverhead' has been deprecated as of Spark 2.3 and may be removed in the future. Please use the new key 'spark.executor.memoryOverhead' instead.\n"
     ]
    },
    {
     "name": "stdout",
     "output_type": "stream",
     "text": [
      "2023-05-16T13:31:58.764+0000: [GC (Metadata GC Threshold) \n",
      "Desired survivor size 89128960 bytes, new threshold 7 (max 15)\n",
      "[PSYoungGen: 262401K->17700K(611840K)] 262401K->17716K(2010112K), 0.0216085 secs] [Times: user=0.04 sys=0.01, real=0.03 secs] \n",
      "2023-05-16T13:31:58.786+0000: [Full GC (Metadata GC Threshold) [PSYoungGen: 17700K->0K(611840K)] [ParOldGen: 16K->16994K(867840K)] 17716K->16994K(1479680K), [Metaspace: 20237K->20237K(1067008K)], 0.0356926 secs] [Times: user=0.07 sys=0.01, real=0.03 secs] \n"
     ]
    },
    {
     "name": "stderr",
     "output_type": "stream",
     "text": [
      "Setting default log level to \"WARN\".\n",
      "To adjust logging level use sc.setLogLevel(newLevel). For SparkR, use setLogLevel(newLevel).\n",
      "23/05/16 13:32:00 WARN SparkConf: The configuration key 'spark.yarn.executor.memoryOverhead' has been deprecated as of Spark 2.3 and may be removed in the future. Please use the new key 'spark.executor.memoryOverhead' instead.\n",
      "23/05/16 13:32:00 WARN SparkConf: The configuration key 'spark.yarn.executor.memoryOverhead' has been deprecated as of Spark 2.3 and may be removed in the future. Please use the new key 'spark.executor.memoryOverhead' instead.\n",
      "23/05/16 13:32:00 WARN SparkConf: The configuration key 'spark.yarn.executor.memoryOverhead' has been deprecated as of Spark 2.3 and may be removed in the future. Please use the new key 'spark.executor.memoryOverhead' instead.\n"
     ]
    },
    {
     "name": "stdout",
     "output_type": "stream",
     "text": [
      "2023-05-16T13:32:01.034+0000: [GC (Metadata GC Threshold) \n",
      "Desired survivor size 89128960 bytes, new threshold 7 (max 15)\n",
      "[PSYoungGen: 391711K->14443K(611840K)] 408705K->31445K(1479680K), 0.0164813 secs] [Times: user=0.03 sys=0.00, real=0.01 secs] \n",
      "2023-05-16T13:32:01.050+0000: [Full GC (Metadata GC Threshold) [PSYoungGen: 14443K->0K(611840K)] [ParOldGen: 17002K->20655K(1429504K)] 31445K->20655K(2041344K), [Metaspace: 33986K->33986K(1079296K)], 0.0364941 secs] [Times: user=0.07 sys=0.01, real=0.04 secs] \n",
      "2023-05-16T13:32:12.017+0000: [GC (Metadata GC Threshold) \n",
      "Desired survivor size 89128960 bytes, new threshold 7 (max 15)\n",
      "[PSYoungGen: 414412K->22313K(611840K)] 435067K->42976K(2041344K), 0.0324520 secs] [Times: user=0.02 sys=0.04, real=0.03 secs] \n",
      "2023-05-16T13:32:12.049+0000: [Full GC (Metadata GC Threshold) [PSYoungGen: 22313K->0K(611840K)] [ParOldGen: 20663K->31127K(2021888K)] 42976K->31127K(2633728K), [Metaspace: 56326K->56313K(1101824K)], 0.1212790 secs] [Times: user=0.21 sys=0.02, real=0.12 secs] \n"
     ]
    },
    {
     "name": "stderr",
     "output_type": "stream",
     "text": [
      "23/05/16 13:32:14 WARN HiveConf: DEPRECATED: hive.metastore.ds.retry.* no longer has any effect.  Use hive.hmshandler.retry.* instead\n",
      "23/05/16 13:32:14 WARN HiveConf: HiveConf of name hive.metastore.local does not exist\n",
      "23/05/16 13:32:14 WARN HiveConf: HiveConf of name hive.enforce.sorting does not exist\n",
      "23/05/16 13:32:14 WARN HiveConf: HiveConf of name hive.server2.proxyuser.hue.groups does not exist\n",
      "23/05/16 13:32:14 WARN HiveConf: HiveConf of name hive.server2.proxyuser.hue.hosts does not exist\n",
      "23/05/16 13:32:14 WARN HiveConf: HiveConf of name hive.metastore.ds.retry.interval does not exist\n",
      "23/05/16 13:32:14 WARN HiveConf: HiveConf of name hive.enforce.bucketing does not exist\n",
      "23/05/16 13:32:14 WARN HiveConf: HiveConf of name hive.metastore.ds.retry.attempts does not exist\n",
      "23/05/16 13:32:14 WARN HiveConf: HiveConf of name hive.server2.enable.impersonation does not exist\n",
      "23/05/16 13:32:15 WARN SparkConf: The configuration key 'spark.yarn.executor.memoryOverhead' has been deprecated as of Spark 2.3 and may be removed in the future. Please use the new key 'spark.executor.memoryOverhead' instead.\n"
     ]
    },
    {
     "name": "stdout",
     "output_type": "stream",
     "text": [
      "2023-05-16T13:32:15.756+0000: [GC (Allocation Failure) \n",
      "Desired survivor size 89128960 bytes, new threshold 7 (max 15)\n",
      "[PSYoungGen: 524800K->23015K(768000K)] 555927K->54150K(2789888K), 0.0342567 secs] [Times: user=0.05 sys=0.01, real=0.03 secs] \n"
     ]
    },
    {
     "name": "stderr",
     "output_type": "stream",
     "text": [
      "23/05/16 13:32:16 WARN Client: Neither spark.yarn.jars nor spark.yarn.archive is set, falling back to uploading libraries under SPARK_HOME.\n",
      "23/05/16 13:32:47 WARN YarnSchedulerBackend$YarnSchedulerEndpoint: Attempted to request executors before the AM has registered!\n"
     ]
    },
    {
     "name": "stdout",
     "output_type": "stream",
     "text": [
      "2023-05-16T13:32:47.969+0000: [GC (Metadata GC Threshold) \n",
      "Desired survivor size 34078720 bytes, new threshold 8 (max 15)\n",
      "[PSYoungGen: 571807K->30997K(768000K)] 602942K->62140K(2789888K), 0.0314581 secs] [Times: user=0.06 sys=0.02, real=0.03 secs] \n",
      "2023-05-16T13:32:48.000+0000: [Full GC (Metadata GC Threshold) [PSYoungGen: 30997K->0K(768000K)] [ParOldGen: 31143K->47163K(2839040K)] 62140K->47163K(3607040K), [Metaspace: 93215K->93210K(1134592K)], 0.1476416 secs] [Times: user=0.22 sys=0.02, real=0.15 secs] \n"
     ]
    },
    {
     "data": {
      "text/html": [
       "\n",
       "            <div>\n",
       "                <p><b>SparkSession - hive</b></p>\n",
       "                \n",
       "        <div>\n",
       "            <p><b>SparkContext</b></p>\n",
       "\n",
       "            <p><a href=\"http://10.207.16.219:30401\">Spark UI</a></p>\n",
       "\n",
       "            <dl>\n",
       "              <dt>Version</dt>\n",
       "                <dd><code>v3.1.1.0.9.0</code></dd>\n",
       "              <dt>Master</dt>\n",
       "                <dd><code>yarn</code></dd>\n",
       "              <dt>AppName</dt>\n",
       "                <dd><code>click_propensity_estimator_olivyatan</code></dd>\n",
       "            </dl>\n",
       "        </div>\n",
       "        \n",
       "            </div>\n",
       "        "
      ],
      "text/plain": [
       "<pyspark.sql.session.SparkSession at 0x7f55d64aad10>"
      ]
     },
     "execution_count": 6,
     "metadata": {},
     "output_type": "execute_result"
    }
   ],
   "source": [
    "sparkHome = \"/apache/spark3.1\"\n",
    "bxPexFile = \"bx_pex_env_5_9_1.pex\"\n",
    "os.environ[\"SPARK_HOME\"] = sparkHome\n",
    "os.environ[\"PYSPARK_PYTHON\"] = f\"./{bxPexFile}\"\n",
    "os.environ[\"PYSPARK_DRIVER_PYTHON\"] = \"/usr/share/anaconda3/python3.7/bin/python\"\n",
    "sys.path.append(f\"{sparkHome}/python/lib/py4j-0.10.9-src.zip\")\n",
    "sys.path.append(f\"{sparkHome}/python\")\n",
    "\n",
    "host_ip = socket.gethostbyname(socket.gethostname())\n",
    "\n",
    "spark = SparkSession \\\n",
    "    .builder \\\n",
    "    .appName(\"click_propensity_estimator_\" + os.environ[\"KRYLOV_PRINCIPAL\"]) \\\n",
    "    .master(\"yarn\") \\\n",
    "    .config(\"spark.driver.maxResultSize\", \"15g\")\\\n",
    "    .config(\"spark.driver.host\", host_ip) \\\n",
    "    .config(\"spark.driver.port\", \"30202\") \\\n",
    "    .config(\"spark.yarn.executor.memoryOverhead\", \"32g\") \\\n",
    "    .config(\"spark.executor.cores\", \"3\") \\\n",
    "    .config(\"spark.driver.memory\", \"25g\") \\\n",
    "    .config(\"spark.executor.memory\", \"25g\") \\\n",
    "    .config(\"spark.rdd.compress\", True) \\\n",
    "    .config(\"spark.network.timeout\", \"600s\") \\\n",
    "    .config(\"spark.executor.heartbeatInterval\", \"300s\") \\\n",
    "    .config(\"spark.sql.broadcastTimeout\", \"1200s\") \\\n",
    "    .config(\"spark.dynamicAllocation.minExecutors\", 0) \\\n",
    "    .config(\"spark.dynamicAllocation.initialExecutors\", 100) \\\n",
    "    .config(\"spark.dynamicAllocation.maxExecutors\", 10000) \\\n",
    "    .config(\"spark.sql.shuffle.partitions\", 512)\\\n",
    "    .config(\"spark.kryoserializer.buffer.max\", \"1g\")\\\n",
    "    .config(\"spark.rpc.message.maxSize\", 1024)\\\n",
    "    .config(\"spark.yarn.queue\", \"hddq-exprce-perso-high-mem\") \\\n",
    "    .config(\"spark.driver.maxResultSize\", \"0\") \\\n",
    "    .config(\"spark.files\", f\"viewfs://apollo-rno/user/b_perso/pex_environments/{bxPexFile}\") \\\n",
    "    .enableHiveSupport() \\\n",
    "    .getOrCreate()\n",
    "\n",
    "spark"
   ]
  },
  {
   "cell_type": "markdown",
   "id": "cadc9f64",
   "metadata": {},
   "source": [
    "# click-propensity"
   ]
  },
  {
   "cell_type": "raw",
   "id": "b5bbf5bc-3243-421d-8193-c82a8197628b",
   "metadata": {},
   "source": [
    "schema = T.StructType(\n",
    "    [\n",
    "        T.StructField('siteId', T.IntegerType(), True),\n",
    "        T.StructField('experience', T.StringType(), True),\n",
    "        T.StructField('placementId', T.IntegerType(), True),\n",
    "        T.StructField('displayRank', T.IntegerType(), True),\n",
    "        T.StructField('clickPropensity', T.FloatType(), True),\n",
    "#         T.StructField('purchasePropensity', T.FloatType(), True),\n",
    "        T.StructField('n', T.IntegerType(), True)\n",
    "    ]\n",
    ")\n",
    "\n",
    "#path = \"viewfs://apollo-rno/apps/b_perso/hp/click_propensity/experience/mad_cdl/position_bias.tsv\"\n",
    "\n",
    "path = \"viewfs://apollo-rno/apps/b_perso/hp/click_propensity/experience/prod/position_bias.tsv\"\n",
    "clickCount = spark.read.option(\"header\", True).schema(schema).option(\"delimiter\", \"\\t\").csv(path)\n"
   ]
  },
  {
   "cell_type": "code",
   "execution_count": 9,
   "id": "ce5fc6a7-b330-4f3a-9e83-1f6ad7d2a184",
   "metadata": {},
   "outputs": [],
   "source": [
    "#prod 2 is the newer: 29.1\n",
    "schema = T.StructType(\n",
    "    [\n",
    "        T.StructField('siteId', T.IntegerType(), True),\n",
    "        T.StructField('deviceName', T.StringType(), True),\n",
    "        T.StructField('placementId', T.IntegerType(), True),\n",
    "        T.StructField('displayRank', T.IntegerType(), True),\n",
    "        T.StructField('clickPropensity', T.FloatType(), True),\n",
    "        T.StructField('purchasePropensity', T.FloatType(), True),\n",
    "        T.StructField('n', T.IntegerType(), True)\n",
    "    ]\n",
    ")\n",
    "path = \"viewfs://apollo-rno/apps/b_perso/hp/click_propensity/experience/prod-2/position_bias.tsv\"\n",
    "clickCount = spark.read.option(\"header\", True).schema(schema).option(\"delimiter\", \"\\t\").csv(path)"
   ]
  },
  {
   "cell_type": "code",
   "execution_count": null,
   "id": "36245a37-5e1c-4fd8-80c4-a4a5f7709a33",
   "metadata": {},
   "outputs": [],
   "source": [
    "#viewfs://apollo-rno/apps/b_perso/hp/click_propensity/experience/prod-2/position_bias.tsv"
   ]
  },
  {
   "cell_type": "code",
   "execution_count": 10,
   "id": "9e7ff967-1153-4a01-af33-5fcef55fe261",
   "metadata": {},
   "outputs": [],
   "source": [
    "#jan data: \n",
    "schema = T.StructType(\n",
    "    [\n",
    "        T.StructField('siteId', T.IntegerType(), True),\n",
    "        T.StructField('deviceName', T.StringType(), True),\n",
    "        T.StructField('placementId', T.IntegerType(), True),\n",
    "        T.StructField('displayRank', T.IntegerType(), True),\n",
    "        T.StructField('clickPropensity', T.FloatType(), True),\n",
    "         T.StructField('purchasePropensity', T.FloatType(), True),\n",
    "        T.StructField('n', T.IntegerType(), True)\n",
    "    ]\n",
    ")\n",
    "path = \"viewfs://apollo-rno/apps/b_perso/hp/click_propensity/experience/prod/position_bias.tsv\"\n",
    "clickCount = spark.read.option(\"header\", True).schema(schema).option(\"delimiter\", \"\\t\").csv(path)\n"
   ]
  },
  {
   "cell_type": "code",
   "execution_count": 10,
   "id": "7a066400-a7f3-4b17-9093-1b3e0468700d",
   "metadata": {},
   "outputs": [
    {
     "name": "stderr",
     "output_type": "stream",
     "text": [
      "                                                                                \r"
     ]
    },
    {
     "data": {
      "text/html": [
       "<div>\n",
       "<style scoped>\n",
       "    .dataframe tbody tr th:only-of-type {\n",
       "        vertical-align: middle;\n",
       "    }\n",
       "\n",
       "    .dataframe tbody tr th {\n",
       "        vertical-align: top;\n",
       "    }\n",
       "\n",
       "    .dataframe thead th {\n",
       "        text-align: right;\n",
       "    }\n",
       "</style>\n",
       "<table border=\"1\" class=\"dataframe\">\n",
       "  <thead>\n",
       "    <tr style=\"text-align: right;\">\n",
       "      <th></th>\n",
       "      <th>siteId</th>\n",
       "      <th>deviceName</th>\n",
       "      <th>placementId</th>\n",
       "      <th>displayRank</th>\n",
       "      <th>clickPropensity</th>\n",
       "      <th>purchasePropensity</th>\n",
       "      <th>n</th>\n",
       "    </tr>\n",
       "  </thead>\n",
       "  <tbody>\n",
       "    <tr>\n",
       "      <th>0</th>\n",
       "      <td>0</td>\n",
       "      <td>Apps: iPad</td>\n",
       "      <td>101280</td>\n",
       "      <td>10</td>\n",
       "      <td>0.001575</td>\n",
       "      <td>635.0</td>\n",
       "      <td>NaN</td>\n",
       "    </tr>\n",
       "    <tr>\n",
       "      <th>1</th>\n",
       "      <td>0</td>\n",
       "      <td>Browser: Core site</td>\n",
       "      <td>101260</td>\n",
       "      <td>3</td>\n",
       "      <td>0.001090</td>\n",
       "      <td>329329.0</td>\n",
       "      <td>NaN</td>\n",
       "    </tr>\n",
       "    <tr>\n",
       "      <th>2</th>\n",
       "      <td>0</td>\n",
       "      <td>Browser: Core site</td>\n",
       "      <td>101260</td>\n",
       "      <td>8</td>\n",
       "      <td>0.000288</td>\n",
       "      <td>114596.0</td>\n",
       "      <td>NaN</td>\n",
       "    </tr>\n",
       "    <tr>\n",
       "      <th>3</th>\n",
       "      <td>2</td>\n",
       "      <td>Apps: Android</td>\n",
       "      <td>101259</td>\n",
       "      <td>8</td>\n",
       "      <td>0.001303</td>\n",
       "      <td>9213.0</td>\n",
       "      <td>NaN</td>\n",
       "    </tr>\n",
       "    <tr>\n",
       "      <th>4</th>\n",
       "      <td>2</td>\n",
       "      <td>Browser: Core site</td>\n",
       "      <td>101279</td>\n",
       "      <td>8</td>\n",
       "      <td>0.000000</td>\n",
       "      <td>828.0</td>\n",
       "      <td>NaN</td>\n",
       "    </tr>\n",
       "    <tr>\n",
       "      <th>...</th>\n",
       "      <td>...</td>\n",
       "      <td>...</td>\n",
       "      <td>...</td>\n",
       "      <td>...</td>\n",
       "      <td>...</td>\n",
       "      <td>...</td>\n",
       "      <td>...</td>\n",
       "    </tr>\n",
       "    <tr>\n",
       "      <th>6980</th>\n",
       "      <td>77</td>\n",
       "      <td>Apps: iPad</td>\n",
       "      <td>101514</td>\n",
       "      <td>5</td>\n",
       "      <td>0.003244</td>\n",
       "      <td>8630.0</td>\n",
       "      <td>NaN</td>\n",
       "    </tr>\n",
       "    <tr>\n",
       "      <th>6981</th>\n",
       "      <td>77</td>\n",
       "      <td>Browser: mWeb</td>\n",
       "      <td>101280</td>\n",
       "      <td>13</td>\n",
       "      <td>0.000000</td>\n",
       "      <td>557.0</td>\n",
       "      <td>NaN</td>\n",
       "    </tr>\n",
       "    <tr>\n",
       "      <th>6982</th>\n",
       "      <td>193</td>\n",
       "      <td>Apps: iPhone</td>\n",
       "      <td>101287</td>\n",
       "      <td>15</td>\n",
       "      <td>0.003106</td>\n",
       "      <td>966.0</td>\n",
       "      <td>NaN</td>\n",
       "    </tr>\n",
       "    <tr>\n",
       "      <th>6983</th>\n",
       "      <td>216</td>\n",
       "      <td>Apps: iPhone</td>\n",
       "      <td>101287</td>\n",
       "      <td>6</td>\n",
       "      <td>0.028500</td>\n",
       "      <td>1193.0</td>\n",
       "      <td>NaN</td>\n",
       "    </tr>\n",
       "    <tr>\n",
       "      <th>6984</th>\n",
       "      <td>0</td>\n",
       "      <td>Browser: mWeb</td>\n",
       "      <td>101278</td>\n",
       "      <td>29</td>\n",
       "      <td>0.000000</td>\n",
       "      <td>1.0</td>\n",
       "      <td>NaN</td>\n",
       "    </tr>\n",
       "  </tbody>\n",
       "</table>\n",
       "<p>6985 rows × 7 columns</p>\n",
       "</div>"
      ],
      "text/plain": [
       "      siteId          deviceName  placementId  displayRank  clickPropensity  \\\n",
       "0          0          Apps: iPad       101280           10         0.001575   \n",
       "1          0  Browser: Core site       101260            3         0.001090   \n",
       "2          0  Browser: Core site       101260            8         0.000288   \n",
       "3          2       Apps: Android       101259            8         0.001303   \n",
       "4          2  Browser: Core site       101279            8         0.000000   \n",
       "...      ...                 ...          ...          ...              ...   \n",
       "6980      77          Apps: iPad       101514            5         0.003244   \n",
       "6981      77       Browser: mWeb       101280           13         0.000000   \n",
       "6982     193        Apps: iPhone       101287           15         0.003106   \n",
       "6983     216        Apps: iPhone       101287            6         0.028500   \n",
       "6984       0       Browser: mWeb       101278           29         0.000000   \n",
       "\n",
       "      purchasePropensity   n  \n",
       "0                  635.0 NaN  \n",
       "1               329329.0 NaN  \n",
       "2               114596.0 NaN  \n",
       "3                 9213.0 NaN  \n",
       "4                  828.0 NaN  \n",
       "...                  ...  ..  \n",
       "6980              8630.0 NaN  \n",
       "6981               557.0 NaN  \n",
       "6982               966.0 NaN  \n",
       "6983              1193.0 NaN  \n",
       "6984                 1.0 NaN  \n",
       "\n",
       "[6985 rows x 7 columns]"
      ]
     },
     "execution_count": 10,
     "metadata": {},
     "output_type": "execute_result"
    },
    {
     "name": "stderr",
     "output_type": "stream",
     "text": [
      "23/05/16 13:35:59 ERROR YarnScheduler: Lost executor 4 on hdc42-mcc10-01-0710-1803-017-tess0035.stratus.rno.ebay.com: Executor decommission.\n",
      "23/05/16 13:35:59 ERROR YarnScheduler: Lost executor 2 on hdc42-mcc10-01-0210-5906-057-tess0131.stratus.rno.ebay.com: Executor decommission.\n",
      "23/05/16 13:36:00 ERROR YarnScheduler: Lost executor 1 on hdc42-mcc10-01-0510-3506-013-tess0097.stratus.rno.ebay.com: Executor decommission.\n",
      "23/05/16 13:36:00 ERROR YarnScheduler: Lost executor 5 on hdc42-mcc10-01-1110-4201-059-tess0029.stratus.rno.ebay.com: Executor decommission.\n",
      "23/05/16 13:36:02 WARN YarnSchedulerBackend$YarnSchedulerEndpoint: Requesting driver to remove executor 2 for reason Executor for container container_e3812_1684033797982_273231_01_000013 exited because of a YARN event (e.g., preemption) and not because of an error in the running job.\n",
      "23/05/16 13:36:05 WARN YarnSchedulerBackend$YarnSchedulerEndpoint: Requesting driver to remove executor 4 for reason Executor for container container_e3812_1684033797982_273231_01_000022 exited because of a YARN event (e.g., preemption) and not because of an error in the running job.\n",
      "23/05/16 13:36:05 WARN YarnSchedulerBackend$YarnSchedulerEndpoint: Requesting driver to remove executor 5 for reason Executor for container container_e3812_1684033797982_273231_01_000070 exited because of a YARN event (e.g., preemption) and not because of an error in the running job.\n",
      "23/05/16 13:36:05 WARN YarnSchedulerBackend$YarnSchedulerEndpoint: Requesting driver to remove executor 1 for reason Executor for container container_e3812_1684033797982_273231_01_000010 exited because of a YARN event (e.g., preemption) and not because of an error in the running job.\n",
      "23/05/16 13:36:06 ERROR YarnScheduler: Lost executor 7 on hdc42-mcc10-01-0510-3304-003-tess0097.stratus.rno.ebay.com: Executor decommission.\n",
      "23/05/16 13:36:08 ERROR YarnScheduler: Lost executor 3 on hdc42-mcc10-01-0210-5509-004-tess0131.stratus.rno.ebay.com: Executor decommission.\n",
      "23/05/16 13:36:08 WARN YarnSchedulerBackend$YarnSchedulerEndpoint: Requesting driver to remove executor 7 for reason Executor for container container_e3812_1684033797982_273231_01_000073 exited because of a YARN event (e.g., preemption) and not because of an error in the running job.\n",
      "23/05/16 13:36:11 WARN YarnSchedulerBackend$YarnSchedulerEndpoint: Requesting driver to remove executor 3 for reason Executor for container container_e3812_1684033797982_273231_01_000016 exited because of a YARN event (e.g., preemption) and not because of an error in the running job.\n",
      "23/05/16 13:36:48 ERROR YarnScheduler: Lost executor 6 on hdc42-mcc10-01-0910-4503-044-tess0028.stratus.rno.ebay.com: Executor decommission.\n",
      "23/05/16 13:36:53 WARN YarnSchedulerBackend$YarnSchedulerEndpoint: Requesting driver to remove executor 6 for reason Executor for container container_e3812_1684033797982_273231_01_000071 exited because of a YARN event (e.g., preemption) and not because of an error in the running job.\n"
     ]
    },
    {
     "name": "stdout",
     "output_type": "stream",
     "text": [
      "2023-05-16T14:02:27.444+0000: [GC (Allocation Failure) \n",
      "Desired survivor size 38273024 bytes, new threshold 9 (max 15)\n",
      "[PSYoungGen: 680960K->32593K(707072K)] 728123K->79764K(3546112K), 0.0721277 secs] [Times: user=0.08 sys=0.08, real=0.08 secs] \n",
      "2023-05-16T14:02:47.257+0000: [GC (System.gc()) \n",
      "Desired survivor size 39321600 bytes, new threshold 10 (max 15)\n",
      "[PSYoungGen: 49973K->11458K(686080K)] 97144K->58638K(3525120K), 0.0159327 secs] [Times: user=0.02 sys=0.02, real=0.01 secs] \n",
      "2023-05-16T14:02:47.273+0000: [Full GC (System.gc()) [PSYoungGen: 11458K->0K(686080K)] [ParOldGen: 47179K->45100K(2839040K)] 58638K->45100K(3525120K), [Metaspace: 122618K->122409K(1165312K)], 0.2938719 secs] [Times: user=0.48 sys=0.07, real=0.30 secs] \n"
     ]
    }
   ],
   "source": [
    "pdf = clickCount.toPandas()\n",
    "pdf"
   ]
  },
  {
   "cell_type": "code",
   "execution_count": 11,
   "id": "d4c45729",
   "metadata": {},
   "outputs": [
    {
     "name": "stderr",
     "output_type": "stream",
     "text": [
      "                                                                                \r"
     ]
    },
    {
     "data": {
      "text/html": [
       "<div>\n",
       "<style scoped>\n",
       "    .dataframe tbody tr th:only-of-type {\n",
       "        vertical-align: middle;\n",
       "    }\n",
       "\n",
       "    .dataframe tbody tr th {\n",
       "        vertical-align: top;\n",
       "    }\n",
       "\n",
       "    .dataframe thead th {\n",
       "        text-align: right;\n",
       "    }\n",
       "</style>\n",
       "<table border=\"1\" class=\"dataframe\">\n",
       "  <thead>\n",
       "    <tr style=\"text-align: right;\">\n",
       "      <th></th>\n",
       "      <th>siteId</th>\n",
       "      <th>deviceName</th>\n",
       "      <th>placementId</th>\n",
       "      <th>displayRank</th>\n",
       "      <th>clickPropensity</th>\n",
       "      <th>purchasePropensity</th>\n",
       "      <th>n</th>\n",
       "    </tr>\n",
       "  </thead>\n",
       "  <tbody>\n",
       "    <tr>\n",
       "      <th>0</th>\n",
       "      <td>0</td>\n",
       "      <td>Apps: iPad</td>\n",
       "      <td>101280</td>\n",
       "      <td>10</td>\n",
       "      <td>0.001575</td>\n",
       "      <td>0.000000</td>\n",
       "      <td>635</td>\n",
       "    </tr>\n",
       "    <tr>\n",
       "      <th>1</th>\n",
       "      <td>0</td>\n",
       "      <td>Browser: Core site</td>\n",
       "      <td>101260</td>\n",
       "      <td>3</td>\n",
       "      <td>0.001090</td>\n",
       "      <td>0.000012</td>\n",
       "      <td>329329</td>\n",
       "    </tr>\n",
       "    <tr>\n",
       "      <th>2</th>\n",
       "      <td>0</td>\n",
       "      <td>Browser: Core site</td>\n",
       "      <td>101260</td>\n",
       "      <td>8</td>\n",
       "      <td>0.000288</td>\n",
       "      <td>0.000000</td>\n",
       "      <td>114596</td>\n",
       "    </tr>\n",
       "    <tr>\n",
       "      <th>3</th>\n",
       "      <td>2</td>\n",
       "      <td>Apps: Android</td>\n",
       "      <td>101259</td>\n",
       "      <td>8</td>\n",
       "      <td>0.001303</td>\n",
       "      <td>0.000000</td>\n",
       "      <td>9213</td>\n",
       "    </tr>\n",
       "    <tr>\n",
       "      <th>4</th>\n",
       "      <td>2</td>\n",
       "      <td>Browser: Core site</td>\n",
       "      <td>101279</td>\n",
       "      <td>8</td>\n",
       "      <td>0.000000</td>\n",
       "      <td>0.000000</td>\n",
       "      <td>828</td>\n",
       "    </tr>\n",
       "    <tr>\n",
       "      <th>...</th>\n",
       "      <td>...</td>\n",
       "      <td>...</td>\n",
       "      <td>...</td>\n",
       "      <td>...</td>\n",
       "      <td>...</td>\n",
       "      <td>...</td>\n",
       "      <td>...</td>\n",
       "    </tr>\n",
       "    <tr>\n",
       "      <th>6980</th>\n",
       "      <td>77</td>\n",
       "      <td>Apps: iPad</td>\n",
       "      <td>101514</td>\n",
       "      <td>5</td>\n",
       "      <td>0.003244</td>\n",
       "      <td>0.000232</td>\n",
       "      <td>8630</td>\n",
       "    </tr>\n",
       "    <tr>\n",
       "      <th>6981</th>\n",
       "      <td>77</td>\n",
       "      <td>Browser: mWeb</td>\n",
       "      <td>101280</td>\n",
       "      <td>13</td>\n",
       "      <td>0.000000</td>\n",
       "      <td>0.000000</td>\n",
       "      <td>557</td>\n",
       "    </tr>\n",
       "    <tr>\n",
       "      <th>6982</th>\n",
       "      <td>193</td>\n",
       "      <td>Apps: iPhone</td>\n",
       "      <td>101287</td>\n",
       "      <td>15</td>\n",
       "      <td>0.003106</td>\n",
       "      <td>0.000000</td>\n",
       "      <td>966</td>\n",
       "    </tr>\n",
       "    <tr>\n",
       "      <th>6983</th>\n",
       "      <td>216</td>\n",
       "      <td>Apps: iPhone</td>\n",
       "      <td>101287</td>\n",
       "      <td>6</td>\n",
       "      <td>0.028500</td>\n",
       "      <td>0.000000</td>\n",
       "      <td>1193</td>\n",
       "    </tr>\n",
       "    <tr>\n",
       "      <th>6984</th>\n",
       "      <td>0</td>\n",
       "      <td>Browser: mWeb</td>\n",
       "      <td>101278</td>\n",
       "      <td>29</td>\n",
       "      <td>0.000000</td>\n",
       "      <td>0.000000</td>\n",
       "      <td>1</td>\n",
       "    </tr>\n",
       "  </tbody>\n",
       "</table>\n",
       "<p>6985 rows × 7 columns</p>\n",
       "</div>"
      ],
      "text/plain": [
       "      siteId          deviceName  placementId  displayRank  clickPropensity  \\\n",
       "0          0          Apps: iPad       101280           10         0.001575   \n",
       "1          0  Browser: Core site       101260            3         0.001090   \n",
       "2          0  Browser: Core site       101260            8         0.000288   \n",
       "3          2       Apps: Android       101259            8         0.001303   \n",
       "4          2  Browser: Core site       101279            8         0.000000   \n",
       "...      ...                 ...          ...          ...              ...   \n",
       "6980      77          Apps: iPad       101514            5         0.003244   \n",
       "6981      77       Browser: mWeb       101280           13         0.000000   \n",
       "6982     193        Apps: iPhone       101287           15         0.003106   \n",
       "6983     216        Apps: iPhone       101287            6         0.028500   \n",
       "6984       0       Browser: mWeb       101278           29         0.000000   \n",
       "\n",
       "      purchasePropensity       n  \n",
       "0               0.000000     635  \n",
       "1               0.000012  329329  \n",
       "2               0.000000  114596  \n",
       "3               0.000000    9213  \n",
       "4               0.000000     828  \n",
       "...                  ...     ...  \n",
       "6980            0.000232    8630  \n",
       "6981            0.000000     557  \n",
       "6982            0.000000     966  \n",
       "6983            0.000000    1193  \n",
       "6984            0.000000       1  \n",
       "\n",
       "[6985 rows x 7 columns]"
      ]
     },
     "execution_count": 11,
     "metadata": {},
     "output_type": "execute_result"
    }
   ],
   "source": [
    "pdf = clickCount.toPandas()\n",
    "pdf"
   ]
  },
  {
   "cell_type": "code",
   "execution_count": 12,
   "id": "a919519f",
   "metadata": {
    "scrolled": true,
    "tags": []
   },
   "outputs": [
    {
     "name": "stderr",
     "output_type": "stream",
     "text": [
      "23/03/22 11:56:41 WARN YarnSchedulerBackend$YarnSchedulerEndpoint: Requesting driver to remove executor 36 for reason Container container_e3806_1678843702420_720012_01_000134 on host: hdc42-mcc10-01-0710-3609-045-tess0035.stratus.rno.ebay.com was preempted.\n",
      "23/03/22 11:56:41 WARN YarnSchedulerBackend$YarnSchedulerEndpoint: Requesting driver to remove executor 35 for reason Container container_e3806_1678843702420_720012_01_000133 on host: hdc42-mcc10-01-0910-4109-045-tess0028.stratus.rno.ebay.com was preempted.\n",
      "23/03/22 11:56:41 ERROR YarnScheduler: Lost executor 36 on hdc42-mcc10-01-0710-3609-045-tess0035.stratus.rno.ebay.com: Container container_e3806_1678843702420_720012_01_000134 on host: hdc42-mcc10-01-0710-3609-045-tess0035.stratus.rno.ebay.com was preempted.\n",
      "23/03/22 11:56:41 ERROR YarnScheduler: Lost executor 35 on hdc42-mcc10-01-0910-4109-045-tess0028.stratus.rno.ebay.com: Container container_e3806_1678843702420_720012_01_000133 on host: hdc42-mcc10-01-0910-4109-045-tess0028.stratus.rno.ebay.com was preempted.\n",
      "23/03/22 11:56:58 ERROR YarnScheduler: Lost executor 34 on hdc42-mcc10-01-1110-3502-017-tess0029.stratus.rno.ebay.com: Container container_e3806_1678843702420_720012_01_000132 on host: hdc42-mcc10-01-1110-3502-017-tess0029.stratus.rno.ebay.com was preempted.\n",
      "23/03/22 11:56:58 WARN YarnSchedulerBackend$YarnSchedulerEndpoint: Requesting driver to remove executor 34 for reason Container container_e3806_1678843702420_720012_01_000132 on host: hdc42-mcc10-01-1110-3502-017-tess0029.stratus.rno.ebay.com was preempted.\n",
      "23/03/22 11:57:01 WARN YarnSchedulerBackend$YarnSchedulerEndpoint: Requesting driver to remove executor 33 for reason Container container_e3806_1678843702420_720012_01_000131 on host: hdc42-mcc10-01-0510-2202-056-tess0097.stratus.rno.ebay.com was preempted.\n",
      "23/03/22 11:57:01 ERROR YarnScheduler: Lost executor 33 on hdc42-mcc10-01-0510-2202-056-tess0097.stratus.rno.ebay.com: Container container_e3806_1678843702420_720012_01_000131 on host: hdc42-mcc10-01-0510-2202-056-tess0097.stratus.rno.ebay.com was preempted.\n",
      "23/03/22 11:57:04 ERROR YarnScheduler: Lost executor 32 on hdc42-mcc10-01-0510-3505-011-tess0097.stratus.rno.ebay.com: Container container_e3806_1678843702420_720012_01_000130 on host: hdc42-mcc10-01-0510-3505-011-tess0097.stratus.rno.ebay.com was preempted.\n",
      "23/03/22 11:57:04 WARN YarnSchedulerBackend$YarnSchedulerEndpoint: Requesting driver to remove executor 32 for reason Container container_e3806_1678843702420_720012_01_000130 on host: hdc42-mcc10-01-0510-3505-011-tess0097.stratus.rno.ebay.com was preempted.\n",
      "23/03/22 11:57:05 WARN YarnSchedulerBackend$YarnSchedulerEndpoint: Requesting driver to remove executor 30 for reason Container container_e3806_1678843702420_720012_01_000128 on host: hdc42-mcc10-01-0210-7106-039-tess0131.stratus.rno.ebay.com was preempted.\n",
      "23/03/22 11:57:05 WARN YarnSchedulerBackend$YarnSchedulerEndpoint: Requesting driver to remove executor 29 for reason Container container_e3806_1678843702420_720012_01_000127 on host: hdc42-mcc10-01-0910-2003-005-tess0028.stratus.rno.ebay.com was preempted.\n",
      "23/03/22 11:57:05 ERROR YarnScheduler: Lost executor 30 on hdc42-mcc10-01-0210-7106-039-tess0131.stratus.rno.ebay.com: Container container_e3806_1678843702420_720012_01_000128 on host: hdc42-mcc10-01-0210-7106-039-tess0131.stratus.rno.ebay.com was preempted.\n",
      "23/03/22 11:57:05 ERROR YarnScheduler: Lost executor 29 on hdc42-mcc10-01-0910-2003-005-tess0028.stratus.rno.ebay.com: Container container_e3806_1678843702420_720012_01_000127 on host: hdc42-mcc10-01-0910-2003-005-tess0028.stratus.rno.ebay.com was preempted.\n",
      "23/03/22 11:57:05 WARN YarnSchedulerBackend$YarnSchedulerEndpoint: Requesting driver to remove executor 31 for reason Container container_e3806_1678843702420_720012_01_000129 on host: hdc42-mcc10-01-0910-4503-013-tess0028.stratus.rno.ebay.com was preempted.\n",
      "23/03/22 11:57:05 ERROR YarnScheduler: Lost executor 31 on hdc42-mcc10-01-0910-4503-013-tess0028.stratus.rno.ebay.com: Container container_e3806_1678843702420_720012_01_000129 on host: hdc42-mcc10-01-0910-4503-013-tess0028.stratus.rno.ebay.com was preempted.\n",
      "23/03/22 11:57:25 ERROR YarnScheduler: Lost executor 28 on hdc42-mcc10-01-0210-5906-035-tess0131.stratus.rno.ebay.com: Container container_e3806_1678843702420_720012_01_000126 on host: hdc42-mcc10-01-0210-5906-035-tess0131.stratus.rno.ebay.com was preempted.\n",
      "23/03/22 11:57:25 WARN YarnSchedulerBackend$YarnSchedulerEndpoint: Requesting driver to remove executor 28 for reason Container container_e3806_1678843702420_720012_01_000126 on host: hdc42-mcc10-01-0210-5906-035-tess0131.stratus.rno.ebay.com was preempted.\n",
      "23/03/22 11:58:47 ERROR YarnScheduler: Lost executor 27 on hdc42-mcc10-01-0210-7807-072-tess0131.stratus.rno.ebay.com: Container container_e3806_1678843702420_720012_01_000125 on host: hdc42-mcc10-01-0210-7807-072-tess0131.stratus.rno.ebay.com was preempted.\n",
      "23/03/22 11:58:47 WARN YarnSchedulerBackend$YarnSchedulerEndpoint: Requesting driver to remove executor 27 for reason Container container_e3806_1678843702420_720012_01_000125 on host: hdc42-mcc10-01-0210-7807-072-tess0131.stratus.rno.ebay.com was preempted.\n"
     ]
    },
    {
     "name": "stdout",
     "output_type": "stream",
     "text": [
      "2023-03-22T12:23:16.808+0000: [GC (Allocation Failure) \n",
      "Desired survivor size 35127296 bytes, new threshold 6 (max 15)\n",
      "[PSYoungGen: 757248K->29692K(997376K)] 797560K->72754K(1485824K), 0.0887505 secs] [Times: user=0.07 sys=0.15, real=0.09 secs] \n",
      "2023-03-22T12:25:41.083+0000: [GC (System.gc()) \n",
      "Desired survivor size 34603008 bytes, new threshold 5 (max 15)\n",
      "[PSYoungGen: 93598K->11530K(1001984K)] 136661K->54600K(1490432K), 0.0141834 secs] [Times: user=0.03 sys=0.00, real=0.02 secs] \n",
      "2023-03-22T12:25:41.097+0000: [Full GC (System.gc()) [PSYoungGen: 11530K->0K(1001984K)] [ParOldGen: 43070K->44976K(488448K)] 54600K->44976K(1490432K), [Metaspace: 123841K->123641K(1167360K)], 0.2841565 secs] [Times: user=0.55 sys=0.04, real=0.28 secs] \n",
      "2023-03-22T12:55:41.083+0000: [GC (System.gc()) \n",
      "Desired survivor size 35651584 bytes, new threshold 4 (max 15)\n",
      "[PSYoungGen: 270601K->351K(1035776K)] 315577K->45336K(1524224K), 0.0176901 secs] [Times: user=0.04 sys=0.02, real=0.02 secs] \n",
      "2023-03-22T12:55:41.101+0000: [Full GC (System.gc()) [PSYoungGen: 351K->0K(1035776K)] [ParOldGen: 44984K->44922K(488448K)] 45336K->44922K(1524224K), [Metaspace: 123730K->123730K(1167360K)], 0.2163988 secs] [Times: user=0.41 sys=0.04, real=0.22 secs] \n"
     ]
    }
   ],
   "source": [
    "\n",
    "w = Window.partitionBy(\"siteId\", \"deviceName\", \"placementId\").orderBy([F.col(\"displayRank\").asc()])\n",
    "\n",
    "clickCount1 = clickCount \\\n",
    "    .withColumn(\"bias1\", F.first(\"clickPropensity\", True).over(w)) \\\n",
    "    .withColumn(\"biasK\", F.col(\"clickPropensity\")) \\\n",
    "    .withColumn(\"propensity_pretrainer\", F.col(\"biasK\") / F.col(\"bias1\")) \\\n",
    "    .withColumn(\"propensity_impression_weights\", 1 / F.col(\"propensity_pretrainer\"))\n",
    "\n"
   ]
  },
  {
   "cell_type": "code",
   "execution_count": 7,
   "id": "56076a11",
   "metadata": {},
   "outputs": [
    {
     "name": "stderr",
     "output_type": "stream",
     "text": [
      "[Stage 1:>                                                          (0 + 1) / 1]\r"
     ]
    },
    {
     "name": "stdout",
     "output_type": "stream",
     "text": [
      "2023-02-16T09:41:27.068+0000: [GC (Allocation Failure) 2023-02-16T09:41:27.069+0000: [DefNew\n",
      "Desired survivor size 35782656 bytes, new threshold 15 (max 15)\n",
      "- age   1:   34181304 bytes,   34181304 total\n",
      ": 559360K->33380K(629248K), 0.0879369 secs] 601390K->75411K(2027392K), 0.0880442 secs] [Times: user=0.14 sys=0.04, real=0.08 secs] \n"
     ]
    },
    {
     "name": "stderr",
     "output_type": "stream",
     "text": [
      "                                                                                \r"
     ]
    }
   ],
   "source": [
    "pdf1 = clickCount1.toPandas()"
   ]
  },
  {
   "cell_type": "code",
   "execution_count": null,
   "id": "b155f4bd-fcb6-440e-a90f-739907e62ef7",
   "metadata": {},
   "outputs": [],
   "source": [
    "pp=(pdf1['propensity_impression_weights'].unique())"
   ]
  },
  {
   "cell_type": "code",
   "execution_count": 8,
   "id": "88dd13cd-f37f-4cdd-81d5-71525d86882e",
   "metadata": {},
   "outputs": [],
   "source": [
    "pp=(pdf1['propensity_pretrainer'].unique())"
   ]
  },
  {
   "cell_type": "code",
   "execution_count": 9,
   "id": "ae766c0b-fdf5-40b3-8679-a31e98c81f1f",
   "metadata": {},
   "outputs": [
    {
     "data": {
      "text/plain": [
       "3327"
      ]
     },
     "execution_count": 9,
     "metadata": {},
     "output_type": "execute_result"
    },
    {
     "name": "stdout",
     "output_type": "stream",
     "text": [
      "2023-02-16T10:07:41.978+0000: [Full GC (System.gc()) 2023-02-16T10:07:41.978+0000: [Tenured: 42030K->56365K(1398144K), 0.3961316 secs] 544342K->56365K(2027392K), [Metaspace: 130126K->130126K(1173504K)], 0.3964054 secs] [Times: user=0.33 sys=0.07, real=0.40 secs] \n"
     ]
    }
   ],
   "source": [
    "len(pp)"
   ]
  },
  {
   "cell_type": "code",
   "execution_count": 91,
   "id": "23f7512d-095c-48da-9c2a-4224323b23e0",
   "metadata": {},
   "outputs": [],
   "source": [
    "def intersection(lst1, lst2):\n",
    "    lst3 = [value for value in lst1 if value in lst2]\n",
    "    return lst3"
   ]
  },
  {
   "cell_type": "code",
   "execution_count": 89,
   "id": "55c941c9-689c-4f65-9452-eb60d389e8c2",
   "metadata": {},
   "outputs": [],
   "source": [
    "pp_pretrainer=[0.21551500260829926,\n",
    " 0.23795543611049652,\n",
    " 0.2407420128583908,\n",
    " 0.24390022456645966,\n",
    " 0.248038187623024,\n",
    " 0.25563952326774597,\n",
    " 0.28007543087005615,\n",
    " 0.28314828872680664,\n",
    " 0.28800898790359497,\n",
    " 0.2889513075351715,\n",
    " 0.28990408778190613,\n",
    " 0.30199068784713745,\n",
    " 0.30395370721817017,\n",
    " 0.3058323264122009,\n",
    " 0.3071546256542206,\n",
    " 0.3097269833087921,\n",
    " 0.3285125494003296,\n",
    " 0.32990390062332153,\n",
    " 0.34581536054611206,\n",
    " 0.35072559118270874,\n",
    " 0.35116082429885864,\n",
    " 0.37107375264167786,\n",
    " 0.3798312246799469,\n",
    " 0.381117582321167,\n",
    " 0.39944693446159363,\n",
    " 0.41809752583503723,\n",
    " 0.4222111403942108,\n",
    " 0.4279419779777527,\n",
    " 0.4297315180301666,\n",
    " 0.4358943998813629,\n",
    " 0.4403800368309021,\n",
    " 0.4436541497707367,\n",
    " 0.4460158050060272,\n",
    " 0.44851815700531006,\n",
    " 0.48720598220825195,\n",
    " 0.4991760551929474,\n",
    " 0.7039563059806824,\n",
    " 0.780942440032959,\n",
    " 0.8177510499954224,\n",
    " 0.845508873462677,\n",
    " 0.8549211621284485,\n",
    " 0.8641623854637146,\n",
    " 0.8738828897476196,\n",
    " 0.8758007287979126,\n",
    " 0.8831841945648193,\n",
    " 0.8906497359275818,\n",
    " 0.9045923352241516,\n",
    " 0.9335572123527527,\n",
    " 0.9430223703384399,\n",
    " 0.9512357115745544,\n",
    " 0.9608110189437866,\n",
    " 0.9608795046806335,\n",
    " 0.9628530740737915,\n",
    " 0.9669691324234009,\n",
    " 0.9831928610801697,\n",
    " 0.9838866591453552,\n",
    " 1.0,\n",
    " 1.001507043838501,\n",
    " 1.0051884651184082,\n",
    " 1.0146311521530151,\n",
    " 1.0229460000991821,\n",
    " 1.0422894954681396,\n",
    " 1.0430858135223389,\n",
    " 1.047005295753479,\n",
    " 1.0475705862045288,\n",
    " 1.0953953266143799,\n",
    " 1.0966174602508545,\n",
    " 1.1851139068603516,\n",
    " 1.229604959487915,\n",
    " 1.2436052560806274,\n",
    " 1.4794321060180664]"
   ]
  },
  {
   "cell_type": "code",
   "execution_count": null,
   "id": "51d210cb-899b-4648-80c5-01cb47d71b24",
   "metadata": {},
   "outputs": [],
   "source": [
    "pp1"
   ]
  },
  {
   "cell_type": "code",
   "execution_count": 97,
   "id": "07daa412-047b-45e7-95f6-2c79285a5d20",
   "metadata": {},
   "outputs": [],
   "source": [
    "pp_pretrainer1 = [round(n, 5) for n in pp_pretrainer]\n",
    "pp1 = [round(n, 5) for n in pp]"
   ]
  },
  {
   "cell_type": "code",
   "execution_count": 94,
   "id": "8debb3c5-d4dc-4b29-86d1-ff6058c8d1d0",
   "metadata": {},
   "outputs": [
    {
     "name": "stdout",
     "output_type": "stream",
     "text": [
      "[1.0, 0.87388289, 0.32851255, 0.28990409, 1.04757059, 0.96081102, 0.84550887, 0.42221114, 0.35116082, 0.28895131, 0.37107375, 0.24074201, 0.35072559, 0.98319286, 0.28314829, 0.38111758, 0.41809753, 0.24390022, 0.28800899]\n"
     ]
    }
   ],
   "source": [
    "print()"
   ]
  },
  {
   "cell_type": "code",
   "execution_count": 100,
   "id": "a4e0fe29-1be9-4ad2-9d6b-2354800fa4cf",
   "metadata": {
    "scrolled": true,
    "tags": []
   },
   "outputs": [
    {
     "data": {
      "text/plain": [
       "'{0.0, 1.0, nan, 2.86111, 0.64987, 1.88842, 0.50901, 0.54589, 8.27273, 1.30715, 1.01708, 11.50122, 12.20053, 12.77741, 11.86869, 9.87584, 8.69011, 10.75902, 18.63229, 0.27966, 0.31091, 15.5, 0.289, 0.22026, 31.56918, 0.65625, 0.87182, 0.71867, 0.61235, 1.00302, 0.38112, 0.88112, 0.2241, 0.20458, 0.20017, 0.16404, 0.19827, 0.72169, 94.9125, 95.98958, 96.64502, 0.29663, 0.36068, 0.85289, 2.56863, 1.59032, 1.1607, 0.38157, 0.2668, 0.35154, 0.3735, 0.27168, 0.68248, 1.27623, 0.27365, 0.29148, 0.17779, 0.99498, 0.45904, 0.33559, 0.8606, 1.00906, 5.58076, 0.1496, 0.3996, 0.4949, 0.62769, 0.748, 0.15425, 0.12519, 0.20064, 0.21772, 0.287, 1.14478, 0.37606, 0.71357, 0.25416, 0.41196, 0.44476, 0.69631, 1.01669, 0.48066, 0.47287, 0.54936, 0.26032, 0.72382, 0.18084, 0.43572, 0.90738, 0.31804, 0.3095, 0.70402, 0.59685, 0.48527, 0.54974, 1.92755, 0.28998, 1.279, 0.26028, 0.79618, 0.72589, 0.42118, 0.96332, 0.23833, 1.81486, 0.73209, 0.54459, 0.23519, 0.32894, 0.80858, 0.33514, 2.0384, 0.27729, 0.59444, 0.8054, 0.21785, 0.8772, 1.23662, 0.31001, 0.39124, 0.1647, 0.18422, 0.29993, 0.18666, 0.08681, 0.35023, 0.34976, 0.28895, 0.38223, 0.27872, 1.3896, 1.20219, 0.55993, 0.19272, 0.19582, 0.40988, 0.32392, 0.30417, 0.28953, 0.29732, 0.22204, 1.24425, 0.83322, 0.38324, 0.51603, 0.58632, 0.98319, 0.86598, 0.63944, 0.55348, 0.29724, 0.29879, 0.73471, 0.61168, 0.24644, 0.42221, 1.02581, 0.66611, 0.34582, 0.62313, 0.53914, 0.9376, 1.5977, 0.3659, 1.32367, 0.81119, 0.4315, 0.244, 4.46416, 1.28313, 0.1518, 0.72364, 0.36586, 0.42991, 0.3752, 0.98841, 0.24551, 0.40641, 1.45178, 0.28141, 0.25171, 0.28296, 0.46422, 0.22861, 0.27827, 0.17587, 0.79385, 0.34232, 1.15327, 0.25322, 0.25477, 1.10485, 0.44382, 0.31413, 0.56413, 0.76721, 1.8375, 0.16098, 0.92187, 0.24982, 0.42953, 0.33991, 0.34554, 0.35699, 0.27375, 0.19539, 0.28473, 0.37557, 0.32963, 2.14682, 0.87965, 0.29369, 1.13744, 1.55777, 0.91241, 0.27329, 0.2655, 1.72013, 0.98111, 0.3014, 0.0733, 0.18047, 0.17071, 0.62789, 0.39511, 0.24041, 0.3107, 0.73262, 0.89666, 0.39821, 0.49196, 0.46536, 2.65286, 0.30752, 0.3218, 0.28276, 0.40166, 0.33719, 0.77253, 0.54787, 0.98199, 0.80275, 0.78904, 0.87153, 1.47776, 0.22462, 1.67934, 0.38552, 0.94333, 0.78708, 0.50583, 0.98857, 0.47454, 0.29483, 0.62242, 0.44639, 0.24954, 0.15701, 0.12576, 0.87765, 1.72131, 0.32759, 3.43227, 0.75416, 0.98849, 0.20255, 0.9838, 0.26815, 0.64315, 0.76036, 0.3025, 0.73221, 0.52125, 0.29471, 0.95096, 1.15404, 0.30405, 0.8681, 0.43554, 0.35155, 0.39406, 0.27685, 0.28248, 0.20825, 0.34864, 0.46191, 0.22852, 0.89776, 0.48996, 1.76019, 0.31331, 0.41418, 1.53994, 2.07101, 2.15706, 0.18517, 0.12267, 0.24922, 1.10076, 1.15547, 0.23021, 0.24804, 0.24241, 0.22899, 0.49918, 1.146, 0.25697, 0.80544, 2.63042, 1.08979, 1.29296, 0.46631, 1.74595, 0.08494, 0.87724, 0.31629, 1.01782, 0.60998, 0.44594, 0.22874, 0.88937, 0.62567, 1.05341, 0.96285, 0.80707, 0.26803, 1.28952, 1.18404, 1.26221, 0.24044, 1.3066, 0.25995, 0.63495, 0.41771, 0.9255, 0.32551, 0.45051, 0.78802, 0.3036, 0.65514, 0.9911, 0.50987, 0.3067, 0.3692, 0.9317, 0.23796, 0.8098, 0.27231, 0.14472, 0.64886, 0.13374, 1.08636, 0.27696, 0.36602, 0.92852, 0.30817, 0.33942, 0.37222, 0.95818, 0.93472, 0.40347, 0.28002, 1.00501, 1.24722, 0.57061, 0.43003, 2.45818, 0.60027, 0.22918, 0.32049, 0.40692, 0.28314, 0.39472, 0.41424, 0.93356, 0.38862, 0.19671, 0.29656, 0.72678, 0.61745, 0.28459, 1.27731, 0.88144, 0.60798, 0.5299, 0.25799, 0.76858, 0.70608, 0.13299, 0.29079, 0.22829, 0.13454, 0.95014, 0.89543, 0.35639, 0.87985, 1.58302, 0.82045, 0.15129, 0.16593, 0.19352, 0.22721, 0.20891, 1.09692, 1.21422, 1.02672, 0.64694, 0.51415, 0.95475, 0.96254, 1.15783, 1.06417, 0.88756, 0.52345, 0.63287, 0.36251, 0.33126, 2.77345, 0.60472, 0.24061, 0.45936, 0.39062, 0.29842, 0.75938, 0.68132, 0.92156, 0.68714, 0.73988, 0.392, 0.48744, 0.89566, 0.79412, 0.71398, 0.79581, 0.73902, 0.49522, 0.89368, 0.40302, 1.09685, 1.81551, 0.97486, 0.74053, 0.27957, 0.36708, 0.10634, 0.14988, 1.32171, 3.01718, 0.90139, 0.94043, 0.44508, 1.57632, 0.31384, 0.50444, 1.27002, 0.67333, 0.88564, 0.95124, 0.50595, 2.58093, 1.46222, 0.94186, 0.1527, 0.34386, 0.39219, 0.26525, 0.3844, 0.45544, 1.91371, 0.41124, 0.2899, 0.31139, 0.26835, 0.72546, 0.2996, 0.23241, 1.10741, 0.7433, 0.96205, 0.89955, 0.36206, 0.91832, 1.05899, 0.60892, 0.42921, 0.26672, 0.76048, 0.39792, 0.87134, 0.21042, 0.18198, 0.14829, 0.74322, 0.14097, 0.17222, 0.36198, 1.25101, 0.19174, 0.21689, 0.91036, 0.34007, 2.22764, 0.58228, 0.74163, 0.30568, 0.07528, 0.50562, 0.27284, 0.56343, 0.27439, 0.33504, 0.88947, 0.99101, 0.4012, 0.43245, 1.66884, 0.76203, 0.3265, 1.07059, 1.02573, 1.04309, 0.84929, 0.79458, 0.51643, 0.75085, 1.67277, 0.25395, 0.068, 0.2258, 0.81955, 0.28981, 0.66481, 0.57106, 0.17072, 0.41791, 0.13703, 0.40977, 0.57726, 0.20381, 0.27096, 0.45377, 0.71156, 0.80531, 1.02406, 2.07107, 0.93234, 0.93961, 0.43461, 0.36235, 0.48904, 0.23857, 0.29056, 0.30717, 0.18949, 0.42973, 0.23613, 0.35916, 0.88809, 0.62862, 1.58179, 1.12862, 1.3865, 0.40518, 0.74893, 0.36614, 0.39894, 0.65049, 0.92395, 0.89072, 0.80674, 0.15204, 1.20511, 1.12703, 0.72078, 0.43484, 0.28014, 1.92236, 1.09419, 0.19925, 0.67856, 0.25664, 0.62385, 0.75699, 0.28944, 1.95981, 0.21999, 0.52231, 0.66599, 0.25195, 0.65351, 0.47535, 0.5366, 1.42688, 0.40661, 0.3519, 0.19565, 0.63315, 0.47066, 0.69096, 0.41126, 0.25811, 0.75187, 0.72841, 0.79401, 0.95805, 0.26276, 0.13776, 0.58305, 0.34987, 0.78737, 0.71314, 0.28127, 0.1482, 0.87089, 0.37258, 0.82566, 0.08936, 0.78615, 0.87838, 0.85492, 2.03162, 2.53941, 0.52206, 1.10023, 1.50648, 0.82208, 0.93141, 0.55641, 0.76268, 0.45018, 1.6923, 0.54703, 0.33138, 1.76109, 1.3158, 0.39086, 0.18968, 0.16528, 0.23754, 0.21258, 0.07763, 0.30633, 0.42974, 0.50313, 0.21409, 0.37034, 0.06834, 0.46719, 0.34684, 0.91089, 0.41089, 0.84839, 1.0906, 1.02022, 0.1562, 0.43745, 0.91545, 0.26438, 0.23069, 0.22459, 0.36864, 0.27658, 0.42063, 1.38584, 1.5968, 0.31881, 0.44365, 0.62805, 0.96711, 0.2905, 0.978, 0.2608, 1.04838, 1.36079, 0.57485, 0.82795, 1.99978, 1.01554, 1.12478, 0.56547, 1.05299, 0.22994, 0.13727, 0.91383, 2.63718, 0.58097, 0.76068, 0.79972, 1.02635, 1.47943, 0.39812, 0.09321, 0.39343, 1.01688, 0.17468, 0.42623, 0.30433, 0.74183, 0.7763, 0.95451, 1.06534, 0.6635, 2.20066, 0.6086, 0.56562, 0.81759, 1.09293, 1.68846, 5.47383, 2.57041, 0.8918, 5.072, 1.06832, 1.19332, 0.30894, 1.23077, 0.97608, 0.56983, 0.43235, 1.04168, 0.28075, 0.94634, 1.07143, 1.72759, 0.4104, 0.2854, 0.23942, 0.22234, 0.92917, 0.68276, 0.22478, 0.1071, 0.9791, 0.72131, 0.25566, 0.94157, 0.28687, 1.03532, 1.08994, 0.29621, 0.88217, 0.85871, 0.63996, 0.81498, 0.26182, 1.0571, 0.91962, 0.23212, 0.28838, 0.29582, 0.43546, 0.27724, 0.31581, 0.33561, 0.21671, 0.25528, 0.38563, 0.89147, 0.29772, 1.00868, 0.32428, 0.71017, 0.23673, 0.93202, 0.32579, 0.24965, 0.14417, 0.13807, 0.23182, 0.21033, 0.0995, 0.65069, 0.3038, 1.11785, 0.2506, 1.01463, 0.28185, 0.25215, 2.27251, 0.21621, 0.18651, 0.90681, 0.92054, 0.70911, 0.84481, 0.48304, 0.30699, 0.91444, 0.97694, 0.64098, 0.32435, 0.92983, 0.62087, 0.28801, 0.60051, 0.25986, 0.83803, 1.03332, 0.10202, 1.03952, 1.32856, 0.35512, 0.38323, 1.3036, 0.81449, 0.16758, 0.19297, 0.1666, 0.13413, 0.17068, 1.56759, 0.78944, 0.29409, 0.45189, 0.42998, 0.32844, 0.79405, 0.61434, 0.99713, 1.12532, 0.93304, 0.34894, 0.2977, 0.28963, 0.29329, 0.2657, 0.28644, 0.36508, 0.40853, 0.35213, 0.28841, 0.2439, 4.6, 0.34545, 0.6595, 0.09231, 0.31106, 0.31416, 0.53291, 1.98608, 0.5438, 0.21296, 0.97661, 0.06891, 0.78132, 0.28287, 0.34692, 0.13282, 1.17819, 0.22657, 1.1781, 1.2954, 0.59684, 0.13588, 0.48273, 0.3709, 0.87653, 0.83552, 0.73586, 0.96437, 0.26129, 0.76542, 0.26786, 1.17458, 1.07604, 0.29364, 1.18891, 0.35769, 0.72645, 0.8202, 0.42174, 0.83888, 0.29984, 0.93263, 0.42794, 0.61544, 0.93573, 0.86854, 0.61854, 0.27479, 0.2404, 1.03577, 0.22122, 0.16604, 0.22366, 0.12991, 0.18021, 0.18631, 1.19034, 0.74036, 0.27471, 0.71841, 1.03091, 0.8543, 0.25431, 0.66211, 0.25586, 1.08394, 0.12617, 0.25117, 0.3069, 0.29517, 0.33815, 0.34181, 0.32595, 0.37672, 0.22535, 0.40234, 0.25979, 0.68708, 0.25737, 1.1059, 0.51516, 0.91672, 0.59484, 0.16823, 0.67133, 0.51818, 0.24365, 0.18481, 0.2124, 0.11987, 0.12475, 1.12291, 1.8807, 0.5713, 2.41974, 0.9494, 0.27279, 0.10814, 0.65399, 0.30555, 0.86805, 0.48681, 0.30865, 0.5274, 0.39352, 0.75294, 0.90694, 0.52415, 0.33834, 0.49459, 0.63132, 0.25144, 0.91745, 0.8237, 0.74146, 0.33982, 0.18357, 0.77732, 0.27732, 0.37107, 0.67578, 0.22257, 0.28507, 0.22188, 0.38347, 0.25068, 0.68039, 0.81318, 0.16182, 1.81318, 1.76626, 0.18697, 0.56628, 0.50688, 0.88967, 0.79592, 0.28968, 1.01476, 1.29592, 1.28034, 0.93969, 0.35373, 1.4913, 0.50219, 0.94279, 0.5006, 0.71935, 0.54274, 1.00361, 0.23334, 0.20039, 0.2414, 0.43453, 0.29414, 0.15253, 0.45283, 0.29461, 0.26824, 0.27753, 0.36454, 1.04894, 2.0099, 1.02548, 0.4536, 0.42235, 0.33015, 1.03177, 0.65199, 0.1606, 0.29421, 0.9598, 0.45201, 1.03788, 2.15509, 2.42067, 0.73477, 0.11443, 0.33941, 0.64412, 0.23577, 0.53001, 0.6628, 0.24407, 0.27532, 0.33937, 1.58003, 1.07994, 1.28311, 1.57224, 0.50319, 0.25319, 0.82056, 0.68777, 0.30653, 0.22057, 2.38315, 0.53772, 1.02205, 0.20413, 0.12678, 0.87678, 0.80649, 0.55287, 0.78898, 2.02153, 3.44945, 0.27922, 0.83168, 0.56216, 0.78091, 1.82586, 1.05015, 2.89014, 2.38432, 3.90263, 0.34239, 1.20805, 0.31424, 0.34704, 5.39537, 0.28605, 0.99223, 0.35165, 0.2579, 1.16415, 1.75002, 0.33129, 0.58129, 0.29225, 0.30004, 0.51879, 0.26879, 0.22254, 0.23285, 0.1576, 1.42823, 0.88751, 1.12972, 0.48591, 0.32962, 0.33741, 0.26867, 1.43895, 0.83272, 0.27022, 0.21935, 0.26036, 0.24206, 0.31385, 0.25548, 0.49525, 1.29678, 0.2826, 0.26111, 0.30767, 0.65611, 2.43736, 0.58423, 0.95923, 0.84512, 0.57954, 0.98889, 1.06697, 0.66382, 0.18728, 0.75288, 0.58884, 0.44038, 0.27789, 1.03413, 0.15, 0.24375, 0.96535, 0.69499, 0.6247, 0.44809, 0.35434, 0.79963, 0.09604, 0.85275, 0.32305, 0.73864, 1.09806, 0.75741, 0.35116, 0.85116, 0.50741, 0.80597, 0.72395, 0.56554, 0.28232, 0.72761, 0.1805, 0.93829, 0.70396, 0.3619, 0.7506, 0.26361, 1.31522, 1.86205, 0.20421, 0.26826, 4.94004, 0.33231, 0.76512, 0.33696, 1.23387, 0.65101, 0.95572, 2.48387, 2.85887, 0.27287, 0.70413, 0.23249, 0.97281, 0.94156, 0.21832, 0.43532, 1.02752, 0.40562, 0.30408, 0.28217, 0.40093, 0.84622, 0.40248, 1.49468, 0.93528, 0.31028, 0.49146, 0.31338, 0.84463, 0.91802, 0.41333, 1.03833, 0.44852, 0.4854, 0.31742, 0.336, 0.37992, 0.2979, 1.10703, 0.36359, 0.3299, 0.63359, 0.8758, 0.468, 0.82419, 1.26948, 0.92104, 0.28825, 0.12138, 0.93981, 0.59606, 0.92414, 1.15077, 0.34916, 0.16945, 0.1382, 0.91476, 0.86784, 0.29755, 0.36315, 0.20096, 0.585, 0.29596, 0.24075, 0.16727, 0.22855, 0.97072, 0.47072, 0.76471, 0.26781, 0.98187, 1.09908, 1.09129, 0.92247, 0.33651, 0.74586, 0.42712, 0.48962, 0.68646, 0.33023, 0.80677, 0.93022, 1.02388, 1.04734, 0.30691, 0.75023, 1.1897, 1.34595, 1.6897, 1.5022, 0.78129, 1.05419, 1.03172, 0.37078, 0.87388, 0.46294, 0.81448, 0.38008, 1.02854, 0.88318, 0.9926, 0.77695, 0.2785, 1.44878, 0.20678, 0.28315, 0.82219, 0.17675, 1.36123, 0.28625, 0.47685, 1.01589, 0.3237, 0.98305, 0.97057, 1.05175, 0.44627, 0.40695, 0.33141, 0.42966, 0.3513, 0.15404, 0.28805, 0.38377, 0.27585, 0.45641, 0.66268, 0.45172, 0.23297, 1.0954, 0.59071, 0.77821, 0.48448, 1.81265, 1.07044, 1.06256, 0.51883, 2.78122, 3.78919, 0.30628, 0.20406, 0.21701, 0.33439, 1.22351, 1.00467, 0.89065, 0.59373, 0.81248, 0.31403, 0.59683, 0.89375, 1.925, 1.06558, 0.43589, 0.24839, 0.85473, 0.10909, 0.3062, 0.31554, 1.09524, 0.32019, 0.3452, 0.74521, 0.34736, 0.89813, 0.82784, 0.60515, 0.19477, 0.89982, 0.41352, 0.26703, 0.68304, 0.49141, 0.52956, 0.67324, 2.40465, 0.4795, 0.25296, 0.26075, 3.3734, 0.54355, 0.91855, 0.41386, 0.47636, 0.32166, 1.21388, 1.74504, 0.45131, 0.53258, 0.32317, 0.36221, 0.48721, 0.86376, 0.54347, 0.19402, 0.39032, 0.21307, 0.21551, 0.96061, 0.16765, 0.58399, 0.26997, 0.30277, 0.82154, 0.42308, 0.77772, 1.21522, 1.07455, 0.36678, 2.67627, 0.30583, 0.86209, 0.75267, 0.30738, 0.40268, 1.04959, 1.34642, 0.36364, 0.31048, 0.86519, 0.61519, 0.26989, 0.29312, 0.23184, 0.46889, 0.42497, 0.40226, 0.15836, 0.19815, 0.39372, 0.31705, 0.81668, 0.43389, 0.46514, 0.56668, 1.50108, 3.68088, 0.28074, 1.02295, 0.72913, 0.34634, 0.56509, 0.25414, 0.28694, 0.27915, 0.18695, 0.251, 0.90256, 0.80881, 0.51189, 1.14477, 0.28066, 0.5697, 0.2572, 0.35095, 0.16737, 0.25251, 0.31501, 0.10243, 0.85405, 1.12751, 1.00251, 0.91186, 0.44311, 0.81342, 0.26026, 1.7665, 1.2665, 0.25247, 0.48056, 1.29784, 0.32431, 0.75712, 0.32272, 2.03837, 0.16802, 0.75553, 0.80236, 1.11486, 1.09149, 0.94613, 0.57775, 1.21026, 1.0556, 3.48607, 0.86416, 1.07118, 4.57906, 0.90564, 8.58367, 9.91954, 1.02013, 11.63452, 9.11333, 0.61637, 0.26483, 0.35858, 12.67787, 10.60863, 0.38983, 13.97396, 0.54139, 0.55228, 0.36478, 0.10168, 0.27413, 0.33818, 1.50855, 3.00855, 0.11629, 0.74129, 0.49284, 0.97093, 0.21007, 0.45845, 0.14513, 0.24498, 0.94278, 0.3022, 0.63179, 0.11313, 0.46306, 0.27866, 0.76299, 0.5677, 3.99431, 0.97705, 0.98015, 0.31766, 0.30063, 0.38584, 0.31893, 0.37974, 0.28524, 0.36557, 0.202, 0.31921, 0.33066, 0.69421, 0.60046, 0.59728, 0.76132, 0.98317, 0.83312, 0.14973, 0.09455, 0.18586, 0.48623, 0.29101, 0.35351, 0.79101, 0.45653, 0.41904, 0.35809, 0.42838, 0.7909, 0.82994, 0.61429, 0.42834, 0.22518, 2.63775, 0.24394, 0.4877, 0.46424, 0.458, 1.1752, 0.8033, 0.43689, 0.74859, 0.89457, 0.52154, 0.60159, 0.24761, 0.77351, 0.87308, 0.93342, 0.99592, 0.89626, 0.5816, 1.00169, 0.8781, 0.247, 0.63289, 0.37041, 0.30946, 0.91096, 0.34846, 0.87971, 1.61404, 0.54685, 0.63281, 0.23954, 0.69062, 0.80783, 0.18924, 0.68593, 1.32182, 0.4474, 0.29115, 0.79987, 0.80607, 0.47706, 0.36257, 0.49733, 0.11623, 0.21852, 0.46852, 0.28102, 0.46805, 0.34108, 0.39945, 0.9733, 2.3483, 0.39199, 1.09662, 0.77164, 0.10328, 0.26695, 0.5513, 0.57476, 0.78094, 0.46375, 0.2295, 0.36531, 0.12036, 0.1106, 0.68091, 0.61372, 0.74651, 0.54175, 0.72925, 1.73704, 0.68552, 0.40427, 0.28861, 0.47142, 0.34797, 0.52464, 0.29416, 0.70041, 1.18089, 1.02267, 0.87205, 0.63575, 0.72556, 0.56203, 0.36792, 1.0229, 1.2104, 0.54167, 0.35572, 0.19637, 0.25883, 0.50883, 0.26038, 0.97289, 0.70722, 1.26972, 0.98378, 0.9713, 0.76813, 0.44939, 0.18014, 0.24264, 0.13791, 0.21017, 0.4181, 0.30395, 0.75079, 0.618, 2.48202, 0.18205, 0.36331, 0.67891, 0.30391, 0.33516, 0.40545, 0.40424, 0.32147, 0.27436, 0.3896, 0.21552, 0.25409, 0.40058, 0.12984, 0.26948, 0.31011, 0.5679, 2.04913, 0.18356, 0.5085, 1.04754, 1.10234, 0.86633, 1.0757, 0.75063, 0.43968, 0.19159, 0.20989, 0.21599, 0.18596, 0.92397, 0.81774, 0.87555, 0.87928, 0.60197, 0.65837, 0.39664, 0.56659, 0.78534, 0.65443, 0.60929, 0.62684, 0.72453, 0.9223, 0.27384, 0.58165, 1.01127, 1.44877, 0.20655, 0.56129, 0.1753, 0.09756, 0.56439, 0.79881, 1.68939, 0.24771, 0.19619, 0.40496, 0.23354, 1.2565, 0.65806, 0.28306, 0.21587, 0.50801, 0.85176, 0.31272, 0.12074, 0.40178, 1.1439, 0.60796, 0.95959, 0.64709, 0.35172, 0.12673, 0.82202, 0.90798, 0.69702, 0.41577, 1.4626, 1.0251, 0.37983, 0.25483, 0.71706, 0.29407, 0.23157, 0.33949, 0.24818, 0.32851, 0.4613, 0.14392, 0.25794, 0.30017, 0.31237, 0.90949, 0.29228, 0.44384, 0.47664, 1.17817, 1.18446, 0.52343, 0.12731, 0.13219, 0.22228, 0.15246, 0.60311, 0.94686, 0.5488, 1.24369, 0.23448, 0.84054, 0.76246, 2.58744, 0.56239, 0.74989, 0.26556, 1.01556, 0.67022, 0.39831, 0.86392, 0.78106, 0.27327, 0.53106, 0.65606, 0.58358, 0.73401, 0.41954, 0.28647, 0.33921, 0.99349, 1.04229, 3.25522, 0.54989, 0.41513, 0.65916, 1.06541, 3.5848, 0.21697, 0.77947, 0.96697, 0.28257, 0.25132, 4.92492, 1.17324, 0.44192, 0.61384, 0.68413, 0.41222, 0.21848, 0.96848, 0.50283, 2.77319, 0.49814, 0.25593, 0.52939, 1.02939, 1.27939, 1.17776, 0.19075, 0.53559, 0.24593, 0.89023, 0.29179, 0.22929, 0.82304, 1.04967, 0.19645, 0.32924, 0.26205, 0.86359, 0.48235, 0.88236, 1.08553, 0.83854, 0.49152, 0.48589, 0.35845, 0.28816, 0.3272, 0.77135, 0.45173, 0.26423, 0.28741, 0.92291, 0.27135, 0.32916, 1.4276, 0.17446, 1.83226, 0.91357, 1.97284, 0.76507, 0.52286, 0.26662, 0.5025, 0.29942, 0.20877, 0.46656, 0.57908, 0.78216, 0.96187, 0.30562, 0.24467, 1.10254, 0.24077, 0.17264, 0.13895, 0.31182, 0.40088, 0.37742, 0.44147, 0.94302, 0.31643, 0.47578, 0.37424, 0.32263, 0.38513, 0.75544, 0.76323, 0.8074, 0.41654, 0.2388, 0.78741, 0.6565, 0.90068, 0.75616, 0.72876, 0.41823, 0.35939, 0.66479, 1.02421, 0.7319, 0.2647, 1.03661, 0.94596, 0.20375, 0.36, 0.57406, 0.26156, 0.58185, 0.5506, 0.77245, 0.98341, 0.29746, 0.18409, 0.18897, 0.18165, 0.17114, 0.71305, 0.39586, 0.42711, 0.23961, 0.29432, 0.27396, 0.48492, 0.80521, 0.46301, 1.12559, 0.67552, 0.87391, 0.52547, 0.55203, 1.03636, 0.54734, 0.37542, 0.41429, 0.21337, 0.437, 0.37891, 0.40453, 0.27221, 1.01131, 0.49096, 0.37647, 0.80354, 0.83479, 0.28008, 0.34103, 0.96599, 0.87224, 0.57373, 0.73508, 0.66279, 0.3128, 1.54558, 0.41434, 1.20971, 0.31435, 0.12497, 0.77841, 0.3487, 0.26274, 0.09616, 0.2565, 1.12207, 0.93776, 0.73459, 0.58144, 0.50646, 0.56896, 0.25646, 0.44706, 0.70485, 0.38456, 1.05639, 1.36889, 0.32516, 0.29391, 0.78612, 0.17201, 1.00797, 1.04701, 0.6204, 0.26886, 0.373, 0.36615, 0.82195, 0.83762, 0.30243, 1.08171, 1.10517, 0.47407, 0.41157, 0.93109, 1.12844, 1.03763, 0.80631, 0.26882, 0.39692, 1.04374, 0.21097, 0.53436, 0.71407, 0.57659, 0.49063, 1.04065, 0.55154, 0.65308, 0.2282, 0.23139, 1.14839, 0.30774, 0.67272, 0.37179, 0.93584, 0.15459, 0.90459, 0.84829, 0.80925, 1.36387, 1.72329, 0.96081, 0.2842, 0.4717, 0.5373, 0.19355, 0.3186, 0.32486, 0.48674, 0.25823, 0.29117, 0.3654, 0.33171, 0.35123, 0.36052, 0.37028, 0.28826, 0.57475, 1.23569, 0.19661, 0.23096, 0.66222, 0.38562, 0.88717, 0.29342, 0.26996, 1.54342, 0.67152, 0.32777, 0.17959, 0.42462, 0.61212, 0.17837, 0.36367, 0.60743, 0.54803, 0.73863, 0.68392, 0.88709, 0.59017, 0.10658, 0.99173, 0.50262, 0.37293, 0.84947, 1.28697, 0.81353, 0.92295, 0.65728, 0.5167, 0.74331, 0.76452, 0.49697, 0.22914, 0.78385, 0.934, 0.88877, 0.26527, 0.54455, 0.93616, 1.06663, 0.74944, 0.5229, 0.28379, 0.49475, 1.11187, 0.72439, 0.25564, 0.09607, 0.53999, 0.28375, 0.3478, 0.34311, 0.28216, 0.3212, 0.40871, 0.729, 0.21422, 0.16833, 0.32585, 0.2008, 0.82585, 0.28991, 0.53212, 0.54611, 0.88986, 0.47582, 0.28987, 0.29142, 0.38672, 1.65084, 0.88827, 0.04258, 0.96166, 0.85233, 0.97733, 0.36322, 0.76947, 0.26947, 0.40219, 0.46835, 0.27109, 0.29427, 0.30722, 0.34776, 0.27428, 0.28648, 0.27597, 0.34532, 1.65545, 0.36473, 1.18511, 1.41935, 0.71937, 0.93812, 0.39908, 0.27563, 0.96778, 0.96309, 0.53338, 1.04117, 0.5834, 0.21638, 1.024, 1.98496, 0.93335, 0.31614, 0.2771, 0.3099, 0.81924, 0.63174, 0.1255, 1.48337, 7.75833, 0.25046, 0.15981, 0.59262, 0.56916, 0.95195, 0.86165, 0.79915, 1.52954, 3.73656, 0.92387, 0.3106, 1.03911, 0.84551, 0.27325, 0.78695, 2.19686, 2.43447, 3.96769, 6.85714, 5.33275, 0.47537, 7.20924, 0.88007, 0.84723, 0.85812, 0.82687, 1.241, 2.23321, 0.45652, 0.39402, 0.45807, 0.27212, 0.35808, 0.21244, 0.92523, 0.17387, 0.39398, 0.20803, 0.65487, 0.57989, 0.33923, 1.16576, 0.24079, 0.30639, 0.62044, 0.86575, 1.03767, 0.9626, 0.28151, 0.24979, 0.17434, 0.303, 0.8407, 0.43729, 0.33744, 0.81724, 0.2847, 0.32008, 0.1578, 0.94534, 0.30631, 0.93286, 0.5437, 0.94526, 0.82026, 0.76555, 0.41556, 1.08593, 1.10151, 1.11718, 0.19264, 0.2466, 0.15773, 0.23853, 0.88896, 0.24904, 1.06088, 1.52963, 2.16233, 0.84833, 0.69987, 1.27025, 1.3015, 0.85922, 0.12085, 0.82328, 0.38578, 0.03564, 0.29823, 1.18881, 1.24361, 0.87451, 0.26124, 0.7573, 0.99341, 0.14769, 0.51096, 0.92678, 0.3076, 0.78611, 0.87207, 0.39818, 0.30598, 1.03717, 0.33095, 0.91846, 0.67625, 0.1778, 1.69183, 0.17935, 0.92466, 10.51503, 0.7134, 0.21066, 0.10837, 0.16233, 0.93086, 0.33711, 1.00894, 0.848, 0.61677, 1.0386, 0.94795, 0.51045, 0.52922, 1.06826, 0.90732, 0.19012, 0.44167, 0.75417, 0.22447, 1.426, 0.56977, 0.2695, 0.40914, 0.30366, 0.44602, 0.30122, 0.33688, 0.49557, 0.33322, 0.65883, 0.27851, 0.66662, 0.70097, 0.26502, 0.51967, 0.20248, 0.50719, 0.29623, 1.77286, 0.35559, 0.52428, 0.58678, 0.22455, 0.5118, 0.22943, 0.17181, 0.2497, 0.36644, 0.42425, 0.3305, 0.48675, 0.1758, 0.60069, 0.4054, 0.90071, 0.79362, 0.48309, 0.85809, 0.57684, 1.01631, 0.26603, 0.85199, 0.22502, 0.82656, 0.28752, 1.00402, 0.53191, 0.25221, 0.37097, 0.74597, 0.22557, 0.05826, 0.28183, 0.43808, 3.03333, 0.85522, 0.51147, 0.22793, 0.25678, 0.81928, 0.54582, 1.09265, 0.32548, 1.00519, 0.91454, 0.75829, 0.26139, 0.6286, 2.66773, 0.33009, 0.14259, 0.14569, 0.17694, 0.33319, 0.22352, 0.28236, 0.30507, 0.36754, 0.48694, 0.33679, 1.53937, 0.32046, 0.47352, 0.73006, 0.92535, 1.49254, 1.7097, 1.96758, 0.2753, 0.45811, 1.11436, 1.37215, 0.39871, 0.30806, 0.80806, 0.33931, 0.22765, 0.43926, 0.1842, 0.23816, 0.50486, 0.15487, 0.43922, 0.44077, 1.1157, 0.34755, 0.80949, 0.73132, 0.41103, 0.41413, 0.22663, 0.83773, 0.51547, 0.1461, 0.81408, 0.76331, 0.87461, 0.85509, 0.44274, 0.53255, 0.67904, 0.32348, 1.28444, 0.31724, 0.51408, 0.85004, 1.33136, 0.22814, 0.10469, 1.30631, 1.00151, 1.14218, 0.35624, 1.31401, 0.96088, 0.39059, 0.35934, 0.32809, 0.30149, 0.88121, 1.0765, 0.20663, 0.19246, 0.24764, 0.20297, 1.15308, 1.10616, 0.67486, 1.37015, 1.04207, 0.63892, 0.08088, 0.27636, 0.51267, 0.87945, 0.84041, 0.61387, 0.21696, 0.86697, 0.61697, 0.9138, 0.30447, 0.24507, 0.31536, 0.326, 0.39216, 0.3824, 0.15192, 0.38043, 0.26838, 0.14338, 0.24689, 1.02154, 0.35528, 0.77163, 0.31532, 0.65283, 0.97312, 1.86379, 0.28093, 0.29027, 0.84963, 0.38398, 0.34494, 0.26053, 1.34494, 0.41833, 0.59804, 0.18242, 0.19584, 0.32144, 0.19799, 2.20259, 0.71068, 0.52138, 0.3511, 1.21676, 1.15417, 1.04484, 0.54794, 0.77448, 1.01359, 1.02147, 0.73075, 0.1073, 0.85106, 2.45729, 1.0807, 0.30255, 0.85726, 0.3963, 0.2713, 0.3041, 0.95101, 0.64554, 0.89357, 0.85453, 0.85059, 0.51078, 1.26444, 1.04757, 2.29363, 3.58858, 0.5943, 1.40971, 2.6842, 2.07132, 0.11501, 0.66817, 1.11656, 0.58062, 0.98687, 0.24466, 0.68995, 0.40401, 0.37276, 0.92747, 0.31026, 0.34306, 0.89773, 0.14723, 0.94766, 0.22071, 0.21583, 0.19997, 0.31487, 0.82266, 0.62268, 0.59143, 0.83984, 0.54292, 0.59294, 0.35073, 0.57727, 0.37419, 0.28978, 0.96325, 0.5007, 0.16309, 0.27223, 0.36598, 0.38353, 0.3596, 0.27758, 0.73813, 1.01938, 1.4413, 0.47118, 0.76469, 2.17554, 0.28815, 0.86464, 0.4506, 0.4537, 1.21158, 0.94901, 0.35526, 0.48026, 0.38806, 0.63961, 1.53807, 0.45676, 0.33176, 0.15793, 0.36456, 0.1782, 0.24924, 0.24111, 1.01302, 1.19264, 0.27236, 0.8442, 0.29737, 0.36921, 0.30826, 0.80826, 0.39422, 0.53383, 0.58172, 0.27232, 0.65042, 1.02542, 0.81756, 0.31132, 0.70354, 1.75816, 1.1097, 0.51914, 0.68318, 0.30973, 0.73066, 0.88109, 0.38888, 0.75609, 0.31465, 0.2712, 0.6462, 0.7849, 0.31784, 0.27486, 0.89724, 0.77534, 0.69717, 2.11608, 0.30814, 0.92971, 3.72532, 0.60652, 0.47373, 0.78933, 0.75808, 0.53464, 0.52685, 0.25339, 0.25494, 1.58147, 0.41119, 0.41274, 0.25649, 0.82678, 1.11892, 0.4424, 0.85684, 0.25645, 0.16694, 0.23066, 0.29235, 0.4814, 0.75172, 0.50172, 0.3626, 0.17041, 1.75473, 0.66417, 0.17196, 1.30785, 0.9672, 0.39691, 0.33596, 0.30902, 0.47672, 0.27336, 0.30827, 0.27289, 0.4069, 0.20964, 0.46452, 0.23723, 0.26116, 0.67657, 0.80157, 0.42502, 0.24527, 0.48748, 0.83902, 0.85779, 0.64993, 2.21721, 0.24988, 0.46239, 0.22916, 0.31703, 1.22961, 0.31389, 0.19199, 0.9373, 0.3748, 1.20297, 0.63879, 1.97475, 0.1966, 0.51698, 0.81775, 0.93102, 0.41516, 0.76285, 0.36636, 0.22353, 0.85829, 0.82507, 1.22738, 1.18036, 1.23883, 0.3278, 0.44656, 0.69811, 5.34037, 0.75122, 0.86835, 0.39181, 1.95431, 1.61835, 1.03239, 1.68864, 2.0246, 0.69493, 1.03868, 0.76832, 0.20737, 0.24671, 0.71202, 0.36827, 0.43232, 0.73079, 0.79329, 1.43387, 0.59322, 0.98389, 0.53382, 0.27603, 0.34008, 0.27913, 0.55259, 2.14324, 0.37443, 0.46973, 0.96194, 0.30724, 0.75408, 0.21504, 0.25408, 0.26379, 0.26135, 0.33361, 0.40587, 0.45786, 0.41685, 0.26623, 0.25009, 0.14414, 1.3666, 0.84314, 0.66653, 0.65874, 3.9291, 0.41184, 0.63838, 0.69309, 1.10722, 1.09934, 0.28215, 0.57429, 1.14458, 8.88209, 0.87431, 0.51489, 0.81491, 0.79924, 1.84616, 0.26485, 0.20833, 0.16976, 0.79765, 0.20955, 0.2164, 0.66486, 0.94142, 0.25702, 0.20231, 1.66327, 0.79916, 6.84448, 0.08821, 0.53668, 0.80536, 2.23188, 0.33192, 0.26318, 0.35693, 0.23972, 0.32282, 0.76811, 0.43609, 0.81719, 0.46124, 0.83042, 0.62922, 0.58821, 0.62725, 0.73057, 0.36468, 0.30528, 0.70374, 0.30059, 5.31484, 0.39589, 6.45524, 0.42869, 1.79581, 0.58025, 0.28019, 1.76297, 0.49894, 1.38027, 0.78174, 0.33645, 1.14576, 0.3052, 0.31454, 0.18799, 0.15972, 0.21002, 0.53484, 0.65984, 0.18487, 0.3411, 1.40205, 0.83176, 0.47544, 0.28794, 0.67861, 0.2489, 0.3739, 0.22075, 0.88789, 0.76599, 0.3207, 0.28166, 0.37696, 0.15976, 0.90976, 0.31601, 0.2941, 0.35036, 0.44411, 0.32066, 1.09248, 1.35815, 0.32207, 0.31752, 0.28885, 0.42239, 0.39358, 0.23489, 0.30715, 0.25028, 0.45974, 0.25812, 0.8956, 2.37214, 0.51122, 0.83151, 0.85497, 0.35497, 0.35652, 1.01122, 1.05026, 0.77211, 0.66278, 0.30199, 0.77831, 0.68456, 0.36582, 0.45957, 3.12693, 0.75804, 0.63304, 0.33612, 0.67518, 0.55797, 0.13551, 0.18825, 1.0377, 0.55638, 0.50167, 0.30169, 0.37198, 0.76265, 0.42669, 0.24074, 0.99229, 0.96883, 0.39854, 0.9251, 0.94378, 0.3985, 0.25159, 0.6813, 0.50159, 1.76726, 0.2469}'"
      ]
     },
     "execution_count": 100,
     "metadata": {},
     "output_type": "execute_result"
    }
   ],
   "source": [
    "str(set(pp1))"
   ]
  },
  {
   "cell_type": "code",
   "execution_count": 98,
   "id": "fd1854bb-4e3c-4f02-b70e-f873464e9639",
   "metadata": {},
   "outputs": [
    {
     "data": {
      "text/plain": [
       "{1.2296}"
      ]
     },
     "execution_count": 98,
     "metadata": {},
     "output_type": "execute_result"
    }
   ],
   "source": [
    "set(pp_pretrainer1) - set(intersection(pp1, pp_pretrainer1))"
   ]
  },
  {
   "cell_type": "code",
   "execution_count": 87,
   "id": "24486cb0-6425-45de-821d-2e17cb784755",
   "metadata": {},
   "outputs": [
    {
     "data": {
      "text/plain": [
       "array([ 1.        ,  0.        , 11.63451715,  0.22121542,  0.84419714,\n",
       "        0.93342116,  0.92677943,  0.58165196,  0.75171961,  0.32179856,\n",
       "        0.27732304,  0.21243842,  0.20964285,         nan,  0.95804793,\n",
       "        0.31384933,  0.36791735,  0.40226057,  0.2302072 ,  0.36321861,\n",
       "        0.18197614,  0.49490243,  0.14828743,  0.88716823,  0.44365416,\n",
       "        0.36189771,  0.32515963,  0.28183235,  0.30063328,  0.29141537,\n",
       "        0.27757595,  0.2821569 ,  3.48606818,  2.86111117,  1.0529885 ,\n",
       "        0.29581839,  0.28065562,  0.28236078,  0.26525031,  0.25547756,\n",
       "        0.25143773,  0.18408667,  0.27413396,  1.10254411,  1.40970718,\n",
       "        1.05639076,  0.67323734,  0.58499637,  0.70911098,  0.54274014,\n",
       "        0.63358624,  0.58025429,  1.03576792,  1.18970375,  1.21026009,\n",
       "        2.57041473,  0.87928387,  0.72381737,  0.71016917,  0.3645418 ,\n",
       "        0.30699276,  0.27865748,  0.26124272,  0.89775551,  0.49813791,\n",
       "        0.32271967,  0.3398186 ,  0.37293297,  0.29056203,  0.25009226,\n",
       "        0.41332704,  0.27326664,  0.9512357 ,  0.48743722,  0.41195578,\n",
       "        0.40423979,  0.32595151,  0.34893634,  0.3453232 ,  0.32962412,\n",
       "        0.4118414 ,  1.02012795,  0.97129556,  0.86463803,  0.78614567,\n",
       "        0.38346625,  0.14609524,  0.12518585,  0.12138356,  0.12730978,\n",
       "        0.91745284,  1.34594805,  0.53258028,  0.76202804,  2.68420484,\n",
       "        1.68969735,  0.41040181,  0.41516265,  1.21387654,  0.41654322])"
      ]
     },
     "execution_count": 87,
     "metadata": {},
     "output_type": "execute_result"
    }
   ],
   "source": [
    "pp[:100]"
   ]
  },
  {
   "cell_type": "code",
   "execution_count": 10,
   "id": "409f1690",
   "metadata": {},
   "outputs": [],
   "source": [
    "pd.set_option('display.max_colwidth', None)\n",
    "pd.set_option('display.max_rows',5)"
   ]
  },
  {
   "cell_type": "code",
   "execution_count": null,
   "id": "f60e3fd9-81a2-4b90-8f52-04ef40063692",
   "metadata": {},
   "outputs": [],
   "source": []
  },
  {
   "cell_type": "code",
   "execution_count": 11,
   "id": "82860359-d5c7-49fd-b316-113adb6157d4",
   "metadata": {},
   "outputs": [],
   "source": [
    "from ipywidgets import interact, interactive, fixed\n",
    "import ipywidgets as widgets"
   ]
  },
  {
   "cell_type": "code",
   "execution_count": 12,
   "id": "211e8768-bdaa-4ffe-a206-156b990a2010",
   "metadata": {},
   "outputs": [],
   "source": [
    "pd.set_option('display.max_colwidth', None)\n",
    "pd.set_option('display.max_rows',40)"
   ]
  },
  {
   "cell_type": "code",
   "execution_count": 13,
   "id": "4d710832",
   "metadata": {},
   "outputs": [
    {
     "data": {
      "text/html": [
       "<div>\n",
       "<style scoped>\n",
       "    .dataframe tbody tr th:only-of-type {\n",
       "        vertical-align: middle;\n",
       "    }\n",
       "\n",
       "    .dataframe tbody tr th {\n",
       "        vertical-align: top;\n",
       "    }\n",
       "\n",
       "    .dataframe thead th {\n",
       "        text-align: right;\n",
       "    }\n",
       "</style>\n",
       "<table border=\"1\" class=\"dataframe\">\n",
       "  <thead>\n",
       "    <tr style=\"text-align: right;\">\n",
       "      <th></th>\n",
       "      <th>siteId</th>\n",
       "      <th>deviceName</th>\n",
       "      <th>placementId</th>\n",
       "      <th>displayRank</th>\n",
       "      <th>clickPropensity</th>\n",
       "      <th>purchasePropensity</th>\n",
       "      <th>n</th>\n",
       "      <th>bias1</th>\n",
       "      <th>biasK</th>\n",
       "      <th>propensity_pretrainer</th>\n",
       "      <th>propensity_impression_weights</th>\n",
       "    </tr>\n",
       "  </thead>\n",
       "  <tbody>\n",
       "    <tr>\n",
       "      <th>0</th>\n",
       "      <td>77</td>\n",
       "      <td>Browser: mWeb</td>\n",
       "      <td>101280</td>\n",
       "      <td>1</td>\n",
       "      <td>0.000040</td>\n",
       "      <td>0.000000</td>\n",
       "      <td>25212</td>\n",
       "      <td>0.000040</td>\n",
       "      <td>0.000040</td>\n",
       "      <td>1.000000</td>\n",
       "      <td>1.000000</td>\n",
       "    </tr>\n",
       "    <tr>\n",
       "      <th>1</th>\n",
       "      <td>77</td>\n",
       "      <td>Browser: mWeb</td>\n",
       "      <td>101280</td>\n",
       "      <td>2</td>\n",
       "      <td>0.000000</td>\n",
       "      <td>0.000000</td>\n",
       "      <td>1033</td>\n",
       "      <td>0.000040</td>\n",
       "      <td>0.000000</td>\n",
       "      <td>0.000000</td>\n",
       "      <td>NaN</td>\n",
       "    </tr>\n",
       "    <tr>\n",
       "      <th>2</th>\n",
       "      <td>77</td>\n",
       "      <td>Browser: mWeb</td>\n",
       "      <td>101280</td>\n",
       "      <td>3</td>\n",
       "      <td>0.000000</td>\n",
       "      <td>0.000000</td>\n",
       "      <td>628</td>\n",
       "      <td>0.000040</td>\n",
       "      <td>0.000000</td>\n",
       "      <td>0.000000</td>\n",
       "      <td>NaN</td>\n",
       "    </tr>\n",
       "    <tr>\n",
       "      <th>3</th>\n",
       "      <td>77</td>\n",
       "      <td>Browser: mWeb</td>\n",
       "      <td>101280</td>\n",
       "      <td>4</td>\n",
       "      <td>0.000000</td>\n",
       "      <td>0.000000</td>\n",
       "      <td>1347</td>\n",
       "      <td>0.000040</td>\n",
       "      <td>0.000000</td>\n",
       "      <td>0.000000</td>\n",
       "      <td>NaN</td>\n",
       "    </tr>\n",
       "    <tr>\n",
       "      <th>4</th>\n",
       "      <td>77</td>\n",
       "      <td>Browser: mWeb</td>\n",
       "      <td>101280</td>\n",
       "      <td>5</td>\n",
       "      <td>0.000461</td>\n",
       "      <td>0.000000</td>\n",
       "      <td>6501</td>\n",
       "      <td>0.000040</td>\n",
       "      <td>0.000461</td>\n",
       "      <td>11.634517</td>\n",
       "      <td>0.085951</td>\n",
       "    </tr>\n",
       "    <tr>\n",
       "      <th>...</th>\n",
       "      <td>...</td>\n",
       "      <td>...</td>\n",
       "      <td>...</td>\n",
       "      <td>...</td>\n",
       "      <td>...</td>\n",
       "      <td>...</td>\n",
       "      <td>...</td>\n",
       "      <td>...</td>\n",
       "      <td>...</td>\n",
       "      <td>...</td>\n",
       "      <td>...</td>\n",
       "    </tr>\n",
       "    <tr>\n",
       "      <th>6980</th>\n",
       "      <td>3</td>\n",
       "      <td>Apps: iPhone</td>\n",
       "      <td>101514</td>\n",
       "      <td>7</td>\n",
       "      <td>0.002486</td>\n",
       "      <td>0.000071</td>\n",
       "      <td>14077</td>\n",
       "      <td>0.002716</td>\n",
       "      <td>0.002486</td>\n",
       "      <td>0.915454</td>\n",
       "      <td>1.092354</td>\n",
       "    </tr>\n",
       "    <tr>\n",
       "      <th>6981</th>\n",
       "      <td>3</td>\n",
       "      <td>Apps: iPhone</td>\n",
       "      <td>101514</td>\n",
       "      <td>8</td>\n",
       "      <td>0.002172</td>\n",
       "      <td>0.000080</td>\n",
       "      <td>12431</td>\n",
       "      <td>0.002716</td>\n",
       "      <td>0.002172</td>\n",
       "      <td>0.799717</td>\n",
       "      <td>1.250443</td>\n",
       "    </tr>\n",
       "    <tr>\n",
       "      <th>6982</th>\n",
       "      <td>3</td>\n",
       "      <td>Apps: iPhone</td>\n",
       "      <td>101514</td>\n",
       "      <td>9</td>\n",
       "      <td>0.000000</td>\n",
       "      <td>0.000000</td>\n",
       "      <td>9</td>\n",
       "      <td>0.002716</td>\n",
       "      <td>0.000000</td>\n",
       "      <td>0.000000</td>\n",
       "      <td>NaN</td>\n",
       "    </tr>\n",
       "    <tr>\n",
       "      <th>6983</th>\n",
       "      <td>3</td>\n",
       "      <td>Apps: iPhone</td>\n",
       "      <td>101514</td>\n",
       "      <td>10</td>\n",
       "      <td>0.000000</td>\n",
       "      <td>0.000000</td>\n",
       "      <td>3</td>\n",
       "      <td>0.002716</td>\n",
       "      <td>0.000000</td>\n",
       "      <td>0.000000</td>\n",
       "      <td>NaN</td>\n",
       "    </tr>\n",
       "    <tr>\n",
       "      <th>6984</th>\n",
       "      <td>3</td>\n",
       "      <td>Apps: iPhone</td>\n",
       "      <td>101514</td>\n",
       "      <td>13</td>\n",
       "      <td>0.000000</td>\n",
       "      <td>0.000000</td>\n",
       "      <td>1</td>\n",
       "      <td>0.002716</td>\n",
       "      <td>0.000000</td>\n",
       "      <td>0.000000</td>\n",
       "      <td>NaN</td>\n",
       "    </tr>\n",
       "  </tbody>\n",
       "</table>\n",
       "<p>6985 rows × 11 columns</p>\n",
       "</div>"
      ],
      "text/plain": [
       "      siteId     deviceName  placementId  displayRank  clickPropensity  \\\n",
       "0         77  Browser: mWeb       101280            1         0.000040   \n",
       "1         77  Browser: mWeb       101280            2         0.000000   \n",
       "2         77  Browser: mWeb       101280            3         0.000000   \n",
       "3         77  Browser: mWeb       101280            4         0.000000   \n",
       "4         77  Browser: mWeb       101280            5         0.000461   \n",
       "...      ...            ...          ...          ...              ...   \n",
       "6980       3   Apps: iPhone       101514            7         0.002486   \n",
       "6981       3   Apps: iPhone       101514            8         0.002172   \n",
       "6982       3   Apps: iPhone       101514            9         0.000000   \n",
       "6983       3   Apps: iPhone       101514           10         0.000000   \n",
       "6984       3   Apps: iPhone       101514           13         0.000000   \n",
       "\n",
       "      purchasePropensity      n     bias1     biasK  propensity_pretrainer  \\\n",
       "0               0.000000  25212  0.000040  0.000040               1.000000   \n",
       "1               0.000000   1033  0.000040  0.000000               0.000000   \n",
       "2               0.000000    628  0.000040  0.000000               0.000000   \n",
       "3               0.000000   1347  0.000040  0.000000               0.000000   \n",
       "4               0.000000   6501  0.000040  0.000461              11.634517   \n",
       "...                  ...    ...       ...       ...                    ...   \n",
       "6980            0.000071  14077  0.002716  0.002486               0.915454   \n",
       "6981            0.000080  12431  0.002716  0.002172               0.799717   \n",
       "6982            0.000000      9  0.002716  0.000000               0.000000   \n",
       "6983            0.000000      3  0.002716  0.000000               0.000000   \n",
       "6984            0.000000      1  0.002716  0.000000               0.000000   \n",
       "\n",
       "      propensity_impression_weights  \n",
       "0                          1.000000  \n",
       "1                               NaN  \n",
       "2                               NaN  \n",
       "3                               NaN  \n",
       "4                          0.085951  \n",
       "...                             ...  \n",
       "6980                       1.092354  \n",
       "6981                       1.250443  \n",
       "6982                            NaN  \n",
       "6983                            NaN  \n",
       "6984                            NaN  \n",
       "\n",
       "[6985 rows x 11 columns]"
      ]
     },
     "execution_count": 13,
     "metadata": {},
     "output_type": "execute_result"
    }
   ],
   "source": [
    "pdf1"
   ]
  },
  {
   "cell_type": "code",
   "execution_count": 46,
   "id": "96a42711-07ce-486f-84fd-69fde36a5d76",
   "metadata": {},
   "outputs": [
    {
     "data": {
      "text/plain": [
       "['Browser: mWeb',\n",
       " 'Apps: iPhone',\n",
       " 'Apps: Android',\n",
       " 'Apps: iPad',\n",
       " 'Apps: Other',\n",
       " 'Browser: Core site',\n",
       " 'Browser: Other',\n",
       " 'Browser: Half.com']"
      ]
     },
     "execution_count": 46,
     "metadata": {},
     "output_type": "execute_result"
    }
   ],
   "source": [
    "experience=pdf1[\"deviceName\"].unique().tolist()\n",
    "experience"
   ]
  },
  {
   "cell_type": "code",
   "execution_count": 14,
   "id": "f4ca2167-4cd3-4369-9dcc-21002ceee675",
   "metadata": {},
   "outputs": [],
   "source": [
    "experience=['Browser: mWeb',\n",
    " 'Apps: iPhone',\n",
    " 'Apps: Android',\n",
    " 'Apps: iPad',\n",
    " 'Browser: Core site']"
   ]
  },
  {
   "cell_type": "code",
   "execution_count": 15,
   "id": "bd958a4b-426f-4844-84bc-cf149546bbe4",
   "metadata": {},
   "outputs": [],
   "source": [
    "experience.sort()"
   ]
  },
  {
   "cell_type": "raw",
   "id": "013ec1b7-584d-4df9-bbd7-7105e8c03396",
   "metadata": {},
   "source": [
    "['Apps: Android',\n",
    " 'Apps: Other',\n",
    " 'Apps: iPad',\n",
    " 'Apps: iPhone',\n",
    " 'Browser: Core site',\n",
    " 'Browser: mWeb']"
   ]
  },
  {
   "cell_type": "code",
   "execution_count": 16,
   "id": "b8acb992-1311-4231-8cad-64c5a136417d",
   "metadata": {},
   "outputs": [],
   "source": [
    "pdf1['numClicks']=pdf1['n']*pdf1['clickPropensity']"
   ]
  },
  {
   "cell_type": "code",
   "execution_count": 24,
   "id": "54e2efb1-8c7b-4620-aae1-88829b6c0b3c",
   "metadata": {},
   "outputs": [
    {
     "data": {
      "text/plain": [
       "[1, 2, 3, 4, 5, 6, 7, 8, 9, 10]"
      ]
     },
     "execution_count": 24,
     "metadata": {},
     "output_type": "execute_result"
    }
   ],
   "source": [
    "rank= list(range(1, 11))\n",
    "rank"
   ]
  },
  {
   "cell_type": "code",
   "execution_count": 28,
   "id": "cf7832cc-61e8-485b-b111-cc1ef691ef53",
   "metadata": {},
   "outputs": [],
   "source": [
    "pdf1=pdf1[pdf1['displayRank'].isin(rank)]"
   ]
  },
  {
   "cell_type": "code",
   "execution_count": 29,
   "id": "c0f22b79-145b-4558-ac9e-25f6f3b51e88",
   "metadata": {},
   "outputs": [
    {
     "data": {
      "text/html": [
       "<div>\n",
       "<style scoped>\n",
       "    .dataframe tbody tr th:only-of-type {\n",
       "        vertical-align: middle;\n",
       "    }\n",
       "\n",
       "    .dataframe tbody tr th {\n",
       "        vertical-align: top;\n",
       "    }\n",
       "\n",
       "    .dataframe thead th {\n",
       "        text-align: right;\n",
       "    }\n",
       "</style>\n",
       "<table border=\"1\" class=\"dataframe\">\n",
       "  <thead>\n",
       "    <tr style=\"text-align: right;\">\n",
       "      <th></th>\n",
       "      <th>siteId</th>\n",
       "      <th>deviceName</th>\n",
       "      <th>placementId</th>\n",
       "      <th>displayRank</th>\n",
       "      <th>clickPropensity</th>\n",
       "      <th>purchasePropensity</th>\n",
       "      <th>n</th>\n",
       "      <th>bias1</th>\n",
       "      <th>biasK</th>\n",
       "      <th>propensity_pretrainer</th>\n",
       "      <th>propensity_impression_weights</th>\n",
       "      <th>numClicks</th>\n",
       "    </tr>\n",
       "  </thead>\n",
       "  <tbody>\n",
       "    <tr>\n",
       "      <th>5206</th>\n",
       "      <td>0</td>\n",
       "      <td>Apps: Other</td>\n",
       "      <td>101251</td>\n",
       "      <td>1</td>\n",
       "      <td>0.002059</td>\n",
       "      <td>0.0</td>\n",
       "      <td>3885</td>\n",
       "      <td>0.002059</td>\n",
       "      <td>0.002059</td>\n",
       "      <td>1.000000</td>\n",
       "      <td>1.000000</td>\n",
       "      <td>8.0</td>\n",
       "    </tr>\n",
       "    <tr>\n",
       "      <th>5207</th>\n",
       "      <td>0</td>\n",
       "      <td>Apps: Other</td>\n",
       "      <td>101251</td>\n",
       "      <td>2</td>\n",
       "      <td>0.004587</td>\n",
       "      <td>0.0</td>\n",
       "      <td>218</td>\n",
       "      <td>0.002059</td>\n",
       "      <td>0.004587</td>\n",
       "      <td>2.227637</td>\n",
       "      <td>0.448906</td>\n",
       "      <td>1.0</td>\n",
       "    </tr>\n",
       "    <tr>\n",
       "      <th>5208</th>\n",
       "      <td>0</td>\n",
       "      <td>Apps: Other</td>\n",
       "      <td>101251</td>\n",
       "      <td>3</td>\n",
       "      <td>0.000000</td>\n",
       "      <td>0.0</td>\n",
       "      <td>106</td>\n",
       "      <td>0.002059</td>\n",
       "      <td>0.000000</td>\n",
       "      <td>0.000000</td>\n",
       "      <td>NaN</td>\n",
       "      <td>0.0</td>\n",
       "    </tr>\n",
       "    <tr>\n",
       "      <th>5209</th>\n",
       "      <td>0</td>\n",
       "      <td>Apps: Other</td>\n",
       "      <td>101251</td>\n",
       "      <td>4</td>\n",
       "      <td>0.000000</td>\n",
       "      <td>0.0</td>\n",
       "      <td>114</td>\n",
       "      <td>0.002059</td>\n",
       "      <td>0.000000</td>\n",
       "      <td>0.000000</td>\n",
       "      <td>NaN</td>\n",
       "      <td>0.0</td>\n",
       "    </tr>\n",
       "    <tr>\n",
       "      <th>5210</th>\n",
       "      <td>0</td>\n",
       "      <td>Apps: Other</td>\n",
       "      <td>101251</td>\n",
       "      <td>5</td>\n",
       "      <td>0.000000</td>\n",
       "      <td>0.0</td>\n",
       "      <td>94</td>\n",
       "      <td>0.002059</td>\n",
       "      <td>0.000000</td>\n",
       "      <td>0.000000</td>\n",
       "      <td>NaN</td>\n",
       "      <td>0.0</td>\n",
       "    </tr>\n",
       "    <tr>\n",
       "      <th>5211</th>\n",
       "      <td>0</td>\n",
       "      <td>Apps: Other</td>\n",
       "      <td>101251</td>\n",
       "      <td>6</td>\n",
       "      <td>0.000000</td>\n",
       "      <td>0.0</td>\n",
       "      <td>80</td>\n",
       "      <td>0.002059</td>\n",
       "      <td>0.000000</td>\n",
       "      <td>0.000000</td>\n",
       "      <td>NaN</td>\n",
       "      <td>0.0</td>\n",
       "    </tr>\n",
       "    <tr>\n",
       "      <th>5212</th>\n",
       "      <td>0</td>\n",
       "      <td>Apps: Other</td>\n",
       "      <td>101251</td>\n",
       "      <td>7</td>\n",
       "      <td>0.000000</td>\n",
       "      <td>0.0</td>\n",
       "      <td>98</td>\n",
       "      <td>0.002059</td>\n",
       "      <td>0.000000</td>\n",
       "      <td>0.000000</td>\n",
       "      <td>NaN</td>\n",
       "      <td>0.0</td>\n",
       "    </tr>\n",
       "    <tr>\n",
       "      <th>5213</th>\n",
       "      <td>0</td>\n",
       "      <td>Apps: Other</td>\n",
       "      <td>101251</td>\n",
       "      <td>8</td>\n",
       "      <td>0.000000</td>\n",
       "      <td>0.0</td>\n",
       "      <td>85</td>\n",
       "      <td>0.002059</td>\n",
       "      <td>0.000000</td>\n",
       "      <td>0.000000</td>\n",
       "      <td>NaN</td>\n",
       "      <td>0.0</td>\n",
       "    </tr>\n",
       "    <tr>\n",
       "      <th>5214</th>\n",
       "      <td>0</td>\n",
       "      <td>Apps: Other</td>\n",
       "      <td>101251</td>\n",
       "      <td>9</td>\n",
       "      <td>0.000000</td>\n",
       "      <td>0.0</td>\n",
       "      <td>78</td>\n",
       "      <td>0.002059</td>\n",
       "      <td>0.000000</td>\n",
       "      <td>0.000000</td>\n",
       "      <td>NaN</td>\n",
       "      <td>0.0</td>\n",
       "    </tr>\n",
       "    <tr>\n",
       "      <th>5215</th>\n",
       "      <td>0</td>\n",
       "      <td>Apps: Other</td>\n",
       "      <td>101251</td>\n",
       "      <td>10</td>\n",
       "      <td>0.000000</td>\n",
       "      <td>0.0</td>\n",
       "      <td>58</td>\n",
       "      <td>0.002059</td>\n",
       "      <td>0.000000</td>\n",
       "      <td>0.000000</td>\n",
       "      <td>NaN</td>\n",
       "      <td>0.0</td>\n",
       "    </tr>\n",
       "  </tbody>\n",
       "</table>\n",
       "</div>"
      ],
      "text/plain": [
       "      siteId   deviceName  placementId  displayRank  clickPropensity  \\\n",
       "5206       0  Apps: Other       101251            1         0.002059   \n",
       "5207       0  Apps: Other       101251            2         0.004587   \n",
       "5208       0  Apps: Other       101251            3         0.000000   \n",
       "5209       0  Apps: Other       101251            4         0.000000   \n",
       "5210       0  Apps: Other       101251            5         0.000000   \n",
       "5211       0  Apps: Other       101251            6         0.000000   \n",
       "5212       0  Apps: Other       101251            7         0.000000   \n",
       "5213       0  Apps: Other       101251            8         0.000000   \n",
       "5214       0  Apps: Other       101251            9         0.000000   \n",
       "5215       0  Apps: Other       101251           10         0.000000   \n",
       "\n",
       "      purchasePropensity     n     bias1     biasK  propensity_pretrainer  \\\n",
       "5206                 0.0  3885  0.002059  0.002059               1.000000   \n",
       "5207                 0.0   218  0.002059  0.004587               2.227637   \n",
       "5208                 0.0   106  0.002059  0.000000               0.000000   \n",
       "5209                 0.0   114  0.002059  0.000000               0.000000   \n",
       "5210                 0.0    94  0.002059  0.000000               0.000000   \n",
       "5211                 0.0    80  0.002059  0.000000               0.000000   \n",
       "5212                 0.0    98  0.002059  0.000000               0.000000   \n",
       "5213                 0.0    85  0.002059  0.000000               0.000000   \n",
       "5214                 0.0    78  0.002059  0.000000               0.000000   \n",
       "5215                 0.0    58  0.002059  0.000000               0.000000   \n",
       "\n",
       "      propensity_impression_weights  numClicks  \n",
       "5206                       1.000000        8.0  \n",
       "5207                       0.448906        1.0  \n",
       "5208                            NaN        0.0  \n",
       "5209                            NaN        0.0  \n",
       "5210                            NaN        0.0  \n",
       "5211                            NaN        0.0  \n",
       "5212                            NaN        0.0  \n",
       "5213                            NaN        0.0  \n",
       "5214                            NaN        0.0  \n",
       "5215                            NaN        0.0  "
      ]
     },
     "execution_count": 29,
     "metadata": {},
     "output_type": "execute_result"
    }
   ],
   "source": [
    "pdf1[(pdf1[\"placementId\"]==101251 ) & (pdf1[\"siteId\"]==0) & (pdf1[\"deviceName\"]=='Apps: Other') ].sort_values(by='displayRank')"
   ]
  },
  {
   "cell_type": "code",
   "execution_count": 3,
   "id": "0f5f2cb7-09f5-429d-9f0b-a24245382703",
   "metadata": {},
   "outputs": [
    {
     "data": {
      "text/plain": [
       "1.0711693548387098"
      ]
     },
     "execution_count": 3,
     "metadata": {},
     "output_type": "execute_result"
    }
   ],
   "source": [
    "0.005313/0.004960"
   ]
  },
  {
   "cell_type": "code",
   "execution_count": 4,
   "id": "5c4971d0-1882-4e51-8c8c-18ff0463b2bc",
   "metadata": {},
   "outputs": [
    {
     "data": {
      "text/plain": [
       "1.0711718727404969"
      ]
     },
     "execution_count": 4,
     "metadata": {},
     "output_type": "execute_result"
    }
   ],
   "source": [
    "1/0.933557\t"
   ]
  },
  {
   "cell_type": "code",
   "execution_count": 30,
   "id": "7ea94bc0-3959-4c64-8a36-2f9ba4503c4a",
   "metadata": {},
   "outputs": [
    {
     "data": {
      "text/html": [
       "<div>\n",
       "<style scoped>\n",
       "    .dataframe tbody tr th:only-of-type {\n",
       "        vertical-align: middle;\n",
       "    }\n",
       "\n",
       "    .dataframe tbody tr th {\n",
       "        vertical-align: top;\n",
       "    }\n",
       "\n",
       "    .dataframe thead th {\n",
       "        text-align: right;\n",
       "    }\n",
       "</style>\n",
       "<table border=\"1\" class=\"dataframe\">\n",
       "  <thead>\n",
       "    <tr style=\"text-align: right;\">\n",
       "      <th></th>\n",
       "      <th>siteId</th>\n",
       "      <th>deviceName</th>\n",
       "      <th>placementId</th>\n",
       "      <th>displayRank</th>\n",
       "      <th>clickPropensity</th>\n",
       "      <th>purchasePropensity</th>\n",
       "      <th>n</th>\n",
       "      <th>bias1</th>\n",
       "      <th>biasK</th>\n",
       "      <th>propensity_pretrainer</th>\n",
       "      <th>propensity_impression_weights</th>\n",
       "      <th>numClicks</th>\n",
       "    </tr>\n",
       "  </thead>\n",
       "  <tbody>\n",
       "    <tr>\n",
       "      <th>2448</th>\n",
       "      <td>0</td>\n",
       "      <td>Apps: Android</td>\n",
       "      <td>101251</td>\n",
       "      <td>1</td>\n",
       "      <td>0.005313</td>\n",
       "      <td>0.000076</td>\n",
       "      <td>39397571</td>\n",
       "      <td>0.005313</td>\n",
       "      <td>0.005313</td>\n",
       "      <td>1.000000</td>\n",
       "      <td>1.000000</td>\n",
       "      <td>209323.007538</td>\n",
       "    </tr>\n",
       "    <tr>\n",
       "      <th>2449</th>\n",
       "      <td>0</td>\n",
       "      <td>Apps: Android</td>\n",
       "      <td>101251</td>\n",
       "      <td>2</td>\n",
       "      <td>0.004960</td>\n",
       "      <td>0.000059</td>\n",
       "      <td>2769110</td>\n",
       "      <td>0.005313</td>\n",
       "      <td>0.004960</td>\n",
       "      <td>0.933557</td>\n",
       "      <td>1.071172</td>\n",
       "      <td>13734.999788</td>\n",
       "    </tr>\n",
       "    <tr>\n",
       "      <th>2450</th>\n",
       "      <td>0</td>\n",
       "      <td>Apps: Android</td>\n",
       "      <td>101251</td>\n",
       "      <td>3</td>\n",
       "      <td>0.002243</td>\n",
       "      <td>0.000032</td>\n",
       "      <td>1394407</td>\n",
       "      <td>0.005313</td>\n",
       "      <td>0.002243</td>\n",
       "      <td>0.422211</td>\n",
       "      <td>2.368483</td>\n",
       "      <td>3128.000131</td>\n",
       "    </tr>\n",
       "    <tr>\n",
       "      <th>2451</th>\n",
       "      <td>0</td>\n",
       "      <td>Apps: Android</td>\n",
       "      <td>101251</td>\n",
       "      <td>4</td>\n",
       "      <td>0.001866</td>\n",
       "      <td>0.000029</td>\n",
       "      <td>1395149</td>\n",
       "      <td>0.005313</td>\n",
       "      <td>0.001866</td>\n",
       "      <td>0.351161</td>\n",
       "      <td>2.847698</td>\n",
       "      <td>2602.999983</td>\n",
       "    </tr>\n",
       "    <tr>\n",
       "      <th>2452</th>\n",
       "      <td>0</td>\n",
       "      <td>Apps: Android</td>\n",
       "      <td>101251</td>\n",
       "      <td>5</td>\n",
       "      <td>0.001650</td>\n",
       "      <td>0.000020</td>\n",
       "      <td>1270127</td>\n",
       "      <td>0.005313</td>\n",
       "      <td>0.001650</td>\n",
       "      <td>0.310597</td>\n",
       "      <td>3.219611</td>\n",
       "      <td>2095.999940</td>\n",
       "    </tr>\n",
       "    <tr>\n",
       "      <th>2453</th>\n",
       "      <td>0</td>\n",
       "      <td>Apps: Android</td>\n",
       "      <td>101251</td>\n",
       "      <td>6</td>\n",
       "      <td>0.001535</td>\n",
       "      <td>0.000025</td>\n",
       "      <td>1175723</td>\n",
       "      <td>0.005313</td>\n",
       "      <td>0.001535</td>\n",
       "      <td>0.288951</td>\n",
       "      <td>3.460791</td>\n",
       "      <td>1804.999981</td>\n",
       "    </tr>\n",
       "    <tr>\n",
       "      <th>2454</th>\n",
       "      <td>0</td>\n",
       "      <td>Apps: Android</td>\n",
       "      <td>101251</td>\n",
       "      <td>7</td>\n",
       "      <td>0.001500</td>\n",
       "      <td>0.000022</td>\n",
       "      <td>1093332</td>\n",
       "      <td>0.005313</td>\n",
       "      <td>0.001500</td>\n",
       "      <td>0.282322</td>\n",
       "      <td>3.542058</td>\n",
       "      <td>1640.000051</td>\n",
       "    </tr>\n",
       "    <tr>\n",
       "      <th>2455</th>\n",
       "      <td>0</td>\n",
       "      <td>Apps: Android</td>\n",
       "      <td>101251</td>\n",
       "      <td>8</td>\n",
       "      <td>0.001383</td>\n",
       "      <td>0.000016</td>\n",
       "      <td>1025806</td>\n",
       "      <td>0.005313</td>\n",
       "      <td>0.001383</td>\n",
       "      <td>0.260357</td>\n",
       "      <td>3.840877</td>\n",
       "      <td>1419.000005</td>\n",
       "    </tr>\n",
       "    <tr>\n",
       "      <th>2456</th>\n",
       "      <td>0</td>\n",
       "      <td>Apps: Android</td>\n",
       "      <td>101251</td>\n",
       "      <td>9</td>\n",
       "      <td>0.001424</td>\n",
       "      <td>0.000021</td>\n",
       "      <td>964834</td>\n",
       "      <td>0.005313</td>\n",
       "      <td>0.001424</td>\n",
       "      <td>0.268032</td>\n",
       "      <td>3.730898</td>\n",
       "      <td>1374.000010</td>\n",
       "    </tr>\n",
       "    <tr>\n",
       "      <th>2457</th>\n",
       "      <td>0</td>\n",
       "      <td>Apps: Android</td>\n",
       "      <td>101251</td>\n",
       "      <td>10</td>\n",
       "      <td>0.001558</td>\n",
       "      <td>0.000020</td>\n",
       "      <td>870193</td>\n",
       "      <td>0.005313</td>\n",
       "      <td>0.001558</td>\n",
       "      <td>0.293290</td>\n",
       "      <td>3.409600</td>\n",
       "      <td>1355.999964</td>\n",
       "    </tr>\n",
       "  </tbody>\n",
       "</table>\n",
       "</div>"
      ],
      "text/plain": [
       "      siteId     deviceName  placementId  displayRank  clickPropensity  \\\n",
       "2448       0  Apps: Android       101251            1         0.005313   \n",
       "2449       0  Apps: Android       101251            2         0.004960   \n",
       "2450       0  Apps: Android       101251            3         0.002243   \n",
       "2451       0  Apps: Android       101251            4         0.001866   \n",
       "2452       0  Apps: Android       101251            5         0.001650   \n",
       "2453       0  Apps: Android       101251            6         0.001535   \n",
       "2454       0  Apps: Android       101251            7         0.001500   \n",
       "2455       0  Apps: Android       101251            8         0.001383   \n",
       "2456       0  Apps: Android       101251            9         0.001424   \n",
       "2457       0  Apps: Android       101251           10         0.001558   \n",
       "\n",
       "      purchasePropensity         n     bias1     biasK  propensity_pretrainer  \\\n",
       "2448            0.000076  39397571  0.005313  0.005313               1.000000   \n",
       "2449            0.000059   2769110  0.005313  0.004960               0.933557   \n",
       "2450            0.000032   1394407  0.005313  0.002243               0.422211   \n",
       "2451            0.000029   1395149  0.005313  0.001866               0.351161   \n",
       "2452            0.000020   1270127  0.005313  0.001650               0.310597   \n",
       "2453            0.000025   1175723  0.005313  0.001535               0.288951   \n",
       "2454            0.000022   1093332  0.005313  0.001500               0.282322   \n",
       "2455            0.000016   1025806  0.005313  0.001383               0.260357   \n",
       "2456            0.000021    964834  0.005313  0.001424               0.268032   \n",
       "2457            0.000020    870193  0.005313  0.001558               0.293290   \n",
       "\n",
       "      propensity_impression_weights      numClicks  \n",
       "2448                       1.000000  209323.007538  \n",
       "2449                       1.071172   13734.999788  \n",
       "2450                       2.368483    3128.000131  \n",
       "2451                       2.847698    2602.999983  \n",
       "2452                       3.219611    2095.999940  \n",
       "2453                       3.460791    1804.999981  \n",
       "2454                       3.542058    1640.000051  \n",
       "2455                       3.840877    1419.000005  \n",
       "2456                       3.730898    1374.000010  \n",
       "2457                       3.409600    1355.999964  "
      ]
     },
     "execution_count": 30,
     "metadata": {},
     "output_type": "execute_result"
    }
   ],
   "source": [
    "pdf1[(pdf1[\"placementId\"]==101251 ) & (pdf1[\"siteId\"]==0) & (pdf1[\"deviceName\"]==experience[0]) ].sort_values(by='displayRank')"
   ]
  },
  {
   "cell_type": "code",
   "execution_count": 31,
   "id": "ef823174-23af-473f-92be-a99bf20d297c",
   "metadata": {},
   "outputs": [
    {
     "data": {
      "text/html": [
       "<div>\n",
       "<style scoped>\n",
       "    .dataframe tbody tr th:only-of-type {\n",
       "        vertical-align: middle;\n",
       "    }\n",
       "\n",
       "    .dataframe tbody tr th {\n",
       "        vertical-align: top;\n",
       "    }\n",
       "\n",
       "    .dataframe thead th {\n",
       "        text-align: right;\n",
       "    }\n",
       "</style>\n",
       "<table border=\"1\" class=\"dataframe\">\n",
       "  <thead>\n",
       "    <tr style=\"text-align: right;\">\n",
       "      <th></th>\n",
       "      <th>siteId</th>\n",
       "      <th>deviceName</th>\n",
       "      <th>placementId</th>\n",
       "      <th>displayRank</th>\n",
       "      <th>clickPropensity</th>\n",
       "      <th>purchasePropensity</th>\n",
       "      <th>n</th>\n",
       "      <th>bias1</th>\n",
       "      <th>biasK</th>\n",
       "      <th>propensity_pretrainer</th>\n",
       "      <th>propensity_impression_weights</th>\n",
       "      <th>numClicks</th>\n",
       "    </tr>\n",
       "  </thead>\n",
       "  <tbody>\n",
       "    <tr>\n",
       "      <th>5798</th>\n",
       "      <td>0</td>\n",
       "      <td>Browser: Core site</td>\n",
       "      <td>101259</td>\n",
       "      <td>1</td>\n",
       "      <td>0.001307</td>\n",
       "      <td>0.000014</td>\n",
       "      <td>31824836</td>\n",
       "      <td>0.001307</td>\n",
       "      <td>0.001307</td>\n",
       "      <td>1.000000</td>\n",
       "      <td>1.000000</td>\n",
       "      <td>41587.000602</td>\n",
       "    </tr>\n",
       "    <tr>\n",
       "      <th>5799</th>\n",
       "      <td>0</td>\n",
       "      <td>Browser: Core site</td>\n",
       "      <td>101259</td>\n",
       "      <td>2</td>\n",
       "      <td>0.001347</td>\n",
       "      <td>0.000006</td>\n",
       "      <td>470629</td>\n",
       "      <td>0.001307</td>\n",
       "      <td>0.001347</td>\n",
       "      <td>1.030906</td>\n",
       "      <td>0.970020</td>\n",
       "      <td>634.000001</td>\n",
       "    </tr>\n",
       "    <tr>\n",
       "      <th>5800</th>\n",
       "      <td>0</td>\n",
       "      <td>Browser: Core site</td>\n",
       "      <td>101259</td>\n",
       "      <td>3</td>\n",
       "      <td>0.001266</td>\n",
       "      <td>0.000015</td>\n",
       "      <td>461455</td>\n",
       "      <td>0.001307</td>\n",
       "      <td>0.001266</td>\n",
       "      <td>0.968483</td>\n",
       "      <td>1.032542</td>\n",
       "      <td>584.000031</td>\n",
       "    </tr>\n",
       "    <tr>\n",
       "      <th>5801</th>\n",
       "      <td>0</td>\n",
       "      <td>Browser: Core site</td>\n",
       "      <td>101259</td>\n",
       "      <td>4</td>\n",
       "      <td>0.001208</td>\n",
       "      <td>0.000015</td>\n",
       "      <td>460152</td>\n",
       "      <td>0.001307</td>\n",
       "      <td>0.001208</td>\n",
       "      <td>0.924660</td>\n",
       "      <td>1.081479</td>\n",
       "      <td>556.000003</td>\n",
       "    </tr>\n",
       "    <tr>\n",
       "      <th>5802</th>\n",
       "      <td>0</td>\n",
       "      <td>Browser: Core site</td>\n",
       "      <td>101259</td>\n",
       "      <td>5</td>\n",
       "      <td>0.000943</td>\n",
       "      <td>0.000003</td>\n",
       "      <td>395520</td>\n",
       "      <td>0.001307</td>\n",
       "      <td>0.000943</td>\n",
       "      <td>0.721687</td>\n",
       "      <td>1.385642</td>\n",
       "      <td>373.000002</td>\n",
       "    </tr>\n",
       "    <tr>\n",
       "      <th>5803</th>\n",
       "      <td>0</td>\n",
       "      <td>Browser: Core site</td>\n",
       "      <td>101259</td>\n",
       "      <td>6</td>\n",
       "      <td>0.000597</td>\n",
       "      <td>0.000000</td>\n",
       "      <td>352022</td>\n",
       "      <td>0.001307</td>\n",
       "      <td>0.000597</td>\n",
       "      <td>0.456518</td>\n",
       "      <td>2.190493</td>\n",
       "      <td>209.999995</td>\n",
       "    </tr>\n",
       "    <tr>\n",
       "      <th>5804</th>\n",
       "      <td>0</td>\n",
       "      <td>Browser: Core site</td>\n",
       "      <td>101259</td>\n",
       "      <td>7</td>\n",
       "      <td>0.000296</td>\n",
       "      <td>0.000006</td>\n",
       "      <td>172259</td>\n",
       "      <td>0.001307</td>\n",
       "      <td>0.000296</td>\n",
       "      <td>0.226567</td>\n",
       "      <td>4.413704</td>\n",
       "      <td>51.000002</td>\n",
       "    </tr>\n",
       "    <tr>\n",
       "      <th>5805</th>\n",
       "      <td>0</td>\n",
       "      <td>Browser: Core site</td>\n",
       "      <td>101259</td>\n",
       "      <td>8</td>\n",
       "      <td>0.000340</td>\n",
       "      <td>0.000006</td>\n",
       "      <td>161682</td>\n",
       "      <td>0.001307</td>\n",
       "      <td>0.000340</td>\n",
       "      <td>0.260321</td>\n",
       "      <td>3.841408</td>\n",
       "      <td>55.000000</td>\n",
       "    </tr>\n",
       "    <tr>\n",
       "      <th>5806</th>\n",
       "      <td>0</td>\n",
       "      <td>Browser: Core site</td>\n",
       "      <td>101259</td>\n",
       "      <td>9</td>\n",
       "      <td>0.000294</td>\n",
       "      <td>0.000000</td>\n",
       "      <td>152927</td>\n",
       "      <td>0.001307</td>\n",
       "      <td>0.000294</td>\n",
       "      <td>0.225184</td>\n",
       "      <td>4.440819</td>\n",
       "      <td>44.999998</td>\n",
       "    </tr>\n",
       "    <tr>\n",
       "      <th>5807</th>\n",
       "      <td>0</td>\n",
       "      <td>Browser: Core site</td>\n",
       "      <td>101259</td>\n",
       "      <td>10</td>\n",
       "      <td>0.000296</td>\n",
       "      <td>0.000000</td>\n",
       "      <td>138444</td>\n",
       "      <td>0.001307</td>\n",
       "      <td>0.000296</td>\n",
       "      <td>0.226630</td>\n",
       "      <td>4.412469</td>\n",
       "      <td>40.999999</td>\n",
       "    </tr>\n",
       "  </tbody>\n",
       "</table>\n",
       "</div>"
      ],
      "text/plain": [
       "      siteId          deviceName  placementId  displayRank  clickPropensity  \\\n",
       "5798       0  Browser: Core site       101259            1         0.001307   \n",
       "5799       0  Browser: Core site       101259            2         0.001347   \n",
       "5800       0  Browser: Core site       101259            3         0.001266   \n",
       "5801       0  Browser: Core site       101259            4         0.001208   \n",
       "5802       0  Browser: Core site       101259            5         0.000943   \n",
       "5803       0  Browser: Core site       101259            6         0.000597   \n",
       "5804       0  Browser: Core site       101259            7         0.000296   \n",
       "5805       0  Browser: Core site       101259            8         0.000340   \n",
       "5806       0  Browser: Core site       101259            9         0.000294   \n",
       "5807       0  Browser: Core site       101259           10         0.000296   \n",
       "\n",
       "      purchasePropensity         n     bias1     biasK  propensity_pretrainer  \\\n",
       "5798            0.000014  31824836  0.001307  0.001307               1.000000   \n",
       "5799            0.000006    470629  0.001307  0.001347               1.030906   \n",
       "5800            0.000015    461455  0.001307  0.001266               0.968483   \n",
       "5801            0.000015    460152  0.001307  0.001208               0.924660   \n",
       "5802            0.000003    395520  0.001307  0.000943               0.721687   \n",
       "5803            0.000000    352022  0.001307  0.000597               0.456518   \n",
       "5804            0.000006    172259  0.001307  0.000296               0.226567   \n",
       "5805            0.000006    161682  0.001307  0.000340               0.260321   \n",
       "5806            0.000000    152927  0.001307  0.000294               0.225184   \n",
       "5807            0.000000    138444  0.001307  0.000296               0.226630   \n",
       "\n",
       "      propensity_impression_weights     numClicks  \n",
       "5798                       1.000000  41587.000602  \n",
       "5799                       0.970020    634.000001  \n",
       "5800                       1.032542    584.000031  \n",
       "5801                       1.081479    556.000003  \n",
       "5802                       1.385642    373.000002  \n",
       "5803                       2.190493    209.999995  \n",
       "5804                       4.413704     51.000002  \n",
       "5805                       3.841408     55.000000  \n",
       "5806                       4.440819     44.999998  \n",
       "5807                       4.412469     40.999999  "
      ]
     },
     "execution_count": 31,
     "metadata": {},
     "output_type": "execute_result"
    }
   ],
   "source": [
    "pdf1[(pdf1[\"placementId\"]==101259 ) & (pdf1[\"siteId\"]==0) & (pdf1[\"deviceName\"]== 'Browser: Core site') ].sort_values(by='displayRank')"
   ]
  },
  {
   "cell_type": "code",
   "execution_count": 32,
   "id": "7590eeef-f5ad-40bd-969b-9973446a7315",
   "metadata": {},
   "outputs": [
    {
     "data": {
      "text/html": [
       "<div>\n",
       "<style scoped>\n",
       "    .dataframe tbody tr th:only-of-type {\n",
       "        vertical-align: middle;\n",
       "    }\n",
       "\n",
       "    .dataframe tbody tr th {\n",
       "        vertical-align: top;\n",
       "    }\n",
       "\n",
       "    .dataframe thead th {\n",
       "        text-align: right;\n",
       "    }\n",
       "</style>\n",
       "<table border=\"1\" class=\"dataframe\">\n",
       "  <thead>\n",
       "    <tr style=\"text-align: right;\">\n",
       "      <th></th>\n",
       "      <th>siteId</th>\n",
       "      <th>deviceName</th>\n",
       "      <th>placementId</th>\n",
       "      <th>displayRank</th>\n",
       "      <th>clickPropensity</th>\n",
       "      <th>purchasePropensity</th>\n",
       "      <th>n</th>\n",
       "      <th>bias1</th>\n",
       "      <th>biasK</th>\n",
       "      <th>propensity_pretrainer</th>\n",
       "      <th>propensity_impression_weights</th>\n",
       "      <th>numClicks</th>\n",
       "    </tr>\n",
       "  </thead>\n",
       "  <tbody>\n",
       "    <tr>\n",
       "      <th>4993</th>\n",
       "      <td>0</td>\n",
       "      <td>Browser: mWeb</td>\n",
       "      <td>101260</td>\n",
       "      <td>1</td>\n",
       "      <td>0.000865</td>\n",
       "      <td>0.0</td>\n",
       "      <td>71639</td>\n",
       "      <td>0.000865</td>\n",
       "      <td>0.000865</td>\n",
       "      <td>1.000000</td>\n",
       "      <td>1.000000</td>\n",
       "      <td>61.999998</td>\n",
       "    </tr>\n",
       "    <tr>\n",
       "      <th>4994</th>\n",
       "      <td>0</td>\n",
       "      <td>Browser: mWeb</td>\n",
       "      <td>101260</td>\n",
       "      <td>2</td>\n",
       "      <td>0.000947</td>\n",
       "      <td>0.0</td>\n",
       "      <td>2112</td>\n",
       "      <td>0.000865</td>\n",
       "      <td>0.000947</td>\n",
       "      <td>1.094193</td>\n",
       "      <td>0.913916</td>\n",
       "      <td>2.000000</td>\n",
       "    </tr>\n",
       "    <tr>\n",
       "      <th>4995</th>\n",
       "      <td>0</td>\n",
       "      <td>Browser: mWeb</td>\n",
       "      <td>101260</td>\n",
       "      <td>3</td>\n",
       "      <td>0.000708</td>\n",
       "      <td>0.0</td>\n",
       "      <td>1413</td>\n",
       "      <td>0.000865</td>\n",
       "      <td>0.000708</td>\n",
       "      <td>0.817741</td>\n",
       "      <td>1.222881</td>\n",
       "      <td>1.000000</td>\n",
       "    </tr>\n",
       "    <tr>\n",
       "      <th>4996</th>\n",
       "      <td>0</td>\n",
       "      <td>Browser: mWeb</td>\n",
       "      <td>101260</td>\n",
       "      <td>4</td>\n",
       "      <td>0.000000</td>\n",
       "      <td>0.0</td>\n",
       "      <td>1355</td>\n",
       "      <td>0.000865</td>\n",
       "      <td>0.000000</td>\n",
       "      <td>0.000000</td>\n",
       "      <td>NaN</td>\n",
       "      <td>0.000000</td>\n",
       "    </tr>\n",
       "    <tr>\n",
       "      <th>4997</th>\n",
       "      <td>0</td>\n",
       "      <td>Browser: mWeb</td>\n",
       "      <td>101260</td>\n",
       "      <td>5</td>\n",
       "      <td>0.000000</td>\n",
       "      <td>0.0</td>\n",
       "      <td>1149</td>\n",
       "      <td>0.000865</td>\n",
       "      <td>0.000000</td>\n",
       "      <td>0.000000</td>\n",
       "      <td>NaN</td>\n",
       "      <td>0.000000</td>\n",
       "    </tr>\n",
       "    <tr>\n",
       "      <th>4998</th>\n",
       "      <td>0</td>\n",
       "      <td>Browser: mWeb</td>\n",
       "      <td>101260</td>\n",
       "      <td>6</td>\n",
       "      <td>0.000000</td>\n",
       "      <td>0.0</td>\n",
       "      <td>1132</td>\n",
       "      <td>0.000865</td>\n",
       "      <td>0.000000</td>\n",
       "      <td>0.000000</td>\n",
       "      <td>NaN</td>\n",
       "      <td>0.000000</td>\n",
       "    </tr>\n",
       "    <tr>\n",
       "      <th>4999</th>\n",
       "      <td>0</td>\n",
       "      <td>Browser: mWeb</td>\n",
       "      <td>101260</td>\n",
       "      <td>7</td>\n",
       "      <td>0.000000</td>\n",
       "      <td>0.0</td>\n",
       "      <td>788</td>\n",
       "      <td>0.000865</td>\n",
       "      <td>0.000000</td>\n",
       "      <td>0.000000</td>\n",
       "      <td>NaN</td>\n",
       "      <td>0.000000</td>\n",
       "    </tr>\n",
       "    <tr>\n",
       "      <th>5000</th>\n",
       "      <td>0</td>\n",
       "      <td>Browser: mWeb</td>\n",
       "      <td>101260</td>\n",
       "      <td>8</td>\n",
       "      <td>0.001304</td>\n",
       "      <td>0.0</td>\n",
       "      <td>767</td>\n",
       "      <td>0.000865</td>\n",
       "      <td>0.001304</td>\n",
       "      <td>1.506477</td>\n",
       "      <td>0.663800</td>\n",
       "      <td>1.000000</td>\n",
       "    </tr>\n",
       "    <tr>\n",
       "      <th>5001</th>\n",
       "      <td>0</td>\n",
       "      <td>Browser: mWeb</td>\n",
       "      <td>101260</td>\n",
       "      <td>9</td>\n",
       "      <td>0.000000</td>\n",
       "      <td>0.0</td>\n",
       "      <td>731</td>\n",
       "      <td>0.000865</td>\n",
       "      <td>0.000000</td>\n",
       "      <td>0.000000</td>\n",
       "      <td>NaN</td>\n",
       "      <td>0.000000</td>\n",
       "    </tr>\n",
       "    <tr>\n",
       "      <th>5002</th>\n",
       "      <td>0</td>\n",
       "      <td>Browser: mWeb</td>\n",
       "      <td>101260</td>\n",
       "      <td>10</td>\n",
       "      <td>0.000000</td>\n",
       "      <td>0.0</td>\n",
       "      <td>711</td>\n",
       "      <td>0.000865</td>\n",
       "      <td>0.000000</td>\n",
       "      <td>0.000000</td>\n",
       "      <td>NaN</td>\n",
       "      <td>0.000000</td>\n",
       "    </tr>\n",
       "  </tbody>\n",
       "</table>\n",
       "</div>"
      ],
      "text/plain": [
       "      siteId     deviceName  placementId  displayRank  clickPropensity  \\\n",
       "4993       0  Browser: mWeb       101260            1         0.000865   \n",
       "4994       0  Browser: mWeb       101260            2         0.000947   \n",
       "4995       0  Browser: mWeb       101260            3         0.000708   \n",
       "4996       0  Browser: mWeb       101260            4         0.000000   \n",
       "4997       0  Browser: mWeb       101260            5         0.000000   \n",
       "4998       0  Browser: mWeb       101260            6         0.000000   \n",
       "4999       0  Browser: mWeb       101260            7         0.000000   \n",
       "5000       0  Browser: mWeb       101260            8         0.001304   \n",
       "5001       0  Browser: mWeb       101260            9         0.000000   \n",
       "5002       0  Browser: mWeb       101260           10         0.000000   \n",
       "\n",
       "      purchasePropensity      n     bias1     biasK  propensity_pretrainer  \\\n",
       "4993                 0.0  71639  0.000865  0.000865               1.000000   \n",
       "4994                 0.0   2112  0.000865  0.000947               1.094193   \n",
       "4995                 0.0   1413  0.000865  0.000708               0.817741   \n",
       "4996                 0.0   1355  0.000865  0.000000               0.000000   \n",
       "4997                 0.0   1149  0.000865  0.000000               0.000000   \n",
       "4998                 0.0   1132  0.000865  0.000000               0.000000   \n",
       "4999                 0.0    788  0.000865  0.000000               0.000000   \n",
       "5000                 0.0    767  0.000865  0.001304               1.506477   \n",
       "5001                 0.0    731  0.000865  0.000000               0.000000   \n",
       "5002                 0.0    711  0.000865  0.000000               0.000000   \n",
       "\n",
       "      propensity_impression_weights  numClicks  \n",
       "4993                       1.000000  61.999998  \n",
       "4994                       0.913916   2.000000  \n",
       "4995                       1.222881   1.000000  \n",
       "4996                            NaN   0.000000  \n",
       "4997                            NaN   0.000000  \n",
       "4998                            NaN   0.000000  \n",
       "4999                            NaN   0.000000  \n",
       "5000                       0.663800   1.000000  \n",
       "5001                            NaN   0.000000  \n",
       "5002                            NaN   0.000000  "
      ]
     },
     "execution_count": 32,
     "metadata": {},
     "output_type": "execute_result"
    }
   ],
   "source": [
    "pdf1[(pdf1[\"placementId\"]==101260 ) & (pdf1[\"siteId\"]==0) & (pdf1[\"deviceName\"]== 'Browser: mWeb') ].sort_values(by='displayRank')"
   ]
  },
  {
   "cell_type": "code",
   "execution_count": 62,
   "id": "111b71c6-3a0a-4c70-b5ea-2901452dea20",
   "metadata": {},
   "outputs": [
    {
     "data": {
      "text/plain": [
       "0.9778911564625851"
      ]
     },
     "execution_count": 62,
     "metadata": {},
     "output_type": "execute_result"
    }
   ],
   "source": [
    "0.001150/0.001176\n",
    "#ctr of position 2 is 975 of ctr in position 1 biask /bias 1 "
   ]
  },
  {
   "cell_type": "code",
   "execution_count": 80,
   "id": "b304eebb-8356-4300-bbc9-320ff469146e",
   "metadata": {},
   "outputs": [
    {
     "data": {
      "text/html": [
       "<div>\n",
       "<style scoped>\n",
       "    .dataframe tbody tr th:only-of-type {\n",
       "        vertical-align: middle;\n",
       "    }\n",
       "\n",
       "    .dataframe tbody tr th {\n",
       "        vertical-align: top;\n",
       "    }\n",
       "\n",
       "    .dataframe thead th {\n",
       "        text-align: right;\n",
       "    }\n",
       "</style>\n",
       "<table border=\"1\" class=\"dataframe\">\n",
       "  <thead>\n",
       "    <tr style=\"text-align: right;\">\n",
       "      <th></th>\n",
       "      <th>siteId</th>\n",
       "      <th>deviceName</th>\n",
       "      <th>placementId</th>\n",
       "      <th>displayRank</th>\n",
       "      <th>clickPropensity</th>\n",
       "      <th>purchasePropensity</th>\n",
       "      <th>n</th>\n",
       "      <th>bias1</th>\n",
       "      <th>biasK</th>\n",
       "      <th>propensity_pretrainer</th>\n",
       "      <th>propensity_impression_weights</th>\n",
       "      <th>numClicks</th>\n",
       "    </tr>\n",
       "  </thead>\n",
       "  <tbody>\n",
       "    <tr>\n",
       "      <th>1851</th>\n",
       "      <td>0</td>\n",
       "      <td>Apps: iPad</td>\n",
       "      <td>101251</td>\n",
       "      <td>1</td>\n",
       "      <td>0.004257</td>\n",
       "      <td>0.000074</td>\n",
       "      <td>5825018</td>\n",
       "      <td>0.004257</td>\n",
       "      <td>0.004257</td>\n",
       "      <td>1.000000</td>\n",
       "      <td>1.000000</td>\n",
       "      <td>24797.999758</td>\n",
       "    </tr>\n",
       "    <tr>\n",
       "      <th>1852</th>\n",
       "      <td>0</td>\n",
       "      <td>Apps: iPad</td>\n",
       "      <td>101251</td>\n",
       "      <td>2</td>\n",
       "      <td>0.004327</td>\n",
       "      <td>0.000089</td>\n",
       "      <td>89678</td>\n",
       "      <td>0.004257</td>\n",
       "      <td>0.004327</td>\n",
       "      <td>1.016311</td>\n",
       "      <td>0.983951</td>\n",
       "      <td>388.000010</td>\n",
       "    </tr>\n",
       "    <tr>\n",
       "      <th>1853</th>\n",
       "      <td>0</td>\n",
       "      <td>Apps: iPad</td>\n",
       "      <td>101251</td>\n",
       "      <td>3</td>\n",
       "      <td>0.003728</td>\n",
       "      <td>0.000034</td>\n",
       "      <td>89314</td>\n",
       "      <td>0.004257</td>\n",
       "      <td>0.003728</td>\n",
       "      <td>0.875801</td>\n",
       "      <td>1.141812</td>\n",
       "      <td>333.000001</td>\n",
       "    </tr>\n",
       "    <tr>\n",
       "      <th>1854</th>\n",
       "      <td>0</td>\n",
       "      <td>Apps: iPad</td>\n",
       "      <td>101251</td>\n",
       "      <td>4</td>\n",
       "      <td>0.003599</td>\n",
       "      <td>0.000056</td>\n",
       "      <td>89180</td>\n",
       "      <td>0.004257</td>\n",
       "      <td>0.003599</td>\n",
       "      <td>0.845509</td>\n",
       "      <td>1.182720</td>\n",
       "      <td>320.999988</td>\n",
       "    </tr>\n",
       "    <tr>\n",
       "      <th>1855</th>\n",
       "      <td>0</td>\n",
       "      <td>Apps: iPad</td>\n",
       "      <td>101251</td>\n",
       "      <td>5</td>\n",
       "      <td>0.002676</td>\n",
       "      <td>0.000038</td>\n",
       "      <td>78098</td>\n",
       "      <td>0.004257</td>\n",
       "      <td>0.002676</td>\n",
       "      <td>0.628618</td>\n",
       "      <td>1.590791</td>\n",
       "      <td>209.000004</td>\n",
       "    </tr>\n",
       "    <tr>\n",
       "      <th>1856</th>\n",
       "      <td>0</td>\n",
       "      <td>Apps: iPad</td>\n",
       "      <td>101251</td>\n",
       "      <td>6</td>\n",
       "      <td>0.002092</td>\n",
       "      <td>0.000043</td>\n",
       "      <td>69296</td>\n",
       "      <td>0.004257</td>\n",
       "      <td>0.002092</td>\n",
       "      <td>0.491519</td>\n",
       "      <td>2.034509</td>\n",
       "      <td>145.000007</td>\n",
       "    </tr>\n",
       "    <tr>\n",
       "      <th>1857</th>\n",
       "      <td>0</td>\n",
       "      <td>Apps: iPad</td>\n",
       "      <td>101251</td>\n",
       "      <td>7</td>\n",
       "      <td>0.002142</td>\n",
       "      <td>0.000060</td>\n",
       "      <td>33148</td>\n",
       "      <td>0.004257</td>\n",
       "      <td>0.002142</td>\n",
       "      <td>0.503132</td>\n",
       "      <td>1.987551</td>\n",
       "      <td>70.999999</td>\n",
       "    </tr>\n",
       "    <tr>\n",
       "      <th>1858</th>\n",
       "      <td>0</td>\n",
       "      <td>Apps: iPad</td>\n",
       "      <td>101251</td>\n",
       "      <td>8</td>\n",
       "      <td>0.001675</td>\n",
       "      <td>0.000032</td>\n",
       "      <td>31040</td>\n",
       "      <td>0.004257</td>\n",
       "      <td>0.001675</td>\n",
       "      <td>0.393516</td>\n",
       "      <td>2.541194</td>\n",
       "      <td>51.999999</td>\n",
       "    </tr>\n",
       "    <tr>\n",
       "      <th>1859</th>\n",
       "      <td>0</td>\n",
       "      <td>Apps: iPad</td>\n",
       "      <td>101251</td>\n",
       "      <td>9</td>\n",
       "      <td>0.002408</td>\n",
       "      <td>0.000000</td>\n",
       "      <td>29486</td>\n",
       "      <td>0.004257</td>\n",
       "      <td>0.002408</td>\n",
       "      <td>0.565618</td>\n",
       "      <td>1.767978</td>\n",
       "      <td>71.000000</td>\n",
       "    </tr>\n",
       "    <tr>\n",
       "      <th>1860</th>\n",
       "      <td>0</td>\n",
       "      <td>Apps: iPad</td>\n",
       "      <td>101251</td>\n",
       "      <td>10</td>\n",
       "      <td>0.002147</td>\n",
       "      <td>0.000000</td>\n",
       "      <td>26077</td>\n",
       "      <td>0.004257</td>\n",
       "      <td>0.002147</td>\n",
       "      <td>0.504442</td>\n",
       "      <td>1.982390</td>\n",
       "      <td>55.999998</td>\n",
       "    </tr>\n",
       "  </tbody>\n",
       "</table>\n",
       "</div>"
      ],
      "text/plain": [
       "      siteId  deviceName  placementId  displayRank  clickPropensity  \\\n",
       "1851       0  Apps: iPad       101251            1         0.004257   \n",
       "1852       0  Apps: iPad       101251            2         0.004327   \n",
       "1853       0  Apps: iPad       101251            3         0.003728   \n",
       "1854       0  Apps: iPad       101251            4         0.003599   \n",
       "1855       0  Apps: iPad       101251            5         0.002676   \n",
       "1856       0  Apps: iPad       101251            6         0.002092   \n",
       "1857       0  Apps: iPad       101251            7         0.002142   \n",
       "1858       0  Apps: iPad       101251            8         0.001675   \n",
       "1859       0  Apps: iPad       101251            9         0.002408   \n",
       "1860       0  Apps: iPad       101251           10         0.002147   \n",
       "\n",
       "      purchasePropensity        n     bias1     biasK  propensity_pretrainer  \\\n",
       "1851            0.000074  5825018  0.004257  0.004257               1.000000   \n",
       "1852            0.000089    89678  0.004257  0.004327               1.016311   \n",
       "1853            0.000034    89314  0.004257  0.003728               0.875801   \n",
       "1854            0.000056    89180  0.004257  0.003599               0.845509   \n",
       "1855            0.000038    78098  0.004257  0.002676               0.628618   \n",
       "1856            0.000043    69296  0.004257  0.002092               0.491519   \n",
       "1857            0.000060    33148  0.004257  0.002142               0.503132   \n",
       "1858            0.000032    31040  0.004257  0.001675               0.393516   \n",
       "1859            0.000000    29486  0.004257  0.002408               0.565618   \n",
       "1860            0.000000    26077  0.004257  0.002147               0.504442   \n",
       "\n",
       "      propensity_impression_weights     numClicks  \n",
       "1851                       1.000000  24797.999758  \n",
       "1852                       0.983951    388.000010  \n",
       "1853                       1.141812    333.000001  \n",
       "1854                       1.182720    320.999988  \n",
       "1855                       1.590791    209.000004  \n",
       "1856                       2.034509    145.000007  \n",
       "1857                       1.987551     70.999999  \n",
       "1858                       2.541194     51.999999  \n",
       "1859                       1.767978     71.000000  \n",
       "1860                       1.982390     55.999998  "
      ]
     },
     "execution_count": 80,
     "metadata": {},
     "output_type": "execute_result"
    }
   ],
   "source": [
    "pdf1[(pdf1[\"placementId\"]==101251 ) & (pdf1[\"siteId\"]==0) & (pdf1[\"deviceName\"]=='Apps: iPad') ].sort_values(by='displayRank')"
   ]
  },
  {
   "cell_type": "code",
   "execution_count": 33,
   "id": "c3745bf7-dc45-421a-a87f-361222a8ef33",
   "metadata": {},
   "outputs": [
    {
     "data": {
      "text/html": [
       "<div>\n",
       "<style scoped>\n",
       "    .dataframe tbody tr th:only-of-type {\n",
       "        vertical-align: middle;\n",
       "    }\n",
       "\n",
       "    .dataframe tbody tr th {\n",
       "        vertical-align: top;\n",
       "    }\n",
       "\n",
       "    .dataframe thead th {\n",
       "        text-align: right;\n",
       "    }\n",
       "</style>\n",
       "<table border=\"1\" class=\"dataframe\">\n",
       "  <thead>\n",
       "    <tr style=\"text-align: right;\">\n",
       "      <th></th>\n",
       "      <th>siteId</th>\n",
       "      <th>deviceName</th>\n",
       "      <th>placementId</th>\n",
       "      <th>displayRank</th>\n",
       "      <th>clickPropensity</th>\n",
       "      <th>purchasePropensity</th>\n",
       "      <th>n</th>\n",
       "      <th>bias1</th>\n",
       "      <th>biasK</th>\n",
       "      <th>propensity_pretrainer</th>\n",
       "      <th>propensity_impression_weights</th>\n",
       "      <th>numClicks</th>\n",
       "    </tr>\n",
       "  </thead>\n",
       "  <tbody>\n",
       "    <tr>\n",
       "      <th>1851</th>\n",
       "      <td>0</td>\n",
       "      <td>Apps: iPad</td>\n",
       "      <td>101251</td>\n",
       "      <td>1</td>\n",
       "      <td>0.004257</td>\n",
       "      <td>0.000074</td>\n",
       "      <td>5825018</td>\n",
       "      <td>0.004257</td>\n",
       "      <td>0.004257</td>\n",
       "      <td>1.000000</td>\n",
       "      <td>1.000000</td>\n",
       "      <td>24797.999758</td>\n",
       "    </tr>\n",
       "    <tr>\n",
       "      <th>1852</th>\n",
       "      <td>0</td>\n",
       "      <td>Apps: iPad</td>\n",
       "      <td>101251</td>\n",
       "      <td>2</td>\n",
       "      <td>0.004327</td>\n",
       "      <td>0.000089</td>\n",
       "      <td>89678</td>\n",
       "      <td>0.004257</td>\n",
       "      <td>0.004327</td>\n",
       "      <td>1.016311</td>\n",
       "      <td>0.983951</td>\n",
       "      <td>388.000010</td>\n",
       "    </tr>\n",
       "    <tr>\n",
       "      <th>1853</th>\n",
       "      <td>0</td>\n",
       "      <td>Apps: iPad</td>\n",
       "      <td>101251</td>\n",
       "      <td>3</td>\n",
       "      <td>0.003728</td>\n",
       "      <td>0.000034</td>\n",
       "      <td>89314</td>\n",
       "      <td>0.004257</td>\n",
       "      <td>0.003728</td>\n",
       "      <td>0.875801</td>\n",
       "      <td>1.141812</td>\n",
       "      <td>333.000001</td>\n",
       "    </tr>\n",
       "    <tr>\n",
       "      <th>1854</th>\n",
       "      <td>0</td>\n",
       "      <td>Apps: iPad</td>\n",
       "      <td>101251</td>\n",
       "      <td>4</td>\n",
       "      <td>0.003599</td>\n",
       "      <td>0.000056</td>\n",
       "      <td>89180</td>\n",
       "      <td>0.004257</td>\n",
       "      <td>0.003599</td>\n",
       "      <td>0.845509</td>\n",
       "      <td>1.182720</td>\n",
       "      <td>320.999988</td>\n",
       "    </tr>\n",
       "    <tr>\n",
       "      <th>1855</th>\n",
       "      <td>0</td>\n",
       "      <td>Apps: iPad</td>\n",
       "      <td>101251</td>\n",
       "      <td>5</td>\n",
       "      <td>0.002676</td>\n",
       "      <td>0.000038</td>\n",
       "      <td>78098</td>\n",
       "      <td>0.004257</td>\n",
       "      <td>0.002676</td>\n",
       "      <td>0.628618</td>\n",
       "      <td>1.590791</td>\n",
       "      <td>209.000004</td>\n",
       "    </tr>\n",
       "    <tr>\n",
       "      <th>1856</th>\n",
       "      <td>0</td>\n",
       "      <td>Apps: iPad</td>\n",
       "      <td>101251</td>\n",
       "      <td>6</td>\n",
       "      <td>0.002092</td>\n",
       "      <td>0.000043</td>\n",
       "      <td>69296</td>\n",
       "      <td>0.004257</td>\n",
       "      <td>0.002092</td>\n",
       "      <td>0.491519</td>\n",
       "      <td>2.034509</td>\n",
       "      <td>145.000007</td>\n",
       "    </tr>\n",
       "    <tr>\n",
       "      <th>1857</th>\n",
       "      <td>0</td>\n",
       "      <td>Apps: iPad</td>\n",
       "      <td>101251</td>\n",
       "      <td>7</td>\n",
       "      <td>0.002142</td>\n",
       "      <td>0.000060</td>\n",
       "      <td>33148</td>\n",
       "      <td>0.004257</td>\n",
       "      <td>0.002142</td>\n",
       "      <td>0.503132</td>\n",
       "      <td>1.987551</td>\n",
       "      <td>70.999999</td>\n",
       "    </tr>\n",
       "    <tr>\n",
       "      <th>1858</th>\n",
       "      <td>0</td>\n",
       "      <td>Apps: iPad</td>\n",
       "      <td>101251</td>\n",
       "      <td>8</td>\n",
       "      <td>0.001675</td>\n",
       "      <td>0.000032</td>\n",
       "      <td>31040</td>\n",
       "      <td>0.004257</td>\n",
       "      <td>0.001675</td>\n",
       "      <td>0.393516</td>\n",
       "      <td>2.541194</td>\n",
       "      <td>51.999999</td>\n",
       "    </tr>\n",
       "    <tr>\n",
       "      <th>1859</th>\n",
       "      <td>0</td>\n",
       "      <td>Apps: iPad</td>\n",
       "      <td>101251</td>\n",
       "      <td>9</td>\n",
       "      <td>0.002408</td>\n",
       "      <td>0.000000</td>\n",
       "      <td>29486</td>\n",
       "      <td>0.004257</td>\n",
       "      <td>0.002408</td>\n",
       "      <td>0.565618</td>\n",
       "      <td>1.767978</td>\n",
       "      <td>71.000000</td>\n",
       "    </tr>\n",
       "    <tr>\n",
       "      <th>1860</th>\n",
       "      <td>0</td>\n",
       "      <td>Apps: iPad</td>\n",
       "      <td>101251</td>\n",
       "      <td>10</td>\n",
       "      <td>0.002147</td>\n",
       "      <td>0.000000</td>\n",
       "      <td>26077</td>\n",
       "      <td>0.004257</td>\n",
       "      <td>0.002147</td>\n",
       "      <td>0.504442</td>\n",
       "      <td>1.982390</td>\n",
       "      <td>55.999998</td>\n",
       "    </tr>\n",
       "  </tbody>\n",
       "</table>\n",
       "</div>"
      ],
      "text/plain": [
       "      siteId  deviceName  placementId  displayRank  clickPropensity  \\\n",
       "1851       0  Apps: iPad       101251            1         0.004257   \n",
       "1852       0  Apps: iPad       101251            2         0.004327   \n",
       "1853       0  Apps: iPad       101251            3         0.003728   \n",
       "1854       0  Apps: iPad       101251            4         0.003599   \n",
       "1855       0  Apps: iPad       101251            5         0.002676   \n",
       "1856       0  Apps: iPad       101251            6         0.002092   \n",
       "1857       0  Apps: iPad       101251            7         0.002142   \n",
       "1858       0  Apps: iPad       101251            8         0.001675   \n",
       "1859       0  Apps: iPad       101251            9         0.002408   \n",
       "1860       0  Apps: iPad       101251           10         0.002147   \n",
       "\n",
       "      purchasePropensity        n     bias1     biasK  propensity_pretrainer  \\\n",
       "1851            0.000074  5825018  0.004257  0.004257               1.000000   \n",
       "1852            0.000089    89678  0.004257  0.004327               1.016311   \n",
       "1853            0.000034    89314  0.004257  0.003728               0.875801   \n",
       "1854            0.000056    89180  0.004257  0.003599               0.845509   \n",
       "1855            0.000038    78098  0.004257  0.002676               0.628618   \n",
       "1856            0.000043    69296  0.004257  0.002092               0.491519   \n",
       "1857            0.000060    33148  0.004257  0.002142               0.503132   \n",
       "1858            0.000032    31040  0.004257  0.001675               0.393516   \n",
       "1859            0.000000    29486  0.004257  0.002408               0.565618   \n",
       "1860            0.000000    26077  0.004257  0.002147               0.504442   \n",
       "\n",
       "      propensity_impression_weights     numClicks  \n",
       "1851                       1.000000  24797.999758  \n",
       "1852                       0.983951    388.000010  \n",
       "1853                       1.141812    333.000001  \n",
       "1854                       1.182720    320.999988  \n",
       "1855                       1.590791    209.000004  \n",
       "1856                       2.034509    145.000007  \n",
       "1857                       1.987551     70.999999  \n",
       "1858                       2.541194     51.999999  \n",
       "1859                       1.767978     71.000000  \n",
       "1860                       1.982390     55.999998  "
      ]
     },
     "execution_count": 33,
     "metadata": {},
     "output_type": "execute_result"
    }
   ],
   "source": [
    "pdf1[(pdf1[\"placementId\"]==101251 ) & (pdf1[\"siteId\"]==0) & (pdf1[\"deviceName\"]=='Apps: iPad') ].sort_values(by='displayRank')"
   ]
  },
  {
   "cell_type": "code",
   "execution_count": 55,
   "id": "b77324b8-66a2-46e8-a0a3-5011b20fece3",
   "metadata": {},
   "outputs": [],
   "source": [
    "experience.sort()"
   ]
  },
  {
   "cell_type": "code",
   "execution_count": 56,
   "id": "1397a951-2675-4b90-aef6-8582372a1288",
   "metadata": {},
   "outputs": [
    {
     "data": {
      "text/plain": [
       "['Apps: Android',\n",
       " 'Apps: iPad',\n",
       " 'Apps: iPhone',\n",
       " 'Browser: Core site',\n",
       " 'Browser: mWeb']"
      ]
     },
     "execution_count": 56,
     "metadata": {},
     "output_type": "execute_result"
    }
   ],
   "source": [
    "experience"
   ]
  },
  {
   "cell_type": "code",
   "execution_count": 19,
   "id": "898a7fa2",
   "metadata": {},
   "outputs": [],
   "source": [
    "from ipywidgets import interact, interactive, fixed\n",
    "import ipywidgets as widgets"
   ]
  },
  {
   "cell_type": "code",
   "execution_count": 20,
   "id": "90ce233a-acec-4cba-8f12-bc06d556fde2",
   "metadata": {},
   "outputs": [],
   "source": [
    "import matplotlib\n",
    "import matplotlib.pyplot as plt\n",
    "%matplotlib inline"
   ]
  },
  {
   "cell_type": "code",
   "execution_count": 41,
   "id": "5e690d6c-66ae-4acc-a074-1e9891053b3a",
   "metadata": {},
   "outputs": [
    {
     "data": {
      "text/plain": [
       "['Apps: Android',\n",
       " 'Apps: Other',\n",
       " 'Apps: iPad',\n",
       " 'Apps: iPhone',\n",
       " 'Browser: Core site',\n",
       " 'Browser: mWeb']"
      ]
     },
     "execution_count": 41,
     "metadata": {},
     "output_type": "execute_result"
    }
   ],
   "source": [
    "experience"
   ]
  },
  {
   "cell_type": "code",
   "execution_count": null,
   "id": "43928458-1ff0-4b53-9741-a7a64809b53b",
   "metadata": {},
   "outputs": [],
   "source": [
    "#core site is is from mobile, \n",
    "#mweb is desktop. \n"
   ]
  },
  {
   "cell_type": "code",
   "execution_count": 61,
   "id": "648cf055",
   "metadata": {},
   "outputs": [
    {
     "data": {
      "application/vnd.jupyter.widget-view+json": {
       "model_id": "c3fec7455582489fbe708639512903a2",
       "version_major": 2,
       "version_minor": 0
      },
      "text/plain": [
       "interactive(children=(Dropdown(description='siteId', options=(0, 2, 3, 15, 16, 23, 71, 77, 101, 123, 146, 186,…"
      ]
     },
     "metadata": {},
     "output_type": "display_data"
    },
    {
     "data": {
      "image/png": "[encoded data removed]",
      "text/plain": [
       "<Figure size 432x288 with 1 Axes>"
      ]
     },
     "metadata": {
      "needs_background": "light"
     },
     "output_type": "display_data"
    }
   ],
   "source": [
    "\n",
    "@interact(\n",
    "    siteId=sorted(pdf1[\"siteId\"].unique()),\n",
    "    experience=sorted(pdf1[\"deviceName\"].unique()),\n",
    "    placementId=sorted(pdf1[\"placementId\"].unique())\n",
    "    \n",
    ")\n",
    "def calc_plot(siteId, experience, placementId):\n",
    "    pdf2 = pdf1.loc[pdf1['deviceName'] == experience]\n",
    "    pdf3 = pdf2.query(f\"siteId == {siteId} and placementId == {placementId}\")\n",
    "    #pdf1[\"propensity_impression_weights\"].plot.hist()\n",
    "    #print(pdf1['propensity_impression_weights'].max())\n",
    "    pdf3.plot.line(x=\"displayRank\", y=\"clickPropensity\")\n",
    "\n",
    "        "
   ]
  },
  {
   "cell_type": "code",
   "execution_count": 45,
   "id": "184ccee7-888d-4edf-b6b7-062d202b3c45",
   "metadata": {},
   "outputs": [],
   "source": [
    "pdf2=pdf[['siteId','placementId','displayRank','clickPropensity','experience']].drop_duplicates().sort_values(by='siteId')"
   ]
  },
  {
   "cell_type": "code",
   "execution_count": 29,
   "id": "4dcec3d0-b9c2-4292-91c3-a52188224545",
   "metadata": {},
   "outputs": [
    {
     "data": {
      "text/plain": [
       "['Apps: Android',\n",
       " 'Apps: Other',\n",
       " 'Apps: iPad',\n",
       " 'Apps: iPhone',\n",
       " 'Browser: Core site',\n",
       " 'Browser: Half.com',\n",
       " 'Browser: Other',\n",
       " 'Browser: mWeb']"
      ]
     },
     "execution_count": 29,
     "metadata": {},
     "output_type": "execute_result"
    }
   ],
   "source": [
    "experience"
   ]
  },
  {
   "cell_type": "code",
   "execution_count": 66,
   "id": "a91524df-7c22-4c5f-966a-9bd701b33ffc",
   "metadata": {},
   "outputs": [
    {
     "data": {
      "text/plain": [
       "[1, 2, 3, 4, 5, 6, 7, 8, 9, 10]"
      ]
     },
     "execution_count": 66,
     "metadata": {},
     "output_type": "execute_result"
    }
   ],
   "source": [
    "list(range(1, 11))"
   ]
  },
  {
   "cell_type": "code",
   "execution_count": 67,
   "id": "44bc72f0-d220-40ef-ab6b-36b1f024b25e",
   "metadata": {},
   "outputs": [],
   "source": [
    "pdf1=pdf1[pdf1['displayRank'].isin([1,2,3,4,5,6,7,8,9,10])].copy()"
   ]
  },
  {
   "cell_type": "code",
   "execution_count": 68,
   "id": "e08f8427-bc34-4db6-9138-a0fb0efb2d00",
   "metadata": {},
   "outputs": [
    {
     "data": {
      "text/plain": [
       "['Apps: Android',\n",
       " 'Apps: iPad',\n",
       " 'Apps: iPhone',\n",
       " 'Browser: Core site',\n",
       " 'Browser: mWeb']"
      ]
     },
     "execution_count": 68,
     "metadata": {},
     "output_type": "execute_result"
    }
   ],
   "source": [
    "experience"
   ]
  },
  {
   "cell_type": "code",
   "execution_count": 34,
   "id": "16f04916-4ca8-48d9-8911-9bbef49bceb6",
   "metadata": {},
   "outputs": [
    {
     "data": {
      "text/plain": [
       "<AxesSubplot:title={'center':'piyi 101251 Browser: mWeb'}, xlabel='displayRank'>"
      ]
     },
     "execution_count": 34,
     "metadata": {},
     "output_type": "execute_result"
    },
    {
     "data": {
      "image/png": "[encoded data removed]",
      "text/plain": [
       "<Figure size 1440x720 with 6 Axes>"
      ]
     },
     "metadata": {
      "needs_background": "light"
     },
     "output_type": "display_data"
    }
   ],
   "source": [
    "\n",
    "fig, axes = plt.subplots(nrows=2, ncols=3, figsize=(20,10))\n",
    "plt.suptitle(\"Click propensity score, (ctr):\",fontsize=20)\n",
    "pdf1[(pdf1[\"placementId\"]==101251) & (pdf1[\"siteId\"]==0)& (pdf1['deviceName'] == experience[0]) ].plot(ax=axes[0,0],x='displayRank',y='clickPropensity', title='piyi 101251 '+experience[0])\n",
    "pdf1[(pdf1[\"placementId\"]==101251)&(pdf1[\"siteId\"]==0)& (pdf1['deviceName'] == experience[1])].plot(ax=axes[0,1],x='displayRank',y='clickPropensity', title='piyi 101251 ' +experience[1])\n",
    "pdf1[(pdf1[\"placementId\"]==101251)&(pdf1[\"siteId\"]==0)& (pdf1['deviceName'] == experience[2])].plot(ax=axes[0,2],x='displayRank',y='clickPropensity', title='piyi 101251 ' +experience[2])\n",
    "pdf1[(pdf1[\"placementId\"]==101251) & (pdf1[\"siteId\"]==0)& (pdf1['deviceName'] == experience[3]) ].plot(ax=axes[1,0],x='displayRank',y='clickPropensity', title='piyi 101251 ' +experience[3])\n",
    "pdf1[(pdf1[\"placementId\"]==101251)&(pdf1[\"siteId\"]==0)& (pdf1['deviceName'] == experience[4])].plot(ax=axes[1,1],x='displayRank',y='clickPropensity', title='piyi 101251 ' +experience[4])\n"
   ]
  },
  {
   "cell_type": "code",
   "execution_count": 71,
   "id": "c0d11cfa-0f2a-4a4a-af81-dff8d50254ad",
   "metadata": {},
   "outputs": [
    {
     "data": {
      "text/plain": [
       "<AxesSubplot:title={'center':'piyi 101251 Browser: mWeb'}, xlabel='displayRank'>"
      ]
     },
     "execution_count": 71,
     "metadata": {},
     "output_type": "execute_result"
    },
    {
     "data": {
      "image/png": "[encoded data removed]",
      "text/plain": [
       "<Figure size 1440x720 with 6 Axes>"
      ]
     },
     "metadata": {
      "needs_background": "light"
     },
     "output_type": "display_data"
    }
   ],
   "source": [
    "\n",
    "fig, axes = plt.subplots(nrows=2, ncols=3, figsize=(20,10))\n",
    "plt.suptitle(\"Click propensity score, (ctr):\",fontsize=20)\n",
    "pdf1[(pdf1[\"placementId\"]==101251) & (pdf1[\"siteId\"]==0)& (pdf1['deviceName'] == experience[0]) ].plot(ax=axes[0,0],x='displayRank',y='clickPropensity', title='piyi 101251 '+experience[0])\n",
    "pdf1[(pdf1[\"placementId\"]==101251)&(pdf1[\"siteId\"]==0)& (pdf1['deviceName'] == experience[1])].plot(ax=axes[0,1],x='displayRank',y='clickPropensity', title='piyi 101251 ' +experience[1])\n",
    "pdf1[(pdf1[\"placementId\"]==101251)&(pdf1[\"siteId\"]==0)& (pdf1['deviceName'] == experience[2])].plot(ax=axes[0,2],x='displayRank',y='clickPropensity', title='piyi 101251 ' +experience[2])\n",
    "pdf1[(pdf1[\"placementId\"]==101251) & (pdf1[\"siteId\"]==0)& (pdf1['deviceName'] == experience[3]) ].plot(ax=axes[1,0],x='displayRank',y='clickPropensity', title='piyi 101251 ' +experience[3])\n",
    "pdf1[(pdf1[\"placementId\"]==101251)&(pdf1[\"siteId\"]==0)& (pdf1['deviceName'] == experience[4])].plot(ax=axes[1,1],x='displayRank',y='clickPropensity', title='piyi 101251 ' +experience[4])\n",
    "\n"
   ]
  },
  {
   "cell_type": "code",
   "execution_count": 72,
   "id": "1da771e6-1e12-4a31-8d47-d215968aebca",
   "metadata": {},
   "outputs": [
    {
     "data": {
      "text/plain": [
       "<AxesSubplot:title={'center':'piyi 101259 Browser: mWeb'}, xlabel='displayRank'>"
      ]
     },
     "execution_count": 72,
     "metadata": {},
     "output_type": "execute_result"
    },
    {
     "data": {
      "image/png": "[encoded data removed]",
      "text/plain": [
       "<Figure size 1440x720 with 6 Axes>"
      ]
     },
     "metadata": {
      "needs_background": "light"
     },
     "output_type": "display_data"
    },
    {
     "name": "stdout",
     "output_type": "stream",
     "text": [
      "2023-01-22T16:03:31.515+0000: [Full GC (System.gc()) 2023-01-22T16:03:31.515+0000: [Tenured: 62097K->45364K(1398144K), 0.2954028 secs] 384274K->45364K(2027392K), [Metaspace: 131145K->131145K(1173504K)], 0.2955290 secs] [Times: user=0.26 sys=0.03, real=0.30 secs] \n"
     ]
    }
   ],
   "source": [
    "fig, axes = plt.subplots(nrows=2, ncols=3, figsize=(20,10))\n",
    "plt.suptitle(\"Click propensity score, (ctr):\",fontsize=20)\n",
    "pdf1[(pdf1[\"placementId\"]==101259) & (pdf1[\"siteId\"]==0)& (pdf1['deviceName'] == experience[0]) ].plot(ax=axes[0,0],x='displayRank',y='clickPropensity', title='piyi 101259 '+experience[0])\n",
    "pdf1[(pdf1[\"placementId\"]==101259)&(pdf1[\"siteId\"]==0)& (pdf1['deviceName'] == experience[1])].plot(ax=axes[0,1],x='displayRank',y='clickPropensity', title='piyi 101259 ' +experience[1])\n",
    "pdf1[(pdf1[\"placementId\"]==101259)&(pdf1[\"siteId\"]==0)& (pdf1['deviceName'] == experience[2])].plot(ax=axes[0,2],x='displayRank',y='clickPropensity', title='piyi 101259 ' +experience[2])\n",
    "pdf1[(pdf1[\"placementId\"]==101259) & (pdf1[\"siteId\"]==0)& (pdf1['deviceName'] == experience[3]) ].plot(ax=axes[1,0],x='displayRank',y='clickPropensity', title='piyi 101259 ' +experience[3])\n",
    "pdf1[(pdf1[\"placementId\"]==101259)&(pdf1[\"siteId\"]==0)& (pdf1['deviceName'] == experience[4])].plot(ax=axes[1,1],x='displayRank',y='clickPropensity', title='piyi 101259 ' +experience[4])\n"
   ]
  },
  {
   "cell_type": "code",
   "execution_count": 35,
   "id": "84a803d8-9b1c-44e7-9eb2-bde9c99af99a",
   "metadata": {},
   "outputs": [
    {
     "data": {
      "text/plain": [
       "<AxesSubplot:title={'center':'piyi 101260 Browser: mWeb'}, xlabel='displayRank'>"
      ]
     },
     "execution_count": 35,
     "metadata": {},
     "output_type": "execute_result"
    },
    {
     "data": {
      "image/png": "[encoded data removed]",
      "text/plain": [
       "<Figure size 1440x720 with 6 Axes>"
      ]
     },
     "metadata": {
      "needs_background": "light"
     },
     "output_type": "display_data"
    }
   ],
   "source": [
    "fig, axes = plt.subplots(nrows=2, ncols=3, figsize=(20,10))\n",
    "plt.suptitle(\"Click propensity score, (ctr):\",fontsize=20)\n",
    "pdf1[(pdf1[\"placementId\"]==101260) & (pdf1[\"siteId\"]==0)& (pdf1['deviceName'] == experience[0]) ].plot(ax=axes[0,0],x='displayRank',y='clickPropensity', title='piyi 101260 '+experience[0])\n",
    "pdf1[(pdf1[\"placementId\"]==101260)&(pdf1[\"siteId\"]==0)& (pdf1['deviceName'] == experience[1])].plot(ax=axes[0,1],x='displayRank',y='clickPropensity', title='piyi 101260 ' +experience[1])\n",
    "pdf1[(pdf1[\"placementId\"]==101260)&(pdf1[\"siteId\"]==0)& (pdf1['deviceName'] == experience[2])].plot(ax=axes[0,2],x='displayRank',y='clickPropensity', title='piyi 101260 ' +experience[2])\n",
    "pdf1[(pdf1[\"placementId\"]==101260) & (pdf1[\"siteId\"]==0)& (pdf1['deviceName'] == experience[3]) ].plot(ax=axes[1,0],x='displayRank',y='clickPropensity', title='piyi 101260 ' +experience[3])\n",
    "pdf1[(pdf1[\"placementId\"]==101260)&(pdf1[\"siteId\"]==0)& (pdf1['deviceName'] == experience[4])].plot(ax=axes[1,1],x='displayRank',y='clickPropensity', title='piyi 101260 ' +experience[4])\n"
   ]
  },
  {
   "cell_type": "code",
   "execution_count": null,
   "id": "80f204a4-bbca-49b6-abf7-2eabf99c988f",
   "metadata": {},
   "outputs": [],
   "source": [
    "piyi=[101251, 101259, 101260] "
   ]
  },
  {
   "cell_type": "code",
   "execution_count": null,
   "id": "f1b42944-982c-4b76-98a5-1ecc9b650c92",
   "metadata": {},
   "outputs": [],
   "source": [
    "clickPropensity=pdf[['siteId','placementId','displayRank','clickPropensity']].drop_duplicates().sort_values(by='siteId')"
   ]
  },
  {
   "cell_type": "code",
   "execution_count": null,
   "id": "69df19e8-e1db-47bf-852d-d0ea2e522ca6",
   "metadata": {},
   "outputs": [],
   "source": [
    "clickPropensity[(clickPropensity[\"placementId\"]==101251) & (clickPropensity[\"siteId\"]==0) ].sort_values(by='displayRank')"
   ]
  },
  {
   "cell_type": "code",
   "execution_count": 36,
   "id": "19d3df7b-335d-4d84-b9c2-94dfcea25c0a",
   "metadata": {},
   "outputs": [
    {
     "data": {
      "text/plain": [
       "<AxesSubplot:ylabel='Frequency'>"
      ]
     },
     "execution_count": 36,
     "metadata": {},
     "output_type": "execute_result"
    },
    {
     "data": {
      "image/png": "[encoded data removed]",
      "text/plain": [
       "<Figure size 432x288 with 1 Axes>"
      ]
     },
     "metadata": {
      "needs_background": "light"
     },
     "output_type": "display_data"
    }
   ],
   "source": [
    "piyi=[101251, 101259, 101260]\n",
    "pdf1.loc[(pdf1.propensity_impression_weights>0)& (pdf1.placementId.isin (piyi))][\"propensity_impression_weights\"].plot.hist()"
   ]
  },
  {
   "cell_type": "code",
   "execution_count": 43,
   "id": "30c91701-31e5-45d1-a252-2d5ff41533c3",
   "metadata": {},
   "outputs": [
    {
     "data": {
      "text/plain": [
       "<AxesSubplot:ylabel='Frequency'>"
      ]
     },
     "execution_count": 43,
     "metadata": {},
     "output_type": "execute_result"
    },
    {
     "data": {
      "image/png": "[encoded data removed]",
      "text/plain": [
       "<Figure size 432x288 with 1 Axes>"
      ]
     },
     "metadata": {
      "needs_background": "light"
     },
     "output_type": "display_data"
    },
    {
     "name": "stdout",
     "output_type": "stream",
     "text": [
      "2023-02-16T11:07:41.977+0000: [Full GC (System.gc()) 2023-02-16T11:07:41.977+0000: [Tenured: 56549K->57702K(1398144K), 0.3101416 secs] 281977K->57702K(2027392K), [Metaspace: 130101K->130101K(1173504K)], 0.3102599 secs] [Times: user=0.26 sys=0.05, real=0.32 secs] \n",
      "2023-02-16T11:37:41.977+0000: [Full GC (System.gc()) 2023-02-16T11:37:41.977+0000: [Tenured: 57702K->43390K(1398144K), 0.3014293 secs] 280031K->43390K(2027392K), [Metaspace: 130178K->130178K(1173504K)], 0.3015317 secs] [Times: user=0.22 sys=0.08, real=0.31 secs] \n",
      "2023-02-16T12:07:41.977+0000: [Full GC (System.gc()) 2023-02-16T12:07:41.977+0000: [Tenured: 43390K->44578K(1398144K), 0.3006935 secs] 265801K->44578K(2027392K), [Metaspace: 130259K->130259K(1173504K)], 0.3008154 secs] [Times: user=0.23 sys=0.07, real=0.31 secs] \n",
      "2023-02-16T12:37:41.978+0000: [Full GC (System.gc()) 2023-02-16T12:37:41.978+0000: [Tenured: 44578K->44749K(1398144K), 0.2957317 secs] 266574K->44749K(2027392K), [Metaspace: 130284K->130284K(1173504K)], 0.2958376 secs] [Times: user=0.24 sys=0.05, real=0.30 secs] \n",
      "2023-02-16T13:07:41.977+0000: [Full GC (System.gc()) 2023-02-16T13:07:41.977+0000: [Tenured: 44749K->45937K(1398144K), 0.2911485 secs] 268016K->45937K(2027392K), [Metaspace: 130350K->130350K(1173504K)], 0.2912546 secs] [Times: user=0.21 sys=0.08, real=0.30 secs] \n",
      "2023-02-16T13:37:41.977+0000: [Full GC (System.gc()) 2023-02-16T13:37:41.977+0000: [Tenured: 45937K->43389K(1398144K), 0.2943722 secs] 267349K->43389K(2027392K), [Metaspace: 130365K->130365K(1173504K)], 0.2944761 secs] [Times: user=0.23 sys=0.07, real=0.30 secs] \n",
      "2023-02-16T14:07:41.977+0000: [Full GC (System.gc()) 2023-02-16T14:07:41.978+0000: [Tenured: 43389K->44574K(1398144K), 0.2858703 secs] 269637K->44574K(2027392K), [Metaspace: 130414K->130414K(1173504K)], 0.2860116 secs] [Times: user=0.23 sys=0.06, real=0.29 secs] \n",
      "2023-02-16T14:37:41.977+0000: [Full GC (System.gc()) 2023-02-16T14:37:41.977+0000: [Tenured: 44574K->44742K(1398144K), 0.3169348 secs] 266610K->44742K(2027392K), [Metaspace: 130419K->130419K(1173504K)], 0.3170939 secs] [Times: user=0.23 sys=0.08, real=0.32 secs] \n",
      "2023-02-16T15:07:41.977+0000: [Full GC (System.gc()) 2023-02-16T15:07:41.977+0000: [Tenured: 44742K->45923K(1398144K), 0.3056661 secs] 267792K->45923K(2027392K), [Metaspace: 130428K->130428K(1173504K)], 0.3057862 secs] [Times: user=0.22 sys=0.09, real=0.31 secs] \n",
      "2023-02-16T15:37:41.977+0000: [Full GC (System.gc()) 2023-02-16T15:37:41.977+0000: [Tenured: 45923K->43394K(1398144K), 0.3256278 secs] 278621K->43394K(2027392K), [Metaspace: 130446K->130446K(1173504K)], 0.3257441 secs] [Times: user=0.26 sys=0.06, real=0.33 secs] \n",
      "2023-02-16T16:07:41.977+0000: [Full GC (System.gc()) 2023-02-16T16:07:41.977+0000: [Tenured: 43394K->44576K(1398144K), 0.3083259 secs] 266509K->44576K(2027392K), [Metaspace: 130450K->130450K(1173504K)], 0.3084446 secs] [Times: user=0.27 sys=0.05, real=0.31 secs] \n",
      "2023-02-16T16:37:41.977+0000: [Full GC (System.gc()) 2023-02-16T16:37:41.977+0000: [Tenured: 44576K->44678K(1398144K), 0.3316348 secs] 265298K->44678K(2027392K), [Metaspace: 130450K->130450K(1173504K)], 0.3317762 secs] [Times: user=0.25 sys=0.08, real=0.34 secs] \n",
      "2023-02-16T17:07:41.977+0000: [Full GC (System.gc()) 2023-02-16T17:07:41.977+0000: [Tenured: 44678K->45856K(1398144K), 0.3047111 secs] 267964K->45856K(2027392K), [Metaspace: 130451K->130451K(1173504K)], 0.3048478 secs] [Times: user=0.25 sys=0.06, real=0.31 secs] \n"
     ]
    }
   ],
   "source": [
    "piyi=[101251, 101259, 101260]\n",
    "pdf1.loc[ (pdf1.propensity_impression_weights>0)&(pdf1.placementId==(piyi[0]))][\"propensity_impression_weights\"].plot.hist()"
   ]
  },
  {
   "cell_type": "code",
   "execution_count": null,
   "id": "2eebed9b-a0c6-44cd-918c-a07476c75a41",
   "metadata": {},
   "outputs": [],
   "source": []
  },
  {
   "cell_type": "code",
   "execution_count": 39,
   "id": "fe560045-b872-45c0-8911-d173e09e6053",
   "metadata": {},
   "outputs": [
    {
     "data": {
      "text/plain": [
       "<AxesSubplot:ylabel='Frequency'>"
      ]
     },
     "execution_count": 39,
     "metadata": {},
     "output_type": "execute_result"
    },
    {
     "data": {
      "image/png": "[encoded data removed]",
      "text/plain": [
       "<Figure size 432x288 with 1 Axes>"
      ]
     },
     "metadata": {
      "needs_background": "light"
     },
     "output_type": "display_data"
    }
   ],
   "source": [
    "piyi=[101251, 101259, 101260]\n",
    "pdf1.loc[(pdf1.propensity_impression_weights>0)& (pdf1.placementId==(piyi[1]))][\"propensity_impression_weights\"].plot.hist()"
   ]
  },
  {
   "cell_type": "code",
   "execution_count": 41,
   "id": "383095a6-9183-4910-9a99-0a5cca1ca0f7",
   "metadata": {},
   "outputs": [
    {
     "data": {
      "text/plain": [
       "<AxesSubplot:ylabel='Frequency'>"
      ]
     },
     "execution_count": 41,
     "metadata": {},
     "output_type": "execute_result"
    },
    {
     "data": {
      "image/png": "[encoded data removed]",
      "text/plain": [
       "<Figure size 432x288 with 1 Axes>"
      ]
     },
     "metadata": {
      "needs_background": "light"
     },
     "output_type": "display_data"
    },
    {
     "name": "stdout",
     "output_type": "stream",
     "text": [
      "2023-02-16T10:37:41.977+0000: [Full GC (System.gc()) 2023-02-16T10:37:41.977+0000: [Tenured: 56365K->56549K(1398144K), 0.3134588 secs] 286615K->56549K(2027392K), [Metaspace: 130033K->130033K(1173504K)], 0.3136079 secs] [Times: user=0.24 sys=0.07, real=0.32 secs] \n"
     ]
    }
   ],
   "source": [
    "piyi=[101251, 101259, 101260]\n",
    "pdf1.loc[(pdf1.propensity_impression_weights>0)& (pdf1.placementId==(piyi[2]))][\"propensity_impression_weights\"].plot.hist()"
   ]
  },
  {
   "cell_type": "code",
   "execution_count": null,
   "id": "173644fb",
   "metadata": {},
   "outputs": [],
   "source": [
    "spark.sparkContext.stop()"
   ]
  }
 ],
 "metadata": {
  "kernelspec": {
   "display_name": "Python 3 (ipykernel)",
   "language": "python",
   "name": "python3"
  },
  "language_info": {
   "codemirror_mode": {
    "name": "ipython",
    "version": 3
   },
   "file_extension": ".py",
   "mimetype": "text/x-python",
   "name": "python",
   "nbconvert_exporter": "python",
   "pygments_lexer": "ipython3",
   "version": "3.7.10"
  }
 },
 "nbformat": 4,
 "nbformat_minor": 5
}
