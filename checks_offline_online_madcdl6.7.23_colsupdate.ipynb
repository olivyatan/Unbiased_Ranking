{
 "cells": [
  {
   "cell_type": "code",
   "execution_count": 4,
   "id": "382b07b1-b5ae-4e77-88d0-cdeb90acebfd",
   "metadata": {},
   "outputs": [
    {
     "name": "stdout",
     "output_type": "stream",
     "text": [
      "cp: cannot stat '/data/shpx/notebooks/ocarmeli/Reordering_HP_CDL_mid_iid.ipynb': No such file or directory\n"
     ]
    }
   ],
   "source": [
    "!cp /data/shpx/notebooks/ocarmeli/Reordering_HP_CDL_mid_iid.ipynb /data/shpx/notebooks/olivyatan/Reordering_HP_CDL_mid_iid_ortal_copy.ipynb"
   ]
  },
  {
   "cell_type": "code",
   "execution_count": 2,
   "id": "23d9a09c-0773-4527-ad21-39a14f471fa4",
   "metadata": {},
   "outputs": [
    {
     "name": "stdout",
     "output_type": "stream",
     "text": [
      "cp: missing destination file operand after '/data/shpx/notebooks/ocarmeli/Reordering_HP_CDL_mid_iid.ipynb'\n",
      "Try 'cp --help' for more information.\n"
     ]
    }
   ],
   "source": [
    "!cp /data/shpx/notebooks/ocarmeli/Reordering_HP_CDL_mid_iid.ipynb"
   ]
  },
  {
   "cell_type": "code",
   "execution_count": 3,
   "id": "93de74fe-6819-49fb-b788-2cd89e2fd68b",
   "metadata": {},
   "outputs": [
    {
     "data": {
      "text/plain": [
       "'/data/shpx/notebooks/olivyatan'"
      ]
     },
     "execution_count": 3,
     "metadata": {},
     "output_type": "execute_result"
    }
   ],
   "source": [
    "pwd"
   ]
  },
  {
   "cell_type": "code",
   "execution_count": 6,
   "id": "3257ca3e-b8e8-42f8-a409-944d85d27667",
   "metadata": {},
   "outputs": [
    {
     "name": "stdout",
     "output_type": "stream",
     "text": [
      "ls: cannot access '/data/shpx/notebooks/ocarmeli/Reordering_HP_CDL_mid_iid.ipynb': No such file or directory\n"
     ]
    }
   ],
   "source": [
    "ls /data/shpx/notebooks/ocarmeli/Reordering_HP_CDL_mid_iid.ipynb"
   ]
  },
  {
   "cell_type": "code",
   "execution_count": 1,
   "id": "ae701762-75f8-49e4-a985-c61a85dce14b",
   "metadata": {},
   "outputs": [],
   "source": [
    "import os\n",
    "import pickle\n",
    "import socket\n",
    "import sys\n",
    "from datetime import date, timedelta\n",
    "from glob import glob\n",
    "\n",
    "import pandas as pd\n",
    "import pyspark.sql.functions as func\n",
    "import xgboost as xgb\n",
    "from fsspec.implementations import hdfs\n",
    "from pretrainer import *\n",
    "from pretrainer import *\n",
    "from pyspark.sql import Row, SparkSession\n",
    "from pyspark.sql import functions as F\n",
    "from pyspark.sql import types as T\n",
    "from pyspark.sql.functions import udf\n",
    "from pyspark.sql.types import (\n",
    "    ArrayType,\n",
    "    DoubleType,\n",
    "    LongType,\n",
    "    StringType,\n",
    "    StructField,\n",
    "    StructType,\n",
    ")\n",
    "from pyspark.sql.window import Window\n",
    "from sklearn.feature_selection import GenericUnivariateSelect, chi2, f_classif\n",
    "from sklearn.linear_model import LogisticRegression"
   ]
  },
  {
   "cell_type": "code",
   "execution_count": 2,
   "id": "af8f01f9-7e93-4025-9875-dd18bba1d233",
   "metadata": {},
   "outputs": [],
   "source": [
    "import os\n",
    "from datetime import date\n",
    "import socket\n",
    "import sys\n",
    "from pyspark.sql import SparkSession\n",
    "\n",
    "def load_spark(queue, config={}):\n",
    "    \"\"\"\n",
    "    params:\n",
    "        queue - queue of spark jobs, e.g. 'hdlq-struct-default'\n",
    "        config - dictionary to overwrite default params\n",
    "    returns:\n",
    "        spark session object\n",
    "    \"\"\"\n",
    "    \n",
    "    sys.path.append(\"/apache/spark3.1/python/lib/py4j-0.10.7-src.zip\")\n",
    "    sys.path.append('/apache/spark3.1/python')\n",
    "    os.environ[\"SPARK_HOME\"] = \"/apache/spark3.1/\"\n",
    "    \n",
    "    os.environ[\"PYSPARK_PYTHON\"] = \"/usr/share/anaconda3/python3.7/bin/python\"\n",
    "    sessionBuilder = (SparkSession.builder.appName(os.environ['KRYLOV_PRINCIPAL'])\n",
    "        .master(\"yarn\")\n",
    "        .config(\"spark.driver.maxResultSize\", \"12g\")\n",
    "        .config(\"spark.driver.host\", socket.gethostbyname(socket.gethostname()))\n",
    "        .config(\"spark.driver.port\", \"30202\")\n",
    "        .config(\"spark.executor.memoryOverhead\", \"24g\")\n",
    "        .config(\"spark.executor.cores\", \"8\")\n",
    "        .config(\"spark.driver.memory\", \"36g\")\n",
    "        .config(\"spark.executor.memory\", \"36g\")\n",
    "        .config(\"spark.rdd.compress\", True)\n",
    "        .config(\"spark.network.timeout\", \"600s\")\n",
    "        .config(\"spark.executor.heartbeatInterval\", \"300s\")\n",
    "        .config(\"spark.sql.broadcastTimeout\", \"1200s\")\n",
    "        .config(\"spark.dynamicAllocation.minExecutors\", 0)\n",
    "        .config(\"spark.dynamicAllocation.initialExecutors\", 10)\n",
    "        .config(\"spark.dynamicAllocation.maxExecutors\", 512)\n",
    "        .config(\"spark.sql.shuffle.partitions\", 512)\n",
    "        .config(\"spark.kryoserializer.buffer.max\", \"1g\")\n",
    "        .config(\"spark.yarn.queue\", queue)\n",
    "        .config(\"spark.speculation\", False)\n",
    "        .config(\"spark.rpc.message.maxSize\", 1024)\n",
    "        .config(\"spark.pyspark.python\", \"/usr/share/anaconda3/python3.7/bin/python\")\n",
    "    )\n",
    "    \n",
    "    for k,v in config.items():\n",
    "        sessionBuilder.config(k,v)\n",
    "        \n",
    "    spark = sessionBuilder.enableHiveSupport().getOrCreate()\n",
    "    spark.sparkContext.setLogLevel(\"ERROR\")\n",
    "    spark.sparkContext.setCheckpointDir(\"checkpoint/\")\n",
    "    \n",
    "\n",
    "    \n",
    "    print(\"The executors' logs link:\")\n",
    "    print(f'https://apollo-rno-rm-2.vip.hadoop.ebay.com:50030/proxy/{spark.sparkContext.applicationId}')\n",
    "    return spark"
   ]
  },
  {
   "cell_type": "code",
   "execution_count": 3,
   "id": "f0a75cff-f29e-4e75-b1f0-e078efe6a5f6",
   "metadata": {
    "scrolled": true,
    "tags": []
   },
   "outputs": [
    {
     "name": "stderr",
     "output_type": "stream",
     "text": [
      "SLF4J: Class path contains multiple SLF4J bindings.\n",
      "SLF4J: Found binding in [jar:file:/apache/releases/hadoop-2.7.3.2.6.4.2.0.38/share/hadoop/common/lib/slf4j-log4j12-1.7.30.jar!/org/slf4j/impl/StaticLoggerBinder.class]\n",
      "SLF4J: Found binding in [jar:file:/apache/releases/hbase-1.1.2.2.6.4.1.0.3/lib/slf4j-log4j12-1.7.10.jar!/org/slf4j/impl/StaticLoggerBinder.class]\n",
      "SLF4J: See http://www.slf4j.org/codes.html#multiple_bindings for an explanation.\n",
      "SLF4J: Actual binding is of type [org.slf4j.impl.Log4jLoggerFactory]\n"
     ]
    },
    {
     "name": "stdout",
     "output_type": "stream",
     "text": [
      "2023-07-06T12:38:06.802+0000: [GC (Metadata GC Threshold) \n",
      "Desired survivor size 89128960 bytes, new threshold 7 (max 15)\n",
      "[PSYoungGen: 304494K->19333K(611840K)] 304494K->19373K(2010112K), 0.0212121 secs] [Times: user=0.06 sys=0.01, real=0.02 secs] \n",
      "2023-07-06T12:38:06.823+0000: [Full GC (Metadata GC Threshold) [PSYoungGen: 19333K->0K(611840K)] [ParOldGen: 40K->18602K(882688K)] 19373K->18602K(1494528K), [Metaspace: 20275K->20275K(22528K)], 0.0392423 secs] [Times: user=0.10 sys=0.00, real=0.04 secs] \n"
     ]
    },
    {
     "name": "stderr",
     "output_type": "stream",
     "text": [
      "Setting default log level to \"WARN\".\n",
      "To adjust logging level use sc.setLogLevel(newLevel). For SparkR, use setLogLevel(newLevel).\n"
     ]
    },
    {
     "name": "stdout",
     "output_type": "stream",
     "text": [
      "2023-07-06T12:38:08.351+0000: [GC (Metadata GC Threshold) \n",
      "Desired survivor size 89128960 bytes, new threshold 7 (max 15)\n",
      "[PSYoungGen: 315321K->15977K(611840K)] 333924K->34587K(1494528K), 0.0221982 secs] [Times: user=0.04 sys=0.01, real=0.03 secs] \n",
      "2023-07-06T12:38:08.373+0000: [Full GC (Metadata GC Threshold) [PSYoungGen: 15977K->0K(611840K)] [ParOldGen: 18610K->23759K(1461760K)] 34587K->23759K(2073600K), [Metaspace: 33666K->33666K(36864K)], 0.0468869 secs] [Times: user=0.08 sys=0.00, real=0.04 secs] \n",
      "2023-07-06T12:38:10.346+0000: [GC (Metadata GC Threshold) \n",
      "Desired survivor size 89128960 bytes, new threshold 7 (max 15)\n",
      "[PSYoungGen: 476355K->23544K(611840K)] 500114K->47311K(2073600K), 0.0222566 secs] [Times: user=0.03 sys=0.01, real=0.02 secs] \n",
      "2023-07-06T12:38:10.368+0000: [Full GC (Metadata GC Threshold) [PSYoungGen: 23544K->0K(611840K)] [ParOldGen: 23767K->35987K(2098176K)] 47311K->35987K(2710016K), [Metaspace: 56409K->56395K(59392K)], 0.0903531 secs] [Times: user=0.18 sys=0.00, real=0.09 secs] \n"
     ]
    },
    {
     "name": "stderr",
     "output_type": "stream",
     "text": [
      "23/07/06 12:38:11 WARN HiveConf: DEPRECATED: hive.metastore.ds.retry.* no longer has any effect.  Use hive.hmshandler.retry.* instead\n",
      "23/07/06 12:38:11 WARN HiveConf: HiveConf of name hive.metastore.local does not exist\n",
      "23/07/06 12:38:11 WARN HiveConf: HiveConf of name hive.enforce.sorting does not exist\n",
      "23/07/06 12:38:11 WARN HiveConf: HiveConf of name hive.server2.proxyuser.hue.groups does not exist\n",
      "23/07/06 12:38:11 WARN HiveConf: HiveConf of name hive.server2.proxyuser.hue.hosts does not exist\n",
      "23/07/06 12:38:11 WARN HiveConf: HiveConf of name hive.metastore.ds.retry.interval does not exist\n",
      "23/07/06 12:38:11 WARN HiveConf: HiveConf of name hive.enforce.bucketing does not exist\n",
      "23/07/06 12:38:11 WARN HiveConf: HiveConf of name hive.metastore.ds.retry.attempts does not exist\n",
      "23/07/06 12:38:11 WARN HiveConf: HiveConf of name hive.server2.enable.impersonation does not exist\n"
     ]
    },
    {
     "name": "stdout",
     "output_type": "stream",
     "text": [
      "2023-07-06T12:38:12.835+0000: [GC (Allocation Failure) \n",
      "Desired survivor size 89128960 bytes, new threshold 7 (max 15)\n",
      "[PSYoungGen: 524800K->24526K(726016K)] 560787K->60530K(2824192K), 0.0273375 secs] [Times: user=0.03 sys=0.01, real=0.02 secs] \n"
     ]
    },
    {
     "name": "stderr",
     "output_type": "stream",
     "text": [
      "23/07/06 12:38:13 WARN Client: Neither spark.yarn.jars nor spark.yarn.archive is set, falling back to uploading libraries under SPARK_HOME.\n",
      "23/07/06 12:38:42 WARN YarnSchedulerBackend$YarnSchedulerEndpoint: Attempted to request executors before the AM has registered!\n"
     ]
    },
    {
     "name": "stdout",
     "output_type": "stream",
     "text": [
      "2023-07-06T12:38:43.495+0000: [GC (Allocation Failure) \n",
      "Desired survivor size 37224448 bytes, new threshold 8 (max 15)\n",
      "[PSYoungGen: 694222K->35404K(756736K)] 730226K->71415K(2854912K), 0.0476531 secs] [Times: user=0.06 sys=0.05, real=0.04 secs] \n",
      "2023-07-06T12:38:43.877+0000: [GC (Metadata GC Threshold) \n",
      "Desired survivor size 38797312 bytes, new threshold 9 (max 15)\n",
      "[PSYoungGen: 101497K->29545K(858624K)] 137508K->65565K(2956800K), 0.0216038 secs] [Times: user=0.04 sys=0.01, real=0.02 secs] \n",
      "2023-07-06T12:38:43.898+0000: [Full GC (Metadata GC Threshold) [PSYoungGen: 29545K->0K(858624K)] [ParOldGen: 36019K->50320K(2751488K)] 65565K->50320K(3610112K), [Metaspace: 94250K->94245K(100352K)], 0.1403472 secs] [Times: user=0.21 sys=0.03, real=0.14 secs] \n",
      "The executors' logs link:\n",
      "https://apollo-rno-rm-2.vip.hadoop.ebay.com:50030/proxy/application_1687661240187_1208896\n"
     ]
    }
   ],
   "source": [
    "spark = load_spark(queue='hddq-exprce-perso-high-mem')"
   ]
  },
  {
   "cell_type": "code",
   "execution_count": 4,
   "id": "60d62a0e-40b8-4446-abf0-1c76ec978366",
   "metadata": {},
   "outputs": [
    {
     "data": {
      "text/html": [
       "\n",
       "            <div>\n",
       "                <p><b>SparkSession - hive</b></p>\n",
       "                \n",
       "        <div>\n",
       "            <p><b>SparkContext</b></p>\n",
       "\n",
       "            <p><a href=\"http://10.207.16.219:30401\">Spark UI</a></p>\n",
       "\n",
       "            <dl>\n",
       "              <dt>Version</dt>\n",
       "                <dd><code>v3.1.1.0.9.0</code></dd>\n",
       "              <dt>Master</dt>\n",
       "                <dd><code>yarn</code></dd>\n",
       "              <dt>AppName</dt>\n",
       "                <dd><code>olivyatan</code></dd>\n",
       "            </dl>\n",
       "        </div>\n",
       "        \n",
       "            </div>\n",
       "        "
      ],
      "text/plain": [
       "<pyspark.sql.session.SparkSession at 0x7efc6f586990>"
      ]
     },
     "execution_count": 4,
     "metadata": {},
     "output_type": "execute_result"
    }
   ],
   "source": [
    "spark"
   ]
  },
  {
   "cell_type": "code",
   "execution_count": 5,
   "id": "e30edb0e-1088-414d-bd90-e76654d7ab6f",
   "metadata": {},
   "outputs": [],
   "source": [
    "pd.set_option('display.max_colwidth', None)\n",
    "pd.set_option('display.max_rows', 10)\n",
    "pd.set_option('display.float_format', lambda x: '%.3f' % x)"
   ]
  },
  {
   "cell_type": "markdown",
   "id": "ccea65c2-5178-40e8-8dbe-0cc53c594898",
   "metadata": {},
   "source": [
    "### Load ab test data: "
   ]
  },
  {
   "cell_type": "code",
   "execution_count": 6,
   "id": "70295c2e-715a-4d35-9d6e-cbb6940714ea",
   "metadata": {},
   "outputs": [],
   "source": [
    "import pandas as pd\n",
    "import datetime\n",
    "import os\n",
    "\n",
    "from pyspark.sql import functions as F\n",
    "from pyspark.sql import types as T"
   ]
  },
  {
   "cell_type": "code",
   "execution_count": 7,
   "id": "53ff9d5f-7abc-4a2f-8cf9-207c3b9136fb",
   "metadata": {},
   "outputs": [],
   "source": [
    "def get_data_path_dir(arr, allow_asterisk=True):\n",
    "    if not arr:\n",
    "        assert allow_asterisk, \"missing partition for path\"\n",
    "        return \"*\"\n",
    "    elif len(arr) > 1:\n",
    "        return \"{\" + \",\".join([str(elem) for elem in arr]) + \"}\"\n",
    "    else:\n",
    "        return str(arr[0])\n",
    "\n",
    "\n",
    "def get_madcdl_path(from_date, to_date, placements):\n",
    "    return os.path.join(\n",
    "        \"/apps/b_adv/plmerch/cdl\",\n",
    "        get_data_path_dir(\n",
    "            [datetime.datetime.strftime(date, '%Y/%m/%d') for date in pd.date_range(from_date, to_date)],\n",
    "            allow_asterisk=False\n",
    "        ),\n",
    "        \"detail_gmv_part/*\",\n",
    "        \"plmt=\" + get_data_path_dir(placements)\n",
    "    )\n",
    "\n",
    "#madcdl us \n",
    "def get_madcdl(spark, from_date, to_date, placements=None):\n",
    "    df_mad = spark.read.parquet(get_madcdl_path(from_date, to_date, placements)) \\\n",
    "        .filter(F.col(\"ICFBOT\") == \"00\") \\\n",
    "        .filter(F.col(\"SITE_ID\") == 0) \\\n",
    "        .filter(F.length(F.col(\"EUID\")) == 0) \\\n",
    "        .withColumn(\"ts\", F.to_timestamp(F.col(\"MERCH_DATE\"), \"yyyy/MM/dd HH:mm:ss\")) \\\n",
    "        .withColumn(\"eventTimestamp\", F.col(\"ts\").cast(T.LongType()) * 1000) \\\n",
    "\n",
    "    return df_mad"
   ]
  },
  {
   "cell_type": "code",
   "execution_count": 8,
   "id": "65bfa6c5-5142-4e70-81a9-9c7327618bf2",
   "metadata": {
    "scrolled": true,
    "tags": []
   },
   "outputs": [
    {
     "name": "stderr",
     "output_type": "stream",
     "text": [
      "                                                                                \r"
     ]
    }
   ],
   "source": [
    "madcdl = get_madcdl(\n",
    "    spark,\n",
    "    datetime.date(2023, 6, 6),\n",
    "    datetime.date(2023, 6, 20),\n",
    "    [101251, 101259, 101260, 101551, 101574, 101575, 101576]\n",
    ")"
   ]
  },
  {
   "cell_type": "code",
   "execution_count": 9,
   "id": "3ab2e6da-1c00-4556-a3c5-434c56253f98",
   "metadata": {},
   "outputs": [
    {
     "name": "stdout",
     "output_type": "stream",
     "text": [
      "2023-07-06T12:38:57.951+0000: [GC (Allocation Failure) \n",
      "Desired survivor size 47185920 bytes, new threshold 8 (max 15)\n",
      "[PSYoungGen: 822272K->37877K(860160K)] 872592K->94815K(3611648K), 0.0905976 secs] [Times: user=0.08 sys=0.13, real=0.09 secs] \n"
     ]
    }
   ],
   "source": [
    "madcdl.createOrReplaceTempView(\"madcdl\")"
   ]
  },
  {
   "cell_type": "code",
   "execution_count": 10,
   "id": "6f4cfb33-20e3-45ea-8160-849e30167739",
   "metadata": {
    "scrolled": true,
    "tags": []
   },
   "outputs": [
    {
     "name": "stderr",
     "output_type": "stream",
     "text": [
      "[Stage 3:>                                                          (0 + 1) / 1]\r"
     ]
    },
    {
     "name": "stdout",
     "output_type": "stream",
     "text": [
      "+------+----------+-------+------+--------+--------------------+------------------+----------------+--------------------+------------+----+--------------+-----+------+-----------+----------------+---------------+--------------------+--------+-------------+---------------------+\n",
      "|  TRKS|   user_id|SITE_ID|  plmt|      dt|                meid|        Experience|SURFACE_PLMT_IMP|ALGO_OUTPUT_ITEM_CNT|      itemId|rank|leafCategoryId|price|clicks|plmt_clicks|plmt_purchase_1d|plmt_gmv_sum_1d|   ALGO_OUTPUT_ITEMS|platform|   test_group|treatment_control_agg|\n",
      "+------+----------+-------+------+--------+--------------------+------------------+----------------+--------------------+------------+----+--------------+-----+------+-----------+----------------+---------------+--------------------+--------+-------------+---------------------+\n",
      "|250481|2410828769|      0|101251|20230606|c6f406de525946878...|Browser: Core site|               1|                  10|195778208439|   1|         15709| 8000|      |         []|               0|              0|[195778208439:1:8...| Browser|  control_web|              control|\n",
      "|250481|2410828769|      0|101251|20230606|c6f406de525946878...|Browser: Core site|               1|                  10|285264932359|   2|         15709|15000|      |         []|               0|              0|[195778208439:1:8...| Browser|  control_web|              control|\n",
      "|250481|2410828769|      0|101251|20230606|c6f406de525946878...|Browser: Core site|               1|                  10|185870946788|   3|         15709|14999|      |         []|               0|              0|[195778208439:1:8...| Browser|  control_web|              control|\n",
      "|250481|2410828769|      0|101251|20230606|c6f406de525946878...|Browser: Core site|               1|                  10|256089102202|   4|         15709|24999|      |         []|               0|              0|[195778208439:1:8...| Browser|  control_web|              control|\n",
      "|250481|2410828769|      0|101251|20230606|c6f406de525946878...|Browser: Core site|               1|                  10|115798683872|   5|         15709| 9900|      |         []|               0|              0|[195778208439:1:8...| Browser|  control_web|              control|\n",
      "|250481|2410828769|      0|101251|20230606|c6f406de525946878...|Browser: Core site|               1|                  10|204317283777|   6|         15709|12000|      |         []|               0|              0|[195778208439:1:8...| Browser|  control_web|              control|\n",
      "|250481|2410828769|      0|101251|20230606|c6f406de525946878...|Browser: Core site|               1|                  10|385645108438|   7|         15709|15000|      |         []|               0|              0|[195778208439:1:8...| Browser|  control_web|              control|\n",
      "|250481|2410828769|      0|101251|20230606|c6f406de525946878...|Browser: Core site|               1|                  10|404308209169|   8|         15709|17000|      |         []|               0|              0|[195778208439:1:8...| Browser|  control_web|              control|\n",
      "|250481|2410828769|      0|101251|20230606|c6f406de525946878...|Browser: Core site|               1|                  10|334879548237|   9|         15709|11497|      |         []|               0|              0|[195778208439:1:8...| Browser|  control_web|              control|\n",
      "|250481|2410828769|      0|101251|20230606|c6f406de525946878...|Browser: Core site|               1|                  10|394321005065|  10|         15709|22000|      |         []|               0|              0|[195778208439:1:8...| Browser|  control_web|              control|\n",
      "|250482|1577086073|      0|101251|20230606|61ac9575d452419e8...|      Apps: iPhone|               1|                   4|125951208784|   1|         95672|53500|      |         []|               0|              0|[125951208784:1:5...|    Apps|treatment_iOs|            treatment|\n",
      "|250482|1577086073|      0|101251|20230606|61ac9575d452419e8...|      Apps: iPhone|               1|                   4|334847025922|   2|         95672|64900|      |         []|               0|              0|[125951208784:1:5...|    Apps|treatment_iOs|            treatment|\n",
      "|250482|1577086073|      0|101251|20230606|61ac9575d452419e8...|      Apps: iPhone|               1|                   4|364276753547|   3|         95672|62500|      |         []|               0|              0|[125951208784:1:5...|    Apps|treatment_iOs|            treatment|\n",
      "|250482|1577086073|      0|101251|20230606|61ac9575d452419e8...|      Apps: iPhone|               1|                   4|195754364515|   4|         95672|42500|      |         []|               0|              0|[125951208784:1:5...|    Apps|treatment_iOs|            treatment|\n",
      "|250481|  77643678|      0|101251|20230606|d8ab2d7c9f9541028...|Browser: Core site|               1|                   7|385655803103|   1|         15709|25500|      |         []|               0|              0|[385655803103:0:2...| Browser|  control_web|              control|\n",
      "|250481|  77643678|      0|101251|20230606|d8ab2d7c9f9541028...|Browser: Core site|               1|                   7|385651094120|   2|         15709|28000|      |         []|               0|              0|[385655803103:0:2...| Browser|  control_web|              control|\n",
      "|250481|  77643678|      0|101251|20230606|d8ab2d7c9f9541028...|Browser: Core site|               1|                   7|314604522667|   3|         15709|17999|      |         []|               0|              0|[385655803103:0:2...| Browser|  control_web|              control|\n",
      "|250481|  77643678|      0|101251|20230606|d8ab2d7c9f9541028...|Browser: Core site|               1|                   7|364252022945|   4|         15709|32000|      |         []|               0|              0|[385655803103:0:2...| Browser|  control_web|              control|\n",
      "|250481|  77643678|      0|101251|20230606|d8ab2d7c9f9541028...|Browser: Core site|               1|                   7|195742062828|   5|         15709|29999|      |         []|               0|              0|[385655803103:0:2...| Browser|  control_web|              control|\n",
      "|250481|  77643678|      0|101251|20230606|d8ab2d7c9f9541028...|Browser: Core site|               1|                   7|175742163595|   6|         15709|27000|      |         []|               0|              0|[385655803103:0:2...| Browser|  control_web|              control|\n",
      "+------+----------+-------+------+--------+--------------------+------------------+----------------+--------------------+------------+----+--------------+-----+------+-----------+----------------+---------------+--------------------+--------+-------------+---------------------+\n",
      "only showing top 20 rows\n",
      "\n"
     ]
    },
    {
     "name": "stderr",
     "output_type": "stream",
     "text": [
      "                                                                                \r"
     ]
    }
   ],
   "source": [
    "sneakers_abtest_ios_android_web_items = spark.sql(\"\"\"\n",
    " select * from ( SELECT \n",
    "      TRKS,\n",
    "      user_id ,\n",
    "\t  SITE_ID,\n",
    "      plmt,\n",
    "\t  dt,\n",
    "\t  meid,\n",
    "\t  Experience,\n",
    "\t  SURFACE_PLMT_IMP,\n",
    "\t  ALGO_OUTPUT_ITEM_CNT,\n",
    "\t  split(outitm, ':') [0]  AS itemId, \n",
    "\t  split(outitm, ':') [21]  AS rank, \n",
    "\t  split(outitm, ':') [15]  AS leafCategoryId, \n",
    "\t  split(outitm, ':') [2]  AS price,  \n",
    "\t  split(outitm, ':') [9]  AS clicks,\n",
    "\t  clicks as plmt_clicks,\n",
    "\t  purchase_1d as plmt_purchase_1d, \n",
    "\t  gmv_sum_1d as plmt_gmv_sum_1d,\n",
    "\t  ALGO_OUTPUT_ITEMS,\n",
    "\t case when  Experience in('Browser: mWeb','Browser: Core site') then 'Browser'\n",
    "\t when  Experience in('Apps: iPhone','Apps: Android') then 'Apps' end as platform ,\n",
    "\n",
    "\tCASE\n",
    "    WHEN TRKS IN (250480) AND dt BETWEEN '20230606' AND '20230613' AND Experience IN ('Browser: mWeb','Browser: Core site') THEN 'treatment_web'\n",
    "    WHEN TRKS IN (250481) AND dt BETWEEN '20230606' AND '20230613' AND Experience IN ('Browser: mWeb','Browser: Core site') THEN 'control_web'\n",
    "    WHEN TRKS IN (250484) AND dt BETWEEN '20230606' AND '20230620' AND Experience = 'Apps: Android' THEN 'treatment_Android'\n",
    "    WHEN TRKS IN (250485) AND dt BETWEEN '20230606' AND '20230620' AND Experience = 'Apps: Android' THEN 'control_Android'\n",
    "    WHEN TRKS IN (250482) AND dt BETWEEN '20230606' AND '20230620' AND Experience = 'Apps: iPhone' THEN 'treatment_iOs'\n",
    "    WHEN TRKS IN (250483) AND dt BETWEEN '20230606' AND '20230620' AND Experience = 'Apps: iPhone' THEN 'control_iOs'\n",
    " \tEND AS test_group,\n",
    "\t\n",
    "\t   CASE\n",
    "    WHEN (TRKS IN (250480) AND dt BETWEEN '20230606' AND '20230613' AND Experience IN ('Browser: mWeb','Browser: Core site'))\n",
    "         OR (TRKS IN (250484) AND dt BETWEEN '20230606' AND '20230620' AND Experience = 'Apps: Android')\n",
    "         OR (TRKS IN (250482) AND dt BETWEEN '20230606' AND '20230620' AND Experience = 'Apps: iPhone') THEN 'treatment'\n",
    "    WHEN (TRKS IN (250481) AND dt BETWEEN '20230606' AND '20230613' AND Experience IN ('Browser: mWeb','Browser: Core site'))\n",
    "         OR (TRKS IN (250485) AND dt BETWEEN '20230606' AND '20230620' AND Experience = 'Apps: Android')\n",
    "         OR (TRKS IN (250483) AND dt BETWEEN '20230606' AND '20230620' AND Experience = 'Apps: iPhone') THEN 'control'\n",
    "  END AS treatment_control_agg\n",
    "\n",
    "    FROM\n",
    "    bpe_v.plmerch_data_v  LATERAL VIEW explode(`ALGO_OUTPUT_ITEMS`) outitm AS outitm \n",
    "    WHERE\n",
    "\t SURFACE_PLMT_IMP=1 \n",
    "\t and  plmt in (101251, 101259, 101260, 101551, 101574, 101575, 101576)\n",
    "\t and TRKS in (250484, 250485,250482,250483 ,250480, 250481 ) --control, treatment, sneakers ios android web \n",
    "\t AND dt BETWEEN '20230606' AND '20230620'\n",
    "     AND ICFBOT = '00' \n",
    "     AND length(EUID) = 0 \n",
    "\t and SITE_ID in (0 ) -- us only \n",
    "\t and Experience in('Apps: iPhone','Apps: Android', 'Browser: mWeb','Browser: Core site')-- web and mobile \n",
    "\t) as s  \n",
    "\twhere leafCategoryId in ( 15709, 95672)\n",
    "    \n",
    "\"\"\")\n",
    "sneakers_abtest_ios_android_web_items.cache()\n",
    "sneakers_abtest_ios_android_web_items.show()"
   ]
  },
  {
   "cell_type": "code",
   "execution_count": 11,
   "id": "04abd6a9-8dbf-440f-b9f1-760561d8f051",
   "metadata": {
    "scrolled": true,
    "tags": []
   },
   "outputs": [
    {
     "name": "stdout",
     "output_type": "stream",
     "text": [
      "2023-07-06T12:39:30.606+0000: [GC (Allocation Failure) \n",
      "Desired survivor size 64487424 bytes, new threshold 7 (max 15)\n",
      "[PSYoungGen: 860149K->46058K(1178624K)] 917087K->128255K(3930112K), 0.0754485 secs] [Times: user=0.14 sys=0.08, real=0.07 secs] \n"
     ]
    },
    {
     "name": "stderr",
     "output_type": "stream",
     "text": [
      "[Stage 4:==>                                               (1475 + 144) / 31503]\r"
     ]
    },
    {
     "name": "stdout",
     "output_type": "stream",
     "text": [
      "2023-07-06T12:39:44.489+0000: [GC (Allocation Failure) \n",
      "Desired survivor size 82837504 bytes, new threshold 6 (max 15)\n",
      "[PSYoungGen: 1178602K->62951K(1209856K)] 1260799K->168152K(3961344K), 0.1038639 secs] [Times: user=0.17 sys=0.13, real=0.11 secs] \n"
     ]
    },
    {
     "name": "stderr",
     "output_type": "stream",
     "text": [
      "[Stage 4:=====>                                            (3390 + 504) / 31503]\r"
     ]
    },
    {
     "name": "stdout",
     "output_type": "stream",
     "text": [
      "2023-07-06T12:39:53.740+0000: [GC (Allocation Failure) \n",
      "Desired survivor size 92274688 bytes, new threshold 7 (max 15)\n",
      "[PSYoungGen: 1209831K->74932K(1441280K)] 1315032K->180140K(4192768K), 0.0679280 secs] [Times: user=0.12 sys=0.08, real=0.07 secs] \n"
     ]
    },
    {
     "name": "stderr",
     "output_type": "stream",
     "text": [
      "[Stage 4:=========>                                        (5963 + 768) / 31503]\r"
     ]
    },
    {
     "name": "stdout",
     "output_type": "stream",
     "text": [
      "2023-07-06T12:39:58.914+0000: [GC (Allocation Failure) \n",
      "Desired survivor size 105381888 bytes, new threshold 8 (max 15)\n",
      "[PSYoungGen: 1435316K->89739K(1450496K)] 1540524K->194948K(4201984K), 0.0641790 secs] [Times: user=0.13 sys=0.06, real=0.06 secs] \n"
     ]
    },
    {
     "name": "stderr",
     "output_type": "stream",
     "text": [
      "[Stage 4:=============>                                    (8589 + 784) / 31503]\r"
     ]
    },
    {
     "name": "stdout",
     "output_type": "stream",
     "text": [
      "2023-07-06T12:40:02.645+0000: [GC (Allocation Failure) \n",
      "Desired survivor size 121634816 bytes, new threshold 7 (max 15)\n",
      "[PSYoungGen: 1450123K->102890K(1717760K)] 1555332K->209610K(4469248K), 0.0758401 secs] [Times: user=0.17 sys=0.05, real=0.07 secs] \n"
     ]
    },
    {
     "name": "stderr",
     "output_type": "stream",
     "text": [
      "[Stage 4:==================>                              (11844 + 816) / 31503]\r"
     ]
    },
    {
     "name": "stdout",
     "output_type": "stream",
     "text": [
      "2023-07-06T12:40:06.264+0000: [GC (Allocation Failure) \n",
      "Desired survivor size 140509184 bytes, new threshold 6 (max 15)\n",
      "[PSYoungGen: 1717738K->118773K(1733632K)] 1824458K->227502K(4485120K), 0.0915447 secs] [Times: user=0.19 sys=0.07, real=0.09 secs] \n"
     ]
    },
    {
     "name": "stderr",
     "output_type": "stream",
     "text": [
      "[Stage 4:=======================>                         (15197 + 929) / 31503]\r"
     ]
    },
    {
     "name": "stdout",
     "output_type": "stream",
     "text": [
      "2023-07-06T12:40:09.656+0000: [GC (Allocation Failure) \n",
      "Desired survivor size 147324928 bytes, new threshold 7 (max 15)\n",
      "[PSYoungGen: 1733621K->98289K(2149888K)] 1842350K->244504K(4901376K), 0.0932484 secs] [Times: user=0.20 sys=0.08, real=0.09 secs] \n"
     ]
    },
    {
     "name": "stderr",
     "output_type": "stream",
     "text": [
      "[Stage 4:=============================>                  (19045 + 1224) / 31503]\r"
     ]
    },
    {
     "name": "stdout",
     "output_type": "stream",
     "text": [
      "2023-07-06T12:40:13.394+0000: [GC (Allocation Failure) \n",
      "Desired survivor size 160432128 bytes, new threshold 8 (max 15)\n",
      "[PSYoungGen: 2110961K->118740K(2156544K)] 2257176K->264962K(4908032K), 0.0857128 secs] [Times: user=0.24 sys=0.02, real=0.08 secs] \n"
     ]
    },
    {
     "name": "stderr",
     "output_type": "stream",
     "text": [
      "[Stage 4:==================================>             (22628 + 1944) / 31503]\r"
     ]
    },
    {
     "name": "stdout",
     "output_type": "stream",
     "text": [
      "2023-07-06T12:40:16.218+0000: [GC (Allocation Failure) \n",
      "Desired survivor size 178782208 bytes, new threshold 8 (max 15)\n",
      "[PSYoungGen: 2131412K->141552K(2714624K)] 2277634K->287774K(5466112K), 0.0953047 secs] [Times: user=0.22 sys=0.07, real=0.10 secs] \n"
     ]
    },
    {
     "name": "stderr",
     "output_type": "stream",
     "text": [
      "[Stage 4:=========================================>      (27511 + 2681) / 31503]\r"
     ]
    },
    {
     "name": "stdout",
     "output_type": "stream",
     "text": [
      "2023-07-06T12:40:19.221+0000: [GC (Allocation Failure) \n",
      "Desired survivor size 193462272 bytes, new threshold 7 (max 15)\n",
      "[PSYoungGen: 2699504K->141855K(2732544K)] 2845726K->312090K(5484032K), 0.1088662 secs] [Times: user=0.24 sys=0.08, real=0.11 secs] \n"
     ]
    },
    {
     "name": "stderr",
     "output_type": "stream",
     "text": [
      "[Stage 5:>                                                          (0 + 1) / 1]\r"
     ]
    },
    {
     "name": "stdout",
     "output_type": "stream",
     "text": [
      "+------+----------+-------+------+--------+--------------------+----------------+------------+-----------+\n",
      "|  TRKS|   user_id|SITE_ID|  plmt|      dt|                meid|SURFACE_PLMT_IMP|      itemId|PURCHASE_1D|\n",
      "+------+----------+-------+------+--------+--------------------+----------------+------------+-----------+\n",
      "|250481|2532669094|      0|101251|20230610|d08f7edd1fad4a099...|               1|125937346525|          1|\n",
      "|250484|1504524424|      0|101251|20230613|c97d7368fb3f446aa...|               1|374716107585|          1|\n",
      "|250484|2360108253|      0|101251|20230613|c75dc3a445834d66a...|               1|166158220851|          1|\n",
      "|250483|1620339212|      0|101251|20230620|14ff4d81abcc4ffaa...|               1|285328803466|          1|\n",
      "|250485|  62217040|      0|101251|20230618|f5d5149fe92249dea...|               1|404323666367|          2|\n",
      "|250481|   7594278|      0|101259|20230606|280209021c2644e59...|               1|166089674082|          1|\n",
      "|250482|2442072185|      0|101251|20230609|e4d34ee643ab436ea...|               1|285312519773|          1|\n",
      "|250484|  15969481|      0|101251|20230611|dfeec37226094f75a...|               1|374732110930|          1|\n",
      "|250484| 229360064|      0|101259|20230607|4a4bde11231d4abbb...|               1|185498304268|          1|\n",
      "|250484| 100132402|      0|101251|20230615|a5b1224db0014eb5a...|               1|364233665384|          1|\n",
      "|250482|1116009594|      0|101251|20230615|eca96177c6e14d5e8...|               1|325684456879|          1|\n",
      "|250483|  77315038|      0|101259|20230609|b207d1753ff945f9a...|               1|354328233622|          1|\n",
      "|250484|2469139807|      0|101251|20230609|a9820ff0151d467a8...|               1|385663265319|          1|\n",
      "|250483| 224054860|      0|101260|20230618|ebee4103fb074586a...|               1|256050981297|          1|\n",
      "|250483|2379530595|      0|101251|20230612|5787c23c98614f8fb...|               1|393925736781|          1|\n",
      "|250481|1365890450|      0|101251|20230607|62072f8233f746d9a...|               1|115823943082|          1|\n",
      "|250484|1686013120|      0|101259|20230610|e5b3c8d8882c45d5a...|               1|324134618420|          1|\n",
      "|250482|1875393725|      0|101251|20230611|7e7b415e43994e53b...|               1|404320240878|          1|\n",
      "|250485|2312421156|      0|101251|20230619|407bff73ea114239a...|               1|175393487299|          1|\n",
      "|250483|1870187768|      0|101251|20230614|22834c53283a4be19...|               1|354779809407|          1|\n",
      "+------+----------+-------+------+--------+--------------------+----------------+------------+-----------+\n",
      "only showing top 20 rows\n",
      "\n"
     ]
    },
    {
     "name": "stderr",
     "output_type": "stream",
     "text": [
      "                                                                                \r"
     ]
    }
   ],
   "source": [
    "sneakers_transactions = spark.sql(\"\"\"\n",
    "\n",
    "  SELECT \n",
    "      TRKS,\n",
    "      user_id,\n",
    "\t  SITE_ID,\n",
    "      plmt,\n",
    "\t  dt,\n",
    "\t  meid,\n",
    "\t  SURFACE_PLMT_IMP,\n",
    "\t--  split(GMV_1D1, ':') [0]  AS userId,\n",
    "\t  split(GMV_1D1, ':') [1]  AS itemId, \n",
    "\t--  split(GMV_1D1, ':') [2]  AS transactionId,  \n",
    "\t  PURCHASE_1D\n",
    "    FROM\n",
    "    bpe_v.plmerch_data_v  LATERAL VIEW explode(`GMV_1D`)  AS GMV_1D1\n",
    "\t WHERE\n",
    "\t SURFACE_PLMT_IMP=1 \n",
    "\t  and purchase_1d >0 \n",
    "\t and  plmt in (101251, 101259, 101260, 101551, 101574, 101575, 101576)\n",
    "\t and TRKS in (250484, 250485,250482,250483 ,250480, 250481 ) --control, treatment, sneakers ios android web \n",
    "\t AND dt BETWEEN '20230606' AND '20230620'\n",
    "     AND ICFBOT = '00' \n",
    "     AND length(EUID) = 0 \n",
    "\t and SITE_ID in (0 ) -- us only \n",
    "\t and Experience in('Apps: iPhone','Apps: Android', 'Browser: mWeb','Browser: Core site')-- web and mobile \n",
    "\n",
    "\tgroup by 1,2,3,4,5,6,7,8,9\n",
    "    \n",
    "\"\"\")\n",
    "sneakers_transactions.cache()\n",
    "sneakers_transactions.show()"
   ]
  },
  {
   "cell_type": "code",
   "execution_count": 12,
   "id": "dd28c61c-44a7-482b-994e-5c5140d55e51",
   "metadata": {},
   "outputs": [
    {
     "name": "stdout",
     "output_type": "stream",
     "text": [
      "+------+----------+-------+------+--------+--------------------+----------------+------------+-----------+\n",
      "|  TRKS|   user_id|SITE_ID|  plmt|      dt|                meid|SURFACE_PLMT_IMP|      itemId|PURCHASE_1D|\n",
      "+------+----------+-------+------+--------+--------------------+----------------+------------+-----------+\n",
      "|250481|2532669094|      0|101251|20230610|d08f7edd1fad4a099...|               1|125937346525|          1|\n",
      "|250484|1504524424|      0|101251|20230613|c97d7368fb3f446aa...|               1|374716107585|          1|\n",
      "|250484|2360108253|      0|101251|20230613|c75dc3a445834d66a...|               1|166158220851|          1|\n",
      "|250483|1620339212|      0|101251|20230620|14ff4d81abcc4ffaa...|               1|285328803466|          1|\n",
      "|250485|  62217040|      0|101251|20230618|f5d5149fe92249dea...|               1|404323666367|          2|\n",
      "|250481|   7594278|      0|101259|20230606|280209021c2644e59...|               1|166089674082|          1|\n",
      "|250482|2442072185|      0|101251|20230609|e4d34ee643ab436ea...|               1|285312519773|          1|\n",
      "|250484|  15969481|      0|101251|20230611|dfeec37226094f75a...|               1|374732110930|          1|\n",
      "|250484| 229360064|      0|101259|20230607|4a4bde11231d4abbb...|               1|185498304268|          1|\n",
      "|250484| 100132402|      0|101251|20230615|a5b1224db0014eb5a...|               1|364233665384|          1|\n",
      "|250482|1116009594|      0|101251|20230615|eca96177c6e14d5e8...|               1|325684456879|          1|\n",
      "|250483|  77315038|      0|101259|20230609|b207d1753ff945f9a...|               1|354328233622|          1|\n",
      "|250484|2469139807|      0|101251|20230609|a9820ff0151d467a8...|               1|385663265319|          1|\n",
      "|250483| 224054860|      0|101260|20230618|ebee4103fb074586a...|               1|256050981297|          1|\n",
      "|250483|2379530595|      0|101251|20230612|5787c23c98614f8fb...|               1|393925736781|          1|\n",
      "|250481|1365890450|      0|101251|20230607|62072f8233f746d9a...|               1|115823943082|          1|\n",
      "|250484|1686013120|      0|101259|20230610|e5b3c8d8882c45d5a...|               1|324134618420|          1|\n",
      "|250482|1875393725|      0|101251|20230611|7e7b415e43994e53b...|               1|404320240878|          1|\n",
      "|250485|2312421156|      0|101251|20230619|407bff73ea114239a...|               1|175393487299|          1|\n",
      "|250483|1870187768|      0|101251|20230614|22834c53283a4be19...|               1|354779809407|          1|\n",
      "+------+----------+-------+------+--------+--------------------+----------------+------------+-----------+\n",
      "only showing top 20 rows\n",
      "\n"
     ]
    }
   ],
   "source": [
    "sneakers_transactions.show()"
   ]
  },
  {
   "cell_type": "code",
   "execution_count": 25,
   "id": "b72c9dbe-a5b7-405c-a583-33452aad16b7",
   "metadata": {
    "scrolled": true,
    "tags": []
   },
   "outputs": [
    {
     "name": "stderr",
     "output_type": "stream",
     "text": [
      "[Stage 23:>                                                         (0 + 1) / 1]\r"
     ]
    },
    {
     "name": "stdout",
     "output_type": "stream",
     "text": [
      "+------+-------------+---------------------+----------+-------+------+--------+--------------------+------------------+--------+----------------+------------+---------------+--------------+------+-----+---------------+----------------+-----------+----------------+-----------+\n",
      "|  TRKS|   test_group|treatment_control_agg|   user_id|SITE_ID|  plmt|      dt|                meid|        Experience|platform|SURFACE_PLMT_IMP|      itemId|production_rank|leafCategoryId|clicks|price|plmt_gmv_sum_1d|plmt_purchase_1d|plmt_clicks|purchased_itemId|is_purchase|\n",
      "+------+-------------+---------------------+----------+-------+------+--------+--------------------+------------------+--------+----------------+------------+---------------+--------------+------+-----+---------------+----------------+-----------+----------------+-----------+\n",
      "|250481|  control_web|              control|2410828769|      0|101251|20230606|c6f406de525946878...|Browser: Core site| Browser|               1|195778208439|              1|         15709|      | 8000|              0|               0|         []|            null|          0|\n",
      "|250481|  control_web|              control|2410828769|      0|101251|20230606|c6f406de525946878...|Browser: Core site| Browser|               1|285264932359|              2|         15709|      |15000|              0|               0|         []|            null|          0|\n",
      "|250481|  control_web|              control|2410828769|      0|101251|20230606|c6f406de525946878...|Browser: Core site| Browser|               1|185870946788|              3|         15709|      |14999|              0|               0|         []|            null|          0|\n",
      "|250481|  control_web|              control|2410828769|      0|101251|20230606|c6f406de525946878...|Browser: Core site| Browser|               1|256089102202|              4|         15709|      |24999|              0|               0|         []|            null|          0|\n",
      "|250481|  control_web|              control|2410828769|      0|101251|20230606|c6f406de525946878...|Browser: Core site| Browser|               1|115798683872|              5|         15709|      | 9900|              0|               0|         []|            null|          0|\n",
      "|250481|  control_web|              control|2410828769|      0|101251|20230606|c6f406de525946878...|Browser: Core site| Browser|               1|204317283777|              6|         15709|      |12000|              0|               0|         []|            null|          0|\n",
      "|250481|  control_web|              control|2410828769|      0|101251|20230606|c6f406de525946878...|Browser: Core site| Browser|               1|385645108438|              7|         15709|      |15000|              0|               0|         []|            null|          0|\n",
      "|250481|  control_web|              control|2410828769|      0|101251|20230606|c6f406de525946878...|Browser: Core site| Browser|               1|404308209169|              8|         15709|      |17000|              0|               0|         []|            null|          0|\n",
      "|250481|  control_web|              control|2410828769|      0|101251|20230606|c6f406de525946878...|Browser: Core site| Browser|               1|334879548237|              9|         15709|      |11497|              0|               0|         []|            null|          0|\n",
      "|250481|  control_web|              control|2410828769|      0|101251|20230606|c6f406de525946878...|Browser: Core site| Browser|               1|394321005065|             10|         15709|      |22000|              0|               0|         []|            null|          0|\n",
      "|250482|treatment_iOs|            treatment|1577086073|      0|101251|20230606|61ac9575d452419e8...|      Apps: iPhone|    Apps|               1|125951208784|              1|         95672|      |53500|              0|               0|         []|            null|          0|\n",
      "|250482|treatment_iOs|            treatment|1577086073|      0|101251|20230606|61ac9575d452419e8...|      Apps: iPhone|    Apps|               1|334847025922|              2|         95672|      |64900|              0|               0|         []|            null|          0|\n",
      "|250482|treatment_iOs|            treatment|1577086073|      0|101251|20230606|61ac9575d452419e8...|      Apps: iPhone|    Apps|               1|364276753547|              3|         95672|      |62500|              0|               0|         []|            null|          0|\n",
      "|250482|treatment_iOs|            treatment|1577086073|      0|101251|20230606|61ac9575d452419e8...|      Apps: iPhone|    Apps|               1|195754364515|              4|         95672|      |42500|              0|               0|         []|            null|          0|\n",
      "|250481|  control_web|              control|  77643678|      0|101251|20230606|d8ab2d7c9f9541028...|Browser: Core site| Browser|               1|385655803103|              1|         15709|      |25500|              0|               0|         []|            null|          0|\n",
      "|250481|  control_web|              control|  77643678|      0|101251|20230606|d8ab2d7c9f9541028...|Browser: Core site| Browser|               1|385651094120|              2|         15709|      |28000|              0|               0|         []|            null|          0|\n",
      "|250481|  control_web|              control|  77643678|      0|101251|20230606|d8ab2d7c9f9541028...|Browser: Core site| Browser|               1|314604522667|              3|         15709|      |17999|              0|               0|         []|            null|          0|\n",
      "|250481|  control_web|              control|  77643678|      0|101251|20230606|d8ab2d7c9f9541028...|Browser: Core site| Browser|               1|364252022945|              4|         15709|      |32000|              0|               0|         []|            null|          0|\n",
      "|250481|  control_web|              control|  77643678|      0|101251|20230606|d8ab2d7c9f9541028...|Browser: Core site| Browser|               1|195742062828|              5|         15709|      |29999|              0|               0|         []|            null|          0|\n",
      "|250481|  control_web|              control|  77643678|      0|101251|20230606|d8ab2d7c9f9541028...|Browser: Core site| Browser|               1|175742163595|              6|         15709|      |27000|              0|               0|         []|            null|          0|\n",
      "+------+-------------+---------------------+----------+-------+------+--------+--------------------+------------------+--------+----------------+------------+---------------+--------------+------+-----+---------------+----------------+-----------+----------------+-----------+\n",
      "only showing top 20 rows\n",
      "\n"
     ]
    },
    {
     "name": "stderr",
     "output_type": "stream",
     "text": [
      "                                                                                \r"
     ]
    }
   ],
   "source": [
    "sneakers_abtest_ios_android_web_items.createOrReplaceTempView(\"sneakers_abtest_ios_android_web_items\")\n",
    "sneakers_transactions.createOrReplaceTempView(\"sneakers_transactions\")\n",
    "sneakers_abtest_transactions = spark.sql(\"\"\"\n",
    "\n",
    "select \n",
    "\t  i.TRKS,\n",
    "\t  i.test_group, \n",
    "\t  i.treatment_control_agg,\n",
    "      i.user_id ,\n",
    "\t  i.SITE_ID,\n",
    "      i.plmt,\n",
    "\t  i.dt,\n",
    "\t  i.meid,\n",
    "\t  i.Experience,\n",
    "\t  i.platform, \n",
    "\t  i.SURFACE_PLMT_IMP,\n",
    "\t  i.itemId, \n",
    "\t  i.rank as production_rank, \n",
    "\t  i.leafCategoryId, \n",
    "\t  i.clicks,\n",
    "\t  i.price,\n",
    "\t  i.plmt_gmv_sum_1d,\n",
    "\t  i.plmt_purchase_1d  ,\n",
    "\t  i.plmt_clicks,\n",
    "\t  p.itemId as purchased_itemId,\n",
    "      case when purchased_itemId is not null then 1 else 0 end as is_purchase\n",
    "\n",
    "\n",
    "\tfrom  sneakers_abtest_ios_android_web_items as i \n",
    "\tleft join sneakers_transactions as p on i.user_id=p.user_id and i.meid=p.meid and i.itemId=p.itemId\n",
    "    \n",
    "\"\"\")\n",
    "sneakers_abtest_transactions.cache()\n",
    "sneakers_abtest_transactions.show()"
   ]
  },
  {
   "cell_type": "code",
   "execution_count": 26,
   "id": "f25411e6-1917-4d15-9b5e-08d9f4971100",
   "metadata": {
    "tags": []
   },
   "outputs": [
    {
     "name": "stderr",
     "output_type": "stream",
     "text": [
      "[Stage 24:==========>                                      (6756 + 664) / 31503]\r"
     ]
    },
    {
     "name": "stdout",
     "output_type": "stream",
     "text": [
      "2023-07-06T14:13:38.208+0000: [GC (Allocation Failure) \n",
      "Desired survivor size 436731904 bytes, new threshold 15 (max 15)\n",
      "[PSYoungGen: 5612032K->167045K(6031872K)] 5966857K->521878K(30137344K), 0.1108472 secs] [Times: user=0.29 sys=0.03, real=0.11 secs] \n"
     ]
    },
    {
     "name": "stderr",
     "output_type": "stream",
     "text": [
      "[Stage 24:=====================>                         (14710 + 1672) / 31503]\r"
     ]
    },
    {
     "name": "stdout",
     "output_type": "stream",
     "text": [
      "2023-07-06T14:14:03.348+0000: [GC (Allocation Failure) \n",
      "Desired survivor size 467140608 bytes, new threshold 15 (max 15)\n",
      "[PSYoungGen: 5779077K->237823K(6060544K)] 6133910K->592656K(30166016K), 0.1607529 secs] [Times: user=0.35 sys=0.13, real=0.16 secs] \n"
     ]
    },
    {
     "name": "stderr",
     "output_type": "stream",
     "text": [
      "[Stage 24:==================================>            (23056 + 1984) / 31503]\r"
     ]
    },
    {
     "name": "stdout",
     "output_type": "stream",
     "text": [
      "2023-07-06T14:14:16.131+0000: [GC (Allocation Failure) \n",
      "Desired survivor size 517472256 bytes, new threshold 15 (max 15)\n",
      "[PSYoungGen: 5871871K->312432K(6090240K)] 6226704K->667265K(30195712K), 0.1715042 secs] [Times: user=0.45 sys=0.06, real=0.17 secs] \n"
     ]
    },
    {
     "name": "stderr",
     "output_type": "stream",
     "text": [
      "                                                                                \r"
     ]
    },
    {
     "data": {
      "text/plain": [
       "71630905"
      ]
     },
     "execution_count": 26,
     "metadata": {},
     "output_type": "execute_result"
    }
   ],
   "source": [
    "sneakers_abtest_transactions.count()"
   ]
  },
  {
   "cell_type": "markdown",
   "id": "5a99b9b7-5a6b-4e43-8375-e3b5e6413ff1",
   "metadata": {},
   "source": [
    "### save test data"
   ]
  },
  {
   "cell_type": "raw",
   "id": "75e6d09b-baa7-430d-9128-fa16585e082e",
   "metadata": {
    "tags": []
   },
   "source": [
    "!hdfs dfs -ls -h /user/b_perso/olivyatan/piyi/sneakers_abtest_transactions"
   ]
  },
  {
   "cell_type": "raw",
   "id": "ba80bbca-437e-49b6-98be-194ec7e84506",
   "metadata": {
    "tags": []
   },
   "source": [
    "sneakers_abtest_transactions.write.parquet('/user/b_perso/olivyatan/piyi/sneakers_abtest_transactions', mode='overwrite')"
   ]
  },
  {
   "cell_type": "raw",
   "id": "fdc8ea67-e129-4b5d-aaa6-1d8c77673bed",
   "metadata": {},
   "source": [
    "from pyspark.sql.types import StructType, StructField, StringType, IntegerType, LongType, ArrayType\n",
    "\n",
    "# Define the schema of the DataFrame\n",
    "schema = StructType([\n",
    "    StructField(\"TRKS\", StringType(), nullable=True),\n",
    "    StructField(\"user_id\", LongType(), nullable=True),\n",
    "    StructField(\"SITE_ID\", IntegerType(), nullable=True),\n",
    "    StructField(\"plmt\", StringType(), nullable=True),\n",
    "    StructField(\"dt\", StringType(), nullable=True),\n",
    "    StructField(\"meid\", StringType(), nullable=True),\n",
    "    StructField(\"Experience\", StringType(), nullable=True),\n",
    "    StructField(\"SURFACE_PLMT_IMP\", LongType(), nullable=True),\n",
    "    StructField(\"itemId\", StringType(), nullable=True),\n",
    "    StructField(\"production_rank\", StringType(), nullable=True),\n",
    "    StructField(\"leafCategoryId\", StringType(), nullable=True),\n",
    "    StructField(\"clicks\", StringType(), nullable=True),\n",
    "    StructField(\"price\", StringType(), nullable=True),\n",
    "    StructField(\"plmt_gmv_sum_1d\", LongType(), nullable=True),\n",
    "    StructField(\"plmt_purchase_1d\", LongType(), nullable=True),\n",
    "    StructField(\"plmt_clicks\", ArrayType(StringType(), containsNull=True), nullable=True),\n",
    "    StructField(\"purchased_itemId\", StringType(), nullable=True),\n",
    "    StructField(\"is_purchase\", IntegerType(), nullable=False)\n",
    "])"
   ]
  },
  {
   "cell_type": "raw",
   "id": "20716ee2-45be-4511-a8e0-48632973fac4",
   "metadata": {},
   "source": [
    "sneakers_abtest_data = spark.read.schema(schema).parquet('/user/b_perso/olivyatan/piyi/sneakers_abtest_transactions')"
   ]
  },
  {
   "cell_type": "raw",
   "id": "8c9d041d-fdc9-4833-b03d-063abf9c646f",
   "metadata": {},
   "source": [
    "sneakers_abtest_data.cache()\n",
    "sneakers_abtest_data.show()"
   ]
  },
  {
   "cell_type": "raw",
   "id": "a3690cb5-2f48-47c0-9091-a4e08bbd0993",
   "metadata": {
    "tags": []
   },
   "source": [
    "sneakers_abtest_data.count()"
   ]
  },
  {
   "cell_type": "raw",
   "id": "bcbd93d4-6d94-4136-8661-053a08e13bc6",
   "metadata": {
    "tags": []
   },
   "source": [
    "sneakers_abtest_transactions.printSchema()"
   ]
  },
  {
   "cell_type": "markdown",
   "id": "e677b7ac-cdc8-4749-9e7a-feb0dbe2755e",
   "metadata": {},
   "source": [
    "sneakers_abtest_data=spark.read.parquet('/user/b_perso/olivyatan/piyi/sneakers_abtest_transactions')"
   ]
  },
  {
   "cell_type": "raw",
   "id": "1734d08a-6825-4388-8123-d233cce12821",
   "metadata": {
    "tags": []
   },
   "source": [
    "sneakers_abtest_transactions_p= sneakers_abtest_transactions.repartition(100)"
   ]
  },
  {
   "cell_type": "raw",
   "id": "756cbc25-52ba-4e59-b057-907da4360a87",
   "metadata": {
    "tags": []
   },
   "source": [
    "sneakers_abtest_df = sneakers_abtest_transactions_p.toPandas()"
   ]
  },
  {
   "cell_type": "raw",
   "id": "30734e9e-f438-4b2a-a790-31fe01f75bf9",
   "metadata": {
    "tags": []
   },
   "source": [
    "sneakers_abtest_df.to_pickle('/data/shpx/notebooks/olivyatan/Unbiasing/sneakers_size_abtest_transactions_290623.pkl' )"
   ]
  },
  {
   "cell_type": "code",
   "execution_count": null,
   "id": "4dd963c7-7724-47f9-8cec-6f04be050a0c",
   "metadata": {},
   "outputs": [],
   "source": [
    "sneakers_abtest_transactions.shape"
   ]
  },
  {
   "cell_type": "markdown",
   "id": "73b7e4c3-1726-4153-a0a9-df3914d706bf",
   "metadata": {},
   "source": [
    "### sample users: "
   ]
  },
  {
   "cell_type": "code",
   "execution_count": 27,
   "id": "7d5e3fd8-e2a3-4b5a-b20d-9064409eb7ba",
   "metadata": {
    "scrolled": true,
    "tags": []
   },
   "outputs": [],
   "source": [
    "from pyspark.sql.functions import col\n",
    "\n",
    "# Get the distinct user_ids\n",
    "distinct_user_ids = sneakers_abtest_transactions.select(\"user_id\").distinct()\n",
    "\n",
    "# Calculate the fraction to sample (80%)\n",
    "sample_fraction = 0.6\n",
    "\n",
    "# Sample the user_ids\n",
    "sampled_user_ids = distinct_user_ids.sample(fraction=sample_fraction, seed=42)\n",
    "\n"
   ]
  },
  {
   "cell_type": "code",
   "execution_count": 28,
   "id": "da97f8d8-c525-4ed9-9ba7-60274be1de33",
   "metadata": {
    "scrolled": true,
    "tags": []
   },
   "outputs": [
    {
     "name": "stdout",
     "output_type": "stream",
     "text": [
      "2023-07-06T14:15:08.119+0000: [GC (Allocation Failure) \n",
      "Desired survivor size 529530880 bytes, new threshold 15 (max 15)\n",
      "[PSYoungGen: 5943375K->241722K(6176768K)] 6298208K->596563K(30282240K), 0.1385312 secs] [Times: user=0.32 sys=0.08, real=0.14 secs] \n"
     ]
    },
    {
     "name": "stderr",
     "output_type": "stream",
     "text": [
      "[Stage 27:==>     (9015 + 1713) / 31503][Stage 28:>         (440 + 237) / 31503]\r"
     ]
    },
    {
     "name": "stdout",
     "output_type": "stream",
     "text": [
      "2023-07-06T14:15:10.039+0000: [GC (Allocation Failure) \n",
      "Desired survivor size 555745280 bytes, new threshold 15 (max 15)\n",
      "[PSYoungGen: 5913146K->292924K(6188544K)] 6267987K->647774K(30294016K), 0.1345894 secs] [Times: user=0.40 sys=0.00, real=0.14 secs] \n"
     ]
    },
    {
     "name": "stderr",
     "output_type": "stream",
     "text": [
      "[Stage 27:====>   (18216 + 905) / 31503][Stage 28:>        (2396 + 785) / 31503]\r"
     ]
    },
    {
     "name": "stdout",
     "output_type": "stream",
     "text": [
      "2023-07-06T14:15:11.935+0000: [GC (Allocation Failure) \n",
      "Desired survivor size 637534208 bytes, new threshold 15 (max 15)\n",
      "[PSYoungGen: 5964348K->458864K(6237696K)] 6319198K->813722K(30343168K), 0.3016008 secs] [Times: user=0.74 sys=0.16, real=0.30 secs] \n"
     ]
    },
    {
     "name": "stderr",
     "output_type": "stream",
     "text": [
      "[Stage 27:======> (24172 + 582) / 31503][Stage 28:==>      (7978 + 604) / 31503]\r"
     ]
    },
    {
     "name": "stdout",
     "output_type": "stream",
     "text": [
      "2023-07-06T14:15:14.015+0000: [GC (Allocation Failure) \n",
      "Desired survivor size 767033344 bytes, new threshold 14 (max 15)\n",
      "[PSYoungGen: 6153840K->622580K(6317568K)] 6508698K->986125K(30423040K), 0.3699748 secs] [Times: user=1.00 sys=0.10, real=0.37 secs] \n"
     ]
    },
    {
     "name": "stderr",
     "output_type": "stream",
     "text": [
      "[Stage 27:=======>(30843 + 660) / 31503][Stage 28:==>    (11346 + 2053) / 31503]\r"
     ]
    },
    {
     "name": "stdout",
     "output_type": "stream",
     "text": [
      "2023-07-06T14:15:16.156+0000: [GC (Allocation Failure) \n",
      "Desired survivor size 927465472 bytes, new threshold 13 (max 15)\n",
      "[PSYoungGen: 6317556K->749035K(6580224K)] 6681101K->1144395K(30685696K), 0.4976819 secs] [Times: user=1.13 sys=0.36, real=0.50 secs] \n"
     ]
    },
    {
     "name": "stderr",
     "output_type": "stream",
     "text": [
      "[Stage 27:=======>(31105 + 398) / 31503][Stage 28:====>  (22380 + 2315) / 31503]\r"
     ]
    },
    {
     "name": "stdout",
     "output_type": "stream",
     "text": [
      "2023-07-06T14:15:18.377+0000: [GC (Allocation Failure) \n",
      "Desired survivor size 1111490560 bytes, new threshold 12 (max 15)\n",
      "[PSYoungGen: 6580203K->905725K(6736896K)] 6975563K->1321701K(30842368K), 0.4688086 secs] [Times: user=1.40 sys=0.00, real=0.47 secs] \n"
     ]
    },
    {
     "name": "stderr",
     "output_type": "stream",
     "text": [
      "23/07/06 14:15:19 ERROR AsyncEventQueue: Dropping event from queue executorManagement. This likely means one of the listeners is too slow and cannot keep up with the rate at which tasks are being started by the scheduler.\n",
      "[Stage 31:>                                                         (0 + 1) / 1]\r"
     ]
    },
    {
     "name": "stdout",
     "output_type": "stream",
     "text": [
      "+-------+------+-------------+---------------------+-------+------+--------+--------------------+------------------+--------+----------------+------------+---------------+--------------+------+-----+---------------+----------------+-----------+----------------+-----------+\n",
      "|user_id|  TRKS|   test_group|treatment_control_agg|SITE_ID|  plmt|      dt|                meid|        Experience|platform|SURFACE_PLMT_IMP|      itemId|production_rank|leafCategoryId|clicks|price|plmt_gmv_sum_1d|plmt_purchase_1d|plmt_clicks|purchased_itemId|is_purchase|\n",
      "+-------+------+-------------+---------------------+-------+------+--------+--------------------+------------------+--------+----------------+------------+---------------+--------------+------+-----+---------------+----------------+-----------+----------------+-----------+\n",
      "| 938014|250480|treatment_web|            treatment|      0|101259|20230607|a3f3f56c05a74b4ca...|Browser: Core site| Browser|               1|334727550472|              1|         15709|      |10000|              0|               0|         []|            null|          0|\n",
      "| 938014|250480|treatment_web|            treatment|      0|101259|20230607|a3f3f56c05a74b4ca...|Browser: Core site| Browser|               1|234857567147|              2|         15709|      |15897|              0|               0|         []|            null|          0|\n",
      "| 938014|250480|treatment_web|            treatment|      0|101259|20230607|a3f3f56c05a74b4ca...|Browser: Core site| Browser|               1|394607340414|              3|         15709|      |14499|              0|               0|         []|            null|          0|\n",
      "| 938014|250480|treatment_web|            treatment|      0|101259|20230607|a3f3f56c05a74b4ca...|Browser: Core site| Browser|               1|364107352411|              4|         15709|      |14490|              0|               0|         []|            null|          0|\n",
      "| 938014|250480|treatment_web|            treatment|      0|101259|20230607|a3f3f56c05a74b4ca...|Browser: Core site| Browser|               1|144865374854|              5|         15709|      |15999|              0|               0|         []|            null|          0|\n",
      "| 938014|250480|treatment_web|            treatment|      0|101259|20230607|a3f3f56c05a74b4ca...|Browser: Core site| Browser|               1|125742519705|              6|         15709|      |15999|              0|               0|         []|            null|          0|\n",
      "| 938014|250480|treatment_web|            treatment|      0|101259|20230607|a3f3f56c05a74b4ca...|Browser: Core site| Browser|               1|334799359903|              7|         15709|      |12900|              0|               0|         []|            null|          0|\n",
      "| 938014|250480|treatment_web|            treatment|      0|101259|20230607|a3f3f56c05a74b4ca...|Browser: Core site| Browser|               1|285065950181|              8|         15709|      |16999|              0|               0|         []|            null|          0|\n",
      "| 938014|250480|treatment_web|            treatment|      0|101259|20230607|a3f3f56c05a74b4ca...|Browser: Core site| Browser|               1|144885264576|              9|         15709|      |15999|              0|               0|         []|            null|          0|\n",
      "| 938014|250480|treatment_web|            treatment|      0|101259|20230607|a3f3f56c05a74b4ca...|Browser: Core site| Browser|               1|144888275582|             10|         15709|      |16000|              0|               0|         []|            null|          0|\n",
      "| 938014|250480|treatment_web|            treatment|      0|101251|20230612|a3eb2e05ead9400eb...|Browser: Core site| Browser|               1|195814417010|              1|         15709|      |12000|              0|               0|         []|            null|          0|\n",
      "| 938014|250480|treatment_web|            treatment|      0|101251|20230612|a3eb2e05ead9400eb...|Browser: Core site| Browser|               1|256106679616|              2|         15709|      |10000|              0|               0|         []|            null|          0|\n",
      "| 938014|250480|treatment_web|            treatment|      0|101251|20230612|a3eb2e05ead9400eb...|Browser: Core site| Browser|               1|204364831562|              3|         15709|      | 7600|              0|               0|         []|            null|          0|\n",
      "| 938014|250480|treatment_web|            treatment|      0|101251|20230612|a3eb2e05ead9400eb...|Browser: Core site| Browser|               1|325543739402|              4|         15709|      |15495|              0|               0|         []|            null|          0|\n",
      "| 938014|250480|treatment_web|            treatment|      0|101251|20230612|a3eb2e05ead9400eb...|Browser: Core site| Browser|               1|175766739429|              5|         15709|      |18500|              0|               0|         []|            null|          0|\n",
      "| 938014|250480|treatment_web|            treatment|      0|101251|20230612|a3eb2e05ead9400eb...|Browser: Core site| Browser|               1|225611722482|              6|         15709|      |15000|              0|               0|         []|            null|          0|\n",
      "| 938014|250480|treatment_web|            treatment|      0|101251|20230612|a3eb2e05ead9400eb...|Browser: Core site| Browser|               1|275898172160|              7|         15709|      |14999|              0|               0|         []|            null|          0|\n",
      "| 938014|250480|treatment_web|            treatment|      0|101251|20230612|a3eb2e05ead9400eb...|Browser: Core site| Browser|               1|295753582389|              8|         15709|      |25999|              0|               0|         []|            null|          0|\n",
      "| 938014|250480|treatment_web|            treatment|      0|101251|20230612|a3eb2e05ead9400eb...|Browser: Core site| Browser|               1|314627366657|              9|         15709|      |25500|              0|               0|         []|            null|          0|\n",
      "| 938014|250480|treatment_web|            treatment|      0|101251|20230612|a3eb2e05ead9400eb...|Browser: Core site| Browser|               1|115829384426|             10|         15709|      |17900|              0|               0|         []|            null|          0|\n",
      "+-------+------+-------------+---------------------+-------+------+--------+--------------------+------------------+--------+----------------+------------+---------------+--------------+------+-----+---------------+----------------+-----------+----------------+-----------+\n",
      "only showing top 20 rows\n",
      "\n"
     ]
    },
    {
     "name": "stderr",
     "output_type": "stream",
     "text": [
      "                                                                                \r"
     ]
    }
   ],
   "source": [
    "# Filter the original DataFrame to retain data for sampled users\n",
    "sampled_sneakers_data = sneakers_abtest_transactions.join(sampled_user_ids, on=\"user_id\", how=\"inner\")\n",
    "\n",
    "# Check the sampled DataFrame\n",
    "sampled_sneakers_data.show()"
   ]
  },
  {
   "cell_type": "code",
   "execution_count": 29,
   "id": "4608eab1-4951-4358-819e-60692025d6e5",
   "metadata": {
    "scrolled": true,
    "tags": []
   },
   "outputs": [
    {
     "name": "stdout",
     "output_type": "stream",
     "text": [
      "2023-07-06T14:15:26.185+0000: [GC (Allocation Failure) \n",
      "Desired survivor size 1296564224 bytes, new threshold 13 (max 15)\n",
      "[PSYoungGen: 6736893K->1026194K(7165952K)] 7152869K->1442178K(31271424K), 0.6667837 secs] [Times: user=1.52 sys=0.46, real=0.67 secs] \n"
     ]
    },
    {
     "name": "stderr",
     "output_type": "stream",
     "text": [
      "[Stage 32:==>    (10877 + 1595) / 31503][Stage 33:>         (810 + 180) / 31503]\r"
     ]
    },
    {
     "name": "stdout",
     "output_type": "stream",
     "text": [
      "2023-07-06T14:15:28.778+0000: [GC (Allocation Failure) \n",
      "Desired survivor size 1464336384 bytes, new threshold 14 (max 15)\n",
      "[PSYoungGen: 7106706K->1078951K(7346688K)] 7522690K->1494935K(31452160K), 0.4772170 secs] [Times: user=1.43 sys=0.00, real=0.48 secs] \n"
     ]
    },
    {
     "name": "stderr",
     "output_type": "stream",
     "text": [
      "[Stage 32:====>   (19435 + 843) / 31503][Stage 33:=>       (4627 + 697) / 31503]\r"
     ]
    },
    {
     "name": "stdout",
     "output_type": "stream",
     "text": [
      "2023-07-06T14:15:31.165+0000: [GC (Allocation Failure) \n",
      "Desired survivor size 1620049920 bytes, new threshold 15 (max 15)\n",
      "[PSYoungGen: 7159463K->1141658K(7813120K)] 7575447K->1557642K(31918592K), 0.6242443 secs] [Times: user=1.54 sys=0.34, real=0.62 secs] \n"
     ]
    },
    {
     "name": "stderr",
     "output_type": "stream",
     "text": [
      "[Stage 32:======> (24862 + 597) / 31503][Stage 33:==>    (10173 + 2115) / 31503]\r"
     ]
    },
    {
     "name": "stdout",
     "output_type": "stream",
     "text": [
      "2023-07-06T14:15:33.791+0000: [GC (Allocation Failure) \n",
      "Desired survivor size 1768423424 bytes, new threshold 15 (max 15)\n",
      "[PSYoungGen: 7524762K->1211422K(7965184K)] 7940746K->1627406K(32070656K), 0.5375369 secs] [Times: user=1.60 sys=0.00, real=0.54 secs] \n"
     ]
    },
    {
     "name": "stderr",
     "output_type": "stream",
     "text": [
      "[Stage 32:=======>(27682 + 541) / 31503][Stage 33:====>  (20098 + 2172) / 31503]\r"
     ]
    },
    {
     "name": "stdout",
     "output_type": "stream",
     "text": [
      "2023-07-06T14:15:36.247+0000: [GC (Allocation Failure) \n",
      "Desired survivor size 1907884032 bytes, new threshold 15 (max 15)\n",
      "[PSYoungGen: 7594526K->1277058K(8518144K)] 8010510K->1693042K(32623616K), 0.7275949 secs] [Times: user=1.74 sys=0.44, real=0.73 secs] \n"
     ]
    },
    {
     "name": "stderr",
     "output_type": "stream",
     "text": [
      "[Stage 33:==============================================> (30651 + 852) / 31503]\r"
     ]
    },
    {
     "name": "stdout",
     "output_type": "stream",
     "text": [
      "2023-07-06T14:15:39.205+0000: [GC (Allocation Failure) \n",
      "Desired survivor size 1787822080 bytes, new threshold 15 (max 15)\n",
      "[PSYoungGen: 8068226K->678060K(8654336K)] 8484210K->1094052K(32759808K), 0.2882802 secs] [Times: user=0.85 sys=0.01, real=0.29 secs] \n"
     ]
    },
    {
     "name": "stderr",
     "output_type": "stream",
     "text": [
      "                                                                                \r"
     ]
    },
    {
     "name": "stdout",
     "output_type": "stream",
     "text": [
      "2023-07-06T14:15:58.119+0000: [GC (Allocation Failure) \n",
      "Desired survivor size 2084569088 bytes, new threshold 15 (max 15)\n",
      "[PSYoungGen: 7469228K->1745919K(8828416K)] 7885220K->2456639K(32933888K), 0.5538947 secs] [Times: user=1.00 sys=0.64, real=0.56 secs] \n",
      "2023-07-06T14:16:03.057+0000: [GC (Allocation Failure) \n",
      "Desired survivor size 4294967296 bytes, new threshold 14 (max 15)\n",
      "[PSYoungGen: 8622098K->2035705K(9118208K)] 9332818K->9156198K(33223680K), 3.2324170 secs] [Times: user=7.71 sys=1.97, real=3.23 secs] \n",
      "2023-07-06T14:16:10.738+0000: [GC (Allocation Failure) \n",
      "Desired survivor size 4294967296 bytes, new threshold 13 (max 15)\n",
      "[PSYoungGen: 9016923K->3464673K(7659008K)] 16137416K->16319949K(31764480K), 3.6313658 secs] [Times: user=8.52 sys=2.37, real=3.63 secs] \n",
      "2023-07-06T14:16:16.951+0000: [GC (Allocation Failure) \n",
      "Desired survivor size 4294967296 bytes, new threshold 12 (max 15)\n",
      "[PSYoungGen: 7658977K->4194298K(8388608K)] 20514253K->20015407K(32494080K), 2.3628914 secs] [Times: user=6.30 sys=0.77, real=2.37 secs] \n",
      "2023-07-06T14:16:26.996+0000: [GC (Allocation Failure) \n",
      "Desired survivor size 4294967296 bytes, new threshold 11 (max 15)\n",
      "[PSYoungGen: 8388602K->2930303K(8388608K)] 24209711K->18829797K(32494080K), 0.9267625 secs] [Times: user=2.61 sys=0.16, real=0.92 secs] \n",
      "2023-07-06T14:16:32.505+0000: [GC (Allocation Failure) \n",
      "Desired survivor size 4294967296 bytes, new threshold 10 (max 15)\n",
      "[PSYoungGen: 7124607K->2791893K(8388608K)] 23024101K->18824943K(32494080K), 1.0569771 secs] [Times: user=2.72 sys=0.44, real=1.05 secs] \n",
      "2023-07-06T14:16:38.972+0000: [GC (Allocation Failure) \n",
      "Desired survivor size 4294967296 bytes, new threshold 9 (max 15)\n",
      "[PSYoungGen: 6986197K->2777829K(8388608K)] 23019247K->18843831K(32494080K), 1.2525637 secs] [Times: user=2.94 sys=0.80, real=1.25 secs] \n",
      "2023-07-06T14:16:44.093+0000: [GC (Allocation Failure) \n",
      "Desired survivor size 4294967296 bytes, new threshold 8 (max 15)\n",
      "[PSYoungGen: 6972133K->2744172K(8388608K)] 23038135K->18842998K(32494080K), 0.7868814 secs] [Times: user=2.35 sys=0.02, real=0.78 secs] \n",
      "2023-07-06T14:16:48.770+0000: [GC (Allocation Failure) \n",
      "Desired survivor size 4294967296 bytes, new threshold 7 (max 15)\n",
      "[PSYoungGen: 6938476K->2685447K(8388608K)] 23037302K->18841256K(32494080K), 0.8874456 secs] [Times: user=2.64 sys=0.01, real=0.89 secs] \n",
      "2023-07-06T14:16:53.649+0000: [GC (Allocation Failure) \n",
      "Desired survivor size 4294967296 bytes, new threshold 6 (max 15)\n",
      "[PSYoungGen: 6879751K->2671911K(8388608K)] 23035560K->18827880K(32494080K), 0.8719781 secs] [Times: user=2.37 sys=0.23, real=0.87 secs] \n",
      "2023-07-06T14:16:58.498+0000: [GC (Allocation Failure) \n",
      "Desired survivor size 4294967296 bytes, new threshold 5 (max 15)\n",
      "[PSYoungGen: 6866215K->24409K(8388608K)] 23022184K->18870303K(32494080K), 1.7107950 secs] [Times: user=3.70 sys=1.43, real=1.71 secs] \n",
      "2023-07-06T14:17:05.479+0000: [GC (Allocation Failure) \n",
      "Desired survivor size 4294967296 bytes, new threshold 4 (max 15)\n",
      "[PSYoungGen: 4218713K->24377K(8388608K)] 23064607K->18870359K(32494080K), 0.0854811 secs] [Times: user=0.23 sys=0.02, real=0.09 secs] \n",
      "2023-07-06T14:17:09.534+0000: [GC (Allocation Failure) \n",
      "Desired survivor size 4294967296 bytes, new threshold 3 (max 15)\n",
      "[PSYoungGen: 4218681K->22347K(8388608K)] 23064663K->18868785K(32494080K), 0.0677636 secs] [Times: user=0.20 sys=0.00, real=0.06 secs] \n",
      "2023-07-06T14:17:13.581+0000: [GC (Allocation Failure) \n",
      "Desired survivor size 4294967296 bytes, new threshold 2 (max 15)\n",
      "[PSYoungGen: 4216651K->21522K(8388608K)] 23063089K->18869352K(32494080K), 0.0865636 secs] [Times: user=0.19 sys=0.06, real=0.09 secs] \n",
      "2023-07-06T14:17:23.220+0000: [GC (Allocation Failure) \n",
      "Desired survivor size 4294967296 bytes, new threshold 1 (max 15)\n",
      "[PSYoungGen: 4215826K->22450K(8388608K)] 23063656K->18870392K(32494080K), 0.0576240 secs] [Times: user=0.17 sys=0.00, real=0.06 secs] \n",
      "2023-07-06T14:17:27.481+0000: [GC (Allocation Failure) \n",
      "Desired survivor size 4294967296 bytes, new threshold 1 (max 15)\n",
      "[PSYoungGen: 4216754K->1842K(8388608K)] 23064696K->18849968K(32494080K), 0.1249880 secs] [Times: user=0.16 sys=0.22, real=0.13 secs] \n",
      "2023-07-06T14:17:31.611+0000: [GC (Allocation Failure) \n",
      "Desired survivor size 4294967296 bytes, new threshold 1 (max 15)\n",
      "[PSYoungGen: 4196146K->21302K(8388608K)] 23044272K->18869428K(32494080K), 0.1274129 secs] [Times: user=0.19 sys=0.18, real=0.13 secs] \n",
      "2023-07-06T14:17:43.223+0000: [GC (Allocation Failure) \n",
      "Desired survivor size 4294967296 bytes, new threshold 1 (max 15)\n",
      "[PSYoungGen: 4215606K->20939K(8388608K)] 23063732K->18869081K(32494080K), 0.0763332 secs] [Times: user=0.17 sys=0.04, real=0.08 secs] \n",
      "2023-07-06T14:17:48.206+0000: [GC (Allocation Failure) \n",
      "Desired survivor size 4294967296 bytes, new threshold 1 (max 15)\n",
      "[PSYoungGen: 4215243K->21810K(8388608K)] 23063385K->18869960K(32494080K), 0.0575153 secs] [Times: user=0.16 sys=0.01, real=0.06 secs] \n",
      "2023-07-06T14:17:52.299+0000: [GC (Allocation Failure) \n",
      "Desired survivor size 4294967296 bytes, new threshold 1 (max 15)\n",
      "[PSYoungGen: 4216114K->18578K(8388608K)] 23064264K->18866744K(32494080K), 0.0954791 secs] [Times: user=0.18 sys=0.10, real=0.10 secs] \n",
      "2023-07-06T14:18:05.466+0000: [GC (Allocation Failure) \n",
      "Desired survivor size 4294967296 bytes, new threshold 1 (max 15)\n",
      "[PSYoungGen: 4212882K->14033K(8388608K)] 23061048K->18862208K(32494080K), 0.0555358 secs] [Times: user=0.16 sys=0.01, real=0.05 secs] \n",
      "2023-07-06T14:18:09.556+0000: [GC (Allocation Failure) \n",
      "Desired survivor size 4294967296 bytes, new threshold 1 (max 15)\n",
      "[PSYoungGen: 4208337K->16434K(8388608K)] 23056512K->18864896K(32494080K), 0.1321585 secs] [Times: user=0.22 sys=0.17, real=0.13 secs] \n",
      "2023-07-06T14:18:13.665+0000: [GC (Allocation Failure) \n",
      "Desired survivor size 4294967296 bytes, new threshold 1 (max 15)\n",
      "[PSYoungGen: 4210738K->14482K(8388608K)] 23059200K->18862960K(32494080K), 0.0728794 secs] [Times: user=0.17 sys=0.05, real=0.07 secs] \n",
      "2023-07-06T14:18:17.762+0000: [GC (Allocation Failure) \n",
      "Desired survivor size 4121952256 bytes, new threshold 2 (max 15)\n",
      "[PSYoungGen: 4208786K->16402K(4211200K)] 23057264K->18865072K(28316672K), 0.0701551 secs] [Times: user=0.15 sys=0.02, real=0.08 secs] \n",
      "2023-07-06T14:18:21.829+0000: [GC (Allocation Failure) \n",
      "Desired survivor size 3886022656 bytes, new threshold 3 (max 15)\n",
      "[PSYoungGen: 4210706K->16562K(7900160K)] 23059376K->18865232K(32005632K), 0.1113560 secs] [Times: user=0.17 sys=0.13, real=0.11 secs] \n",
      "2023-07-06T14:18:38.757+0000: [GC (Allocation Failure) \n",
      "Desired survivor size 3655335936 bytes, new threshold 4 (max 15)\n",
      "[PSYoungGen: 4281522K->24946K(4290048K)] 23130192K->18873616K(28395520K), 0.0957551 secs] [Times: user=0.19 sys=0.06, real=0.10 secs] \n",
      "2023-07-06T14:18:43.038+0000: [GC (Allocation Failure) \n",
      "Desired survivor size 3431989248 bytes, new threshold 5 (max 15)\n",
      "[PSYoungGen: 4289906K->21868K(7451648K)] 23138576K->18870538K(31557120K), 0.0872411 secs] [Times: user=0.18 sys=0.04, real=0.09 secs] \n",
      "2023-07-06T14:18:47.300+0000: [GC (Allocation Failure) \n",
      "Desired survivor size 3219652608 bytes, new threshold 6 (max 15)\n",
      "[PSYoungGen: 4342636K->10353K(4331520K)] 23191306K->18859032K(28436992K), 0.1080369 secs] [Times: user=0.18 sys=0.09, real=0.11 secs] \n",
      "2023-07-06T14:18:51.487+0000: [GC (Allocation Failure) \n",
      "Desired survivor size 3013083136 bytes, new threshold 7 (max 15)\n",
      "[PSYoungGen: 4331121K->22841K(7114240K)] 23179800K->18871519K(31219712K), 0.0879229 secs] [Times: user=0.17 sys=0.04, real=0.09 secs] \n",
      "2023-07-06T14:18:55.693+0000: [GC (Allocation Failure) \n",
      "Desired survivor size 2815426560 bytes, new threshold 8 (max 15)\n",
      "[PSYoungGen: 4398905K->25042K(4401152K)] 23247583K->18873720K(28506624K), 0.1076164 secs] [Times: user=0.18 sys=0.09, real=0.10 secs] \n",
      "2023-07-06T14:19:15.592+0000: [GC (Allocation Failure) \n",
      "Desired survivor size 2627731456 bytes, new threshold 9 (max 15)\n",
      "[PSYoungGen: 4401106K->23609K(6795264K)] 23249784K->18872287K(30900736K), 0.0853459 secs] [Times: user=0.17 sys=0.03, real=0.08 secs] \n",
      "2023-07-06T14:19:19.880+0000: [GC (Allocation Failure) \n",
      "Desired survivor size 2449997824 bytes, new threshold 10 (max 15)\n",
      "[PSYoungGen: 4446777K->22156K(4445696K)] 23295455K->18870834K(28551168K), 0.1217474 secs] [Times: user=0.20 sys=0.12, real=0.12 secs] \n",
      "2023-07-06T14:19:24.252+0000: [GC (Allocation Failure) \n",
      "Desired survivor size 2283274240 bytes, new threshold 11 (max 15)\n",
      "[PSYoungGen: 4445324K->14514K(6566912K)] 23294002K->18863192K(30672384K), 0.1470148 secs] [Times: user=0.18 sys=0.22, real=0.15 secs] \n",
      "2023-07-06T14:19:28.748+0000: [GC (Allocation Failure) \n",
      "Desired survivor size 2123366400 bytes, new threshold 12 (max 15)\n",
      "[PSYoungGen: 4503730K->25010K(4514304K)] 23352408K->18873688K(28619776K), 0.1333882 secs] [Times: user=0.22 sys=0.14, real=0.13 secs] \n",
      "2023-07-06T14:19:34.504+0000: [GC (Allocation Failure) \n",
      "Desired survivor size 1974468608 bytes, new threshold 13 (max 15)\n",
      "[PSYoungGen: 4514226K->16722K(6325760K)] 23362904K->18865400K(30431232K), 0.0759568 secs] [Times: user=0.16 sys=0.02, real=0.08 secs] \n",
      "2023-07-06T14:19:38.937+0000: [GC (Allocation Failure) \n",
      "Desired survivor size 1832910848 bytes, new threshold 14 (max 15)\n",
      "[PSYoungGen: 4568914K->23385K(4575744K)] 23417592K->18872063K(28681216K), 0.1481519 secs] [Times: user=0.23 sys=0.18, real=0.15 secs] \n",
      "2023-07-06T14:20:03.939+0000: [GC (Allocation Failure) \n",
      "Desired survivor size 1700790272 bytes, new threshold 15 (max 15)\n",
      "[PSYoungGen: 4575577K->21654K(6130176K)] 23424255K->18870332K(30235648K), 0.1328663 secs] [Times: user=0.17 sys=0.18, real=0.14 secs] \n",
      "2023-07-06T14:20:08.636+0000: [GC (Allocation Failure) \n",
      "Desired survivor size 1577058304 bytes, new threshold 15 (max 15)\n",
      "[PSYoungGen: 4633238K->21964K(4633600K)] 23481916K->18870642K(28739072K), 0.1618485 secs] [Times: user=0.21 sys=0.24, real=0.16 secs] \n",
      "2023-07-06T14:20:14.028+0000: [GC (Allocation Failure) \n",
      "Desired survivor size 1460666368 bytes, new threshold 15 (max 15)\n",
      "[PSYoungGen: 4633548K->23577K(5985280K)] 23482226K->18872255K(30090752K), 0.0888664 secs] [Times: user=0.19 sys=0.04, real=0.09 secs] \n",
      "2023-07-06T14:20:19.469+0000: [GC (Allocation Failure) \n",
      "Desired survivor size 1352138752 bytes, new threshold 15 (max 15)\n",
      "[PSYoungGen: 4701721K->22284K(4700672K)] 23550399K->18870978K(28806144K), 0.1280018 secs] [Times: user=0.21 sys=0.15, real=0.13 secs] \n",
      "2023-07-06T14:20:24.003+0000: [GC (Allocation Failure) \n",
      "Desired survivor size 1251475456 bytes, new threshold 15 (max 15)\n",
      "[PSYoungGen: 4700428K->21234K(5862400K)] 23549122K->18869952K(29967872K), 0.0764861 secs] [Times: user=0.16 sys=0.04, real=0.08 secs] \n",
      "2023-07-06T14:20:28.792+0000: [GC (Allocation Failure) \n",
      "Desired survivor size 1156579328 bytes, new threshold 15 (max 15)\n",
      "[PSYoungGen: 4764402K->25426K(4768768K)] 23613120K->18874160K(28874240K), 0.0864273 secs] [Times: user=0.20 sys=0.04, real=0.08 secs] \n",
      "2023-07-06T14:20:33.440+0000: [GC (Allocation Failure) \n",
      "Desired survivor size 1069547520 bytes, new threshold 15 (max 15)\n",
      "[PSYoungGen: 4768594K->21654K(5759488K)] 23617328K->18870412K(29864960K), 0.0757509 secs] [Times: user=0.16 sys=0.03, real=0.08 secs] \n",
      "2023-07-06T14:21:04.866+0000: [GC (Allocation Failure) \n",
      "Desired survivor size 991428608 bytes, new threshold 15 (max 15)\n",
      "[PSYoungGen: 4825238K->4146K(4808192K)] 23673996K->18852920K(28913664K), 0.0869055 secs] [Times: user=0.13 sys=0.10, real=0.09 secs] \n",
      "2023-07-06T14:21:09.540+0000: [GC (Allocation Failure) \n",
      "Desired survivor size 915931136 bytes, new threshold 15 (max 15)\n",
      "[PSYoungGen: 4807730K->16114K(5706752K)] 23656504K->18864912K(29812224K), 0.1647157 secs] [Times: user=0.18 sys=0.27, real=0.17 secs] \n",
      "2023-07-06T14:21:14.419+0000: [GC (Allocation Failure) \n",
      "Desired survivor size 845152256 bytes, new threshold 15 (max 15)\n",
      "[PSYoungGen: 4885234K->21189K(4890624K)] 23734032K->18870012K(28996096K), 0.0940795 secs] [Times: user=0.18 sys=0.09, real=0.10 secs] \n",
      "2023-07-06T14:21:20.853+0000: [GC (Allocation Failure) \n",
      "Desired survivor size 779091968 bytes, new threshold 15 (max 15)\n",
      "[PSYoungGen: 4890309K->25042K(5626880K)] 23739132K->18873888K(29732352K), 0.1082986 secs] [Times: user=0.22 sys=0.07, real=0.10 secs] \n",
      "2023-07-06T14:21:25.884+0000: [GC (Allocation Failure) \n",
      "Desired survivor size 721420288 bytes, new threshold 15 (max 15)\n",
      "[PSYoungGen: 4958162K->2385K(5693952K)] 23807008K->18851320K(29799424K), 0.1224252 secs] [Times: user=0.16 sys=0.19, real=0.13 secs] \n",
      "2023-07-06T14:21:30.918+0000: [GC (Allocation Failure) \n",
      "Desired survivor size 666894336 bytes, new threshold 15 (max 15)\n",
      "[PSYoungGen: 4935505K->7281K(5612544K)] 23784440K->18856240K(29718016K), 0.1349646 secs] [Times: user=0.15 sys=0.23, real=0.14 secs] \n",
      "2023-07-06T14:21:36.040+0000: [GC (Allocation Failure) \n",
      "Desired survivor size 615514112 bytes, new threshold 15 (max 15)\n",
      "[PSYoungGen: 5016177K->11153K(5660160K)] 23865136K->18860136K(29765632K), 0.0642677 secs] [Times: user=0.14 sys=0.04, real=0.07 secs] \n",
      "2023-07-06T14:21:41.406+0000: [GC (Allocation Failure) \n",
      "Desired survivor size 568328192 bytes, new threshold 15 (max 15)\n",
      "[PSYoungGen: 5020049K->9009K(5578240K)] 23869032K->18858016K(29683712K), 0.0799313 secs] [Times: user=0.14 sys=0.08, real=0.08 secs] \n"
     ]
    }
   ],
   "source": [
    "sneakers_abtest_df = sampled_sneakers_data.toPandas()\n"
   ]
  },
  {
   "cell_type": "code",
   "execution_count": 30,
   "id": "509f27ab-884c-4f34-be01-abc165fccaa1",
   "metadata": {
    "scrolled": true,
    "tags": []
   },
   "outputs": [],
   "source": [
    "sneakers_abtest_df.to_pickle('/data/shpx/notebooks/olivyatan/Unbiasing/sneakers_size_abtest_transactions_290623_sample.pkl' )"
   ]
  },
  {
   "cell_type": "code",
   "execution_count": 31,
   "id": "4bac5f18-5753-4232-a663-f3383040be0d",
   "metadata": {},
   "outputs": [
    {
     "data": {
      "text/plain": [
       "(42916591, 21)"
      ]
     },
     "execution_count": 31,
     "metadata": {},
     "output_type": "execute_result"
    }
   ],
   "source": [
    "sneakers_abtest_df.shape"
   ]
  },
  {
   "cell_type": "code",
   "execution_count": 32,
   "id": "ad79874a-5023-4324-99f6-1c027b2857f6",
   "metadata": {},
   "outputs": [
    {
     "data": {
      "text/plain": [
       "463833"
      ]
     },
     "execution_count": 32,
     "metadata": {},
     "output_type": "execute_result"
    }
   ],
   "source": [
    "sneakers_abtest_df.user_id.nunique()"
   ]
  },
  {
   "cell_type": "code",
   "execution_count": 33,
   "id": "3f92d2cb-1f52-4b9d-ad33-e410535012f0",
   "metadata": {},
   "outputs": [
    {
     "data": {
      "text/plain": [
       "Index(['user_id', 'TRKS', 'test_group', 'treatment_control_agg', 'SITE_ID',\n",
       "       'plmt', 'dt', 'meid', 'Experience', 'platform', 'SURFACE_PLMT_IMP',\n",
       "       'itemId', 'production_rank', 'leafCategoryId', 'clicks', 'price',\n",
       "       'plmt_gmv_sum_1d', 'plmt_purchase_1d', 'plmt_clicks',\n",
       "       'purchased_itemId', 'is_purchase'],\n",
       "      dtype='object')"
      ]
     },
     "execution_count": 33,
     "metadata": {},
     "output_type": "execute_result"
    }
   ],
   "source": [
    "sneakers_abtest_df.columns"
   ]
  },
  {
   "cell_type": "code",
   "execution_count": 34,
   "id": "40d36f7b-a0e1-4fc5-b6ac-a9d0a45c8b12",
   "metadata": {},
   "outputs": [
    {
     "name": "stdout",
     "output_type": "stream",
     "text": [
      "/data/shpx/notebooks/olivyatan/Unbiasing\n"
     ]
    }
   ],
   "source": [
    "!pwd"
   ]
  },
  {
   "cell_type": "code",
   "execution_count": 35,
   "id": "23547f67-5215-422d-a672-2a54aa8f550c",
   "metadata": {},
   "outputs": [
    {
     "data": {
      "text/html": [
       "<div>\n",
       "<style scoped>\n",
       "    .dataframe tbody tr th:only-of-type {\n",
       "        vertical-align: middle;\n",
       "    }\n",
       "\n",
       "    .dataframe tbody tr th {\n",
       "        vertical-align: top;\n",
       "    }\n",
       "\n",
       "    .dataframe thead th {\n",
       "        text-align: right;\n",
       "    }\n",
       "</style>\n",
       "<table border=\"1\" class=\"dataframe\">\n",
       "  <thead>\n",
       "    <tr style=\"text-align: right;\">\n",
       "      <th></th>\n",
       "      <th>user_id</th>\n",
       "      <th>TRKS</th>\n",
       "      <th>test_group</th>\n",
       "      <th>treatment_control_agg</th>\n",
       "      <th>SITE_ID</th>\n",
       "      <th>plmt</th>\n",
       "      <th>dt</th>\n",
       "      <th>meid</th>\n",
       "      <th>Experience</th>\n",
       "      <th>platform</th>\n",
       "      <th>...</th>\n",
       "      <th>itemId</th>\n",
       "      <th>production_rank</th>\n",
       "      <th>leafCategoryId</th>\n",
       "      <th>clicks</th>\n",
       "      <th>price</th>\n",
       "      <th>plmt_gmv_sum_1d</th>\n",
       "      <th>plmt_purchase_1d</th>\n",
       "      <th>plmt_clicks</th>\n",
       "      <th>purchased_itemId</th>\n",
       "      <th>is_purchase</th>\n",
       "    </tr>\n",
       "  </thead>\n",
       "  <tbody>\n",
       "    <tr>\n",
       "      <th>0</th>\n",
       "      <td>518278</td>\n",
       "      <td>250480</td>\n",
       "      <td>treatment_web</td>\n",
       "      <td>treatment</td>\n",
       "      <td>0</td>\n",
       "      <td>101251</td>\n",
       "      <td>20230612</td>\n",
       "      <td>0cf1375a0dc540eb8dfe785eb7dddeb8</td>\n",
       "      <td>Browser: Core site</td>\n",
       "      <td>Browser</td>\n",
       "      <td>...</td>\n",
       "      <td>175748430899</td>\n",
       "      <td>1</td>\n",
       "      <td>15709</td>\n",
       "      <td></td>\n",
       "      <td>5995</td>\n",
       "      <td>0</td>\n",
       "      <td>0</td>\n",
       "      <td>[]</td>\n",
       "      <td>None</td>\n",
       "      <td>0</td>\n",
       "    </tr>\n",
       "    <tr>\n",
       "      <th>1</th>\n",
       "      <td>518278</td>\n",
       "      <td>250480</td>\n",
       "      <td>treatment_web</td>\n",
       "      <td>treatment</td>\n",
       "      <td>0</td>\n",
       "      <td>101251</td>\n",
       "      <td>20230612</td>\n",
       "      <td>0cf1375a0dc540eb8dfe785eb7dddeb8</td>\n",
       "      <td>Browser: Core site</td>\n",
       "      <td>Browser</td>\n",
       "      <td>...</td>\n",
       "      <td>166156770983</td>\n",
       "      <td>2</td>\n",
       "      <td>15709</td>\n",
       "      <td></td>\n",
       "      <td>3285</td>\n",
       "      <td>0</td>\n",
       "      <td>0</td>\n",
       "      <td>[]</td>\n",
       "      <td>None</td>\n",
       "      <td>0</td>\n",
       "    </tr>\n",
       "    <tr>\n",
       "      <th>2</th>\n",
       "      <td>518278</td>\n",
       "      <td>250480</td>\n",
       "      <td>treatment_web</td>\n",
       "      <td>treatment</td>\n",
       "      <td>0</td>\n",
       "      <td>101251</td>\n",
       "      <td>20230612</td>\n",
       "      <td>0cf1375a0dc540eb8dfe785eb7dddeb8</td>\n",
       "      <td>Browser: Core site</td>\n",
       "      <td>Browser</td>\n",
       "      <td>...</td>\n",
       "      <td>166098940226</td>\n",
       "      <td>3</td>\n",
       "      <td>15709</td>\n",
       "      <td></td>\n",
       "      <td>10999</td>\n",
       "      <td>0</td>\n",
       "      <td>0</td>\n",
       "      <td>[]</td>\n",
       "      <td>None</td>\n",
       "      <td>0</td>\n",
       "    </tr>\n",
       "    <tr>\n",
       "      <th>3</th>\n",
       "      <td>518278</td>\n",
       "      <td>250480</td>\n",
       "      <td>treatment_web</td>\n",
       "      <td>treatment</td>\n",
       "      <td>0</td>\n",
       "      <td>101251</td>\n",
       "      <td>20230612</td>\n",
       "      <td>0cf1375a0dc540eb8dfe785eb7dddeb8</td>\n",
       "      <td>Browser: Core site</td>\n",
       "      <td>Browser</td>\n",
       "      <td>...</td>\n",
       "      <td>185744947926</td>\n",
       "      <td>4</td>\n",
       "      <td>15709</td>\n",
       "      <td></td>\n",
       "      <td>9999</td>\n",
       "      <td>0</td>\n",
       "      <td>0</td>\n",
       "      <td>[]</td>\n",
       "      <td>None</td>\n",
       "      <td>0</td>\n",
       "    </tr>\n",
       "    <tr>\n",
       "      <th>4</th>\n",
       "      <td>518278</td>\n",
       "      <td>250480</td>\n",
       "      <td>treatment_web</td>\n",
       "      <td>treatment</td>\n",
       "      <td>0</td>\n",
       "      <td>101251</td>\n",
       "      <td>20230612</td>\n",
       "      <td>0cf1375a0dc540eb8dfe785eb7dddeb8</td>\n",
       "      <td>Browser: Core site</td>\n",
       "      <td>Browser</td>\n",
       "      <td>...</td>\n",
       "      <td>175767689521</td>\n",
       "      <td>5</td>\n",
       "      <td>15709</td>\n",
       "      <td></td>\n",
       "      <td>5899</td>\n",
       "      <td>0</td>\n",
       "      <td>0</td>\n",
       "      <td>[]</td>\n",
       "      <td>None</td>\n",
       "      <td>0</td>\n",
       "    </tr>\n",
       "  </tbody>\n",
       "</table>\n",
       "<p>5 rows × 21 columns</p>\n",
       "</div>"
      ],
      "text/plain": [
       "   user_id    TRKS     test_group treatment_control_agg  SITE_ID    plmt  \\\n",
       "0   518278  250480  treatment_web             treatment        0  101251   \n",
       "1   518278  250480  treatment_web             treatment        0  101251   \n",
       "2   518278  250480  treatment_web             treatment        0  101251   \n",
       "3   518278  250480  treatment_web             treatment        0  101251   \n",
       "4   518278  250480  treatment_web             treatment        0  101251   \n",
       "\n",
       "         dt                              meid          Experience platform  \\\n",
       "0  20230612  0cf1375a0dc540eb8dfe785eb7dddeb8  Browser: Core site  Browser   \n",
       "1  20230612  0cf1375a0dc540eb8dfe785eb7dddeb8  Browser: Core site  Browser   \n",
       "2  20230612  0cf1375a0dc540eb8dfe785eb7dddeb8  Browser: Core site  Browser   \n",
       "3  20230612  0cf1375a0dc540eb8dfe785eb7dddeb8  Browser: Core site  Browser   \n",
       "4  20230612  0cf1375a0dc540eb8dfe785eb7dddeb8  Browser: Core site  Browser   \n",
       "\n",
       "   ...        itemId production_rank leafCategoryId clicks  price  \\\n",
       "0  ...  175748430899               1          15709          5995   \n",
       "1  ...  166156770983               2          15709          3285   \n",
       "2  ...  166098940226               3          15709         10999   \n",
       "3  ...  185744947926               4          15709          9999   \n",
       "4  ...  175767689521               5          15709          5899   \n",
       "\n",
       "  plmt_gmv_sum_1d  plmt_purchase_1d  plmt_clicks purchased_itemId is_purchase  \n",
       "0               0                 0           []             None           0  \n",
       "1               0                 0           []             None           0  \n",
       "2               0                 0           []             None           0  \n",
       "3               0                 0           []             None           0  \n",
       "4               0                 0           []             None           0  \n",
       "\n",
       "[5 rows x 21 columns]"
      ]
     },
     "execution_count": 35,
     "metadata": {},
     "output_type": "execute_result"
    },
    {
     "name": "stdout",
     "output_type": "stream",
     "text": [
      "2023-07-06T14:27:23.757+0000: [GC (Allocation Failure) \n",
      "Desired survivor size 525860864 bytes, new threshold 15 (max 15)\n",
      "[PSYoungGen: 5082929K->2712K(5628928K)] 23931936K->18851743K(29734400K), 0.1016218 secs] [Times: user=0.20 sys=0.10, real=0.10 secs] \n",
      "2023-07-06T14:38:42.982+0000: [GC (System.gc()) \n",
      "Desired survivor size 485490688 bytes, new threshold 15 (max 15)\n",
      "[PSYoungGen: 1102748K->5337K(5559296K)] 19951778K->18854391K(29664768K), 0.0629463 secs] [Times: user=0.14 sys=0.03, real=0.07 secs] \n",
      "2023-07-06T14:38:43.045+0000: [Full GC (System.gc()) [PSYoungGen: 5337K->0K(5559296K)] [ParOldGen: 18849054K->712339K(24105472K)] 18854391K->712339K(29664768K), [Metaspace: 154045K->154045K(165888K)], 1.1205272 secs] [Times: user=1.81 sys=0.57, real=1.12 secs] \n",
      "2023-07-06T15:08:42.982+0000: [GC (System.gc()) \n",
      "Desired survivor size 448266240 bytes, new threshold 15 (max 15)\n",
      "[PSYoungGen: 3197799K->4568K(5129216K)] 3910139K->716915K(29234688K), 0.0248188 secs] [Times: user=0.04 sys=0.02, real=0.03 secs] \n",
      "2023-07-06T15:08:43.007+0000: [Full GC (System.gc()) [PSYoungGen: 4568K->0K(5129216K)] [ParOldGen: 712347K->566455K(24105472K)] 716915K->566455K(29234688K), [Metaspace: 154198K->154198K(165888K)], 0.4147955 secs] [Times: user=0.98 sys=0.00, real=0.41 secs] \n"
     ]
    },
    {
     "name": "stderr",
     "output_type": "stream",
     "text": [
      "23/07/06 15:25:08 ERROR YarnScheduler: Lost executor 1062 on hdc42-mcc10-01-0110-5409-046-tess0173.stratus.rno.ebay.com: Executor heartbeat timed out after 641043 ms\n",
      "23/07/06 15:35:10 ERROR YarnScheduler: Lost executor 809 on hdc42-mcc10-01-0110-7605-012-tess0173.stratus.rno.ebay.com: Container from a bad node: container_e3815_1687661240187_1208896_01_001836 on host: hdc42-mcc10-01-0110-7605-012-tess0173.stratus.rno.ebay.com. Exit status: 154. Diagnostics: Container exited with a non-zero exit code 154\n",
      ".\n"
     ]
    },
    {
     "name": "stdout",
     "output_type": "stream",
     "text": [
      "2023-07-06T15:38:42.982+0000: [GC (System.gc()) \n",
      "Desired survivor size 413138944 bytes, new threshold 15 (max 15)\n",
      "[PSYoungGen: 2873798K->7007K(5493760K)] 3440253K->573471K(29599232K), 0.0249161 secs] [Times: user=0.05 sys=0.01, real=0.03 secs] \n",
      "2023-07-06T15:38:43.007+0000: [Full GC (System.gc()) [PSYoungGen: 7007K->0K(5493760K)] [ParOldGen: 566463K->566371K(24105472K)] 573471K->566371K(29599232K), [Metaspace: 154279K->154279K(165888K)], 0.6433531 secs] [Times: user=1.65 sys=0.00, real=0.64 secs] \n"
     ]
    }
   ],
   "source": [
    "sneakers_abtest_df.head(5)"
   ]
  },
  {
   "cell_type": "code",
   "execution_count": 25,
   "id": "74b7d581-0fb1-41cf-90b3-d0fcde6328a1",
   "metadata": {},
   "outputs": [
    {
     "data": {
      "text/plain": [
       "Index(['user_id', 'TRKS', 'SITE_ID', 'plmt', 'dt', 'meid', 'Experience',\n",
       "       'SURFACE_PLMT_IMP', 'itemId', 'production_rank', 'leafCategoryId',\n",
       "       'clicks', 'price', 'plmt_gmv_sum_1d', 'plmt_purchase_1d', 'plmt_clicks',\n",
       "       'purchased_itemId', 'is_purchase'],\n",
       "      dtype='object')"
      ]
     },
     "execution_count": 25,
     "metadata": {},
     "output_type": "execute_result"
    }
   ],
   "source": [
    "sneakers_abtest_df.columns"
   ]
  },
  {
   "cell_type": "code",
   "execution_count": 28,
   "id": "53ac7097-39d3-4d86-8edf-4892f685ed6f",
   "metadata": {},
   "outputs": [
    {
     "data": {
      "text/html": [
       "<div>\n",
       "<style scoped>\n",
       "    .dataframe tbody tr th:only-of-type {\n",
       "        vertical-align: middle;\n",
       "    }\n",
       "\n",
       "    .dataframe tbody tr th {\n",
       "        vertical-align: top;\n",
       "    }\n",
       "\n",
       "    .dataframe thead th {\n",
       "        text-align: right;\n",
       "    }\n",
       "</style>\n",
       "<table border=\"1\" class=\"dataframe\">\n",
       "  <thead>\n",
       "    <tr style=\"text-align: right;\">\n",
       "      <th></th>\n",
       "      <th>user_id</th>\n",
       "      <th>TRKS</th>\n",
       "      <th>SITE_ID</th>\n",
       "      <th>plmt</th>\n",
       "      <th>dt</th>\n",
       "      <th>meid</th>\n",
       "      <th>Experience</th>\n",
       "      <th>SURFACE_PLMT_IMP</th>\n",
       "      <th>itemId</th>\n",
       "      <th>production_rank</th>\n",
       "      <th>leafCategoryId</th>\n",
       "      <th>clicks</th>\n",
       "      <th>price</th>\n",
       "      <th>plmt_gmv_sum_1d</th>\n",
       "      <th>plmt_purchase_1d</th>\n",
       "      <th>plmt_clicks</th>\n",
       "      <th>purchased_itemId</th>\n",
       "      <th>is_purchase</th>\n",
       "    </tr>\n",
       "  </thead>\n",
       "  <tbody>\n",
       "    <tr>\n",
       "      <th>983921</th>\n",
       "      <td>2478517360</td>\n",
       "      <td>250482</td>\n",
       "      <td>0</td>\n",
       "      <td>101551</td>\n",
       "      <td>20230616</td>\n",
       "      <td>9f4be62eb40c4d46abe45c9e11101505</td>\n",
       "      <td>Apps: iPhone</td>\n",
       "      <td>1</td>\n",
       "      <td>175753744878</td>\n",
       "      <td>1</td>\n",
       "      <td>15709</td>\n",
       "      <td></td>\n",
       "      <td>12963</td>\n",
       "      <td>13000</td>\n",
       "      <td>1</td>\n",
       "      <td>[false::1686926799624::2478517360:295757165047::::::1686926361024::::::::::::::::::::2356359:162::::, false::1686926422993::2478517360:175753744878::::::1686926361024::::::::::::::::::::2356359:92::::, false::1686926779694::2478517360:175753744878::::::1686926361024::::::::::::::::::::2356359:135::::]</td>\n",
       "      <td>None</td>\n",
       "      <td>0</td>\n",
       "    </tr>\n",
       "    <tr>\n",
       "      <th>983922</th>\n",
       "      <td>2478517360</td>\n",
       "      <td>250482</td>\n",
       "      <td>0</td>\n",
       "      <td>101551</td>\n",
       "      <td>20230616</td>\n",
       "      <td>9f4be62eb40c4d46abe45c9e11101505</td>\n",
       "      <td>Apps: iPhone</td>\n",
       "      <td>1</td>\n",
       "      <td>385574021643</td>\n",
       "      <td>2</td>\n",
       "      <td>15709</td>\n",
       "      <td></td>\n",
       "      <td>15000</td>\n",
       "      <td>13000</td>\n",
       "      <td>1</td>\n",
       "      <td>[false::1686926799624::2478517360:295757165047::::::1686926361024::::::::::::::::::::2356359:162::::, false::1686926422993::2478517360:175753744878::::::1686926361024::::::::::::::::::::2356359:92::::, false::1686926779694::2478517360:175753744878::::::1686926361024::::::::::::::::::::2356359:135::::]</td>\n",
       "      <td>None</td>\n",
       "      <td>0</td>\n",
       "    </tr>\n",
       "    <tr>\n",
       "      <th>983923</th>\n",
       "      <td>2478517360</td>\n",
       "      <td>250482</td>\n",
       "      <td>0</td>\n",
       "      <td>101551</td>\n",
       "      <td>20230616</td>\n",
       "      <td>9f4be62eb40c4d46abe45c9e11101505</td>\n",
       "      <td>Apps: iPhone</td>\n",
       "      <td>1</td>\n",
       "      <td>194141507236</td>\n",
       "      <td>3</td>\n",
       "      <td>15709</td>\n",
       "      <td></td>\n",
       "      <td>19999</td>\n",
       "      <td>13000</td>\n",
       "      <td>1</td>\n",
       "      <td>[false::1686926799624::2478517360:295757165047::::::1686926361024::::::::::::::::::::2356359:162::::, false::1686926422993::2478517360:175753744878::::::1686926361024::::::::::::::::::::2356359:92::::, false::1686926779694::2478517360:175753744878::::::1686926361024::::::::::::::::::::2356359:135::::]</td>\n",
       "      <td>None</td>\n",
       "      <td>0</td>\n",
       "    </tr>\n",
       "    <tr>\n",
       "      <th>983924</th>\n",
       "      <td>2478517360</td>\n",
       "      <td>250482</td>\n",
       "      <td>0</td>\n",
       "      <td>101551</td>\n",
       "      <td>20230616</td>\n",
       "      <td>9f4be62eb40c4d46abe45c9e11101505</td>\n",
       "      <td>Apps: iPhone</td>\n",
       "      <td>1</td>\n",
       "      <td>134605253981</td>\n",
       "      <td>4</td>\n",
       "      <td>15709</td>\n",
       "      <td></td>\n",
       "      <td>13000</td>\n",
       "      <td>13000</td>\n",
       "      <td>1</td>\n",
       "      <td>[false::1686926799624::2478517360:295757165047::::::1686926361024::::::::::::::::::::2356359:162::::, false::1686926422993::2478517360:175753744878::::::1686926361024::::::::::::::::::::2356359:92::::, false::1686926779694::2478517360:175753744878::::::1686926361024::::::::::::::::::::2356359:135::::]</td>\n",
       "      <td>None</td>\n",
       "      <td>0</td>\n",
       "    </tr>\n",
       "  </tbody>\n",
       "</table>\n",
       "</div>"
      ],
      "text/plain": [
       "           user_id    TRKS  SITE_ID    plmt        dt  \\\n",
       "983921  2478517360  250482        0  101551  20230616   \n",
       "983922  2478517360  250482        0  101551  20230616   \n",
       "983923  2478517360  250482        0  101551  20230616   \n",
       "983924  2478517360  250482        0  101551  20230616   \n",
       "\n",
       "                                    meid    Experience  SURFACE_PLMT_IMP  \\\n",
       "983921  9f4be62eb40c4d46abe45c9e11101505  Apps: iPhone                 1   \n",
       "983922  9f4be62eb40c4d46abe45c9e11101505  Apps: iPhone                 1   \n",
       "983923  9f4be62eb40c4d46abe45c9e11101505  Apps: iPhone                 1   \n",
       "983924  9f4be62eb40c4d46abe45c9e11101505  Apps: iPhone                 1   \n",
       "\n",
       "              itemId production_rank leafCategoryId clicks  price  \\\n",
       "983921  175753744878               1          15709         12963   \n",
       "983922  385574021643               2          15709         15000   \n",
       "983923  194141507236               3          15709         19999   \n",
       "983924  134605253981               4          15709         13000   \n",
       "\n",
       "        plmt_gmv_sum_1d  plmt_purchase_1d  \\\n",
       "983921            13000                 1   \n",
       "983922            13000                 1   \n",
       "983923            13000                 1   \n",
       "983924            13000                 1   \n",
       "\n",
       "                                                                                                                                                                                                                                                                                                           plmt_clicks  \\\n",
       "983921  [false::1686926799624::2478517360:295757165047::::::1686926361024::::::::::::::::::::2356359:162::::, false::1686926422993::2478517360:175753744878::::::1686926361024::::::::::::::::::::2356359:92::::, false::1686926779694::2478517360:175753744878::::::1686926361024::::::::::::::::::::2356359:135::::]   \n",
       "983922  [false::1686926799624::2478517360:295757165047::::::1686926361024::::::::::::::::::::2356359:162::::, false::1686926422993::2478517360:175753744878::::::1686926361024::::::::::::::::::::2356359:92::::, false::1686926779694::2478517360:175753744878::::::1686926361024::::::::::::::::::::2356359:135::::]   \n",
       "983923  [false::1686926799624::2478517360:295757165047::::::1686926361024::::::::::::::::::::2356359:162::::, false::1686926422993::2478517360:175753744878::::::1686926361024::::::::::::::::::::2356359:92::::, false::1686926779694::2478517360:175753744878::::::1686926361024::::::::::::::::::::2356359:135::::]   \n",
       "983924  [false::1686926799624::2478517360:295757165047::::::1686926361024::::::::::::::::::::2356359:162::::, false::1686926422993::2478517360:175753744878::::::1686926361024::::::::::::::::::::2356359:92::::, false::1686926779694::2478517360:175753744878::::::1686926361024::::::::::::::::::::2356359:135::::]   \n",
       "\n",
       "       purchased_itemId  is_purchase  \n",
       "983921             None            0  \n",
       "983922             None            0  \n",
       "983923             None            0  \n",
       "983924             None            0  "
      ]
     },
     "execution_count": 28,
     "metadata": {},
     "output_type": "execute_result"
    }
   ],
   "source": [
    "sneakers_abtest_df[sneakers_abtest_df.plmt_purchase_1d>0].head(4)"
   ]
  },
  {
   "cell_type": "code",
   "execution_count": 30,
   "id": "ba47ea66-dcba-403b-ae77-3995981991e3",
   "metadata": {},
   "outputs": [
    {
     "data": {
      "text/html": [
       "<div>\n",
       "<style scoped>\n",
       "    .dataframe tbody tr th:only-of-type {\n",
       "        vertical-align: middle;\n",
       "    }\n",
       "\n",
       "    .dataframe tbody tr th {\n",
       "        vertical-align: top;\n",
       "    }\n",
       "\n",
       "    .dataframe thead th {\n",
       "        text-align: right;\n",
       "    }\n",
       "</style>\n",
       "<table border=\"1\" class=\"dataframe\">\n",
       "  <thead>\n",
       "    <tr style=\"text-align: right;\">\n",
       "      <th></th>\n",
       "      <th>user_id</th>\n",
       "      <th>TRKS</th>\n",
       "      <th>SITE_ID</th>\n",
       "      <th>plmt</th>\n",
       "      <th>dt</th>\n",
       "      <th>meid</th>\n",
       "      <th>Experience</th>\n",
       "      <th>SURFACE_PLMT_IMP</th>\n",
       "      <th>itemId</th>\n",
       "      <th>production_rank</th>\n",
       "      <th>leafCategoryId</th>\n",
       "      <th>clicks</th>\n",
       "      <th>price</th>\n",
       "      <th>plmt_gmv_sum_1d</th>\n",
       "      <th>plmt_purchase_1d</th>\n",
       "      <th>plmt_clicks</th>\n",
       "      <th>purchased_itemId</th>\n",
       "      <th>is_purchase</th>\n",
       "    </tr>\n",
       "  </thead>\n",
       "  <tbody>\n",
       "    <tr>\n",
       "      <th>983926</th>\n",
       "      <td>2478517360</td>\n",
       "      <td>250482</td>\n",
       "      <td>0</td>\n",
       "      <td>101551</td>\n",
       "      <td>20230616</td>\n",
       "      <td>9f4be62eb40c4d46abe45c9e11101505</td>\n",
       "      <td>Apps: iPhone</td>\n",
       "      <td>1</td>\n",
       "      <td>295757165047</td>\n",
       "      <td>6</td>\n",
       "      <td>15709</td>\n",
       "      <td></td>\n",
       "      <td>14000</td>\n",
       "      <td>13000</td>\n",
       "      <td>1</td>\n",
       "      <td>[false::1686926799624::2478517360:295757165047::::::1686926361024::::::::::::::::::::2356359:162::::, false::1686926422993::2478517360:175753744878::::::1686926361024::::::::::::::::::::2356359:92::::, false::1686926779694::2478517360:175753744878::::::1686926361024::::::::::::::::::::2356359:135::::]</td>\n",
       "      <td>295757165047</td>\n",
       "      <td>1</td>\n",
       "    </tr>\n",
       "    <tr>\n",
       "      <th>1405982</th>\n",
       "      <td>2357024171</td>\n",
       "      <td>250481</td>\n",
       "      <td>0</td>\n",
       "      <td>101251</td>\n",
       "      <td>20230611</td>\n",
       "      <td>38b93dc0e7e14995a72ab674907a66ad</td>\n",
       "      <td>Apps: Android</td>\n",
       "      <td>1</td>\n",
       "      <td>204360293323</td>\n",
       "      <td>1</td>\n",
       "      <td>95672</td>\n",
       "      <td></td>\n",
       "      <td>3200</td>\n",
       "      <td>3200</td>\n",
       "      <td>1</td>\n",
       "      <td>[false:3664246316577:1686504246224::2357024171:204360293323::::::1686500665121::::::::::::::::::::2208336:640::::]</td>\n",
       "      <td>204360293323</td>\n",
       "      <td>1</td>\n",
       "    </tr>\n",
       "    <tr>\n",
       "      <th>1775814</th>\n",
       "      <td>1180141384</td>\n",
       "      <td>250480</td>\n",
       "      <td>0</td>\n",
       "      <td>101259</td>\n",
       "      <td>20230611</td>\n",
       "      <td>f57ddf667bb24701b087e071c232e1cd</td>\n",
       "      <td>Browser: Core site</td>\n",
       "      <td>1</td>\n",
       "      <td>354825524272</td>\n",
       "      <td>1</td>\n",
       "      <td>15709</td>\n",
       "      <td></td>\n",
       "      <td>11200</td>\n",
       "      <td>9500</td>\n",
       "      <td>1</td>\n",
       "      <td>[false:3664371943554:1686512131163::1180141384:354825524272::::::1686505112667::::::::::::::::::::2208336:3959::::]</td>\n",
       "      <td>354825524272</td>\n",
       "      <td>1</td>\n",
       "    </tr>\n",
       "    <tr>\n",
       "      <th>1936960</th>\n",
       "      <td>1049297664</td>\n",
       "      <td>250482</td>\n",
       "      <td>0</td>\n",
       "      <td>101259</td>\n",
       "      <td>20230606</td>\n",
       "      <td>96bc9c18412e43c98de4bc00ea93cd39</td>\n",
       "      <td>Apps: iPhone</td>\n",
       "      <td>1</td>\n",
       "      <td>304962576825</td>\n",
       "      <td>3</td>\n",
       "      <td>95672</td>\n",
       "      <td></td>\n",
       "      <td>10500</td>\n",
       "      <td>7000</td>\n",
       "      <td>1</td>\n",
       "      <td>[false::1686099472905::1049297664:204274412500::::::1686099290528::::::::::::::::::::2356359:238::::, false::1686099497006::1049297664:304962576825::::::1686099290528::::::::::::::::::::2356359:291::::, false::1686099689357::1049297664:166014361490::::::1686099290528::::::::::::::::::::2356359:443::::, false::1686099623579::1049297664:304962576825::::::1686099290528::::::::::::::::::::2356359:407::::]</td>\n",
       "      <td>304962576825</td>\n",
       "      <td>1</td>\n",
       "    </tr>\n",
       "  </tbody>\n",
       "</table>\n",
       "</div>"
      ],
      "text/plain": [
       "            user_id    TRKS  SITE_ID    plmt        dt  \\\n",
       "983926   2478517360  250482        0  101551  20230616   \n",
       "1405982  2357024171  250481        0  101251  20230611   \n",
       "1775814  1180141384  250480        0  101259  20230611   \n",
       "1936960  1049297664  250482        0  101259  20230606   \n",
       "\n",
       "                                     meid          Experience  \\\n",
       "983926   9f4be62eb40c4d46abe45c9e11101505        Apps: iPhone   \n",
       "1405982  38b93dc0e7e14995a72ab674907a66ad       Apps: Android   \n",
       "1775814  f57ddf667bb24701b087e071c232e1cd  Browser: Core site   \n",
       "1936960  96bc9c18412e43c98de4bc00ea93cd39        Apps: iPhone   \n",
       "\n",
       "         SURFACE_PLMT_IMP        itemId production_rank leafCategoryId clicks  \\\n",
       "983926                  1  295757165047               6          15709          \n",
       "1405982                 1  204360293323               1          95672          \n",
       "1775814                 1  354825524272               1          15709          \n",
       "1936960                 1  304962576825               3          95672          \n",
       "\n",
       "         price  plmt_gmv_sum_1d  plmt_purchase_1d  \\\n",
       "983926   14000            13000                 1   \n",
       "1405982   3200             3200                 1   \n",
       "1775814  11200             9500                 1   \n",
       "1936960  10500             7000                 1   \n",
       "\n",
       "                                                                                                                                                                                                                                                                                                                                                                                                                  plmt_clicks  \\\n",
       "983926                                                                                                         [false::1686926799624::2478517360:295757165047::::::1686926361024::::::::::::::::::::2356359:162::::, false::1686926422993::2478517360:175753744878::::::1686926361024::::::::::::::::::::2356359:92::::, false::1686926779694::2478517360:175753744878::::::1686926361024::::::::::::::::::::2356359:135::::]   \n",
       "1405982                                                                                                                                                                                                                                                                                                    [false:3664246316577:1686504246224::2357024171:204360293323::::::1686500665121::::::::::::::::::::2208336:640::::]   \n",
       "1775814                                                                                                                                                                                                                                                                                                   [false:3664371943554:1686512131163::1180141384:354825524272::::::1686505112667::::::::::::::::::::2208336:3959::::]   \n",
       "1936960  [false::1686099472905::1049297664:204274412500::::::1686099290528::::::::::::::::::::2356359:238::::, false::1686099497006::1049297664:304962576825::::::1686099290528::::::::::::::::::::2356359:291::::, false::1686099689357::1049297664:166014361490::::::1686099290528::::::::::::::::::::2356359:443::::, false::1686099623579::1049297664:304962576825::::::1686099290528::::::::::::::::::::2356359:407::::]   \n",
       "\n",
       "        purchased_itemId  is_purchase  \n",
       "983926      295757165047            1  \n",
       "1405982     204360293323            1  \n",
       "1775814     354825524272            1  \n",
       "1936960     304962576825            1  "
      ]
     },
     "execution_count": 30,
     "metadata": {},
     "output_type": "execute_result"
    }
   ],
   "source": [
    "sneakers_abtest_df[sneakers_abtest_df.is_purchase>0].head(4)"
   ]
  },
  {
   "cell_type": "code",
   "execution_count": 32,
   "id": "829cd18e-e6d9-4127-8277-a09d56f64364",
   "metadata": {
    "scrolled": true,
    "tags": []
   },
   "outputs": [
    {
     "data": {
      "text/html": [
       "<div>\n",
       "<style scoped>\n",
       "    .dataframe tbody tr th:only-of-type {\n",
       "        vertical-align: middle;\n",
       "    }\n",
       "\n",
       "    .dataframe tbody tr th {\n",
       "        vertical-align: top;\n",
       "    }\n",
       "\n",
       "    .dataframe thead th {\n",
       "        text-align: right;\n",
       "    }\n",
       "</style>\n",
       "<table border=\"1\" class=\"dataframe\">\n",
       "  <thead>\n",
       "    <tr style=\"text-align: right;\">\n",
       "      <th></th>\n",
       "      <th>user_id</th>\n",
       "      <th>TRKS</th>\n",
       "      <th>SITE_ID</th>\n",
       "      <th>plmt</th>\n",
       "      <th>dt</th>\n",
       "      <th>meid</th>\n",
       "      <th>Experience</th>\n",
       "      <th>SURFACE_PLMT_IMP</th>\n",
       "      <th>itemId</th>\n",
       "      <th>production_rank</th>\n",
       "      <th>leafCategoryId</th>\n",
       "      <th>clicks</th>\n",
       "      <th>price</th>\n",
       "      <th>plmt_gmv_sum_1d</th>\n",
       "      <th>plmt_purchase_1d</th>\n",
       "      <th>plmt_clicks</th>\n",
       "      <th>purchased_itemId</th>\n",
       "      <th>is_purchase</th>\n",
       "    </tr>\n",
       "  </thead>\n",
       "  <tbody>\n",
       "    <tr>\n",
       "      <th>983921</th>\n",
       "      <td>2478517360</td>\n",
       "      <td>250482</td>\n",
       "      <td>0</td>\n",
       "      <td>101551</td>\n",
       "      <td>20230616</td>\n",
       "      <td>9f4be62eb40c4d46abe45c9e11101505</td>\n",
       "      <td>Apps: iPhone</td>\n",
       "      <td>1</td>\n",
       "      <td>175753744878</td>\n",
       "      <td>1</td>\n",
       "      <td>15709</td>\n",
       "      <td></td>\n",
       "      <td>12963</td>\n",
       "      <td>13000</td>\n",
       "      <td>1</td>\n",
       "      <td>[false::1686926799624::2478517360:295757165047::::::1686926361024::::::::::::::::::::2356359:162::::, false::1686926422993::2478517360:175753744878::::::1686926361024::::::::::::::::::::2356359:92::::, false::1686926779694::2478517360:175753744878::::::1686926361024::::::::::::::::::::2356359:135::::]</td>\n",
       "      <td>None</td>\n",
       "      <td>0</td>\n",
       "    </tr>\n",
       "    <tr>\n",
       "      <th>983922</th>\n",
       "      <td>2478517360</td>\n",
       "      <td>250482</td>\n",
       "      <td>0</td>\n",
       "      <td>101551</td>\n",
       "      <td>20230616</td>\n",
       "      <td>9f4be62eb40c4d46abe45c9e11101505</td>\n",
       "      <td>Apps: iPhone</td>\n",
       "      <td>1</td>\n",
       "      <td>385574021643</td>\n",
       "      <td>2</td>\n",
       "      <td>15709</td>\n",
       "      <td></td>\n",
       "      <td>15000</td>\n",
       "      <td>13000</td>\n",
       "      <td>1</td>\n",
       "      <td>[false::1686926799624::2478517360:295757165047::::::1686926361024::::::::::::::::::::2356359:162::::, false::1686926422993::2478517360:175753744878::::::1686926361024::::::::::::::::::::2356359:92::::, false::1686926779694::2478517360:175753744878::::::1686926361024::::::::::::::::::::2356359:135::::]</td>\n",
       "      <td>None</td>\n",
       "      <td>0</td>\n",
       "    </tr>\n",
       "    <tr>\n",
       "      <th>983923</th>\n",
       "      <td>2478517360</td>\n",
       "      <td>250482</td>\n",
       "      <td>0</td>\n",
       "      <td>101551</td>\n",
       "      <td>20230616</td>\n",
       "      <td>9f4be62eb40c4d46abe45c9e11101505</td>\n",
       "      <td>Apps: iPhone</td>\n",
       "      <td>1</td>\n",
       "      <td>194141507236</td>\n",
       "      <td>3</td>\n",
       "      <td>15709</td>\n",
       "      <td></td>\n",
       "      <td>19999</td>\n",
       "      <td>13000</td>\n",
       "      <td>1</td>\n",
       "      <td>[false::1686926799624::2478517360:295757165047::::::1686926361024::::::::::::::::::::2356359:162::::, false::1686926422993::2478517360:175753744878::::::1686926361024::::::::::::::::::::2356359:92::::, false::1686926779694::2478517360:175753744878::::::1686926361024::::::::::::::::::::2356359:135::::]</td>\n",
       "      <td>None</td>\n",
       "      <td>0</td>\n",
       "    </tr>\n",
       "    <tr>\n",
       "      <th>983924</th>\n",
       "      <td>2478517360</td>\n",
       "      <td>250482</td>\n",
       "      <td>0</td>\n",
       "      <td>101551</td>\n",
       "      <td>20230616</td>\n",
       "      <td>9f4be62eb40c4d46abe45c9e11101505</td>\n",
       "      <td>Apps: iPhone</td>\n",
       "      <td>1</td>\n",
       "      <td>134605253981</td>\n",
       "      <td>4</td>\n",
       "      <td>15709</td>\n",
       "      <td></td>\n",
       "      <td>13000</td>\n",
       "      <td>13000</td>\n",
       "      <td>1</td>\n",
       "      <td>[false::1686926799624::2478517360:295757165047::::::1686926361024::::::::::::::::::::2356359:162::::, false::1686926422993::2478517360:175753744878::::::1686926361024::::::::::::::::::::2356359:92::::, false::1686926779694::2478517360:175753744878::::::1686926361024::::::::::::::::::::2356359:135::::]</td>\n",
       "      <td>None</td>\n",
       "      <td>0</td>\n",
       "    </tr>\n",
       "    <tr>\n",
       "      <th>983925</th>\n",
       "      <td>2478517360</td>\n",
       "      <td>250482</td>\n",
       "      <td>0</td>\n",
       "      <td>101551</td>\n",
       "      <td>20230616</td>\n",
       "      <td>9f4be62eb40c4d46abe45c9e11101505</td>\n",
       "      <td>Apps: iPhone</td>\n",
       "      <td>1</td>\n",
       "      <td>204364007802</td>\n",
       "      <td>5</td>\n",
       "      <td>15709</td>\n",
       "      <td></td>\n",
       "      <td>16000</td>\n",
       "      <td>13000</td>\n",
       "      <td>1</td>\n",
       "      <td>[false::1686926799624::2478517360:295757165047::::::1686926361024::::::::::::::::::::2356359:162::::, false::1686926422993::2478517360:175753744878::::::1686926361024::::::::::::::::::::2356359:92::::, false::1686926779694::2478517360:175753744878::::::1686926361024::::::::::::::::::::2356359:135::::]</td>\n",
       "      <td>None</td>\n",
       "      <td>0</td>\n",
       "    </tr>\n",
       "    <tr>\n",
       "      <th>983926</th>\n",
       "      <td>2478517360</td>\n",
       "      <td>250482</td>\n",
       "      <td>0</td>\n",
       "      <td>101551</td>\n",
       "      <td>20230616</td>\n",
       "      <td>9f4be62eb40c4d46abe45c9e11101505</td>\n",
       "      <td>Apps: iPhone</td>\n",
       "      <td>1</td>\n",
       "      <td>295757165047</td>\n",
       "      <td>6</td>\n",
       "      <td>15709</td>\n",
       "      <td></td>\n",
       "      <td>14000</td>\n",
       "      <td>13000</td>\n",
       "      <td>1</td>\n",
       "      <td>[false::1686926799624::2478517360:295757165047::::::1686926361024::::::::::::::::::::2356359:162::::, false::1686926422993::2478517360:175753744878::::::1686926361024::::::::::::::::::::2356359:92::::, false::1686926779694::2478517360:175753744878::::::1686926361024::::::::::::::::::::2356359:135::::]</td>\n",
       "      <td>295757165047</td>\n",
       "      <td>1</td>\n",
       "    </tr>\n",
       "    <tr>\n",
       "      <th>983927</th>\n",
       "      <td>2478517360</td>\n",
       "      <td>250482</td>\n",
       "      <td>0</td>\n",
       "      <td>101551</td>\n",
       "      <td>20230616</td>\n",
       "      <td>9f4be62eb40c4d46abe45c9e11101505</td>\n",
       "      <td>Apps: iPhone</td>\n",
       "      <td>1</td>\n",
       "      <td>165484071928</td>\n",
       "      <td>7</td>\n",
       "      <td>15709</td>\n",
       "      <td></td>\n",
       "      <td>14000</td>\n",
       "      <td>13000</td>\n",
       "      <td>1</td>\n",
       "      <td>[false::1686926799624::2478517360:295757165047::::::1686926361024::::::::::::::::::::2356359:162::::, false::1686926422993::2478517360:175753744878::::::1686926361024::::::::::::::::::::2356359:92::::, false::1686926779694::2478517360:175753744878::::::1686926361024::::::::::::::::::::2356359:135::::]</td>\n",
       "      <td>None</td>\n",
       "      <td>0</td>\n",
       "    </tr>\n",
       "    <tr>\n",
       "      <th>983928</th>\n",
       "      <td>2478517360</td>\n",
       "      <td>250482</td>\n",
       "      <td>0</td>\n",
       "      <td>101551</td>\n",
       "      <td>20230616</td>\n",
       "      <td>9f4be62eb40c4d46abe45c9e11101505</td>\n",
       "      <td>Apps: iPhone</td>\n",
       "      <td>1</td>\n",
       "      <td>235019868063</td>\n",
       "      <td>8</td>\n",
       "      <td>15709</td>\n",
       "      <td></td>\n",
       "      <td>17000</td>\n",
       "      <td>13000</td>\n",
       "      <td>1</td>\n",
       "      <td>[false::1686926799624::2478517360:295757165047::::::1686926361024::::::::::::::::::::2356359:162::::, false::1686926422993::2478517360:175753744878::::::1686926361024::::::::::::::::::::2356359:92::::, false::1686926779694::2478517360:175753744878::::::1686926361024::::::::::::::::::::2356359:135::::]</td>\n",
       "      <td>None</td>\n",
       "      <td>0</td>\n",
       "    </tr>\n",
       "    <tr>\n",
       "      <th>983929</th>\n",
       "      <td>2478517360</td>\n",
       "      <td>250482</td>\n",
       "      <td>0</td>\n",
       "      <td>101551</td>\n",
       "      <td>20230616</td>\n",
       "      <td>9f4be62eb40c4d46abe45c9e11101505</td>\n",
       "      <td>Apps: iPhone</td>\n",
       "      <td>1</td>\n",
       "      <td>404212014870</td>\n",
       "      <td>9</td>\n",
       "      <td>15709</td>\n",
       "      <td></td>\n",
       "      <td>11500</td>\n",
       "      <td>13000</td>\n",
       "      <td>1</td>\n",
       "      <td>[false::1686926799624::2478517360:295757165047::::::1686926361024::::::::::::::::::::2356359:162::::, false::1686926422993::2478517360:175753744878::::::1686926361024::::::::::::::::::::2356359:92::::, false::1686926779694::2478517360:175753744878::::::1686926361024::::::::::::::::::::2356359:135::::]</td>\n",
       "      <td>None</td>\n",
       "      <td>0</td>\n",
       "    </tr>\n",
       "    <tr>\n",
       "      <th>983930</th>\n",
       "      <td>2478517360</td>\n",
       "      <td>250482</td>\n",
       "      <td>0</td>\n",
       "      <td>101551</td>\n",
       "      <td>20230616</td>\n",
       "      <td>9f4be62eb40c4d46abe45c9e11101505</td>\n",
       "      <td>Apps: iPhone</td>\n",
       "      <td>1</td>\n",
       "      <td>394102680970</td>\n",
       "      <td>10</td>\n",
       "      <td>15709</td>\n",
       "      <td></td>\n",
       "      <td>11500</td>\n",
       "      <td>13000</td>\n",
       "      <td>1</td>\n",
       "      <td>[false::1686926799624::2478517360:295757165047::::::1686926361024::::::::::::::::::::2356359:162::::, false::1686926422993::2478517360:175753744878::::::1686926361024::::::::::::::::::::2356359:92::::, false::1686926779694::2478517360:175753744878::::::1686926361024::::::::::::::::::::2356359:135::::]</td>\n",
       "      <td>None</td>\n",
       "      <td>0</td>\n",
       "    </tr>\n",
       "  </tbody>\n",
       "</table>\n",
       "</div>"
      ],
      "text/plain": [
       "           user_id    TRKS  SITE_ID    plmt        dt  \\\n",
       "983921  2478517360  250482        0  101551  20230616   \n",
       "983922  2478517360  250482        0  101551  20230616   \n",
       "983923  2478517360  250482        0  101551  20230616   \n",
       "983924  2478517360  250482        0  101551  20230616   \n",
       "983925  2478517360  250482        0  101551  20230616   \n",
       "983926  2478517360  250482        0  101551  20230616   \n",
       "983927  2478517360  250482        0  101551  20230616   \n",
       "983928  2478517360  250482        0  101551  20230616   \n",
       "983929  2478517360  250482        0  101551  20230616   \n",
       "983930  2478517360  250482        0  101551  20230616   \n",
       "\n",
       "                                    meid    Experience  SURFACE_PLMT_IMP  \\\n",
       "983921  9f4be62eb40c4d46abe45c9e11101505  Apps: iPhone                 1   \n",
       "983922  9f4be62eb40c4d46abe45c9e11101505  Apps: iPhone                 1   \n",
       "983923  9f4be62eb40c4d46abe45c9e11101505  Apps: iPhone                 1   \n",
       "983924  9f4be62eb40c4d46abe45c9e11101505  Apps: iPhone                 1   \n",
       "983925  9f4be62eb40c4d46abe45c9e11101505  Apps: iPhone                 1   \n",
       "983926  9f4be62eb40c4d46abe45c9e11101505  Apps: iPhone                 1   \n",
       "983927  9f4be62eb40c4d46abe45c9e11101505  Apps: iPhone                 1   \n",
       "983928  9f4be62eb40c4d46abe45c9e11101505  Apps: iPhone                 1   \n",
       "983929  9f4be62eb40c4d46abe45c9e11101505  Apps: iPhone                 1   \n",
       "983930  9f4be62eb40c4d46abe45c9e11101505  Apps: iPhone                 1   \n",
       "\n",
       "              itemId production_rank leafCategoryId clicks  price  \\\n",
       "983921  175753744878               1          15709         12963   \n",
       "983922  385574021643               2          15709         15000   \n",
       "983923  194141507236               3          15709         19999   \n",
       "983924  134605253981               4          15709         13000   \n",
       "983925  204364007802               5          15709         16000   \n",
       "983926  295757165047               6          15709         14000   \n",
       "983927  165484071928               7          15709         14000   \n",
       "983928  235019868063               8          15709         17000   \n",
       "983929  404212014870               9          15709         11500   \n",
       "983930  394102680970              10          15709         11500   \n",
       "\n",
       "        plmt_gmv_sum_1d  plmt_purchase_1d  \\\n",
       "983921            13000                 1   \n",
       "983922            13000                 1   \n",
       "983923            13000                 1   \n",
       "983924            13000                 1   \n",
       "983925            13000                 1   \n",
       "983926            13000                 1   \n",
       "983927            13000                 1   \n",
       "983928            13000                 1   \n",
       "983929            13000                 1   \n",
       "983930            13000                 1   \n",
       "\n",
       "                                                                                                                                                                                                                                                                                                           plmt_clicks  \\\n",
       "983921  [false::1686926799624::2478517360:295757165047::::::1686926361024::::::::::::::::::::2356359:162::::, false::1686926422993::2478517360:175753744878::::::1686926361024::::::::::::::::::::2356359:92::::, false::1686926779694::2478517360:175753744878::::::1686926361024::::::::::::::::::::2356359:135::::]   \n",
       "983922  [false::1686926799624::2478517360:295757165047::::::1686926361024::::::::::::::::::::2356359:162::::, false::1686926422993::2478517360:175753744878::::::1686926361024::::::::::::::::::::2356359:92::::, false::1686926779694::2478517360:175753744878::::::1686926361024::::::::::::::::::::2356359:135::::]   \n",
       "983923  [false::1686926799624::2478517360:295757165047::::::1686926361024::::::::::::::::::::2356359:162::::, false::1686926422993::2478517360:175753744878::::::1686926361024::::::::::::::::::::2356359:92::::, false::1686926779694::2478517360:175753744878::::::1686926361024::::::::::::::::::::2356359:135::::]   \n",
       "983924  [false::1686926799624::2478517360:295757165047::::::1686926361024::::::::::::::::::::2356359:162::::, false::1686926422993::2478517360:175753744878::::::1686926361024::::::::::::::::::::2356359:92::::, false::1686926779694::2478517360:175753744878::::::1686926361024::::::::::::::::::::2356359:135::::]   \n",
       "983925  [false::1686926799624::2478517360:295757165047::::::1686926361024::::::::::::::::::::2356359:162::::, false::1686926422993::2478517360:175753744878::::::1686926361024::::::::::::::::::::2356359:92::::, false::1686926779694::2478517360:175753744878::::::1686926361024::::::::::::::::::::2356359:135::::]   \n",
       "983926  [false::1686926799624::2478517360:295757165047::::::1686926361024::::::::::::::::::::2356359:162::::, false::1686926422993::2478517360:175753744878::::::1686926361024::::::::::::::::::::2356359:92::::, false::1686926779694::2478517360:175753744878::::::1686926361024::::::::::::::::::::2356359:135::::]   \n",
       "983927  [false::1686926799624::2478517360:295757165047::::::1686926361024::::::::::::::::::::2356359:162::::, false::1686926422993::2478517360:175753744878::::::1686926361024::::::::::::::::::::2356359:92::::, false::1686926779694::2478517360:175753744878::::::1686926361024::::::::::::::::::::2356359:135::::]   \n",
       "983928  [false::1686926799624::2478517360:295757165047::::::1686926361024::::::::::::::::::::2356359:162::::, false::1686926422993::2478517360:175753744878::::::1686926361024::::::::::::::::::::2356359:92::::, false::1686926779694::2478517360:175753744878::::::1686926361024::::::::::::::::::::2356359:135::::]   \n",
       "983929  [false::1686926799624::2478517360:295757165047::::::1686926361024::::::::::::::::::::2356359:162::::, false::1686926422993::2478517360:175753744878::::::1686926361024::::::::::::::::::::2356359:92::::, false::1686926779694::2478517360:175753744878::::::1686926361024::::::::::::::::::::2356359:135::::]   \n",
       "983930  [false::1686926799624::2478517360:295757165047::::::1686926361024::::::::::::::::::::2356359:162::::, false::1686926422993::2478517360:175753744878::::::1686926361024::::::::::::::::::::2356359:92::::, false::1686926779694::2478517360:175753744878::::::1686926361024::::::::::::::::::::2356359:135::::]   \n",
       "\n",
       "       purchased_itemId  is_purchase  \n",
       "983921             None            0  \n",
       "983922             None            0  \n",
       "983923             None            0  \n",
       "983924             None            0  \n",
       "983925             None            0  \n",
       "983926     295757165047            1  \n",
       "983927             None            0  \n",
       "983928             None            0  \n",
       "983929             None            0  \n",
       "983930             None            0  "
      ]
     },
     "execution_count": 32,
     "metadata": {},
     "output_type": "execute_result"
    }
   ],
   "source": [
    "sneakers_abtest_df[sneakers_abtest_df.meid=='9f4be62eb40c4d46abe45c9e11101505']"
   ]
  },
  {
   "cell_type": "markdown",
   "id": "63431c17-9185-438b-a0ea-750c556c733c",
   "metadata": {
    "tags": []
   },
   "source": [
    "### Load pretrainer data of evaluation 3/6-20/6 ab test dates "
   ]
  },
  {
   "cell_type": "code",
   "execution_count": 26,
   "id": "963c5bc6-a91d-44fb-ad49-a3f30188bee8",
   "metadata": {
    "scrolled": true,
    "tags": []
   },
   "outputs": [
    {
     "name": "stdout",
     "output_type": "stream",
     "text": [
      "/apps/b_perso/hp/simplark/pretrainer/PersonalizedTopicsV2WithWatchlistFeaturesAndTopicMLR/2023/05/01\n",
      "/apps/b_perso/hp/simplark/pretrainer/PersonalizedTopicsV2WithWatchlistFeaturesAndTopicMLR/2023/05/02\n",
      "/apps/b_perso/hp/simplark/pretrainer/PersonalizedTopicsV2WithWatchlistFeaturesAndTopicMLR/2023/05/04\n",
      "/apps/b_perso/hp/simplark/pretrainer/PersonalizedTopicsV2WithWatchlistFeaturesAndTopicMLR/2023/05/05\n",
      "/apps/b_perso/hp/simplark/pretrainer/PersonalizedTopicsV2WithWatchlistFeaturesAndTopicMLR/2023/05/06\n",
      "/apps/b_perso/hp/simplark/pretrainer/PersonalizedTopicsV2WithWatchlistFeaturesAndTopicMLR/2023/05/07\n",
      "/apps/b_perso/hp/simplark/pretrainer/PersonalizedTopicsV2WithWatchlistFeaturesAndTopicMLR/2023/05/08\n",
      "/apps/b_perso/hp/simplark/pretrainer/PersonalizedTopicsV2WithWatchlistFeaturesAndTopicMLR/2023/05/09\n",
      "/apps/b_perso/hp/simplark/pretrainer/PersonalizedTopicsV2WithWatchlistFeaturesAndTopicMLR/2023/05/10\n",
      "/apps/b_perso/hp/simplark/pretrainer/PersonalizedTopicsV2WithWatchlistFeaturesAndTopicMLR/2023/05/11\n",
      "/apps/b_perso/hp/simplark/pretrainer/PersonalizedTopicsV2WithWatchlistFeaturesAndTopicMLR/2023/05/12\n",
      "/apps/b_perso/hp/simplark/pretrainer/PersonalizedTopicsV2WithWatchlistFeaturesAndTopicMLR/2023/05/13\n",
      "/apps/b_perso/hp/simplark/pretrainer/PersonalizedTopicsV2WithWatchlistFeaturesAndTopicMLR/2023/05/14\n",
      "/apps/b_perso/hp/simplark/pretrainer/PersonalizedTopicsV2WithWatchlistFeaturesAndTopicMLR/2023/05/15\n",
      "/apps/b_perso/hp/simplark/pretrainer/PersonalizedTopicsV2WithWatchlistFeaturesAndTopicMLR/2023/05/16\n",
      "/apps/b_perso/hp/simplark/pretrainer/PersonalizedTopicsV2WithWatchlistFeaturesAndTopicMLR/2023/05/17\n",
      "/apps/b_perso/hp/simplark/pretrainer/PersonalizedTopicsV2WithWatchlistFeaturesAndTopicMLR/2023/05/18\n",
      "/apps/b_perso/hp/simplark/pretrainer/PersonalizedTopicsV2WithWatchlistFeaturesAndTopicMLR/2023/05/19\n",
      "/apps/b_perso/hp/simplark/pretrainer/PersonalizedTopicsV2WithWatchlistFeaturesAndTopicMLR/2023/05/20\n",
      "/apps/b_perso/hp/simplark/pretrainer/PersonalizedTopicsV2WithWatchlistFeaturesAndTopicMLR/2023/05/21\n",
      "/apps/b_perso/hp/simplark/pretrainer/PersonalizedTopicsV2WithWatchlistFeaturesAndTopicMLR/2023/05/22\n",
      "/apps/b_perso/hp/simplark/pretrainer/PersonalizedTopicsV2WithWatchlistFeaturesAndTopicMLR/2023/05/23\n",
      "/apps/b_perso/hp/simplark/pretrainer/PersonalizedTopicsV2WithWatchlistFeaturesAndTopicMLR/2023/05/24\n",
      "/apps/b_perso/hp/simplark/pretrainer/PersonalizedTopicsV2WithWatchlistFeaturesAndTopicMLR/2023/05/25\n"
     ]
    }
   ],
   "source": [
    "!hdfs dfs -ls -h -C /apps/b_perso/hp/simplark/pretrainer/PersonalizedTopics*/2023/05*/"
   ]
  },
  {
   "cell_type": "code",
   "execution_count": 27,
   "id": "e8194ffb-c7b3-4721-814f-f2a62a0730ae",
   "metadata": {
    "scrolled": true,
    "tags": []
   },
   "outputs": [
    {
     "name": "stdout",
     "output_type": "stream",
     "text": [
      "/apps/b_perso/hp/simplark/pretrainer/PersonalizedTopicsV2WithV7Unbiased/2023/06/03\n",
      "/apps/b_perso/hp/simplark/pretrainer/PersonalizedTopicsV2WithV7Unbiased/2023/06/04\n",
      "/apps/b_perso/hp/simplark/pretrainer/PersonalizedTopicsV2WithV7Unbiased/2023/06/05\n",
      "/apps/b_perso/hp/simplark/pretrainer/PersonalizedTopicsV2WithV7Unbiased/2023/06/06\n",
      "/apps/b_perso/hp/simplark/pretrainer/PersonalizedTopicsV2WithV7Unbiased/2023/06/07\n",
      "/apps/b_perso/hp/simplark/pretrainer/PersonalizedTopicsV2WithV7Unbiased/2023/06/08\n",
      "/apps/b_perso/hp/simplark/pretrainer/PersonalizedTopicsV2WithV7Unbiased/2023/06/09\n",
      "/apps/b_perso/hp/simplark/pretrainer/PersonalizedTopicsV2WithV7Unbiased/2023/06/10\n",
      "/apps/b_perso/hp/simplark/pretrainer/PersonalizedTopicsV2WithV7Unbiased/2023/06/11\n",
      "/apps/b_perso/hp/simplark/pretrainer/PersonalizedTopicsV2WithV7Unbiased/2023/06/12\n",
      "/apps/b_perso/hp/simplark/pretrainer/PersonalizedTopicsV2WithV7Unbiased/2023/06/13\n",
      "/apps/b_perso/hp/simplark/pretrainer/PersonalizedTopicsV2WithV7Unbiased/2023/06/14\n",
      "/apps/b_perso/hp/simplark/pretrainer/PersonalizedTopicsV2WithV7Unbiased/2023/06/15\n",
      "/apps/b_perso/hp/simplark/pretrainer/PersonalizedTopicsV2WithV7Unbiased/2023/06/16\n",
      "/apps/b_perso/hp/simplark/pretrainer/PersonalizedTopicsV2WithV7Unbiased/2023/06/17\n",
      "/apps/b_perso/hp/simplark/pretrainer/PersonalizedTopicsV2WithV7Unbiased/2023/06/18\n",
      "/apps/b_perso/hp/simplark/pretrainer/PersonalizedTopicsV2WithV7Unbiased/2023/06/19\n",
      "/apps/b_perso/hp/simplark/pretrainer/PersonalizedTopicsV2WithV7Unbiased/2023/06/20\n",
      "/apps/b_perso/hp/simplark/pretrainer/PersonalizedTopicsV2WithV7Unbiased/2023/06/21\n",
      "/apps/b_perso/hp/simplark/pretrainer/PersonalizedTopicsV2WithV7Unbiased/2023/06/22\n",
      "/apps/b_perso/hp/simplark/pretrainer/PersonalizedTopicsV2WithV7Unbiased/2023/06/23\n",
      "/apps/b_perso/hp/simplark/pretrainer/PersonalizedTopicsV2WithV7Unbiased/2023/06/25\n",
      "/apps/b_perso/hp/simplark/pretrainer/PersonalizedTopicsV2WithV7Unbiased/2023/06/26\n",
      "/apps/b_perso/hp/simplark/pretrainer/PersonalizedTopicsV2WithV7Unbiased/2023/06/27\n",
      "2023-07-02T07:39:03.704+0000: [GC (System.gc()) \n",
      "Desired survivor size 44564480 bytes, new threshold 15 (max 15)\n",
      "[PSYoungGen: 254915K->192K(4233728K)] 883167K->628443K(19603456K), 0.0175868 secs] [Times: user=0.03 sys=0.02, real=0.02 secs] \n",
      "2023-07-02T07:39:03.721+0000: [Full GC (System.gc()) [PSYoungGen: 192K->0K(4233728K)] [ParOldGen: 628251K->628256K(15369728K)] 628443K->628256K(19603456K), [Metaspace: 153566K->153553K(165888K)], 0.3344196 secs] [Times: user=0.67 sys=0.01, real=0.34 secs] \n"
     ]
    }
   ],
   "source": [
    "!hdfs dfs -ls -h -C /apps/b_perso/hp/simplark/pretrainer/PersonalizedTopics*/2023/06*/"
   ]
  },
  {
   "cell_type": "code",
   "execution_count": 18,
   "id": "2233ec4b-b23b-4e57-a2d5-cddd19a5ec3e",
   "metadata": {},
   "outputs": [
    {
     "name": "stdout",
     "output_type": "stream",
     "text": [
      "/apps/b_perso/hp/simplark/pretrainer/PersonalizedTopicsV2WithV7Unbiased/2023/06/03/data/part-00000-1288443d-4fb0-4e97-b8c7-0dabba7a6c4a.npy.gz\n"
     ]
    }
   ],
   "source": [
    "!hdfs dfs -ls -h -C /apps/b_perso/hp/simplark/pretrainer/PersonalizedTopics*/2023/06/03/data/part-00000-1288443d-4fb0-4e97-b8c7-0dabba7a6c4a.npy.gz"
   ]
  },
  {
   "cell_type": "markdown",
   "id": "96e8577a-ff2c-4b6e-b261-33c3ffbf3b9d",
   "metadata": {},
   "source": [
    "### Load evaluation data:"
   ]
  },
  {
   "cell_type": "code",
   "execution_count": 76,
   "id": "521466df-6f3c-49d0-b0fb-d9bc5371a04f",
   "metadata": {},
   "outputs": [],
   "source": [
    "sneakers_abtest_df=pd.read_pickle('/data/shpx/notebooks/olivyatan/Unbiasing/sneakers_size_abtest_transactions_290623_sample.pkl' )"
   ]
  },
  {
   "cell_type": "code",
   "execution_count": 77,
   "id": "7fa4d11f-13aa-4cc3-9f4b-a72d86b1dea3",
   "metadata": {},
   "outputs": [
    {
     "data": {
      "text/plain": [
       "(42979891, 18)"
      ]
     },
     "execution_count": 77,
     "metadata": {},
     "output_type": "execute_result"
    }
   ],
   "source": [
    "sneakers_abtest_df.shape"
   ]
  },
  {
   "cell_type": "code",
   "execution_count": null,
   "id": "24aef6b6-acf8-49c7-9c00-804ad4ff688c",
   "metadata": {},
   "outputs": [],
   "source": [
    "https://github.ebay.com/olivyatan/evalplex/tree/krylov_week09_20230302124009_Thursday/htmls/piyi_v7 \n",
    "https://github.ebay.com/olivyatan/evalplex/tree/krylov_week09_20230302124128_Thursday/htmls/piyi_v7_unbiased \n",
    "eval sneakers: \n",
    "    https://github.ebay.com/olivyatan/evalplex/tree/krylov_week27_20230706110041_Thursday/htmls/piyi_v7_sneakers_numpy"
   ]
  },
  {
   "cell_type": "code",
   "execution_count": 36,
   "id": "857999ad-e27b-4042-861e-3d2828bdaecd",
   "metadata": {},
   "outputs": [
    {
     "name": "stdout",
     "output_type": "stream",
     "text": [
      "-rw-r--r-- 1 root aip_shpx 126K May 13 13:44 /data/shpx/data/olivyatan/week19_20230513163529_Saturday/simplex_models/simplex_piyi_v7_sneakers_numpy_week19_20230513134315_Saturday.pkl\n"
     ]
    }
   ],
   "source": [
    "!ls -lh /data/shpx/data/olivyatan/week19_20230513163529_Saturday/simplex_models/simplex_piyi_v7_sneakers_numpy_week19_20230513134315_Saturday.pkl"
   ]
  },
  {
   "cell_type": "code",
   "execution_count": 27,
   "id": "5be6ad89-33d6-4a6a-8169-6d08a89582db",
   "metadata": {},
   "outputs": [
    {
     "name": "stdout",
     "output_type": "stream",
     "text": [
      "-rw-r--r-- 1 root aip_shpx 3.1M Jul  6 08:18 /data/shpx/data/olivyatan/week27_20230706110041_Thursday/prep/piyi_v7_sneakers_numpy_prepped_data\n"
     ]
    }
   ],
   "source": [
    "!ls -lh /data/shpx/data/olivyatan/week27_20230706110041_Thursday/prep/piyi_v7_sneakers_numpy_prepped_data"
   ]
  },
  {
   "cell_type": "code",
   "execution_count": 28,
   "id": "28f8ba07-1cab-4c5c-94b5-06782733128a",
   "metadata": {},
   "outputs": [],
   "source": [
    "import pickle\n",
    "import numpy as np\n",
    "import pandas as pd\n",
    "# link od model run: https://github.ebay.com/olivyatan/treeplex/tree/krylov_week07_20230213180248_Monday/htmls/piyi_v7_unbiased \n",
    "#https://github.ebay.com/olivyatan/treeplex/tree/krylov_week09_20230227132053_Monday/htmls/piyi_v7_unbiased \n",
    "##https://github.ebay.com/olivyatan/evalplex/tree/krylov_week10_20230308110625_Wednesday/htmls/piyi_v7_unbiased\n",
    "file = open(f'/data/shpx/data/olivyatan/week27_20230706110041_Thursday/prep/piyi_v7_sneakers_numpy_prepped_data', 'rb')\n",
    "# dump information to that file\n",
    "prepped_data = pickle.load(file)\n",
    "file.close()"
   ]
  },
  {
   "cell_type": "code",
   "execution_count": 29,
   "id": "86edbd98-9350-431b-b6d8-1488ecb395d1",
   "metadata": {},
   "outputs": [
    {
     "data": {
      "text/plain": [
       "(array([0, 1], dtype=int32), array([8010,  953]))"
      ]
     },
     "execution_count": 29,
     "metadata": {},
     "output_type": "execute_result"
    }
   ],
   "source": [
    "np.unique(prepped_data.y_test, return_counts=True)"
   ]
  },
  {
   "cell_type": "code",
   "execution_count": 87,
   "id": "146d2c86-c210-4ded-b04c-c4c60c253100",
   "metadata": {},
   "outputs": [
    {
     "data": {
      "text/plain": [
       "36"
      ]
     },
     "execution_count": 87,
     "metadata": {},
     "output_type": "execute_result"
    }
   ],
   "source": [
    "len(prepped_data.schema)"
   ]
  },
  {
   "cell_type": "code",
   "execution_count": 86,
   "id": "9f2fd421-37c1-4073-91c8-68c4f630880b",
   "metadata": {
    "scrolled": true,
    "tags": []
   },
   "outputs": [
    {
     "data": {
      "text/plain": [
       "['BibowatchRelPosition',\n",
       " 'RecallSourceBullseye',\n",
       " 'RecallSourceTora',\n",
       " 'TitleCosineSimilarityToShoppingcartCentroid',\n",
       " 'MaxViewedItemTitleJaccardBigrams',\n",
       " 'NumSameRviInLastWeek',\n",
       " 'AvgSameLeafRviPriceRatio',\n",
       " 'ItemSalesOverImpPricePrior7DayDecayLogSmoothDomesticWebAndMobile',\n",
       " 'ItemVariantSalesOverImpressions7DayDecayLogSmoothDomesticWebAndMobileV2',\n",
       " 'MaxViewedItemTitleJaccard',\n",
       " 'ItemTimeOnSiteV2',\n",
       " 'ItemWatchesOverImp7DayDecayLogSmoothDomesticWebAndMobileV2',\n",
       " 'PriceDiffMedianRecall',\n",
       " 'FreqSameItemInWatchBadge',\n",
       " 'RecallSourceBestMatch',\n",
       " 'ItemSalesOverImpPricePrior7DayDecayLogSmoothInternationalWebAndMobileNorm',\n",
       " 'FreqWatchPriceBellowItemPrice',\n",
       " 'MerchImpressionsDecayed',\n",
       " 'PlImpressionsDecayed',\n",
       " 'AvgSameLeafRviPriceDiff',\n",
       " 'ItemSalesOverImpPricePrior7DayDecayLogSmoothDomesticWebAndMobileNorm',\n",
       " 'BullseyeRelRVILeafCatMedianPriceDiffV2',\n",
       " 'BullseyeAbsRVILeafCatMedianPriceDiffV2',\n",
       " 'BullseyeRVILeafCatMedianPriceV2',\n",
       " 'ItemTimeLeftSec',\n",
       " 'ItemTimeOnSiteNorm',\n",
       " 'ItemWatchOverImpLogSmoothAllNorm',\n",
       " 'NormItemViewCount7DayDecayDomesticWebAndMobile',\n",
       " 'ItemVariantWatchOverImpressions7DayDecayLogSmoothDomesticWebAndMobileNorm',\n",
       " 'EpidRelative',\n",
       " 'SellerFeedbackLogNormWnD',\n",
       " 'NSFWScore',\n",
       " 'IsMsku',\n",
       " 'SizeMedianDiff',\n",
       " 'UserSizeMaxMinDiff',\n",
       " 'UserSizeNumberOfEvidence']"
      ]
     },
     "execution_count": 86,
     "metadata": {},
     "output_type": "execute_result"
    }
   ],
   "source": [
    "prepped_data.schema"
   ]
  },
  {
   "cell_type": "code",
   "execution_count": 53,
   "id": "7f15edaa-c6c2-4c9c-a147-14942ff31f7d",
   "metadata": {},
   "outputs": [],
   "source": [
    "\n",
    "f=pd.DataFrame(prepped_data.X_test)"
   ]
  },
  {
   "cell_type": "code",
   "execution_count": 54,
   "id": "e3158bec-3d37-4aae-9ff4-169062f546f6",
   "metadata": {},
   "outputs": [
    {
     "data": {
      "text/html": [
       "<div>\n",
       "<style scoped>\n",
       "    .dataframe tbody tr th:only-of-type {\n",
       "        vertical-align: middle;\n",
       "    }\n",
       "\n",
       "    .dataframe tbody tr th {\n",
       "        vertical-align: top;\n",
       "    }\n",
       "\n",
       "    .dataframe thead th {\n",
       "        text-align: right;\n",
       "    }\n",
       "</style>\n",
       "<table border=\"1\" class=\"dataframe\">\n",
       "  <thead>\n",
       "    <tr style=\"text-align: right;\">\n",
       "      <th></th>\n",
       "      <th>0</th>\n",
       "      <th>1</th>\n",
       "      <th>2</th>\n",
       "      <th>3</th>\n",
       "      <th>4</th>\n",
       "      <th>5</th>\n",
       "      <th>6</th>\n",
       "      <th>7</th>\n",
       "      <th>8</th>\n",
       "      <th>9</th>\n",
       "      <th>...</th>\n",
       "      <th>26</th>\n",
       "      <th>27</th>\n",
       "      <th>28</th>\n",
       "      <th>29</th>\n",
       "      <th>30</th>\n",
       "      <th>31</th>\n",
       "      <th>32</th>\n",
       "      <th>33</th>\n",
       "      <th>34</th>\n",
       "      <th>35</th>\n",
       "    </tr>\n",
       "  </thead>\n",
       "  <tbody>\n",
       "    <tr>\n",
       "      <th>0</th>\n",
       "      <td>-1.000</td>\n",
       "      <td>1.000</td>\n",
       "      <td>1.000</td>\n",
       "      <td>-1.000</td>\n",
       "      <td>0.250</td>\n",
       "      <td>0.000</td>\n",
       "      <td>0.749</td>\n",
       "      <td>-7.591</td>\n",
       "      <td>-7.335</td>\n",
       "      <td>0.250</td>\n",
       "      <td>...</td>\n",
       "      <td>0.541</td>\n",
       "      <td>0.000</td>\n",
       "      <td>0.647</td>\n",
       "      <td>1.461</td>\n",
       "      <td>0.127</td>\n",
       "      <td>0.005</td>\n",
       "      <td>0.000</td>\n",
       "      <td>0.000</td>\n",
       "      <td>6.000</td>\n",
       "      <td>24.000</td>\n",
       "    </tr>\n",
       "    <tr>\n",
       "      <th>1</th>\n",
       "      <td>-1.000</td>\n",
       "      <td>1.000</td>\n",
       "      <td>1.000</td>\n",
       "      <td>-1.000</td>\n",
       "      <td>0.143</td>\n",
       "      <td>1.000</td>\n",
       "      <td>0.622</td>\n",
       "      <td>-12.386</td>\n",
       "      <td>-11.995</td>\n",
       "      <td>0.227</td>\n",
       "      <td>...</td>\n",
       "      <td>0.585</td>\n",
       "      <td>0.001</td>\n",
       "      <td>0.688</td>\n",
       "      <td>0.892</td>\n",
       "      <td>0.472</td>\n",
       "      <td>0.004</td>\n",
       "      <td>0.000</td>\n",
       "      <td>0.000</td>\n",
       "      <td>6.000</td>\n",
       "      <td>24.000</td>\n",
       "    </tr>\n",
       "    <tr>\n",
       "      <th>2</th>\n",
       "      <td>-1.000</td>\n",
       "      <td>1.000</td>\n",
       "      <td>1.000</td>\n",
       "      <td>-1.000</td>\n",
       "      <td>0.286</td>\n",
       "      <td>1.000</td>\n",
       "      <td>1.390</td>\n",
       "      <td>-10.129</td>\n",
       "      <td>-10.433</td>\n",
       "      <td>0.389</td>\n",
       "      <td>...</td>\n",
       "      <td>0.651</td>\n",
       "      <td>0.000</td>\n",
       "      <td>0.553</td>\n",
       "      <td>1.496</td>\n",
       "      <td>0.316</td>\n",
       "      <td>0.017</td>\n",
       "      <td>0.000</td>\n",
       "      <td>0.000</td>\n",
       "      <td>6.000</td>\n",
       "      <td>24.000</td>\n",
       "    </tr>\n",
       "    <tr>\n",
       "      <th>3</th>\n",
       "      <td>-1.000</td>\n",
       "      <td>1.000</td>\n",
       "      <td>1.000</td>\n",
       "      <td>-1.000</td>\n",
       "      <td>0.050</td>\n",
       "      <td>0.000</td>\n",
       "      <td>0.911</td>\n",
       "      <td>-9.068</td>\n",
       "      <td>-11.151</td>\n",
       "      <td>0.059</td>\n",
       "      <td>...</td>\n",
       "      <td>0.384</td>\n",
       "      <td>0.000</td>\n",
       "      <td>0.596</td>\n",
       "      <td>0.981</td>\n",
       "      <td>0.159</td>\n",
       "      <td>0.001</td>\n",
       "      <td>0.000</td>\n",
       "      <td>0.000</td>\n",
       "      <td>6.000</td>\n",
       "      <td>24.000</td>\n",
       "    </tr>\n",
       "    <tr>\n",
       "      <th>4</th>\n",
       "      <td>-1.000</td>\n",
       "      <td>0.000</td>\n",
       "      <td>1.000</td>\n",
       "      <td>-1.000</td>\n",
       "      <td>0.182</td>\n",
       "      <td>0.000</td>\n",
       "      <td>1.031</td>\n",
       "      <td>-7.677</td>\n",
       "      <td>-7.335</td>\n",
       "      <td>0.333</td>\n",
       "      <td>...</td>\n",
       "      <td>0.541</td>\n",
       "      <td>0.000</td>\n",
       "      <td>0.647</td>\n",
       "      <td>1.220</td>\n",
       "      <td>0.377</td>\n",
       "      <td>0.003</td>\n",
       "      <td>0.000</td>\n",
       "      <td>0.000</td>\n",
       "      <td>6.000</td>\n",
       "      <td>24.000</td>\n",
       "    </tr>\n",
       "    <tr>\n",
       "      <th>...</th>\n",
       "      <td>...</td>\n",
       "      <td>...</td>\n",
       "      <td>...</td>\n",
       "      <td>...</td>\n",
       "      <td>...</td>\n",
       "      <td>...</td>\n",
       "      <td>...</td>\n",
       "      <td>...</td>\n",
       "      <td>...</td>\n",
       "      <td>...</td>\n",
       "      <td>...</td>\n",
       "      <td>...</td>\n",
       "      <td>...</td>\n",
       "      <td>...</td>\n",
       "      <td>...</td>\n",
       "      <td>...</td>\n",
       "      <td>...</td>\n",
       "      <td>...</td>\n",
       "      <td>...</td>\n",
       "      <td>...</td>\n",
       "      <td>...</td>\n",
       "    </tr>\n",
       "    <tr>\n",
       "      <th>8958</th>\n",
       "      <td>-1.000</td>\n",
       "      <td>0.000</td>\n",
       "      <td>1.000</td>\n",
       "      <td>0.000</td>\n",
       "      <td>0.077</td>\n",
       "      <td>0.000</td>\n",
       "      <td>1.355</td>\n",
       "      <td>-10.301</td>\n",
       "      <td>-12.500</td>\n",
       "      <td>0.000</td>\n",
       "      <td>...</td>\n",
       "      <td>0.688</td>\n",
       "      <td>0.001</td>\n",
       "      <td>0.635</td>\n",
       "      <td>1.226</td>\n",
       "      <td>0.349</td>\n",
       "      <td>0.001</td>\n",
       "      <td>0.000</td>\n",
       "      <td>1.000</td>\n",
       "      <td>1.500</td>\n",
       "      <td>34.000</td>\n",
       "    </tr>\n",
       "    <tr>\n",
       "      <th>8959</th>\n",
       "      <td>-1.000</td>\n",
       "      <td>0.000</td>\n",
       "      <td>1.000</td>\n",
       "      <td>0.000</td>\n",
       "      <td>0.075</td>\n",
       "      <td>0.000</td>\n",
       "      <td>1.074</td>\n",
       "      <td>-11.730</td>\n",
       "      <td>-11.983</td>\n",
       "      <td>0.083</td>\n",
       "      <td>...</td>\n",
       "      <td>0.627</td>\n",
       "      <td>0.001</td>\n",
       "      <td>0.632</td>\n",
       "      <td>1.022</td>\n",
       "      <td>0.335</td>\n",
       "      <td>0.029</td>\n",
       "      <td>0.000</td>\n",
       "      <td>1.500</td>\n",
       "      <td>1.500</td>\n",
       "      <td>34.000</td>\n",
       "    </tr>\n",
       "    <tr>\n",
       "      <th>8960</th>\n",
       "      <td>-1.000</td>\n",
       "      <td>0.000</td>\n",
       "      <td>1.000</td>\n",
       "      <td>0.000</td>\n",
       "      <td>0.071</td>\n",
       "      <td>0.000</td>\n",
       "      <td>0.510</td>\n",
       "      <td>-10.848</td>\n",
       "      <td>-13.145</td>\n",
       "      <td>0.077</td>\n",
       "      <td>...</td>\n",
       "      <td>0.582</td>\n",
       "      <td>0.002</td>\n",
       "      <td>0.568</td>\n",
       "      <td>0.403</td>\n",
       "      <td>0.433</td>\n",
       "      <td>0.000</td>\n",
       "      <td>0.000</td>\n",
       "      <td>1.500</td>\n",
       "      <td>1.500</td>\n",
       "      <td>34.000</td>\n",
       "    </tr>\n",
       "    <tr>\n",
       "      <th>8961</th>\n",
       "      <td>-1.000</td>\n",
       "      <td>0.000</td>\n",
       "      <td>1.000</td>\n",
       "      <td>0.000</td>\n",
       "      <td>0.000</td>\n",
       "      <td>0.000</td>\n",
       "      <td>1.074</td>\n",
       "      <td>-10.272</td>\n",
       "      <td>-10.983</td>\n",
       "      <td>0.000</td>\n",
       "      <td>...</td>\n",
       "      <td>0.549</td>\n",
       "      <td>0.000</td>\n",
       "      <td>0.469</td>\n",
       "      <td>1.520</td>\n",
       "      <td>0.472</td>\n",
       "      <td>0.000</td>\n",
       "      <td>0.000</td>\n",
       "      <td>2.500</td>\n",
       "      <td>1.500</td>\n",
       "      <td>34.000</td>\n",
       "    </tr>\n",
       "    <tr>\n",
       "      <th>8962</th>\n",
       "      <td>-1.000</td>\n",
       "      <td>0.000</td>\n",
       "      <td>1.000</td>\n",
       "      <td>0.000</td>\n",
       "      <td>0.071</td>\n",
       "      <td>0.000</td>\n",
       "      <td>1.892</td>\n",
       "      <td>-8.563</td>\n",
       "      <td>-8.560</td>\n",
       "      <td>0.080</td>\n",
       "      <td>...</td>\n",
       "      <td>0.478</td>\n",
       "      <td>0.002</td>\n",
       "      <td>0.576</td>\n",
       "      <td>1.409</td>\n",
       "      <td>0.481</td>\n",
       "      <td>0.000</td>\n",
       "      <td>1.000</td>\n",
       "      <td>-1.000</td>\n",
       "      <td>1.500</td>\n",
       "      <td>34.000</td>\n",
       "    </tr>\n",
       "  </tbody>\n",
       "</table>\n",
       "<p>8963 rows × 36 columns</p>\n",
       "</div>"
      ],
      "text/plain": [
       "         0     1     2      3     4     5     6       7       8     9   ...  \\\n",
       "0    -1.000 1.000 1.000 -1.000 0.250 0.000 0.749  -7.591  -7.335 0.250  ...   \n",
       "1    -1.000 1.000 1.000 -1.000 0.143 1.000 0.622 -12.386 -11.995 0.227  ...   \n",
       "2    -1.000 1.000 1.000 -1.000 0.286 1.000 1.390 -10.129 -10.433 0.389  ...   \n",
       "3    -1.000 1.000 1.000 -1.000 0.050 0.000 0.911  -9.068 -11.151 0.059  ...   \n",
       "4    -1.000 0.000 1.000 -1.000 0.182 0.000 1.031  -7.677  -7.335 0.333  ...   \n",
       "...     ...   ...   ...    ...   ...   ...   ...     ...     ...   ...  ...   \n",
       "8958 -1.000 0.000 1.000  0.000 0.077 0.000 1.355 -10.301 -12.500 0.000  ...   \n",
       "8959 -1.000 0.000 1.000  0.000 0.075 0.000 1.074 -11.730 -11.983 0.083  ...   \n",
       "8960 -1.000 0.000 1.000  0.000 0.071 0.000 0.510 -10.848 -13.145 0.077  ...   \n",
       "8961 -1.000 0.000 1.000  0.000 0.000 0.000 1.074 -10.272 -10.983 0.000  ...   \n",
       "8962 -1.000 0.000 1.000  0.000 0.071 0.000 1.892  -8.563  -8.560 0.080  ...   \n",
       "\n",
       "        26    27    28    29    30    31    32     33    34     35  \n",
       "0    0.541 0.000 0.647 1.461 0.127 0.005 0.000  0.000 6.000 24.000  \n",
       "1    0.585 0.001 0.688 0.892 0.472 0.004 0.000  0.000 6.000 24.000  \n",
       "2    0.651 0.000 0.553 1.496 0.316 0.017 0.000  0.000 6.000 24.000  \n",
       "3    0.384 0.000 0.596 0.981 0.159 0.001 0.000  0.000 6.000 24.000  \n",
       "4    0.541 0.000 0.647 1.220 0.377 0.003 0.000  0.000 6.000 24.000  \n",
       "...    ...   ...   ...   ...   ...   ...   ...    ...   ...    ...  \n",
       "8958 0.688 0.001 0.635 1.226 0.349 0.001 0.000  1.000 1.500 34.000  \n",
       "8959 0.627 0.001 0.632 1.022 0.335 0.029 0.000  1.500 1.500 34.000  \n",
       "8960 0.582 0.002 0.568 0.403 0.433 0.000 0.000  1.500 1.500 34.000  \n",
       "8961 0.549 0.000 0.469 1.520 0.472 0.000 0.000  2.500 1.500 34.000  \n",
       "8962 0.478 0.002 0.576 1.409 0.481 0.000 1.000 -1.000 1.500 34.000  \n",
       "\n",
       "[8963 rows x 36 columns]"
      ]
     },
     "execution_count": 54,
     "metadata": {},
     "output_type": "execute_result"
    }
   ],
   "source": [
    "f"
   ]
  },
  {
   "cell_type": "code",
   "execution_count": 39,
   "id": "b9bc98cb-a2f8-4260-a20a-7e5f93655282",
   "metadata": {},
   "outputs": [
    {
     "data": {
      "text/html": [
       "<div>\n",
       "<style scoped>\n",
       "    .dataframe tbody tr th:only-of-type {\n",
       "        vertical-align: middle;\n",
       "    }\n",
       "\n",
       "    .dataframe tbody tr th {\n",
       "        vertical-align: top;\n",
       "    }\n",
       "\n",
       "    .dataframe thead th {\n",
       "        text-align: right;\n",
       "    }\n",
       "</style>\n",
       "<table border=\"1\" class=\"dataframe\">\n",
       "  <thead>\n",
       "    <tr style=\"text-align: right;\">\n",
       "      <th></th>\n",
       "      <th>meid</th>\n",
       "      <th>mlrRank</th>\n",
       "      <th>itemId</th>\n",
       "      <th>labels.labelClassicBBE</th>\n",
       "    </tr>\n",
       "  </thead>\n",
       "  <tbody>\n",
       "    <tr>\n",
       "      <th>0</th>\n",
       "      <td>b'2c1964b7ba30479fb52c48d47dd3260b'</td>\n",
       "      <td>1</td>\n",
       "      <td>314651024057</td>\n",
       "      <td>-1</td>\n",
       "    </tr>\n",
       "    <tr>\n",
       "      <th>1</th>\n",
       "      <td>b'2c1964b7ba30479fb52c48d47dd3260b'</td>\n",
       "      <td>2</td>\n",
       "      <td>185646232849</td>\n",
       "      <td>-1</td>\n",
       "    </tr>\n",
       "    <tr>\n",
       "      <th>2</th>\n",
       "      <td>b'2c1964b7ba30479fb52c48d47dd3260b'</td>\n",
       "      <td>3</td>\n",
       "      <td>195650041295</td>\n",
       "      <td>-1</td>\n",
       "    </tr>\n",
       "    <tr>\n",
       "      <th>3</th>\n",
       "      <td>b'2c1964b7ba30479fb52c48d47dd3260b'</td>\n",
       "      <td>4</td>\n",
       "      <td>385678149660</td>\n",
       "      <td>-1</td>\n",
       "    </tr>\n",
       "    <tr>\n",
       "      <th>4</th>\n",
       "      <td>b'2c1964b7ba30479fb52c48d47dd3260b'</td>\n",
       "      <td>5</td>\n",
       "      <td>175778880383</td>\n",
       "      <td>-1</td>\n",
       "    </tr>\n",
       "    <tr>\n",
       "      <th>5</th>\n",
       "      <td>b'2c1964b7ba30479fb52c48d47dd3260b'</td>\n",
       "      <td>6</td>\n",
       "      <td>195830685887</td>\n",
       "      <td>-1</td>\n",
       "    </tr>\n",
       "    <tr>\n",
       "      <th>6</th>\n",
       "      <td>b'2c1964b7ba30479fb52c48d47dd3260b'</td>\n",
       "      <td>7</td>\n",
       "      <td>185949473399</td>\n",
       "      <td>-1</td>\n",
       "    </tr>\n",
       "    <tr>\n",
       "      <th>7</th>\n",
       "      <td>b'2c1964b7ba30479fb52c48d47dd3260b'</td>\n",
       "      <td>8</td>\n",
       "      <td>185938182902</td>\n",
       "      <td>-1</td>\n",
       "    </tr>\n",
       "    <tr>\n",
       "      <th>8</th>\n",
       "      <td>b'2c1964b7ba30479fb52c48d47dd3260b'</td>\n",
       "      <td>9</td>\n",
       "      <td>314650534934</td>\n",
       "      <td>-1</td>\n",
       "    </tr>\n",
       "    <tr>\n",
       "      <th>9</th>\n",
       "      <td>b'2c1964b7ba30479fb52c48d47dd3260b'</td>\n",
       "      <td>10</td>\n",
       "      <td>225589218458</td>\n",
       "      <td>-1</td>\n",
       "    </tr>\n",
       "  </tbody>\n",
       "</table>\n",
       "</div>"
      ],
      "text/plain": [
       "                                  meid  mlrRank        itemId  \\\n",
       "0  b'2c1964b7ba30479fb52c48d47dd3260b'        1  314651024057   \n",
       "1  b'2c1964b7ba30479fb52c48d47dd3260b'        2  185646232849   \n",
       "2  b'2c1964b7ba30479fb52c48d47dd3260b'        3  195650041295   \n",
       "3  b'2c1964b7ba30479fb52c48d47dd3260b'        4  385678149660   \n",
       "4  b'2c1964b7ba30479fb52c48d47dd3260b'        5  175778880383   \n",
       "5  b'2c1964b7ba30479fb52c48d47dd3260b'        6  195830685887   \n",
       "6  b'2c1964b7ba30479fb52c48d47dd3260b'        7  185949473399   \n",
       "7  b'2c1964b7ba30479fb52c48d47dd3260b'        8  185938182902   \n",
       "8  b'2c1964b7ba30479fb52c48d47dd3260b'        9  314650534934   \n",
       "9  b'2c1964b7ba30479fb52c48d47dd3260b'       10  225589218458   \n",
       "\n",
       "   labels.labelClassicBBE  \n",
       "0                      -1  \n",
       "1                      -1  \n",
       "2                      -1  \n",
       "3                      -1  \n",
       "4                      -1  \n",
       "5                      -1  \n",
       "6                      -1  \n",
       "7                      -1  \n",
       "8                      -1  \n",
       "9                      -1  "
      ]
     },
     "execution_count": 39,
     "metadata": {},
     "output_type": "execute_result"
    }
   ],
   "source": [
    "pdf = pd.DataFrame(prepped_data.hold_out)\n",
    "pdf.head(10)"
   ]
  },
  {
   "cell_type": "code",
   "execution_count": 40,
   "id": "8e11ddf7-a1b6-4c98-87f2-fd2d7a75d4b5",
   "metadata": {},
   "outputs": [
    {
     "data": {
      "text/plain": [
       "(8963, 4)"
      ]
     },
     "execution_count": 40,
     "metadata": {},
     "output_type": "execute_result"
    }
   ],
   "source": [
    "pdf.shape"
   ]
  },
  {
   "cell_type": "code",
   "execution_count": 43,
   "id": "72bf717b-8a58-427b-934c-bb6639009334",
   "metadata": {
    "scrolled": true,
    "tags": []
   },
   "outputs": [
    {
     "data": {
      "text/plain": [
       "['X_test',\n",
       " 'X_test_for_calibration',\n",
       " 'X_test_sample_weight',\n",
       " 'X_test_sample_weight_eval',\n",
       " 'X_train',\n",
       " 'X_train_sample_weight',\n",
       " 'X_train_sample_weight_eval',\n",
       " '__class__',\n",
       " '__delattr__',\n",
       " '__dict__',\n",
       " '__dir__',\n",
       " '__doc__',\n",
       " '__eq__',\n",
       " '__format__',\n",
       " '__ge__',\n",
       " '__getattribute__',\n",
       " '__gt__',\n",
       " '__hash__',\n",
       " '__init__',\n",
       " '__init_subclass__',\n",
       " '__le__',\n",
       " '__lt__',\n",
       " '__module__',\n",
       " '__ne__',\n",
       " '__new__',\n",
       " '__reduce__',\n",
       " '__reduce_ex__',\n",
       " '__repr__',\n",
       " '__setattr__',\n",
       " '__sizeof__',\n",
       " '__str__',\n",
       " '__subclasshook__',\n",
       " '__weakref__',\n",
       " 'apply_column_filters',\n",
       " 'apply_data_filters',\n",
       " 'apply_filters',\n",
       " 'compute_event_rate',\n",
       " 'compute_multi_label_event_rate',\n",
       " 'construct_label_array',\n",
       " 'event_rate',\n",
       " 'extract_schema',\n",
       " 'extract_weights',\n",
       " 'filter_examples',\n",
       " 'force_contiguous',\n",
       " 'get_eval_weights',\n",
       " 'get_event_rates',\n",
       " 'get_label_column',\n",
       " 'group_hold_out',\n",
       " 'group_train',\n",
       " 'hold_out',\n",
       " 'mem_usage',\n",
       " 'raw_event_rate',\n",
       " 'sample_data',\n",
       " 'schema',\n",
       " 'set_click_propensities',\n",
       " 'set_up_logger',\n",
       " 'split_train_test',\n",
       " 'train_dataset',\n",
       " 'train_holdout_split_with_partition',\n",
       " 'validate_data',\n",
       " 'y_test',\n",
       " 'y_test_click',\n",
       " 'y_test_for_calibration',\n",
       " 'y_train',\n",
       " 'y_train_click']"
      ]
     },
     "execution_count": 43,
     "metadata": {},
     "output_type": "execute_result"
    }
   ],
   "source": [
    "dir(prepped_data)"
   ]
  },
  {
   "cell_type": "code",
   "execution_count": 46,
   "id": "c3966798-da5b-4f26-b998-dd449971aa8f",
   "metadata": {},
   "outputs": [
    {
     "data": {
      "text/plain": [
       "array([1., 1., 1., ..., 1., 1., 1.], dtype=float32)"
      ]
     },
     "execution_count": 46,
     "metadata": {},
     "output_type": "execute_result"
    }
   ],
   "source": [
    "prepped_data.X_test_sample_weight"
   ]
  },
  {
   "cell_type": "code",
   "execution_count": 47,
   "id": "6fac479b-fae0-4f0d-ab10-23d5d06474cc",
   "metadata": {},
   "outputs": [
    {
     "data": {
      "text/plain": [
       "8963"
      ]
     },
     "execution_count": 47,
     "metadata": {},
     "output_type": "execute_result"
    }
   ],
   "source": [
    "len(prepped_data.y_test)"
   ]
  },
  {
   "cell_type": "code",
   "execution_count": 48,
   "id": "f9c4a791-ec5d-46c6-9d16-98b07c448868",
   "metadata": {},
   "outputs": [
    {
     "data": {
      "text/plain": [
       "array([1., 1., 1., ..., 1., 1., 1.], dtype=float32)"
      ]
     },
     "execution_count": 48,
     "metadata": {},
     "output_type": "execute_result"
    }
   ],
   "source": [
    "prepped_data.X_test_sample_weight"
   ]
  },
  {
   "cell_type": "code",
   "execution_count": 49,
   "id": "9066ca06-afb6-4d17-9ba3-90b6e361aadd",
   "metadata": {},
   "outputs": [
    {
     "data": {
      "text/plain": [
       "(8963, 36)"
      ]
     },
     "execution_count": 49,
     "metadata": {},
     "output_type": "execute_result"
    }
   ],
   "source": [
    "prepped_data.X_test.shape"
   ]
  },
  {
   "cell_type": "code",
   "execution_count": 50,
   "id": "5856e466-1416-4e4b-9c17-61ef7524a515",
   "metadata": {},
   "outputs": [
    {
     "data": {
      "text/plain": [
       "{'meid': array([b'2c1964b7ba30479fb52c48d47dd3260b',\n",
       "        b'2c1964b7ba30479fb52c48d47dd3260b',\n",
       "        b'2c1964b7ba30479fb52c48d47dd3260b', ...,\n",
       "        b'9bfd09ccd0d346029ec71b9ce20e1559',\n",
       "        b'9bfd09ccd0d346029ec71b9ce20e1559',\n",
       "        b'9bfd09ccd0d346029ec71b9ce20e1559'], dtype='|S32'),\n",
       " 'mlrRank': array([ 1,  2,  3, ...,  8,  9, 10], dtype=int32),\n",
       " 'itemId': array([314651024057, 185646232849, 195650041295, ..., 115815096578,\n",
       "        275758542303, 114936287317]),\n",
       " 'labels.labelClassicBBE': array([-1, -1, -1, ..., -1, -1, -1], dtype=int32)}"
      ]
     },
     "execution_count": 50,
     "metadata": {},
     "output_type": "execute_result"
    }
   ],
   "source": [
    "prepped_data.hold_out"
   ]
  },
  {
   "cell_type": "code",
   "execution_count": 51,
   "id": "3fce3b24-83cd-4fae-91b3-b8214864d08c",
   "metadata": {},
   "outputs": [
    {
     "name": "stdout",
     "output_type": "stream",
     "text": [
      "[11:35:55] WARNING: ../src/learner.cc:851: Loading model from XGBoost < 1.0.0, consider saving it again for improved compatibility\n"
     ]
    }
   ],
   "source": [
    "import xgboost\n",
    "xgb_model_loaded = xgboost.Booster()\n",
    "xgb_model_loaded.load_model('sneakers_14.5.23_model.bst')"
   ]
  },
  {
   "cell_type": "code",
   "execution_count": 58,
   "id": "3a8c97e3-18be-49d5-a2ab-00b82e731abb",
   "metadata": {},
   "outputs": [],
   "source": [
    "y_pred = xgb_model_loaded.predict(xgboost.DMatrix(prepped_data.X_test))\n",
    "\n",
    "pdf['y_pred'] = y_pred \n",
    "pdf['rank_sneakers'] = pdf.groupby('meid')['y_pred'].rank(method='dense', ascending=False)"
   ]
  },
  {
   "cell_type": "code",
   "execution_count": 59,
   "id": "52245b30-6506-428a-9d91-b815b219fb0b",
   "metadata": {},
   "outputs": [],
   "source": [
    "pdf['label'] = prepped_data.y_test"
   ]
  },
  {
   "cell_type": "code",
   "execution_count": 60,
   "id": "e2a3f665-9ba5-4ba0-9e4d-8c2450053e74",
   "metadata": {},
   "outputs": [],
   "source": [
    "pdf.sort_values(by=['meid','mlrRank'],inplace=True)\n",
    "pdf.drop([ 'labels.labelClassicBBE', ], axis=1,inplace=True)"
   ]
  },
  {
   "cell_type": "code",
   "execution_count": 68,
   "id": "9f9d0d98-011a-4c98-84ea-84358f74e99b",
   "metadata": {},
   "outputs": [
    {
     "data": {
      "text/html": [
       "<div>\n",
       "<style scoped>\n",
       "    .dataframe tbody tr th:only-of-type {\n",
       "        vertical-align: middle;\n",
       "    }\n",
       "\n",
       "    .dataframe tbody tr th {\n",
       "        vertical-align: top;\n",
       "    }\n",
       "\n",
       "    .dataframe thead th {\n",
       "        text-align: right;\n",
       "    }\n",
       "</style>\n",
       "<table border=\"1\" class=\"dataframe\">\n",
       "  <thead>\n",
       "    <tr style=\"text-align: right;\">\n",
       "      <th></th>\n",
       "      <th>meid</th>\n",
       "      <th>mlrRank</th>\n",
       "      <th>itemId</th>\n",
       "      <th>y_pred</th>\n",
       "      <th>rank_sneakers</th>\n",
       "      <th>label</th>\n",
       "      <th>meid_str</th>\n",
       "    </tr>\n",
       "  </thead>\n",
       "  <tbody>\n",
       "    <tr>\n",
       "      <th>8467</th>\n",
       "      <td>b'001dec54031647b49ab8cc7708757375'</td>\n",
       "      <td>1</td>\n",
       "      <td>404313698485</td>\n",
       "      <td>1.892</td>\n",
       "      <td>1.000</td>\n",
       "      <td>1</td>\n",
       "      <td>001dec54031647b49ab8cc7708757375</td>\n",
       "    </tr>\n",
       "    <tr>\n",
       "      <th>8468</th>\n",
       "      <td>b'001dec54031647b49ab8cc7708757375'</td>\n",
       "      <td>2</td>\n",
       "      <td>404312296105</td>\n",
       "      <td>1.188</td>\n",
       "      <td>2.000</td>\n",
       "      <td>0</td>\n",
       "      <td>001dec54031647b49ab8cc7708757375</td>\n",
       "    </tr>\n",
       "    <tr>\n",
       "      <th>8469</th>\n",
       "      <td>b'001dec54031647b49ab8cc7708757375'</td>\n",
       "      <td>3</td>\n",
       "      <td>404290477347</td>\n",
       "      <td>-0.574</td>\n",
       "      <td>7.000</td>\n",
       "      <td>0</td>\n",
       "      <td>001dec54031647b49ab8cc7708757375</td>\n",
       "    </tr>\n",
       "    <tr>\n",
       "      <th>8470</th>\n",
       "      <td>b'001dec54031647b49ab8cc7708757375'</td>\n",
       "      <td>4</td>\n",
       "      <td>275878859761</td>\n",
       "      <td>1.107</td>\n",
       "      <td>3.000</td>\n",
       "      <td>0</td>\n",
       "      <td>001dec54031647b49ab8cc7708757375</td>\n",
       "    </tr>\n",
       "    <tr>\n",
       "      <th>8471</th>\n",
       "      <td>b'001dec54031647b49ab8cc7708757375'</td>\n",
       "      <td>6</td>\n",
       "      <td>275605855825</td>\n",
       "      <td>0.665</td>\n",
       "      <td>5.000</td>\n",
       "      <td>0</td>\n",
       "      <td>001dec54031647b49ab8cc7708757375</td>\n",
       "    </tr>\n",
       "    <tr>\n",
       "      <th>8472</th>\n",
       "      <td>b'001dec54031647b49ab8cc7708757375'</td>\n",
       "      <td>7</td>\n",
       "      <td>403785890294</td>\n",
       "      <td>0.700</td>\n",
       "      <td>4.000</td>\n",
       "      <td>0</td>\n",
       "      <td>001dec54031647b49ab8cc7708757375</td>\n",
       "    </tr>\n",
       "    <tr>\n",
       "      <th>8473</th>\n",
       "      <td>b'001dec54031647b49ab8cc7708757375'</td>\n",
       "      <td>8</td>\n",
       "      <td>185906785999</td>\n",
       "      <td>-1.299</td>\n",
       "      <td>8.000</td>\n",
       "      <td>0</td>\n",
       "      <td>001dec54031647b49ab8cc7708757375</td>\n",
       "    </tr>\n",
       "    <tr>\n",
       "      <th>8474</th>\n",
       "      <td>b'001dec54031647b49ab8cc7708757375'</td>\n",
       "      <td>9</td>\n",
       "      <td>285133428180</td>\n",
       "      <td>0.554</td>\n",
       "      <td>6.000</td>\n",
       "      <td>0</td>\n",
       "      <td>001dec54031647b49ab8cc7708757375</td>\n",
       "    </tr>\n",
       "    <tr>\n",
       "      <th>7146</th>\n",
       "      <td>b'00397eabeead40dbbab0e5360300ea38'</td>\n",
       "      <td>1</td>\n",
       "      <td>314620856822</td>\n",
       "      <td>0.568</td>\n",
       "      <td>10.000</td>\n",
       "      <td>1</td>\n",
       "      <td>00397eabeead40dbbab0e5360300ea38</td>\n",
       "    </tr>\n",
       "    <tr>\n",
       "      <th>7147</th>\n",
       "      <td>b'00397eabeead40dbbab0e5360300ea38'</td>\n",
       "      <td>2</td>\n",
       "      <td>354754711702</td>\n",
       "      <td>1.344</td>\n",
       "      <td>3.000</td>\n",
       "      <td>0</td>\n",
       "      <td>00397eabeead40dbbab0e5360300ea38</td>\n",
       "    </tr>\n",
       "  </tbody>\n",
       "</table>\n",
       "</div>"
      ],
      "text/plain": [
       "                                     meid  mlrRank        itemId  y_pred  \\\n",
       "8467  b'001dec54031647b49ab8cc7708757375'        1  404313698485   1.892   \n",
       "8468  b'001dec54031647b49ab8cc7708757375'        2  404312296105   1.188   \n",
       "8469  b'001dec54031647b49ab8cc7708757375'        3  404290477347  -0.574   \n",
       "8470  b'001dec54031647b49ab8cc7708757375'        4  275878859761   1.107   \n",
       "8471  b'001dec54031647b49ab8cc7708757375'        6  275605855825   0.665   \n",
       "8472  b'001dec54031647b49ab8cc7708757375'        7  403785890294   0.700   \n",
       "8473  b'001dec54031647b49ab8cc7708757375'        8  185906785999  -1.299   \n",
       "8474  b'001dec54031647b49ab8cc7708757375'        9  285133428180   0.554   \n",
       "7146  b'00397eabeead40dbbab0e5360300ea38'        1  314620856822   0.568   \n",
       "7147  b'00397eabeead40dbbab0e5360300ea38'        2  354754711702   1.344   \n",
       "\n",
       "      rank_sneakers  label                          meid_str  \n",
       "8467          1.000      1  001dec54031647b49ab8cc7708757375  \n",
       "8468          2.000      0  001dec54031647b49ab8cc7708757375  \n",
       "8469          7.000      0  001dec54031647b49ab8cc7708757375  \n",
       "8470          3.000      0  001dec54031647b49ab8cc7708757375  \n",
       "8471          5.000      0  001dec54031647b49ab8cc7708757375  \n",
       "8472          4.000      0  001dec54031647b49ab8cc7708757375  \n",
       "8473          8.000      0  001dec54031647b49ab8cc7708757375  \n",
       "8474          6.000      0  001dec54031647b49ab8cc7708757375  \n",
       "7146         10.000      1  00397eabeead40dbbab0e5360300ea38  \n",
       "7147          3.000      0  00397eabeead40dbbab0e5360300ea38  "
      ]
     },
     "execution_count": 68,
     "metadata": {},
     "output_type": "execute_result"
    }
   ],
   "source": [
    "pdf.head(10)"
   ]
  },
  {
   "cell_type": "code",
   "execution_count": 72,
   "id": "6ce4da6c-ddbf-4b68-ab7a-279ec2834308",
   "metadata": {},
   "outputs": [
    {
     "data": {
      "text/plain": [
       "8467    001dec54031647b49ab8cc7708757375\n",
       "8468    001dec54031647b49ab8cc7708757375\n",
       "8469    001dec54031647b49ab8cc7708757375\n",
       "8470    001dec54031647b49ab8cc7708757375\n",
       "8471    001dec54031647b49ab8cc7708757375\n",
       "                      ...               \n",
       "5379    fff552e4a1e74780b087702e1be94ade\n",
       "5380    fff552e4a1e74780b087702e1be94ade\n",
       "5381    fff552e4a1e74780b087702e1be94ade\n",
       "5382    fff552e4a1e74780b087702e1be94ade\n",
       "5383    fff552e4a1e74780b087702e1be94ade\n",
       "Name: meid_str, Length: 8963, dtype: object"
      ]
     },
     "execution_count": 72,
     "metadata": {},
     "output_type": "execute_result"
    }
   ],
   "source": [
    "pdf.meid_str"
   ]
  },
  {
   "cell_type": "code",
   "execution_count": 70,
   "id": "bbaef583-dea0-41d0-b2e2-6b243d707a11",
   "metadata": {},
   "outputs": [
    {
     "data": {
      "text/html": [
       "<div>\n",
       "<style scoped>\n",
       "    .dataframe tbody tr th:only-of-type {\n",
       "        vertical-align: middle;\n",
       "    }\n",
       "\n",
       "    .dataframe tbody tr th {\n",
       "        vertical-align: top;\n",
       "    }\n",
       "\n",
       "    .dataframe thead th {\n",
       "        text-align: right;\n",
       "    }\n",
       "</style>\n",
       "<table border=\"1\" class=\"dataframe\">\n",
       "  <thead>\n",
       "    <tr style=\"text-align: right;\">\n",
       "      <th></th>\n",
       "      <th>meid</th>\n",
       "      <th>mlrRank</th>\n",
       "      <th>itemId</th>\n",
       "      <th>y_pred</th>\n",
       "      <th>rank_sneakers</th>\n",
       "      <th>label</th>\n",
       "      <th>meid_str</th>\n",
       "    </tr>\n",
       "  </thead>\n",
       "  <tbody>\n",
       "    <tr>\n",
       "      <th>8467</th>\n",
       "      <td>b'001dec54031647b49ab8cc7708757375'</td>\n",
       "      <td>1</td>\n",
       "      <td>404313698485</td>\n",
       "      <td>1.892</td>\n",
       "      <td>1.000</td>\n",
       "      <td>1</td>\n",
       "      <td>001dec54031647b49ab8cc7708757375</td>\n",
       "    </tr>\n",
       "    <tr>\n",
       "      <th>8468</th>\n",
       "      <td>b'001dec54031647b49ab8cc7708757375'</td>\n",
       "      <td>2</td>\n",
       "      <td>404312296105</td>\n",
       "      <td>1.188</td>\n",
       "      <td>2.000</td>\n",
       "      <td>0</td>\n",
       "      <td>001dec54031647b49ab8cc7708757375</td>\n",
       "    </tr>\n",
       "    <tr>\n",
       "      <th>8469</th>\n",
       "      <td>b'001dec54031647b49ab8cc7708757375'</td>\n",
       "      <td>3</td>\n",
       "      <td>404290477347</td>\n",
       "      <td>-0.574</td>\n",
       "      <td>7.000</td>\n",
       "      <td>0</td>\n",
       "      <td>001dec54031647b49ab8cc7708757375</td>\n",
       "    </tr>\n",
       "    <tr>\n",
       "      <th>8470</th>\n",
       "      <td>b'001dec54031647b49ab8cc7708757375'</td>\n",
       "      <td>4</td>\n",
       "      <td>275878859761</td>\n",
       "      <td>1.107</td>\n",
       "      <td>3.000</td>\n",
       "      <td>0</td>\n",
       "      <td>001dec54031647b49ab8cc7708757375</td>\n",
       "    </tr>\n",
       "    <tr>\n",
       "      <th>8471</th>\n",
       "      <td>b'001dec54031647b49ab8cc7708757375'</td>\n",
       "      <td>6</td>\n",
       "      <td>275605855825</td>\n",
       "      <td>0.665</td>\n",
       "      <td>5.000</td>\n",
       "      <td>0</td>\n",
       "      <td>001dec54031647b49ab8cc7708757375</td>\n",
       "    </tr>\n",
       "    <tr>\n",
       "      <th>8472</th>\n",
       "      <td>b'001dec54031647b49ab8cc7708757375'</td>\n",
       "      <td>7</td>\n",
       "      <td>403785890294</td>\n",
       "      <td>0.700</td>\n",
       "      <td>4.000</td>\n",
       "      <td>0</td>\n",
       "      <td>001dec54031647b49ab8cc7708757375</td>\n",
       "    </tr>\n",
       "    <tr>\n",
       "      <th>8473</th>\n",
       "      <td>b'001dec54031647b49ab8cc7708757375'</td>\n",
       "      <td>8</td>\n",
       "      <td>185906785999</td>\n",
       "      <td>-1.299</td>\n",
       "      <td>8.000</td>\n",
       "      <td>0</td>\n",
       "      <td>001dec54031647b49ab8cc7708757375</td>\n",
       "    </tr>\n",
       "    <tr>\n",
       "      <th>8474</th>\n",
       "      <td>b'001dec54031647b49ab8cc7708757375'</td>\n",
       "      <td>9</td>\n",
       "      <td>285133428180</td>\n",
       "      <td>0.554</td>\n",
       "      <td>6.000</td>\n",
       "      <td>0</td>\n",
       "      <td>001dec54031647b49ab8cc7708757375</td>\n",
       "    </tr>\n",
       "  </tbody>\n",
       "</table>\n",
       "</div>"
      ],
      "text/plain": [
       "                                     meid  mlrRank        itemId  y_pred  \\\n",
       "8467  b'001dec54031647b49ab8cc7708757375'        1  404313698485   1.892   \n",
       "8468  b'001dec54031647b49ab8cc7708757375'        2  404312296105   1.188   \n",
       "8469  b'001dec54031647b49ab8cc7708757375'        3  404290477347  -0.574   \n",
       "8470  b'001dec54031647b49ab8cc7708757375'        4  275878859761   1.107   \n",
       "8471  b'001dec54031647b49ab8cc7708757375'        6  275605855825   0.665   \n",
       "8472  b'001dec54031647b49ab8cc7708757375'        7  403785890294   0.700   \n",
       "8473  b'001dec54031647b49ab8cc7708757375'        8  185906785999  -1.299   \n",
       "8474  b'001dec54031647b49ab8cc7708757375'        9  285133428180   0.554   \n",
       "\n",
       "      rank_sneakers  label                          meid_str  \n",
       "8467          1.000      1  001dec54031647b49ab8cc7708757375  \n",
       "8468          2.000      0  001dec54031647b49ab8cc7708757375  \n",
       "8469          7.000      0  001dec54031647b49ab8cc7708757375  \n",
       "8470          3.000      0  001dec54031647b49ab8cc7708757375  \n",
       "8471          5.000      0  001dec54031647b49ab8cc7708757375  \n",
       "8472          4.000      0  001dec54031647b49ab8cc7708757375  \n",
       "8473          8.000      0  001dec54031647b49ab8cc7708757375  \n",
       "8474          6.000      0  001dec54031647b49ab8cc7708757375  "
      ]
     },
     "execution_count": 70,
     "metadata": {},
     "output_type": "execute_result"
    }
   ],
   "source": [
    "pdf[pdf['meid_str']=='001dec54031647b49ab8cc7708757375']"
   ]
  },
  {
   "cell_type": "code",
   "execution_count": 71,
   "id": "1ac6c3cf-b078-46aa-b1fb-a9163c46139c",
   "metadata": {},
   "outputs": [
    {
     "data": {
      "text/html": [
       "<div>\n",
       "<style scoped>\n",
       "    .dataframe tbody tr th:only-of-type {\n",
       "        vertical-align: middle;\n",
       "    }\n",
       "\n",
       "    .dataframe tbody tr th {\n",
       "        vertical-align: top;\n",
       "    }\n",
       "\n",
       "    .dataframe thead th {\n",
       "        text-align: right;\n",
       "    }\n",
       "</style>\n",
       "<table border=\"1\" class=\"dataframe\">\n",
       "  <thead>\n",
       "    <tr style=\"text-align: right;\">\n",
       "      <th></th>\n",
       "      <th>meid</th>\n",
       "      <th>mlrRank</th>\n",
       "      <th>itemId</th>\n",
       "      <th>y_pred</th>\n",
       "      <th>rank_sneakers</th>\n",
       "      <th>label</th>\n",
       "      <th>meid_str</th>\n",
       "    </tr>\n",
       "  </thead>\n",
       "  <tbody>\n",
       "    <tr>\n",
       "      <th>7146</th>\n",
       "      <td>b'00397eabeead40dbbab0e5360300ea38'</td>\n",
       "      <td>1</td>\n",
       "      <td>314620856822</td>\n",
       "      <td>0.568</td>\n",
       "      <td>10.000</td>\n",
       "      <td>1</td>\n",
       "      <td>00397eabeead40dbbab0e5360300ea38</td>\n",
       "    </tr>\n",
       "    <tr>\n",
       "      <th>7147</th>\n",
       "      <td>b'00397eabeead40dbbab0e5360300ea38'</td>\n",
       "      <td>2</td>\n",
       "      <td>354754711702</td>\n",
       "      <td>1.344</td>\n",
       "      <td>3.000</td>\n",
       "      <td>0</td>\n",
       "      <td>00397eabeead40dbbab0e5360300ea38</td>\n",
       "    </tr>\n",
       "    <tr>\n",
       "      <th>7148</th>\n",
       "      <td>b'00397eabeead40dbbab0e5360300ea38'</td>\n",
       "      <td>3</td>\n",
       "      <td>314625118332</td>\n",
       "      <td>1.635</td>\n",
       "      <td>1.000</td>\n",
       "      <td>0</td>\n",
       "      <td>00397eabeead40dbbab0e5360300ea38</td>\n",
       "    </tr>\n",
       "    <tr>\n",
       "      <th>7149</th>\n",
       "      <td>b'00397eabeead40dbbab0e5360300ea38'</td>\n",
       "      <td>4</td>\n",
       "      <td>385635623035</td>\n",
       "      <td>1.376</td>\n",
       "      <td>2.000</td>\n",
       "      <td>0</td>\n",
       "      <td>00397eabeead40dbbab0e5360300ea38</td>\n",
       "    </tr>\n",
       "    <tr>\n",
       "      <th>7150</th>\n",
       "      <td>b'00397eabeead40dbbab0e5360300ea38'</td>\n",
       "      <td>5</td>\n",
       "      <td>225543634679</td>\n",
       "      <td>1.082</td>\n",
       "      <td>4.000</td>\n",
       "      <td>0</td>\n",
       "      <td>00397eabeead40dbbab0e5360300ea38</td>\n",
       "    </tr>\n",
       "    <tr>\n",
       "      <th>7151</th>\n",
       "      <td>b'00397eabeead40dbbab0e5360300ea38'</td>\n",
       "      <td>6</td>\n",
       "      <td>175753658467</td>\n",
       "      <td>0.824</td>\n",
       "      <td>8.000</td>\n",
       "      <td>0</td>\n",
       "      <td>00397eabeead40dbbab0e5360300ea38</td>\n",
       "    </tr>\n",
       "    <tr>\n",
       "      <th>7152</th>\n",
       "      <td>b'00397eabeead40dbbab0e5360300ea38'</td>\n",
       "      <td>7</td>\n",
       "      <td>225584168489</td>\n",
       "      <td>1.026</td>\n",
       "      <td>7.000</td>\n",
       "      <td>0</td>\n",
       "      <td>00397eabeead40dbbab0e5360300ea38</td>\n",
       "    </tr>\n",
       "    <tr>\n",
       "      <th>7153</th>\n",
       "      <td>b'00397eabeead40dbbab0e5360300ea38'</td>\n",
       "      <td>8</td>\n",
       "      <td>204335504214</td>\n",
       "      <td>1.033</td>\n",
       "      <td>5.000</td>\n",
       "      <td>0</td>\n",
       "      <td>00397eabeead40dbbab0e5360300ea38</td>\n",
       "    </tr>\n",
       "    <tr>\n",
       "      <th>7154</th>\n",
       "      <td>b'00397eabeead40dbbab0e5360300ea38'</td>\n",
       "      <td>9</td>\n",
       "      <td>404290992548</td>\n",
       "      <td>1.032</td>\n",
       "      <td>6.000</td>\n",
       "      <td>0</td>\n",
       "      <td>00397eabeead40dbbab0e5360300ea38</td>\n",
       "    </tr>\n",
       "    <tr>\n",
       "      <th>7155</th>\n",
       "      <td>b'00397eabeead40dbbab0e5360300ea38'</td>\n",
       "      <td>10</td>\n",
       "      <td>325381930396</td>\n",
       "      <td>0.798</td>\n",
       "      <td>9.000</td>\n",
       "      <td>0</td>\n",
       "      <td>00397eabeead40dbbab0e5360300ea38</td>\n",
       "    </tr>\n",
       "  </tbody>\n",
       "</table>\n",
       "</div>"
      ],
      "text/plain": [
       "                                     meid  mlrRank        itemId  y_pred  \\\n",
       "7146  b'00397eabeead40dbbab0e5360300ea38'        1  314620856822   0.568   \n",
       "7147  b'00397eabeead40dbbab0e5360300ea38'        2  354754711702   1.344   \n",
       "7148  b'00397eabeead40dbbab0e5360300ea38'        3  314625118332   1.635   \n",
       "7149  b'00397eabeead40dbbab0e5360300ea38'        4  385635623035   1.376   \n",
       "7150  b'00397eabeead40dbbab0e5360300ea38'        5  225543634679   1.082   \n",
       "7151  b'00397eabeead40dbbab0e5360300ea38'        6  175753658467   0.824   \n",
       "7152  b'00397eabeead40dbbab0e5360300ea38'        7  225584168489   1.026   \n",
       "7153  b'00397eabeead40dbbab0e5360300ea38'        8  204335504214   1.033   \n",
       "7154  b'00397eabeead40dbbab0e5360300ea38'        9  404290992548   1.032   \n",
       "7155  b'00397eabeead40dbbab0e5360300ea38'       10  325381930396   0.798   \n",
       "\n",
       "      rank_sneakers  label                          meid_str  \n",
       "7146         10.000      1  00397eabeead40dbbab0e5360300ea38  \n",
       "7147          3.000      0  00397eabeead40dbbab0e5360300ea38  \n",
       "7148          1.000      0  00397eabeead40dbbab0e5360300ea38  \n",
       "7149          2.000      0  00397eabeead40dbbab0e5360300ea38  \n",
       "7150          4.000      0  00397eabeead40dbbab0e5360300ea38  \n",
       "7151          8.000      0  00397eabeead40dbbab0e5360300ea38  \n",
       "7152          7.000      0  00397eabeead40dbbab0e5360300ea38  \n",
       "7153          5.000      0  00397eabeead40dbbab0e5360300ea38  \n",
       "7154          6.000      0  00397eabeead40dbbab0e5360300ea38  \n",
       "7155          9.000      0  00397eabeead40dbbab0e5360300ea38  "
      ]
     },
     "execution_count": 71,
     "metadata": {},
     "output_type": "execute_result"
    }
   ],
   "source": [
    "pdf[pdf['meid_str']=='00397eabeead40dbbab0e5360300ea38']"
   ]
  },
  {
   "cell_type": "code",
   "execution_count": 73,
   "id": "93b8d429-4f26-4619-a443-8235dfe25c3b",
   "metadata": {},
   "outputs": [
    {
     "data": {
      "text/html": [
       "<div>\n",
       "<style scoped>\n",
       "    .dataframe tbody tr th:only-of-type {\n",
       "        vertical-align: middle;\n",
       "    }\n",
       "\n",
       "    .dataframe tbody tr th {\n",
       "        vertical-align: top;\n",
       "    }\n",
       "\n",
       "    .dataframe thead th {\n",
       "        text-align: right;\n",
       "    }\n",
       "</style>\n",
       "<table border=\"1\" class=\"dataframe\">\n",
       "  <thead>\n",
       "    <tr style=\"text-align: right;\">\n",
       "      <th></th>\n",
       "      <th>meid</th>\n",
       "      <th>mlrRank</th>\n",
       "      <th>itemId</th>\n",
       "      <th>y_pred</th>\n",
       "      <th>rank_sneakers</th>\n",
       "      <th>label</th>\n",
       "      <th>meid_str</th>\n",
       "    </tr>\n",
       "  </thead>\n",
       "  <tbody>\n",
       "    <tr>\n",
       "      <th>5374</th>\n",
       "      <td>b'fff552e4a1e74780b087702e1be94ade'</td>\n",
       "      <td>1</td>\n",
       "      <td>195806177833</td>\n",
       "      <td>0.898</td>\n",
       "      <td>3.000</td>\n",
       "      <td>0</td>\n",
       "      <td>fff552e4a1e74780b087702e1be94ade</td>\n",
       "    </tr>\n",
       "    <tr>\n",
       "      <th>5375</th>\n",
       "      <td>b'fff552e4a1e74780b087702e1be94ade'</td>\n",
       "      <td>2</td>\n",
       "      <td>394670791766</td>\n",
       "      <td>2.060</td>\n",
       "      <td>1.000</td>\n",
       "      <td>0</td>\n",
       "      <td>fff552e4a1e74780b087702e1be94ade</td>\n",
       "    </tr>\n",
       "    <tr>\n",
       "      <th>5376</th>\n",
       "      <td>b'fff552e4a1e74780b087702e1be94ade'</td>\n",
       "      <td>3</td>\n",
       "      <td>204358207530</td>\n",
       "      <td>0.814</td>\n",
       "      <td>4.000</td>\n",
       "      <td>1</td>\n",
       "      <td>fff552e4a1e74780b087702e1be94ade</td>\n",
       "    </tr>\n",
       "    <tr>\n",
       "      <th>5377</th>\n",
       "      <td>b'fff552e4a1e74780b087702e1be94ade'</td>\n",
       "      <td>4</td>\n",
       "      <td>204288585733</td>\n",
       "      <td>-0.240</td>\n",
       "      <td>6.000</td>\n",
       "      <td>0</td>\n",
       "      <td>fff552e4a1e74780b087702e1be94ade</td>\n",
       "    </tr>\n",
       "    <tr>\n",
       "      <th>5378</th>\n",
       "      <td>b'fff552e4a1e74780b087702e1be94ade'</td>\n",
       "      <td>5</td>\n",
       "      <td>285319517527</td>\n",
       "      <td>-1.329</td>\n",
       "      <td>10.000</td>\n",
       "      <td>0</td>\n",
       "      <td>fff552e4a1e74780b087702e1be94ade</td>\n",
       "    </tr>\n",
       "    <tr>\n",
       "      <th>5379</th>\n",
       "      <td>b'fff552e4a1e74780b087702e1be94ade'</td>\n",
       "      <td>6</td>\n",
       "      <td>204362613581</td>\n",
       "      <td>0.914</td>\n",
       "      <td>2.000</td>\n",
       "      <td>0</td>\n",
       "      <td>fff552e4a1e74780b087702e1be94ade</td>\n",
       "    </tr>\n",
       "    <tr>\n",
       "      <th>5380</th>\n",
       "      <td>b'fff552e4a1e74780b087702e1be94ade'</td>\n",
       "      <td>7</td>\n",
       "      <td>204356043265</td>\n",
       "      <td>-0.642</td>\n",
       "      <td>9.000</td>\n",
       "      <td>0</td>\n",
       "      <td>fff552e4a1e74780b087702e1be94ade</td>\n",
       "    </tr>\n",
       "    <tr>\n",
       "      <th>5381</th>\n",
       "      <td>b'fff552e4a1e74780b087702e1be94ade'</td>\n",
       "      <td>8</td>\n",
       "      <td>155585121469</td>\n",
       "      <td>0.659</td>\n",
       "      <td>5.000</td>\n",
       "      <td>0</td>\n",
       "      <td>fff552e4a1e74780b087702e1be94ade</td>\n",
       "    </tr>\n",
       "    <tr>\n",
       "      <th>5382</th>\n",
       "      <td>b'fff552e4a1e74780b087702e1be94ade'</td>\n",
       "      <td>9</td>\n",
       "      <td>204359935944</td>\n",
       "      <td>-0.534</td>\n",
       "      <td>8.000</td>\n",
       "      <td>0</td>\n",
       "      <td>fff552e4a1e74780b087702e1be94ade</td>\n",
       "    </tr>\n",
       "    <tr>\n",
       "      <th>5383</th>\n",
       "      <td>b'fff552e4a1e74780b087702e1be94ade'</td>\n",
       "      <td>10</td>\n",
       "      <td>235044591972</td>\n",
       "      <td>-0.323</td>\n",
       "      <td>7.000</td>\n",
       "      <td>0</td>\n",
       "      <td>fff552e4a1e74780b087702e1be94ade</td>\n",
       "    </tr>\n",
       "  </tbody>\n",
       "</table>\n",
       "</div>"
      ],
      "text/plain": [
       "                                     meid  mlrRank        itemId  y_pred  \\\n",
       "5374  b'fff552e4a1e74780b087702e1be94ade'        1  195806177833   0.898   \n",
       "5375  b'fff552e4a1e74780b087702e1be94ade'        2  394670791766   2.060   \n",
       "5376  b'fff552e4a1e74780b087702e1be94ade'        3  204358207530   0.814   \n",
       "5377  b'fff552e4a1e74780b087702e1be94ade'        4  204288585733  -0.240   \n",
       "5378  b'fff552e4a1e74780b087702e1be94ade'        5  285319517527  -1.329   \n",
       "5379  b'fff552e4a1e74780b087702e1be94ade'        6  204362613581   0.914   \n",
       "5380  b'fff552e4a1e74780b087702e1be94ade'        7  204356043265  -0.642   \n",
       "5381  b'fff552e4a1e74780b087702e1be94ade'        8  155585121469   0.659   \n",
       "5382  b'fff552e4a1e74780b087702e1be94ade'        9  204359935944  -0.534   \n",
       "5383  b'fff552e4a1e74780b087702e1be94ade'       10  235044591972  -0.323   \n",
       "\n",
       "      rank_sneakers  label                          meid_str  \n",
       "5374          3.000      0  fff552e4a1e74780b087702e1be94ade  \n",
       "5375          1.000      0  fff552e4a1e74780b087702e1be94ade  \n",
       "5376          4.000      1  fff552e4a1e74780b087702e1be94ade  \n",
       "5377          6.000      0  fff552e4a1e74780b087702e1be94ade  \n",
       "5378         10.000      0  fff552e4a1e74780b087702e1be94ade  \n",
       "5379          2.000      0  fff552e4a1e74780b087702e1be94ade  \n",
       "5380          9.000      0  fff552e4a1e74780b087702e1be94ade  \n",
       "5381          5.000      0  fff552e4a1e74780b087702e1be94ade  \n",
       "5382          8.000      0  fff552e4a1e74780b087702e1be94ade  \n",
       "5383          7.000      0  fff552e4a1e74780b087702e1be94ade  "
      ]
     },
     "execution_count": 73,
     "metadata": {},
     "output_type": "execute_result"
    }
   ],
   "source": [
    "pdf[pdf['meid_str']=='fff552e4a1e74780b087702e1be94ade']"
   ]
  },
  {
   "cell_type": "code",
   "execution_count": 62,
   "id": "6ed10b3b-784d-48a7-a8c4-280eec48612d",
   "metadata": {},
   "outputs": [],
   "source": [
    "pdf['meid_str']=pdf['meid'].apply(lambda x: x.decode(\"utf-8\") )"
   ]
  },
  {
   "cell_type": "code",
   "execution_count": 63,
   "id": "c5018459-6300-4b3b-aff7-07c08096fb88",
   "metadata": {},
   "outputs": [
    {
     "data": {
      "text/plain": [
       "2.640083945435467"
      ]
     },
     "execution_count": 63,
     "metadata": {},
     "output_type": "execute_result"
    }
   ],
   "source": [
    "pdf[pdf['label']==1]['mlrRank'].mean()"
   ]
  },
  {
   "cell_type": "code",
   "execution_count": 64,
   "id": "7f655373-db3e-4169-8bda-088e0285462c",
   "metadata": {},
   "outputs": [
    {
     "data": {
      "text/plain": [
       "2.1668415529905563"
      ]
     },
     "execution_count": 64,
     "metadata": {},
     "output_type": "execute_result"
    }
   ],
   "source": [
    "pdf[pdf['label']==1]['rank_sneakers'].mean()"
   ]
  },
  {
   "cell_type": "code",
   "execution_count": 74,
   "id": "7cb9bb9a-222d-4cdf-9973-bc4f57a0957a",
   "metadata": {},
   "outputs": [
    {
     "data": {
      "text/plain": [
       "meid        object\n",
       "meid_str    object\n",
       "itemId       int64\n",
       "dtype: object"
      ]
     },
     "execution_count": 74,
     "metadata": {},
     "output_type": "execute_result"
    }
   ],
   "source": [
    "pdf[['meid','meid_str', 'itemId']].dtypes"
   ]
  },
  {
   "cell_type": "code",
   "execution_count": 78,
   "id": "afbd8f10-5dc2-4d97-8448-05959a6367d5",
   "metadata": {},
   "outputs": [
    {
     "name": "stdout",
     "output_type": "stream",
     "text": [
      "meid      object\n",
      "itemId    object\n",
      "dtype: object\n"
     ]
    }
   ],
   "source": [
    "print(sneakers_abtest_df[['meid', 'itemId']].dtypes)"
   ]
  },
  {
   "cell_type": "code",
   "execution_count": 79,
   "id": "72d33c2a-d853-46e9-a4e6-f0ac24f87c36",
   "metadata": {},
   "outputs": [],
   "source": [
    "pdf[\"itemId\"] = pdf[\"itemId\"].astype(\"int64\") \n",
    "sneakers_abtest_df[\"itemId\"] = sneakers_abtest_df[\"itemId\"].astype(\"int64\") "
   ]
  },
  {
   "cell_type": "code",
   "execution_count": 80,
   "id": "cf465f31-a5af-4861-b9e1-965e9d2a391b",
   "metadata": {},
   "outputs": [],
   "source": [
    "pdf['meid_str'] = pdf['meid_str'].astype(str)\n",
    "sneakers_abtest_df['meid'] = sneakers_abtest_df['meid'].astype(str)"
   ]
  },
  {
   "cell_type": "code",
   "execution_count": 81,
   "id": "dca6603c-19e9-4cd5-bbce-5de91ec67d62",
   "metadata": {},
   "outputs": [],
   "source": [
    "\n",
    "pdf_abtest_eval = pd.merge(sneakers_abtest_df, pdf, how ='inner', left_on=['itemId','meid']  , right_on =['itemId','meid_str'])\n"
   ]
  },
  {
   "cell_type": "code",
   "execution_count": 82,
   "id": "3d1b0615-860a-43c7-ba55-b60c0731fac0",
   "metadata": {},
   "outputs": [
    {
     "data": {
      "text/plain": [
       "(969, 24)"
      ]
     },
     "execution_count": 82,
     "metadata": {},
     "output_type": "execute_result"
    }
   ],
   "source": [
    "pdf_abtest_eval.shape"
   ]
  },
  {
   "cell_type": "code",
   "execution_count": 83,
   "id": "bdcf41ed-7084-40d7-b527-08adc657b6ff",
   "metadata": {},
   "outputs": [
    {
     "data": {
      "text/html": [
       "<div>\n",
       "<style scoped>\n",
       "    .dataframe tbody tr th:only-of-type {\n",
       "        vertical-align: middle;\n",
       "    }\n",
       "\n",
       "    .dataframe tbody tr th {\n",
       "        vertical-align: top;\n",
       "    }\n",
       "\n",
       "    .dataframe thead th {\n",
       "        text-align: right;\n",
       "    }\n",
       "</style>\n",
       "<table border=\"1\" class=\"dataframe\">\n",
       "  <thead>\n",
       "    <tr style=\"text-align: right;\">\n",
       "      <th></th>\n",
       "      <th>user_id</th>\n",
       "      <th>TRKS</th>\n",
       "      <th>SITE_ID</th>\n",
       "      <th>plmt</th>\n",
       "      <th>dt</th>\n",
       "      <th>meid_x</th>\n",
       "      <th>Experience</th>\n",
       "      <th>SURFACE_PLMT_IMP</th>\n",
       "      <th>itemId</th>\n",
       "      <th>production_rank</th>\n",
       "      <th>...</th>\n",
       "      <th>plmt_purchase_1d</th>\n",
       "      <th>plmt_clicks</th>\n",
       "      <th>purchased_itemId</th>\n",
       "      <th>is_purchase</th>\n",
       "      <th>meid_y</th>\n",
       "      <th>mlrRank</th>\n",
       "      <th>y_pred</th>\n",
       "      <th>rank_sneakers</th>\n",
       "      <th>label</th>\n",
       "      <th>meid_str</th>\n",
       "    </tr>\n",
       "  </thead>\n",
       "  <tbody>\n",
       "    <tr>\n",
       "      <th>0</th>\n",
       "      <td>432425295</td>\n",
       "      <td>250483</td>\n",
       "      <td>0</td>\n",
       "      <td>101251</td>\n",
       "      <td>20230613</td>\n",
       "      <td>a68350b78b29463fb8f8063205efb8b0</td>\n",
       "      <td>Apps: iPhone</td>\n",
       "      <td>1</td>\n",
       "      <td>185930313654</td>\n",
       "      <td>1</td>\n",
       "      <td>...</td>\n",
       "      <td>0</td>\n",
       "      <td>[false::1686666426023::432425295:185930313654::::::1686666408246::::::::::::::::::::2356359:48::::]</td>\n",
       "      <td>None</td>\n",
       "      <td>0</td>\n",
       "      <td>b'a68350b78b29463fb8f8063205efb8b0'</td>\n",
       "      <td>1</td>\n",
       "      <td>2.878</td>\n",
       "      <td>1.000</td>\n",
       "      <td>1</td>\n",
       "      <td>a68350b78b29463fb8f8063205efb8b0</td>\n",
       "    </tr>\n",
       "    <tr>\n",
       "      <th>1</th>\n",
       "      <td>432425295</td>\n",
       "      <td>250483</td>\n",
       "      <td>0</td>\n",
       "      <td>101251</td>\n",
       "      <td>20230613</td>\n",
       "      <td>a68350b78b29463fb8f8063205efb8b0</td>\n",
       "      <td>Apps: iPhone</td>\n",
       "      <td>1</td>\n",
       "      <td>304973610508</td>\n",
       "      <td>2</td>\n",
       "      <td>...</td>\n",
       "      <td>0</td>\n",
       "      <td>[false::1686666426023::432425295:185930313654::::::1686666408246::::::::::::::::::::2356359:48::::]</td>\n",
       "      <td>None</td>\n",
       "      <td>0</td>\n",
       "      <td>b'a68350b78b29463fb8f8063205efb8b0'</td>\n",
       "      <td>2</td>\n",
       "      <td>-0.860</td>\n",
       "      <td>7.000</td>\n",
       "      <td>0</td>\n",
       "      <td>a68350b78b29463fb8f8063205efb8b0</td>\n",
       "    </tr>\n",
       "  </tbody>\n",
       "</table>\n",
       "<p>2 rows × 24 columns</p>\n",
       "</div>"
      ],
      "text/plain": [
       "     user_id    TRKS  SITE_ID    plmt        dt  \\\n",
       "0  432425295  250483        0  101251  20230613   \n",
       "1  432425295  250483        0  101251  20230613   \n",
       "\n",
       "                             meid_x    Experience  SURFACE_PLMT_IMP  \\\n",
       "0  a68350b78b29463fb8f8063205efb8b0  Apps: iPhone                 1   \n",
       "1  a68350b78b29463fb8f8063205efb8b0  Apps: iPhone                 1   \n",
       "\n",
       "         itemId production_rank  ... plmt_purchase_1d  \\\n",
       "0  185930313654               1  ...                0   \n",
       "1  304973610508               2  ...                0   \n",
       "\n",
       "                                                                                           plmt_clicks  \\\n",
       "0  [false::1686666426023::432425295:185930313654::::::1686666408246::::::::::::::::::::2356359:48::::]   \n",
       "1  [false::1686666426023::432425295:185930313654::::::1686666408246::::::::::::::::::::2356359:48::::]   \n",
       "\n",
       "  purchased_itemId  is_purchase                               meid_y mlrRank  \\\n",
       "0             None            0  b'a68350b78b29463fb8f8063205efb8b0'       1   \n",
       "1             None            0  b'a68350b78b29463fb8f8063205efb8b0'       2   \n",
       "\n",
       "  y_pred  rank_sneakers label                          meid_str  \n",
       "0  2.878          1.000     1  a68350b78b29463fb8f8063205efb8b0  \n",
       "1 -0.860          7.000     0  a68350b78b29463fb8f8063205efb8b0  \n",
       "\n",
       "[2 rows x 24 columns]"
      ]
     },
     "execution_count": 83,
     "metadata": {},
     "output_type": "execute_result"
    }
   ],
   "source": [
    "pdf_abtest_eval.head(2)"
   ]
  },
  {
   "cell_type": "code",
   "execution_count": 84,
   "id": "aa50aead-1bab-445b-9d34-6bbdd10a4de1",
   "metadata": {},
   "outputs": [
    {
     "data": {
      "text/plain": [
       "Index(['user_id', 'TRKS', 'SITE_ID', 'plmt', 'dt', 'meid_x', 'Experience',\n",
       "       'SURFACE_PLMT_IMP', 'itemId', 'production_rank', 'leafCategoryId',\n",
       "       'clicks', 'price', 'plmt_gmv_sum_1d', 'plmt_purchase_1d', 'plmt_clicks',\n",
       "       'purchased_itemId', 'is_purchase', 'meid_y', 'mlrRank', 'y_pred',\n",
       "       'rank_sneakers', 'label', 'meid_str'],\n",
       "      dtype='object')"
      ]
     },
     "execution_count": 84,
     "metadata": {},
     "output_type": "execute_result"
    }
   ],
   "source": [
    "pdf_abtest_eval.columns"
   ]
  },
  {
   "cell_type": "code",
   "execution_count": null,
   "id": "9d638f36-7f77-4898-b6a1-ce5614a69674",
   "metadata": {},
   "outputs": [],
   "source": [
    "pdf_abtest_eval[pdf_abtest_eval['label']==1]['rank_sneakers'].mean()"
   ]
  },
  {
   "cell_type": "code",
   "execution_count": null,
   "id": "6546774e-bce9-4c9c-a1e4-53ef5cfc1285",
   "metadata": {},
   "outputs": [],
   "source": [
    "pdf_abtest_eval['rank_change_mlrank']=pdf_abtest_eval['mlrRank']-pdf_abtest_eval['rank_sneakers']\n",
    "pdf_abtest_eval['rank_change_madcdl']=pdf_abtest_eval['production_rank']-pdf_abtest_eval['rank_sneakers']"
   ]
  },
  {
   "cell_type": "code",
   "execution_count": null,
   "id": "3f6417f2-7d2b-48dd-aa6c-6a6525121c4a",
   "metadata": {},
   "outputs": [],
   "source": [
    "pdf_abtest_eval['rank_change_mlrank'].mean()"
   ]
  },
  {
   "cell_type": "code",
   "execution_count": null,
   "id": "b6f677a2-162c-42db-b453-03243a81ad86",
   "metadata": {},
   "outputs": [],
   "source": [
    "pdf_abtest_eval['ranks_are_equal_mlrank'] = pdf_abtest_eval.apply(lambda x: int(x['mlrRank'] ==x['rank_sneakers']), axis=1)"
   ]
  },
  {
   "cell_type": "code",
   "execution_count": null,
   "id": "29990d86-03ad-4a46-9082-1ae83cf7126e",
   "metadata": {},
   "outputs": [],
   "source": [
    "pdf_abtest_eval[pdf_abtest_eval['is_purchase']>0]['mlrRank'].mean()"
   ]
  }
 ],
 "metadata": {
  "kernelspec": {
   "display_name": "Python 3 (ipykernel)",
   "language": "python",
   "name": "python3"
  },
  "language_info": {
   "codemirror_mode": {
    "name": "ipython",
    "version": 3
   },
   "file_extension": ".py",
   "mimetype": "text/x-python",
   "name": "python",
   "nbconvert_exporter": "python",
   "pygments_lexer": "ipython3",
   "version": "3.7.10"
  }
 },
 "nbformat": 4,
 "nbformat_minor": 5
}
