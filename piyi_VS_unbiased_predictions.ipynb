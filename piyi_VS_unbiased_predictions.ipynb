{
 "cells": [
  {
   "cell_type": "code",
   "execution_count": 1,
   "id": "01d621a9-f345-4941-a2e9-780e91835a2b",
   "metadata": {},
   "outputs": [],
   "source": [
    "    \n",
    "import pandas as pd\n",
    "import numpy as np\n",
    "import xgboost as xgb\n",
    "from sklearn.feature_selection import GenericUnivariateSelect, chi2, f_classif\n",
    "from sklearn.model_selection import train_test_split,  GroupShuffleSplit\n",
    "import pathlib\n",
    "from datetime import datetime\n",
    "import os"
   ]
  },
  {
   "cell_type": "code",
   "execution_count": 2,
   "id": "81b1229e-9784-4187-bca4-e220795367ed",
   "metadata": {},
   "outputs": [
    {
     "name": "stdout",
     "output_type": "stream",
     "text": [
      "/data/shpx/notebooks/olivyatan/Unbiasing\n"
     ]
    }
   ],
   "source": [
    "!pwd"
   ]
  },
  {
   "cell_type": "raw",
   "id": "a70acb76-02b6-439c-a4f7-e798e2de32a8",
   "metadata": {},
   "source": [
    "!cp -r /data/shpx/notebooks/ozinman/seller_reco/offline_metrics_based_prepped_data/simpylex /data/shpx/notebooks/olivyatan/Unbiasing"
   ]
  },
  {
   "cell_type": "markdown",
   "id": "01c74ddd-9713-4ffa-8d29-ea84e16a3e10",
   "metadata": {},
   "source": [
    "#### Data of piyi v7 multilabel unbiased run: "
   ]
  },
  {
   "cell_type": "code",
   "execution_count": null,
   "id": "a9cb0d2e-7e24-435b-8d9d-bbb0fc75ca17",
   "metadata": {},
   "outputs": [],
   "source": [
    "import pickle\n",
    "import numpy as np\n",
    "\n",
    "import pandas as pd\n",
    "# link od model run: https://github.ebay.com/olivyatan/treeplex/tree/krylov_week07_20230213180248_Monday/htmls/piyi_v7_unbiased \n",
    "file = open(f'/data/shpx/data/olivyatan/week07_20230213180248_Monday/prep/piyi_v7_unbiased_prepped_data', 'rb')\n",
    "# dump information to that file\n",
    "prepped_data = pickle.load(file)\n",
    "file.close()"
   ]
  },
  {
   "cell_type": "code",
   "execution_count": null,
   "id": "5525227a-9459-4fde-a16d-33e6e388c47b",
   "metadata": {
    "scrolled": true,
    "tags": []
   },
   "outputs": [],
   "source": [
    "!ls  /data/shpx/data/olivyatan/\n",
    "# to see model run\": week07_20230213180248_Monday "
   ]
  },
  {
   "cell_type": "code",
   "execution_count": 16,
   "id": "54c2d42e-b4b7-4e34-8e75-42cde42bdcab",
   "metadata": {},
   "outputs": [
    {
     "name": "stdout",
     "output_type": "stream",
     "text": [
      "/data/shpx/data/olivyatan/week07_20230213180248_Monday/prep/piyi_v7_unbiased_prepped_data\n"
     ]
    }
   ],
   "source": [
    "!ls  /data/shpx/data/olivyatan/week07_20230213180248_Monday/prep/piyi_v7_unbiased_prepped_data\n",
    "#location of the rin itself"
   ]
  },
  {
   "cell_type": "code",
   "execution_count": 17,
   "id": "1d535cc1-28c0-416b-ad9a-b18274393f52",
   "metadata": {},
   "outputs": [
    {
     "name": "stdout",
     "output_type": "stream",
     "text": [
      "calibration_params.json\n",
      "simplex_piyi_v7_unbiased_week07_20230213165511_Monday.pkl\n",
      "simplex_piyi_v7_unbiased_week07_20230213165511_Monday.pkl_parameters.log\n"
     ]
    }
   ],
   "source": [
    "!ls  /data/shpx/data/olivyatan//week07_20230213180248_Monday/simplex_models/"
   ]
  },
  {
   "cell_type": "markdown",
   "id": "d54d9b74-7b92-4e95-a2e6-b4d83af59502",
   "metadata": {},
   "source": [
    "#### Data of piyi v7 biased:"
   ]
  },
  {
   "cell_type": "raw",
   "id": "12489bc7-2e8e-4d54-ba78-62993d68a5a7",
   "metadata": {},
   "source": [
    "https://github.ebay.com/olivyatan/treeplex/tree/krylov_week07_20230213175714_Monday/htmls/piyi_v7 \n",
    "link to model run result"
   ]
  },
  {
   "cell_type": "code",
   "execution_count": 18,
   "id": "5b387d1b-52cf-4628-b0cc-2fb36a285616",
   "metadata": {},
   "outputs": [
    {
     "name": "stdout",
     "output_type": "stream",
     "text": [
      "/data/shpx/data/olivyatan/week07_20230213175714_Monday/simplex_models/simplex_piyi_v7_week07_20230213163652_Monday.pkl\n"
     ]
    }
   ],
   "source": [
    "!ls  /data/shpx/data/olivyatan/week07_20230213175714_Monday/simplex_models/simplex_piyi_v7_week07_20230213163652_Monday.pkl"
   ]
  },
  {
   "cell_type": "code",
   "execution_count": 8,
   "id": "d1b667c1-4f00-4fb7-992b-a1e9adc8635f",
   "metadata": {},
   "outputs": [
    {
     "name": "stdout",
     "output_type": "stream",
     "text": [
      "/data/shpx/data/olivyatan/week07_20230213175714_Monday/prep/piyi_v7_prepped_data\n"
     ]
    }
   ],
   "source": [
    "!ls  /data/shpx/data/olivyatan/week07_20230213175714_Monday/prep/piyi_v7_prepped_data"
   ]
  },
  {
   "cell_type": "raw",
   "id": "421b55a7-ff1f-4cd2-baf5-09a90a06ac6a",
   "metadata": {},
   "source": [
    "rsync:"
   ]
  },
  {
   "cell_type": "code",
   "execution_count": null,
   "id": "160fa7cd-f56c-4ef9-96fd-ee66881428ef",
   "metadata": {},
   "outputs": [],
   "source": [
    "rsync -avzh --progress kry45:/data/shpx/data/olivyatan/week07_20230213180248_Monday/simplex_models/simplex_piyi_v7_week07_20230213163652_Monday.pkl .\n"
   ]
  },
  {
   "cell_type": "markdown",
   "id": "3f60d127-2cad-470a-a7fe-a13acf4c12fc",
   "metadata": {},
   "source": [
    "##### Data of piyi v7: "
   ]
  },
  {
   "cell_type": "code",
   "execution_count": 1,
   "id": "25e2289b-4d9e-4e01-8c14-9f6cbada0158",
   "metadata": {},
   "outputs": [],
   "source": [
    "import pickle\n",
    "import numpy as np\n",
    "\n",
    "import pandas as pd\n",
    "# link of piyi v7 multilabel model run: https://github.ebay.com/olivyatan/treeplex/tree/krylov_week07_20230213175714_Monday/htmls/piyi_v7\n",
    "file = open(f'/data/shpx/data/olivyatan/week07_20230213175714_Monday/prep/piyi_v7_prepped_data', 'rb')\n",
    "# dump information to that file\n",
    "prepped_data_v7 = pickle.load(file)\n",
    "file.close()"
   ]
  },
  {
   "cell_type": "code",
   "execution_count": 2,
   "id": "81b08c8e-98d4-464e-ba3e-67ee8f6040c4",
   "metadata": {},
   "outputs": [
    {
     "data": {
      "text/plain": [
       "<simpylex.preprocessing.prep_data.PrepData at 0x7f9f3420cb90>"
      ]
     },
     "execution_count": 2,
     "metadata": {},
     "output_type": "execute_result"
    }
   ],
   "source": [
    "prepped_data_v7"
   ]
  },
  {
   "cell_type": "code",
   "execution_count": 3,
   "id": "f08da2b2-928c-41b6-aaf7-239a5a658526",
   "metadata": {},
   "outputs": [
    {
     "data": {
      "text/plain": [
       "(array([0, 1, 2, 3, 4, 5, 6], dtype=int32),\n",
       " array([1665778,  242473,   14370,    2290,     354,     124,    2224]))"
      ]
     },
     "execution_count": 3,
     "metadata": {},
     "output_type": "execute_result"
    }
   ],
   "source": [
    "np.unique(prepped_data_v7.y_test, return_counts=True)"
   ]
  },
  {
   "cell_type": "code",
   "execution_count": 4,
   "id": "b82bfbfe-fd45-40e9-a155-c0b7fd395809",
   "metadata": {},
   "outputs": [
    {
     "ename": "NameError",
     "evalue": "name 'prepped_data' is not defined",
     "output_type": "error",
     "traceback": [
      "\u001b[0;31m---------------------------------------------------------------------------\u001b[0m",
      "\u001b[0;31mNameError\u001b[0m                                 Traceback (most recent call last)",
      "\u001b[0;32m/tmp/ipykernel_247543/3756950047.py\u001b[0m in \u001b[0;36m<module>\u001b[0;34m\u001b[0m\n\u001b[0;32m----> 1\u001b[0;31m \u001b[0mnp\u001b[0m\u001b[0;34m.\u001b[0m\u001b[0munique\u001b[0m\u001b[0;34m(\u001b[0m\u001b[0mprepped_data\u001b[0m\u001b[0;34m.\u001b[0m\u001b[0my_test\u001b[0m\u001b[0;34m,\u001b[0m \u001b[0mreturn_counts\u001b[0m\u001b[0;34m=\u001b[0m\u001b[0;32mTrue\u001b[0m\u001b[0;34m)\u001b[0m\u001b[0;34m\u001b[0m\u001b[0;34m\u001b[0m\u001b[0m\n\u001b[0m",
      "\u001b[0;31mNameError\u001b[0m: name 'prepped_data' is not defined"
     ]
    }
   ],
   "source": [
    "np.unique(prepped_data.y_test, return_counts=True)"
   ]
  },
  {
   "cell_type": "code",
   "execution_count": 10,
   "id": "60611d22-a3de-4a51-b7d4-815133adbfc4",
   "metadata": {},
   "outputs": [
    {
     "data": {
      "text/plain": [
       "['X_test',\n",
       " 'X_test_for_calibration',\n",
       " 'X_test_sample_weight',\n",
       " 'X_test_sample_weight_eval',\n",
       " 'X_train',\n",
       " 'X_train_sample_weight',\n",
       " 'X_train_sample_weight_eval',\n",
       " '__class__',\n",
       " '__delattr__',\n",
       " '__dict__',\n",
       " '__dir__',\n",
       " '__doc__',\n",
       " '__eq__',\n",
       " '__format__',\n",
       " '__ge__',\n",
       " '__getattribute__',\n",
       " '__gt__',\n",
       " '__hash__',\n",
       " '__init__',\n",
       " '__init_subclass__',\n",
       " '__le__',\n",
       " '__lt__',\n",
       " '__module__',\n",
       " '__ne__',\n",
       " '__new__',\n",
       " '__reduce__',\n",
       " '__reduce_ex__',\n",
       " '__repr__',\n",
       " '__setattr__',\n",
       " '__sizeof__',\n",
       " '__str__',\n",
       " '__subclasshook__',\n",
       " '__weakref__',\n",
       " 'apply_column_filters',\n",
       " 'apply_data_filters',\n",
       " 'apply_filters',\n",
       " 'compute_event_rate',\n",
       " 'compute_multi_label_event_rate',\n",
       " 'construct_label_array',\n",
       " 'event_rate',\n",
       " 'extract_schema',\n",
       " 'extract_weights',\n",
       " 'filter_examples',\n",
       " 'force_contiguous',\n",
       " 'get_eval_weights',\n",
       " 'get_event_rates',\n",
       " 'get_label_column',\n",
       " 'group_hold_out',\n",
       " 'group_train',\n",
       " 'hold_out',\n",
       " 'mem_usage',\n",
       " 'raw_event_rate',\n",
       " 'sample_data',\n",
       " 'schema',\n",
       " 'set_click_propensities',\n",
       " 'set_up_logger',\n",
       " 'split_train_test',\n",
       " 'train_dataset',\n",
       " 'train_holdout_split_with_partition',\n",
       " 'validate_data',\n",
       " 'y_test',\n",
       " 'y_test_for_calibration',\n",
       " 'y_train']"
      ]
     },
     "execution_count": 10,
     "metadata": {},
     "output_type": "execute_result"
    }
   ],
   "source": [
    "dir(prepped_data)"
   ]
  },
  {
   "cell_type": "code",
   "execution_count": 37,
   "id": "31bad154-d0cd-42b2-8749-ad9d6ee3a3c8",
   "metadata": {},
   "outputs": [
    {
     "data": {
      "text/plain": [
       "5850216184"
      ]
     },
     "execution_count": 38,
     "metadata": {},
     "output_type": "execute_result"
    }
   ],
   "source": [
    "prepped_data.mem_usage"
   ]
  },
  {
   "cell_type": "code",
   "execution_count": 39,
   "id": "6a181e79-7bb2-48c5-b235-5fb6fb14ec7c",
   "metadata": {},
   "outputs": [
    {
     "data": {
      "text/plain": [
       "array([1., 1., 1., ..., 1., 1., 1.], dtype=float32)"
      ]
     },
     "execution_count": 39,
     "metadata": {},
     "output_type": "execute_result"
    }
   ],
   "source": [
    "prepped_data.X_test_sample_weight"
   ]
  },
  {
   "cell_type": "code",
   "execution_count": 43,
   "id": "b4a5e597-749e-420f-b631-be7270b98e26",
   "metadata": {},
   "outputs": [
    {
     "data": {
      "text/plain": [
       "array([ 0.420534  ,  0.5568509 ,  0.63525075,  0.63771963,  0.6405908 ,\n",
       "        0.6932791 ,  0.7818593 ,  0.82777905,  0.87078625,  0.88848084,\n",
       "        0.9129124 ,  0.9153468 ,  0.933552  ,  0.9442985 ,  0.9458925 ,\n",
       "        0.94967794,  0.9522477 ,  0.9545896 ,  0.955105  ,  0.9586939 ,\n",
       "        0.95942634,  0.9636964 ,  0.96699977,  0.9703532 ,  0.9775687 ,\n",
       "        0.97761095,  0.9984952 ,  1.        ,  1.0170945 ,  1.0385801 ,\n",
       "        1.0407873 ,  1.0512642 ,  1.0711716 ,  1.0857247 ,  1.0946076 ,\n",
       "        1.1048454 ,  1.1054703 ,  1.1068069 ,  1.1071949 ,  1.113889  ,\n",
       "        1.1227758 ,  1.1443181 ,  1.15719   ,  1.1657927 ,  1.1696985 ,\n",
       "        1.1827197 ,  1.1941738 ,  1.222866  ,  1.3013855 ,  1.4192955 ,\n",
       "        1.4381298 ,  1.5118873 ,  1.5607082 ,  1.5731978 ,  1.5907905 ,\n",
       "        1.7094122 ,  1.7464522 ,  1.7751218 ,  1.8270276 ,  1.8280367 ,\n",
       "        1.8292229 ,  1.9262638 ,  1.9875515 ,  2.0004961 ,  2.021212  ,\n",
       "        2.040895  ,  2.0515463 ,  2.0699894 ,  2.073404  ,  2.1116245 ,\n",
       "        2.1232727 ,  2.1244237 ,  2.1751497 ,  2.178436  ,  2.1788733 ,\n",
       "        2.1812751 ,  2.2137642 ,  2.2157702 ,  2.220907  ,  2.2387183 ,\n",
       "        2.242073  ,  2.270766  ,  2.2767563 ,  2.3046722 ,  2.3367653 ,\n",
       "        2.3684833 ,  2.408861  ,  2.4193916 ,  2.4198365 ,  2.4331238 ,\n",
       "        2.433733  ,  2.4719949 ,  2.4735942 ,  2.4945138 ,  2.497668  ,\n",
       "        2.5034614 ,  2.5233455 ,  2.5600572 ,  2.5667212 ,  2.6057487 ,\n",
       "        2.612777  ,  2.6238623 ,  2.6327484 ,  2.6948822 ,  2.7295277 ,\n",
       "        2.7430408 ,  2.747204  ,  2.7625556 ,  2.7887545 ,  2.795747  ,\n",
       "        2.8170998 ,  2.8287401 ,  2.847698  ,  2.877315  ,  2.914541  ,\n",
       "        3.0294764 ,  3.0311856 ,  3.080395  ,  3.0837379 ,  3.120555  ,\n",
       "        3.219611  ,  3.226878  ,  3.2286499 ,  3.2495208 ,  3.2556891 ,\n",
       "        3.255925  ,  3.2697656 ,  3.2756565 ,  3.2812243 ,  3.2931647 ,\n",
       "        3.3113604 ,  3.3632054 ,  3.3989623 ,  3.4344714 ,  3.4538517 ,\n",
       "        3.4607906 ,  3.4721138 ,  3.4851036 ,  3.490624  ,  3.5058413 ,\n",
       "        3.5241706 ,  3.5420582 ,  3.5535467 ,  3.5689628 ,  3.5906105 ,\n",
       "        3.5936074 ,  3.6252217 ,  3.6401389 ,  3.6658833 ,  3.7292063 ,\n",
       "        3.8161204 ,  3.8769078 ,  3.8986254 ,  3.9117582 ,  3.9602048 ,\n",
       "        4.007433  ,  4.031637  ,  4.053261  ,  4.0651956 ,  4.135415  ,\n",
       "        4.1538243 ,  4.1715593 ,  4.1746273 ,  4.2328076 ,  4.363129  ,\n",
       "        4.3754835 ,  4.4408193 ,  4.493022  ,  4.6866593 ,  4.7509103 ,\n",
       "        4.8044405 ,  4.8084316 ,  5.858158  ,  7.3452106 , 11.6053    ,\n",
       "       19.832792  , 21.263176  , 22.85391   , 25.505156  ], dtype=float32)"
      ]
     },
     "execution_count": 43,
     "metadata": {},
     "output_type": "execute_result"
    }
   ],
   "source": [
    "np.unique(prepped_data.X_test_sample_weight)"
   ]
  },
  {
   "cell_type": "code",
   "execution_count": 5,
   "id": "7c6eea3f-d83d-4248-b989-6bda444d0b11",
   "metadata": {},
   "outputs": [
    {
     "data": {
      "text/plain": [
       "(1927613, 33)"
      ]
     },
     "execution_count": 5,
     "metadata": {},
     "output_type": "execute_result"
    }
   ],
   "source": [
    "prepped_data_v7.X_test.shape"
   ]
  },
  {
   "cell_type": "code",
   "execution_count": 18,
   "id": "ae3026c4-e3ec-47ac-b90e-8310d18192ac",
   "metadata": {},
   "outputs": [
    {
     "data": {
      "text/plain": [
       "array([[-1.0000000e+00,  0.0000000e+00,  1.0000000e+00, ...,\n",
       "         1.1314000e+00,  4.3553287e-01,  3.5304301e-03],\n",
       "       [ 3.6000000e+01,  0.0000000e+00,  1.0000000e+00, ...,\n",
       "         1.1314000e+00,  4.1683534e-01,  1.1900325e-03],\n",
       "       [-1.0000000e+00,  0.0000000e+00,  0.0000000e+00, ...,\n",
       "         4.4079890e+00,  3.8878092e-01,  6.3282140e-03],\n",
       "       ...,\n",
       "       [-1.0000000e+00,  0.0000000e+00,  0.0000000e+00, ...,\n",
       "         2.6638179e+00,  5.3148097e-01,  1.6254800e-03],\n",
       "       [-1.0000000e+00,  0.0000000e+00,  0.0000000e+00, ...,\n",
       "         6.2395592e+01,  2.5451079e-01,  2.1900672e-04],\n",
       "       [-1.0000000e+00,  0.0000000e+00,  0.0000000e+00, ...,\n",
       "         3.8500128e+00,  6.6429996e-01,  4.5146429e-05]], dtype=float32)"
      ]
     },
     "execution_count": 18,
     "metadata": {},
     "output_type": "execute_result"
    }
   ],
   "source": [
    "prepped_data_v7.X_test"
   ]
  },
  {
   "cell_type": "code",
   "execution_count": 6,
   "id": "929ebdf2-e894-4495-9340-0083b24ef48f",
   "metadata": {},
   "outputs": [
    {
     "data": {
      "text/plain": [
       "{'meid': array([b'0cec9e13a1c141b08aeb4ca7d5596a14',\n",
       "        b'0cec9e13a1c141b08aeb4ca7d5596a14',\n",
       "        b'0cec9e13a1c141b08aeb4ca7d5596a14', ...,\n",
       "        b'fefde91be44b4784be093c449ab3ab08',\n",
       "        b'fefde91be44b4784be093c449ab3ab08',\n",
       "        b'fefde91be44b4784be093c449ab3ab08'], dtype='|S32'),\n",
       " 'mlrRank': array([ 1,  2,  3, ...,  8,  9, 10], dtype=int32),\n",
       " 'itemId': array([115678469197, 374462622985, 266086094810, ..., 254718769805,\n",
       "        265119219763, 144392466437]),\n",
       " 'labels.labelClassicBBE': array([-1, -1, -1, ..., -1, -1, -1], dtype=int32)}"
      ]
     },
     "execution_count": 6,
     "metadata": {},
     "output_type": "execute_result"
    }
   ],
   "source": [
    "prepped_data_v7.hold_out"
   ]
  },
  {
   "cell_type": "code",
   "execution_count": 7,
   "id": "5c827b9a-4499-4a87-b0b8-e0af89af46e6",
   "metadata": {},
   "outputs": [],
   "source": [
    "pdf = pd.DataFrame( prepped_data_v7.hold_out)"
   ]
  },
  {
   "cell_type": "code",
   "execution_count": 8,
   "id": "1bc59a96-35fb-4dc1-b7fc-f6aeb43c87fb",
   "metadata": {},
   "outputs": [
    {
     "data": {
      "text/plain": [
       "(1927613, 4)"
      ]
     },
     "execution_count": 8,
     "metadata": {},
     "output_type": "execute_result"
    }
   ],
   "source": [
    "pdf.shape"
   ]
  },
  {
   "cell_type": "code",
   "execution_count": 9,
   "id": "1999e721-3c0e-449a-9704-827289307bd8",
   "metadata": {},
   "outputs": [
    {
     "data": {
      "text/html": [
       "<div>\n",
       "<style scoped>\n",
       "    .dataframe tbody tr th:only-of-type {\n",
       "        vertical-align: middle;\n",
       "    }\n",
       "\n",
       "    .dataframe tbody tr th {\n",
       "        vertical-align: top;\n",
       "    }\n",
       "\n",
       "    .dataframe thead th {\n",
       "        text-align: right;\n",
       "    }\n",
       "</style>\n",
       "<table border=\"1\" class=\"dataframe\">\n",
       "  <thead>\n",
       "    <tr style=\"text-align: right;\">\n",
       "      <th></th>\n",
       "      <th>meid</th>\n",
       "      <th>mlrRank</th>\n",
       "      <th>itemId</th>\n",
       "      <th>labels.labelClassicBBE</th>\n",
       "    </tr>\n",
       "  </thead>\n",
       "  <tbody>\n",
       "    <tr>\n",
       "      <th>0</th>\n",
       "      <td>b'0cec9e13a1c141b08aeb4ca7d5596a14'</td>\n",
       "      <td>1</td>\n",
       "      <td>115678469197</td>\n",
       "      <td>-1</td>\n",
       "    </tr>\n",
       "    <tr>\n",
       "      <th>1</th>\n",
       "      <td>b'0cec9e13a1c141b08aeb4ca7d5596a14'</td>\n",
       "      <td>2</td>\n",
       "      <td>374462622985</td>\n",
       "      <td>-1</td>\n",
       "    </tr>\n",
       "    <tr>\n",
       "      <th>2</th>\n",
       "      <td>b'0cec9e13a1c141b08aeb4ca7d5596a14'</td>\n",
       "      <td>3</td>\n",
       "      <td>266086094810</td>\n",
       "      <td>-1</td>\n",
       "    </tr>\n",
       "    <tr>\n",
       "      <th>3</th>\n",
       "      <td>b'0cec9e13a1c141b08aeb4ca7d5596a14'</td>\n",
       "      <td>4</td>\n",
       "      <td>144902273166</td>\n",
       "      <td>-1</td>\n",
       "    </tr>\n",
       "    <tr>\n",
       "      <th>4</th>\n",
       "      <td>b'0cec9e13a1c141b08aeb4ca7d5596a14'</td>\n",
       "      <td>5</td>\n",
       "      <td>155367956001</td>\n",
       "      <td>-1</td>\n",
       "    </tr>\n",
       "    <tr>\n",
       "      <th>...</th>\n",
       "      <td>...</td>\n",
       "      <td>...</td>\n",
       "      <td>...</td>\n",
       "      <td>...</td>\n",
       "    </tr>\n",
       "    <tr>\n",
       "      <th>1927608</th>\n",
       "      <td>b'fefde91be44b4784be093c449ab3ab08'</td>\n",
       "      <td>6</td>\n",
       "      <td>165354597804</td>\n",
       "      <td>-1</td>\n",
       "    </tr>\n",
       "    <tr>\n",
       "      <th>1927609</th>\n",
       "      <td>b'fefde91be44b4784be093c449ab3ab08'</td>\n",
       "      <td>7</td>\n",
       "      <td>263946447162</td>\n",
       "      <td>-1</td>\n",
       "    </tr>\n",
       "    <tr>\n",
       "      <th>1927610</th>\n",
       "      <td>b'fefde91be44b4784be093c449ab3ab08'</td>\n",
       "      <td>8</td>\n",
       "      <td>254718769805</td>\n",
       "      <td>-1</td>\n",
       "    </tr>\n",
       "    <tr>\n",
       "      <th>1927611</th>\n",
       "      <td>b'fefde91be44b4784be093c449ab3ab08'</td>\n",
       "      <td>9</td>\n",
       "      <td>265119219763</td>\n",
       "      <td>-1</td>\n",
       "    </tr>\n",
       "    <tr>\n",
       "      <th>1927612</th>\n",
       "      <td>b'fefde91be44b4784be093c449ab3ab08'</td>\n",
       "      <td>10</td>\n",
       "      <td>144392466437</td>\n",
       "      <td>-1</td>\n",
       "    </tr>\n",
       "  </tbody>\n",
       "</table>\n",
       "<p>1927613 rows × 4 columns</p>\n",
       "</div>"
      ],
      "text/plain": [
       "                                        meid  mlrRank        itemId  \\\n",
       "0        b'0cec9e13a1c141b08aeb4ca7d5596a14'        1  115678469197   \n",
       "1        b'0cec9e13a1c141b08aeb4ca7d5596a14'        2  374462622985   \n",
       "2        b'0cec9e13a1c141b08aeb4ca7d5596a14'        3  266086094810   \n",
       "3        b'0cec9e13a1c141b08aeb4ca7d5596a14'        4  144902273166   \n",
       "4        b'0cec9e13a1c141b08aeb4ca7d5596a14'        5  155367956001   \n",
       "...                                      ...      ...           ...   \n",
       "1927608  b'fefde91be44b4784be093c449ab3ab08'        6  165354597804   \n",
       "1927609  b'fefde91be44b4784be093c449ab3ab08'        7  263946447162   \n",
       "1927610  b'fefde91be44b4784be093c449ab3ab08'        8  254718769805   \n",
       "1927611  b'fefde91be44b4784be093c449ab3ab08'        9  265119219763   \n",
       "1927612  b'fefde91be44b4784be093c449ab3ab08'       10  144392466437   \n",
       "\n",
       "         labels.labelClassicBBE  \n",
       "0                            -1  \n",
       "1                            -1  \n",
       "2                            -1  \n",
       "3                            -1  \n",
       "4                            -1  \n",
       "...                         ...  \n",
       "1927608                      -1  \n",
       "1927609                      -1  \n",
       "1927610                      -1  \n",
       "1927611                      -1  \n",
       "1927612                      -1  \n",
       "\n",
       "[1927613 rows x 4 columns]"
      ]
     },
     "execution_count": 9,
     "metadata": {},
     "output_type": "execute_result"
    }
   ],
   "source": [
    "pdf"
   ]
  },
  {
   "cell_type": "code",
   "execution_count": 13,
   "id": "260bb0e1-c00c-4719-9587-7810b32af22d",
   "metadata": {},
   "outputs": [
    {
     "data": {
      "text/plain": [
       "array([b'0cec9e13a1c141b08aeb4ca7d5596a14',\n",
       "       b'0cec9e13a1c141b08aeb4ca7d5596a14',\n",
       "       b'0cec9e13a1c141b08aeb4ca7d5596a14',\n",
       "       b'0cec9e13a1c141b08aeb4ca7d5596a14',\n",
       "       b'0cec9e13a1c141b08aeb4ca7d5596a14',\n",
       "       b'0cec9e13a1c141b08aeb4ca7d5596a14',\n",
       "       b'0cec9e13a1c141b08aeb4ca7d5596a14',\n",
       "       b'0cec9e13a1c141b08aeb4ca7d5596a14',\n",
       "       b'0cec9e13a1c141b08aeb4ca7d5596a14',\n",
       "       b'0cec9e13a1c141b08aeb4ca7d5596a14'], dtype='|S32')"
      ]
     },
     "execution_count": 13,
     "metadata": {},
     "output_type": "execute_result"
    }
   ],
   "source": [
    "prepped_data_v7.hold_out['meid'][:10]"
   ]
  },
  {
   "cell_type": "code",
   "execution_count": 14,
   "id": "55e8589a-474b-41da-b7e5-10456b239f0e",
   "metadata": {},
   "outputs": [
    {
     "data": {
      "text/plain": [
       "array([115678469197, 374462622985, 266086094810, ..., 254718769805,\n",
       "       265119219763, 144392466437])"
      ]
     },
     "execution_count": 14,
     "metadata": {},
     "output_type": "execute_result"
    }
   ],
   "source": [
    "prepped_data_v7.hold_out['itemId']"
   ]
  },
  {
   "cell_type": "code",
   "execution_count": 23,
   "id": "73ed0caf-33a8-407b-8ca3-48a32c031aef",
   "metadata": {},
   "outputs": [
    {
     "data": {
      "text/plain": [
       "array([115678469197, 374462622985, 266086094810, ..., 254718769805,\n",
       "       265119219763, 144392466437])"
      ]
     },
     "execution_count": 23,
     "metadata": {},
     "output_type": "execute_result"
    }
   ],
   "source": [
    "prepped_data.hold_out['itemId']"
   ]
  },
  {
   "cell_type": "markdown",
   "id": "e71abf3c-78d5-42a3-b89d-1e8e9ab31f43",
   "metadata": {},
   "source": [
    "### mlrRank is original production model rank: "
   ]
  },
  {
   "cell_type": "code",
   "execution_count": 15,
   "id": "c5490416-e991-4584-85be-53e66d33fc3d",
   "metadata": {},
   "outputs": [
    {
     "data": {
      "text/plain": [
       "array([ 1,  2,  3,  4,  5,  6,  7,  8,  9, 10,  1,  2,  3,  4,  5,  6,  7,\n",
       "        8,  9, 10,  1,  2,  3,  4,  5,  6,  7,  8,  9, 10,  1,  2,  3,  4,\n",
       "        5,  6,  7,  8,  9, 10], dtype=int32)"
      ]
     },
     "execution_count": 15,
     "metadata": {},
     "output_type": "execute_result"
    }
   ],
   "source": [
    "prepped_data_v7.hold_out['mlrRank'][:40]"
   ]
  },
  {
   "cell_type": "code",
   "execution_count": 26,
   "id": "71b36b8c-f510-4d2b-afbd-f2b4a7450b28",
   "metadata": {},
   "outputs": [
    {
     "data": {
      "text/plain": [
       "array([ 1,  2,  3,  4,  5,  6,  7,  8,  9, 10,  1,  2,  3,  4,  5,  6,  7,\n",
       "        8,  9, 10,  1,  2,  3,  4,  5,  6,  7,  8,  9, 10,  1,  2,  3,  4,\n",
       "        5,  6,  7,  8,  9, 10], dtype=int32)"
      ]
     },
     "execution_count": 26,
     "metadata": {},
     "output_type": "execute_result"
    }
   ],
   "source": [
    "prepped_data.hold_out['mlrRank'][:40]"
   ]
  },
  {
   "cell_type": "markdown",
   "id": "a8b9023e-0598-454b-9690-dcab43c02ac0",
   "metadata": {},
   "source": [
    "#### Piyi v7 biased model: "
   ]
  },
  {
   "cell_type": "code",
   "execution_count": 16,
   "id": "ac9fdb33-5d1f-49b3-888d-cc57c82bd237",
   "metadata": {},
   "outputs": [],
   "source": [
    "import xgboost\n",
    "piyiv7_bias_model = xgboost.Booster()"
   ]
  },
  {
   "cell_type": "code",
   "execution_count": 17,
   "id": "2a88cdf2-ee7d-43c8-aad5-20d8c9aa355f",
   "metadata": {},
   "outputs": [
    {
     "name": "stdout",
     "output_type": "stream",
     "text": [
      "[12:19:05] WARNING: ../src/learner.cc:851: Loading model from XGBoost < 1.0.0, consider saving it again for improved compatibility\n"
     ]
    }
   ],
   "source": [
    "piyiv7_bias_model.load_model('piyiV7_biased.bst')"
   ]
  },
  {
   "cell_type": "markdown",
   "id": "b0dc1f0b-c0bb-4f3f-b9cd-b2a6f5b23fe0",
   "metadata": {},
   "source": [
    "### Unbiased ranking- load model:"
   ]
  },
  {
   "cell_type": "code",
   "execution_count": 2,
   "id": "8f1106ca-a8d8-4739-8ae2-8736dc360221",
   "metadata": {},
   "outputs": [],
   "source": [
    "import xgboost"
   ]
  },
  {
   "cell_type": "code",
   "execution_count": 3,
   "id": "38591640-e57a-4d6e-b4ba-ffd74a415743",
   "metadata": {},
   "outputs": [
    {
     "name": "stdout",
     "output_type": "stream",
     "text": [
      "[10:58:38] WARNING: ../src/learner.cc:851: Loading model from XGBoost < 1.0.0, consider saving it again for improved compatibility\n"
     ]
    }
   ],
   "source": [
    "unbiased_model = xgboost.Booster()\n",
    "unbiased_model.load_model('simplex_piyi_v7_unbiased.bst')"
   ]
  },
  {
   "cell_type": "code",
   "execution_count": 12,
   "id": "f54aa122-3b91-4354-bf05-28b3137d7924",
   "metadata": {},
   "outputs": [
    {
     "ename": "NameError",
     "evalue": "name 'xgb_model_loaded' is not defined",
     "output_type": "error",
     "traceback": [
      "\u001b[0;31m---------------------------------------------------------------------------\u001b[0m",
      "\u001b[0;31mNameError\u001b[0m                                 Traceback (most recent call last)",
      "\u001b[0;32m/tmp/ipykernel_1631/3638205090.py\u001b[0m in \u001b[0;36m<module>\u001b[0;34m\u001b[0m\n\u001b[0;32m----> 1\u001b[0;31m \u001b[0mxgb_model_loaded\u001b[0m\u001b[0;34m\u001b[0m\u001b[0;34m\u001b[0m\u001b[0m\n\u001b[0m",
      "\u001b[0;31mNameError\u001b[0m: name 'xgb_model_loaded' is not defined"
     ]
    }
   ],
   "source": [
    "xgb_model_loaded"
   ]
  },
  {
   "cell_type": "code",
   "execution_count": 20,
   "id": "2db0176a-7951-4493-9785-35d3940bca4c",
   "metadata": {},
   "outputs": [],
   "source": [
    "y_pred = xgb_model_loaded.predict(xgboost.DMatrix(prepped_data.X_test))"
   ]
  },
  {
   "cell_type": "code",
   "execution_count": 21,
   "id": "e6197a92-a1c1-445a-b2af-5d52e0363798",
   "metadata": {},
   "outputs": [
    {
     "data": {
      "text/plain": [
       "array([ 0.58596784, -0.14937016,  0.36867687, ..., -1.1259544 ,\n",
       "       -0.6990923 , -1.2575393 ], dtype=float32)"
      ]
     },
     "execution_count": 21,
     "metadata": {},
     "output_type": "execute_result"
    }
   ],
   "source": [
    "y_pred"
   ]
  },
  {
   "cell_type": "code",
   "execution_count": 48,
   "id": "94885996-1000-4d41-9b5a-4da513788f11",
   "metadata": {},
   "outputs": [
    {
     "data": {
      "text/plain": [
       "array([0, 1, 0, ..., 1, 0, 0], dtype=int32)"
      ]
     },
     "execution_count": 48,
     "metadata": {},
     "output_type": "execute_result"
    }
   ],
   "source": [
    "prepped_data.y_test"
   ]
  },
  {
   "cell_type": "code",
   "execution_count": 49,
   "id": "dfd8c02c-ff1c-45ec-b1a5-4b73f9b89a3c",
   "metadata": {},
   "outputs": [
    {
     "data": {
      "text/plain": [
       "(array([0, 1, 2, 3, 4, 5, 6], dtype=int32),\n",
       " array([1665778,  242473,   14370,    2290,     354,     124,    2224]))"
      ]
     },
     "execution_count": 49,
     "metadata": {},
     "output_type": "execute_result"
    }
   ],
   "source": [
    "np.unique(prepped_data.y_test, return_counts=True)"
   ]
  },
  {
   "cell_type": "code",
   "execution_count": 2,
   "id": "de5bbc9f-b769-42d7-8a9a-5953de6a0ff7",
   "metadata": {},
   "outputs": [
    {
     "ename": "NameError",
     "evalue": "name 'pdf' is not defined",
     "output_type": "error",
     "traceback": [
      "\u001b[0;31m---------------------------------------------------------------------------\u001b[0m",
      "\u001b[0;31mNameError\u001b[0m                                 Traceback (most recent call last)",
      "\u001b[0;32m/tmp/ipykernel_127764/4281038304.py\u001b[0m in \u001b[0;36m<module>\u001b[0;34m\u001b[0m\n\u001b[0;32m----> 1\u001b[0;31m \u001b[0mpdf\u001b[0m\u001b[0;34m.\u001b[0m\u001b[0mshape\u001b[0m\u001b[0;34m\u001b[0m\u001b[0;34m\u001b[0m\u001b[0m\n\u001b[0m",
      "\u001b[0;31mNameError\u001b[0m: name 'pdf' is not defined"
     ]
    }
   ],
   "source": [
    "pdf.shape"
   ]
  },
  {
   "cell_type": "code",
   "execution_count": 4,
   "id": "6628b78e-612d-4d5c-ac24-6206ca9fd7cb",
   "metadata": {},
   "outputs": [
    {
     "data": {
      "text/plain": [
       "0.11537585604579341"
      ]
     },
     "execution_count": 4,
     "metadata": {},
     "output_type": "execute_result"
    }
   ],
   "source": [
    "2224/1927613 *100"
   ]
  },
  {
   "cell_type": "code",
   "execution_count": 23,
   "id": "5398ef49-718f-4552-938e-9d1377e1e155",
   "metadata": {},
   "outputs": [],
   "source": [
    "pdf['y_pred'] = y_pred"
   ]
  },
  {
   "cell_type": "code",
   "execution_count": 22,
   "id": "aa840d8b-0b25-4256-8abd-006c6914d191",
   "metadata": {},
   "outputs": [],
   "source": [
    "pdf['label'] = prepped_data.y_test"
   ]
  },
  {
   "cell_type": "code",
   "execution_count": 24,
   "id": "d50bbf10-d360-4a63-a48a-beb1ab8ead32",
   "metadata": {},
   "outputs": [],
   "source": [
    "pdf['rank_unbiased'] = pdf.groupby('meid')['y_pred'].rank(method='dense', ascending=False)"
   ]
  },
  {
   "cell_type": "code",
   "execution_count": 41,
   "id": "34e50311-adb7-4f9f-8473-a16ca3103f32",
   "metadata": {},
   "outputs": [],
   "source": [
    "pdf['X_test_sample_weight'] =prepped_data.X_test_sample_weight"
   ]
  },
  {
   "cell_type": "code",
   "execution_count": 44,
   "id": "41973f4f-b134-4ae9-8223-bd666a0a2e1a",
   "metadata": {},
   "outputs": [],
   "source": [
    "pdf['X_test_sample_weight_eval'] =prepped_data.X_test_sample_weight_eval"
   ]
  },
  {
   "cell_type": "code",
   "execution_count": 45,
   "id": "9cc23e6d-615c-44dc-9a75-bb9391f4ebc0",
   "metadata": {},
   "outputs": [
    {
     "data": {
      "text/html": [
       "<div>\n",
       "<style scoped>\n",
       "    .dataframe tbody tr th:only-of-type {\n",
       "        vertical-align: middle;\n",
       "    }\n",
       "\n",
       "    .dataframe tbody tr th {\n",
       "        vertical-align: top;\n",
       "    }\n",
       "\n",
       "    .dataframe thead th {\n",
       "        text-align: right;\n",
       "    }\n",
       "</style>\n",
       "<table border=\"1\" class=\"dataframe\">\n",
       "  <thead>\n",
       "    <tr style=\"text-align: right;\">\n",
       "      <th></th>\n",
       "      <th>meid</th>\n",
       "      <th>mlrRank</th>\n",
       "      <th>itemId</th>\n",
       "      <th>labels.labelClassicBBE</th>\n",
       "      <th>label</th>\n",
       "      <th>y_pred</th>\n",
       "      <th>rank_unbiased</th>\n",
       "      <th>X_test_sample_weight</th>\n",
       "      <th>X_test_sample_weight_eval</th>\n",
       "    </tr>\n",
       "  </thead>\n",
       "  <tbody>\n",
       "    <tr>\n",
       "      <th>0</th>\n",
       "      <td>b'06c811dbcf3f4e8492ec13ad4943baa8'</td>\n",
       "      <td>1</td>\n",
       "      <td>165886259355</td>\n",
       "      <td>-1</td>\n",
       "      <td>0</td>\n",
       "      <td>0.585968</td>\n",
       "      <td>1.0</td>\n",
       "      <td>1.0</td>\n",
       "      <td>1.0</td>\n",
       "    </tr>\n",
       "    <tr>\n",
       "      <th>1</th>\n",
       "      <td>b'06c811dbcf3f4e8492ec13ad4943baa8'</td>\n",
       "      <td>2</td>\n",
       "      <td>304758681643</td>\n",
       "      <td>-1</td>\n",
       "      <td>1</td>\n",
       "      <td>-0.149370</td>\n",
       "      <td>6.0</td>\n",
       "      <td>1.0</td>\n",
       "      <td>1.0</td>\n",
       "    </tr>\n",
       "    <tr>\n",
       "      <th>2</th>\n",
       "      <td>b'06c811dbcf3f4e8492ec13ad4943baa8'</td>\n",
       "      <td>3</td>\n",
       "      <td>255926583975</td>\n",
       "      <td>-1</td>\n",
       "      <td>0</td>\n",
       "      <td>0.368677</td>\n",
       "      <td>3.0</td>\n",
       "      <td>1.0</td>\n",
       "      <td>1.0</td>\n",
       "    </tr>\n",
       "    <tr>\n",
       "      <th>3</th>\n",
       "      <td>b'06c811dbcf3f4e8492ec13ad4943baa8'</td>\n",
       "      <td>4</td>\n",
       "      <td>334688356602</td>\n",
       "      <td>-1</td>\n",
       "      <td>0</td>\n",
       "      <td>0.281479</td>\n",
       "      <td>4.0</td>\n",
       "      <td>1.0</td>\n",
       "      <td>1.0</td>\n",
       "    </tr>\n",
       "    <tr>\n",
       "      <th>4</th>\n",
       "      <td>b'06c811dbcf3f4e8492ec13ad4943baa8'</td>\n",
       "      <td>5</td>\n",
       "      <td>185737193566</td>\n",
       "      <td>-1</td>\n",
       "      <td>0</td>\n",
       "      <td>0.395501</td>\n",
       "      <td>2.0</td>\n",
       "      <td>1.0</td>\n",
       "      <td>1.0</td>\n",
       "    </tr>\n",
       "    <tr>\n",
       "      <th>5</th>\n",
       "      <td>b'06c811dbcf3f4e8492ec13ad4943baa8'</td>\n",
       "      <td>6</td>\n",
       "      <td>175113651756</td>\n",
       "      <td>-1</td>\n",
       "      <td>0</td>\n",
       "      <td>-0.480952</td>\n",
       "      <td>8.0</td>\n",
       "      <td>1.0</td>\n",
       "      <td>1.0</td>\n",
       "    </tr>\n",
       "    <tr>\n",
       "      <th>6</th>\n",
       "      <td>b'06c811dbcf3f4e8492ec13ad4943baa8'</td>\n",
       "      <td>7</td>\n",
       "      <td>225346357937</td>\n",
       "      <td>-1</td>\n",
       "      <td>0</td>\n",
       "      <td>-0.060489</td>\n",
       "      <td>5.0</td>\n",
       "      <td>1.0</td>\n",
       "      <td>1.0</td>\n",
       "    </tr>\n",
       "    <tr>\n",
       "      <th>7</th>\n",
       "      <td>b'06c811dbcf3f4e8492ec13ad4943baa8'</td>\n",
       "      <td>8</td>\n",
       "      <td>404107077467</td>\n",
       "      <td>-1</td>\n",
       "      <td>0</td>\n",
       "      <td>-0.259329</td>\n",
       "      <td>7.0</td>\n",
       "      <td>1.0</td>\n",
       "      <td>1.0</td>\n",
       "    </tr>\n",
       "    <tr>\n",
       "      <th>8</th>\n",
       "      <td>b'06c811dbcf3f4e8492ec13ad4943baa8'</td>\n",
       "      <td>9</td>\n",
       "      <td>374460874585</td>\n",
       "      <td>-1</td>\n",
       "      <td>0</td>\n",
       "      <td>-1.041139</td>\n",
       "      <td>10.0</td>\n",
       "      <td>1.0</td>\n",
       "      <td>1.0</td>\n",
       "    </tr>\n",
       "    <tr>\n",
       "      <th>9</th>\n",
       "      <td>b'06c811dbcf3f4e8492ec13ad4943baa8'</td>\n",
       "      <td>10</td>\n",
       "      <td>165423822921</td>\n",
       "      <td>-1</td>\n",
       "      <td>0</td>\n",
       "      <td>-0.874499</td>\n",
       "      <td>9.0</td>\n",
       "      <td>1.0</td>\n",
       "      <td>1.0</td>\n",
       "    </tr>\n",
       "    <tr>\n",
       "      <th>10</th>\n",
       "      <td>b'07ce1dd8391e449589b84356ce60178d'</td>\n",
       "      <td>1</td>\n",
       "      <td>325491413337</td>\n",
       "      <td>-1</td>\n",
       "      <td>1</td>\n",
       "      <td>0.491914</td>\n",
       "      <td>1.0</td>\n",
       "      <td>1.0</td>\n",
       "      <td>1.0</td>\n",
       "    </tr>\n",
       "    <tr>\n",
       "      <th>11</th>\n",
       "      <td>b'07ce1dd8391e449589b84356ce60178d'</td>\n",
       "      <td>2</td>\n",
       "      <td>125317339557</td>\n",
       "      <td>-1</td>\n",
       "      <td>0</td>\n",
       "      <td>-2.507590</td>\n",
       "      <td>7.0</td>\n",
       "      <td>1.0</td>\n",
       "      <td>1.0</td>\n",
       "    </tr>\n",
       "  </tbody>\n",
       "</table>\n",
       "</div>"
      ],
      "text/plain": [
       "                                   meid  mlrRank        itemId  \\\n",
       "0   b'06c811dbcf3f4e8492ec13ad4943baa8'        1  165886259355   \n",
       "1   b'06c811dbcf3f4e8492ec13ad4943baa8'        2  304758681643   \n",
       "2   b'06c811dbcf3f4e8492ec13ad4943baa8'        3  255926583975   \n",
       "3   b'06c811dbcf3f4e8492ec13ad4943baa8'        4  334688356602   \n",
       "4   b'06c811dbcf3f4e8492ec13ad4943baa8'        5  185737193566   \n",
       "5   b'06c811dbcf3f4e8492ec13ad4943baa8'        6  175113651756   \n",
       "6   b'06c811dbcf3f4e8492ec13ad4943baa8'        7  225346357937   \n",
       "7   b'06c811dbcf3f4e8492ec13ad4943baa8'        8  404107077467   \n",
       "8   b'06c811dbcf3f4e8492ec13ad4943baa8'        9  374460874585   \n",
       "9   b'06c811dbcf3f4e8492ec13ad4943baa8'       10  165423822921   \n",
       "10  b'07ce1dd8391e449589b84356ce60178d'        1  325491413337   \n",
       "11  b'07ce1dd8391e449589b84356ce60178d'        2  125317339557   \n",
       "\n",
       "    labels.labelClassicBBE  label    y_pred  rank_unbiased  \\\n",
       "0                       -1      0  0.585968            1.0   \n",
       "1                       -1      1 -0.149370            6.0   \n",
       "2                       -1      0  0.368677            3.0   \n",
       "3                       -1      0  0.281479            4.0   \n",
       "4                       -1      0  0.395501            2.0   \n",
       "5                       -1      0 -0.480952            8.0   \n",
       "6                       -1      0 -0.060489            5.0   \n",
       "7                       -1      0 -0.259329            7.0   \n",
       "8                       -1      0 -1.041139           10.0   \n",
       "9                       -1      0 -0.874499            9.0   \n",
       "10                      -1      1  0.491914            1.0   \n",
       "11                      -1      0 -2.507590            7.0   \n",
       "\n",
       "    X_test_sample_weight  X_test_sample_weight_eval  \n",
       "0                    1.0                        1.0  \n",
       "1                    1.0                        1.0  \n",
       "2                    1.0                        1.0  \n",
       "3                    1.0                        1.0  \n",
       "4                    1.0                        1.0  \n",
       "5                    1.0                        1.0  \n",
       "6                    1.0                        1.0  \n",
       "7                    1.0                        1.0  \n",
       "8                    1.0                        1.0  \n",
       "9                    1.0                        1.0  \n",
       "10                   1.0                        1.0  \n",
       "11                   1.0                        1.0  "
      ]
     },
     "execution_count": 45,
     "metadata": {},
     "output_type": "execute_result"
    }
   ],
   "source": [
    "pdf.head(12)"
   ]
  },
  {
   "cell_type": "code",
   "execution_count": 46,
   "id": "e2954af1-f7b2-44cb-b441-56ab06f48b23",
   "metadata": {},
   "outputs": [
    {
     "data": {
      "text/html": [
       "<div>\n",
       "<style scoped>\n",
       "    .dataframe tbody tr th:only-of-type {\n",
       "        vertical-align: middle;\n",
       "    }\n",
       "\n",
       "    .dataframe tbody tr th {\n",
       "        vertical-align: top;\n",
       "    }\n",
       "\n",
       "    .dataframe thead th {\n",
       "        text-align: right;\n",
       "    }\n",
       "</style>\n",
       "<table border=\"1\" class=\"dataframe\">\n",
       "  <thead>\n",
       "    <tr style=\"text-align: right;\">\n",
       "      <th></th>\n",
       "      <th>meid</th>\n",
       "      <th>mlrRank</th>\n",
       "      <th>itemId</th>\n",
       "      <th>labels.labelClassicBBE</th>\n",
       "      <th>label</th>\n",
       "      <th>y_pred</th>\n",
       "      <th>rank_unbiased</th>\n",
       "      <th>X_test_sample_weight</th>\n",
       "      <th>X_test_sample_weight_eval</th>\n",
       "    </tr>\n",
       "  </thead>\n",
       "  <tbody>\n",
       "    <tr>\n",
       "      <th>834728</th>\n",
       "      <td>b'0cec9e13a1c141b08aeb4ca7d5596a14'</td>\n",
       "      <td>1</td>\n",
       "      <td>115678469197</td>\n",
       "      <td>-1</td>\n",
       "      <td>1</td>\n",
       "      <td>1.308024</td>\n",
       "      <td>1.0</td>\n",
       "      <td>1.0</td>\n",
       "      <td>1.0</td>\n",
       "    </tr>\n",
       "    <tr>\n",
       "      <th>834729</th>\n",
       "      <td>b'0cec9e13a1c141b08aeb4ca7d5596a14'</td>\n",
       "      <td>2</td>\n",
       "      <td>374462622985</td>\n",
       "      <td>-1</td>\n",
       "      <td>0</td>\n",
       "      <td>0.375601</td>\n",
       "      <td>3.0</td>\n",
       "      <td>1.0</td>\n",
       "      <td>1.0</td>\n",
       "    </tr>\n",
       "    <tr>\n",
       "      <th>834730</th>\n",
       "      <td>b'0cec9e13a1c141b08aeb4ca7d5596a14'</td>\n",
       "      <td>3</td>\n",
       "      <td>266086094810</td>\n",
       "      <td>-1</td>\n",
       "      <td>0</td>\n",
       "      <td>-0.555214</td>\n",
       "      <td>7.0</td>\n",
       "      <td>1.0</td>\n",
       "      <td>1.0</td>\n",
       "    </tr>\n",
       "    <tr>\n",
       "      <th>834731</th>\n",
       "      <td>b'0cec9e13a1c141b08aeb4ca7d5596a14'</td>\n",
       "      <td>4</td>\n",
       "      <td>144902273166</td>\n",
       "      <td>-1</td>\n",
       "      <td>0</td>\n",
       "      <td>-0.494656</td>\n",
       "      <td>6.0</td>\n",
       "      <td>1.0</td>\n",
       "      <td>1.0</td>\n",
       "    </tr>\n",
       "    <tr>\n",
       "      <th>834732</th>\n",
       "      <td>b'0cec9e13a1c141b08aeb4ca7d5596a14'</td>\n",
       "      <td>5</td>\n",
       "      <td>155367956001</td>\n",
       "      <td>-1</td>\n",
       "      <td>0</td>\n",
       "      <td>0.351475</td>\n",
       "      <td>4.0</td>\n",
       "      <td>1.0</td>\n",
       "      <td>1.0</td>\n",
       "    </tr>\n",
       "    <tr>\n",
       "      <th>834733</th>\n",
       "      <td>b'0cec9e13a1c141b08aeb4ca7d5596a14'</td>\n",
       "      <td>6</td>\n",
       "      <td>115678475424</td>\n",
       "      <td>-1</td>\n",
       "      <td>0</td>\n",
       "      <td>0.459016</td>\n",
       "      <td>2.0</td>\n",
       "      <td>1.0</td>\n",
       "      <td>1.0</td>\n",
       "    </tr>\n",
       "    <tr>\n",
       "      <th>834734</th>\n",
       "      <td>b'0cec9e13a1c141b08aeb4ca7d5596a14'</td>\n",
       "      <td>7</td>\n",
       "      <td>295480888789</td>\n",
       "      <td>-1</td>\n",
       "      <td>0</td>\n",
       "      <td>-0.226427</td>\n",
       "      <td>5.0</td>\n",
       "      <td>1.0</td>\n",
       "      <td>1.0</td>\n",
       "    </tr>\n",
       "    <tr>\n",
       "      <th>834735</th>\n",
       "      <td>b'0cec9e13a1c141b08aeb4ca7d5596a14'</td>\n",
       "      <td>8</td>\n",
       "      <td>195556704575</td>\n",
       "      <td>-1</td>\n",
       "      <td>0</td>\n",
       "      <td>-0.783052</td>\n",
       "      <td>8.0</td>\n",
       "      <td>1.0</td>\n",
       "      <td>1.0</td>\n",
       "    </tr>\n",
       "    <tr>\n",
       "      <th>834736</th>\n",
       "      <td>b'0cec9e13a1c141b08aeb4ca7d5596a14'</td>\n",
       "      <td>9</td>\n",
       "      <td>295471863277</td>\n",
       "      <td>-1</td>\n",
       "      <td>0</td>\n",
       "      <td>-0.975719</td>\n",
       "      <td>9.0</td>\n",
       "      <td>1.0</td>\n",
       "      <td>1.0</td>\n",
       "    </tr>\n",
       "    <tr>\n",
       "      <th>834737</th>\n",
       "      <td>b'0cec9e13a1c141b08aeb4ca7d5596a14'</td>\n",
       "      <td>10</td>\n",
       "      <td>115675587641</td>\n",
       "      <td>-1</td>\n",
       "      <td>0</td>\n",
       "      <td>-1.121641</td>\n",
       "      <td>10.0</td>\n",
       "      <td>1.0</td>\n",
       "      <td>1.0</td>\n",
       "    </tr>\n",
       "  </tbody>\n",
       "</table>\n",
       "</div>"
      ],
      "text/plain": [
       "                                       meid  mlrRank        itemId  \\\n",
       "834728  b'0cec9e13a1c141b08aeb4ca7d5596a14'        1  115678469197   \n",
       "834729  b'0cec9e13a1c141b08aeb4ca7d5596a14'        2  374462622985   \n",
       "834730  b'0cec9e13a1c141b08aeb4ca7d5596a14'        3  266086094810   \n",
       "834731  b'0cec9e13a1c141b08aeb4ca7d5596a14'        4  144902273166   \n",
       "834732  b'0cec9e13a1c141b08aeb4ca7d5596a14'        5  155367956001   \n",
       "834733  b'0cec9e13a1c141b08aeb4ca7d5596a14'        6  115678475424   \n",
       "834734  b'0cec9e13a1c141b08aeb4ca7d5596a14'        7  295480888789   \n",
       "834735  b'0cec9e13a1c141b08aeb4ca7d5596a14'        8  195556704575   \n",
       "834736  b'0cec9e13a1c141b08aeb4ca7d5596a14'        9  295471863277   \n",
       "834737  b'0cec9e13a1c141b08aeb4ca7d5596a14'       10  115675587641   \n",
       "\n",
       "        labels.labelClassicBBE  label    y_pred  rank_unbiased  \\\n",
       "834728                      -1      1  1.308024            1.0   \n",
       "834729                      -1      0  0.375601            3.0   \n",
       "834730                      -1      0 -0.555214            7.0   \n",
       "834731                      -1      0 -0.494656            6.0   \n",
       "834732                      -1      0  0.351475            4.0   \n",
       "834733                      -1      0  0.459016            2.0   \n",
       "834734                      -1      0 -0.226427            5.0   \n",
       "834735                      -1      0 -0.783052            8.0   \n",
       "834736                      -1      0 -0.975719            9.0   \n",
       "834737                      -1      0 -1.121641           10.0   \n",
       "\n",
       "        X_test_sample_weight  X_test_sample_weight_eval  \n",
       "834728                   1.0                        1.0  \n",
       "834729                   1.0                        1.0  \n",
       "834730                   1.0                        1.0  \n",
       "834731                   1.0                        1.0  \n",
       "834732                   1.0                        1.0  \n",
       "834733                   1.0                        1.0  \n",
       "834734                   1.0                        1.0  \n",
       "834735                   1.0                        1.0  \n",
       "834736                   1.0                        1.0  \n",
       "834737                   1.0                        1.0  "
      ]
     },
     "execution_count": 46,
     "metadata": {},
     "output_type": "execute_result"
    }
   ],
   "source": [
    "pdf[pdf['meid']==b'0cec9e13a1c141b08aeb4ca7d5596a14']"
   ]
  },
  {
   "cell_type": "code",
   "execution_count": 47,
   "id": "94e4deeb-9160-48d8-a5ae-399b8d777f32",
   "metadata": {},
   "outputs": [
    {
     "data": {
      "text/html": [
       "<div>\n",
       "<style scoped>\n",
       "    .dataframe tbody tr th:only-of-type {\n",
       "        vertical-align: middle;\n",
       "    }\n",
       "\n",
       "    .dataframe tbody tr th {\n",
       "        vertical-align: top;\n",
       "    }\n",
       "\n",
       "    .dataframe thead th {\n",
       "        text-align: right;\n",
       "    }\n",
       "</style>\n",
       "<table border=\"1\" class=\"dataframe\">\n",
       "  <thead>\n",
       "    <tr style=\"text-align: right;\">\n",
       "      <th></th>\n",
       "      <th>meid</th>\n",
       "      <th>mlrRank</th>\n",
       "      <th>itemId</th>\n",
       "      <th>labels.labelClassicBBE</th>\n",
       "      <th>label</th>\n",
       "      <th>y_pred</th>\n",
       "      <th>rank_unbiased</th>\n",
       "      <th>X_test_sample_weight</th>\n",
       "      <th>X_test_sample_weight_eval</th>\n",
       "    </tr>\n",
       "  </thead>\n",
       "  <tbody>\n",
       "    <tr>\n",
       "      <th>834738</th>\n",
       "      <td>b'26d706d1cb9b40cf9476c08ebd8bd71f'</td>\n",
       "      <td>1</td>\n",
       "      <td>364110762823</td>\n",
       "      <td>-1</td>\n",
       "      <td>0</td>\n",
       "      <td>1.786796</td>\n",
       "      <td>2.0</td>\n",
       "      <td>1.0</td>\n",
       "      <td>1.0</td>\n",
       "    </tr>\n",
       "    <tr>\n",
       "      <th>834739</th>\n",
       "      <td>b'26d706d1cb9b40cf9476c08ebd8bd71f'</td>\n",
       "      <td>2</td>\n",
       "      <td>255927604073</td>\n",
       "      <td>-1</td>\n",
       "      <td>1</td>\n",
       "      <td>1.850591</td>\n",
       "      <td>1.0</td>\n",
       "      <td>1.0</td>\n",
       "      <td>1.0</td>\n",
       "    </tr>\n",
       "    <tr>\n",
       "      <th>834740</th>\n",
       "      <td>b'26d706d1cb9b40cf9476c08ebd8bd71f'</td>\n",
       "      <td>3</td>\n",
       "      <td>155358911175</td>\n",
       "      <td>-1</td>\n",
       "      <td>0</td>\n",
       "      <td>1.156294</td>\n",
       "      <td>4.0</td>\n",
       "      <td>1.0</td>\n",
       "      <td>1.0</td>\n",
       "    </tr>\n",
       "    <tr>\n",
       "      <th>834741</th>\n",
       "      <td>b'26d706d1cb9b40cf9476c08ebd8bd71f'</td>\n",
       "      <td>4</td>\n",
       "      <td>175579126514</td>\n",
       "      <td>-1</td>\n",
       "      <td>0</td>\n",
       "      <td>1.624009</td>\n",
       "      <td>3.0</td>\n",
       "      <td>1.0</td>\n",
       "      <td>1.0</td>\n",
       "    </tr>\n",
       "    <tr>\n",
       "      <th>834742</th>\n",
       "      <td>b'26d706d1cb9b40cf9476c08ebd8bd71f'</td>\n",
       "      <td>5</td>\n",
       "      <td>334703276016</td>\n",
       "      <td>-1</td>\n",
       "      <td>0</td>\n",
       "      <td>1.020187</td>\n",
       "      <td>7.0</td>\n",
       "      <td>1.0</td>\n",
       "      <td>1.0</td>\n",
       "    </tr>\n",
       "    <tr>\n",
       "      <th>834743</th>\n",
       "      <td>b'26d706d1cb9b40cf9476c08ebd8bd71f'</td>\n",
       "      <td>6</td>\n",
       "      <td>285110446900</td>\n",
       "      <td>-1</td>\n",
       "      <td>0</td>\n",
       "      <td>1.044926</td>\n",
       "      <td>6.0</td>\n",
       "      <td>1.0</td>\n",
       "      <td>1.0</td>\n",
       "    </tr>\n",
       "    <tr>\n",
       "      <th>834744</th>\n",
       "      <td>b'26d706d1cb9b40cf9476c08ebd8bd71f'</td>\n",
       "      <td>7</td>\n",
       "      <td>285110445252</td>\n",
       "      <td>-1</td>\n",
       "      <td>0</td>\n",
       "      <td>0.788763</td>\n",
       "      <td>8.0</td>\n",
       "      <td>1.0</td>\n",
       "      <td>1.0</td>\n",
       "    </tr>\n",
       "    <tr>\n",
       "      <th>834745</th>\n",
       "      <td>b'26d706d1cb9b40cf9476c08ebd8bd71f'</td>\n",
       "      <td>8</td>\n",
       "      <td>285111182018</td>\n",
       "      <td>-1</td>\n",
       "      <td>0</td>\n",
       "      <td>1.089282</td>\n",
       "      <td>5.0</td>\n",
       "      <td>1.0</td>\n",
       "      <td>1.0</td>\n",
       "    </tr>\n",
       "    <tr>\n",
       "      <th>834746</th>\n",
       "      <td>b'26d706d1cb9b40cf9476c08ebd8bd71f'</td>\n",
       "      <td>9</td>\n",
       "      <td>285110445903</td>\n",
       "      <td>-1</td>\n",
       "      <td>0</td>\n",
       "      <td>0.635191</td>\n",
       "      <td>10.0</td>\n",
       "      <td>1.0</td>\n",
       "      <td>1.0</td>\n",
       "    </tr>\n",
       "    <tr>\n",
       "      <th>834747</th>\n",
       "      <td>b'26d706d1cb9b40cf9476c08ebd8bd71f'</td>\n",
       "      <td>10</td>\n",
       "      <td>334704419504</td>\n",
       "      <td>-1</td>\n",
       "      <td>0</td>\n",
       "      <td>0.661216</td>\n",
       "      <td>9.0</td>\n",
       "      <td>1.0</td>\n",
       "      <td>1.0</td>\n",
       "    </tr>\n",
       "  </tbody>\n",
       "</table>\n",
       "</div>"
      ],
      "text/plain": [
       "                                       meid  mlrRank        itemId  \\\n",
       "834738  b'26d706d1cb9b40cf9476c08ebd8bd71f'        1  364110762823   \n",
       "834739  b'26d706d1cb9b40cf9476c08ebd8bd71f'        2  255927604073   \n",
       "834740  b'26d706d1cb9b40cf9476c08ebd8bd71f'        3  155358911175   \n",
       "834741  b'26d706d1cb9b40cf9476c08ebd8bd71f'        4  175579126514   \n",
       "834742  b'26d706d1cb9b40cf9476c08ebd8bd71f'        5  334703276016   \n",
       "834743  b'26d706d1cb9b40cf9476c08ebd8bd71f'        6  285110446900   \n",
       "834744  b'26d706d1cb9b40cf9476c08ebd8bd71f'        7  285110445252   \n",
       "834745  b'26d706d1cb9b40cf9476c08ebd8bd71f'        8  285111182018   \n",
       "834746  b'26d706d1cb9b40cf9476c08ebd8bd71f'        9  285110445903   \n",
       "834747  b'26d706d1cb9b40cf9476c08ebd8bd71f'       10  334704419504   \n",
       "\n",
       "        labels.labelClassicBBE  label    y_pred  rank_unbiased  \\\n",
       "834738                      -1      0  1.786796            2.0   \n",
       "834739                      -1      1  1.850591            1.0   \n",
       "834740                      -1      0  1.156294            4.0   \n",
       "834741                      -1      0  1.624009            3.0   \n",
       "834742                      -1      0  1.020187            7.0   \n",
       "834743                      -1      0  1.044926            6.0   \n",
       "834744                      -1      0  0.788763            8.0   \n",
       "834745                      -1      0  1.089282            5.0   \n",
       "834746                      -1      0  0.635191           10.0   \n",
       "834747                      -1      0  0.661216            9.0   \n",
       "\n",
       "        X_test_sample_weight  X_test_sample_weight_eval  \n",
       "834738                   1.0                        1.0  \n",
       "834739                   1.0                        1.0  \n",
       "834740                   1.0                        1.0  \n",
       "834741                   1.0                        1.0  \n",
       "834742                   1.0                        1.0  \n",
       "834743                   1.0                        1.0  \n",
       "834744                   1.0                        1.0  \n",
       "834745                   1.0                        1.0  \n",
       "834746                   1.0                        1.0  \n",
       "834747                   1.0                        1.0  "
      ]
     },
     "execution_count": 47,
     "metadata": {},
     "output_type": "execute_result"
    }
   ],
   "source": [
    "pdf[pdf['meid']==b'26d706d1cb9b40cf9476c08ebd8bd71f']"
   ]
  },
  {
   "cell_type": "code",
   "execution_count": 58,
   "id": "fc1db382-a74b-4351-abcd-65556935966c",
   "metadata": {},
   "outputs": [
    {
     "data": {
      "text/plain": [
       "199685"
      ]
     },
     "execution_count": 58,
     "metadata": {},
     "output_type": "execute_result"
    }
   ],
   "source": [
    "pdf.meid.nunique()"
   ]
  },
  {
   "cell_type": "code",
   "execution_count": 59,
   "id": "3cce1f99-5823-407f-9a48-866cc7e55e02",
   "metadata": {},
   "outputs": [
    {
     "data": {
      "text/plain": [
       "199677"
      ]
     },
     "execution_count": 59,
     "metadata": {},
     "output_type": "execute_result"
    }
   ],
   "source": [
    "pdf_rank12.meid.nunique()"
   ]
  },
  {
   "cell_type": "code",
   "execution_count": 56,
   "id": "99ae6797-7f87-4d2c-8f5e-b345446268ab",
   "metadata": {},
   "outputs": [],
   "source": [
    "pdf_rank12=pdf[pdf['mlrRank'].isin([1, 2])].copy()"
   ]
  },
  {
   "cell_type": "code",
   "execution_count": 57,
   "id": "fc52c5dc-00df-4353-898a-e9dedc496d48",
   "metadata": {},
   "outputs": [],
   "source": [
    "pdf_rank12['ranks_are_equal'] = pdf_rank12.apply(lambda x: int(x['mlrRank'] ==x['rank_unbiased']), axis=1)"
   ]
  },
  {
   "cell_type": "code",
   "execution_count": 62,
   "id": "f10fd487-c111-415a-9f7e-fdf88b211023",
   "metadata": {},
   "outputs": [
    {
     "data": {
      "text/html": [
       "<div>\n",
       "<style scoped>\n",
       "    .dataframe tbody tr th:only-of-type {\n",
       "        vertical-align: middle;\n",
       "    }\n",
       "\n",
       "    .dataframe tbody tr th {\n",
       "        vertical-align: top;\n",
       "    }\n",
       "\n",
       "    .dataframe thead th {\n",
       "        text-align: right;\n",
       "    }\n",
       "</style>\n",
       "<table border=\"1\" class=\"dataframe\">\n",
       "  <thead>\n",
       "    <tr style=\"text-align: right;\">\n",
       "      <th></th>\n",
       "      <th>meid</th>\n",
       "      <th>mlrRank</th>\n",
       "      <th>itemId</th>\n",
       "      <th>labels.labelClassicBBE</th>\n",
       "      <th>label</th>\n",
       "      <th>y_pred</th>\n",
       "      <th>rank_unbiased</th>\n",
       "      <th>X_test_sample_weight</th>\n",
       "      <th>X_test_sample_weight_eval</th>\n",
       "      <th>ranks_are_equal</th>\n",
       "    </tr>\n",
       "  </thead>\n",
       "  <tbody>\n",
       "    <tr>\n",
       "      <th>0</th>\n",
       "      <td>b'06c811dbcf3f4e8492ec13ad4943baa8'</td>\n",
       "      <td>1</td>\n",
       "      <td>165886259355</td>\n",
       "      <td>-1</td>\n",
       "      <td>0</td>\n",
       "      <td>0.585968</td>\n",
       "      <td>1.0</td>\n",
       "      <td>1.0</td>\n",
       "      <td>1.0</td>\n",
       "      <td>1</td>\n",
       "    </tr>\n",
       "    <tr>\n",
       "      <th>1</th>\n",
       "      <td>b'06c811dbcf3f4e8492ec13ad4943baa8'</td>\n",
       "      <td>2</td>\n",
       "      <td>304758681643</td>\n",
       "      <td>-1</td>\n",
       "      <td>1</td>\n",
       "      <td>-0.149370</td>\n",
       "      <td>6.0</td>\n",
       "      <td>1.0</td>\n",
       "      <td>1.0</td>\n",
       "      <td>0</td>\n",
       "    </tr>\n",
       "    <tr>\n",
       "      <th>10</th>\n",
       "      <td>b'07ce1dd8391e449589b84356ce60178d'</td>\n",
       "      <td>1</td>\n",
       "      <td>325491413337</td>\n",
       "      <td>-1</td>\n",
       "      <td>1</td>\n",
       "      <td>0.491914</td>\n",
       "      <td>1.0</td>\n",
       "      <td>1.0</td>\n",
       "      <td>1.0</td>\n",
       "      <td>1</td>\n",
       "    </tr>\n",
       "    <tr>\n",
       "      <th>11</th>\n",
       "      <td>b'07ce1dd8391e449589b84356ce60178d'</td>\n",
       "      <td>2</td>\n",
       "      <td>125317339557</td>\n",
       "      <td>-1</td>\n",
       "      <td>0</td>\n",
       "      <td>-2.507590</td>\n",
       "      <td>7.0</td>\n",
       "      <td>1.0</td>\n",
       "      <td>1.0</td>\n",
       "      <td>0</td>\n",
       "    </tr>\n",
       "    <tr>\n",
       "      <th>20</th>\n",
       "      <td>b'0da344690f6c4d879a6dba876a188827'</td>\n",
       "      <td>1</td>\n",
       "      <td>285081438854</td>\n",
       "      <td>-1</td>\n",
       "      <td>0</td>\n",
       "      <td>-1.287927</td>\n",
       "      <td>1.0</td>\n",
       "      <td>1.0</td>\n",
       "      <td>1.0</td>\n",
       "      <td>1</td>\n",
       "    </tr>\n",
       "    <tr>\n",
       "      <th>21</th>\n",
       "      <td>b'0da344690f6c4d879a6dba876a188827'</td>\n",
       "      <td>2</td>\n",
       "      <td>324743689465</td>\n",
       "      <td>-1</td>\n",
       "      <td>1</td>\n",
       "      <td>-1.378467</td>\n",
       "      <td>2.0</td>\n",
       "      <td>1.0</td>\n",
       "      <td>1.0</td>\n",
       "      <td>1</td>\n",
       "    </tr>\n",
       "    <tr>\n",
       "      <th>30</th>\n",
       "      <td>b'12fecb0f78154b42bea3da5f19eecb48'</td>\n",
       "      <td>1</td>\n",
       "      <td>334700341142</td>\n",
       "      <td>-1</td>\n",
       "      <td>1</td>\n",
       "      <td>-1.095907</td>\n",
       "      <td>1.0</td>\n",
       "      <td>1.0</td>\n",
       "      <td>1.0</td>\n",
       "      <td>1</td>\n",
       "    </tr>\n",
       "    <tr>\n",
       "      <th>31</th>\n",
       "      <td>b'12fecb0f78154b42bea3da5f19eecb48'</td>\n",
       "      <td>2</td>\n",
       "      <td>403905220516</td>\n",
       "      <td>-1</td>\n",
       "      <td>0</td>\n",
       "      <td>-1.156610</td>\n",
       "      <td>2.0</td>\n",
       "      <td>1.0</td>\n",
       "      <td>1.0</td>\n",
       "      <td>1</td>\n",
       "    </tr>\n",
       "    <tr>\n",
       "      <th>39</th>\n",
       "      <td>b'157c5be3ad5a41ffbec181f5134a0610'</td>\n",
       "      <td>1</td>\n",
       "      <td>224329520602</td>\n",
       "      <td>-1</td>\n",
       "      <td>0</td>\n",
       "      <td>0.286346</td>\n",
       "      <td>8.0</td>\n",
       "      <td>1.0</td>\n",
       "      <td>1.0</td>\n",
       "      <td>0</td>\n",
       "    </tr>\n",
       "    <tr>\n",
       "      <th>40</th>\n",
       "      <td>b'157c5be3ad5a41ffbec181f5134a0610'</td>\n",
       "      <td>2</td>\n",
       "      <td>124794465889</td>\n",
       "      <td>-1</td>\n",
       "      <td>0</td>\n",
       "      <td>0.510239</td>\n",
       "      <td>3.0</td>\n",
       "      <td>1.0</td>\n",
       "      <td>1.0</td>\n",
       "      <td>0</td>\n",
       "    </tr>\n",
       "  </tbody>\n",
       "</table>\n",
       "</div>"
      ],
      "text/plain": [
       "                                   meid  mlrRank        itemId  \\\n",
       "0   b'06c811dbcf3f4e8492ec13ad4943baa8'        1  165886259355   \n",
       "1   b'06c811dbcf3f4e8492ec13ad4943baa8'        2  304758681643   \n",
       "10  b'07ce1dd8391e449589b84356ce60178d'        1  325491413337   \n",
       "11  b'07ce1dd8391e449589b84356ce60178d'        2  125317339557   \n",
       "20  b'0da344690f6c4d879a6dba876a188827'        1  285081438854   \n",
       "21  b'0da344690f6c4d879a6dba876a188827'        2  324743689465   \n",
       "30  b'12fecb0f78154b42bea3da5f19eecb48'        1  334700341142   \n",
       "31  b'12fecb0f78154b42bea3da5f19eecb48'        2  403905220516   \n",
       "39  b'157c5be3ad5a41ffbec181f5134a0610'        1  224329520602   \n",
       "40  b'157c5be3ad5a41ffbec181f5134a0610'        2  124794465889   \n",
       "\n",
       "    labels.labelClassicBBE  label    y_pred  rank_unbiased  \\\n",
       "0                       -1      0  0.585968            1.0   \n",
       "1                       -1      1 -0.149370            6.0   \n",
       "10                      -1      1  0.491914            1.0   \n",
       "11                      -1      0 -2.507590            7.0   \n",
       "20                      -1      0 -1.287927            1.0   \n",
       "21                      -1      1 -1.378467            2.0   \n",
       "30                      -1      1 -1.095907            1.0   \n",
       "31                      -1      0 -1.156610            2.0   \n",
       "39                      -1      0  0.286346            8.0   \n",
       "40                      -1      0  0.510239            3.0   \n",
       "\n",
       "    X_test_sample_weight  X_test_sample_weight_eval  ranks_are_equal  \n",
       "0                    1.0                        1.0                1  \n",
       "1                    1.0                        1.0                0  \n",
       "10                   1.0                        1.0                1  \n",
       "11                   1.0                        1.0                0  \n",
       "20                   1.0                        1.0                1  \n",
       "21                   1.0                        1.0                1  \n",
       "30                   1.0                        1.0                1  \n",
       "31                   1.0                        1.0                1  \n",
       "39                   1.0                        1.0                0  \n",
       "40                   1.0                        1.0                0  "
      ]
     },
     "execution_count": 62,
     "metadata": {},
     "output_type": "execute_result"
    }
   ],
   "source": [
    "pdf_rank12.head(10)"
   ]
  },
  {
   "cell_type": "code",
   "execution_count": 135,
   "id": "3038ca74-f5dc-438e-bdb3-27f0112d8d6b",
   "metadata": {},
   "outputs": [
    {
     "data": {
      "text/html": [
       "<div>\n",
       "<style scoped>\n",
       "    .dataframe tbody tr th:only-of-type {\n",
       "        vertical-align: middle;\n",
       "    }\n",
       "\n",
       "    .dataframe tbody tr th {\n",
       "        vertical-align: top;\n",
       "    }\n",
       "\n",
       "    .dataframe thead th {\n",
       "        text-align: right;\n",
       "    }\n",
       "</style>\n",
       "<table border=\"1\" class=\"dataframe\">\n",
       "  <thead>\n",
       "    <tr style=\"text-align: right;\">\n",
       "      <th></th>\n",
       "      <th>meid</th>\n",
       "      <th>itemId</th>\n",
       "      <th>mlrRank</th>\n",
       "      <th>y_pred</th>\n",
       "      <th>rank_unbiased</th>\n",
       "      <th>ranks_are_equal</th>\n",
       "    </tr>\n",
       "  </thead>\n",
       "  <tbody>\n",
       "    <tr>\n",
       "      <th>0</th>\n",
       "      <td>b'06c811dbcf3f4e8492ec13ad4943baa8'</td>\n",
       "      <td>165886259355</td>\n",
       "      <td>1</td>\n",
       "      <td>0.585968</td>\n",
       "      <td>1.0</td>\n",
       "      <td>1</td>\n",
       "    </tr>\n",
       "    <tr>\n",
       "      <th>1</th>\n",
       "      <td>b'06c811dbcf3f4e8492ec13ad4943baa8'</td>\n",
       "      <td>304758681643</td>\n",
       "      <td>2</td>\n",
       "      <td>-0.149370</td>\n",
       "      <td>6.0</td>\n",
       "      <td>0</td>\n",
       "    </tr>\n",
       "    <tr>\n",
       "      <th>10</th>\n",
       "      <td>b'07ce1dd8391e449589b84356ce60178d'</td>\n",
       "      <td>325491413337</td>\n",
       "      <td>1</td>\n",
       "      <td>0.491914</td>\n",
       "      <td>1.0</td>\n",
       "      <td>1</td>\n",
       "    </tr>\n",
       "    <tr>\n",
       "      <th>11</th>\n",
       "      <td>b'07ce1dd8391e449589b84356ce60178d'</td>\n",
       "      <td>125317339557</td>\n",
       "      <td>2</td>\n",
       "      <td>-2.507590</td>\n",
       "      <td>7.0</td>\n",
       "      <td>0</td>\n",
       "    </tr>\n",
       "    <tr>\n",
       "      <th>20</th>\n",
       "      <td>b'0da344690f6c4d879a6dba876a188827'</td>\n",
       "      <td>285081438854</td>\n",
       "      <td>1</td>\n",
       "      <td>-1.287927</td>\n",
       "      <td>1.0</td>\n",
       "      <td>1</td>\n",
       "    </tr>\n",
       "    <tr>\n",
       "      <th>21</th>\n",
       "      <td>b'0da344690f6c4d879a6dba876a188827'</td>\n",
       "      <td>324743689465</td>\n",
       "      <td>2</td>\n",
       "      <td>-1.378467</td>\n",
       "      <td>2.0</td>\n",
       "      <td>1</td>\n",
       "    </tr>\n",
       "    <tr>\n",
       "      <th>30</th>\n",
       "      <td>b'12fecb0f78154b42bea3da5f19eecb48'</td>\n",
       "      <td>334700341142</td>\n",
       "      <td>1</td>\n",
       "      <td>-1.095907</td>\n",
       "      <td>1.0</td>\n",
       "      <td>1</td>\n",
       "    </tr>\n",
       "    <tr>\n",
       "      <th>31</th>\n",
       "      <td>b'12fecb0f78154b42bea3da5f19eecb48'</td>\n",
       "      <td>403905220516</td>\n",
       "      <td>2</td>\n",
       "      <td>-1.156610</td>\n",
       "      <td>2.0</td>\n",
       "      <td>1</td>\n",
       "    </tr>\n",
       "    <tr>\n",
       "      <th>39</th>\n",
       "      <td>b'157c5be3ad5a41ffbec181f5134a0610'</td>\n",
       "      <td>224329520602</td>\n",
       "      <td>1</td>\n",
       "      <td>0.286346</td>\n",
       "      <td>8.0</td>\n",
       "      <td>0</td>\n",
       "    </tr>\n",
       "    <tr>\n",
       "      <th>40</th>\n",
       "      <td>b'157c5be3ad5a41ffbec181f5134a0610'</td>\n",
       "      <td>124794465889</td>\n",
       "      <td>2</td>\n",
       "      <td>0.510239</td>\n",
       "      <td>3.0</td>\n",
       "      <td>0</td>\n",
       "    </tr>\n",
       "  </tbody>\n",
       "</table>\n",
       "</div>"
      ],
      "text/plain": [
       "                                   meid        itemId  mlrRank    y_pred  \\\n",
       "0   b'06c811dbcf3f4e8492ec13ad4943baa8'  165886259355        1  0.585968   \n",
       "1   b'06c811dbcf3f4e8492ec13ad4943baa8'  304758681643        2 -0.149370   \n",
       "10  b'07ce1dd8391e449589b84356ce60178d'  325491413337        1  0.491914   \n",
       "11  b'07ce1dd8391e449589b84356ce60178d'  125317339557        2 -2.507590   \n",
       "20  b'0da344690f6c4d879a6dba876a188827'  285081438854        1 -1.287927   \n",
       "21  b'0da344690f6c4d879a6dba876a188827'  324743689465        2 -1.378467   \n",
       "30  b'12fecb0f78154b42bea3da5f19eecb48'  334700341142        1 -1.095907   \n",
       "31  b'12fecb0f78154b42bea3da5f19eecb48'  403905220516        2 -1.156610   \n",
       "39  b'157c5be3ad5a41ffbec181f5134a0610'  224329520602        1  0.286346   \n",
       "40  b'157c5be3ad5a41ffbec181f5134a0610'  124794465889        2  0.510239   \n",
       "\n",
       "    rank_unbiased  ranks_are_equal  \n",
       "0             1.0                1  \n",
       "1             6.0                0  \n",
       "10            1.0                1  \n",
       "11            7.0                0  \n",
       "20            1.0                1  \n",
       "21            2.0                1  \n",
       "30            1.0                1  \n",
       "31            2.0                1  \n",
       "39            8.0                0  \n",
       "40            3.0                0  "
      ]
     },
     "execution_count": 135,
     "metadata": {},
     "output_type": "execute_result"
    }
   ],
   "source": [
    "pdf_rank12[['meid','itemId','mlrRank', 'y_pred','rank_unbiased','ranks_are_equal']].head(10)"
   ]
  },
  {
   "cell_type": "code",
   "execution_count": 67,
   "id": "2fe4c7f7-ac90-4a9a-b4cd-6ac2f69c55d3",
   "metadata": {},
   "outputs": [],
   "source": [
    "pdf_rank_equal=pdf_rank12.groupby('meid')['ranks_are_equal'].sum().to_frame().reset_index()"
   ]
  },
  {
   "cell_type": "code",
   "execution_count": 70,
   "id": "11b9f0a3-c762-4602-b02e-3d73e09c5a02",
   "metadata": {},
   "outputs": [
    {
     "data": {
      "text/plain": [
       "(199677, 2)"
      ]
     },
     "execution_count": 70,
     "metadata": {},
     "output_type": "execute_result"
    }
   ],
   "source": [
    "pdf_rank_equal.shape"
   ]
  },
  {
   "cell_type": "code",
   "execution_count": 69,
   "id": "e0756626-8e0e-47c9-a0d2-d7d521996639",
   "metadata": {},
   "outputs": [
    {
     "data": {
      "text/html": [
       "<div>\n",
       "<style scoped>\n",
       "    .dataframe tbody tr th:only-of-type {\n",
       "        vertical-align: middle;\n",
       "    }\n",
       "\n",
       "    .dataframe tbody tr th {\n",
       "        vertical-align: top;\n",
       "    }\n",
       "\n",
       "    .dataframe thead th {\n",
       "        text-align: right;\n",
       "    }\n",
       "</style>\n",
       "<table border=\"1\" class=\"dataframe\">\n",
       "  <thead>\n",
       "    <tr style=\"text-align: right;\">\n",
       "      <th></th>\n",
       "      <th>meid</th>\n",
       "      <th>ranks_are_equal</th>\n",
       "    </tr>\n",
       "  </thead>\n",
       "  <tbody>\n",
       "    <tr>\n",
       "      <th>0</th>\n",
       "      <td>b'0000265fbd7a44aca48a906adeff8875'</td>\n",
       "      <td>1</td>\n",
       "    </tr>\n",
       "    <tr>\n",
       "      <th>1</th>\n",
       "      <td>b'00040e543b0546ccb0a22e0cc20175de'</td>\n",
       "      <td>2</td>\n",
       "    </tr>\n",
       "    <tr>\n",
       "      <th>2</th>\n",
       "      <td>b'000e0759753843e18ab6c20a768cc399'</td>\n",
       "      <td>0</td>\n",
       "    </tr>\n",
       "    <tr>\n",
       "      <th>3</th>\n",
       "      <td>b'000e0d9eea8842ebacbc9de0879b1e95'</td>\n",
       "      <td>1</td>\n",
       "    </tr>\n",
       "    <tr>\n",
       "      <th>4</th>\n",
       "      <td>b'00124e66895343c196fdbd4666f02374'</td>\n",
       "      <td>0</td>\n",
       "    </tr>\n",
       "    <tr>\n",
       "      <th>5</th>\n",
       "      <td>b'0012aeb60dc24886b2a9a46e1ed04916'</td>\n",
       "      <td>1</td>\n",
       "    </tr>\n",
       "    <tr>\n",
       "      <th>6</th>\n",
       "      <td>b'0013f8f576d64cc9a6da1124e2aba5e4'</td>\n",
       "      <td>1</td>\n",
       "    </tr>\n",
       "    <tr>\n",
       "      <th>7</th>\n",
       "      <td>b'0014c18b15524ea5b0e5e58f45664ef6'</td>\n",
       "      <td>0</td>\n",
       "    </tr>\n",
       "    <tr>\n",
       "      <th>8</th>\n",
       "      <td>b'0015258cd13c41c69b951cd2cc21acfa'</td>\n",
       "      <td>0</td>\n",
       "    </tr>\n",
       "    <tr>\n",
       "      <th>9</th>\n",
       "      <td>b'001539fc62994c47ad0ea5ec01142273'</td>\n",
       "      <td>1</td>\n",
       "    </tr>\n",
       "  </tbody>\n",
       "</table>\n",
       "</div>"
      ],
      "text/plain": [
       "                                  meid  ranks_are_equal\n",
       "0  b'0000265fbd7a44aca48a906adeff8875'                1\n",
       "1  b'00040e543b0546ccb0a22e0cc20175de'                2\n",
       "2  b'000e0759753843e18ab6c20a768cc399'                0\n",
       "3  b'000e0d9eea8842ebacbc9de0879b1e95'                1\n",
       "4  b'00124e66895343c196fdbd4666f02374'                0\n",
       "5  b'0012aeb60dc24886b2a9a46e1ed04916'                1\n",
       "6  b'0013f8f576d64cc9a6da1124e2aba5e4'                1\n",
       "7  b'0014c18b15524ea5b0e5e58f45664ef6'                0\n",
       "8  b'0015258cd13c41c69b951cd2cc21acfa'                0\n",
       "9  b'001539fc62994c47ad0ea5ec01142273'                1"
      ]
     },
     "execution_count": 69,
     "metadata": {},
     "output_type": "execute_result"
    }
   ],
   "source": [
    "pdf_rank_equal.head(10)"
   ]
  },
  {
   "cell_type": "code",
   "execution_count": 71,
   "id": "8965dd9f-32d8-4048-81a3-02d73bc327bd",
   "metadata": {},
   "outputs": [
    {
     "data": {
      "text/plain": [
       "(49487, 2)"
      ]
     },
     "execution_count": 71,
     "metadata": {},
     "output_type": "execute_result"
    }
   ],
   "source": [
    "pdf_rank_equal[pdf_rank_equal['ranks_are_equal']==2].shape"
   ]
  },
  {
   "cell_type": "code",
   "execution_count": 72,
   "id": "0e78366f-8632-41b7-8105-bf172cc5b67a",
   "metadata": {},
   "outputs": [
    {
     "data": {
      "text/plain": [
       "(71737, 2)"
      ]
     },
     "execution_count": 72,
     "metadata": {},
     "output_type": "execute_result"
    }
   ],
   "source": [
    "pdf_rank_equal[pdf_rank_equal['ranks_are_equal']==1].shape"
   ]
  },
  {
   "cell_type": "code",
   "execution_count": 73,
   "id": "487dae88-b28e-4ee7-91b6-bbb66007e185",
   "metadata": {},
   "outputs": [
    {
     "data": {
      "text/plain": [
       "0.2478352539351052"
      ]
     },
     "execution_count": 73,
     "metadata": {},
     "output_type": "execute_result"
    }
   ],
   "source": [
    "49487/199677"
   ]
  },
  {
   "cell_type": "code",
   "execution_count": 74,
   "id": "2a0429b5-6109-4f20-85f6-889518590e26",
   "metadata": {},
   "outputs": [
    {
     "data": {
      "text/plain": [
       "0.359265213319511"
      ]
     },
     "execution_count": 74,
     "metadata": {},
     "output_type": "execute_result"
    }
   ],
   "source": [
    "71737/199677"
   ]
  },
  {
   "cell_type": "code",
   "execution_count": 78,
   "id": "09fc8743-e2a6-453c-a6b5-8fecc6fe5b73",
   "metadata": {},
   "outputs": [],
   "source": [
    "purchase=pdf[pdf['label']==6]"
   ]
  },
  {
   "cell_type": "code",
   "execution_count": 153,
   "id": "072a2d6d-f34d-4d13-8c6c-b6255b498a58",
   "metadata": {},
   "outputs": [
    {
     "name": "stderr",
     "output_type": "stream",
     "text": [
      "/opt/conda/lib/python3.7/site-packages/ipykernel_launcher.py:1: SettingWithCopyWarning: \n",
      "A value is trying to be set on a copy of a slice from a DataFrame.\n",
      "Try using .loc[row_indexer,col_indexer] = value instead\n",
      "\n",
      "See the caveats in the documentation: https://pandas.pydata.org/pandas-docs/stable/user_guide/indexing.html#returning-a-view-versus-a-copy\n",
      "  \"\"\"Entry point for launching an IPython kernel.\n"
     ]
    }
   ],
   "source": [
    "purchase['rank_change_purchase']=purchase['mlrRank']-purchase['rank_unbiased']"
   ]
  },
  {
   "cell_type": "code",
   "execution_count": 111,
   "id": "42ab078c-080a-485d-9ee5-6b941e451499",
   "metadata": {},
   "outputs": [
    {
     "data": {
      "text/plain": [
       "(2224, 9)"
      ]
     },
     "execution_count": 111,
     "metadata": {},
     "output_type": "execute_result"
    }
   ],
   "source": [
    "purchase.shape"
   ]
  },
  {
   "cell_type": "code",
   "execution_count": 110,
   "id": "169d2edb-cb9d-49e0-ab45-b0c913e282ab",
   "metadata": {},
   "outputs": [
    {
     "data": {
      "text/plain": [
       "2207"
      ]
     },
     "execution_count": 110,
     "metadata": {},
     "output_type": "execute_result"
    }
   ],
   "source": [
    "purchase.meid.nunique()"
   ]
  },
  {
   "cell_type": "code",
   "execution_count": 157,
   "id": "f90b3924-1138-43d6-8bb7-666197874bd6",
   "metadata": {},
   "outputs": [
    {
     "data": {
      "text/html": [
       "<div>\n",
       "<style scoped>\n",
       "    .dataframe tbody tr th:only-of-type {\n",
       "        vertical-align: middle;\n",
       "    }\n",
       "\n",
       "    .dataframe tbody tr th {\n",
       "        vertical-align: top;\n",
       "    }\n",
       "\n",
       "    .dataframe thead th {\n",
       "        text-align: right;\n",
       "    }\n",
       "</style>\n",
       "<table border=\"1\" class=\"dataframe\">\n",
       "  <thead>\n",
       "    <tr style=\"text-align: right;\">\n",
       "      <th></th>\n",
       "      <th>meid</th>\n",
       "      <th>itemId</th>\n",
       "      <th>label</th>\n",
       "      <th>mlrRank</th>\n",
       "      <th>y_pred</th>\n",
       "      <th>rank_unbiased</th>\n",
       "      <th>rank_change_purchase</th>\n",
       "    </tr>\n",
       "  </thead>\n",
       "  <tbody>\n",
       "    <tr>\n",
       "      <th>1172</th>\n",
       "      <td>b'c58b1e79dfd943f381d7366c419a319e'</td>\n",
       "      <td>165487744403</td>\n",
       "      <td>6</td>\n",
       "      <td>6</td>\n",
       "      <td>-0.398481</td>\n",
       "      <td>3.0</td>\n",
       "      <td>3.0</td>\n",
       "    </tr>\n",
       "    <tr>\n",
       "      <th>3305</th>\n",
       "      <td>b'b33d607410444938b598fd20ca6c70a5'</td>\n",
       "      <td>304764435518</td>\n",
       "      <td>6</td>\n",
       "      <td>1</td>\n",
       "      <td>1.090774</td>\n",
       "      <td>2.0</td>\n",
       "      <td>-1.0</td>\n",
       "    </tr>\n",
       "    <tr>\n",
       "      <th>3872</th>\n",
       "      <td>b'736582f5fc674b169548c9f547f444b2'</td>\n",
       "      <td>204144864985</td>\n",
       "      <td>6</td>\n",
       "      <td>2</td>\n",
       "      <td>0.727310</td>\n",
       "      <td>2.0</td>\n",
       "      <td>0.0</td>\n",
       "    </tr>\n",
       "    <tr>\n",
       "      <th>3873</th>\n",
       "      <td>b'736582f5fc674b169548c9f547f444b2'</td>\n",
       "      <td>155138650725</td>\n",
       "      <td>6</td>\n",
       "      <td>3</td>\n",
       "      <td>0.230287</td>\n",
       "      <td>9.0</td>\n",
       "      <td>-6.0</td>\n",
       "    </tr>\n",
       "    <tr>\n",
       "      <th>3924</th>\n",
       "      <td>b'91394c358a7348ec8cd2ff277c2512c4'</td>\n",
       "      <td>304598665996</td>\n",
       "      <td>6</td>\n",
       "      <td>6</td>\n",
       "      <td>1.563599</td>\n",
       "      <td>3.0</td>\n",
       "      <td>3.0</td>\n",
       "    </tr>\n",
       "    <tr>\n",
       "      <th>...</th>\n",
       "      <td>...</td>\n",
       "      <td>...</td>\n",
       "      <td>...</td>\n",
       "      <td>...</td>\n",
       "      <td>...</td>\n",
       "      <td>...</td>\n",
       "      <td>...</td>\n",
       "    </tr>\n",
       "    <tr>\n",
       "      <th>1926881</th>\n",
       "      <td>b'2b925d1c8b2b43e18f6400e2cce9669c'</td>\n",
       "      <td>195553112917</td>\n",
       "      <td>6</td>\n",
       "      <td>1</td>\n",
       "      <td>0.972419</td>\n",
       "      <td>3.0</td>\n",
       "      <td>-2.0</td>\n",
       "    </tr>\n",
       "    <tr>\n",
       "      <th>1926981</th>\n",
       "      <td>b'919e4b442f6542b8949d5b8e0ce9f329'</td>\n",
       "      <td>266066042485</td>\n",
       "      <td>6</td>\n",
       "      <td>1</td>\n",
       "      <td>3.371333</td>\n",
       "      <td>1.0</td>\n",
       "      <td>0.0</td>\n",
       "    </tr>\n",
       "    <tr>\n",
       "      <th>1927022</th>\n",
       "      <td>b'c55cb045e35e4b9dab6fd3c0088e8cdf'</td>\n",
       "      <td>404089083269</td>\n",
       "      <td>6</td>\n",
       "      <td>2</td>\n",
       "      <td>1.439514</td>\n",
       "      <td>1.0</td>\n",
       "      <td>1.0</td>\n",
       "    </tr>\n",
       "    <tr>\n",
       "      <th>1927256</th>\n",
       "      <td>b'a3d3c940727b493da34d09a6d696d268'</td>\n",
       "      <td>324858378745</td>\n",
       "      <td>6</td>\n",
       "      <td>2</td>\n",
       "      <td>-1.463149</td>\n",
       "      <td>5.0</td>\n",
       "      <td>-3.0</td>\n",
       "    </tr>\n",
       "    <tr>\n",
       "      <th>1927534</th>\n",
       "      <td>b'a2429897b2d24add904ac86615c5217c'</td>\n",
       "      <td>364110131472</td>\n",
       "      <td>6</td>\n",
       "      <td>1</td>\n",
       "      <td>1.431960</td>\n",
       "      <td>1.0</td>\n",
       "      <td>0.0</td>\n",
       "    </tr>\n",
       "  </tbody>\n",
       "</table>\n",
       "<p>2224 rows × 7 columns</p>\n",
       "</div>"
      ],
      "text/plain": [
       "                                        meid        itemId  label  mlrRank  \\\n",
       "1172     b'c58b1e79dfd943f381d7366c419a319e'  165487744403      6        6   \n",
       "3305     b'b33d607410444938b598fd20ca6c70a5'  304764435518      6        1   \n",
       "3872     b'736582f5fc674b169548c9f547f444b2'  204144864985      6        2   \n",
       "3873     b'736582f5fc674b169548c9f547f444b2'  155138650725      6        3   \n",
       "3924     b'91394c358a7348ec8cd2ff277c2512c4'  304598665996      6        6   \n",
       "...                                      ...           ...    ...      ...   \n",
       "1926881  b'2b925d1c8b2b43e18f6400e2cce9669c'  195553112917      6        1   \n",
       "1926981  b'919e4b442f6542b8949d5b8e0ce9f329'  266066042485      6        1   \n",
       "1927022  b'c55cb045e35e4b9dab6fd3c0088e8cdf'  404089083269      6        2   \n",
       "1927256  b'a3d3c940727b493da34d09a6d696d268'  324858378745      6        2   \n",
       "1927534  b'a2429897b2d24add904ac86615c5217c'  364110131472      6        1   \n",
       "\n",
       "           y_pred  rank_unbiased  rank_change_purchase  \n",
       "1172    -0.398481            3.0                   3.0  \n",
       "3305     1.090774            2.0                  -1.0  \n",
       "3872     0.727310            2.0                   0.0  \n",
       "3873     0.230287            9.0                  -6.0  \n",
       "3924     1.563599            3.0                   3.0  \n",
       "...           ...            ...                   ...  \n",
       "1926881  0.972419            3.0                  -2.0  \n",
       "1926981  3.371333            1.0                   0.0  \n",
       "1927022  1.439514            1.0                   1.0  \n",
       "1927256 -1.463149            5.0                  -3.0  \n",
       "1927534  1.431960            1.0                   0.0  \n",
       "\n",
       "[2224 rows x 7 columns]"
      ]
     },
     "execution_count": 157,
     "metadata": {},
     "output_type": "execute_result"
    }
   ],
   "source": [
    "purchase[['meid','itemId','label','mlrRank', 'y_pred','rank_unbiased','rank_change_purchase']]"
   ]
  },
  {
   "cell_type": "code",
   "execution_count": 167,
   "id": "89367025-81a1-44ae-b2ea-e22388293c47",
   "metadata": {},
   "outputs": [
    {
     "data": {
      "text/plain": [
       "0.3346846846846847"
      ]
     },
     "execution_count": 167,
     "metadata": {},
     "output_type": "execute_result"
    }
   ],
   "source": [
    "743/2220"
   ]
  },
  {
   "cell_type": "code",
   "execution_count": 162,
   "id": "8652efaf-6568-40cd-b5a0-74239b70d274",
   "metadata": {},
   "outputs": [
    {
     "data": {
      "text/plain": [
       "(743, 10)"
      ]
     },
     "execution_count": 162,
     "metadata": {},
     "output_type": "execute_result"
    }
   ],
   "source": [
    "purchase[purchase['rank_change_purchase']>0].shape"
   ]
  },
  {
   "cell_type": "code",
   "execution_count": 174,
   "id": "f1a4705a-3db6-4861-abcc-e35050722a98",
   "metadata": {},
   "outputs": [
    {
     "data": {
      "text/html": [
       "<div>\n",
       "<style scoped>\n",
       "    .dataframe tbody tr th:only-of-type {\n",
       "        vertical-align: middle;\n",
       "    }\n",
       "\n",
       "    .dataframe tbody tr th {\n",
       "        vertical-align: top;\n",
       "    }\n",
       "\n",
       "    .dataframe thead th {\n",
       "        text-align: right;\n",
       "    }\n",
       "</style>\n",
       "<table border=\"1\" class=\"dataframe\">\n",
       "  <thead>\n",
       "    <tr style=\"text-align: right;\">\n",
       "      <th></th>\n",
       "      <th>meid</th>\n",
       "      <th>itemId</th>\n",
       "      <th>label</th>\n",
       "      <th>mlrRank</th>\n",
       "      <th>rank_unbiased</th>\n",
       "      <th>rank_change_purchase</th>\n",
       "    </tr>\n",
       "  </thead>\n",
       "  <tbody>\n",
       "    <tr>\n",
       "      <th>1172</th>\n",
       "      <td>b'c58b1e79dfd943f381d7366c419a319e'</td>\n",
       "      <td>165487744403</td>\n",
       "      <td>6</td>\n",
       "      <td>6</td>\n",
       "      <td>3.0</td>\n",
       "      <td>3.0</td>\n",
       "    </tr>\n",
       "    <tr>\n",
       "      <th>3924</th>\n",
       "      <td>b'91394c358a7348ec8cd2ff277c2512c4'</td>\n",
       "      <td>304598665996</td>\n",
       "      <td>6</td>\n",
       "      <td>6</td>\n",
       "      <td>3.0</td>\n",
       "      <td>3.0</td>\n",
       "    </tr>\n",
       "    <tr>\n",
       "      <th>5529</th>\n",
       "      <td>b'fe5e0701fe9048d49c2e7a8c828734d3'</td>\n",
       "      <td>284195835955</td>\n",
       "      <td>6</td>\n",
       "      <td>9</td>\n",
       "      <td>7.0</td>\n",
       "      <td>2.0</td>\n",
       "    </tr>\n",
       "    <tr>\n",
       "      <th>7880</th>\n",
       "      <td>b'd8c40998337c436981a787650e4d452b'</td>\n",
       "      <td>175554344306</td>\n",
       "      <td>6</td>\n",
       "      <td>2</td>\n",
       "      <td>1.0</td>\n",
       "      <td>1.0</td>\n",
       "    </tr>\n",
       "    <tr>\n",
       "      <th>9102</th>\n",
       "      <td>b'ea525e450ed9431890b140dd615dca51'</td>\n",
       "      <td>394413695428</td>\n",
       "      <td>6</td>\n",
       "      <td>4</td>\n",
       "      <td>1.0</td>\n",
       "      <td>3.0</td>\n",
       "    </tr>\n",
       "    <tr>\n",
       "      <th>10179</th>\n",
       "      <td>b'485dfe4bf60a4350b39afaf5fb231806'</td>\n",
       "      <td>394355380109</td>\n",
       "      <td>6</td>\n",
       "      <td>2</td>\n",
       "      <td>1.0</td>\n",
       "      <td>1.0</td>\n",
       "    </tr>\n",
       "    <tr>\n",
       "      <th>17878</th>\n",
       "      <td>b'a287e86360544edfbd54a779aefe0e5a'</td>\n",
       "      <td>182707960943</td>\n",
       "      <td>6</td>\n",
       "      <td>2</td>\n",
       "      <td>1.0</td>\n",
       "      <td>1.0</td>\n",
       "    </tr>\n",
       "    <tr>\n",
       "      <th>19371</th>\n",
       "      <td>b'd0db30b0b5494b4dafccab4e5e994f05'</td>\n",
       "      <td>144843204263</td>\n",
       "      <td>6</td>\n",
       "      <td>7</td>\n",
       "      <td>3.0</td>\n",
       "      <td>4.0</td>\n",
       "    </tr>\n",
       "    <tr>\n",
       "      <th>21821</th>\n",
       "      <td>b'830044e2b7434b4d83310d982254141e'</td>\n",
       "      <td>284317217035</td>\n",
       "      <td>6</td>\n",
       "      <td>5</td>\n",
       "      <td>1.0</td>\n",
       "      <td>4.0</td>\n",
       "    </tr>\n",
       "    <tr>\n",
       "      <th>24738</th>\n",
       "      <td>b'a1afe2d36ef345d3ae667329b70e0cd7'</td>\n",
       "      <td>392975715412</td>\n",
       "      <td>6</td>\n",
       "      <td>5</td>\n",
       "      <td>1.0</td>\n",
       "      <td>4.0</td>\n",
       "    </tr>\n",
       "  </tbody>\n",
       "</table>\n",
       "</div>"
      ],
      "text/plain": [
       "                                      meid        itemId  label  mlrRank  \\\n",
       "1172   b'c58b1e79dfd943f381d7366c419a319e'  165487744403      6        6   \n",
       "3924   b'91394c358a7348ec8cd2ff277c2512c4'  304598665996      6        6   \n",
       "5529   b'fe5e0701fe9048d49c2e7a8c828734d3'  284195835955      6        9   \n",
       "7880   b'd8c40998337c436981a787650e4d452b'  175554344306      6        2   \n",
       "9102   b'ea525e450ed9431890b140dd615dca51'  394413695428      6        4   \n",
       "10179  b'485dfe4bf60a4350b39afaf5fb231806'  394355380109      6        2   \n",
       "17878  b'a287e86360544edfbd54a779aefe0e5a'  182707960943      6        2   \n",
       "19371  b'd0db30b0b5494b4dafccab4e5e994f05'  144843204263      6        7   \n",
       "21821  b'830044e2b7434b4d83310d982254141e'  284317217035      6        5   \n",
       "24738  b'a1afe2d36ef345d3ae667329b70e0cd7'  392975715412      6        5   \n",
       "\n",
       "       rank_unbiased  rank_change_purchase  \n",
       "1172             3.0                   3.0  \n",
       "3924             3.0                   3.0  \n",
       "5529             7.0                   2.0  \n",
       "7880             1.0                   1.0  \n",
       "9102             1.0                   3.0  \n",
       "10179            1.0                   1.0  \n",
       "17878            1.0                   1.0  \n",
       "19371            3.0                   4.0  \n",
       "21821            1.0                   4.0  \n",
       "24738            1.0                   4.0  "
      ]
     },
     "execution_count": 174,
     "metadata": {},
     "output_type": "execute_result"
    }
   ],
   "source": [
    "purchase[purchase['rank_change_purchase']>0]\\\n",
    "[['meid','itemId','label','mlrRank','rank_unbiased','rank_change_purchase']].head(10)"
   ]
  },
  {
   "cell_type": "code",
   "execution_count": 164,
   "id": "59800e14-c9a1-4464-801a-79f8993eca4c",
   "metadata": {},
   "outputs": [
    {
     "data": {
      "text/plain": [
       "2.6971736204576042"
      ]
     },
     "execution_count": 164,
     "metadata": {},
     "output_type": "execute_result"
    }
   ],
   "source": [
    "purchase[purchase['rank_change_purchase']>0]['rank_change_purchase'].mean()"
   ]
  },
  {
   "cell_type": "code",
   "execution_count": 172,
   "id": "5f9d83e5-e40a-4ab5-b9c1-543afc1a0f2a",
   "metadata": {},
   "outputs": [
    {
     "data": {
      "text/plain": [
       "2.0"
      ]
     },
     "execution_count": 172,
     "metadata": {},
     "output_type": "execute_result"
    }
   ],
   "source": [
    "purchase[purchase['rank_change_purchase']>0]['rank_change_purchase'].quantile(0.5)"
   ]
  },
  {
   "cell_type": "code",
   "execution_count": 121,
   "id": "30819d66-9555-492f-a046-95000101794f",
   "metadata": {},
   "outputs": [],
   "source": [
    "purchase_rank=purchase.groupby('mlrRank')['label'].count().to_frame().reset_index() "
   ]
  },
  {
   "cell_type": "code",
   "execution_count": 122,
   "id": "d1efe957-d880-4cf2-aeb2-bbe44c634908",
   "metadata": {},
   "outputs": [
    {
     "data": {
      "text/plain": [
       "mlrRank     154\n",
       "label      2224\n",
       "dtype: int64"
      ]
     },
     "execution_count": 122,
     "metadata": {},
     "output_type": "execute_result"
    }
   ],
   "source": [
    "purchase_rank.sum()"
   ]
  },
  {
   "cell_type": "code",
   "execution_count": 123,
   "id": "34594c4c-e044-476c-ba45-a8d468c013b2",
   "metadata": {},
   "outputs": [],
   "source": [
    "purchase_rank=purchase_rank[purchase_rank['mlrRank']<=10].copy()"
   ]
  },
  {
   "cell_type": "code",
   "execution_count": 132,
   "id": "0bd43831-9938-4652-9940-a8117fa4c6ec",
   "metadata": {},
   "outputs": [
    {
     "data": {
      "text/plain": [
       "2204"
      ]
     },
     "execution_count": 132,
     "metadata": {},
     "output_type": "execute_result"
    }
   ],
   "source": [
    "purchase[purchase['mlrRank']<=10].meid.nunique()"
   ]
  },
  {
   "cell_type": "code",
   "execution_count": 133,
   "id": "307cc612-7832-4d3c-bcf5-5528d62d91e3",
   "metadata": {},
   "outputs": [
    {
     "data": {
      "text/plain": [
       "mlrRank                        55.0\n",
       "label                        2220.0\n",
       "%purchases                    100.0\n",
       "%cumulative_sum_purchases     816.0\n",
       "dtype: float64"
      ]
     },
     "execution_count": 133,
     "metadata": {},
     "output_type": "execute_result"
    }
   ],
   "source": [
    "purchase_rank.sum()"
   ]
  },
  {
   "cell_type": "code",
   "execution_count": 125,
   "id": "6184f926-dbbd-46aa-a9e0-e869c1dda2e2",
   "metadata": {},
   "outputs": [],
   "source": [
    "purchase_rank['%purchases']=(purchase_rank['label']/purchase_rank['label'].sum()*100).round(0)"
   ]
  },
  {
   "cell_type": "code",
   "execution_count": 126,
   "id": "14cb95b3-f345-4ff3-a329-ee137ce2df76",
   "metadata": {},
   "outputs": [],
   "source": [
    "purchase_rank['%cumulative_sum_purchases']=purchase_rank['%purchases'].cumsum()"
   ]
  },
  {
   "cell_type": "code",
   "execution_count": 127,
   "id": "3b1f80c2-233d-40ec-93d8-86e318522d59",
   "metadata": {},
   "outputs": [
    {
     "data": {
      "text/html": [
       "<div>\n",
       "<style scoped>\n",
       "    .dataframe tbody tr th:only-of-type {\n",
       "        vertical-align: middle;\n",
       "    }\n",
       "\n",
       "    .dataframe tbody tr th {\n",
       "        vertical-align: top;\n",
       "    }\n",
       "\n",
       "    .dataframe thead th {\n",
       "        text-align: right;\n",
       "    }\n",
       "</style>\n",
       "<table border=\"1\" class=\"dataframe\">\n",
       "  <thead>\n",
       "    <tr style=\"text-align: right;\">\n",
       "      <th></th>\n",
       "      <th>mlrRank</th>\n",
       "      <th>label</th>\n",
       "      <th>%purchases</th>\n",
       "      <th>%cumulative_sum_purchases</th>\n",
       "    </tr>\n",
       "  </thead>\n",
       "  <tbody>\n",
       "    <tr>\n",
       "      <th>0</th>\n",
       "      <td>1</td>\n",
       "      <td>928</td>\n",
       "      <td>42.0</td>\n",
       "      <td>42.0</td>\n",
       "    </tr>\n",
       "    <tr>\n",
       "      <th>1</th>\n",
       "      <td>2</td>\n",
       "      <td>497</td>\n",
       "      <td>22.0</td>\n",
       "      <td>64.0</td>\n",
       "    </tr>\n",
       "    <tr>\n",
       "      <th>2</th>\n",
       "      <td>3</td>\n",
       "      <td>196</td>\n",
       "      <td>9.0</td>\n",
       "      <td>73.0</td>\n",
       "    </tr>\n",
       "    <tr>\n",
       "      <th>3</th>\n",
       "      <td>4</td>\n",
       "      <td>156</td>\n",
       "      <td>7.0</td>\n",
       "      <td>80.0</td>\n",
       "    </tr>\n",
       "    <tr>\n",
       "      <th>4</th>\n",
       "      <td>5</td>\n",
       "      <td>117</td>\n",
       "      <td>5.0</td>\n",
       "      <td>85.0</td>\n",
       "    </tr>\n",
       "    <tr>\n",
       "      <th>5</th>\n",
       "      <td>6</td>\n",
       "      <td>81</td>\n",
       "      <td>4.0</td>\n",
       "      <td>89.0</td>\n",
       "    </tr>\n",
       "    <tr>\n",
       "      <th>6</th>\n",
       "      <td>7</td>\n",
       "      <td>72</td>\n",
       "      <td>3.0</td>\n",
       "      <td>92.0</td>\n",
       "    </tr>\n",
       "    <tr>\n",
       "      <th>7</th>\n",
       "      <td>8</td>\n",
       "      <td>53</td>\n",
       "      <td>2.0</td>\n",
       "      <td>94.0</td>\n",
       "    </tr>\n",
       "    <tr>\n",
       "      <th>8</th>\n",
       "      <td>9</td>\n",
       "      <td>64</td>\n",
       "      <td>3.0</td>\n",
       "      <td>97.0</td>\n",
       "    </tr>\n",
       "    <tr>\n",
       "      <th>9</th>\n",
       "      <td>10</td>\n",
       "      <td>56</td>\n",
       "      <td>3.0</td>\n",
       "      <td>100.0</td>\n",
       "    </tr>\n",
       "  </tbody>\n",
       "</table>\n",
       "</div>"
      ],
      "text/plain": [
       "   mlrRank  label  %purchases  %cumulative_sum_purchases\n",
       "0        1    928        42.0                       42.0\n",
       "1        2    497        22.0                       64.0\n",
       "2        3    196         9.0                       73.0\n",
       "3        4    156         7.0                       80.0\n",
       "4        5    117         5.0                       85.0\n",
       "5        6     81         4.0                       89.0\n",
       "6        7     72         3.0                       92.0\n",
       "7        8     53         2.0                       94.0\n",
       "8        9     64         3.0                       97.0\n",
       "9       10     56         3.0                      100.0"
      ]
     },
     "execution_count": 127,
     "metadata": {},
     "output_type": "execute_result"
    }
   ],
   "source": [
    "purchase_rank"
   ]
  },
  {
   "cell_type": "code",
   "execution_count": 128,
   "id": "8fce2d77-5863-4d0a-96db-77f43f8da6c2",
   "metadata": {},
   "outputs": [
    {
     "data": {
      "image/png": "[encoded data removed]",
      "text/plain": [
       "<Figure size 432x288 with 1 Axes>"
      ]
     },
     "metadata": {
      "needs_background": "light"
     },
     "output_type": "display_data"
    }
   ],
   "source": [
    "ax = purchase_rank.plot.bar(x='mlrRank', y='%purchases', rot=0)"
   ]
  },
  {
   "cell_type": "code",
   "execution_count": 148,
   "id": "9bd786d2-eda6-41d7-bd3d-9614fbd76cb5",
   "metadata": {},
   "outputs": [],
   "source": [
    "rank_change_purchase=purchase['mlrRank']-purchase['rank_unbiased']"
   ]
  },
  {
   "cell_type": "code",
   "execution_count": 150,
   "id": "3c20e736-4aee-4acd-94db-639f5b68272a",
   "metadata": {},
   "outputs": [
    {
     "data": {
      "text/plain": [
       "1172       3.0\n",
       "3305      -1.0\n",
       "3872       0.0\n",
       "3873      -6.0\n",
       "3924       3.0\n",
       "          ... \n",
       "1926881   -2.0\n",
       "1926981    0.0\n",
       "1927022    1.0\n",
       "1927256   -3.0\n",
       "1927534    0.0\n",
       "Length: 2224, dtype: float64"
      ]
     },
     "execution_count": 150,
     "metadata": {},
     "output_type": "execute_result"
    }
   ],
   "source": [
    "rank_change_purchase"
   ]
  },
  {
   "cell_type": "code",
   "execution_count": 149,
   "id": "5fd7e169-83bf-4c3f-a06c-2c57219241d9",
   "metadata": {},
   "outputs": [
    {
     "data": {
      "text/plain": [
       "0.44919064748201437"
      ]
     },
     "execution_count": 149,
     "metadata": {},
     "output_type": "execute_result"
    }
   ],
   "source": [
    "rank_change_purchase.mean()"
   ]
  },
  {
   "cell_type": "code",
   "execution_count": 151,
   "id": "38af7cb5-9789-48d3-abae-8459bc196718",
   "metadata": {},
   "outputs": [
    {
     "data": {
      "text/plain": [
       "0.0"
      ]
     },
     "execution_count": 151,
     "metadata": {},
     "output_type": "execute_result"
    }
   ],
   "source": [
    "rank_change_purchase.quantile(0.5)"
   ]
  },
  {
   "cell_type": "code",
   "execution_count": 158,
   "id": "0d3ffb83-b21f-4577-a29b-fe5f6fab3f01",
   "metadata": {},
   "outputs": [
    {
     "data": {
      "text/plain": [
       "1.0"
      ]
     },
     "execution_count": 158,
     "metadata": {},
     "output_type": "execute_result"
    }
   ],
   "source": [
    "rank_change_purchase.quantile(0.75)"
   ]
  },
  {
   "cell_type": "code",
   "execution_count": 159,
   "id": "cc09ee52-a111-445a-ba9f-5d21d53210b3",
   "metadata": {},
   "outputs": [
    {
     "data": {
      "text/plain": [
       "5.0"
      ]
     },
     "execution_count": 159,
     "metadata": {},
     "output_type": "execute_result"
    }
   ],
   "source": [
    "rank_change_purchase.quantile(0.95)"
   ]
  },
  {
   "cell_type": "code",
   "execution_count": null,
   "id": "ea77018c-3450-4a25-add8-a74a086f96d7",
   "metadata": {},
   "outputs": [],
   "source": []
  }
 ],
 "metadata": {
  "kernelspec": {
   "display_name": "Python 3 (ipykernel)",
   "language": "python",
   "name": "python3"
  },
  "language_info": {
   "codemirror_mode": {
    "name": "ipython",
    "version": 3
   },
   "file_extension": ".py",
   "mimetype": "text/x-python",
   "name": "python",
   "nbconvert_exporter": "python",
   "pygments_lexer": "ipython3",
   "version": "3.7.10"
  }
 },
 "nbformat": 4,
 "nbformat_minor": 5
}
