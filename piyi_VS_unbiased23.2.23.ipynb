{
 "cells": [
  {
   "cell_type": "code",
   "execution_count": 1,
   "id": "01d621a9-f345-4941-a2e9-780e91835a2b",
   "metadata": {},
   "outputs": [],
   "source": [
    "    \n",
    "import pandas as pd\n",
    "import numpy as np\n",
    "import xgboost as xgb\n",
    "from sklearn.feature_selection import GenericUnivariateSelect, chi2, f_classif\n",
    "from sklearn.model_selection import train_test_split,  GroupShuffleSplit\n",
    "import pathlib\n",
    "from datetime import datetime\n",
    "import os"
   ]
  },
  {
   "cell_type": "code",
   "execution_count": null,
   "id": "81b1229e-9784-4187-bca4-e220795367ed",
   "metadata": {},
   "outputs": [],
   "source": [
    "!pwd"
   ]
  },
  {
   "cell_type": "code",
   "execution_count": null,
   "id": "b95891b4-688d-49c4-9bb5-4ab0f3f6a8e7",
   "metadata": {},
   "outputs": [],
   "source": [
    "!cp -r /data/shpx/notebooks/ozinman/seller_reco/offline_metrics_based_prepped_data/simpylex /data/shpx/notebooks/olivyatan/Unbiasing"
   ]
  },
  {
   "cell_type": "markdown",
   "id": "01c74ddd-9713-4ffa-8d29-ea84e16a3e10",
   "metadata": {},
   "source": [
    "#### Data of piyi v7 multilabel unbiased run: "
   ]
  },
  {
   "cell_type": "code",
   "execution_count": null,
   "id": "a9cb0d2e-7e24-435b-8d9d-bbb0fc75ca17",
   "metadata": {},
   "outputs": [],
   "source": [
    "import pickle\n",
    "import numpy as np\n",
    "import pandas as pd\n",
    "# link od model run: https://github.ebay.com/olivyatan/treeplex/tree/krylov_week07_20230213180248_Monday/htmls/piyi_v7_unbiased \n",
    "file = open(f'/data/shpx/data/olivyatan/week07_20230213180248_Monday/prep/piyi_v7_unbiased_prepped_data', 'rb')\n",
    "# dump information to that file\n",
    "prepped_data = pickle.load(file)\n",
    "file.close()"
   ]
  },
  {
   "cell_type": "code",
   "execution_count": 7,
   "id": "5525227a-9459-4fde-a16d-33e6e388c47b",
   "metadata": {
    "scrolled": true,
    "tags": []
   },
   "outputs": [
    {
     "name": "stdout",
     "output_type": "stream",
     "text": [
      "017aa70d-e359-4413-b138-d8bf228aea84\n",
      "021edcc5-98df-4f73-92a0-fec53111e359\n",
      "044b771e-2cee-4112-a84c-6674543ac414\n",
      "08233130-24fc-4d37-be6c-109374e63d29\n",
      "103649f2-46ec-4481-a89b-e3c5b1609f0b\n",
      "1f210db8-b539-4c44-8d51-963b0fdbbe18\n",
      "322b6b6c-bd20-42a6-bf07-6d91d1581ed3\n",
      "32b97b73-6d76-4454-a3eb-56b98ebfab9f\n",
      "33700781-3ce8-42d4-8ffc-90c3d555e2c4\n",
      "3bf79e1b-d94b-4d25-9376-fb22efc5e4a9\n",
      "40014b10-1b2d-4517-b588-f3974c4c339b\n",
      "4b6c9352-0dbb-4573-9109-b0f5a76e6a31\n",
      "4fd657ce-7e9d-4bce-b788-d908ae144313\n",
      "5539f3e8-0cd1-41ad-8fcd-1a85952a4c3b\n",
      "5553d758-5178-4d73-8001-78f99cb37daa\n",
      "579c649e-6b8b-4ab9-8f92-196d42f87027\n",
      "5e63a5b1-5448-453f-8997-342189e5ad80\n",
      "6372ef2c-b1f1-4dae-b471-a264c1c98f49\n",
      "6407e2f5-c026-49eb-9d30-38a684a77a13\n",
      "65fb67b3-776e-4098-8fff-63e487b86211\n",
      "72a20269-2f91-49f4-86c7-3db083b6874c\n",
      "73405b2a-fe93-4329-a6ea-4a5e553d3b79\n",
      "73f0a6b6-c566-49bf-9c83-518b8adc40db\n",
      "8046d92e-d154-43f3-8538-b4db023de409\n",
      "81b53937-e0f7-4a7f-af32-0ede581c8be2\n",
      "87064c5e-1090-4825-be56-21a869df0f32\n",
      "8d860dc4-b404-4950-a2f0-4ba28ca44106\n",
      "908a3027-2e5f-410f-bace-354aafe69ad2\n",
      "9ae9ce6a-e221-411a-bcca-86b95b50921a\n",
      "a621f2e1-5ca0-49f8-b8df-1c1e1b898acb\n",
      "a9032f3b-7dc7-434d-a31a-7750f2c7992c\n",
      "ac8093df-bcec-415d-aded-0b9cf422804a\n",
      "b3ac8bae-1fa8-4ed3-8e9f-96c6328c57ca\n",
      "b6be1ee1-771a-455b-b423-c2121abc75d3\n",
      "b9fa257f-f770-409e-b189-a7a3d806ee9c\n",
      "ca236d6a-68eb-4d69-b854-1216120e27ff\n",
      "cb99a2e3-f64d-4b15-8dd4-ff6e65d0581e\n",
      "d8db3a1f-6d15-45b6-9a8a-e08ca490d4cd\n",
      "da606fcd-d70e-40f9-ac2c-e021cc64aa97\n",
      "df_hb_eligble_6m_dedup.parquet\n",
      "df_pa_dedup.parquet\n",
      "df_pa_users_vehicle.parquet\n",
      "dfaa54d3-9166-40ea-a391-e504814c3d24\n",
      "e8bb68e2-aa97-4e92-a0f5-252b02475e86\n",
      "e9434d93-8e36-4404-aede-41ca023e5627\n",
      "f86c41e2-4567-483f-b7f2-2d96e2177fee\n",
      "f9ddd12e-5dae-48d9-af93-18636dcb2e67\n",
      "fa71c668-046e-4f14-8db6-208aa797cebd\n",
      "hb_67m_151021_150515_allfeat.parquet\n",
      "hb_6m_151021_150422_allfeat.parquet\n",
      "hb_6m_645Features_removeredundant.parquet\n",
      "hb_data_15.10_21_22_dedup.parquet\n",
      "hb_testdata_2w_15.4april_dedup.parquet\n",
      "hp_1w_080123_140123_allcat.parquet\n",
      "hp_6m_660Features_removeredundant.parquet\n",
      "hp_data_april_dedup.parquet\n",
      "hp_test_165-166_dedup.parquet\n",
      "pa\n",
      "pa_1m_150422_150522_allfeat.parquet\n",
      "pa_6m_645Features_removeredundant.parquet\n",
      "pa_data.parquet\n",
      "pa_data_15.10_21_22.parquet\n",
      "pa_data_15.10_21_22_dedup.parquet\n",
      "pa_data_15.10_21_22_sample.parquet\n",
      "pa_data_april_mai_22_dedup.parquet\n",
      "pdf_hp_sneakers_171122_220123.parquet\n",
      "piyi\n",
      "simplex\n",
      "simplex-java\n",
      "sneakers_us_2w_150123_290123_allfeat.parquet\n",
      "snkrs_1m_171122_161222_allfeat.parquet\n",
      "snkrs_1m_24_25072022_allfeat.parquet\n",
      "snkrs_2m_171122_050123_allfeat.parquet\n",
      "snkrs_2m_171122_140123_allfeat.parquet\n",
      "snkrs_2w_050123_180123_allfeat.parquet\n",
      "snkrs_50%hp_171122_220123.parquet\n",
      "snkrs_hp_171122_220123.parquet\n",
      "tmp\n",
      "tuning.log\n",
      "week01_20230105193924_Thursday\n",
      "week02_20230108111936_Sunday\n",
      "week02_20230108145251_Sunday\n",
      "week03_20230115104704_Sunday\n",
      "week03_20230115111144_Sunday\n",
      "week05_20230129115411_Sunday\n",
      "week05_20230129120843_Sunday\n",
      "week05_20230129142640_Sunday\n",
      "week05_20230129145146_Sunday\n",
      "week05_20230130105521_Monday\n",
      "week05_20230131150755_Tuesday\n",
      "week05_20230131153306_Tuesday\n",
      "week05_20230131162248_Tuesday\n",
      "week05_20230201135517_Wednesday\n",
      "week05_20230201153431_Wednesday\n",
      "week05_20230202140738_Thursday\n",
      "week05_20230202141117_Thursday\n",
      "week07_20230213150556_Monday\n",
      "week07_20230213150858_Monday\n",
      "week07_20230213163129_Monday\n",
      "week07_20230213163622_Monday\n",
      "week07_20230213165047_Monday\n",
      "week07_20230213165150_Monday\n",
      "week07_20230213165345_Monday\n",
      "week07_20230213170700_Monday\n",
      "week07_20230213171909_Monday\n",
      "week07_20230213175714_Monday\n",
      "week07_20230213180248_Monday\n",
      "week07_20230213180747_Monday\n",
      "week07_20230213182646_Monday\n",
      "week07_20230213182950_Monday\n",
      "week07_20230214115936_Tuesday\n",
      "week07_20230214130555_Tuesday\n",
      "week07_20230214171134_Tuesday\n",
      "week07_20230215130833_Wednesday\n",
      "week07_20230215163544_Wednesday\n",
      "week07_20230216164204_Thursday\n",
      "week14_20220404132824_Monday\n",
      "week14_20220406095923_Wednesday\n",
      "week14_20220406121123_Wednesday\n",
      "week19_20220510104357_Tuesday\n",
      "week21_20220526201451_Thursday\n",
      "week51_20221218121807_Sunday\n",
      "week51_20221218122310_Sunday\n",
      "week51_20221218131302_Sunday\n",
      "week51_20221218133517_Sunday\n",
      "week51_20221218173545_Sunday\n",
      "week51_20221220120511_Tuesday\n",
      "week51_20221220122524_Tuesday\n",
      "week51_20221220122819_Tuesday\n",
      "week51_20221220123337_Tuesday\n",
      "week51_20221220154904_Tuesday\n",
      "week51_20221221161303_Wednesday\n",
      "week51_20221221164241_Wednesday\n",
      "week52_20221229133427_Thursday\n",
      "week52_20221229141347_Thursday\n"
     ]
    }
   ],
   "source": [
    "!ls  /data/shpx/data/olivyatan/\n",
    "# to see model run\": week07_20230213180248_Monday "
   ]
  },
  {
   "cell_type": "code",
   "execution_count": 5,
   "id": "54c2d42e-b4b7-4e34-8e75-42cde42bdcab",
   "metadata": {},
   "outputs": [
    {
     "name": "stdout",
     "output_type": "stream",
     "text": [
      "/data/shpx/data/olivyatan/week07_20230213180248_Monday/prep/piyi_v7_unbiased_prepped_data\n"
     ]
    }
   ],
   "source": [
    "!ls  /data/shpx/data/olivyatan/week07_20230213180248_Monday/prep/piyi_v7_unbiased_prepped_data\n",
    "#location of the rin itself"
   ]
  },
  {
   "cell_type": "code",
   "execution_count": 6,
   "id": "1d535cc1-28c0-416b-ad9a-b18274393f52",
   "metadata": {},
   "outputs": [
    {
     "name": "stdout",
     "output_type": "stream",
     "text": [
      "calibration_params.json\n",
      "simplex_piyi_v7_unbiased_week07_20230213165511_Monday.pkl\n",
      "simplex_piyi_v7_unbiased_week07_20230213165511_Monday.pkl_parameters.log\n"
     ]
    }
   ],
   "source": [
    "!ls  /data/shpx/data/olivyatan//week07_20230213180248_Monday/simplex_models/"
   ]
  },
  {
   "cell_type": "code",
   "execution_count": 1,
   "id": "139e44d6-0f81-43a1-8587-4de94f86d5a6",
   "metadata": {},
   "outputs": [
    {
     "name": "stdout",
     "output_type": "stream",
     "text": [
      "/data/shpx/data/olivyatan//week07_20230213180248_Monday/simplex_models/simplex_piyi_v7_unbiased_week07_20230213165511_Monday.pkl\n"
     ]
    }
   ],
   "source": [
    "!ls  /data/shpx/data/olivyatan//week07_20230213180248_Monday/simplex_models/simplex_piyi_v7_unbiased_week07_20230213165511_Monday.pkl"
   ]
  },
  {
   "cell_type": "markdown",
   "id": "d54d9b74-7b92-4e95-a2e6-b4d83af59502",
   "metadata": {},
   "source": [
    "#### Data of piyi v7 biased:"
   ]
  },
  {
   "cell_type": "raw",
   "id": "12489bc7-2e8e-4d54-ba78-62993d68a5a7",
   "metadata": {},
   "source": [
    "https://github.ebay.com/olivyatan/treeplex/tree/krylov_week07_20230213175714_Monday/htmls/piyi_v7 \n",
    "link to model run result"
   ]
  },
  {
   "cell_type": "code",
   "execution_count": 10,
   "id": "5b387d1b-52cf-4628-b0cc-2fb36a285616",
   "metadata": {},
   "outputs": [
    {
     "name": "stdout",
     "output_type": "stream",
     "text": [
      "/data/shpx/data/olivyatan/week07_20230213175714_Monday/simplex_models/simplex_piyi_v7_week07_20230213163652_Monday.pkl\n"
     ]
    }
   ],
   "source": [
    "!ls  /data/shpx/data/olivyatan/week07_20230213175714_Monday/simplex_models/simplex_piyi_v7_week07_20230213163652_Monday.pkl"
   ]
  },
  {
   "cell_type": "code",
   "execution_count": 8,
   "id": "d1b667c1-4f00-4fb7-992b-a1e9adc8635f",
   "metadata": {},
   "outputs": [
    {
     "name": "stdout",
     "output_type": "stream",
     "text": [
      "/data/shpx/data/olivyatan/week07_20230213175714_Monday/prep/piyi_v7_prepped_data\n"
     ]
    }
   ],
   "source": [
    "!ls  /data/shpx/data/olivyatan/week07_20230213175714_Monday/prep/piyi_v7_prepped_data"
   ]
  },
  {
   "cell_type": "raw",
   "id": "421b55a7-ff1f-4cd2-baf5-09a90a06ac6a",
   "metadata": {},
   "source": [
    "rsync:"
   ]
  },
  {
   "cell_type": "code",
   "execution_count": null,
   "id": "160fa7cd-f56c-4ef9-96fd-ee66881428ef",
   "metadata": {},
   "outputs": [],
   "source": [
    "rsync -avzh --progress kry45:/data/shpx/data/olivyatan/week07_20230213180248_Monday/simplex_models/simplex_piyi_v7_week07_20230213163652_Monday.pkl .\n"
   ]
  },
  {
   "cell_type": "code",
   "execution_count": 3,
   "id": "7cfaa195-fdaf-41bc-a431-e127522b93bc",
   "metadata": {},
   "outputs": [],
   "source": [
    "import pickle\n",
    "import numpy as np\n",
    "\n",
    "import pandas as pd\n",
    "# link of piyi v7 multilabel model run: https://github.ebay.com/olivyatan/treeplex/tree/krylov_week07_20230213175714_Monday/htmls/piyi_v7\n",
    "file = open(f'/data/shpx/data/olivyatan/week07_20230213175714_Monday/prep/piyi_v7_prepped_data', 'rb')\n",
    "# dump information to that file\n",
    "prepped_data_v7 = pickle.load(file)\n",
    "file.close()"
   ]
  },
  {
   "cell_type": "code",
   "execution_count": 4,
   "id": "24452acb-f54a-40ff-b803-1a570c68c9f3",
   "metadata": {},
   "outputs": [],
   "source": [
    "pdf_v7 = pd.DataFrame(prepped_data_v7.hold_out)"
   ]
  },
  {
   "cell_type": "code",
   "execution_count": 35,
   "id": "69d0019b-f149-4728-84a6-c3bcbcb8b091",
   "metadata": {},
   "outputs": [
    {
     "data": {
      "text/plain": [
       "False"
      ]
     },
     "execution_count": 35,
     "metadata": {},
     "output_type": "execute_result"
    }
   ],
   "source": [
    "pdf_v7['meid'].equals(pdf['meid'])"
   ]
  },
  {
   "cell_type": "code",
   "execution_count": 36,
   "id": "928d8575-e8ea-4681-bfa8-eb25dfdf0fe7",
   "metadata": {},
   "outputs": [
    {
     "data": {
      "text/plain": [
       "True"
      ]
     },
     "execution_count": 36,
     "metadata": {},
     "output_type": "execute_result"
    }
   ],
   "source": [
    "set(pdf_v7['meid'].tolist()) == set(pdf['meid'].tolist())"
   ]
  },
  {
   "cell_type": "code",
   "execution_count": 37,
   "id": "0ccd5e5c-c1e2-45da-820f-10fe35b53dec",
   "metadata": {},
   "outputs": [
    {
     "data": {
      "text/plain": [
       "True"
      ]
     },
     "execution_count": 37,
     "metadata": {},
     "output_type": "execute_result"
    }
   ],
   "source": [
    "set(pdf_v7['itemId'].tolist()) == set(pdf['itemId'].tolist())"
   ]
  },
  {
   "cell_type": "code",
   "execution_count": 38,
   "id": "0898a14c-0d6a-471a-9f08-0753168c4b22",
   "metadata": {},
   "outputs": [
    {
     "data": {
      "text/plain": [
       "True"
      ]
     },
     "execution_count": 38,
     "metadata": {},
     "output_type": "execute_result"
    }
   ],
   "source": [
    "set(pdf_v7['label'].tolist()) == set(pdf['label'].tolist())"
   ]
  },
  {
   "cell_type": "code",
   "execution_count": 39,
   "id": "7b7d044c-118d-4c67-ba5d-e8cde928d34a",
   "metadata": {},
   "outputs": [
    {
     "data": {
      "text/plain": [
       "False"
      ]
     },
     "execution_count": 39,
     "metadata": {},
     "output_type": "execute_result"
    }
   ],
   "source": [
    "pdf_v7['label'].tolist() == pdf['label'].tolist()"
   ]
  },
  {
   "cell_type": "code",
   "execution_count": 8,
   "id": "81b08c8e-98d4-464e-ba3e-67ee8f6040c4",
   "metadata": {},
   "outputs": [
    {
     "data": {
      "text/plain": [
       "<simpylex.preprocessing.prep_data.PrepData at 0x7fe5382f3610>"
      ]
     },
     "execution_count": 8,
     "metadata": {},
     "output_type": "execute_result"
    }
   ],
   "source": [
    "prepped_data"
   ]
  },
  {
   "cell_type": "code",
   "execution_count": 3,
   "id": "b82bfbfe-fd45-40e9-a155-c0b7fd395809",
   "metadata": {},
   "outputs": [
    {
     "data": {
      "text/plain": [
       "(array([0, 1, 2, 3, 4, 5, 6], dtype=int32),\n",
       " array([1665778,  242473,   14370,    2290,     354,     124,    2224]))"
      ]
     },
     "execution_count": 3,
     "metadata": {},
     "output_type": "execute_result"
    }
   ],
   "source": [
    "np.unique(prepped_data.y_test, return_counts=True)"
   ]
  },
  {
   "cell_type": "code",
   "execution_count": 5,
   "id": "eca7df39-a1da-443c-b15d-42a123f2e08f",
   "metadata": {},
   "outputs": [
    {
     "data": {
      "text/plain": [
       "1927613"
      ]
     },
     "execution_count": 5,
     "metadata": {},
     "output_type": "execute_result"
    }
   ],
   "source": [
    "len(prepped_data.y_test)"
   ]
  },
  {
   "cell_type": "code",
   "execution_count": 4,
   "id": "6d240816-5620-4175-a623-957e49ffd62b",
   "metadata": {},
   "outputs": [
    {
     "data": {
      "text/plain": [
       "(1927613, 33)"
      ]
     },
     "execution_count": 4,
     "metadata": {},
     "output_type": "execute_result"
    }
   ],
   "source": [
    "prepped_data.X_test.shape"
   ]
  },
  {
   "cell_type": "code",
   "execution_count": 10,
   "id": "60611d22-a3de-4a51-b7d4-815133adbfc4",
   "metadata": {
    "scrolled": true,
    "tags": []
   },
   "outputs": [
    {
     "data": {
      "text/plain": [
       "['X_test',\n",
       " 'X_test_for_calibration',\n",
       " 'X_test_sample_weight',\n",
       " 'X_test_sample_weight_eval',\n",
       " 'X_train',\n",
       " 'X_train_sample_weight',\n",
       " 'X_train_sample_weight_eval',\n",
       " '__class__',\n",
       " '__delattr__',\n",
       " '__dict__',\n",
       " '__dir__',\n",
       " '__doc__',\n",
       " '__eq__',\n",
       " '__format__',\n",
       " '__ge__',\n",
       " '__getattribute__',\n",
       " '__gt__',\n",
       " '__hash__',\n",
       " '__init__',\n",
       " '__init_subclass__',\n",
       " '__le__',\n",
       " '__lt__',\n",
       " '__module__',\n",
       " '__ne__',\n",
       " '__new__',\n",
       " '__reduce__',\n",
       " '__reduce_ex__',\n",
       " '__repr__',\n",
       " '__setattr__',\n",
       " '__sizeof__',\n",
       " '__str__',\n",
       " '__subclasshook__',\n",
       " '__weakref__',\n",
       " 'apply_column_filters',\n",
       " 'apply_data_filters',\n",
       " 'apply_filters',\n",
       " 'compute_event_rate',\n",
       " 'compute_multi_label_event_rate',\n",
       " 'construct_label_array',\n",
       " 'event_rate',\n",
       " 'extract_schema',\n",
       " 'extract_weights',\n",
       " 'filter_examples',\n",
       " 'force_contiguous',\n",
       " 'get_eval_weights',\n",
       " 'get_event_rates',\n",
       " 'get_label_column',\n",
       " 'group_hold_out',\n",
       " 'group_train',\n",
       " 'hold_out',\n",
       " 'mem_usage',\n",
       " 'raw_event_rate',\n",
       " 'sample_data',\n",
       " 'schema',\n",
       " 'set_click_propensities',\n",
       " 'set_up_logger',\n",
       " 'split_train_test',\n",
       " 'train_dataset',\n",
       " 'train_holdout_split_with_partition',\n",
       " 'validate_data',\n",
       " 'y_test',\n",
       " 'y_test_for_calibration',\n",
       " 'y_train']"
      ]
     },
     "execution_count": 10,
     "metadata": {},
     "output_type": "execute_result"
    }
   ],
   "source": [
    "dir(prepped_data)"
   ]
  },
  {
   "cell_type": "code",
   "execution_count": 6,
   "id": "31bad154-d0cd-42b2-8749-ad9d6ee3a3c8",
   "metadata": {},
   "outputs": [
    {
     "data": {
      "text/plain": [
       "5850216184"
      ]
     },
     "execution_count": 6,
     "metadata": {},
     "output_type": "execute_result"
    }
   ],
   "source": [
    "prepped_data.mem_usage"
   ]
  },
  {
   "cell_type": "code",
   "execution_count": 7,
   "id": "6a181e79-7bb2-48c5-b235-5fb6fb14ec7c",
   "metadata": {},
   "outputs": [
    {
     "data": {
      "text/plain": [
       "array([1., 1., 1., ..., 1., 1., 1.], dtype=float32)"
      ]
     },
     "execution_count": 7,
     "metadata": {},
     "output_type": "execute_result"
    }
   ],
   "source": [
    "prepped_data.X_test_sample_weight"
   ]
  },
  {
   "cell_type": "code",
   "execution_count": 8,
   "id": "b4a5e597-749e-420f-b631-be7270b98e26",
   "metadata": {
    "scrolled": true,
    "tags": []
   },
   "outputs": [
    {
     "data": {
      "text/plain": [
       "array([ 0.420534  ,  0.5568509 ,  0.63525075,  0.63771963,  0.6405908 ,\n",
       "        0.6932791 ,  0.7818593 ,  0.82777905,  0.87078625,  0.88848084,\n",
       "        0.9129124 ,  0.9153468 ,  0.933552  ,  0.9442985 ,  0.9458925 ,\n",
       "        0.94967794,  0.9522477 ,  0.9545896 ,  0.955105  ,  0.9586939 ,\n",
       "        0.95942634,  0.9636964 ,  0.96699977,  0.9703532 ,  0.9775687 ,\n",
       "        0.97761095,  0.9984952 ,  1.        ,  1.0170945 ,  1.0385801 ,\n",
       "        1.0407873 ,  1.0512642 ,  1.0711716 ,  1.0857247 ,  1.0946076 ,\n",
       "        1.1048454 ,  1.1054703 ,  1.1068069 ,  1.1071949 ,  1.113889  ,\n",
       "        1.1227758 ,  1.1443181 ,  1.15719   ,  1.1657927 ,  1.1696985 ,\n",
       "        1.1827197 ,  1.1941738 ,  1.222866  ,  1.3013855 ,  1.4192955 ,\n",
       "        1.4381298 ,  1.5118873 ,  1.5607082 ,  1.5731978 ,  1.5907905 ,\n",
       "        1.7094122 ,  1.7464522 ,  1.7751218 ,  1.8270276 ,  1.8280367 ,\n",
       "        1.8292229 ,  1.9262638 ,  1.9875515 ,  2.0004961 ,  2.021212  ,\n",
       "        2.040895  ,  2.0515463 ,  2.0699894 ,  2.073404  ,  2.1116245 ,\n",
       "        2.1232727 ,  2.1244237 ,  2.1751497 ,  2.178436  ,  2.1788733 ,\n",
       "        2.1812751 ,  2.2137642 ,  2.2157702 ,  2.220907  ,  2.2387183 ,\n",
       "        2.242073  ,  2.270766  ,  2.2767563 ,  2.3046722 ,  2.3367653 ,\n",
       "        2.3684833 ,  2.408861  ,  2.4193916 ,  2.4198365 ,  2.4331238 ,\n",
       "        2.433733  ,  2.4719949 ,  2.4735942 ,  2.4945138 ,  2.497668  ,\n",
       "        2.5034614 ,  2.5233455 ,  2.5600572 ,  2.5667212 ,  2.6057487 ,\n",
       "        2.612777  ,  2.6238623 ,  2.6327484 ,  2.6948822 ,  2.7295277 ,\n",
       "        2.7430408 ,  2.747204  ,  2.7625556 ,  2.7887545 ,  2.795747  ,\n",
       "        2.8170998 ,  2.8287401 ,  2.847698  ,  2.877315  ,  2.914541  ,\n",
       "        3.0294764 ,  3.0311856 ,  3.080395  ,  3.0837379 ,  3.120555  ,\n",
       "        3.219611  ,  3.226878  ,  3.2286499 ,  3.2495208 ,  3.2556891 ,\n",
       "        3.255925  ,  3.2697656 ,  3.2756565 ,  3.2812243 ,  3.2931647 ,\n",
       "        3.3113604 ,  3.3632054 ,  3.3989623 ,  3.4344714 ,  3.4538517 ,\n",
       "        3.4607906 ,  3.4721138 ,  3.4851036 ,  3.490624  ,  3.5058413 ,\n",
       "        3.5241706 ,  3.5420582 ,  3.5535467 ,  3.5689628 ,  3.5906105 ,\n",
       "        3.5936074 ,  3.6252217 ,  3.6401389 ,  3.6658833 ,  3.7292063 ,\n",
       "        3.8161204 ,  3.8769078 ,  3.8986254 ,  3.9117582 ,  3.9602048 ,\n",
       "        4.007433  ,  4.031637  ,  4.053261  ,  4.0651956 ,  4.135415  ,\n",
       "        4.1538243 ,  4.1715593 ,  4.1746273 ,  4.2328076 ,  4.363129  ,\n",
       "        4.3754835 ,  4.4408193 ,  4.493022  ,  4.6866593 ,  4.7509103 ,\n",
       "        4.8044405 ,  4.8084316 ,  5.858158  ,  7.3452106 , 11.6053    ,\n",
       "       19.832792  , 21.263176  , 22.85391   , 25.505156  ], dtype=float32)"
      ]
     },
     "execution_count": 8,
     "metadata": {},
     "output_type": "execute_result"
    }
   ],
   "source": [
    "np.unique(prepped_data.X_test_sample_weight)"
   ]
  },
  {
   "cell_type": "code",
   "execution_count": 9,
   "id": "7c6eea3f-d83d-4248-b989-6bda444d0b11",
   "metadata": {},
   "outputs": [
    {
     "data": {
      "text/plain": [
       "(1927613, 33)"
      ]
     },
     "execution_count": 9,
     "metadata": {},
     "output_type": "execute_result"
    }
   ],
   "source": [
    "prepped_data.X_test.shape"
   ]
  },
  {
   "cell_type": "code",
   "execution_count": 10,
   "id": "929ebdf2-e894-4495-9340-0083b24ef48f",
   "metadata": {},
   "outputs": [
    {
     "data": {
      "text/plain": [
       "{'meid': array([b'06c811dbcf3f4e8492ec13ad4943baa8',\n",
       "        b'06c811dbcf3f4e8492ec13ad4943baa8',\n",
       "        b'06c811dbcf3f4e8492ec13ad4943baa8', ...,\n",
       "        b'f0b3de2164314e59b20a2bc411c7b5f1',\n",
       "        b'f0b3de2164314e59b20a2bc411c7b5f1',\n",
       "        b'f0b3de2164314e59b20a2bc411c7b5f1'], dtype='|S32'),\n",
       " 'mlrRank': array([ 1,  2,  3, ...,  8,  9, 10], dtype=int32),\n",
       " 'itemId': array([165886259355, 304758681643, 255926583975, ..., 195554593605,\n",
       "        354406443251, 385322386560]),\n",
       " 'labels.labelClassicBBE': array([-1, -1, -1, ..., -1, -1, -1], dtype=int32)}"
      ]
     },
     "execution_count": 10,
     "metadata": {},
     "output_type": "execute_result"
    }
   ],
   "source": [
    "prepped_data.hold_out"
   ]
  },
  {
   "cell_type": "code",
   "execution_count": 5,
   "id": "5c827b9a-4499-4a87-b0b8-e0af89af46e6",
   "metadata": {},
   "outputs": [],
   "source": [
    "pdf = pd.DataFrame(prepped_data.hold_out)"
   ]
  },
  {
   "cell_type": "code",
   "execution_count": 7,
   "id": "1bc59a96-35fb-4dc1-b7fc-f6aeb43c87fb",
   "metadata": {},
   "outputs": [
    {
     "data": {
      "text/plain": [
       "((1927613, 4), (1927613, 4))"
      ]
     },
     "execution_count": 7,
     "metadata": {},
     "output_type": "execute_result"
    }
   ],
   "source": [
    "pdf.shape,pdf_v7.shape"
   ]
  },
  {
   "cell_type": "code",
   "execution_count": 9,
   "id": "1999e721-3c0e-449a-9704-827289307bd8",
   "metadata": {},
   "outputs": [
    {
     "data": {
      "text/html": [
       "<div>\n",
       "<style scoped>\n",
       "    .dataframe tbody tr th:only-of-type {\n",
       "        vertical-align: middle;\n",
       "    }\n",
       "\n",
       "    .dataframe tbody tr th {\n",
       "        vertical-align: top;\n",
       "    }\n",
       "\n",
       "    .dataframe thead th {\n",
       "        text-align: right;\n",
       "    }\n",
       "</style>\n",
       "<table border=\"1\" class=\"dataframe\">\n",
       "  <thead>\n",
       "    <tr style=\"text-align: right;\">\n",
       "      <th></th>\n",
       "      <th>meid</th>\n",
       "      <th>mlrRank</th>\n",
       "      <th>itemId</th>\n",
       "      <th>labels.labelClassicBBE</th>\n",
       "    </tr>\n",
       "  </thead>\n",
       "  <tbody>\n",
       "    <tr>\n",
       "      <th>0</th>\n",
       "      <td>b'06c811dbcf3f4e8492ec13ad4943baa8'</td>\n",
       "      <td>1</td>\n",
       "      <td>165886259355</td>\n",
       "      <td>-1</td>\n",
       "    </tr>\n",
       "    <tr>\n",
       "      <th>1</th>\n",
       "      <td>b'06c811dbcf3f4e8492ec13ad4943baa8'</td>\n",
       "      <td>2</td>\n",
       "      <td>304758681643</td>\n",
       "      <td>-1</td>\n",
       "    </tr>\n",
       "    <tr>\n",
       "      <th>2</th>\n",
       "      <td>b'06c811dbcf3f4e8492ec13ad4943baa8'</td>\n",
       "      <td>3</td>\n",
       "      <td>255926583975</td>\n",
       "      <td>-1</td>\n",
       "    </tr>\n",
       "  </tbody>\n",
       "</table>\n",
       "</div>"
      ],
      "text/plain": [
       "                                  meid  mlrRank        itemId  \\\n",
       "0  b'06c811dbcf3f4e8492ec13ad4943baa8'        1  165886259355   \n",
       "1  b'06c811dbcf3f4e8492ec13ad4943baa8'        2  304758681643   \n",
       "2  b'06c811dbcf3f4e8492ec13ad4943baa8'        3  255926583975   \n",
       "\n",
       "   labels.labelClassicBBE  \n",
       "0                      -1  \n",
       "1                      -1  \n",
       "2                      -1  "
      ]
     },
     "execution_count": 9,
     "metadata": {},
     "output_type": "execute_result"
    }
   ],
   "source": [
    "pdf.head(3)"
   ]
  },
  {
   "cell_type": "code",
   "execution_count": 15,
   "id": "260bb0e1-c00c-4719-9587-7810b32af22d",
   "metadata": {},
   "outputs": [
    {
     "data": {
      "text/plain": [
       "array([b'06c811dbcf3f4e8492ec13ad4943baa8',\n",
       "       b'06c811dbcf3f4e8492ec13ad4943baa8',\n",
       "       b'06c811dbcf3f4e8492ec13ad4943baa8',\n",
       "       b'06c811dbcf3f4e8492ec13ad4943baa8',\n",
       "       b'06c811dbcf3f4e8492ec13ad4943baa8',\n",
       "       b'06c811dbcf3f4e8492ec13ad4943baa8',\n",
       "       b'06c811dbcf3f4e8492ec13ad4943baa8',\n",
       "       b'06c811dbcf3f4e8492ec13ad4943baa8',\n",
       "       b'06c811dbcf3f4e8492ec13ad4943baa8',\n",
       "       b'06c811dbcf3f4e8492ec13ad4943baa8'], dtype='|S32')"
      ]
     },
     "execution_count": 15,
     "metadata": {},
     "output_type": "execute_result"
    }
   ],
   "source": [
    "prepped_data.hold_out['meid'][:10]"
   ]
  },
  {
   "cell_type": "code",
   "execution_count": 16,
   "id": "73ed0caf-33a8-407b-8ca3-48a32c031aef",
   "metadata": {},
   "outputs": [
    {
     "data": {
      "text/plain": [
       "array([165886259355, 304758681643, 255926583975, ..., 195554593605,\n",
       "       354406443251, 385322386560])"
      ]
     },
     "execution_count": 16,
     "metadata": {},
     "output_type": "execute_result"
    }
   ],
   "source": [
    "prepped_data.hold_out['itemId']"
   ]
  },
  {
   "cell_type": "code",
   "execution_count": null,
   "id": "91512823-8293-42e9-a094-3aff2cc3611d",
   "metadata": {},
   "outputs": [],
   "source": [
    "#mlrRank is original production model rank: "
   ]
  },
  {
   "cell_type": "code",
   "execution_count": 17,
   "id": "71b36b8c-f510-4d2b-afbd-f2b4a7450b28",
   "metadata": {},
   "outputs": [
    {
     "data": {
      "text/plain": [
       "array([ 1,  2,  3,  4,  5,  6,  7,  8,  9, 10,  1,  2,  3,  4,  5,  6,  7,\n",
       "        8,  9, 10,  1,  2,  3,  4,  5,  6,  7,  8,  9, 10,  1,  2,  3,  4,\n",
       "        6,  7,  8,  9, 10,  1], dtype=int32)"
      ]
     },
     "execution_count": 17,
     "metadata": {},
     "output_type": "execute_result"
    }
   ],
   "source": [
    "prepped_data.hold_out['mlrRank'][:40]"
   ]
  },
  {
   "cell_type": "markdown",
   "id": "8f94f3df-4677-4ca7-b440-64fa813b17a7",
   "metadata": {},
   "source": [
    "### Load piyi v7 model"
   ]
  },
  {
   "cell_type": "code",
   "execution_count": 12,
   "id": "1df5f0d4-9d07-4a9b-aa9c-63fda9803539",
   "metadata": {},
   "outputs": [],
   "source": [
    "import xgboost\n",
    "piyiv7_bias_model = xgboost.Booster()"
   ]
  },
  {
   "cell_type": "code",
   "execution_count": 13,
   "id": "a6a0d094-3c31-4aad-85a8-ed9054793b43",
   "metadata": {},
   "outputs": [
    {
     "name": "stdout",
     "output_type": "stream",
     "text": [
      "[17:43:51] WARNING: ../src/learner.cc:851: Loading model from XGBoost < 1.0.0, consider saving it again for improved compatibility\n"
     ]
    }
   ],
   "source": [
    "piyiv7_bias_model.load_model('model_piyi_v7.bst')"
   ]
  },
  {
   "cell_type": "code",
   "execution_count": 14,
   "id": "a6a5c07d-af6f-489b-ae7a-0b44bfba3434",
   "metadata": {},
   "outputs": [],
   "source": [
    "y_pred_v7 = piyiv7_bias_model.predict(xgboost.DMatrix(prepped_data_v7.X_test))"
   ]
  },
  {
   "cell_type": "code",
   "execution_count": 15,
   "id": "51aaf4a8-ebe0-4331-9f28-83fa36af5a0b",
   "metadata": {},
   "outputs": [
    {
     "data": {
      "text/plain": [
       "array([ 1.168902 ,  0.4626613, -0.6359106, ..., -2.253786 , -2.428617 ,\n",
       "       -2.5951557], dtype=float32)"
      ]
     },
     "execution_count": 15,
     "metadata": {},
     "output_type": "execute_result"
    }
   ],
   "source": [
    "y_pred_v7"
   ]
  },
  {
   "cell_type": "code",
   "execution_count": 16,
   "id": "791404ea-047f-4da7-8d80-1d992dffafd2",
   "metadata": {},
   "outputs": [],
   "source": [
    "pdf_v7['y_pred_v7']=y_pred_v7"
   ]
  },
  {
   "cell_type": "code",
   "execution_count": 17,
   "id": "328d72d9-6b31-4312-842c-bb543f830078",
   "metadata": {},
   "outputs": [],
   "source": [
    "pdf_v7['label'] = prepped_data_v7.y_test"
   ]
  },
  {
   "cell_type": "code",
   "execution_count": 18,
   "id": "6bcdea02-5ffd-49ac-96cc-9ce06d083d3b",
   "metadata": {},
   "outputs": [],
   "source": [
    "pdf_v7['rank_v7'] = pdf_v7.groupby('meid')['y_pred_v7'].rank(method='dense', ascending=False)"
   ]
  },
  {
   "cell_type": "code",
   "execution_count": 40,
   "id": "a9d005ac-5770-418d-9d30-17e9e7d571d7",
   "metadata": {},
   "outputs": [],
   "source": [
    "pdf_v7.sort_values(by=['meid','mlrRank'],inplace=True)"
   ]
  },
  {
   "cell_type": "code",
   "execution_count": null,
   "id": "57e5a2ca-4394-424c-880b-f90f96d8fb2d",
   "metadata": {},
   "outputs": [],
   "source": [
    "pdf.sort_values(by=['meid','mlrRank'],inplace=True)"
   ]
  },
  {
   "cell_type": "code",
   "execution_count": 48,
   "id": "dc2e8009-877e-43e5-8114-5374613f5b8a",
   "metadata": {},
   "outputs": [
    {
     "data": {
      "text/html": [
       "<div>\n",
       "<style scoped>\n",
       "    .dataframe tbody tr th:only-of-type {\n",
       "        vertical-align: middle;\n",
       "    }\n",
       "\n",
       "    .dataframe tbody tr th {\n",
       "        vertical-align: top;\n",
       "    }\n",
       "\n",
       "    .dataframe thead th {\n",
       "        text-align: right;\n",
       "    }\n",
       "</style>\n",
       "<table border=\"1\" class=\"dataframe\">\n",
       "  <thead>\n",
       "    <tr style=\"text-align: right;\">\n",
       "      <th></th>\n",
       "      <th>meid</th>\n",
       "      <th>mlrRank</th>\n",
       "      <th>itemId</th>\n",
       "      <th>labels.labelClassicBBE</th>\n",
       "      <th>y_pred</th>\n",
       "      <th>label</th>\n",
       "      <th>rank_unbiased</th>\n",
       "      <th>X_test_sample_weight</th>\n",
       "      <th>X_test_sample_weight_eval</th>\n",
       "    </tr>\n",
       "  </thead>\n",
       "  <tbody>\n",
       "    <tr>\n",
       "      <th>194818</th>\n",
       "      <td>b'0000265fbd7a44aca48a906adeff8875'</td>\n",
       "      <td>1</td>\n",
       "      <td>134404248997</td>\n",
       "      <td>-1</td>\n",
       "      <td>-0.483707</td>\n",
       "      <td>0</td>\n",
       "      <td>1.0</td>\n",
       "      <td>1.0</td>\n",
       "      <td>1.0</td>\n",
       "    </tr>\n",
       "    <tr>\n",
       "      <th>194819</th>\n",
       "      <td>b'0000265fbd7a44aca48a906adeff8875'</td>\n",
       "      <td>2</td>\n",
       "      <td>144875276572</td>\n",
       "      <td>-1</td>\n",
       "      <td>-0.992528</td>\n",
       "      <td>0</td>\n",
       "      <td>5.0</td>\n",
       "      <td>1.0</td>\n",
       "      <td>1.0</td>\n",
       "    </tr>\n",
       "    <tr>\n",
       "      <th>194820</th>\n",
       "      <td>b'0000265fbd7a44aca48a906adeff8875'</td>\n",
       "      <td>3</td>\n",
       "      <td>234653614858</td>\n",
       "      <td>-1</td>\n",
       "      <td>-0.812157</td>\n",
       "      <td>1</td>\n",
       "      <td>3.0</td>\n",
       "      <td>1.0</td>\n",
       "      <td>1.0</td>\n",
       "    </tr>\n",
       "    <tr>\n",
       "      <th>194821</th>\n",
       "      <td>b'0000265fbd7a44aca48a906adeff8875'</td>\n",
       "      <td>4</td>\n",
       "      <td>255793472038</td>\n",
       "      <td>-1</td>\n",
       "      <td>-0.780089</td>\n",
       "      <td>0</td>\n",
       "      <td>2.0</td>\n",
       "      <td>1.0</td>\n",
       "      <td>1.0</td>\n",
       "    </tr>\n",
       "    <tr>\n",
       "      <th>194822</th>\n",
       "      <td>b'0000265fbd7a44aca48a906adeff8875'</td>\n",
       "      <td>5</td>\n",
       "      <td>404029139250</td>\n",
       "      <td>-1</td>\n",
       "      <td>-1.391939</td>\n",
       "      <td>0</td>\n",
       "      <td>7.0</td>\n",
       "      <td>1.0</td>\n",
       "      <td>1.0</td>\n",
       "    </tr>\n",
       "    <tr>\n",
       "      <th>194823</th>\n",
       "      <td>b'0000265fbd7a44aca48a906adeff8875'</td>\n",
       "      <td>6</td>\n",
       "      <td>175568244289</td>\n",
       "      <td>-1</td>\n",
       "      <td>-1.158522</td>\n",
       "      <td>0</td>\n",
       "      <td>6.0</td>\n",
       "      <td>1.0</td>\n",
       "      <td>1.0</td>\n",
       "    </tr>\n",
       "    <tr>\n",
       "      <th>194824</th>\n",
       "      <td>b'0000265fbd7a44aca48a906adeff8875'</td>\n",
       "      <td>7</td>\n",
       "      <td>394293977076</td>\n",
       "      <td>-1</td>\n",
       "      <td>-0.905359</td>\n",
       "      <td>0</td>\n",
       "      <td>4.0</td>\n",
       "      <td>1.0</td>\n",
       "      <td>1.0</td>\n",
       "    </tr>\n",
       "    <tr>\n",
       "      <th>194825</th>\n",
       "      <td>b'0000265fbd7a44aca48a906adeff8875'</td>\n",
       "      <td>8</td>\n",
       "      <td>295251065804</td>\n",
       "      <td>-1</td>\n",
       "      <td>-1.878634</td>\n",
       "      <td>0</td>\n",
       "      <td>10.0</td>\n",
       "      <td>1.0</td>\n",
       "      <td>1.0</td>\n",
       "    </tr>\n",
       "    <tr>\n",
       "      <th>194826</th>\n",
       "      <td>b'0000265fbd7a44aca48a906adeff8875'</td>\n",
       "      <td>9</td>\n",
       "      <td>265991957603</td>\n",
       "      <td>-1</td>\n",
       "      <td>-1.501192</td>\n",
       "      <td>0</td>\n",
       "      <td>8.0</td>\n",
       "      <td>1.0</td>\n",
       "      <td>1.0</td>\n",
       "    </tr>\n",
       "    <tr>\n",
       "      <th>194827</th>\n",
       "      <td>b'0000265fbd7a44aca48a906adeff8875'</td>\n",
       "      <td>10</td>\n",
       "      <td>234776254554</td>\n",
       "      <td>-1</td>\n",
       "      <td>-1.798797</td>\n",
       "      <td>1</td>\n",
       "      <td>9.0</td>\n",
       "      <td>1.0</td>\n",
       "      <td>1.0</td>\n",
       "    </tr>\n",
       "  </tbody>\n",
       "</table>\n",
       "</div>"
      ],
      "text/plain": [
       "                                       meid  mlrRank        itemId  \\\n",
       "194818  b'0000265fbd7a44aca48a906adeff8875'        1  134404248997   \n",
       "194819  b'0000265fbd7a44aca48a906adeff8875'        2  144875276572   \n",
       "194820  b'0000265fbd7a44aca48a906adeff8875'        3  234653614858   \n",
       "194821  b'0000265fbd7a44aca48a906adeff8875'        4  255793472038   \n",
       "194822  b'0000265fbd7a44aca48a906adeff8875'        5  404029139250   \n",
       "194823  b'0000265fbd7a44aca48a906adeff8875'        6  175568244289   \n",
       "194824  b'0000265fbd7a44aca48a906adeff8875'        7  394293977076   \n",
       "194825  b'0000265fbd7a44aca48a906adeff8875'        8  295251065804   \n",
       "194826  b'0000265fbd7a44aca48a906adeff8875'        9  265991957603   \n",
       "194827  b'0000265fbd7a44aca48a906adeff8875'       10  234776254554   \n",
       "\n",
       "        labels.labelClassicBBE    y_pred  label  rank_unbiased  \\\n",
       "194818                      -1 -0.483707      0            1.0   \n",
       "194819                      -1 -0.992528      0            5.0   \n",
       "194820                      -1 -0.812157      1            3.0   \n",
       "194821                      -1 -0.780089      0            2.0   \n",
       "194822                      -1 -1.391939      0            7.0   \n",
       "194823                      -1 -1.158522      0            6.0   \n",
       "194824                      -1 -0.905359      0            4.0   \n",
       "194825                      -1 -1.878634      0           10.0   \n",
       "194826                      -1 -1.501192      0            8.0   \n",
       "194827                      -1 -1.798797      1            9.0   \n",
       "\n",
       "        X_test_sample_weight  X_test_sample_weight_eval  \n",
       "194818                   1.0                        1.0  \n",
       "194819                   1.0                        1.0  \n",
       "194820                   1.0                        1.0  \n",
       "194821                   1.0                        1.0  \n",
       "194822                   1.0                        1.0  \n",
       "194823                   1.0                        1.0  \n",
       "194824                   1.0                        1.0  \n",
       "194825                   1.0                        1.0  \n",
       "194826                   1.0                        1.0  \n",
       "194827                   1.0                        1.0  "
      ]
     },
     "execution_count": 48,
     "metadata": {},
     "output_type": "execute_result"
    }
   ],
   "source": [
    "pdf.head(10)"
   ]
  },
  {
   "cell_type": "code",
   "execution_count": 47,
   "id": "e4dd123b-295b-43e8-af78-bcc2064b6a8f",
   "metadata": {},
   "outputs": [
    {
     "data": {
      "text/html": [
       "<div>\n",
       "<style scoped>\n",
       "    .dataframe tbody tr th:only-of-type {\n",
       "        vertical-align: middle;\n",
       "    }\n",
       "\n",
       "    .dataframe tbody tr th {\n",
       "        vertical-align: top;\n",
       "    }\n",
       "\n",
       "    .dataframe thead th {\n",
       "        text-align: right;\n",
       "    }\n",
       "</style>\n",
       "<table border=\"1\" class=\"dataframe\">\n",
       "  <thead>\n",
       "    <tr style=\"text-align: right;\">\n",
       "      <th></th>\n",
       "      <th>meid</th>\n",
       "      <th>mlrRank</th>\n",
       "      <th>itemId</th>\n",
       "      <th>labels.labelClassicBBE</th>\n",
       "      <th>y_pred_v7</th>\n",
       "      <th>label</th>\n",
       "      <th>rank_v7</th>\n",
       "    </tr>\n",
       "  </thead>\n",
       "  <tbody>\n",
       "    <tr>\n",
       "      <th>1263984</th>\n",
       "      <td>b'0000265fbd7a44aca48a906adeff8875'</td>\n",
       "      <td>1</td>\n",
       "      <td>134404248997</td>\n",
       "      <td>-1</td>\n",
       "      <td>-0.412333</td>\n",
       "      <td>0</td>\n",
       "      <td>1.0</td>\n",
       "    </tr>\n",
       "    <tr>\n",
       "      <th>1263985</th>\n",
       "      <td>b'0000265fbd7a44aca48a906adeff8875'</td>\n",
       "      <td>2</td>\n",
       "      <td>144875276572</td>\n",
       "      <td>-1</td>\n",
       "      <td>-1.093016</td>\n",
       "      <td>0</td>\n",
       "      <td>3.0</td>\n",
       "    </tr>\n",
       "    <tr>\n",
       "      <th>1263986</th>\n",
       "      <td>b'0000265fbd7a44aca48a906adeff8875'</td>\n",
       "      <td>3</td>\n",
       "      <td>234653614858</td>\n",
       "      <td>-1</td>\n",
       "      <td>-1.134505</td>\n",
       "      <td>1</td>\n",
       "      <td>4.0</td>\n",
       "    </tr>\n",
       "    <tr>\n",
       "      <th>1263987</th>\n",
       "      <td>b'0000265fbd7a44aca48a906adeff8875'</td>\n",
       "      <td>4</td>\n",
       "      <td>255793472038</td>\n",
       "      <td>-1</td>\n",
       "      <td>-1.141674</td>\n",
       "      <td>0</td>\n",
       "      <td>5.0</td>\n",
       "    </tr>\n",
       "    <tr>\n",
       "      <th>1263988</th>\n",
       "      <td>b'0000265fbd7a44aca48a906adeff8875'</td>\n",
       "      <td>5</td>\n",
       "      <td>404029139250</td>\n",
       "      <td>-1</td>\n",
       "      <td>-1.825263</td>\n",
       "      <td>0</td>\n",
       "      <td>9.0</td>\n",
       "    </tr>\n",
       "    <tr>\n",
       "      <th>1263989</th>\n",
       "      <td>b'0000265fbd7a44aca48a906adeff8875'</td>\n",
       "      <td>6</td>\n",
       "      <td>175568244289</td>\n",
       "      <td>-1</td>\n",
       "      <td>-1.467183</td>\n",
       "      <td>0</td>\n",
       "      <td>6.0</td>\n",
       "    </tr>\n",
       "    <tr>\n",
       "      <th>1263990</th>\n",
       "      <td>b'0000265fbd7a44aca48a906adeff8875'</td>\n",
       "      <td>7</td>\n",
       "      <td>394293977076</td>\n",
       "      <td>-1</td>\n",
       "      <td>-0.876004</td>\n",
       "      <td>0</td>\n",
       "      <td>2.0</td>\n",
       "    </tr>\n",
       "    <tr>\n",
       "      <th>1263991</th>\n",
       "      <td>b'0000265fbd7a44aca48a906adeff8875'</td>\n",
       "      <td>8</td>\n",
       "      <td>295251065804</td>\n",
       "      <td>-1</td>\n",
       "      <td>-2.111445</td>\n",
       "      <td>0</td>\n",
       "      <td>10.0</td>\n",
       "    </tr>\n",
       "    <tr>\n",
       "      <th>1263992</th>\n",
       "      <td>b'0000265fbd7a44aca48a906adeff8875'</td>\n",
       "      <td>9</td>\n",
       "      <td>265991957603</td>\n",
       "      <td>-1</td>\n",
       "      <td>-1.567383</td>\n",
       "      <td>0</td>\n",
       "      <td>7.0</td>\n",
       "    </tr>\n",
       "    <tr>\n",
       "      <th>1263993</th>\n",
       "      <td>b'0000265fbd7a44aca48a906adeff8875'</td>\n",
       "      <td>10</td>\n",
       "      <td>234776254554</td>\n",
       "      <td>-1</td>\n",
       "      <td>-1.740605</td>\n",
       "      <td>1</td>\n",
       "      <td>8.0</td>\n",
       "    </tr>\n",
       "  </tbody>\n",
       "</table>\n",
       "</div>"
      ],
      "text/plain": [
       "                                        meid  mlrRank        itemId  \\\n",
       "1263984  b'0000265fbd7a44aca48a906adeff8875'        1  134404248997   \n",
       "1263985  b'0000265fbd7a44aca48a906adeff8875'        2  144875276572   \n",
       "1263986  b'0000265fbd7a44aca48a906adeff8875'        3  234653614858   \n",
       "1263987  b'0000265fbd7a44aca48a906adeff8875'        4  255793472038   \n",
       "1263988  b'0000265fbd7a44aca48a906adeff8875'        5  404029139250   \n",
       "1263989  b'0000265fbd7a44aca48a906adeff8875'        6  175568244289   \n",
       "1263990  b'0000265fbd7a44aca48a906adeff8875'        7  394293977076   \n",
       "1263991  b'0000265fbd7a44aca48a906adeff8875'        8  295251065804   \n",
       "1263992  b'0000265fbd7a44aca48a906adeff8875'        9  265991957603   \n",
       "1263993  b'0000265fbd7a44aca48a906adeff8875'       10  234776254554   \n",
       "\n",
       "         labels.labelClassicBBE  y_pred_v7  label  rank_v7  \n",
       "1263984                      -1  -0.412333      0      1.0  \n",
       "1263985                      -1  -1.093016      0      3.0  \n",
       "1263986                      -1  -1.134505      1      4.0  \n",
       "1263987                      -1  -1.141674      0      5.0  \n",
       "1263988                      -1  -1.825263      0      9.0  \n",
       "1263989                      -1  -1.467183      0      6.0  \n",
       "1263990                      -1  -0.876004      0      2.0  \n",
       "1263991                      -1  -2.111445      0     10.0  \n",
       "1263992                      -1  -1.567383      0      7.0  \n",
       "1263993                      -1  -1.740605      1      8.0  "
      ]
     },
     "execution_count": 47,
     "metadata": {},
     "output_type": "execute_result"
    }
   ],
   "source": [
    "pdf_v7.head(10)"
   ]
  },
  {
   "cell_type": "code",
   "execution_count": 20,
   "id": "75fcfed2-eaef-428d-b68a-0d09b6d54378",
   "metadata": {},
   "outputs": [
    {
     "data": {
      "text/plain": [
       "2.3965827338129495"
      ]
     },
     "execution_count": 20,
     "metadata": {},
     "output_type": "execute_result"
    }
   ],
   "source": [
    "pdf_v7[pdf_v7['label']==6].rank_v7.mean()"
   ]
  },
  {
   "cell_type": "code",
   "execution_count": 43,
   "id": "e827383b-e1f0-4338-ac46-76a1f8f61442",
   "metadata": {},
   "outputs": [
    {
     "data": {
      "text/plain": [
       "2.414118705035971"
      ]
     },
     "execution_count": 43,
     "metadata": {},
     "output_type": "execute_result"
    }
   ],
   "source": [
    "pdf[pdf['label']==6].rank_unbiased.mean()"
   ]
  },
  {
   "cell_type": "markdown",
   "id": "2d648f30-6d43-4401-a1cd-6ca88b47e1f6",
   "metadata": {},
   "source": [
    "### combine piyi v7 and unbiased piyi_v7"
   ]
  },
  {
   "cell_type": "code",
   "execution_count": 49,
   "id": "a97c0172-0fd1-4c7d-bea3-e95a0f4f498d",
   "metadata": {},
   "outputs": [],
   "source": [
    "pdf_both = pd.merge(pdf, pdf_v7, how=\"inner\", on=[\"meid\", \"itemId\"])"
   ]
  },
  {
   "cell_type": "code",
   "execution_count": 50,
   "id": "3c5a70a6-c4d4-41ff-8e29-9a98c09b90e7",
   "metadata": {},
   "outputs": [
    {
     "data": {
      "text/plain": [
       "(1927613, 14)"
      ]
     },
     "execution_count": 50,
     "metadata": {},
     "output_type": "execute_result"
    }
   ],
   "source": [
    "pdf_both.shape"
   ]
  },
  {
   "cell_type": "code",
   "execution_count": 51,
   "id": "ad0fe19e-e01b-4718-9639-c3b102de769c",
   "metadata": {},
   "outputs": [
    {
     "data": {
      "text/plain": [
       "0          True\n",
       "1          True\n",
       "2          True\n",
       "3          True\n",
       "4          True\n",
       "           ... \n",
       "1927608    True\n",
       "1927609    True\n",
       "1927610    True\n",
       "1927611    True\n",
       "1927612    True\n",
       "Length: 1927613, dtype: bool"
      ]
     },
     "execution_count": 51,
     "metadata": {},
     "output_type": "execute_result"
    }
   ],
   "source": [
    "pdf_both['mlrRank_x']==pdf_both['mlrRank_y']"
   ]
  },
  {
   "cell_type": "code",
   "execution_count": 52,
   "id": "b30797b7-8bc9-4a2c-8dc7-67ea36369ca8",
   "metadata": {},
   "outputs": [],
   "source": [
    "pdf_both.drop(['labels.labelClassicBBE_x', 'labels.labelClassicBBE_y','X_test_sample_weight','X_test_sample_weight_eval'], axis=1,inplace=True)"
   ]
  },
  {
   "cell_type": "code",
   "execution_count": 53,
   "id": "45b37740-08b8-4c92-9758-a4d231d1001d",
   "metadata": {},
   "outputs": [
    {
     "data": {
      "text/html": [
       "<div>\n",
       "<style scoped>\n",
       "    .dataframe tbody tr th:only-of-type {\n",
       "        vertical-align: middle;\n",
       "    }\n",
       "\n",
       "    .dataframe tbody tr th {\n",
       "        vertical-align: top;\n",
       "    }\n",
       "\n",
       "    .dataframe thead th {\n",
       "        text-align: right;\n",
       "    }\n",
       "</style>\n",
       "<table border=\"1\" class=\"dataframe\">\n",
       "  <thead>\n",
       "    <tr style=\"text-align: right;\">\n",
       "      <th></th>\n",
       "      <th>meid</th>\n",
       "      <th>mlrRank_x</th>\n",
       "      <th>itemId</th>\n",
       "      <th>y_pred</th>\n",
       "      <th>label_x</th>\n",
       "      <th>rank_unbiased</th>\n",
       "      <th>mlrRank_y</th>\n",
       "      <th>y_pred_v7</th>\n",
       "      <th>label_y</th>\n",
       "      <th>rank_v7</th>\n",
       "    </tr>\n",
       "  </thead>\n",
       "  <tbody>\n",
       "    <tr>\n",
       "      <th>0</th>\n",
       "      <td>b'0000265fbd7a44aca48a906adeff8875'</td>\n",
       "      <td>1</td>\n",
       "      <td>134404248997</td>\n",
       "      <td>-0.483707</td>\n",
       "      <td>0</td>\n",
       "      <td>1.0</td>\n",
       "      <td>1</td>\n",
       "      <td>-0.412333</td>\n",
       "      <td>0</td>\n",
       "      <td>1.0</td>\n",
       "    </tr>\n",
       "    <tr>\n",
       "      <th>1</th>\n",
       "      <td>b'0000265fbd7a44aca48a906adeff8875'</td>\n",
       "      <td>2</td>\n",
       "      <td>144875276572</td>\n",
       "      <td>-0.992528</td>\n",
       "      <td>0</td>\n",
       "      <td>5.0</td>\n",
       "      <td>2</td>\n",
       "      <td>-1.093016</td>\n",
       "      <td>0</td>\n",
       "      <td>3.0</td>\n",
       "    </tr>\n",
       "    <tr>\n",
       "      <th>2</th>\n",
       "      <td>b'0000265fbd7a44aca48a906adeff8875'</td>\n",
       "      <td>3</td>\n",
       "      <td>234653614858</td>\n",
       "      <td>-0.812157</td>\n",
       "      <td>1</td>\n",
       "      <td>3.0</td>\n",
       "      <td>3</td>\n",
       "      <td>-1.134505</td>\n",
       "      <td>1</td>\n",
       "      <td>4.0</td>\n",
       "    </tr>\n",
       "    <tr>\n",
       "      <th>3</th>\n",
       "      <td>b'0000265fbd7a44aca48a906adeff8875'</td>\n",
       "      <td>4</td>\n",
       "      <td>255793472038</td>\n",
       "      <td>-0.780089</td>\n",
       "      <td>0</td>\n",
       "      <td>2.0</td>\n",
       "      <td>4</td>\n",
       "      <td>-1.141674</td>\n",
       "      <td>0</td>\n",
       "      <td>5.0</td>\n",
       "    </tr>\n",
       "    <tr>\n",
       "      <th>4</th>\n",
       "      <td>b'0000265fbd7a44aca48a906adeff8875'</td>\n",
       "      <td>5</td>\n",
       "      <td>404029139250</td>\n",
       "      <td>-1.391939</td>\n",
       "      <td>0</td>\n",
       "      <td>7.0</td>\n",
       "      <td>5</td>\n",
       "      <td>-1.825263</td>\n",
       "      <td>0</td>\n",
       "      <td>9.0</td>\n",
       "    </tr>\n",
       "    <tr>\n",
       "      <th>5</th>\n",
       "      <td>b'0000265fbd7a44aca48a906adeff8875'</td>\n",
       "      <td>6</td>\n",
       "      <td>175568244289</td>\n",
       "      <td>-1.158522</td>\n",
       "      <td>0</td>\n",
       "      <td>6.0</td>\n",
       "      <td>6</td>\n",
       "      <td>-1.467183</td>\n",
       "      <td>0</td>\n",
       "      <td>6.0</td>\n",
       "    </tr>\n",
       "    <tr>\n",
       "      <th>6</th>\n",
       "      <td>b'0000265fbd7a44aca48a906adeff8875'</td>\n",
       "      <td>7</td>\n",
       "      <td>394293977076</td>\n",
       "      <td>-0.905359</td>\n",
       "      <td>0</td>\n",
       "      <td>4.0</td>\n",
       "      <td>7</td>\n",
       "      <td>-0.876004</td>\n",
       "      <td>0</td>\n",
       "      <td>2.0</td>\n",
       "    </tr>\n",
       "    <tr>\n",
       "      <th>7</th>\n",
       "      <td>b'0000265fbd7a44aca48a906adeff8875'</td>\n",
       "      <td>8</td>\n",
       "      <td>295251065804</td>\n",
       "      <td>-1.878634</td>\n",
       "      <td>0</td>\n",
       "      <td>10.0</td>\n",
       "      <td>8</td>\n",
       "      <td>-2.111445</td>\n",
       "      <td>0</td>\n",
       "      <td>10.0</td>\n",
       "    </tr>\n",
       "    <tr>\n",
       "      <th>8</th>\n",
       "      <td>b'0000265fbd7a44aca48a906adeff8875'</td>\n",
       "      <td>9</td>\n",
       "      <td>265991957603</td>\n",
       "      <td>-1.501192</td>\n",
       "      <td>0</td>\n",
       "      <td>8.0</td>\n",
       "      <td>9</td>\n",
       "      <td>-1.567383</td>\n",
       "      <td>0</td>\n",
       "      <td>7.0</td>\n",
       "    </tr>\n",
       "    <tr>\n",
       "      <th>9</th>\n",
       "      <td>b'0000265fbd7a44aca48a906adeff8875'</td>\n",
       "      <td>10</td>\n",
       "      <td>234776254554</td>\n",
       "      <td>-1.798797</td>\n",
       "      <td>1</td>\n",
       "      <td>9.0</td>\n",
       "      <td>10</td>\n",
       "      <td>-1.740605</td>\n",
       "      <td>1</td>\n",
       "      <td>8.0</td>\n",
       "    </tr>\n",
       "  </tbody>\n",
       "</table>\n",
       "</div>"
      ],
      "text/plain": [
       "                                  meid  mlrRank_x        itemId    y_pred  \\\n",
       "0  b'0000265fbd7a44aca48a906adeff8875'          1  134404248997 -0.483707   \n",
       "1  b'0000265fbd7a44aca48a906adeff8875'          2  144875276572 -0.992528   \n",
       "2  b'0000265fbd7a44aca48a906adeff8875'          3  234653614858 -0.812157   \n",
       "3  b'0000265fbd7a44aca48a906adeff8875'          4  255793472038 -0.780089   \n",
       "4  b'0000265fbd7a44aca48a906adeff8875'          5  404029139250 -1.391939   \n",
       "5  b'0000265fbd7a44aca48a906adeff8875'          6  175568244289 -1.158522   \n",
       "6  b'0000265fbd7a44aca48a906adeff8875'          7  394293977076 -0.905359   \n",
       "7  b'0000265fbd7a44aca48a906adeff8875'          8  295251065804 -1.878634   \n",
       "8  b'0000265fbd7a44aca48a906adeff8875'          9  265991957603 -1.501192   \n",
       "9  b'0000265fbd7a44aca48a906adeff8875'         10  234776254554 -1.798797   \n",
       "\n",
       "   label_x  rank_unbiased  mlrRank_y  y_pred_v7  label_y  rank_v7  \n",
       "0        0            1.0          1  -0.412333        0      1.0  \n",
       "1        0            5.0          2  -1.093016        0      3.0  \n",
       "2        1            3.0          3  -1.134505        1      4.0  \n",
       "3        0            2.0          4  -1.141674        0      5.0  \n",
       "4        0            7.0          5  -1.825263        0      9.0  \n",
       "5        0            6.0          6  -1.467183        0      6.0  \n",
       "6        0            4.0          7  -0.876004        0      2.0  \n",
       "7        0           10.0          8  -2.111445        0     10.0  \n",
       "8        0            8.0          9  -1.567383        0      7.0  \n",
       "9        1            9.0         10  -1.740605        1      8.0  "
      ]
     },
     "execution_count": 53,
     "metadata": {},
     "output_type": "execute_result"
    }
   ],
   "source": [
    "pdf_both.head(10)"
   ]
  },
  {
   "cell_type": "markdown",
   "id": "b0dc1f0b-c0bb-4f3f-b9cd-b2a6f5b23fe0",
   "metadata": {},
   "source": [
    "### Unbiased ranking- load model:"
   ]
  },
  {
   "cell_type": "code",
   "execution_count": 21,
   "id": "8f1106ca-a8d8-4739-8ae2-8736dc360221",
   "metadata": {},
   "outputs": [],
   "source": [
    "import xgboost"
   ]
  },
  {
   "cell_type": "code",
   "execution_count": 22,
   "id": "38591640-e57a-4d6e-b4ba-ffd74a415743",
   "metadata": {},
   "outputs": [
    {
     "name": "stdout",
     "output_type": "stream",
     "text": [
      "[17:49:03] WARNING: ../src/learner.cc:851: Loading model from XGBoost < 1.0.0, consider saving it again for improved compatibility\n"
     ]
    }
   ],
   "source": [
    "xgb_model_loaded = xgboost.Booster()\n",
    "xgb_model_loaded.load_model('simplex_piyi_v7_unbiased.bst')"
   ]
  },
  {
   "cell_type": "code",
   "execution_count": 23,
   "id": "f54aa122-3b91-4354-bf05-28b3137d7924",
   "metadata": {},
   "outputs": [
    {
     "data": {
      "text/plain": [
       "<xgboost.core.Booster at 0x7f3cc4a200d0>"
      ]
     },
     "execution_count": 23,
     "metadata": {},
     "output_type": "execute_result"
    }
   ],
   "source": [
    "xgb_model_loaded"
   ]
  },
  {
   "cell_type": "code",
   "execution_count": 24,
   "id": "2db0176a-7951-4493-9785-35d3940bca4c",
   "metadata": {},
   "outputs": [],
   "source": [
    "y_pred = xgb_model_loaded.predict(xgboost.DMatrix(prepped_data.X_test))"
   ]
  },
  {
   "cell_type": "code",
   "execution_count": 25,
   "id": "e6197a92-a1c1-445a-b2af-5d52e0363798",
   "metadata": {},
   "outputs": [
    {
     "data": {
      "text/plain": [
       "array([ 0.58596784, -0.14937016,  0.36867687, ..., -1.1259544 ,\n",
       "       -0.6990923 , -1.2575393 ], dtype=float32)"
      ]
     },
     "execution_count": 25,
     "metadata": {},
     "output_type": "execute_result"
    }
   ],
   "source": [
    "y_pred"
   ]
  },
  {
   "cell_type": "code",
   "execution_count": 26,
   "id": "94885996-1000-4d41-9b5a-4da513788f11",
   "metadata": {},
   "outputs": [
    {
     "data": {
      "text/plain": [
       "array([0, 1, 0, ..., 1, 0, 0], dtype=int32)"
      ]
     },
     "execution_count": 26,
     "metadata": {},
     "output_type": "execute_result"
    }
   ],
   "source": [
    "prepped_data.y_test"
   ]
  },
  {
   "cell_type": "code",
   "execution_count": 27,
   "id": "dfd8c02c-ff1c-45ec-b1a5-4b73f9b89a3c",
   "metadata": {},
   "outputs": [
    {
     "data": {
      "text/plain": [
       "(array([0, 1, 2, 3, 4, 5, 6], dtype=int32),\n",
       " array([1665778,  242473,   14370,    2290,     354,     124,    2224]))"
      ]
     },
     "execution_count": 27,
     "metadata": {},
     "output_type": "execute_result"
    }
   ],
   "source": [
    "np.unique(prepped_data.y_test, return_counts=True)"
   ]
  },
  {
   "cell_type": "code",
   "execution_count": 28,
   "id": "5398ef49-718f-4552-938e-9d1377e1e155",
   "metadata": {},
   "outputs": [],
   "source": [
    "pdf['y_pred'] = y_pred"
   ]
  },
  {
   "cell_type": "code",
   "execution_count": 29,
   "id": "aa840d8b-0b25-4256-8abd-006c6914d191",
   "metadata": {},
   "outputs": [],
   "source": [
    "pdf['label'] = prepped_data.y_test"
   ]
  },
  {
   "cell_type": "code",
   "execution_count": 30,
   "id": "d50bbf10-d360-4a63-a48a-beb1ab8ead32",
   "metadata": {},
   "outputs": [],
   "source": [
    "pdf['rank_unbiased'] = pdf.groupby('meid')['y_pred'].rank(method='dense', ascending=False)"
   ]
  },
  {
   "cell_type": "code",
   "execution_count": 31,
   "id": "34e50311-adb7-4f9f-8473-a16ca3103f32",
   "metadata": {},
   "outputs": [],
   "source": [
    "pdf['X_test_sample_weight'] =prepped_data.X_test_sample_weight"
   ]
  },
  {
   "cell_type": "code",
   "execution_count": 32,
   "id": "41973f4f-b134-4ae9-8223-bd666a0a2e1a",
   "metadata": {},
   "outputs": [],
   "source": [
    "pdf['X_test_sample_weight_eval'] =prepped_data.X_test_sample_weight_eval"
   ]
  },
  {
   "cell_type": "code",
   "execution_count": 33,
   "id": "b79e50e7-0a5a-45e1-9700-954c1484c143",
   "metadata": {},
   "outputs": [
    {
     "data": {
      "text/html": [
       "<div>\n",
       "<style scoped>\n",
       "    .dataframe tbody tr th:only-of-type {\n",
       "        vertical-align: middle;\n",
       "    }\n",
       "\n",
       "    .dataframe tbody tr th {\n",
       "        vertical-align: top;\n",
       "    }\n",
       "\n",
       "    .dataframe thead th {\n",
       "        text-align: right;\n",
       "    }\n",
       "</style>\n",
       "<table border=\"1\" class=\"dataframe\">\n",
       "  <thead>\n",
       "    <tr style=\"text-align: right;\">\n",
       "      <th></th>\n",
       "      <th>meid</th>\n",
       "      <th>mlrRank</th>\n",
       "      <th>itemId</th>\n",
       "      <th>labels.labelClassicBBE</th>\n",
       "      <th>y_pred_v7</th>\n",
       "      <th>label</th>\n",
       "      <th>rank_v7</th>\n",
       "    </tr>\n",
       "  </thead>\n",
       "  <tbody>\n",
       "    <tr>\n",
       "      <th>0</th>\n",
       "      <td>b'0cec9e13a1c141b08aeb4ca7d5596a14'</td>\n",
       "      <td>1</td>\n",
       "      <td>115678469197</td>\n",
       "      <td>-1</td>\n",
       "      <td>1.168902</td>\n",
       "      <td>1</td>\n",
       "      <td>1.0</td>\n",
       "    </tr>\n",
       "    <tr>\n",
       "      <th>1</th>\n",
       "      <td>b'0cec9e13a1c141b08aeb4ca7d5596a14'</td>\n",
       "      <td>2</td>\n",
       "      <td>374462622985</td>\n",
       "      <td>-1</td>\n",
       "      <td>0.462661</td>\n",
       "      <td>0</td>\n",
       "      <td>3.0</td>\n",
       "    </tr>\n",
       "    <tr>\n",
       "      <th>2</th>\n",
       "      <td>b'0cec9e13a1c141b08aeb4ca7d5596a14'</td>\n",
       "      <td>3</td>\n",
       "      <td>266086094810</td>\n",
       "      <td>-1</td>\n",
       "      <td>-0.635911</td>\n",
       "      <td>0</td>\n",
       "      <td>7.0</td>\n",
       "    </tr>\n",
       "    <tr>\n",
       "      <th>3</th>\n",
       "      <td>b'0cec9e13a1c141b08aeb4ca7d5596a14'</td>\n",
       "      <td>4</td>\n",
       "      <td>144902273166</td>\n",
       "      <td>-1</td>\n",
       "      <td>-0.407980</td>\n",
       "      <td>0</td>\n",
       "      <td>5.0</td>\n",
       "    </tr>\n",
       "    <tr>\n",
       "      <th>4</th>\n",
       "      <td>b'0cec9e13a1c141b08aeb4ca7d5596a14'</td>\n",
       "      <td>5</td>\n",
       "      <td>155367956001</td>\n",
       "      <td>-1</td>\n",
       "      <td>0.569233</td>\n",
       "      <td>0</td>\n",
       "      <td>2.0</td>\n",
       "    </tr>\n",
       "  </tbody>\n",
       "</table>\n",
       "</div>"
      ],
      "text/plain": [
       "                                  meid  mlrRank        itemId  \\\n",
       "0  b'0cec9e13a1c141b08aeb4ca7d5596a14'        1  115678469197   \n",
       "1  b'0cec9e13a1c141b08aeb4ca7d5596a14'        2  374462622985   \n",
       "2  b'0cec9e13a1c141b08aeb4ca7d5596a14'        3  266086094810   \n",
       "3  b'0cec9e13a1c141b08aeb4ca7d5596a14'        4  144902273166   \n",
       "4  b'0cec9e13a1c141b08aeb4ca7d5596a14'        5  155367956001   \n",
       "\n",
       "   labels.labelClassicBBE  y_pred_v7  label  rank_v7  \n",
       "0                      -1   1.168902      1      1.0  \n",
       "1                      -1   0.462661      0      3.0  \n",
       "2                      -1  -0.635911      0      7.0  \n",
       "3                      -1  -0.407980      0      5.0  \n",
       "4                      -1   0.569233      0      2.0  "
      ]
     },
     "execution_count": 33,
     "metadata": {},
     "output_type": "execute_result"
    }
   ],
   "source": [
    "pdf_v7.head()"
   ]
  },
  {
   "cell_type": "code",
   "execution_count": 34,
   "id": "9cc23e6d-615c-44dc-9a75-bb9391f4ebc0",
   "metadata": {},
   "outputs": [
    {
     "data": {
      "text/html": [
       "<div>\n",
       "<style scoped>\n",
       "    .dataframe tbody tr th:only-of-type {\n",
       "        vertical-align: middle;\n",
       "    }\n",
       "\n",
       "    .dataframe tbody tr th {\n",
       "        vertical-align: top;\n",
       "    }\n",
       "\n",
       "    .dataframe thead th {\n",
       "        text-align: right;\n",
       "    }\n",
       "</style>\n",
       "<table border=\"1\" class=\"dataframe\">\n",
       "  <thead>\n",
       "    <tr style=\"text-align: right;\">\n",
       "      <th></th>\n",
       "      <th>meid</th>\n",
       "      <th>mlrRank</th>\n",
       "      <th>itemId</th>\n",
       "      <th>labels.labelClassicBBE</th>\n",
       "      <th>y_pred</th>\n",
       "      <th>label</th>\n",
       "      <th>rank_unbiased</th>\n",
       "      <th>X_test_sample_weight</th>\n",
       "      <th>X_test_sample_weight_eval</th>\n",
       "    </tr>\n",
       "  </thead>\n",
       "  <tbody>\n",
       "    <tr>\n",
       "      <th>0</th>\n",
       "      <td>b'06c811dbcf3f4e8492ec13ad4943baa8'</td>\n",
       "      <td>1</td>\n",
       "      <td>165886259355</td>\n",
       "      <td>-1</td>\n",
       "      <td>0.585968</td>\n",
       "      <td>0</td>\n",
       "      <td>1.0</td>\n",
       "      <td>1.0</td>\n",
       "      <td>1.0</td>\n",
       "    </tr>\n",
       "    <tr>\n",
       "      <th>1</th>\n",
       "      <td>b'06c811dbcf3f4e8492ec13ad4943baa8'</td>\n",
       "      <td>2</td>\n",
       "      <td>304758681643</td>\n",
       "      <td>-1</td>\n",
       "      <td>-0.149370</td>\n",
       "      <td>1</td>\n",
       "      <td>6.0</td>\n",
       "      <td>1.0</td>\n",
       "      <td>1.0</td>\n",
       "    </tr>\n",
       "    <tr>\n",
       "      <th>2</th>\n",
       "      <td>b'06c811dbcf3f4e8492ec13ad4943baa8'</td>\n",
       "      <td>3</td>\n",
       "      <td>255926583975</td>\n",
       "      <td>-1</td>\n",
       "      <td>0.368677</td>\n",
       "      <td>0</td>\n",
       "      <td>3.0</td>\n",
       "      <td>1.0</td>\n",
       "      <td>1.0</td>\n",
       "    </tr>\n",
       "    <tr>\n",
       "      <th>3</th>\n",
       "      <td>b'06c811dbcf3f4e8492ec13ad4943baa8'</td>\n",
       "      <td>4</td>\n",
       "      <td>334688356602</td>\n",
       "      <td>-1</td>\n",
       "      <td>0.281479</td>\n",
       "      <td>0</td>\n",
       "      <td>4.0</td>\n",
       "      <td>1.0</td>\n",
       "      <td>1.0</td>\n",
       "    </tr>\n",
       "    <tr>\n",
       "      <th>4</th>\n",
       "      <td>b'06c811dbcf3f4e8492ec13ad4943baa8'</td>\n",
       "      <td>5</td>\n",
       "      <td>185737193566</td>\n",
       "      <td>-1</td>\n",
       "      <td>0.395501</td>\n",
       "      <td>0</td>\n",
       "      <td>2.0</td>\n",
       "      <td>1.0</td>\n",
       "      <td>1.0</td>\n",
       "    </tr>\n",
       "    <tr>\n",
       "      <th>5</th>\n",
       "      <td>b'06c811dbcf3f4e8492ec13ad4943baa8'</td>\n",
       "      <td>6</td>\n",
       "      <td>175113651756</td>\n",
       "      <td>-1</td>\n",
       "      <td>-0.480952</td>\n",
       "      <td>0</td>\n",
       "      <td>8.0</td>\n",
       "      <td>1.0</td>\n",
       "      <td>1.0</td>\n",
       "    </tr>\n",
       "    <tr>\n",
       "      <th>6</th>\n",
       "      <td>b'06c811dbcf3f4e8492ec13ad4943baa8'</td>\n",
       "      <td>7</td>\n",
       "      <td>225346357937</td>\n",
       "      <td>-1</td>\n",
       "      <td>-0.060489</td>\n",
       "      <td>0</td>\n",
       "      <td>5.0</td>\n",
       "      <td>1.0</td>\n",
       "      <td>1.0</td>\n",
       "    </tr>\n",
       "    <tr>\n",
       "      <th>7</th>\n",
       "      <td>b'06c811dbcf3f4e8492ec13ad4943baa8'</td>\n",
       "      <td>8</td>\n",
       "      <td>404107077467</td>\n",
       "      <td>-1</td>\n",
       "      <td>-0.259329</td>\n",
       "      <td>0</td>\n",
       "      <td>7.0</td>\n",
       "      <td>1.0</td>\n",
       "      <td>1.0</td>\n",
       "    </tr>\n",
       "    <tr>\n",
       "      <th>8</th>\n",
       "      <td>b'06c811dbcf3f4e8492ec13ad4943baa8'</td>\n",
       "      <td>9</td>\n",
       "      <td>374460874585</td>\n",
       "      <td>-1</td>\n",
       "      <td>-1.041139</td>\n",
       "      <td>0</td>\n",
       "      <td>10.0</td>\n",
       "      <td>1.0</td>\n",
       "      <td>1.0</td>\n",
       "    </tr>\n",
       "    <tr>\n",
       "      <th>9</th>\n",
       "      <td>b'06c811dbcf3f4e8492ec13ad4943baa8'</td>\n",
       "      <td>10</td>\n",
       "      <td>165423822921</td>\n",
       "      <td>-1</td>\n",
       "      <td>-0.874499</td>\n",
       "      <td>0</td>\n",
       "      <td>9.0</td>\n",
       "      <td>1.0</td>\n",
       "      <td>1.0</td>\n",
       "    </tr>\n",
       "    <tr>\n",
       "      <th>10</th>\n",
       "      <td>b'07ce1dd8391e449589b84356ce60178d'</td>\n",
       "      <td>1</td>\n",
       "      <td>325491413337</td>\n",
       "      <td>-1</td>\n",
       "      <td>0.491914</td>\n",
       "      <td>1</td>\n",
       "      <td>1.0</td>\n",
       "      <td>1.0</td>\n",
       "      <td>1.0</td>\n",
       "    </tr>\n",
       "    <tr>\n",
       "      <th>11</th>\n",
       "      <td>b'07ce1dd8391e449589b84356ce60178d'</td>\n",
       "      <td>2</td>\n",
       "      <td>125317339557</td>\n",
       "      <td>-1</td>\n",
       "      <td>-2.507590</td>\n",
       "      <td>0</td>\n",
       "      <td>7.0</td>\n",
       "      <td>1.0</td>\n",
       "      <td>1.0</td>\n",
       "    </tr>\n",
       "  </tbody>\n",
       "</table>\n",
       "</div>"
      ],
      "text/plain": [
       "                                   meid  mlrRank        itemId  \\\n",
       "0   b'06c811dbcf3f4e8492ec13ad4943baa8'        1  165886259355   \n",
       "1   b'06c811dbcf3f4e8492ec13ad4943baa8'        2  304758681643   \n",
       "2   b'06c811dbcf3f4e8492ec13ad4943baa8'        3  255926583975   \n",
       "3   b'06c811dbcf3f4e8492ec13ad4943baa8'        4  334688356602   \n",
       "4   b'06c811dbcf3f4e8492ec13ad4943baa8'        5  185737193566   \n",
       "5   b'06c811dbcf3f4e8492ec13ad4943baa8'        6  175113651756   \n",
       "6   b'06c811dbcf3f4e8492ec13ad4943baa8'        7  225346357937   \n",
       "7   b'06c811dbcf3f4e8492ec13ad4943baa8'        8  404107077467   \n",
       "8   b'06c811dbcf3f4e8492ec13ad4943baa8'        9  374460874585   \n",
       "9   b'06c811dbcf3f4e8492ec13ad4943baa8'       10  165423822921   \n",
       "10  b'07ce1dd8391e449589b84356ce60178d'        1  325491413337   \n",
       "11  b'07ce1dd8391e449589b84356ce60178d'        2  125317339557   \n",
       "\n",
       "    labels.labelClassicBBE    y_pred  label  rank_unbiased  \\\n",
       "0                       -1  0.585968      0            1.0   \n",
       "1                       -1 -0.149370      1            6.0   \n",
       "2                       -1  0.368677      0            3.0   \n",
       "3                       -1  0.281479      0            4.0   \n",
       "4                       -1  0.395501      0            2.0   \n",
       "5                       -1 -0.480952      0            8.0   \n",
       "6                       -1 -0.060489      0            5.0   \n",
       "7                       -1 -0.259329      0            7.0   \n",
       "8                       -1 -1.041139      0           10.0   \n",
       "9                       -1 -0.874499      0            9.0   \n",
       "10                      -1  0.491914      1            1.0   \n",
       "11                      -1 -2.507590      0            7.0   \n",
       "\n",
       "    X_test_sample_weight  X_test_sample_weight_eval  \n",
       "0                    1.0                        1.0  \n",
       "1                    1.0                        1.0  \n",
       "2                    1.0                        1.0  \n",
       "3                    1.0                        1.0  \n",
       "4                    1.0                        1.0  \n",
       "5                    1.0                        1.0  \n",
       "6                    1.0                        1.0  \n",
       "7                    1.0                        1.0  \n",
       "8                    1.0                        1.0  \n",
       "9                    1.0                        1.0  \n",
       "10                   1.0                        1.0  \n",
       "11                   1.0                        1.0  "
      ]
     },
     "execution_count": 34,
     "metadata": {},
     "output_type": "execute_result"
    }
   ],
   "source": [
    "pdf.head(12)"
   ]
  },
  {
   "cell_type": "code",
   "execution_count": 32,
   "id": "e2954af1-f7b2-44cb-b441-56ab06f48b23",
   "metadata": {},
   "outputs": [
    {
     "data": {
      "text/html": [
       "<div>\n",
       "<style scoped>\n",
       "    .dataframe tbody tr th:only-of-type {\n",
       "        vertical-align: middle;\n",
       "    }\n",
       "\n",
       "    .dataframe tbody tr th {\n",
       "        vertical-align: top;\n",
       "    }\n",
       "\n",
       "    .dataframe thead th {\n",
       "        text-align: right;\n",
       "    }\n",
       "</style>\n",
       "<table border=\"1\" class=\"dataframe\">\n",
       "  <thead>\n",
       "    <tr style=\"text-align: right;\">\n",
       "      <th></th>\n",
       "      <th>meid</th>\n",
       "      <th>mlrRank</th>\n",
       "      <th>itemId</th>\n",
       "      <th>labels.labelClassicBBE</th>\n",
       "      <th>y_pred</th>\n",
       "      <th>label</th>\n",
       "      <th>rank_unbiased</th>\n",
       "      <th>X_test_sample_weight</th>\n",
       "      <th>X_test_sample_weight_eval</th>\n",
       "    </tr>\n",
       "  </thead>\n",
       "  <tbody>\n",
       "    <tr>\n",
       "      <th>834728</th>\n",
       "      <td>b'0cec9e13a1c141b08aeb4ca7d5596a14'</td>\n",
       "      <td>1</td>\n",
       "      <td>115678469197</td>\n",
       "      <td>-1</td>\n",
       "      <td>1.308024</td>\n",
       "      <td>1</td>\n",
       "      <td>1.0</td>\n",
       "      <td>1.0</td>\n",
       "      <td>1.0</td>\n",
       "    </tr>\n",
       "    <tr>\n",
       "      <th>834729</th>\n",
       "      <td>b'0cec9e13a1c141b08aeb4ca7d5596a14'</td>\n",
       "      <td>2</td>\n",
       "      <td>374462622985</td>\n",
       "      <td>-1</td>\n",
       "      <td>0.375601</td>\n",
       "      <td>0</td>\n",
       "      <td>3.0</td>\n",
       "      <td>1.0</td>\n",
       "      <td>1.0</td>\n",
       "    </tr>\n",
       "    <tr>\n",
       "      <th>834730</th>\n",
       "      <td>b'0cec9e13a1c141b08aeb4ca7d5596a14'</td>\n",
       "      <td>3</td>\n",
       "      <td>266086094810</td>\n",
       "      <td>-1</td>\n",
       "      <td>-0.555214</td>\n",
       "      <td>0</td>\n",
       "      <td>7.0</td>\n",
       "      <td>1.0</td>\n",
       "      <td>1.0</td>\n",
       "    </tr>\n",
       "    <tr>\n",
       "      <th>834731</th>\n",
       "      <td>b'0cec9e13a1c141b08aeb4ca7d5596a14'</td>\n",
       "      <td>4</td>\n",
       "      <td>144902273166</td>\n",
       "      <td>-1</td>\n",
       "      <td>-0.494656</td>\n",
       "      <td>0</td>\n",
       "      <td>6.0</td>\n",
       "      <td>1.0</td>\n",
       "      <td>1.0</td>\n",
       "    </tr>\n",
       "    <tr>\n",
       "      <th>834732</th>\n",
       "      <td>b'0cec9e13a1c141b08aeb4ca7d5596a14'</td>\n",
       "      <td>5</td>\n",
       "      <td>155367956001</td>\n",
       "      <td>-1</td>\n",
       "      <td>0.351475</td>\n",
       "      <td>0</td>\n",
       "      <td>4.0</td>\n",
       "      <td>1.0</td>\n",
       "      <td>1.0</td>\n",
       "    </tr>\n",
       "    <tr>\n",
       "      <th>834733</th>\n",
       "      <td>b'0cec9e13a1c141b08aeb4ca7d5596a14'</td>\n",
       "      <td>6</td>\n",
       "      <td>115678475424</td>\n",
       "      <td>-1</td>\n",
       "      <td>0.459016</td>\n",
       "      <td>0</td>\n",
       "      <td>2.0</td>\n",
       "      <td>1.0</td>\n",
       "      <td>1.0</td>\n",
       "    </tr>\n",
       "    <tr>\n",
       "      <th>834734</th>\n",
       "      <td>b'0cec9e13a1c141b08aeb4ca7d5596a14'</td>\n",
       "      <td>7</td>\n",
       "      <td>295480888789</td>\n",
       "      <td>-1</td>\n",
       "      <td>-0.226427</td>\n",
       "      <td>0</td>\n",
       "      <td>5.0</td>\n",
       "      <td>1.0</td>\n",
       "      <td>1.0</td>\n",
       "    </tr>\n",
       "    <tr>\n",
       "      <th>834735</th>\n",
       "      <td>b'0cec9e13a1c141b08aeb4ca7d5596a14'</td>\n",
       "      <td>8</td>\n",
       "      <td>195556704575</td>\n",
       "      <td>-1</td>\n",
       "      <td>-0.783052</td>\n",
       "      <td>0</td>\n",
       "      <td>8.0</td>\n",
       "      <td>1.0</td>\n",
       "      <td>1.0</td>\n",
       "    </tr>\n",
       "    <tr>\n",
       "      <th>834736</th>\n",
       "      <td>b'0cec9e13a1c141b08aeb4ca7d5596a14'</td>\n",
       "      <td>9</td>\n",
       "      <td>295471863277</td>\n",
       "      <td>-1</td>\n",
       "      <td>-0.975719</td>\n",
       "      <td>0</td>\n",
       "      <td>9.0</td>\n",
       "      <td>1.0</td>\n",
       "      <td>1.0</td>\n",
       "    </tr>\n",
       "    <tr>\n",
       "      <th>834737</th>\n",
       "      <td>b'0cec9e13a1c141b08aeb4ca7d5596a14'</td>\n",
       "      <td>10</td>\n",
       "      <td>115675587641</td>\n",
       "      <td>-1</td>\n",
       "      <td>-1.121641</td>\n",
       "      <td>0</td>\n",
       "      <td>10.0</td>\n",
       "      <td>1.0</td>\n",
       "      <td>1.0</td>\n",
       "    </tr>\n",
       "  </tbody>\n",
       "</table>\n",
       "</div>"
      ],
      "text/plain": [
       "                                       meid  mlrRank        itemId  \\\n",
       "834728  b'0cec9e13a1c141b08aeb4ca7d5596a14'        1  115678469197   \n",
       "834729  b'0cec9e13a1c141b08aeb4ca7d5596a14'        2  374462622985   \n",
       "834730  b'0cec9e13a1c141b08aeb4ca7d5596a14'        3  266086094810   \n",
       "834731  b'0cec9e13a1c141b08aeb4ca7d5596a14'        4  144902273166   \n",
       "834732  b'0cec9e13a1c141b08aeb4ca7d5596a14'        5  155367956001   \n",
       "834733  b'0cec9e13a1c141b08aeb4ca7d5596a14'        6  115678475424   \n",
       "834734  b'0cec9e13a1c141b08aeb4ca7d5596a14'        7  295480888789   \n",
       "834735  b'0cec9e13a1c141b08aeb4ca7d5596a14'        8  195556704575   \n",
       "834736  b'0cec9e13a1c141b08aeb4ca7d5596a14'        9  295471863277   \n",
       "834737  b'0cec9e13a1c141b08aeb4ca7d5596a14'       10  115675587641   \n",
       "\n",
       "        labels.labelClassicBBE    y_pred  label  rank_unbiased  \\\n",
       "834728                      -1  1.308024      1            1.0   \n",
       "834729                      -1  0.375601      0            3.0   \n",
       "834730                      -1 -0.555214      0            7.0   \n",
       "834731                      -1 -0.494656      0            6.0   \n",
       "834732                      -1  0.351475      0            4.0   \n",
       "834733                      -1  0.459016      0            2.0   \n",
       "834734                      -1 -0.226427      0            5.0   \n",
       "834735                      -1 -0.783052      0            8.0   \n",
       "834736                      -1 -0.975719      0            9.0   \n",
       "834737                      -1 -1.121641      0           10.0   \n",
       "\n",
       "        X_test_sample_weight  X_test_sample_weight_eval  \n",
       "834728                   1.0                        1.0  \n",
       "834729                   1.0                        1.0  \n",
       "834730                   1.0                        1.0  \n",
       "834731                   1.0                        1.0  \n",
       "834732                   1.0                        1.0  \n",
       "834733                   1.0                        1.0  \n",
       "834734                   1.0                        1.0  \n",
       "834735                   1.0                        1.0  \n",
       "834736                   1.0                        1.0  \n",
       "834737                   1.0                        1.0  "
      ]
     },
     "execution_count": 32,
     "metadata": {},
     "output_type": "execute_result"
    }
   ],
   "source": [
    "pdf[pdf['meid']==b'0cec9e13a1c141b08aeb4ca7d5596a14']"
   ]
  },
  {
   "cell_type": "code",
   "execution_count": 33,
   "id": "94e4deeb-9160-48d8-a5ae-399b8d777f32",
   "metadata": {},
   "outputs": [
    {
     "data": {
      "text/html": [
       "<div>\n",
       "<style scoped>\n",
       "    .dataframe tbody tr th:only-of-type {\n",
       "        vertical-align: middle;\n",
       "    }\n",
       "\n",
       "    .dataframe tbody tr th {\n",
       "        vertical-align: top;\n",
       "    }\n",
       "\n",
       "    .dataframe thead th {\n",
       "        text-align: right;\n",
       "    }\n",
       "</style>\n",
       "<table border=\"1\" class=\"dataframe\">\n",
       "  <thead>\n",
       "    <tr style=\"text-align: right;\">\n",
       "      <th></th>\n",
       "      <th>meid</th>\n",
       "      <th>mlrRank</th>\n",
       "      <th>itemId</th>\n",
       "      <th>labels.labelClassicBBE</th>\n",
       "      <th>y_pred</th>\n",
       "      <th>label</th>\n",
       "      <th>rank_unbiased</th>\n",
       "      <th>X_test_sample_weight</th>\n",
       "      <th>X_test_sample_weight_eval</th>\n",
       "    </tr>\n",
       "  </thead>\n",
       "  <tbody>\n",
       "    <tr>\n",
       "      <th>834738</th>\n",
       "      <td>b'26d706d1cb9b40cf9476c08ebd8bd71f'</td>\n",
       "      <td>1</td>\n",
       "      <td>364110762823</td>\n",
       "      <td>-1</td>\n",
       "      <td>1.786796</td>\n",
       "      <td>0</td>\n",
       "      <td>2.0</td>\n",
       "      <td>1.0</td>\n",
       "      <td>1.0</td>\n",
       "    </tr>\n",
       "    <tr>\n",
       "      <th>834739</th>\n",
       "      <td>b'26d706d1cb9b40cf9476c08ebd8bd71f'</td>\n",
       "      <td>2</td>\n",
       "      <td>255927604073</td>\n",
       "      <td>-1</td>\n",
       "      <td>1.850591</td>\n",
       "      <td>1</td>\n",
       "      <td>1.0</td>\n",
       "      <td>1.0</td>\n",
       "      <td>1.0</td>\n",
       "    </tr>\n",
       "    <tr>\n",
       "      <th>834740</th>\n",
       "      <td>b'26d706d1cb9b40cf9476c08ebd8bd71f'</td>\n",
       "      <td>3</td>\n",
       "      <td>155358911175</td>\n",
       "      <td>-1</td>\n",
       "      <td>1.156294</td>\n",
       "      <td>0</td>\n",
       "      <td>4.0</td>\n",
       "      <td>1.0</td>\n",
       "      <td>1.0</td>\n",
       "    </tr>\n",
       "    <tr>\n",
       "      <th>834741</th>\n",
       "      <td>b'26d706d1cb9b40cf9476c08ebd8bd71f'</td>\n",
       "      <td>4</td>\n",
       "      <td>175579126514</td>\n",
       "      <td>-1</td>\n",
       "      <td>1.624009</td>\n",
       "      <td>0</td>\n",
       "      <td>3.0</td>\n",
       "      <td>1.0</td>\n",
       "      <td>1.0</td>\n",
       "    </tr>\n",
       "    <tr>\n",
       "      <th>834742</th>\n",
       "      <td>b'26d706d1cb9b40cf9476c08ebd8bd71f'</td>\n",
       "      <td>5</td>\n",
       "      <td>334703276016</td>\n",
       "      <td>-1</td>\n",
       "      <td>1.020187</td>\n",
       "      <td>0</td>\n",
       "      <td>7.0</td>\n",
       "      <td>1.0</td>\n",
       "      <td>1.0</td>\n",
       "    </tr>\n",
       "    <tr>\n",
       "      <th>834743</th>\n",
       "      <td>b'26d706d1cb9b40cf9476c08ebd8bd71f'</td>\n",
       "      <td>6</td>\n",
       "      <td>285110446900</td>\n",
       "      <td>-1</td>\n",
       "      <td>1.044926</td>\n",
       "      <td>0</td>\n",
       "      <td>6.0</td>\n",
       "      <td>1.0</td>\n",
       "      <td>1.0</td>\n",
       "    </tr>\n",
       "    <tr>\n",
       "      <th>834744</th>\n",
       "      <td>b'26d706d1cb9b40cf9476c08ebd8bd71f'</td>\n",
       "      <td>7</td>\n",
       "      <td>285110445252</td>\n",
       "      <td>-1</td>\n",
       "      <td>0.788763</td>\n",
       "      <td>0</td>\n",
       "      <td>8.0</td>\n",
       "      <td>1.0</td>\n",
       "      <td>1.0</td>\n",
       "    </tr>\n",
       "    <tr>\n",
       "      <th>834745</th>\n",
       "      <td>b'26d706d1cb9b40cf9476c08ebd8bd71f'</td>\n",
       "      <td>8</td>\n",
       "      <td>285111182018</td>\n",
       "      <td>-1</td>\n",
       "      <td>1.089282</td>\n",
       "      <td>0</td>\n",
       "      <td>5.0</td>\n",
       "      <td>1.0</td>\n",
       "      <td>1.0</td>\n",
       "    </tr>\n",
       "    <tr>\n",
       "      <th>834746</th>\n",
       "      <td>b'26d706d1cb9b40cf9476c08ebd8bd71f'</td>\n",
       "      <td>9</td>\n",
       "      <td>285110445903</td>\n",
       "      <td>-1</td>\n",
       "      <td>0.635191</td>\n",
       "      <td>0</td>\n",
       "      <td>10.0</td>\n",
       "      <td>1.0</td>\n",
       "      <td>1.0</td>\n",
       "    </tr>\n",
       "    <tr>\n",
       "      <th>834747</th>\n",
       "      <td>b'26d706d1cb9b40cf9476c08ebd8bd71f'</td>\n",
       "      <td>10</td>\n",
       "      <td>334704419504</td>\n",
       "      <td>-1</td>\n",
       "      <td>0.661216</td>\n",
       "      <td>0</td>\n",
       "      <td>9.0</td>\n",
       "      <td>1.0</td>\n",
       "      <td>1.0</td>\n",
       "    </tr>\n",
       "  </tbody>\n",
       "</table>\n",
       "</div>"
      ],
      "text/plain": [
       "                                       meid  mlrRank        itemId  \\\n",
       "834738  b'26d706d1cb9b40cf9476c08ebd8bd71f'        1  364110762823   \n",
       "834739  b'26d706d1cb9b40cf9476c08ebd8bd71f'        2  255927604073   \n",
       "834740  b'26d706d1cb9b40cf9476c08ebd8bd71f'        3  155358911175   \n",
       "834741  b'26d706d1cb9b40cf9476c08ebd8bd71f'        4  175579126514   \n",
       "834742  b'26d706d1cb9b40cf9476c08ebd8bd71f'        5  334703276016   \n",
       "834743  b'26d706d1cb9b40cf9476c08ebd8bd71f'        6  285110446900   \n",
       "834744  b'26d706d1cb9b40cf9476c08ebd8bd71f'        7  285110445252   \n",
       "834745  b'26d706d1cb9b40cf9476c08ebd8bd71f'        8  285111182018   \n",
       "834746  b'26d706d1cb9b40cf9476c08ebd8bd71f'        9  285110445903   \n",
       "834747  b'26d706d1cb9b40cf9476c08ebd8bd71f'       10  334704419504   \n",
       "\n",
       "        labels.labelClassicBBE    y_pred  label  rank_unbiased  \\\n",
       "834738                      -1  1.786796      0            2.0   \n",
       "834739                      -1  1.850591      1            1.0   \n",
       "834740                      -1  1.156294      0            4.0   \n",
       "834741                      -1  1.624009      0            3.0   \n",
       "834742                      -1  1.020187      0            7.0   \n",
       "834743                      -1  1.044926      0            6.0   \n",
       "834744                      -1  0.788763      0            8.0   \n",
       "834745                      -1  1.089282      0            5.0   \n",
       "834746                      -1  0.635191      0           10.0   \n",
       "834747                      -1  0.661216      0            9.0   \n",
       "\n",
       "        X_test_sample_weight  X_test_sample_weight_eval  \n",
       "834738                   1.0                        1.0  \n",
       "834739                   1.0                        1.0  \n",
       "834740                   1.0                        1.0  \n",
       "834741                   1.0                        1.0  \n",
       "834742                   1.0                        1.0  \n",
       "834743                   1.0                        1.0  \n",
       "834744                   1.0                        1.0  \n",
       "834745                   1.0                        1.0  \n",
       "834746                   1.0                        1.0  \n",
       "834747                   1.0                        1.0  "
      ]
     },
     "execution_count": 33,
     "metadata": {},
     "output_type": "execute_result"
    }
   ],
   "source": [
    "pdf[pdf['meid']==b'26d706d1cb9b40cf9476c08ebd8bd71f']"
   ]
  },
  {
   "cell_type": "code",
   "execution_count": 34,
   "id": "fc1db382-a74b-4351-abcd-65556935966c",
   "metadata": {},
   "outputs": [
    {
     "data": {
      "text/plain": [
       "199685"
      ]
     },
     "execution_count": 34,
     "metadata": {},
     "output_type": "execute_result"
    }
   ],
   "source": [
    "pdf.meid.nunique()"
   ]
  },
  {
   "cell_type": "markdown",
   "id": "72fa1ff0-54fc-4076-a730-f43d4aa6a524",
   "metadata": {},
   "source": [
    "#### Examination of meids where top2 item ranks are the same "
   ]
  },
  {
   "cell_type": "code",
   "execution_count": 36,
   "id": "99ae6797-7f87-4d2c-8f5e-b345446268ab",
   "metadata": {},
   "outputs": [],
   "source": [
    "pdf_rank12=pdf[pdf['mlrRank'].isin([1, 2])].copy()"
   ]
  },
  {
   "cell_type": "code",
   "execution_count": 37,
   "id": "2bf462c9-f701-4b01-952f-08e00e569365",
   "metadata": {},
   "outputs": [
    {
     "data": {
      "text/plain": [
       "199677"
      ]
     },
     "execution_count": 37,
     "metadata": {},
     "output_type": "execute_result"
    }
   ],
   "source": [
    "pdf_rank12.meid.nunique()"
   ]
  },
  {
   "cell_type": "code",
   "execution_count": 38,
   "id": "fc52c5dc-00df-4353-898a-e9dedc496d48",
   "metadata": {},
   "outputs": [],
   "source": [
    "pdf_rank12['ranks_are_equal'] = pdf_rank12.apply(lambda x: int(x['mlrRank'] ==x['rank_unbiased']), axis=1)"
   ]
  },
  {
   "cell_type": "code",
   "execution_count": 39,
   "id": "f10fd487-c111-415a-9f7e-fdf88b211023",
   "metadata": {},
   "outputs": [
    {
     "data": {
      "text/html": [
       "<div>\n",
       "<style scoped>\n",
       "    .dataframe tbody tr th:only-of-type {\n",
       "        vertical-align: middle;\n",
       "    }\n",
       "\n",
       "    .dataframe tbody tr th {\n",
       "        vertical-align: top;\n",
       "    }\n",
       "\n",
       "    .dataframe thead th {\n",
       "        text-align: right;\n",
       "    }\n",
       "</style>\n",
       "<table border=\"1\" class=\"dataframe\">\n",
       "  <thead>\n",
       "    <tr style=\"text-align: right;\">\n",
       "      <th></th>\n",
       "      <th>meid</th>\n",
       "      <th>mlrRank</th>\n",
       "      <th>itemId</th>\n",
       "      <th>labels.labelClassicBBE</th>\n",
       "      <th>y_pred</th>\n",
       "      <th>label</th>\n",
       "      <th>rank_unbiased</th>\n",
       "      <th>X_test_sample_weight</th>\n",
       "      <th>X_test_sample_weight_eval</th>\n",
       "      <th>ranks_are_equal</th>\n",
       "    </tr>\n",
       "  </thead>\n",
       "  <tbody>\n",
       "    <tr>\n",
       "      <th>0</th>\n",
       "      <td>b'06c811dbcf3f4e8492ec13ad4943baa8'</td>\n",
       "      <td>1</td>\n",
       "      <td>165886259355</td>\n",
       "      <td>-1</td>\n",
       "      <td>0.585968</td>\n",
       "      <td>0</td>\n",
       "      <td>1.0</td>\n",
       "      <td>1.0</td>\n",
       "      <td>1.0</td>\n",
       "      <td>1</td>\n",
       "    </tr>\n",
       "    <tr>\n",
       "      <th>1</th>\n",
       "      <td>b'06c811dbcf3f4e8492ec13ad4943baa8'</td>\n",
       "      <td>2</td>\n",
       "      <td>304758681643</td>\n",
       "      <td>-1</td>\n",
       "      <td>-0.149370</td>\n",
       "      <td>1</td>\n",
       "      <td>6.0</td>\n",
       "      <td>1.0</td>\n",
       "      <td>1.0</td>\n",
       "      <td>0</td>\n",
       "    </tr>\n",
       "    <tr>\n",
       "      <th>10</th>\n",
       "      <td>b'07ce1dd8391e449589b84356ce60178d'</td>\n",
       "      <td>1</td>\n",
       "      <td>325491413337</td>\n",
       "      <td>-1</td>\n",
       "      <td>0.491914</td>\n",
       "      <td>1</td>\n",
       "      <td>1.0</td>\n",
       "      <td>1.0</td>\n",
       "      <td>1.0</td>\n",
       "      <td>1</td>\n",
       "    </tr>\n",
       "    <tr>\n",
       "      <th>11</th>\n",
       "      <td>b'07ce1dd8391e449589b84356ce60178d'</td>\n",
       "      <td>2</td>\n",
       "      <td>125317339557</td>\n",
       "      <td>-1</td>\n",
       "      <td>-2.507590</td>\n",
       "      <td>0</td>\n",
       "      <td>7.0</td>\n",
       "      <td>1.0</td>\n",
       "      <td>1.0</td>\n",
       "      <td>0</td>\n",
       "    </tr>\n",
       "    <tr>\n",
       "      <th>20</th>\n",
       "      <td>b'0da344690f6c4d879a6dba876a188827'</td>\n",
       "      <td>1</td>\n",
       "      <td>285081438854</td>\n",
       "      <td>-1</td>\n",
       "      <td>-1.287927</td>\n",
       "      <td>0</td>\n",
       "      <td>1.0</td>\n",
       "      <td>1.0</td>\n",
       "      <td>1.0</td>\n",
       "      <td>1</td>\n",
       "    </tr>\n",
       "    <tr>\n",
       "      <th>21</th>\n",
       "      <td>b'0da344690f6c4d879a6dba876a188827'</td>\n",
       "      <td>2</td>\n",
       "      <td>324743689465</td>\n",
       "      <td>-1</td>\n",
       "      <td>-1.378467</td>\n",
       "      <td>1</td>\n",
       "      <td>2.0</td>\n",
       "      <td>1.0</td>\n",
       "      <td>1.0</td>\n",
       "      <td>1</td>\n",
       "    </tr>\n",
       "    <tr>\n",
       "      <th>30</th>\n",
       "      <td>b'12fecb0f78154b42bea3da5f19eecb48'</td>\n",
       "      <td>1</td>\n",
       "      <td>334700341142</td>\n",
       "      <td>-1</td>\n",
       "      <td>-1.095907</td>\n",
       "      <td>1</td>\n",
       "      <td>1.0</td>\n",
       "      <td>1.0</td>\n",
       "      <td>1.0</td>\n",
       "      <td>1</td>\n",
       "    </tr>\n",
       "    <tr>\n",
       "      <th>31</th>\n",
       "      <td>b'12fecb0f78154b42bea3da5f19eecb48'</td>\n",
       "      <td>2</td>\n",
       "      <td>403905220516</td>\n",
       "      <td>-1</td>\n",
       "      <td>-1.156610</td>\n",
       "      <td>0</td>\n",
       "      <td>2.0</td>\n",
       "      <td>1.0</td>\n",
       "      <td>1.0</td>\n",
       "      <td>1</td>\n",
       "    </tr>\n",
       "    <tr>\n",
       "      <th>39</th>\n",
       "      <td>b'157c5be3ad5a41ffbec181f5134a0610'</td>\n",
       "      <td>1</td>\n",
       "      <td>224329520602</td>\n",
       "      <td>-1</td>\n",
       "      <td>0.286346</td>\n",
       "      <td>0</td>\n",
       "      <td>8.0</td>\n",
       "      <td>1.0</td>\n",
       "      <td>1.0</td>\n",
       "      <td>0</td>\n",
       "    </tr>\n",
       "    <tr>\n",
       "      <th>40</th>\n",
       "      <td>b'157c5be3ad5a41ffbec181f5134a0610'</td>\n",
       "      <td>2</td>\n",
       "      <td>124794465889</td>\n",
       "      <td>-1</td>\n",
       "      <td>0.510239</td>\n",
       "      <td>0</td>\n",
       "      <td>3.0</td>\n",
       "      <td>1.0</td>\n",
       "      <td>1.0</td>\n",
       "      <td>0</td>\n",
       "    </tr>\n",
       "  </tbody>\n",
       "</table>\n",
       "</div>"
      ],
      "text/plain": [
       "                                   meid  mlrRank        itemId  \\\n",
       "0   b'06c811dbcf3f4e8492ec13ad4943baa8'        1  165886259355   \n",
       "1   b'06c811dbcf3f4e8492ec13ad4943baa8'        2  304758681643   \n",
       "10  b'07ce1dd8391e449589b84356ce60178d'        1  325491413337   \n",
       "11  b'07ce1dd8391e449589b84356ce60178d'        2  125317339557   \n",
       "20  b'0da344690f6c4d879a6dba876a188827'        1  285081438854   \n",
       "21  b'0da344690f6c4d879a6dba876a188827'        2  324743689465   \n",
       "30  b'12fecb0f78154b42bea3da5f19eecb48'        1  334700341142   \n",
       "31  b'12fecb0f78154b42bea3da5f19eecb48'        2  403905220516   \n",
       "39  b'157c5be3ad5a41ffbec181f5134a0610'        1  224329520602   \n",
       "40  b'157c5be3ad5a41ffbec181f5134a0610'        2  124794465889   \n",
       "\n",
       "    labels.labelClassicBBE    y_pred  label  rank_unbiased  \\\n",
       "0                       -1  0.585968      0            1.0   \n",
       "1                       -1 -0.149370      1            6.0   \n",
       "10                      -1  0.491914      1            1.0   \n",
       "11                      -1 -2.507590      0            7.0   \n",
       "20                      -1 -1.287927      0            1.0   \n",
       "21                      -1 -1.378467      1            2.0   \n",
       "30                      -1 -1.095907      1            1.0   \n",
       "31                      -1 -1.156610      0            2.0   \n",
       "39                      -1  0.286346      0            8.0   \n",
       "40                      -1  0.510239      0            3.0   \n",
       "\n",
       "    X_test_sample_weight  X_test_sample_weight_eval  ranks_are_equal  \n",
       "0                    1.0                        1.0                1  \n",
       "1                    1.0                        1.0                0  \n",
       "10                   1.0                        1.0                1  \n",
       "11                   1.0                        1.0                0  \n",
       "20                   1.0                        1.0                1  \n",
       "21                   1.0                        1.0                1  \n",
       "30                   1.0                        1.0                1  \n",
       "31                   1.0                        1.0                1  \n",
       "39                   1.0                        1.0                0  \n",
       "40                   1.0                        1.0                0  "
      ]
     },
     "execution_count": 39,
     "metadata": {},
     "output_type": "execute_result"
    }
   ],
   "source": [
    "pdf_rank12.head(10)"
   ]
  },
  {
   "cell_type": "code",
   "execution_count": 135,
   "id": "3038ca74-f5dc-438e-bdb3-27f0112d8d6b",
   "metadata": {},
   "outputs": [
    {
     "data": {
      "text/html": [
       "<div>\n",
       "<style scoped>\n",
       "    .dataframe tbody tr th:only-of-type {\n",
       "        vertical-align: middle;\n",
       "    }\n",
       "\n",
       "    .dataframe tbody tr th {\n",
       "        vertical-align: top;\n",
       "    }\n",
       "\n",
       "    .dataframe thead th {\n",
       "        text-align: right;\n",
       "    }\n",
       "</style>\n",
       "<table border=\"1\" class=\"dataframe\">\n",
       "  <thead>\n",
       "    <tr style=\"text-align: right;\">\n",
       "      <th></th>\n",
       "      <th>meid</th>\n",
       "      <th>itemId</th>\n",
       "      <th>mlrRank</th>\n",
       "      <th>y_pred</th>\n",
       "      <th>rank_unbiased</th>\n",
       "      <th>ranks_are_equal</th>\n",
       "    </tr>\n",
       "  </thead>\n",
       "  <tbody>\n",
       "    <tr>\n",
       "      <th>0</th>\n",
       "      <td>b'06c811dbcf3f4e8492ec13ad4943baa8'</td>\n",
       "      <td>165886259355</td>\n",
       "      <td>1</td>\n",
       "      <td>0.585968</td>\n",
       "      <td>1.0</td>\n",
       "      <td>1</td>\n",
       "    </tr>\n",
       "    <tr>\n",
       "      <th>1</th>\n",
       "      <td>b'06c811dbcf3f4e8492ec13ad4943baa8'</td>\n",
       "      <td>304758681643</td>\n",
       "      <td>2</td>\n",
       "      <td>-0.149370</td>\n",
       "      <td>6.0</td>\n",
       "      <td>0</td>\n",
       "    </tr>\n",
       "    <tr>\n",
       "      <th>10</th>\n",
       "      <td>b'07ce1dd8391e449589b84356ce60178d'</td>\n",
       "      <td>325491413337</td>\n",
       "      <td>1</td>\n",
       "      <td>0.491914</td>\n",
       "      <td>1.0</td>\n",
       "      <td>1</td>\n",
       "    </tr>\n",
       "    <tr>\n",
       "      <th>11</th>\n",
       "      <td>b'07ce1dd8391e449589b84356ce60178d'</td>\n",
       "      <td>125317339557</td>\n",
       "      <td>2</td>\n",
       "      <td>-2.507590</td>\n",
       "      <td>7.0</td>\n",
       "      <td>0</td>\n",
       "    </tr>\n",
       "    <tr>\n",
       "      <th>20</th>\n",
       "      <td>b'0da344690f6c4d879a6dba876a188827'</td>\n",
       "      <td>285081438854</td>\n",
       "      <td>1</td>\n",
       "      <td>-1.287927</td>\n",
       "      <td>1.0</td>\n",
       "      <td>1</td>\n",
       "    </tr>\n",
       "    <tr>\n",
       "      <th>21</th>\n",
       "      <td>b'0da344690f6c4d879a6dba876a188827'</td>\n",
       "      <td>324743689465</td>\n",
       "      <td>2</td>\n",
       "      <td>-1.378467</td>\n",
       "      <td>2.0</td>\n",
       "      <td>1</td>\n",
       "    </tr>\n",
       "    <tr>\n",
       "      <th>30</th>\n",
       "      <td>b'12fecb0f78154b42bea3da5f19eecb48'</td>\n",
       "      <td>334700341142</td>\n",
       "      <td>1</td>\n",
       "      <td>-1.095907</td>\n",
       "      <td>1.0</td>\n",
       "      <td>1</td>\n",
       "    </tr>\n",
       "    <tr>\n",
       "      <th>31</th>\n",
       "      <td>b'12fecb0f78154b42bea3da5f19eecb48'</td>\n",
       "      <td>403905220516</td>\n",
       "      <td>2</td>\n",
       "      <td>-1.156610</td>\n",
       "      <td>2.0</td>\n",
       "      <td>1</td>\n",
       "    </tr>\n",
       "    <tr>\n",
       "      <th>39</th>\n",
       "      <td>b'157c5be3ad5a41ffbec181f5134a0610'</td>\n",
       "      <td>224329520602</td>\n",
       "      <td>1</td>\n",
       "      <td>0.286346</td>\n",
       "      <td>8.0</td>\n",
       "      <td>0</td>\n",
       "    </tr>\n",
       "    <tr>\n",
       "      <th>40</th>\n",
       "      <td>b'157c5be3ad5a41ffbec181f5134a0610'</td>\n",
       "      <td>124794465889</td>\n",
       "      <td>2</td>\n",
       "      <td>0.510239</td>\n",
       "      <td>3.0</td>\n",
       "      <td>0</td>\n",
       "    </tr>\n",
       "  </tbody>\n",
       "</table>\n",
       "</div>"
      ],
      "text/plain": [
       "                                   meid        itemId  mlrRank    y_pred  \\\n",
       "0   b'06c811dbcf3f4e8492ec13ad4943baa8'  165886259355        1  0.585968   \n",
       "1   b'06c811dbcf3f4e8492ec13ad4943baa8'  304758681643        2 -0.149370   \n",
       "10  b'07ce1dd8391e449589b84356ce60178d'  325491413337        1  0.491914   \n",
       "11  b'07ce1dd8391e449589b84356ce60178d'  125317339557        2 -2.507590   \n",
       "20  b'0da344690f6c4d879a6dba876a188827'  285081438854        1 -1.287927   \n",
       "21  b'0da344690f6c4d879a6dba876a188827'  324743689465        2 -1.378467   \n",
       "30  b'12fecb0f78154b42bea3da5f19eecb48'  334700341142        1 -1.095907   \n",
       "31  b'12fecb0f78154b42bea3da5f19eecb48'  403905220516        2 -1.156610   \n",
       "39  b'157c5be3ad5a41ffbec181f5134a0610'  224329520602        1  0.286346   \n",
       "40  b'157c5be3ad5a41ffbec181f5134a0610'  124794465889        2  0.510239   \n",
       "\n",
       "    rank_unbiased  ranks_are_equal  \n",
       "0             1.0                1  \n",
       "1             6.0                0  \n",
       "10            1.0                1  \n",
       "11            7.0                0  \n",
       "20            1.0                1  \n",
       "21            2.0                1  \n",
       "30            1.0                1  \n",
       "31            2.0                1  \n",
       "39            8.0                0  \n",
       "40            3.0                0  "
      ]
     },
     "execution_count": 135,
     "metadata": {},
     "output_type": "execute_result"
    }
   ],
   "source": [
    "pdf_rank12[['meid','itemId','mlrRank', 'y_pred','rank_unbiased','ranks_are_equal']].head(10)"
   ]
  },
  {
   "cell_type": "code",
   "execution_count": 67,
   "id": "2fe4c7f7-ac90-4a9a-b4cd-6ac2f69c55d3",
   "metadata": {},
   "outputs": [],
   "source": [
    "pdf_rank_equal=pdf_rank12.groupby('meid')['ranks_are_equal'].sum().to_frame().reset_index()"
   ]
  },
  {
   "cell_type": "code",
   "execution_count": 70,
   "id": "11b9f0a3-c762-4602-b02e-3d73e09c5a02",
   "metadata": {},
   "outputs": [
    {
     "data": {
      "text/plain": [
       "(199677, 2)"
      ]
     },
     "execution_count": 70,
     "metadata": {},
     "output_type": "execute_result"
    }
   ],
   "source": [
    "pdf_rank_equal.shape"
   ]
  },
  {
   "cell_type": "code",
   "execution_count": 69,
   "id": "e0756626-8e0e-47c9-a0d2-d7d521996639",
   "metadata": {},
   "outputs": [
    {
     "data": {
      "text/html": [
       "<div>\n",
       "<style scoped>\n",
       "    .dataframe tbody tr th:only-of-type {\n",
       "        vertical-align: middle;\n",
       "    }\n",
       "\n",
       "    .dataframe tbody tr th {\n",
       "        vertical-align: top;\n",
       "    }\n",
       "\n",
       "    .dataframe thead th {\n",
       "        text-align: right;\n",
       "    }\n",
       "</style>\n",
       "<table border=\"1\" class=\"dataframe\">\n",
       "  <thead>\n",
       "    <tr style=\"text-align: right;\">\n",
       "      <th></th>\n",
       "      <th>meid</th>\n",
       "      <th>ranks_are_equal</th>\n",
       "    </tr>\n",
       "  </thead>\n",
       "  <tbody>\n",
       "    <tr>\n",
       "      <th>0</th>\n",
       "      <td>b'0000265fbd7a44aca48a906adeff8875'</td>\n",
       "      <td>1</td>\n",
       "    </tr>\n",
       "    <tr>\n",
       "      <th>1</th>\n",
       "      <td>b'00040e543b0546ccb0a22e0cc20175de'</td>\n",
       "      <td>2</td>\n",
       "    </tr>\n",
       "    <tr>\n",
       "      <th>2</th>\n",
       "      <td>b'000e0759753843e18ab6c20a768cc399'</td>\n",
       "      <td>0</td>\n",
       "    </tr>\n",
       "    <tr>\n",
       "      <th>3</th>\n",
       "      <td>b'000e0d9eea8842ebacbc9de0879b1e95'</td>\n",
       "      <td>1</td>\n",
       "    </tr>\n",
       "    <tr>\n",
       "      <th>4</th>\n",
       "      <td>b'00124e66895343c196fdbd4666f02374'</td>\n",
       "      <td>0</td>\n",
       "    </tr>\n",
       "    <tr>\n",
       "      <th>5</th>\n",
       "      <td>b'0012aeb60dc24886b2a9a46e1ed04916'</td>\n",
       "      <td>1</td>\n",
       "    </tr>\n",
       "    <tr>\n",
       "      <th>6</th>\n",
       "      <td>b'0013f8f576d64cc9a6da1124e2aba5e4'</td>\n",
       "      <td>1</td>\n",
       "    </tr>\n",
       "    <tr>\n",
       "      <th>7</th>\n",
       "      <td>b'0014c18b15524ea5b0e5e58f45664ef6'</td>\n",
       "      <td>0</td>\n",
       "    </tr>\n",
       "    <tr>\n",
       "      <th>8</th>\n",
       "      <td>b'0015258cd13c41c69b951cd2cc21acfa'</td>\n",
       "      <td>0</td>\n",
       "    </tr>\n",
       "    <tr>\n",
       "      <th>9</th>\n",
       "      <td>b'001539fc62994c47ad0ea5ec01142273'</td>\n",
       "      <td>1</td>\n",
       "    </tr>\n",
       "  </tbody>\n",
       "</table>\n",
       "</div>"
      ],
      "text/plain": [
       "                                  meid  ranks_are_equal\n",
       "0  b'0000265fbd7a44aca48a906adeff8875'                1\n",
       "1  b'00040e543b0546ccb0a22e0cc20175de'                2\n",
       "2  b'000e0759753843e18ab6c20a768cc399'                0\n",
       "3  b'000e0d9eea8842ebacbc9de0879b1e95'                1\n",
       "4  b'00124e66895343c196fdbd4666f02374'                0\n",
       "5  b'0012aeb60dc24886b2a9a46e1ed04916'                1\n",
       "6  b'0013f8f576d64cc9a6da1124e2aba5e4'                1\n",
       "7  b'0014c18b15524ea5b0e5e58f45664ef6'                0\n",
       "8  b'0015258cd13c41c69b951cd2cc21acfa'                0\n",
       "9  b'001539fc62994c47ad0ea5ec01142273'                1"
      ]
     },
     "execution_count": 69,
     "metadata": {},
     "output_type": "execute_result"
    }
   ],
   "source": [
    "pdf_rank_equal.head(10)"
   ]
  },
  {
   "cell_type": "code",
   "execution_count": 71,
   "id": "8965dd9f-32d8-4048-81a3-02d73bc327bd",
   "metadata": {},
   "outputs": [
    {
     "data": {
      "text/plain": [
       "(49487, 2)"
      ]
     },
     "execution_count": 71,
     "metadata": {},
     "output_type": "execute_result"
    }
   ],
   "source": [
    "pdf_rank_equal[pdf_rank_equal['ranks_are_equal']==2].shape"
   ]
  },
  {
   "cell_type": "code",
   "execution_count": 72,
   "id": "0e78366f-8632-41b7-8105-bf172cc5b67a",
   "metadata": {},
   "outputs": [
    {
     "data": {
      "text/plain": [
       "(71737, 2)"
      ]
     },
     "execution_count": 72,
     "metadata": {},
     "output_type": "execute_result"
    }
   ],
   "source": [
    "pdf_rank_equal[pdf_rank_equal['ranks_are_equal']==1].shape"
   ]
  },
  {
   "cell_type": "code",
   "execution_count": 73,
   "id": "487dae88-b28e-4ee7-91b6-bbb66007e185",
   "metadata": {},
   "outputs": [
    {
     "data": {
      "text/plain": [
       "0.2478352539351052"
      ]
     },
     "execution_count": 73,
     "metadata": {},
     "output_type": "execute_result"
    }
   ],
   "source": [
    "49487/199677"
   ]
  },
  {
   "cell_type": "code",
   "execution_count": 74,
   "id": "2a0429b5-6109-4f20-85f6-889518590e26",
   "metadata": {},
   "outputs": [
    {
     "data": {
      "text/plain": [
       "0.359265213319511"
      ]
     },
     "execution_count": 74,
     "metadata": {},
     "output_type": "execute_result"
    }
   ],
   "source": [
    "71737/199677"
   ]
  },
  {
   "cell_type": "markdown",
   "id": "4d1cc3e5-82f0-4228-b735-21b30c3c137b",
   "metadata": {},
   "source": [
    "#### Purchases examination: "
   ]
  },
  {
   "cell_type": "code",
   "execution_count": 40,
   "id": "09fc8743-e2a6-453c-a6b5-8fecc6fe5b73",
   "metadata": {},
   "outputs": [],
   "source": [
    "purchase=pdf[pdf['label']==6].copy()"
   ]
  },
  {
   "cell_type": "code",
   "execution_count": 41,
   "id": "072a2d6d-f34d-4d13-8c6c-b6255b498a58",
   "metadata": {},
   "outputs": [],
   "source": [
    "purchase['rank_change_purchase']=purchase['mlrRank']-purchase['rank_unbiased']"
   ]
  },
  {
   "cell_type": "code",
   "execution_count": 42,
   "id": "42ab078c-080a-485d-9ee5-6b941e451499",
   "metadata": {},
   "outputs": [
    {
     "data": {
      "text/plain": [
       "(2224, 10)"
      ]
     },
     "execution_count": 42,
     "metadata": {},
     "output_type": "execute_result"
    }
   ],
   "source": [
    "purchase.shape"
   ]
  },
  {
   "cell_type": "code",
   "execution_count": 43,
   "id": "169d2edb-cb9d-49e0-ab45-b0c913e282ab",
   "metadata": {},
   "outputs": [
    {
     "data": {
      "text/plain": [
       "2207"
      ]
     },
     "execution_count": 43,
     "metadata": {},
     "output_type": "execute_result"
    }
   ],
   "source": [
    "purchase.meid.nunique()"
   ]
  },
  {
   "cell_type": "code",
   "execution_count": 44,
   "id": "f90b3924-1138-43d6-8bb7-666197874bd6",
   "metadata": {},
   "outputs": [
    {
     "data": {
      "text/html": [
       "<div>\n",
       "<style scoped>\n",
       "    .dataframe tbody tr th:only-of-type {\n",
       "        vertical-align: middle;\n",
       "    }\n",
       "\n",
       "    .dataframe tbody tr th {\n",
       "        vertical-align: top;\n",
       "    }\n",
       "\n",
       "    .dataframe thead th {\n",
       "        text-align: right;\n",
       "    }\n",
       "</style>\n",
       "<table border=\"1\" class=\"dataframe\">\n",
       "  <thead>\n",
       "    <tr style=\"text-align: right;\">\n",
       "      <th></th>\n",
       "      <th>meid</th>\n",
       "      <th>itemId</th>\n",
       "      <th>label</th>\n",
       "      <th>mlrRank</th>\n",
       "      <th>y_pred</th>\n",
       "      <th>rank_unbiased</th>\n",
       "      <th>rank_change_purchase</th>\n",
       "    </tr>\n",
       "  </thead>\n",
       "  <tbody>\n",
       "    <tr>\n",
       "      <th>1172</th>\n",
       "      <td>b'c58b1e79dfd943f381d7366c419a319e'</td>\n",
       "      <td>165487744403</td>\n",
       "      <td>6</td>\n",
       "      <td>6</td>\n",
       "      <td>-0.398481</td>\n",
       "      <td>3.0</td>\n",
       "      <td>3.0</td>\n",
       "    </tr>\n",
       "    <tr>\n",
       "      <th>3305</th>\n",
       "      <td>b'b33d607410444938b598fd20ca6c70a5'</td>\n",
       "      <td>304764435518</td>\n",
       "      <td>6</td>\n",
       "      <td>1</td>\n",
       "      <td>1.090774</td>\n",
       "      <td>2.0</td>\n",
       "      <td>-1.0</td>\n",
       "    </tr>\n",
       "    <tr>\n",
       "      <th>3872</th>\n",
       "      <td>b'736582f5fc674b169548c9f547f444b2'</td>\n",
       "      <td>204144864985</td>\n",
       "      <td>6</td>\n",
       "      <td>2</td>\n",
       "      <td>0.727310</td>\n",
       "      <td>2.0</td>\n",
       "      <td>0.0</td>\n",
       "    </tr>\n",
       "    <tr>\n",
       "      <th>3873</th>\n",
       "      <td>b'736582f5fc674b169548c9f547f444b2'</td>\n",
       "      <td>155138650725</td>\n",
       "      <td>6</td>\n",
       "      <td>3</td>\n",
       "      <td>0.230287</td>\n",
       "      <td>9.0</td>\n",
       "      <td>-6.0</td>\n",
       "    </tr>\n",
       "    <tr>\n",
       "      <th>3924</th>\n",
       "      <td>b'91394c358a7348ec8cd2ff277c2512c4'</td>\n",
       "      <td>304598665996</td>\n",
       "      <td>6</td>\n",
       "      <td>6</td>\n",
       "      <td>1.563599</td>\n",
       "      <td>3.0</td>\n",
       "      <td>3.0</td>\n",
       "    </tr>\n",
       "    <tr>\n",
       "      <th>...</th>\n",
       "      <td>...</td>\n",
       "      <td>...</td>\n",
       "      <td>...</td>\n",
       "      <td>...</td>\n",
       "      <td>...</td>\n",
       "      <td>...</td>\n",
       "      <td>...</td>\n",
       "    </tr>\n",
       "    <tr>\n",
       "      <th>1926881</th>\n",
       "      <td>b'2b925d1c8b2b43e18f6400e2cce9669c'</td>\n",
       "      <td>195553112917</td>\n",
       "      <td>6</td>\n",
       "      <td>1</td>\n",
       "      <td>0.972419</td>\n",
       "      <td>3.0</td>\n",
       "      <td>-2.0</td>\n",
       "    </tr>\n",
       "    <tr>\n",
       "      <th>1926981</th>\n",
       "      <td>b'919e4b442f6542b8949d5b8e0ce9f329'</td>\n",
       "      <td>266066042485</td>\n",
       "      <td>6</td>\n",
       "      <td>1</td>\n",
       "      <td>3.371333</td>\n",
       "      <td>1.0</td>\n",
       "      <td>0.0</td>\n",
       "    </tr>\n",
       "    <tr>\n",
       "      <th>1927022</th>\n",
       "      <td>b'c55cb045e35e4b9dab6fd3c0088e8cdf'</td>\n",
       "      <td>404089083269</td>\n",
       "      <td>6</td>\n",
       "      <td>2</td>\n",
       "      <td>1.439514</td>\n",
       "      <td>1.0</td>\n",
       "      <td>1.0</td>\n",
       "    </tr>\n",
       "    <tr>\n",
       "      <th>1927256</th>\n",
       "      <td>b'a3d3c940727b493da34d09a6d696d268'</td>\n",
       "      <td>324858378745</td>\n",
       "      <td>6</td>\n",
       "      <td>2</td>\n",
       "      <td>-1.463149</td>\n",
       "      <td>5.0</td>\n",
       "      <td>-3.0</td>\n",
       "    </tr>\n",
       "    <tr>\n",
       "      <th>1927534</th>\n",
       "      <td>b'a2429897b2d24add904ac86615c5217c'</td>\n",
       "      <td>364110131472</td>\n",
       "      <td>6</td>\n",
       "      <td>1</td>\n",
       "      <td>1.431960</td>\n",
       "      <td>1.0</td>\n",
       "      <td>0.0</td>\n",
       "    </tr>\n",
       "  </tbody>\n",
       "</table>\n",
       "<p>2224 rows × 7 columns</p>\n",
       "</div>"
      ],
      "text/plain": [
       "                                        meid        itemId  label  mlrRank  \\\n",
       "1172     b'c58b1e79dfd943f381d7366c419a319e'  165487744403      6        6   \n",
       "3305     b'b33d607410444938b598fd20ca6c70a5'  304764435518      6        1   \n",
       "3872     b'736582f5fc674b169548c9f547f444b2'  204144864985      6        2   \n",
       "3873     b'736582f5fc674b169548c9f547f444b2'  155138650725      6        3   \n",
       "3924     b'91394c358a7348ec8cd2ff277c2512c4'  304598665996      6        6   \n",
       "...                                      ...           ...    ...      ...   \n",
       "1926881  b'2b925d1c8b2b43e18f6400e2cce9669c'  195553112917      6        1   \n",
       "1926981  b'919e4b442f6542b8949d5b8e0ce9f329'  266066042485      6        1   \n",
       "1927022  b'c55cb045e35e4b9dab6fd3c0088e8cdf'  404089083269      6        2   \n",
       "1927256  b'a3d3c940727b493da34d09a6d696d268'  324858378745      6        2   \n",
       "1927534  b'a2429897b2d24add904ac86615c5217c'  364110131472      6        1   \n",
       "\n",
       "           y_pred  rank_unbiased  rank_change_purchase  \n",
       "1172    -0.398481            3.0                   3.0  \n",
       "3305     1.090774            2.0                  -1.0  \n",
       "3872     0.727310            2.0                   0.0  \n",
       "3873     0.230287            9.0                  -6.0  \n",
       "3924     1.563599            3.0                   3.0  \n",
       "...           ...            ...                   ...  \n",
       "1926881  0.972419            3.0                  -2.0  \n",
       "1926981  3.371333            1.0                   0.0  \n",
       "1927022  1.439514            1.0                   1.0  \n",
       "1927256 -1.463149            5.0                  -3.0  \n",
       "1927534  1.431960            1.0                   0.0  \n",
       "\n",
       "[2224 rows x 7 columns]"
      ]
     },
     "execution_count": 44,
     "metadata": {},
     "output_type": "execute_result"
    }
   ],
   "source": [
    "purchase[['meid','itemId','label','mlrRank', 'y_pred','rank_unbiased','rank_change_purchase']]"
   ]
  },
  {
   "cell_type": "code",
   "execution_count": 54,
   "id": "89367025-81a1-44ae-b2ea-e22388293c47",
   "metadata": {},
   "outputs": [
    {
     "data": {
      "text/plain": [
       "33.40827338129496"
      ]
     },
     "execution_count": 54,
     "metadata": {},
     "output_type": "execute_result"
    }
   ],
   "source": [
    "743/2224 *100"
   ]
  },
  {
   "cell_type": "code",
   "execution_count": 55,
   "id": "51493405-3207-4e7c-830d-3310a93365ab",
   "metadata": {},
   "outputs": [
    {
     "data": {
      "text/plain": [
       "22.257194244604317"
      ]
     },
     "execution_count": 55,
     "metadata": {},
     "output_type": "execute_result"
    }
   ],
   "source": [
    "495/2224*100"
   ]
  },
  {
   "cell_type": "code",
   "execution_count": 56,
   "id": "cb881c48-03d8-4112-8e72-a2b283e95260",
   "metadata": {},
   "outputs": [
    {
     "data": {
      "text/plain": [
       "44.33453237410072"
      ]
     },
     "execution_count": 56,
     "metadata": {},
     "output_type": "execute_result"
    }
   ],
   "source": [
    "986/2224*100"
   ]
  },
  {
   "cell_type": "code",
   "execution_count": 46,
   "id": "39ba0ff8-409f-4abf-8f4a-7b3d05c35aec",
   "metadata": {},
   "outputs": [
    {
     "data": {
      "text/plain": [
       "(495, 10)"
      ]
     },
     "execution_count": 46,
     "metadata": {},
     "output_type": "execute_result"
    }
   ],
   "source": [
    "purchase[purchase['rank_change_purchase']<0].shape"
   ]
  },
  {
   "cell_type": "code",
   "execution_count": 45,
   "id": "8652efaf-6568-40cd-b5a0-74239b70d274",
   "metadata": {},
   "outputs": [
    {
     "data": {
      "text/plain": [
       "(743, 10)"
      ]
     },
     "execution_count": 45,
     "metadata": {},
     "output_type": "execute_result"
    }
   ],
   "source": [
    "purchase[purchase['rank_change_purchase']>0].shape"
   ]
  },
  {
   "cell_type": "code",
   "execution_count": 48,
   "id": "1b3a9234-4993-4da5-b842-bde190c89436",
   "metadata": {},
   "outputs": [
    {
     "data": {
      "text/plain": [
       "(986, 10)"
      ]
     },
     "execution_count": 48,
     "metadata": {},
     "output_type": "execute_result"
    }
   ],
   "source": [
    "purchase[purchase['rank_change_purchase']==0].shape"
   ]
  },
  {
   "cell_type": "code",
   "execution_count": 49,
   "id": "5a1073c3-6d81-40b6-aa13-5f54147c9b8b",
   "metadata": {},
   "outputs": [
    {
     "data": {
      "text/plain": [
       "(1238, 10)"
      ]
     },
     "execution_count": 49,
     "metadata": {},
     "output_type": "execute_result"
    }
   ],
   "source": [
    "purchase[purchase['rank_change_purchase']!=0].shape"
   ]
  },
  {
   "cell_type": "code",
   "execution_count": 174,
   "id": "f1a4705a-3db6-4861-abcc-e35050722a98",
   "metadata": {},
   "outputs": [
    {
     "data": {
      "text/html": [
       "<div>\n",
       "<style scoped>\n",
       "    .dataframe tbody tr th:only-of-type {\n",
       "        vertical-align: middle;\n",
       "    }\n",
       "\n",
       "    .dataframe tbody tr th {\n",
       "        vertical-align: top;\n",
       "    }\n",
       "\n",
       "    .dataframe thead th {\n",
       "        text-align: right;\n",
       "    }\n",
       "</style>\n",
       "<table border=\"1\" class=\"dataframe\">\n",
       "  <thead>\n",
       "    <tr style=\"text-align: right;\">\n",
       "      <th></th>\n",
       "      <th>meid</th>\n",
       "      <th>itemId</th>\n",
       "      <th>label</th>\n",
       "      <th>mlrRank</th>\n",
       "      <th>rank_unbiased</th>\n",
       "      <th>rank_change_purchase</th>\n",
       "    </tr>\n",
       "  </thead>\n",
       "  <tbody>\n",
       "    <tr>\n",
       "      <th>1172</th>\n",
       "      <td>b'c58b1e79dfd943f381d7366c419a319e'</td>\n",
       "      <td>165487744403</td>\n",
       "      <td>6</td>\n",
       "      <td>6</td>\n",
       "      <td>3.0</td>\n",
       "      <td>3.0</td>\n",
       "    </tr>\n",
       "    <tr>\n",
       "      <th>3924</th>\n",
       "      <td>b'91394c358a7348ec8cd2ff277c2512c4'</td>\n",
       "      <td>304598665996</td>\n",
       "      <td>6</td>\n",
       "      <td>6</td>\n",
       "      <td>3.0</td>\n",
       "      <td>3.0</td>\n",
       "    </tr>\n",
       "    <tr>\n",
       "      <th>5529</th>\n",
       "      <td>b'fe5e0701fe9048d49c2e7a8c828734d3'</td>\n",
       "      <td>284195835955</td>\n",
       "      <td>6</td>\n",
       "      <td>9</td>\n",
       "      <td>7.0</td>\n",
       "      <td>2.0</td>\n",
       "    </tr>\n",
       "    <tr>\n",
       "      <th>7880</th>\n",
       "      <td>b'd8c40998337c436981a787650e4d452b'</td>\n",
       "      <td>175554344306</td>\n",
       "      <td>6</td>\n",
       "      <td>2</td>\n",
       "      <td>1.0</td>\n",
       "      <td>1.0</td>\n",
       "    </tr>\n",
       "    <tr>\n",
       "      <th>9102</th>\n",
       "      <td>b'ea525e450ed9431890b140dd615dca51'</td>\n",
       "      <td>394413695428</td>\n",
       "      <td>6</td>\n",
       "      <td>4</td>\n",
       "      <td>1.0</td>\n",
       "      <td>3.0</td>\n",
       "    </tr>\n",
       "    <tr>\n",
       "      <th>10179</th>\n",
       "      <td>b'485dfe4bf60a4350b39afaf5fb231806'</td>\n",
       "      <td>394355380109</td>\n",
       "      <td>6</td>\n",
       "      <td>2</td>\n",
       "      <td>1.0</td>\n",
       "      <td>1.0</td>\n",
       "    </tr>\n",
       "    <tr>\n",
       "      <th>17878</th>\n",
       "      <td>b'a287e86360544edfbd54a779aefe0e5a'</td>\n",
       "      <td>182707960943</td>\n",
       "      <td>6</td>\n",
       "      <td>2</td>\n",
       "      <td>1.0</td>\n",
       "      <td>1.0</td>\n",
       "    </tr>\n",
       "    <tr>\n",
       "      <th>19371</th>\n",
       "      <td>b'd0db30b0b5494b4dafccab4e5e994f05'</td>\n",
       "      <td>144843204263</td>\n",
       "      <td>6</td>\n",
       "      <td>7</td>\n",
       "      <td>3.0</td>\n",
       "      <td>4.0</td>\n",
       "    </tr>\n",
       "    <tr>\n",
       "      <th>21821</th>\n",
       "      <td>b'830044e2b7434b4d83310d982254141e'</td>\n",
       "      <td>284317217035</td>\n",
       "      <td>6</td>\n",
       "      <td>5</td>\n",
       "      <td>1.0</td>\n",
       "      <td>4.0</td>\n",
       "    </tr>\n",
       "    <tr>\n",
       "      <th>24738</th>\n",
       "      <td>b'a1afe2d36ef345d3ae667329b70e0cd7'</td>\n",
       "      <td>392975715412</td>\n",
       "      <td>6</td>\n",
       "      <td>5</td>\n",
       "      <td>1.0</td>\n",
       "      <td>4.0</td>\n",
       "    </tr>\n",
       "  </tbody>\n",
       "</table>\n",
       "</div>"
      ],
      "text/plain": [
       "                                      meid        itemId  label  mlrRank  \\\n",
       "1172   b'c58b1e79dfd943f381d7366c419a319e'  165487744403      6        6   \n",
       "3924   b'91394c358a7348ec8cd2ff277c2512c4'  304598665996      6        6   \n",
       "5529   b'fe5e0701fe9048d49c2e7a8c828734d3'  284195835955      6        9   \n",
       "7880   b'd8c40998337c436981a787650e4d452b'  175554344306      6        2   \n",
       "9102   b'ea525e450ed9431890b140dd615dca51'  394413695428      6        4   \n",
       "10179  b'485dfe4bf60a4350b39afaf5fb231806'  394355380109      6        2   \n",
       "17878  b'a287e86360544edfbd54a779aefe0e5a'  182707960943      6        2   \n",
       "19371  b'd0db30b0b5494b4dafccab4e5e994f05'  144843204263      6        7   \n",
       "21821  b'830044e2b7434b4d83310d982254141e'  284317217035      6        5   \n",
       "24738  b'a1afe2d36ef345d3ae667329b70e0cd7'  392975715412      6        5   \n",
       "\n",
       "       rank_unbiased  rank_change_purchase  \n",
       "1172             3.0                   3.0  \n",
       "3924             3.0                   3.0  \n",
       "5529             7.0                   2.0  \n",
       "7880             1.0                   1.0  \n",
       "9102             1.0                   3.0  \n",
       "10179            1.0                   1.0  \n",
       "17878            1.0                   1.0  \n",
       "19371            3.0                   4.0  \n",
       "21821            1.0                   4.0  \n",
       "24738            1.0                   4.0  "
      ]
     },
     "execution_count": 174,
     "metadata": {},
     "output_type": "execute_result"
    }
   ],
   "source": [
    "purchase[purchase['rank_change_purchase']>0]\\\n",
    "[['meid','itemId','label','mlrRank','rank_unbiased','rank_change_purchase']].head(10)"
   ]
  },
  {
   "cell_type": "code",
   "execution_count": 61,
   "id": "60bd111a-1a09-4548-a376-33a164f99005",
   "metadata": {},
   "outputs": [
    {
     "data": {
      "text/html": [
       "<div>\n",
       "<style scoped>\n",
       "    .dataframe tbody tr th:only-of-type {\n",
       "        vertical-align: middle;\n",
       "    }\n",
       "\n",
       "    .dataframe tbody tr th {\n",
       "        vertical-align: top;\n",
       "    }\n",
       "\n",
       "    .dataframe thead th {\n",
       "        text-align: right;\n",
       "    }\n",
       "</style>\n",
       "<table border=\"1\" class=\"dataframe\">\n",
       "  <thead>\n",
       "    <tr style=\"text-align: right;\">\n",
       "      <th></th>\n",
       "      <th>meid</th>\n",
       "      <th>itemId</th>\n",
       "      <th>label</th>\n",
       "      <th>mlrRank</th>\n",
       "      <th>rank_unbiased</th>\n",
       "      <th>rank_change_purchase</th>\n",
       "    </tr>\n",
       "  </thead>\n",
       "  <tbody>\n",
       "    <tr>\n",
       "      <th>3305</th>\n",
       "      <td>b'b33d607410444938b598fd20ca6c70a5'</td>\n",
       "      <td>304764435518</td>\n",
       "      <td>6</td>\n",
       "      <td>1</td>\n",
       "      <td>2.0</td>\n",
       "      <td>-1.0</td>\n",
       "    </tr>\n",
       "    <tr>\n",
       "      <th>3873</th>\n",
       "      <td>b'736582f5fc674b169548c9f547f444b2'</td>\n",
       "      <td>155138650725</td>\n",
       "      <td>6</td>\n",
       "      <td>3</td>\n",
       "      <td>9.0</td>\n",
       "      <td>-6.0</td>\n",
       "    </tr>\n",
       "    <tr>\n",
       "      <th>3950</th>\n",
       "      <td>b'ade9614d20b4454582c8f42a4938dcfb'</td>\n",
       "      <td>234679926823</td>\n",
       "      <td>6</td>\n",
       "      <td>2</td>\n",
       "      <td>3.0</td>\n",
       "      <td>-1.0</td>\n",
       "    </tr>\n",
       "    <tr>\n",
       "      <th>9663</th>\n",
       "      <td>b'a74b2486d8e04aa5926fa9fcf02afe6b'</td>\n",
       "      <td>394412606218</td>\n",
       "      <td>6</td>\n",
       "      <td>2</td>\n",
       "      <td>4.0</td>\n",
       "      <td>-2.0</td>\n",
       "    </tr>\n",
       "    <tr>\n",
       "      <th>10117</th>\n",
       "      <td>b'06ecbb725e2b44948e391e90a57b7133'</td>\n",
       "      <td>134401293973</td>\n",
       "      <td>6</td>\n",
       "      <td>5</td>\n",
       "      <td>7.0</td>\n",
       "      <td>-2.0</td>\n",
       "    </tr>\n",
       "    <tr>\n",
       "      <th>10333</th>\n",
       "      <td>b'ad3663bdc0024e7789585ada33e268b0'</td>\n",
       "      <td>195406869838</td>\n",
       "      <td>6</td>\n",
       "      <td>2</td>\n",
       "      <td>4.0</td>\n",
       "      <td>-2.0</td>\n",
       "    </tr>\n",
       "    <tr>\n",
       "      <th>11681</th>\n",
       "      <td>b'9fef216ee082474189285174904260c7'</td>\n",
       "      <td>284440902138</td>\n",
       "      <td>6</td>\n",
       "      <td>1</td>\n",
       "      <td>3.0</td>\n",
       "      <td>-2.0</td>\n",
       "    </tr>\n",
       "    <tr>\n",
       "      <th>18701</th>\n",
       "      <td>b'b2dc0f83d70f4c4ea52cf9e6643f6935'</td>\n",
       "      <td>144169096437</td>\n",
       "      <td>6</td>\n",
       "      <td>1</td>\n",
       "      <td>2.0</td>\n",
       "      <td>-1.0</td>\n",
       "    </tr>\n",
       "    <tr>\n",
       "      <th>21717</th>\n",
       "      <td>b'47fbf0796fcc4d19b40a6ea9db398c1f'</td>\n",
       "      <td>314285951405</td>\n",
       "      <td>6</td>\n",
       "      <td>1</td>\n",
       "      <td>3.0</td>\n",
       "      <td>-2.0</td>\n",
       "    </tr>\n",
       "    <tr>\n",
       "      <th>25481</th>\n",
       "      <td>b'06d4dc250166461ab1f582114da16c85'</td>\n",
       "      <td>255423095857</td>\n",
       "      <td>6</td>\n",
       "      <td>3</td>\n",
       "      <td>4.0</td>\n",
       "      <td>-1.0</td>\n",
       "    </tr>\n",
       "  </tbody>\n",
       "</table>\n",
       "</div>"
      ],
      "text/plain": [
       "                                      meid        itemId  label  mlrRank  \\\n",
       "3305   b'b33d607410444938b598fd20ca6c70a5'  304764435518      6        1   \n",
       "3873   b'736582f5fc674b169548c9f547f444b2'  155138650725      6        3   \n",
       "3950   b'ade9614d20b4454582c8f42a4938dcfb'  234679926823      6        2   \n",
       "9663   b'a74b2486d8e04aa5926fa9fcf02afe6b'  394412606218      6        2   \n",
       "10117  b'06ecbb725e2b44948e391e90a57b7133'  134401293973      6        5   \n",
       "10333  b'ad3663bdc0024e7789585ada33e268b0'  195406869838      6        2   \n",
       "11681  b'9fef216ee082474189285174904260c7'  284440902138      6        1   \n",
       "18701  b'b2dc0f83d70f4c4ea52cf9e6643f6935'  144169096437      6        1   \n",
       "21717  b'47fbf0796fcc4d19b40a6ea9db398c1f'  314285951405      6        1   \n",
       "25481  b'06d4dc250166461ab1f582114da16c85'  255423095857      6        3   \n",
       "\n",
       "       rank_unbiased  rank_change_purchase  \n",
       "3305             2.0                  -1.0  \n",
       "3873             9.0                  -6.0  \n",
       "3950             3.0                  -1.0  \n",
       "9663             4.0                  -2.0  \n",
       "10117            7.0                  -2.0  \n",
       "10333            4.0                  -2.0  \n",
       "11681            3.0                  -2.0  \n",
       "18701            2.0                  -1.0  \n",
       "21717            3.0                  -2.0  \n",
       "25481            4.0                  -1.0  "
      ]
     },
     "execution_count": 61,
     "metadata": {},
     "output_type": "execute_result"
    }
   ],
   "source": [
    "purchase[purchase['rank_change_purchase']<0]\\\n",
    "[['meid','itemId','label','mlrRank','rank_unbiased','rank_change_purchase']].head(10)"
   ]
  },
  {
   "cell_type": "code",
   "execution_count": 164,
   "id": "59800e14-c9a1-4464-801a-79f8993eca4c",
   "metadata": {},
   "outputs": [
    {
     "data": {
      "text/plain": [
       "2.6971736204576042"
      ]
     },
     "execution_count": 164,
     "metadata": {},
     "output_type": "execute_result"
    }
   ],
   "source": [
    "purchase[purchase['rank_change_purchase']>0]['rank_change_purchase'].mean()"
   ]
  },
  {
   "cell_type": "code",
   "execution_count": 57,
   "id": "58ff515a-c3b7-4ed3-bc90-100613583aa8",
   "metadata": {},
   "outputs": [
    {
     "data": {
      "text/plain": [
       "-2.0303030303030303"
      ]
     },
     "execution_count": 57,
     "metadata": {},
     "output_type": "execute_result"
    }
   ],
   "source": [
    "purchase[purchase['rank_change_purchase']<0]['rank_change_purchase'].mean()"
   ]
  },
  {
   "cell_type": "code",
   "execution_count": 59,
   "id": "70d57aea-5baf-4cf2-8b92-f8404aed982e",
   "metadata": {},
   "outputs": [
    {
     "data": {
      "text/plain": [
       "0.8069466882067852"
      ]
     },
     "execution_count": 59,
     "metadata": {},
     "output_type": "execute_result"
    }
   ],
   "source": [
    "purchase[purchase['rank_change_purchase']!=0]['rank_change_purchase'].mean()"
   ]
  },
  {
   "cell_type": "code",
   "execution_count": 60,
   "id": "e3a6466d-c30c-4efc-90c3-fcd8ab33f78c",
   "metadata": {},
   "outputs": [
    {
     "data": {
      "text/plain": [
       "1.0"
      ]
     },
     "execution_count": 60,
     "metadata": {},
     "output_type": "execute_result"
    }
   ],
   "source": [
    "purchase[purchase['rank_change_purchase']!=0]['rank_change_purchase'].quantile(0.5)"
   ]
  },
  {
   "cell_type": "code",
   "execution_count": 172,
   "id": "5f9d83e5-e40a-4ab5-b9c1-543afc1a0f2a",
   "metadata": {},
   "outputs": [
    {
     "data": {
      "text/plain": [
       "2.0"
      ]
     },
     "execution_count": 172,
     "metadata": {},
     "output_type": "execute_result"
    }
   ],
   "source": [
    "purchase[purchase['rank_change_purchase']>0]['rank_change_purchase'].quantile(0.5)"
   ]
  },
  {
   "cell_type": "code",
   "execution_count": 58,
   "id": "e0071c79-bba6-4349-98fa-4b2540d6b4be",
   "metadata": {},
   "outputs": [
    {
     "data": {
      "text/plain": [
       "-1.0"
      ]
     },
     "execution_count": 58,
     "metadata": {},
     "output_type": "execute_result"
    }
   ],
   "source": [
    "purchase[purchase['rank_change_purchase']<0]['rank_change_purchase'].quantile(0.5)"
   ]
  },
  {
   "cell_type": "markdown",
   "id": "5d7a1d9a-2f30-41fd-9f9a-dc6d81dc5e48",
   "metadata": {},
   "source": [
    "### Distribution of purchase ranks:"
   ]
  },
  {
   "cell_type": "code",
   "execution_count": 62,
   "id": "30819d66-9555-492f-a046-95000101794f",
   "metadata": {},
   "outputs": [],
   "source": [
    "purchase_rank=purchase.groupby('mlrRank')['label'].count().to_frame().reset_index() "
   ]
  },
  {
   "cell_type": "code",
   "execution_count": 63,
   "id": "d1efe957-d880-4cf2-aeb2-bbe44c634908",
   "metadata": {},
   "outputs": [
    {
     "data": {
      "text/plain": [
       "mlrRank     154\n",
       "label      2224\n",
       "dtype: int64"
      ]
     },
     "execution_count": 63,
     "metadata": {},
     "output_type": "execute_result"
    }
   ],
   "source": [
    "purchase_rank.sum()"
   ]
  },
  {
   "cell_type": "code",
   "execution_count": 64,
   "id": "34594c4c-e044-476c-ba45-a8d468c013b2",
   "metadata": {},
   "outputs": [],
   "source": [
    "purchase_rank=purchase_rank[purchase_rank['mlrRank']<=10].copy()"
   ]
  },
  {
   "cell_type": "code",
   "execution_count": 65,
   "id": "0bd43831-9938-4652-9940-a8117fa4c6ec",
   "metadata": {},
   "outputs": [
    {
     "data": {
      "text/plain": [
       "2204"
      ]
     },
     "execution_count": 65,
     "metadata": {},
     "output_type": "execute_result"
    }
   ],
   "source": [
    "purchase[purchase['mlrRank']<=10].meid.nunique()"
   ]
  },
  {
   "cell_type": "code",
   "execution_count": 66,
   "id": "307cc612-7832-4d3c-bcf5-5528d62d91e3",
   "metadata": {},
   "outputs": [
    {
     "data": {
      "text/plain": [
       "mlrRank      55\n",
       "label      2220\n",
       "dtype: int64"
      ]
     },
     "execution_count": 66,
     "metadata": {},
     "output_type": "execute_result"
    }
   ],
   "source": [
    "purchase_rank.sum()"
   ]
  },
  {
   "cell_type": "code",
   "execution_count": 67,
   "id": "6184f926-dbbd-46aa-a9e0-e869c1dda2e2",
   "metadata": {},
   "outputs": [],
   "source": [
    "purchase_rank['%purchases']=(purchase_rank['label']/purchase_rank['label'].sum()*100).round(0)"
   ]
  },
  {
   "cell_type": "code",
   "execution_count": 68,
   "id": "14cb95b3-f345-4ff3-a329-ee137ce2df76",
   "metadata": {},
   "outputs": [],
   "source": [
    "purchase_rank['%cumulative_sum_purchases']=purchase_rank['%purchases'].cumsum()"
   ]
  },
  {
   "cell_type": "code",
   "execution_count": 69,
   "id": "3b1f80c2-233d-40ec-93d8-86e318522d59",
   "metadata": {},
   "outputs": [
    {
     "data": {
      "text/html": [
       "<div>\n",
       "<style scoped>\n",
       "    .dataframe tbody tr th:only-of-type {\n",
       "        vertical-align: middle;\n",
       "    }\n",
       "\n",
       "    .dataframe tbody tr th {\n",
       "        vertical-align: top;\n",
       "    }\n",
       "\n",
       "    .dataframe thead th {\n",
       "        text-align: right;\n",
       "    }\n",
       "</style>\n",
       "<table border=\"1\" class=\"dataframe\">\n",
       "  <thead>\n",
       "    <tr style=\"text-align: right;\">\n",
       "      <th></th>\n",
       "      <th>mlrRank</th>\n",
       "      <th>label</th>\n",
       "      <th>%purchases</th>\n",
       "      <th>%cumulative_sum_purchases</th>\n",
       "    </tr>\n",
       "  </thead>\n",
       "  <tbody>\n",
       "    <tr>\n",
       "      <th>0</th>\n",
       "      <td>1</td>\n",
       "      <td>928</td>\n",
       "      <td>42.0</td>\n",
       "      <td>42.0</td>\n",
       "    </tr>\n",
       "    <tr>\n",
       "      <th>1</th>\n",
       "      <td>2</td>\n",
       "      <td>497</td>\n",
       "      <td>22.0</td>\n",
       "      <td>64.0</td>\n",
       "    </tr>\n",
       "    <tr>\n",
       "      <th>2</th>\n",
       "      <td>3</td>\n",
       "      <td>196</td>\n",
       "      <td>9.0</td>\n",
       "      <td>73.0</td>\n",
       "    </tr>\n",
       "    <tr>\n",
       "      <th>3</th>\n",
       "      <td>4</td>\n",
       "      <td>156</td>\n",
       "      <td>7.0</td>\n",
       "      <td>80.0</td>\n",
       "    </tr>\n",
       "    <tr>\n",
       "      <th>4</th>\n",
       "      <td>5</td>\n",
       "      <td>117</td>\n",
       "      <td>5.0</td>\n",
       "      <td>85.0</td>\n",
       "    </tr>\n",
       "    <tr>\n",
       "      <th>5</th>\n",
       "      <td>6</td>\n",
       "      <td>81</td>\n",
       "      <td>4.0</td>\n",
       "      <td>89.0</td>\n",
       "    </tr>\n",
       "    <tr>\n",
       "      <th>6</th>\n",
       "      <td>7</td>\n",
       "      <td>72</td>\n",
       "      <td>3.0</td>\n",
       "      <td>92.0</td>\n",
       "    </tr>\n",
       "    <tr>\n",
       "      <th>7</th>\n",
       "      <td>8</td>\n",
       "      <td>53</td>\n",
       "      <td>2.0</td>\n",
       "      <td>94.0</td>\n",
       "    </tr>\n",
       "    <tr>\n",
       "      <th>8</th>\n",
       "      <td>9</td>\n",
       "      <td>64</td>\n",
       "      <td>3.0</td>\n",
       "      <td>97.0</td>\n",
       "    </tr>\n",
       "    <tr>\n",
       "      <th>9</th>\n",
       "      <td>10</td>\n",
       "      <td>56</td>\n",
       "      <td>3.0</td>\n",
       "      <td>100.0</td>\n",
       "    </tr>\n",
       "  </tbody>\n",
       "</table>\n",
       "</div>"
      ],
      "text/plain": [
       "   mlrRank  label  %purchases  %cumulative_sum_purchases\n",
       "0        1    928        42.0                       42.0\n",
       "1        2    497        22.0                       64.0\n",
       "2        3    196         9.0                       73.0\n",
       "3        4    156         7.0                       80.0\n",
       "4        5    117         5.0                       85.0\n",
       "5        6     81         4.0                       89.0\n",
       "6        7     72         3.0                       92.0\n",
       "7        8     53         2.0                       94.0\n",
       "8        9     64         3.0                       97.0\n",
       "9       10     56         3.0                      100.0"
      ]
     },
     "execution_count": 69,
     "metadata": {},
     "output_type": "execute_result"
    }
   ],
   "source": [
    "purchase_rank"
   ]
  },
  {
   "cell_type": "code",
   "execution_count": 128,
   "id": "8fce2d77-5863-4d0a-96db-77f43f8da6c2",
   "metadata": {},
   "outputs": [
    {
     "data": {
      "image/png": "[encoded data removed]",
      "text/plain": [
       "<Figure size 432x288 with 1 Axes>"
      ]
     },
     "metadata": {
      "needs_background": "light"
     },
     "output_type": "display_data"
    }
   ],
   "source": [
    "ax = purchase_rank.plot.bar(x='mlrRank', y='%purchases', rot=0)"
   ]
  },
  {
   "cell_type": "code",
   "execution_count": 148,
   "id": "9bd786d2-eda6-41d7-bd3d-9614fbd76cb5",
   "metadata": {},
   "outputs": [],
   "source": [
    "rank_change_purchase=purchase['mlrRank']-purchase['rank_unbiased']"
   ]
  },
  {
   "cell_type": "code",
   "execution_count": 150,
   "id": "3c20e736-4aee-4acd-94db-639f5b68272a",
   "metadata": {},
   "outputs": [
    {
     "data": {
      "text/plain": [
       "1172       3.0\n",
       "3305      -1.0\n",
       "3872       0.0\n",
       "3873      -6.0\n",
       "3924       3.0\n",
       "          ... \n",
       "1926881   -2.0\n",
       "1926981    0.0\n",
       "1927022    1.0\n",
       "1927256   -3.0\n",
       "1927534    0.0\n",
       "Length: 2224, dtype: float64"
      ]
     },
     "execution_count": 150,
     "metadata": {},
     "output_type": "execute_result"
    }
   ],
   "source": [
    "rank_change_purchase"
   ]
  },
  {
   "cell_type": "code",
   "execution_count": 149,
   "id": "5fd7e169-83bf-4c3f-a06c-2c57219241d9",
   "metadata": {},
   "outputs": [
    {
     "data": {
      "text/plain": [
       "0.44919064748201437"
      ]
     },
     "execution_count": 149,
     "metadata": {},
     "output_type": "execute_result"
    }
   ],
   "source": [
    "rank_change_purchase.mean()"
   ]
  },
  {
   "cell_type": "code",
   "execution_count": 151,
   "id": "38af7cb5-9789-48d3-abae-8459bc196718",
   "metadata": {},
   "outputs": [
    {
     "data": {
      "text/plain": [
       "0.0"
      ]
     },
     "execution_count": 151,
     "metadata": {},
     "output_type": "execute_result"
    }
   ],
   "source": [
    "rank_change_purchase.quantile(0.5)"
   ]
  },
  {
   "cell_type": "code",
   "execution_count": 158,
   "id": "0d3ffb83-b21f-4577-a29b-fe5f6fab3f01",
   "metadata": {},
   "outputs": [
    {
     "data": {
      "text/plain": [
       "1.0"
      ]
     },
     "execution_count": 158,
     "metadata": {},
     "output_type": "execute_result"
    }
   ],
   "source": [
    "rank_change_purchase.quantile(0.75)"
   ]
  },
  {
   "cell_type": "code",
   "execution_count": 159,
   "id": "cc09ee52-a111-445a-ba9f-5d21d53210b3",
   "metadata": {},
   "outputs": [
    {
     "data": {
      "text/plain": [
       "5.0"
      ]
     },
     "execution_count": 159,
     "metadata": {},
     "output_type": "execute_result"
    }
   ],
   "source": [
    "rank_change_purchase.quantile(0.95)"
   ]
  },
  {
   "cell_type": "markdown",
   "id": "4975ea3b-4f75-4e38-8d41-65cddfa5a8b5",
   "metadata": {},
   "source": [
    "### Purchase examination of piyi v7 vs v7 unbiased:"
   ]
  },
  {
   "cell_type": "code",
   "execution_count": 54,
   "id": "77a43605-ba06-4b93-8654-d32e0dbeb746",
   "metadata": {},
   "outputs": [
    {
     "data": {
      "text/html": [
       "<div>\n",
       "<style scoped>\n",
       "    .dataframe tbody tr th:only-of-type {\n",
       "        vertical-align: middle;\n",
       "    }\n",
       "\n",
       "    .dataframe tbody tr th {\n",
       "        vertical-align: top;\n",
       "    }\n",
       "\n",
       "    .dataframe thead th {\n",
       "        text-align: right;\n",
       "    }\n",
       "</style>\n",
       "<table border=\"1\" class=\"dataframe\">\n",
       "  <thead>\n",
       "    <tr style=\"text-align: right;\">\n",
       "      <th></th>\n",
       "      <th>meid</th>\n",
       "      <th>mlrRank_x</th>\n",
       "      <th>itemId</th>\n",
       "      <th>y_pred</th>\n",
       "      <th>label_x</th>\n",
       "      <th>rank_unbiased</th>\n",
       "      <th>mlrRank_y</th>\n",
       "      <th>y_pred_v7</th>\n",
       "      <th>label_y</th>\n",
       "      <th>rank_v7</th>\n",
       "    </tr>\n",
       "  </thead>\n",
       "  <tbody>\n",
       "    <tr>\n",
       "      <th>0</th>\n",
       "      <td>b'0000265fbd7a44aca48a906adeff8875'</td>\n",
       "      <td>1</td>\n",
       "      <td>134404248997</td>\n",
       "      <td>-0.483707</td>\n",
       "      <td>0</td>\n",
       "      <td>1.0</td>\n",
       "      <td>1</td>\n",
       "      <td>-0.412333</td>\n",
       "      <td>0</td>\n",
       "      <td>1.0</td>\n",
       "    </tr>\n",
       "    <tr>\n",
       "      <th>1</th>\n",
       "      <td>b'0000265fbd7a44aca48a906adeff8875'</td>\n",
       "      <td>2</td>\n",
       "      <td>144875276572</td>\n",
       "      <td>-0.992528</td>\n",
       "      <td>0</td>\n",
       "      <td>5.0</td>\n",
       "      <td>2</td>\n",
       "      <td>-1.093016</td>\n",
       "      <td>0</td>\n",
       "      <td>3.0</td>\n",
       "    </tr>\n",
       "    <tr>\n",
       "      <th>2</th>\n",
       "      <td>b'0000265fbd7a44aca48a906adeff8875'</td>\n",
       "      <td>3</td>\n",
       "      <td>234653614858</td>\n",
       "      <td>-0.812157</td>\n",
       "      <td>1</td>\n",
       "      <td>3.0</td>\n",
       "      <td>3</td>\n",
       "      <td>-1.134505</td>\n",
       "      <td>1</td>\n",
       "      <td>4.0</td>\n",
       "    </tr>\n",
       "    <tr>\n",
       "      <th>3</th>\n",
       "      <td>b'0000265fbd7a44aca48a906adeff8875'</td>\n",
       "      <td>4</td>\n",
       "      <td>255793472038</td>\n",
       "      <td>-0.780089</td>\n",
       "      <td>0</td>\n",
       "      <td>2.0</td>\n",
       "      <td>4</td>\n",
       "      <td>-1.141674</td>\n",
       "      <td>0</td>\n",
       "      <td>5.0</td>\n",
       "    </tr>\n",
       "    <tr>\n",
       "      <th>4</th>\n",
       "      <td>b'0000265fbd7a44aca48a906adeff8875'</td>\n",
       "      <td>5</td>\n",
       "      <td>404029139250</td>\n",
       "      <td>-1.391939</td>\n",
       "      <td>0</td>\n",
       "      <td>7.0</td>\n",
       "      <td>5</td>\n",
       "      <td>-1.825263</td>\n",
       "      <td>0</td>\n",
       "      <td>9.0</td>\n",
       "    </tr>\n",
       "    <tr>\n",
       "      <th>5</th>\n",
       "      <td>b'0000265fbd7a44aca48a906adeff8875'</td>\n",
       "      <td>6</td>\n",
       "      <td>175568244289</td>\n",
       "      <td>-1.158522</td>\n",
       "      <td>0</td>\n",
       "      <td>6.0</td>\n",
       "      <td>6</td>\n",
       "      <td>-1.467183</td>\n",
       "      <td>0</td>\n",
       "      <td>6.0</td>\n",
       "    </tr>\n",
       "    <tr>\n",
       "      <th>6</th>\n",
       "      <td>b'0000265fbd7a44aca48a906adeff8875'</td>\n",
       "      <td>7</td>\n",
       "      <td>394293977076</td>\n",
       "      <td>-0.905359</td>\n",
       "      <td>0</td>\n",
       "      <td>4.0</td>\n",
       "      <td>7</td>\n",
       "      <td>-0.876004</td>\n",
       "      <td>0</td>\n",
       "      <td>2.0</td>\n",
       "    </tr>\n",
       "    <tr>\n",
       "      <th>7</th>\n",
       "      <td>b'0000265fbd7a44aca48a906adeff8875'</td>\n",
       "      <td>8</td>\n",
       "      <td>295251065804</td>\n",
       "      <td>-1.878634</td>\n",
       "      <td>0</td>\n",
       "      <td>10.0</td>\n",
       "      <td>8</td>\n",
       "      <td>-2.111445</td>\n",
       "      <td>0</td>\n",
       "      <td>10.0</td>\n",
       "    </tr>\n",
       "    <tr>\n",
       "      <th>8</th>\n",
       "      <td>b'0000265fbd7a44aca48a906adeff8875'</td>\n",
       "      <td>9</td>\n",
       "      <td>265991957603</td>\n",
       "      <td>-1.501192</td>\n",
       "      <td>0</td>\n",
       "      <td>8.0</td>\n",
       "      <td>9</td>\n",
       "      <td>-1.567383</td>\n",
       "      <td>0</td>\n",
       "      <td>7.0</td>\n",
       "    </tr>\n",
       "    <tr>\n",
       "      <th>9</th>\n",
       "      <td>b'0000265fbd7a44aca48a906adeff8875'</td>\n",
       "      <td>10</td>\n",
       "      <td>234776254554</td>\n",
       "      <td>-1.798797</td>\n",
       "      <td>1</td>\n",
       "      <td>9.0</td>\n",
       "      <td>10</td>\n",
       "      <td>-1.740605</td>\n",
       "      <td>1</td>\n",
       "      <td>8.0</td>\n",
       "    </tr>\n",
       "  </tbody>\n",
       "</table>\n",
       "</div>"
      ],
      "text/plain": [
       "                                  meid  mlrRank_x        itemId    y_pred  \\\n",
       "0  b'0000265fbd7a44aca48a906adeff8875'          1  134404248997 -0.483707   \n",
       "1  b'0000265fbd7a44aca48a906adeff8875'          2  144875276572 -0.992528   \n",
       "2  b'0000265fbd7a44aca48a906adeff8875'          3  234653614858 -0.812157   \n",
       "3  b'0000265fbd7a44aca48a906adeff8875'          4  255793472038 -0.780089   \n",
       "4  b'0000265fbd7a44aca48a906adeff8875'          5  404029139250 -1.391939   \n",
       "5  b'0000265fbd7a44aca48a906adeff8875'          6  175568244289 -1.158522   \n",
       "6  b'0000265fbd7a44aca48a906adeff8875'          7  394293977076 -0.905359   \n",
       "7  b'0000265fbd7a44aca48a906adeff8875'          8  295251065804 -1.878634   \n",
       "8  b'0000265fbd7a44aca48a906adeff8875'          9  265991957603 -1.501192   \n",
       "9  b'0000265fbd7a44aca48a906adeff8875'         10  234776254554 -1.798797   \n",
       "\n",
       "   label_x  rank_unbiased  mlrRank_y  y_pred_v7  label_y  rank_v7  \n",
       "0        0            1.0          1  -0.412333        0      1.0  \n",
       "1        0            5.0          2  -1.093016        0      3.0  \n",
       "2        1            3.0          3  -1.134505        1      4.0  \n",
       "3        0            2.0          4  -1.141674        0      5.0  \n",
       "4        0            7.0          5  -1.825263        0      9.0  \n",
       "5        0            6.0          6  -1.467183        0      6.0  \n",
       "6        0            4.0          7  -0.876004        0      2.0  \n",
       "7        0           10.0          8  -2.111445        0     10.0  \n",
       "8        0            8.0          9  -1.567383        0      7.0  \n",
       "9        1            9.0         10  -1.740605        1      8.0  "
      ]
     },
     "execution_count": 54,
     "metadata": {},
     "output_type": "execute_result"
    }
   ],
   "source": [
    "pdf_both.head(10)"
   ]
  },
  {
   "cell_type": "code",
   "execution_count": 55,
   "id": "fbb13ef3-8ce9-49d0-9aad-f77f39061878",
   "metadata": {},
   "outputs": [],
   "source": [
    "purchase_both=pdf_both[pdf_both['label_x']==6].copy()"
   ]
  },
  {
   "cell_type": "code",
   "execution_count": 56,
   "id": "ba461a89-d2bc-4612-8f81-9062bd165580",
   "metadata": {},
   "outputs": [],
   "source": [
    "purchase_both['rank_change_purchase']=purchase_both['rank_v7']-purchase_both['rank_unbiased']"
   ]
  },
  {
   "cell_type": "code",
   "execution_count": 57,
   "id": "7e3e6407-3d2c-4dfd-bdc2-01a7435e5182",
   "metadata": {},
   "outputs": [
    {
     "data": {
      "text/plain": [
       "(2224, 11)"
      ]
     },
     "execution_count": 57,
     "metadata": {},
     "output_type": "execute_result"
    }
   ],
   "source": [
    "purchase_both.shape"
   ]
  },
  {
   "cell_type": "code",
   "execution_count": 58,
   "id": "f0124ffb-9846-4db7-81c0-6dabfd2553b0",
   "metadata": {},
   "outputs": [
    {
     "data": {
      "text/plain": [
       "2207"
      ]
     },
     "execution_count": 58,
     "metadata": {},
     "output_type": "execute_result"
    }
   ],
   "source": [
    "purchase_both.meid.nunique()"
   ]
  },
  {
   "cell_type": "code",
   "execution_count": 60,
   "id": "d9926014-8ba4-4ee4-85cb-b1afa2a1806f",
   "metadata": {},
   "outputs": [
    {
     "data": {
      "text/html": [
       "<div>\n",
       "<style scoped>\n",
       "    .dataframe tbody tr th:only-of-type {\n",
       "        vertical-align: middle;\n",
       "    }\n",
       "\n",
       "    .dataframe tbody tr th {\n",
       "        vertical-align: top;\n",
       "    }\n",
       "\n",
       "    .dataframe thead th {\n",
       "        text-align: right;\n",
       "    }\n",
       "</style>\n",
       "<table border=\"1\" class=\"dataframe\">\n",
       "  <thead>\n",
       "    <tr style=\"text-align: right;\">\n",
       "      <th></th>\n",
       "      <th>meid</th>\n",
       "      <th>mlrRank_x</th>\n",
       "      <th>itemId</th>\n",
       "      <th>y_pred</th>\n",
       "      <th>label_x</th>\n",
       "      <th>rank_unbiased</th>\n",
       "      <th>mlrRank_y</th>\n",
       "      <th>y_pred_v7</th>\n",
       "      <th>label_y</th>\n",
       "      <th>rank_v7</th>\n",
       "      <th>rank_change_purchase</th>\n",
       "    </tr>\n",
       "  </thead>\n",
       "  <tbody>\n",
       "    <tr>\n",
       "      <th>2300</th>\n",
       "      <td>b'0052f3046ccf4b2aa061b5479e9ac8cb'</td>\n",
       "      <td>9</td>\n",
       "      <td>364093752759</td>\n",
       "      <td>0.222854</td>\n",
       "      <td>6</td>\n",
       "      <td>4.0</td>\n",
       "      <td>9</td>\n",
       "      <td>-0.216227</td>\n",
       "      <td>6</td>\n",
       "      <td>5.0</td>\n",
       "      <td>1.0</td>\n",
       "    </tr>\n",
       "    <tr>\n",
       "      <th>12784</th>\n",
       "      <td>b'035670bf6811492aa17657e6449344dd'</td>\n",
       "      <td>10</td>\n",
       "      <td>144865306753</td>\n",
       "      <td>-0.577166</td>\n",
       "      <td>6</td>\n",
       "      <td>7.0</td>\n",
       "      <td>10</td>\n",
       "      <td>-0.594763</td>\n",
       "      <td>6</td>\n",
       "      <td>8.0</td>\n",
       "      <td>1.0</td>\n",
       "    </tr>\n",
       "    <tr>\n",
       "      <th>19445</th>\n",
       "      <td>b'05264618583546808a02938a7d8ec242'</td>\n",
       "      <td>1</td>\n",
       "      <td>325496804406</td>\n",
       "      <td>0.565105</td>\n",
       "      <td>6</td>\n",
       "      <td>1.0</td>\n",
       "      <td>1</td>\n",
       "      <td>0.355706</td>\n",
       "      <td>6</td>\n",
       "      <td>2.0</td>\n",
       "      <td>1.0</td>\n",
       "    </tr>\n",
       "    <tr>\n",
       "      <th>30831</th>\n",
       "      <td>b'06d4dc250166461ab1f582114da16c85'</td>\n",
       "      <td>3</td>\n",
       "      <td>255423095857</td>\n",
       "      <td>-0.254280</td>\n",
       "      <td>6</td>\n",
       "      <td>4.0</td>\n",
       "      <td>3</td>\n",
       "      <td>-0.413058</td>\n",
       "      <td>6</td>\n",
       "      <td>6.0</td>\n",
       "      <td>2.0</td>\n",
       "    </tr>\n",
       "    <tr>\n",
       "      <th>32163</th>\n",
       "      <td>b'070bd5bfda5841bd8b7da66d94d14382'</td>\n",
       "      <td>2</td>\n",
       "      <td>225270276620</td>\n",
       "      <td>0.640784</td>\n",
       "      <td>6</td>\n",
       "      <td>1.0</td>\n",
       "      <td>2</td>\n",
       "      <td>0.722844</td>\n",
       "      <td>6</td>\n",
       "      <td>2.0</td>\n",
       "      <td>1.0</td>\n",
       "    </tr>\n",
       "    <tr>\n",
       "      <th>32431</th>\n",
       "      <td>b'07167b55081941d292afb81f7ca3614b'</td>\n",
       "      <td>4</td>\n",
       "      <td>225363036254</td>\n",
       "      <td>0.209705</td>\n",
       "      <td>6</td>\n",
       "      <td>5.0</td>\n",
       "      <td>4</td>\n",
       "      <td>0.852649</td>\n",
       "      <td>6</td>\n",
       "      <td>6.0</td>\n",
       "      <td>1.0</td>\n",
       "    </tr>\n",
       "    <tr>\n",
       "      <th>34229</th>\n",
       "      <td>b'0771ffc89a58433da4c4b2c32e7feaaa'</td>\n",
       "      <td>2</td>\n",
       "      <td>302921115889</td>\n",
       "      <td>2.245628</td>\n",
       "      <td>6</td>\n",
       "      <td>1.0</td>\n",
       "      <td>2</td>\n",
       "      <td>2.058161</td>\n",
       "      <td>6</td>\n",
       "      <td>4.0</td>\n",
       "      <td>3.0</td>\n",
       "    </tr>\n",
       "    <tr>\n",
       "      <th>35782</th>\n",
       "      <td>b'07c1b64c95614904970e1b265cd05c79'</td>\n",
       "      <td>4</td>\n",
       "      <td>295415506594</td>\n",
       "      <td>-0.646258</td>\n",
       "      <td>6</td>\n",
       "      <td>4.0</td>\n",
       "      <td>4</td>\n",
       "      <td>-1.150674</td>\n",
       "      <td>6</td>\n",
       "      <td>6.0</td>\n",
       "      <td>2.0</td>\n",
       "    </tr>\n",
       "    <tr>\n",
       "      <th>72275</th>\n",
       "      <td>b'0bf84ebc087a4a9c8f620a87f792878b'</td>\n",
       "      <td>7</td>\n",
       "      <td>314099255480</td>\n",
       "      <td>0.174945</td>\n",
       "      <td>6</td>\n",
       "      <td>5.0</td>\n",
       "      <td>7</td>\n",
       "      <td>0.152822</td>\n",
       "      <td>6</td>\n",
       "      <td>6.0</td>\n",
       "      <td>1.0</td>\n",
       "    </tr>\n",
       "    <tr>\n",
       "      <th>75604</th>\n",
       "      <td>b'0c536e75a23e474a809ab1d07e9cedb0'</td>\n",
       "      <td>4</td>\n",
       "      <td>374294402298</td>\n",
       "      <td>0.256238</td>\n",
       "      <td>6</td>\n",
       "      <td>2.0</td>\n",
       "      <td>4</td>\n",
       "      <td>0.202678</td>\n",
       "      <td>6</td>\n",
       "      <td>4.0</td>\n",
       "      <td>2.0</td>\n",
       "    </tr>\n",
       "  </tbody>\n",
       "</table>\n",
       "</div>"
      ],
      "text/plain": [
       "                                      meid  mlrRank_x        itemId    y_pred  \\\n",
       "2300   b'0052f3046ccf4b2aa061b5479e9ac8cb'          9  364093752759  0.222854   \n",
       "12784  b'035670bf6811492aa17657e6449344dd'         10  144865306753 -0.577166   \n",
       "19445  b'05264618583546808a02938a7d8ec242'          1  325496804406  0.565105   \n",
       "30831  b'06d4dc250166461ab1f582114da16c85'          3  255423095857 -0.254280   \n",
       "32163  b'070bd5bfda5841bd8b7da66d94d14382'          2  225270276620  0.640784   \n",
       "32431  b'07167b55081941d292afb81f7ca3614b'          4  225363036254  0.209705   \n",
       "34229  b'0771ffc89a58433da4c4b2c32e7feaaa'          2  302921115889  2.245628   \n",
       "35782  b'07c1b64c95614904970e1b265cd05c79'          4  295415506594 -0.646258   \n",
       "72275  b'0bf84ebc087a4a9c8f620a87f792878b'          7  314099255480  0.174945   \n",
       "75604  b'0c536e75a23e474a809ab1d07e9cedb0'          4  374294402298  0.256238   \n",
       "\n",
       "       label_x  rank_unbiased  mlrRank_y  y_pred_v7  label_y  rank_v7  \\\n",
       "2300         6            4.0          9  -0.216227        6      5.0   \n",
       "12784        6            7.0         10  -0.594763        6      8.0   \n",
       "19445        6            1.0          1   0.355706        6      2.0   \n",
       "30831        6            4.0          3  -0.413058        6      6.0   \n",
       "32163        6            1.0          2   0.722844        6      2.0   \n",
       "32431        6            5.0          4   0.852649        6      6.0   \n",
       "34229        6            1.0          2   2.058161        6      4.0   \n",
       "35782        6            4.0          4  -1.150674        6      6.0   \n",
       "72275        6            5.0          7   0.152822        6      6.0   \n",
       "75604        6            2.0          4   0.202678        6      4.0   \n",
       "\n",
       "       rank_change_purchase  \n",
       "2300                    1.0  \n",
       "12784                   1.0  \n",
       "19445                   1.0  \n",
       "30831                   2.0  \n",
       "32163                   1.0  \n",
       "32431                   1.0  \n",
       "34229                   3.0  \n",
       "35782                   2.0  \n",
       "72275                   1.0  \n",
       "75604                   2.0  "
      ]
     },
     "execution_count": 60,
     "metadata": {},
     "output_type": "execute_result"
    }
   ],
   "source": [
    "purchase_both[purchase_both['rank_change_purchase']>0].head(10)"
   ]
  },
  {
   "cell_type": "code",
   "execution_count": 61,
   "id": "f53a6367-2192-4346-8b21-77b89f2af0c4",
   "metadata": {},
   "outputs": [
    {
     "data": {
      "text/plain": [
       "1.5278592375366569"
      ]
     },
     "execution_count": 61,
     "metadata": {},
     "output_type": "execute_result"
    }
   ],
   "source": [
    "purchase_both[purchase_both['rank_change_purchase']>0]['rank_change_purchase'].mean()"
   ]
  },
  {
   "cell_type": "code",
   "execution_count": 62,
   "id": "402ce9c7-82dc-4b9d-9e12-dd034b09767e",
   "metadata": {},
   "outputs": [
    {
     "data": {
      "text/plain": [
       "-1.6470588235294117"
      ]
     },
     "execution_count": 62,
     "metadata": {},
     "output_type": "execute_result"
    }
   ],
   "source": [
    "purchase_both[purchase_both['rank_change_purchase']<0]['rank_change_purchase'].mean()"
   ]
  },
  {
   "cell_type": "code",
   "execution_count": 63,
   "id": "b40a0c64-6830-4aa6-9171-8c644e79880b",
   "metadata": {},
   "outputs": [
    {
     "data": {
      "text/plain": [
       "-0.05726872246696035"
      ]
     },
     "execution_count": 63,
     "metadata": {},
     "output_type": "execute_result"
    }
   ],
   "source": [
    "purchase_both[purchase_both['rank_change_purchase']!=0]['rank_change_purchase'].mean()"
   ]
  },
  {
   "cell_type": "code",
   "execution_count": 64,
   "id": "9969b08d-2293-4e93-9ad3-e74577dcc1fe",
   "metadata": {},
   "outputs": [
    {
     "data": {
      "text/plain": [
       "(340, 11)"
      ]
     },
     "execution_count": 64,
     "metadata": {},
     "output_type": "execute_result"
    }
   ],
   "source": [
    "purchase_both[purchase_both['rank_change_purchase']<0].shape"
   ]
  },
  {
   "cell_type": "code",
   "execution_count": 70,
   "id": "26ada718-ff7e-46d9-9151-937446dcc637",
   "metadata": {},
   "outputs": [
    {
     "data": {
      "text/plain": [
       "15.33273381294964"
      ]
     },
     "execution_count": 70,
     "metadata": {},
     "output_type": "execute_result"
    }
   ],
   "source": [
    "341/2224*100"
   ]
  },
  {
   "cell_type": "code",
   "execution_count": 65,
   "id": "f7a88371-4c22-4d72-8e10-b77f3387ac4a",
   "metadata": {},
   "outputs": [
    {
     "data": {
      "text/plain": [
       "(341, 11)"
      ]
     },
     "execution_count": 65,
     "metadata": {},
     "output_type": "execute_result"
    }
   ],
   "source": [
    "purchase_both[purchase_both['rank_change_purchase']>0].shape"
   ]
  },
  {
   "cell_type": "code",
   "execution_count": 66,
   "id": "0d531392-8c40-4d99-b8ae-ba3d6eda2394",
   "metadata": {},
   "outputs": [
    {
     "data": {
      "text/plain": [
       "(1543, 11)"
      ]
     },
     "execution_count": 66,
     "metadata": {},
     "output_type": "execute_result"
    }
   ],
   "source": [
    "purchase_both[purchase_both['rank_change_purchase']==0].shape"
   ]
  },
  {
   "cell_type": "code",
   "execution_count": 67,
   "id": "c180899b-5063-4653-83e0-f63f1bd37335",
   "metadata": {},
   "outputs": [
    {
     "data": {
      "text/plain": [
       "(681, 11)"
      ]
     },
     "execution_count": 67,
     "metadata": {},
     "output_type": "execute_result"
    }
   ],
   "source": [
    "purchase_both[purchase_both['rank_change_purchase']!=0].shape"
   ]
  },
  {
   "cell_type": "code",
   "execution_count": 69,
   "id": "9d68f870-4dc5-4e62-b1c3-42dfdf83e840",
   "metadata": {},
   "outputs": [
    {
     "data": {
      "text/html": [
       "<div>\n",
       "<style scoped>\n",
       "    .dataframe tbody tr th:only-of-type {\n",
       "        vertical-align: middle;\n",
       "    }\n",
       "\n",
       "    .dataframe tbody tr th {\n",
       "        vertical-align: top;\n",
       "    }\n",
       "\n",
       "    .dataframe thead th {\n",
       "        text-align: right;\n",
       "    }\n",
       "</style>\n",
       "<table border=\"1\" class=\"dataframe\">\n",
       "  <thead>\n",
       "    <tr style=\"text-align: right;\">\n",
       "      <th></th>\n",
       "      <th>meid</th>\n",
       "      <th>mlrRank_x</th>\n",
       "      <th>itemId</th>\n",
       "      <th>y_pred</th>\n",
       "      <th>label_x</th>\n",
       "      <th>rank_unbiased</th>\n",
       "      <th>mlrRank_y</th>\n",
       "      <th>y_pred_v7</th>\n",
       "      <th>label_y</th>\n",
       "      <th>rank_v7</th>\n",
       "      <th>rank_change_purchase</th>\n",
       "    </tr>\n",
       "  </thead>\n",
       "  <tbody>\n",
       "    <tr>\n",
       "      <th>2300</th>\n",
       "      <td>b'0052f3046ccf4b2aa061b5479e9ac8cb'</td>\n",
       "      <td>9</td>\n",
       "      <td>364093752759</td>\n",
       "      <td>0.222854</td>\n",
       "      <td>6</td>\n",
       "      <td>4.0</td>\n",
       "      <td>9</td>\n",
       "      <td>-0.216227</td>\n",
       "      <td>6</td>\n",
       "      <td>5.0</td>\n",
       "      <td>1.0</td>\n",
       "    </tr>\n",
       "    <tr>\n",
       "      <th>12784</th>\n",
       "      <td>b'035670bf6811492aa17657e6449344dd'</td>\n",
       "      <td>10</td>\n",
       "      <td>144865306753</td>\n",
       "      <td>-0.577166</td>\n",
       "      <td>6</td>\n",
       "      <td>7.0</td>\n",
       "      <td>10</td>\n",
       "      <td>-0.594763</td>\n",
       "      <td>6</td>\n",
       "      <td>8.0</td>\n",
       "      <td>1.0</td>\n",
       "    </tr>\n",
       "    <tr>\n",
       "      <th>19445</th>\n",
       "      <td>b'05264618583546808a02938a7d8ec242'</td>\n",
       "      <td>1</td>\n",
       "      <td>325496804406</td>\n",
       "      <td>0.565105</td>\n",
       "      <td>6</td>\n",
       "      <td>1.0</td>\n",
       "      <td>1</td>\n",
       "      <td>0.355706</td>\n",
       "      <td>6</td>\n",
       "      <td>2.0</td>\n",
       "      <td>1.0</td>\n",
       "    </tr>\n",
       "    <tr>\n",
       "      <th>30831</th>\n",
       "      <td>b'06d4dc250166461ab1f582114da16c85'</td>\n",
       "      <td>3</td>\n",
       "      <td>255423095857</td>\n",
       "      <td>-0.254280</td>\n",
       "      <td>6</td>\n",
       "      <td>4.0</td>\n",
       "      <td>3</td>\n",
       "      <td>-0.413058</td>\n",
       "      <td>6</td>\n",
       "      <td>6.0</td>\n",
       "      <td>2.0</td>\n",
       "    </tr>\n",
       "    <tr>\n",
       "      <th>32163</th>\n",
       "      <td>b'070bd5bfda5841bd8b7da66d94d14382'</td>\n",
       "      <td>2</td>\n",
       "      <td>225270276620</td>\n",
       "      <td>0.640784</td>\n",
       "      <td>6</td>\n",
       "      <td>1.0</td>\n",
       "      <td>2</td>\n",
       "      <td>0.722844</td>\n",
       "      <td>6</td>\n",
       "      <td>2.0</td>\n",
       "      <td>1.0</td>\n",
       "    </tr>\n",
       "  </tbody>\n",
       "</table>\n",
       "</div>"
      ],
      "text/plain": [
       "                                      meid  mlrRank_x        itemId    y_pred  \\\n",
       "2300   b'0052f3046ccf4b2aa061b5479e9ac8cb'          9  364093752759  0.222854   \n",
       "12784  b'035670bf6811492aa17657e6449344dd'         10  144865306753 -0.577166   \n",
       "19445  b'05264618583546808a02938a7d8ec242'          1  325496804406  0.565105   \n",
       "30831  b'06d4dc250166461ab1f582114da16c85'          3  255423095857 -0.254280   \n",
       "32163  b'070bd5bfda5841bd8b7da66d94d14382'          2  225270276620  0.640784   \n",
       "\n",
       "       label_x  rank_unbiased  mlrRank_y  y_pred_v7  label_y  rank_v7  \\\n",
       "2300         6            4.0          9  -0.216227        6      5.0   \n",
       "12784        6            7.0         10  -0.594763        6      8.0   \n",
       "19445        6            1.0          1   0.355706        6      2.0   \n",
       "30831        6            4.0          3  -0.413058        6      6.0   \n",
       "32163        6            1.0          2   0.722844        6      2.0   \n",
       "\n",
       "       rank_change_purchase  \n",
       "2300                    1.0  \n",
       "12784                   1.0  \n",
       "19445                   1.0  \n",
       "30831                   2.0  \n",
       "32163                   1.0  "
      ]
     },
     "execution_count": 69,
     "metadata": {},
     "output_type": "execute_result"
    }
   ],
   "source": [
    "purchase_both[purchase_both['rank_change_purchase']>0].head(5)"
   ]
  },
  {
   "cell_type": "code",
   "execution_count": 72,
   "id": "2b7e4acd-fd5f-4b9e-923c-76bb79bbf1df",
   "metadata": {},
   "outputs": [
    {
     "data": {
      "text/html": [
       "<div>\n",
       "<style scoped>\n",
       "    .dataframe tbody tr th:only-of-type {\n",
       "        vertical-align: middle;\n",
       "    }\n",
       "\n",
       "    .dataframe tbody tr th {\n",
       "        vertical-align: top;\n",
       "    }\n",
       "\n",
       "    .dataframe thead th {\n",
       "        text-align: right;\n",
       "    }\n",
       "</style>\n",
       "<table border=\"1\" class=\"dataframe\">\n",
       "  <thead>\n",
       "    <tr style=\"text-align: right;\">\n",
       "      <th></th>\n",
       "      <th>meid</th>\n",
       "      <th>mlrRank_x</th>\n",
       "      <th>itemId</th>\n",
       "      <th>y_pred</th>\n",
       "      <th>label_x</th>\n",
       "      <th>rank_unbiased</th>\n",
       "      <th>mlrRank_y</th>\n",
       "      <th>y_pred_v7</th>\n",
       "      <th>label_y</th>\n",
       "      <th>rank_v7</th>\n",
       "      <th>rank_change_purchase</th>\n",
       "    </tr>\n",
       "  </thead>\n",
       "  <tbody>\n",
       "    <tr>\n",
       "      <th>2071</th>\n",
       "      <td>b'004b3e10d9c747ac9c83485142e5e4e6'</td>\n",
       "      <td>8</td>\n",
       "      <td>144851569767</td>\n",
       "      <td>1.112893</td>\n",
       "      <td>6</td>\n",
       "      <td>7.0</td>\n",
       "      <td>8</td>\n",
       "      <td>1.381339</td>\n",
       "      <td>6</td>\n",
       "      <td>4.0</td>\n",
       "      <td>-3.0</td>\n",
       "    </tr>\n",
       "    <tr>\n",
       "      <th>2503</th>\n",
       "      <td>b'005dbd4dcced45988d5dee60c98b6ca2'</td>\n",
       "      <td>4</td>\n",
       "      <td>225275701666</td>\n",
       "      <td>0.413807</td>\n",
       "      <td>6</td>\n",
       "      <td>6.0</td>\n",
       "      <td>4</td>\n",
       "      <td>0.789013</td>\n",
       "      <td>6</td>\n",
       "      <td>4.0</td>\n",
       "      <td>-2.0</td>\n",
       "    </tr>\n",
       "    <tr>\n",
       "      <th>3925</th>\n",
       "      <td>b'00da5393858a4d1a9aacc235b21fc60f'</td>\n",
       "      <td>1</td>\n",
       "      <td>144655948741</td>\n",
       "      <td>0.513425</td>\n",
       "      <td>6</td>\n",
       "      <td>4.0</td>\n",
       "      <td>1</td>\n",
       "      <td>0.983477</td>\n",
       "      <td>6</td>\n",
       "      <td>3.0</td>\n",
       "      <td>-1.0</td>\n",
       "    </tr>\n",
       "    <tr>\n",
       "      <th>4403</th>\n",
       "      <td>b'0117022a6d8b4f5b8d8ef2a720796c2b'</td>\n",
       "      <td>5</td>\n",
       "      <td>295114008658</td>\n",
       "      <td>-0.884203</td>\n",
       "      <td>6</td>\n",
       "      <td>2.0</td>\n",
       "      <td>5</td>\n",
       "      <td>-1.107602</td>\n",
       "      <td>6</td>\n",
       "      <td>1.0</td>\n",
       "      <td>-1.0</td>\n",
       "    </tr>\n",
       "    <tr>\n",
       "      <th>18267</th>\n",
       "      <td>b'04f15ee8a04f4df4a12e4b6dc5a6ef5e'</td>\n",
       "      <td>2</td>\n",
       "      <td>394229056821</td>\n",
       "      <td>1.878969</td>\n",
       "      <td>6</td>\n",
       "      <td>2.0</td>\n",
       "      <td>2</td>\n",
       "      <td>2.005716</td>\n",
       "      <td>6</td>\n",
       "      <td>1.0</td>\n",
       "      <td>-1.0</td>\n",
       "    </tr>\n",
       "    <tr>\n",
       "      <th>21407</th>\n",
       "      <td>b'057befb246cd47e8bb0737369192d1b1'</td>\n",
       "      <td>1</td>\n",
       "      <td>203023662329</td>\n",
       "      <td>0.795258</td>\n",
       "      <td>6</td>\n",
       "      <td>2.0</td>\n",
       "      <td>1</td>\n",
       "      <td>1.524723</td>\n",
       "      <td>6</td>\n",
       "      <td>1.0</td>\n",
       "      <td>-1.0</td>\n",
       "    </tr>\n",
       "    <tr>\n",
       "      <th>32282</th>\n",
       "      <td>b'0711f60cea2c4059ab6a1929c12f3ad3'</td>\n",
       "      <td>1</td>\n",
       "      <td>115581501326</td>\n",
       "      <td>-0.755983</td>\n",
       "      <td>6</td>\n",
       "      <td>4.0</td>\n",
       "      <td>1</td>\n",
       "      <td>-0.425983</td>\n",
       "      <td>6</td>\n",
       "      <td>2.0</td>\n",
       "      <td>-2.0</td>\n",
       "    </tr>\n",
       "    <tr>\n",
       "      <th>32429</th>\n",
       "      <td>b'07167b55081941d292afb81f7ca3614b'</td>\n",
       "      <td>2</td>\n",
       "      <td>225363114464</td>\n",
       "      <td>0.469991</td>\n",
       "      <td>6</td>\n",
       "      <td>4.0</td>\n",
       "      <td>2</td>\n",
       "      <td>1.069199</td>\n",
       "      <td>6</td>\n",
       "      <td>3.0</td>\n",
       "      <td>-1.0</td>\n",
       "    </tr>\n",
       "    <tr>\n",
       "      <th>32432</th>\n",
       "      <td>b'07167b55081941d292afb81f7ca3614b'</td>\n",
       "      <td>5</td>\n",
       "      <td>325505068858</td>\n",
       "      <td>-0.332211</td>\n",
       "      <td>6</td>\n",
       "      <td>10.0</td>\n",
       "      <td>5</td>\n",
       "      <td>0.875097</td>\n",
       "      <td>6</td>\n",
       "      <td>5.0</td>\n",
       "      <td>-5.0</td>\n",
       "    </tr>\n",
       "    <tr>\n",
       "      <th>46385</th>\n",
       "      <td>b'09b1552450cb49a5a2f78e7860d251fb'</td>\n",
       "      <td>4</td>\n",
       "      <td>385314591488</td>\n",
       "      <td>-0.397012</td>\n",
       "      <td>6</td>\n",
       "      <td>4.0</td>\n",
       "      <td>4</td>\n",
       "      <td>-0.305730</td>\n",
       "      <td>6</td>\n",
       "      <td>2.0</td>\n",
       "      <td>-2.0</td>\n",
       "    </tr>\n",
       "  </tbody>\n",
       "</table>\n",
       "</div>"
      ],
      "text/plain": [
       "                                      meid  mlrRank_x        itemId    y_pred  \\\n",
       "2071   b'004b3e10d9c747ac9c83485142e5e4e6'          8  144851569767  1.112893   \n",
       "2503   b'005dbd4dcced45988d5dee60c98b6ca2'          4  225275701666  0.413807   \n",
       "3925   b'00da5393858a4d1a9aacc235b21fc60f'          1  144655948741  0.513425   \n",
       "4403   b'0117022a6d8b4f5b8d8ef2a720796c2b'          5  295114008658 -0.884203   \n",
       "18267  b'04f15ee8a04f4df4a12e4b6dc5a6ef5e'          2  394229056821  1.878969   \n",
       "21407  b'057befb246cd47e8bb0737369192d1b1'          1  203023662329  0.795258   \n",
       "32282  b'0711f60cea2c4059ab6a1929c12f3ad3'          1  115581501326 -0.755983   \n",
       "32429  b'07167b55081941d292afb81f7ca3614b'          2  225363114464  0.469991   \n",
       "32432  b'07167b55081941d292afb81f7ca3614b'          5  325505068858 -0.332211   \n",
       "46385  b'09b1552450cb49a5a2f78e7860d251fb'          4  385314591488 -0.397012   \n",
       "\n",
       "       label_x  rank_unbiased  mlrRank_y  y_pred_v7  label_y  rank_v7  \\\n",
       "2071         6            7.0          8   1.381339        6      4.0   \n",
       "2503         6            6.0          4   0.789013        6      4.0   \n",
       "3925         6            4.0          1   0.983477        6      3.0   \n",
       "4403         6            2.0          5  -1.107602        6      1.0   \n",
       "18267        6            2.0          2   2.005716        6      1.0   \n",
       "21407        6            2.0          1   1.524723        6      1.0   \n",
       "32282        6            4.0          1  -0.425983        6      2.0   \n",
       "32429        6            4.0          2   1.069199        6      3.0   \n",
       "32432        6           10.0          5   0.875097        6      5.0   \n",
       "46385        6            4.0          4  -0.305730        6      2.0   \n",
       "\n",
       "       rank_change_purchase  \n",
       "2071                   -3.0  \n",
       "2503                   -2.0  \n",
       "3925                   -1.0  \n",
       "4403                   -1.0  \n",
       "18267                  -1.0  \n",
       "21407                  -1.0  \n",
       "32282                  -2.0  \n",
       "32429                  -1.0  \n",
       "32432                  -5.0  \n",
       "46385                  -2.0  "
      ]
     },
     "execution_count": 72,
     "metadata": {},
     "output_type": "execute_result"
    }
   ],
   "source": [
    "purchase_both[purchase_both['rank_change_purchase']<0].head(10)"
   ]
  },
  {
   "cell_type": "code",
   "execution_count": 71,
   "id": "74531fc1-62da-4dcb-a9e8-1d33a8a0c95d",
   "metadata": {},
   "outputs": [
    {
     "data": {
      "text/plain": [
       "(2.414118705035971, 2.414118705035971, 2.3965827338129495, 2.3965827338129495)"
      ]
     },
     "execution_count": 71,
     "metadata": {},
     "output_type": "execute_result"
    }
   ],
   "source": [
    "purchase_both.rank_unbiased.mean(), pdf[pdf['label']==6].rank_unbiased.mean(), \\\n",
    "purchase_both.rank_v7.mean(),pdf_v7[pdf_v7['label']==6].rank_v7.mean()"
   ]
  },
  {
   "cell_type": "code",
   "execution_count": 147,
   "id": "b628eb3b-e4ed-4985-ac19-548a73da8853",
   "metadata": {},
   "outputs": [
    {
     "data": {
      "text/html": [
       "<div>\n",
       "<style scoped>\n",
       "    .dataframe tbody tr th:only-of-type {\n",
       "        vertical-align: middle;\n",
       "    }\n",
       "\n",
       "    .dataframe tbody tr th {\n",
       "        vertical-align: top;\n",
       "    }\n",
       "\n",
       "    .dataframe thead th {\n",
       "        text-align: right;\n",
       "    }\n",
       "</style>\n",
       "<table border=\"1\" class=\"dataframe\">\n",
       "  <thead>\n",
       "    <tr style=\"text-align: right;\">\n",
       "      <th></th>\n",
       "      <th>meid</th>\n",
       "      <th>mlrRank_x</th>\n",
       "      <th>itemId</th>\n",
       "      <th>y_pred</th>\n",
       "      <th>label_x</th>\n",
       "      <th>rank_unbiased</th>\n",
       "      <th>mlrRank_y</th>\n",
       "      <th>y_pred_v7</th>\n",
       "      <th>label_y</th>\n",
       "      <th>rank_v7</th>\n",
       "    </tr>\n",
       "  </thead>\n",
       "  <tbody>\n",
       "    <tr>\n",
       "      <th>1167</th>\n",
       "      <td>b'c58b1e79dfd943f381d7366c419a319e'</td>\n",
       "      <td>1</td>\n",
       "      <td>115625126062</td>\n",
       "      <td>-3.062748</td>\n",
       "      <td>0</td>\n",
       "      <td>10.0</td>\n",
       "      <td>1</td>\n",
       "      <td>-1.618979</td>\n",
       "      <td>0</td>\n",
       "      <td>5.0</td>\n",
       "    </tr>\n",
       "    <tr>\n",
       "      <th>1168</th>\n",
       "      <td>b'c58b1e79dfd943f381d7366c419a319e'</td>\n",
       "      <td>2</td>\n",
       "      <td>234597851086</td>\n",
       "      <td>-2.850310</td>\n",
       "      <td>0</td>\n",
       "      <td>9.0</td>\n",
       "      <td>2</td>\n",
       "      <td>-1.250907</td>\n",
       "      <td>0</td>\n",
       "      <td>4.0</td>\n",
       "    </tr>\n",
       "    <tr>\n",
       "      <th>1169</th>\n",
       "      <td>b'c58b1e79dfd943f381d7366c419a319e'</td>\n",
       "      <td>3</td>\n",
       "      <td>275611218043</td>\n",
       "      <td>0.089930</td>\n",
       "      <td>0</td>\n",
       "      <td>1.0</td>\n",
       "      <td>3</td>\n",
       "      <td>-1.620644</td>\n",
       "      <td>0</td>\n",
       "      <td>6.0</td>\n",
       "    </tr>\n",
       "    <tr>\n",
       "      <th>1170</th>\n",
       "      <td>b'c58b1e79dfd943f381d7366c419a319e'</td>\n",
       "      <td>4</td>\n",
       "      <td>403935477783</td>\n",
       "      <td>0.009607</td>\n",
       "      <td>0</td>\n",
       "      <td>2.0</td>\n",
       "      <td>4</td>\n",
       "      <td>-2.366657</td>\n",
       "      <td>0</td>\n",
       "      <td>7.0</td>\n",
       "    </tr>\n",
       "    <tr>\n",
       "      <th>1171</th>\n",
       "      <td>b'c58b1e79dfd943f381d7366c419a319e'</td>\n",
       "      <td>5</td>\n",
       "      <td>155242359880</td>\n",
       "      <td>-1.154720</td>\n",
       "      <td>0</td>\n",
       "      <td>8.0</td>\n",
       "      <td>5</td>\n",
       "      <td>-3.053674</td>\n",
       "      <td>0</td>\n",
       "      <td>8.0</td>\n",
       "    </tr>\n",
       "    <tr>\n",
       "      <th>1172</th>\n",
       "      <td>b'c58b1e79dfd943f381d7366c419a319e'</td>\n",
       "      <td>6</td>\n",
       "      <td>165487744403</td>\n",
       "      <td>-0.398481</td>\n",
       "      <td>6</td>\n",
       "      <td>3.0</td>\n",
       "      <td>6</td>\n",
       "      <td>-3.590724</td>\n",
       "      <td>6</td>\n",
       "      <td>9.0</td>\n",
       "    </tr>\n",
       "    <tr>\n",
       "      <th>1173</th>\n",
       "      <td>b'c58b1e79dfd943f381d7366c419a319e'</td>\n",
       "      <td>7</td>\n",
       "      <td>313533493204</td>\n",
       "      <td>-0.856604</td>\n",
       "      <td>0</td>\n",
       "      <td>5.0</td>\n",
       "      <td>7</td>\n",
       "      <td>-3.594193</td>\n",
       "      <td>0</td>\n",
       "      <td>10.0</td>\n",
       "    </tr>\n",
       "    <tr>\n",
       "      <th>1174</th>\n",
       "      <td>b'c58b1e79dfd943f381d7366c419a319e'</td>\n",
       "      <td>8</td>\n",
       "      <td>204210306498</td>\n",
       "      <td>-0.697792</td>\n",
       "      <td>0</td>\n",
       "      <td>4.0</td>\n",
       "      <td>8</td>\n",
       "      <td>1.362737</td>\n",
       "      <td>0</td>\n",
       "      <td>1.0</td>\n",
       "    </tr>\n",
       "    <tr>\n",
       "      <th>1175</th>\n",
       "      <td>b'c58b1e79dfd943f381d7366c419a319e'</td>\n",
       "      <td>9</td>\n",
       "      <td>234389522055</td>\n",
       "      <td>-1.054022</td>\n",
       "      <td>0</td>\n",
       "      <td>7.0</td>\n",
       "      <td>9</td>\n",
       "      <td>-0.121591</td>\n",
       "      <td>0</td>\n",
       "      <td>3.0</td>\n",
       "    </tr>\n",
       "    <tr>\n",
       "      <th>1176</th>\n",
       "      <td>b'c58b1e79dfd943f381d7366c419a319e'</td>\n",
       "      <td>10</td>\n",
       "      <td>164341603978</td>\n",
       "      <td>-0.880203</td>\n",
       "      <td>0</td>\n",
       "      <td>6.0</td>\n",
       "      <td>10</td>\n",
       "      <td>-0.044056</td>\n",
       "      <td>0</td>\n",
       "      <td>2.0</td>\n",
       "    </tr>\n",
       "  </tbody>\n",
       "</table>\n",
       "</div>"
      ],
      "text/plain": [
       "                                     meid  mlrRank_x        itemId    y_pred  \\\n",
       "1167  b'c58b1e79dfd943f381d7366c419a319e'          1  115625126062 -3.062748   \n",
       "1168  b'c58b1e79dfd943f381d7366c419a319e'          2  234597851086 -2.850310   \n",
       "1169  b'c58b1e79dfd943f381d7366c419a319e'          3  275611218043  0.089930   \n",
       "1170  b'c58b1e79dfd943f381d7366c419a319e'          4  403935477783  0.009607   \n",
       "1171  b'c58b1e79dfd943f381d7366c419a319e'          5  155242359880 -1.154720   \n",
       "1172  b'c58b1e79dfd943f381d7366c419a319e'          6  165487744403 -0.398481   \n",
       "1173  b'c58b1e79dfd943f381d7366c419a319e'          7  313533493204 -0.856604   \n",
       "1174  b'c58b1e79dfd943f381d7366c419a319e'          8  204210306498 -0.697792   \n",
       "1175  b'c58b1e79dfd943f381d7366c419a319e'          9  234389522055 -1.054022   \n",
       "1176  b'c58b1e79dfd943f381d7366c419a319e'         10  164341603978 -0.880203   \n",
       "\n",
       "      label_x  rank_unbiased  mlrRank_y  y_pred_v7  label_y  rank_v7  \n",
       "1167        0           10.0          1  -1.618979        0      5.0  \n",
       "1168        0            9.0          2  -1.250907        0      4.0  \n",
       "1169        0            1.0          3  -1.620644        0      6.0  \n",
       "1170        0            2.0          4  -2.366657        0      7.0  \n",
       "1171        0            8.0          5  -3.053674        0      8.0  \n",
       "1172        6            3.0          6  -3.590724        6      9.0  \n",
       "1173        0            5.0          7  -3.594193        0     10.0  \n",
       "1174        0            4.0          8   1.362737        0      1.0  \n",
       "1175        0            7.0          9  -0.121591        0      3.0  \n",
       "1176        0            6.0         10  -0.044056        0      2.0  "
      ]
     },
     "execution_count": 147,
     "metadata": {},
     "output_type": "execute_result"
    }
   ],
   "source": [
    "\n",
    "pdf_both[pdf_both['meid']==b'c58b1e79dfd943f381d7366c419a319e']"
   ]
  },
  {
   "cell_type": "code",
   "execution_count": 148,
   "id": "13dc9c6d-418f-4ae0-b300-035b8bac1cd0",
   "metadata": {},
   "outputs": [
    {
     "data": {
      "text/html": [
       "<div>\n",
       "<style scoped>\n",
       "    .dataframe tbody tr th:only-of-type {\n",
       "        vertical-align: middle;\n",
       "    }\n",
       "\n",
       "    .dataframe tbody tr th {\n",
       "        vertical-align: top;\n",
       "    }\n",
       "\n",
       "    .dataframe thead th {\n",
       "        text-align: right;\n",
       "    }\n",
       "</style>\n",
       "<table border=\"1\" class=\"dataframe\">\n",
       "  <thead>\n",
       "    <tr style=\"text-align: right;\">\n",
       "      <th></th>\n",
       "      <th>meid</th>\n",
       "      <th>mlrRank</th>\n",
       "      <th>itemId</th>\n",
       "      <th>labels.labelClassicBBE</th>\n",
       "      <th>y_pred_v7</th>\n",
       "      <th>label</th>\n",
       "      <th>rank_v7</th>\n",
       "    </tr>\n",
       "  </thead>\n",
       "  <tbody>\n",
       "    <tr>\n",
       "      <th>1082331</th>\n",
       "      <td>b'c58b1e79dfd943f381d7366c419a319e'</td>\n",
       "      <td>1</td>\n",
       "      <td>115625126062</td>\n",
       "      <td>-1</td>\n",
       "      <td>-1.618979</td>\n",
       "      <td>0</td>\n",
       "      <td>5.0</td>\n",
       "    </tr>\n",
       "    <tr>\n",
       "      <th>1082332</th>\n",
       "      <td>b'c58b1e79dfd943f381d7366c419a319e'</td>\n",
       "      <td>2</td>\n",
       "      <td>234597851086</td>\n",
       "      <td>-1</td>\n",
       "      <td>-1.250907</td>\n",
       "      <td>0</td>\n",
       "      <td>4.0</td>\n",
       "    </tr>\n",
       "    <tr>\n",
       "      <th>1082333</th>\n",
       "      <td>b'c58b1e79dfd943f381d7366c419a319e'</td>\n",
       "      <td>3</td>\n",
       "      <td>275611218043</td>\n",
       "      <td>-1</td>\n",
       "      <td>-1.620644</td>\n",
       "      <td>0</td>\n",
       "      <td>6.0</td>\n",
       "    </tr>\n",
       "    <tr>\n",
       "      <th>1082334</th>\n",
       "      <td>b'c58b1e79dfd943f381d7366c419a319e'</td>\n",
       "      <td>4</td>\n",
       "      <td>403935477783</td>\n",
       "      <td>-1</td>\n",
       "      <td>-2.366657</td>\n",
       "      <td>0</td>\n",
       "      <td>7.0</td>\n",
       "    </tr>\n",
       "    <tr>\n",
       "      <th>1082335</th>\n",
       "      <td>b'c58b1e79dfd943f381d7366c419a319e'</td>\n",
       "      <td>5</td>\n",
       "      <td>155242359880</td>\n",
       "      <td>-1</td>\n",
       "      <td>-3.053674</td>\n",
       "      <td>0</td>\n",
       "      <td>8.0</td>\n",
       "    </tr>\n",
       "    <tr>\n",
       "      <th>1082336</th>\n",
       "      <td>b'c58b1e79dfd943f381d7366c419a319e'</td>\n",
       "      <td>6</td>\n",
       "      <td>165487744403</td>\n",
       "      <td>-1</td>\n",
       "      <td>-3.590724</td>\n",
       "      <td>6</td>\n",
       "      <td>9.0</td>\n",
       "    </tr>\n",
       "    <tr>\n",
       "      <th>1082337</th>\n",
       "      <td>b'c58b1e79dfd943f381d7366c419a319e'</td>\n",
       "      <td>7</td>\n",
       "      <td>313533493204</td>\n",
       "      <td>-1</td>\n",
       "      <td>-3.594193</td>\n",
       "      <td>0</td>\n",
       "      <td>10.0</td>\n",
       "    </tr>\n",
       "    <tr>\n",
       "      <th>1082338</th>\n",
       "      <td>b'c58b1e79dfd943f381d7366c419a319e'</td>\n",
       "      <td>8</td>\n",
       "      <td>204210306498</td>\n",
       "      <td>-1</td>\n",
       "      <td>1.362737</td>\n",
       "      <td>0</td>\n",
       "      <td>1.0</td>\n",
       "    </tr>\n",
       "    <tr>\n",
       "      <th>1082339</th>\n",
       "      <td>b'c58b1e79dfd943f381d7366c419a319e'</td>\n",
       "      <td>9</td>\n",
       "      <td>234389522055</td>\n",
       "      <td>-1</td>\n",
       "      <td>-0.121591</td>\n",
       "      <td>0</td>\n",
       "      <td>3.0</td>\n",
       "    </tr>\n",
       "    <tr>\n",
       "      <th>1082340</th>\n",
       "      <td>b'c58b1e79dfd943f381d7366c419a319e'</td>\n",
       "      <td>10</td>\n",
       "      <td>164341603978</td>\n",
       "      <td>-1</td>\n",
       "      <td>-0.044056</td>\n",
       "      <td>0</td>\n",
       "      <td>2.0</td>\n",
       "    </tr>\n",
       "  </tbody>\n",
       "</table>\n",
       "</div>"
      ],
      "text/plain": [
       "                                        meid  mlrRank        itemId  \\\n",
       "1082331  b'c58b1e79dfd943f381d7366c419a319e'        1  115625126062   \n",
       "1082332  b'c58b1e79dfd943f381d7366c419a319e'        2  234597851086   \n",
       "1082333  b'c58b1e79dfd943f381d7366c419a319e'        3  275611218043   \n",
       "1082334  b'c58b1e79dfd943f381d7366c419a319e'        4  403935477783   \n",
       "1082335  b'c58b1e79dfd943f381d7366c419a319e'        5  155242359880   \n",
       "1082336  b'c58b1e79dfd943f381d7366c419a319e'        6  165487744403   \n",
       "1082337  b'c58b1e79dfd943f381d7366c419a319e'        7  313533493204   \n",
       "1082338  b'c58b1e79dfd943f381d7366c419a319e'        8  204210306498   \n",
       "1082339  b'c58b1e79dfd943f381d7366c419a319e'        9  234389522055   \n",
       "1082340  b'c58b1e79dfd943f381d7366c419a319e'       10  164341603978   \n",
       "\n",
       "         labels.labelClassicBBE  y_pred_v7  label  rank_v7  \n",
       "1082331                      -1  -1.618979      0      5.0  \n",
       "1082332                      -1  -1.250907      0      4.0  \n",
       "1082333                      -1  -1.620644      0      6.0  \n",
       "1082334                      -1  -2.366657      0      7.0  \n",
       "1082335                      -1  -3.053674      0      8.0  \n",
       "1082336                      -1  -3.590724      6      9.0  \n",
       "1082337                      -1  -3.594193      0     10.0  \n",
       "1082338                      -1   1.362737      0      1.0  \n",
       "1082339                      -1  -0.121591      0      3.0  \n",
       "1082340                      -1  -0.044056      0      2.0  "
      ]
     },
     "execution_count": 148,
     "metadata": {},
     "output_type": "execute_result"
    }
   ],
   "source": [
    "pdf_v7\n",
    "\n",
    "pdf_v7[pdf_v7['meid']==b'c58b1e79dfd943f381d7366c419a319e']"
   ]
  },
  {
   "cell_type": "code",
   "execution_count": 149,
   "id": "98d0f484-9aa5-4721-a95e-90ef4f99d102",
   "metadata": {},
   "outputs": [
    {
     "data": {
      "text/html": [
       "<div>\n",
       "<style scoped>\n",
       "    .dataframe tbody tr th:only-of-type {\n",
       "        vertical-align: middle;\n",
       "    }\n",
       "\n",
       "    .dataframe tbody tr th {\n",
       "        vertical-align: top;\n",
       "    }\n",
       "\n",
       "    .dataframe thead th {\n",
       "        text-align: right;\n",
       "    }\n",
       "</style>\n",
       "<table border=\"1\" class=\"dataframe\">\n",
       "  <thead>\n",
       "    <tr style=\"text-align: right;\">\n",
       "      <th></th>\n",
       "      <th>meid</th>\n",
       "      <th>mlrRank</th>\n",
       "      <th>itemId</th>\n",
       "      <th>labels.labelClassicBBE</th>\n",
       "      <th>y_pred</th>\n",
       "      <th>label</th>\n",
       "      <th>rank_unbiased</th>\n",
       "      <th>X_test_sample_weight</th>\n",
       "      <th>X_test_sample_weight_eval</th>\n",
       "    </tr>\n",
       "  </thead>\n",
       "  <tbody>\n",
       "    <tr>\n",
       "      <th>1167</th>\n",
       "      <td>b'c58b1e79dfd943f381d7366c419a319e'</td>\n",
       "      <td>1</td>\n",
       "      <td>115625126062</td>\n",
       "      <td>-1</td>\n",
       "      <td>-3.062748</td>\n",
       "      <td>0</td>\n",
       "      <td>10.0</td>\n",
       "      <td>3.275656</td>\n",
       "      <td>3.275656</td>\n",
       "    </tr>\n",
       "    <tr>\n",
       "      <th>1168</th>\n",
       "      <td>b'c58b1e79dfd943f381d7366c419a319e'</td>\n",
       "      <td>2</td>\n",
       "      <td>234597851086</td>\n",
       "      <td>-1</td>\n",
       "      <td>-2.850310</td>\n",
       "      <td>0</td>\n",
       "      <td>9.0</td>\n",
       "      <td>3.275656</td>\n",
       "      <td>3.275656</td>\n",
       "    </tr>\n",
       "    <tr>\n",
       "      <th>1169</th>\n",
       "      <td>b'c58b1e79dfd943f381d7366c419a319e'</td>\n",
       "      <td>3</td>\n",
       "      <td>275611218043</td>\n",
       "      <td>-1</td>\n",
       "      <td>0.089930</td>\n",
       "      <td>0</td>\n",
       "      <td>1.0</td>\n",
       "      <td>3.275656</td>\n",
       "      <td>3.275656</td>\n",
       "    </tr>\n",
       "    <tr>\n",
       "      <th>1170</th>\n",
       "      <td>b'c58b1e79dfd943f381d7366c419a319e'</td>\n",
       "      <td>4</td>\n",
       "      <td>403935477783</td>\n",
       "      <td>-1</td>\n",
       "      <td>0.009607</td>\n",
       "      <td>0</td>\n",
       "      <td>2.0</td>\n",
       "      <td>3.275656</td>\n",
       "      <td>3.275656</td>\n",
       "    </tr>\n",
       "    <tr>\n",
       "      <th>1171</th>\n",
       "      <td>b'c58b1e79dfd943f381d7366c419a319e'</td>\n",
       "      <td>5</td>\n",
       "      <td>155242359880</td>\n",
       "      <td>-1</td>\n",
       "      <td>-1.154720</td>\n",
       "      <td>0</td>\n",
       "      <td>8.0</td>\n",
       "      <td>3.275656</td>\n",
       "      <td>3.275656</td>\n",
       "    </tr>\n",
       "    <tr>\n",
       "      <th>1172</th>\n",
       "      <td>b'c58b1e79dfd943f381d7366c419a319e'</td>\n",
       "      <td>6</td>\n",
       "      <td>165487744403</td>\n",
       "      <td>-1</td>\n",
       "      <td>-0.398481</td>\n",
       "      <td>6</td>\n",
       "      <td>3.0</td>\n",
       "      <td>3.275656</td>\n",
       "      <td>3.275656</td>\n",
       "    </tr>\n",
       "    <tr>\n",
       "      <th>1173</th>\n",
       "      <td>b'c58b1e79dfd943f381d7366c419a319e'</td>\n",
       "      <td>7</td>\n",
       "      <td>313533493204</td>\n",
       "      <td>-1</td>\n",
       "      <td>-0.856604</td>\n",
       "      <td>0</td>\n",
       "      <td>5.0</td>\n",
       "      <td>3.275656</td>\n",
       "      <td>3.275656</td>\n",
       "    </tr>\n",
       "    <tr>\n",
       "      <th>1174</th>\n",
       "      <td>b'c58b1e79dfd943f381d7366c419a319e'</td>\n",
       "      <td>8</td>\n",
       "      <td>204210306498</td>\n",
       "      <td>-1</td>\n",
       "      <td>-0.697792</td>\n",
       "      <td>0</td>\n",
       "      <td>4.0</td>\n",
       "      <td>3.275656</td>\n",
       "      <td>3.275656</td>\n",
       "    </tr>\n",
       "    <tr>\n",
       "      <th>1175</th>\n",
       "      <td>b'c58b1e79dfd943f381d7366c419a319e'</td>\n",
       "      <td>9</td>\n",
       "      <td>234389522055</td>\n",
       "      <td>-1</td>\n",
       "      <td>-1.054022</td>\n",
       "      <td>0</td>\n",
       "      <td>7.0</td>\n",
       "      <td>3.275656</td>\n",
       "      <td>3.275656</td>\n",
       "    </tr>\n",
       "    <tr>\n",
       "      <th>1176</th>\n",
       "      <td>b'c58b1e79dfd943f381d7366c419a319e'</td>\n",
       "      <td>10</td>\n",
       "      <td>164341603978</td>\n",
       "      <td>-1</td>\n",
       "      <td>-0.880203</td>\n",
       "      <td>0</td>\n",
       "      <td>6.0</td>\n",
       "      <td>3.275656</td>\n",
       "      <td>3.275656</td>\n",
       "    </tr>\n",
       "  </tbody>\n",
       "</table>\n",
       "</div>"
      ],
      "text/plain": [
       "                                     meid  mlrRank        itemId  \\\n",
       "1167  b'c58b1e79dfd943f381d7366c419a319e'        1  115625126062   \n",
       "1168  b'c58b1e79dfd943f381d7366c419a319e'        2  234597851086   \n",
       "1169  b'c58b1e79dfd943f381d7366c419a319e'        3  275611218043   \n",
       "1170  b'c58b1e79dfd943f381d7366c419a319e'        4  403935477783   \n",
       "1171  b'c58b1e79dfd943f381d7366c419a319e'        5  155242359880   \n",
       "1172  b'c58b1e79dfd943f381d7366c419a319e'        6  165487744403   \n",
       "1173  b'c58b1e79dfd943f381d7366c419a319e'        7  313533493204   \n",
       "1174  b'c58b1e79dfd943f381d7366c419a319e'        8  204210306498   \n",
       "1175  b'c58b1e79dfd943f381d7366c419a319e'        9  234389522055   \n",
       "1176  b'c58b1e79dfd943f381d7366c419a319e'       10  164341603978   \n",
       "\n",
       "      labels.labelClassicBBE    y_pred  label  rank_unbiased  \\\n",
       "1167                      -1 -3.062748      0           10.0   \n",
       "1168                      -1 -2.850310      0            9.0   \n",
       "1169                      -1  0.089930      0            1.0   \n",
       "1170                      -1  0.009607      0            2.0   \n",
       "1171                      -1 -1.154720      0            8.0   \n",
       "1172                      -1 -0.398481      6            3.0   \n",
       "1173                      -1 -0.856604      0            5.0   \n",
       "1174                      -1 -0.697792      0            4.0   \n",
       "1175                      -1 -1.054022      0            7.0   \n",
       "1176                      -1 -0.880203      0            6.0   \n",
       "\n",
       "      X_test_sample_weight  X_test_sample_weight_eval  \n",
       "1167              3.275656                   3.275656  \n",
       "1168              3.275656                   3.275656  \n",
       "1169              3.275656                   3.275656  \n",
       "1170              3.275656                   3.275656  \n",
       "1171              3.275656                   3.275656  \n",
       "1172              3.275656                   3.275656  \n",
       "1173              3.275656                   3.275656  \n",
       "1174              3.275656                   3.275656  \n",
       "1175              3.275656                   3.275656  \n",
       "1176              3.275656                   3.275656  "
      ]
     },
     "execution_count": 149,
     "metadata": {},
     "output_type": "execute_result"
    }
   ],
   "source": [
    "\n",
    "pdf[pdf['meid']==b'c58b1e79dfd943f381d7366c419a319e']"
   ]
  },
  {
   "cell_type": "code",
   "execution_count": null,
   "id": "40aaa4a2-192c-45de-9530-45a4df215347",
   "metadata": {},
   "outputs": [],
   "source": []
  }
 ],
 "metadata": {
  "kernelspec": {
   "display_name": "Python 3 (ipykernel)",
   "language": "python",
   "name": "python3"
  },
  "language_info": {
   "codemirror_mode": {
    "name": "ipython",
    "version": 3
   },
   "file_extension": ".py",
   "mimetype": "text/x-python",
   "name": "python",
   "nbconvert_exporter": "python",
   "pygments_lexer": "ipython3",
   "version": "3.7.10"
  }
 },
 "nbformat": 4,
 "nbformat_minor": 5
}
