{
 "cells": [
  {
   "cell_type": "markdown",
   "id": "c7e3bf06-6749-4984-ac72-477d2e4a69fa",
   "metadata": {
    "tags": []
   },
   "source": [
    "# Imports"
   ]
  },
  {
   "cell_type": "code",
   "execution_count": 1,
   "id": "f35ce04c-37a4-4923-92f8-78125cf2afc6",
   "metadata": {},
   "outputs": [],
   "source": [
    "import pandas as pd\n",
    "from pretrainer import *\n",
    "from fsspec.implementations import hdfs\n",
    "\n",
    "import xgboost as xgb\n",
    "from sklearn.feature_selection import GenericUnivariateSelect, chi2, f_classif\n",
    "from sklearn.linear_model import LogisticRegression\n",
    "import xgboost as xgb\n",
    "from sklearn.model_selection import train_test_split\n",
    "import pickle\n",
    "\n",
    "import os\n",
    "from datetime import date\n",
    "import socket\n",
    "import sys\n",
    "from glob import glob\n",
    "\n",
    "from pyspark.sql import SparkSession\n",
    "from pyspark.sql import Row\n",
    "from pyspark.sql.types import StructType, StructField, LongType, ArrayType, DoubleType, StringType\n",
    "from pyspark.sql.window import Window\n",
    "from pyspark.sql import functions as F\n",
    "from pyspark.sql.functions import udf\n",
    "from pyspark.sql import types as T\n",
    "from datetime import date, timedelta\n",
    "from pyspark.sql.types import LongType\n",
    "import pyspark.sql.functions as func"
   ]
  },
  {
   "cell_type": "code",
   "execution_count": 2,
   "id": "c710abcc-6b1c-431b-b240-85468f79f3a9",
   "metadata": {},
   "outputs": [],
   "source": [
    "pd.set_option('display.max_colwidth', None)"
   ]
  },
  {
   "cell_type": "markdown",
   "id": "d25c0172-f0d1-4586-964e-469277a57be6",
   "metadata": {
    "tags": []
   },
   "source": [
    "# Spark setup"
   ]
  },
  {
   "cell_type": "code",
   "execution_count": 2,
   "id": "ff1413f4-37f5-4031-a687-39fbfd5ed997",
   "metadata": {
    "tags": []
   },
   "outputs": [
    {
     "name": "stderr",
     "output_type": "stream",
     "text": [
      "Setting default log level to \"WARN\".\n",
      "To adjust logging level use sc.setLogLevel(newLevel). For SparkR, use setLogLevel(newLevel).\n",
      "22/06/02 13:44:30 WARN HiveConf: DEPRECATED: hive.metastore.ds.retry.* no longer has any effect.  Use hive.hmshandler.retry.* instead\n",
      "22/06/02 13:44:30 WARN HiveConf: HiveConf of name hive.metastore.local does not exist\n",
      "22/06/02 13:44:30 WARN HiveConf: HiveConf of name hive.enforce.sorting does not exist\n",
      "22/06/02 13:44:30 WARN HiveConf: HiveConf of name hive.server2.proxyuser.hue.groups does not exist\n",
      "22/06/02 13:44:30 WARN HiveConf: HiveConf of name hive.server2.proxyuser.hue.hosts does not exist\n",
      "22/06/02 13:44:30 WARN HiveConf: HiveConf of name hive.metastore.ds.retry.interval does not exist\n",
      "22/06/02 13:44:30 WARN HiveConf: HiveConf of name hive.enforce.bucketing does not exist\n",
      "22/06/02 13:44:30 WARN HiveConf: HiveConf of name hive.metastore.ds.retry.attempts does not exist\n",
      "22/06/02 13:44:30 WARN HiveConf: HiveConf of name hive.server2.enable.impersonation does not exist\n",
      "22/06/02 13:44:30 WARN Utils: spark.executor.instances less than spark.dynamicAllocation.minExecutors is invalid, ignoring its setting, please update your configs.\n",
      "22/06/02 13:44:32 WARN Client: Neither spark.yarn.jars nor spark.yarn.archive is set, falling back to uploading libraries under SPARK_HOME.\n",
      "22/06/02 13:46:28 WARN Utils: spark.executor.instances less than spark.dynamicAllocation.minExecutors is invalid, ignoring its setting, please update your configs.\n"
     ]
    },
    {
     "name": "stdout",
     "output_type": "stream",
     "text": [
      "The executors' logs link:\n",
      "https://apollo-rno-rm-2.vip.hadoop.ebay.com:50030/proxy/application_1653723268643_327601\n"
     ]
    }
   ],
   "source": [
    "os.environ[\"PYSPARK_PYTHON\"] = \"/usr/share/anaconda3/python3.7/bin/python\"\n",
    "queue = 'hddq-exprce-perso-high-mem'\n",
    "\n",
    "spark = (\n",
    "    SparkSession.builder.appName(os.environ['KRYLOV_PRINCIPAL'])\n",
    "    .master(\"yarn\")\n",
    "    .config(\"spark.driver.maxResultSize\", \"10g\")\n",
    "    .config(\"spark.driver.host\", socket.gethostbyname(socket.gethostname()))\n",
    "    .config(\"spark.driver.port\", \"30202\")\n",
    "    .config(\"spark.executor.memoryOverhead\", \"8g\") # In case a specific exectuer need extra memory, give this as extra.\n",
    "    .config(\"spark.executor.cores\", \"3\") # each worker has multiple exectuers, and each executer has multiple cores (=partitions), Dima suggested '8'\n",
    "    .config(\"spark.driver.memory\", \"8g\") # Dima set it to 24g, Nir = 8g\n",
    "    .config(\"spark.executor.memory\", \"24g\") # The regular RAM per exectuer (in contrast to memoryOverhead which is the extra). \n",
    "    .config(\"spark.rdd.compress\", True)\n",
    "    .config(\"spark.network.timeout\", \"600s\")\n",
    "    .config(\"spark.executor.heartbeatInterval\", \"300s\")\n",
    "    .config(\"spark.sql.broadcastTimeout\", \"1200s\")\n",
    "    .config(\"spark.dynamicAllocation.enabled\", \"true\") # take and give executors whenever needed - based on the actual data\n",
    "    .config(\"spark.dynamicAllocation.minExecutors\", 20) # 0 is problematic, yarn will use a worker with nothing\n",
    "#     .config(\"spark.dynamicAllocation.initialExecutors\", 10) # it is not needed \n",
    "    .config(\"spark.dynamicAllocation.maxExecutors\", 10000) # Nir suggested 200, as he said it is partitions/executer.cores (which equal to 3) - 512/3 < 200\n",
    "    .config(\"spark.sql.shuffle.partitions\", 512) # number of partitions after groupby/windowing, can be even 1000-2000 (per use-case)\n",
    "    .config(\"spark.kryoserializer.buffer.max\", \"1g\")\n",
    "    .config(\"spark.yarn.queue\", queue)\n",
    "    .config(\"spark.speculation\", False) # spark calcualte time per partition, when it is too long comparing to avg/median yarn will kill the partition, but the data is often skewed \n",
    "    .config(\"spark.rpc.message.maxSize\", 1024)\n",
    "    .config(\"spark.pyspark.python\", \"/usr/share/anaconda3/python3.7/bin/python\")\n",
    "    .enableHiveSupport()\n",
    "    .getOrCreate()\n",
    ")\n",
    "\n",
    "# spark.sparkContext.addPyFile(pretrainer_hdfs_path)\n",
    "spark.sparkContext.addPyFile('./pretrainer.py')\n",
    "spark.sparkContext.setLogLevel(\"ERROR\")\n",
    "spark.sparkContext.setCheckpointDir(\"checkpoint/\")\n",
    "print(\"The executors' logs link:\")\n",
    "print(f'https://apollo-rno-rm-2.vip.hadoop.ebay.com:50030/proxy/{spark.sparkContext.applicationId}')"
   ]
  },
  {
   "cell_type": "code",
   "execution_count": 4,
   "id": "78b4f403-efc5-4b28-989f-49ab6d3af888",
   "metadata": {},
   "outputs": [],
   "source": [
    "# .config(\"spark.driver.extraJavaOptions\", '-Dhttp.proxyHost=httpproxy.vip.ebay.com -Dhttp.proxyPort=80 -Dhttps.proxyHost=httpproxy.vip.ebay.com -Dhttps.proxyPort=80') \\\n",
    "# .config(\"spark.jars.packages\", \"org.apache.spark:spark-avro_2.12:3.1.1\") \\"
   ]
  },
  {
   "cell_type": "code",
   "execution_count": 5,
   "id": "2b3925ff-4b73-4cda-bea3-fb48ff7d5ba7",
   "metadata": {},
   "outputs": [],
   "source": [
    "# spark.stop()"
   ]
  },
  {
   "cell_type": "markdown",
   "id": "a388ac54-53fc-4d7f-a379-9b4f8ed77398",
   "metadata": {
    "tags": []
   },
   "source": [
    "# Constants"
   ]
  },
  {
   "cell_type": "markdown",
   "id": "72636727-96fb-4d15-82e9-b9e2125b9662",
   "metadata": {},
   "source": [
    "#### Required constants"
   ]
  },
  {
   "cell_type": "markdown",
   "id": "d90b2d0d-7d6c-46a3-9256-e26caeaceee4",
   "metadata": {},
   "source": [
    "PersonalizedTopicsV2WithMLR 2021/06/01 - 2021/10/27\n",
    "PersonalizedTopicsV2WithMultiCoviewWithPrice 2021/10/28 - 2021/12/19\n",
    "PersonalizedTopicsV2WithMoreCoviewRecall 2021/12/20 - 2022/01/13\n",
    "\n",
    "PersonalizedTopicsV2WithPurchaseSuppression  2022/01/14 - 2022/02/15\n",
    "PersonalizedTopicsV2WithSimilarCategoriesPurchaseSuppression 2022/02/16 - 2022/03/25\n",
    "PersonalizedTopicsV2WithMetaOrganicPRecall 2022/03/26 - 2022/04/16 \n",
    "As they have different features and data need to combine them all together\n"
   ]
  },
  {
   "cell_type": "code",
   "execution_count": 3,
   "id": "83e3dbe6-83dc-4798-a49b-03e72854b138",
   "metadata": {},
   "outputs": [],
   "source": [
    "algo_variants = {'PersonalizedTopicsV2WithMLR': pd.date_range(start='2021/06/01', end='2021/10/27'),\n",
    "                 'PersonalizedTopicsV2WithMultiCoviewWithPrice': pd.date_range(start='2021/10/28', end='2021/12/19'),\n",
    "                 'PersonalizedTopicsV2WithMoreCoviewRecall': pd.date_range(start='2021/12/20', end='2022/01/13'),\n",
    "                 'PersonalizedTopicsV2WithPurchaseSuppression': pd.date_range(start='2022/01/14', end='2022/02/15'),\n",
    "                 'PersonalizedTopicsV2WithSimilarCategoriesPurchaseSuppression': pd.date_range(start='2022/02/16', end='2022/03/25'),\n",
    "                 'PersonalizedTopicsV2WithMetaOrganicPRecall': pd.date_range(start='2022/03/26', end='2022/05/22')\n",
    "                }"
   ]
  },
  {
   "cell_type": "code",
   "execution_count": 25,
   "id": "85d14605-7d69-40d2-b8bd-c5195150b8d0",
   "metadata": {},
   "outputs": [],
   "source": [
    "date_to_variant = {}\n",
    "for algo, dates in algo_variants.items():\n",
    "    for d in dates:\n",
    "        date_to_variant[d] = algo"
   ]
  },
  {
   "cell_type": "code",
   "execution_count": 26,
   "id": "0df7cb75-53c4-4c6f-bedc-fd7deee3e427",
   "metadata": {
    "scrolled": true,
    "tags": []
   },
   "outputs": [
    {
     "data": {
      "text/plain": [
       "{Timestamp('2021-06-01 00:00:00', freq='D'): 'PersonalizedTopicsV2WithMLR',\n",
       " Timestamp('2021-06-02 00:00:00', freq='D'): 'PersonalizedTopicsV2WithMLR',\n",
       " Timestamp('2021-06-03 00:00:00', freq='D'): 'PersonalizedTopicsV2WithMLR',\n",
       " Timestamp('2021-06-04 00:00:00', freq='D'): 'PersonalizedTopicsV2WithMLR',\n",
       " Timestamp('2021-06-05 00:00:00', freq='D'): 'PersonalizedTopicsV2WithMLR',\n",
       " Timestamp('2021-06-06 00:00:00', freq='D'): 'PersonalizedTopicsV2WithMLR',\n",
       " Timestamp('2021-06-07 00:00:00', freq='D'): 'PersonalizedTopicsV2WithMLR',\n",
       " Timestamp('2021-06-08 00:00:00', freq='D'): 'PersonalizedTopicsV2WithMLR',\n",
       " Timestamp('2021-06-09 00:00:00', freq='D'): 'PersonalizedTopicsV2WithMLR',\n",
       " Timestamp('2021-06-10 00:00:00', freq='D'): 'PersonalizedTopicsV2WithMLR',\n",
       " Timestamp('2021-06-11 00:00:00', freq='D'): 'PersonalizedTopicsV2WithMLR',\n",
       " Timestamp('2021-06-12 00:00:00', freq='D'): 'PersonalizedTopicsV2WithMLR',\n",
       " Timestamp('2021-06-13 00:00:00', freq='D'): 'PersonalizedTopicsV2WithMLR',\n",
       " Timestamp('2021-06-14 00:00:00', freq='D'): 'PersonalizedTopicsV2WithMLR',\n",
       " Timestamp('2021-06-15 00:00:00', freq='D'): 'PersonalizedTopicsV2WithMLR',\n",
       " Timestamp('2021-06-16 00:00:00', freq='D'): 'PersonalizedTopicsV2WithMLR',\n",
       " Timestamp('2021-06-17 00:00:00', freq='D'): 'PersonalizedTopicsV2WithMLR',\n",
       " Timestamp('2021-06-18 00:00:00', freq='D'): 'PersonalizedTopicsV2WithMLR',\n",
       " Timestamp('2021-06-19 00:00:00', freq='D'): 'PersonalizedTopicsV2WithMLR',\n",
       " Timestamp('2021-06-20 00:00:00', freq='D'): 'PersonalizedTopicsV2WithMLR',\n",
       " Timestamp('2021-06-21 00:00:00', freq='D'): 'PersonalizedTopicsV2WithMLR',\n",
       " Timestamp('2021-06-22 00:00:00', freq='D'): 'PersonalizedTopicsV2WithMLR',\n",
       " Timestamp('2021-06-23 00:00:00', freq='D'): 'PersonalizedTopicsV2WithMLR',\n",
       " Timestamp('2021-06-24 00:00:00', freq='D'): 'PersonalizedTopicsV2WithMLR',\n",
       " Timestamp('2021-06-25 00:00:00', freq='D'): 'PersonalizedTopicsV2WithMLR',\n",
       " Timestamp('2021-06-26 00:00:00', freq='D'): 'PersonalizedTopicsV2WithMLR',\n",
       " Timestamp('2021-06-27 00:00:00', freq='D'): 'PersonalizedTopicsV2WithMLR',\n",
       " Timestamp('2021-06-28 00:00:00', freq='D'): 'PersonalizedTopicsV2WithMLR',\n",
       " Timestamp('2021-06-29 00:00:00', freq='D'): 'PersonalizedTopicsV2WithMLR',\n",
       " Timestamp('2021-06-30 00:00:00', freq='D'): 'PersonalizedTopicsV2WithMLR',\n",
       " Timestamp('2021-07-01 00:00:00', freq='D'): 'PersonalizedTopicsV2WithMLR',\n",
       " Timestamp('2021-07-02 00:00:00', freq='D'): 'PersonalizedTopicsV2WithMLR',\n",
       " Timestamp('2021-07-03 00:00:00', freq='D'): 'PersonalizedTopicsV2WithMLR',\n",
       " Timestamp('2021-07-04 00:00:00', freq='D'): 'PersonalizedTopicsV2WithMLR',\n",
       " Timestamp('2021-07-05 00:00:00', freq='D'): 'PersonalizedTopicsV2WithMLR',\n",
       " Timestamp('2021-07-06 00:00:00', freq='D'): 'PersonalizedTopicsV2WithMLR',\n",
       " Timestamp('2021-07-07 00:00:00', freq='D'): 'PersonalizedTopicsV2WithMLR',\n",
       " Timestamp('2021-07-08 00:00:00', freq='D'): 'PersonalizedTopicsV2WithMLR',\n",
       " Timestamp('2021-07-09 00:00:00', freq='D'): 'PersonalizedTopicsV2WithMLR',\n",
       " Timestamp('2021-07-10 00:00:00', freq='D'): 'PersonalizedTopicsV2WithMLR',\n",
       " Timestamp('2021-07-11 00:00:00', freq='D'): 'PersonalizedTopicsV2WithMLR',\n",
       " Timestamp('2021-07-12 00:00:00', freq='D'): 'PersonalizedTopicsV2WithMLR',\n",
       " Timestamp('2021-07-13 00:00:00', freq='D'): 'PersonalizedTopicsV2WithMLR',\n",
       " Timestamp('2021-07-14 00:00:00', freq='D'): 'PersonalizedTopicsV2WithMLR',\n",
       " Timestamp('2021-07-15 00:00:00', freq='D'): 'PersonalizedTopicsV2WithMLR',\n",
       " Timestamp('2021-07-16 00:00:00', freq='D'): 'PersonalizedTopicsV2WithMLR',\n",
       " Timestamp('2021-07-17 00:00:00', freq='D'): 'PersonalizedTopicsV2WithMLR',\n",
       " Timestamp('2021-07-18 00:00:00', freq='D'): 'PersonalizedTopicsV2WithMLR',\n",
       " Timestamp('2021-07-19 00:00:00', freq='D'): 'PersonalizedTopicsV2WithMLR',\n",
       " Timestamp('2021-07-20 00:00:00', freq='D'): 'PersonalizedTopicsV2WithMLR',\n",
       " Timestamp('2021-07-21 00:00:00', freq='D'): 'PersonalizedTopicsV2WithMLR',\n",
       " Timestamp('2021-07-22 00:00:00', freq='D'): 'PersonalizedTopicsV2WithMLR',\n",
       " Timestamp('2021-07-23 00:00:00', freq='D'): 'PersonalizedTopicsV2WithMLR',\n",
       " Timestamp('2021-07-24 00:00:00', freq='D'): 'PersonalizedTopicsV2WithMLR',\n",
       " Timestamp('2021-07-25 00:00:00', freq='D'): 'PersonalizedTopicsV2WithMLR',\n",
       " Timestamp('2021-07-26 00:00:00', freq='D'): 'PersonalizedTopicsV2WithMLR',\n",
       " Timestamp('2021-07-27 00:00:00', freq='D'): 'PersonalizedTopicsV2WithMLR',\n",
       " Timestamp('2021-07-28 00:00:00', freq='D'): 'PersonalizedTopicsV2WithMLR',\n",
       " Timestamp('2021-07-29 00:00:00', freq='D'): 'PersonalizedTopicsV2WithMLR',\n",
       " Timestamp('2021-07-30 00:00:00', freq='D'): 'PersonalizedTopicsV2WithMLR',\n",
       " Timestamp('2021-07-31 00:00:00', freq='D'): 'PersonalizedTopicsV2WithMLR',\n",
       " Timestamp('2021-08-01 00:00:00', freq='D'): 'PersonalizedTopicsV2WithMLR',\n",
       " Timestamp('2021-08-02 00:00:00', freq='D'): 'PersonalizedTopicsV2WithMLR',\n",
       " Timestamp('2021-08-03 00:00:00', freq='D'): 'PersonalizedTopicsV2WithMLR',\n",
       " Timestamp('2021-08-04 00:00:00', freq='D'): 'PersonalizedTopicsV2WithMLR',\n",
       " Timestamp('2021-08-05 00:00:00', freq='D'): 'PersonalizedTopicsV2WithMLR',\n",
       " Timestamp('2021-08-06 00:00:00', freq='D'): 'PersonalizedTopicsV2WithMLR',\n",
       " Timestamp('2021-08-07 00:00:00', freq='D'): 'PersonalizedTopicsV2WithMLR',\n",
       " Timestamp('2021-08-08 00:00:00', freq='D'): 'PersonalizedTopicsV2WithMLR',\n",
       " Timestamp('2021-08-09 00:00:00', freq='D'): 'PersonalizedTopicsV2WithMLR',\n",
       " Timestamp('2021-08-10 00:00:00', freq='D'): 'PersonalizedTopicsV2WithMLR',\n",
       " Timestamp('2021-08-11 00:00:00', freq='D'): 'PersonalizedTopicsV2WithMLR',\n",
       " Timestamp('2021-08-12 00:00:00', freq='D'): 'PersonalizedTopicsV2WithMLR',\n",
       " Timestamp('2021-08-13 00:00:00', freq='D'): 'PersonalizedTopicsV2WithMLR',\n",
       " Timestamp('2021-08-14 00:00:00', freq='D'): 'PersonalizedTopicsV2WithMLR',\n",
       " Timestamp('2021-08-15 00:00:00', freq='D'): 'PersonalizedTopicsV2WithMLR',\n",
       " Timestamp('2021-08-16 00:00:00', freq='D'): 'PersonalizedTopicsV2WithMLR',\n",
       " Timestamp('2021-08-17 00:00:00', freq='D'): 'PersonalizedTopicsV2WithMLR',\n",
       " Timestamp('2021-08-18 00:00:00', freq='D'): 'PersonalizedTopicsV2WithMLR',\n",
       " Timestamp('2021-08-19 00:00:00', freq='D'): 'PersonalizedTopicsV2WithMLR',\n",
       " Timestamp('2021-08-20 00:00:00', freq='D'): 'PersonalizedTopicsV2WithMLR',\n",
       " Timestamp('2021-08-21 00:00:00', freq='D'): 'PersonalizedTopicsV2WithMLR',\n",
       " Timestamp('2021-08-22 00:00:00', freq='D'): 'PersonalizedTopicsV2WithMLR',\n",
       " Timestamp('2021-08-23 00:00:00', freq='D'): 'PersonalizedTopicsV2WithMLR',\n",
       " Timestamp('2021-08-24 00:00:00', freq='D'): 'PersonalizedTopicsV2WithMLR',\n",
       " Timestamp('2021-08-25 00:00:00', freq='D'): 'PersonalizedTopicsV2WithMLR',\n",
       " Timestamp('2021-08-26 00:00:00', freq='D'): 'PersonalizedTopicsV2WithMLR',\n",
       " Timestamp('2021-08-27 00:00:00', freq='D'): 'PersonalizedTopicsV2WithMLR',\n",
       " Timestamp('2021-08-28 00:00:00', freq='D'): 'PersonalizedTopicsV2WithMLR',\n",
       " Timestamp('2021-08-29 00:00:00', freq='D'): 'PersonalizedTopicsV2WithMLR',\n",
       " Timestamp('2021-08-30 00:00:00', freq='D'): 'PersonalizedTopicsV2WithMLR',\n",
       " Timestamp('2021-08-31 00:00:00', freq='D'): 'PersonalizedTopicsV2WithMLR',\n",
       " Timestamp('2021-09-01 00:00:00', freq='D'): 'PersonalizedTopicsV2WithMLR',\n",
       " Timestamp('2021-09-02 00:00:00', freq='D'): 'PersonalizedTopicsV2WithMLR',\n",
       " Timestamp('2021-09-03 00:00:00', freq='D'): 'PersonalizedTopicsV2WithMLR',\n",
       " Timestamp('2021-09-04 00:00:00', freq='D'): 'PersonalizedTopicsV2WithMLR',\n",
       " Timestamp('2021-09-05 00:00:00', freq='D'): 'PersonalizedTopicsV2WithMLR',\n",
       " Timestamp('2021-09-06 00:00:00', freq='D'): 'PersonalizedTopicsV2WithMLR',\n",
       " Timestamp('2021-09-07 00:00:00', freq='D'): 'PersonalizedTopicsV2WithMLR',\n",
       " Timestamp('2021-09-08 00:00:00', freq='D'): 'PersonalizedTopicsV2WithMLR',\n",
       " Timestamp('2021-09-09 00:00:00', freq='D'): 'PersonalizedTopicsV2WithMLR',\n",
       " Timestamp('2021-09-10 00:00:00', freq='D'): 'PersonalizedTopicsV2WithMLR',\n",
       " Timestamp('2021-09-11 00:00:00', freq='D'): 'PersonalizedTopicsV2WithMLR',\n",
       " Timestamp('2021-09-12 00:00:00', freq='D'): 'PersonalizedTopicsV2WithMLR',\n",
       " Timestamp('2021-09-13 00:00:00', freq='D'): 'PersonalizedTopicsV2WithMLR',\n",
       " Timestamp('2021-09-14 00:00:00', freq='D'): 'PersonalizedTopicsV2WithMLR',\n",
       " Timestamp('2021-09-15 00:00:00', freq='D'): 'PersonalizedTopicsV2WithMLR',\n",
       " Timestamp('2021-09-16 00:00:00', freq='D'): 'PersonalizedTopicsV2WithMLR',\n",
       " Timestamp('2021-09-17 00:00:00', freq='D'): 'PersonalizedTopicsV2WithMLR',\n",
       " Timestamp('2021-09-18 00:00:00', freq='D'): 'PersonalizedTopicsV2WithMLR',\n",
       " Timestamp('2021-09-19 00:00:00', freq='D'): 'PersonalizedTopicsV2WithMLR',\n",
       " Timestamp('2021-09-20 00:00:00', freq='D'): 'PersonalizedTopicsV2WithMLR',\n",
       " Timestamp('2021-09-21 00:00:00', freq='D'): 'PersonalizedTopicsV2WithMLR',\n",
       " Timestamp('2021-09-22 00:00:00', freq='D'): 'PersonalizedTopicsV2WithMLR',\n",
       " Timestamp('2021-09-23 00:00:00', freq='D'): 'PersonalizedTopicsV2WithMLR',\n",
       " Timestamp('2021-09-24 00:00:00', freq='D'): 'PersonalizedTopicsV2WithMLR',\n",
       " Timestamp('2021-09-25 00:00:00', freq='D'): 'PersonalizedTopicsV2WithMLR',\n",
       " Timestamp('2021-09-26 00:00:00', freq='D'): 'PersonalizedTopicsV2WithMLR',\n",
       " Timestamp('2021-09-27 00:00:00', freq='D'): 'PersonalizedTopicsV2WithMLR',\n",
       " Timestamp('2021-09-28 00:00:00', freq='D'): 'PersonalizedTopicsV2WithMLR',\n",
       " Timestamp('2021-09-29 00:00:00', freq='D'): 'PersonalizedTopicsV2WithMLR',\n",
       " Timestamp('2021-09-30 00:00:00', freq='D'): 'PersonalizedTopicsV2WithMLR',\n",
       " Timestamp('2021-10-01 00:00:00', freq='D'): 'PersonalizedTopicsV2WithMLR',\n",
       " Timestamp('2021-10-02 00:00:00', freq='D'): 'PersonalizedTopicsV2WithMLR',\n",
       " Timestamp('2021-10-03 00:00:00', freq='D'): 'PersonalizedTopicsV2WithMLR',\n",
       " Timestamp('2021-10-04 00:00:00', freq='D'): 'PersonalizedTopicsV2WithMLR',\n",
       " Timestamp('2021-10-05 00:00:00', freq='D'): 'PersonalizedTopicsV2WithMLR',\n",
       " Timestamp('2021-10-06 00:00:00', freq='D'): 'PersonalizedTopicsV2WithMLR',\n",
       " Timestamp('2021-10-07 00:00:00', freq='D'): 'PersonalizedTopicsV2WithMLR',\n",
       " Timestamp('2021-10-08 00:00:00', freq='D'): 'PersonalizedTopicsV2WithMLR',\n",
       " Timestamp('2021-10-09 00:00:00', freq='D'): 'PersonalizedTopicsV2WithMLR',\n",
       " Timestamp('2021-10-10 00:00:00', freq='D'): 'PersonalizedTopicsV2WithMLR',\n",
       " Timestamp('2021-10-11 00:00:00', freq='D'): 'PersonalizedTopicsV2WithMLR',\n",
       " Timestamp('2021-10-12 00:00:00', freq='D'): 'PersonalizedTopicsV2WithMLR',\n",
       " Timestamp('2021-10-13 00:00:00', freq='D'): 'PersonalizedTopicsV2WithMLR',\n",
       " Timestamp('2021-10-14 00:00:00', freq='D'): 'PersonalizedTopicsV2WithMLR',\n",
       " Timestamp('2021-10-15 00:00:00', freq='D'): 'PersonalizedTopicsV2WithMLR',\n",
       " Timestamp('2021-10-16 00:00:00', freq='D'): 'PersonalizedTopicsV2WithMLR',\n",
       " Timestamp('2021-10-17 00:00:00', freq='D'): 'PersonalizedTopicsV2WithMLR',\n",
       " Timestamp('2021-10-18 00:00:00', freq='D'): 'PersonalizedTopicsV2WithMLR',\n",
       " Timestamp('2021-10-19 00:00:00', freq='D'): 'PersonalizedTopicsV2WithMLR',\n",
       " Timestamp('2021-10-20 00:00:00', freq='D'): 'PersonalizedTopicsV2WithMLR',\n",
       " Timestamp('2021-10-21 00:00:00', freq='D'): 'PersonalizedTopicsV2WithMLR',\n",
       " Timestamp('2021-10-22 00:00:00', freq='D'): 'PersonalizedTopicsV2WithMLR',\n",
       " Timestamp('2021-10-23 00:00:00', freq='D'): 'PersonalizedTopicsV2WithMLR',\n",
       " Timestamp('2021-10-24 00:00:00', freq='D'): 'PersonalizedTopicsV2WithMLR',\n",
       " Timestamp('2021-10-25 00:00:00', freq='D'): 'PersonalizedTopicsV2WithMLR',\n",
       " Timestamp('2021-10-26 00:00:00', freq='D'): 'PersonalizedTopicsV2WithMLR',\n",
       " Timestamp('2021-10-27 00:00:00', freq='D'): 'PersonalizedTopicsV2WithMLR',\n",
       " Timestamp('2021-10-28 00:00:00', freq='D'): 'PersonalizedTopicsV2WithMultiCoviewWithPrice',\n",
       " Timestamp('2021-10-29 00:00:00', freq='D'): 'PersonalizedTopicsV2WithMultiCoviewWithPrice',\n",
       " Timestamp('2021-10-30 00:00:00', freq='D'): 'PersonalizedTopicsV2WithMultiCoviewWithPrice',\n",
       " Timestamp('2021-10-31 00:00:00', freq='D'): 'PersonalizedTopicsV2WithMultiCoviewWithPrice',\n",
       " Timestamp('2021-11-01 00:00:00', freq='D'): 'PersonalizedTopicsV2WithMultiCoviewWithPrice',\n",
       " Timestamp('2021-11-02 00:00:00', freq='D'): 'PersonalizedTopicsV2WithMultiCoviewWithPrice',\n",
       " Timestamp('2021-11-03 00:00:00', freq='D'): 'PersonalizedTopicsV2WithMultiCoviewWithPrice',\n",
       " Timestamp('2021-11-04 00:00:00', freq='D'): 'PersonalizedTopicsV2WithMultiCoviewWithPrice',\n",
       " Timestamp('2021-11-05 00:00:00', freq='D'): 'PersonalizedTopicsV2WithMultiCoviewWithPrice',\n",
       " Timestamp('2021-11-06 00:00:00', freq='D'): 'PersonalizedTopicsV2WithMultiCoviewWithPrice',\n",
       " Timestamp('2021-11-07 00:00:00', freq='D'): 'PersonalizedTopicsV2WithMultiCoviewWithPrice',\n",
       " Timestamp('2021-11-08 00:00:00', freq='D'): 'PersonalizedTopicsV2WithMultiCoviewWithPrice',\n",
       " Timestamp('2021-11-09 00:00:00', freq='D'): 'PersonalizedTopicsV2WithMultiCoviewWithPrice',\n",
       " Timestamp('2021-11-10 00:00:00', freq='D'): 'PersonalizedTopicsV2WithMultiCoviewWithPrice',\n",
       " Timestamp('2021-11-11 00:00:00', freq='D'): 'PersonalizedTopicsV2WithMultiCoviewWithPrice',\n",
       " Timestamp('2021-11-12 00:00:00', freq='D'): 'PersonalizedTopicsV2WithMultiCoviewWithPrice',\n",
       " Timestamp('2021-11-13 00:00:00', freq='D'): 'PersonalizedTopicsV2WithMultiCoviewWithPrice',\n",
       " Timestamp('2021-11-14 00:00:00', freq='D'): 'PersonalizedTopicsV2WithMultiCoviewWithPrice',\n",
       " Timestamp('2021-11-15 00:00:00', freq='D'): 'PersonalizedTopicsV2WithMultiCoviewWithPrice',\n",
       " Timestamp('2021-11-16 00:00:00', freq='D'): 'PersonalizedTopicsV2WithMultiCoviewWithPrice',\n",
       " Timestamp('2021-11-17 00:00:00', freq='D'): 'PersonalizedTopicsV2WithMultiCoviewWithPrice',\n",
       " Timestamp('2021-11-18 00:00:00', freq='D'): 'PersonalizedTopicsV2WithMultiCoviewWithPrice',\n",
       " Timestamp('2021-11-19 00:00:00', freq='D'): 'PersonalizedTopicsV2WithMultiCoviewWithPrice',\n",
       " Timestamp('2021-11-20 00:00:00', freq='D'): 'PersonalizedTopicsV2WithMultiCoviewWithPrice',\n",
       " Timestamp('2021-11-21 00:00:00', freq='D'): 'PersonalizedTopicsV2WithMultiCoviewWithPrice',\n",
       " Timestamp('2021-11-22 00:00:00', freq='D'): 'PersonalizedTopicsV2WithMultiCoviewWithPrice',\n",
       " Timestamp('2021-11-23 00:00:00', freq='D'): 'PersonalizedTopicsV2WithMultiCoviewWithPrice',\n",
       " Timestamp('2021-11-24 00:00:00', freq='D'): 'PersonalizedTopicsV2WithMultiCoviewWithPrice',\n",
       " Timestamp('2021-11-25 00:00:00', freq='D'): 'PersonalizedTopicsV2WithMultiCoviewWithPrice',\n",
       " Timestamp('2021-11-26 00:00:00', freq='D'): 'PersonalizedTopicsV2WithMultiCoviewWithPrice',\n",
       " Timestamp('2021-11-27 00:00:00', freq='D'): 'PersonalizedTopicsV2WithMultiCoviewWithPrice',\n",
       " Timestamp('2021-11-28 00:00:00', freq='D'): 'PersonalizedTopicsV2WithMultiCoviewWithPrice',\n",
       " Timestamp('2021-11-29 00:00:00', freq='D'): 'PersonalizedTopicsV2WithMultiCoviewWithPrice',\n",
       " Timestamp('2021-11-30 00:00:00', freq='D'): 'PersonalizedTopicsV2WithMultiCoviewWithPrice',\n",
       " Timestamp('2021-12-01 00:00:00', freq='D'): 'PersonalizedTopicsV2WithMultiCoviewWithPrice',\n",
       " Timestamp('2021-12-02 00:00:00', freq='D'): 'PersonalizedTopicsV2WithMultiCoviewWithPrice',\n",
       " Timestamp('2021-12-03 00:00:00', freq='D'): 'PersonalizedTopicsV2WithMultiCoviewWithPrice',\n",
       " Timestamp('2021-12-04 00:00:00', freq='D'): 'PersonalizedTopicsV2WithMultiCoviewWithPrice',\n",
       " Timestamp('2021-12-05 00:00:00', freq='D'): 'PersonalizedTopicsV2WithMultiCoviewWithPrice',\n",
       " Timestamp('2021-12-06 00:00:00', freq='D'): 'PersonalizedTopicsV2WithMultiCoviewWithPrice',\n",
       " Timestamp('2021-12-07 00:00:00', freq='D'): 'PersonalizedTopicsV2WithMultiCoviewWithPrice',\n",
       " Timestamp('2021-12-08 00:00:00', freq='D'): 'PersonalizedTopicsV2WithMultiCoviewWithPrice',\n",
       " Timestamp('2021-12-09 00:00:00', freq='D'): 'PersonalizedTopicsV2WithMultiCoviewWithPrice',\n",
       " Timestamp('2021-12-10 00:00:00', freq='D'): 'PersonalizedTopicsV2WithMultiCoviewWithPrice',\n",
       " Timestamp('2021-12-11 00:00:00', freq='D'): 'PersonalizedTopicsV2WithMultiCoviewWithPrice',\n",
       " Timestamp('2021-12-12 00:00:00', freq='D'): 'PersonalizedTopicsV2WithMultiCoviewWithPrice',\n",
       " Timestamp('2021-12-13 00:00:00', freq='D'): 'PersonalizedTopicsV2WithMultiCoviewWithPrice',\n",
       " Timestamp('2021-12-14 00:00:00', freq='D'): 'PersonalizedTopicsV2WithMultiCoviewWithPrice',\n",
       " Timestamp('2021-12-15 00:00:00', freq='D'): 'PersonalizedTopicsV2WithMultiCoviewWithPrice',\n",
       " Timestamp('2021-12-16 00:00:00', freq='D'): 'PersonalizedTopicsV2WithMultiCoviewWithPrice',\n",
       " Timestamp('2021-12-17 00:00:00', freq='D'): 'PersonalizedTopicsV2WithMultiCoviewWithPrice',\n",
       " Timestamp('2021-12-18 00:00:00', freq='D'): 'PersonalizedTopicsV2WithMultiCoviewWithPrice',\n",
       " Timestamp('2021-12-19 00:00:00', freq='D'): 'PersonalizedTopicsV2WithMultiCoviewWithPrice',\n",
       " Timestamp('2021-12-20 00:00:00', freq='D'): 'PersonalizedTopicsV2WithMoreCoviewRecall',\n",
       " Timestamp('2021-12-21 00:00:00', freq='D'): 'PersonalizedTopicsV2WithMoreCoviewRecall',\n",
       " Timestamp('2021-12-22 00:00:00', freq='D'): 'PersonalizedTopicsV2WithMoreCoviewRecall',\n",
       " Timestamp('2021-12-23 00:00:00', freq='D'): 'PersonalizedTopicsV2WithMoreCoviewRecall',\n",
       " Timestamp('2021-12-24 00:00:00', freq='D'): 'PersonalizedTopicsV2WithMoreCoviewRecall',\n",
       " Timestamp('2021-12-25 00:00:00', freq='D'): 'PersonalizedTopicsV2WithMoreCoviewRecall',\n",
       " Timestamp('2021-12-26 00:00:00', freq='D'): 'PersonalizedTopicsV2WithMoreCoviewRecall',\n",
       " Timestamp('2021-12-27 00:00:00', freq='D'): 'PersonalizedTopicsV2WithMoreCoviewRecall',\n",
       " Timestamp('2021-12-28 00:00:00', freq='D'): 'PersonalizedTopicsV2WithMoreCoviewRecall',\n",
       " Timestamp('2021-12-29 00:00:00', freq='D'): 'PersonalizedTopicsV2WithMoreCoviewRecall',\n",
       " Timestamp('2021-12-30 00:00:00', freq='D'): 'PersonalizedTopicsV2WithMoreCoviewRecall',\n",
       " Timestamp('2021-12-31 00:00:00', freq='D'): 'PersonalizedTopicsV2WithMoreCoviewRecall',\n",
       " Timestamp('2022-01-01 00:00:00', freq='D'): 'PersonalizedTopicsV2WithMoreCoviewRecall',\n",
       " Timestamp('2022-01-02 00:00:00', freq='D'): 'PersonalizedTopicsV2WithMoreCoviewRecall',\n",
       " Timestamp('2022-01-03 00:00:00', freq='D'): 'PersonalizedTopicsV2WithMoreCoviewRecall',\n",
       " Timestamp('2022-01-04 00:00:00', freq='D'): 'PersonalizedTopicsV2WithMoreCoviewRecall',\n",
       " Timestamp('2022-01-05 00:00:00', freq='D'): 'PersonalizedTopicsV2WithMoreCoviewRecall',\n",
       " Timestamp('2022-01-06 00:00:00', freq='D'): 'PersonalizedTopicsV2WithMoreCoviewRecall',\n",
       " Timestamp('2022-01-07 00:00:00', freq='D'): 'PersonalizedTopicsV2WithMoreCoviewRecall',\n",
       " Timestamp('2022-01-08 00:00:00', freq='D'): 'PersonalizedTopicsV2WithMoreCoviewRecall',\n",
       " Timestamp('2022-01-09 00:00:00', freq='D'): 'PersonalizedTopicsV2WithMoreCoviewRecall',\n",
       " Timestamp('2022-01-10 00:00:00', freq='D'): 'PersonalizedTopicsV2WithMoreCoviewRecall',\n",
       " Timestamp('2022-01-11 00:00:00', freq='D'): 'PersonalizedTopicsV2WithMoreCoviewRecall',\n",
       " Timestamp('2022-01-12 00:00:00', freq='D'): 'PersonalizedTopicsV2WithMoreCoviewRecall',\n",
       " Timestamp('2022-01-13 00:00:00', freq='D'): 'PersonalizedTopicsV2WithMoreCoviewRecall',\n",
       " Timestamp('2022-01-14 00:00:00', freq='D'): 'PersonalizedTopicsV2WithPurchaseSuppression',\n",
       " Timestamp('2022-01-15 00:00:00', freq='D'): 'PersonalizedTopicsV2WithPurchaseSuppression',\n",
       " Timestamp('2022-01-16 00:00:00', freq='D'): 'PersonalizedTopicsV2WithPurchaseSuppression',\n",
       " Timestamp('2022-01-17 00:00:00', freq='D'): 'PersonalizedTopicsV2WithPurchaseSuppression',\n",
       " Timestamp('2022-01-18 00:00:00', freq='D'): 'PersonalizedTopicsV2WithPurchaseSuppression',\n",
       " Timestamp('2022-01-19 00:00:00', freq='D'): 'PersonalizedTopicsV2WithPurchaseSuppression',\n",
       " Timestamp('2022-01-20 00:00:00', freq='D'): 'PersonalizedTopicsV2WithPurchaseSuppression',\n",
       " Timestamp('2022-01-21 00:00:00', freq='D'): 'PersonalizedTopicsV2WithPurchaseSuppression',\n",
       " Timestamp('2022-01-22 00:00:00', freq='D'): 'PersonalizedTopicsV2WithPurchaseSuppression',\n",
       " Timestamp('2022-01-23 00:00:00', freq='D'): 'PersonalizedTopicsV2WithPurchaseSuppression',\n",
       " Timestamp('2022-01-24 00:00:00', freq='D'): 'PersonalizedTopicsV2WithPurchaseSuppression',\n",
       " Timestamp('2022-01-25 00:00:00', freq='D'): 'PersonalizedTopicsV2WithPurchaseSuppression',\n",
       " Timestamp('2022-01-26 00:00:00', freq='D'): 'PersonalizedTopicsV2WithPurchaseSuppression',\n",
       " Timestamp('2022-01-27 00:00:00', freq='D'): 'PersonalizedTopicsV2WithPurchaseSuppression',\n",
       " Timestamp('2022-01-28 00:00:00', freq='D'): 'PersonalizedTopicsV2WithPurchaseSuppression',\n",
       " Timestamp('2022-01-29 00:00:00', freq='D'): 'PersonalizedTopicsV2WithPurchaseSuppression',\n",
       " Timestamp('2022-01-30 00:00:00', freq='D'): 'PersonalizedTopicsV2WithPurchaseSuppression',\n",
       " Timestamp('2022-01-31 00:00:00', freq='D'): 'PersonalizedTopicsV2WithPurchaseSuppression',\n",
       " Timestamp('2022-02-01 00:00:00', freq='D'): 'PersonalizedTopicsV2WithPurchaseSuppression',\n",
       " Timestamp('2022-02-02 00:00:00', freq='D'): 'PersonalizedTopicsV2WithPurchaseSuppression',\n",
       " Timestamp('2022-02-03 00:00:00', freq='D'): 'PersonalizedTopicsV2WithPurchaseSuppression',\n",
       " Timestamp('2022-02-04 00:00:00', freq='D'): 'PersonalizedTopicsV2WithPurchaseSuppression',\n",
       " Timestamp('2022-02-05 00:00:00', freq='D'): 'PersonalizedTopicsV2WithPurchaseSuppression',\n",
       " Timestamp('2022-02-06 00:00:00', freq='D'): 'PersonalizedTopicsV2WithPurchaseSuppression',\n",
       " Timestamp('2022-02-07 00:00:00', freq='D'): 'PersonalizedTopicsV2WithPurchaseSuppression',\n",
       " Timestamp('2022-02-08 00:00:00', freq='D'): 'PersonalizedTopicsV2WithPurchaseSuppression',\n",
       " Timestamp('2022-02-09 00:00:00', freq='D'): 'PersonalizedTopicsV2WithPurchaseSuppression',\n",
       " Timestamp('2022-02-10 00:00:00', freq='D'): 'PersonalizedTopicsV2WithPurchaseSuppression',\n",
       " Timestamp('2022-02-11 00:00:00', freq='D'): 'PersonalizedTopicsV2WithPurchaseSuppression',\n",
       " Timestamp('2022-02-12 00:00:00', freq='D'): 'PersonalizedTopicsV2WithPurchaseSuppression',\n",
       " Timestamp('2022-02-13 00:00:00', freq='D'): 'PersonalizedTopicsV2WithPurchaseSuppression',\n",
       " Timestamp('2022-02-14 00:00:00', freq='D'): 'PersonalizedTopicsV2WithPurchaseSuppression',\n",
       " Timestamp('2022-02-15 00:00:00', freq='D'): 'PersonalizedTopicsV2WithPurchaseSuppression',\n",
       " Timestamp('2022-02-16 00:00:00', freq='D'): 'PersonalizedTopicsV2WithSimilarCategoriesPurchaseSuppression',\n",
       " Timestamp('2022-02-17 00:00:00', freq='D'): 'PersonalizedTopicsV2WithSimilarCategoriesPurchaseSuppression',\n",
       " Timestamp('2022-02-18 00:00:00', freq='D'): 'PersonalizedTopicsV2WithSimilarCategoriesPurchaseSuppression',\n",
       " Timestamp('2022-02-19 00:00:00', freq='D'): 'PersonalizedTopicsV2WithSimilarCategoriesPurchaseSuppression',\n",
       " Timestamp('2022-02-20 00:00:00', freq='D'): 'PersonalizedTopicsV2WithSimilarCategoriesPurchaseSuppression',\n",
       " Timestamp('2022-02-21 00:00:00', freq='D'): 'PersonalizedTopicsV2WithSimilarCategoriesPurchaseSuppression',\n",
       " Timestamp('2022-02-22 00:00:00', freq='D'): 'PersonalizedTopicsV2WithSimilarCategoriesPurchaseSuppression',\n",
       " Timestamp('2022-02-23 00:00:00', freq='D'): 'PersonalizedTopicsV2WithSimilarCategoriesPurchaseSuppression',\n",
       " Timestamp('2022-02-24 00:00:00', freq='D'): 'PersonalizedTopicsV2WithSimilarCategoriesPurchaseSuppression',\n",
       " Timestamp('2022-02-25 00:00:00', freq='D'): 'PersonalizedTopicsV2WithSimilarCategoriesPurchaseSuppression',\n",
       " Timestamp('2022-02-26 00:00:00', freq='D'): 'PersonalizedTopicsV2WithSimilarCategoriesPurchaseSuppression',\n",
       " Timestamp('2022-02-27 00:00:00', freq='D'): 'PersonalizedTopicsV2WithSimilarCategoriesPurchaseSuppression',\n",
       " Timestamp('2022-02-28 00:00:00', freq='D'): 'PersonalizedTopicsV2WithSimilarCategoriesPurchaseSuppression',\n",
       " Timestamp('2022-03-01 00:00:00', freq='D'): 'PersonalizedTopicsV2WithSimilarCategoriesPurchaseSuppression',\n",
       " Timestamp('2022-03-02 00:00:00', freq='D'): 'PersonalizedTopicsV2WithSimilarCategoriesPurchaseSuppression',\n",
       " Timestamp('2022-03-03 00:00:00', freq='D'): 'PersonalizedTopicsV2WithSimilarCategoriesPurchaseSuppression',\n",
       " Timestamp('2022-03-04 00:00:00', freq='D'): 'PersonalizedTopicsV2WithSimilarCategoriesPurchaseSuppression',\n",
       " Timestamp('2022-03-05 00:00:00', freq='D'): 'PersonalizedTopicsV2WithSimilarCategoriesPurchaseSuppression',\n",
       " Timestamp('2022-03-06 00:00:00', freq='D'): 'PersonalizedTopicsV2WithSimilarCategoriesPurchaseSuppression',\n",
       " Timestamp('2022-03-07 00:00:00', freq='D'): 'PersonalizedTopicsV2WithSimilarCategoriesPurchaseSuppression',\n",
       " Timestamp('2022-03-08 00:00:00', freq='D'): 'PersonalizedTopicsV2WithSimilarCategoriesPurchaseSuppression',\n",
       " Timestamp('2022-03-09 00:00:00', freq='D'): 'PersonalizedTopicsV2WithSimilarCategoriesPurchaseSuppression',\n",
       " Timestamp('2022-03-10 00:00:00', freq='D'): 'PersonalizedTopicsV2WithSimilarCategoriesPurchaseSuppression',\n",
       " Timestamp('2022-03-11 00:00:00', freq='D'): 'PersonalizedTopicsV2WithSimilarCategoriesPurchaseSuppression',\n",
       " Timestamp('2022-03-12 00:00:00', freq='D'): 'PersonalizedTopicsV2WithSimilarCategoriesPurchaseSuppression',\n",
       " Timestamp('2022-03-13 00:00:00', freq='D'): 'PersonalizedTopicsV2WithSimilarCategoriesPurchaseSuppression',\n",
       " Timestamp('2022-03-14 00:00:00', freq='D'): 'PersonalizedTopicsV2WithSimilarCategoriesPurchaseSuppression',\n",
       " Timestamp('2022-03-15 00:00:00', freq='D'): 'PersonalizedTopicsV2WithSimilarCategoriesPurchaseSuppression',\n",
       " Timestamp('2022-03-16 00:00:00', freq='D'): 'PersonalizedTopicsV2WithSimilarCategoriesPurchaseSuppression',\n",
       " Timestamp('2022-03-17 00:00:00', freq='D'): 'PersonalizedTopicsV2WithSimilarCategoriesPurchaseSuppression',\n",
       " Timestamp('2022-03-18 00:00:00', freq='D'): 'PersonalizedTopicsV2WithSimilarCategoriesPurchaseSuppression',\n",
       " Timestamp('2022-03-19 00:00:00', freq='D'): 'PersonalizedTopicsV2WithSimilarCategoriesPurchaseSuppression',\n",
       " Timestamp('2022-03-20 00:00:00', freq='D'): 'PersonalizedTopicsV2WithSimilarCategoriesPurchaseSuppression',\n",
       " Timestamp('2022-03-21 00:00:00', freq='D'): 'PersonalizedTopicsV2WithSimilarCategoriesPurchaseSuppression',\n",
       " Timestamp('2022-03-22 00:00:00', freq='D'): 'PersonalizedTopicsV2WithSimilarCategoriesPurchaseSuppression',\n",
       " Timestamp('2022-03-23 00:00:00', freq='D'): 'PersonalizedTopicsV2WithSimilarCategoriesPurchaseSuppression',\n",
       " Timestamp('2022-03-24 00:00:00', freq='D'): 'PersonalizedTopicsV2WithSimilarCategoriesPurchaseSuppression',\n",
       " Timestamp('2022-03-25 00:00:00', freq='D'): 'PersonalizedTopicsV2WithSimilarCategoriesPurchaseSuppression',\n",
       " Timestamp('2022-03-26 00:00:00', freq='D'): 'PersonalizedTopicsV2WithMetaOrganicPRecall',\n",
       " Timestamp('2022-03-27 00:00:00', freq='D'): 'PersonalizedTopicsV2WithMetaOrganicPRecall',\n",
       " Timestamp('2022-03-28 00:00:00', freq='D'): 'PersonalizedTopicsV2WithMetaOrganicPRecall',\n",
       " Timestamp('2022-03-29 00:00:00', freq='D'): 'PersonalizedTopicsV2WithMetaOrganicPRecall',\n",
       " Timestamp('2022-03-30 00:00:00', freq='D'): 'PersonalizedTopicsV2WithMetaOrganicPRecall',\n",
       " Timestamp('2022-03-31 00:00:00', freq='D'): 'PersonalizedTopicsV2WithMetaOrganicPRecall',\n",
       " Timestamp('2022-04-01 00:00:00', freq='D'): 'PersonalizedTopicsV2WithMetaOrganicPRecall',\n",
       " Timestamp('2022-04-02 00:00:00', freq='D'): 'PersonalizedTopicsV2WithMetaOrganicPRecall',\n",
       " Timestamp('2022-04-03 00:00:00', freq='D'): 'PersonalizedTopicsV2WithMetaOrganicPRecall',\n",
       " Timestamp('2022-04-04 00:00:00', freq='D'): 'PersonalizedTopicsV2WithMetaOrganicPRecall',\n",
       " Timestamp('2022-04-05 00:00:00', freq='D'): 'PersonalizedTopicsV2WithMetaOrganicPRecall',\n",
       " Timestamp('2022-04-06 00:00:00', freq='D'): 'PersonalizedTopicsV2WithMetaOrganicPRecall',\n",
       " Timestamp('2022-04-07 00:00:00', freq='D'): 'PersonalizedTopicsV2WithMetaOrganicPRecall',\n",
       " Timestamp('2022-04-08 00:00:00', freq='D'): 'PersonalizedTopicsV2WithMetaOrganicPRecall',\n",
       " Timestamp('2022-04-09 00:00:00', freq='D'): 'PersonalizedTopicsV2WithMetaOrganicPRecall',\n",
       " Timestamp('2022-04-10 00:00:00', freq='D'): 'PersonalizedTopicsV2WithMetaOrganicPRecall',\n",
       " Timestamp('2022-04-11 00:00:00', freq='D'): 'PersonalizedTopicsV2WithMetaOrganicPRecall',\n",
       " Timestamp('2022-04-12 00:00:00', freq='D'): 'PersonalizedTopicsV2WithMetaOrganicPRecall',\n",
       " Timestamp('2022-04-13 00:00:00', freq='D'): 'PersonalizedTopicsV2WithMetaOrganicPRecall',\n",
       " Timestamp('2022-04-14 00:00:00', freq='D'): 'PersonalizedTopicsV2WithMetaOrganicPRecall',\n",
       " Timestamp('2022-04-15 00:00:00', freq='D'): 'PersonalizedTopicsV2WithMetaOrganicPRecall',\n",
       " Timestamp('2022-04-16 00:00:00', freq='D'): 'PersonalizedTopicsV2WithMetaOrganicPRecall',\n",
       " Timestamp('2022-04-17 00:00:00', freq='D'): 'PersonalizedTopicsV2WithMetaOrganicPRecall',\n",
       " Timestamp('2022-04-18 00:00:00', freq='D'): 'PersonalizedTopicsV2WithMetaOrganicPRecall',\n",
       " Timestamp('2022-04-19 00:00:00', freq='D'): 'PersonalizedTopicsV2WithMetaOrganicPRecall',\n",
       " Timestamp('2022-04-20 00:00:00', freq='D'): 'PersonalizedTopicsV2WithMetaOrganicPRecall',\n",
       " Timestamp('2022-04-21 00:00:00', freq='D'): 'PersonalizedTopicsV2WithMetaOrganicPRecall',\n",
       " Timestamp('2022-04-22 00:00:00', freq='D'): 'PersonalizedTopicsV2WithMetaOrganicPRecall',\n",
       " Timestamp('2022-04-23 00:00:00', freq='D'): 'PersonalizedTopicsV2WithMetaOrganicPRecall',\n",
       " Timestamp('2022-04-24 00:00:00', freq='D'): 'PersonalizedTopicsV2WithMetaOrganicPRecall',\n",
       " Timestamp('2022-04-25 00:00:00', freq='D'): 'PersonalizedTopicsV2WithMetaOrganicPRecall',\n",
       " Timestamp('2022-04-26 00:00:00', freq='D'): 'PersonalizedTopicsV2WithMetaOrganicPRecall',\n",
       " Timestamp('2022-04-27 00:00:00', freq='D'): 'PersonalizedTopicsV2WithMetaOrganicPRecall',\n",
       " Timestamp('2022-04-28 00:00:00', freq='D'): 'PersonalizedTopicsV2WithMetaOrganicPRecall',\n",
       " Timestamp('2022-04-29 00:00:00', freq='D'): 'PersonalizedTopicsV2WithMetaOrganicPRecall',\n",
       " Timestamp('2022-04-30 00:00:00', freq='D'): 'PersonalizedTopicsV2WithMetaOrganicPRecall',\n",
       " Timestamp('2022-05-01 00:00:00', freq='D'): 'PersonalizedTopicsV2WithMetaOrganicPRecall',\n",
       " Timestamp('2022-05-02 00:00:00', freq='D'): 'PersonalizedTopicsV2WithMetaOrganicPRecall',\n",
       " Timestamp('2022-05-03 00:00:00', freq='D'): 'PersonalizedTopicsV2WithMetaOrganicPRecall',\n",
       " Timestamp('2022-05-04 00:00:00', freq='D'): 'PersonalizedTopicsV2WithMetaOrganicPRecall',\n",
       " Timestamp('2022-05-05 00:00:00', freq='D'): 'PersonalizedTopicsV2WithMetaOrganicPRecall',\n",
       " Timestamp('2022-05-06 00:00:00', freq='D'): 'PersonalizedTopicsV2WithMetaOrganicPRecall',\n",
       " Timestamp('2022-05-07 00:00:00', freq='D'): 'PersonalizedTopicsV2WithMetaOrganicPRecall',\n",
       " Timestamp('2022-05-08 00:00:00', freq='D'): 'PersonalizedTopicsV2WithMetaOrganicPRecall',\n",
       " Timestamp('2022-05-09 00:00:00', freq='D'): 'PersonalizedTopicsV2WithMetaOrganicPRecall',\n",
       " Timestamp('2022-05-10 00:00:00', freq='D'): 'PersonalizedTopicsV2WithMetaOrganicPRecall',\n",
       " Timestamp('2022-05-11 00:00:00', freq='D'): 'PersonalizedTopicsV2WithMetaOrganicPRecall',\n",
       " Timestamp('2022-05-12 00:00:00', freq='D'): 'PersonalizedTopicsV2WithMetaOrganicPRecall',\n",
       " Timestamp('2022-05-13 00:00:00', freq='D'): 'PersonalizedTopicsV2WithMetaOrganicPRecall',\n",
       " Timestamp('2022-05-14 00:00:00', freq='D'): 'PersonalizedTopicsV2WithMetaOrganicPRecall',\n",
       " Timestamp('2022-05-15 00:00:00', freq='D'): 'PersonalizedTopicsV2WithMetaOrganicPRecall',\n",
       " Timestamp('2022-05-16 00:00:00', freq='D'): 'PersonalizedTopicsV2WithMetaOrganicPRecall',\n",
       " Timestamp('2022-05-17 00:00:00', freq='D'): 'PersonalizedTopicsV2WithMetaOrganicPRecall',\n",
       " Timestamp('2022-05-18 00:00:00', freq='D'): 'PersonalizedTopicsV2WithMetaOrganicPRecall',\n",
       " Timestamp('2022-05-19 00:00:00', freq='D'): 'PersonalizedTopicsV2WithMetaOrganicPRecall',\n",
       " Timestamp('2022-05-20 00:00:00', freq='D'): 'PersonalizedTopicsV2WithMetaOrganicPRecall',\n",
       " Timestamp('2022-05-21 00:00:00', freq='D'): 'PersonalizedTopicsV2WithMetaOrganicPRecall',\n",
       " Timestamp('2022-05-22 00:00:00', freq='D'): 'PersonalizedTopicsV2WithMetaOrganicPRecall'}"
      ]
     },
     "execution_count": 26,
     "metadata": {},
     "output_type": "execute_result"
    }
   ],
   "source": [
    "date_to_variant"
   ]
  },
  {
   "cell_type": "code",
   "execution_count": 27,
   "id": "767f232e-61f3-4da5-8bc4-9dd3d406eb88",
   "metadata": {},
   "outputs": [
    {
     "data": {
      "text/plain": [
       "DatetimeIndex(['2022-03-26', '2022-03-27', '2022-03-28', '2022-03-29',\n",
       "               '2022-03-30', '2022-03-31', '2022-04-01', '2022-04-02',\n",
       "               '2022-04-03', '2022-04-04', '2022-04-05', '2022-04-06',\n",
       "               '2022-04-07', '2022-04-08', '2022-04-09', '2022-04-10',\n",
       "               '2022-04-11', '2022-04-12', '2022-04-13', '2022-04-14',\n",
       "               '2022-04-15', '2022-04-16', '2022-04-17', '2022-04-18',\n",
       "               '2022-04-19', '2022-04-20', '2022-04-21', '2022-04-22',\n",
       "               '2022-04-23', '2022-04-24', '2022-04-25', '2022-04-26',\n",
       "               '2022-04-27', '2022-04-28', '2022-04-29', '2022-04-30',\n",
       "               '2022-05-01', '2022-05-02', '2022-05-03', '2022-05-04',\n",
       "               '2022-05-05', '2022-05-06', '2022-05-07', '2022-05-08',\n",
       "               '2022-05-09', '2022-05-10', '2022-05-11', '2022-05-12',\n",
       "               '2022-05-13', '2022-05-14', '2022-05-15', '2022-05-16',\n",
       "               '2022-05-17', '2022-05-18', '2022-05-19', '2022-05-20',\n",
       "               '2022-05-21', '2022-05-22'],\n",
       "              dtype='datetime64[ns]', freq='D')"
      ]
     },
     "execution_count": 27,
     "metadata": {},
     "output_type": "execute_result"
    }
   ],
   "source": [
    "dates"
   ]
  },
  {
   "cell_type": "raw",
   "id": "dc136327-b94a-4211-860c-1b50eebc0e30",
   "metadata": {},
   "source": [
    "2.Motors - test dataset - 15/4/2022 - 15/5/2022\n"
   ]
  },
  {
   "cell_type": "code",
   "execution_count": 5,
   "id": "db1a6518-6f39-4a14-9c72-77b51ef7ed85",
   "metadata": {},
   "outputs": [],
   "source": [
    "start_date = '2022-04-15'\n",
    "end_date = '2022-05-15'\n"
   ]
  },
  {
   "cell_type": "code",
   "execution_count": 9,
   "id": "9e4785f3-9131-4dcf-8e66-53e1199e752b",
   "metadata": {},
   "outputs": [],
   "source": [
    "#mkdir /data/shpx/data/olivyatan/piyi/pa"
   ]
  },
  {
   "cell_type": "code",
   "execution_count": 10,
   "id": "83d8480e-2659-41e5-bb04-77d8ad2381f8",
   "metadata": {},
   "outputs": [],
   "source": [
    "#mkdir /data/shpx/data/olivyatan/piyi/pa/model_training"
   ]
  },
  {
   "cell_type": "code",
   "execution_count": 11,
   "id": "0cfa2c0c-efa1-4503-b6bf-dde0141b8632",
   "metadata": {},
   "outputs": [],
   "source": [
    "#mkdir /data/shpx/data/ozinman/my_files/piyi/refurb"
   ]
  },
  {
   "cell_type": "code",
   "execution_count": 12,
   "id": "decebf24-6ef8-4ec0-8bbe-3227a520d581",
   "metadata": {},
   "outputs": [],
   "source": [
    "#mkdir /data/shpx/data/ozinman/my_files/piyi/refurb/model_training"
   ]
  },
  {
   "cell_type": "raw",
   "id": "d441fb2e-e57f-4046-a053-4328ac383724",
   "metadata": {},
   "source": [
    "pretrainer_hdfs_base_path = '/apps/b_perso/hp/simplark/pretrainer'\n",
    "\n",
    "output_hdfs_base_path = '/apps/b_perso/team/ozinman/pa/piyi'\n",
    "output_kry_base_path = '/data/shpx/data/ozinman/pa/piyi/model_training/'\n",
    "\n",
    "output_file_name_dataset = 'df_pa_2021_10_15_2022_04_15.parquet'\n",
    "output_file_name_dataset_purchases = 'df_pa_purchases_2021_10_15_2022_04_15.parquet'"
   ]
  },
  {
   "cell_type": "code",
   "execution_count": 6,
   "id": "38d6a139-96a5-4bca-bccb-ff90d1754f86",
   "metadata": {},
   "outputs": [],
   "source": [
    "pretrainer_hdfs_base_path = '/apps/b_perso/hp/simplark/pretrainer'\n",
    "\n",
    "output_hdfs_base_path = '/apps/b_perso/team/olivyatan/piyi/pa'\n",
    "output_kry_base_path = '/data/shpx/data/olivyatan/piyi/pa/model_training/'\n",
    "\n",
    "output_file_name_dataset = 'df_pa_2022_05_15_2022_04_15.parquet'\n",
    "output_file_name_dataset_purchases = 'df_pa_purchases_2022_05_15_2022_04_15.parquet'"
   ]
  },
  {
   "cell_type": "code",
   "execution_count": 7,
   "id": "2210fd91-df09-46ea-b67f-d2ba85f4e778",
   "metadata": {},
   "outputs": [],
   "source": [
    "piyi_v5_cols = [\n",
    "'BibowatchRelPosition',\n",
    "'RecallSourceBullseye',\n",
    "'TitleCosineSimilarityToShoppingcartCentroid',\n",
    "'ItemTimeOnSiteV2',\n",
    "'MaxViewedItemTitleJaccardBigrams',\n",
    "'BullseyeAbsRVILeafCatMedianPriceDiffV2',\n",
    "'ItemSalesOverImpPricePrior7DayDecayLogSmoothDomesticWebAndMobile',\n",
    "'ItemVariantSalesOverImpressions7DayDecayLogSmoothDomesticWebAndMobileV2',\n",
    "'FreqWatchPriceBellowItemPrice',\n",
    "'MaxViewedItemTitleJaccard',\n",
    "'ItemWatchesOverImp7DayDecayLogSmoothDomesticWebAndMobileV2',\n",
    "'BullseyeRelRVILeafCatMedianPriceDiffV2',\n",
    "'ItemSalesOverImpPricePrior7DayDecayLogSmoothInternationalWebAndMobileNorm',\n",
    "'NumSameRviInLastWeek',\n",
    "'MerchImpressionsDecayed',\n",
    "'FreqSameItemInWatchBadge',\n",
    "'RecallSourceTora',\n",
    "'PriceDiffMedianRecall',\n",
    "'PlImpressionsDecayed',\n",
    "'PoissonNextEventProbSameItemInWatch',\n",
    "'FreqSameLeafCatIdInWatchBadge',\n",
    "'AvgSameLeafRviPriceRatio',\n",
    "'RecallSourceBestMatch',\n",
    "'LeafCatRVICondition',\n",
    "'AvgSameLeafRviPriceDiff',\n",
    "'BullseyeRVILeafCatMedianPriceV2',\n",
    "'ItemSalesOverImpPricePrior7DayDecayLogSmoothDomesticWebAndMobileNorm',\n",
    "'MaxSameLeafRvihPriceDiff',\n",
    "'ItemConditionOrdinal',\n",
    "'SameItemConditionInRvi',\n",
    "'ItemConditionNorm'\n",
    "]\n",
    "\n",
    "feature_cols = piyi_v5_cols"
   ]
  },
  {
   "cell_type": "code",
   "execution_count": null,
   "id": "f9cacbd6-43f6-49ea-bae5-b92783f684a5",
   "metadata": {},
   "outputs": [],
   "source": []
  },
  {
   "cell_type": "markdown",
   "id": "007fd00c-ae4d-4792-a63b-0ab9a419c36a",
   "metadata": {
    "tags": []
   },
   "source": [
    "# Fetching train data"
   ]
  },
  {
   "cell_type": "markdown",
   "id": "fa076389-06f3-4706-b548-aaf2ba832cd5",
   "metadata": {
    "tags": []
   },
   "source": [
    "## Explore"
   ]
  },
  {
   "cell_type": "code",
   "execution_count": 23,
   "id": "d9e9f7ab-5463-46bf-a28c-36e575dee3b2",
   "metadata": {
    "tags": []
   },
   "outputs": [],
   "source": [
    "def load_npy_file(filepath):\n",
    "    if filepath.endswith(\".gz\"):\n",
    "        with gzip.GzipFile(filepath, 'rb') as f:\n",
    "            return np.load(f)\n",
    "    else:\n",
    "        return np.load(filepath)"
   ]
  },
  {
   "cell_type": "code",
   "execution_count": 24,
   "id": "3fc9301d-25cd-4cb0-9887-72175f09815a",
   "metadata": {},
   "outputs": [
    {
     "name": "stdout",
     "output_type": "stream",
     "text": [
      "20220216  20220221  20220226  20220303\t20220308  20220313  20220318  20220323\n",
      "20220217  20220222  20220227  20220304\t20220309  20220314  20220319  20220324\n",
      "20220218  20220223  20220228  20220305\t20220310  20220315  20220320  20220325\n",
      "20220219  20220224  20220301  20220306\t20220311  20220316  20220321\n",
      "20220220  20220225  20220302  20220307\t20220312  20220317  20220322\n"
     ]
    }
   ],
   "source": [
    "!ls /data/shpx/data/s_perso/b_perso/hp/simplark/pretrainer/PersonalizedTopicsV2WithSimilarCategoriesPurchaseSuppression/"
   ]
  },
  {
   "cell_type": "markdown",
   "id": "3e13b705-dfd9-42ca-9187-833c5fc5a867",
   "metadata": {
    "jp-MarkdownHeadingCollapsed": true,
    "tags": []
   },
   "source": [
    "# Explore:"
   ]
  },
  {
   "cell_type": "code",
   "execution_count": 13,
   "id": "4b21c035-729b-4320-bb72-c7b61b906e2f",
   "metadata": {},
   "outputs": [],
   "source": [
    "# npy_files = glob(\"/data/shpx/data/s_perso/b_perso/hp/simplark/pretrainer/PersonalizedTopicsV2WithMoreCoviewRecall/*/**/*.npy.gz\", recursive=True)\n",
    "npy_files = glob(\"/data/shpx/data/s_perso/b_perso/hp/simplark/pretrainer/PersonalizedTopicsV2WithSimilarCategoriesPurchaseSuppression//*/**/*.npy.gz\", recursive=True)\n",
    "len(npy_files)\n",
    "npy_data_array = np.concatenate([load_npy_file(f) for f in npy_files[:1]])"
   ]
  },
  {
   "cell_type": "code",
   "execution_count": 20,
   "id": "ab95c12c-0d44-471d-9fa5-eb44b68ebe05",
   "metadata": {},
   "outputs": [
    {
     "data": {
      "text/plain": [
       "179852"
      ]
     },
     "execution_count": 20,
     "metadata": {},
     "output_type": "execute_result"
    }
   ],
   "source": [
    "179852"
   ]
  },
  {
   "cell_type": "code",
   "execution_count": 21,
   "id": "8d518d17-640c-41dd-8ba0-97deef77a9c9",
   "metadata": {},
   "outputs": [
    {
     "data": {
      "text/plain": [
       "0      22946\n",
       "3      15264\n",
       "77      7969\n",
       "101     5452\n",
       "15      1985\n",
       "71      1467\n",
       "2       1200\n",
       "186      868\n",
       "210      120\n",
       "dtype: int64"
      ]
     },
     "execution_count": 21,
     "metadata": {},
     "output_type": "execute_result"
    }
   ],
   "source": [
    "pd.Series(npy_data_array['siteId']).value_counts()"
   ]
  },
  {
   "cell_type": "code",
   "execution_count": 22,
   "id": "279e7227-1a63-4e31-b165-8f624dfb4a85",
   "metadata": {},
   "outputs": [],
   "source": [
    "a = pd.DataFrame({\"categ\" : npy_data_array['category'],\"l1Cat\" : npy_data_array['l1Cat'], \\\n",
    "                  \"itemId\": npy_data_array['itemId'], \"siteId\" : npy_data_array['siteId']})"
   ]
  },
  {
   "cell_type": "code",
   "execution_count": 19,
   "id": "fcb4c30a-7469-4c32-8f39-bf2212ef07c4",
   "metadata": {},
   "outputs": [
    {
     "data": {
      "text/plain": [
       "(57271, 4)"
      ]
     },
     "execution_count": 19,
     "metadata": {},
     "output_type": "execute_result"
    }
   ],
   "source": [
    "a.shape"
   ]
  },
  {
   "cell_type": "code",
   "execution_count": 20,
   "id": "b02b4b3d-464c-409e-977a-a2e51c05f497",
   "metadata": {},
   "outputs": [
    {
     "data": {
      "text/plain": [
       "Index(['categ', 'l1Cat', 'itemId', 'siteId'], dtype='object')"
      ]
     },
     "execution_count": 20,
     "metadata": {},
     "output_type": "execute_result"
    }
   ],
   "source": [
    "a.columns"
   ]
  },
  {
   "cell_type": "code",
   "execution_count": 21,
   "id": "e59bcd56-fe42-462e-9e35-608e6aa5a835",
   "metadata": {},
   "outputs": [
    {
     "data": {
      "text/html": [
       "<div>\n",
       "<style scoped>\n",
       "    .dataframe tbody tr th:only-of-type {\n",
       "        vertical-align: middle;\n",
       "    }\n",
       "\n",
       "    .dataframe tbody tr th {\n",
       "        vertical-align: top;\n",
       "    }\n",
       "\n",
       "    .dataframe thead th {\n",
       "        text-align: right;\n",
       "    }\n",
       "</style>\n",
       "<table border=\"1\" class=\"dataframe\">\n",
       "  <thead>\n",
       "    <tr style=\"text-align: right;\">\n",
       "      <th></th>\n",
       "      <th>categ</th>\n",
       "      <th>l1Cat</th>\n",
       "      <th>itemId</th>\n",
       "      <th>siteId</th>\n",
       "    </tr>\n",
       "  </thead>\n",
       "  <tbody>\n",
       "    <tr>\n",
       "      <th>80</th>\n",
       "      <td>b'82335'</td>\n",
       "      <td>b'0.131090'</td>\n",
       "      <td>313859253858</td>\n",
       "      <td>77</td>\n",
       "    </tr>\n",
       "    <tr>\n",
       "      <th>81</th>\n",
       "      <td>b'82335'</td>\n",
       "      <td>b'0.131090'</td>\n",
       "      <td>403442225478</td>\n",
       "      <td>77</td>\n",
       "    </tr>\n",
       "    <tr>\n",
       "      <th>82</th>\n",
       "      <td>b'82335'</td>\n",
       "      <td>b'0.131090'</td>\n",
       "      <td>403461658402</td>\n",
       "      <td>77</td>\n",
       "    </tr>\n",
       "    <tr>\n",
       "      <th>83</th>\n",
       "      <td>b'82335'</td>\n",
       "      <td>b'0.131090'</td>\n",
       "      <td>403439670138</td>\n",
       "      <td>77</td>\n",
       "    </tr>\n",
       "    <tr>\n",
       "      <th>84</th>\n",
       "      <td>b'82335'</td>\n",
       "      <td>b'0.131090'</td>\n",
       "      <td>133996649720</td>\n",
       "      <td>77</td>\n",
       "    </tr>\n",
       "    <tr>\n",
       "      <th>...</th>\n",
       "      <td>...</td>\n",
       "      <td>...</td>\n",
       "      <td>...</td>\n",
       "      <td>...</td>\n",
       "    </tr>\n",
       "    <tr>\n",
       "      <th>57226</th>\n",
       "      <td>b'33656'</td>\n",
       "      <td>b'0.131090'</td>\n",
       "      <td>393504509201</td>\n",
       "      <td>3</td>\n",
       "    </tr>\n",
       "    <tr>\n",
       "      <th>57227</th>\n",
       "      <td>b'33656'</td>\n",
       "      <td>b'0.131090'</td>\n",
       "      <td>165318680569</td>\n",
       "      <td>3</td>\n",
       "    </tr>\n",
       "    <tr>\n",
       "      <th>57228</th>\n",
       "      <td>b'33656|14769'</td>\n",
       "      <td>b'0.131090'</td>\n",
       "      <td>175064796074</td>\n",
       "      <td>3</td>\n",
       "    </tr>\n",
       "    <tr>\n",
       "      <th>57229</th>\n",
       "      <td>b'33656'</td>\n",
       "      <td>b'0.131090'</td>\n",
       "      <td>255121475748</td>\n",
       "      <td>3</td>\n",
       "    </tr>\n",
       "    <tr>\n",
       "      <th>57230</th>\n",
       "      <td>b'33656'</td>\n",
       "      <td>b'0.131090'</td>\n",
       "      <td>253179670469</td>\n",
       "      <td>3</td>\n",
       "    </tr>\n",
       "  </tbody>\n",
       "</table>\n",
       "<p>3351 rows × 4 columns</p>\n",
       "</div>"
      ],
      "text/plain": [
       "                categ        l1Cat        itemId  siteId\n",
       "80           b'82335'  b'0.131090'  313859253858      77\n",
       "81           b'82335'  b'0.131090'  403442225478      77\n",
       "82           b'82335'  b'0.131090'  403461658402      77\n",
       "83           b'82335'  b'0.131090'  403439670138      77\n",
       "84           b'82335'  b'0.131090'  133996649720      77\n",
       "...               ...          ...           ...     ...\n",
       "57226        b'33656'  b'0.131090'  393504509201       3\n",
       "57227        b'33656'  b'0.131090'  165318680569       3\n",
       "57228  b'33656|14769'  b'0.131090'  175064796074       3\n",
       "57229        b'33656'  b'0.131090'  255121475748       3\n",
       "57230        b'33656'  b'0.131090'  253179670469       3\n",
       "\n",
       "[3351 rows x 4 columns]"
      ]
     },
     "execution_count": 21,
     "metadata": {},
     "output_type": "execute_result"
    }
   ],
   "source": [
    "a[a.l1Cat == b'0.131090']"
   ]
  },
  {
   "cell_type": "code",
   "execution_count": 22,
   "id": "8652a726-abd3-4134-b1e7-8bf33c18a7f6",
   "metadata": {},
   "outputs": [
    {
     "data": {
      "text/plain": [
       "array([b'0.11700', b'0.11700'], dtype='|S8')"
      ]
     },
     "execution_count": 22,
     "metadata": {},
     "output_type": "execute_result"
    }
   ],
   "source": [
    "npy_data_array['l1Cat'][:2]"
   ]
  },
  {
   "cell_type": "code",
   "execution_count": 23,
   "id": "a071444d-a9a3-4d56-a2fc-47c647f72c51",
   "metadata": {
    "scrolled": true,
    "tags": []
   },
   "outputs": [
    {
     "data": {
      "text/plain": [
       "('meid',\n",
       " 'algoVariant',\n",
       " 'siteId',\n",
       " 'seedId',\n",
       " 'l1Cat',\n",
       " 'l2Cat',\n",
       " 'l3Cat',\n",
       " 'category',\n",
       " 'categoryPath',\n",
       " 'itemId',\n",
       " 'placementId',\n",
       " 'seedProduct',\n",
       " 'PLXModelScore',\n",
       " 'labels',\n",
       " 'weight',\n",
       " 'counterWeight',\n",
       " 'score',\n",
       " 'mlrModelScore',\n",
       " 'rank',\n",
       " 'postExplorationRank',\n",
       " 'preMfeRank',\n",
       " 'impressionClicked',\n",
       " 'clickPropensity',\n",
       " 'features',\n",
       " 'mlrRank',\n",
       " 'adRate',\n",
       " 'adRateWeight',\n",
       " 'userId')"
      ]
     },
     "execution_count": 23,
     "metadata": {},
     "output_type": "execute_result"
    }
   ],
   "source": [
    "npy_data_array.dtype.names"
   ]
  },
  {
   "cell_type": "markdown",
   "id": "5825fa36-35e7-4fb9-a3b2-e5449b5c50bc",
   "metadata": {
    "tags": []
   },
   "source": [
    "# Spark fetch"
   ]
  },
  {
   "cell_type": "markdown",
   "id": "248d4331-9285-4892-a5ab-36b205cff627",
   "metadata": {},
   "source": [
    "<font color=blue>Notice that Fetcher init will print each file it doesn't find"
   ]
  },
  {
   "cell_type": "code",
   "execution_count": 8,
   "id": "fc245c7f-1894-4d2c-9926-8de8c7b23a92",
   "metadata": {
    "tags": []
   },
   "outputs": [
    {
     "name": "stderr",
     "output_type": "stream",
     "text": [
      "/opt/conda/lib/python3.7/site-packages/ipykernel_launcher.py:1: FutureWarning: pyarrow.hdfs.HadoopFileSystem is deprecated as of 2.0.0, please use pyarrow.fs.HadoopFileSystem instead.\n",
      "  \"\"\"Entry point for launching an IPython kernel.\n",
      "SLF4J: Class path contains multiple SLF4J bindings.\n",
      "SLF4J: Found binding in [jar:file:/apache/releases/hadoop-2.7.3.2.6.4.2.0.18/share/hadoop/common/lib/slf4j-log4j12-1.7.30.jar!/org/slf4j/impl/StaticLoggerBinder.class]\n",
      "SLF4J: Found binding in [jar:file:/apache/releases/hadoop-2.7.3.2.6.4.2.0.18/share/hadoop/httpfs/tomcat/webapps/webhdfs/WEB-INF/lib/slf4j-log4j12-1.7.30.jar!/org/slf4j/impl/StaticLoggerBinder.class]\n",
      "SLF4J: Found binding in [jar:file:/apache/releases/hadoop-2.7.3.2.6.4.2.0.18/share/hadoop/kms/tomcat/webapps/kms/WEB-INF/lib/slf4j-log4j12-1.7.30.jar!/org/slf4j/impl/StaticLoggerBinder.class]\n",
      "SLF4J: See http://www.slf4j.org/codes.html#multiple_bindings for an explanation.\n",
      "SLF4J: Actual binding is of type [org.slf4j.impl.Log4jLoggerFactory]\n",
      "22/06/02 13:46:33 WARN util.NativeCodeLoader: Unable to load native-hadoop library for your platform... using builtin-java classes where applicable\n",
      "22/06/02 13:46:33 WARN shortcircuit.DomainSocketFactory: The short-circuit local reads feature cannot be used because libhadoop cannot be loaded.\n"
     ]
    }
   ],
   "source": [
    "ft = Fetcher(pretrainer_hdfs_base_path, date_to_variant, start_date, end_date, hdfs.HadoopFileSystem(), num_workers=256)"
   ]
  },
  {
   "cell_type": "code",
   "execution_count": 11,
   "id": "a1e8312b-879d-4d60-855b-d4fff877d7cd",
   "metadata": {
    "scrolled": true,
    "tags": []
   },
   "outputs": [
    {
     "data": {
      "text/plain": [
       "['/apps/b_perso/hp/simplark/pretrainer/PersonalizedTopicsV2WithMetaOrganicPRecall/2022/04/15/data/part-00000-09cb5993-6d07-4d60-af94-83e4f48d6fee.npy.gz',\n",
       " '/apps/b_perso/hp/simplark/pretrainer/PersonalizedTopicsV2WithMetaOrganicPRecall/2022/04/15/data/part-00001-09cb5993-6d07-4d60-af94-83e4f48d6fee.npy.gz',\n",
       " '/apps/b_perso/hp/simplark/pretrainer/PersonalizedTopicsV2WithMetaOrganicPRecall/2022/04/15/data/part-00002-09cb5993-6d07-4d60-af94-83e4f48d6fee.npy.gz',\n",
       " '/apps/b_perso/hp/simplark/pretrainer/PersonalizedTopicsV2WithMetaOrganicPRecall/2022/04/15/data/part-00003-09cb5993-6d07-4d60-af94-83e4f48d6fee.npy.gz',\n",
       " '/apps/b_perso/hp/simplark/pretrainer/PersonalizedTopicsV2WithMetaOrganicPRecall/2022/04/15/data/part-00004-09cb5993-6d07-4d60-af94-83e4f48d6fee.npy.gz',\n",
       " '/apps/b_perso/hp/simplark/pretrainer/PersonalizedTopicsV2WithMetaOrganicPRecall/2022/04/15/data/part-00005-09cb5993-6d07-4d60-af94-83e4f48d6fee.npy.gz',\n",
       " '/apps/b_perso/hp/simplark/pretrainer/PersonalizedTopicsV2WithMetaOrganicPRecall/2022/04/15/data/part-00006-09cb5993-6d07-4d60-af94-83e4f48d6fee.npy.gz',\n",
       " '/apps/b_perso/hp/simplark/pretrainer/PersonalizedTopicsV2WithMetaOrganicPRecall/2022/04/15/data/part-00007-09cb5993-6d07-4d60-af94-83e4f48d6fee.npy.gz',\n",
       " '/apps/b_perso/hp/simplark/pretrainer/PersonalizedTopicsV2WithMetaOrganicPRecall/2022/04/15/data/part-00008-09cb5993-6d07-4d60-af94-83e4f48d6fee.npy.gz',\n",
       " '/apps/b_perso/hp/simplark/pretrainer/PersonalizedTopicsV2WithMetaOrganicPRecall/2022/04/15/data/part-00009-09cb5993-6d07-4d60-af94-83e4f48d6fee.npy.gz',\n",
       " '/apps/b_perso/hp/simplark/pretrainer/PersonalizedTopicsV2WithMetaOrganicPRecall/2022/04/15/data/part-00010-09cb5993-6d07-4d60-af94-83e4f48d6fee.npy.gz',\n",
       " '/apps/b_perso/hp/simplark/pretrainer/PersonalizedTopicsV2WithMetaOrganicPRecall/2022/04/15/data/part-00011-09cb5993-6d07-4d60-af94-83e4f48d6fee.npy.gz',\n",
       " '/apps/b_perso/hp/simplark/pretrainer/PersonalizedTopicsV2WithMetaOrganicPRecall/2022/04/15/data/part-00012-09cb5993-6d07-4d60-af94-83e4f48d6fee.npy.gz',\n",
       " '/apps/b_perso/hp/simplark/pretrainer/PersonalizedTopicsV2WithMetaOrganicPRecall/2022/04/15/data/part-00013-09cb5993-6d07-4d60-af94-83e4f48d6fee.npy.gz',\n",
       " '/apps/b_perso/hp/simplark/pretrainer/PersonalizedTopicsV2WithMetaOrganicPRecall/2022/04/15/data/part-00014-09cb5993-6d07-4d60-af94-83e4f48d6fee.npy.gz',\n",
       " '/apps/b_perso/hp/simplark/pretrainer/PersonalizedTopicsV2WithMetaOrganicPRecall/2022/04/15/data/part-00015-09cb5993-6d07-4d60-af94-83e4f48d6fee.npy.gz',\n",
       " '/apps/b_perso/hp/simplark/pretrainer/PersonalizedTopicsV2WithMetaOrganicPRecall/2022/04/15/data/part-00016-09cb5993-6d07-4d60-af94-83e4f48d6fee.npy.gz',\n",
       " '/apps/b_perso/hp/simplark/pretrainer/PersonalizedTopicsV2WithMetaOrganicPRecall/2022/04/15/data/part-00017-09cb5993-6d07-4d60-af94-83e4f48d6fee.npy.gz',\n",
       " '/apps/b_perso/hp/simplark/pretrainer/PersonalizedTopicsV2WithMetaOrganicPRecall/2022/04/15/data/part-00018-09cb5993-6d07-4d60-af94-83e4f48d6fee.npy.gz',\n",
       " '/apps/b_perso/hp/simplark/pretrainer/PersonalizedTopicsV2WithMetaOrganicPRecall/2022/04/15/data/part-00019-09cb5993-6d07-4d60-af94-83e4f48d6fee.npy.gz',\n",
       " '/apps/b_perso/hp/simplark/pretrainer/PersonalizedTopicsV2WithMetaOrganicPRecall/2022/04/15/data/part-00020-09cb5993-6d07-4d60-af94-83e4f48d6fee.npy.gz',\n",
       " '/apps/b_perso/hp/simplark/pretrainer/PersonalizedTopicsV2WithMetaOrganicPRecall/2022/04/15/data/part-00021-09cb5993-6d07-4d60-af94-83e4f48d6fee.npy.gz',\n",
       " '/apps/b_perso/hp/simplark/pretrainer/PersonalizedTopicsV2WithMetaOrganicPRecall/2022/04/15/data/part-00022-09cb5993-6d07-4d60-af94-83e4f48d6fee.npy.gz',\n",
       " '/apps/b_perso/hp/simplark/pretrainer/PersonalizedTopicsV2WithMetaOrganicPRecall/2022/04/15/data/part-00023-09cb5993-6d07-4d60-af94-83e4f48d6fee.npy.gz',\n",
       " '/apps/b_perso/hp/simplark/pretrainer/PersonalizedTopicsV2WithMetaOrganicPRecall/2022/04/15/data/part-00024-09cb5993-6d07-4d60-af94-83e4f48d6fee.npy.gz',\n",
       " '/apps/b_perso/hp/simplark/pretrainer/PersonalizedTopicsV2WithMetaOrganicPRecall/2022/04/15/data/part-00025-09cb5993-6d07-4d60-af94-83e4f48d6fee.npy.gz',\n",
       " '/apps/b_perso/hp/simplark/pretrainer/PersonalizedTopicsV2WithMetaOrganicPRecall/2022/04/15/data/part-00026-09cb5993-6d07-4d60-af94-83e4f48d6fee.npy.gz',\n",
       " '/apps/b_perso/hp/simplark/pretrainer/PersonalizedTopicsV2WithMetaOrganicPRecall/2022/04/15/data/part-00027-09cb5993-6d07-4d60-af94-83e4f48d6fee.npy.gz',\n",
       " '/apps/b_perso/hp/simplark/pretrainer/PersonalizedTopicsV2WithMetaOrganicPRecall/2022/04/15/data/part-00028-09cb5993-6d07-4d60-af94-83e4f48d6fee.npy.gz',\n",
       " '/apps/b_perso/hp/simplark/pretrainer/PersonalizedTopicsV2WithMetaOrganicPRecall/2022/04/15/data/part-00029-09cb5993-6d07-4d60-af94-83e4f48d6fee.npy.gz',\n",
       " '/apps/b_perso/hp/simplark/pretrainer/PersonalizedTopicsV2WithMetaOrganicPRecall/2022/04/15/data/part-00030-09cb5993-6d07-4d60-af94-83e4f48d6fee.npy.gz',\n",
       " '/apps/b_perso/hp/simplark/pretrainer/PersonalizedTopicsV2WithMetaOrganicPRecall/2022/04/15/data/part-00031-09cb5993-6d07-4d60-af94-83e4f48d6fee.npy.gz',\n",
       " '/apps/b_perso/hp/simplark/pretrainer/PersonalizedTopicsV2WithMetaOrganicPRecall/2022/04/15/data/part-00032-09cb5993-6d07-4d60-af94-83e4f48d6fee.npy.gz',\n",
       " '/apps/b_perso/hp/simplark/pretrainer/PersonalizedTopicsV2WithMetaOrganicPRecall/2022/04/15/data/part-00033-09cb5993-6d07-4d60-af94-83e4f48d6fee.npy.gz',\n",
       " '/apps/b_perso/hp/simplark/pretrainer/PersonalizedTopicsV2WithMetaOrganicPRecall/2022/04/15/data/part-00034-09cb5993-6d07-4d60-af94-83e4f48d6fee.npy.gz',\n",
       " '/apps/b_perso/hp/simplark/pretrainer/PersonalizedTopicsV2WithMetaOrganicPRecall/2022/04/15/data/part-00035-09cb5993-6d07-4d60-af94-83e4f48d6fee.npy.gz',\n",
       " '/apps/b_perso/hp/simplark/pretrainer/PersonalizedTopicsV2WithMetaOrganicPRecall/2022/04/15/data/part-00036-09cb5993-6d07-4d60-af94-83e4f48d6fee.npy.gz',\n",
       " '/apps/b_perso/hp/simplark/pretrainer/PersonalizedTopicsV2WithMetaOrganicPRecall/2022/04/15/data/part-00037-09cb5993-6d07-4d60-af94-83e4f48d6fee.npy.gz',\n",
       " '/apps/b_perso/hp/simplark/pretrainer/PersonalizedTopicsV2WithMetaOrganicPRecall/2022/04/15/data/part-00038-09cb5993-6d07-4d60-af94-83e4f48d6fee.npy.gz',\n",
       " '/apps/b_perso/hp/simplark/pretrainer/PersonalizedTopicsV2WithMetaOrganicPRecall/2022/04/15/data/part-00039-09cb5993-6d07-4d60-af94-83e4f48d6fee.npy.gz',\n",
       " '/apps/b_perso/hp/simplark/pretrainer/PersonalizedTopicsV2WithMetaOrganicPRecall/2022/04/15/data/part-00040-09cb5993-6d07-4d60-af94-83e4f48d6fee.npy.gz',\n",
       " '/apps/b_perso/hp/simplark/pretrainer/PersonalizedTopicsV2WithMetaOrganicPRecall/2022/04/15/data/part-00041-09cb5993-6d07-4d60-af94-83e4f48d6fee.npy.gz',\n",
       " '/apps/b_perso/hp/simplark/pretrainer/PersonalizedTopicsV2WithMetaOrganicPRecall/2022/04/15/data/part-00042-09cb5993-6d07-4d60-af94-83e4f48d6fee.npy.gz',\n",
       " '/apps/b_perso/hp/simplark/pretrainer/PersonalizedTopicsV2WithMetaOrganicPRecall/2022/04/15/data/part-00043-09cb5993-6d07-4d60-af94-83e4f48d6fee.npy.gz',\n",
       " '/apps/b_perso/hp/simplark/pretrainer/PersonalizedTopicsV2WithMetaOrganicPRecall/2022/04/15/data/part-00044-09cb5993-6d07-4d60-af94-83e4f48d6fee.npy.gz',\n",
       " '/apps/b_perso/hp/simplark/pretrainer/PersonalizedTopicsV2WithMetaOrganicPRecall/2022/04/15/data/part-00045-09cb5993-6d07-4d60-af94-83e4f48d6fee.npy.gz',\n",
       " '/apps/b_perso/hp/simplark/pretrainer/PersonalizedTopicsV2WithMetaOrganicPRecall/2022/04/15/data/part-00046-09cb5993-6d07-4d60-af94-83e4f48d6fee.npy.gz',\n",
       " '/apps/b_perso/hp/simplark/pretrainer/PersonalizedTopicsV2WithMetaOrganicPRecall/2022/04/15/data/part-00047-09cb5993-6d07-4d60-af94-83e4f48d6fee.npy.gz',\n",
       " '/apps/b_perso/hp/simplark/pretrainer/PersonalizedTopicsV2WithMetaOrganicPRecall/2022/04/15/data/part-00048-09cb5993-6d07-4d60-af94-83e4f48d6fee.npy.gz',\n",
       " '/apps/b_perso/hp/simplark/pretrainer/PersonalizedTopicsV2WithMetaOrganicPRecall/2022/04/15/data/part-00049-09cb5993-6d07-4d60-af94-83e4f48d6fee.npy.gz',\n",
       " '/apps/b_perso/hp/simplark/pretrainer/PersonalizedTopicsV2WithMetaOrganicPRecall/2022/04/16/data/part-00000-7130bd10-1eed-41a3-ab44-304300ecb67c.npy.gz',\n",
       " '/apps/b_perso/hp/simplark/pretrainer/PersonalizedTopicsV2WithMetaOrganicPRecall/2022/04/16/data/part-00001-7130bd10-1eed-41a3-ab44-304300ecb67c.npy.gz',\n",
       " '/apps/b_perso/hp/simplark/pretrainer/PersonalizedTopicsV2WithMetaOrganicPRecall/2022/04/16/data/part-00002-7130bd10-1eed-41a3-ab44-304300ecb67c.npy.gz',\n",
       " '/apps/b_perso/hp/simplark/pretrainer/PersonalizedTopicsV2WithMetaOrganicPRecall/2022/04/16/data/part-00003-7130bd10-1eed-41a3-ab44-304300ecb67c.npy.gz',\n",
       " '/apps/b_perso/hp/simplark/pretrainer/PersonalizedTopicsV2WithMetaOrganicPRecall/2022/04/16/data/part-00004-7130bd10-1eed-41a3-ab44-304300ecb67c.npy.gz',\n",
       " '/apps/b_perso/hp/simplark/pretrainer/PersonalizedTopicsV2WithMetaOrganicPRecall/2022/04/16/data/part-00005-7130bd10-1eed-41a3-ab44-304300ecb67c.npy.gz',\n",
       " '/apps/b_perso/hp/simplark/pretrainer/PersonalizedTopicsV2WithMetaOrganicPRecall/2022/04/16/data/part-00006-7130bd10-1eed-41a3-ab44-304300ecb67c.npy.gz',\n",
       " '/apps/b_perso/hp/simplark/pretrainer/PersonalizedTopicsV2WithMetaOrganicPRecall/2022/04/16/data/part-00007-7130bd10-1eed-41a3-ab44-304300ecb67c.npy.gz',\n",
       " '/apps/b_perso/hp/simplark/pretrainer/PersonalizedTopicsV2WithMetaOrganicPRecall/2022/04/16/data/part-00008-7130bd10-1eed-41a3-ab44-304300ecb67c.npy.gz',\n",
       " '/apps/b_perso/hp/simplark/pretrainer/PersonalizedTopicsV2WithMetaOrganicPRecall/2022/04/16/data/part-00009-7130bd10-1eed-41a3-ab44-304300ecb67c.npy.gz',\n",
       " '/apps/b_perso/hp/simplark/pretrainer/PersonalizedTopicsV2WithMetaOrganicPRecall/2022/04/16/data/part-00010-7130bd10-1eed-41a3-ab44-304300ecb67c.npy.gz',\n",
       " '/apps/b_perso/hp/simplark/pretrainer/PersonalizedTopicsV2WithMetaOrganicPRecall/2022/04/16/data/part-00011-7130bd10-1eed-41a3-ab44-304300ecb67c.npy.gz',\n",
       " '/apps/b_perso/hp/simplark/pretrainer/PersonalizedTopicsV2WithMetaOrganicPRecall/2022/04/16/data/part-00012-7130bd10-1eed-41a3-ab44-304300ecb67c.npy.gz',\n",
       " '/apps/b_perso/hp/simplark/pretrainer/PersonalizedTopicsV2WithMetaOrganicPRecall/2022/04/16/data/part-00013-7130bd10-1eed-41a3-ab44-304300ecb67c.npy.gz',\n",
       " '/apps/b_perso/hp/simplark/pretrainer/PersonalizedTopicsV2WithMetaOrganicPRecall/2022/04/16/data/part-00014-7130bd10-1eed-41a3-ab44-304300ecb67c.npy.gz',\n",
       " '/apps/b_perso/hp/simplark/pretrainer/PersonalizedTopicsV2WithMetaOrganicPRecall/2022/04/16/data/part-00015-7130bd10-1eed-41a3-ab44-304300ecb67c.npy.gz',\n",
       " '/apps/b_perso/hp/simplark/pretrainer/PersonalizedTopicsV2WithMetaOrganicPRecall/2022/04/16/data/part-00016-7130bd10-1eed-41a3-ab44-304300ecb67c.npy.gz',\n",
       " '/apps/b_perso/hp/simplark/pretrainer/PersonalizedTopicsV2WithMetaOrganicPRecall/2022/04/16/data/part-00017-7130bd10-1eed-41a3-ab44-304300ecb67c.npy.gz',\n",
       " '/apps/b_perso/hp/simplark/pretrainer/PersonalizedTopicsV2WithMetaOrganicPRecall/2022/04/16/data/part-00018-7130bd10-1eed-41a3-ab44-304300ecb67c.npy.gz',\n",
       " '/apps/b_perso/hp/simplark/pretrainer/PersonalizedTopicsV2WithMetaOrganicPRecall/2022/04/16/data/part-00019-7130bd10-1eed-41a3-ab44-304300ecb67c.npy.gz',\n",
       " '/apps/b_perso/hp/simplark/pretrainer/PersonalizedTopicsV2WithMetaOrganicPRecall/2022/04/16/data/part-00020-7130bd10-1eed-41a3-ab44-304300ecb67c.npy.gz',\n",
       " '/apps/b_perso/hp/simplark/pretrainer/PersonalizedTopicsV2WithMetaOrganicPRecall/2022/04/16/data/part-00021-7130bd10-1eed-41a3-ab44-304300ecb67c.npy.gz',\n",
       " '/apps/b_perso/hp/simplark/pretrainer/PersonalizedTopicsV2WithMetaOrganicPRecall/2022/04/16/data/part-00022-7130bd10-1eed-41a3-ab44-304300ecb67c.npy.gz',\n",
       " '/apps/b_perso/hp/simplark/pretrainer/PersonalizedTopicsV2WithMetaOrganicPRecall/2022/04/16/data/part-00023-7130bd10-1eed-41a3-ab44-304300ecb67c.npy.gz',\n",
       " '/apps/b_perso/hp/simplark/pretrainer/PersonalizedTopicsV2WithMetaOrganicPRecall/2022/04/16/data/part-00024-7130bd10-1eed-41a3-ab44-304300ecb67c.npy.gz',\n",
       " '/apps/b_perso/hp/simplark/pretrainer/PersonalizedTopicsV2WithMetaOrganicPRecall/2022/04/16/data/part-00025-7130bd10-1eed-41a3-ab44-304300ecb67c.npy.gz',\n",
       " '/apps/b_perso/hp/simplark/pretrainer/PersonalizedTopicsV2WithMetaOrganicPRecall/2022/04/16/data/part-00026-7130bd10-1eed-41a3-ab44-304300ecb67c.npy.gz',\n",
       " '/apps/b_perso/hp/simplark/pretrainer/PersonalizedTopicsV2WithMetaOrganicPRecall/2022/04/16/data/part-00027-7130bd10-1eed-41a3-ab44-304300ecb67c.npy.gz',\n",
       " '/apps/b_perso/hp/simplark/pretrainer/PersonalizedTopicsV2WithMetaOrganicPRecall/2022/04/16/data/part-00028-7130bd10-1eed-41a3-ab44-304300ecb67c.npy.gz',\n",
       " '/apps/b_perso/hp/simplark/pretrainer/PersonalizedTopicsV2WithMetaOrganicPRecall/2022/04/16/data/part-00029-7130bd10-1eed-41a3-ab44-304300ecb67c.npy.gz',\n",
       " '/apps/b_perso/hp/simplark/pretrainer/PersonalizedTopicsV2WithMetaOrganicPRecall/2022/04/16/data/part-00030-7130bd10-1eed-41a3-ab44-304300ecb67c.npy.gz',\n",
       " '/apps/b_perso/hp/simplark/pretrainer/PersonalizedTopicsV2WithMetaOrganicPRecall/2022/04/16/data/part-00031-7130bd10-1eed-41a3-ab44-304300ecb67c.npy.gz',\n",
       " '/apps/b_perso/hp/simplark/pretrainer/PersonalizedTopicsV2WithMetaOrganicPRecall/2022/04/16/data/part-00032-7130bd10-1eed-41a3-ab44-304300ecb67c.npy.gz',\n",
       " '/apps/b_perso/hp/simplark/pretrainer/PersonalizedTopicsV2WithMetaOrganicPRecall/2022/04/16/data/part-00033-7130bd10-1eed-41a3-ab44-304300ecb67c.npy.gz',\n",
       " '/apps/b_perso/hp/simplark/pretrainer/PersonalizedTopicsV2WithMetaOrganicPRecall/2022/04/16/data/part-00034-7130bd10-1eed-41a3-ab44-304300ecb67c.npy.gz',\n",
       " '/apps/b_perso/hp/simplark/pretrainer/PersonalizedTopicsV2WithMetaOrganicPRecall/2022/04/16/data/part-00035-7130bd10-1eed-41a3-ab44-304300ecb67c.npy.gz',\n",
       " '/apps/b_perso/hp/simplark/pretrainer/PersonalizedTopicsV2WithMetaOrganicPRecall/2022/04/16/data/part-00036-7130bd10-1eed-41a3-ab44-304300ecb67c.npy.gz',\n",
       " '/apps/b_perso/hp/simplark/pretrainer/PersonalizedTopicsV2WithMetaOrganicPRecall/2022/04/16/data/part-00037-7130bd10-1eed-41a3-ab44-304300ecb67c.npy.gz',\n",
       " '/apps/b_perso/hp/simplark/pretrainer/PersonalizedTopicsV2WithMetaOrganicPRecall/2022/04/16/data/part-00038-7130bd10-1eed-41a3-ab44-304300ecb67c.npy.gz',\n",
       " '/apps/b_perso/hp/simplark/pretrainer/PersonalizedTopicsV2WithMetaOrganicPRecall/2022/04/16/data/part-00039-7130bd10-1eed-41a3-ab44-304300ecb67c.npy.gz',\n",
       " '/apps/b_perso/hp/simplark/pretrainer/PersonalizedTopicsV2WithMetaOrganicPRecall/2022/04/16/data/part-00040-7130bd10-1eed-41a3-ab44-304300ecb67c.npy.gz',\n",
       " '/apps/b_perso/hp/simplark/pretrainer/PersonalizedTopicsV2WithMetaOrganicPRecall/2022/04/16/data/part-00041-7130bd10-1eed-41a3-ab44-304300ecb67c.npy.gz',\n",
       " '/apps/b_perso/hp/simplark/pretrainer/PersonalizedTopicsV2WithMetaOrganicPRecall/2022/04/16/data/part-00042-7130bd10-1eed-41a3-ab44-304300ecb67c.npy.gz',\n",
       " '/apps/b_perso/hp/simplark/pretrainer/PersonalizedTopicsV2WithMetaOrganicPRecall/2022/04/16/data/part-00043-7130bd10-1eed-41a3-ab44-304300ecb67c.npy.gz',\n",
       " '/apps/b_perso/hp/simplark/pretrainer/PersonalizedTopicsV2WithMetaOrganicPRecall/2022/04/16/data/part-00044-7130bd10-1eed-41a3-ab44-304300ecb67c.npy.gz',\n",
       " '/apps/b_perso/hp/simplark/pretrainer/PersonalizedTopicsV2WithMetaOrganicPRecall/2022/04/16/data/part-00045-7130bd10-1eed-41a3-ab44-304300ecb67c.npy.gz',\n",
       " '/apps/b_perso/hp/simplark/pretrainer/PersonalizedTopicsV2WithMetaOrganicPRecall/2022/04/16/data/part-00046-7130bd10-1eed-41a3-ab44-304300ecb67c.npy.gz',\n",
       " '/apps/b_perso/hp/simplark/pretrainer/PersonalizedTopicsV2WithMetaOrganicPRecall/2022/04/16/data/part-00047-7130bd10-1eed-41a3-ab44-304300ecb67c.npy.gz',\n",
       " '/apps/b_perso/hp/simplark/pretrainer/PersonalizedTopicsV2WithMetaOrganicPRecall/2022/04/16/data/part-00048-7130bd10-1eed-41a3-ab44-304300ecb67c.npy.gz',\n",
       " '/apps/b_perso/hp/simplark/pretrainer/PersonalizedTopicsV2WithMetaOrganicPRecall/2022/04/16/data/part-00049-7130bd10-1eed-41a3-ab44-304300ecb67c.npy.gz',\n",
       " '/apps/b_perso/hp/simplark/pretrainer/PersonalizedTopicsV2WithMetaOrganicPRecall/2022/04/17/data/part-00000-d1817ad2-7184-4086-a0f9-f6d3b9e32f4c.npy.gz',\n",
       " '/apps/b_perso/hp/simplark/pretrainer/PersonalizedTopicsV2WithMetaOrganicPRecall/2022/04/17/data/part-00001-d1817ad2-7184-4086-a0f9-f6d3b9e32f4c.npy.gz',\n",
       " '/apps/b_perso/hp/simplark/pretrainer/PersonalizedTopicsV2WithMetaOrganicPRecall/2022/04/17/data/part-00002-d1817ad2-7184-4086-a0f9-f6d3b9e32f4c.npy.gz',\n",
       " '/apps/b_perso/hp/simplark/pretrainer/PersonalizedTopicsV2WithMetaOrganicPRecall/2022/04/17/data/part-00003-d1817ad2-7184-4086-a0f9-f6d3b9e32f4c.npy.gz',\n",
       " '/apps/b_perso/hp/simplark/pretrainer/PersonalizedTopicsV2WithMetaOrganicPRecall/2022/04/17/data/part-00004-d1817ad2-7184-4086-a0f9-f6d3b9e32f4c.npy.gz',\n",
       " '/apps/b_perso/hp/simplark/pretrainer/PersonalizedTopicsV2WithMetaOrganicPRecall/2022/04/17/data/part-00005-d1817ad2-7184-4086-a0f9-f6d3b9e32f4c.npy.gz',\n",
       " '/apps/b_perso/hp/simplark/pretrainer/PersonalizedTopicsV2WithMetaOrganicPRecall/2022/04/17/data/part-00006-d1817ad2-7184-4086-a0f9-f6d3b9e32f4c.npy.gz',\n",
       " '/apps/b_perso/hp/simplark/pretrainer/PersonalizedTopicsV2WithMetaOrganicPRecall/2022/04/17/data/part-00007-d1817ad2-7184-4086-a0f9-f6d3b9e32f4c.npy.gz',\n",
       " '/apps/b_perso/hp/simplark/pretrainer/PersonalizedTopicsV2WithMetaOrganicPRecall/2022/04/17/data/part-00008-d1817ad2-7184-4086-a0f9-f6d3b9e32f4c.npy.gz',\n",
       " '/apps/b_perso/hp/simplark/pretrainer/PersonalizedTopicsV2WithMetaOrganicPRecall/2022/04/17/data/part-00009-d1817ad2-7184-4086-a0f9-f6d3b9e32f4c.npy.gz',\n",
       " '/apps/b_perso/hp/simplark/pretrainer/PersonalizedTopicsV2WithMetaOrganicPRecall/2022/04/17/data/part-00010-d1817ad2-7184-4086-a0f9-f6d3b9e32f4c.npy.gz',\n",
       " '/apps/b_perso/hp/simplark/pretrainer/PersonalizedTopicsV2WithMetaOrganicPRecall/2022/04/17/data/part-00011-d1817ad2-7184-4086-a0f9-f6d3b9e32f4c.npy.gz',\n",
       " '/apps/b_perso/hp/simplark/pretrainer/PersonalizedTopicsV2WithMetaOrganicPRecall/2022/04/17/data/part-00012-d1817ad2-7184-4086-a0f9-f6d3b9e32f4c.npy.gz',\n",
       " '/apps/b_perso/hp/simplark/pretrainer/PersonalizedTopicsV2WithMetaOrganicPRecall/2022/04/17/data/part-00013-d1817ad2-7184-4086-a0f9-f6d3b9e32f4c.npy.gz',\n",
       " '/apps/b_perso/hp/simplark/pretrainer/PersonalizedTopicsV2WithMetaOrganicPRecall/2022/04/17/data/part-00014-d1817ad2-7184-4086-a0f9-f6d3b9e32f4c.npy.gz',\n",
       " '/apps/b_perso/hp/simplark/pretrainer/PersonalizedTopicsV2WithMetaOrganicPRecall/2022/04/17/data/part-00015-d1817ad2-7184-4086-a0f9-f6d3b9e32f4c.npy.gz',\n",
       " '/apps/b_perso/hp/simplark/pretrainer/PersonalizedTopicsV2WithMetaOrganicPRecall/2022/04/17/data/part-00016-d1817ad2-7184-4086-a0f9-f6d3b9e32f4c.npy.gz',\n",
       " '/apps/b_perso/hp/simplark/pretrainer/PersonalizedTopicsV2WithMetaOrganicPRecall/2022/04/17/data/part-00017-d1817ad2-7184-4086-a0f9-f6d3b9e32f4c.npy.gz',\n",
       " '/apps/b_perso/hp/simplark/pretrainer/PersonalizedTopicsV2WithMetaOrganicPRecall/2022/04/17/data/part-00018-d1817ad2-7184-4086-a0f9-f6d3b9e32f4c.npy.gz',\n",
       " '/apps/b_perso/hp/simplark/pretrainer/PersonalizedTopicsV2WithMetaOrganicPRecall/2022/04/17/data/part-00019-d1817ad2-7184-4086-a0f9-f6d3b9e32f4c.npy.gz',\n",
       " '/apps/b_perso/hp/simplark/pretrainer/PersonalizedTopicsV2WithMetaOrganicPRecall/2022/04/17/data/part-00020-d1817ad2-7184-4086-a0f9-f6d3b9e32f4c.npy.gz',\n",
       " '/apps/b_perso/hp/simplark/pretrainer/PersonalizedTopicsV2WithMetaOrganicPRecall/2022/04/17/data/part-00021-d1817ad2-7184-4086-a0f9-f6d3b9e32f4c.npy.gz',\n",
       " '/apps/b_perso/hp/simplark/pretrainer/PersonalizedTopicsV2WithMetaOrganicPRecall/2022/04/17/data/part-00022-d1817ad2-7184-4086-a0f9-f6d3b9e32f4c.npy.gz',\n",
       " '/apps/b_perso/hp/simplark/pretrainer/PersonalizedTopicsV2WithMetaOrganicPRecall/2022/04/17/data/part-00023-d1817ad2-7184-4086-a0f9-f6d3b9e32f4c.npy.gz',\n",
       " '/apps/b_perso/hp/simplark/pretrainer/PersonalizedTopicsV2WithMetaOrganicPRecall/2022/04/17/data/part-00024-d1817ad2-7184-4086-a0f9-f6d3b9e32f4c.npy.gz',\n",
       " '/apps/b_perso/hp/simplark/pretrainer/PersonalizedTopicsV2WithMetaOrganicPRecall/2022/04/17/data/part-00025-d1817ad2-7184-4086-a0f9-f6d3b9e32f4c.npy.gz',\n",
       " '/apps/b_perso/hp/simplark/pretrainer/PersonalizedTopicsV2WithMetaOrganicPRecall/2022/04/17/data/part-00026-d1817ad2-7184-4086-a0f9-f6d3b9e32f4c.npy.gz',\n",
       " '/apps/b_perso/hp/simplark/pretrainer/PersonalizedTopicsV2WithMetaOrganicPRecall/2022/04/17/data/part-00027-d1817ad2-7184-4086-a0f9-f6d3b9e32f4c.npy.gz',\n",
       " '/apps/b_perso/hp/simplark/pretrainer/PersonalizedTopicsV2WithMetaOrganicPRecall/2022/04/17/data/part-00028-d1817ad2-7184-4086-a0f9-f6d3b9e32f4c.npy.gz',\n",
       " '/apps/b_perso/hp/simplark/pretrainer/PersonalizedTopicsV2WithMetaOrganicPRecall/2022/04/17/data/part-00029-d1817ad2-7184-4086-a0f9-f6d3b9e32f4c.npy.gz',\n",
       " '/apps/b_perso/hp/simplark/pretrainer/PersonalizedTopicsV2WithMetaOrganicPRecall/2022/04/17/data/part-00030-d1817ad2-7184-4086-a0f9-f6d3b9e32f4c.npy.gz',\n",
       " '/apps/b_perso/hp/simplark/pretrainer/PersonalizedTopicsV2WithMetaOrganicPRecall/2022/04/17/data/part-00031-d1817ad2-7184-4086-a0f9-f6d3b9e32f4c.npy.gz',\n",
       " '/apps/b_perso/hp/simplark/pretrainer/PersonalizedTopicsV2WithMetaOrganicPRecall/2022/04/17/data/part-00032-d1817ad2-7184-4086-a0f9-f6d3b9e32f4c.npy.gz',\n",
       " '/apps/b_perso/hp/simplark/pretrainer/PersonalizedTopicsV2WithMetaOrganicPRecall/2022/04/17/data/part-00033-d1817ad2-7184-4086-a0f9-f6d3b9e32f4c.npy.gz',\n",
       " '/apps/b_perso/hp/simplark/pretrainer/PersonalizedTopicsV2WithMetaOrganicPRecall/2022/04/17/data/part-00034-d1817ad2-7184-4086-a0f9-f6d3b9e32f4c.npy.gz',\n",
       " '/apps/b_perso/hp/simplark/pretrainer/PersonalizedTopicsV2WithMetaOrganicPRecall/2022/04/17/data/part-00035-d1817ad2-7184-4086-a0f9-f6d3b9e32f4c.npy.gz',\n",
       " '/apps/b_perso/hp/simplark/pretrainer/PersonalizedTopicsV2WithMetaOrganicPRecall/2022/04/17/data/part-00036-d1817ad2-7184-4086-a0f9-f6d3b9e32f4c.npy.gz',\n",
       " '/apps/b_perso/hp/simplark/pretrainer/PersonalizedTopicsV2WithMetaOrganicPRecall/2022/04/17/data/part-00037-d1817ad2-7184-4086-a0f9-f6d3b9e32f4c.npy.gz',\n",
       " '/apps/b_perso/hp/simplark/pretrainer/PersonalizedTopicsV2WithMetaOrganicPRecall/2022/04/17/data/part-00038-d1817ad2-7184-4086-a0f9-f6d3b9e32f4c.npy.gz',\n",
       " '/apps/b_perso/hp/simplark/pretrainer/PersonalizedTopicsV2WithMetaOrganicPRecall/2022/04/17/data/part-00039-d1817ad2-7184-4086-a0f9-f6d3b9e32f4c.npy.gz',\n",
       " '/apps/b_perso/hp/simplark/pretrainer/PersonalizedTopicsV2WithMetaOrganicPRecall/2022/04/17/data/part-00040-d1817ad2-7184-4086-a0f9-f6d3b9e32f4c.npy.gz',\n",
       " '/apps/b_perso/hp/simplark/pretrainer/PersonalizedTopicsV2WithMetaOrganicPRecall/2022/04/17/data/part-00041-d1817ad2-7184-4086-a0f9-f6d3b9e32f4c.npy.gz',\n",
       " '/apps/b_perso/hp/simplark/pretrainer/PersonalizedTopicsV2WithMetaOrganicPRecall/2022/04/17/data/part-00042-d1817ad2-7184-4086-a0f9-f6d3b9e32f4c.npy.gz',\n",
       " '/apps/b_perso/hp/simplark/pretrainer/PersonalizedTopicsV2WithMetaOrganicPRecall/2022/04/17/data/part-00043-d1817ad2-7184-4086-a0f9-f6d3b9e32f4c.npy.gz',\n",
       " '/apps/b_perso/hp/simplark/pretrainer/PersonalizedTopicsV2WithMetaOrganicPRecall/2022/04/17/data/part-00044-d1817ad2-7184-4086-a0f9-f6d3b9e32f4c.npy.gz',\n",
       " '/apps/b_perso/hp/simplark/pretrainer/PersonalizedTopicsV2WithMetaOrganicPRecall/2022/04/17/data/part-00045-d1817ad2-7184-4086-a0f9-f6d3b9e32f4c.npy.gz',\n",
       " '/apps/b_perso/hp/simplark/pretrainer/PersonalizedTopicsV2WithMetaOrganicPRecall/2022/04/17/data/part-00046-d1817ad2-7184-4086-a0f9-f6d3b9e32f4c.npy.gz',\n",
       " '/apps/b_perso/hp/simplark/pretrainer/PersonalizedTopicsV2WithMetaOrganicPRecall/2022/04/17/data/part-00047-d1817ad2-7184-4086-a0f9-f6d3b9e32f4c.npy.gz',\n",
       " '/apps/b_perso/hp/simplark/pretrainer/PersonalizedTopicsV2WithMetaOrganicPRecall/2022/04/17/data/part-00048-d1817ad2-7184-4086-a0f9-f6d3b9e32f4c.npy.gz',\n",
       " '/apps/b_perso/hp/simplark/pretrainer/PersonalizedTopicsV2WithMetaOrganicPRecall/2022/04/17/data/part-00049-d1817ad2-7184-4086-a0f9-f6d3b9e32f4c.npy.gz',\n",
       " '/apps/b_perso/hp/simplark/pretrainer/PersonalizedTopicsV2WithMetaOrganicPRecall/2022/04/18/data/part-00000-ec58459f-2757-4cf2-a480-87a39d036d3e.npy.gz',\n",
       " '/apps/b_perso/hp/simplark/pretrainer/PersonalizedTopicsV2WithMetaOrganicPRecall/2022/04/18/data/part-00001-ec58459f-2757-4cf2-a480-87a39d036d3e.npy.gz',\n",
       " '/apps/b_perso/hp/simplark/pretrainer/PersonalizedTopicsV2WithMetaOrganicPRecall/2022/04/18/data/part-00002-ec58459f-2757-4cf2-a480-87a39d036d3e.npy.gz',\n",
       " '/apps/b_perso/hp/simplark/pretrainer/PersonalizedTopicsV2WithMetaOrganicPRecall/2022/04/18/data/part-00003-ec58459f-2757-4cf2-a480-87a39d036d3e.npy.gz',\n",
       " '/apps/b_perso/hp/simplark/pretrainer/PersonalizedTopicsV2WithMetaOrganicPRecall/2022/04/18/data/part-00004-ec58459f-2757-4cf2-a480-87a39d036d3e.npy.gz',\n",
       " '/apps/b_perso/hp/simplark/pretrainer/PersonalizedTopicsV2WithMetaOrganicPRecall/2022/04/18/data/part-00005-ec58459f-2757-4cf2-a480-87a39d036d3e.npy.gz',\n",
       " '/apps/b_perso/hp/simplark/pretrainer/PersonalizedTopicsV2WithMetaOrganicPRecall/2022/04/18/data/part-00006-ec58459f-2757-4cf2-a480-87a39d036d3e.npy.gz',\n",
       " '/apps/b_perso/hp/simplark/pretrainer/PersonalizedTopicsV2WithMetaOrganicPRecall/2022/04/18/data/part-00007-ec58459f-2757-4cf2-a480-87a39d036d3e.npy.gz',\n",
       " '/apps/b_perso/hp/simplark/pretrainer/PersonalizedTopicsV2WithMetaOrganicPRecall/2022/04/18/data/part-00008-ec58459f-2757-4cf2-a480-87a39d036d3e.npy.gz',\n",
       " '/apps/b_perso/hp/simplark/pretrainer/PersonalizedTopicsV2WithMetaOrganicPRecall/2022/04/18/data/part-00009-ec58459f-2757-4cf2-a480-87a39d036d3e.npy.gz',\n",
       " '/apps/b_perso/hp/simplark/pretrainer/PersonalizedTopicsV2WithMetaOrganicPRecall/2022/04/18/data/part-00010-ec58459f-2757-4cf2-a480-87a39d036d3e.npy.gz',\n",
       " '/apps/b_perso/hp/simplark/pretrainer/PersonalizedTopicsV2WithMetaOrganicPRecall/2022/04/18/data/part-00011-ec58459f-2757-4cf2-a480-87a39d036d3e.npy.gz',\n",
       " '/apps/b_perso/hp/simplark/pretrainer/PersonalizedTopicsV2WithMetaOrganicPRecall/2022/04/18/data/part-00012-ec58459f-2757-4cf2-a480-87a39d036d3e.npy.gz',\n",
       " '/apps/b_perso/hp/simplark/pretrainer/PersonalizedTopicsV2WithMetaOrganicPRecall/2022/04/18/data/part-00013-ec58459f-2757-4cf2-a480-87a39d036d3e.npy.gz',\n",
       " '/apps/b_perso/hp/simplark/pretrainer/PersonalizedTopicsV2WithMetaOrganicPRecall/2022/04/18/data/part-00014-ec58459f-2757-4cf2-a480-87a39d036d3e.npy.gz',\n",
       " '/apps/b_perso/hp/simplark/pretrainer/PersonalizedTopicsV2WithMetaOrganicPRecall/2022/04/18/data/part-00015-ec58459f-2757-4cf2-a480-87a39d036d3e.npy.gz',\n",
       " '/apps/b_perso/hp/simplark/pretrainer/PersonalizedTopicsV2WithMetaOrganicPRecall/2022/04/18/data/part-00016-ec58459f-2757-4cf2-a480-87a39d036d3e.npy.gz',\n",
       " '/apps/b_perso/hp/simplark/pretrainer/PersonalizedTopicsV2WithMetaOrganicPRecall/2022/04/18/data/part-00017-ec58459f-2757-4cf2-a480-87a39d036d3e.npy.gz',\n",
       " '/apps/b_perso/hp/simplark/pretrainer/PersonalizedTopicsV2WithMetaOrganicPRecall/2022/04/18/data/part-00018-ec58459f-2757-4cf2-a480-87a39d036d3e.npy.gz',\n",
       " '/apps/b_perso/hp/simplark/pretrainer/PersonalizedTopicsV2WithMetaOrganicPRecall/2022/04/18/data/part-00019-ec58459f-2757-4cf2-a480-87a39d036d3e.npy.gz',\n",
       " '/apps/b_perso/hp/simplark/pretrainer/PersonalizedTopicsV2WithMetaOrganicPRecall/2022/04/18/data/part-00020-ec58459f-2757-4cf2-a480-87a39d036d3e.npy.gz',\n",
       " '/apps/b_perso/hp/simplark/pretrainer/PersonalizedTopicsV2WithMetaOrganicPRecall/2022/04/18/data/part-00021-ec58459f-2757-4cf2-a480-87a39d036d3e.npy.gz',\n",
       " '/apps/b_perso/hp/simplark/pretrainer/PersonalizedTopicsV2WithMetaOrganicPRecall/2022/04/18/data/part-00022-ec58459f-2757-4cf2-a480-87a39d036d3e.npy.gz',\n",
       " '/apps/b_perso/hp/simplark/pretrainer/PersonalizedTopicsV2WithMetaOrganicPRecall/2022/04/18/data/part-00023-ec58459f-2757-4cf2-a480-87a39d036d3e.npy.gz',\n",
       " '/apps/b_perso/hp/simplark/pretrainer/PersonalizedTopicsV2WithMetaOrganicPRecall/2022/04/18/data/part-00024-ec58459f-2757-4cf2-a480-87a39d036d3e.npy.gz',\n",
       " '/apps/b_perso/hp/simplark/pretrainer/PersonalizedTopicsV2WithMetaOrganicPRecall/2022/04/18/data/part-00025-ec58459f-2757-4cf2-a480-87a39d036d3e.npy.gz',\n",
       " '/apps/b_perso/hp/simplark/pretrainer/PersonalizedTopicsV2WithMetaOrganicPRecall/2022/04/18/data/part-00026-ec58459f-2757-4cf2-a480-87a39d036d3e.npy.gz',\n",
       " '/apps/b_perso/hp/simplark/pretrainer/PersonalizedTopicsV2WithMetaOrganicPRecall/2022/04/18/data/part-00027-ec58459f-2757-4cf2-a480-87a39d036d3e.npy.gz',\n",
       " '/apps/b_perso/hp/simplark/pretrainer/PersonalizedTopicsV2WithMetaOrganicPRecall/2022/04/18/data/part-00028-ec58459f-2757-4cf2-a480-87a39d036d3e.npy.gz',\n",
       " '/apps/b_perso/hp/simplark/pretrainer/PersonalizedTopicsV2WithMetaOrganicPRecall/2022/04/18/data/part-00029-ec58459f-2757-4cf2-a480-87a39d036d3e.npy.gz',\n",
       " '/apps/b_perso/hp/simplark/pretrainer/PersonalizedTopicsV2WithMetaOrganicPRecall/2022/04/18/data/part-00030-ec58459f-2757-4cf2-a480-87a39d036d3e.npy.gz',\n",
       " '/apps/b_perso/hp/simplark/pretrainer/PersonalizedTopicsV2WithMetaOrganicPRecall/2022/04/18/data/part-00031-ec58459f-2757-4cf2-a480-87a39d036d3e.npy.gz',\n",
       " '/apps/b_perso/hp/simplark/pretrainer/PersonalizedTopicsV2WithMetaOrganicPRecall/2022/04/18/data/part-00032-ec58459f-2757-4cf2-a480-87a39d036d3e.npy.gz',\n",
       " '/apps/b_perso/hp/simplark/pretrainer/PersonalizedTopicsV2WithMetaOrganicPRecall/2022/04/18/data/part-00033-ec58459f-2757-4cf2-a480-87a39d036d3e.npy.gz',\n",
       " '/apps/b_perso/hp/simplark/pretrainer/PersonalizedTopicsV2WithMetaOrganicPRecall/2022/04/18/data/part-00034-ec58459f-2757-4cf2-a480-87a39d036d3e.npy.gz',\n",
       " '/apps/b_perso/hp/simplark/pretrainer/PersonalizedTopicsV2WithMetaOrganicPRecall/2022/04/18/data/part-00035-ec58459f-2757-4cf2-a480-87a39d036d3e.npy.gz',\n",
       " '/apps/b_perso/hp/simplark/pretrainer/PersonalizedTopicsV2WithMetaOrganicPRecall/2022/04/18/data/part-00036-ec58459f-2757-4cf2-a480-87a39d036d3e.npy.gz',\n",
       " '/apps/b_perso/hp/simplark/pretrainer/PersonalizedTopicsV2WithMetaOrganicPRecall/2022/04/18/data/part-00037-ec58459f-2757-4cf2-a480-87a39d036d3e.npy.gz',\n",
       " '/apps/b_perso/hp/simplark/pretrainer/PersonalizedTopicsV2WithMetaOrganicPRecall/2022/04/18/data/part-00038-ec58459f-2757-4cf2-a480-87a39d036d3e.npy.gz',\n",
       " '/apps/b_perso/hp/simplark/pretrainer/PersonalizedTopicsV2WithMetaOrganicPRecall/2022/04/18/data/part-00039-ec58459f-2757-4cf2-a480-87a39d036d3e.npy.gz',\n",
       " '/apps/b_perso/hp/simplark/pretrainer/PersonalizedTopicsV2WithMetaOrganicPRecall/2022/04/18/data/part-00040-ec58459f-2757-4cf2-a480-87a39d036d3e.npy.gz',\n",
       " '/apps/b_perso/hp/simplark/pretrainer/PersonalizedTopicsV2WithMetaOrganicPRecall/2022/04/18/data/part-00041-ec58459f-2757-4cf2-a480-87a39d036d3e.npy.gz',\n",
       " '/apps/b_perso/hp/simplark/pretrainer/PersonalizedTopicsV2WithMetaOrganicPRecall/2022/04/18/data/part-00042-ec58459f-2757-4cf2-a480-87a39d036d3e.npy.gz',\n",
       " '/apps/b_perso/hp/simplark/pretrainer/PersonalizedTopicsV2WithMetaOrganicPRecall/2022/04/18/data/part-00043-ec58459f-2757-4cf2-a480-87a39d036d3e.npy.gz',\n",
       " '/apps/b_perso/hp/simplark/pretrainer/PersonalizedTopicsV2WithMetaOrganicPRecall/2022/04/18/data/part-00044-ec58459f-2757-4cf2-a480-87a39d036d3e.npy.gz',\n",
       " '/apps/b_perso/hp/simplark/pretrainer/PersonalizedTopicsV2WithMetaOrganicPRecall/2022/04/18/data/part-00045-ec58459f-2757-4cf2-a480-87a39d036d3e.npy.gz',\n",
       " '/apps/b_perso/hp/simplark/pretrainer/PersonalizedTopicsV2WithMetaOrganicPRecall/2022/04/18/data/part-00046-ec58459f-2757-4cf2-a480-87a39d036d3e.npy.gz',\n",
       " '/apps/b_perso/hp/simplark/pretrainer/PersonalizedTopicsV2WithMetaOrganicPRecall/2022/04/18/data/part-00047-ec58459f-2757-4cf2-a480-87a39d036d3e.npy.gz',\n",
       " '/apps/b_perso/hp/simplark/pretrainer/PersonalizedTopicsV2WithMetaOrganicPRecall/2022/04/18/data/part-00048-ec58459f-2757-4cf2-a480-87a39d036d3e.npy.gz',\n",
       " '/apps/b_perso/hp/simplark/pretrainer/PersonalizedTopicsV2WithMetaOrganicPRecall/2022/04/18/data/part-00049-ec58459f-2757-4cf2-a480-87a39d036d3e.npy.gz',\n",
       " '/apps/b_perso/hp/simplark/pretrainer/PersonalizedTopicsV2WithMetaOrganicPRecall/2022/04/19/data/part-00000-ad4590fc-732e-4672-8729-1f62242ff3a0.npy.gz',\n",
       " '/apps/b_perso/hp/simplark/pretrainer/PersonalizedTopicsV2WithMetaOrganicPRecall/2022/04/19/data/part-00001-ad4590fc-732e-4672-8729-1f62242ff3a0.npy.gz',\n",
       " '/apps/b_perso/hp/simplark/pretrainer/PersonalizedTopicsV2WithMetaOrganicPRecall/2022/04/19/data/part-00002-ad4590fc-732e-4672-8729-1f62242ff3a0.npy.gz',\n",
       " '/apps/b_perso/hp/simplark/pretrainer/PersonalizedTopicsV2WithMetaOrganicPRecall/2022/04/19/data/part-00003-ad4590fc-732e-4672-8729-1f62242ff3a0.npy.gz',\n",
       " '/apps/b_perso/hp/simplark/pretrainer/PersonalizedTopicsV2WithMetaOrganicPRecall/2022/04/19/data/part-00004-ad4590fc-732e-4672-8729-1f62242ff3a0.npy.gz',\n",
       " '/apps/b_perso/hp/simplark/pretrainer/PersonalizedTopicsV2WithMetaOrganicPRecall/2022/04/19/data/part-00005-ad4590fc-732e-4672-8729-1f62242ff3a0.npy.gz',\n",
       " '/apps/b_perso/hp/simplark/pretrainer/PersonalizedTopicsV2WithMetaOrganicPRecall/2022/04/19/data/part-00006-ad4590fc-732e-4672-8729-1f62242ff3a0.npy.gz',\n",
       " '/apps/b_perso/hp/simplark/pretrainer/PersonalizedTopicsV2WithMetaOrganicPRecall/2022/04/19/data/part-00007-ad4590fc-732e-4672-8729-1f62242ff3a0.npy.gz',\n",
       " '/apps/b_perso/hp/simplark/pretrainer/PersonalizedTopicsV2WithMetaOrganicPRecall/2022/04/19/data/part-00008-ad4590fc-732e-4672-8729-1f62242ff3a0.npy.gz',\n",
       " '/apps/b_perso/hp/simplark/pretrainer/PersonalizedTopicsV2WithMetaOrganicPRecall/2022/04/19/data/part-00009-ad4590fc-732e-4672-8729-1f62242ff3a0.npy.gz',\n",
       " '/apps/b_perso/hp/simplark/pretrainer/PersonalizedTopicsV2WithMetaOrganicPRecall/2022/04/19/data/part-00010-ad4590fc-732e-4672-8729-1f62242ff3a0.npy.gz',\n",
       " '/apps/b_perso/hp/simplark/pretrainer/PersonalizedTopicsV2WithMetaOrganicPRecall/2022/04/19/data/part-00011-ad4590fc-732e-4672-8729-1f62242ff3a0.npy.gz',\n",
       " '/apps/b_perso/hp/simplark/pretrainer/PersonalizedTopicsV2WithMetaOrganicPRecall/2022/04/19/data/part-00012-ad4590fc-732e-4672-8729-1f62242ff3a0.npy.gz',\n",
       " '/apps/b_perso/hp/simplark/pretrainer/PersonalizedTopicsV2WithMetaOrganicPRecall/2022/04/19/data/part-00013-ad4590fc-732e-4672-8729-1f62242ff3a0.npy.gz',\n",
       " '/apps/b_perso/hp/simplark/pretrainer/PersonalizedTopicsV2WithMetaOrganicPRecall/2022/04/19/data/part-00014-ad4590fc-732e-4672-8729-1f62242ff3a0.npy.gz',\n",
       " '/apps/b_perso/hp/simplark/pretrainer/PersonalizedTopicsV2WithMetaOrganicPRecall/2022/04/19/data/part-00015-ad4590fc-732e-4672-8729-1f62242ff3a0.npy.gz',\n",
       " '/apps/b_perso/hp/simplark/pretrainer/PersonalizedTopicsV2WithMetaOrganicPRecall/2022/04/19/data/part-00016-ad4590fc-732e-4672-8729-1f62242ff3a0.npy.gz',\n",
       " '/apps/b_perso/hp/simplark/pretrainer/PersonalizedTopicsV2WithMetaOrganicPRecall/2022/04/19/data/part-00017-ad4590fc-732e-4672-8729-1f62242ff3a0.npy.gz',\n",
       " '/apps/b_perso/hp/simplark/pretrainer/PersonalizedTopicsV2WithMetaOrganicPRecall/2022/04/19/data/part-00018-ad4590fc-732e-4672-8729-1f62242ff3a0.npy.gz',\n",
       " '/apps/b_perso/hp/simplark/pretrainer/PersonalizedTopicsV2WithMetaOrganicPRecall/2022/04/19/data/part-00019-ad4590fc-732e-4672-8729-1f62242ff3a0.npy.gz',\n",
       " '/apps/b_perso/hp/simplark/pretrainer/PersonalizedTopicsV2WithMetaOrganicPRecall/2022/04/19/data/part-00020-ad4590fc-732e-4672-8729-1f62242ff3a0.npy.gz',\n",
       " '/apps/b_perso/hp/simplark/pretrainer/PersonalizedTopicsV2WithMetaOrganicPRecall/2022/04/19/data/part-00021-ad4590fc-732e-4672-8729-1f62242ff3a0.npy.gz',\n",
       " '/apps/b_perso/hp/simplark/pretrainer/PersonalizedTopicsV2WithMetaOrganicPRecall/2022/04/19/data/part-00022-ad4590fc-732e-4672-8729-1f62242ff3a0.npy.gz',\n",
       " '/apps/b_perso/hp/simplark/pretrainer/PersonalizedTopicsV2WithMetaOrganicPRecall/2022/04/19/data/part-00023-ad4590fc-732e-4672-8729-1f62242ff3a0.npy.gz',\n",
       " '/apps/b_perso/hp/simplark/pretrainer/PersonalizedTopicsV2WithMetaOrganicPRecall/2022/04/19/data/part-00024-ad4590fc-732e-4672-8729-1f62242ff3a0.npy.gz',\n",
       " '/apps/b_perso/hp/simplark/pretrainer/PersonalizedTopicsV2WithMetaOrganicPRecall/2022/04/19/data/part-00025-ad4590fc-732e-4672-8729-1f62242ff3a0.npy.gz',\n",
       " '/apps/b_perso/hp/simplark/pretrainer/PersonalizedTopicsV2WithMetaOrganicPRecall/2022/04/19/data/part-00026-ad4590fc-732e-4672-8729-1f62242ff3a0.npy.gz',\n",
       " '/apps/b_perso/hp/simplark/pretrainer/PersonalizedTopicsV2WithMetaOrganicPRecall/2022/04/19/data/part-00027-ad4590fc-732e-4672-8729-1f62242ff3a0.npy.gz',\n",
       " '/apps/b_perso/hp/simplark/pretrainer/PersonalizedTopicsV2WithMetaOrganicPRecall/2022/04/19/data/part-00028-ad4590fc-732e-4672-8729-1f62242ff3a0.npy.gz',\n",
       " '/apps/b_perso/hp/simplark/pretrainer/PersonalizedTopicsV2WithMetaOrganicPRecall/2022/04/19/data/part-00029-ad4590fc-732e-4672-8729-1f62242ff3a0.npy.gz',\n",
       " '/apps/b_perso/hp/simplark/pretrainer/PersonalizedTopicsV2WithMetaOrganicPRecall/2022/04/19/data/part-00030-ad4590fc-732e-4672-8729-1f62242ff3a0.npy.gz',\n",
       " '/apps/b_perso/hp/simplark/pretrainer/PersonalizedTopicsV2WithMetaOrganicPRecall/2022/04/19/data/part-00031-ad4590fc-732e-4672-8729-1f62242ff3a0.npy.gz',\n",
       " '/apps/b_perso/hp/simplark/pretrainer/PersonalizedTopicsV2WithMetaOrganicPRecall/2022/04/19/data/part-00032-ad4590fc-732e-4672-8729-1f62242ff3a0.npy.gz',\n",
       " '/apps/b_perso/hp/simplark/pretrainer/PersonalizedTopicsV2WithMetaOrganicPRecall/2022/04/19/data/part-00033-ad4590fc-732e-4672-8729-1f62242ff3a0.npy.gz',\n",
       " '/apps/b_perso/hp/simplark/pretrainer/PersonalizedTopicsV2WithMetaOrganicPRecall/2022/04/19/data/part-00034-ad4590fc-732e-4672-8729-1f62242ff3a0.npy.gz',\n",
       " '/apps/b_perso/hp/simplark/pretrainer/PersonalizedTopicsV2WithMetaOrganicPRecall/2022/04/19/data/part-00035-ad4590fc-732e-4672-8729-1f62242ff3a0.npy.gz',\n",
       " '/apps/b_perso/hp/simplark/pretrainer/PersonalizedTopicsV2WithMetaOrganicPRecall/2022/04/19/data/part-00036-ad4590fc-732e-4672-8729-1f62242ff3a0.npy.gz',\n",
       " '/apps/b_perso/hp/simplark/pretrainer/PersonalizedTopicsV2WithMetaOrganicPRecall/2022/04/19/data/part-00037-ad4590fc-732e-4672-8729-1f62242ff3a0.npy.gz',\n",
       " '/apps/b_perso/hp/simplark/pretrainer/PersonalizedTopicsV2WithMetaOrganicPRecall/2022/04/19/data/part-00038-ad4590fc-732e-4672-8729-1f62242ff3a0.npy.gz',\n",
       " '/apps/b_perso/hp/simplark/pretrainer/PersonalizedTopicsV2WithMetaOrganicPRecall/2022/04/19/data/part-00039-ad4590fc-732e-4672-8729-1f62242ff3a0.npy.gz',\n",
       " '/apps/b_perso/hp/simplark/pretrainer/PersonalizedTopicsV2WithMetaOrganicPRecall/2022/04/19/data/part-00040-ad4590fc-732e-4672-8729-1f62242ff3a0.npy.gz',\n",
       " '/apps/b_perso/hp/simplark/pretrainer/PersonalizedTopicsV2WithMetaOrganicPRecall/2022/04/19/data/part-00041-ad4590fc-732e-4672-8729-1f62242ff3a0.npy.gz',\n",
       " '/apps/b_perso/hp/simplark/pretrainer/PersonalizedTopicsV2WithMetaOrganicPRecall/2022/04/19/data/part-00042-ad4590fc-732e-4672-8729-1f62242ff3a0.npy.gz',\n",
       " '/apps/b_perso/hp/simplark/pretrainer/PersonalizedTopicsV2WithMetaOrganicPRecall/2022/04/19/data/part-00043-ad4590fc-732e-4672-8729-1f62242ff3a0.npy.gz',\n",
       " '/apps/b_perso/hp/simplark/pretrainer/PersonalizedTopicsV2WithMetaOrganicPRecall/2022/04/19/data/part-00044-ad4590fc-732e-4672-8729-1f62242ff3a0.npy.gz',\n",
       " '/apps/b_perso/hp/simplark/pretrainer/PersonalizedTopicsV2WithMetaOrganicPRecall/2022/04/19/data/part-00045-ad4590fc-732e-4672-8729-1f62242ff3a0.npy.gz',\n",
       " '/apps/b_perso/hp/simplark/pretrainer/PersonalizedTopicsV2WithMetaOrganicPRecall/2022/04/19/data/part-00046-ad4590fc-732e-4672-8729-1f62242ff3a0.npy.gz',\n",
       " '/apps/b_perso/hp/simplark/pretrainer/PersonalizedTopicsV2WithMetaOrganicPRecall/2022/04/19/data/part-00047-ad4590fc-732e-4672-8729-1f62242ff3a0.npy.gz',\n",
       " '/apps/b_perso/hp/simplark/pretrainer/PersonalizedTopicsV2WithMetaOrganicPRecall/2022/04/19/data/part-00048-ad4590fc-732e-4672-8729-1f62242ff3a0.npy.gz',\n",
       " '/apps/b_perso/hp/simplark/pretrainer/PersonalizedTopicsV2WithMetaOrganicPRecall/2022/04/19/data/part-00049-ad4590fc-732e-4672-8729-1f62242ff3a0.npy.gz',\n",
       " '/apps/b_perso/hp/simplark/pretrainer/PersonalizedTopicsV2WithMetaOrganicPRecall/2022/04/20/data/part-00000-5e0b4afc-e6eb-4efe-8ed5-aeaf411ec65c.npy.gz',\n",
       " '/apps/b_perso/hp/simplark/pretrainer/PersonalizedTopicsV2WithMetaOrganicPRecall/2022/04/20/data/part-00001-5e0b4afc-e6eb-4efe-8ed5-aeaf411ec65c.npy.gz',\n",
       " '/apps/b_perso/hp/simplark/pretrainer/PersonalizedTopicsV2WithMetaOrganicPRecall/2022/04/20/data/part-00002-5e0b4afc-e6eb-4efe-8ed5-aeaf411ec65c.npy.gz',\n",
       " '/apps/b_perso/hp/simplark/pretrainer/PersonalizedTopicsV2WithMetaOrganicPRecall/2022/04/20/data/part-00003-5e0b4afc-e6eb-4efe-8ed5-aeaf411ec65c.npy.gz',\n",
       " '/apps/b_perso/hp/simplark/pretrainer/PersonalizedTopicsV2WithMetaOrganicPRecall/2022/04/20/data/part-00004-5e0b4afc-e6eb-4efe-8ed5-aeaf411ec65c.npy.gz',\n",
       " '/apps/b_perso/hp/simplark/pretrainer/PersonalizedTopicsV2WithMetaOrganicPRecall/2022/04/20/data/part-00005-5e0b4afc-e6eb-4efe-8ed5-aeaf411ec65c.npy.gz',\n",
       " '/apps/b_perso/hp/simplark/pretrainer/PersonalizedTopicsV2WithMetaOrganicPRecall/2022/04/20/data/part-00006-5e0b4afc-e6eb-4efe-8ed5-aeaf411ec65c.npy.gz',\n",
       " '/apps/b_perso/hp/simplark/pretrainer/PersonalizedTopicsV2WithMetaOrganicPRecall/2022/04/20/data/part-00007-5e0b4afc-e6eb-4efe-8ed5-aeaf411ec65c.npy.gz',\n",
       " '/apps/b_perso/hp/simplark/pretrainer/PersonalizedTopicsV2WithMetaOrganicPRecall/2022/04/20/data/part-00008-5e0b4afc-e6eb-4efe-8ed5-aeaf411ec65c.npy.gz',\n",
       " '/apps/b_perso/hp/simplark/pretrainer/PersonalizedTopicsV2WithMetaOrganicPRecall/2022/04/20/data/part-00009-5e0b4afc-e6eb-4efe-8ed5-aeaf411ec65c.npy.gz',\n",
       " '/apps/b_perso/hp/simplark/pretrainer/PersonalizedTopicsV2WithMetaOrganicPRecall/2022/04/20/data/part-00010-5e0b4afc-e6eb-4efe-8ed5-aeaf411ec65c.npy.gz',\n",
       " '/apps/b_perso/hp/simplark/pretrainer/PersonalizedTopicsV2WithMetaOrganicPRecall/2022/04/20/data/part-00011-5e0b4afc-e6eb-4efe-8ed5-aeaf411ec65c.npy.gz',\n",
       " '/apps/b_perso/hp/simplark/pretrainer/PersonalizedTopicsV2WithMetaOrganicPRecall/2022/04/20/data/part-00012-5e0b4afc-e6eb-4efe-8ed5-aeaf411ec65c.npy.gz',\n",
       " '/apps/b_perso/hp/simplark/pretrainer/PersonalizedTopicsV2WithMetaOrganicPRecall/2022/04/20/data/part-00013-5e0b4afc-e6eb-4efe-8ed5-aeaf411ec65c.npy.gz',\n",
       " '/apps/b_perso/hp/simplark/pretrainer/PersonalizedTopicsV2WithMetaOrganicPRecall/2022/04/20/data/part-00014-5e0b4afc-e6eb-4efe-8ed5-aeaf411ec65c.npy.gz',\n",
       " '/apps/b_perso/hp/simplark/pretrainer/PersonalizedTopicsV2WithMetaOrganicPRecall/2022/04/20/data/part-00015-5e0b4afc-e6eb-4efe-8ed5-aeaf411ec65c.npy.gz',\n",
       " '/apps/b_perso/hp/simplark/pretrainer/PersonalizedTopicsV2WithMetaOrganicPRecall/2022/04/20/data/part-00016-5e0b4afc-e6eb-4efe-8ed5-aeaf411ec65c.npy.gz',\n",
       " '/apps/b_perso/hp/simplark/pretrainer/PersonalizedTopicsV2WithMetaOrganicPRecall/2022/04/20/data/part-00017-5e0b4afc-e6eb-4efe-8ed5-aeaf411ec65c.npy.gz',\n",
       " '/apps/b_perso/hp/simplark/pretrainer/PersonalizedTopicsV2WithMetaOrganicPRecall/2022/04/20/data/part-00018-5e0b4afc-e6eb-4efe-8ed5-aeaf411ec65c.npy.gz',\n",
       " '/apps/b_perso/hp/simplark/pretrainer/PersonalizedTopicsV2WithMetaOrganicPRecall/2022/04/20/data/part-00019-5e0b4afc-e6eb-4efe-8ed5-aeaf411ec65c.npy.gz',\n",
       " '/apps/b_perso/hp/simplark/pretrainer/PersonalizedTopicsV2WithMetaOrganicPRecall/2022/04/20/data/part-00020-5e0b4afc-e6eb-4efe-8ed5-aeaf411ec65c.npy.gz',\n",
       " '/apps/b_perso/hp/simplark/pretrainer/PersonalizedTopicsV2WithMetaOrganicPRecall/2022/04/20/data/part-00021-5e0b4afc-e6eb-4efe-8ed5-aeaf411ec65c.npy.gz',\n",
       " '/apps/b_perso/hp/simplark/pretrainer/PersonalizedTopicsV2WithMetaOrganicPRecall/2022/04/20/data/part-00022-5e0b4afc-e6eb-4efe-8ed5-aeaf411ec65c.npy.gz',\n",
       " '/apps/b_perso/hp/simplark/pretrainer/PersonalizedTopicsV2WithMetaOrganicPRecall/2022/04/20/data/part-00023-5e0b4afc-e6eb-4efe-8ed5-aeaf411ec65c.npy.gz',\n",
       " '/apps/b_perso/hp/simplark/pretrainer/PersonalizedTopicsV2WithMetaOrganicPRecall/2022/04/20/data/part-00024-5e0b4afc-e6eb-4efe-8ed5-aeaf411ec65c.npy.gz',\n",
       " '/apps/b_perso/hp/simplark/pretrainer/PersonalizedTopicsV2WithMetaOrganicPRecall/2022/04/20/data/part-00025-5e0b4afc-e6eb-4efe-8ed5-aeaf411ec65c.npy.gz',\n",
       " '/apps/b_perso/hp/simplark/pretrainer/PersonalizedTopicsV2WithMetaOrganicPRecall/2022/04/20/data/part-00026-5e0b4afc-e6eb-4efe-8ed5-aeaf411ec65c.npy.gz',\n",
       " '/apps/b_perso/hp/simplark/pretrainer/PersonalizedTopicsV2WithMetaOrganicPRecall/2022/04/20/data/part-00027-5e0b4afc-e6eb-4efe-8ed5-aeaf411ec65c.npy.gz',\n",
       " '/apps/b_perso/hp/simplark/pretrainer/PersonalizedTopicsV2WithMetaOrganicPRecall/2022/04/20/data/part-00028-5e0b4afc-e6eb-4efe-8ed5-aeaf411ec65c.npy.gz',\n",
       " '/apps/b_perso/hp/simplark/pretrainer/PersonalizedTopicsV2WithMetaOrganicPRecall/2022/04/20/data/part-00029-5e0b4afc-e6eb-4efe-8ed5-aeaf411ec65c.npy.gz',\n",
       " '/apps/b_perso/hp/simplark/pretrainer/PersonalizedTopicsV2WithMetaOrganicPRecall/2022/04/20/data/part-00030-5e0b4afc-e6eb-4efe-8ed5-aeaf411ec65c.npy.gz',\n",
       " '/apps/b_perso/hp/simplark/pretrainer/PersonalizedTopicsV2WithMetaOrganicPRecall/2022/04/20/data/part-00031-5e0b4afc-e6eb-4efe-8ed5-aeaf411ec65c.npy.gz',\n",
       " '/apps/b_perso/hp/simplark/pretrainer/PersonalizedTopicsV2WithMetaOrganicPRecall/2022/04/20/data/part-00032-5e0b4afc-e6eb-4efe-8ed5-aeaf411ec65c.npy.gz',\n",
       " '/apps/b_perso/hp/simplark/pretrainer/PersonalizedTopicsV2WithMetaOrganicPRecall/2022/04/20/data/part-00033-5e0b4afc-e6eb-4efe-8ed5-aeaf411ec65c.npy.gz',\n",
       " '/apps/b_perso/hp/simplark/pretrainer/PersonalizedTopicsV2WithMetaOrganicPRecall/2022/04/20/data/part-00034-5e0b4afc-e6eb-4efe-8ed5-aeaf411ec65c.npy.gz',\n",
       " '/apps/b_perso/hp/simplark/pretrainer/PersonalizedTopicsV2WithMetaOrganicPRecall/2022/04/20/data/part-00035-5e0b4afc-e6eb-4efe-8ed5-aeaf411ec65c.npy.gz',\n",
       " '/apps/b_perso/hp/simplark/pretrainer/PersonalizedTopicsV2WithMetaOrganicPRecall/2022/04/20/data/part-00036-5e0b4afc-e6eb-4efe-8ed5-aeaf411ec65c.npy.gz',\n",
       " '/apps/b_perso/hp/simplark/pretrainer/PersonalizedTopicsV2WithMetaOrganicPRecall/2022/04/20/data/part-00037-5e0b4afc-e6eb-4efe-8ed5-aeaf411ec65c.npy.gz',\n",
       " '/apps/b_perso/hp/simplark/pretrainer/PersonalizedTopicsV2WithMetaOrganicPRecall/2022/04/20/data/part-00038-5e0b4afc-e6eb-4efe-8ed5-aeaf411ec65c.npy.gz',\n",
       " '/apps/b_perso/hp/simplark/pretrainer/PersonalizedTopicsV2WithMetaOrganicPRecall/2022/04/20/data/part-00039-5e0b4afc-e6eb-4efe-8ed5-aeaf411ec65c.npy.gz',\n",
       " '/apps/b_perso/hp/simplark/pretrainer/PersonalizedTopicsV2WithMetaOrganicPRecall/2022/04/20/data/part-00040-5e0b4afc-e6eb-4efe-8ed5-aeaf411ec65c.npy.gz',\n",
       " '/apps/b_perso/hp/simplark/pretrainer/PersonalizedTopicsV2WithMetaOrganicPRecall/2022/04/20/data/part-00041-5e0b4afc-e6eb-4efe-8ed5-aeaf411ec65c.npy.gz',\n",
       " '/apps/b_perso/hp/simplark/pretrainer/PersonalizedTopicsV2WithMetaOrganicPRecall/2022/04/20/data/part-00042-5e0b4afc-e6eb-4efe-8ed5-aeaf411ec65c.npy.gz',\n",
       " '/apps/b_perso/hp/simplark/pretrainer/PersonalizedTopicsV2WithMetaOrganicPRecall/2022/04/20/data/part-00043-5e0b4afc-e6eb-4efe-8ed5-aeaf411ec65c.npy.gz',\n",
       " '/apps/b_perso/hp/simplark/pretrainer/PersonalizedTopicsV2WithMetaOrganicPRecall/2022/04/20/data/part-00044-5e0b4afc-e6eb-4efe-8ed5-aeaf411ec65c.npy.gz',\n",
       " '/apps/b_perso/hp/simplark/pretrainer/PersonalizedTopicsV2WithMetaOrganicPRecall/2022/04/20/data/part-00045-5e0b4afc-e6eb-4efe-8ed5-aeaf411ec65c.npy.gz',\n",
       " '/apps/b_perso/hp/simplark/pretrainer/PersonalizedTopicsV2WithMetaOrganicPRecall/2022/04/20/data/part-00046-5e0b4afc-e6eb-4efe-8ed5-aeaf411ec65c.npy.gz',\n",
       " '/apps/b_perso/hp/simplark/pretrainer/PersonalizedTopicsV2WithMetaOrganicPRecall/2022/04/20/data/part-00047-5e0b4afc-e6eb-4efe-8ed5-aeaf411ec65c.npy.gz',\n",
       " '/apps/b_perso/hp/simplark/pretrainer/PersonalizedTopicsV2WithMetaOrganicPRecall/2022/04/20/data/part-00048-5e0b4afc-e6eb-4efe-8ed5-aeaf411ec65c.npy.gz',\n",
       " '/apps/b_perso/hp/simplark/pretrainer/PersonalizedTopicsV2WithMetaOrganicPRecall/2022/04/20/data/part-00049-5e0b4afc-e6eb-4efe-8ed5-aeaf411ec65c.npy.gz',\n",
       " '/apps/b_perso/hp/simplark/pretrainer/PersonalizedTopicsV2WithMetaOrganicPRecall/2022/04/21/data/part-00000-419f23b3-de50-486d-a6c1-e069e12688fc.npy.gz',\n",
       " '/apps/b_perso/hp/simplark/pretrainer/PersonalizedTopicsV2WithMetaOrganicPRecall/2022/04/21/data/part-00001-419f23b3-de50-486d-a6c1-e069e12688fc.npy.gz',\n",
       " '/apps/b_perso/hp/simplark/pretrainer/PersonalizedTopicsV2WithMetaOrganicPRecall/2022/04/21/data/part-00002-419f23b3-de50-486d-a6c1-e069e12688fc.npy.gz',\n",
       " '/apps/b_perso/hp/simplark/pretrainer/PersonalizedTopicsV2WithMetaOrganicPRecall/2022/04/21/data/part-00003-419f23b3-de50-486d-a6c1-e069e12688fc.npy.gz',\n",
       " '/apps/b_perso/hp/simplark/pretrainer/PersonalizedTopicsV2WithMetaOrganicPRecall/2022/04/21/data/part-00004-419f23b3-de50-486d-a6c1-e069e12688fc.npy.gz',\n",
       " '/apps/b_perso/hp/simplark/pretrainer/PersonalizedTopicsV2WithMetaOrganicPRecall/2022/04/21/data/part-00005-419f23b3-de50-486d-a6c1-e069e12688fc.npy.gz',\n",
       " '/apps/b_perso/hp/simplark/pretrainer/PersonalizedTopicsV2WithMetaOrganicPRecall/2022/04/21/data/part-00006-419f23b3-de50-486d-a6c1-e069e12688fc.npy.gz',\n",
       " '/apps/b_perso/hp/simplark/pretrainer/PersonalizedTopicsV2WithMetaOrganicPRecall/2022/04/21/data/part-00007-419f23b3-de50-486d-a6c1-e069e12688fc.npy.gz',\n",
       " '/apps/b_perso/hp/simplark/pretrainer/PersonalizedTopicsV2WithMetaOrganicPRecall/2022/04/21/data/part-00008-419f23b3-de50-486d-a6c1-e069e12688fc.npy.gz',\n",
       " '/apps/b_perso/hp/simplark/pretrainer/PersonalizedTopicsV2WithMetaOrganicPRecall/2022/04/21/data/part-00009-419f23b3-de50-486d-a6c1-e069e12688fc.npy.gz',\n",
       " '/apps/b_perso/hp/simplark/pretrainer/PersonalizedTopicsV2WithMetaOrganicPRecall/2022/04/21/data/part-00010-419f23b3-de50-486d-a6c1-e069e12688fc.npy.gz',\n",
       " '/apps/b_perso/hp/simplark/pretrainer/PersonalizedTopicsV2WithMetaOrganicPRecall/2022/04/21/data/part-00011-419f23b3-de50-486d-a6c1-e069e12688fc.npy.gz',\n",
       " '/apps/b_perso/hp/simplark/pretrainer/PersonalizedTopicsV2WithMetaOrganicPRecall/2022/04/21/data/part-00012-419f23b3-de50-486d-a6c1-e069e12688fc.npy.gz',\n",
       " '/apps/b_perso/hp/simplark/pretrainer/PersonalizedTopicsV2WithMetaOrganicPRecall/2022/04/21/data/part-00013-419f23b3-de50-486d-a6c1-e069e12688fc.npy.gz',\n",
       " '/apps/b_perso/hp/simplark/pretrainer/PersonalizedTopicsV2WithMetaOrganicPRecall/2022/04/21/data/part-00014-419f23b3-de50-486d-a6c1-e069e12688fc.npy.gz',\n",
       " '/apps/b_perso/hp/simplark/pretrainer/PersonalizedTopicsV2WithMetaOrganicPRecall/2022/04/21/data/part-00015-419f23b3-de50-486d-a6c1-e069e12688fc.npy.gz',\n",
       " '/apps/b_perso/hp/simplark/pretrainer/PersonalizedTopicsV2WithMetaOrganicPRecall/2022/04/21/data/part-00016-419f23b3-de50-486d-a6c1-e069e12688fc.npy.gz',\n",
       " '/apps/b_perso/hp/simplark/pretrainer/PersonalizedTopicsV2WithMetaOrganicPRecall/2022/04/21/data/part-00017-419f23b3-de50-486d-a6c1-e069e12688fc.npy.gz',\n",
       " '/apps/b_perso/hp/simplark/pretrainer/PersonalizedTopicsV2WithMetaOrganicPRecall/2022/04/21/data/part-00018-419f23b3-de50-486d-a6c1-e069e12688fc.npy.gz',\n",
       " '/apps/b_perso/hp/simplark/pretrainer/PersonalizedTopicsV2WithMetaOrganicPRecall/2022/04/21/data/part-00019-419f23b3-de50-486d-a6c1-e069e12688fc.npy.gz',\n",
       " '/apps/b_perso/hp/simplark/pretrainer/PersonalizedTopicsV2WithMetaOrganicPRecall/2022/04/21/data/part-00020-419f23b3-de50-486d-a6c1-e069e12688fc.npy.gz',\n",
       " '/apps/b_perso/hp/simplark/pretrainer/PersonalizedTopicsV2WithMetaOrganicPRecall/2022/04/21/data/part-00021-419f23b3-de50-486d-a6c1-e069e12688fc.npy.gz',\n",
       " '/apps/b_perso/hp/simplark/pretrainer/PersonalizedTopicsV2WithMetaOrganicPRecall/2022/04/21/data/part-00022-419f23b3-de50-486d-a6c1-e069e12688fc.npy.gz',\n",
       " '/apps/b_perso/hp/simplark/pretrainer/PersonalizedTopicsV2WithMetaOrganicPRecall/2022/04/21/data/part-00023-419f23b3-de50-486d-a6c1-e069e12688fc.npy.gz',\n",
       " '/apps/b_perso/hp/simplark/pretrainer/PersonalizedTopicsV2WithMetaOrganicPRecall/2022/04/21/data/part-00024-419f23b3-de50-486d-a6c1-e069e12688fc.npy.gz',\n",
       " '/apps/b_perso/hp/simplark/pretrainer/PersonalizedTopicsV2WithMetaOrganicPRecall/2022/04/21/data/part-00025-419f23b3-de50-486d-a6c1-e069e12688fc.npy.gz',\n",
       " '/apps/b_perso/hp/simplark/pretrainer/PersonalizedTopicsV2WithMetaOrganicPRecall/2022/04/21/data/part-00026-419f23b3-de50-486d-a6c1-e069e12688fc.npy.gz',\n",
       " '/apps/b_perso/hp/simplark/pretrainer/PersonalizedTopicsV2WithMetaOrganicPRecall/2022/04/21/data/part-00027-419f23b3-de50-486d-a6c1-e069e12688fc.npy.gz',\n",
       " '/apps/b_perso/hp/simplark/pretrainer/PersonalizedTopicsV2WithMetaOrganicPRecall/2022/04/21/data/part-00028-419f23b3-de50-486d-a6c1-e069e12688fc.npy.gz',\n",
       " '/apps/b_perso/hp/simplark/pretrainer/PersonalizedTopicsV2WithMetaOrganicPRecall/2022/04/21/data/part-00029-419f23b3-de50-486d-a6c1-e069e12688fc.npy.gz',\n",
       " '/apps/b_perso/hp/simplark/pretrainer/PersonalizedTopicsV2WithMetaOrganicPRecall/2022/04/21/data/part-00030-419f23b3-de50-486d-a6c1-e069e12688fc.npy.gz',\n",
       " '/apps/b_perso/hp/simplark/pretrainer/PersonalizedTopicsV2WithMetaOrganicPRecall/2022/04/21/data/part-00031-419f23b3-de50-486d-a6c1-e069e12688fc.npy.gz',\n",
       " '/apps/b_perso/hp/simplark/pretrainer/PersonalizedTopicsV2WithMetaOrganicPRecall/2022/04/21/data/part-00032-419f23b3-de50-486d-a6c1-e069e12688fc.npy.gz',\n",
       " '/apps/b_perso/hp/simplark/pretrainer/PersonalizedTopicsV2WithMetaOrganicPRecall/2022/04/21/data/part-00033-419f23b3-de50-486d-a6c1-e069e12688fc.npy.gz',\n",
       " '/apps/b_perso/hp/simplark/pretrainer/PersonalizedTopicsV2WithMetaOrganicPRecall/2022/04/21/data/part-00034-419f23b3-de50-486d-a6c1-e069e12688fc.npy.gz',\n",
       " '/apps/b_perso/hp/simplark/pretrainer/PersonalizedTopicsV2WithMetaOrganicPRecall/2022/04/21/data/part-00035-419f23b3-de50-486d-a6c1-e069e12688fc.npy.gz',\n",
       " '/apps/b_perso/hp/simplark/pretrainer/PersonalizedTopicsV2WithMetaOrganicPRecall/2022/04/21/data/part-00036-419f23b3-de50-486d-a6c1-e069e12688fc.npy.gz',\n",
       " '/apps/b_perso/hp/simplark/pretrainer/PersonalizedTopicsV2WithMetaOrganicPRecall/2022/04/21/data/part-00037-419f23b3-de50-486d-a6c1-e069e12688fc.npy.gz',\n",
       " '/apps/b_perso/hp/simplark/pretrainer/PersonalizedTopicsV2WithMetaOrganicPRecall/2022/04/21/data/part-00038-419f23b3-de50-486d-a6c1-e069e12688fc.npy.gz',\n",
       " '/apps/b_perso/hp/simplark/pretrainer/PersonalizedTopicsV2WithMetaOrganicPRecall/2022/04/21/data/part-00039-419f23b3-de50-486d-a6c1-e069e12688fc.npy.gz',\n",
       " '/apps/b_perso/hp/simplark/pretrainer/PersonalizedTopicsV2WithMetaOrganicPRecall/2022/04/21/data/part-00040-419f23b3-de50-486d-a6c1-e069e12688fc.npy.gz',\n",
       " '/apps/b_perso/hp/simplark/pretrainer/PersonalizedTopicsV2WithMetaOrganicPRecall/2022/04/21/data/part-00041-419f23b3-de50-486d-a6c1-e069e12688fc.npy.gz',\n",
       " '/apps/b_perso/hp/simplark/pretrainer/PersonalizedTopicsV2WithMetaOrganicPRecall/2022/04/21/data/part-00042-419f23b3-de50-486d-a6c1-e069e12688fc.npy.gz',\n",
       " '/apps/b_perso/hp/simplark/pretrainer/PersonalizedTopicsV2WithMetaOrganicPRecall/2022/04/21/data/part-00043-419f23b3-de50-486d-a6c1-e069e12688fc.npy.gz',\n",
       " '/apps/b_perso/hp/simplark/pretrainer/PersonalizedTopicsV2WithMetaOrganicPRecall/2022/04/21/data/part-00044-419f23b3-de50-486d-a6c1-e069e12688fc.npy.gz',\n",
       " '/apps/b_perso/hp/simplark/pretrainer/PersonalizedTopicsV2WithMetaOrganicPRecall/2022/04/21/data/part-00045-419f23b3-de50-486d-a6c1-e069e12688fc.npy.gz',\n",
       " '/apps/b_perso/hp/simplark/pretrainer/PersonalizedTopicsV2WithMetaOrganicPRecall/2022/04/21/data/part-00046-419f23b3-de50-486d-a6c1-e069e12688fc.npy.gz',\n",
       " '/apps/b_perso/hp/simplark/pretrainer/PersonalizedTopicsV2WithMetaOrganicPRecall/2022/04/21/data/part-00047-419f23b3-de50-486d-a6c1-e069e12688fc.npy.gz',\n",
       " '/apps/b_perso/hp/simplark/pretrainer/PersonalizedTopicsV2WithMetaOrganicPRecall/2022/04/21/data/part-00048-419f23b3-de50-486d-a6c1-e069e12688fc.npy.gz',\n",
       " '/apps/b_perso/hp/simplark/pretrainer/PersonalizedTopicsV2WithMetaOrganicPRecall/2022/04/21/data/part-00049-419f23b3-de50-486d-a6c1-e069e12688fc.npy.gz',\n",
       " '/apps/b_perso/hp/simplark/pretrainer/PersonalizedTopicsV2WithMetaOrganicPRecall/2022/04/22/data/part-00000-52c9bdbd-bd69-4be8-8ee7-99de7c4fadba.npy.gz',\n",
       " '/apps/b_perso/hp/simplark/pretrainer/PersonalizedTopicsV2WithMetaOrganicPRecall/2022/04/22/data/part-00001-52c9bdbd-bd69-4be8-8ee7-99de7c4fadba.npy.gz',\n",
       " '/apps/b_perso/hp/simplark/pretrainer/PersonalizedTopicsV2WithMetaOrganicPRecall/2022/04/22/data/part-00002-52c9bdbd-bd69-4be8-8ee7-99de7c4fadba.npy.gz',\n",
       " '/apps/b_perso/hp/simplark/pretrainer/PersonalizedTopicsV2WithMetaOrganicPRecall/2022/04/22/data/part-00003-52c9bdbd-bd69-4be8-8ee7-99de7c4fadba.npy.gz',\n",
       " '/apps/b_perso/hp/simplark/pretrainer/PersonalizedTopicsV2WithMetaOrganicPRecall/2022/04/22/data/part-00004-52c9bdbd-bd69-4be8-8ee7-99de7c4fadba.npy.gz',\n",
       " '/apps/b_perso/hp/simplark/pretrainer/PersonalizedTopicsV2WithMetaOrganicPRecall/2022/04/22/data/part-00005-52c9bdbd-bd69-4be8-8ee7-99de7c4fadba.npy.gz',\n",
       " '/apps/b_perso/hp/simplark/pretrainer/PersonalizedTopicsV2WithMetaOrganicPRecall/2022/04/22/data/part-00006-52c9bdbd-bd69-4be8-8ee7-99de7c4fadba.npy.gz',\n",
       " '/apps/b_perso/hp/simplark/pretrainer/PersonalizedTopicsV2WithMetaOrganicPRecall/2022/04/22/data/part-00007-52c9bdbd-bd69-4be8-8ee7-99de7c4fadba.npy.gz',\n",
       " '/apps/b_perso/hp/simplark/pretrainer/PersonalizedTopicsV2WithMetaOrganicPRecall/2022/04/22/data/part-00008-52c9bdbd-bd69-4be8-8ee7-99de7c4fadba.npy.gz',\n",
       " '/apps/b_perso/hp/simplark/pretrainer/PersonalizedTopicsV2WithMetaOrganicPRecall/2022/04/22/data/part-00009-52c9bdbd-bd69-4be8-8ee7-99de7c4fadba.npy.gz',\n",
       " '/apps/b_perso/hp/simplark/pretrainer/PersonalizedTopicsV2WithMetaOrganicPRecall/2022/04/22/data/part-00010-52c9bdbd-bd69-4be8-8ee7-99de7c4fadba.npy.gz',\n",
       " '/apps/b_perso/hp/simplark/pretrainer/PersonalizedTopicsV2WithMetaOrganicPRecall/2022/04/22/data/part-00011-52c9bdbd-bd69-4be8-8ee7-99de7c4fadba.npy.gz',\n",
       " '/apps/b_perso/hp/simplark/pretrainer/PersonalizedTopicsV2WithMetaOrganicPRecall/2022/04/22/data/part-00012-52c9bdbd-bd69-4be8-8ee7-99de7c4fadba.npy.gz',\n",
       " '/apps/b_perso/hp/simplark/pretrainer/PersonalizedTopicsV2WithMetaOrganicPRecall/2022/04/22/data/part-00013-52c9bdbd-bd69-4be8-8ee7-99de7c4fadba.npy.gz',\n",
       " '/apps/b_perso/hp/simplark/pretrainer/PersonalizedTopicsV2WithMetaOrganicPRecall/2022/04/22/data/part-00014-52c9bdbd-bd69-4be8-8ee7-99de7c4fadba.npy.gz',\n",
       " '/apps/b_perso/hp/simplark/pretrainer/PersonalizedTopicsV2WithMetaOrganicPRecall/2022/04/22/data/part-00015-52c9bdbd-bd69-4be8-8ee7-99de7c4fadba.npy.gz',\n",
       " '/apps/b_perso/hp/simplark/pretrainer/PersonalizedTopicsV2WithMetaOrganicPRecall/2022/04/22/data/part-00016-52c9bdbd-bd69-4be8-8ee7-99de7c4fadba.npy.gz',\n",
       " '/apps/b_perso/hp/simplark/pretrainer/PersonalizedTopicsV2WithMetaOrganicPRecall/2022/04/22/data/part-00017-52c9bdbd-bd69-4be8-8ee7-99de7c4fadba.npy.gz',\n",
       " '/apps/b_perso/hp/simplark/pretrainer/PersonalizedTopicsV2WithMetaOrganicPRecall/2022/04/22/data/part-00018-52c9bdbd-bd69-4be8-8ee7-99de7c4fadba.npy.gz',\n",
       " '/apps/b_perso/hp/simplark/pretrainer/PersonalizedTopicsV2WithMetaOrganicPRecall/2022/04/22/data/part-00019-52c9bdbd-bd69-4be8-8ee7-99de7c4fadba.npy.gz',\n",
       " '/apps/b_perso/hp/simplark/pretrainer/PersonalizedTopicsV2WithMetaOrganicPRecall/2022/04/22/data/part-00020-52c9bdbd-bd69-4be8-8ee7-99de7c4fadba.npy.gz',\n",
       " '/apps/b_perso/hp/simplark/pretrainer/PersonalizedTopicsV2WithMetaOrganicPRecall/2022/04/22/data/part-00021-52c9bdbd-bd69-4be8-8ee7-99de7c4fadba.npy.gz',\n",
       " '/apps/b_perso/hp/simplark/pretrainer/PersonalizedTopicsV2WithMetaOrganicPRecall/2022/04/22/data/part-00022-52c9bdbd-bd69-4be8-8ee7-99de7c4fadba.npy.gz',\n",
       " '/apps/b_perso/hp/simplark/pretrainer/PersonalizedTopicsV2WithMetaOrganicPRecall/2022/04/22/data/part-00023-52c9bdbd-bd69-4be8-8ee7-99de7c4fadba.npy.gz',\n",
       " '/apps/b_perso/hp/simplark/pretrainer/PersonalizedTopicsV2WithMetaOrganicPRecall/2022/04/22/data/part-00024-52c9bdbd-bd69-4be8-8ee7-99de7c4fadba.npy.gz',\n",
       " '/apps/b_perso/hp/simplark/pretrainer/PersonalizedTopicsV2WithMetaOrganicPRecall/2022/04/22/data/part-00025-52c9bdbd-bd69-4be8-8ee7-99de7c4fadba.npy.gz',\n",
       " '/apps/b_perso/hp/simplark/pretrainer/PersonalizedTopicsV2WithMetaOrganicPRecall/2022/04/22/data/part-00026-52c9bdbd-bd69-4be8-8ee7-99de7c4fadba.npy.gz',\n",
       " '/apps/b_perso/hp/simplark/pretrainer/PersonalizedTopicsV2WithMetaOrganicPRecall/2022/04/22/data/part-00027-52c9bdbd-bd69-4be8-8ee7-99de7c4fadba.npy.gz',\n",
       " '/apps/b_perso/hp/simplark/pretrainer/PersonalizedTopicsV2WithMetaOrganicPRecall/2022/04/22/data/part-00028-52c9bdbd-bd69-4be8-8ee7-99de7c4fadba.npy.gz',\n",
       " '/apps/b_perso/hp/simplark/pretrainer/PersonalizedTopicsV2WithMetaOrganicPRecall/2022/04/22/data/part-00029-52c9bdbd-bd69-4be8-8ee7-99de7c4fadba.npy.gz',\n",
       " '/apps/b_perso/hp/simplark/pretrainer/PersonalizedTopicsV2WithMetaOrganicPRecall/2022/04/22/data/part-00030-52c9bdbd-bd69-4be8-8ee7-99de7c4fadba.npy.gz',\n",
       " '/apps/b_perso/hp/simplark/pretrainer/PersonalizedTopicsV2WithMetaOrganicPRecall/2022/04/22/data/part-00031-52c9bdbd-bd69-4be8-8ee7-99de7c4fadba.npy.gz',\n",
       " '/apps/b_perso/hp/simplark/pretrainer/PersonalizedTopicsV2WithMetaOrganicPRecall/2022/04/22/data/part-00032-52c9bdbd-bd69-4be8-8ee7-99de7c4fadba.npy.gz',\n",
       " '/apps/b_perso/hp/simplark/pretrainer/PersonalizedTopicsV2WithMetaOrganicPRecall/2022/04/22/data/part-00033-52c9bdbd-bd69-4be8-8ee7-99de7c4fadba.npy.gz',\n",
       " '/apps/b_perso/hp/simplark/pretrainer/PersonalizedTopicsV2WithMetaOrganicPRecall/2022/04/22/data/part-00034-52c9bdbd-bd69-4be8-8ee7-99de7c4fadba.npy.gz',\n",
       " '/apps/b_perso/hp/simplark/pretrainer/PersonalizedTopicsV2WithMetaOrganicPRecall/2022/04/22/data/part-00035-52c9bdbd-bd69-4be8-8ee7-99de7c4fadba.npy.gz',\n",
       " '/apps/b_perso/hp/simplark/pretrainer/PersonalizedTopicsV2WithMetaOrganicPRecall/2022/04/22/data/part-00036-52c9bdbd-bd69-4be8-8ee7-99de7c4fadba.npy.gz',\n",
       " '/apps/b_perso/hp/simplark/pretrainer/PersonalizedTopicsV2WithMetaOrganicPRecall/2022/04/22/data/part-00037-52c9bdbd-bd69-4be8-8ee7-99de7c4fadba.npy.gz',\n",
       " '/apps/b_perso/hp/simplark/pretrainer/PersonalizedTopicsV2WithMetaOrganicPRecall/2022/04/22/data/part-00038-52c9bdbd-bd69-4be8-8ee7-99de7c4fadba.npy.gz',\n",
       " '/apps/b_perso/hp/simplark/pretrainer/PersonalizedTopicsV2WithMetaOrganicPRecall/2022/04/22/data/part-00039-52c9bdbd-bd69-4be8-8ee7-99de7c4fadba.npy.gz',\n",
       " '/apps/b_perso/hp/simplark/pretrainer/PersonalizedTopicsV2WithMetaOrganicPRecall/2022/04/22/data/part-00040-52c9bdbd-bd69-4be8-8ee7-99de7c4fadba.npy.gz',\n",
       " '/apps/b_perso/hp/simplark/pretrainer/PersonalizedTopicsV2WithMetaOrganicPRecall/2022/04/22/data/part-00041-52c9bdbd-bd69-4be8-8ee7-99de7c4fadba.npy.gz',\n",
       " '/apps/b_perso/hp/simplark/pretrainer/PersonalizedTopicsV2WithMetaOrganicPRecall/2022/04/22/data/part-00042-52c9bdbd-bd69-4be8-8ee7-99de7c4fadba.npy.gz',\n",
       " '/apps/b_perso/hp/simplark/pretrainer/PersonalizedTopicsV2WithMetaOrganicPRecall/2022/04/22/data/part-00043-52c9bdbd-bd69-4be8-8ee7-99de7c4fadba.npy.gz',\n",
       " '/apps/b_perso/hp/simplark/pretrainer/PersonalizedTopicsV2WithMetaOrganicPRecall/2022/04/22/data/part-00044-52c9bdbd-bd69-4be8-8ee7-99de7c4fadba.npy.gz',\n",
       " '/apps/b_perso/hp/simplark/pretrainer/PersonalizedTopicsV2WithMetaOrganicPRecall/2022/04/22/data/part-00045-52c9bdbd-bd69-4be8-8ee7-99de7c4fadba.npy.gz',\n",
       " '/apps/b_perso/hp/simplark/pretrainer/PersonalizedTopicsV2WithMetaOrganicPRecall/2022/04/22/data/part-00046-52c9bdbd-bd69-4be8-8ee7-99de7c4fadba.npy.gz',\n",
       " '/apps/b_perso/hp/simplark/pretrainer/PersonalizedTopicsV2WithMetaOrganicPRecall/2022/04/22/data/part-00047-52c9bdbd-bd69-4be8-8ee7-99de7c4fadba.npy.gz',\n",
       " '/apps/b_perso/hp/simplark/pretrainer/PersonalizedTopicsV2WithMetaOrganicPRecall/2022/04/22/data/part-00048-52c9bdbd-bd69-4be8-8ee7-99de7c4fadba.npy.gz',\n",
       " '/apps/b_perso/hp/simplark/pretrainer/PersonalizedTopicsV2WithMetaOrganicPRecall/2022/04/22/data/part-00049-52c9bdbd-bd69-4be8-8ee7-99de7c4fadba.npy.gz',\n",
       " '/apps/b_perso/hp/simplark/pretrainer/PersonalizedTopicsV2WithMetaOrganicPRecall/2022/04/23/data/part-00000-d46ac649-c8be-46bb-ab12-804c5b08ffe4.npy.gz',\n",
       " '/apps/b_perso/hp/simplark/pretrainer/PersonalizedTopicsV2WithMetaOrganicPRecall/2022/04/23/data/part-00001-d46ac649-c8be-46bb-ab12-804c5b08ffe4.npy.gz',\n",
       " '/apps/b_perso/hp/simplark/pretrainer/PersonalizedTopicsV2WithMetaOrganicPRecall/2022/04/23/data/part-00002-d46ac649-c8be-46bb-ab12-804c5b08ffe4.npy.gz',\n",
       " '/apps/b_perso/hp/simplark/pretrainer/PersonalizedTopicsV2WithMetaOrganicPRecall/2022/04/23/data/part-00003-d46ac649-c8be-46bb-ab12-804c5b08ffe4.npy.gz',\n",
       " '/apps/b_perso/hp/simplark/pretrainer/PersonalizedTopicsV2WithMetaOrganicPRecall/2022/04/23/data/part-00004-d46ac649-c8be-46bb-ab12-804c5b08ffe4.npy.gz',\n",
       " '/apps/b_perso/hp/simplark/pretrainer/PersonalizedTopicsV2WithMetaOrganicPRecall/2022/04/23/data/part-00005-d46ac649-c8be-46bb-ab12-804c5b08ffe4.npy.gz',\n",
       " '/apps/b_perso/hp/simplark/pretrainer/PersonalizedTopicsV2WithMetaOrganicPRecall/2022/04/23/data/part-00006-d46ac649-c8be-46bb-ab12-804c5b08ffe4.npy.gz',\n",
       " '/apps/b_perso/hp/simplark/pretrainer/PersonalizedTopicsV2WithMetaOrganicPRecall/2022/04/23/data/part-00007-d46ac649-c8be-46bb-ab12-804c5b08ffe4.npy.gz',\n",
       " '/apps/b_perso/hp/simplark/pretrainer/PersonalizedTopicsV2WithMetaOrganicPRecall/2022/04/23/data/part-00008-d46ac649-c8be-46bb-ab12-804c5b08ffe4.npy.gz',\n",
       " '/apps/b_perso/hp/simplark/pretrainer/PersonalizedTopicsV2WithMetaOrganicPRecall/2022/04/23/data/part-00009-d46ac649-c8be-46bb-ab12-804c5b08ffe4.npy.gz',\n",
       " '/apps/b_perso/hp/simplark/pretrainer/PersonalizedTopicsV2WithMetaOrganicPRecall/2022/04/23/data/part-00010-d46ac649-c8be-46bb-ab12-804c5b08ffe4.npy.gz',\n",
       " '/apps/b_perso/hp/simplark/pretrainer/PersonalizedTopicsV2WithMetaOrganicPRecall/2022/04/23/data/part-00011-d46ac649-c8be-46bb-ab12-804c5b08ffe4.npy.gz',\n",
       " '/apps/b_perso/hp/simplark/pretrainer/PersonalizedTopicsV2WithMetaOrganicPRecall/2022/04/23/data/part-00012-d46ac649-c8be-46bb-ab12-804c5b08ffe4.npy.gz',\n",
       " '/apps/b_perso/hp/simplark/pretrainer/PersonalizedTopicsV2WithMetaOrganicPRecall/2022/04/23/data/part-00013-d46ac649-c8be-46bb-ab12-804c5b08ffe4.npy.gz',\n",
       " '/apps/b_perso/hp/simplark/pretrainer/PersonalizedTopicsV2WithMetaOrganicPRecall/2022/04/23/data/part-00014-d46ac649-c8be-46bb-ab12-804c5b08ffe4.npy.gz',\n",
       " '/apps/b_perso/hp/simplark/pretrainer/PersonalizedTopicsV2WithMetaOrganicPRecall/2022/04/23/data/part-00015-d46ac649-c8be-46bb-ab12-804c5b08ffe4.npy.gz',\n",
       " '/apps/b_perso/hp/simplark/pretrainer/PersonalizedTopicsV2WithMetaOrganicPRecall/2022/04/23/data/part-00016-d46ac649-c8be-46bb-ab12-804c5b08ffe4.npy.gz',\n",
       " '/apps/b_perso/hp/simplark/pretrainer/PersonalizedTopicsV2WithMetaOrganicPRecall/2022/04/23/data/part-00017-d46ac649-c8be-46bb-ab12-804c5b08ffe4.npy.gz',\n",
       " '/apps/b_perso/hp/simplark/pretrainer/PersonalizedTopicsV2WithMetaOrganicPRecall/2022/04/23/data/part-00018-d46ac649-c8be-46bb-ab12-804c5b08ffe4.npy.gz',\n",
       " '/apps/b_perso/hp/simplark/pretrainer/PersonalizedTopicsV2WithMetaOrganicPRecall/2022/04/23/data/part-00019-d46ac649-c8be-46bb-ab12-804c5b08ffe4.npy.gz',\n",
       " '/apps/b_perso/hp/simplark/pretrainer/PersonalizedTopicsV2WithMetaOrganicPRecall/2022/04/23/data/part-00020-d46ac649-c8be-46bb-ab12-804c5b08ffe4.npy.gz',\n",
       " '/apps/b_perso/hp/simplark/pretrainer/PersonalizedTopicsV2WithMetaOrganicPRecall/2022/04/23/data/part-00021-d46ac649-c8be-46bb-ab12-804c5b08ffe4.npy.gz',\n",
       " '/apps/b_perso/hp/simplark/pretrainer/PersonalizedTopicsV2WithMetaOrganicPRecall/2022/04/23/data/part-00022-d46ac649-c8be-46bb-ab12-804c5b08ffe4.npy.gz',\n",
       " '/apps/b_perso/hp/simplark/pretrainer/PersonalizedTopicsV2WithMetaOrganicPRecall/2022/04/23/data/part-00023-d46ac649-c8be-46bb-ab12-804c5b08ffe4.npy.gz',\n",
       " '/apps/b_perso/hp/simplark/pretrainer/PersonalizedTopicsV2WithMetaOrganicPRecall/2022/04/23/data/part-00024-d46ac649-c8be-46bb-ab12-804c5b08ffe4.npy.gz',\n",
       " '/apps/b_perso/hp/simplark/pretrainer/PersonalizedTopicsV2WithMetaOrganicPRecall/2022/04/23/data/part-00025-d46ac649-c8be-46bb-ab12-804c5b08ffe4.npy.gz',\n",
       " '/apps/b_perso/hp/simplark/pretrainer/PersonalizedTopicsV2WithMetaOrganicPRecall/2022/04/23/data/part-00026-d46ac649-c8be-46bb-ab12-804c5b08ffe4.npy.gz',\n",
       " '/apps/b_perso/hp/simplark/pretrainer/PersonalizedTopicsV2WithMetaOrganicPRecall/2022/04/23/data/part-00027-d46ac649-c8be-46bb-ab12-804c5b08ffe4.npy.gz',\n",
       " '/apps/b_perso/hp/simplark/pretrainer/PersonalizedTopicsV2WithMetaOrganicPRecall/2022/04/23/data/part-00028-d46ac649-c8be-46bb-ab12-804c5b08ffe4.npy.gz',\n",
       " '/apps/b_perso/hp/simplark/pretrainer/PersonalizedTopicsV2WithMetaOrganicPRecall/2022/04/23/data/part-00029-d46ac649-c8be-46bb-ab12-804c5b08ffe4.npy.gz',\n",
       " '/apps/b_perso/hp/simplark/pretrainer/PersonalizedTopicsV2WithMetaOrganicPRecall/2022/04/23/data/part-00030-d46ac649-c8be-46bb-ab12-804c5b08ffe4.npy.gz',\n",
       " '/apps/b_perso/hp/simplark/pretrainer/PersonalizedTopicsV2WithMetaOrganicPRecall/2022/04/23/data/part-00031-d46ac649-c8be-46bb-ab12-804c5b08ffe4.npy.gz',\n",
       " '/apps/b_perso/hp/simplark/pretrainer/PersonalizedTopicsV2WithMetaOrganicPRecall/2022/04/23/data/part-00032-d46ac649-c8be-46bb-ab12-804c5b08ffe4.npy.gz',\n",
       " '/apps/b_perso/hp/simplark/pretrainer/PersonalizedTopicsV2WithMetaOrganicPRecall/2022/04/23/data/part-00033-d46ac649-c8be-46bb-ab12-804c5b08ffe4.npy.gz',\n",
       " '/apps/b_perso/hp/simplark/pretrainer/PersonalizedTopicsV2WithMetaOrganicPRecall/2022/04/23/data/part-00034-d46ac649-c8be-46bb-ab12-804c5b08ffe4.npy.gz',\n",
       " '/apps/b_perso/hp/simplark/pretrainer/PersonalizedTopicsV2WithMetaOrganicPRecall/2022/04/23/data/part-00035-d46ac649-c8be-46bb-ab12-804c5b08ffe4.npy.gz',\n",
       " '/apps/b_perso/hp/simplark/pretrainer/PersonalizedTopicsV2WithMetaOrganicPRecall/2022/04/23/data/part-00036-d46ac649-c8be-46bb-ab12-804c5b08ffe4.npy.gz',\n",
       " '/apps/b_perso/hp/simplark/pretrainer/PersonalizedTopicsV2WithMetaOrganicPRecall/2022/04/23/data/part-00037-d46ac649-c8be-46bb-ab12-804c5b08ffe4.npy.gz',\n",
       " '/apps/b_perso/hp/simplark/pretrainer/PersonalizedTopicsV2WithMetaOrganicPRecall/2022/04/23/data/part-00038-d46ac649-c8be-46bb-ab12-804c5b08ffe4.npy.gz',\n",
       " '/apps/b_perso/hp/simplark/pretrainer/PersonalizedTopicsV2WithMetaOrganicPRecall/2022/04/23/data/part-00039-d46ac649-c8be-46bb-ab12-804c5b08ffe4.npy.gz',\n",
       " '/apps/b_perso/hp/simplark/pretrainer/PersonalizedTopicsV2WithMetaOrganicPRecall/2022/04/23/data/part-00040-d46ac649-c8be-46bb-ab12-804c5b08ffe4.npy.gz',\n",
       " '/apps/b_perso/hp/simplark/pretrainer/PersonalizedTopicsV2WithMetaOrganicPRecall/2022/04/23/data/part-00041-d46ac649-c8be-46bb-ab12-804c5b08ffe4.npy.gz',\n",
       " '/apps/b_perso/hp/simplark/pretrainer/PersonalizedTopicsV2WithMetaOrganicPRecall/2022/04/23/data/part-00042-d46ac649-c8be-46bb-ab12-804c5b08ffe4.npy.gz',\n",
       " '/apps/b_perso/hp/simplark/pretrainer/PersonalizedTopicsV2WithMetaOrganicPRecall/2022/04/23/data/part-00043-d46ac649-c8be-46bb-ab12-804c5b08ffe4.npy.gz',\n",
       " '/apps/b_perso/hp/simplark/pretrainer/PersonalizedTopicsV2WithMetaOrganicPRecall/2022/04/23/data/part-00044-d46ac649-c8be-46bb-ab12-804c5b08ffe4.npy.gz',\n",
       " '/apps/b_perso/hp/simplark/pretrainer/PersonalizedTopicsV2WithMetaOrganicPRecall/2022/04/23/data/part-00045-d46ac649-c8be-46bb-ab12-804c5b08ffe4.npy.gz',\n",
       " '/apps/b_perso/hp/simplark/pretrainer/PersonalizedTopicsV2WithMetaOrganicPRecall/2022/04/23/data/part-00046-d46ac649-c8be-46bb-ab12-804c5b08ffe4.npy.gz',\n",
       " '/apps/b_perso/hp/simplark/pretrainer/PersonalizedTopicsV2WithMetaOrganicPRecall/2022/04/23/data/part-00047-d46ac649-c8be-46bb-ab12-804c5b08ffe4.npy.gz',\n",
       " '/apps/b_perso/hp/simplark/pretrainer/PersonalizedTopicsV2WithMetaOrganicPRecall/2022/04/23/data/part-00048-d46ac649-c8be-46bb-ab12-804c5b08ffe4.npy.gz',\n",
       " '/apps/b_perso/hp/simplark/pretrainer/PersonalizedTopicsV2WithMetaOrganicPRecall/2022/04/23/data/part-00049-d46ac649-c8be-46bb-ab12-804c5b08ffe4.npy.gz',\n",
       " '/apps/b_perso/hp/simplark/pretrainer/PersonalizedTopicsV2WithMetaOrganicPRecall/2022/04/24/data/part-00000-14b4b6bd-df10-4f4b-a938-47ce459a36d4.npy.gz',\n",
       " '/apps/b_perso/hp/simplark/pretrainer/PersonalizedTopicsV2WithMetaOrganicPRecall/2022/04/24/data/part-00001-14b4b6bd-df10-4f4b-a938-47ce459a36d4.npy.gz',\n",
       " '/apps/b_perso/hp/simplark/pretrainer/PersonalizedTopicsV2WithMetaOrganicPRecall/2022/04/24/data/part-00002-14b4b6bd-df10-4f4b-a938-47ce459a36d4.npy.gz',\n",
       " '/apps/b_perso/hp/simplark/pretrainer/PersonalizedTopicsV2WithMetaOrganicPRecall/2022/04/24/data/part-00003-14b4b6bd-df10-4f4b-a938-47ce459a36d4.npy.gz',\n",
       " '/apps/b_perso/hp/simplark/pretrainer/PersonalizedTopicsV2WithMetaOrganicPRecall/2022/04/24/data/part-00004-14b4b6bd-df10-4f4b-a938-47ce459a36d4.npy.gz',\n",
       " '/apps/b_perso/hp/simplark/pretrainer/PersonalizedTopicsV2WithMetaOrganicPRecall/2022/04/24/data/part-00005-14b4b6bd-df10-4f4b-a938-47ce459a36d4.npy.gz',\n",
       " '/apps/b_perso/hp/simplark/pretrainer/PersonalizedTopicsV2WithMetaOrganicPRecall/2022/04/24/data/part-00006-14b4b6bd-df10-4f4b-a938-47ce459a36d4.npy.gz',\n",
       " '/apps/b_perso/hp/simplark/pretrainer/PersonalizedTopicsV2WithMetaOrganicPRecall/2022/04/24/data/part-00007-14b4b6bd-df10-4f4b-a938-47ce459a36d4.npy.gz',\n",
       " '/apps/b_perso/hp/simplark/pretrainer/PersonalizedTopicsV2WithMetaOrganicPRecall/2022/04/24/data/part-00008-14b4b6bd-df10-4f4b-a938-47ce459a36d4.npy.gz',\n",
       " '/apps/b_perso/hp/simplark/pretrainer/PersonalizedTopicsV2WithMetaOrganicPRecall/2022/04/24/data/part-00009-14b4b6bd-df10-4f4b-a938-47ce459a36d4.npy.gz',\n",
       " '/apps/b_perso/hp/simplark/pretrainer/PersonalizedTopicsV2WithMetaOrganicPRecall/2022/04/24/data/part-00010-14b4b6bd-df10-4f4b-a938-47ce459a36d4.npy.gz',\n",
       " '/apps/b_perso/hp/simplark/pretrainer/PersonalizedTopicsV2WithMetaOrganicPRecall/2022/04/24/data/part-00011-14b4b6bd-df10-4f4b-a938-47ce459a36d4.npy.gz',\n",
       " '/apps/b_perso/hp/simplark/pretrainer/PersonalizedTopicsV2WithMetaOrganicPRecall/2022/04/24/data/part-00012-14b4b6bd-df10-4f4b-a938-47ce459a36d4.npy.gz',\n",
       " '/apps/b_perso/hp/simplark/pretrainer/PersonalizedTopicsV2WithMetaOrganicPRecall/2022/04/24/data/part-00013-14b4b6bd-df10-4f4b-a938-47ce459a36d4.npy.gz',\n",
       " '/apps/b_perso/hp/simplark/pretrainer/PersonalizedTopicsV2WithMetaOrganicPRecall/2022/04/24/data/part-00014-14b4b6bd-df10-4f4b-a938-47ce459a36d4.npy.gz',\n",
       " '/apps/b_perso/hp/simplark/pretrainer/PersonalizedTopicsV2WithMetaOrganicPRecall/2022/04/24/data/part-00015-14b4b6bd-df10-4f4b-a938-47ce459a36d4.npy.gz',\n",
       " '/apps/b_perso/hp/simplark/pretrainer/PersonalizedTopicsV2WithMetaOrganicPRecall/2022/04/24/data/part-00016-14b4b6bd-df10-4f4b-a938-47ce459a36d4.npy.gz',\n",
       " '/apps/b_perso/hp/simplark/pretrainer/PersonalizedTopicsV2WithMetaOrganicPRecall/2022/04/24/data/part-00017-14b4b6bd-df10-4f4b-a938-47ce459a36d4.npy.gz',\n",
       " '/apps/b_perso/hp/simplark/pretrainer/PersonalizedTopicsV2WithMetaOrganicPRecall/2022/04/24/data/part-00018-14b4b6bd-df10-4f4b-a938-47ce459a36d4.npy.gz',\n",
       " '/apps/b_perso/hp/simplark/pretrainer/PersonalizedTopicsV2WithMetaOrganicPRecall/2022/04/24/data/part-00019-14b4b6bd-df10-4f4b-a938-47ce459a36d4.npy.gz',\n",
       " '/apps/b_perso/hp/simplark/pretrainer/PersonalizedTopicsV2WithMetaOrganicPRecall/2022/04/24/data/part-00020-14b4b6bd-df10-4f4b-a938-47ce459a36d4.npy.gz',\n",
       " '/apps/b_perso/hp/simplark/pretrainer/PersonalizedTopicsV2WithMetaOrganicPRecall/2022/04/24/data/part-00021-14b4b6bd-df10-4f4b-a938-47ce459a36d4.npy.gz',\n",
       " '/apps/b_perso/hp/simplark/pretrainer/PersonalizedTopicsV2WithMetaOrganicPRecall/2022/04/24/data/part-00022-14b4b6bd-df10-4f4b-a938-47ce459a36d4.npy.gz',\n",
       " '/apps/b_perso/hp/simplark/pretrainer/PersonalizedTopicsV2WithMetaOrganicPRecall/2022/04/24/data/part-00023-14b4b6bd-df10-4f4b-a938-47ce459a36d4.npy.gz',\n",
       " '/apps/b_perso/hp/simplark/pretrainer/PersonalizedTopicsV2WithMetaOrganicPRecall/2022/04/24/data/part-00024-14b4b6bd-df10-4f4b-a938-47ce459a36d4.npy.gz',\n",
       " '/apps/b_perso/hp/simplark/pretrainer/PersonalizedTopicsV2WithMetaOrganicPRecall/2022/04/24/data/part-00025-14b4b6bd-df10-4f4b-a938-47ce459a36d4.npy.gz',\n",
       " '/apps/b_perso/hp/simplark/pretrainer/PersonalizedTopicsV2WithMetaOrganicPRecall/2022/04/24/data/part-00026-14b4b6bd-df10-4f4b-a938-47ce459a36d4.npy.gz',\n",
       " '/apps/b_perso/hp/simplark/pretrainer/PersonalizedTopicsV2WithMetaOrganicPRecall/2022/04/24/data/part-00027-14b4b6bd-df10-4f4b-a938-47ce459a36d4.npy.gz',\n",
       " '/apps/b_perso/hp/simplark/pretrainer/PersonalizedTopicsV2WithMetaOrganicPRecall/2022/04/24/data/part-00028-14b4b6bd-df10-4f4b-a938-47ce459a36d4.npy.gz',\n",
       " '/apps/b_perso/hp/simplark/pretrainer/PersonalizedTopicsV2WithMetaOrganicPRecall/2022/04/24/data/part-00029-14b4b6bd-df10-4f4b-a938-47ce459a36d4.npy.gz',\n",
       " '/apps/b_perso/hp/simplark/pretrainer/PersonalizedTopicsV2WithMetaOrganicPRecall/2022/04/24/data/part-00030-14b4b6bd-df10-4f4b-a938-47ce459a36d4.npy.gz',\n",
       " '/apps/b_perso/hp/simplark/pretrainer/PersonalizedTopicsV2WithMetaOrganicPRecall/2022/04/24/data/part-00031-14b4b6bd-df10-4f4b-a938-47ce459a36d4.npy.gz',\n",
       " '/apps/b_perso/hp/simplark/pretrainer/PersonalizedTopicsV2WithMetaOrganicPRecall/2022/04/24/data/part-00032-14b4b6bd-df10-4f4b-a938-47ce459a36d4.npy.gz',\n",
       " '/apps/b_perso/hp/simplark/pretrainer/PersonalizedTopicsV2WithMetaOrganicPRecall/2022/04/24/data/part-00033-14b4b6bd-df10-4f4b-a938-47ce459a36d4.npy.gz',\n",
       " '/apps/b_perso/hp/simplark/pretrainer/PersonalizedTopicsV2WithMetaOrganicPRecall/2022/04/24/data/part-00034-14b4b6bd-df10-4f4b-a938-47ce459a36d4.npy.gz',\n",
       " '/apps/b_perso/hp/simplark/pretrainer/PersonalizedTopicsV2WithMetaOrganicPRecall/2022/04/24/data/part-00035-14b4b6bd-df10-4f4b-a938-47ce459a36d4.npy.gz',\n",
       " '/apps/b_perso/hp/simplark/pretrainer/PersonalizedTopicsV2WithMetaOrganicPRecall/2022/04/24/data/part-00036-14b4b6bd-df10-4f4b-a938-47ce459a36d4.npy.gz',\n",
       " '/apps/b_perso/hp/simplark/pretrainer/PersonalizedTopicsV2WithMetaOrganicPRecall/2022/04/24/data/part-00037-14b4b6bd-df10-4f4b-a938-47ce459a36d4.npy.gz',\n",
       " '/apps/b_perso/hp/simplark/pretrainer/PersonalizedTopicsV2WithMetaOrganicPRecall/2022/04/24/data/part-00038-14b4b6bd-df10-4f4b-a938-47ce459a36d4.npy.gz',\n",
       " '/apps/b_perso/hp/simplark/pretrainer/PersonalizedTopicsV2WithMetaOrganicPRecall/2022/04/24/data/part-00039-14b4b6bd-df10-4f4b-a938-47ce459a36d4.npy.gz',\n",
       " '/apps/b_perso/hp/simplark/pretrainer/PersonalizedTopicsV2WithMetaOrganicPRecall/2022/04/24/data/part-00040-14b4b6bd-df10-4f4b-a938-47ce459a36d4.npy.gz',\n",
       " '/apps/b_perso/hp/simplark/pretrainer/PersonalizedTopicsV2WithMetaOrganicPRecall/2022/04/24/data/part-00041-14b4b6bd-df10-4f4b-a938-47ce459a36d4.npy.gz',\n",
       " '/apps/b_perso/hp/simplark/pretrainer/PersonalizedTopicsV2WithMetaOrganicPRecall/2022/04/24/data/part-00042-14b4b6bd-df10-4f4b-a938-47ce459a36d4.npy.gz',\n",
       " '/apps/b_perso/hp/simplark/pretrainer/PersonalizedTopicsV2WithMetaOrganicPRecall/2022/04/24/data/part-00043-14b4b6bd-df10-4f4b-a938-47ce459a36d4.npy.gz',\n",
       " '/apps/b_perso/hp/simplark/pretrainer/PersonalizedTopicsV2WithMetaOrganicPRecall/2022/04/24/data/part-00044-14b4b6bd-df10-4f4b-a938-47ce459a36d4.npy.gz',\n",
       " '/apps/b_perso/hp/simplark/pretrainer/PersonalizedTopicsV2WithMetaOrganicPRecall/2022/04/24/data/part-00045-14b4b6bd-df10-4f4b-a938-47ce459a36d4.npy.gz',\n",
       " '/apps/b_perso/hp/simplark/pretrainer/PersonalizedTopicsV2WithMetaOrganicPRecall/2022/04/24/data/part-00046-14b4b6bd-df10-4f4b-a938-47ce459a36d4.npy.gz',\n",
       " '/apps/b_perso/hp/simplark/pretrainer/PersonalizedTopicsV2WithMetaOrganicPRecall/2022/04/24/data/part-00047-14b4b6bd-df10-4f4b-a938-47ce459a36d4.npy.gz',\n",
       " '/apps/b_perso/hp/simplark/pretrainer/PersonalizedTopicsV2WithMetaOrganicPRecall/2022/04/24/data/part-00048-14b4b6bd-df10-4f4b-a938-47ce459a36d4.npy.gz',\n",
       " '/apps/b_perso/hp/simplark/pretrainer/PersonalizedTopicsV2WithMetaOrganicPRecall/2022/04/24/data/part-00049-14b4b6bd-df10-4f4b-a938-47ce459a36d4.npy.gz',\n",
       " '/apps/b_perso/hp/simplark/pretrainer/PersonalizedTopicsV2WithMetaOrganicPRecall/2022/04/25/data/part-00000-08e6ea08-05e3-468b-80f6-f39089b9d40f.npy.gz',\n",
       " '/apps/b_perso/hp/simplark/pretrainer/PersonalizedTopicsV2WithMetaOrganicPRecall/2022/04/25/data/part-00001-08e6ea08-05e3-468b-80f6-f39089b9d40f.npy.gz',\n",
       " '/apps/b_perso/hp/simplark/pretrainer/PersonalizedTopicsV2WithMetaOrganicPRecall/2022/04/25/data/part-00002-08e6ea08-05e3-468b-80f6-f39089b9d40f.npy.gz',\n",
       " '/apps/b_perso/hp/simplark/pretrainer/PersonalizedTopicsV2WithMetaOrganicPRecall/2022/04/25/data/part-00003-08e6ea08-05e3-468b-80f6-f39089b9d40f.npy.gz',\n",
       " '/apps/b_perso/hp/simplark/pretrainer/PersonalizedTopicsV2WithMetaOrganicPRecall/2022/04/25/data/part-00004-08e6ea08-05e3-468b-80f6-f39089b9d40f.npy.gz',\n",
       " '/apps/b_perso/hp/simplark/pretrainer/PersonalizedTopicsV2WithMetaOrganicPRecall/2022/04/25/data/part-00005-08e6ea08-05e3-468b-80f6-f39089b9d40f.npy.gz',\n",
       " '/apps/b_perso/hp/simplark/pretrainer/PersonalizedTopicsV2WithMetaOrganicPRecall/2022/04/25/data/part-00006-08e6ea08-05e3-468b-80f6-f39089b9d40f.npy.gz',\n",
       " '/apps/b_perso/hp/simplark/pretrainer/PersonalizedTopicsV2WithMetaOrganicPRecall/2022/04/25/data/part-00007-08e6ea08-05e3-468b-80f6-f39089b9d40f.npy.gz',\n",
       " '/apps/b_perso/hp/simplark/pretrainer/PersonalizedTopicsV2WithMetaOrganicPRecall/2022/04/25/data/part-00008-08e6ea08-05e3-468b-80f6-f39089b9d40f.npy.gz',\n",
       " '/apps/b_perso/hp/simplark/pretrainer/PersonalizedTopicsV2WithMetaOrganicPRecall/2022/04/25/data/part-00009-08e6ea08-05e3-468b-80f6-f39089b9d40f.npy.gz',\n",
       " '/apps/b_perso/hp/simplark/pretrainer/PersonalizedTopicsV2WithMetaOrganicPRecall/2022/04/25/data/part-00010-08e6ea08-05e3-468b-80f6-f39089b9d40f.npy.gz',\n",
       " '/apps/b_perso/hp/simplark/pretrainer/PersonalizedTopicsV2WithMetaOrganicPRecall/2022/04/25/data/part-00011-08e6ea08-05e3-468b-80f6-f39089b9d40f.npy.gz',\n",
       " '/apps/b_perso/hp/simplark/pretrainer/PersonalizedTopicsV2WithMetaOrganicPRecall/2022/04/25/data/part-00012-08e6ea08-05e3-468b-80f6-f39089b9d40f.npy.gz',\n",
       " '/apps/b_perso/hp/simplark/pretrainer/PersonalizedTopicsV2WithMetaOrganicPRecall/2022/04/25/data/part-00013-08e6ea08-05e3-468b-80f6-f39089b9d40f.npy.gz',\n",
       " '/apps/b_perso/hp/simplark/pretrainer/PersonalizedTopicsV2WithMetaOrganicPRecall/2022/04/25/data/part-00014-08e6ea08-05e3-468b-80f6-f39089b9d40f.npy.gz',\n",
       " '/apps/b_perso/hp/simplark/pretrainer/PersonalizedTopicsV2WithMetaOrganicPRecall/2022/04/25/data/part-00015-08e6ea08-05e3-468b-80f6-f39089b9d40f.npy.gz',\n",
       " '/apps/b_perso/hp/simplark/pretrainer/PersonalizedTopicsV2WithMetaOrganicPRecall/2022/04/25/data/part-00016-08e6ea08-05e3-468b-80f6-f39089b9d40f.npy.gz',\n",
       " '/apps/b_perso/hp/simplark/pretrainer/PersonalizedTopicsV2WithMetaOrganicPRecall/2022/04/25/data/part-00017-08e6ea08-05e3-468b-80f6-f39089b9d40f.npy.gz',\n",
       " '/apps/b_perso/hp/simplark/pretrainer/PersonalizedTopicsV2WithMetaOrganicPRecall/2022/04/25/data/part-00018-08e6ea08-05e3-468b-80f6-f39089b9d40f.npy.gz',\n",
       " '/apps/b_perso/hp/simplark/pretrainer/PersonalizedTopicsV2WithMetaOrganicPRecall/2022/04/25/data/part-00019-08e6ea08-05e3-468b-80f6-f39089b9d40f.npy.gz',\n",
       " '/apps/b_perso/hp/simplark/pretrainer/PersonalizedTopicsV2WithMetaOrganicPRecall/2022/04/25/data/part-00020-08e6ea08-05e3-468b-80f6-f39089b9d40f.npy.gz',\n",
       " '/apps/b_perso/hp/simplark/pretrainer/PersonalizedTopicsV2WithMetaOrganicPRecall/2022/04/25/data/part-00021-08e6ea08-05e3-468b-80f6-f39089b9d40f.npy.gz',\n",
       " '/apps/b_perso/hp/simplark/pretrainer/PersonalizedTopicsV2WithMetaOrganicPRecall/2022/04/25/data/part-00022-08e6ea08-05e3-468b-80f6-f39089b9d40f.npy.gz',\n",
       " '/apps/b_perso/hp/simplark/pretrainer/PersonalizedTopicsV2WithMetaOrganicPRecall/2022/04/25/data/part-00023-08e6ea08-05e3-468b-80f6-f39089b9d40f.npy.gz',\n",
       " '/apps/b_perso/hp/simplark/pretrainer/PersonalizedTopicsV2WithMetaOrganicPRecall/2022/04/25/data/part-00024-08e6ea08-05e3-468b-80f6-f39089b9d40f.npy.gz',\n",
       " '/apps/b_perso/hp/simplark/pretrainer/PersonalizedTopicsV2WithMetaOrganicPRecall/2022/04/25/data/part-00025-08e6ea08-05e3-468b-80f6-f39089b9d40f.npy.gz',\n",
       " '/apps/b_perso/hp/simplark/pretrainer/PersonalizedTopicsV2WithMetaOrganicPRecall/2022/04/25/data/part-00026-08e6ea08-05e3-468b-80f6-f39089b9d40f.npy.gz',\n",
       " '/apps/b_perso/hp/simplark/pretrainer/PersonalizedTopicsV2WithMetaOrganicPRecall/2022/04/25/data/part-00027-08e6ea08-05e3-468b-80f6-f39089b9d40f.npy.gz',\n",
       " '/apps/b_perso/hp/simplark/pretrainer/PersonalizedTopicsV2WithMetaOrganicPRecall/2022/04/25/data/part-00028-08e6ea08-05e3-468b-80f6-f39089b9d40f.npy.gz',\n",
       " '/apps/b_perso/hp/simplark/pretrainer/PersonalizedTopicsV2WithMetaOrganicPRecall/2022/04/25/data/part-00029-08e6ea08-05e3-468b-80f6-f39089b9d40f.npy.gz',\n",
       " '/apps/b_perso/hp/simplark/pretrainer/PersonalizedTopicsV2WithMetaOrganicPRecall/2022/04/25/data/part-00030-08e6ea08-05e3-468b-80f6-f39089b9d40f.npy.gz',\n",
       " '/apps/b_perso/hp/simplark/pretrainer/PersonalizedTopicsV2WithMetaOrganicPRecall/2022/04/25/data/part-00031-08e6ea08-05e3-468b-80f6-f39089b9d40f.npy.gz',\n",
       " '/apps/b_perso/hp/simplark/pretrainer/PersonalizedTopicsV2WithMetaOrganicPRecall/2022/04/25/data/part-00032-08e6ea08-05e3-468b-80f6-f39089b9d40f.npy.gz',\n",
       " '/apps/b_perso/hp/simplark/pretrainer/PersonalizedTopicsV2WithMetaOrganicPRecall/2022/04/25/data/part-00033-08e6ea08-05e3-468b-80f6-f39089b9d40f.npy.gz',\n",
       " '/apps/b_perso/hp/simplark/pretrainer/PersonalizedTopicsV2WithMetaOrganicPRecall/2022/04/25/data/part-00034-08e6ea08-05e3-468b-80f6-f39089b9d40f.npy.gz',\n",
       " '/apps/b_perso/hp/simplark/pretrainer/PersonalizedTopicsV2WithMetaOrganicPRecall/2022/04/25/data/part-00035-08e6ea08-05e3-468b-80f6-f39089b9d40f.npy.gz',\n",
       " '/apps/b_perso/hp/simplark/pretrainer/PersonalizedTopicsV2WithMetaOrganicPRecall/2022/04/25/data/part-00036-08e6ea08-05e3-468b-80f6-f39089b9d40f.npy.gz',\n",
       " '/apps/b_perso/hp/simplark/pretrainer/PersonalizedTopicsV2WithMetaOrganicPRecall/2022/04/25/data/part-00037-08e6ea08-05e3-468b-80f6-f39089b9d40f.npy.gz',\n",
       " '/apps/b_perso/hp/simplark/pretrainer/PersonalizedTopicsV2WithMetaOrganicPRecall/2022/04/25/data/part-00038-08e6ea08-05e3-468b-80f6-f39089b9d40f.npy.gz',\n",
       " '/apps/b_perso/hp/simplark/pretrainer/PersonalizedTopicsV2WithMetaOrganicPRecall/2022/04/25/data/part-00039-08e6ea08-05e3-468b-80f6-f39089b9d40f.npy.gz',\n",
       " '/apps/b_perso/hp/simplark/pretrainer/PersonalizedTopicsV2WithMetaOrganicPRecall/2022/04/25/data/part-00040-08e6ea08-05e3-468b-80f6-f39089b9d40f.npy.gz',\n",
       " '/apps/b_perso/hp/simplark/pretrainer/PersonalizedTopicsV2WithMetaOrganicPRecall/2022/04/25/data/part-00041-08e6ea08-05e3-468b-80f6-f39089b9d40f.npy.gz',\n",
       " '/apps/b_perso/hp/simplark/pretrainer/PersonalizedTopicsV2WithMetaOrganicPRecall/2022/04/25/data/part-00042-08e6ea08-05e3-468b-80f6-f39089b9d40f.npy.gz',\n",
       " '/apps/b_perso/hp/simplark/pretrainer/PersonalizedTopicsV2WithMetaOrganicPRecall/2022/04/25/data/part-00043-08e6ea08-05e3-468b-80f6-f39089b9d40f.npy.gz',\n",
       " '/apps/b_perso/hp/simplark/pretrainer/PersonalizedTopicsV2WithMetaOrganicPRecall/2022/04/25/data/part-00044-08e6ea08-05e3-468b-80f6-f39089b9d40f.npy.gz',\n",
       " '/apps/b_perso/hp/simplark/pretrainer/PersonalizedTopicsV2WithMetaOrganicPRecall/2022/04/25/data/part-00045-08e6ea08-05e3-468b-80f6-f39089b9d40f.npy.gz',\n",
       " '/apps/b_perso/hp/simplark/pretrainer/PersonalizedTopicsV2WithMetaOrganicPRecall/2022/04/25/data/part-00046-08e6ea08-05e3-468b-80f6-f39089b9d40f.npy.gz',\n",
       " '/apps/b_perso/hp/simplark/pretrainer/PersonalizedTopicsV2WithMetaOrganicPRecall/2022/04/25/data/part-00047-08e6ea08-05e3-468b-80f6-f39089b9d40f.npy.gz',\n",
       " '/apps/b_perso/hp/simplark/pretrainer/PersonalizedTopicsV2WithMetaOrganicPRecall/2022/04/25/data/part-00048-08e6ea08-05e3-468b-80f6-f39089b9d40f.npy.gz',\n",
       " '/apps/b_perso/hp/simplark/pretrainer/PersonalizedTopicsV2WithMetaOrganicPRecall/2022/04/25/data/part-00049-08e6ea08-05e3-468b-80f6-f39089b9d40f.npy.gz',\n",
       " '/apps/b_perso/hp/simplark/pretrainer/PersonalizedTopicsV2WithMetaOrganicPRecall/2022/04/26/data/part-00000-c2a5df18-ca49-4b0c-8f7a-38a6f4a4eaa9.npy.gz',\n",
       " '/apps/b_perso/hp/simplark/pretrainer/PersonalizedTopicsV2WithMetaOrganicPRecall/2022/04/26/data/part-00001-c2a5df18-ca49-4b0c-8f7a-38a6f4a4eaa9.npy.gz',\n",
       " '/apps/b_perso/hp/simplark/pretrainer/PersonalizedTopicsV2WithMetaOrganicPRecall/2022/04/26/data/part-00002-c2a5df18-ca49-4b0c-8f7a-38a6f4a4eaa9.npy.gz',\n",
       " '/apps/b_perso/hp/simplark/pretrainer/PersonalizedTopicsV2WithMetaOrganicPRecall/2022/04/26/data/part-00003-c2a5df18-ca49-4b0c-8f7a-38a6f4a4eaa9.npy.gz',\n",
       " '/apps/b_perso/hp/simplark/pretrainer/PersonalizedTopicsV2WithMetaOrganicPRecall/2022/04/26/data/part-00004-c2a5df18-ca49-4b0c-8f7a-38a6f4a4eaa9.npy.gz',\n",
       " '/apps/b_perso/hp/simplark/pretrainer/PersonalizedTopicsV2WithMetaOrganicPRecall/2022/04/26/data/part-00005-c2a5df18-ca49-4b0c-8f7a-38a6f4a4eaa9.npy.gz',\n",
       " '/apps/b_perso/hp/simplark/pretrainer/PersonalizedTopicsV2WithMetaOrganicPRecall/2022/04/26/data/part-00006-c2a5df18-ca49-4b0c-8f7a-38a6f4a4eaa9.npy.gz',\n",
       " '/apps/b_perso/hp/simplark/pretrainer/PersonalizedTopicsV2WithMetaOrganicPRecall/2022/04/26/data/part-00007-c2a5df18-ca49-4b0c-8f7a-38a6f4a4eaa9.npy.gz',\n",
       " '/apps/b_perso/hp/simplark/pretrainer/PersonalizedTopicsV2WithMetaOrganicPRecall/2022/04/26/data/part-00008-c2a5df18-ca49-4b0c-8f7a-38a6f4a4eaa9.npy.gz',\n",
       " '/apps/b_perso/hp/simplark/pretrainer/PersonalizedTopicsV2WithMetaOrganicPRecall/2022/04/26/data/part-00009-c2a5df18-ca49-4b0c-8f7a-38a6f4a4eaa9.npy.gz',\n",
       " '/apps/b_perso/hp/simplark/pretrainer/PersonalizedTopicsV2WithMetaOrganicPRecall/2022/04/26/data/part-00010-c2a5df18-ca49-4b0c-8f7a-38a6f4a4eaa9.npy.gz',\n",
       " '/apps/b_perso/hp/simplark/pretrainer/PersonalizedTopicsV2WithMetaOrganicPRecall/2022/04/26/data/part-00011-c2a5df18-ca49-4b0c-8f7a-38a6f4a4eaa9.npy.gz',\n",
       " '/apps/b_perso/hp/simplark/pretrainer/PersonalizedTopicsV2WithMetaOrganicPRecall/2022/04/26/data/part-00012-c2a5df18-ca49-4b0c-8f7a-38a6f4a4eaa9.npy.gz',\n",
       " '/apps/b_perso/hp/simplark/pretrainer/PersonalizedTopicsV2WithMetaOrganicPRecall/2022/04/26/data/part-00013-c2a5df18-ca49-4b0c-8f7a-38a6f4a4eaa9.npy.gz',\n",
       " '/apps/b_perso/hp/simplark/pretrainer/PersonalizedTopicsV2WithMetaOrganicPRecall/2022/04/26/data/part-00014-c2a5df18-ca49-4b0c-8f7a-38a6f4a4eaa9.npy.gz',\n",
       " '/apps/b_perso/hp/simplark/pretrainer/PersonalizedTopicsV2WithMetaOrganicPRecall/2022/04/26/data/part-00015-c2a5df18-ca49-4b0c-8f7a-38a6f4a4eaa9.npy.gz',\n",
       " '/apps/b_perso/hp/simplark/pretrainer/PersonalizedTopicsV2WithMetaOrganicPRecall/2022/04/26/data/part-00016-c2a5df18-ca49-4b0c-8f7a-38a6f4a4eaa9.npy.gz',\n",
       " '/apps/b_perso/hp/simplark/pretrainer/PersonalizedTopicsV2WithMetaOrganicPRecall/2022/04/26/data/part-00017-c2a5df18-ca49-4b0c-8f7a-38a6f4a4eaa9.npy.gz',\n",
       " '/apps/b_perso/hp/simplark/pretrainer/PersonalizedTopicsV2WithMetaOrganicPRecall/2022/04/26/data/part-00018-c2a5df18-ca49-4b0c-8f7a-38a6f4a4eaa9.npy.gz',\n",
       " '/apps/b_perso/hp/simplark/pretrainer/PersonalizedTopicsV2WithMetaOrganicPRecall/2022/04/26/data/part-00019-c2a5df18-ca49-4b0c-8f7a-38a6f4a4eaa9.npy.gz',\n",
       " '/apps/b_perso/hp/simplark/pretrainer/PersonalizedTopicsV2WithMetaOrganicPRecall/2022/04/26/data/part-00020-c2a5df18-ca49-4b0c-8f7a-38a6f4a4eaa9.npy.gz',\n",
       " '/apps/b_perso/hp/simplark/pretrainer/PersonalizedTopicsV2WithMetaOrganicPRecall/2022/04/26/data/part-00021-c2a5df18-ca49-4b0c-8f7a-38a6f4a4eaa9.npy.gz',\n",
       " '/apps/b_perso/hp/simplark/pretrainer/PersonalizedTopicsV2WithMetaOrganicPRecall/2022/04/26/data/part-00022-c2a5df18-ca49-4b0c-8f7a-38a6f4a4eaa9.npy.gz',\n",
       " '/apps/b_perso/hp/simplark/pretrainer/PersonalizedTopicsV2WithMetaOrganicPRecall/2022/04/26/data/part-00023-c2a5df18-ca49-4b0c-8f7a-38a6f4a4eaa9.npy.gz',\n",
       " '/apps/b_perso/hp/simplark/pretrainer/PersonalizedTopicsV2WithMetaOrganicPRecall/2022/04/26/data/part-00024-c2a5df18-ca49-4b0c-8f7a-38a6f4a4eaa9.npy.gz',\n",
       " '/apps/b_perso/hp/simplark/pretrainer/PersonalizedTopicsV2WithMetaOrganicPRecall/2022/04/26/data/part-00025-c2a5df18-ca49-4b0c-8f7a-38a6f4a4eaa9.npy.gz',\n",
       " '/apps/b_perso/hp/simplark/pretrainer/PersonalizedTopicsV2WithMetaOrganicPRecall/2022/04/26/data/part-00026-c2a5df18-ca49-4b0c-8f7a-38a6f4a4eaa9.npy.gz',\n",
       " '/apps/b_perso/hp/simplark/pretrainer/PersonalizedTopicsV2WithMetaOrganicPRecall/2022/04/26/data/part-00027-c2a5df18-ca49-4b0c-8f7a-38a6f4a4eaa9.npy.gz',\n",
       " '/apps/b_perso/hp/simplark/pretrainer/PersonalizedTopicsV2WithMetaOrganicPRecall/2022/04/26/data/part-00028-c2a5df18-ca49-4b0c-8f7a-38a6f4a4eaa9.npy.gz',\n",
       " '/apps/b_perso/hp/simplark/pretrainer/PersonalizedTopicsV2WithMetaOrganicPRecall/2022/04/26/data/part-00029-c2a5df18-ca49-4b0c-8f7a-38a6f4a4eaa9.npy.gz',\n",
       " '/apps/b_perso/hp/simplark/pretrainer/PersonalizedTopicsV2WithMetaOrganicPRecall/2022/04/26/data/part-00030-c2a5df18-ca49-4b0c-8f7a-38a6f4a4eaa9.npy.gz',\n",
       " '/apps/b_perso/hp/simplark/pretrainer/PersonalizedTopicsV2WithMetaOrganicPRecall/2022/04/26/data/part-00031-c2a5df18-ca49-4b0c-8f7a-38a6f4a4eaa9.npy.gz',\n",
       " '/apps/b_perso/hp/simplark/pretrainer/PersonalizedTopicsV2WithMetaOrganicPRecall/2022/04/26/data/part-00032-c2a5df18-ca49-4b0c-8f7a-38a6f4a4eaa9.npy.gz',\n",
       " '/apps/b_perso/hp/simplark/pretrainer/PersonalizedTopicsV2WithMetaOrganicPRecall/2022/04/26/data/part-00033-c2a5df18-ca49-4b0c-8f7a-38a6f4a4eaa9.npy.gz',\n",
       " '/apps/b_perso/hp/simplark/pretrainer/PersonalizedTopicsV2WithMetaOrganicPRecall/2022/04/26/data/part-00034-c2a5df18-ca49-4b0c-8f7a-38a6f4a4eaa9.npy.gz',\n",
       " '/apps/b_perso/hp/simplark/pretrainer/PersonalizedTopicsV2WithMetaOrganicPRecall/2022/04/26/data/part-00035-c2a5df18-ca49-4b0c-8f7a-38a6f4a4eaa9.npy.gz',\n",
       " '/apps/b_perso/hp/simplark/pretrainer/PersonalizedTopicsV2WithMetaOrganicPRecall/2022/04/26/data/part-00036-c2a5df18-ca49-4b0c-8f7a-38a6f4a4eaa9.npy.gz',\n",
       " '/apps/b_perso/hp/simplark/pretrainer/PersonalizedTopicsV2WithMetaOrganicPRecall/2022/04/26/data/part-00037-c2a5df18-ca49-4b0c-8f7a-38a6f4a4eaa9.npy.gz',\n",
       " '/apps/b_perso/hp/simplark/pretrainer/PersonalizedTopicsV2WithMetaOrganicPRecall/2022/04/26/data/part-00038-c2a5df18-ca49-4b0c-8f7a-38a6f4a4eaa9.npy.gz',\n",
       " '/apps/b_perso/hp/simplark/pretrainer/PersonalizedTopicsV2WithMetaOrganicPRecall/2022/04/26/data/part-00039-c2a5df18-ca49-4b0c-8f7a-38a6f4a4eaa9.npy.gz',\n",
       " '/apps/b_perso/hp/simplark/pretrainer/PersonalizedTopicsV2WithMetaOrganicPRecall/2022/04/26/data/part-00040-c2a5df18-ca49-4b0c-8f7a-38a6f4a4eaa9.npy.gz',\n",
       " '/apps/b_perso/hp/simplark/pretrainer/PersonalizedTopicsV2WithMetaOrganicPRecall/2022/04/26/data/part-00041-c2a5df18-ca49-4b0c-8f7a-38a6f4a4eaa9.npy.gz',\n",
       " '/apps/b_perso/hp/simplark/pretrainer/PersonalizedTopicsV2WithMetaOrganicPRecall/2022/04/26/data/part-00042-c2a5df18-ca49-4b0c-8f7a-38a6f4a4eaa9.npy.gz',\n",
       " '/apps/b_perso/hp/simplark/pretrainer/PersonalizedTopicsV2WithMetaOrganicPRecall/2022/04/26/data/part-00043-c2a5df18-ca49-4b0c-8f7a-38a6f4a4eaa9.npy.gz',\n",
       " '/apps/b_perso/hp/simplark/pretrainer/PersonalizedTopicsV2WithMetaOrganicPRecall/2022/04/26/data/part-00044-c2a5df18-ca49-4b0c-8f7a-38a6f4a4eaa9.npy.gz',\n",
       " '/apps/b_perso/hp/simplark/pretrainer/PersonalizedTopicsV2WithMetaOrganicPRecall/2022/04/26/data/part-00045-c2a5df18-ca49-4b0c-8f7a-38a6f4a4eaa9.npy.gz',\n",
       " '/apps/b_perso/hp/simplark/pretrainer/PersonalizedTopicsV2WithMetaOrganicPRecall/2022/04/26/data/part-00046-c2a5df18-ca49-4b0c-8f7a-38a6f4a4eaa9.npy.gz',\n",
       " '/apps/b_perso/hp/simplark/pretrainer/PersonalizedTopicsV2WithMetaOrganicPRecall/2022/04/26/data/part-00047-c2a5df18-ca49-4b0c-8f7a-38a6f4a4eaa9.npy.gz',\n",
       " '/apps/b_perso/hp/simplark/pretrainer/PersonalizedTopicsV2WithMetaOrganicPRecall/2022/04/26/data/part-00048-c2a5df18-ca49-4b0c-8f7a-38a6f4a4eaa9.npy.gz',\n",
       " '/apps/b_perso/hp/simplark/pretrainer/PersonalizedTopicsV2WithMetaOrganicPRecall/2022/04/26/data/part-00049-c2a5df18-ca49-4b0c-8f7a-38a6f4a4eaa9.npy.gz',\n",
       " '/apps/b_perso/hp/simplark/pretrainer/PersonalizedTopicsV2WithMetaOrganicPRecall/2022/04/27/data/part-00000-c0003e75-8ecc-47f3-b6c1-efbbe405136e.npy.gz',\n",
       " '/apps/b_perso/hp/simplark/pretrainer/PersonalizedTopicsV2WithMetaOrganicPRecall/2022/04/27/data/part-00001-c0003e75-8ecc-47f3-b6c1-efbbe405136e.npy.gz',\n",
       " '/apps/b_perso/hp/simplark/pretrainer/PersonalizedTopicsV2WithMetaOrganicPRecall/2022/04/27/data/part-00002-c0003e75-8ecc-47f3-b6c1-efbbe405136e.npy.gz',\n",
       " '/apps/b_perso/hp/simplark/pretrainer/PersonalizedTopicsV2WithMetaOrganicPRecall/2022/04/27/data/part-00003-c0003e75-8ecc-47f3-b6c1-efbbe405136e.npy.gz',\n",
       " '/apps/b_perso/hp/simplark/pretrainer/PersonalizedTopicsV2WithMetaOrganicPRecall/2022/04/27/data/part-00004-c0003e75-8ecc-47f3-b6c1-efbbe405136e.npy.gz',\n",
       " '/apps/b_perso/hp/simplark/pretrainer/PersonalizedTopicsV2WithMetaOrganicPRecall/2022/04/27/data/part-00005-c0003e75-8ecc-47f3-b6c1-efbbe405136e.npy.gz',\n",
       " '/apps/b_perso/hp/simplark/pretrainer/PersonalizedTopicsV2WithMetaOrganicPRecall/2022/04/27/data/part-00006-c0003e75-8ecc-47f3-b6c1-efbbe405136e.npy.gz',\n",
       " '/apps/b_perso/hp/simplark/pretrainer/PersonalizedTopicsV2WithMetaOrganicPRecall/2022/04/27/data/part-00007-c0003e75-8ecc-47f3-b6c1-efbbe405136e.npy.gz',\n",
       " '/apps/b_perso/hp/simplark/pretrainer/PersonalizedTopicsV2WithMetaOrganicPRecall/2022/04/27/data/part-00008-c0003e75-8ecc-47f3-b6c1-efbbe405136e.npy.gz',\n",
       " '/apps/b_perso/hp/simplark/pretrainer/PersonalizedTopicsV2WithMetaOrganicPRecall/2022/04/27/data/part-00009-c0003e75-8ecc-47f3-b6c1-efbbe405136e.npy.gz',\n",
       " '/apps/b_perso/hp/simplark/pretrainer/PersonalizedTopicsV2WithMetaOrganicPRecall/2022/04/27/data/part-00010-c0003e75-8ecc-47f3-b6c1-efbbe405136e.npy.gz',\n",
       " '/apps/b_perso/hp/simplark/pretrainer/PersonalizedTopicsV2WithMetaOrganicPRecall/2022/04/27/data/part-00011-c0003e75-8ecc-47f3-b6c1-efbbe405136e.npy.gz',\n",
       " '/apps/b_perso/hp/simplark/pretrainer/PersonalizedTopicsV2WithMetaOrganicPRecall/2022/04/27/data/part-00012-c0003e75-8ecc-47f3-b6c1-efbbe405136e.npy.gz',\n",
       " '/apps/b_perso/hp/simplark/pretrainer/PersonalizedTopicsV2WithMetaOrganicPRecall/2022/04/27/data/part-00013-c0003e75-8ecc-47f3-b6c1-efbbe405136e.npy.gz',\n",
       " '/apps/b_perso/hp/simplark/pretrainer/PersonalizedTopicsV2WithMetaOrganicPRecall/2022/04/27/data/part-00014-c0003e75-8ecc-47f3-b6c1-efbbe405136e.npy.gz',\n",
       " '/apps/b_perso/hp/simplark/pretrainer/PersonalizedTopicsV2WithMetaOrganicPRecall/2022/04/27/data/part-00015-c0003e75-8ecc-47f3-b6c1-efbbe405136e.npy.gz',\n",
       " '/apps/b_perso/hp/simplark/pretrainer/PersonalizedTopicsV2WithMetaOrganicPRecall/2022/04/27/data/part-00016-c0003e75-8ecc-47f3-b6c1-efbbe405136e.npy.gz',\n",
       " '/apps/b_perso/hp/simplark/pretrainer/PersonalizedTopicsV2WithMetaOrganicPRecall/2022/04/27/data/part-00017-c0003e75-8ecc-47f3-b6c1-efbbe405136e.npy.gz',\n",
       " '/apps/b_perso/hp/simplark/pretrainer/PersonalizedTopicsV2WithMetaOrganicPRecall/2022/04/27/data/part-00018-c0003e75-8ecc-47f3-b6c1-efbbe405136e.npy.gz',\n",
       " '/apps/b_perso/hp/simplark/pretrainer/PersonalizedTopicsV2WithMetaOrganicPRecall/2022/04/27/data/part-00019-c0003e75-8ecc-47f3-b6c1-efbbe405136e.npy.gz',\n",
       " '/apps/b_perso/hp/simplark/pretrainer/PersonalizedTopicsV2WithMetaOrganicPRecall/2022/04/27/data/part-00020-c0003e75-8ecc-47f3-b6c1-efbbe405136e.npy.gz',\n",
       " '/apps/b_perso/hp/simplark/pretrainer/PersonalizedTopicsV2WithMetaOrganicPRecall/2022/04/27/data/part-00021-c0003e75-8ecc-47f3-b6c1-efbbe405136e.npy.gz',\n",
       " '/apps/b_perso/hp/simplark/pretrainer/PersonalizedTopicsV2WithMetaOrganicPRecall/2022/04/27/data/part-00022-c0003e75-8ecc-47f3-b6c1-efbbe405136e.npy.gz',\n",
       " '/apps/b_perso/hp/simplark/pretrainer/PersonalizedTopicsV2WithMetaOrganicPRecall/2022/04/27/data/part-00023-c0003e75-8ecc-47f3-b6c1-efbbe405136e.npy.gz',\n",
       " '/apps/b_perso/hp/simplark/pretrainer/PersonalizedTopicsV2WithMetaOrganicPRecall/2022/04/27/data/part-00024-c0003e75-8ecc-47f3-b6c1-efbbe405136e.npy.gz',\n",
       " '/apps/b_perso/hp/simplark/pretrainer/PersonalizedTopicsV2WithMetaOrganicPRecall/2022/04/27/data/part-00025-c0003e75-8ecc-47f3-b6c1-efbbe405136e.npy.gz',\n",
       " '/apps/b_perso/hp/simplark/pretrainer/PersonalizedTopicsV2WithMetaOrganicPRecall/2022/04/27/data/part-00026-c0003e75-8ecc-47f3-b6c1-efbbe405136e.npy.gz',\n",
       " '/apps/b_perso/hp/simplark/pretrainer/PersonalizedTopicsV2WithMetaOrganicPRecall/2022/04/27/data/part-00027-c0003e75-8ecc-47f3-b6c1-efbbe405136e.npy.gz',\n",
       " '/apps/b_perso/hp/simplark/pretrainer/PersonalizedTopicsV2WithMetaOrganicPRecall/2022/04/27/data/part-00028-c0003e75-8ecc-47f3-b6c1-efbbe405136e.npy.gz',\n",
       " '/apps/b_perso/hp/simplark/pretrainer/PersonalizedTopicsV2WithMetaOrganicPRecall/2022/04/27/data/part-00029-c0003e75-8ecc-47f3-b6c1-efbbe405136e.npy.gz',\n",
       " '/apps/b_perso/hp/simplark/pretrainer/PersonalizedTopicsV2WithMetaOrganicPRecall/2022/04/27/data/part-00030-c0003e75-8ecc-47f3-b6c1-efbbe405136e.npy.gz',\n",
       " '/apps/b_perso/hp/simplark/pretrainer/PersonalizedTopicsV2WithMetaOrganicPRecall/2022/04/27/data/part-00031-c0003e75-8ecc-47f3-b6c1-efbbe405136e.npy.gz',\n",
       " '/apps/b_perso/hp/simplark/pretrainer/PersonalizedTopicsV2WithMetaOrganicPRecall/2022/04/27/data/part-00032-c0003e75-8ecc-47f3-b6c1-efbbe405136e.npy.gz',\n",
       " '/apps/b_perso/hp/simplark/pretrainer/PersonalizedTopicsV2WithMetaOrganicPRecall/2022/04/27/data/part-00033-c0003e75-8ecc-47f3-b6c1-efbbe405136e.npy.gz',\n",
       " '/apps/b_perso/hp/simplark/pretrainer/PersonalizedTopicsV2WithMetaOrganicPRecall/2022/04/27/data/part-00034-c0003e75-8ecc-47f3-b6c1-efbbe405136e.npy.gz',\n",
       " '/apps/b_perso/hp/simplark/pretrainer/PersonalizedTopicsV2WithMetaOrganicPRecall/2022/04/27/data/part-00035-c0003e75-8ecc-47f3-b6c1-efbbe405136e.npy.gz',\n",
       " '/apps/b_perso/hp/simplark/pretrainer/PersonalizedTopicsV2WithMetaOrganicPRecall/2022/04/27/data/part-00036-c0003e75-8ecc-47f3-b6c1-efbbe405136e.npy.gz',\n",
       " '/apps/b_perso/hp/simplark/pretrainer/PersonalizedTopicsV2WithMetaOrganicPRecall/2022/04/27/data/part-00037-c0003e75-8ecc-47f3-b6c1-efbbe405136e.npy.gz',\n",
       " '/apps/b_perso/hp/simplark/pretrainer/PersonalizedTopicsV2WithMetaOrganicPRecall/2022/04/27/data/part-00038-c0003e75-8ecc-47f3-b6c1-efbbe405136e.npy.gz',\n",
       " '/apps/b_perso/hp/simplark/pretrainer/PersonalizedTopicsV2WithMetaOrganicPRecall/2022/04/27/data/part-00039-c0003e75-8ecc-47f3-b6c1-efbbe405136e.npy.gz',\n",
       " '/apps/b_perso/hp/simplark/pretrainer/PersonalizedTopicsV2WithMetaOrganicPRecall/2022/04/27/data/part-00040-c0003e75-8ecc-47f3-b6c1-efbbe405136e.npy.gz',\n",
       " '/apps/b_perso/hp/simplark/pretrainer/PersonalizedTopicsV2WithMetaOrganicPRecall/2022/04/27/data/part-00041-c0003e75-8ecc-47f3-b6c1-efbbe405136e.npy.gz',\n",
       " '/apps/b_perso/hp/simplark/pretrainer/PersonalizedTopicsV2WithMetaOrganicPRecall/2022/04/27/data/part-00042-c0003e75-8ecc-47f3-b6c1-efbbe405136e.npy.gz',\n",
       " '/apps/b_perso/hp/simplark/pretrainer/PersonalizedTopicsV2WithMetaOrganicPRecall/2022/04/27/data/part-00043-c0003e75-8ecc-47f3-b6c1-efbbe405136e.npy.gz',\n",
       " '/apps/b_perso/hp/simplark/pretrainer/PersonalizedTopicsV2WithMetaOrganicPRecall/2022/04/27/data/part-00044-c0003e75-8ecc-47f3-b6c1-efbbe405136e.npy.gz',\n",
       " '/apps/b_perso/hp/simplark/pretrainer/PersonalizedTopicsV2WithMetaOrganicPRecall/2022/04/27/data/part-00045-c0003e75-8ecc-47f3-b6c1-efbbe405136e.npy.gz',\n",
       " '/apps/b_perso/hp/simplark/pretrainer/PersonalizedTopicsV2WithMetaOrganicPRecall/2022/04/27/data/part-00046-c0003e75-8ecc-47f3-b6c1-efbbe405136e.npy.gz',\n",
       " '/apps/b_perso/hp/simplark/pretrainer/PersonalizedTopicsV2WithMetaOrganicPRecall/2022/04/27/data/part-00047-c0003e75-8ecc-47f3-b6c1-efbbe405136e.npy.gz',\n",
       " '/apps/b_perso/hp/simplark/pretrainer/PersonalizedTopicsV2WithMetaOrganicPRecall/2022/04/27/data/part-00048-c0003e75-8ecc-47f3-b6c1-efbbe405136e.npy.gz',\n",
       " '/apps/b_perso/hp/simplark/pretrainer/PersonalizedTopicsV2WithMetaOrganicPRecall/2022/04/27/data/part-00049-c0003e75-8ecc-47f3-b6c1-efbbe405136e.npy.gz',\n",
       " '/apps/b_perso/hp/simplark/pretrainer/PersonalizedTopicsV2WithMetaOrganicPRecall/2022/04/28/data/part-00000-88edc129-203b-4183-aa17-d6ba62999e83.npy.gz',\n",
       " '/apps/b_perso/hp/simplark/pretrainer/PersonalizedTopicsV2WithMetaOrganicPRecall/2022/04/28/data/part-00001-88edc129-203b-4183-aa17-d6ba62999e83.npy.gz',\n",
       " '/apps/b_perso/hp/simplark/pretrainer/PersonalizedTopicsV2WithMetaOrganicPRecall/2022/04/28/data/part-00002-88edc129-203b-4183-aa17-d6ba62999e83.npy.gz',\n",
       " '/apps/b_perso/hp/simplark/pretrainer/PersonalizedTopicsV2WithMetaOrganicPRecall/2022/04/28/data/part-00003-88edc129-203b-4183-aa17-d6ba62999e83.npy.gz',\n",
       " '/apps/b_perso/hp/simplark/pretrainer/PersonalizedTopicsV2WithMetaOrganicPRecall/2022/04/28/data/part-00004-88edc129-203b-4183-aa17-d6ba62999e83.npy.gz',\n",
       " '/apps/b_perso/hp/simplark/pretrainer/PersonalizedTopicsV2WithMetaOrganicPRecall/2022/04/28/data/part-00005-88edc129-203b-4183-aa17-d6ba62999e83.npy.gz',\n",
       " '/apps/b_perso/hp/simplark/pretrainer/PersonalizedTopicsV2WithMetaOrganicPRecall/2022/04/28/data/part-00006-88edc129-203b-4183-aa17-d6ba62999e83.npy.gz',\n",
       " '/apps/b_perso/hp/simplark/pretrainer/PersonalizedTopicsV2WithMetaOrganicPRecall/2022/04/28/data/part-00007-88edc129-203b-4183-aa17-d6ba62999e83.npy.gz',\n",
       " '/apps/b_perso/hp/simplark/pretrainer/PersonalizedTopicsV2WithMetaOrganicPRecall/2022/04/28/data/part-00008-88edc129-203b-4183-aa17-d6ba62999e83.npy.gz',\n",
       " '/apps/b_perso/hp/simplark/pretrainer/PersonalizedTopicsV2WithMetaOrganicPRecall/2022/04/28/data/part-00009-88edc129-203b-4183-aa17-d6ba62999e83.npy.gz',\n",
       " '/apps/b_perso/hp/simplark/pretrainer/PersonalizedTopicsV2WithMetaOrganicPRecall/2022/04/28/data/part-00010-88edc129-203b-4183-aa17-d6ba62999e83.npy.gz',\n",
       " '/apps/b_perso/hp/simplark/pretrainer/PersonalizedTopicsV2WithMetaOrganicPRecall/2022/04/28/data/part-00011-88edc129-203b-4183-aa17-d6ba62999e83.npy.gz',\n",
       " '/apps/b_perso/hp/simplark/pretrainer/PersonalizedTopicsV2WithMetaOrganicPRecall/2022/04/28/data/part-00012-88edc129-203b-4183-aa17-d6ba62999e83.npy.gz',\n",
       " '/apps/b_perso/hp/simplark/pretrainer/PersonalizedTopicsV2WithMetaOrganicPRecall/2022/04/28/data/part-00013-88edc129-203b-4183-aa17-d6ba62999e83.npy.gz',\n",
       " '/apps/b_perso/hp/simplark/pretrainer/PersonalizedTopicsV2WithMetaOrganicPRecall/2022/04/28/data/part-00014-88edc129-203b-4183-aa17-d6ba62999e83.npy.gz',\n",
       " '/apps/b_perso/hp/simplark/pretrainer/PersonalizedTopicsV2WithMetaOrganicPRecall/2022/04/28/data/part-00015-88edc129-203b-4183-aa17-d6ba62999e83.npy.gz',\n",
       " '/apps/b_perso/hp/simplark/pretrainer/PersonalizedTopicsV2WithMetaOrganicPRecall/2022/04/28/data/part-00016-88edc129-203b-4183-aa17-d6ba62999e83.npy.gz',\n",
       " '/apps/b_perso/hp/simplark/pretrainer/PersonalizedTopicsV2WithMetaOrganicPRecall/2022/04/28/data/part-00017-88edc129-203b-4183-aa17-d6ba62999e83.npy.gz',\n",
       " '/apps/b_perso/hp/simplark/pretrainer/PersonalizedTopicsV2WithMetaOrganicPRecall/2022/04/28/data/part-00018-88edc129-203b-4183-aa17-d6ba62999e83.npy.gz',\n",
       " '/apps/b_perso/hp/simplark/pretrainer/PersonalizedTopicsV2WithMetaOrganicPRecall/2022/04/28/data/part-00019-88edc129-203b-4183-aa17-d6ba62999e83.npy.gz',\n",
       " '/apps/b_perso/hp/simplark/pretrainer/PersonalizedTopicsV2WithMetaOrganicPRecall/2022/04/28/data/part-00020-88edc129-203b-4183-aa17-d6ba62999e83.npy.gz',\n",
       " '/apps/b_perso/hp/simplark/pretrainer/PersonalizedTopicsV2WithMetaOrganicPRecall/2022/04/28/data/part-00021-88edc129-203b-4183-aa17-d6ba62999e83.npy.gz',\n",
       " '/apps/b_perso/hp/simplark/pretrainer/PersonalizedTopicsV2WithMetaOrganicPRecall/2022/04/28/data/part-00022-88edc129-203b-4183-aa17-d6ba62999e83.npy.gz',\n",
       " '/apps/b_perso/hp/simplark/pretrainer/PersonalizedTopicsV2WithMetaOrganicPRecall/2022/04/28/data/part-00023-88edc129-203b-4183-aa17-d6ba62999e83.npy.gz',\n",
       " '/apps/b_perso/hp/simplark/pretrainer/PersonalizedTopicsV2WithMetaOrganicPRecall/2022/04/28/data/part-00024-88edc129-203b-4183-aa17-d6ba62999e83.npy.gz',\n",
       " '/apps/b_perso/hp/simplark/pretrainer/PersonalizedTopicsV2WithMetaOrganicPRecall/2022/04/28/data/part-00025-88edc129-203b-4183-aa17-d6ba62999e83.npy.gz',\n",
       " '/apps/b_perso/hp/simplark/pretrainer/PersonalizedTopicsV2WithMetaOrganicPRecall/2022/04/28/data/part-00026-88edc129-203b-4183-aa17-d6ba62999e83.npy.gz',\n",
       " '/apps/b_perso/hp/simplark/pretrainer/PersonalizedTopicsV2WithMetaOrganicPRecall/2022/04/28/data/part-00027-88edc129-203b-4183-aa17-d6ba62999e83.npy.gz',\n",
       " '/apps/b_perso/hp/simplark/pretrainer/PersonalizedTopicsV2WithMetaOrganicPRecall/2022/04/28/data/part-00028-88edc129-203b-4183-aa17-d6ba62999e83.npy.gz',\n",
       " '/apps/b_perso/hp/simplark/pretrainer/PersonalizedTopicsV2WithMetaOrganicPRecall/2022/04/28/data/part-00029-88edc129-203b-4183-aa17-d6ba62999e83.npy.gz',\n",
       " '/apps/b_perso/hp/simplark/pretrainer/PersonalizedTopicsV2WithMetaOrganicPRecall/2022/04/28/data/part-00030-88edc129-203b-4183-aa17-d6ba62999e83.npy.gz',\n",
       " '/apps/b_perso/hp/simplark/pretrainer/PersonalizedTopicsV2WithMetaOrganicPRecall/2022/04/28/data/part-00031-88edc129-203b-4183-aa17-d6ba62999e83.npy.gz',\n",
       " '/apps/b_perso/hp/simplark/pretrainer/PersonalizedTopicsV2WithMetaOrganicPRecall/2022/04/28/data/part-00032-88edc129-203b-4183-aa17-d6ba62999e83.npy.gz',\n",
       " '/apps/b_perso/hp/simplark/pretrainer/PersonalizedTopicsV2WithMetaOrganicPRecall/2022/04/28/data/part-00033-88edc129-203b-4183-aa17-d6ba62999e83.npy.gz',\n",
       " '/apps/b_perso/hp/simplark/pretrainer/PersonalizedTopicsV2WithMetaOrganicPRecall/2022/04/28/data/part-00034-88edc129-203b-4183-aa17-d6ba62999e83.npy.gz',\n",
       " '/apps/b_perso/hp/simplark/pretrainer/PersonalizedTopicsV2WithMetaOrganicPRecall/2022/04/28/data/part-00035-88edc129-203b-4183-aa17-d6ba62999e83.npy.gz',\n",
       " '/apps/b_perso/hp/simplark/pretrainer/PersonalizedTopicsV2WithMetaOrganicPRecall/2022/04/28/data/part-00036-88edc129-203b-4183-aa17-d6ba62999e83.npy.gz',\n",
       " '/apps/b_perso/hp/simplark/pretrainer/PersonalizedTopicsV2WithMetaOrganicPRecall/2022/04/28/data/part-00037-88edc129-203b-4183-aa17-d6ba62999e83.npy.gz',\n",
       " '/apps/b_perso/hp/simplark/pretrainer/PersonalizedTopicsV2WithMetaOrganicPRecall/2022/04/28/data/part-00038-88edc129-203b-4183-aa17-d6ba62999e83.npy.gz',\n",
       " '/apps/b_perso/hp/simplark/pretrainer/PersonalizedTopicsV2WithMetaOrganicPRecall/2022/04/28/data/part-00039-88edc129-203b-4183-aa17-d6ba62999e83.npy.gz',\n",
       " '/apps/b_perso/hp/simplark/pretrainer/PersonalizedTopicsV2WithMetaOrganicPRecall/2022/04/28/data/part-00040-88edc129-203b-4183-aa17-d6ba62999e83.npy.gz',\n",
       " '/apps/b_perso/hp/simplark/pretrainer/PersonalizedTopicsV2WithMetaOrganicPRecall/2022/04/28/data/part-00041-88edc129-203b-4183-aa17-d6ba62999e83.npy.gz',\n",
       " '/apps/b_perso/hp/simplark/pretrainer/PersonalizedTopicsV2WithMetaOrganicPRecall/2022/04/28/data/part-00042-88edc129-203b-4183-aa17-d6ba62999e83.npy.gz',\n",
       " '/apps/b_perso/hp/simplark/pretrainer/PersonalizedTopicsV2WithMetaOrganicPRecall/2022/04/28/data/part-00043-88edc129-203b-4183-aa17-d6ba62999e83.npy.gz',\n",
       " '/apps/b_perso/hp/simplark/pretrainer/PersonalizedTopicsV2WithMetaOrganicPRecall/2022/04/28/data/part-00044-88edc129-203b-4183-aa17-d6ba62999e83.npy.gz',\n",
       " '/apps/b_perso/hp/simplark/pretrainer/PersonalizedTopicsV2WithMetaOrganicPRecall/2022/04/28/data/part-00045-88edc129-203b-4183-aa17-d6ba62999e83.npy.gz',\n",
       " '/apps/b_perso/hp/simplark/pretrainer/PersonalizedTopicsV2WithMetaOrganicPRecall/2022/04/28/data/part-00046-88edc129-203b-4183-aa17-d6ba62999e83.npy.gz',\n",
       " '/apps/b_perso/hp/simplark/pretrainer/PersonalizedTopicsV2WithMetaOrganicPRecall/2022/04/28/data/part-00047-88edc129-203b-4183-aa17-d6ba62999e83.npy.gz',\n",
       " '/apps/b_perso/hp/simplark/pretrainer/PersonalizedTopicsV2WithMetaOrganicPRecall/2022/04/28/data/part-00048-88edc129-203b-4183-aa17-d6ba62999e83.npy.gz',\n",
       " '/apps/b_perso/hp/simplark/pretrainer/PersonalizedTopicsV2WithMetaOrganicPRecall/2022/04/28/data/part-00049-88edc129-203b-4183-aa17-d6ba62999e83.npy.gz',\n",
       " '/apps/b_perso/hp/simplark/pretrainer/PersonalizedTopicsV2WithMetaOrganicPRecall/2022/04/29/data/part-00000-049e4460-6606-426e-a31a-b69623929ae0.npy.gz',\n",
       " '/apps/b_perso/hp/simplark/pretrainer/PersonalizedTopicsV2WithMetaOrganicPRecall/2022/04/29/data/part-00001-049e4460-6606-426e-a31a-b69623929ae0.npy.gz',\n",
       " '/apps/b_perso/hp/simplark/pretrainer/PersonalizedTopicsV2WithMetaOrganicPRecall/2022/04/29/data/part-00002-049e4460-6606-426e-a31a-b69623929ae0.npy.gz',\n",
       " '/apps/b_perso/hp/simplark/pretrainer/PersonalizedTopicsV2WithMetaOrganicPRecall/2022/04/29/data/part-00003-049e4460-6606-426e-a31a-b69623929ae0.npy.gz',\n",
       " '/apps/b_perso/hp/simplark/pretrainer/PersonalizedTopicsV2WithMetaOrganicPRecall/2022/04/29/data/part-00004-049e4460-6606-426e-a31a-b69623929ae0.npy.gz',\n",
       " '/apps/b_perso/hp/simplark/pretrainer/PersonalizedTopicsV2WithMetaOrganicPRecall/2022/04/29/data/part-00005-049e4460-6606-426e-a31a-b69623929ae0.npy.gz',\n",
       " '/apps/b_perso/hp/simplark/pretrainer/PersonalizedTopicsV2WithMetaOrganicPRecall/2022/04/29/data/part-00006-049e4460-6606-426e-a31a-b69623929ae0.npy.gz',\n",
       " '/apps/b_perso/hp/simplark/pretrainer/PersonalizedTopicsV2WithMetaOrganicPRecall/2022/04/29/data/part-00007-049e4460-6606-426e-a31a-b69623929ae0.npy.gz',\n",
       " '/apps/b_perso/hp/simplark/pretrainer/PersonalizedTopicsV2WithMetaOrganicPRecall/2022/04/29/data/part-00008-049e4460-6606-426e-a31a-b69623929ae0.npy.gz',\n",
       " '/apps/b_perso/hp/simplark/pretrainer/PersonalizedTopicsV2WithMetaOrganicPRecall/2022/04/29/data/part-00009-049e4460-6606-426e-a31a-b69623929ae0.npy.gz',\n",
       " '/apps/b_perso/hp/simplark/pretrainer/PersonalizedTopicsV2WithMetaOrganicPRecall/2022/04/29/data/part-00010-049e4460-6606-426e-a31a-b69623929ae0.npy.gz',\n",
       " '/apps/b_perso/hp/simplark/pretrainer/PersonalizedTopicsV2WithMetaOrganicPRecall/2022/04/29/data/part-00011-049e4460-6606-426e-a31a-b69623929ae0.npy.gz',\n",
       " '/apps/b_perso/hp/simplark/pretrainer/PersonalizedTopicsV2WithMetaOrganicPRecall/2022/04/29/data/part-00012-049e4460-6606-426e-a31a-b69623929ae0.npy.gz',\n",
       " '/apps/b_perso/hp/simplark/pretrainer/PersonalizedTopicsV2WithMetaOrganicPRecall/2022/04/29/data/part-00013-049e4460-6606-426e-a31a-b69623929ae0.npy.gz',\n",
       " '/apps/b_perso/hp/simplark/pretrainer/PersonalizedTopicsV2WithMetaOrganicPRecall/2022/04/29/data/part-00014-049e4460-6606-426e-a31a-b69623929ae0.npy.gz',\n",
       " '/apps/b_perso/hp/simplark/pretrainer/PersonalizedTopicsV2WithMetaOrganicPRecall/2022/04/29/data/part-00015-049e4460-6606-426e-a31a-b69623929ae0.npy.gz',\n",
       " '/apps/b_perso/hp/simplark/pretrainer/PersonalizedTopicsV2WithMetaOrganicPRecall/2022/04/29/data/part-00016-049e4460-6606-426e-a31a-b69623929ae0.npy.gz',\n",
       " '/apps/b_perso/hp/simplark/pretrainer/PersonalizedTopicsV2WithMetaOrganicPRecall/2022/04/29/data/part-00017-049e4460-6606-426e-a31a-b69623929ae0.npy.gz',\n",
       " '/apps/b_perso/hp/simplark/pretrainer/PersonalizedTopicsV2WithMetaOrganicPRecall/2022/04/29/data/part-00018-049e4460-6606-426e-a31a-b69623929ae0.npy.gz',\n",
       " '/apps/b_perso/hp/simplark/pretrainer/PersonalizedTopicsV2WithMetaOrganicPRecall/2022/04/29/data/part-00019-049e4460-6606-426e-a31a-b69623929ae0.npy.gz',\n",
       " '/apps/b_perso/hp/simplark/pretrainer/PersonalizedTopicsV2WithMetaOrganicPRecall/2022/04/29/data/part-00020-049e4460-6606-426e-a31a-b69623929ae0.npy.gz',\n",
       " '/apps/b_perso/hp/simplark/pretrainer/PersonalizedTopicsV2WithMetaOrganicPRecall/2022/04/29/data/part-00021-049e4460-6606-426e-a31a-b69623929ae0.npy.gz',\n",
       " '/apps/b_perso/hp/simplark/pretrainer/PersonalizedTopicsV2WithMetaOrganicPRecall/2022/04/29/data/part-00022-049e4460-6606-426e-a31a-b69623929ae0.npy.gz',\n",
       " '/apps/b_perso/hp/simplark/pretrainer/PersonalizedTopicsV2WithMetaOrganicPRecall/2022/04/29/data/part-00023-049e4460-6606-426e-a31a-b69623929ae0.npy.gz',\n",
       " '/apps/b_perso/hp/simplark/pretrainer/PersonalizedTopicsV2WithMetaOrganicPRecall/2022/04/29/data/part-00024-049e4460-6606-426e-a31a-b69623929ae0.npy.gz',\n",
       " '/apps/b_perso/hp/simplark/pretrainer/PersonalizedTopicsV2WithMetaOrganicPRecall/2022/04/29/data/part-00025-049e4460-6606-426e-a31a-b69623929ae0.npy.gz',\n",
       " '/apps/b_perso/hp/simplark/pretrainer/PersonalizedTopicsV2WithMetaOrganicPRecall/2022/04/29/data/part-00026-049e4460-6606-426e-a31a-b69623929ae0.npy.gz',\n",
       " '/apps/b_perso/hp/simplark/pretrainer/PersonalizedTopicsV2WithMetaOrganicPRecall/2022/04/29/data/part-00027-049e4460-6606-426e-a31a-b69623929ae0.npy.gz',\n",
       " '/apps/b_perso/hp/simplark/pretrainer/PersonalizedTopicsV2WithMetaOrganicPRecall/2022/04/29/data/part-00028-049e4460-6606-426e-a31a-b69623929ae0.npy.gz',\n",
       " '/apps/b_perso/hp/simplark/pretrainer/PersonalizedTopicsV2WithMetaOrganicPRecall/2022/04/29/data/part-00029-049e4460-6606-426e-a31a-b69623929ae0.npy.gz',\n",
       " '/apps/b_perso/hp/simplark/pretrainer/PersonalizedTopicsV2WithMetaOrganicPRecall/2022/04/29/data/part-00030-049e4460-6606-426e-a31a-b69623929ae0.npy.gz',\n",
       " '/apps/b_perso/hp/simplark/pretrainer/PersonalizedTopicsV2WithMetaOrganicPRecall/2022/04/29/data/part-00031-049e4460-6606-426e-a31a-b69623929ae0.npy.gz',\n",
       " '/apps/b_perso/hp/simplark/pretrainer/PersonalizedTopicsV2WithMetaOrganicPRecall/2022/04/29/data/part-00032-049e4460-6606-426e-a31a-b69623929ae0.npy.gz',\n",
       " '/apps/b_perso/hp/simplark/pretrainer/PersonalizedTopicsV2WithMetaOrganicPRecall/2022/04/29/data/part-00033-049e4460-6606-426e-a31a-b69623929ae0.npy.gz',\n",
       " '/apps/b_perso/hp/simplark/pretrainer/PersonalizedTopicsV2WithMetaOrganicPRecall/2022/04/29/data/part-00034-049e4460-6606-426e-a31a-b69623929ae0.npy.gz',\n",
       " '/apps/b_perso/hp/simplark/pretrainer/PersonalizedTopicsV2WithMetaOrganicPRecall/2022/04/29/data/part-00035-049e4460-6606-426e-a31a-b69623929ae0.npy.gz',\n",
       " '/apps/b_perso/hp/simplark/pretrainer/PersonalizedTopicsV2WithMetaOrganicPRecall/2022/04/29/data/part-00036-049e4460-6606-426e-a31a-b69623929ae0.npy.gz',\n",
       " '/apps/b_perso/hp/simplark/pretrainer/PersonalizedTopicsV2WithMetaOrganicPRecall/2022/04/29/data/part-00037-049e4460-6606-426e-a31a-b69623929ae0.npy.gz',\n",
       " '/apps/b_perso/hp/simplark/pretrainer/PersonalizedTopicsV2WithMetaOrganicPRecall/2022/04/29/data/part-00038-049e4460-6606-426e-a31a-b69623929ae0.npy.gz',\n",
       " '/apps/b_perso/hp/simplark/pretrainer/PersonalizedTopicsV2WithMetaOrganicPRecall/2022/04/29/data/part-00039-049e4460-6606-426e-a31a-b69623929ae0.npy.gz',\n",
       " '/apps/b_perso/hp/simplark/pretrainer/PersonalizedTopicsV2WithMetaOrganicPRecall/2022/04/29/data/part-00040-049e4460-6606-426e-a31a-b69623929ae0.npy.gz',\n",
       " '/apps/b_perso/hp/simplark/pretrainer/PersonalizedTopicsV2WithMetaOrganicPRecall/2022/04/29/data/part-00041-049e4460-6606-426e-a31a-b69623929ae0.npy.gz',\n",
       " '/apps/b_perso/hp/simplark/pretrainer/PersonalizedTopicsV2WithMetaOrganicPRecall/2022/04/29/data/part-00042-049e4460-6606-426e-a31a-b69623929ae0.npy.gz',\n",
       " '/apps/b_perso/hp/simplark/pretrainer/PersonalizedTopicsV2WithMetaOrganicPRecall/2022/04/29/data/part-00043-049e4460-6606-426e-a31a-b69623929ae0.npy.gz',\n",
       " '/apps/b_perso/hp/simplark/pretrainer/PersonalizedTopicsV2WithMetaOrganicPRecall/2022/04/29/data/part-00044-049e4460-6606-426e-a31a-b69623929ae0.npy.gz',\n",
       " '/apps/b_perso/hp/simplark/pretrainer/PersonalizedTopicsV2WithMetaOrganicPRecall/2022/04/29/data/part-00045-049e4460-6606-426e-a31a-b69623929ae0.npy.gz',\n",
       " '/apps/b_perso/hp/simplark/pretrainer/PersonalizedTopicsV2WithMetaOrganicPRecall/2022/04/29/data/part-00046-049e4460-6606-426e-a31a-b69623929ae0.npy.gz',\n",
       " '/apps/b_perso/hp/simplark/pretrainer/PersonalizedTopicsV2WithMetaOrganicPRecall/2022/04/29/data/part-00047-049e4460-6606-426e-a31a-b69623929ae0.npy.gz',\n",
       " '/apps/b_perso/hp/simplark/pretrainer/PersonalizedTopicsV2WithMetaOrganicPRecall/2022/04/29/data/part-00048-049e4460-6606-426e-a31a-b69623929ae0.npy.gz',\n",
       " '/apps/b_perso/hp/simplark/pretrainer/PersonalizedTopicsV2WithMetaOrganicPRecall/2022/04/29/data/part-00049-049e4460-6606-426e-a31a-b69623929ae0.npy.gz',\n",
       " '/apps/b_perso/hp/simplark/pretrainer/PersonalizedTopicsV2WithMetaOrganicPRecall/2022/04/30/data/part-00000-aabd40fe-039d-439e-aa27-032bab3a28cd.npy.gz',\n",
       " '/apps/b_perso/hp/simplark/pretrainer/PersonalizedTopicsV2WithMetaOrganicPRecall/2022/04/30/data/part-00001-aabd40fe-039d-439e-aa27-032bab3a28cd.npy.gz',\n",
       " '/apps/b_perso/hp/simplark/pretrainer/PersonalizedTopicsV2WithMetaOrganicPRecall/2022/04/30/data/part-00002-aabd40fe-039d-439e-aa27-032bab3a28cd.npy.gz',\n",
       " '/apps/b_perso/hp/simplark/pretrainer/PersonalizedTopicsV2WithMetaOrganicPRecall/2022/04/30/data/part-00003-aabd40fe-039d-439e-aa27-032bab3a28cd.npy.gz',\n",
       " '/apps/b_perso/hp/simplark/pretrainer/PersonalizedTopicsV2WithMetaOrganicPRecall/2022/04/30/data/part-00004-aabd40fe-039d-439e-aa27-032bab3a28cd.npy.gz',\n",
       " '/apps/b_perso/hp/simplark/pretrainer/PersonalizedTopicsV2WithMetaOrganicPRecall/2022/04/30/data/part-00005-aabd40fe-039d-439e-aa27-032bab3a28cd.npy.gz',\n",
       " '/apps/b_perso/hp/simplark/pretrainer/PersonalizedTopicsV2WithMetaOrganicPRecall/2022/04/30/data/part-00006-aabd40fe-039d-439e-aa27-032bab3a28cd.npy.gz',\n",
       " '/apps/b_perso/hp/simplark/pretrainer/PersonalizedTopicsV2WithMetaOrganicPRecall/2022/04/30/data/part-00007-aabd40fe-039d-439e-aa27-032bab3a28cd.npy.gz',\n",
       " '/apps/b_perso/hp/simplark/pretrainer/PersonalizedTopicsV2WithMetaOrganicPRecall/2022/04/30/data/part-00008-aabd40fe-039d-439e-aa27-032bab3a28cd.npy.gz',\n",
       " '/apps/b_perso/hp/simplark/pretrainer/PersonalizedTopicsV2WithMetaOrganicPRecall/2022/04/30/data/part-00009-aabd40fe-039d-439e-aa27-032bab3a28cd.npy.gz',\n",
       " '/apps/b_perso/hp/simplark/pretrainer/PersonalizedTopicsV2WithMetaOrganicPRecall/2022/04/30/data/part-00010-aabd40fe-039d-439e-aa27-032bab3a28cd.npy.gz',\n",
       " '/apps/b_perso/hp/simplark/pretrainer/PersonalizedTopicsV2WithMetaOrganicPRecall/2022/04/30/data/part-00011-aabd40fe-039d-439e-aa27-032bab3a28cd.npy.gz',\n",
       " '/apps/b_perso/hp/simplark/pretrainer/PersonalizedTopicsV2WithMetaOrganicPRecall/2022/04/30/data/part-00012-aabd40fe-039d-439e-aa27-032bab3a28cd.npy.gz',\n",
       " '/apps/b_perso/hp/simplark/pretrainer/PersonalizedTopicsV2WithMetaOrganicPRecall/2022/04/30/data/part-00013-aabd40fe-039d-439e-aa27-032bab3a28cd.npy.gz',\n",
       " '/apps/b_perso/hp/simplark/pretrainer/PersonalizedTopicsV2WithMetaOrganicPRecall/2022/04/30/data/part-00014-aabd40fe-039d-439e-aa27-032bab3a28cd.npy.gz',\n",
       " '/apps/b_perso/hp/simplark/pretrainer/PersonalizedTopicsV2WithMetaOrganicPRecall/2022/04/30/data/part-00015-aabd40fe-039d-439e-aa27-032bab3a28cd.npy.gz',\n",
       " '/apps/b_perso/hp/simplark/pretrainer/PersonalizedTopicsV2WithMetaOrganicPRecall/2022/04/30/data/part-00016-aabd40fe-039d-439e-aa27-032bab3a28cd.npy.gz',\n",
       " '/apps/b_perso/hp/simplark/pretrainer/PersonalizedTopicsV2WithMetaOrganicPRecall/2022/04/30/data/part-00017-aabd40fe-039d-439e-aa27-032bab3a28cd.npy.gz',\n",
       " '/apps/b_perso/hp/simplark/pretrainer/PersonalizedTopicsV2WithMetaOrganicPRecall/2022/04/30/data/part-00018-aabd40fe-039d-439e-aa27-032bab3a28cd.npy.gz',\n",
       " '/apps/b_perso/hp/simplark/pretrainer/PersonalizedTopicsV2WithMetaOrganicPRecall/2022/04/30/data/part-00019-aabd40fe-039d-439e-aa27-032bab3a28cd.npy.gz',\n",
       " '/apps/b_perso/hp/simplark/pretrainer/PersonalizedTopicsV2WithMetaOrganicPRecall/2022/04/30/data/part-00020-aabd40fe-039d-439e-aa27-032bab3a28cd.npy.gz',\n",
       " '/apps/b_perso/hp/simplark/pretrainer/PersonalizedTopicsV2WithMetaOrganicPRecall/2022/04/30/data/part-00021-aabd40fe-039d-439e-aa27-032bab3a28cd.npy.gz',\n",
       " '/apps/b_perso/hp/simplark/pretrainer/PersonalizedTopicsV2WithMetaOrganicPRecall/2022/04/30/data/part-00022-aabd40fe-039d-439e-aa27-032bab3a28cd.npy.gz',\n",
       " '/apps/b_perso/hp/simplark/pretrainer/PersonalizedTopicsV2WithMetaOrganicPRecall/2022/04/30/data/part-00023-aabd40fe-039d-439e-aa27-032bab3a28cd.npy.gz',\n",
       " '/apps/b_perso/hp/simplark/pretrainer/PersonalizedTopicsV2WithMetaOrganicPRecall/2022/04/30/data/part-00024-aabd40fe-039d-439e-aa27-032bab3a28cd.npy.gz',\n",
       " '/apps/b_perso/hp/simplark/pretrainer/PersonalizedTopicsV2WithMetaOrganicPRecall/2022/04/30/data/part-00025-aabd40fe-039d-439e-aa27-032bab3a28cd.npy.gz',\n",
       " '/apps/b_perso/hp/simplark/pretrainer/PersonalizedTopicsV2WithMetaOrganicPRecall/2022/04/30/data/part-00026-aabd40fe-039d-439e-aa27-032bab3a28cd.npy.gz',\n",
       " '/apps/b_perso/hp/simplark/pretrainer/PersonalizedTopicsV2WithMetaOrganicPRecall/2022/04/30/data/part-00027-aabd40fe-039d-439e-aa27-032bab3a28cd.npy.gz',\n",
       " '/apps/b_perso/hp/simplark/pretrainer/PersonalizedTopicsV2WithMetaOrganicPRecall/2022/04/30/data/part-00028-aabd40fe-039d-439e-aa27-032bab3a28cd.npy.gz',\n",
       " '/apps/b_perso/hp/simplark/pretrainer/PersonalizedTopicsV2WithMetaOrganicPRecall/2022/04/30/data/part-00029-aabd40fe-039d-439e-aa27-032bab3a28cd.npy.gz',\n",
       " '/apps/b_perso/hp/simplark/pretrainer/PersonalizedTopicsV2WithMetaOrganicPRecall/2022/04/30/data/part-00030-aabd40fe-039d-439e-aa27-032bab3a28cd.npy.gz',\n",
       " '/apps/b_perso/hp/simplark/pretrainer/PersonalizedTopicsV2WithMetaOrganicPRecall/2022/04/30/data/part-00031-aabd40fe-039d-439e-aa27-032bab3a28cd.npy.gz',\n",
       " '/apps/b_perso/hp/simplark/pretrainer/PersonalizedTopicsV2WithMetaOrganicPRecall/2022/04/30/data/part-00032-aabd40fe-039d-439e-aa27-032bab3a28cd.npy.gz',\n",
       " '/apps/b_perso/hp/simplark/pretrainer/PersonalizedTopicsV2WithMetaOrganicPRecall/2022/04/30/data/part-00033-aabd40fe-039d-439e-aa27-032bab3a28cd.npy.gz',\n",
       " '/apps/b_perso/hp/simplark/pretrainer/PersonalizedTopicsV2WithMetaOrganicPRecall/2022/04/30/data/part-00034-aabd40fe-039d-439e-aa27-032bab3a28cd.npy.gz',\n",
       " '/apps/b_perso/hp/simplark/pretrainer/PersonalizedTopicsV2WithMetaOrganicPRecall/2022/04/30/data/part-00035-aabd40fe-039d-439e-aa27-032bab3a28cd.npy.gz',\n",
       " '/apps/b_perso/hp/simplark/pretrainer/PersonalizedTopicsV2WithMetaOrganicPRecall/2022/04/30/data/part-00036-aabd40fe-039d-439e-aa27-032bab3a28cd.npy.gz',\n",
       " '/apps/b_perso/hp/simplark/pretrainer/PersonalizedTopicsV2WithMetaOrganicPRecall/2022/04/30/data/part-00037-aabd40fe-039d-439e-aa27-032bab3a28cd.npy.gz',\n",
       " '/apps/b_perso/hp/simplark/pretrainer/PersonalizedTopicsV2WithMetaOrganicPRecall/2022/04/30/data/part-00038-aabd40fe-039d-439e-aa27-032bab3a28cd.npy.gz',\n",
       " '/apps/b_perso/hp/simplark/pretrainer/PersonalizedTopicsV2WithMetaOrganicPRecall/2022/04/30/data/part-00039-aabd40fe-039d-439e-aa27-032bab3a28cd.npy.gz',\n",
       " '/apps/b_perso/hp/simplark/pretrainer/PersonalizedTopicsV2WithMetaOrganicPRecall/2022/04/30/data/part-00040-aabd40fe-039d-439e-aa27-032bab3a28cd.npy.gz',\n",
       " '/apps/b_perso/hp/simplark/pretrainer/PersonalizedTopicsV2WithMetaOrganicPRecall/2022/04/30/data/part-00041-aabd40fe-039d-439e-aa27-032bab3a28cd.npy.gz',\n",
       " '/apps/b_perso/hp/simplark/pretrainer/PersonalizedTopicsV2WithMetaOrganicPRecall/2022/04/30/data/part-00042-aabd40fe-039d-439e-aa27-032bab3a28cd.npy.gz',\n",
       " '/apps/b_perso/hp/simplark/pretrainer/PersonalizedTopicsV2WithMetaOrganicPRecall/2022/04/30/data/part-00043-aabd40fe-039d-439e-aa27-032bab3a28cd.npy.gz',\n",
       " '/apps/b_perso/hp/simplark/pretrainer/PersonalizedTopicsV2WithMetaOrganicPRecall/2022/04/30/data/part-00044-aabd40fe-039d-439e-aa27-032bab3a28cd.npy.gz',\n",
       " '/apps/b_perso/hp/simplark/pretrainer/PersonalizedTopicsV2WithMetaOrganicPRecall/2022/04/30/data/part-00045-aabd40fe-039d-439e-aa27-032bab3a28cd.npy.gz',\n",
       " '/apps/b_perso/hp/simplark/pretrainer/PersonalizedTopicsV2WithMetaOrganicPRecall/2022/04/30/data/part-00046-aabd40fe-039d-439e-aa27-032bab3a28cd.npy.gz',\n",
       " '/apps/b_perso/hp/simplark/pretrainer/PersonalizedTopicsV2WithMetaOrganicPRecall/2022/04/30/data/part-00047-aabd40fe-039d-439e-aa27-032bab3a28cd.npy.gz',\n",
       " '/apps/b_perso/hp/simplark/pretrainer/PersonalizedTopicsV2WithMetaOrganicPRecall/2022/04/30/data/part-00048-aabd40fe-039d-439e-aa27-032bab3a28cd.npy.gz',\n",
       " '/apps/b_perso/hp/simplark/pretrainer/PersonalizedTopicsV2WithMetaOrganicPRecall/2022/04/30/data/part-00049-aabd40fe-039d-439e-aa27-032bab3a28cd.npy.gz',\n",
       " '/apps/b_perso/hp/simplark/pretrainer/PersonalizedTopicsV2WithMetaOrganicPRecall/2022/05/01/data/part-00000-34767de9-37eb-40a8-b72b-e0d6c4933471.npy.gz',\n",
       " '/apps/b_perso/hp/simplark/pretrainer/PersonalizedTopicsV2WithMetaOrganicPRecall/2022/05/01/data/part-00001-34767de9-37eb-40a8-b72b-e0d6c4933471.npy.gz',\n",
       " '/apps/b_perso/hp/simplark/pretrainer/PersonalizedTopicsV2WithMetaOrganicPRecall/2022/05/01/data/part-00002-34767de9-37eb-40a8-b72b-e0d6c4933471.npy.gz',\n",
       " '/apps/b_perso/hp/simplark/pretrainer/PersonalizedTopicsV2WithMetaOrganicPRecall/2022/05/01/data/part-00003-34767de9-37eb-40a8-b72b-e0d6c4933471.npy.gz',\n",
       " '/apps/b_perso/hp/simplark/pretrainer/PersonalizedTopicsV2WithMetaOrganicPRecall/2022/05/01/data/part-00004-34767de9-37eb-40a8-b72b-e0d6c4933471.npy.gz',\n",
       " '/apps/b_perso/hp/simplark/pretrainer/PersonalizedTopicsV2WithMetaOrganicPRecall/2022/05/01/data/part-00005-34767de9-37eb-40a8-b72b-e0d6c4933471.npy.gz',\n",
       " '/apps/b_perso/hp/simplark/pretrainer/PersonalizedTopicsV2WithMetaOrganicPRecall/2022/05/01/data/part-00006-34767de9-37eb-40a8-b72b-e0d6c4933471.npy.gz',\n",
       " '/apps/b_perso/hp/simplark/pretrainer/PersonalizedTopicsV2WithMetaOrganicPRecall/2022/05/01/data/part-00007-34767de9-37eb-40a8-b72b-e0d6c4933471.npy.gz',\n",
       " '/apps/b_perso/hp/simplark/pretrainer/PersonalizedTopicsV2WithMetaOrganicPRecall/2022/05/01/data/part-00008-34767de9-37eb-40a8-b72b-e0d6c4933471.npy.gz',\n",
       " '/apps/b_perso/hp/simplark/pretrainer/PersonalizedTopicsV2WithMetaOrganicPRecall/2022/05/01/data/part-00009-34767de9-37eb-40a8-b72b-e0d6c4933471.npy.gz',\n",
       " '/apps/b_perso/hp/simplark/pretrainer/PersonalizedTopicsV2WithMetaOrganicPRecall/2022/05/01/data/part-00010-34767de9-37eb-40a8-b72b-e0d6c4933471.npy.gz',\n",
       " '/apps/b_perso/hp/simplark/pretrainer/PersonalizedTopicsV2WithMetaOrganicPRecall/2022/05/01/data/part-00011-34767de9-37eb-40a8-b72b-e0d6c4933471.npy.gz',\n",
       " '/apps/b_perso/hp/simplark/pretrainer/PersonalizedTopicsV2WithMetaOrganicPRecall/2022/05/01/data/part-00012-34767de9-37eb-40a8-b72b-e0d6c4933471.npy.gz',\n",
       " '/apps/b_perso/hp/simplark/pretrainer/PersonalizedTopicsV2WithMetaOrganicPRecall/2022/05/01/data/part-00013-34767de9-37eb-40a8-b72b-e0d6c4933471.npy.gz',\n",
       " '/apps/b_perso/hp/simplark/pretrainer/PersonalizedTopicsV2WithMetaOrganicPRecall/2022/05/01/data/part-00014-34767de9-37eb-40a8-b72b-e0d6c4933471.npy.gz',\n",
       " '/apps/b_perso/hp/simplark/pretrainer/PersonalizedTopicsV2WithMetaOrganicPRecall/2022/05/01/data/part-00015-34767de9-37eb-40a8-b72b-e0d6c4933471.npy.gz',\n",
       " '/apps/b_perso/hp/simplark/pretrainer/PersonalizedTopicsV2WithMetaOrganicPRecall/2022/05/01/data/part-00016-34767de9-37eb-40a8-b72b-e0d6c4933471.npy.gz',\n",
       " '/apps/b_perso/hp/simplark/pretrainer/PersonalizedTopicsV2WithMetaOrganicPRecall/2022/05/01/data/part-00017-34767de9-37eb-40a8-b72b-e0d6c4933471.npy.gz',\n",
       " '/apps/b_perso/hp/simplark/pretrainer/PersonalizedTopicsV2WithMetaOrganicPRecall/2022/05/01/data/part-00018-34767de9-37eb-40a8-b72b-e0d6c4933471.npy.gz',\n",
       " '/apps/b_perso/hp/simplark/pretrainer/PersonalizedTopicsV2WithMetaOrganicPRecall/2022/05/01/data/part-00019-34767de9-37eb-40a8-b72b-e0d6c4933471.npy.gz',\n",
       " '/apps/b_perso/hp/simplark/pretrainer/PersonalizedTopicsV2WithMetaOrganicPRecall/2022/05/01/data/part-00020-34767de9-37eb-40a8-b72b-e0d6c4933471.npy.gz',\n",
       " '/apps/b_perso/hp/simplark/pretrainer/PersonalizedTopicsV2WithMetaOrganicPRecall/2022/05/01/data/part-00021-34767de9-37eb-40a8-b72b-e0d6c4933471.npy.gz',\n",
       " '/apps/b_perso/hp/simplark/pretrainer/PersonalizedTopicsV2WithMetaOrganicPRecall/2022/05/01/data/part-00022-34767de9-37eb-40a8-b72b-e0d6c4933471.npy.gz',\n",
       " '/apps/b_perso/hp/simplark/pretrainer/PersonalizedTopicsV2WithMetaOrganicPRecall/2022/05/01/data/part-00023-34767de9-37eb-40a8-b72b-e0d6c4933471.npy.gz',\n",
       " '/apps/b_perso/hp/simplark/pretrainer/PersonalizedTopicsV2WithMetaOrganicPRecall/2022/05/01/data/part-00024-34767de9-37eb-40a8-b72b-e0d6c4933471.npy.gz',\n",
       " '/apps/b_perso/hp/simplark/pretrainer/PersonalizedTopicsV2WithMetaOrganicPRecall/2022/05/01/data/part-00025-34767de9-37eb-40a8-b72b-e0d6c4933471.npy.gz',\n",
       " '/apps/b_perso/hp/simplark/pretrainer/PersonalizedTopicsV2WithMetaOrganicPRecall/2022/05/01/data/part-00026-34767de9-37eb-40a8-b72b-e0d6c4933471.npy.gz',\n",
       " '/apps/b_perso/hp/simplark/pretrainer/PersonalizedTopicsV2WithMetaOrganicPRecall/2022/05/01/data/part-00027-34767de9-37eb-40a8-b72b-e0d6c4933471.npy.gz',\n",
       " '/apps/b_perso/hp/simplark/pretrainer/PersonalizedTopicsV2WithMetaOrganicPRecall/2022/05/01/data/part-00028-34767de9-37eb-40a8-b72b-e0d6c4933471.npy.gz',\n",
       " '/apps/b_perso/hp/simplark/pretrainer/PersonalizedTopicsV2WithMetaOrganicPRecall/2022/05/01/data/part-00029-34767de9-37eb-40a8-b72b-e0d6c4933471.npy.gz',\n",
       " '/apps/b_perso/hp/simplark/pretrainer/PersonalizedTopicsV2WithMetaOrganicPRecall/2022/05/01/data/part-00030-34767de9-37eb-40a8-b72b-e0d6c4933471.npy.gz',\n",
       " '/apps/b_perso/hp/simplark/pretrainer/PersonalizedTopicsV2WithMetaOrganicPRecall/2022/05/01/data/part-00031-34767de9-37eb-40a8-b72b-e0d6c4933471.npy.gz',\n",
       " '/apps/b_perso/hp/simplark/pretrainer/PersonalizedTopicsV2WithMetaOrganicPRecall/2022/05/01/data/part-00032-34767de9-37eb-40a8-b72b-e0d6c4933471.npy.gz',\n",
       " '/apps/b_perso/hp/simplark/pretrainer/PersonalizedTopicsV2WithMetaOrganicPRecall/2022/05/01/data/part-00033-34767de9-37eb-40a8-b72b-e0d6c4933471.npy.gz',\n",
       " '/apps/b_perso/hp/simplark/pretrainer/PersonalizedTopicsV2WithMetaOrganicPRecall/2022/05/01/data/part-00034-34767de9-37eb-40a8-b72b-e0d6c4933471.npy.gz',\n",
       " '/apps/b_perso/hp/simplark/pretrainer/PersonalizedTopicsV2WithMetaOrganicPRecall/2022/05/01/data/part-00035-34767de9-37eb-40a8-b72b-e0d6c4933471.npy.gz',\n",
       " '/apps/b_perso/hp/simplark/pretrainer/PersonalizedTopicsV2WithMetaOrganicPRecall/2022/05/01/data/part-00036-34767de9-37eb-40a8-b72b-e0d6c4933471.npy.gz',\n",
       " '/apps/b_perso/hp/simplark/pretrainer/PersonalizedTopicsV2WithMetaOrganicPRecall/2022/05/01/data/part-00037-34767de9-37eb-40a8-b72b-e0d6c4933471.npy.gz',\n",
       " '/apps/b_perso/hp/simplark/pretrainer/PersonalizedTopicsV2WithMetaOrganicPRecall/2022/05/01/data/part-00038-34767de9-37eb-40a8-b72b-e0d6c4933471.npy.gz',\n",
       " '/apps/b_perso/hp/simplark/pretrainer/PersonalizedTopicsV2WithMetaOrganicPRecall/2022/05/01/data/part-00039-34767de9-37eb-40a8-b72b-e0d6c4933471.npy.gz',\n",
       " '/apps/b_perso/hp/simplark/pretrainer/PersonalizedTopicsV2WithMetaOrganicPRecall/2022/05/01/data/part-00040-34767de9-37eb-40a8-b72b-e0d6c4933471.npy.gz',\n",
       " '/apps/b_perso/hp/simplark/pretrainer/PersonalizedTopicsV2WithMetaOrganicPRecall/2022/05/01/data/part-00041-34767de9-37eb-40a8-b72b-e0d6c4933471.npy.gz',\n",
       " '/apps/b_perso/hp/simplark/pretrainer/PersonalizedTopicsV2WithMetaOrganicPRecall/2022/05/01/data/part-00042-34767de9-37eb-40a8-b72b-e0d6c4933471.npy.gz',\n",
       " '/apps/b_perso/hp/simplark/pretrainer/PersonalizedTopicsV2WithMetaOrganicPRecall/2022/05/01/data/part-00043-34767de9-37eb-40a8-b72b-e0d6c4933471.npy.gz',\n",
       " '/apps/b_perso/hp/simplark/pretrainer/PersonalizedTopicsV2WithMetaOrganicPRecall/2022/05/01/data/part-00044-34767de9-37eb-40a8-b72b-e0d6c4933471.npy.gz',\n",
       " '/apps/b_perso/hp/simplark/pretrainer/PersonalizedTopicsV2WithMetaOrganicPRecall/2022/05/01/data/part-00045-34767de9-37eb-40a8-b72b-e0d6c4933471.npy.gz',\n",
       " '/apps/b_perso/hp/simplark/pretrainer/PersonalizedTopicsV2WithMetaOrganicPRecall/2022/05/01/data/part-00046-34767de9-37eb-40a8-b72b-e0d6c4933471.npy.gz',\n",
       " '/apps/b_perso/hp/simplark/pretrainer/PersonalizedTopicsV2WithMetaOrganicPRecall/2022/05/01/data/part-00047-34767de9-37eb-40a8-b72b-e0d6c4933471.npy.gz',\n",
       " '/apps/b_perso/hp/simplark/pretrainer/PersonalizedTopicsV2WithMetaOrganicPRecall/2022/05/01/data/part-00048-34767de9-37eb-40a8-b72b-e0d6c4933471.npy.gz',\n",
       " '/apps/b_perso/hp/simplark/pretrainer/PersonalizedTopicsV2WithMetaOrganicPRecall/2022/05/01/data/part-00049-34767de9-37eb-40a8-b72b-e0d6c4933471.npy.gz',\n",
       " '/apps/b_perso/hp/simplark/pretrainer/PersonalizedTopicsV2WithMetaOrganicPRecall/2022/05/02/data/part-00000-7cdfe97a-43ee-4fae-bf97-b01c6a95211b.npy.gz',\n",
       " '/apps/b_perso/hp/simplark/pretrainer/PersonalizedTopicsV2WithMetaOrganicPRecall/2022/05/02/data/part-00001-7cdfe97a-43ee-4fae-bf97-b01c6a95211b.npy.gz',\n",
       " '/apps/b_perso/hp/simplark/pretrainer/PersonalizedTopicsV2WithMetaOrganicPRecall/2022/05/02/data/part-00002-7cdfe97a-43ee-4fae-bf97-b01c6a95211b.npy.gz',\n",
       " '/apps/b_perso/hp/simplark/pretrainer/PersonalizedTopicsV2WithMetaOrganicPRecall/2022/05/02/data/part-00003-7cdfe97a-43ee-4fae-bf97-b01c6a95211b.npy.gz',\n",
       " '/apps/b_perso/hp/simplark/pretrainer/PersonalizedTopicsV2WithMetaOrganicPRecall/2022/05/02/data/part-00004-7cdfe97a-43ee-4fae-bf97-b01c6a95211b.npy.gz',\n",
       " '/apps/b_perso/hp/simplark/pretrainer/PersonalizedTopicsV2WithMetaOrganicPRecall/2022/05/02/data/part-00005-7cdfe97a-43ee-4fae-bf97-b01c6a95211b.npy.gz',\n",
       " '/apps/b_perso/hp/simplark/pretrainer/PersonalizedTopicsV2WithMetaOrganicPRecall/2022/05/02/data/part-00006-7cdfe97a-43ee-4fae-bf97-b01c6a95211b.npy.gz',\n",
       " '/apps/b_perso/hp/simplark/pretrainer/PersonalizedTopicsV2WithMetaOrganicPRecall/2022/05/02/data/part-00007-7cdfe97a-43ee-4fae-bf97-b01c6a95211b.npy.gz',\n",
       " '/apps/b_perso/hp/simplark/pretrainer/PersonalizedTopicsV2WithMetaOrganicPRecall/2022/05/02/data/part-00008-7cdfe97a-43ee-4fae-bf97-b01c6a95211b.npy.gz',\n",
       " '/apps/b_perso/hp/simplark/pretrainer/PersonalizedTopicsV2WithMetaOrganicPRecall/2022/05/02/data/part-00009-7cdfe97a-43ee-4fae-bf97-b01c6a95211b.npy.gz',\n",
       " '/apps/b_perso/hp/simplark/pretrainer/PersonalizedTopicsV2WithMetaOrganicPRecall/2022/05/02/data/part-00010-7cdfe97a-43ee-4fae-bf97-b01c6a95211b.npy.gz',\n",
       " '/apps/b_perso/hp/simplark/pretrainer/PersonalizedTopicsV2WithMetaOrganicPRecall/2022/05/02/data/part-00011-7cdfe97a-43ee-4fae-bf97-b01c6a95211b.npy.gz',\n",
       " '/apps/b_perso/hp/simplark/pretrainer/PersonalizedTopicsV2WithMetaOrganicPRecall/2022/05/02/data/part-00012-7cdfe97a-43ee-4fae-bf97-b01c6a95211b.npy.gz',\n",
       " '/apps/b_perso/hp/simplark/pretrainer/PersonalizedTopicsV2WithMetaOrganicPRecall/2022/05/02/data/part-00013-7cdfe97a-43ee-4fae-bf97-b01c6a95211b.npy.gz',\n",
       " '/apps/b_perso/hp/simplark/pretrainer/PersonalizedTopicsV2WithMetaOrganicPRecall/2022/05/02/data/part-00014-7cdfe97a-43ee-4fae-bf97-b01c6a95211b.npy.gz',\n",
       " '/apps/b_perso/hp/simplark/pretrainer/PersonalizedTopicsV2WithMetaOrganicPRecall/2022/05/02/data/part-00015-7cdfe97a-43ee-4fae-bf97-b01c6a95211b.npy.gz',\n",
       " '/apps/b_perso/hp/simplark/pretrainer/PersonalizedTopicsV2WithMetaOrganicPRecall/2022/05/02/data/part-00016-7cdfe97a-43ee-4fae-bf97-b01c6a95211b.npy.gz',\n",
       " '/apps/b_perso/hp/simplark/pretrainer/PersonalizedTopicsV2WithMetaOrganicPRecall/2022/05/02/data/part-00017-7cdfe97a-43ee-4fae-bf97-b01c6a95211b.npy.gz',\n",
       " '/apps/b_perso/hp/simplark/pretrainer/PersonalizedTopicsV2WithMetaOrganicPRecall/2022/05/02/data/part-00018-7cdfe97a-43ee-4fae-bf97-b01c6a95211b.npy.gz',\n",
       " '/apps/b_perso/hp/simplark/pretrainer/PersonalizedTopicsV2WithMetaOrganicPRecall/2022/05/02/data/part-00019-7cdfe97a-43ee-4fae-bf97-b01c6a95211b.npy.gz',\n",
       " '/apps/b_perso/hp/simplark/pretrainer/PersonalizedTopicsV2WithMetaOrganicPRecall/2022/05/02/data/part-00020-7cdfe97a-43ee-4fae-bf97-b01c6a95211b.npy.gz',\n",
       " '/apps/b_perso/hp/simplark/pretrainer/PersonalizedTopicsV2WithMetaOrganicPRecall/2022/05/02/data/part-00021-7cdfe97a-43ee-4fae-bf97-b01c6a95211b.npy.gz',\n",
       " '/apps/b_perso/hp/simplark/pretrainer/PersonalizedTopicsV2WithMetaOrganicPRecall/2022/05/02/data/part-00022-7cdfe97a-43ee-4fae-bf97-b01c6a95211b.npy.gz',\n",
       " '/apps/b_perso/hp/simplark/pretrainer/PersonalizedTopicsV2WithMetaOrganicPRecall/2022/05/02/data/part-00023-7cdfe97a-43ee-4fae-bf97-b01c6a95211b.npy.gz',\n",
       " '/apps/b_perso/hp/simplark/pretrainer/PersonalizedTopicsV2WithMetaOrganicPRecall/2022/05/02/data/part-00024-7cdfe97a-43ee-4fae-bf97-b01c6a95211b.npy.gz',\n",
       " '/apps/b_perso/hp/simplark/pretrainer/PersonalizedTopicsV2WithMetaOrganicPRecall/2022/05/02/data/part-00025-7cdfe97a-43ee-4fae-bf97-b01c6a95211b.npy.gz',\n",
       " '/apps/b_perso/hp/simplark/pretrainer/PersonalizedTopicsV2WithMetaOrganicPRecall/2022/05/02/data/part-00026-7cdfe97a-43ee-4fae-bf97-b01c6a95211b.npy.gz',\n",
       " '/apps/b_perso/hp/simplark/pretrainer/PersonalizedTopicsV2WithMetaOrganicPRecall/2022/05/02/data/part-00027-7cdfe97a-43ee-4fae-bf97-b01c6a95211b.npy.gz',\n",
       " '/apps/b_perso/hp/simplark/pretrainer/PersonalizedTopicsV2WithMetaOrganicPRecall/2022/05/02/data/part-00028-7cdfe97a-43ee-4fae-bf97-b01c6a95211b.npy.gz',\n",
       " '/apps/b_perso/hp/simplark/pretrainer/PersonalizedTopicsV2WithMetaOrganicPRecall/2022/05/02/data/part-00029-7cdfe97a-43ee-4fae-bf97-b01c6a95211b.npy.gz',\n",
       " '/apps/b_perso/hp/simplark/pretrainer/PersonalizedTopicsV2WithMetaOrganicPRecall/2022/05/02/data/part-00030-7cdfe97a-43ee-4fae-bf97-b01c6a95211b.npy.gz',\n",
       " '/apps/b_perso/hp/simplark/pretrainer/PersonalizedTopicsV2WithMetaOrganicPRecall/2022/05/02/data/part-00031-7cdfe97a-43ee-4fae-bf97-b01c6a95211b.npy.gz',\n",
       " '/apps/b_perso/hp/simplark/pretrainer/PersonalizedTopicsV2WithMetaOrganicPRecall/2022/05/02/data/part-00032-7cdfe97a-43ee-4fae-bf97-b01c6a95211b.npy.gz',\n",
       " '/apps/b_perso/hp/simplark/pretrainer/PersonalizedTopicsV2WithMetaOrganicPRecall/2022/05/02/data/part-00033-7cdfe97a-43ee-4fae-bf97-b01c6a95211b.npy.gz',\n",
       " '/apps/b_perso/hp/simplark/pretrainer/PersonalizedTopicsV2WithMetaOrganicPRecall/2022/05/02/data/part-00034-7cdfe97a-43ee-4fae-bf97-b01c6a95211b.npy.gz',\n",
       " '/apps/b_perso/hp/simplark/pretrainer/PersonalizedTopicsV2WithMetaOrganicPRecall/2022/05/02/data/part-00035-7cdfe97a-43ee-4fae-bf97-b01c6a95211b.npy.gz',\n",
       " '/apps/b_perso/hp/simplark/pretrainer/PersonalizedTopicsV2WithMetaOrganicPRecall/2022/05/02/data/part-00036-7cdfe97a-43ee-4fae-bf97-b01c6a95211b.npy.gz',\n",
       " '/apps/b_perso/hp/simplark/pretrainer/PersonalizedTopicsV2WithMetaOrganicPRecall/2022/05/02/data/part-00037-7cdfe97a-43ee-4fae-bf97-b01c6a95211b.npy.gz',\n",
       " '/apps/b_perso/hp/simplark/pretrainer/PersonalizedTopicsV2WithMetaOrganicPRecall/2022/05/02/data/part-00038-7cdfe97a-43ee-4fae-bf97-b01c6a95211b.npy.gz',\n",
       " '/apps/b_perso/hp/simplark/pretrainer/PersonalizedTopicsV2WithMetaOrganicPRecall/2022/05/02/data/part-00039-7cdfe97a-43ee-4fae-bf97-b01c6a95211b.npy.gz',\n",
       " '/apps/b_perso/hp/simplark/pretrainer/PersonalizedTopicsV2WithMetaOrganicPRecall/2022/05/02/data/part-00040-7cdfe97a-43ee-4fae-bf97-b01c6a95211b.npy.gz',\n",
       " '/apps/b_perso/hp/simplark/pretrainer/PersonalizedTopicsV2WithMetaOrganicPRecall/2022/05/02/data/part-00041-7cdfe97a-43ee-4fae-bf97-b01c6a95211b.npy.gz',\n",
       " '/apps/b_perso/hp/simplark/pretrainer/PersonalizedTopicsV2WithMetaOrganicPRecall/2022/05/02/data/part-00042-7cdfe97a-43ee-4fae-bf97-b01c6a95211b.npy.gz',\n",
       " '/apps/b_perso/hp/simplark/pretrainer/PersonalizedTopicsV2WithMetaOrganicPRecall/2022/05/02/data/part-00043-7cdfe97a-43ee-4fae-bf97-b01c6a95211b.npy.gz',\n",
       " '/apps/b_perso/hp/simplark/pretrainer/PersonalizedTopicsV2WithMetaOrganicPRecall/2022/05/02/data/part-00044-7cdfe97a-43ee-4fae-bf97-b01c6a95211b.npy.gz',\n",
       " '/apps/b_perso/hp/simplark/pretrainer/PersonalizedTopicsV2WithMetaOrganicPRecall/2022/05/02/data/part-00045-7cdfe97a-43ee-4fae-bf97-b01c6a95211b.npy.gz',\n",
       " '/apps/b_perso/hp/simplark/pretrainer/PersonalizedTopicsV2WithMetaOrganicPRecall/2022/05/02/data/part-00046-7cdfe97a-43ee-4fae-bf97-b01c6a95211b.npy.gz',\n",
       " '/apps/b_perso/hp/simplark/pretrainer/PersonalizedTopicsV2WithMetaOrganicPRecall/2022/05/02/data/part-00047-7cdfe97a-43ee-4fae-bf97-b01c6a95211b.npy.gz',\n",
       " '/apps/b_perso/hp/simplark/pretrainer/PersonalizedTopicsV2WithMetaOrganicPRecall/2022/05/02/data/part-00048-7cdfe97a-43ee-4fae-bf97-b01c6a95211b.npy.gz',\n",
       " '/apps/b_perso/hp/simplark/pretrainer/PersonalizedTopicsV2WithMetaOrganicPRecall/2022/05/02/data/part-00049-7cdfe97a-43ee-4fae-bf97-b01c6a95211b.npy.gz',\n",
       " '/apps/b_perso/hp/simplark/pretrainer/PersonalizedTopicsV2WithMetaOrganicPRecall/2022/05/03/data/part-00000-ce07fb18-4ac5-4a7f-aaf9-8de1cdcf621d.npy.gz',\n",
       " '/apps/b_perso/hp/simplark/pretrainer/PersonalizedTopicsV2WithMetaOrganicPRecall/2022/05/03/data/part-00001-ce07fb18-4ac5-4a7f-aaf9-8de1cdcf621d.npy.gz',\n",
       " '/apps/b_perso/hp/simplark/pretrainer/PersonalizedTopicsV2WithMetaOrganicPRecall/2022/05/03/data/part-00002-ce07fb18-4ac5-4a7f-aaf9-8de1cdcf621d.npy.gz',\n",
       " '/apps/b_perso/hp/simplark/pretrainer/PersonalizedTopicsV2WithMetaOrganicPRecall/2022/05/03/data/part-00003-ce07fb18-4ac5-4a7f-aaf9-8de1cdcf621d.npy.gz',\n",
       " '/apps/b_perso/hp/simplark/pretrainer/PersonalizedTopicsV2WithMetaOrganicPRecall/2022/05/03/data/part-00004-ce07fb18-4ac5-4a7f-aaf9-8de1cdcf621d.npy.gz',\n",
       " '/apps/b_perso/hp/simplark/pretrainer/PersonalizedTopicsV2WithMetaOrganicPRecall/2022/05/03/data/part-00005-ce07fb18-4ac5-4a7f-aaf9-8de1cdcf621d.npy.gz',\n",
       " '/apps/b_perso/hp/simplark/pretrainer/PersonalizedTopicsV2WithMetaOrganicPRecall/2022/05/03/data/part-00006-ce07fb18-4ac5-4a7f-aaf9-8de1cdcf621d.npy.gz',\n",
       " '/apps/b_perso/hp/simplark/pretrainer/PersonalizedTopicsV2WithMetaOrganicPRecall/2022/05/03/data/part-00007-ce07fb18-4ac5-4a7f-aaf9-8de1cdcf621d.npy.gz',\n",
       " '/apps/b_perso/hp/simplark/pretrainer/PersonalizedTopicsV2WithMetaOrganicPRecall/2022/05/03/data/part-00008-ce07fb18-4ac5-4a7f-aaf9-8de1cdcf621d.npy.gz',\n",
       " '/apps/b_perso/hp/simplark/pretrainer/PersonalizedTopicsV2WithMetaOrganicPRecall/2022/05/03/data/part-00009-ce07fb18-4ac5-4a7f-aaf9-8de1cdcf621d.npy.gz',\n",
       " '/apps/b_perso/hp/simplark/pretrainer/PersonalizedTopicsV2WithMetaOrganicPRecall/2022/05/03/data/part-00010-ce07fb18-4ac5-4a7f-aaf9-8de1cdcf621d.npy.gz',\n",
       " '/apps/b_perso/hp/simplark/pretrainer/PersonalizedTopicsV2WithMetaOrganicPRecall/2022/05/03/data/part-00011-ce07fb18-4ac5-4a7f-aaf9-8de1cdcf621d.npy.gz',\n",
       " '/apps/b_perso/hp/simplark/pretrainer/PersonalizedTopicsV2WithMetaOrganicPRecall/2022/05/03/data/part-00012-ce07fb18-4ac5-4a7f-aaf9-8de1cdcf621d.npy.gz',\n",
       " '/apps/b_perso/hp/simplark/pretrainer/PersonalizedTopicsV2WithMetaOrganicPRecall/2022/05/03/data/part-00013-ce07fb18-4ac5-4a7f-aaf9-8de1cdcf621d.npy.gz',\n",
       " '/apps/b_perso/hp/simplark/pretrainer/PersonalizedTopicsV2WithMetaOrganicPRecall/2022/05/03/data/part-00014-ce07fb18-4ac5-4a7f-aaf9-8de1cdcf621d.npy.gz',\n",
       " '/apps/b_perso/hp/simplark/pretrainer/PersonalizedTopicsV2WithMetaOrganicPRecall/2022/05/03/data/part-00015-ce07fb18-4ac5-4a7f-aaf9-8de1cdcf621d.npy.gz',\n",
       " '/apps/b_perso/hp/simplark/pretrainer/PersonalizedTopicsV2WithMetaOrganicPRecall/2022/05/03/data/part-00016-ce07fb18-4ac5-4a7f-aaf9-8de1cdcf621d.npy.gz',\n",
       " '/apps/b_perso/hp/simplark/pretrainer/PersonalizedTopicsV2WithMetaOrganicPRecall/2022/05/03/data/part-00017-ce07fb18-4ac5-4a7f-aaf9-8de1cdcf621d.npy.gz',\n",
       " '/apps/b_perso/hp/simplark/pretrainer/PersonalizedTopicsV2WithMetaOrganicPRecall/2022/05/03/data/part-00018-ce07fb18-4ac5-4a7f-aaf9-8de1cdcf621d.npy.gz',\n",
       " '/apps/b_perso/hp/simplark/pretrainer/PersonalizedTopicsV2WithMetaOrganicPRecall/2022/05/03/data/part-00019-ce07fb18-4ac5-4a7f-aaf9-8de1cdcf621d.npy.gz',\n",
       " '/apps/b_perso/hp/simplark/pretrainer/PersonalizedTopicsV2WithMetaOrganicPRecall/2022/05/03/data/part-00020-ce07fb18-4ac5-4a7f-aaf9-8de1cdcf621d.npy.gz',\n",
       " '/apps/b_perso/hp/simplark/pretrainer/PersonalizedTopicsV2WithMetaOrganicPRecall/2022/05/03/data/part-00021-ce07fb18-4ac5-4a7f-aaf9-8de1cdcf621d.npy.gz',\n",
       " '/apps/b_perso/hp/simplark/pretrainer/PersonalizedTopicsV2WithMetaOrganicPRecall/2022/05/03/data/part-00022-ce07fb18-4ac5-4a7f-aaf9-8de1cdcf621d.npy.gz',\n",
       " '/apps/b_perso/hp/simplark/pretrainer/PersonalizedTopicsV2WithMetaOrganicPRecall/2022/05/03/data/part-00023-ce07fb18-4ac5-4a7f-aaf9-8de1cdcf621d.npy.gz',\n",
       " '/apps/b_perso/hp/simplark/pretrainer/PersonalizedTopicsV2WithMetaOrganicPRecall/2022/05/03/data/part-00024-ce07fb18-4ac5-4a7f-aaf9-8de1cdcf621d.npy.gz',\n",
       " '/apps/b_perso/hp/simplark/pretrainer/PersonalizedTopicsV2WithMetaOrganicPRecall/2022/05/03/data/part-00025-ce07fb18-4ac5-4a7f-aaf9-8de1cdcf621d.npy.gz',\n",
       " '/apps/b_perso/hp/simplark/pretrainer/PersonalizedTopicsV2WithMetaOrganicPRecall/2022/05/03/data/part-00026-ce07fb18-4ac5-4a7f-aaf9-8de1cdcf621d.npy.gz',\n",
       " '/apps/b_perso/hp/simplark/pretrainer/PersonalizedTopicsV2WithMetaOrganicPRecall/2022/05/03/data/part-00027-ce07fb18-4ac5-4a7f-aaf9-8de1cdcf621d.npy.gz',\n",
       " '/apps/b_perso/hp/simplark/pretrainer/PersonalizedTopicsV2WithMetaOrganicPRecall/2022/05/03/data/part-00028-ce07fb18-4ac5-4a7f-aaf9-8de1cdcf621d.npy.gz',\n",
       " '/apps/b_perso/hp/simplark/pretrainer/PersonalizedTopicsV2WithMetaOrganicPRecall/2022/05/03/data/part-00029-ce07fb18-4ac5-4a7f-aaf9-8de1cdcf621d.npy.gz',\n",
       " '/apps/b_perso/hp/simplark/pretrainer/PersonalizedTopicsV2WithMetaOrganicPRecall/2022/05/03/data/part-00030-ce07fb18-4ac5-4a7f-aaf9-8de1cdcf621d.npy.gz',\n",
       " '/apps/b_perso/hp/simplark/pretrainer/PersonalizedTopicsV2WithMetaOrganicPRecall/2022/05/03/data/part-00031-ce07fb18-4ac5-4a7f-aaf9-8de1cdcf621d.npy.gz',\n",
       " '/apps/b_perso/hp/simplark/pretrainer/PersonalizedTopicsV2WithMetaOrganicPRecall/2022/05/03/data/part-00032-ce07fb18-4ac5-4a7f-aaf9-8de1cdcf621d.npy.gz',\n",
       " '/apps/b_perso/hp/simplark/pretrainer/PersonalizedTopicsV2WithMetaOrganicPRecall/2022/05/03/data/part-00033-ce07fb18-4ac5-4a7f-aaf9-8de1cdcf621d.npy.gz',\n",
       " '/apps/b_perso/hp/simplark/pretrainer/PersonalizedTopicsV2WithMetaOrganicPRecall/2022/05/03/data/part-00034-ce07fb18-4ac5-4a7f-aaf9-8de1cdcf621d.npy.gz',\n",
       " '/apps/b_perso/hp/simplark/pretrainer/PersonalizedTopicsV2WithMetaOrganicPRecall/2022/05/03/data/part-00035-ce07fb18-4ac5-4a7f-aaf9-8de1cdcf621d.npy.gz',\n",
       " '/apps/b_perso/hp/simplark/pretrainer/PersonalizedTopicsV2WithMetaOrganicPRecall/2022/05/03/data/part-00036-ce07fb18-4ac5-4a7f-aaf9-8de1cdcf621d.npy.gz',\n",
       " '/apps/b_perso/hp/simplark/pretrainer/PersonalizedTopicsV2WithMetaOrganicPRecall/2022/05/03/data/part-00037-ce07fb18-4ac5-4a7f-aaf9-8de1cdcf621d.npy.gz',\n",
       " '/apps/b_perso/hp/simplark/pretrainer/PersonalizedTopicsV2WithMetaOrganicPRecall/2022/05/03/data/part-00038-ce07fb18-4ac5-4a7f-aaf9-8de1cdcf621d.npy.gz',\n",
       " '/apps/b_perso/hp/simplark/pretrainer/PersonalizedTopicsV2WithMetaOrganicPRecall/2022/05/03/data/part-00039-ce07fb18-4ac5-4a7f-aaf9-8de1cdcf621d.npy.gz',\n",
       " '/apps/b_perso/hp/simplark/pretrainer/PersonalizedTopicsV2WithMetaOrganicPRecall/2022/05/03/data/part-00040-ce07fb18-4ac5-4a7f-aaf9-8de1cdcf621d.npy.gz',\n",
       " '/apps/b_perso/hp/simplark/pretrainer/PersonalizedTopicsV2WithMetaOrganicPRecall/2022/05/03/data/part-00041-ce07fb18-4ac5-4a7f-aaf9-8de1cdcf621d.npy.gz',\n",
       " '/apps/b_perso/hp/simplark/pretrainer/PersonalizedTopicsV2WithMetaOrganicPRecall/2022/05/03/data/part-00042-ce07fb18-4ac5-4a7f-aaf9-8de1cdcf621d.npy.gz',\n",
       " '/apps/b_perso/hp/simplark/pretrainer/PersonalizedTopicsV2WithMetaOrganicPRecall/2022/05/03/data/part-00043-ce07fb18-4ac5-4a7f-aaf9-8de1cdcf621d.npy.gz',\n",
       " '/apps/b_perso/hp/simplark/pretrainer/PersonalizedTopicsV2WithMetaOrganicPRecall/2022/05/03/data/part-00044-ce07fb18-4ac5-4a7f-aaf9-8de1cdcf621d.npy.gz',\n",
       " '/apps/b_perso/hp/simplark/pretrainer/PersonalizedTopicsV2WithMetaOrganicPRecall/2022/05/03/data/part-00045-ce07fb18-4ac5-4a7f-aaf9-8de1cdcf621d.npy.gz',\n",
       " '/apps/b_perso/hp/simplark/pretrainer/PersonalizedTopicsV2WithMetaOrganicPRecall/2022/05/03/data/part-00046-ce07fb18-4ac5-4a7f-aaf9-8de1cdcf621d.npy.gz',\n",
       " '/apps/b_perso/hp/simplark/pretrainer/PersonalizedTopicsV2WithMetaOrganicPRecall/2022/05/03/data/part-00047-ce07fb18-4ac5-4a7f-aaf9-8de1cdcf621d.npy.gz',\n",
       " '/apps/b_perso/hp/simplark/pretrainer/PersonalizedTopicsV2WithMetaOrganicPRecall/2022/05/03/data/part-00048-ce07fb18-4ac5-4a7f-aaf9-8de1cdcf621d.npy.gz',\n",
       " '/apps/b_perso/hp/simplark/pretrainer/PersonalizedTopicsV2WithMetaOrganicPRecall/2022/05/03/data/part-00049-ce07fb18-4ac5-4a7f-aaf9-8de1cdcf621d.npy.gz',\n",
       " '/apps/b_perso/hp/simplark/pretrainer/PersonalizedTopicsV2WithMetaOrganicPRecall/2022/05/04/data/part-00000-5417f306-eb14-4815-8bb7-1d3dd35e3147.npy.gz',\n",
       " '/apps/b_perso/hp/simplark/pretrainer/PersonalizedTopicsV2WithMetaOrganicPRecall/2022/05/04/data/part-00001-5417f306-eb14-4815-8bb7-1d3dd35e3147.npy.gz',\n",
       " '/apps/b_perso/hp/simplark/pretrainer/PersonalizedTopicsV2WithMetaOrganicPRecall/2022/05/04/data/part-00002-5417f306-eb14-4815-8bb7-1d3dd35e3147.npy.gz',\n",
       " '/apps/b_perso/hp/simplark/pretrainer/PersonalizedTopicsV2WithMetaOrganicPRecall/2022/05/04/data/part-00003-5417f306-eb14-4815-8bb7-1d3dd35e3147.npy.gz',\n",
       " '/apps/b_perso/hp/simplark/pretrainer/PersonalizedTopicsV2WithMetaOrganicPRecall/2022/05/04/data/part-00004-5417f306-eb14-4815-8bb7-1d3dd35e3147.npy.gz',\n",
       " '/apps/b_perso/hp/simplark/pretrainer/PersonalizedTopicsV2WithMetaOrganicPRecall/2022/05/04/data/part-00005-5417f306-eb14-4815-8bb7-1d3dd35e3147.npy.gz',\n",
       " '/apps/b_perso/hp/simplark/pretrainer/PersonalizedTopicsV2WithMetaOrganicPRecall/2022/05/04/data/part-00006-5417f306-eb14-4815-8bb7-1d3dd35e3147.npy.gz',\n",
       " '/apps/b_perso/hp/simplark/pretrainer/PersonalizedTopicsV2WithMetaOrganicPRecall/2022/05/04/data/part-00007-5417f306-eb14-4815-8bb7-1d3dd35e3147.npy.gz',\n",
       " '/apps/b_perso/hp/simplark/pretrainer/PersonalizedTopicsV2WithMetaOrganicPRecall/2022/05/04/data/part-00008-5417f306-eb14-4815-8bb7-1d3dd35e3147.npy.gz',\n",
       " '/apps/b_perso/hp/simplark/pretrainer/PersonalizedTopicsV2WithMetaOrganicPRecall/2022/05/04/data/part-00009-5417f306-eb14-4815-8bb7-1d3dd35e3147.npy.gz',\n",
       " '/apps/b_perso/hp/simplark/pretrainer/PersonalizedTopicsV2WithMetaOrganicPRecall/2022/05/04/data/part-00010-5417f306-eb14-4815-8bb7-1d3dd35e3147.npy.gz',\n",
       " '/apps/b_perso/hp/simplark/pretrainer/PersonalizedTopicsV2WithMetaOrganicPRecall/2022/05/04/data/part-00011-5417f306-eb14-4815-8bb7-1d3dd35e3147.npy.gz',\n",
       " '/apps/b_perso/hp/simplark/pretrainer/PersonalizedTopicsV2WithMetaOrganicPRecall/2022/05/04/data/part-00012-5417f306-eb14-4815-8bb7-1d3dd35e3147.npy.gz',\n",
       " '/apps/b_perso/hp/simplark/pretrainer/PersonalizedTopicsV2WithMetaOrganicPRecall/2022/05/04/data/part-00013-5417f306-eb14-4815-8bb7-1d3dd35e3147.npy.gz',\n",
       " '/apps/b_perso/hp/simplark/pretrainer/PersonalizedTopicsV2WithMetaOrganicPRecall/2022/05/04/data/part-00014-5417f306-eb14-4815-8bb7-1d3dd35e3147.npy.gz',\n",
       " '/apps/b_perso/hp/simplark/pretrainer/PersonalizedTopicsV2WithMetaOrganicPRecall/2022/05/04/data/part-00015-5417f306-eb14-4815-8bb7-1d3dd35e3147.npy.gz',\n",
       " '/apps/b_perso/hp/simplark/pretrainer/PersonalizedTopicsV2WithMetaOrganicPRecall/2022/05/04/data/part-00016-5417f306-eb14-4815-8bb7-1d3dd35e3147.npy.gz',\n",
       " '/apps/b_perso/hp/simplark/pretrainer/PersonalizedTopicsV2WithMetaOrganicPRecall/2022/05/04/data/part-00017-5417f306-eb14-4815-8bb7-1d3dd35e3147.npy.gz',\n",
       " '/apps/b_perso/hp/simplark/pretrainer/PersonalizedTopicsV2WithMetaOrganicPRecall/2022/05/04/data/part-00018-5417f306-eb14-4815-8bb7-1d3dd35e3147.npy.gz',\n",
       " '/apps/b_perso/hp/simplark/pretrainer/PersonalizedTopicsV2WithMetaOrganicPRecall/2022/05/04/data/part-00019-5417f306-eb14-4815-8bb7-1d3dd35e3147.npy.gz',\n",
       " '/apps/b_perso/hp/simplark/pretrainer/PersonalizedTopicsV2WithMetaOrganicPRecall/2022/05/04/data/part-00020-5417f306-eb14-4815-8bb7-1d3dd35e3147.npy.gz',\n",
       " '/apps/b_perso/hp/simplark/pretrainer/PersonalizedTopicsV2WithMetaOrganicPRecall/2022/05/04/data/part-00021-5417f306-eb14-4815-8bb7-1d3dd35e3147.npy.gz',\n",
       " '/apps/b_perso/hp/simplark/pretrainer/PersonalizedTopicsV2WithMetaOrganicPRecall/2022/05/04/data/part-00022-5417f306-eb14-4815-8bb7-1d3dd35e3147.npy.gz',\n",
       " '/apps/b_perso/hp/simplark/pretrainer/PersonalizedTopicsV2WithMetaOrganicPRecall/2022/05/04/data/part-00023-5417f306-eb14-4815-8bb7-1d3dd35e3147.npy.gz',\n",
       " '/apps/b_perso/hp/simplark/pretrainer/PersonalizedTopicsV2WithMetaOrganicPRecall/2022/05/04/data/part-00024-5417f306-eb14-4815-8bb7-1d3dd35e3147.npy.gz',\n",
       " '/apps/b_perso/hp/simplark/pretrainer/PersonalizedTopicsV2WithMetaOrganicPRecall/2022/05/04/data/part-00025-5417f306-eb14-4815-8bb7-1d3dd35e3147.npy.gz',\n",
       " '/apps/b_perso/hp/simplark/pretrainer/PersonalizedTopicsV2WithMetaOrganicPRecall/2022/05/04/data/part-00026-5417f306-eb14-4815-8bb7-1d3dd35e3147.npy.gz',\n",
       " '/apps/b_perso/hp/simplark/pretrainer/PersonalizedTopicsV2WithMetaOrganicPRecall/2022/05/04/data/part-00027-5417f306-eb14-4815-8bb7-1d3dd35e3147.npy.gz',\n",
       " '/apps/b_perso/hp/simplark/pretrainer/PersonalizedTopicsV2WithMetaOrganicPRecall/2022/05/04/data/part-00028-5417f306-eb14-4815-8bb7-1d3dd35e3147.npy.gz',\n",
       " '/apps/b_perso/hp/simplark/pretrainer/PersonalizedTopicsV2WithMetaOrganicPRecall/2022/05/04/data/part-00029-5417f306-eb14-4815-8bb7-1d3dd35e3147.npy.gz',\n",
       " '/apps/b_perso/hp/simplark/pretrainer/PersonalizedTopicsV2WithMetaOrganicPRecall/2022/05/04/data/part-00030-5417f306-eb14-4815-8bb7-1d3dd35e3147.npy.gz',\n",
       " '/apps/b_perso/hp/simplark/pretrainer/PersonalizedTopicsV2WithMetaOrganicPRecall/2022/05/04/data/part-00031-5417f306-eb14-4815-8bb7-1d3dd35e3147.npy.gz',\n",
       " '/apps/b_perso/hp/simplark/pretrainer/PersonalizedTopicsV2WithMetaOrganicPRecall/2022/05/04/data/part-00032-5417f306-eb14-4815-8bb7-1d3dd35e3147.npy.gz',\n",
       " '/apps/b_perso/hp/simplark/pretrainer/PersonalizedTopicsV2WithMetaOrganicPRecall/2022/05/04/data/part-00033-5417f306-eb14-4815-8bb7-1d3dd35e3147.npy.gz',\n",
       " '/apps/b_perso/hp/simplark/pretrainer/PersonalizedTopicsV2WithMetaOrganicPRecall/2022/05/04/data/part-00034-5417f306-eb14-4815-8bb7-1d3dd35e3147.npy.gz',\n",
       " '/apps/b_perso/hp/simplark/pretrainer/PersonalizedTopicsV2WithMetaOrganicPRecall/2022/05/04/data/part-00035-5417f306-eb14-4815-8bb7-1d3dd35e3147.npy.gz',\n",
       " '/apps/b_perso/hp/simplark/pretrainer/PersonalizedTopicsV2WithMetaOrganicPRecall/2022/05/04/data/part-00036-5417f306-eb14-4815-8bb7-1d3dd35e3147.npy.gz',\n",
       " '/apps/b_perso/hp/simplark/pretrainer/PersonalizedTopicsV2WithMetaOrganicPRecall/2022/05/04/data/part-00037-5417f306-eb14-4815-8bb7-1d3dd35e3147.npy.gz',\n",
       " '/apps/b_perso/hp/simplark/pretrainer/PersonalizedTopicsV2WithMetaOrganicPRecall/2022/05/04/data/part-00038-5417f306-eb14-4815-8bb7-1d3dd35e3147.npy.gz',\n",
       " '/apps/b_perso/hp/simplark/pretrainer/PersonalizedTopicsV2WithMetaOrganicPRecall/2022/05/04/data/part-00039-5417f306-eb14-4815-8bb7-1d3dd35e3147.npy.gz',\n",
       " '/apps/b_perso/hp/simplark/pretrainer/PersonalizedTopicsV2WithMetaOrganicPRecall/2022/05/04/data/part-00040-5417f306-eb14-4815-8bb7-1d3dd35e3147.npy.gz',\n",
       " '/apps/b_perso/hp/simplark/pretrainer/PersonalizedTopicsV2WithMetaOrganicPRecall/2022/05/04/data/part-00041-5417f306-eb14-4815-8bb7-1d3dd35e3147.npy.gz',\n",
       " '/apps/b_perso/hp/simplark/pretrainer/PersonalizedTopicsV2WithMetaOrganicPRecall/2022/05/04/data/part-00042-5417f306-eb14-4815-8bb7-1d3dd35e3147.npy.gz',\n",
       " '/apps/b_perso/hp/simplark/pretrainer/PersonalizedTopicsV2WithMetaOrganicPRecall/2022/05/04/data/part-00043-5417f306-eb14-4815-8bb7-1d3dd35e3147.npy.gz',\n",
       " '/apps/b_perso/hp/simplark/pretrainer/PersonalizedTopicsV2WithMetaOrganicPRecall/2022/05/04/data/part-00044-5417f306-eb14-4815-8bb7-1d3dd35e3147.npy.gz',\n",
       " '/apps/b_perso/hp/simplark/pretrainer/PersonalizedTopicsV2WithMetaOrganicPRecall/2022/05/04/data/part-00045-5417f306-eb14-4815-8bb7-1d3dd35e3147.npy.gz',\n",
       " '/apps/b_perso/hp/simplark/pretrainer/PersonalizedTopicsV2WithMetaOrganicPRecall/2022/05/04/data/part-00046-5417f306-eb14-4815-8bb7-1d3dd35e3147.npy.gz',\n",
       " '/apps/b_perso/hp/simplark/pretrainer/PersonalizedTopicsV2WithMetaOrganicPRecall/2022/05/04/data/part-00047-5417f306-eb14-4815-8bb7-1d3dd35e3147.npy.gz',\n",
       " '/apps/b_perso/hp/simplark/pretrainer/PersonalizedTopicsV2WithMetaOrganicPRecall/2022/05/04/data/part-00048-5417f306-eb14-4815-8bb7-1d3dd35e3147.npy.gz',\n",
       " '/apps/b_perso/hp/simplark/pretrainer/PersonalizedTopicsV2WithMetaOrganicPRecall/2022/05/04/data/part-00049-5417f306-eb14-4815-8bb7-1d3dd35e3147.npy.gz',\n",
       " ...]"
      ]
     },
     "execution_count": 11,
     "metadata": {},
     "output_type": "execute_result"
    }
   ],
   "source": [
    "ft.paths"
   ]
  },
  {
   "cell_type": "code",
   "execution_count": 13,
   "id": "88e215bb-ac6d-4f14-913d-381c928e8a34",
   "metadata": {},
   "outputs": [
    {
     "data": {
      "text/plain": [
       "31.0"
      ]
     },
     "execution_count": 13,
     "metadata": {},
     "output_type": "execute_result"
    }
   ],
   "source": [
    "len(ft.paths) / 50"
   ]
  },
  {
   "cell_type": "code",
   "execution_count": 9,
   "id": "77a79f7a-1212-41bc-9a1b-858cb7cfe659",
   "metadata": {
    "tags": []
   },
   "outputs": [
    {
     "name": "stderr",
     "output_type": "stream",
     "text": [
      "                                                                                \r"
     ]
    }
   ],
   "source": [
    "df = ft.fetch_spark_df(spark, feature_col_prefix='f_', feature_cols = feature_cols)"
   ]
  },
  {
   "cell_type": "code",
   "execution_count": 27,
   "id": "6c5149eb-0349-4426-a542-f0a895ff0bb5",
   "metadata": {
    "scrolled": true,
    "tags": []
   },
   "outputs": [
    {
     "name": "stderr",
     "output_type": "stream",
     "text": [
      "                                                                                \r"
     ]
    },
    {
     "data": {
      "text/plain": [
       "1184796029"
      ]
     },
     "execution_count": 27,
     "metadata": {},
     "output_type": "execute_result"
    }
   ],
   "source": [
    "#df.count() "
   ]
  },
  {
   "cell_type": "markdown",
   "id": "5944a66e-baf1-48aa-8b0c-4af8ed9e2909",
   "metadata": {
    "tags": []
   },
   "source": [
    "# Get simplex Data for HB/PA"
   ]
  },
  {
   "cell_type": "markdown",
   "id": "6177d390-7870-4e3c-9878-676b1b56cf22",
   "metadata": {},
   "source": [
    "#### Simplex data from the vlp categories:\n",
    "#### Hand bags:"
   ]
  },
  {
   "cell_type": "code",
   "execution_count": null,
   "id": "fa166d61-9411-45ac-8936-d6390db3f5cd",
   "metadata": {},
   "outputs": [],
   "source": [
    "vlp_hb_categories = [\n",
    "    '169291',\n",
    "    '52357'\n",
    "    \n",
    "]\n",
    "\n",
    "df_vlp_hb = df \\\n",
    "    .withColumn(\"meid\", F.col(\"meid\").cast(\"string\")) \\\n",
    "    .withColumn(\"category\", F.col(\"category\").cast(\"string\")) \\\n",
    "    .filter(F.col(\"category\").isin(vlp_hb_categories))"
   ]
  },
  {
   "cell_type": "markdown",
   "id": "5ef07dce-ded9-4e2a-95f2-9c7d8cb93d34",
   "metadata": {},
   "source": [
    "### Motors data"
   ]
  },
  {
   "cell_type": "code",
   "execution_count": 10,
   "id": "519f95f6-a03f-4a44-9cd7-9b7d7c845ee3",
   "metadata": {},
   "outputs": [],
   "source": [
    "vlp_l1_categories=[b'0.131090', b'0.6000' ]\n",
    "#cast l1 categ to string: \n",
    "df_vlp = df \\\n",
    "    .withColumn(\"meid\", F.col(\"meid\").cast(\"string\")) \\\n",
    "    .filter(F.col(\"l1Cat\").isin(vlp_l1_categories))"
   ]
  },
  {
   "cell_type": "code",
   "execution_count": 21,
   "id": "7e3aa4cc-fd81-41f3-af39-9c5d9f9a5352",
   "metadata": {},
   "outputs": [],
   "source": [
    "#df_vlp.count()\n"
   ]
  },
  {
   "cell_type": "markdown",
   "id": "fb5b00db-de4b-4c24-a807-fe37a91459e6",
   "metadata": {},
   "source": [
    "##### Filter for purchases:"
   ]
  },
  {
   "cell_type": "code",
   "execution_count": 11,
   "id": "00d1c6fc-b792-4050-af10-bb8ede43d518",
   "metadata": {},
   "outputs": [],
   "source": [
    "vlp_purchased_meid = (df_vlp\n",
    "                           .groupBy(\"meid\")\n",
    "                           .agg(func.sum(\"labelPurchase\").alias(\"sum_purchase\"))\n",
    "                           .filter(F.col(\"sum_purchase\") > 0)\n",
    "                           .select(\"meid\")\n",
    "                           .dropDuplicates())\n",
    "\n",
    "vlp_pa_purchased_meid = vlp_purchased_meid.select(\"meid\").dropDuplicates()\n",
    "\n",
    "df_vlp_purchased = df_vlp.join(vlp_pa_purchased_meid, on = [\"meid\"], how = \"inner\")"
   ]
  },
  {
   "cell_type": "code",
   "execution_count": 31,
   "id": "5baa1d00-959d-401d-9a7c-0721ee7ee027",
   "metadata": {},
   "outputs": [
    {
     "name": "stderr",
     "output_type": "stream",
     "text": [
      "                                                                                \r"
     ]
    },
    {
     "data": {
      "text/plain": [
       "147724"
      ]
     },
     "execution_count": 31,
     "metadata": {},
     "output_type": "execute_result"
    }
   ],
   "source": [
    "#vlp_pa_purchased_meid.count()"
   ]
  },
  {
   "cell_type": "code",
   "execution_count": 32,
   "id": "35c984cb-e338-47df-b767-72c88d721a8d",
   "metadata": {},
   "outputs": [
    {
     "name": "stderr",
     "output_type": "stream",
     "text": [
      "                                                                                \r"
     ]
    },
    {
     "data": {
      "text/plain": [
       "1447170"
      ]
     },
     "execution_count": 32,
     "metadata": {},
     "output_type": "execute_result"
    }
   ],
   "source": [
    "#df_vlp_purchased.count() \n",
    "#1447170"
   ]
  },
  {
   "cell_type": "markdown",
   "id": "8ee5292e-ec6a-4042-948f-b64278dbc1b4",
   "metadata": {},
   "source": [
    "##### Apply flters for motors data:"
   ]
  },
  {
   "cell_type": "code",
   "execution_count": 12,
   "id": "b5523535-cea5-4e49-8a83-3204eb4e926b",
   "metadata": {},
   "outputs": [],
   "source": [
    "df_items = df_vlp_purchased\\\n",
    ".select(\"itemId\", \"siteId\", \"category\", \"l1Cat\")\\\n",
    ".withColumnRenamed(\"itemId\", \"ITEM_ID\")\\\n",
    ".withColumnRenamed(\"siteId\", \"SITE_ID\")\\\n",
    ".withColumnRenamed(\"category\", \"LEAF_CATEG_ID\").dropDuplicates()\n",
    "#keep unique items only "
   ]
  },
  {
   "cell_type": "code",
   "execution_count": 34,
   "id": "f5cb7035-f682-4829-9eec-9dc07dc172b3",
   "metadata": {},
   "outputs": [
    {
     "name": "stderr",
     "output_type": "stream",
     "text": [
      "                                                                                \r"
     ]
    },
    {
     "data": {
      "text/plain": [
       "1105440"
      ]
     },
     "execution_count": 34,
     "metadata": {},
     "output_type": "execute_result"
    }
   ],
   "source": [
    "#df_items.count()\n",
    "#1105440 unique items"
   ]
  },
  {
   "cell_type": "code",
   "execution_count": 13,
   "id": "1bda239f-9bd1-4b8e-bce9-ef191804ef3e",
   "metadata": {},
   "outputs": [],
   "source": [
    "#vlp_l1_categories=[131090, 6000 ]\n",
    "\n",
    "from pyspark.sql import functions\n",
    "from pyspark.sql.types import IntegerType\n",
    "binary_to_int = functions.udf(lambda x: int(x, 2), IntegerType())\n",
    "\n",
    "data = df_items.withColumn(\"LEAF_CATEG_ID\", binary_to_int(\"LEAF_CATEG_ID\"))"
   ]
  },
  {
   "cell_type": "code",
   "execution_count": 75,
   "id": "36ef57c3-343c-4b87-a7a4-0c0cbe10a8b9",
   "metadata": {},
   "outputs": [
    {
     "name": "stdout",
     "output_type": "stream",
     "text": [
      "root\n",
      " |-- ITEM_ID: long (nullable = true)\n",
      " |-- SITE_ID: long (nullable = true)\n",
      " |-- LEAF_CATEG_ID: integer (nullable = true)\n",
      " |-- l1Cat: integer (nullable = true)\n",
      "\n"
     ]
    },
    {
     "name": "stderr",
     "output_type": "stream",
     "text": [
      "[Stage 19:=====>                                               (28 + 228) / 256]\r"
     ]
    }
   ],
   "source": [
    "#data_cast.printSchema()"
   ]
  },
  {
   "cell_type": "markdown",
   "id": "3195ed0f-9330-4bf9-940d-bfc0bae92004",
   "metadata": {},
   "source": [
    "#### Add site id in order to join with relevant categories:"
   ]
  },
  {
   "cell_type": "code",
   "execution_count": 14,
   "id": "433a9d76-06d6-43a4-9b54-185f0836fa1c",
   "metadata": {},
   "outputs": [],
   "source": [
    "auc_end_date = \"2022-04-15\"\n",
    "df_items_lstg = spark.table(\"access_views.DW_LSTG_ITEM\").alias('i') \\\n",
    "        .where( (F.col(\"AUCT_END_DT\") >= auc_end_date))   \\\n",
    "        .join(data, \"ITEM_ID\")\\\n",
    "        .select(\n",
    "        'ITEM_ID',\n",
    "        'AUCT_END_DT',\n",
    "        'i.LEAF_CATEG_ID',\n",
    "        \"l1Cat\",\n",
    "        'i.ITEM_SITE_ID').withColumnRenamed(\"ITEM_SITE_ID\", \"SITE_ID\").withColumnRenamed(\"l1Cat\", \"L1CATEG\")"
   ]
  },
  {
   "cell_type": "code",
   "execution_count": null,
   "id": "c8a03d5a-9e1d-4540-b457-61d1166d4dbd",
   "metadata": {},
   "outputs": [],
   "source": [
    "#df_items_lstg.select(\"SITE_ID\").distinct().show()"
   ]
  },
  {
   "cell_type": "markdown",
   "id": "be6c2f71-989e-4332-9822-5f3d7af52d70",
   "metadata": {},
   "source": [
    "##### add categories of dw_category_g for filters:"
   ]
  },
  {
   "cell_type": "code",
   "execution_count": 15,
   "id": "35984804-2f8e-47e9-adfd-4a13819497bc",
   "metadata": {},
   "outputs": [],
   "source": [
    "condition= ( (F.col(\"MOVE_TO\") == F.col(\"LEAF_CATEG_ID\")) &  \\\n",
    "            ( ((F.col(\"META_CATEG_ID\").isin(6000))  & (F.col(\"SITE_ID\").isin(100)) ) | \n",
    "               \n",
    "             ((F.col(\"META_CATEG_ID\").isin(131090)) & (F.col(\"SITE_ID\").isin(3,77,15))) ) )  \n",
    "  "
   ]
  },
  {
   "cell_type": "code",
   "execution_count": 16,
   "id": "a5984dce-d818-48c1-99c3-760e62791bee",
   "metadata": {},
   "outputs": [],
   "source": [
    "#motors site id is 100 \n",
    "from pyspark.sql.functions import col\n",
    "\n",
    "# Add LEAF_CATEG_ID from DW_LSTG_ITEM\n",
    "#decimal and integer in join suppose to work - cast automaticly. \n",
    "# returns only DW_CATEGORY_GROUPINGS columns where joining with data data frame. - format issue.\n",
    "df_items_categ = (\n",
    "    spark.table(\"ACCESS_VIEWS.DW_CATEGORY_GROUPINGS\").alias('c')\n",
    "    .where(    condition   ) \n",
    "    .join(df_items_lstg.alias('i'), [\"LEAF_CATEG_ID\", \"SITE_ID\"])\n",
    "    .select(  'ITEM_ID','AUCT_END_DT', \"SITE_ID\",\"L1CATEG\", \"LEAF_CATEG_ID\",\"META_CATEG_ID\", \"LEAF_CATEG_NAME\",\"META_CATEG_NAME\" )\n",
    "  \n",
    ")\n"
   ]
  },
  {
   "cell_type": "code",
   "execution_count": 17,
   "id": "fb64c6dc-7414-45c0-bde7-5fdfd1a8bf58",
   "metadata": {},
   "outputs": [],
   "source": [
    "df_items_categ=df_items_categ.repartition(2000)"
   ]
  },
  {
   "cell_type": "code",
   "execution_count": null,
   "id": "76294252-3630-4609-9429-551fba1d4a57",
   "metadata": {},
   "outputs": [],
   "source": [
    "#df_items_categ.count()"
   ]
  },
  {
   "cell_type": "code",
   "execution_count": 18,
   "id": "fafe6390-6ca6-42ab-aead-88b004fa8024",
   "metadata": {},
   "outputs": [],
   "source": [
    "df_pa = df_vlp_purchased.join(\n",
    "    df_items_categ, df.itemId == df_items_categ.ITEM_ID , how=\"inner\"\n",
    ")"
   ]
  },
  {
   "cell_type": "code",
   "execution_count": 19,
   "id": "8e02703e-3eda-4d46-8650-499d1f31fb4e",
   "metadata": {},
   "outputs": [],
   "source": [
    "df_pa=df_pa.repartition(500)"
   ]
  },
  {
   "cell_type": "code",
   "execution_count": 20,
   "id": "bfc19b4b-045e-46aa-97aa-709a3955245f",
   "metadata": {},
   "outputs": [],
   "source": [
    "df_pa_dedup=df_pa.dropDuplicates()"
   ]
  },
  {
   "cell_type": "code",
   "execution_count": 21,
   "id": "bceea678-2f92-45b8-8e49-8cfe4a2f490d",
   "metadata": {
    "scrolled": true,
    "tags": []
   },
   "outputs": [
    {
     "name": "stderr",
     "output_type": "stream",
     "text": [
      "22/06/02 13:49:38 ERROR Utils: Uncaught exception in thread Thread-7\n",
      "org.apache.hadoop.ipc.RemoteException(org.apache.hadoop.hdfs.server.namenode.LeaseExpiredException): No lease on /user/b_perso/olivyatan/simplex_data_pa/.spark-staging-0/_LOCK (inode 33678766564): File does not exist. Holder DFSClient_NONMAPREDUCE_-155819839_17 does not have any open files.\n",
      "\tat org.apache.hadoop.hdfs.server.namenode.FSNamesystem.checkLease(FSNamesystem.java:3863)\n",
      "\tat org.apache.hadoop.hdfs.server.namenode.FSNamesystem.completeFileInternal(FSNamesystem.java:3951)\n",
      "\tat org.apache.hadoop.hdfs.server.namenode.FSNamesystem.completeFile(FSNamesystem.java:3918)\n",
      "\tat org.apache.hadoop.hdfs.server.namenode.NameNodeRpcServer.complete(NameNodeRpcServer.java:989)\n",
      "\tat org.apache.hadoop.hdfs.protocolPB.ClientNamenodeProtocolServerSideTranslatorPB.complete(ClientNamenodeProtocolServerSideTranslatorPB.java:605)\n",
      "\tat org.apache.hadoop.ipc.ProtobufRpcEngine$Server$ProtoBufRpcInvoker.call(ProtobufRpcEngine.java:731)\n",
      "\tat org.apache.hadoop.ipc.RPC$Server.call(RPC.java:993)\n",
      "\tat org.apache.hadoop.ipc.Server$RpcCall.run(Server.java:963)\n",
      "\tat org.apache.hadoop.ipc.Server$RpcCall.run(Server.java:900)\n",
      "\tat javax.security.auth.Subject.doAs(Subject.java:422)\n",
      "\tat org.apache.hadoop.security.UserGroupInformation.doAs(UserGroupInformation.java:1888)\n",
      "\tat org.apache.hadoop.ipc.Server$Handler.run(Server.java:2618)\n",
      "Caused by: org.apache.hadoop.ipc.RemoteException(org.apache.hadoop.hdfs.server.namenode.LeaseExpiredException): No lease on /user/b_perso/olivyatan/simplex_data_pa/.spark-staging-0/_LOCK (inode 33678766564): File does not exist. Holder DFSClient_NONMAPREDUCE_-155819839_17 does not have any open files.\n",
      "\tat org.apache.hadoop.hdfs.server.namenode.FSNamesystem.checkLease(FSNamesystem.java:3863)\n",
      "\tat org.apache.hadoop.hdfs.server.namenode.FSNamesystem.completeFileInternal(FSNamesystem.java:3951)\n",
      "\tat org.apache.hadoop.hdfs.server.namenode.FSNamesystem.completeFile(FSNamesystem.java:3918)\n",
      "\tat org.apache.hadoop.hdfs.server.namenode.NameNodeRpcServer.complete(NameNodeRpcServer.java:989)\n",
      "\tat org.apache.hadoop.hdfs.protocolPB.ClientNamenodeProtocolServerSideTranslatorPB.complete(ClientNamenodeProtocolServerSideTranslatorPB.java:605)\n",
      "\tat org.apache.hadoop.hdfs.protocol.proto.ClientNamenodeProtocolProtos$ClientNamenodeProtocol$2.callBlockingMethod(ClientNamenodeProtocolProtos.java)\n",
      "\tat org.apache.hadoop.ipc.ProtobufRpcEngine$Server$ProtoBufRpcInvoker.call(ProtobufRpcEngine.java:731)\n",
      "\tat org.apache.hadoop.ipc.RPC$Server.call(RPC.java:993)\n",
      "\tat org.apache.hadoop.ipc.Server$RpcCall.run(Server.java:963)\n",
      "\tat org.apache.hadoop.ipc.Server$RpcCall.run(Server.java:900)\n",
      "\tat java.security.AccessController.doPrivileged(Native Method)\n",
      "\tat javax.security.auth.Subject.doAs(Subject.java:422)\n",
      "\tat org.apache.hadoop.security.UserGroupInformation.doAs(UserGroupInformation.java:1888)\n",
      "\tat org.apache.hadoop.ipc.Server$Handler.run(Server.java:2618)\n",
      "\n",
      "\tat org.apache.hadoop.ipc.Client.processCall(Client.java:2156)\n",
      "\tat org.apache.hadoop.ipc.Client.access$500(Client.java:92)\n",
      "\tat org.apache.hadoop.ipc.Client$Call.callComplete(Client.java:428)\n",
      "\tat org.apache.hadoop.ipc.Client$Call.setException(Client.java:452)\n",
      "\tat org.apache.hadoop.ipc.Client$Connection.receiveRpcResponse(Client.java:1314)\n",
      "\tat org.apache.hadoop.ipc.Client$Connection.run(Client.java:1107)\n",
      "\n",
      "\tat org.apache.hadoop.ipc.Client.getRpcResponse(Client.java:1856)\n",
      "\tat org.apache.hadoop.ipc.Client.call(Client.java:1780)\n",
      "\tat org.apache.hadoop.ipc.Client.call(Client.java:1668)\n",
      "\tat org.apache.hadoop.ipc.Client.call(Client.java:1597)\n",
      "\tat org.apache.hadoop.ipc.ProtobufRpcEngine$Invoker.invoke(ProtobufRpcEngine.java:260)\n",
      "\tat com.sun.proxy.$Proxy15.complete(Unknown Source)\n",
      "\tat org.apache.hadoop.hdfs.protocolPB.ClientNamenodeProtocolTranslatorPB.complete(ClientNamenodeProtocolTranslatorPB.java:686)\n",
      "\tat sun.reflect.NativeMethodAccessorImpl.invoke0(Native Method)\n",
      "\tat sun.reflect.NativeMethodAccessorImpl.invoke(NativeMethodAccessorImpl.java:62)\n",
      "\tat sun.reflect.DelegatingMethodAccessorImpl.invoke(DelegatingMethodAccessorImpl.java:43)\n",
      "\tat java.lang.reflect.Method.invoke(Method.java:498)\n",
      "\tat org.apache.hadoop.io.retry.RetryInvocationHandler.invokeMethod(RetryInvocationHandler.java:291)\n",
      "\tat org.apache.hadoop.io.retry.RetryInvocationHandler.invoke(RetryInvocationHandler.java:203)\n",
      "\tat org.apache.hadoop.io.retry.RetryInvocationHandler.invoke(RetryInvocationHandler.java:185)\n",
      "\tat com.sun.proxy.$Proxy16.complete(Unknown Source)\n",
      "\tat org.apache.hadoop.hdfs.DFSOutputStream.completeFile(DFSOutputStream.java:2499)\n",
      "\tat org.apache.hadoop.hdfs.DFSOutputStream.closeImpl(DFSOutputStream.java:2475)\n",
      "\tat org.apache.hadoop.hdfs.DFSOutputStream.close(DFSOutputStream.java:2441)\n",
      "\tat org.apache.hadoop.fs.FSDataOutputStream$PositionCache.close(FSDataOutputStream.java:72)\n",
      "\tat org.apache.hadoop.fs.FSDataOutputStream.close(FSDataOutputStream.java:106)\n",
      "\tat org.apache.spark.sql.execution.datasources.InsertIntoHadoopFsRelationCommand.$anonfun$detectConflict$2(InsertIntoHadoopFsRelationCommand.scala:353)\n",
      "\tat org.apache.spark.sql.execution.datasources.InsertIntoHadoopFsRelationCommand.$anonfun$detectConflict$2$adapted(InsertIntoHadoopFsRelationCommand.scala:353)\n",
      "\tat scala.Option.foreach(Option.scala:407)\n",
      "\tat org.apache.spark.sql.execution.datasources.InsertIntoHadoopFsRelationCommand.$anonfun$detectConflict$1(InsertIntoHadoopFsRelationCommand.scala:353)\n",
      "\tat org.apache.spark.util.Utils$.tryLogNonFatalError(Utils.scala:1419)\n",
      "\tat org.apache.spark.sql.execution.datasources.InsertIntoHadoopFsRelationCommand.detectConflict(InsertIntoHadoopFsRelationCommand.scala:353)\n",
      "\tat org.apache.spark.sql.execution.datasources.InsertIntoHadoopFsRelationCommand.deleteMatchingPartitions(InsertIntoHadoopFsRelationCommand.scala:292)\n",
      "\tat org.apache.spark.sql.execution.datasources.InsertIntoHadoopFsRelationCommand.run(InsertIntoHadoopFsRelationCommand.scala:183)\n",
      "\tat org.apache.spark.sql.execution.command.DataWritingCommandExec.sideEffectResult$lzycompute(commands.scala:108)\n",
      "\tat org.apache.spark.sql.execution.command.DataWritingCommandExec.sideEffectResult(commands.scala:106)\n",
      "\tat org.apache.spark.sql.execution.command.DataWritingCommandExec.doExecute(commands.scala:131)\n",
      "\tat org.apache.spark.sql.execution.SparkPlan.$anonfun$execute$1(SparkPlan.scala:180)\n",
      "\tat org.apache.spark.sql.execution.SparkPlan.$anonfun$executeQuery$1(SparkPlan.scala:218)\n",
      "\tat org.apache.spark.rdd.RDDOperationScope$.withScope(RDDOperationScope.scala:151)\n",
      "\tat org.apache.spark.sql.execution.SparkPlan.executeQuery(SparkPlan.scala:215)\n",
      "\tat org.apache.spark.sql.execution.SparkPlan.execute(SparkPlan.scala:176)\n",
      "\tat org.apache.spark.sql.execution.QueryExecution.toRdd$lzycompute(QueryExecution.scala:132)\n",
      "\tat org.apache.spark.sql.execution.QueryExecution.toRdd(QueryExecution.scala:131)\n",
      "\tat org.apache.spark.sql.DataFrameWriter.$anonfun$runCommand$1(DataFrameWriter.scala:989)\n",
      "\tat org.apache.spark.sql.execution.SQLExecution$.$anonfun$withNewExecutionId$5(SQLExecution.scala:103)\n",
      "\tat org.apache.spark.sql.execution.SQLExecution$.withSQLConfPropagated(SQLExecution.scala:163)\n",
      "\tat org.apache.spark.sql.execution.SQLExecution$.$anonfun$withNewExecutionId$1(SQLExecution.scala:90)\n",
      "\tat org.apache.spark.sql.SparkSession.withActive(SparkSession.scala:772)\n",
      "\tat org.apache.spark.sql.execution.SQLExecution$.withNewExecutionId(SQLExecution.scala:64)\n",
      "\tat org.apache.spark.sql.DataFrameWriter.runCommand(DataFrameWriter.scala:989)\n",
      "\tat org.apache.spark.sql.DataFrameWriter.saveToV1Source(DataFrameWriter.scala:438)\n",
      "\tat org.apache.spark.sql.DataFrameWriter.saveInternal(DataFrameWriter.scala:415)\n",
      "\tat org.apache.spark.sql.DataFrameWriter.save(DataFrameWriter.scala:293)\n",
      "\tat org.apache.spark.sql.DataFrameWriter.parquet(DataFrameWriter.scala:874)\n",
      "\tat sun.reflect.NativeMethodAccessorImpl.invoke0(Native Method)\n",
      "\tat sun.reflect.NativeMethodAccessorImpl.invoke(NativeMethodAccessorImpl.java:62)\n",
      "\tat sun.reflect.DelegatingMethodAccessorImpl.invoke(DelegatingMethodAccessorImpl.java:43)\n",
      "\tat java.lang.reflect.Method.invoke(Method.java:498)\n",
      "\tat py4j.reflection.MethodInvoker.invoke(MethodInvoker.java:244)\n",
      "\tat py4j.reflection.ReflectionEngine.invoke(ReflectionEngine.java:357)\n",
      "\tat py4j.Gateway.invoke(Gateway.java:282)\n",
      "\tat py4j.commands.AbstractCommand.invokeMethod(AbstractCommand.java:132)\n",
      "\tat py4j.commands.CallCommand.execute(CallCommand.java:79)\n",
      "\tat py4j.GatewayConnection.run(GatewayConnection.java:238)\n",
      "\tat java.lang.Thread.run(Thread.java:748)\n",
      "22/06/02 14:00:12 ERROR TransportClient: Failed to send RPC RPC 6583715456861587928 to /10.179.18.35:53854: java.nio.channels.ClosedChannelException\n",
      "java.nio.channels.ClosedChannelException\n",
      "\tat io.netty.channel.AbstractChannel$AbstractUnsafe.newClosedChannelException(AbstractChannel.java:957)\n",
      "\tat io.netty.channel.AbstractChannel$AbstractUnsafe.write(AbstractChannel.java:865)\n",
      "\tat io.netty.channel.DefaultChannelPipeline$HeadContext.write(DefaultChannelPipeline.java:1367)\n",
      "\tat io.netty.channel.AbstractChannelHandlerContext.invokeWrite0(AbstractChannelHandlerContext.java:717)\n",
      "\tat io.netty.channel.AbstractChannelHandlerContext.invokeWriteAndFlush(AbstractChannelHandlerContext.java:764)\n",
      "\tat io.netty.channel.AbstractChannelHandlerContext$WriteTask.run(AbstractChannelHandlerContext.java:1071)\n",
      "\tat io.netty.util.concurrent.AbstractEventExecutor.safeExecute(AbstractEventExecutor.java:164)\n",
      "\tat io.netty.util.concurrent.SingleThreadEventExecutor.runAllTasks(SingleThreadEventExecutor.java:472)\n",
      "\tat io.netty.channel.nio.NioEventLoop.run(NioEventLoop.java:500)\n",
      "\tat io.netty.util.concurrent.SingleThreadEventExecutor$4.run(SingleThreadEventExecutor.java:989)\n",
      "\tat io.netty.util.internal.ThreadExecutorMap$2.run(ThreadExecutorMap.java:74)\n",
      "\tat io.netty.util.concurrent.FastThreadLocalRunnable.run(FastThreadLocalRunnable.java:30)\n",
      "\tat java.lang.Thread.run(Thread.java:748)\n",
      "22/06/02 14:00:12 ERROR TransportClient: Failed to send RPC RPC 4763632196851222698 to /10.78.167.106:41084: java.nio.channels.ClosedChannelException\n",
      "java.nio.channels.ClosedChannelException\n",
      "\tat io.netty.channel.AbstractChannel$AbstractUnsafe.newClosedChannelException(AbstractChannel.java:957)\n",
      "\tat io.netty.channel.AbstractChannel$AbstractUnsafe.write(AbstractChannel.java:865)\n",
      "\tat io.netty.channel.DefaultChannelPipeline$HeadContext.write(DefaultChannelPipeline.java:1367)\n",
      "\tat io.netty.channel.AbstractChannelHandlerContext.invokeWrite0(AbstractChannelHandlerContext.java:717)\n",
      "\tat io.netty.channel.AbstractChannelHandlerContext.invokeWriteAndFlush(AbstractChannelHandlerContext.java:764)\n",
      "\tat io.netty.channel.AbstractChannelHandlerContext$WriteTask.run(AbstractChannelHandlerContext.java:1071)\n",
      "\tat io.netty.util.concurrent.AbstractEventExecutor.safeExecute(AbstractEventExecutor.java:164)\n",
      "\tat io.netty.util.concurrent.SingleThreadEventExecutor.runAllTasks(SingleThreadEventExecutor.java:472)\n",
      "\tat io.netty.channel.nio.NioEventLoop.run(NioEventLoop.java:500)\n",
      "\tat io.netty.util.concurrent.SingleThreadEventExecutor$4.run(SingleThreadEventExecutor.java:989)\n",
      "\tat io.netty.util.internal.ThreadExecutorMap$2.run(ThreadExecutorMap.java:74)\n",
      "\tat io.netty.util.concurrent.FastThreadLocalRunnable.run(FastThreadLocalRunnable.java:30)\n",
      "\tat java.lang.Thread.run(Thread.java:748)\n",
      "22/06/02 14:00:12 ERROR TransportResponseHandler: Still have 1 requests outstanding when connection from /10.183.148.155:57624 is closed\n",
      "22/06/02 14:00:12 ERROR TransportResponseHandler: Still have 1 requests outstanding when connection from /10.216.146.58:50442 is closed\n",
      "22/06/02 14:00:12 ERROR ContextCleaner: Error cleaning broadcast 10\n",
      "org.apache.spark.SparkException: Exception thrown in awaitResult: \n",
      "\tat org.apache.spark.util.ThreadUtils$.awaitResult(ThreadUtils.scala:301)\n",
      "\tat org.apache.spark.rpc.RpcTimeout.awaitResult(RpcTimeout.scala:75)\n",
      "\tat org.apache.spark.storage.BlockManagerMaster.removeBroadcast(BlockManagerMaster.scala:194)\n",
      "\tat org.apache.spark.broadcast.TorrentBroadcast$.unpersist(TorrentBroadcast.scala:349)\n",
      "\tat org.apache.spark.broadcast.TorrentBroadcastFactory.unbroadcast(TorrentBroadcastFactory.scala:46)\n",
      "\tat org.apache.spark.broadcast.BroadcastManager.unbroadcast(BroadcastManager.scala:81)\n",
      "\tat org.apache.spark.ContextCleaner.doCleanupBroadcast(ContextCleaner.scala:243)\n",
      "\tat org.apache.spark.ContextCleaner.$anonfun$keepCleaning$3(ContextCleaner.scala:195)\n",
      "\tat org.apache.spark.ContextCleaner.$anonfun$keepCleaning$3$adapted(ContextCleaner.scala:186)\n",
      "\tat scala.Option.foreach(Option.scala:407)\n",
      "\tat org.apache.spark.ContextCleaner.$anonfun$keepCleaning$1(ContextCleaner.scala:186)\n",
      "\tat org.apache.spark.util.Utils$.tryOrStopSparkContext(Utils.scala:1381)\n",
      "\tat org.apache.spark.ContextCleaner.org$apache$spark$ContextCleaner$$keepCleaning(ContextCleaner.scala:180)\n",
      "\tat org.apache.spark.ContextCleaner$$anon$1.run(ContextCleaner.scala:77)\n",
      "Caused by: java.lang.RuntimeException: org.apache.spark.SparkException: Could not find BlockManagerEndpoint1.\n",
      "\tat org.apache.spark.rpc.netty.Dispatcher.postMessage(Dispatcher.scala:176)\n",
      "\tat org.apache.spark.rpc.netty.Dispatcher.postRemoteMessage(Dispatcher.scala:136)\n",
      "\tat org.apache.spark.rpc.netty.NettyRpcHandler.receive(NettyRpcEnv.scala:684)\n",
      "\tat org.apache.spark.network.server.TransportRequestHandler.processRpcRequest(TransportRequestHandler.java:161)\n",
      "\tat org.apache.spark.network.server.TransportRequestHandler.handle(TransportRequestHandler.java:109)\n",
      "\tat org.apache.spark.network.server.TransportChannelHandler.channelRead0(TransportChannelHandler.java:140)\n",
      "\tat org.apache.spark.network.server.TransportChannelHandler.channelRead0(TransportChannelHandler.java:53)\n",
      "\tat io.netty.channel.SimpleChannelInboundHandler.channelRead(SimpleChannelInboundHandler.java:99)\n",
      "\tat io.netty.channel.AbstractChannelHandlerContext.invokeChannelRead(AbstractChannelHandlerContext.java:379)\n",
      "\tat io.netty.channel.AbstractChannelHandlerContext.invokeChannelRead(AbstractChannelHandlerContext.java:365)\n",
      "\tat io.netty.channel.AbstractChannelHandlerContext.fireChannelRead(AbstractChannelHandlerContext.java:357)\n",
      "\tat io.netty.handler.timeout.IdleStateHandler.channelRead(IdleStateHandler.java:286)\n",
      "\tat io.netty.channel.AbstractChannelHandlerContext.invokeChannelRead(AbstractChannelHandlerContext.java:379)\n",
      "\tat io.netty.channel.AbstractChannelHandlerContext.invokeChannelRead(AbstractChannelHandlerContext.java:365)\n",
      "\tat io.netty.channel.AbstractChannelHandlerContext.fireChannelRead(AbstractChannelHandlerContext.java:357)\n",
      "\tat io.netty.handler.codec.MessageToMessageDecoder.channelRead(MessageToMessageDecoder.java:103)\n",
      "\tat io.netty.channel.AbstractChannelHandlerContext.invokeChannelRead(AbstractChannelHandlerContext.java:379)\n",
      "\tat io.netty.channel.AbstractChannelHandlerContext.invokeChannelRead(AbstractChannelHandlerContext.java:365)\n",
      "\tat io.netty.channel.AbstractChannelHandlerContext.fireChannelRead(AbstractChannelHandlerContext.java:357)\n",
      "\tat org.apache.spark.network.util.TransportFrameDecoder.channelRead(TransportFrameDecoder.java:102)\n",
      "\tat io.netty.channel.AbstractChannelHandlerContext.invokeChannelRead(AbstractChannelHandlerContext.java:379)\n",
      "\tat io.netty.channel.AbstractChannelHandlerContext.invokeChannelRead(AbstractChannelHandlerContext.java:365)\n",
      "\tat io.netty.channel.AbstractChannelHandlerContext.fireChannelRead(AbstractChannelHandlerContext.java:357)\n",
      "\tat io.netty.channel.DefaultChannelPipeline$HeadContext.channelRead(DefaultChannelPipeline.java:1410)\n",
      "\tat io.netty.channel.AbstractChannelHandlerContext.invokeChannelRead(AbstractChannelHandlerContext.java:379)\n",
      "\tat io.netty.channel.AbstractChannelHandlerContext.invokeChannelRead(AbstractChannelHandlerContext.java:365)\n",
      "\tat io.netty.channel.DefaultChannelPipeline.fireChannelRead(DefaultChannelPipeline.java:919)\n",
      "\tat io.netty.channel.nio.AbstractNioByteChannel$NioByteUnsafe.read(AbstractNioByteChannel.java:163)\n",
      "\tat io.netty.channel.nio.NioEventLoop.processSelectedKey(NioEventLoop.java:714)\n",
      "\tat io.netty.channel.nio.NioEventLoop.processSelectedKeysOptimized(NioEventLoop.java:650)\n",
      "\tat io.netty.channel.nio.NioEventLoop.processSelectedKeys(NioEventLoop.java:576)\n",
      "\tat io.netty.channel.nio.NioEventLoop.run(NioEventLoop.java:493)\n",
      "\tat io.netty.util.concurrent.SingleThreadEventExecutor$4.run(SingleThreadEventExecutor.java:989)\n",
      "\tat io.netty.util.internal.ThreadExecutorMap$2.run(ThreadExecutorMap.java:74)\n",
      "\tat io.netty.util.concurrent.FastThreadLocalRunnable.run(FastThreadLocalRunnable.java:30)\n",
      "\tat java.lang.Thread.run(Thread.java:748)\n",
      "\n",
      "\tat org.apache.spark.network.client.TransportResponseHandler.handle(TransportResponseHandler.java:207)\n",
      "\tat org.apache.spark.network.server.TransportChannelHandler.channelRead0(TransportChannelHandler.java:142)\n",
      "\tat org.apache.spark.network.server.TransportChannelHandler.channelRead0(TransportChannelHandler.java:53)\n",
      "\tat io.netty.channel.SimpleChannelInboundHandler.channelRead(SimpleChannelInboundHandler.java:99)\n",
      "\tat io.netty.channel.AbstractChannelHandlerContext.invokeChannelRead(AbstractChannelHandlerContext.java:379)\n",
      "\tat io.netty.channel.AbstractChannelHandlerContext.invokeChannelRead(AbstractChannelHandlerContext.java:365)\n",
      "\tat io.netty.channel.AbstractChannelHandlerContext.fireChannelRead(AbstractChannelHandlerContext.java:357)\n",
      "\tat io.netty.handler.timeout.IdleStateHandler.channelRead(IdleStateHandler.java:286)\n",
      "\tat io.netty.channel.AbstractChannelHandlerContext.invokeChannelRead(AbstractChannelHandlerContext.java:379)\n",
      "\tat io.netty.channel.AbstractChannelHandlerContext.invokeChannelRead(AbstractChannelHandlerContext.java:365)\n",
      "\tat io.netty.channel.AbstractChannelHandlerContext.fireChannelRead(AbstractChannelHandlerContext.java:357)\n",
      "\tat io.netty.handler.codec.MessageToMessageDecoder.channelRead(MessageToMessageDecoder.java:103)\n",
      "\tat io.netty.channel.AbstractChannelHandlerContext.invokeChannelRead(AbstractChannelHandlerContext.java:379)\n",
      "\tat io.netty.channel.AbstractChannelHandlerContext.invokeChannelRead(AbstractChannelHandlerContext.java:365)\n",
      "\tat io.netty.channel.AbstractChannelHandlerContext.fireChannelRead(AbstractChannelHandlerContext.java:357)\n",
      "\tat org.apache.spark.network.util.TransportFrameDecoder.channelRead(TransportFrameDecoder.java:102)\n",
      "\tat io.netty.channel.AbstractChannelHandlerContext.invokeChannelRead(AbstractChannelHandlerContext.java:379)\n",
      "\tat io.netty.channel.AbstractChannelHandlerContext.invokeChannelRead(AbstractChannelHandlerContext.java:365)\n",
      "\tat io.netty.channel.AbstractChannelHandlerContext.fireChannelRead(AbstractChannelHandlerContext.java:357)\n",
      "\tat io.netty.channel.DefaultChannelPipeline$HeadContext.channelRead(DefaultChannelPipeline.java:1410)\n",
      "\tat io.netty.channel.AbstractChannelHandlerContext.invokeChannelRead(AbstractChannelHandlerContext.java:379)\n",
      "\tat io.netty.channel.AbstractChannelHandlerContext.invokeChannelRead(AbstractChannelHandlerContext.java:365)\n",
      "\tat io.netty.channel.DefaultChannelPipeline.fireChannelRead(DefaultChannelPipeline.java:919)\n",
      "\tat io.netty.channel.nio.AbstractNioByteChannel$NioByteUnsafe.read(AbstractNioByteChannel.java:163)\n",
      "\tat io.netty.channel.nio.NioEventLoop.processSelectedKey(NioEventLoop.java:714)\n",
      "\tat io.netty.channel.nio.NioEventLoop.processSelectedKeysOptimized(NioEventLoop.java:650)\n",
      "\tat io.netty.channel.nio.NioEventLoop.processSelectedKeys(NioEventLoop.java:576)\n",
      "\tat io.netty.channel.nio.NioEventLoop.run(NioEventLoop.java:493)\n",
      "\tat io.netty.util.concurrent.SingleThreadEventExecutor$4.run(SingleThreadEventExecutor.java:989)\n",
      "\tat io.netty.util.internal.ThreadExecutorMap$2.run(ThreadExecutorMap.java:74)\n",
      "\tat io.netty.util.concurrent.FastThreadLocalRunnable.run(FastThreadLocalRunnable.java:30)\n",
      "\tat java.lang.Thread.run(Thread.java:748)\n",
      "22/06/02 14:05:47 ERROR TransportClient: Failed to send RPC RPC 9195638362671505638 to /10.179.18.159:58546: java.nio.channels.ClosedChannelException\n",
      "java.nio.channels.ClosedChannelException\n",
      "\tat io.netty.channel.AbstractChannel$AbstractUnsafe.newClosedChannelException(AbstractChannel.java:957)\n",
      "\tat io.netty.channel.AbstractChannel$AbstractUnsafe.write(AbstractChannel.java:865)\n",
      "\tat io.netty.channel.DefaultChannelPipeline$HeadContext.write(DefaultChannelPipeline.java:1367)\n",
      "\tat io.netty.channel.AbstractChannelHandlerContext.invokeWrite0(AbstractChannelHandlerContext.java:717)\n",
      "\tat io.netty.channel.AbstractChannelHandlerContext.invokeWriteAndFlush(AbstractChannelHandlerContext.java:764)\n",
      "\tat io.netty.channel.AbstractChannelHandlerContext$WriteTask.run(AbstractChannelHandlerContext.java:1071)\n",
      "\tat io.netty.util.concurrent.AbstractEventExecutor.safeExecute(AbstractEventExecutor.java:164)\n",
      "\tat io.netty.util.concurrent.SingleThreadEventExecutor.runAllTasks(SingleThreadEventExecutor.java:472)\n",
      "\tat io.netty.channel.nio.NioEventLoop.run(NioEventLoop.java:500)\n",
      "\tat io.netty.util.concurrent.SingleThreadEventExecutor$4.run(SingleThreadEventExecutor.java:989)\n",
      "\tat io.netty.util.internal.ThreadExecutorMap$2.run(ThreadExecutorMap.java:74)\n",
      "\tat io.netty.util.concurrent.FastThreadLocalRunnable.run(FastThreadLocalRunnable.java:30)\n",
      "\tat java.lang.Thread.run(Thread.java:748)\n",
      "22/06/02 14:05:47 ERROR TransportClient: Failed to send RPC RPC 6853297845346374052 to /10.105.216.177:60626: java.nio.channels.ClosedChannelException\n",
      "java.nio.channels.ClosedChannelException\n",
      "\tat io.netty.channel.AbstractChannel$AbstractUnsafe.newClosedChannelException(AbstractChannel.java:957)\n",
      "\tat io.netty.channel.AbstractChannel$AbstractUnsafe.write(AbstractChannel.java:865)\n",
      "\tat io.netty.channel.DefaultChannelPipeline$HeadContext.write(DefaultChannelPipeline.java:1367)\n",
      "\tat io.netty.channel.AbstractChannelHandlerContext.invokeWrite0(AbstractChannelHandlerContext.java:717)\n",
      "\tat io.netty.channel.AbstractChannelHandlerContext.invokeWriteAndFlush(AbstractChannelHandlerContext.java:764)\n",
      "\tat io.netty.channel.AbstractChannelHandlerContext$WriteTask.run(AbstractChannelHandlerContext.java:1071)\n",
      "\tat io.netty.util.concurrent.AbstractEventExecutor.safeExecute(AbstractEventExecutor.java:164)\n",
      "\tat io.netty.util.concurrent.SingleThreadEventExecutor.runAllTasks(SingleThreadEventExecutor.java:472)\n",
      "\tat io.netty.channel.nio.NioEventLoop.run(NioEventLoop.java:500)\n",
      "\tat io.netty.util.concurrent.SingleThreadEventExecutor$4.run(SingleThreadEventExecutor.java:989)\n",
      "\tat io.netty.util.internal.ThreadExecutorMap$2.run(ThreadExecutorMap.java:74)\n",
      "\tat io.netty.util.concurrent.FastThreadLocalRunnable.run(FastThreadLocalRunnable.java:30)\n",
      "\tat java.lang.Thread.run(Thread.java:748)\n",
      "22/06/02 14:05:47 ERROR TransportClient: Failed to send RPC RPC 8783313757345715408 to /10.216.144.201:38168: java.nio.channels.ClosedChannelException\n",
      "java.nio.channels.ClosedChannelException\n",
      "\tat io.netty.channel.AbstractChannel$AbstractUnsafe.newClosedChannelException(AbstractChannel.java:957)\n",
      "\tat io.netty.channel.AbstractChannel$AbstractUnsafe.write(AbstractChannel.java:865)\n",
      "\tat io.netty.channel.DefaultChannelPipeline$HeadContext.write(DefaultChannelPipeline.java:1367)\n",
      "\tat io.netty.channel.AbstractChannelHandlerContext.invokeWrite0(AbstractChannelHandlerContext.java:717)\n",
      "\tat io.netty.channel.AbstractChannelHandlerContext.invokeWriteAndFlush(AbstractChannelHandlerContext.java:764)\n",
      "\tat io.netty.channel.AbstractChannelHandlerContext$WriteTask.run(AbstractChannelHandlerContext.java:1071)\n",
      "\tat io.netty.util.concurrent.AbstractEventExecutor.safeExecute(AbstractEventExecutor.java:164)\n",
      "\tat io.netty.util.concurrent.SingleThreadEventExecutor.runAllTasks(SingleThreadEventExecutor.java:472)\n",
      "\tat io.netty.channel.nio.NioEventLoop.run(NioEventLoop.java:497)\n",
      "\tat io.netty.util.concurrent.SingleThreadEventExecutor$4.run(SingleThreadEventExecutor.java:989)\n",
      "\tat io.netty.util.internal.ThreadExecutorMap$2.run(ThreadExecutorMap.java:74)\n",
      "\tat io.netty.util.concurrent.FastThreadLocalRunnable.run(FastThreadLocalRunnable.java:30)\n",
      "\tat java.lang.Thread.run(Thread.java:748)\n",
      "22/06/02 14:05:47 ERROR TransportClient: Failed to send RPC RPC 5468855231148833081 to /10.198.189.147:53752: java.nio.channels.ClosedChannelException\n",
      "java.nio.channels.ClosedChannelException\n",
      "\tat io.netty.channel.AbstractChannel$AbstractUnsafe.newClosedChannelException(AbstractChannel.java:957)\n",
      "\tat io.netty.channel.AbstractChannel$AbstractUnsafe.write(AbstractChannel.java:865)\n",
      "\tat io.netty.channel.DefaultChannelPipeline$HeadContext.write(DefaultChannelPipeline.java:1367)\n",
      "\tat io.netty.channel.AbstractChannelHandlerContext.invokeWrite0(AbstractChannelHandlerContext.java:717)\n",
      "\tat io.netty.channel.AbstractChannelHandlerContext.invokeWriteAndFlush(AbstractChannelHandlerContext.java:764)\n",
      "\tat io.netty.channel.AbstractChannelHandlerContext$WriteTask.run(AbstractChannelHandlerContext.java:1071)\n",
      "\tat io.netty.util.concurrent.AbstractEventExecutor.safeExecute(AbstractEventExecutor.java:164)\n",
      "\tat io.netty.util.concurrent.SingleThreadEventExecutor.runAllTasks(SingleThreadEventExecutor.java:472)\n",
      "\tat io.netty.channel.nio.NioEventLoop.run(NioEventLoop.java:497)\n",
      "\tat io.netty.util.concurrent.SingleThreadEventExecutor$4.run(SingleThreadEventExecutor.java:989)\n",
      "\tat io.netty.util.internal.ThreadExecutorMap$2.run(ThreadExecutorMap.java:74)\n",
      "\tat io.netty.util.concurrent.FastThreadLocalRunnable.run(FastThreadLocalRunnable.java:30)\n",
      "\tat java.lang.Thread.run(Thread.java:748)\n",
      "22/06/02 14:05:47 ERROR TransportClient: Failed to send RPC RPC 5265401687076273769 to /10.193.192.45:48712: java.nio.channels.ClosedChannelException\n",
      "java.nio.channels.ClosedChannelException\n",
      "\tat io.netty.channel.AbstractChannel$AbstractUnsafe.newClosedChannelException(AbstractChannel.java:957)\n",
      "\tat io.netty.channel.AbstractChannel$AbstractUnsafe.write(AbstractChannel.java:865)\n",
      "\tat io.netty.channel.DefaultChannelPipeline$HeadContext.write(DefaultChannelPipeline.java:1367)\n",
      "\tat io.netty.channel.AbstractChannelHandlerContext.invokeWrite0(AbstractChannelHandlerContext.java:717)\n",
      "\tat io.netty.channel.AbstractChannelHandlerContext.invokeWriteAndFlush(AbstractChannelHandlerContext.java:764)\n",
      "\tat io.netty.channel.AbstractChannelHandlerContext$WriteTask.run(AbstractChannelHandlerContext.java:1071)\n",
      "\tat io.netty.util.concurrent.AbstractEventExecutor.safeExecute(AbstractEventExecutor.java:164)\n",
      "\tat io.netty.util.concurrent.SingleThreadEventExecutor.runAllTasks(SingleThreadEventExecutor.java:472)\n",
      "\tat io.netty.channel.nio.NioEventLoop.run(NioEventLoop.java:500)\n",
      "\tat io.netty.util.concurrent.SingleThreadEventExecutor$4.run(SingleThreadEventExecutor.java:989)\n",
      "\tat io.netty.util.internal.ThreadExecutorMap$2.run(ThreadExecutorMap.java:74)\n",
      "\tat io.netty.util.concurrent.FastThreadLocalRunnable.run(FastThreadLocalRunnable.java:30)\n",
      "\tat java.lang.Thread.run(Thread.java:748)\n",
      "22/06/02 14:05:47 ERROR TransportClient: Failed to send RPC RPC 7332777245740133071 to /10.213.144.81:59464: java.nio.channels.ClosedChannelException\n",
      "java.nio.channels.ClosedChannelException\n",
      "\tat io.netty.channel.AbstractChannel$AbstractUnsafe.newClosedChannelException(AbstractChannel.java:957)\n",
      "\tat io.netty.channel.AbstractChannel$AbstractUnsafe.write(AbstractChannel.java:865)\n",
      "\tat io.netty.channel.DefaultChannelPipeline$HeadContext.write(DefaultChannelPipeline.java:1367)\n",
      "\tat io.netty.channel.AbstractChannelHandlerContext.invokeWrite0(AbstractChannelHandlerContext.java:717)\n",
      "\tat io.netty.channel.AbstractChannelHandlerContext.invokeWriteAndFlush(AbstractChannelHandlerContext.java:764)\n",
      "\tat io.netty.channel.AbstractChannelHandlerContext$WriteTask.run(AbstractChannelHandlerContext.java:1071)\n",
      "\tat io.netty.util.concurrent.AbstractEventExecutor.safeExecute(AbstractEventExecutor.java:164)\n",
      "\tat io.netty.util.concurrent.SingleThreadEventExecutor.runAllTasks(SingleThreadEventExecutor.java:472)\n",
      "\tat io.netty.channel.nio.NioEventLoop.run(NioEventLoop.java:500)\n",
      "\tat io.netty.util.concurrent.SingleThreadEventExecutor$4.run(SingleThreadEventExecutor.java:989)\n",
      "\tat io.netty.util.internal.ThreadExecutorMap$2.run(ThreadExecutorMap.java:74)\n",
      "\tat io.netty.util.concurrent.FastThreadLocalRunnable.run(FastThreadLocalRunnable.java:30)\n",
      "\tat java.lang.Thread.run(Thread.java:748)\n",
      "22/06/02 14:05:47 ERROR TransportClient: Failed to send RPC RPC 8159533879402411550 to /10.179.19.73:54834: java.nio.channels.ClosedChannelException\n",
      "java.nio.channels.ClosedChannelException\n",
      "\tat io.netty.channel.AbstractChannel$AbstractUnsafe.newClosedChannelException(AbstractChannel.java:957)\n",
      "\tat io.netty.channel.AbstractChannel$AbstractUnsafe.write(AbstractChannel.java:865)\n",
      "\tat io.netty.channel.DefaultChannelPipeline$HeadContext.write(DefaultChannelPipeline.java:1367)\n",
      "\tat io.netty.channel.AbstractChannelHandlerContext.invokeWrite0(AbstractChannelHandlerContext.java:717)\n",
      "\tat io.netty.channel.AbstractChannelHandlerContext.invokeWriteAndFlush(AbstractChannelHandlerContext.java:764)\n",
      "\tat io.netty.channel.AbstractChannelHandlerContext$WriteTask.run(AbstractChannelHandlerContext.java:1071)\n",
      "\tat io.netty.util.concurrent.AbstractEventExecutor.safeExecute(AbstractEventExecutor.java:164)\n",
      "\tat io.netty.util.concurrent.SingleThreadEventExecutor.runAllTasks(SingleThreadEventExecutor.java:472)\n",
      "\tat io.netty.channel.nio.NioEventLoop.run(NioEventLoop.java:500)\n",
      "\tat io.netty.util.concurrent.SingleThreadEventExecutor$4.run(SingleThreadEventExecutor.java:989)\n",
      "\tat io.netty.util.internal.ThreadExecutorMap$2.run(ThreadExecutorMap.java:74)\n",
      "\tat io.netty.util.concurrent.FastThreadLocalRunnable.run(FastThreadLocalRunnable.java:30)\n",
      "\tat java.lang.Thread.run(Thread.java:748)\n",
      "22/06/02 14:05:47 ERROR TransportClient: Failed to send RPC RPC 7996337958858006283 to /10.211.143.65:38966: java.nio.channels.ClosedChannelException\n",
      "java.nio.channels.ClosedChannelException\n",
      "\tat io.netty.channel.AbstractChannel$AbstractUnsafe.newClosedChannelException(AbstractChannel.java:957)\n",
      "\tat io.netty.channel.AbstractChannel$AbstractUnsafe.write(AbstractChannel.java:865)\n",
      "\tat io.netty.channel.DefaultChannelPipeline$HeadContext.write(DefaultChannelPipeline.java:1367)\n",
      "\tat io.netty.channel.AbstractChannelHandlerContext.invokeWrite0(AbstractChannelHandlerContext.java:717)\n",
      "\tat io.netty.channel.AbstractChannelHandlerContext.invokeWriteAndFlush(AbstractChannelHandlerContext.java:764)\n",
      "\tat io.netty.channel.AbstractChannelHandlerContext$WriteTask.run(AbstractChannelHandlerContext.java:1071)\n",
      "\tat io.netty.util.concurrent.AbstractEventExecutor.safeExecute(AbstractEventExecutor.java:164)\n",
      "\tat io.netty.util.concurrent.SingleThreadEventExecutor.runAllTasks(SingleThreadEventExecutor.java:472)\n",
      "\tat io.netty.channel.nio.NioEventLoop.run(NioEventLoop.java:500)\n",
      "\tat io.netty.util.concurrent.SingleThreadEventExecutor$4.run(SingleThreadEventExecutor.java:989)\n",
      "\tat io.netty.util.internal.ThreadExecutorMap$2.run(ThreadExecutorMap.java:74)\n",
      "\tat io.netty.util.concurrent.FastThreadLocalRunnable.run(FastThreadLocalRunnable.java:30)\n",
      "\tat java.lang.Thread.run(Thread.java:748)\n",
      "22/06/02 14:05:47 ERROR TransportClient: Failed to send RPC RPC 7629765759939915175 to /10.179.16.50:59108: java.nio.channels.ClosedChannelException\n",
      "java.nio.channels.ClosedChannelException\n",
      "\tat io.netty.channel.AbstractChannel$AbstractUnsafe.newClosedChannelException(AbstractChannel.java:957)\n",
      "\tat io.netty.channel.AbstractChannel$AbstractUnsafe.write(AbstractChannel.java:865)\n",
      "\tat io.netty.channel.DefaultChannelPipeline$HeadContext.write(DefaultChannelPipeline.java:1367)\n",
      "\tat io.netty.channel.AbstractChannelHandlerContext.invokeWrite0(AbstractChannelHandlerContext.java:717)\n",
      "\tat io.netty.channel.AbstractChannelHandlerContext.invokeWriteAndFlush(AbstractChannelHandlerContext.java:764)\n",
      "\tat io.netty.channel.AbstractChannelHandlerContext$WriteTask.run(AbstractChannelHandlerContext.java:1071)\n",
      "\tat io.netty.util.concurrent.AbstractEventExecutor.safeExecute(AbstractEventExecutor.java:164)\n",
      "\tat io.netty.util.concurrent.SingleThreadEventExecutor.runAllTasks(SingleThreadEventExecutor.java:472)\n",
      "\tat io.netty.channel.nio.NioEventLoop.run(NioEventLoop.java:500)\n",
      "\tat io.netty.util.concurrent.SingleThreadEventExecutor$4.run(SingleThreadEventExecutor.java:989)\n",
      "\tat io.netty.util.internal.ThreadExecutorMap$2.run(ThreadExecutorMap.java:74)\n",
      "\tat io.netty.util.concurrent.FastThreadLocalRunnable.run(FastThreadLocalRunnable.java:30)\n",
      "\tat java.lang.Thread.run(Thread.java:748)\n",
      "22/06/02 14:05:47 ERROR TransportClient: Failed to send RPC RPC 6664068667086454408 to /10.105.203.161:48858: java.nio.channels.ClosedChannelException\n",
      "java.nio.channels.ClosedChannelException\n",
      "\tat io.netty.channel.AbstractChannel$AbstractUnsafe.newClosedChannelException(AbstractChannel.java:957)\n",
      "\tat io.netty.channel.AbstractChannel$AbstractUnsafe.write(AbstractChannel.java:865)\n",
      "\tat io.netty.channel.DefaultChannelPipeline$HeadContext.write(DefaultChannelPipeline.java:1367)\n",
      "\tat io.netty.channel.AbstractChannelHandlerContext.invokeWrite0(AbstractChannelHandlerContext.java:717)\n",
      "\tat io.netty.channel.AbstractChannelHandlerContext.invokeWrite(AbstractChannelHandlerContext.java:709)\n",
      "\tat io.netty.channel.AbstractChannelHandlerContext.write(AbstractChannelHandlerContext.java:792)\n",
      "\tat io.netty.channel.AbstractChannelHandlerContext.write(AbstractChannelHandlerContext.java:702)\n",
      "\tat io.netty.handler.codec.MessageToMessageEncoder.write(MessageToMessageEncoder.java:110)\n",
      "\tat io.netty.channel.AbstractChannelHandlerContext.invokeWrite0(AbstractChannelHandlerContext.java:717)\n",
      "\tat io.netty.channel.AbstractChannelHandlerContext.invokeWrite(AbstractChannelHandlerContext.java:709)\n",
      "\tat io.netty.channel.AbstractChannelHandlerContext.write(AbstractChannelHandlerContext.java:792)\n",
      "\tat io.netty.channel.AbstractChannelHandlerContext.write(AbstractChannelHandlerContext.java:702)\n",
      "\tat io.netty.handler.timeout.IdleStateHandler.write(IdleStateHandler.java:302)\n",
      "\tat io.netty.channel.AbstractChannelHandlerContext.invokeWrite0(AbstractChannelHandlerContext.java:717)\n",
      "\tat io.netty.channel.AbstractChannelHandlerContext.invokeWriteAndFlush(AbstractChannelHandlerContext.java:764)\n",
      "\tat io.netty.channel.AbstractChannelHandlerContext$WriteTask.run(AbstractChannelHandlerContext.java:1071)\n",
      "\tat io.netty.util.concurrent.AbstractEventExecutor.safeExecute(AbstractEventExecutor.java:164)\n",
      "\tat io.netty.util.concurrent.SingleThreadEventExecutor.runAllTasks(SingleThreadEventExecutor.java:472)\n",
      "\tat io.netty.channel.nio.NioEventLoop.run(NioEventLoop.java:500)\n",
      "\tat io.netty.util.concurrent.SingleThreadEventExecutor$4.run(SingleThreadEventExecutor.java:989)\n",
      "\tat io.netty.util.internal.ThreadExecutorMap$2.run(ThreadExecutorMap.java:74)\n",
      "\tat io.netty.util.concurrent.FastThreadLocalRunnable.run(FastThreadLocalRunnable.java:30)\n",
      "\tat java.lang.Thread.run(Thread.java:748)\n",
      "22/06/02 14:05:47 ERROR TransportClient: Failed to send RPC RPC 8640289694426466181 to /10.18.74.74:37568: java.nio.channels.ClosedChannelException\n",
      "java.nio.channels.ClosedChannelException\n",
      "\tat io.netty.channel.AbstractChannel$AbstractUnsafe.newClosedChannelException(AbstractChannel.java:957)\n",
      "\tat io.netty.channel.AbstractChannel$AbstractUnsafe.write(AbstractChannel.java:865)\n",
      "\tat io.netty.channel.DefaultChannelPipeline$HeadContext.write(DefaultChannelPipeline.java:1367)\n",
      "\tat io.netty.channel.AbstractChannelHandlerContext.invokeWrite0(AbstractChannelHandlerContext.java:717)\n",
      "\tat io.netty.channel.AbstractChannelHandlerContext.invokeWriteAndFlush(AbstractChannelHandlerContext.java:764)\n",
      "\tat io.netty.channel.AbstractChannelHandlerContext$WriteTask.run(AbstractChannelHandlerContext.java:1071)\n",
      "\tat io.netty.util.concurrent.AbstractEventExecutor.safeExecute(AbstractEventExecutor.java:164)\n",
      "\tat io.netty.util.concurrent.SingleThreadEventExecutor.runAllTasks(SingleThreadEventExecutor.java:472)\n",
      "\tat io.netty.channel.nio.NioEventLoop.run(NioEventLoop.java:497)\n",
      "\tat io.netty.util.concurrent.SingleThreadEventExecutor$4.run(SingleThreadEventExecutor.java:989)\n",
      "\tat io.netty.util.internal.ThreadExecutorMap$2.run(ThreadExecutorMap.java:74)\n",
      "\tat io.netty.util.concurrent.FastThreadLocalRunnable.run(FastThreadLocalRunnable.java:30)\n",
      "\tat java.lang.Thread.run(Thread.java:748)\n",
      "22/06/02 14:05:47 ERROR TransportClient: Failed to send RPC RPC 7685470947911955342 to /10.72.131.218:56712: java.nio.channels.ClosedChannelException\n",
      "java.nio.channels.ClosedChannelException\n",
      "\tat io.netty.channel.AbstractChannel$AbstractUnsafe.newClosedChannelException(AbstractChannel.java:957)\n",
      "\tat io.netty.channel.AbstractChannel$AbstractUnsafe.write(AbstractChannel.java:865)\n",
      "\tat io.netty.channel.DefaultChannelPipeline$HeadContext.write(DefaultChannelPipeline.java:1367)\n",
      "\tat io.netty.channel.AbstractChannelHandlerContext.invokeWrite0(AbstractChannelHandlerContext.java:717)\n",
      "\tat io.netty.channel.AbstractChannelHandlerContext.invokeWriteAndFlush(AbstractChannelHandlerContext.java:764)\n",
      "\tat io.netty.channel.AbstractChannelHandlerContext$WriteTask.run(AbstractChannelHandlerContext.java:1071)\n",
      "\tat io.netty.util.concurrent.AbstractEventExecutor.safeExecute(AbstractEventExecutor.java:164)\n",
      "\tat io.netty.util.concurrent.SingleThreadEventExecutor.runAllTasks(SingleThreadEventExecutor.java:472)\n",
      "\tat io.netty.channel.nio.NioEventLoop.run(NioEventLoop.java:497)\n",
      "\tat io.netty.util.concurrent.SingleThreadEventExecutor$4.run(SingleThreadEventExecutor.java:989)\n",
      "\tat io.netty.util.internal.ThreadExecutorMap$2.run(ThreadExecutorMap.java:74)\n",
      "\tat io.netty.util.concurrent.FastThreadLocalRunnable.run(FastThreadLocalRunnable.java:30)\n",
      "\tat java.lang.Thread.run(Thread.java:748)\n",
      "22/06/02 14:05:47 ERROR TransportResponseHandler: Still have 1 requests outstanding when connection from /10.179.128.29:42100 is closed\n",
      "22/06/02 14:05:47 ERROR ContextCleaner: Error cleaning broadcast 20\n",
      "org.apache.spark.SparkException: Exception thrown in awaitResult: \n",
      "\tat org.apache.spark.util.ThreadUtils$.awaitResult(ThreadUtils.scala:301)\n",
      "\tat org.apache.spark.rpc.RpcTimeout.awaitResult(RpcTimeout.scala:75)\n",
      "\tat org.apache.spark.storage.BlockManagerMaster.removeBroadcast(BlockManagerMaster.scala:194)\n",
      "\tat org.apache.spark.broadcast.TorrentBroadcast$.unpersist(TorrentBroadcast.scala:349)\n",
      "\tat org.apache.spark.broadcast.TorrentBroadcastFactory.unbroadcast(TorrentBroadcastFactory.scala:46)\n",
      "\tat org.apache.spark.broadcast.BroadcastManager.unbroadcast(BroadcastManager.scala:81)\n",
      "\tat org.apache.spark.ContextCleaner.doCleanupBroadcast(ContextCleaner.scala:243)\n",
      "\tat org.apache.spark.ContextCleaner.$anonfun$keepCleaning$3(ContextCleaner.scala:195)\n",
      "\tat org.apache.spark.ContextCleaner.$anonfun$keepCleaning$3$adapted(ContextCleaner.scala:186)\n",
      "\tat scala.Option.foreach(Option.scala:407)\n",
      "\tat org.apache.spark.ContextCleaner.$anonfun$keepCleaning$1(ContextCleaner.scala:186)\n",
      "\tat org.apache.spark.util.Utils$.tryOrStopSparkContext(Utils.scala:1381)\n",
      "\tat org.apache.spark.ContextCleaner.org$apache$spark$ContextCleaner$$keepCleaning(ContextCleaner.scala:180)\n",
      "\tat org.apache.spark.ContextCleaner$$anon$1.run(ContextCleaner.scala:77)\n",
      "Caused by: java.lang.RuntimeException: org.apache.spark.SparkException: Could not find BlockManagerEndpoint1.\n",
      "\tat org.apache.spark.rpc.netty.Dispatcher.postMessage(Dispatcher.scala:176)\n",
      "\tat org.apache.spark.rpc.netty.Dispatcher.postRemoteMessage(Dispatcher.scala:136)\n",
      "\tat org.apache.spark.rpc.netty.NettyRpcHandler.receive(NettyRpcEnv.scala:684)\n",
      "\tat org.apache.spark.network.server.TransportRequestHandler.processRpcRequest(TransportRequestHandler.java:161)\n",
      "\tat org.apache.spark.network.server.TransportRequestHandler.handle(TransportRequestHandler.java:109)\n",
      "\tat org.apache.spark.network.server.TransportChannelHandler.channelRead0(TransportChannelHandler.java:140)\n",
      "\tat org.apache.spark.network.server.TransportChannelHandler.channelRead0(TransportChannelHandler.java:53)\n",
      "\tat io.netty.channel.SimpleChannelInboundHandler.channelRead(SimpleChannelInboundHandler.java:99)\n",
      "\tat io.netty.channel.AbstractChannelHandlerContext.invokeChannelRead(AbstractChannelHandlerContext.java:379)\n",
      "\tat io.netty.channel.AbstractChannelHandlerContext.invokeChannelRead(AbstractChannelHandlerContext.java:365)\n",
      "\tat io.netty.channel.AbstractChannelHandlerContext.fireChannelRead(AbstractChannelHandlerContext.java:357)\n",
      "\tat io.netty.handler.timeout.IdleStateHandler.channelRead(IdleStateHandler.java:286)\n",
      "\tat io.netty.channel.AbstractChannelHandlerContext.invokeChannelRead(AbstractChannelHandlerContext.java:379)\n",
      "\tat io.netty.channel.AbstractChannelHandlerContext.invokeChannelRead(AbstractChannelHandlerContext.java:365)\n",
      "\tat io.netty.channel.AbstractChannelHandlerContext.fireChannelRead(AbstractChannelHandlerContext.java:357)\n",
      "\tat io.netty.handler.codec.MessageToMessageDecoder.channelRead(MessageToMessageDecoder.java:103)\n",
      "\tat io.netty.channel.AbstractChannelHandlerContext.invokeChannelRead(AbstractChannelHandlerContext.java:379)\n",
      "\tat io.netty.channel.AbstractChannelHandlerContext.invokeChannelRead(AbstractChannelHandlerContext.java:365)\n",
      "\tat io.netty.channel.AbstractChannelHandlerContext.fireChannelRead(AbstractChannelHandlerContext.java:357)\n",
      "\tat org.apache.spark.network.util.TransportFrameDecoder.channelRead(TransportFrameDecoder.java:102)\n",
      "\tat io.netty.channel.AbstractChannelHandlerContext.invokeChannelRead(AbstractChannelHandlerContext.java:379)\n",
      "\tat io.netty.channel.AbstractChannelHandlerContext.invokeChannelRead(AbstractChannelHandlerContext.java:365)\n",
      "\tat io.netty.channel.AbstractChannelHandlerContext.fireChannelRead(AbstractChannelHandlerContext.java:357)\n",
      "\tat io.netty.channel.DefaultChannelPipeline$HeadContext.channelRead(DefaultChannelPipeline.java:1410)\n",
      "\tat io.netty.channel.AbstractChannelHandlerContext.invokeChannelRead(AbstractChannelHandlerContext.java:379)\n",
      "\tat io.netty.channel.AbstractChannelHandlerContext.invokeChannelRead(AbstractChannelHandlerContext.java:365)\n",
      "\tat io.netty.channel.DefaultChannelPipeline.fireChannelRead(DefaultChannelPipeline.java:919)\n",
      "\tat io.netty.channel.nio.AbstractNioByteChannel$NioByteUnsafe.read(AbstractNioByteChannel.java:163)\n",
      "\tat io.netty.channel.nio.NioEventLoop.processSelectedKey(NioEventLoop.java:714)\n",
      "\tat io.netty.channel.nio.NioEventLoop.processSelectedKeysOptimized(NioEventLoop.java:650)\n",
      "\tat io.netty.channel.nio.NioEventLoop.processSelectedKeys(NioEventLoop.java:576)\n",
      "\tat io.netty.channel.nio.NioEventLoop.run(NioEventLoop.java:493)\n",
      "\tat io.netty.util.concurrent.SingleThreadEventExecutor$4.run(SingleThreadEventExecutor.java:989)\n",
      "\tat io.netty.util.internal.ThreadExecutorMap$2.run(ThreadExecutorMap.java:74)\n",
      "\tat io.netty.util.concurrent.FastThreadLocalRunnable.run(FastThreadLocalRunnable.java:30)\n",
      "\tat java.lang.Thread.run(Thread.java:748)\n",
      "\n",
      "\tat org.apache.spark.network.client.TransportResponseHandler.handle(TransportResponseHandler.java:207)\n",
      "\tat org.apache.spark.network.server.TransportChannelHandler.channelRead0(TransportChannelHandler.java:142)\n",
      "\tat org.apache.spark.network.server.TransportChannelHandler.channelRead0(TransportChannelHandler.java:53)\n",
      "\tat io.netty.channel.SimpleChannelInboundHandler.channelRead(SimpleChannelInboundHandler.java:99)\n",
      "\tat io.netty.channel.AbstractChannelHandlerContext.invokeChannelRead(AbstractChannelHandlerContext.java:379)\n",
      "\tat io.netty.channel.AbstractChannelHandlerContext.invokeChannelRead(AbstractChannelHandlerContext.java:365)\n",
      "\tat io.netty.channel.AbstractChannelHandlerContext.fireChannelRead(AbstractChannelHandlerContext.java:357)\n",
      "\tat io.netty.handler.timeout.IdleStateHandler.channelRead(IdleStateHandler.java:286)\n",
      "\tat io.netty.channel.AbstractChannelHandlerContext.invokeChannelRead(AbstractChannelHandlerContext.java:379)\n",
      "\tat io.netty.channel.AbstractChannelHandlerContext.invokeChannelRead(AbstractChannelHandlerContext.java:365)\n",
      "\tat io.netty.channel.AbstractChannelHandlerContext.fireChannelRead(AbstractChannelHandlerContext.java:357)\n",
      "\tat io.netty.handler.codec.MessageToMessageDecoder.channelRead(MessageToMessageDecoder.java:103)\n",
      "\tat io.netty.channel.AbstractChannelHandlerContext.invokeChannelRead(AbstractChannelHandlerContext.java:379)\n",
      "\tat io.netty.channel.AbstractChannelHandlerContext.invokeChannelRead(AbstractChannelHandlerContext.java:365)\n",
      "\tat io.netty.channel.AbstractChannelHandlerContext.fireChannelRead(AbstractChannelHandlerContext.java:357)\n",
      "\tat org.apache.spark.network.util.TransportFrameDecoder.channelRead(TransportFrameDecoder.java:102)\n",
      "\tat io.netty.channel.AbstractChannelHandlerContext.invokeChannelRead(AbstractChannelHandlerContext.java:379)\n",
      "\tat io.netty.channel.AbstractChannelHandlerContext.invokeChannelRead(AbstractChannelHandlerContext.java:365)\n",
      "\tat io.netty.channel.AbstractChannelHandlerContext.fireChannelRead(AbstractChannelHandlerContext.java:357)\n",
      "\tat io.netty.channel.DefaultChannelPipeline$HeadContext.channelRead(DefaultChannelPipeline.java:1410)\n",
      "\tat io.netty.channel.AbstractChannelHandlerContext.invokeChannelRead(AbstractChannelHandlerContext.java:379)\n",
      "\tat io.netty.channel.AbstractChannelHandlerContext.invokeChannelRead(AbstractChannelHandlerContext.java:365)\n",
      "\tat io.netty.channel.DefaultChannelPipeline.fireChannelRead(DefaultChannelPipeline.java:919)\n",
      "\tat io.netty.channel.nio.AbstractNioByteChannel$NioByteUnsafe.read(AbstractNioByteChannel.java:163)\n",
      "\tat io.netty.channel.nio.NioEventLoop.processSelectedKey(NioEventLoop.java:714)\n",
      "\tat io.netty.channel.nio.NioEventLoop.processSelectedKeysOptimized(NioEventLoop.java:650)\n",
      "\tat io.netty.channel.nio.NioEventLoop.processSelectedKeys(NioEventLoop.java:576)\n",
      "\tat io.netty.channel.nio.NioEventLoop.run(NioEventLoop.java:493)\n",
      "\tat io.netty.util.concurrent.SingleThreadEventExecutor$4.run(SingleThreadEventExecutor.java:989)\n",
      "\tat io.netty.util.internal.ThreadExecutorMap$2.run(ThreadExecutorMap.java:74)\n",
      "\tat io.netty.util.concurrent.FastThreadLocalRunnable.run(FastThreadLocalRunnable.java:30)\n",
      "\tat java.lang.Thread.run(Thread.java:748)\n",
      "22/06/02 14:06:23 ERROR Utils: Uncaught exception in thread Thread-7\n",
      "org.apache.hadoop.ipc.RemoteException(org.apache.hadoop.hdfs.server.namenode.LeaseExpiredException): No lease on /user/b_perso/olivyatan/simplex_data_pa/.spark-staging-0/_LOCK (inode 33678766776): File does not exist. Holder DFSClient_NONMAPREDUCE_-155819839_17 does not have any open files.\n",
      "\tat org.apache.hadoop.hdfs.server.namenode.FSNamesystem.checkLease(FSNamesystem.java:3863)\n",
      "\tat org.apache.hadoop.hdfs.server.namenode.FSNamesystem.completeFileInternal(FSNamesystem.java:3951)\n",
      "\tat org.apache.hadoop.hdfs.server.namenode.FSNamesystem.completeFile(FSNamesystem.java:3918)\n",
      "\tat org.apache.hadoop.hdfs.server.namenode.NameNodeRpcServer.complete(NameNodeRpcServer.java:989)\n",
      "\tat org.apache.hadoop.hdfs.protocolPB.ClientNamenodeProtocolServerSideTranslatorPB.complete(ClientNamenodeProtocolServerSideTranslatorPB.java:605)\n",
      "\tat org.apache.hadoop.ipc.ProtobufRpcEngine$Server$ProtoBufRpcInvoker.call(ProtobufRpcEngine.java:731)\n",
      "\tat org.apache.hadoop.ipc.RPC$Server.call(RPC.java:993)\n",
      "\tat org.apache.hadoop.ipc.Server$RpcCall.run(Server.java:963)\n",
      "\tat org.apache.hadoop.ipc.Server$RpcCall.run(Server.java:900)\n",
      "\tat javax.security.auth.Subject.doAs(Subject.java:422)\n",
      "\tat org.apache.hadoop.security.UserGroupInformation.doAs(UserGroupInformation.java:1888)\n",
      "\tat org.apache.hadoop.ipc.Server$Handler.run(Server.java:2618)\n",
      "Caused by: org.apache.hadoop.ipc.RemoteException(org.apache.hadoop.hdfs.server.namenode.LeaseExpiredException): No lease on /user/b_perso/olivyatan/simplex_data_pa/.spark-staging-0/_LOCK (inode 33678766776): File does not exist. Holder DFSClient_NONMAPREDUCE_-155819839_17 does not have any open files.\n",
      "\tat org.apache.hadoop.hdfs.server.namenode.FSNamesystem.checkLease(FSNamesystem.java:3863)\n",
      "\tat org.apache.hadoop.hdfs.server.namenode.FSNamesystem.completeFileInternal(FSNamesystem.java:3951)\n",
      "\tat org.apache.hadoop.hdfs.server.namenode.FSNamesystem.completeFile(FSNamesystem.java:3918)\n",
      "\tat org.apache.hadoop.hdfs.server.namenode.NameNodeRpcServer.complete(NameNodeRpcServer.java:989)\n",
      "\tat org.apache.hadoop.hdfs.protocolPB.ClientNamenodeProtocolServerSideTranslatorPB.complete(ClientNamenodeProtocolServerSideTranslatorPB.java:605)\n",
      "\tat org.apache.hadoop.hdfs.protocol.proto.ClientNamenodeProtocolProtos$ClientNamenodeProtocol$2.callBlockingMethod(ClientNamenodeProtocolProtos.java)\n",
      "\tat org.apache.hadoop.ipc.ProtobufRpcEngine$Server$ProtoBufRpcInvoker.call(ProtobufRpcEngine.java:731)\n",
      "\tat org.apache.hadoop.ipc.RPC$Server.call(RPC.java:993)\n",
      "\tat org.apache.hadoop.ipc.Server$RpcCall.run(Server.java:963)\n",
      "\tat org.apache.hadoop.ipc.Server$RpcCall.run(Server.java:900)\n",
      "\tat java.security.AccessController.doPrivileged(Native Method)\n",
      "\tat javax.security.auth.Subject.doAs(Subject.java:422)\n",
      "\tat org.apache.hadoop.security.UserGroupInformation.doAs(UserGroupInformation.java:1888)\n",
      "\tat org.apache.hadoop.ipc.Server$Handler.run(Server.java:2618)\n",
      "\n",
      "\tat org.apache.hadoop.ipc.Client.processCall(Client.java:2156)\n",
      "\tat org.apache.hadoop.ipc.Client.access$500(Client.java:92)\n",
      "\tat org.apache.hadoop.ipc.Client$Call.callComplete(Client.java:428)\n",
      "\tat org.apache.hadoop.ipc.Client$Call.setException(Client.java:452)\n",
      "\tat org.apache.hadoop.ipc.Client$Connection.receiveRpcResponse(Client.java:1314)\n",
      "\tat org.apache.hadoop.ipc.Client$Connection.run(Client.java:1107)\n",
      "\n",
      "\tat org.apache.hadoop.ipc.Client.getRpcResponse(Client.java:1856)\n",
      "\tat org.apache.hadoop.ipc.Client.call(Client.java:1780)\n",
      "\tat org.apache.hadoop.ipc.Client.call(Client.java:1668)\n",
      "\tat org.apache.hadoop.ipc.Client.call(Client.java:1597)\n",
      "\tat org.apache.hadoop.ipc.ProtobufRpcEngine$Invoker.invoke(ProtobufRpcEngine.java:260)\n",
      "\tat com.sun.proxy.$Proxy15.complete(Unknown Source)\n",
      "\tat org.apache.hadoop.hdfs.protocolPB.ClientNamenodeProtocolTranslatorPB.complete(ClientNamenodeProtocolTranslatorPB.java:686)\n",
      "\tat sun.reflect.NativeMethodAccessorImpl.invoke0(Native Method)\n",
      "\tat sun.reflect.NativeMethodAccessorImpl.invoke(NativeMethodAccessorImpl.java:62)\n",
      "\tat sun.reflect.DelegatingMethodAccessorImpl.invoke(DelegatingMethodAccessorImpl.java:43)\n",
      "\tat java.lang.reflect.Method.invoke(Method.java:498)\n",
      "\tat org.apache.hadoop.io.retry.RetryInvocationHandler.invokeMethod(RetryInvocationHandler.java:291)\n",
      "\tat org.apache.hadoop.io.retry.RetryInvocationHandler.invoke(RetryInvocationHandler.java:203)\n",
      "\tat org.apache.hadoop.io.retry.RetryInvocationHandler.invoke(RetryInvocationHandler.java:185)\n",
      "\tat com.sun.proxy.$Proxy16.complete(Unknown Source)\n",
      "\tat org.apache.hadoop.hdfs.DFSOutputStream.completeFile(DFSOutputStream.java:2499)\n",
      "\tat org.apache.hadoop.hdfs.DFSOutputStream.closeImpl(DFSOutputStream.java:2475)\n",
      "\tat org.apache.hadoop.hdfs.DFSOutputStream.close(DFSOutputStream.java:2441)\n",
      "\tat org.apache.hadoop.fs.FSDataOutputStream$PositionCache.close(FSDataOutputStream.java:72)\n",
      "\tat org.apache.hadoop.fs.FSDataOutputStream.close(FSDataOutputStream.java:106)\n",
      "\tat org.apache.spark.sql.InsertOperationLockUtil$.$anonfun$unlock$2(InsertOperationLockUtil.scala:163)\n",
      "\tat org.apache.spark.sql.InsertOperationLockUtil$.$anonfun$unlock$2$adapted(InsertOperationLockUtil.scala:163)\n",
      "\tat scala.Option.foreach(Option.scala:407)\n",
      "\tat org.apache.spark.sql.InsertOperationLockUtil$.$anonfun$unlock$1(InsertOperationLockUtil.scala:163)\n",
      "\tat org.apache.spark.util.Utils$.tryLogNonFatalError(Utils.scala:1419)\n",
      "\tat org.apache.spark.sql.InsertOperationLockUtil$.unlock(InsertOperationLockUtil.scala:163)\n",
      "\tat org.apache.spark.sql.execution.datasources.InsertIntoHadoopFsRelationCommand.run(InsertIntoHadoopFsRelationCommand.scala:255)\n",
      "\tat org.apache.spark.sql.execution.command.DataWritingCommandExec.sideEffectResult$lzycompute(commands.scala:108)\n",
      "\tat org.apache.spark.sql.execution.command.DataWritingCommandExec.sideEffectResult(commands.scala:106)\n",
      "\tat org.apache.spark.sql.execution.command.DataWritingCommandExec.doExecute(commands.scala:131)\n",
      "\tat org.apache.spark.sql.execution.SparkPlan.$anonfun$execute$1(SparkPlan.scala:180)\n",
      "\tat org.apache.spark.sql.execution.SparkPlan.$anonfun$executeQuery$1(SparkPlan.scala:218)\n",
      "\tat org.apache.spark.rdd.RDDOperationScope$.withScope(RDDOperationScope.scala:151)\n",
      "\tat org.apache.spark.sql.execution.SparkPlan.executeQuery(SparkPlan.scala:215)\n",
      "\tat org.apache.spark.sql.execution.SparkPlan.execute(SparkPlan.scala:176)\n",
      "\tat org.apache.spark.sql.execution.QueryExecution.toRdd$lzycompute(QueryExecution.scala:132)\n",
      "\tat org.apache.spark.sql.execution.QueryExecution.toRdd(QueryExecution.scala:131)\n",
      "\tat org.apache.spark.sql.DataFrameWriter.$anonfun$runCommand$1(DataFrameWriter.scala:989)\n",
      "\tat org.apache.spark.sql.execution.SQLExecution$.$anonfun$withNewExecutionId$5(SQLExecution.scala:103)\n",
      "\tat org.apache.spark.sql.execution.SQLExecution$.withSQLConfPropagated(SQLExecution.scala:163)\n",
      "\tat org.apache.spark.sql.execution.SQLExecution$.$anonfun$withNewExecutionId$1(SQLExecution.scala:90)\n",
      "\tat org.apache.spark.sql.SparkSession.withActive(SparkSession.scala:772)\n",
      "\tat org.apache.spark.sql.execution.SQLExecution$.withNewExecutionId(SQLExecution.scala:64)\n",
      "\tat org.apache.spark.sql.DataFrameWriter.runCommand(DataFrameWriter.scala:989)\n",
      "\tat org.apache.spark.sql.DataFrameWriter.saveToV1Source(DataFrameWriter.scala:438)\n",
      "\tat org.apache.spark.sql.DataFrameWriter.saveInternal(DataFrameWriter.scala:415)\n",
      "\tat org.apache.spark.sql.DataFrameWriter.save(DataFrameWriter.scala:293)\n",
      "\tat org.apache.spark.sql.DataFrameWriter.parquet(DataFrameWriter.scala:874)\n",
      "\tat sun.reflect.NativeMethodAccessorImpl.invoke0(Native Method)\n",
      "\tat sun.reflect.NativeMethodAccessorImpl.invoke(NativeMethodAccessorImpl.java:62)\n",
      "\tat sun.reflect.DelegatingMethodAccessorImpl.invoke(DelegatingMethodAccessorImpl.java:43)\n",
      "\tat java.lang.reflect.Method.invoke(Method.java:498)\n",
      "\tat py4j.reflection.MethodInvoker.invoke(MethodInvoker.java:244)\n",
      "\tat py4j.reflection.ReflectionEngine.invoke(ReflectionEngine.java:357)\n",
      "\tat py4j.Gateway.invoke(Gateway.java:282)\n",
      "\tat py4j.commands.AbstractCommand.invokeMethod(AbstractCommand.java:132)\n",
      "\tat py4j.commands.CallCommand.execute(CallCommand.java:79)\n",
      "\tat py4j.GatewayConnection.run(GatewayConnection.java:238)\n",
      "\tat java.lang.Thread.run(Thread.java:748)\n"
     ]
    }
   ],
   "source": [
    "df_pa_dedup.write.parquet('/user/b_perso/olivyatan/simplex_data_pa', mode='overwrite')"
   ]
  },
  {
   "cell_type": "code",
   "execution_count": 22,
   "id": "8efd9fcb-467e-4fa0-a502-3df699eb1a5a",
   "metadata": {},
   "outputs": [
    {
     "name": "stderr",
     "output_type": "stream",
     "text": [
      "                                                                                ]]]]\r"
     ]
    },
    {
     "data": {
      "text/plain": [
       "252128"
      ]
     },
     "execution_count": 22,
     "metadata": {},
     "output_type": "execute_result"
    }
   ],
   "source": [
    "df_pa_dedup.count()\n",
    "#test pa:252128 \n",
    "#size: 1, 377, 661"
   ]
  },
  {
   "cell_type": "code",
   "execution_count": 28,
   "id": "86deb8b8-7989-494c-b192-370c86165cbb",
   "metadata": {},
   "outputs": [
    {
     "name": "stderr",
     "output_type": "stream",
     "text": [
      "                                                                                \r"
     ]
    }
   ],
   "source": [
    "df_pa_data=spark.read.parquet('/user/b_perso/olivyatan/simplex_data_pa')"
   ]
  },
  {
   "cell_type": "code",
   "execution_count": 29,
   "id": "3ae79a2a-d34d-434f-bc9e-523b23404683",
   "metadata": {},
   "outputs": [
    {
     "name": "stderr",
     "output_type": "stream",
     "text": [
      "                                                                                \r"
     ]
    }
   ],
   "source": [
    "df_pa_dedup_purchased = df_pa_data.repartition(50, \"itemId\").toPandas()"
   ]
  },
  {
   "cell_type": "markdown",
   "id": "f5b61162-e928-4a31-b728-e9fde839adb2",
   "metadata": {},
   "source": [
    "### Generate test for motors"
   ]
  },
  {
   "cell_type": "code",
   "execution_count": 30,
   "id": "a4e671f9-d66e-453e-ba9b-ed4b884d23bf",
   "metadata": {},
   "outputs": [],
   "source": [
    "#dedup data for test comparing to hp\n",
    "df_pa_dedup_purchased.to_parquet('/data/shpx/data/olivyatan/pa_data_april_mai_22_dedup.parquet')"
   ]
  },
  {
   "cell_type": "code",
   "execution_count": null,
   "id": "73a63be0-36bf-45fa-937e-c260d1b682cd",
   "metadata": {},
   "outputs": [
    {
     "name": "stderr",
     "output_type": "stream",
     "text": [
      "[Stage 1:>(9 + 247) / 256][Stage 2:(10 + 246) / 256][Stage 4:(9989 + 11) / 10000]]]\r"
     ]
    }
   ],
   "source": [
    "df_pa_dedup_purchased.shape"
   ]
  },
  {
   "cell_type": "code",
   "execution_count": 31,
   "id": "ba8548e3-85e2-49a4-85d1-f18b3109591a",
   "metadata": {},
   "outputs": [],
   "source": [
    "df_pa_dedup_data=pd.read_parquet('/data/shpx/data/olivyatan/pa_data_april_mai_22_dedup.parquet')"
   ]
  },
  {
   "cell_type": "code",
   "execution_count": 32,
   "id": "c32e990f-e953-4e24-9814-8857e355d8e2",
   "metadata": {},
   "outputs": [
    {
     "data": {
      "text/plain": [
       "(252128, 76)"
      ]
     },
     "execution_count": 32,
     "metadata": {},
     "output_type": "execute_result"
    }
   ],
   "source": [
    "df_pa_dedup_data.shape"
   ]
  },
  {
   "cell_type": "code",
   "execution_count": 33,
   "id": "870dab10-dfd4-4b2b-9219-210b399d5893",
   "metadata": {},
   "outputs": [
    {
     "data": {
      "text/plain": [
       "25959"
      ]
     },
     "execution_count": 33,
     "metadata": {},
     "output_type": "execute_result"
    }
   ],
   "source": [
    "df_pa_dedup_data['meid'].nunique()"
   ]
  },
  {
   "cell_type": "code",
   "execution_count": 6,
   "id": "bb933522-f87e-456e-9cce-539ae56e514f",
   "metadata": {},
   "outputs": [],
   "source": [
    "#df_pa_dedup_data=pd.read_parquet('/data/shpx/data/olivyatan/pa_data_15.10_21_22_dedup.parquet')"
   ]
  },
  {
   "cell_type": "code",
   "execution_count": 7,
   "id": "6ee81e03-0183-466d-9e0a-ce735323e40a",
   "metadata": {},
   "outputs": [
    {
     "data": {
      "text/plain": [
       "(1377661, 76)"
      ]
     },
     "execution_count": 7,
     "metadata": {},
     "output_type": "execute_result"
    }
   ],
   "source": [
    "df_pa_dedup_data.shape "
   ]
  },
  {
   "cell_type": "code",
   "execution_count": 19,
   "id": "1fd50bf3-cd5f-4a82-a10b-2a43d946dc7f",
   "metadata": {
    "scrolled": true,
    "tags": []
   },
   "outputs": [
    {
     "data": {
      "text/html": [
       "<div>\n",
       "<style scoped>\n",
       "    .dataframe tbody tr th:only-of-type {\n",
       "        vertical-align: middle;\n",
       "    }\n",
       "\n",
       "    .dataframe tbody tr th {\n",
       "        vertical-align: top;\n",
       "    }\n",
       "\n",
       "    .dataframe thead th {\n",
       "        text-align: right;\n",
       "    }\n",
       "</style>\n",
       "<table border=\"1\" class=\"dataframe\">\n",
       "  <thead>\n",
       "    <tr style=\"text-align: right;\">\n",
       "      <th></th>\n",
       "      <th>meid</th>\n",
       "      <th>algoVariant</th>\n",
       "      <th>siteId</th>\n",
       "      <th>seedId</th>\n",
       "      <th>l1Cat</th>\n",
       "      <th>l2Cat</th>\n",
       "      <th>l3Cat</th>\n",
       "      <th>category</th>\n",
       "      <th>categoryPath</th>\n",
       "      <th>itemId</th>\n",
       "      <th>...</th>\n",
       "      <th>f_MaxSameLeafRvihPriceDiff</th>\n",
       "      <th>f_FreqWatchPriceBellowItemPrice</th>\n",
       "      <th>ITEM_ID</th>\n",
       "      <th>AUCT_END_DT</th>\n",
       "      <th>SITE_ID</th>\n",
       "      <th>L1CATEG</th>\n",
       "      <th>LEAF_CATEG_ID</th>\n",
       "      <th>META_CATEG_ID</th>\n",
       "      <th>LEAF_CATEG_NAME</th>\n",
       "      <th>META_CATEG_NAME</th>\n",
       "    </tr>\n",
       "  </thead>\n",
       "  <tbody>\n",
       "    <tr>\n",
       "      <th>0</th>\n",
       "      <td>75233dc351db403d9532751ffb3aa366</td>\n",
       "      <td>b'BEPERSONAL.PersonalizedTopicsV2WithMultiCovi...</td>\n",
       "      <td>3</td>\n",
       "      <td>0</td>\n",
       "      <td>b'0.131090'</td>\n",
       "      <td>b'0.131090.6030'</td>\n",
       "      <td>b'0.131090.6030.33637'</td>\n",
       "      <td>b'52638'</td>\n",
       "      <td>b'0.131090.6030.33637.52638'</td>\n",
       "      <td>174782750032</td>\n",
       "      <td>...</td>\n",
       "      <td>-2.644000</td>\n",
       "      <td>0.000000e+00</td>\n",
       "      <td>174782750032</td>\n",
       "      <td>2022-05-26</td>\n",
       "      <td>3</td>\n",
       "      <td>b'0.131090'</td>\n",
       "      <td>52638</td>\n",
       "      <td>131090</td>\n",
       "      <td>Vehicle Parts &amp; Accessories:Car Parts &amp; Access...</td>\n",
       "      <td>Vehicle Parts &amp; Accessories</td>\n",
       "    </tr>\n",
       "    <tr>\n",
       "      <th>1</th>\n",
       "      <td>9e774bb9d4ca4b82a7c7548245c72bb5</td>\n",
       "      <td>b'BEPERSONAL.PersonalizedTopicsV2WithMultiCovi...</td>\n",
       "      <td>77</td>\n",
       "      <td>0</td>\n",
       "      <td>b'0.131090'</td>\n",
       "      <td>b'0.131090.64826'</td>\n",
       "      <td>b'0.131090.64826.82100'</td>\n",
       "      <td>b'82110|184226'</td>\n",
       "      <td>b'0.131090.64826.82100.135876.82110'</td>\n",
       "      <td>294067078678</td>\n",
       "      <td>...</td>\n",
       "      <td>4.283682</td>\n",
       "      <td>6.346194e-10</td>\n",
       "      <td>294067078678</td>\n",
       "      <td>2021-11-11</td>\n",
       "      <td>77</td>\n",
       "      <td>b'0.131090'</td>\n",
       "      <td>82110</td>\n",
       "      <td>131090</td>\n",
       "      <td>Auto &amp; Motorrad: Teile:Spezielle Fahrzeug-Teil...</td>\n",
       "      <td>Auto &amp; Motorrad: Teile</td>\n",
       "    </tr>\n",
       "    <tr>\n",
       "      <th>2</th>\n",
       "      <td>e2e01e6d818e4d7d8fb897bf00c7e5d2</td>\n",
       "      <td>b'BEPERSONAL.PersonalizedTopicsV2WithMultiCovi...</td>\n",
       "      <td>0</td>\n",
       "      <td>0</td>\n",
       "      <td>b'0.6000'</td>\n",
       "      <td>b'0.6000.6028'</td>\n",
       "      <td>b'0.6000.6028.6030'</td>\n",
       "      <td>b'33654|180120'</td>\n",
       "      <td>b'0.6000.6028.6030.33637.33654'</td>\n",
       "      <td>203539668828</td>\n",
       "      <td>...</td>\n",
       "      <td>-2.000000</td>\n",
       "      <td>-1.000000e+00</td>\n",
       "      <td>203539668828</td>\n",
       "      <td>2022-05-28</td>\n",
       "      <td>100</td>\n",
       "      <td>b'0.6000'</td>\n",
       "      <td>33654</td>\n",
       "      <td>6000</td>\n",
       "      <td>eBay Motors:Parts &amp; Accessories:Car &amp; Truck Pa...</td>\n",
       "      <td>eBay Motors</td>\n",
       "    </tr>\n",
       "  </tbody>\n",
       "</table>\n",
       "<p>3 rows × 76 columns</p>\n",
       "</div>"
      ],
      "text/plain": [
       "                               meid  \\\n",
       "0  75233dc351db403d9532751ffb3aa366   \n",
       "1  9e774bb9d4ca4b82a7c7548245c72bb5   \n",
       "2  e2e01e6d818e4d7d8fb897bf00c7e5d2   \n",
       "\n",
       "                                         algoVariant  siteId  seedId  \\\n",
       "0  b'BEPERSONAL.PersonalizedTopicsV2WithMultiCovi...       3       0   \n",
       "1  b'BEPERSONAL.PersonalizedTopicsV2WithMultiCovi...      77       0   \n",
       "2  b'BEPERSONAL.PersonalizedTopicsV2WithMultiCovi...       0       0   \n",
       "\n",
       "         l1Cat              l2Cat                    l3Cat         category  \\\n",
       "0  b'0.131090'   b'0.131090.6030'   b'0.131090.6030.33637'         b'52638'   \n",
       "1  b'0.131090'  b'0.131090.64826'  b'0.131090.64826.82100'  b'82110|184226'   \n",
       "2    b'0.6000'     b'0.6000.6028'      b'0.6000.6028.6030'  b'33654|180120'   \n",
       "\n",
       "                           categoryPath        itemId  ...  \\\n",
       "0          b'0.131090.6030.33637.52638'  174782750032  ...   \n",
       "1  b'0.131090.64826.82100.135876.82110'  294067078678  ...   \n",
       "2       b'0.6000.6028.6030.33637.33654'  203539668828  ...   \n",
       "\n",
       "   f_MaxSameLeafRvihPriceDiff  f_FreqWatchPriceBellowItemPrice       ITEM_ID  \\\n",
       "0                   -2.644000                     0.000000e+00  174782750032   \n",
       "1                    4.283682                     6.346194e-10  294067078678   \n",
       "2                   -2.000000                    -1.000000e+00  203539668828   \n",
       "\n",
       "   AUCT_END_DT  SITE_ID      L1CATEG  LEAF_CATEG_ID  META_CATEG_ID  \\\n",
       "0   2022-05-26        3  b'0.131090'          52638         131090   \n",
       "1   2021-11-11       77  b'0.131090'          82110         131090   \n",
       "2   2022-05-28      100    b'0.6000'          33654           6000   \n",
       "\n",
       "                                     LEAF_CATEG_NAME  \\\n",
       "0  Vehicle Parts & Accessories:Car Parts & Access...   \n",
       "1  Auto & Motorrad: Teile:Spezielle Fahrzeug-Teil...   \n",
       "2  eBay Motors:Parts & Accessories:Car & Truck Pa...   \n",
       "\n",
       "               META_CATEG_NAME  \n",
       "0  Vehicle Parts & Accessories  \n",
       "1       Auto & Motorrad: Teile  \n",
       "2                  eBay Motors  \n",
       "\n",
       "[3 rows x 76 columns]"
      ]
     },
     "execution_count": 19,
     "metadata": {},
     "output_type": "execute_result"
    }
   ],
   "source": [
    "df_pa_dedup_data.head(3)"
   ]
  },
  {
   "cell_type": "code",
   "execution_count": 8,
   "id": "40af258a-cea1-4b70-a67f-61e84c6969df",
   "metadata": {},
   "outputs": [
    {
     "data": {
      "text/plain": [
       "0    1237151\n",
       "1     140510\n",
       "Name: labelPurchase, dtype: int64"
      ]
     },
     "execution_count": 8,
     "metadata": {},
     "output_type": "execute_result"
    }
   ],
   "source": [
    "df_pa_dedup_data['labelPurchase'].value_counts()"
   ]
  },
  {
   "cell_type": "code",
   "execution_count": 9,
   "id": "b7443e03-eca8-41ea-a90b-2eed76f966e0",
   "metadata": {},
   "outputs": [
    {
     "data": {
      "text/plain": [
       "0.10199170913599209"
      ]
     },
     "execution_count": 9,
     "metadata": {},
     "output_type": "execute_result"
    }
   ],
   "source": [
    "140510/(1237151+140510)"
   ]
  },
  {
   "cell_type": "code",
   "execution_count": 11,
   "id": "07845f7a-dac0-4912-96e8-6d1b7d33fdc3",
   "metadata": {},
   "outputs": [
    {
     "data": {
      "text/plain": [
       "141830"
      ]
     },
     "execution_count": 11,
     "metadata": {},
     "output_type": "execute_result"
    }
   ],
   "source": [
    "df_pa_dedup_data[\"meid\"].nunique()"
   ]
  },
  {
   "cell_type": "code",
   "execution_count": 14,
   "id": "ed7ae21a-cb6c-4ce2-8206-ba1852dbae16",
   "metadata": {},
   "outputs": [
    {
     "data": {
      "text/plain": [
       "9.713466826482408"
      ]
     },
     "execution_count": 14,
     "metadata": {},
     "output_type": "execute_result"
    }
   ],
   "source": [
    "1377661/  141830"
   ]
  },
  {
   "cell_type": "code",
   "execution_count": 16,
   "id": "8d96e6d4-4ad2-413d-a9c6-f86efafaec4f",
   "metadata": {},
   "outputs": [
    {
     "data": {
      "text/html": [
       "<div>\n",
       "<style scoped>\n",
       "    .dataframe tbody tr th:only-of-type {\n",
       "        vertical-align: middle;\n",
       "    }\n",
       "\n",
       "    .dataframe tbody tr th {\n",
       "        vertical-align: top;\n",
       "    }\n",
       "\n",
       "    .dataframe thead th {\n",
       "        text-align: right;\n",
       "    }\n",
       "</style>\n",
       "<table border=\"1\" class=\"dataframe\">\n",
       "  <thead>\n",
       "    <tr style=\"text-align: right;\">\n",
       "      <th></th>\n",
       "      <th></th>\n",
       "      <th>meid</th>\n",
       "      <th>%meid</th>\n",
       "    </tr>\n",
       "    <tr>\n",
       "      <th>SITE_ID</th>\n",
       "      <th>META_CATEG_NAME</th>\n",
       "      <th></th>\n",
       "      <th></th>\n",
       "    </tr>\n",
       "  </thead>\n",
       "  <tbody>\n",
       "    <tr>\n",
       "      <th>100</th>\n",
       "      <th>eBay Motors</th>\n",
       "      <td>78934</td>\n",
       "      <td>47.187881</td>\n",
       "    </tr>\n",
       "    <tr>\n",
       "      <th>3</th>\n",
       "      <th>Vehicle Parts &amp; Accessories</th>\n",
       "      <td>46655</td>\n",
       "      <td>27.891030</td>\n",
       "    </tr>\n",
       "    <tr>\n",
       "      <th>77</th>\n",
       "      <th>Auto &amp; Motorrad: Teile</th>\n",
       "      <td>26292</td>\n",
       "      <td>15.717736</td>\n",
       "    </tr>\n",
       "    <tr>\n",
       "      <th>15</th>\n",
       "      <th>Vehicle Parts &amp; Accessories</th>\n",
       "      <td>15395</td>\n",
       "      <td>9.203353</td>\n",
       "    </tr>\n",
       "  </tbody>\n",
       "</table>\n",
       "</div>"
      ],
      "text/plain": [
       "                                      meid      %meid\n",
       "SITE_ID META_CATEG_NAME                              \n",
       "100     eBay Motors                  78934  47.187881\n",
       "3       Vehicle Parts & Accessories  46655  27.891030\n",
       "77      Auto & Motorrad: Teile       26292  15.717736\n",
       "15      Vehicle Parts & Accessories  15395   9.203353"
      ]
     },
     "execution_count": 16,
     "metadata": {},
     "output_type": "execute_result"
    }
   ],
   "source": [
    "sub_meids=df_pa_dedup_data.groupby([\"SITE_ID\", \"META_CATEG_NAME\"])[\"meid\"].nunique()\\\n",
    ".sort_values(ascending=False).to_frame()\n",
    "sub_meids['%meid']=(sub_meids['meid']/sub_meids['meid'].sum())*100\n",
    "sub_meids"
   ]
  },
  {
   "cell_type": "code",
   "execution_count": 15,
   "id": "3e1dfa43-6b94-4432-b55e-cfec856a8c29",
   "metadata": {},
   "outputs": [
    {
     "data": {
      "text/plain": [
       "meid_count\n",
       "1     0.004407\n",
       "2     0.003264\n",
       "3     0.003427\n",
       "4     0.012973\n",
       "5     0.013333\n",
       "6     0.012571\n",
       "7     0.013671\n",
       "8     0.017324\n",
       "9     0.042431\n",
       "10    0.794197\n",
       "11    0.061087\n",
       "12    0.014242\n",
       "13    0.004153\n",
       "14    0.001650\n",
       "15    0.000613\n",
       "16    0.000338\n",
       "17    0.000212\n",
       "18    0.000071\n",
       "19    0.000014\n",
       "20    0.000021\n",
       "dtype: float64"
      ]
     },
     "execution_count": 15,
     "metadata": {},
     "output_type": "execute_result"
    }
   ],
   "source": [
    "df_pa_dedup_data \\\n",
    "    .groupby('meid') \\\n",
    "    .size() \\\n",
    "    .to_frame(\"meid_count\") \\\n",
    "    .groupby('meid_count') \\\n",
    "    .size() / df_pa_dedup_data.meid.drop_duplicates().shape[0]"
   ]
  },
  {
   "cell_type": "code",
   "execution_count": 64,
   "id": "28bbae30-233f-49da-a213-73c48b3b4986",
   "metadata": {},
   "outputs": [
    {
     "name": "stdout",
     "output_type": "stream",
     "text": [
      "Found 2 items\n",
      "drwxr-xr-x   - b_perso hdmi-mm          0 2022-04-14 14:49 /user/b_perso/olivyatan/piyi_sneakers\n",
      "drwxr-xr-x   - b_perso hdmi-mm          0 2022-05-17 08:37 /user/b_perso/olivyatan/simplex_data_pa\n"
     ]
    }
   ],
   "source": [
    "!hdfs dfs -ls -h /user/b_perso/olivyatan"
   ]
  },
  {
   "cell_type": "code",
   "execution_count": null,
   "id": "8adda4ae-397d-486d-90a2-d709958b283e",
   "metadata": {},
   "outputs": [],
   "source": [
    "df_items_lstg.count() "
   ]
  },
  {
   "cell_type": "code",
   "execution_count": 45,
   "id": "46a17f9c-51f4-42d9-bd90-79a8b951aad7",
   "metadata": {},
   "outputs": [
    {
     "name": "stderr",
     "output_type": "stream",
     "text": [
      "                                                                                ]]]\r"
     ]
    },
    {
     "data": {
      "text/plain": [
       "37420660"
      ]
     },
     "execution_count": 45,
     "metadata": {},
     "output_type": "execute_result"
    }
   ],
   "source": [
    "df_pa.count()"
   ]
  },
  {
   "cell_type": "code",
   "execution_count": null,
   "id": "5501bb02-af9e-47ff-9193-82fd20121b51",
   "metadata": {},
   "outputs": [],
   "source": [
    "df_pa_data=spark.read.parquet('/user/b_perso/olivyatan/simplex_data_pa')"
   ]
  },
  {
   "cell_type": "code",
   "execution_count": 46,
   "id": "19d92208-5ef7-492a-b4d9-806a886418e0",
   "metadata": {
    "scrolled": true,
    "tags": []
   },
   "outputs": [
    {
     "name": "stderr",
     "output_type": "stream",
     "text": [
      "22/05/17 18:05:15 ERROR Utils: Uncaught exception in thread Thread-7\n",
      "org.apache.hadoop.ipc.RemoteException(org.apache.hadoop.hdfs.server.namenode.LeaseExpiredException): No lease on /user/b_perso/olivyatan/simplex_data_pa/.spark-staging-0/_LOCK (inode 33007439009): File does not exist. Holder DFSClient_NONMAPREDUCE_1323127984_17 does not have any open files.\n",
      "\tat org.apache.hadoop.hdfs.server.namenode.FSNamesystem.checkLease(FSNamesystem.java:3810)\n",
      "\tat org.apache.hadoop.hdfs.server.namenode.FSNamesystem.completeFileInternal(FSNamesystem.java:3898)\n",
      "\tat org.apache.hadoop.hdfs.server.namenode.FSNamesystem.completeFile(FSNamesystem.java:3865)\n",
      "\tat org.apache.hadoop.hdfs.server.namenode.NameNodeRpcServer.complete(NameNodeRpcServer.java:989)\n",
      "\tat org.apache.hadoop.hdfs.protocolPB.ClientNamenodeProtocolServerSideTranslatorPB.complete(ClientNamenodeProtocolServerSideTranslatorPB.java:599)\n",
      "\tat org.apache.hadoop.ipc.ProtobufRpcEngine$Server$ProtoBufRpcInvoker.call(ProtobufRpcEngine.java:731)\n",
      "\tat org.apache.hadoop.ipc.RPC$Server.call(RPC.java:993)\n",
      "\tat org.apache.hadoop.ipc.Server$RpcCall.run(Server.java:962)\n",
      "\tat org.apache.hadoop.ipc.Server$RpcCall.run(Server.java:899)\n",
      "\tat javax.security.auth.Subject.doAs(Subject.java:422)\n",
      "\tat org.apache.hadoop.security.UserGroupInformation.doAs(UserGroupInformation.java:1888)\n",
      "\tat org.apache.hadoop.ipc.Server$Handler.run(Server.java:2617)\n",
      "Caused by: org.apache.hadoop.ipc.RemoteException(org.apache.hadoop.hdfs.server.namenode.LeaseExpiredException): No lease on /user/b_perso/olivyatan/simplex_data_pa/.spark-staging-0/_LOCK (inode 33007439009): File does not exist. Holder DFSClient_NONMAPREDUCE_1323127984_17 does not have any open files.\n",
      "\tat org.apache.hadoop.hdfs.server.namenode.FSNamesystem.checkLease(FSNamesystem.java:3810)\n",
      "\tat org.apache.hadoop.hdfs.server.namenode.FSNamesystem.completeFileInternal(FSNamesystem.java:3898)\n",
      "\tat org.apache.hadoop.hdfs.server.namenode.FSNamesystem.completeFile(FSNamesystem.java:3865)\n",
      "\tat org.apache.hadoop.hdfs.server.namenode.NameNodeRpcServer.complete(NameNodeRpcServer.java:989)\n",
      "\tat org.apache.hadoop.hdfs.protocolPB.ClientNamenodeProtocolServerSideTranslatorPB.complete(ClientNamenodeProtocolServerSideTranslatorPB.java:599)\n",
      "\tat org.apache.hadoop.hdfs.protocol.proto.ClientNamenodeProtocolProtos$ClientNamenodeProtocol$2.callBlockingMethod(ClientNamenodeProtocolProtos.java)\n",
      "\tat org.apache.hadoop.ipc.ProtobufRpcEngine$Server$ProtoBufRpcInvoker.call(ProtobufRpcEngine.java:731)\n",
      "\tat org.apache.hadoop.ipc.RPC$Server.call(RPC.java:993)\n",
      "\tat org.apache.hadoop.ipc.Server$RpcCall.run(Server.java:962)\n",
      "\tat org.apache.hadoop.ipc.Server$RpcCall.run(Server.java:899)\n",
      "\tat java.security.AccessController.doPrivileged(Native Method)\n",
      "\tat javax.security.auth.Subject.doAs(Subject.java:422)\n",
      "\tat org.apache.hadoop.security.UserGroupInformation.doAs(UserGroupInformation.java:1888)\n",
      "\tat org.apache.hadoop.ipc.Server$Handler.run(Server.java:2617)\n",
      "\n",
      "\tat org.apache.hadoop.ipc.Client.processCall(Client.java:2156)\n",
      "\tat org.apache.hadoop.ipc.Client.access$500(Client.java:92)\n",
      "\tat org.apache.hadoop.ipc.Client$Call.callComplete(Client.java:428)\n",
      "\tat org.apache.hadoop.ipc.Client$Call.setException(Client.java:452)\n",
      "\tat org.apache.hadoop.ipc.Client$Connection.receiveRpcResponse(Client.java:1314)\n",
      "\tat org.apache.hadoop.ipc.Client$Connection.run(Client.java:1107)\n",
      "\n",
      "\tat org.apache.hadoop.ipc.Client.getRpcResponse(Client.java:1856)\n",
      "\tat org.apache.hadoop.ipc.Client.call(Client.java:1780)\n",
      "\tat org.apache.hadoop.ipc.Client.call(Client.java:1668)\n",
      "\tat org.apache.hadoop.ipc.Client.call(Client.java:1597)\n",
      "\tat org.apache.hadoop.ipc.ProtobufRpcEngine$Invoker.invoke(ProtobufRpcEngine.java:260)\n",
      "\tat com.sun.proxy.$Proxy15.complete(Unknown Source)\n",
      "\tat org.apache.hadoop.hdfs.protocolPB.ClientNamenodeProtocolTranslatorPB.complete(ClientNamenodeProtocolTranslatorPB.java:686)\n",
      "\tat sun.reflect.NativeMethodAccessorImpl.invoke0(Native Method)\n",
      "\tat sun.reflect.NativeMethodAccessorImpl.invoke(NativeMethodAccessorImpl.java:62)\n",
      "\tat sun.reflect.DelegatingMethodAccessorImpl.invoke(DelegatingMethodAccessorImpl.java:43)\n",
      "\tat java.lang.reflect.Method.invoke(Method.java:498)\n",
      "\tat org.apache.hadoop.io.retry.RetryInvocationHandler.invokeMethod(RetryInvocationHandler.java:291)\n",
      "\tat org.apache.hadoop.io.retry.RetryInvocationHandler.invoke(RetryInvocationHandler.java:203)\n",
      "\tat org.apache.hadoop.io.retry.RetryInvocationHandler.invoke(RetryInvocationHandler.java:185)\n",
      "\tat com.sun.proxy.$Proxy16.complete(Unknown Source)\n",
      "\tat org.apache.hadoop.hdfs.DFSOutputStream.completeFile(DFSOutputStream.java:2499)\n",
      "\tat org.apache.hadoop.hdfs.DFSOutputStream.closeImpl(DFSOutputStream.java:2475)\n",
      "\tat org.apache.hadoop.hdfs.DFSOutputStream.close(DFSOutputStream.java:2441)\n",
      "\tat org.apache.hadoop.fs.FSDataOutputStream$PositionCache.close(FSDataOutputStream.java:72)\n",
      "\tat org.apache.hadoop.fs.FSDataOutputStream.close(FSDataOutputStream.java:106)\n",
      "\tat org.apache.spark.sql.execution.datasources.InsertIntoHadoopFsRelationCommand.$anonfun$detectConflict$2(InsertIntoHadoopFsRelationCommand.scala:353)\n",
      "\tat org.apache.spark.sql.execution.datasources.InsertIntoHadoopFsRelationCommand.$anonfun$detectConflict$2$adapted(InsertIntoHadoopFsRelationCommand.scala:353)\n",
      "\tat scala.Option.foreach(Option.scala:407)\n",
      "\tat org.apache.spark.sql.execution.datasources.InsertIntoHadoopFsRelationCommand.$anonfun$detectConflict$1(InsertIntoHadoopFsRelationCommand.scala:353)\n",
      "\tat org.apache.spark.util.Utils$.tryLogNonFatalError(Utils.scala:1419)\n",
      "\tat org.apache.spark.sql.execution.datasources.InsertIntoHadoopFsRelationCommand.detectConflict(InsertIntoHadoopFsRelationCommand.scala:353)\n",
      "\tat org.apache.spark.sql.execution.datasources.InsertIntoHadoopFsRelationCommand.deleteMatchingPartitions(InsertIntoHadoopFsRelationCommand.scala:292)\n",
      "\tat org.apache.spark.sql.execution.datasources.InsertIntoHadoopFsRelationCommand.run(InsertIntoHadoopFsRelationCommand.scala:183)\n",
      "\tat org.apache.spark.sql.execution.command.DataWritingCommandExec.sideEffectResult$lzycompute(commands.scala:108)\n",
      "\tat org.apache.spark.sql.execution.command.DataWritingCommandExec.sideEffectResult(commands.scala:106)\n",
      "\tat org.apache.spark.sql.execution.command.DataWritingCommandExec.doExecute(commands.scala:131)\n",
      "\tat org.apache.spark.sql.execution.SparkPlan.$anonfun$execute$1(SparkPlan.scala:180)\n",
      "\tat org.apache.spark.sql.execution.SparkPlan.$anonfun$executeQuery$1(SparkPlan.scala:218)\n",
      "\tat org.apache.spark.rdd.RDDOperationScope$.withScope(RDDOperationScope.scala:151)\n",
      "\tat org.apache.spark.sql.execution.SparkPlan.executeQuery(SparkPlan.scala:215)\n",
      "\tat org.apache.spark.sql.execution.SparkPlan.execute(SparkPlan.scala:176)\n",
      "\tat org.apache.spark.sql.execution.QueryExecution.toRdd$lzycompute(QueryExecution.scala:132)\n",
      "\tat org.apache.spark.sql.execution.QueryExecution.toRdd(QueryExecution.scala:131)\n",
      "\tat org.apache.spark.sql.DataFrameWriter.$anonfun$runCommand$1(DataFrameWriter.scala:989)\n",
      "\tat org.apache.spark.sql.execution.SQLExecution$.$anonfun$withNewExecutionId$5(SQLExecution.scala:103)\n",
      "\tat org.apache.spark.sql.execution.SQLExecution$.withSQLConfPropagated(SQLExecution.scala:163)\n",
      "\tat org.apache.spark.sql.execution.SQLExecution$.$anonfun$withNewExecutionId$1(SQLExecution.scala:90)\n",
      "\tat org.apache.spark.sql.SparkSession.withActive(SparkSession.scala:772)\n",
      "\tat org.apache.spark.sql.execution.SQLExecution$.withNewExecutionId(SQLExecution.scala:64)\n",
      "\tat org.apache.spark.sql.DataFrameWriter.runCommand(DataFrameWriter.scala:989)\n",
      "\tat org.apache.spark.sql.DataFrameWriter.saveToV1Source(DataFrameWriter.scala:438)\n",
      "\tat org.apache.spark.sql.DataFrameWriter.saveInternal(DataFrameWriter.scala:415)\n",
      "\tat org.apache.spark.sql.DataFrameWriter.save(DataFrameWriter.scala:293)\n",
      "\tat org.apache.spark.sql.DataFrameWriter.parquet(DataFrameWriter.scala:874)\n",
      "\tat sun.reflect.NativeMethodAccessorImpl.invoke0(Native Method)\n",
      "\tat sun.reflect.NativeMethodAccessorImpl.invoke(NativeMethodAccessorImpl.java:62)\n",
      "\tat sun.reflect.DelegatingMethodAccessorImpl.invoke(DelegatingMethodAccessorImpl.java:43)\n",
      "\tat java.lang.reflect.Method.invoke(Method.java:498)\n",
      "\tat py4j.reflection.MethodInvoker.invoke(MethodInvoker.java:244)\n",
      "\tat py4j.reflection.ReflectionEngine.invoke(ReflectionEngine.java:357)\n",
      "\tat py4j.Gateway.invoke(Gateway.java:282)\n",
      "\tat py4j.commands.AbstractCommand.invokeMethod(AbstractCommand.java:132)\n",
      "\tat py4j.commands.CallCommand.execute(CallCommand.java:79)\n",
      "\tat py4j.GatewayConnection.run(GatewayConnection.java:238)\n",
      "\tat java.lang.Thread.run(Thread.java:748)\n",
      "22/05/17 18:49:08 ERROR Utils: Uncaught exception in thread Thread-7            ]]]]\n",
      "org.apache.hadoop.ipc.RemoteException(org.apache.hadoop.hdfs.server.namenode.LeaseExpiredException): No lease on /user/b_perso/olivyatan/simplex_data_pa/.spark-staging-0/_LOCK (inode 33007439404): File does not exist. Holder DFSClient_NONMAPREDUCE_1323127984_17 does not have any open files.\n",
      "\tat org.apache.hadoop.hdfs.server.namenode.FSNamesystem.checkLease(FSNamesystem.java:3810)\n",
      "\tat org.apache.hadoop.hdfs.server.namenode.FSNamesystem.completeFileInternal(FSNamesystem.java:3898)\n",
      "\tat org.apache.hadoop.hdfs.server.namenode.FSNamesystem.completeFile(FSNamesystem.java:3865)\n",
      "\tat org.apache.hadoop.hdfs.server.namenode.NameNodeRpcServer.complete(NameNodeRpcServer.java:989)\n",
      "\tat org.apache.hadoop.hdfs.protocolPB.ClientNamenodeProtocolServerSideTranslatorPB.complete(ClientNamenodeProtocolServerSideTranslatorPB.java:599)\n",
      "\tat org.apache.hadoop.ipc.ProtobufRpcEngine$Server$ProtoBufRpcInvoker.call(ProtobufRpcEngine.java:731)\n",
      "\tat org.apache.hadoop.ipc.RPC$Server.call(RPC.java:993)\n",
      "\tat org.apache.hadoop.ipc.Server$RpcCall.run(Server.java:962)\n",
      "\tat org.apache.hadoop.ipc.Server$RpcCall.run(Server.java:899)\n",
      "\tat javax.security.auth.Subject.doAs(Subject.java:422)\n",
      "\tat org.apache.hadoop.security.UserGroupInformation.doAs(UserGroupInformation.java:1888)\n",
      "\tat org.apache.hadoop.ipc.Server$Handler.run(Server.java:2617)\n",
      "Caused by: org.apache.hadoop.ipc.RemoteException(org.apache.hadoop.hdfs.server.namenode.LeaseExpiredException): No lease on /user/b_perso/olivyatan/simplex_data_pa/.spark-staging-0/_LOCK (inode 33007439404): File does not exist. Holder DFSClient_NONMAPREDUCE_1323127984_17 does not have any open files.\n",
      "\tat org.apache.hadoop.hdfs.server.namenode.FSNamesystem.checkLease(FSNamesystem.java:3810)\n",
      "\tat org.apache.hadoop.hdfs.server.namenode.FSNamesystem.completeFileInternal(FSNamesystem.java:3898)\n",
      "\tat org.apache.hadoop.hdfs.server.namenode.FSNamesystem.completeFile(FSNamesystem.java:3865)\n",
      "\tat org.apache.hadoop.hdfs.server.namenode.NameNodeRpcServer.complete(NameNodeRpcServer.java:989)\n",
      "\tat org.apache.hadoop.hdfs.protocolPB.ClientNamenodeProtocolServerSideTranslatorPB.complete(ClientNamenodeProtocolServerSideTranslatorPB.java:599)\n",
      "\tat org.apache.hadoop.hdfs.protocol.proto.ClientNamenodeProtocolProtos$ClientNamenodeProtocol$2.callBlockingMethod(ClientNamenodeProtocolProtos.java)\n",
      "\tat org.apache.hadoop.ipc.ProtobufRpcEngine$Server$ProtoBufRpcInvoker.call(ProtobufRpcEngine.java:731)\n",
      "\tat org.apache.hadoop.ipc.RPC$Server.call(RPC.java:993)\n",
      "\tat org.apache.hadoop.ipc.Server$RpcCall.run(Server.java:962)\n",
      "\tat org.apache.hadoop.ipc.Server$RpcCall.run(Server.java:899)\n",
      "\tat java.security.AccessController.doPrivileged(Native Method)\n",
      "\tat javax.security.auth.Subject.doAs(Subject.java:422)\n",
      "\tat org.apache.hadoop.security.UserGroupInformation.doAs(UserGroupInformation.java:1888)\n",
      "\tat org.apache.hadoop.ipc.Server$Handler.run(Server.java:2617)\n",
      "\n",
      "\tat org.apache.hadoop.ipc.Client.processCall(Client.java:2156)\n",
      "\tat org.apache.hadoop.ipc.Client.access$500(Client.java:92)\n",
      "\tat org.apache.hadoop.ipc.Client$Call.callComplete(Client.java:428)\n",
      "\tat org.apache.hadoop.ipc.Client$Call.setException(Client.java:452)\n",
      "\tat org.apache.hadoop.ipc.Client$Connection.receiveRpcResponse(Client.java:1314)\n",
      "\tat org.apache.hadoop.ipc.Client$Connection.run(Client.java:1107)\n",
      "\n",
      "\tat org.apache.hadoop.ipc.Client.getRpcResponse(Client.java:1856)\n",
      "\tat org.apache.hadoop.ipc.Client.call(Client.java:1780)\n",
      "\tat org.apache.hadoop.ipc.Client.call(Client.java:1668)\n",
      "\tat org.apache.hadoop.ipc.Client.call(Client.java:1597)\n",
      "\tat org.apache.hadoop.ipc.ProtobufRpcEngine$Invoker.invoke(ProtobufRpcEngine.java:260)\n",
      "\tat com.sun.proxy.$Proxy15.complete(Unknown Source)\n",
      "\tat org.apache.hadoop.hdfs.protocolPB.ClientNamenodeProtocolTranslatorPB.complete(ClientNamenodeProtocolTranslatorPB.java:686)\n",
      "\tat sun.reflect.NativeMethodAccessorImpl.invoke0(Native Method)\n",
      "\tat sun.reflect.NativeMethodAccessorImpl.invoke(NativeMethodAccessorImpl.java:62)\n",
      "\tat sun.reflect.DelegatingMethodAccessorImpl.invoke(DelegatingMethodAccessorImpl.java:43)\n",
      "\tat java.lang.reflect.Method.invoke(Method.java:498)\n",
      "\tat org.apache.hadoop.io.retry.RetryInvocationHandler.invokeMethod(RetryInvocationHandler.java:291)\n",
      "\tat org.apache.hadoop.io.retry.RetryInvocationHandler.invoke(RetryInvocationHandler.java:203)\n",
      "\tat org.apache.hadoop.io.retry.RetryInvocationHandler.invoke(RetryInvocationHandler.java:185)\n",
      "\tat com.sun.proxy.$Proxy16.complete(Unknown Source)\n",
      "\tat org.apache.hadoop.hdfs.DFSOutputStream.completeFile(DFSOutputStream.java:2499)\n",
      "\tat org.apache.hadoop.hdfs.DFSOutputStream.closeImpl(DFSOutputStream.java:2475)\n",
      "\tat org.apache.hadoop.hdfs.DFSOutputStream.close(DFSOutputStream.java:2441)\n",
      "\tat org.apache.hadoop.fs.FSDataOutputStream$PositionCache.close(FSDataOutputStream.java:72)\n",
      "\tat org.apache.hadoop.fs.FSDataOutputStream.close(FSDataOutputStream.java:106)\n",
      "\tat org.apache.spark.sql.InsertOperationLockUtil$.$anonfun$unlock$2(InsertOperationLockUtil.scala:163)\n",
      "\tat org.apache.spark.sql.InsertOperationLockUtil$.$anonfun$unlock$2$adapted(InsertOperationLockUtil.scala:163)\n",
      "\tat scala.Option.foreach(Option.scala:407)\n",
      "\tat org.apache.spark.sql.InsertOperationLockUtil$.$anonfun$unlock$1(InsertOperationLockUtil.scala:163)\n",
      "\tat org.apache.spark.util.Utils$.tryLogNonFatalError(Utils.scala:1419)\n",
      "\tat org.apache.spark.sql.InsertOperationLockUtil$.unlock(InsertOperationLockUtil.scala:163)\n",
      "\tat org.apache.spark.sql.execution.datasources.InsertIntoHadoopFsRelationCommand.run(InsertIntoHadoopFsRelationCommand.scala:255)\n",
      "\tat org.apache.spark.sql.execution.command.DataWritingCommandExec.sideEffectResult$lzycompute(commands.scala:108)\n",
      "\tat org.apache.spark.sql.execution.command.DataWritingCommandExec.sideEffectResult(commands.scala:106)\n",
      "\tat org.apache.spark.sql.execution.command.DataWritingCommandExec.doExecute(commands.scala:131)\n",
      "\tat org.apache.spark.sql.execution.SparkPlan.$anonfun$execute$1(SparkPlan.scala:180)\n",
      "\tat org.apache.spark.sql.execution.SparkPlan.$anonfun$executeQuery$1(SparkPlan.scala:218)\n",
      "\tat org.apache.spark.rdd.RDDOperationScope$.withScope(RDDOperationScope.scala:151)\n",
      "\tat org.apache.spark.sql.execution.SparkPlan.executeQuery(SparkPlan.scala:215)\n",
      "\tat org.apache.spark.sql.execution.SparkPlan.execute(SparkPlan.scala:176)\n",
      "\tat org.apache.spark.sql.execution.QueryExecution.toRdd$lzycompute(QueryExecution.scala:132)\n",
      "\tat org.apache.spark.sql.execution.QueryExecution.toRdd(QueryExecution.scala:131)\n",
      "\tat org.apache.spark.sql.DataFrameWriter.$anonfun$runCommand$1(DataFrameWriter.scala:989)\n",
      "\tat org.apache.spark.sql.execution.SQLExecution$.$anonfun$withNewExecutionId$5(SQLExecution.scala:103)\n",
      "\tat org.apache.spark.sql.execution.SQLExecution$.withSQLConfPropagated(SQLExecution.scala:163)\n",
      "\tat org.apache.spark.sql.execution.SQLExecution$.$anonfun$withNewExecutionId$1(SQLExecution.scala:90)\n",
      "\tat org.apache.spark.sql.SparkSession.withActive(SparkSession.scala:772)\n",
      "\tat org.apache.spark.sql.execution.SQLExecution$.withNewExecutionId(SQLExecution.scala:64)\n",
      "\tat org.apache.spark.sql.DataFrameWriter.runCommand(DataFrameWriter.scala:989)\n",
      "\tat org.apache.spark.sql.DataFrameWriter.saveToV1Source(DataFrameWriter.scala:438)\n",
      "\tat org.apache.spark.sql.DataFrameWriter.saveInternal(DataFrameWriter.scala:415)\n",
      "\tat org.apache.spark.sql.DataFrameWriter.save(DataFrameWriter.scala:293)\n",
      "\tat org.apache.spark.sql.DataFrameWriter.parquet(DataFrameWriter.scala:874)\n",
      "\tat sun.reflect.NativeMethodAccessorImpl.invoke0(Native Method)\n",
      "\tat sun.reflect.NativeMethodAccessorImpl.invoke(NativeMethodAccessorImpl.java:62)\n",
      "\tat sun.reflect.DelegatingMethodAccessorImpl.invoke(DelegatingMethodAccessorImpl.java:43)\n",
      "\tat java.lang.reflect.Method.invoke(Method.java:498)\n",
      "\tat py4j.reflection.MethodInvoker.invoke(MethodInvoker.java:244)\n",
      "\tat py4j.reflection.ReflectionEngine.invoke(ReflectionEngine.java:357)\n",
      "\tat py4j.Gateway.invoke(Gateway.java:282)\n",
      "\tat py4j.commands.AbstractCommand.invokeMethod(AbstractCommand.java:132)\n",
      "\tat py4j.commands.CallCommand.execute(CallCommand.java:79)\n",
      "\tat py4j.GatewayConnection.run(GatewayConnection.java:238)\n",
      "\tat java.lang.Thread.run(Thread.java:748)\n"
     ]
    }
   ],
   "source": [
    "df_pa.repartition(50, \"itemId\").write.parquet('/user/b_perso/olivyatan/simplex_data_pa', mode='overwrite')"
   ]
  },
  {
   "cell_type": "code",
   "execution_count": 4,
   "id": "3f9fb22b-26ea-4f64-82b8-fe53b31f0015",
   "metadata": {},
   "outputs": [
    {
     "name": "stderr",
     "output_type": "stream",
     "text": [
      "                                                                                \r"
     ]
    }
   ],
   "source": [
    "df_pa_data=spark.read.parquet('/user/b_perso/olivyatan/simplex_data_pa')"
   ]
  },
  {
   "cell_type": "code",
   "execution_count": null,
   "id": "6383023c-2807-4564-9246-aeb0eaf9bf4f",
   "metadata": {},
   "outputs": [],
   "source": [
    "sample:"
   ]
  },
  {
   "cell_type": "code",
   "execution_count": 47,
   "id": "0a9f54d0-c5cb-413d-80f1-40210410024d",
   "metadata": {},
   "outputs": [],
   "source": [
    "meid_list = df_pa_data.select('meid').distinct()"
   ]
  },
  {
   "cell_type": "code",
   "execution_count": 49,
   "id": "2089c58f-50f7-4d76-aa46-73ed1b768784",
   "metadata": {},
   "outputs": [
    {
     "data": {
      "text/plain": [
       "<bound method DataFrame.show of DataFrame[meid: binary]>"
      ]
     },
     "execution_count": 49,
     "metadata": {},
     "output_type": "execute_result"
    }
   ],
   "source": [
    "meid_list.show"
   ]
  },
  {
   "cell_type": "code",
   "execution_count": 48,
   "id": "2282e0b8-bb96-413a-af88-3add28fee158",
   "metadata": {},
   "outputs": [
    {
     "name": "stderr",
     "output_type": "stream",
     "text": [
      "                                                                                \r"
     ]
    },
    {
     "data": {
      "text/plain": [
       "37420660"
      ]
     },
     "execution_count": 48,
     "metadata": {},
     "output_type": "execute_result"
    }
   ],
   "source": [
    "df_pa_data.count()"
   ]
  },
  {
   "cell_type": "markdown",
   "id": "2d560ace-2fb6-4200-991c-10f55e84a95e",
   "metadata": {},
   "source": [
    "### Sample Motors purchased data \n",
    "#### as pa data is of 37M, sampled randomly 15%"
   ]
  },
  {
   "cell_type": "code",
   "execution_count": 5,
   "id": "ffbcae82-0388-41ee-bd6e-aeeb3f658c52",
   "metadata": {},
   "outputs": [],
   "source": [
    "vlp_purchased_meid = (df_pa_data\n",
    "                           .groupBy(\"meid\")\n",
    "                           .agg(func.sum(\"labelPurchase\").alias(\"sum_purchase\"))\n",
    "                           .filter(F.col(\"sum_purchase\") > 0)\n",
    "                           .select(\"meid\")\n",
    "                           .dropDuplicates())\n",
    "https://45.aihub.krylov.vip.ebay.com/workspace/olivyatan/shpx/simplex_pa/lab/tree/Fetcher_multiple_variations/fetch_data_pa_variations.ipynb#as-pa-data-is-of-37M,-sampled-randomly-15%\n"
   ]
  },
  {
   "cell_type": "code",
   "execution_count": 6,
   "id": "3bf950f4-9387-4d6c-bc56-7c403ef3674f",
   "metadata": {},
   "outputs": [
    {
     "name": "stderr",
     "output_type": "stream",
     "text": [
      "                                                                                \r"
     ]
    },
    {
     "data": {
      "text/plain": [
       "139527"
      ]
     },
     "execution_count": 6,
     "metadata": {},
     "output_type": "execute_result"
    }
   ],
   "source": [
    "vlp_purchased_meid.count()"
   ]
  },
  {
   "cell_type": "code",
   "execution_count": 17,
   "id": "e6bcbaec-91b6-4c30-b11d-c3aa6a64bac8",
   "metadata": {},
   "outputs": [
    {
     "data": {
      "text/plain": [
       "0.14334143212424835"
      ]
     },
     "execution_count": 17,
     "metadata": {},
     "output_type": "execute_result"
    }
   ],
   "source": [
    "20000/139527"
   ]
  },
  {
   "cell_type": "code",
   "execution_count": 13,
   "id": "1d5ebda7-df76-4748-a6bd-773616270c98",
   "metadata": {},
   "outputs": [],
   "source": [
    "pa_purchased_meid=vlp_purchased_meid.limit(20000)"
   ]
  },
  {
   "cell_type": "code",
   "execution_count": 14,
   "id": "ac93c981-f8da-4827-ab04-9dd217ad0a12",
   "metadata": {},
   "outputs": [
    {
     "name": "stderr",
     "output_type": "stream",
     "text": [
      "                                                                                \r"
     ]
    },
    {
     "data": {
      "text/plain": [
       "20000"
      ]
     },
     "execution_count": 14,
     "metadata": {},
     "output_type": "execute_result"
    }
   ],
   "source": [
    "pa_purchased_meid.count()"
   ]
  },
  {
   "cell_type": "code",
   "execution_count": 49,
   "id": "5ff2e7d0-5879-4f38-a984-ef5deeccb473",
   "metadata": {},
   "outputs": [],
   "source": [
    "vlp_purchased_meid_sample=vlp_purchased_meid.sample(withReplacement=False, fraction=0.2)\n",
    "#0.1433"
   ]
  },
  {
   "cell_type": "code",
   "execution_count": 50,
   "id": "9c795093-d886-4344-b287-b529eb3b7024",
   "metadata": {},
   "outputs": [
    {
     "name": "stderr",
     "output_type": "stream",
     "text": [
      "                                                                                \r"
     ]
    },
    {
     "data": {
      "text/plain": [
       "28052"
      ]
     },
     "execution_count": 50,
     "metadata": {},
     "output_type": "execute_result"
    }
   ],
   "source": [
    "vlp_purchased_meid_sample.count()"
   ]
  },
  {
   "cell_type": "code",
   "execution_count": 34,
   "id": "6b5253b6-60d7-4dd8-b8da-a43a1935f840",
   "metadata": {},
   "outputs": [
    {
     "data": {
      "text/plain": [
       "pyspark.sql.dataframe.DataFrame"
      ]
     },
     "execution_count": 34,
     "metadata": {},
     "output_type": "execute_result"
    }
   ],
   "source": [
    "type(vlp_purchased_meid_sample)"
   ]
  },
  {
   "cell_type": "code",
   "execution_count": 51,
   "id": "ab23bf48-7cb4-4e43-b7a2-e3aa9bc6fd76",
   "metadata": {},
   "outputs": [],
   "source": [
    "df_pa_sample_purchased = df_pa_data.join(vlp_purchased_meid_sample, on = [\"meid\"], how = \"inner\")"
   ]
  },
  {
   "cell_type": "code",
   "execution_count": 52,
   "id": "af2fc565-bbe8-4688-b18c-cad659b49ef0",
   "metadata": {},
   "outputs": [
    {
     "name": "stderr",
     "output_type": "stream",
     "text": [
      "                                                                                \r"
     ]
    },
    {
     "data": {
      "text/plain": [
       "281025"
      ]
     },
     "execution_count": 52,
     "metadata": {},
     "output_type": "execute_result"
    }
   ],
   "source": [
    "df_pa_sample_purchased.count()"
   ]
  },
  {
   "cell_type": "code",
   "execution_count": 54,
   "id": "14623095-8d02-4fb0-8f08-85de5e5a3bde",
   "metadata": {},
   "outputs": [
    {
     "name": "stderr",
     "output_type": "stream",
     "text": [
      "                                                                                \r"
     ]
    }
   ],
   "source": [
    "df_pa_smpl_purchased = df_pa_sample_purchased.repartition(50, \"itemId\").toPandas()"
   ]
  },
  {
   "cell_type": "code",
   "execution_count": 55,
   "id": "ae3c8772-6371-40d2-ac31-fd1fe8070586",
   "metadata": {},
   "outputs": [
    {
     "data": {
      "text/plain": [
       "(280661, 76)"
      ]
     },
     "execution_count": 55,
     "metadata": {},
     "output_type": "execute_result"
    }
   ],
   "source": [
    "df_pa_smpl_purchased.shape"
   ]
  },
  {
   "cell_type": "code",
   "execution_count": 56,
   "id": "d620f1f7-0ad8-43c0-8b4d-65145559a811",
   "metadata": {},
   "outputs": [],
   "source": [
    "df_pa_smpl_purchased.to_parquet('/data/shpx/data/olivyatan/pa_data_15.10_21_22_sample.parquet')"
   ]
  },
  {
   "cell_type": "code",
   "execution_count": 57,
   "id": "7e56aee2-136a-454c-a9f5-982d272068a3",
   "metadata": {},
   "outputs": [],
   "source": [
    "df_pa_smpl_purchased=pd.read_parquet('/data/shpx/data/olivyatan/pa_data_15.10_21_22_sample.parquet')"
   ]
  },
  {
   "cell_type": "code",
   "execution_count": 58,
   "id": "252792e8-64b3-4598-bd84-cf50a5dac1be",
   "metadata": {},
   "outputs": [
    {
     "data": {
      "text/html": [
       "<div>\n",
       "<style scoped>\n",
       "    .dataframe tbody tr th:only-of-type {\n",
       "        vertical-align: middle;\n",
       "    }\n",
       "\n",
       "    .dataframe tbody tr th {\n",
       "        vertical-align: top;\n",
       "    }\n",
       "\n",
       "    .dataframe thead th {\n",
       "        text-align: right;\n",
       "    }\n",
       "</style>\n",
       "<table border=\"1\" class=\"dataframe\">\n",
       "  <thead>\n",
       "    <tr style=\"text-align: right;\">\n",
       "      <th></th>\n",
       "      <th>meid</th>\n",
       "      <th>algoVariant</th>\n",
       "      <th>siteId</th>\n",
       "      <th>seedId</th>\n",
       "      <th>l1Cat</th>\n",
       "      <th>l2Cat</th>\n",
       "      <th>l3Cat</th>\n",
       "      <th>category</th>\n",
       "      <th>categoryPath</th>\n",
       "      <th>itemId</th>\n",
       "      <th>...</th>\n",
       "      <th>f_MaxSameLeafRvihPriceDiff</th>\n",
       "      <th>f_FreqWatchPriceBellowItemPrice</th>\n",
       "      <th>ITEM_ID</th>\n",
       "      <th>AUCT_END_DT</th>\n",
       "      <th>SITE_ID</th>\n",
       "      <th>L1CATEG</th>\n",
       "      <th>LEAF_CATEG_ID</th>\n",
       "      <th>META_CATEG_ID</th>\n",
       "      <th>LEAF_CATEG_NAME</th>\n",
       "      <th>META_CATEG_NAME</th>\n",
       "    </tr>\n",
       "  </thead>\n",
       "  <tbody>\n",
       "    <tr>\n",
       "      <th>0</th>\n",
       "      <td>b'01fa127a85e84ddc82d2833863c928e2'</td>\n",
       "      <td>b'BEPERSONAL.PersonalizedTopicsV2WithMultiCovi...</td>\n",
       "      <td>77</td>\n",
       "      <td>0</td>\n",
       "      <td>b'0.131090'</td>\n",
       "      <td>b'0.131090.34998'</td>\n",
       "      <td>b'0.131090.34998.179469'</td>\n",
       "      <td>b'179471'</td>\n",
       "      <td>b'0.131090.34998.179469.179471'</td>\n",
       "      <td>304205202609</td>\n",
       "      <td>...</td>\n",
       "      <td>-1.0</td>\n",
       "      <td>1.323628e-09</td>\n",
       "      <td>304205202609</td>\n",
       "      <td>2022-02-16</td>\n",
       "      <td>77</td>\n",
       "      <td>b'0.131090'</td>\n",
       "      <td>179471</td>\n",
       "      <td>131090</td>\n",
       "      <td>Auto &amp; Motorrad: Teile:Werkzeuge:Batterieladeg...</td>\n",
       "      <td>Auto &amp; Motorrad: Teile</td>\n",
       "    </tr>\n",
       "    <tr>\n",
       "      <th>1</th>\n",
       "      <td>b'346b749f3784465792736e8630150b6d'</td>\n",
       "      <td>b'BEPERSONAL.PersonalizedTopicsV2WithMLR.Perso...</td>\n",
       "      <td>0</td>\n",
       "      <td>0</td>\n",
       "      <td>b'0.6000'</td>\n",
       "      <td>b'0.6000.6028'</td>\n",
       "      <td>b'0.6000.6028.6030'</td>\n",
       "      <td>b'33633'</td>\n",
       "      <td>b'0.6000.6028.6030.33605.33633'</td>\n",
       "      <td>264941937599</td>\n",
       "      <td>...</td>\n",
       "      <td>-1.0</td>\n",
       "      <td>1.165440e-08</td>\n",
       "      <td>264941937599</td>\n",
       "      <td>2021-11-23</td>\n",
       "      <td>100</td>\n",
       "      <td>b'0.6000'</td>\n",
       "      <td>33633</td>\n",
       "      <td>6000</td>\n",
       "      <td>eBay Motors:Parts &amp; Accessories:Car &amp; Truck Pa...</td>\n",
       "      <td>eBay Motors</td>\n",
       "    </tr>\n",
       "  </tbody>\n",
       "</table>\n",
       "<p>2 rows × 76 columns</p>\n",
       "</div>"
      ],
      "text/plain": [
       "                                  meid  \\\n",
       "0  b'01fa127a85e84ddc82d2833863c928e2'   \n",
       "1  b'346b749f3784465792736e8630150b6d'   \n",
       "\n",
       "                                         algoVariant  siteId  seedId  \\\n",
       "0  b'BEPERSONAL.PersonalizedTopicsV2WithMultiCovi...      77       0   \n",
       "1  b'BEPERSONAL.PersonalizedTopicsV2WithMLR.Perso...       0       0   \n",
       "\n",
       "         l1Cat              l2Cat                     l3Cat   category  \\\n",
       "0  b'0.131090'  b'0.131090.34998'  b'0.131090.34998.179469'  b'179471'   \n",
       "1    b'0.6000'     b'0.6000.6028'       b'0.6000.6028.6030'   b'33633'   \n",
       "\n",
       "                      categoryPath        itemId  ...  \\\n",
       "0  b'0.131090.34998.179469.179471'  304205202609  ...   \n",
       "1  b'0.6000.6028.6030.33605.33633'  264941937599  ...   \n",
       "\n",
       "   f_MaxSameLeafRvihPriceDiff  f_FreqWatchPriceBellowItemPrice       ITEM_ID  \\\n",
       "0                        -1.0                     1.323628e-09  304205202609   \n",
       "1                        -1.0                     1.165440e-08  264941937599   \n",
       "\n",
       "   AUCT_END_DT  SITE_ID      L1CATEG  LEAF_CATEG_ID  META_CATEG_ID  \\\n",
       "0   2022-02-16       77  b'0.131090'         179471         131090   \n",
       "1   2021-11-23      100    b'0.6000'          33633           6000   \n",
       "\n",
       "                                     LEAF_CATEG_NAME         META_CATEG_NAME  \n",
       "0  Auto & Motorrad: Teile:Werkzeuge:Batterieladeg...  Auto & Motorrad: Teile  \n",
       "1  eBay Motors:Parts & Accessories:Car & Truck Pa...             eBay Motors  \n",
       "\n",
       "[2 rows x 76 columns]"
      ]
     },
     "execution_count": 58,
     "metadata": {},
     "output_type": "execute_result"
    }
   ],
   "source": [
    "df_pa_smpl_purchased.head(2)"
   ]
  },
  {
   "cell_type": "code",
   "execution_count": 59,
   "id": "74130f99-4f1e-4a0c-9703-5b7405cb621b",
   "metadata": {},
   "outputs": [
    {
     "data": {
      "text/plain": [
       "28052"
      ]
     },
     "execution_count": 59,
     "metadata": {},
     "output_type": "execute_result"
    }
   ],
   "source": [
    "df_pa_smpl_purchased['meid'].nunique()"
   ]
  },
  {
   "cell_type": "code",
   "execution_count": 60,
   "id": "cd35edad-878b-449c-b4f5-c06e41dd33d8",
   "metadata": {},
   "outputs": [],
   "source": [
    "sub_meids=df_pa_smpl_purchased.groupby([\"SITE_ID\", \"META_CATEG_NAME\"])[\"meid\"].nunique()\\\n",
    ".sort_values(ascending=False).to_frame()\n",
    "sub_meids['%meid']=(sub_meids['meid']/sub_meids['meid'].sum())*100\n",
    "sub_meids"
   ]
  },
  {
   "cell_type": "code",
   "execution_count": 61,
   "id": "93bf175a-9089-42e5-a32d-435241955fb7",
   "metadata": {},
   "outputs": [],
   "source": []
  },
  {
   "cell_type": "code",
   "execution_count": 62,
   "id": "2261e868-d7e6-44d9-9aef-5abc849929a5",
   "metadata": {},
   "outputs": [
    {
     "data": {
      "text/html": [
       "<div>\n",
       "<style scoped>\n",
       "    .dataframe tbody tr th:only-of-type {\n",
       "        vertical-align: middle;\n",
       "    }\n",
       "\n",
       "    .dataframe tbody tr th {\n",
       "        vertical-align: top;\n",
       "    }\n",
       "\n",
       "    .dataframe thead th {\n",
       "        text-align: right;\n",
       "    }\n",
       "</style>\n",
       "<table border=\"1\" class=\"dataframe\">\n",
       "  <thead>\n",
       "    <tr style=\"text-align: right;\">\n",
       "      <th></th>\n",
       "      <th></th>\n",
       "      <th>meid</th>\n",
       "      <th>%meid</th>\n",
       "    </tr>\n",
       "    <tr>\n",
       "      <th>SITE_ID</th>\n",
       "      <th>META_CATEG_NAME</th>\n",
       "      <th></th>\n",
       "      <th></th>\n",
       "    </tr>\n",
       "  </thead>\n",
       "  <tbody>\n",
       "    <tr>\n",
       "      <th>100</th>\n",
       "      <th>eBay Motors</th>\n",
       "      <td>15714</td>\n",
       "      <td>47.671632</td>\n",
       "    </tr>\n",
       "    <tr>\n",
       "      <th>3</th>\n",
       "      <th>Vehicle Parts &amp; Accessories</th>\n",
       "      <td>9132</td>\n",
       "      <td>27.703789</td>\n",
       "    </tr>\n",
       "    <tr>\n",
       "      <th>77</th>\n",
       "      <th>Auto &amp; Motorrad: Teile</th>\n",
       "      <td>5043</td>\n",
       "      <td>15.298972</td>\n",
       "    </tr>\n",
       "    <tr>\n",
       "      <th>15</th>\n",
       "      <th>Vehicle Parts &amp; Accessories</th>\n",
       "      <td>3074</td>\n",
       "      <td>9.325607</td>\n",
       "    </tr>\n",
       "  </tbody>\n",
       "</table>\n",
       "</div>"
      ],
      "text/plain": [
       "                                      meid      %meid\n",
       "SITE_ID META_CATEG_NAME                              \n",
       "100     eBay Motors                  15714  47.671632\n",
       "3       Vehicle Parts & Accessories   9132  27.703789\n",
       "77      Auto & Motorrad: Teile        5043  15.298972\n",
       "15      Vehicle Parts & Accessories   3074   9.325607"
      ]
     },
     "execution_count": 62,
     "metadata": {},
     "output_type": "execute_result"
    }
   ],
   "source": [
    "sub_meids"
   ]
  },
  {
   "cell_type": "code",
   "execution_count": 63,
   "id": "8055b749-f10e-4a60-8ae3-cf8afba02383",
   "metadata": {},
   "outputs": [
    {
     "data": {
      "text/plain": [
       "meid_count\n",
       "1     0.000784\n",
       "2     0.000570\n",
       "3     0.000784\n",
       "4     0.009875\n",
       "5     0.010908\n",
       "6     0.010587\n",
       "7     0.010587\n",
       "8     0.014117\n",
       "9     0.032689\n",
       "10    0.742229\n",
       "11    0.110117\n",
       "12    0.033545\n",
       "13    0.012156\n",
       "14    0.005704\n",
       "15    0.002103\n",
       "16    0.001212\n",
       "17    0.001105\n",
       "18    0.000392\n",
       "19    0.000178\n",
       "20    0.000143\n",
       "21    0.000107\n",
       "24    0.000071\n",
       "27    0.000036\n",
       "dtype: float64"
      ]
     },
     "execution_count": 63,
     "metadata": {},
     "output_type": "execute_result"
    }
   ],
   "source": [
    "df_pa_smpl_purchased \\\n",
    "    .groupby('meid') \\\n",
    "    .size() \\\n",
    "    .to_frame(\"meid_count\") \\\n",
    "    .groupby('meid_count') \\\n",
    "    .size() / df_pa_smpl_purchased.meid.drop_duplicates().shape[0]"
   ]
  },
  {
   "cell_type": "code",
   "execution_count": null,
   "id": "c74bed13-b49e-4968-b7ff-0b4bad3f5eeb",
   "metadata": {},
   "outputs": [],
   "source": [
    " #df_vlp_cached.sort(\"meid\").limit(100000).toPandas()"
   ]
  },
  {
   "cell_type": "code",
   "execution_count": 11,
   "id": "17923a3c-5a94-47c5-a0f2-d87eae8fdd82",
   "metadata": {},
   "outputs": [
    {
     "name": "stderr",
     "output_type": "stream",
     "text": [
      "                                                                                \r"
     ]
    }
   ],
   "source": [
    "pdf_pa = df_pa_data.sort(\"meid\").limit(100000).toPandas()"
   ]
  },
  {
   "cell_type": "code",
   "execution_count": 11,
   "id": "fde730c3-3630-47d6-b8dd-0b157fa2b24c",
   "metadata": {},
   "outputs": [
    {
     "name": "stderr",
     "output_type": "stream",
     "text": [
      "                                                                                \r"
     ]
    }
   ],
   "source": [
    "pdf_pa = df_pa_data.sort(\"meid\").limit(100000).toPandas()"
   ]
  },
  {
   "cell_type": "code",
   "execution_count": 11,
   "id": "f42cab15-c009-493a-9a90-5689d06c3fbd",
   "metadata": {},
   "outputs": [
    {
     "name": "stderr",
     "output_type": "stream",
     "text": [
      "                                                                                \r"
     ]
    }
   ],
   "source": [
    "pdf_pa = df_pa_data.sort(\"meid\").limit(100000).toPandas()"
   ]
  },
  {
   "cell_type": "raw",
   "id": "d9bd7e3c-26a9-4741-bd9d-885ec826689a",
   "metadata": {},
   "source": [
    "pdf_pa = df_pa_data.sort(\"meid\").limit(100000).toPandas()"
   ]
  },
  {
   "cell_type": "code",
   "execution_count": 7,
   "id": "658cc54f-3d92-4927-98bc-d29f0783fcfe",
   "metadata": {},
   "outputs": [
    {
     "data": {
      "text/plain": [
       "268.19654977172877"
      ]
     },
     "execution_count": 7,
     "metadata": {},
     "output_type": "execute_result"
    }
   ],
   "source": [
    "37420660/139527"
   ]
  },
  {
   "cell_type": "code",
   "execution_count": null,
   "id": "5b47113b-0909-44d1-863c-9977d39dd7ba",
   "metadata": {},
   "outputs": [],
   "source": [
    "pdf_pa \\\n",
    "    .groupby('meid') \\\n",
    "    .size() \\\n",
    "    .to_frame(\"meid_count\") \\\n",
    "    .groupby('meid_count') \\\n",
    "    .size() / pdf_pa.meid.drop_duplicates().shape[0]"
   ]
  },
  {
   "cell_type": "code",
   "execution_count": 12,
   "id": "584bb33c-9f1f-461a-9580-48a6a026a51d",
   "metadata": {},
   "outputs": [],
   "source": [
    "pdf_pa.to_parquet('/data/shpx/data/olivyatan/pa_data_15.10_21_22.parquet')\n",
    "#wrriten to file system of krylov as one parquet file, spark writes file per partition. "
   ]
  },
  {
   "cell_type": "code",
   "execution_count": 9,
   "id": "628098fc-24da-4328-923a-34540bea50bc",
   "metadata": {},
   "outputs": [],
   "source": [
    "pdf_pa=pd.read_parquet('/data/shpx/data/olivyatan/pa_data_15.10_21_22.parquet')"
   ]
  },
  {
   "cell_type": "code",
   "execution_count": 10,
   "id": "b3e1f7c5-d994-43b4-a729-a6fe9b36ebff",
   "metadata": {},
   "outputs": [
    {
     "data": {
      "text/plain": [
       "(100000, 76)"
      ]
     },
     "execution_count": 10,
     "metadata": {},
     "output_type": "execute_result"
    }
   ],
   "source": [
    "\n",
    "pdf_pa.shape"
   ]
  },
  {
   "cell_type": "code",
   "execution_count": 41,
   "id": "08124a71-3b70-40f4-a4a6-d52120bc5171",
   "metadata": {},
   "outputs": [
    {
     "data": {
      "text/plain": [
       "meid                         b'000000b7833b4550accc8840eacd7765'\n",
       "algoVariant    b'BEPERSONAL.PersonalizedTopicsV2WithMultiCovi...\n",
       "siteId                                                        77\n",
       "Name: 2, dtype: object"
      ]
     },
     "execution_count": 41,
     "metadata": {},
     "output_type": "execute_result"
    }
   ],
   "source": [
    "pdf_pa.iloc[2,0:4].head(3)"
   ]
  },
  {
   "cell_type": "code",
   "execution_count": null,
   "id": "85f2379e-d02a-4bcd-8ca4-3cd1faad52e8",
   "metadata": {},
   "outputs": [],
   "source": [
    "convert all byte to in"
   ]
  },
  {
   "cell_type": "code",
   "execution_count": 42,
   "id": "cec0d9d8-8b07-4a1c-989e-d2b57cfc9a5f",
   "metadata": {},
   "outputs": [
    {
     "data": {
      "text/plain": [
       "b'000000b7833b4550accc8840eacd7765'"
      ]
     },
     "execution_count": 42,
     "metadata": {},
     "output_type": "execute_result"
    }
   ],
   "source": [
    "pdf_pa['meid'][1]"
   ]
  },
  {
   "cell_type": "code",
   "execution_count": null,
   "id": "2ffa5d2d-39cd-4f3f-9f82-c0de785e82a9",
   "metadata": {},
   "outputs": [],
   "source": [
    "str_df = pdf_pa.select_dtypes([np.object])\n",
    "str_df = str_df.stack().str.decode('utf-8').unstack()\n",
    "for col in str_df:\n",
    "    print(str_df[col])"
   ]
  },
  {
   "cell_type": "code",
   "execution_count": 38,
   "id": "bdbbb13e-973c-4feb-8b75-b1cf4a0939a6",
   "metadata": {},
   "outputs": [
    {
     "data": {
      "text/plain": [
       "nan"
      ]
     },
     "execution_count": 38,
     "metadata": {},
     "output_type": "execute_result"
    }
   ],
   "source": [
    "pdf_pa['meid'][1]"
   ]
  },
  {
   "cell_type": "code",
   "execution_count": 11,
   "id": "f465cb85-a8ee-4bec-b928-7e3f2d4a6b4f",
   "metadata": {},
   "outputs": [
    {
     "data": {
      "text/plain": [
       "meid_count\n",
       "1     0.220056\n",
       "2     0.169460\n",
       "3     0.134829\n",
       "4     0.114496\n",
       "5     0.094917\n",
       "6     0.076648\n",
       "7     0.062828\n",
       "8     0.045949\n",
       "9     0.032367\n",
       "10    0.030977\n",
       "11    0.009452\n",
       "12    0.004210\n",
       "13    0.002105\n",
       "14    0.001112\n",
       "15    0.000318\n",
       "16    0.000119\n",
       "17    0.000040\n",
       "18    0.000040\n",
       "19    0.000040\n",
       "20    0.000040\n",
       "dtype: float64"
      ]
     },
     "execution_count": 11,
     "metadata": {},
     "output_type": "execute_result"
    }
   ],
   "source": [
    "pdf_pa \\\n",
    "    .groupby('meid') \\\n",
    "    .size() \\\n",
    "    .to_frame(\"meid_count\") \\\n",
    "    .groupby('meid_count') \\\n",
    "    .size() / pdf_pa.meid.drop_duplicates().shape[0]"
   ]
  },
  {
   "cell_type": "code",
   "execution_count": null,
   "id": "1678e1aa-9d8c-4411-8ea8-88da2ce79d67",
   "metadata": {},
   "outputs": [],
   "source": []
  },
  {
   "cell_type": "code",
   "execution_count": 32,
   "id": "7e0e79e0-245e-485a-a68a-078d72d6fcee",
   "metadata": {},
   "outputs": [
    {
     "name": "stdout",
     "output_type": "stream",
     "text": [
      "https://www.ebay.com/itm/144263164496\n",
      "https://www.ebay.com/itm/114959183016\n",
      "https://www.ebay.com/itm/353880903376\n",
      "https://www.ebay.com/itm/154809110164\n",
      "https://www.ebay.com/itm/304191762210\n",
      "https://www.ebay.com/itm/175156536619\n",
      "https://www.ebay.com/itm/124558931121\n",
      "https://www.ebay.com/itm/255196211621\n",
      "https://www.ebay.com/itm/393428243485\n",
      "https://www.ebay.com/itm/334274351463\n"
     ]
    }
   ],
   "source": [
    "for i in pdf_vlp.sample(10).itemId.values:\n",
    "    print(f'https://www.ebay.com/itm/{i}')"
   ]
  },
  {
   "cell_type": "markdown",
   "id": "909d56a3-b111-4698-8859-c43ca7881761",
   "metadata": {},
   "source": [
    "#### Keep only meid w/ purchases"
   ]
  },
  {
   "cell_type": "code",
   "execution_count": 53,
   "id": "5ef2c722-a3e1-44fc-bf38-71fa17166cce",
   "metadata": {},
   "outputs": [],
   "source": [
    "vlp_purchased_meid = (df_vlp_cached\n",
    "                           .groupBy(\"meid\")\n",
    "                           .agg(func.sum(\"labelPurchase\").alias(\"sum_purchase\"))\n",
    "                           .filter(F.col(\"sum_purchase\") > 0)\n",
    "                           .select(\"meid\")\n",
    "                           .dropDuplicates())\n",
    "\n",
    "df_vlp_purchased = df_vlp_cached.join(vlp_purchased_meid, on = [\"meid\"], how = \"inner\")"
   ]
  },
  {
   "cell_type": "code",
   "execution_count": 54,
   "id": "df2cb0ed-633f-49e1-9c20-c41c3707ca87",
   "metadata": {},
   "outputs": [
    {
     "name": "stderr",
     "output_type": "stream",
     "text": [
      "22/05/16 16:09:34 ERROR AsyncEventQueue: Listener EventLoggingListener threw an exception\n",
      "java.util.ConcurrentModificationException\n",
      "\tat java.util.Hashtable$Enumerator.next(Hashtable.java:1387)\n",
      "\tat scala.collection.convert.Wrappers$JPropertiesWrapper$$anon$6.next(Wrappers.scala:424)\n",
      "\tat scala.collection.convert.Wrappers$JPropertiesWrapper$$anon$6.next(Wrappers.scala:420)\n",
      "\tat scala.collection.Iterator.foreach(Iterator.scala:941)\n",
      "\tat scala.collection.Iterator.foreach$(Iterator.scala:941)\n",
      "\tat scala.collection.AbstractIterator.foreach(Iterator.scala:1429)\n",
      "\tat scala.collection.IterableLike.foreach(IterableLike.scala:74)\n",
      "\tat scala.collection.IterableLike.foreach$(IterableLike.scala:73)\n",
      "\tat scala.collection.AbstractIterable.foreach(Iterable.scala:56)\n",
      "\tat scala.collection.mutable.MapLike.toSeq(MapLike.scala:75)\n",
      "\tat scala.collection.mutable.MapLike.toSeq$(MapLike.scala:72)\n",
      "\tat scala.collection.mutable.AbstractMap.toSeq(Map.scala:82)\n",
      "\tat org.apache.spark.scheduler.EventLoggingListener.redactProperties(EventLoggingListener.scala:290)\n",
      "\tat org.apache.spark.scheduler.EventLoggingListener.onJobStart(EventLoggingListener.scala:162)\n",
      "\tat org.apache.spark.scheduler.SparkListenerBus.doPostEvent(SparkListenerBus.scala:37)\n",
      "\tat org.apache.spark.scheduler.SparkListenerBus.doPostEvent$(SparkListenerBus.scala:28)\n",
      "\tat org.apache.spark.scheduler.AsyncEventQueue.doPostEvent(AsyncEventQueue.scala:37)\n",
      "\tat org.apache.spark.scheduler.AsyncEventQueue.doPostEvent(AsyncEventQueue.scala:37)\n",
      "\tat org.apache.spark.util.ListenerBus.postToAll(ListenerBus.scala:117)\n",
      "\tat org.apache.spark.util.ListenerBus.postToAll$(ListenerBus.scala:101)\n",
      "\tat org.apache.spark.scheduler.AsyncEventQueue.super$postToAll(AsyncEventQueue.scala:105)\n",
      "\tat org.apache.spark.scheduler.AsyncEventQueue.$anonfun$dispatch$1(AsyncEventQueue.scala:105)\n",
      "\tat scala.runtime.java8.JFunction0$mcJ$sp.apply(JFunction0$mcJ$sp.java:23)\n",
      "\tat scala.util.DynamicVariable.withValue(DynamicVariable.scala:62)\n",
      "\tat org.apache.spark.scheduler.AsyncEventQueue.org$apache$spark$scheduler$AsyncEventQueue$$dispatch(AsyncEventQueue.scala:100)\n",
      "\tat org.apache.spark.scheduler.AsyncEventQueue$$anon$2.$anonfun$run$1(AsyncEventQueue.scala:96)\n",
      "\tat org.apache.spark.util.Utils$.tryOrStopSparkContext(Utils.scala:1381)\n",
      "\tat org.apache.spark.scheduler.AsyncEventQueue$$anon$2.run(AsyncEventQueue.scala:96)\n",
      "22/05/16 16:09:40 ERROR Utils: Uncaught exception in thread Thread-7            \n",
      "org.apache.hadoop.ipc.RemoteException(org.apache.hadoop.hdfs.server.namenode.LeaseExpiredException): No lease on /apps/b_perso/team/olivyatan/piyi/pa/df_pa_purchases_2021_10_15_2022_04_15.parquet/.spark-staging-0/_LOCK (inode 43972428017): File does not exist. Holder DFSClient_NONMAPREDUCE_-1599594144_17 does not have any open files.\n",
      "\tat org.apache.hadoop.hdfs.server.namenode.FSNamesystem.checkLease(FSNamesystem.java:3810)\n",
      "\tat org.apache.hadoop.hdfs.server.namenode.FSNamesystem.completeFileInternal(FSNamesystem.java:3898)\n",
      "\tat org.apache.hadoop.hdfs.server.namenode.FSNamesystem.completeFile(FSNamesystem.java:3865)\n",
      "\tat org.apache.hadoop.hdfs.server.namenode.NameNodeRpcServer.complete(NameNodeRpcServer.java:989)\n",
      "\tat org.apache.hadoop.hdfs.protocolPB.ClientNamenodeProtocolServerSideTranslatorPB.complete(ClientNamenodeProtocolServerSideTranslatorPB.java:599)\n",
      "\tat org.apache.hadoop.ipc.ProtobufRpcEngine$Server$ProtoBufRpcInvoker.call(ProtobufRpcEngine.java:731)\n",
      "\tat org.apache.hadoop.ipc.RPC$Server.call(RPC.java:993)\n",
      "\tat org.apache.hadoop.ipc.Server$RpcCall.run(Server.java:962)\n",
      "\tat org.apache.hadoop.ipc.Server$RpcCall.run(Server.java:899)\n",
      "\tat javax.security.auth.Subject.doAs(Subject.java:422)\n",
      "\tat org.apache.hadoop.security.UserGroupInformation.doAs(UserGroupInformation.java:1888)\n",
      "\tat org.apache.hadoop.ipc.Server$Handler.run(Server.java:2617)\n",
      "Caused by: org.apache.hadoop.ipc.RemoteException(org.apache.hadoop.hdfs.server.namenode.LeaseExpiredException): No lease on /apps/b_perso/team/olivyatan/piyi/pa/df_pa_purchases_2021_10_15_2022_04_15.parquet/.spark-staging-0/_LOCK (inode 43972428017): File does not exist. Holder DFSClient_NONMAPREDUCE_-1599594144_17 does not have any open files.\n",
      "\tat org.apache.hadoop.hdfs.server.namenode.FSNamesystem.checkLease(FSNamesystem.java:3810)\n",
      "\tat org.apache.hadoop.hdfs.server.namenode.FSNamesystem.completeFileInternal(FSNamesystem.java:3898)\n",
      "\tat org.apache.hadoop.hdfs.server.namenode.FSNamesystem.completeFile(FSNamesystem.java:3865)\n",
      "\tat org.apache.hadoop.hdfs.server.namenode.NameNodeRpcServer.complete(NameNodeRpcServer.java:989)\n",
      "\tat org.apache.hadoop.hdfs.protocolPB.ClientNamenodeProtocolServerSideTranslatorPB.complete(ClientNamenodeProtocolServerSideTranslatorPB.java:599)\n",
      "\tat org.apache.hadoop.hdfs.protocol.proto.ClientNamenodeProtocolProtos$ClientNamenodeProtocol$2.callBlockingMethod(ClientNamenodeProtocolProtos.java)\n",
      "\tat org.apache.hadoop.ipc.ProtobufRpcEngine$Server$ProtoBufRpcInvoker.call(ProtobufRpcEngine.java:731)\n",
      "\tat org.apache.hadoop.ipc.RPC$Server.call(RPC.java:993)\n",
      "\tat org.apache.hadoop.ipc.Server$RpcCall.run(Server.java:962)\n",
      "\tat org.apache.hadoop.ipc.Server$RpcCall.run(Server.java:899)\n",
      "\tat java.security.AccessController.doPrivileged(Native Method)\n",
      "\tat javax.security.auth.Subject.doAs(Subject.java:422)\n",
      "\tat org.apache.hadoop.security.UserGroupInformation.doAs(UserGroupInformation.java:1888)\n",
      "\tat org.apache.hadoop.ipc.Server$Handler.run(Server.java:2617)\n",
      "\n",
      "\tat org.apache.hadoop.ipc.Client.processCall(Client.java:2156)\n",
      "\tat org.apache.hadoop.ipc.Client.access$500(Client.java:92)\n",
      "\tat org.apache.hadoop.ipc.Client$Call.callComplete(Client.java:428)\n",
      "\tat org.apache.hadoop.ipc.Client$Call.setException(Client.java:452)\n",
      "\tat org.apache.hadoop.ipc.Client$Connection.receiveRpcResponse(Client.java:1314)\n",
      "\tat org.apache.hadoop.ipc.Client$Connection.run(Client.java:1107)\n",
      "\n",
      "\tat org.apache.hadoop.ipc.Client.getRpcResponse(Client.java:1856)\n",
      "\tat org.apache.hadoop.ipc.Client.call(Client.java:1780)\n",
      "\tat org.apache.hadoop.ipc.Client.call(Client.java:1668)\n",
      "\tat org.apache.hadoop.ipc.Client.call(Client.java:1597)\n",
      "\tat org.apache.hadoop.ipc.ProtobufRpcEngine$Invoker.invoke(ProtobufRpcEngine.java:260)\n",
      "\tat com.sun.proxy.$Proxy15.complete(Unknown Source)\n",
      "\tat org.apache.hadoop.hdfs.protocolPB.ClientNamenodeProtocolTranslatorPB.complete(ClientNamenodeProtocolTranslatorPB.java:686)\n",
      "\tat sun.reflect.NativeMethodAccessorImpl.invoke0(Native Method)\n",
      "\tat sun.reflect.NativeMethodAccessorImpl.invoke(NativeMethodAccessorImpl.java:62)\n",
      "\tat sun.reflect.DelegatingMethodAccessorImpl.invoke(DelegatingMethodAccessorImpl.java:43)\n",
      "\tat java.lang.reflect.Method.invoke(Method.java:498)\n",
      "\tat org.apache.hadoop.io.retry.RetryInvocationHandler.invokeMethod(RetryInvocationHandler.java:291)\n",
      "\tat org.apache.hadoop.io.retry.RetryInvocationHandler.invoke(RetryInvocationHandler.java:203)\n",
      "\tat org.apache.hadoop.io.retry.RetryInvocationHandler.invoke(RetryInvocationHandler.java:185)\n",
      "\tat com.sun.proxy.$Proxy16.complete(Unknown Source)\n",
      "\tat org.apache.hadoop.hdfs.DFSOutputStream.completeFile(DFSOutputStream.java:2499)\n",
      "\tat org.apache.hadoop.hdfs.DFSOutputStream.closeImpl(DFSOutputStream.java:2475)\n",
      "\tat org.apache.hadoop.hdfs.DFSOutputStream.close(DFSOutputStream.java:2441)\n",
      "\tat org.apache.hadoop.fs.FSDataOutputStream$PositionCache.close(FSDataOutputStream.java:72)\n",
      "\tat org.apache.hadoop.fs.FSDataOutputStream.close(FSDataOutputStream.java:106)\n",
      "\tat org.apache.spark.sql.InsertOperationLockUtil$.$anonfun$unlock$2(InsertOperationLockUtil.scala:163)\n",
      "\tat org.apache.spark.sql.InsertOperationLockUtil$.$anonfun$unlock$2$adapted(InsertOperationLockUtil.scala:163)\n",
      "\tat scala.Option.foreach(Option.scala:407)\n",
      "\tat org.apache.spark.sql.InsertOperationLockUtil$.$anonfun$unlock$1(InsertOperationLockUtil.scala:163)\n",
      "\tat org.apache.spark.util.Utils$.tryLogNonFatalError(Utils.scala:1419)\n",
      "\tat org.apache.spark.sql.InsertOperationLockUtil$.unlock(InsertOperationLockUtil.scala:163)\n",
      "\tat org.apache.spark.sql.execution.datasources.InsertIntoHadoopFsRelationCommand.run(InsertIntoHadoopFsRelationCommand.scala:255)\n",
      "\tat org.apache.spark.sql.execution.command.DataWritingCommandExec.sideEffectResult$lzycompute(commands.scala:108)\n",
      "\tat org.apache.spark.sql.execution.command.DataWritingCommandExec.sideEffectResult(commands.scala:106)\n",
      "\tat org.apache.spark.sql.execution.command.DataWritingCommandExec.doExecute(commands.scala:131)\n",
      "\tat org.apache.spark.sql.execution.SparkPlan.$anonfun$execute$1(SparkPlan.scala:180)\n",
      "\tat org.apache.spark.sql.execution.SparkPlan.$anonfun$executeQuery$1(SparkPlan.scala:218)\n",
      "\tat org.apache.spark.rdd.RDDOperationScope$.withScope(RDDOperationScope.scala:151)\n",
      "\tat org.apache.spark.sql.execution.SparkPlan.executeQuery(SparkPlan.scala:215)\n",
      "\tat org.apache.spark.sql.execution.SparkPlan.execute(SparkPlan.scala:176)\n",
      "\tat org.apache.spark.sql.execution.QueryExecution.toRdd$lzycompute(QueryExecution.scala:132)\n",
      "\tat org.apache.spark.sql.execution.QueryExecution.toRdd(QueryExecution.scala:131)\n",
      "\tat org.apache.spark.sql.DataFrameWriter.$anonfun$runCommand$1(DataFrameWriter.scala:989)\n",
      "\tat org.apache.spark.sql.execution.SQLExecution$.$anonfun$withNewExecutionId$5(SQLExecution.scala:103)\n",
      "\tat org.apache.spark.sql.execution.SQLExecution$.withSQLConfPropagated(SQLExecution.scala:163)\n",
      "\tat org.apache.spark.sql.execution.SQLExecution$.$anonfun$withNewExecutionId$1(SQLExecution.scala:90)\n",
      "\tat org.apache.spark.sql.SparkSession.withActive(SparkSession.scala:772)\n",
      "\tat org.apache.spark.sql.execution.SQLExecution$.withNewExecutionId(SQLExecution.scala:64)\n",
      "\tat org.apache.spark.sql.DataFrameWriter.runCommand(DataFrameWriter.scala:989)\n",
      "\tat org.apache.spark.sql.DataFrameWriter.saveToV1Source(DataFrameWriter.scala:438)\n",
      "\tat org.apache.spark.sql.DataFrameWriter.saveInternal(DataFrameWriter.scala:415)\n",
      "\tat org.apache.spark.sql.DataFrameWriter.save(DataFrameWriter.scala:293)\n",
      "\tat org.apache.spark.sql.DataFrameWriter.parquet(DataFrameWriter.scala:874)\n",
      "\tat sun.reflect.NativeMethodAccessorImpl.invoke0(Native Method)\n",
      "\tat sun.reflect.NativeMethodAccessorImpl.invoke(NativeMethodAccessorImpl.java:62)\n",
      "\tat sun.reflect.DelegatingMethodAccessorImpl.invoke(DelegatingMethodAccessorImpl.java:43)\n",
      "\tat java.lang.reflect.Method.invoke(Method.java:498)\n",
      "\tat py4j.reflection.MethodInvoker.invoke(MethodInvoker.java:244)\n",
      "\tat py4j.reflection.ReflectionEngine.invoke(ReflectionEngine.java:357)\n",
      "\tat py4j.Gateway.invoke(Gateway.java:282)\n",
      "\tat py4j.commands.AbstractCommand.invokeMethod(AbstractCommand.java:132)\n",
      "\tat py4j.commands.CallCommand.execute(CallCommand.java:79)\n",
      "\tat py4j.GatewayConnection.run(GatewayConnection.java:238)\n",
      "\tat java.lang.Thread.run(Thread.java:748)\n"
     ]
    }
   ],
   "source": [
    "df_vlp_purchased.coalesce(1).write.parquet(f\"{output_hdfs_base_path}/{output_file_name_dataset_purchases}\")"
   ]
  },
  {
   "cell_type": "code",
   "execution_count": 55,
   "id": "9ed313bc-1b16-4a34-b416-e6b6cff56595",
   "metadata": {},
   "outputs": [
    {
     "name": "stderr",
     "output_type": "stream",
     "text": [
      "                                                                                \r"
     ]
    }
   ],
   "source": [
    "df_vlp_purchased_cached = spark.read.parquet(f\"{output_hdfs_base_path}/{output_file_name_dataset_purchases}\")"
   ]
  },
  {
   "cell_type": "code",
   "execution_count": 56,
   "id": "b37f8134-26c5-4fbb-87c0-0130e54e0395",
   "metadata": {},
   "outputs": [
    {
     "name": "stderr",
     "output_type": "stream",
     "text": [
      "                                                                                \r"
     ]
    },
    {
     "data": {
      "text/plain": [
       "0"
      ]
     },
     "execution_count": 56,
     "metadata": {},
     "output_type": "execute_result"
    }
   ],
   "source": [
    "df_vlp_purchased_cached.count()"
   ]
  },
  {
   "cell_type": "code",
   "execution_count": 57,
   "id": "89316253-a0f6-485a-87e3-35d8d011e216",
   "metadata": {},
   "outputs": [
    {
     "name": "stderr",
     "output_type": "stream",
     "text": [
      "                                                                                \r"
     ]
    }
   ],
   "source": [
    "pdf_vlp_purchased = df_vlp_purchased_cached.toPandas()"
   ]
  },
  {
   "cell_type": "code",
   "execution_count": 58,
   "id": "ebfea834-77b4-49b1-bb85-7693ef8c4b48",
   "metadata": {},
   "outputs": [],
   "source": [
    "pdf_vlp_purchased.to_parquet(f'{output_kry_base_path}/{output_file_name_dataset_purchases}')"
   ]
  },
  {
   "cell_type": "code",
   "execution_count": 59,
   "id": "bed258f2-519d-4815-b947-e5b88915778b",
   "metadata": {},
   "outputs": [
    {
     "data": {
      "text/plain": [
       "Series([], Name: labelPurchase, dtype: int64)"
      ]
     },
     "execution_count": 59,
     "metadata": {},
     "output_type": "execute_result"
    }
   ],
   "source": [
    "pdf_vlp_purchased.labelPurchase.value_counts()"
   ]
  },
  {
   "cell_type": "code",
   "execution_count": null,
   "id": "6885e504-330b-4180-8a78-b012a35bd6c7",
   "metadata": {},
   "outputs": [],
   "source": []
  }
 ],
 "metadata": {
  "kernelspec": {
   "display_name": "Python 3 (ipykernel)",
   "language": "python",
   "name": "python3"
  },
  "language_info": {
   "codemirror_mode": {
    "name": "ipython",
    "version": 3
   },
   "file_extension": ".py",
   "mimetype": "text/x-python",
   "name": "python",
   "nbconvert_exporter": "python",
   "pygments_lexer": "ipython3",
   "version": "3.7.10"
  }
 },
 "nbformat": 4,
 "nbformat_minor": 5
}
