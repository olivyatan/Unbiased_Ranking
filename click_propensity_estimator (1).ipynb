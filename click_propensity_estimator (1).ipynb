{
 "cells": [
  {
   "cell_type": "code",
   "execution_count": null,
   "id": "505e4adb",
   "metadata": {},
   "outputs": [],
   "source": [
    "import sys\n",
    "import os\n",
    "import socket\n",
    "import datetime\n",
    "\n",
    "from pyspark.conf import SparkConf\n",
    "from pyspark.context import SparkContext\n",
    "from pyspark.sql import SparkSession\n",
    "from pyspark.sql import functions as F\n",
    "from pyspark.sql import types as T\n",
    "from pyspark.sql.avro.functions import from_avro\n",
    "from pyspark.sql.window import Window\n",
    "\n",
    "import pandas as pd\n",
    "import numpy as np"
   ]
  },
  {
   "cell_type": "code",
   "execution_count": null,
   "id": "f9a9a8cf",
   "metadata": {},
   "outputs": [],
   "source": [
    "sparkHome = \"/apache/spark3.1\"\n",
    "bxPexFile = \"bx_pex_env_5_9_1.pex\"\n",
    "os.environ[\"SPARK_HOME\"] = sparkHome\n",
    "os.environ[\"PYSPARK_PYTHON\"] = f\"./{bxPexFile}\"\n",
    "os.environ[\"PYSPARK_DRIVER_PYTHON\"] = \"/usr/share/anaconda3/python3.7/bin/python\"\n",
    "sys.path.append(f\"{sparkHome}/python/lib/py4j-0.10.9-src.zip\")\n",
    "sys.path.append(f\"{sparkHome}/python\")\n",
    "\n",
    "host_ip = socket.gethostbyname(socket.gethostname())\n",
    "\n",
    "spark = SparkSession \\\n",
    "    .builder \\\n",
    "    .appName(\"click_propensity_estimator_\" + os.environ[\"KRYLOV_PRINCIPAL\"]) \\\n",
    "    .master(\"yarn\") \\\n",
    "    .config(\"spark.driver.host\", host_ip) \\\n",
    "    .config(\"spark.driver.port\", \"30202\") \\\n",
    "    .config(\"spark.yarn.executor.memoryOverhead\", \"1024\") \\\n",
    "    .config(\"spark.executor.cores\", \"3\") \\\n",
    "    .config(\"spark.driver.memory\", \"25g\") \\\n",
    "    .config(\"spark.executor.memory\", \"25g\") \\\n",
    "    .config(\"spark.rdd.compress\", True) \\\n",
    "    .config(\"spark.network.timeout\", \"600s\") \\\n",
    "    .config(\"spark.executor.heartbeatInterval\", \"300s\") \\\n",
    "    .config(\"spark.sql.broadcastTimeout\", \"1200s\") \\\n",
    "    .config(\"spark.dynamicAllocation.minExecutors\", 0) \\\n",
    "    .config(\"spark.dynamicAllocation.initialExecutors\", 10) \\\n",
    "    .config(\"spark.dynamicAllocation.maxExecutors\", 50) \\\n",
    "    .config(\"spark.yarn.queue\", \"hddq-exprce-perso-high-mem\") \\\n",
    "    .config(\"spark.driver.maxResultSize\", \"0\") \\\n",
    "    .config(\"spark.driver.extraJavaOptions\", '-Dhttp.proxyHost=httpproxy.vip.ebay.com -Dhttp.proxyPort=80 -Dhttps.proxyHost=httpproxy.vip.ebay.com -Dhttps.proxyPort=80') \\\n",
    "    .config(\"spark.jars.packages\", \"org.apache.spark:spark-avro_2.12:3.1.1\") \\\n",
    "    .config(\"spark.files\", f\"viewfs://apollo-rno/user/b_perso/pex_environments/{bxPexFile}\") \\\n",
    "    .enableHiveSupport() \\\n",
    "    .getOrCreate()\n",
    "\n",
    "spark\n"
   ]
  },
  {
   "cell_type": "markdown",
   "id": "cadc9f64",
   "metadata": {},
   "source": [
    "# click-propensity"
   ]
  },
  {
   "cell_type": "code",
   "execution_count": null,
   "id": "e4deebbb",
   "metadata": {},
   "outputs": [],
   "source": [
    "schema = T.StructType(\n",
    "    [\n",
    "        T.StructField('siteId', T.IntegerType(), True),\n",
    "        T.StructField('placementId', T.IntegerType(), True),\n",
    "        T.StructField('displayRank', T.IntegerType(), True),\n",
    "        T.StructField('clickPropensity', T.FloatType(), True),\n",
    "        T.StructField('purchasePropensity', T.FloatType(), True),\n",
    "        T.StructField('n', T.IntegerType(), True)\n",
    "    ]\n",
    ")\n",
    "\n",
    "path = \"viewfs://apollo-rno/apps/b_perso/hp/click_propensity/mad_cdl/position_bias.tsv\"\n",
    "\n",
    "clickCount = spark.read.option(\"header\", True).schema(schema).option(\"delimiter\", \"\\t\").csv(path)\n"
   ]
  },
  {
   "cell_type": "code",
   "execution_count": null,
   "id": "9d294bdc",
   "metadata": {},
   "outputs": [],
   "source": [
    "\n",
    "w = Window.partitionBy(\"siteId\", \"placementId\").orderBy([F.col(\"displayRank\").asc()])\n",
    "\n",
    "clickCount1 = clickCount \\\n",
    "    .withColumn(\"bias1\", F.first(\"clickPropensity\", True).over(w)) \\\n",
    "    .withColumn(\"biasK\", F.col(\"clickPropensity\")) \\\n",
    "    .withColumn(\"propensity_pretrainer\", F.col(\"biasK\") / F.col(\"bias1\")) \\\n",
    "    .withColumn(\"propensity_impression_weights\", 1 / F.col(\"propensity_pretrainer\"))\n",
    "\n"
   ]
  },
  {
   "cell_type": "code",
   "execution_count": null,
   "id": "81b5c5fc",
   "metadata": {},
   "outputs": [],
   "source": [
    "pdf = clickCount1.toPandas()"
   ]
  },
  {
   "cell_type": "code",
   "execution_count": null,
   "id": "8ee81d9c",
   "metadata": {},
   "outputs": [],
   "source": [
    "pd.set_option('display.max_colwidth', None)\n",
    "pd.set_option('display.max_rows',5)"
   ]
  },
  {
   "cell_type": "code",
   "execution_count": null,
   "id": "9dd04b01",
   "metadata": {},
   "outputs": [],
   "source": [
    "pdf"
   ]
  },
  {
   "cell_type": "code",
   "execution_count": null,
   "id": "b992b874",
   "metadata": {},
   "outputs": [],
   "source": [
    "from ipywidgets import interact, interactive, fixed\n",
    "import ipywidgets as widgets"
   ]
  },
  {
   "cell_type": "code",
   "execution_count": null,
   "id": "870d0e43",
   "metadata": {},
   "outputs": [],
   "source": [
    "\n",
    "@interact(placementId=sorted(pdf[\"placementId\"].unique()),siteId=sorted(pdf[\"siteId\"].unique()))\n",
    "def calc_plot(placementId, siteId):\n",
    "    pdf1 = pdf.query(f\"placementId == {placementId} and siteId == {siteId}\")\n",
    "    #pdf1[\"propensity_impression_weights\"].plot.hist()\n",
    "    #print(pdf1['propensity_impression_weights'].max())\n",
    "    pdf1.plot.line(x=\"displayRank\", y=\"clickPropensity\")\n",
    "\n",
    "        "
   ]
  },
  {
   "cell_type": "code",
   "execution_count": null,
   "id": "0edfd4f3",
   "metadata": {},
   "outputs": [],
   "source": []
  },
  {
   "cell_type": "code",
   "execution_count": null,
   "id": "ff20d802",
   "metadata": {},
   "outputs": [],
   "source": []
  }
 ],
 "metadata": {
  "kernelspec": {
   "display_name": "Python 3",
   "language": "python",
   "name": "python3"
  },
  "language_info": {
   "codemirror_mode": {
    "name": "ipython",
    "version": 3
   },
   "file_extension": ".py",
   "mimetype": "text/x-python",
   "name": "python",
   "nbconvert_exporter": "python",
   "pygments_lexer": "ipython3",
   "version": "3.7.10"
  }
 },
 "nbformat": 4,
 "nbformat_minor": 5
}
